{
 "cells": [
  {
   "cell_type": "code",
   "execution_count": 1,
   "metadata": {},
   "outputs": [
    {
     "name": "stdout",
     "output_type": "stream",
     "text": [
      "env: PYTHONHASHSEED=0\n"
     ]
    }
   ],
   "source": [
    "%env PYTHONHASHSEED=0"
   ]
  },
  {
   "cell_type": "code",
   "execution_count": 2,
   "metadata": {
    "_kg_hide-output": true,
    "collapsed": true
   },
   "outputs": [
    {
     "name": "stdout",
     "output_type": "stream",
     "text": [
      "Collecting pip\r\n",
      "  Downloading pip-20.1.1-py2.py3-none-any.whl (1.5 MB)\r\n",
      "\u001b[K     |████████████████████████████████| 1.5 MB 2.8 MB/s \r\n",
      "\u001b[?25hInstalling collected packages: pip\r\n",
      "  Attempting uninstall: pip\r\n",
      "    Found existing installation: pip 20.1\r\n",
      "    Uninstalling pip-20.1:\r\n",
      "      Successfully uninstalled pip-20.1\r\n",
      "Successfully installed pip-20.1.1\r\n",
      "Collecting keras-tuner\r\n",
      "  Downloading keras-tuner-1.0.1.tar.gz (54 kB)\r\n",
      "\u001b[K     |████████████████████████████████| 54 kB 1.1 MB/s \r\n",
      "\u001b[?25hRequirement already satisfied: future in /opt/conda/lib/python3.7/site-packages (from keras-tuner) (0.18.2)\r\n",
      "Requirement already satisfied: numpy in /opt/conda/lib/python3.7/site-packages (from keras-tuner) (1.18.1)\r\n",
      "Requirement already satisfied: tabulate in /opt/conda/lib/python3.7/site-packages (from keras-tuner) (0.8.7)\r\n",
      "Collecting terminaltables\r\n",
      "  Downloading terminaltables-3.1.0.tar.gz (12 kB)\r\n",
      "Requirement already satisfied: colorama in /opt/conda/lib/python3.7/site-packages (from keras-tuner) (0.4.3)\r\n",
      "Requirement already satisfied: tqdm in /opt/conda/lib/python3.7/site-packages (from keras-tuner) (4.45.0)\r\n",
      "Requirement already satisfied: requests in /opt/conda/lib/python3.7/site-packages (from keras-tuner) (2.23.0)\r\n",
      "Requirement already satisfied: scipy in /opt/conda/lib/python3.7/site-packages (from keras-tuner) (1.4.1)\r\n",
      "Requirement already satisfied: scikit-learn in /opt/conda/lib/python3.7/site-packages (from keras-tuner) (0.22.2.post1)\r\n",
      "Requirement already satisfied: certifi>=2017.4.17 in /opt/conda/lib/python3.7/site-packages (from requests->keras-tuner) (2020.4.5.1)\r\n",
      "Requirement already satisfied: idna<3,>=2.5 in /opt/conda/lib/python3.7/site-packages (from requests->keras-tuner) (2.9)\r\n",
      "Requirement already satisfied: urllib3!=1.25.0,!=1.25.1,<1.26,>=1.21.1 in /opt/conda/lib/python3.7/site-packages (from requests->keras-tuner) (1.24.3)\r\n",
      "Requirement already satisfied: chardet<4,>=3.0.2 in /opt/conda/lib/python3.7/site-packages (from requests->keras-tuner) (3.0.4)\r\n",
      "Requirement already satisfied: joblib>=0.11 in /opt/conda/lib/python3.7/site-packages (from scikit-learn->keras-tuner) (0.14.1)\r\n",
      "Building wheels for collected packages: keras-tuner, terminaltables\r\n",
      "  Building wheel for keras-tuner (setup.py) ... \u001b[?25l-\b \b\\\b \bdone\r\n",
      "\u001b[?25h  Created wheel for keras-tuner: filename=keras_tuner-1.0.1-py3-none-any.whl size=73198 sha256=16b67ffd04931bf35d3d2d63de068e31e6f09d73a6227b41f86102f40c145377\r\n",
      "  Stored in directory: /root/.cache/pip/wheels/0b/cf/2f/1a1749d3a3650fac3305a8d7f9237b6de7c41068e2f8520ca2\r\n",
      "  Building wheel for terminaltables (setup.py) ... \u001b[?25l-\b \b\\\b \bdone\r\n",
      "\u001b[?25h  Created wheel for terminaltables: filename=terminaltables-3.1.0-py3-none-any.whl size=15354 sha256=b922eb78372a3e98fc51430c0f1dfd72af33b500eb9b54ea41243d56845d7545\r\n",
      "  Stored in directory: /root/.cache/pip/wheels/ba/ad/c8/2d98360791161cd3db6daf6b5e730f34021fc9367d5879f497\r\n",
      "Successfully built keras-tuner terminaltables\r\n",
      "Installing collected packages: terminaltables, keras-tuner\r\n",
      "Successfully installed keras-tuner-1.0.1 terminaltables-3.1.0\r\n"
     ]
    }
   ],
   "source": [
    "!python -m pip install --upgrade pip\n",
    "!python -m pip install keras-tuner"
   ]
  },
  {
   "cell_type": "code",
   "execution_count": 3,
   "metadata": {},
   "outputs": [
    {
     "name": "stdout",
     "output_type": "stream",
     "text": [
      "2.1.0\n"
     ]
    }
   ],
   "source": [
    "import numpy as np # linear algebra\n",
    "import pandas as pd # data processing, CSV file I/O (e.g. pd.read_csv)\n",
    "\n",
    "import matplotlib.pyplot as plt\n",
    "%matplotlib inline\n",
    "# notebook\n",
    "\n",
    "import tensorflow as tf\n",
    "from tensorflow import keras\n",
    "\n",
    "print(tf.__version__)"
   ]
  },
  {
   "cell_type": "code",
   "execution_count": 4,
   "metadata": {},
   "outputs": [],
   "source": [
    "# Define seed to reprodicibility of random generation\n",
    "SEED = 42\n",
    "\n",
    "DEV_SPLIT=0.2\n",
    "\n",
    "MODE = \"DEV\"\n",
    "# MODE = \"EVAL\""
   ]
  },
  {
   "cell_type": "code",
   "execution_count": 5,
   "metadata": {},
   "outputs": [],
   "source": [
    "import random as python_random\n",
    "\n",
    "# Make sure Keras produces reproducible results.\n",
    "\n",
    "np.random.seed(SEED)\n",
    "python_random.seed(SEED)\n",
    "tf.random.set_seed(SEED)"
   ]
  },
  {
   "cell_type": "code",
   "execution_count": 6,
   "metadata": {},
   "outputs": [
    {
     "name": "stdout",
     "output_type": "stream",
     "text": [
      "[PhysicalDevice(name='/physical_device:GPU:0', device_type='GPU')]\n"
     ]
    }
   ],
   "source": [
    "physical_devices = tf.config.experimental.list_physical_devices(\"GPU\")\n",
    "print(physical_devices)\n",
    "for device in (physical_devices or []):\n",
    "    tf.config.experimental.set_memory_growth(device, True)"
   ]
  },
  {
   "cell_type": "markdown",
   "execution_count": null,
   "metadata": {},
   "source": [
    "# Read data and extract usable features"
   ]
  },
  {
   "cell_type": "code",
   "execution_count": 7,
   "metadata": {},
   "outputs": [],
   "source": [
    "train_data = pd.read_csv(\"/kaggle/input/titanic/train.csv\")\n",
    "test_data = pd.read_csv(\"/kaggle/input/titanic/test.csv\")"
   ]
  },
  {
   "cell_type": "code",
   "execution_count": 8,
   "metadata": {},
   "outputs": [
    {
     "name": "stdout",
     "output_type": "stream",
     "text": [
      "(891, 9)\n",
      "(891,)\n",
      "(418, 9)\n"
     ]
    }
   ],
   "source": [
    "features = \"Pclass Sex SibSp Parch Fare Embarked Name Cabin Age\".split()\n",
    "\n",
    "X_train_init = train_data[features]\n",
    "Y_train_init = train_data.Survived\n",
    "\n",
    "print(X_train_init.shape)\n",
    "print(Y_train_init.shape)\n",
    "\n",
    "X_test_init = test_data[features]\n",
    "\n",
    "print(X_test_init.shape)"
   ]
  },
  {
   "cell_type": "markdown",
   "execution_count": null,
   "metadata": {},
   "source": [
    "# Split into train/dev sets\n",
    "## Needs to be done before pre-processing to avoid test-train contamination"
   ]
  },
  {
   "cell_type": "code",
   "execution_count": 9,
   "metadata": {},
   "outputs": [
    {
     "name": "stdout",
     "output_type": "stream",
     "text": [
      "(712, 9) (712,)\n",
      "(179, 9) (179,)\n"
     ]
    }
   ],
   "source": [
    "from sklearn.model_selection import train_test_split\n",
    "\n",
    "# if MODE == \"DEV\":\n",
    "X_train_unproc, X_dev_unproc, Y_train_unproc, Y_dev_unproc = train_test_split(X_train_init, Y_train_init, test_size=DEV_SPLIT, random_state=SEED)\n",
    "\n",
    "print(X_train_unproc.shape, Y_train_unproc.shape)\n",
    "print(X_dev_unproc.shape, Y_dev_unproc.shape)"
   ]
  },
  {
   "cell_type": "markdown",
   "execution_count": null,
   "metadata": {},
   "source": [
    "## Data observations\n",
    "*Have NaNs:* Age, Fare (some zeros, nans too), Cabin, Embarked\n",
    "*NOTE:* maybe need to approximate missing values using some other technique, like an additional model?\n",
    "\n",
    "* (+) Pclass:\n",
    "  * 1 - 3 number, 1 being the highest\n",
    "  * Range: 1-3\n",
    "  * Current approach: convert to one-hot.\n",
    "  * Previous approaches:\n",
    "      * normalize by 3.\n",
    "* (+) Name:\n",
    "  * has person's title, which could be used (Mr, Ms, Mrs, etc.)\n",
    "  * From title, can infer marital status?\n",
    "  * Current approach: extract titles, replace infrequent ones with \"Others\", convert them to one-hot, and calculate 'Married' based on title (1 - married (Mr, Mrs), -1 - unmarried (Miss, Master), 0 - unknown (other titles))\n",
    "  * Potential improvements: use more titles for getting 'married'; use 'maiden name' in calculation of 'married'; use 'nickname' somehow?\n",
    "* (+) Sex:\n",
    "  * Either male or female\n",
    "  * male: 65%, female: 35%\n",
    "  * Current approach: convert to one-hot.\n",
    "  * Potential improvements: use 1 and -1 for sexes?\n",
    "* (+) Age:\n",
    "  * has fractions if approximated. Has missing values.\n",
    "  * Range: 0.42-80\n",
    "  * Current approach: fill NaN with average in group-by Pclass-Sex, but create a column that identifies missing values. Also, normalize by 80.\n",
    "  * Potential improvements: have a better approximation of age. Convert to age categories?\n",
    "* (+) SibSp:\n",
    "  * how many siblings or spouses on board.\n",
    "  * Range: 0-8\n",
    "  * Current approach: Add to 'Family'.\n",
    "  * Previous approaches:\n",
    "    * normalize by 8.\n",
    "* (+) Parch:\n",
    "  * How many parents/children. (can be 0 for babies, if with nannies)\n",
    "  * Range: 0-6\n",
    "  * Current approach: Add to 'Family'\n",
    "  * Previous approachesL\n",
    "    * normalize by 6.\n",
    "* Ticket:\n",
    "  * A number with some optional letters (which can have some meaning?).\n",
    "  * Has repetitions (maybe for people travelling together).\n",
    "* (+) Fare:\n",
    "  * can have zeros (what do they mean?). Can have omitted (just one in test).\n",
    "  * Range: 0-512.3292\n",
    "  * Current approach: fill nan with mean, normalize by 512.\n",
    "  * Potential improvements: most fare is <= 30 USD, so maybe use fare categories.\n",
    "* (+) Cabin:\n",
    "  * has a lot of omitted values (78%). Can have multiple values (probably for families?).\n",
    "  * One value is a letter with a number. (both probably have meaning and impact?)\n",
    "  * Current approach: convert to one-hot (based on letter), include a 'nan' column for those that are missing values. Create a column for cabin number, and a column to identify missing numbers.\n",
    "  * Potential improvements: maybe cabin number itself doesn't mean much? Also, maybe need to deal with missing values in a different way? Also, maybe deal with multiple values better?\n",
    "* (+) Embarked:\n",
    "  * Either of 3 letters (with different frequency). Has just a few omitted.\n",
    "  * S - 72/65%, C - 19/24%, Q - 9/11%\n",
    "  * Current approach: convert to one-hot matrix (fill 2 missing with mode)\n",
    "  * Potential improvements: somehow take into the account different distribution of embarkation city?"
   ]
  },
  {
   "cell_type": "code",
   "execution_count": 10,
   "metadata": {},
   "outputs": [],
   "source": [
    "def prepare_data(X):\n",
    "    # To display all the columns from left to right without breaking into next line.\n",
    "    pd.set_option('display.width', 1500)\n",
    "\n",
    "    import re\n",
    "    \n",
    "    titles = ['Mr', 'Mrs', 'Miss', 'Master', 'Ms', 'Don', 'Rev', 'Dr', 'Mme', 'Major', 'Lady', 'Sir', 'Mlle', 'Col', 'Capt', 'the Countess', 'Jonkheer', 'Dona']\n",
    "    \n",
    "    X = X.copy()\n",
    "    \n",
    "    # === Get X - the features. ===\n",
    "\n",
    "    # == Post-process data ==\n",
    "\n",
    "#     if \"SibSp\" in X:\n",
    "#         X.SibSp = X.SibSp.divide(8)\n",
    "\n",
    "#     if \"Parch\" in X:\n",
    "#         X.Parch = X.Parch.divide(6)\n",
    "        \n",
    "    if \"Parch\" in X and \"SibSp\" in X:\n",
    "        X[\"Family\"] = X.Parch + X.SibSp\n",
    "#         X.Family = X.Family.divide(14)\n",
    "        X = X.drop(columns=\"Parch SibSp\".split())\n",
    "\n",
    "    if \"Fare\" in X:\n",
    "        # Since only a few would miss 'fare' value, it's okay to fill with average.\n",
    "        X.Fare = X.Fare.fillna(X.Fare.mean())\n",
    "        \n",
    "        X.Fare = np.where(X.Fare < 50, 1, 2)\n",
    "        \n",
    "#         X.Fare = X.Fare.divide(512)\n",
    "\n",
    "    if \"Embarked\" in X:\n",
    "        X.Embarked = X.Embarked.fillna(X.Embarked.mode()[0])\n",
    "        X.Embarked = X.Embarked.astype(pd.api.types.CategoricalDtype(categories=\"C Q S\".split()))\n",
    "        X = pd.get_dummies(X, columns=[\"Embarked\"])\n",
    "\n",
    "    if \"Name\" in X:\n",
    "        X[\"Title\"] = X.Name.apply(lambda name: re.search(\", ([\\w ]+).\", name).group(1))\n",
    "\n",
    "        # Try to see if the person is married (1), or not (-1), or unknown (0).\n",
    "        X[\"Married\"] = X.Title.apply(lambda title: 1 if title in \"Mrs Mr\".split() else -1 if title in \"Miss Master\".split() else 0)\n",
    "\n",
    "        # Get dummies for title\n",
    "        \n",
    "        # Include all possible values, even those not present in current dataset.\n",
    "#         X.Title = X.Title.astype(pd.api.types.CategoricalDtype(categories=titles))\n",
    "        \n",
    "        # Titles that are rare are converted to 'Others'\n",
    "        important_titles = ['Mr', 'Mrs', 'Miss', 'Master']\n",
    "        X.Title = X.Title.apply(lambda title: title if title in important_titles else \"Others\")\n",
    "        \n",
    "        X = pd.get_dummies(X, columns=[\"Title\"])\n",
    "        \n",
    "        # We don't need the name itself.\n",
    "        X = X.drop(columns=[\"Name\"])\n",
    "        \n",
    "    if \"Cabin\" in X:\n",
    "        X[\"Cabin_Missing\"] = np.where(X.Cabin.isnull(), 1, 0)\n",
    "        X.Cabin = X.Cabin.fillna(\"-\")\n",
    "        \n",
    "#         X[\"Cabin_Number\"] = X.Cabin.apply(lambda cabin: int(re.search(\"\\w(\\d+)\", cabin).group(1)) if len(cabin) > 1 else 0)\n",
    "#         # Do some sort of normalization.\n",
    "#         X.Cabin_Number = X.Cabin_Number.divide(200)\n",
    "#         X[\"Cabin_Number_Missing\"] = np.where(X.Cabin_Number == 0, 1, 0)\n",
    "        \n",
    "        X.Cabin = X.Cabin.apply(lambda cabin: cabin[:1])\n",
    "        \n",
    "        # Convert to one-hot\n",
    "#         X.Cabin = X.Cabin.astype(pd.api.types.CategoricalDtype(categories=list(\"ABCDEFGT\")))\n",
    "#         X = pd.get_dummies(X, columns=[\"Cabin\"], dummy_na=True)\n",
    "\n",
    "        # Convert to numbers with T beeing the lowest deck and S - the highest (sun deck).\n",
    "        X[\"Deck_Level\"] = X.Cabin.apply(lambda cabin: \"SABCDEFGT\".find(cabin[0]))\n",
    "        X = X.drop(columns=[\"Cabin\"])\n",
    "\n",
    "    if \"Age\" in X:\n",
    "        X[\"Age_Missing\"] = np.where(X.Age.isnull(), 1, 0)\n",
    "\n",
    "        # No need to skip 'nan' for Age when calculating mean, as Pandas does that automatically.\n",
    "        # 'transform' will go through each group, and fill its nan values with its mean value.\n",
    "        # Then, all that will be aggregated back into the column, thus replacing nan values with group's mean.\n",
    "        X[\"Age\"] = X.groupby(\"Pclass Sex\".split())[\"Age\"].transform(lambda x: x.fillna(x.mean()))\n",
    "        \n",
    "#         X.Age = X.Age.divide(80)\n",
    "\n",
    "        # Convert age to categories 1 - child, 2 - young, 3 - older, 4 - senile\n",
    "        X.Age = pd.cut(X.Age, bins=[0, 16, 30, 50, 80], labels=False) + 1\n",
    "        \n",
    "    # Needs to be after 'Age', since age is using original Sex column.\n",
    "    if \"Sex\" in X:\n",
    "        X.Sex = X.Sex.astype(pd.api.types.CategoricalDtype(categories=\"male female\".split()))\n",
    "        X = pd.get_dummies(X, columns=[\"Sex\"])\n",
    "\n",
    "    if \"Pclass\" in X:\n",
    "        X = pd.get_dummies(X, columns=[\"Pclass\"])\n",
    "        # Do not normalize small numbers\n",
    "#         X.Pclass = X.Pclass.divide(3)\n",
    "\n",
    "    return X"
   ]
  },
  {
   "cell_type": "code",
   "execution_count": 11,
   "metadata": {},
   "outputs": [
    {
     "name": "stdout",
     "output_type": "stream",
     "text": [
      "Train data:\n",
      "     Fare  Age  Family  Embarked_C  Embarked_Q  Embarked_S  Married  Title_Master  Title_Miss  Title_Mr  Title_Mrs  Title_Others  Cabin_Missing  Deck_Level  Age_Missing  Sex_male  Sex_female  Pclass_1  Pclass_2  Pclass_3\n",
      "331     1    3       0           0           0           1        1             0           0         1          0             0              0           3            0         1           0         1         0         0\n",
      "733     1    2       0           0           0           1        1             0           0         1          0             0              1          -1            0         1           0         0         1         0\n",
      "382     1    3       0           0           0           1        1             0           0         1          0             0              1          -1            0         1           0         0         0         1\n",
      "704     1    2       1           0           0           1        1             0           0         1          0             0              1          -1            0         1           0         0         0         1\n",
      "813     1    1       6           0           0           1       -1             0           1         0          0             0              1          -1            0         0           1         0         0         1\n",
      "Dev data:\n",
      "     Fare  Age  Family  Embarked_C  Embarked_Q  Embarked_S  Married  Title_Master  Title_Miss  Title_Mr  Title_Mrs  Title_Others  Cabin_Missing  Deck_Level  Age_Missing  Sex_male  Sex_female  Pclass_1  Pclass_2  Pclass_3\n",
      "709     1    2       2           1           0           0       -1             1           0         0          0             0              1          -1            1         1           0         0         0         1\n",
      "439     1    3       0           0           0           1        1             0           0         1          0             0              1          -1            0         1           0         0         1         0\n",
      "840     1    2       0           0           0           1        1             0           0         1          0             0              1          -1            0         1           0         0         0         1\n",
      "720     1    1       1           0           0           1       -1             0           1         0          0             0              1          -1            0         0           1         0         1         0\n",
      "39      1    1       1           1           0           0       -1             0           1         0          0             0              1          -1            0         0           1         0         0         1\n",
      "Test data:\n",
      "   Fare  Age  Family  Embarked_C  Embarked_Q  Embarked_S  Married  Title_Master  Title_Miss  Title_Mr  Title_Mrs  Title_Others  Cabin_Missing  Deck_Level  Age_Missing  Sex_male  Sex_female  Pclass_1  Pclass_2  Pclass_3\n",
      "0     1    3       0           0           1           0        1             0           0         1          0             0              1          -1            0         1           0         0         0         1\n",
      "1     1    3       1           0           0           1        1             0           0         0          1             0              1          -1            0         0           1         0         0         1\n",
      "2     1    4       0           0           1           0        1             0           0         1          0             0              1          -1            0         1           0         0         1         0\n",
      "3     1    2       0           0           0           1        1             0           0         1          0             0              1          -1            0         1           0         0         0         1\n",
      "4     1    2       2           0           0           1        1             0           0         0          1             0              1          -1            0         0           1         0         0         1\n"
     ]
    }
   ],
   "source": [
    "print(\"Train data:\")\n",
    "X_train = prepare_data(X_train_unproc)\n",
    "Y_train = Y_train_unproc\n",
    "print(X_train.head())\n",
    "\n",
    "print(\"Dev data:\")\n",
    "X_dev = prepare_data(X_dev_unproc)\n",
    "Y_dev = Y_dev_unproc\n",
    "print(X_dev.head())\n",
    "\n",
    "print(\"Test data:\")\n",
    "X_test = prepare_data(X_test_init)\n",
    "print(X_test.head())"
   ]
  },
  {
   "cell_type": "markdown",
   "execution_count": null,
   "metadata": {},
   "source": [
    "# DL model using Keras"
   ]
  },
  {
   "cell_type": "code",
   "execution_count": 12,
   "metadata": {},
   "outputs": [],
   "source": [
    "def get_model(input_size):\n",
    "    from tensorflow.keras.models import Sequential\n",
    "    from tensorflow.keras.layers import Dense, Dropout\n",
    "    from tensorflow.keras.regularizers import l2\n",
    "\n",
    "    model = Sequential([\n",
    "        Dense(128, input_shape=(input_size,), activation=\"relu\", kernel_regularizer=l2(0.01)),\n",
    "        Dropout(0.2),\n",
    "        Dense(32, activation=\"relu\", kernel_regularizer=l2(0.01)),\n",
    "        Dropout(0.2),\n",
    "        Dense(20, activation=\"relu\", kernel_regularizer=l2(0.01)),\n",
    "        Dropout(0.25),\n",
    "        Dense(6, activation=\"tanh\", kernel_regularizer=l2(0.01)),\n",
    "        Dropout(0.3),\n",
    "        Dense(1, activation=\"sigmoid\")\n",
    "    ])\n",
    "    \n",
    "    model.compile(optimizer=keras.optimizers.Adam(1e-3), metrics=[\"accuracy\"], loss=\"binary_crossentropy\")\n",
    "    \n",
    "    return model"
   ]
  },
  {
   "cell_type": "code",
   "execution_count": 13,
   "metadata": {},
   "outputs": [],
   "source": [
    "model = get_model(X_train.shape[1])"
   ]
  },
  {
   "cell_type": "code",
   "execution_count": 14,
   "metadata": {},
   "outputs": [
    {
     "name": "stdout",
     "output_type": "stream",
     "text": [
      "Train on 712 samples, validate on 179 samples\n",
      "Epoch 1/500\n",
      "712/712 [==============================] - 2s 3ms/sample - loss: 1.7489 - accuracy: 0.6053 - val_loss: 1.5734 - val_accuracy: 0.7039\n",
      "Epoch 2/500\n",
      "712/712 [==============================] - 0s 140us/sample - loss: 1.5003 - accuracy: 0.6784 - val_loss: 1.3451 - val_accuracy: 0.7709\n",
      "Epoch 3/500\n",
      "712/712 [==============================] - 0s 143us/sample - loss: 1.2977 - accuracy: 0.7275 - val_loss: 1.1800 - val_accuracy: 0.8101\n",
      "Epoch 4/500\n",
      "712/712 [==============================] - 0s 138us/sample - loss: 1.1564 - accuracy: 0.7823 - val_loss: 1.0512 - val_accuracy: 0.8156\n",
      "Epoch 5/500\n",
      "712/712 [==============================] - 0s 138us/sample - loss: 1.0548 - accuracy: 0.7809 - val_loss: 0.9620 - val_accuracy: 0.7877\n",
      "Epoch 6/500\n",
      "712/712 [==============================] - 0s 130us/sample - loss: 0.9695 - accuracy: 0.8090 - val_loss: 0.8843 - val_accuracy: 0.8045\n",
      "Epoch 7/500\n",
      "712/712 [==============================] - 0s 137us/sample - loss: 0.8692 - accuracy: 0.7963 - val_loss: 0.8226 - val_accuracy: 0.8156\n",
      "Epoch 8/500\n",
      "712/712 [==============================] - 0s 136us/sample - loss: 0.8444 - accuracy: 0.7949 - val_loss: 0.7736 - val_accuracy: 0.8101\n",
      "Epoch 9/500\n",
      "712/712 [==============================] - 0s 131us/sample - loss: 0.8070 - accuracy: 0.8006 - val_loss: 0.7430 - val_accuracy: 0.8101\n",
      "Epoch 10/500\n",
      "712/712 [==============================] - 0s 161us/sample - loss: 0.7576 - accuracy: 0.8104 - val_loss: 0.7066 - val_accuracy: 0.8156\n",
      "Epoch 11/500\n",
      "712/712 [==============================] - 0s 143us/sample - loss: 0.7321 - accuracy: 0.8188 - val_loss: 0.6763 - val_accuracy: 0.8101\n",
      "Epoch 12/500\n",
      "712/712 [==============================] - 0s 143us/sample - loss: 0.6942 - accuracy: 0.8329 - val_loss: 0.6563 - val_accuracy: 0.8324\n",
      "Epoch 13/500\n",
      "712/712 [==============================] - 0s 152us/sample - loss: 0.6643 - accuracy: 0.8315 - val_loss: 0.6364 - val_accuracy: 0.8045\n",
      "Epoch 14/500\n",
      "712/712 [==============================] - 0s 145us/sample - loss: 0.6489 - accuracy: 0.8272 - val_loss: 0.6183 - val_accuracy: 0.8156\n",
      "Epoch 15/500\n",
      "712/712 [==============================] - 0s 143us/sample - loss: 0.6424 - accuracy: 0.8174 - val_loss: 0.5993 - val_accuracy: 0.8268\n",
      "Epoch 16/500\n",
      "712/712 [==============================] - 0s 138us/sample - loss: 0.6380 - accuracy: 0.8413 - val_loss: 0.5920 - val_accuracy: 0.8212\n",
      "Epoch 17/500\n",
      "712/712 [==============================] - 0s 135us/sample - loss: 0.6179 - accuracy: 0.8371 - val_loss: 0.5779 - val_accuracy: 0.8268\n",
      "Epoch 18/500\n",
      "712/712 [==============================] - 0s 184us/sample - loss: 0.6028 - accuracy: 0.8343 - val_loss: 0.5724 - val_accuracy: 0.8156\n",
      "Epoch 19/500\n",
      "712/712 [==============================] - 0s 139us/sample - loss: 0.5874 - accuracy: 0.8230 - val_loss: 0.5640 - val_accuracy: 0.8436\n",
      "Epoch 20/500\n",
      "712/712 [==============================] - 0s 140us/sample - loss: 0.5792 - accuracy: 0.8188 - val_loss: 0.5557 - val_accuracy: 0.8212\n",
      "Epoch 21/500\n",
      "712/712 [==============================] - 0s 137us/sample - loss: 0.5755 - accuracy: 0.8329 - val_loss: 0.5581 - val_accuracy: 0.8212\n",
      "Epoch 22/500\n",
      "712/712 [==============================] - 0s 145us/sample - loss: 0.5633 - accuracy: 0.8272 - val_loss: 0.5535 - val_accuracy: 0.8045\n",
      "Epoch 23/500\n",
      "712/712 [==============================] - 0s 129us/sample - loss: 0.5724 - accuracy: 0.8230 - val_loss: 0.5503 - val_accuracy: 0.8212\n",
      "Epoch 24/500\n",
      "712/712 [==============================] - 0s 128us/sample - loss: 0.5494 - accuracy: 0.8244 - val_loss: 0.5379 - val_accuracy: 0.8156\n",
      "Epoch 25/500\n",
      "712/712 [==============================] - 0s 135us/sample - loss: 0.5513 - accuracy: 0.8188 - val_loss: 0.5364 - val_accuracy: 0.8156\n",
      "Epoch 26/500\n",
      "712/712 [==============================] - 0s 141us/sample - loss: 0.5402 - accuracy: 0.8371 - val_loss: 0.5278 - val_accuracy: 0.8212\n",
      "Epoch 27/500\n",
      "712/712 [==============================] - 0s 142us/sample - loss: 0.5374 - accuracy: 0.8287 - val_loss: 0.5317 - val_accuracy: 0.8268\n",
      "Epoch 28/500\n",
      "712/712 [==============================] - 0s 142us/sample - loss: 0.5214 - accuracy: 0.8483 - val_loss: 0.5304 - val_accuracy: 0.8212\n",
      "Epoch 29/500\n",
      "712/712 [==============================] - 0s 157us/sample - loss: 0.5261 - accuracy: 0.8441 - val_loss: 0.5240 - val_accuracy: 0.8268\n",
      "Epoch 30/500\n",
      "712/712 [==============================] - 0s 138us/sample - loss: 0.5543 - accuracy: 0.8287 - val_loss: 0.5414 - val_accuracy: 0.8101\n",
      "Epoch 31/500\n",
      "712/712 [==============================] - 0s 136us/sample - loss: 0.5335 - accuracy: 0.8301 - val_loss: 0.5202 - val_accuracy: 0.8324\n",
      "Epoch 32/500\n",
      "712/712 [==============================] - 0s 144us/sample - loss: 0.5213 - accuracy: 0.8399 - val_loss: 0.5180 - val_accuracy: 0.8324\n",
      "Epoch 33/500\n",
      "712/712 [==============================] - 0s 136us/sample - loss: 0.5012 - accuracy: 0.8301 - val_loss: 0.5190 - val_accuracy: 0.8156\n",
      "Epoch 34/500\n",
      "712/712 [==============================] - 0s 128us/sample - loss: 0.5205 - accuracy: 0.8343 - val_loss: 0.5192 - val_accuracy: 0.8212\n",
      "Epoch 35/500\n",
      "712/712 [==============================] - 0s 128us/sample - loss: 0.5081 - accuracy: 0.8385 - val_loss: 0.5124 - val_accuracy: 0.8268\n",
      "Epoch 36/500\n",
      "712/712 [==============================] - 0s 134us/sample - loss: 0.5153 - accuracy: 0.8315 - val_loss: 0.5139 - val_accuracy: 0.8268\n",
      "Epoch 37/500\n",
      "712/712 [==============================] - 0s 132us/sample - loss: 0.5200 - accuracy: 0.8202 - val_loss: 0.5157 - val_accuracy: 0.8324\n",
      "Epoch 38/500\n",
      "712/712 [==============================] - 0s 191us/sample - loss: 0.5298 - accuracy: 0.8315 - val_loss: 0.5342 - val_accuracy: 0.8045\n",
      "Epoch 39/500\n",
      "712/712 [==============================] - 0s 142us/sample - loss: 0.5195 - accuracy: 0.8216 - val_loss: 0.5163 - val_accuracy: 0.8268\n",
      "Epoch 40/500\n",
      "712/712 [==============================] - 0s 139us/sample - loss: 0.4968 - accuracy: 0.8399 - val_loss: 0.5121 - val_accuracy: 0.8268\n",
      "Epoch 41/500\n",
      "712/712 [==============================] - 0s 138us/sample - loss: 0.5052 - accuracy: 0.8385 - val_loss: 0.5129 - val_accuracy: 0.8212\n",
      "Epoch 42/500\n",
      "712/712 [==============================] - 0s 138us/sample - loss: 0.5070 - accuracy: 0.8413 - val_loss: 0.5078 - val_accuracy: 0.8268\n",
      "Epoch 43/500\n",
      "712/712 [==============================] - 0s 138us/sample - loss: 0.5035 - accuracy: 0.8301 - val_loss: 0.5077 - val_accuracy: 0.8212\n",
      "Epoch 44/500\n",
      "712/712 [==============================] - 0s 131us/sample - loss: 0.5053 - accuracy: 0.8287 - val_loss: 0.5087 - val_accuracy: 0.8324\n",
      "Epoch 45/500\n",
      "712/712 [==============================] - 0s 143us/sample - loss: 0.5041 - accuracy: 0.8329 - val_loss: 0.5067 - val_accuracy: 0.8268\n",
      "Epoch 46/500\n",
      "712/712 [==============================] - 0s 139us/sample - loss: 0.5104 - accuracy: 0.8329 - val_loss: 0.5072 - val_accuracy: 0.8324\n",
      "Epoch 47/500\n",
      "712/712 [==============================] - 0s 133us/sample - loss: 0.5046 - accuracy: 0.8357 - val_loss: 0.4991 - val_accuracy: 0.8324\n",
      "Epoch 48/500\n",
      "712/712 [==============================] - 0s 138us/sample - loss: 0.4984 - accuracy: 0.8258 - val_loss: 0.5009 - val_accuracy: 0.8212\n",
      "Epoch 49/500\n",
      "712/712 [==============================] - 0s 135us/sample - loss: 0.5120 - accuracy: 0.8216 - val_loss: 0.5064 - val_accuracy: 0.8268\n",
      "Epoch 50/500\n",
      "712/712 [==============================] - 0s 130us/sample - loss: 0.5003 - accuracy: 0.8343 - val_loss: 0.5050 - val_accuracy: 0.8324\n",
      "Epoch 51/500\n",
      "712/712 [==============================] - 0s 136us/sample - loss: 0.5112 - accuracy: 0.8343 - val_loss: 0.5065 - val_accuracy: 0.8212\n",
      "Epoch 52/500\n",
      "712/712 [==============================] - 0s 144us/sample - loss: 0.5013 - accuracy: 0.8216 - val_loss: 0.5130 - val_accuracy: 0.8268\n",
      "Epoch 53/500\n",
      "712/712 [==============================] - 0s 141us/sample - loss: 0.4966 - accuracy: 0.8357 - val_loss: 0.5186 - val_accuracy: 0.8101\n",
      "Epoch 54/500\n",
      "712/712 [==============================] - 0s 138us/sample - loss: 0.5143 - accuracy: 0.8357 - val_loss: 0.4923 - val_accuracy: 0.8268\n",
      "Epoch 55/500\n",
      "712/712 [==============================] - 0s 141us/sample - loss: 0.4967 - accuracy: 0.8315 - val_loss: 0.4963 - val_accuracy: 0.8268\n",
      "Epoch 56/500\n",
      "712/712 [==============================] - 0s 148us/sample - loss: 0.5041 - accuracy: 0.8413 - val_loss: 0.5114 - val_accuracy: 0.8380\n",
      "Epoch 57/500\n",
      "712/712 [==============================] - 0s 146us/sample - loss: 0.5003 - accuracy: 0.8343 - val_loss: 0.5039 - val_accuracy: 0.8324\n",
      "Epoch 58/500\n",
      "712/712 [==============================] - 0s 138us/sample - loss: 0.4955 - accuracy: 0.8385 - val_loss: 0.5071 - val_accuracy: 0.8212\n",
      "Epoch 59/500\n",
      "712/712 [==============================] - 0s 137us/sample - loss: 0.4948 - accuracy: 0.8413 - val_loss: 0.5103 - val_accuracy: 0.8156\n",
      "Epoch 60/500\n",
      "712/712 [==============================] - 0s 131us/sample - loss: 0.5070 - accuracy: 0.8371 - val_loss: 0.4969 - val_accuracy: 0.8324\n",
      "Epoch 61/500\n",
      "712/712 [==============================] - 0s 129us/sample - loss: 0.4860 - accuracy: 0.8357 - val_loss: 0.4996 - val_accuracy: 0.8324\n",
      "Epoch 62/500\n",
      "712/712 [==============================] - 0s 136us/sample - loss: 0.4989 - accuracy: 0.8483 - val_loss: 0.5097 - val_accuracy: 0.8212\n",
      "Epoch 63/500\n",
      "712/712 [==============================] - 0s 132us/sample - loss: 0.4945 - accuracy: 0.8385 - val_loss: 0.4974 - val_accuracy: 0.8436\n",
      "Epoch 64/500\n",
      "712/712 [==============================] - 0s 141us/sample - loss: 0.4798 - accuracy: 0.8469 - val_loss: 0.4925 - val_accuracy: 0.8324\n",
      "Epoch 65/500\n",
      "712/712 [==============================] - 0s 136us/sample - loss: 0.5116 - accuracy: 0.8301 - val_loss: 0.4970 - val_accuracy: 0.8380\n",
      "Epoch 66/500\n",
      "712/712 [==============================] - 0s 140us/sample - loss: 0.4823 - accuracy: 0.8343 - val_loss: 0.5035 - val_accuracy: 0.8268\n",
      "Epoch 67/500\n",
      "712/712 [==============================] - 0s 147us/sample - loss: 0.4930 - accuracy: 0.8343 - val_loss: 0.4951 - val_accuracy: 0.8324\n",
      "Epoch 68/500\n",
      "712/712 [==============================] - 0s 145us/sample - loss: 0.4971 - accuracy: 0.8385 - val_loss: 0.4963 - val_accuracy: 0.8268\n",
      "Epoch 69/500\n",
      "712/712 [==============================] - 0s 141us/sample - loss: 0.5078 - accuracy: 0.8343 - val_loss: 0.5052 - val_accuracy: 0.8212\n",
      "Epoch 70/500\n",
      "712/712 [==============================] - 0s 138us/sample - loss: 0.4813 - accuracy: 0.8497 - val_loss: 0.4976 - val_accuracy: 0.8324\n",
      "Epoch 71/500\n",
      "712/712 [==============================] - 0s 137us/sample - loss: 0.4925 - accuracy: 0.8272 - val_loss: 0.4980 - val_accuracy: 0.8324\n",
      "Epoch 72/500\n",
      "712/712 [==============================] - 0s 145us/sample - loss: 0.4853 - accuracy: 0.8427 - val_loss: 0.5127 - val_accuracy: 0.8212\n",
      "Epoch 73/500\n",
      "712/712 [==============================] - 0s 149us/sample - loss: 0.4824 - accuracy: 0.8371 - val_loss: 0.4968 - val_accuracy: 0.8324\n",
      "Epoch 74/500\n",
      "712/712 [==============================] - 0s 144us/sample - loss: 0.4913 - accuracy: 0.8385 - val_loss: 0.5021 - val_accuracy: 0.8045\n",
      "Epoch 75/500\n",
      "712/712 [==============================] - 0s 142us/sample - loss: 0.4987 - accuracy: 0.8385 - val_loss: 0.4988 - val_accuracy: 0.8268\n",
      "Epoch 76/500\n",
      "712/712 [==============================] - 0s 143us/sample - loss: 0.4962 - accuracy: 0.8371 - val_loss: 0.4990 - val_accuracy: 0.8268\n",
      "Epoch 77/500\n",
      "712/712 [==============================] - 0s 150us/sample - loss: 0.4861 - accuracy: 0.8371 - val_loss: 0.4986 - val_accuracy: 0.8268\n",
      "Epoch 78/500\n",
      "712/712 [==============================] - 0s 135us/sample - loss: 0.4787 - accuracy: 0.8399 - val_loss: 0.4962 - val_accuracy: 0.8324\n",
      "Epoch 79/500\n",
      "712/712 [==============================] - 0s 134us/sample - loss: 0.4882 - accuracy: 0.8244 - val_loss: 0.5009 - val_accuracy: 0.8212\n",
      "Epoch 80/500\n",
      "712/712 [==============================] - 0s 136us/sample - loss: 0.4974 - accuracy: 0.8329 - val_loss: 0.4971 - val_accuracy: 0.8324\n",
      "Epoch 81/500\n",
      "712/712 [==============================] - 0s 128us/sample - loss: 0.4788 - accuracy: 0.8301 - val_loss: 0.4966 - val_accuracy: 0.8212\n",
      "Epoch 82/500\n",
      "712/712 [==============================] - 0s 134us/sample - loss: 0.4905 - accuracy: 0.8385 - val_loss: 0.4952 - val_accuracy: 0.8324\n",
      "Epoch 83/500\n",
      "712/712 [==============================] - 0s 128us/sample - loss: 0.4710 - accuracy: 0.8427 - val_loss: 0.4913 - val_accuracy: 0.8268\n",
      "Epoch 84/500\n",
      "712/712 [==============================] - 0s 132us/sample - loss: 0.4718 - accuracy: 0.8497 - val_loss: 0.4987 - val_accuracy: 0.8268\n",
      "Epoch 85/500\n",
      "712/712 [==============================] - 0s 138us/sample - loss: 0.4624 - accuracy: 0.8329 - val_loss: 0.5001 - val_accuracy: 0.8212\n",
      "Epoch 86/500\n",
      "712/712 [==============================] - 0s 136us/sample - loss: 0.4833 - accuracy: 0.8385 - val_loss: 0.4985 - val_accuracy: 0.8268\n",
      "Epoch 87/500\n",
      "712/712 [==============================] - 0s 141us/sample - loss: 0.4891 - accuracy: 0.8413 - val_loss: 0.4902 - val_accuracy: 0.8324\n",
      "Epoch 88/500\n",
      "712/712 [==============================] - 0s 144us/sample - loss: 0.4726 - accuracy: 0.8483 - val_loss: 0.4953 - val_accuracy: 0.8212\n",
      "Epoch 89/500\n",
      "712/712 [==============================] - 0s 142us/sample - loss: 0.4819 - accuracy: 0.8371 - val_loss: 0.4906 - val_accuracy: 0.8212\n",
      "Epoch 90/500\n",
      "712/712 [==============================] - 0s 143us/sample - loss: 0.4785 - accuracy: 0.8399 - val_loss: 0.5001 - val_accuracy: 0.8324\n",
      "Epoch 91/500\n",
      "712/712 [==============================] - 0s 140us/sample - loss: 0.4699 - accuracy: 0.8399 - val_loss: 0.5032 - val_accuracy: 0.8324\n",
      "Epoch 92/500\n",
      "712/712 [==============================] - 0s 146us/sample - loss: 0.4758 - accuracy: 0.8441 - val_loss: 0.5092 - val_accuracy: 0.8101\n",
      "Epoch 93/500\n",
      "712/712 [==============================] - 0s 222us/sample - loss: 0.4780 - accuracy: 0.8301 - val_loss: 0.4977 - val_accuracy: 0.8212\n",
      "Epoch 94/500\n",
      "712/712 [==============================] - 0s 144us/sample - loss: 0.4818 - accuracy: 0.8287 - val_loss: 0.5007 - val_accuracy: 0.7933\n",
      "Epoch 95/500\n",
      "712/712 [==============================] - 0s 143us/sample - loss: 0.4902 - accuracy: 0.8287 - val_loss: 0.5018 - val_accuracy: 0.8268\n",
      "Epoch 96/500\n",
      "712/712 [==============================] - 0s 138us/sample - loss: 0.4819 - accuracy: 0.8371 - val_loss: 0.5067 - val_accuracy: 0.8101\n",
      "Epoch 97/500\n",
      "712/712 [==============================] - 0s 152us/sample - loss: 0.4762 - accuracy: 0.8455 - val_loss: 0.4963 - val_accuracy: 0.8324\n",
      "Epoch 98/500\n",
      "712/712 [==============================] - 0s 139us/sample - loss: 0.4699 - accuracy: 0.8399 - val_loss: 0.4945 - val_accuracy: 0.8324\n",
      "Epoch 99/500\n",
      "712/712 [==============================] - 0s 142us/sample - loss: 0.4807 - accuracy: 0.8343 - val_loss: 0.4946 - val_accuracy: 0.8324\n",
      "Epoch 100/500\n",
      "712/712 [==============================] - 0s 137us/sample - loss: 0.4864 - accuracy: 0.8287 - val_loss: 0.4999 - val_accuracy: 0.8324\n",
      "Epoch 101/500\n",
      "712/712 [==============================] - 0s 219us/sample - loss: 0.4635 - accuracy: 0.8469 - val_loss: 0.5047 - val_accuracy: 0.8268\n",
      "Epoch 102/500\n",
      "712/712 [==============================] - 0s 213us/sample - loss: 0.4759 - accuracy: 0.8399 - val_loss: 0.4959 - val_accuracy: 0.8268\n",
      "Epoch 103/500\n",
      "712/712 [==============================] - 0s 209us/sample - loss: 0.4710 - accuracy: 0.8357 - val_loss: 0.4948 - val_accuracy: 0.8212\n",
      "Epoch 104/500\n",
      "712/712 [==============================] - 0s 147us/sample - loss: 0.4735 - accuracy: 0.8343 - val_loss: 0.4991 - val_accuracy: 0.8268\n",
      "Epoch 105/500\n",
      "712/712 [==============================] - 0s 145us/sample - loss: 0.4832 - accuracy: 0.8329 - val_loss: 0.4967 - val_accuracy: 0.8324\n",
      "Epoch 106/500\n",
      "712/712 [==============================] - 0s 136us/sample - loss: 0.4889 - accuracy: 0.8455 - val_loss: 0.5010 - val_accuracy: 0.8212\n",
      "Epoch 107/500\n",
      "712/712 [==============================] - 0s 142us/sample - loss: 0.4655 - accuracy: 0.8455 - val_loss: 0.5081 - val_accuracy: 0.8045\n",
      "Epoch 108/500\n",
      "712/712 [==============================] - 0s 140us/sample - loss: 0.4701 - accuracy: 0.8399 - val_loss: 0.5084 - val_accuracy: 0.8101\n",
      "Epoch 109/500\n",
      "712/712 [==============================] - 0s 136us/sample - loss: 0.4770 - accuracy: 0.8441 - val_loss: 0.5017 - val_accuracy: 0.8156\n",
      "Epoch 110/500\n",
      "712/712 [==============================] - 0s 135us/sample - loss: 0.4840 - accuracy: 0.8315 - val_loss: 0.4970 - val_accuracy: 0.8212\n",
      "Epoch 111/500\n",
      "712/712 [==============================] - 0s 141us/sample - loss: 0.4830 - accuracy: 0.8287 - val_loss: 0.4912 - val_accuracy: 0.8212\n",
      "Epoch 112/500\n",
      "712/712 [==============================] - 0s 141us/sample - loss: 0.4610 - accuracy: 0.8455 - val_loss: 0.4977 - val_accuracy: 0.8156\n",
      "Epoch 113/500\n",
      "712/712 [==============================] - 0s 141us/sample - loss: 0.4769 - accuracy: 0.8399 - val_loss: 0.4976 - val_accuracy: 0.8156\n",
      "Epoch 114/500\n",
      "712/712 [==============================] - 0s 150us/sample - loss: 0.4731 - accuracy: 0.8287 - val_loss: 0.4938 - val_accuracy: 0.8380\n",
      "Epoch 115/500\n",
      "712/712 [==============================] - 0s 154us/sample - loss: 0.4778 - accuracy: 0.8413 - val_loss: 0.4893 - val_accuracy: 0.8212\n",
      "Epoch 116/500\n",
      "712/712 [==============================] - 0s 145us/sample - loss: 0.4804 - accuracy: 0.8329 - val_loss: 0.4915 - val_accuracy: 0.8212\n",
      "Epoch 117/500\n",
      "712/712 [==============================] - 0s 138us/sample - loss: 0.4837 - accuracy: 0.8315 - val_loss: 0.4971 - val_accuracy: 0.8324\n",
      "Epoch 118/500\n",
      "712/712 [==============================] - 0s 139us/sample - loss: 0.4645 - accuracy: 0.8385 - val_loss: 0.5005 - val_accuracy: 0.8156\n",
      "Epoch 119/500\n",
      "712/712 [==============================] - 0s 139us/sample - loss: 0.4711 - accuracy: 0.8469 - val_loss: 0.4928 - val_accuracy: 0.8380\n",
      "Epoch 120/500\n",
      "712/712 [==============================] - 0s 150us/sample - loss: 0.4783 - accuracy: 0.8427 - val_loss: 0.4923 - val_accuracy: 0.8380\n",
      "Epoch 121/500\n",
      "712/712 [==============================] - 0s 134us/sample - loss: 0.4842 - accuracy: 0.8258 - val_loss: 0.4978 - val_accuracy: 0.8324\n",
      "Epoch 122/500\n",
      "712/712 [==============================] - 0s 137us/sample - loss: 0.4816 - accuracy: 0.8371 - val_loss: 0.5002 - val_accuracy: 0.8380\n",
      "Epoch 123/500\n",
      "712/712 [==============================] - 0s 143us/sample - loss: 0.4823 - accuracy: 0.8301 - val_loss: 0.4956 - val_accuracy: 0.8324\n",
      "Epoch 124/500\n",
      "712/712 [==============================] - 0s 143us/sample - loss: 0.4726 - accuracy: 0.8399 - val_loss: 0.4899 - val_accuracy: 0.8212\n",
      "Epoch 125/500\n",
      "712/712 [==============================] - 0s 146us/sample - loss: 0.4677 - accuracy: 0.8371 - val_loss: 0.4974 - val_accuracy: 0.8212\n",
      "Epoch 126/500\n",
      "712/712 [==============================] - 0s 161us/sample - loss: 0.4806 - accuracy: 0.8315 - val_loss: 0.5001 - val_accuracy: 0.8212\n",
      "Epoch 127/500\n",
      "712/712 [==============================] - 0s 142us/sample - loss: 0.4711 - accuracy: 0.8441 - val_loss: 0.4918 - val_accuracy: 0.8324\n",
      "Epoch 128/500\n",
      "712/712 [==============================] - 0s 148us/sample - loss: 0.4557 - accuracy: 0.8483 - val_loss: 0.4869 - val_accuracy: 0.8324\n",
      "Epoch 129/500\n",
      "712/712 [==============================] - 0s 152us/sample - loss: 0.4699 - accuracy: 0.8329 - val_loss: 0.4901 - val_accuracy: 0.8324\n",
      "Epoch 130/500\n",
      "712/712 [==============================] - 0s 154us/sample - loss: 0.4688 - accuracy: 0.8315 - val_loss: 0.4923 - val_accuracy: 0.8324\n",
      "Epoch 131/500\n",
      "712/712 [==============================] - 0s 144us/sample - loss: 0.4597 - accuracy: 0.8497 - val_loss: 0.4984 - val_accuracy: 0.8212\n",
      "Epoch 132/500\n",
      "712/712 [==============================] - 0s 147us/sample - loss: 0.4802 - accuracy: 0.8315 - val_loss: 0.4849 - val_accuracy: 0.8324\n",
      "Epoch 133/500\n",
      "712/712 [==============================] - 0s 145us/sample - loss: 0.4678 - accuracy: 0.8343 - val_loss: 0.4843 - val_accuracy: 0.8380\n",
      "Epoch 134/500\n",
      "712/712 [==============================] - 0s 150us/sample - loss: 0.4712 - accuracy: 0.8455 - val_loss: 0.4996 - val_accuracy: 0.8156\n",
      "Epoch 135/500\n",
      "712/712 [==============================] - 0s 141us/sample - loss: 0.4688 - accuracy: 0.8511 - val_loss: 0.4899 - val_accuracy: 0.8212\n",
      "Epoch 136/500\n",
      "712/712 [==============================] - 0s 142us/sample - loss: 0.4708 - accuracy: 0.8455 - val_loss: 0.4899 - val_accuracy: 0.8268\n",
      "Epoch 137/500\n",
      "712/712 [==============================] - 0s 136us/sample - loss: 0.4608 - accuracy: 0.8441 - val_loss: 0.4890 - val_accuracy: 0.8324\n",
      "Epoch 138/500\n",
      "712/712 [==============================] - 0s 135us/sample - loss: 0.4653 - accuracy: 0.8469 - val_loss: 0.4875 - val_accuracy: 0.8212\n",
      "Epoch 139/500\n",
      "712/712 [==============================] - 0s 138us/sample - loss: 0.4647 - accuracy: 0.8301 - val_loss: 0.4981 - val_accuracy: 0.8324\n",
      "Epoch 140/500\n",
      "712/712 [==============================] - 0s 132us/sample - loss: 0.4777 - accuracy: 0.8315 - val_loss: 0.5066 - val_accuracy: 0.8324\n",
      "Epoch 141/500\n",
      "712/712 [==============================] - 0s 130us/sample - loss: 0.4708 - accuracy: 0.8427 - val_loss: 0.4868 - val_accuracy: 0.8324\n",
      "Epoch 142/500\n",
      "712/712 [==============================] - 0s 149us/sample - loss: 0.4809 - accuracy: 0.8357 - val_loss: 0.4901 - val_accuracy: 0.8380\n",
      "Epoch 143/500\n",
      "712/712 [==============================] - 0s 140us/sample - loss: 0.4623 - accuracy: 0.8385 - val_loss: 0.4992 - val_accuracy: 0.8268\n",
      "Epoch 144/500\n",
      "712/712 [==============================] - 0s 143us/sample - loss: 0.4717 - accuracy: 0.8357 - val_loss: 0.5115 - val_accuracy: 0.8212\n",
      "Epoch 145/500\n",
      "712/712 [==============================] - 0s 135us/sample - loss: 0.4606 - accuracy: 0.8455 - val_loss: 0.4943 - val_accuracy: 0.8268\n",
      "Epoch 146/500\n",
      "712/712 [==============================] - 0s 149us/sample - loss: 0.4752 - accuracy: 0.8385 - val_loss: 0.4901 - val_accuracy: 0.8268\n",
      "Epoch 147/500\n",
      "712/712 [==============================] - 0s 133us/sample - loss: 0.4703 - accuracy: 0.8469 - val_loss: 0.4968 - val_accuracy: 0.8156\n",
      "Epoch 148/500\n",
      "712/712 [==============================] - 0s 139us/sample - loss: 0.4680 - accuracy: 0.8343 - val_loss: 0.5008 - val_accuracy: 0.8212\n",
      "Epoch 149/500\n",
      "712/712 [==============================] - 0s 146us/sample - loss: 0.4606 - accuracy: 0.8371 - val_loss: 0.4984 - val_accuracy: 0.8156\n",
      "Epoch 150/500\n",
      "712/712 [==============================] - 0s 140us/sample - loss: 0.4749 - accuracy: 0.8371 - val_loss: 0.4932 - val_accuracy: 0.8212\n",
      "Epoch 151/500\n",
      "712/712 [==============================] - 0s 139us/sample - loss: 0.4745 - accuracy: 0.8399 - val_loss: 0.5028 - val_accuracy: 0.8101\n",
      "Epoch 152/500\n",
      "712/712 [==============================] - 0s 145us/sample - loss: 0.4615 - accuracy: 0.8385 - val_loss: 0.4975 - val_accuracy: 0.8212\n",
      "Epoch 153/500\n",
      "712/712 [==============================] - 0s 135us/sample - loss: 0.4651 - accuracy: 0.8455 - val_loss: 0.4913 - val_accuracy: 0.8324\n",
      "Epoch 154/500\n",
      "712/712 [==============================] - 0s 134us/sample - loss: 0.4531 - accuracy: 0.8357 - val_loss: 0.5045 - val_accuracy: 0.8101\n",
      "Epoch 155/500\n",
      "712/712 [==============================] - 0s 139us/sample - loss: 0.4632 - accuracy: 0.8301 - val_loss: 0.4955 - val_accuracy: 0.8268\n",
      "Epoch 156/500\n",
      "712/712 [==============================] - 0s 132us/sample - loss: 0.4566 - accuracy: 0.8301 - val_loss: 0.5100 - val_accuracy: 0.8324\n",
      "Epoch 157/500\n",
      "712/712 [==============================] - 0s 139us/sample - loss: 0.4696 - accuracy: 0.8427 - val_loss: 0.4971 - val_accuracy: 0.8212\n",
      "Epoch 158/500\n",
      "712/712 [==============================] - 0s 139us/sample - loss: 0.4742 - accuracy: 0.8385 - val_loss: 0.4911 - val_accuracy: 0.8212\n",
      "Epoch 159/500\n",
      "712/712 [==============================] - 0s 147us/sample - loss: 0.4678 - accuracy: 0.8272 - val_loss: 0.4933 - val_accuracy: 0.8324\n",
      "Epoch 160/500\n",
      "712/712 [==============================] - 0s 139us/sample - loss: 0.4567 - accuracy: 0.8399 - val_loss: 0.4980 - val_accuracy: 0.8212\n",
      "Epoch 161/500\n",
      "712/712 [==============================] - 0s 139us/sample - loss: 0.4572 - accuracy: 0.8427 - val_loss: 0.4937 - val_accuracy: 0.8212\n",
      "Epoch 162/500\n",
      "712/712 [==============================] - 0s 140us/sample - loss: 0.4680 - accuracy: 0.8441 - val_loss: 0.4907 - val_accuracy: 0.8324\n",
      "Epoch 163/500\n",
      "712/712 [==============================] - 0s 142us/sample - loss: 0.4606 - accuracy: 0.8385 - val_loss: 0.4914 - val_accuracy: 0.8324\n",
      "Epoch 164/500\n",
      "712/712 [==============================] - 0s 133us/sample - loss: 0.4773 - accuracy: 0.8230 - val_loss: 0.4899 - val_accuracy: 0.8268\n",
      "Epoch 165/500\n",
      "712/712 [==============================] - 0s 130us/sample - loss: 0.4603 - accuracy: 0.8329 - val_loss: 0.4928 - val_accuracy: 0.8268\n",
      "Epoch 166/500\n",
      "712/712 [==============================] - 0s 132us/sample - loss: 0.4687 - accuracy: 0.8413 - val_loss: 0.4901 - val_accuracy: 0.8324\n",
      "Epoch 167/500\n",
      "712/712 [==============================] - 0s 142us/sample - loss: 0.4493 - accuracy: 0.8525 - val_loss: 0.4930 - val_accuracy: 0.8268\n",
      "Epoch 168/500\n",
      "712/712 [==============================] - 0s 134us/sample - loss: 0.4655 - accuracy: 0.8301 - val_loss: 0.4930 - val_accuracy: 0.8268\n",
      "Epoch 169/500\n",
      "712/712 [==============================] - 0s 147us/sample - loss: 0.4598 - accuracy: 0.8385 - val_loss: 0.4926 - val_accuracy: 0.8212\n",
      "Epoch 170/500\n",
      "712/712 [==============================] - 0s 147us/sample - loss: 0.4544 - accuracy: 0.8399 - val_loss: 0.5061 - val_accuracy: 0.8156\n",
      "Epoch 171/500\n",
      "712/712 [==============================] - 0s 144us/sample - loss: 0.4504 - accuracy: 0.8329 - val_loss: 0.4957 - val_accuracy: 0.8212\n",
      "Epoch 172/500\n",
      "712/712 [==============================] - 0s 145us/sample - loss: 0.4573 - accuracy: 0.8357 - val_loss: 0.4923 - val_accuracy: 0.8268\n",
      "Epoch 173/500\n",
      "712/712 [==============================] - 0s 143us/sample - loss: 0.4743 - accuracy: 0.8469 - val_loss: 0.4931 - val_accuracy: 0.8380\n",
      "Epoch 174/500\n",
      "712/712 [==============================] - 0s 147us/sample - loss: 0.4663 - accuracy: 0.8413 - val_loss: 0.4832 - val_accuracy: 0.8380\n",
      "Epoch 175/500\n",
      "712/712 [==============================] - 0s 151us/sample - loss: 0.4692 - accuracy: 0.8301 - val_loss: 0.4913 - val_accuracy: 0.8212\n",
      "Epoch 176/500\n",
      "712/712 [==============================] - 0s 137us/sample - loss: 0.4774 - accuracy: 0.8343 - val_loss: 0.4941 - val_accuracy: 0.8324\n",
      "Epoch 177/500\n",
      "712/712 [==============================] - 0s 137us/sample - loss: 0.4732 - accuracy: 0.8371 - val_loss: 0.4874 - val_accuracy: 0.8380\n",
      "Epoch 178/500\n",
      "712/712 [==============================] - 0s 137us/sample - loss: 0.4687 - accuracy: 0.8357 - val_loss: 0.4883 - val_accuracy: 0.8268\n",
      "Epoch 179/500\n",
      "712/712 [==============================] - 0s 136us/sample - loss: 0.4620 - accuracy: 0.8455 - val_loss: 0.4979 - val_accuracy: 0.8268\n",
      "Epoch 180/500\n",
      "712/712 [==============================] - 0s 141us/sample - loss: 0.4618 - accuracy: 0.8258 - val_loss: 0.4949 - val_accuracy: 0.8268\n",
      "Epoch 181/500\n",
      "712/712 [==============================] - 0s 141us/sample - loss: 0.4676 - accuracy: 0.8287 - val_loss: 0.4881 - val_accuracy: 0.8380\n",
      "Epoch 182/500\n",
      "712/712 [==============================] - 0s 145us/sample - loss: 0.4524 - accuracy: 0.8371 - val_loss: 0.4889 - val_accuracy: 0.8268\n",
      "Epoch 183/500\n",
      "712/712 [==============================] - 0s 141us/sample - loss: 0.4618 - accuracy: 0.8497 - val_loss: 0.4949 - val_accuracy: 0.8212\n",
      "Epoch 184/500\n",
      "712/712 [==============================] - 0s 147us/sample - loss: 0.4560 - accuracy: 0.8357 - val_loss: 0.4853 - val_accuracy: 0.8212\n",
      "Epoch 185/500\n",
      "712/712 [==============================] - 0s 134us/sample - loss: 0.4568 - accuracy: 0.8455 - val_loss: 0.4939 - val_accuracy: 0.8268\n",
      "Epoch 186/500\n",
      "712/712 [==============================] - 0s 135us/sample - loss: 0.4722 - accuracy: 0.8343 - val_loss: 0.5009 - val_accuracy: 0.8268\n",
      "Epoch 187/500\n",
      "712/712 [==============================] - 0s 144us/sample - loss: 0.4625 - accuracy: 0.8427 - val_loss: 0.4884 - val_accuracy: 0.8268\n",
      "Epoch 188/500\n",
      "712/712 [==============================] - 0s 144us/sample - loss: 0.4668 - accuracy: 0.8343 - val_loss: 0.4931 - val_accuracy: 0.8324\n",
      "Epoch 189/500\n",
      "712/712 [==============================] - 0s 143us/sample - loss: 0.4518 - accuracy: 0.8441 - val_loss: 0.4947 - val_accuracy: 0.8268\n",
      "Epoch 190/500\n",
      "712/712 [==============================] - 0s 132us/sample - loss: 0.4591 - accuracy: 0.8427 - val_loss: 0.4969 - val_accuracy: 0.8156\n",
      "Epoch 191/500\n",
      "712/712 [==============================] - 0s 133us/sample - loss: 0.4608 - accuracy: 0.8329 - val_loss: 0.4955 - val_accuracy: 0.8268\n",
      "Epoch 192/500\n",
      "712/712 [==============================] - 0s 141us/sample - loss: 0.4578 - accuracy: 0.8413 - val_loss: 0.4930 - val_accuracy: 0.8268\n",
      "Epoch 193/500\n",
      "712/712 [==============================] - 0s 131us/sample - loss: 0.4641 - accuracy: 0.8413 - val_loss: 0.5009 - val_accuracy: 0.8212\n",
      "Epoch 194/500\n",
      "712/712 [==============================] - 0s 142us/sample - loss: 0.4821 - accuracy: 0.8258 - val_loss: 0.5029 - val_accuracy: 0.8156\n",
      "Epoch 195/500\n",
      "712/712 [==============================] - 0s 142us/sample - loss: 0.4706 - accuracy: 0.8287 - val_loss: 0.4857 - val_accuracy: 0.8324\n",
      "Epoch 196/500\n",
      "712/712 [==============================] - 0s 143us/sample - loss: 0.4648 - accuracy: 0.8287 - val_loss: 0.4889 - val_accuracy: 0.8324\n",
      "Epoch 197/500\n",
      "712/712 [==============================] - 0s 133us/sample - loss: 0.4592 - accuracy: 0.8385 - val_loss: 0.4988 - val_accuracy: 0.8268\n",
      "Epoch 198/500\n",
      "712/712 [==============================] - 0s 137us/sample - loss: 0.4718 - accuracy: 0.8287 - val_loss: 0.4934 - val_accuracy: 0.8212\n",
      "Epoch 199/500\n",
      "712/712 [==============================] - 0s 180us/sample - loss: 0.4645 - accuracy: 0.8357 - val_loss: 0.4894 - val_accuracy: 0.8268\n",
      "Epoch 200/500\n",
      "712/712 [==============================] - 0s 169us/sample - loss: 0.4690 - accuracy: 0.8371 - val_loss: 0.4868 - val_accuracy: 0.8268\n",
      "Epoch 201/500\n",
      "712/712 [==============================] - 0s 149us/sample - loss: 0.4720 - accuracy: 0.8315 - val_loss: 0.4922 - val_accuracy: 0.8212\n",
      "Epoch 202/500\n",
      "712/712 [==============================] - 0s 142us/sample - loss: 0.4698 - accuracy: 0.8202 - val_loss: 0.4864 - val_accuracy: 0.8101\n",
      "Epoch 203/500\n",
      "712/712 [==============================] - 0s 162us/sample - loss: 0.4727 - accuracy: 0.8413 - val_loss: 0.4876 - val_accuracy: 0.8380\n",
      "Epoch 204/500\n",
      "712/712 [==============================] - 0s 140us/sample - loss: 0.4596 - accuracy: 0.8413 - val_loss: 0.4992 - val_accuracy: 0.8324\n",
      "Epoch 205/500\n",
      "712/712 [==============================] - 0s 133us/sample - loss: 0.4615 - accuracy: 0.8385 - val_loss: 0.4924 - val_accuracy: 0.8212\n",
      "Epoch 206/500\n",
      "712/712 [==============================] - 0s 141us/sample - loss: 0.4579 - accuracy: 0.8301 - val_loss: 0.5003 - val_accuracy: 0.8101\n",
      "Epoch 207/500\n",
      "712/712 [==============================] - 0s 244us/sample - loss: 0.4474 - accuracy: 0.8371 - val_loss: 0.4925 - val_accuracy: 0.8268\n",
      "Epoch 208/500\n",
      "712/712 [==============================] - 0s 197us/sample - loss: 0.4626 - accuracy: 0.8287 - val_loss: 0.4908 - val_accuracy: 0.8212\n",
      "Epoch 209/500\n",
      "712/712 [==============================] - 0s 191us/sample - loss: 0.4620 - accuracy: 0.8399 - val_loss: 0.4930 - val_accuracy: 0.8268\n",
      "Epoch 210/500\n",
      "712/712 [==============================] - 0s 165us/sample - loss: 0.4526 - accuracy: 0.8371 - val_loss: 0.4849 - val_accuracy: 0.8324\n",
      "Epoch 211/500\n",
      "712/712 [==============================] - 0s 141us/sample - loss: 0.4779 - accuracy: 0.8441 - val_loss: 0.4858 - val_accuracy: 0.8212\n",
      "Epoch 212/500\n",
      "712/712 [==============================] - 0s 143us/sample - loss: 0.4674 - accuracy: 0.8399 - val_loss: 0.4887 - val_accuracy: 0.8212\n",
      "Epoch 213/500\n",
      "712/712 [==============================] - 0s 143us/sample - loss: 0.4674 - accuracy: 0.8343 - val_loss: 0.4868 - val_accuracy: 0.8324\n",
      "Epoch 214/500\n",
      "712/712 [==============================] - 0s 143us/sample - loss: 0.4580 - accuracy: 0.8329 - val_loss: 0.4964 - val_accuracy: 0.8156\n",
      "Epoch 215/500\n",
      "712/712 [==============================] - 0s 174us/sample - loss: 0.4701 - accuracy: 0.8258 - val_loss: 0.4873 - val_accuracy: 0.8268\n",
      "Epoch 216/500\n",
      "712/712 [==============================] - 0s 146us/sample - loss: 0.4699 - accuracy: 0.8287 - val_loss: 0.4873 - val_accuracy: 0.8268\n",
      "Epoch 217/500\n",
      "712/712 [==============================] - 0s 137us/sample - loss: 0.4565 - accuracy: 0.8385 - val_loss: 0.4919 - val_accuracy: 0.8212\n",
      "Epoch 218/500\n",
      "712/712 [==============================] - 0s 133us/sample - loss: 0.4538 - accuracy: 0.8413 - val_loss: 0.4859 - val_accuracy: 0.8156\n",
      "Epoch 219/500\n",
      "712/712 [==============================] - 0s 147us/sample - loss: 0.4733 - accuracy: 0.8357 - val_loss: 0.4928 - val_accuracy: 0.8101\n",
      "Epoch 220/500\n",
      "712/712 [==============================] - 0s 145us/sample - loss: 0.4569 - accuracy: 0.8399 - val_loss: 0.4816 - val_accuracy: 0.8324\n",
      "Epoch 221/500\n",
      "712/712 [==============================] - 0s 143us/sample - loss: 0.4615 - accuracy: 0.8371 - val_loss: 0.4848 - val_accuracy: 0.8268\n",
      "Epoch 222/500\n",
      "712/712 [==============================] - 0s 153us/sample - loss: 0.4681 - accuracy: 0.8357 - val_loss: 0.4951 - val_accuracy: 0.8212\n",
      "Epoch 223/500\n",
      "712/712 [==============================] - 0s 141us/sample - loss: 0.4718 - accuracy: 0.8315 - val_loss: 0.4965 - val_accuracy: 0.8212\n",
      "Epoch 224/500\n",
      "712/712 [==============================] - 0s 137us/sample - loss: 0.4764 - accuracy: 0.8287 - val_loss: 0.4921 - val_accuracy: 0.8212\n",
      "Epoch 225/500\n",
      "712/712 [==============================] - 0s 141us/sample - loss: 0.4644 - accuracy: 0.8525 - val_loss: 0.4905 - val_accuracy: 0.7989\n",
      "Epoch 226/500\n",
      "712/712 [==============================] - 0s 145us/sample - loss: 0.4521 - accuracy: 0.8357 - val_loss: 0.4968 - val_accuracy: 0.8268\n",
      "Epoch 227/500\n",
      "712/712 [==============================] - 0s 179us/sample - loss: 0.4608 - accuracy: 0.8371 - val_loss: 0.4962 - val_accuracy: 0.8268\n",
      "Epoch 228/500\n",
      "712/712 [==============================] - 0s 143us/sample - loss: 0.4742 - accuracy: 0.8427 - val_loss: 0.4974 - val_accuracy: 0.8212\n",
      "Epoch 229/500\n",
      "712/712 [==============================] - 0s 141us/sample - loss: 0.4659 - accuracy: 0.8399 - val_loss: 0.4964 - val_accuracy: 0.8268\n",
      "Epoch 230/500\n",
      "712/712 [==============================] - 0s 156us/sample - loss: 0.4631 - accuracy: 0.8301 - val_loss: 0.4910 - val_accuracy: 0.8212\n",
      "Epoch 231/500\n",
      "712/712 [==============================] - 0s 153us/sample - loss: 0.4615 - accuracy: 0.8427 - val_loss: 0.4955 - val_accuracy: 0.8212\n",
      "Epoch 232/500\n",
      "712/712 [==============================] - 0s 153us/sample - loss: 0.4601 - accuracy: 0.8258 - val_loss: 0.4961 - val_accuracy: 0.8268\n",
      "Epoch 233/500\n",
      "712/712 [==============================] - 0s 153us/sample - loss: 0.4649 - accuracy: 0.8399 - val_loss: 0.4909 - val_accuracy: 0.8324\n",
      "Epoch 234/500\n",
      "712/712 [==============================] - 0s 152us/sample - loss: 0.4570 - accuracy: 0.8371 - val_loss: 0.4921 - val_accuracy: 0.8324\n",
      "Epoch 235/500\n",
      "712/712 [==============================] - 0s 152us/sample - loss: 0.4595 - accuracy: 0.8427 - val_loss: 0.4971 - val_accuracy: 0.8268\n",
      "Epoch 236/500\n",
      "712/712 [==============================] - 0s 145us/sample - loss: 0.4649 - accuracy: 0.8301 - val_loss: 0.4820 - val_accuracy: 0.8324\n",
      "Epoch 237/500\n",
      "712/712 [==============================] - 0s 143us/sample - loss: 0.4590 - accuracy: 0.8315 - val_loss: 0.4885 - val_accuracy: 0.8324\n",
      "Epoch 238/500\n",
      "712/712 [==============================] - 0s 140us/sample - loss: 0.4564 - accuracy: 0.8413 - val_loss: 0.4902 - val_accuracy: 0.8268\n",
      "Epoch 239/500\n",
      "712/712 [==============================] - 0s 145us/sample - loss: 0.4624 - accuracy: 0.8357 - val_loss: 0.4846 - val_accuracy: 0.8324\n",
      "Epoch 240/500\n",
      "712/712 [==============================] - 0s 141us/sample - loss: 0.4656 - accuracy: 0.8287 - val_loss: 0.5033 - val_accuracy: 0.8101\n",
      "Epoch 241/500\n",
      "712/712 [==============================] - 0s 132us/sample - loss: 0.4565 - accuracy: 0.8441 - val_loss: 0.4984 - val_accuracy: 0.8212\n",
      "Epoch 242/500\n",
      "712/712 [==============================] - 0s 129us/sample - loss: 0.4544 - accuracy: 0.8413 - val_loss: 0.4936 - val_accuracy: 0.8324\n",
      "Epoch 243/500\n",
      "712/712 [==============================] - 0s 134us/sample - loss: 0.4696 - accuracy: 0.8469 - val_loss: 0.4903 - val_accuracy: 0.8324\n",
      "Epoch 244/500\n",
      "712/712 [==============================] - 0s 135us/sample - loss: 0.4650 - accuracy: 0.8371 - val_loss: 0.5066 - val_accuracy: 0.8212\n",
      "Epoch 245/500\n",
      "712/712 [==============================] - 0s 136us/sample - loss: 0.4486 - accuracy: 0.8441 - val_loss: 0.4888 - val_accuracy: 0.8324\n",
      "Epoch 246/500\n",
      "712/712 [==============================] - 0s 135us/sample - loss: 0.4444 - accuracy: 0.8441 - val_loss: 0.4967 - val_accuracy: 0.8324\n",
      "Epoch 247/500\n",
      "712/712 [==============================] - 0s 143us/sample - loss: 0.4732 - accuracy: 0.8413 - val_loss: 0.5039 - val_accuracy: 0.8156\n",
      "Epoch 248/500\n",
      "712/712 [==============================] - 0s 134us/sample - loss: 0.4592 - accuracy: 0.8399 - val_loss: 0.4939 - val_accuracy: 0.8324\n",
      "Epoch 249/500\n",
      "712/712 [==============================] - 0s 142us/sample - loss: 0.4611 - accuracy: 0.8371 - val_loss: 0.4956 - val_accuracy: 0.8156\n",
      "Epoch 250/500\n",
      "712/712 [==============================] - 0s 133us/sample - loss: 0.4586 - accuracy: 0.8371 - val_loss: 0.4896 - val_accuracy: 0.8268\n",
      "Epoch 251/500\n",
      "712/712 [==============================] - 0s 147us/sample - loss: 0.4524 - accuracy: 0.8469 - val_loss: 0.4910 - val_accuracy: 0.8212\n",
      "Epoch 252/500\n",
      "712/712 [==============================] - 0s 139us/sample - loss: 0.4658 - accuracy: 0.8427 - val_loss: 0.4959 - val_accuracy: 0.8212\n",
      "Epoch 253/500\n",
      "712/712 [==============================] - 0s 141us/sample - loss: 0.4618 - accuracy: 0.8357 - val_loss: 0.4885 - val_accuracy: 0.8268\n",
      "Epoch 254/500\n",
      "712/712 [==============================] - 0s 136us/sample - loss: 0.4612 - accuracy: 0.8385 - val_loss: 0.4824 - val_accuracy: 0.8212\n",
      "Epoch 255/500\n",
      "712/712 [==============================] - 0s 131us/sample - loss: 0.4538 - accuracy: 0.8497 - val_loss: 0.4900 - val_accuracy: 0.8268\n",
      "Epoch 256/500\n",
      "712/712 [==============================] - 0s 137us/sample - loss: 0.4655 - accuracy: 0.8371 - val_loss: 0.4908 - val_accuracy: 0.8212\n",
      "Epoch 257/500\n",
      "712/712 [==============================] - 0s 140us/sample - loss: 0.4530 - accuracy: 0.8315 - val_loss: 0.5086 - val_accuracy: 0.8101\n",
      "Epoch 258/500\n",
      "712/712 [==============================] - 0s 138us/sample - loss: 0.4554 - accuracy: 0.8315 - val_loss: 0.4822 - val_accuracy: 0.8324\n",
      "Epoch 259/500\n",
      "712/712 [==============================] - 0s 139us/sample - loss: 0.4675 - accuracy: 0.8385 - val_loss: 0.4866 - val_accuracy: 0.8324\n",
      "Epoch 260/500\n",
      "712/712 [==============================] - 0s 132us/sample - loss: 0.4595 - accuracy: 0.8413 - val_loss: 0.4884 - val_accuracy: 0.8212\n",
      "Epoch 261/500\n",
      "712/712 [==============================] - 0s 137us/sample - loss: 0.4506 - accuracy: 0.8427 - val_loss: 0.4977 - val_accuracy: 0.8156\n",
      "Epoch 262/500\n",
      "712/712 [==============================] - 0s 133us/sample - loss: 0.4531 - accuracy: 0.8385 - val_loss: 0.4883 - val_accuracy: 0.8324\n",
      "Epoch 263/500\n",
      "712/712 [==============================] - 0s 137us/sample - loss: 0.4532 - accuracy: 0.8399 - val_loss: 0.4953 - val_accuracy: 0.8268\n",
      "Epoch 264/500\n",
      "712/712 [==============================] - 0s 136us/sample - loss: 0.4554 - accuracy: 0.8399 - val_loss: 0.4857 - val_accuracy: 0.8212\n",
      "Epoch 265/500\n",
      "712/712 [==============================] - 0s 144us/sample - loss: 0.4599 - accuracy: 0.8287 - val_loss: 0.4881 - val_accuracy: 0.8268\n",
      "Epoch 266/500\n",
      "712/712 [==============================] - 0s 141us/sample - loss: 0.4640 - accuracy: 0.8343 - val_loss: 0.4895 - val_accuracy: 0.8268\n",
      "Epoch 267/500\n",
      "712/712 [==============================] - 0s 137us/sample - loss: 0.4551 - accuracy: 0.8427 - val_loss: 0.4958 - val_accuracy: 0.8268\n",
      "Epoch 268/500\n",
      "712/712 [==============================] - 0s 138us/sample - loss: 0.4521 - accuracy: 0.8427 - val_loss: 0.4946 - val_accuracy: 0.8212\n",
      "Epoch 269/500\n",
      "712/712 [==============================] - 0s 140us/sample - loss: 0.4613 - accuracy: 0.8385 - val_loss: 0.4880 - val_accuracy: 0.8268\n",
      "Epoch 270/500\n",
      "712/712 [==============================] - 0s 145us/sample - loss: 0.4443 - accuracy: 0.8497 - val_loss: 0.5060 - val_accuracy: 0.8156\n",
      "Epoch 271/500\n",
      "712/712 [==============================] - 0s 168us/sample - loss: 0.4660 - accuracy: 0.8455 - val_loss: 0.5025 - val_accuracy: 0.8156\n",
      "Epoch 272/500\n",
      "712/712 [==============================] - 0s 137us/sample - loss: 0.4548 - accuracy: 0.8413 - val_loss: 0.4978 - val_accuracy: 0.8212\n",
      "Epoch 273/500\n",
      "712/712 [==============================] - 0s 141us/sample - loss: 0.4541 - accuracy: 0.8385 - val_loss: 0.4986 - val_accuracy: 0.8156\n",
      "Epoch 274/500\n",
      "712/712 [==============================] - 0s 132us/sample - loss: 0.4511 - accuracy: 0.8511 - val_loss: 0.4965 - val_accuracy: 0.8101\n",
      "Epoch 275/500\n",
      "712/712 [==============================] - 0s 136us/sample - loss: 0.4564 - accuracy: 0.8427 - val_loss: 0.4910 - val_accuracy: 0.8324\n",
      "Epoch 276/500\n",
      "712/712 [==============================] - 0s 137us/sample - loss: 0.4586 - accuracy: 0.8315 - val_loss: 0.4933 - val_accuracy: 0.8212\n",
      "Epoch 277/500\n",
      "712/712 [==============================] - 0s 132us/sample - loss: 0.4607 - accuracy: 0.8497 - val_loss: 0.4931 - val_accuracy: 0.8212\n",
      "Epoch 278/500\n",
      "712/712 [==============================] - 0s 203us/sample - loss: 0.4534 - accuracy: 0.8357 - val_loss: 0.4930 - val_accuracy: 0.8268\n",
      "Epoch 279/500\n",
      "712/712 [==============================] - 0s 147us/sample - loss: 0.4581 - accuracy: 0.8553 - val_loss: 0.4967 - val_accuracy: 0.8212\n",
      "Epoch 280/500\n",
      "712/712 [==============================] - 0s 140us/sample - loss: 0.4574 - accuracy: 0.8371 - val_loss: 0.4951 - val_accuracy: 0.8268\n",
      "Epoch 281/500\n",
      "712/712 [==============================] - 0s 136us/sample - loss: 0.4675 - accuracy: 0.8287 - val_loss: 0.4840 - val_accuracy: 0.8212\n",
      "Epoch 282/500\n",
      "712/712 [==============================] - 0s 146us/sample - loss: 0.4676 - accuracy: 0.8357 - val_loss: 0.4917 - val_accuracy: 0.8324\n",
      "Epoch 283/500\n",
      "712/712 [==============================] - 0s 139us/sample - loss: 0.4712 - accuracy: 0.8343 - val_loss: 0.4854 - val_accuracy: 0.8268\n",
      "Epoch 284/500\n",
      "712/712 [==============================] - 0s 247us/sample - loss: 0.4536 - accuracy: 0.8539 - val_loss: 0.4961 - val_accuracy: 0.8212\n",
      "Epoch 285/500\n",
      "712/712 [==============================] - 0s 160us/sample - loss: 0.4815 - accuracy: 0.8357 - val_loss: 0.4955 - val_accuracy: 0.8268\n",
      "Epoch 286/500\n",
      "712/712 [==============================] - 0s 148us/sample - loss: 0.4586 - accuracy: 0.8357 - val_loss: 0.4894 - val_accuracy: 0.8268\n",
      "Epoch 287/500\n",
      "712/712 [==============================] - 0s 141us/sample - loss: 0.4672 - accuracy: 0.8427 - val_loss: 0.4863 - val_accuracy: 0.8268\n",
      "Epoch 288/500\n",
      "712/712 [==============================] - 0s 142us/sample - loss: 0.4521 - accuracy: 0.8371 - val_loss: 0.4991 - val_accuracy: 0.8268\n",
      "Epoch 289/500\n",
      "712/712 [==============================] - 0s 138us/sample - loss: 0.4600 - accuracy: 0.8511 - val_loss: 0.5015 - val_accuracy: 0.8268\n",
      "Epoch 290/500\n",
      "712/712 [==============================] - 0s 138us/sample - loss: 0.4443 - accuracy: 0.8413 - val_loss: 0.4897 - val_accuracy: 0.8212\n",
      "Epoch 291/500\n",
      "712/712 [==============================] - 0s 135us/sample - loss: 0.4547 - accuracy: 0.8441 - val_loss: 0.4912 - val_accuracy: 0.8101\n",
      "Epoch 292/500\n",
      "712/712 [==============================] - 0s 136us/sample - loss: 0.4713 - accuracy: 0.8385 - val_loss: 0.4805 - val_accuracy: 0.8268\n",
      "Epoch 293/500\n",
      "712/712 [==============================] - 0s 135us/sample - loss: 0.4495 - accuracy: 0.8553 - val_loss: 0.4899 - val_accuracy: 0.8212\n",
      "Epoch 294/500\n",
      "712/712 [==============================] - 0s 135us/sample - loss: 0.4646 - accuracy: 0.8385 - val_loss: 0.4963 - val_accuracy: 0.8101\n",
      "Epoch 295/500\n",
      "712/712 [==============================] - 0s 135us/sample - loss: 0.4560 - accuracy: 0.8539 - val_loss: 0.4953 - val_accuracy: 0.8212\n",
      "Epoch 296/500\n",
      "712/712 [==============================] - 0s 138us/sample - loss: 0.4540 - accuracy: 0.8385 - val_loss: 0.4969 - val_accuracy: 0.8268\n",
      "Epoch 297/500\n",
      "712/712 [==============================] - 0s 141us/sample - loss: 0.4486 - accuracy: 0.8441 - val_loss: 0.4970 - val_accuracy: 0.8268\n",
      "Epoch 298/500\n",
      "712/712 [==============================] - 0s 142us/sample - loss: 0.4497 - accuracy: 0.8469 - val_loss: 0.4906 - val_accuracy: 0.8268\n",
      "Epoch 299/500\n",
      "712/712 [==============================] - 0s 141us/sample - loss: 0.4490 - accuracy: 0.8483 - val_loss: 0.4942 - val_accuracy: 0.8268\n",
      "Epoch 300/500\n",
      "712/712 [==============================] - 0s 140us/sample - loss: 0.4597 - accuracy: 0.8315 - val_loss: 0.4971 - val_accuracy: 0.8212\n",
      "Epoch 301/500\n",
      "712/712 [==============================] - 0s 139us/sample - loss: 0.4550 - accuracy: 0.8497 - val_loss: 0.4942 - val_accuracy: 0.8324\n",
      "Epoch 302/500\n",
      "712/712 [==============================] - 0s 130us/sample - loss: 0.4513 - accuracy: 0.8553 - val_loss: 0.5032 - val_accuracy: 0.8101\n",
      "Epoch 303/500\n",
      "712/712 [==============================] - 0s 136us/sample - loss: 0.4492 - accuracy: 0.8469 - val_loss: 0.4890 - val_accuracy: 0.8268\n",
      "Epoch 304/500\n",
      "712/712 [==============================] - 0s 186us/sample - loss: 0.4625 - accuracy: 0.8272 - val_loss: 0.4980 - val_accuracy: 0.8156\n",
      "Epoch 305/500\n",
      "712/712 [==============================] - 0s 149us/sample - loss: 0.4584 - accuracy: 0.8525 - val_loss: 0.4894 - val_accuracy: 0.8268\n",
      "Epoch 306/500\n",
      "712/712 [==============================] - 0s 132us/sample - loss: 0.4533 - accuracy: 0.8230 - val_loss: 0.4898 - val_accuracy: 0.8268\n",
      "Epoch 307/500\n",
      "712/712 [==============================] - 0s 131us/sample - loss: 0.4642 - accuracy: 0.8399 - val_loss: 0.4973 - val_accuracy: 0.8156\n",
      "Epoch 308/500\n",
      "712/712 [==============================] - 0s 150us/sample - loss: 0.4569 - accuracy: 0.8441 - val_loss: 0.4883 - val_accuracy: 0.8268\n",
      "Epoch 309/500\n",
      "712/712 [==============================] - 0s 131us/sample - loss: 0.4410 - accuracy: 0.8441 - val_loss: 0.4789 - val_accuracy: 0.8380\n",
      "Epoch 310/500\n",
      "712/712 [==============================] - 0s 134us/sample - loss: 0.4623 - accuracy: 0.8413 - val_loss: 0.4933 - val_accuracy: 0.8156\n",
      "Epoch 311/500\n",
      "712/712 [==============================] - 0s 138us/sample - loss: 0.4545 - accuracy: 0.8483 - val_loss: 0.4822 - val_accuracy: 0.8380\n",
      "Epoch 312/500\n",
      "712/712 [==============================] - 0s 190us/sample - loss: 0.4569 - accuracy: 0.8399 - val_loss: 0.4855 - val_accuracy: 0.8212\n",
      "Epoch 313/500\n",
      "712/712 [==============================] - 0s 192us/sample - loss: 0.4600 - accuracy: 0.8427 - val_loss: 0.4990 - val_accuracy: 0.8156\n",
      "Epoch 314/500\n",
      "712/712 [==============================] - 0s 193us/sample - loss: 0.4504 - accuracy: 0.8483 - val_loss: 0.4903 - val_accuracy: 0.8212\n",
      "Epoch 315/500\n",
      "712/712 [==============================] - 0s 196us/sample - loss: 0.4596 - accuracy: 0.8357 - val_loss: 0.4872 - val_accuracy: 0.8268\n",
      "Epoch 316/500\n",
      "712/712 [==============================] - 0s 138us/sample - loss: 0.4732 - accuracy: 0.8469 - val_loss: 0.4918 - val_accuracy: 0.8212\n",
      "Epoch 317/500\n",
      "712/712 [==============================] - 0s 159us/sample - loss: 0.4512 - accuracy: 0.8385 - val_loss: 0.4961 - val_accuracy: 0.8268\n",
      "Epoch 318/500\n",
      "712/712 [==============================] - 0s 133us/sample - loss: 0.4636 - accuracy: 0.8511 - val_loss: 0.4827 - val_accuracy: 0.8324\n",
      "Epoch 319/500\n",
      "712/712 [==============================] - 0s 131us/sample - loss: 0.4613 - accuracy: 0.8329 - val_loss: 0.4928 - val_accuracy: 0.8268\n",
      "Epoch 320/500\n",
      "712/712 [==============================] - 0s 132us/sample - loss: 0.4541 - accuracy: 0.8357 - val_loss: 0.4915 - val_accuracy: 0.8268\n",
      "Epoch 321/500\n",
      "712/712 [==============================] - 0s 128us/sample - loss: 0.4580 - accuracy: 0.8357 - val_loss: 0.4905 - val_accuracy: 0.8268\n",
      "Epoch 322/500\n",
      "712/712 [==============================] - 0s 131us/sample - loss: 0.4571 - accuracy: 0.8483 - val_loss: 0.4914 - val_accuracy: 0.8268\n",
      "Epoch 323/500\n",
      "712/712 [==============================] - 0s 129us/sample - loss: 0.4500 - accuracy: 0.8343 - val_loss: 0.4894 - val_accuracy: 0.8212\n",
      "Epoch 324/500\n",
      "712/712 [==============================] - 0s 127us/sample - loss: 0.4563 - accuracy: 0.8413 - val_loss: 0.4924 - val_accuracy: 0.8156\n",
      "Epoch 325/500\n",
      "712/712 [==============================] - 0s 134us/sample - loss: 0.4573 - accuracy: 0.8399 - val_loss: 0.4911 - val_accuracy: 0.8212\n",
      "Epoch 326/500\n",
      "712/712 [==============================] - 0s 139us/sample - loss: 0.4477 - accuracy: 0.8357 - val_loss: 0.4890 - val_accuracy: 0.8324\n",
      "Epoch 327/500\n",
      "712/712 [==============================] - 0s 144us/sample - loss: 0.4484 - accuracy: 0.8511 - val_loss: 0.4935 - val_accuracy: 0.8212\n",
      "Epoch 328/500\n",
      "712/712 [==============================] - 0s 138us/sample - loss: 0.4518 - accuracy: 0.8357 - val_loss: 0.4903 - val_accuracy: 0.8324\n",
      "Epoch 329/500\n",
      "712/712 [==============================] - 0s 136us/sample - loss: 0.4630 - accuracy: 0.8301 - val_loss: 0.4837 - val_accuracy: 0.8324\n",
      "Epoch 330/500\n",
      "712/712 [==============================] - 0s 136us/sample - loss: 0.4431 - accuracy: 0.8385 - val_loss: 0.4835 - val_accuracy: 0.8380\n",
      "Epoch 331/500\n",
      "712/712 [==============================] - 0s 133us/sample - loss: 0.4597 - accuracy: 0.8413 - val_loss: 0.4947 - val_accuracy: 0.8101\n",
      "Epoch 332/500\n",
      "712/712 [==============================] - 0s 148us/sample - loss: 0.4511 - accuracy: 0.8441 - val_loss: 0.4796 - val_accuracy: 0.8324\n",
      "Epoch 333/500\n",
      "712/712 [==============================] - 0s 138us/sample - loss: 0.4506 - accuracy: 0.8399 - val_loss: 0.5007 - val_accuracy: 0.8212\n",
      "Epoch 334/500\n",
      "712/712 [==============================] - 0s 129us/sample - loss: 0.4457 - accuracy: 0.8399 - val_loss: 0.4986 - val_accuracy: 0.8156\n",
      "Epoch 335/500\n",
      "712/712 [==============================] - 0s 147us/sample - loss: 0.4589 - accuracy: 0.8469 - val_loss: 0.4893 - val_accuracy: 0.8156\n",
      "Epoch 336/500\n",
      "712/712 [==============================] - 0s 151us/sample - loss: 0.4571 - accuracy: 0.8511 - val_loss: 0.4924 - val_accuracy: 0.8268\n",
      "Epoch 337/500\n",
      "712/712 [==============================] - 0s 151us/sample - loss: 0.4612 - accuracy: 0.8357 - val_loss: 0.4955 - val_accuracy: 0.8268\n",
      "Epoch 338/500\n",
      "712/712 [==============================] - 0s 141us/sample - loss: 0.4609 - accuracy: 0.8413 - val_loss: 0.4985 - val_accuracy: 0.8324\n",
      "Epoch 339/500\n",
      "712/712 [==============================] - 0s 151us/sample - loss: 0.4593 - accuracy: 0.8272 - val_loss: 0.4820 - val_accuracy: 0.8268\n",
      "Epoch 340/500\n",
      "712/712 [==============================] - 0s 154us/sample - loss: 0.4621 - accuracy: 0.8301 - val_loss: 0.4802 - val_accuracy: 0.8268\n",
      "Epoch 341/500\n",
      "712/712 [==============================] - 0s 149us/sample - loss: 0.4491 - accuracy: 0.8399 - val_loss: 0.5043 - val_accuracy: 0.8156\n",
      "Epoch 342/500\n",
      "712/712 [==============================] - 0s 141us/sample - loss: 0.4711 - accuracy: 0.8329 - val_loss: 0.4883 - val_accuracy: 0.8268\n",
      "Epoch 343/500\n",
      "712/712 [==============================] - 0s 141us/sample - loss: 0.4595 - accuracy: 0.8385 - val_loss: 0.4900 - val_accuracy: 0.8268\n",
      "Epoch 344/500\n",
      "712/712 [==============================] - 0s 137us/sample - loss: 0.4531 - accuracy: 0.8483 - val_loss: 0.4966 - val_accuracy: 0.8212\n",
      "Epoch 345/500\n",
      "712/712 [==============================] - 0s 140us/sample - loss: 0.4634 - accuracy: 0.8399 - val_loss: 0.4791 - val_accuracy: 0.8324\n",
      "Epoch 346/500\n",
      "712/712 [==============================] - 0s 137us/sample - loss: 0.4647 - accuracy: 0.8413 - val_loss: 0.4912 - val_accuracy: 0.8212\n",
      "Epoch 347/500\n",
      "712/712 [==============================] - 0s 143us/sample - loss: 0.4463 - accuracy: 0.8525 - val_loss: 0.4946 - val_accuracy: 0.8212\n",
      "Epoch 348/500\n",
      "712/712 [==============================] - 0s 137us/sample - loss: 0.4702 - accuracy: 0.8244 - val_loss: 0.4930 - val_accuracy: 0.8101\n",
      "Epoch 349/500\n",
      "712/712 [==============================] - 0s 141us/sample - loss: 0.4623 - accuracy: 0.8174 - val_loss: 0.4941 - val_accuracy: 0.8212\n",
      "Epoch 350/500\n",
      "712/712 [==============================] - 0s 135us/sample - loss: 0.4662 - accuracy: 0.8525 - val_loss: 0.4825 - val_accuracy: 0.8212\n",
      "Epoch 351/500\n",
      "712/712 [==============================] - 0s 145us/sample - loss: 0.4490 - accuracy: 0.8413 - val_loss: 0.4887 - val_accuracy: 0.8156\n",
      "Epoch 352/500\n",
      "712/712 [==============================] - 0s 141us/sample - loss: 0.4598 - accuracy: 0.8357 - val_loss: 0.4925 - val_accuracy: 0.8212\n",
      "Epoch 353/500\n",
      "712/712 [==============================] - 0s 137us/sample - loss: 0.4583 - accuracy: 0.8343 - val_loss: 0.4898 - val_accuracy: 0.8268\n",
      "Epoch 354/500\n",
      "712/712 [==============================] - 0s 137us/sample - loss: 0.4505 - accuracy: 0.8329 - val_loss: 0.4899 - val_accuracy: 0.8324\n",
      "Epoch 355/500\n",
      "712/712 [==============================] - 0s 141us/sample - loss: 0.4731 - accuracy: 0.8287 - val_loss: 0.5069 - val_accuracy: 0.8156\n",
      "Epoch 356/500\n",
      "712/712 [==============================] - 0s 143us/sample - loss: 0.4485 - accuracy: 0.8357 - val_loss: 0.4894 - val_accuracy: 0.8268\n",
      "Epoch 357/500\n",
      "712/712 [==============================] - 0s 155us/sample - loss: 0.4458 - accuracy: 0.8399 - val_loss: 0.4852 - val_accuracy: 0.8268\n",
      "Epoch 358/500\n",
      "712/712 [==============================] - 0s 153us/sample - loss: 0.4702 - accuracy: 0.8258 - val_loss: 0.5233 - val_accuracy: 0.8045\n",
      "Epoch 359/500\n",
      "712/712 [==============================] - 0s 142us/sample - loss: 0.4399 - accuracy: 0.8343 - val_loss: 0.4962 - val_accuracy: 0.8156\n",
      "Epoch 360/500\n",
      "712/712 [==============================] - 0s 140us/sample - loss: 0.4572 - accuracy: 0.8343 - val_loss: 0.4852 - val_accuracy: 0.8380\n",
      "Epoch 361/500\n",
      "712/712 [==============================] - 0s 141us/sample - loss: 0.4574 - accuracy: 0.8385 - val_loss: 0.4892 - val_accuracy: 0.8268\n",
      "Epoch 362/500\n",
      "712/712 [==============================] - 0s 139us/sample - loss: 0.4630 - accuracy: 0.8483 - val_loss: 0.4974 - val_accuracy: 0.8101\n",
      "Epoch 363/500\n",
      "712/712 [==============================] - 0s 139us/sample - loss: 0.4528 - accuracy: 0.8413 - val_loss: 0.5000 - val_accuracy: 0.8212\n",
      "Epoch 364/500\n",
      "712/712 [==============================] - 0s 139us/sample - loss: 0.4435 - accuracy: 0.8427 - val_loss: 0.5003 - val_accuracy: 0.8101\n",
      "Epoch 365/500\n",
      "712/712 [==============================] - 0s 138us/sample - loss: 0.4495 - accuracy: 0.8483 - val_loss: 0.5012 - val_accuracy: 0.8101\n",
      "Epoch 366/500\n",
      "712/712 [==============================] - 0s 138us/sample - loss: 0.4569 - accuracy: 0.8399 - val_loss: 0.4949 - val_accuracy: 0.8268\n",
      "Epoch 367/500\n",
      "712/712 [==============================] - 0s 137us/sample - loss: 0.4388 - accuracy: 0.8413 - val_loss: 0.4950 - val_accuracy: 0.8268\n",
      "Epoch 368/500\n",
      "712/712 [==============================] - 0s 132us/sample - loss: 0.4566 - accuracy: 0.8357 - val_loss: 0.5040 - val_accuracy: 0.8156\n",
      "Epoch 369/500\n",
      "712/712 [==============================] - 0s 137us/sample - loss: 0.4467 - accuracy: 0.8427 - val_loss: 0.4935 - val_accuracy: 0.8212\n",
      "Epoch 370/500\n",
      "712/712 [==============================] - 0s 138us/sample - loss: 0.4471 - accuracy: 0.8385 - val_loss: 0.4977 - val_accuracy: 0.8156\n",
      "Epoch 371/500\n",
      "712/712 [==============================] - 0s 141us/sample - loss: 0.4569 - accuracy: 0.8441 - val_loss: 0.5164 - val_accuracy: 0.8156\n",
      "Epoch 372/500\n",
      "712/712 [==============================] - 0s 130us/sample - loss: 0.4840 - accuracy: 0.8202 - val_loss: 0.4927 - val_accuracy: 0.8212\n",
      "Epoch 373/500\n",
      "712/712 [==============================] - 0s 132us/sample - loss: 0.4548 - accuracy: 0.8371 - val_loss: 0.4931 - val_accuracy: 0.8156\n",
      "Epoch 374/500\n",
      "712/712 [==============================] - 0s 146us/sample - loss: 0.4488 - accuracy: 0.8483 - val_loss: 0.4866 - val_accuracy: 0.8212\n",
      "Epoch 375/500\n",
      "712/712 [==============================] - 0s 146us/sample - loss: 0.4511 - accuracy: 0.8413 - val_loss: 0.4929 - val_accuracy: 0.8268\n",
      "Epoch 376/500\n",
      "712/712 [==============================] - 0s 127us/sample - loss: 0.4516 - accuracy: 0.8371 - val_loss: 0.4933 - val_accuracy: 0.8212\n",
      "Epoch 377/500\n",
      "712/712 [==============================] - 0s 135us/sample - loss: 0.4606 - accuracy: 0.8329 - val_loss: 0.4899 - val_accuracy: 0.8268\n",
      "Epoch 378/500\n",
      "712/712 [==============================] - 0s 132us/sample - loss: 0.4615 - accuracy: 0.8399 - val_loss: 0.4812 - val_accuracy: 0.8324\n",
      "Epoch 379/500\n",
      "712/712 [==============================] - 0s 131us/sample - loss: 0.4484 - accuracy: 0.8497 - val_loss: 0.4851 - val_accuracy: 0.8268\n",
      "Epoch 380/500\n",
      "712/712 [==============================] - 0s 131us/sample - loss: 0.4434 - accuracy: 0.8441 - val_loss: 0.5021 - val_accuracy: 0.8212\n",
      "Epoch 381/500\n",
      "712/712 [==============================] - 0s 140us/sample - loss: 0.4522 - accuracy: 0.8287 - val_loss: 0.5113 - val_accuracy: 0.8045\n",
      "Epoch 382/500\n",
      "712/712 [==============================] - 0s 130us/sample - loss: 0.4620 - accuracy: 0.8258 - val_loss: 0.4902 - val_accuracy: 0.8268\n",
      "Epoch 383/500\n",
      "712/712 [==============================] - 0s 146us/sample - loss: 0.4597 - accuracy: 0.8441 - val_loss: 0.4877 - val_accuracy: 0.8156\n",
      "Epoch 384/500\n",
      "712/712 [==============================] - 0s 140us/sample - loss: 0.4611 - accuracy: 0.8287 - val_loss: 0.4915 - val_accuracy: 0.8212\n",
      "Epoch 385/500\n",
      "712/712 [==============================] - 0s 134us/sample - loss: 0.4505 - accuracy: 0.8357 - val_loss: 0.4899 - val_accuracy: 0.8212\n",
      "Epoch 386/500\n",
      "712/712 [==============================] - 0s 136us/sample - loss: 0.4413 - accuracy: 0.8441 - val_loss: 0.4928 - val_accuracy: 0.8156\n",
      "Epoch 387/500\n",
      "712/712 [==============================] - 0s 128us/sample - loss: 0.4295 - accuracy: 0.8525 - val_loss: 0.4869 - val_accuracy: 0.8324\n",
      "Epoch 388/500\n",
      "712/712 [==============================] - 0s 126us/sample - loss: 0.4408 - accuracy: 0.8427 - val_loss: 0.4978 - val_accuracy: 0.8268\n",
      "Epoch 389/500\n",
      "712/712 [==============================] - 0s 129us/sample - loss: 0.4476 - accuracy: 0.8202 - val_loss: 0.4848 - val_accuracy: 0.8212\n",
      "Epoch 390/500\n",
      "712/712 [==============================] - 0s 129us/sample - loss: 0.4429 - accuracy: 0.8427 - val_loss: 0.4928 - val_accuracy: 0.8156\n",
      "Epoch 391/500\n",
      "712/712 [==============================] - 0s 126us/sample - loss: 0.4471 - accuracy: 0.8455 - val_loss: 0.4908 - val_accuracy: 0.8324\n",
      "Epoch 392/500\n",
      "712/712 [==============================] - 0s 131us/sample - loss: 0.4572 - accuracy: 0.8455 - val_loss: 0.4868 - val_accuracy: 0.8324\n",
      "Epoch 393/500\n",
      "712/712 [==============================] - 0s 135us/sample - loss: 0.4645 - accuracy: 0.8216 - val_loss: 0.4750 - val_accuracy: 0.8212\n",
      "Epoch 394/500\n",
      "712/712 [==============================] - 0s 132us/sample - loss: 0.4562 - accuracy: 0.8525 - val_loss: 0.4895 - val_accuracy: 0.8156\n",
      "Epoch 395/500\n",
      "712/712 [==============================] - 0s 129us/sample - loss: 0.4533 - accuracy: 0.8497 - val_loss: 0.4910 - val_accuracy: 0.8156\n",
      "Epoch 396/500\n",
      "712/712 [==============================] - 0s 137us/sample - loss: 0.4554 - accuracy: 0.8329 - val_loss: 0.4938 - val_accuracy: 0.8212\n",
      "Epoch 397/500\n",
      "712/712 [==============================] - 0s 143us/sample - loss: 0.4369 - accuracy: 0.8455 - val_loss: 0.4898 - val_accuracy: 0.8324\n",
      "Epoch 398/500\n",
      "712/712 [==============================] - 0s 138us/sample - loss: 0.4475 - accuracy: 0.8399 - val_loss: 0.4844 - val_accuracy: 0.8156\n",
      "Epoch 399/500\n",
      "712/712 [==============================] - 0s 139us/sample - loss: 0.4503 - accuracy: 0.8469 - val_loss: 0.4951 - val_accuracy: 0.8268\n",
      "Epoch 400/500\n",
      "712/712 [==============================] - 0s 136us/sample - loss: 0.4567 - accuracy: 0.8427 - val_loss: 0.5007 - val_accuracy: 0.8212\n",
      "Epoch 401/500\n",
      "712/712 [==============================] - 0s 128us/sample - loss: 0.4440 - accuracy: 0.8455 - val_loss: 0.4946 - val_accuracy: 0.8268\n",
      "Epoch 402/500\n",
      "712/712 [==============================] - 0s 132us/sample - loss: 0.4471 - accuracy: 0.8385 - val_loss: 0.4948 - val_accuracy: 0.8156\n",
      "Epoch 403/500\n",
      "712/712 [==============================] - 0s 128us/sample - loss: 0.4550 - accuracy: 0.8343 - val_loss: 0.4896 - val_accuracy: 0.8212\n",
      "Epoch 404/500\n",
      "712/712 [==============================] - 0s 134us/sample - loss: 0.4674 - accuracy: 0.8244 - val_loss: 0.4886 - val_accuracy: 0.8212\n",
      "Epoch 405/500\n",
      "712/712 [==============================] - 0s 143us/sample - loss: 0.4576 - accuracy: 0.8427 - val_loss: 0.4767 - val_accuracy: 0.8268\n",
      "Epoch 406/500\n",
      "712/712 [==============================] - 0s 157us/sample - loss: 0.4543 - accuracy: 0.8427 - val_loss: 0.4889 - val_accuracy: 0.8324\n",
      "Epoch 407/500\n",
      "712/712 [==============================] - 0s 140us/sample - loss: 0.4529 - accuracy: 0.8371 - val_loss: 0.5073 - val_accuracy: 0.8101\n",
      "Epoch 408/500\n",
      "712/712 [==============================] - 0s 153us/sample - loss: 0.4513 - accuracy: 0.8357 - val_loss: 0.4897 - val_accuracy: 0.8268\n",
      "Epoch 409/500\n",
      "712/712 [==============================] - 0s 137us/sample - loss: 0.4494 - accuracy: 0.8441 - val_loss: 0.4846 - val_accuracy: 0.8212\n",
      "Epoch 410/500\n",
      "712/712 [==============================] - 0s 141us/sample - loss: 0.4658 - accuracy: 0.8329 - val_loss: 0.4876 - val_accuracy: 0.8101\n",
      "Epoch 411/500\n",
      "712/712 [==============================] - 0s 137us/sample - loss: 0.4546 - accuracy: 0.8230 - val_loss: 0.4851 - val_accuracy: 0.8156\n",
      "Epoch 412/500\n",
      "712/712 [==============================] - 0s 149us/sample - loss: 0.4568 - accuracy: 0.8343 - val_loss: 0.4764 - val_accuracy: 0.8324\n",
      "Epoch 413/500\n",
      "712/712 [==============================] - 0s 198us/sample - loss: 0.4542 - accuracy: 0.8343 - val_loss: 0.4886 - val_accuracy: 0.8101\n",
      "Epoch 414/500\n",
      "712/712 [==============================] - 0s 139us/sample - loss: 0.4379 - accuracy: 0.8511 - val_loss: 0.5056 - val_accuracy: 0.8156\n",
      "Epoch 415/500\n",
      "712/712 [==============================] - 0s 130us/sample - loss: 0.4569 - accuracy: 0.8455 - val_loss: 0.4973 - val_accuracy: 0.8156\n",
      "Epoch 416/500\n",
      "712/712 [==============================] - 0s 131us/sample - loss: 0.4494 - accuracy: 0.8385 - val_loss: 0.4961 - val_accuracy: 0.8268\n",
      "Epoch 417/500\n",
      "712/712 [==============================] - 0s 150us/sample - loss: 0.4590 - accuracy: 0.8329 - val_loss: 0.5012 - val_accuracy: 0.8101\n",
      "Epoch 418/500\n",
      "712/712 [==============================] - 0s 151us/sample - loss: 0.4536 - accuracy: 0.8301 - val_loss: 0.4895 - val_accuracy: 0.8101\n",
      "Epoch 419/500\n",
      "712/712 [==============================] - 0s 138us/sample - loss: 0.4647 - accuracy: 0.8272 - val_loss: 0.4958 - val_accuracy: 0.8212\n",
      "Epoch 420/500\n",
      "712/712 [==============================] - 0s 130us/sample - loss: 0.4531 - accuracy: 0.8385 - val_loss: 0.4990 - val_accuracy: 0.8156\n",
      "Epoch 421/500\n",
      "712/712 [==============================] - 0s 238us/sample - loss: 0.4507 - accuracy: 0.8371 - val_loss: 0.4929 - val_accuracy: 0.8156\n",
      "Epoch 422/500\n",
      "712/712 [==============================] - 0s 225us/sample - loss: 0.4609 - accuracy: 0.8455 - val_loss: 0.4993 - val_accuracy: 0.8101\n",
      "Epoch 423/500\n",
      "712/712 [==============================] - 0s 210us/sample - loss: 0.4448 - accuracy: 0.8441 - val_loss: 0.5030 - val_accuracy: 0.8101\n",
      "Epoch 424/500\n",
      "712/712 [==============================] - 0s 139us/sample - loss: 0.4549 - accuracy: 0.8511 - val_loss: 0.4834 - val_accuracy: 0.8212\n",
      "Epoch 425/500\n",
      "712/712 [==============================] - 0s 147us/sample - loss: 0.4523 - accuracy: 0.8343 - val_loss: 0.4828 - val_accuracy: 0.8156\n",
      "Epoch 426/500\n",
      "712/712 [==============================] - 0s 144us/sample - loss: 0.4529 - accuracy: 0.8469 - val_loss: 0.5050 - val_accuracy: 0.8156\n",
      "Epoch 427/500\n",
      "712/712 [==============================] - 0s 144us/sample - loss: 0.4524 - accuracy: 0.8469 - val_loss: 0.4876 - val_accuracy: 0.8268\n",
      "Epoch 428/500\n",
      "712/712 [==============================] - 0s 145us/sample - loss: 0.4545 - accuracy: 0.8399 - val_loss: 0.4841 - val_accuracy: 0.8156\n",
      "Epoch 429/500\n",
      "712/712 [==============================] - 0s 145us/sample - loss: 0.4640 - accuracy: 0.8399 - val_loss: 0.4733 - val_accuracy: 0.8324\n",
      "Epoch 430/500\n",
      "712/712 [==============================] - 0s 148us/sample - loss: 0.4463 - accuracy: 0.8469 - val_loss: 0.4875 - val_accuracy: 0.8156\n",
      "Epoch 431/500\n",
      "712/712 [==============================] - 0s 133us/sample - loss: 0.4458 - accuracy: 0.8329 - val_loss: 0.4800 - val_accuracy: 0.8324\n",
      "Epoch 432/500\n",
      "712/712 [==============================] - 0s 136us/sample - loss: 0.4399 - accuracy: 0.8371 - val_loss: 0.4909 - val_accuracy: 0.8045\n",
      "Epoch 433/500\n",
      "712/712 [==============================] - 0s 146us/sample - loss: 0.4525 - accuracy: 0.8315 - val_loss: 0.4870 - val_accuracy: 0.8268\n",
      "Epoch 434/500\n",
      "712/712 [==============================] - 0s 144us/sample - loss: 0.4400 - accuracy: 0.8469 - val_loss: 0.4894 - val_accuracy: 0.8156\n",
      "Epoch 435/500\n",
      "712/712 [==============================] - 0s 140us/sample - loss: 0.4453 - accuracy: 0.8357 - val_loss: 0.4881 - val_accuracy: 0.8156\n",
      "Epoch 436/500\n",
      "712/712 [==============================] - 0s 145us/sample - loss: 0.4630 - accuracy: 0.8272 - val_loss: 0.4935 - val_accuracy: 0.8212\n",
      "Epoch 437/500\n",
      "712/712 [==============================] - 0s 166us/sample - loss: 0.4518 - accuracy: 0.8371 - val_loss: 0.4993 - val_accuracy: 0.8156\n",
      "Epoch 438/500\n",
      "712/712 [==============================] - 0s 150us/sample - loss: 0.4526 - accuracy: 0.8371 - val_loss: 0.4874 - val_accuracy: 0.8324\n",
      "Epoch 439/500\n",
      "712/712 [==============================] - 0s 146us/sample - loss: 0.4423 - accuracy: 0.8244 - val_loss: 0.4893 - val_accuracy: 0.8101\n",
      "Epoch 440/500\n",
      "712/712 [==============================] - 0s 140us/sample - loss: 0.4404 - accuracy: 0.8483 - val_loss: 0.4957 - val_accuracy: 0.8156\n",
      "Epoch 441/500\n",
      "712/712 [==============================] - 0s 146us/sample - loss: 0.4576 - accuracy: 0.8371 - val_loss: 0.4861 - val_accuracy: 0.8268\n",
      "Epoch 442/500\n",
      "712/712 [==============================] - 0s 138us/sample - loss: 0.4472 - accuracy: 0.8343 - val_loss: 0.4935 - val_accuracy: 0.8212\n",
      "Epoch 443/500\n",
      "712/712 [==============================] - 0s 135us/sample - loss: 0.4579 - accuracy: 0.8385 - val_loss: 0.4934 - val_accuracy: 0.8268\n",
      "Epoch 444/500\n",
      "712/712 [==============================] - 0s 142us/sample - loss: 0.4608 - accuracy: 0.8315 - val_loss: 0.4835 - val_accuracy: 0.8380\n",
      "Epoch 445/500\n",
      "712/712 [==============================] - 0s 146us/sample - loss: 0.4498 - accuracy: 0.8385 - val_loss: 0.4951 - val_accuracy: 0.8045\n",
      "Epoch 446/500\n",
      "712/712 [==============================] - 0s 137us/sample - loss: 0.4419 - accuracy: 0.8511 - val_loss: 0.4968 - val_accuracy: 0.8212\n",
      "Epoch 447/500\n",
      "712/712 [==============================] - 0s 132us/sample - loss: 0.4587 - accuracy: 0.8343 - val_loss: 0.4923 - val_accuracy: 0.8156\n",
      "Epoch 448/500\n",
      "712/712 [==============================] - 0s 126us/sample - loss: 0.4445 - accuracy: 0.8385 - val_loss: 0.4932 - val_accuracy: 0.8156\n",
      "Epoch 449/500\n",
      "712/712 [==============================] - 0s 131us/sample - loss: 0.4533 - accuracy: 0.8399 - val_loss: 0.4860 - val_accuracy: 0.8156\n",
      "Epoch 450/500\n",
      "712/712 [==============================] - 0s 130us/sample - loss: 0.4510 - accuracy: 0.8427 - val_loss: 0.4904 - val_accuracy: 0.8212\n",
      "Epoch 451/500\n",
      "712/712 [==============================] - 0s 131us/sample - loss: 0.4472 - accuracy: 0.8469 - val_loss: 0.4881 - val_accuracy: 0.8268\n",
      "Epoch 452/500\n",
      "712/712 [==============================] - 0s 145us/sample - loss: 0.4571 - accuracy: 0.8371 - val_loss: 0.4913 - val_accuracy: 0.8324\n",
      "Epoch 453/500\n",
      "712/712 [==============================] - 0s 139us/sample - loss: 0.4392 - accuracy: 0.8483 - val_loss: 0.5065 - val_accuracy: 0.8045\n",
      "Epoch 454/500\n",
      "712/712 [==============================] - 0s 140us/sample - loss: 0.4487 - accuracy: 0.8427 - val_loss: 0.5008 - val_accuracy: 0.8324\n",
      "Epoch 455/500\n",
      "712/712 [==============================] - 0s 146us/sample - loss: 0.4432 - accuracy: 0.8455 - val_loss: 0.4959 - val_accuracy: 0.8212\n",
      "Epoch 456/500\n",
      "712/712 [==============================] - 0s 133us/sample - loss: 0.4594 - accuracy: 0.8357 - val_loss: 0.4860 - val_accuracy: 0.8324\n",
      "Epoch 457/500\n",
      "712/712 [==============================] - 0s 137us/sample - loss: 0.4438 - accuracy: 0.8441 - val_loss: 0.4959 - val_accuracy: 0.8045\n",
      "Epoch 458/500\n",
      "712/712 [==============================] - 0s 140us/sample - loss: 0.4472 - accuracy: 0.8427 - val_loss: 0.4836 - val_accuracy: 0.8156\n",
      "Epoch 459/500\n",
      "712/712 [==============================] - 0s 148us/sample - loss: 0.4535 - accuracy: 0.8483 - val_loss: 0.5000 - val_accuracy: 0.8212\n",
      "Epoch 460/500\n",
      "712/712 [==============================] - 0s 155us/sample - loss: 0.4358 - accuracy: 0.8441 - val_loss: 0.5007 - val_accuracy: 0.8268\n",
      "Epoch 461/500\n",
      "712/712 [==============================] - 0s 143us/sample - loss: 0.4424 - accuracy: 0.8413 - val_loss: 0.4958 - val_accuracy: 0.8212\n",
      "Epoch 462/500\n",
      "712/712 [==============================] - 0s 141us/sample - loss: 0.4432 - accuracy: 0.8399 - val_loss: 0.4826 - val_accuracy: 0.8212\n",
      "Epoch 463/500\n",
      "712/712 [==============================] - 0s 147us/sample - loss: 0.4505 - accuracy: 0.8399 - val_loss: 0.4972 - val_accuracy: 0.8101\n",
      "Epoch 464/500\n",
      "712/712 [==============================] - 0s 145us/sample - loss: 0.4534 - accuracy: 0.8455 - val_loss: 0.5053 - val_accuracy: 0.8156\n",
      "Epoch 465/500\n",
      "712/712 [==============================] - 0s 143us/sample - loss: 0.4503 - accuracy: 0.8455 - val_loss: 0.4917 - val_accuracy: 0.8212\n",
      "Epoch 466/500\n",
      "712/712 [==============================] - 0s 146us/sample - loss: 0.4459 - accuracy: 0.8413 - val_loss: 0.5001 - val_accuracy: 0.8156\n",
      "Epoch 467/500\n",
      "712/712 [==============================] - 0s 132us/sample - loss: 0.4562 - accuracy: 0.8385 - val_loss: 0.4974 - val_accuracy: 0.8156\n",
      "Epoch 468/500\n",
      "712/712 [==============================] - 0s 134us/sample - loss: 0.4363 - accuracy: 0.8567 - val_loss: 0.4985 - val_accuracy: 0.8101\n",
      "Epoch 469/500\n",
      "712/712 [==============================] - 0s 145us/sample - loss: 0.4419 - accuracy: 0.8469 - val_loss: 0.4915 - val_accuracy: 0.8156\n",
      "Epoch 470/500\n",
      "712/712 [==============================] - 0s 145us/sample - loss: 0.4536 - accuracy: 0.8385 - val_loss: 0.4922 - val_accuracy: 0.8268\n",
      "Epoch 471/500\n",
      "712/712 [==============================] - 0s 131us/sample - loss: 0.4490 - accuracy: 0.8343 - val_loss: 0.5043 - val_accuracy: 0.8101\n",
      "Epoch 472/500\n",
      "712/712 [==============================] - 0s 132us/sample - loss: 0.4560 - accuracy: 0.8497 - val_loss: 0.5020 - val_accuracy: 0.8156\n",
      "Epoch 473/500\n",
      "712/712 [==============================] - 0s 132us/sample - loss: 0.4613 - accuracy: 0.8272 - val_loss: 0.4873 - val_accuracy: 0.8268\n",
      "Epoch 474/500\n",
      "712/712 [==============================] - 0s 139us/sample - loss: 0.4373 - accuracy: 0.8469 - val_loss: 0.4940 - val_accuracy: 0.8324\n",
      "Epoch 475/500\n",
      "712/712 [==============================] - 0s 136us/sample - loss: 0.4387 - accuracy: 0.8413 - val_loss: 0.4941 - val_accuracy: 0.8268\n",
      "Epoch 476/500\n",
      "712/712 [==============================] - 0s 129us/sample - loss: 0.4469 - accuracy: 0.8385 - val_loss: 0.5166 - val_accuracy: 0.7989\n",
      "Epoch 477/500\n",
      "712/712 [==============================] - 0s 131us/sample - loss: 0.4517 - accuracy: 0.8399 - val_loss: 0.4887 - val_accuracy: 0.8268\n",
      "Epoch 478/500\n",
      "712/712 [==============================] - 0s 133us/sample - loss: 0.4401 - accuracy: 0.8483 - val_loss: 0.5043 - val_accuracy: 0.8156\n",
      "Epoch 479/500\n",
      "712/712 [==============================] - 0s 147us/sample - loss: 0.4494 - accuracy: 0.8399 - val_loss: 0.4876 - val_accuracy: 0.8212\n",
      "Epoch 480/500\n",
      "712/712 [==============================] - 0s 139us/sample - loss: 0.4517 - accuracy: 0.8399 - val_loss: 0.4791 - val_accuracy: 0.8268\n",
      "Epoch 481/500\n",
      "712/712 [==============================] - 0s 140us/sample - loss: 0.4405 - accuracy: 0.8427 - val_loss: 0.4995 - val_accuracy: 0.8101\n",
      "Epoch 482/500\n",
      "712/712 [==============================] - 0s 138us/sample - loss: 0.4470 - accuracy: 0.8427 - val_loss: 0.4967 - val_accuracy: 0.8156\n",
      "Epoch 483/500\n",
      "712/712 [==============================] - 0s 133us/sample - loss: 0.4448 - accuracy: 0.8455 - val_loss: 0.4986 - val_accuracy: 0.8045\n",
      "Epoch 484/500\n",
      "712/712 [==============================] - 0s 134us/sample - loss: 0.4537 - accuracy: 0.8427 - val_loss: 0.4846 - val_accuracy: 0.8436\n",
      "Epoch 485/500\n",
      "712/712 [==============================] - 0s 131us/sample - loss: 0.4623 - accuracy: 0.8343 - val_loss: 0.4981 - val_accuracy: 0.8156\n",
      "Epoch 486/500\n",
      "712/712 [==============================] - 0s 129us/sample - loss: 0.4529 - accuracy: 0.8385 - val_loss: 0.4924 - val_accuracy: 0.8324\n",
      "Epoch 487/500\n",
      "712/712 [==============================] - 0s 127us/sample - loss: 0.4365 - accuracy: 0.8539 - val_loss: 0.4931 - val_accuracy: 0.8101\n",
      "Epoch 488/500\n",
      "712/712 [==============================] - 0s 128us/sample - loss: 0.4464 - accuracy: 0.8315 - val_loss: 0.4838 - val_accuracy: 0.8268\n",
      "Epoch 489/500\n",
      "712/712 [==============================] - 0s 130us/sample - loss: 0.4417 - accuracy: 0.8399 - val_loss: 0.5015 - val_accuracy: 0.8212\n",
      "Epoch 490/500\n",
      "712/712 [==============================] - 0s 137us/sample - loss: 0.4444 - accuracy: 0.8427 - val_loss: 0.5155 - val_accuracy: 0.8156\n",
      "Epoch 491/500\n",
      "712/712 [==============================] - 0s 142us/sample - loss: 0.4525 - accuracy: 0.8357 - val_loss: 0.4999 - val_accuracy: 0.8212\n",
      "Epoch 492/500\n",
      "712/712 [==============================] - 0s 139us/sample - loss: 0.4527 - accuracy: 0.8399 - val_loss: 0.4865 - val_accuracy: 0.8212\n",
      "Epoch 493/500\n",
      "712/712 [==============================] - 0s 140us/sample - loss: 0.4591 - accuracy: 0.8455 - val_loss: 0.4950 - val_accuracy: 0.8101\n",
      "Epoch 494/500\n",
      "712/712 [==============================] - 0s 142us/sample - loss: 0.4506 - accuracy: 0.8441 - val_loss: 0.4860 - val_accuracy: 0.8156\n",
      "Epoch 495/500\n",
      "712/712 [==============================] - 0s 128us/sample - loss: 0.4519 - accuracy: 0.8343 - val_loss: 0.4955 - val_accuracy: 0.8101\n",
      "Epoch 496/500\n",
      "712/712 [==============================] - 0s 130us/sample - loss: 0.4497 - accuracy: 0.8441 - val_loss: 0.4865 - val_accuracy: 0.8268\n",
      "Epoch 497/500\n",
      "712/712 [==============================] - 0s 131us/sample - loss: 0.4446 - accuracy: 0.8371 - val_loss: 0.4864 - val_accuracy: 0.8380\n",
      "Epoch 498/500\n",
      "712/712 [==============================] - 0s 132us/sample - loss: 0.4378 - accuracy: 0.8455 - val_loss: 0.4984 - val_accuracy: 0.8101\n",
      "Epoch 499/500\n",
      "712/712 [==============================] - 0s 129us/sample - loss: 0.4519 - accuracy: 0.8357 - val_loss: 0.4989 - val_accuracy: 0.8045\n",
      "Epoch 500/500\n",
      "712/712 [==============================] - 0s 133us/sample - loss: 0.4454 - accuracy: 0.8497 - val_loss: 0.4980 - val_accuracy: 0.8212\n"
     ]
    }
   ],
   "source": [
    "history = model.fit(X_train, Y_train, epochs=500, batch_size=32, validation_data=(X_dev, Y_dev))"
   ]
  },
  {
   "cell_type": "markdown",
   "execution_count": null,
   "metadata": {},
   "source": [
    "# Results of the DL model"
   ]
  },
  {
   "cell_type": "code",
   "execution_count": 15,
   "metadata": {},
   "outputs": [],
   "source": [
    "def plot_model_history(history):\n",
    "    # list all data in history\n",
    "    print(history.history.keys())\n",
    "    # summarize history for accuracy\n",
    "    plt.plot(history.history['accuracy'])\n",
    "    plt.plot(history.history['val_accuracy'])\n",
    "    plt.title('model accuracy')\n",
    "    plt.ylabel('accuracy')\n",
    "    plt.xlabel('epoch')\n",
    "    plt.legend(['train', 'test'], loc='upper left')\n",
    "    plt.show()"
   ]
  },
  {
   "cell_type": "code",
   "execution_count": 16,
   "metadata": {},
   "outputs": [
    {
     "name": "stdout",
     "output_type": "stream",
     "text": [
      "dict_keys(['loss', 'accuracy', 'val_loss', 'val_accuracy'])\n"
     ]
    },
    {
     "data": {
      "image/png": "[encoded data removed]",
      "text/plain": [
       "<Figure size 432x288 with 1 Axes>"
      ]
     },
     "metadata": {
      "needs_background": "light"
     },
     "output_type": "display_data"
    }
   ],
   "source": [
    "plot_model_history(history)"
   ]
  },
  {
   "cell_type": "code",
   "execution_count": 17,
   "metadata": {},
   "outputs": [
    {
     "name": "stdout",
     "output_type": "stream",
     "text": [
      "712/712 - 0s - loss: 0.4166 - accuracy: 0.8539\n",
      "\n",
      "Train accuracy: 0.85393256\n"
     ]
    }
   ],
   "source": [
    "_, accuracy = model.evaluate(X_train, Y_train, verbose=2)\n",
    "\n",
    "print('\\nTrain accuracy:', accuracy)"
   ]
  },
  {
   "cell_type": "code",
   "execution_count": 18,
   "metadata": {},
   "outputs": [
    {
     "name": "stdout",
     "output_type": "stream",
     "text": [
      "179/179 - 0s - loss: 0.4980 - accuracy: 0.8212\n",
      "\n",
      "Dev accuracy: 0.82122904\n"
     ]
    }
   ],
   "source": [
    "_, accuracy = model.evaluate(X_dev, Y_dev, verbose=2)\n",
    "\n",
    "print('\\nDev accuracy:', accuracy)"
   ]
  },
  {
   "cell_type": "markdown",
   "execution_count": null,
   "metadata": {},
   "source": [
    "# Tune hyperparameters for the DL model"
   ]
  },
  {
   "cell_type": "code",
   "execution_count": 19,
   "metadata": {},
   "outputs": [],
   "source": [
    "from kerastuner import HyperModel\n",
    "\n",
    "# https://www.sicara.ai/blog/hyperparameter-tuning-keras-tuner\n",
    "# https://www.curiousily.com/posts/hackers-guide-to-hyperparameter-tuning/\n",
    "\n",
    "class TitanicHyperModel(HyperModel):\n",
    "    def __init__(self, input_size):\n",
    "        self.input_shape = (input_size, )\n",
    "\n",
    "    def build(self, hp):\n",
    "        from tensorflow.keras.models import Sequential\n",
    "        from tensorflow.keras.layers import Dense, Dropout\n",
    "#         from tensorflow.keras.regularizers import L1L2\n",
    "\n",
    "        model = Sequential()\n",
    "        \n",
    "        for layer_n in range(hp.Int(\"num_layers\", min_value=1, max_value=6, step=1, default=6) + 1):\n",
    "            units = hp.Int(\n",
    "                f\"dense_units_{layer_n}\",\n",
    "                min_value=8,\n",
    "                max_value=64,\n",
    "                step=8,\n",
    "                default=64\n",
    "            )\n",
    "            activation = hp.Choice(\n",
    "                f\"dense_activation_{layer_n}\",\n",
    "                values=['relu', 'tanh', 'sigmoid'],\n",
    "                default='relu'\n",
    "            )\n",
    "#             regularizer_l1 = hp.Float(\n",
    "#                 f'l1_{layer_n}',\n",
    "#                 min_value=1e-5,\n",
    "#                 max_value=0.1,\n",
    "#                 sampling='LOG',\n",
    "#                 default=0\n",
    "#             )\n",
    "#             regularizer_l2 = hp.Float(\n",
    "#                 f'l2_{layer_n}',\n",
    "#                 min_value=1e-5,\n",
    "#                 max_value=0.1,\n",
    "#                 sampling='LOG',\n",
    "#                 default=0.01\n",
    "#             )\n",
    "            \n",
    "            input_shape_params = {\"input_shape\": self.input_shape} if layer_n == 0 else {}\n",
    "            model.add(Dense(units=units, **input_shape_params, activation=activation)) #, kernel_regularizer=L1L2(l1=regularizer_l1, l2=regularizer_l2)))\n",
    "            \n",
    "            droupout_rate = hp.Float(\n",
    "                f'dropout_{layer_n}',\n",
    "                min_value=0.0,\n",
    "                max_value=0.5,\n",
    "                default=0.25,\n",
    "                step=0.05,\n",
    "            )\n",
    "            \n",
    "            model.add(Dropout(rate=droupout_rate))\n",
    "        \n",
    "        model.add(Dense(1, activation=\"sigmoid\"))\n",
    "        \n",
    "        model.compile(\n",
    "            optimizer=keras.optimizers.Adam(\n",
    "                hp.Float(\n",
    "                    'learning_rate',\n",
    "                    min_value=1e-4,\n",
    "                    max_value=1e-2,\n",
    "                    sampling='LOG',\n",
    "                    default=1e-3\n",
    "                )\n",
    "            ),\n",
    "            metrics=[\"accuracy\"],\n",
    "            loss=\"binary_crossentropy\",\n",
    "        )\n",
    "\n",
    "        return model\n",
    "\n",
    "hypermodel = TitanicHyperModel(input_size=X_train.shape[1])"
   ]
  },
  {
   "cell_type": "code",
   "execution_count": 20,
   "metadata": {},
   "outputs": [],
   "source": [
    "# Dev mode\n",
    "\n",
    "if MODE == \"DEV\":\n",
    "    MAX_TRIALS = 20\n",
    "    EXECUTION_PER_TRIAL = 2\n",
    "    N_EPOCH_SEARCH = 20\n",
    "else:\n",
    "    MAX_TRIALS = 200\n",
    "    EXECUTION_PER_TRIAL = 3\n",
    "    N_EPOCH_SEARCH = 400"
   ]
  },
  {
   "cell_type": "code",
   "execution_count": 21,
   "metadata": {},
   "outputs": [
    {
     "data": {
      "text/html": [
       "<span style=\"color:#4527A0\"><h1 style=\"font-size:18px\">Search space summary</h1></span>"
      ],
      "text/plain": [
       "<IPython.core.display.HTML object>"
      ]
     },
     "metadata": {},
     "output_type": "display_data"
    },
    {
     "data": {
      "text/html": [
       "<span style=\"color:cyan\"> |-Default search space size: 23</span>"
      ],
      "text/plain": [
       "<IPython.core.display.HTML object>"
      ]
     },
     "metadata": {},
     "output_type": "display_data"
    },
    {
     "data": {
      "text/html": [
       "<span style=\"color:#7E57C2\"><h2 style=\"font-size:16px\">num_layers (Int)</h2></span>"
      ],
      "text/plain": [
       "<IPython.core.display.HTML object>"
      ]
     },
     "metadata": {},
     "output_type": "display_data"
    },
    {
     "data": {
      "text/html": [
       "<span style=\"color:cyan\"> |-default: 6</span>"
      ],
      "text/plain": [
       "<IPython.core.display.HTML object>"
      ]
     },
     "metadata": {},
     "output_type": "display_data"
    },
    {
     "data": {
      "text/html": [
       "<span style=\"color:blue\"> |-max_value: 6</span>"
      ],
      "text/plain": [
       "<IPython.core.display.HTML object>"
      ]
     },
     "metadata": {},
     "output_type": "display_data"
    },
    {
     "data": {
      "text/html": [
       "<span style=\"color:cyan\"> |-min_value: 1</span>"
      ],
      "text/plain": [
       "<IPython.core.display.HTML object>"
      ]
     },
     "metadata": {},
     "output_type": "display_data"
    },
    {
     "data": {
      "text/html": [
       "<span style=\"color:blue\"> |-sampling: None</span>"
      ],
      "text/plain": [
       "<IPython.core.display.HTML object>"
      ]
     },
     "metadata": {},
     "output_type": "display_data"
    },
    {
     "data": {
      "text/html": [
       "<span style=\"color:cyan\"> |-step: 1</span>"
      ],
      "text/plain": [
       "<IPython.core.display.HTML object>"
      ]
     },
     "metadata": {},
     "output_type": "display_data"
    },
    {
     "data": {
      "text/html": [
       "<span style=\"color:#7E57C2\"><h2 style=\"font-size:16px\">dense_units_0 (Int)</h2></span>"
      ],
      "text/plain": [
       "<IPython.core.display.HTML object>"
      ]
     },
     "metadata": {},
     "output_type": "display_data"
    },
    {
     "data": {
      "text/html": [
       "<span style=\"color:cyan\"> |-default: 64</span>"
      ],
      "text/plain": [
       "<IPython.core.display.HTML object>"
      ]
     },
     "metadata": {},
     "output_type": "display_data"
    },
    {
     "data": {
      "text/html": [
       "<span style=\"color:blue\"> |-max_value: 64</span>"
      ],
      "text/plain": [
       "<IPython.core.display.HTML object>"
      ]
     },
     "metadata": {},
     "output_type": "display_data"
    },
    {
     "data": {
      "text/html": [
       "<span style=\"color:cyan\"> |-min_value: 8</span>"
      ],
      "text/plain": [
       "<IPython.core.display.HTML object>"
      ]
     },
     "metadata": {},
     "output_type": "display_data"
    },
    {
     "data": {
      "text/html": [
       "<span style=\"color:blue\"> |-sampling: None</span>"
      ],
      "text/plain": [
       "<IPython.core.display.HTML object>"
      ]
     },
     "metadata": {},
     "output_type": "display_data"
    },
    {
     "data": {
      "text/html": [
       "<span style=\"color:cyan\"> |-step: 8</span>"
      ],
      "text/plain": [
       "<IPython.core.display.HTML object>"
      ]
     },
     "metadata": {},
     "output_type": "display_data"
    },
    {
     "data": {
      "text/html": [
       "<span style=\"color:#7E57C2\"><h2 style=\"font-size:16px\">dense_activation_0 (Choice)</h2></span>"
      ],
      "text/plain": [
       "<IPython.core.display.HTML object>"
      ]
     },
     "metadata": {},
     "output_type": "display_data"
    },
    {
     "data": {
      "text/html": [
       "<span style=\"color:cyan\"> |-default: relu</span>"
      ],
      "text/plain": [
       "<IPython.core.display.HTML object>"
      ]
     },
     "metadata": {},
     "output_type": "display_data"
    },
    {
     "data": {
      "text/html": [
       "<span style=\"color:blue\"> |-ordered: False</span>"
      ],
      "text/plain": [
       "<IPython.core.display.HTML object>"
      ]
     },
     "metadata": {},
     "output_type": "display_data"
    },
    {
     "data": {
      "text/html": [
       "<span style=\"color:cyan\"> |-values: ['relu', 'tanh', 'sigmoid']</span>"
      ],
      "text/plain": [
       "<IPython.core.display.HTML object>"
      ]
     },
     "metadata": {},
     "output_type": "display_data"
    },
    {
     "data": {
      "text/html": [
       "<span style=\"color:#7E57C2\"><h2 style=\"font-size:16px\">dropout_0 (Float)</h2></span>"
      ],
      "text/plain": [
       "<IPython.core.display.HTML object>"
      ]
     },
     "metadata": {},
     "output_type": "display_data"
    },
    {
     "data": {
      "text/html": [
       "<span style=\"color:cyan\"> |-default: 0.25</span>"
      ],
      "text/plain": [
       "<IPython.core.display.HTML object>"
      ]
     },
     "metadata": {},
     "output_type": "display_data"
    },
    {
     "data": {
      "text/html": [
       "<span style=\"color:blue\"> |-max_value: 0.5</span>"
      ],
      "text/plain": [
       "<IPython.core.display.HTML object>"
      ]
     },
     "metadata": {},
     "output_type": "display_data"
    },
    {
     "data": {
      "text/html": [
       "<span style=\"color:cyan\"> |-min_value: 0.0</span>"
      ],
      "text/plain": [
       "<IPython.core.display.HTML object>"
      ]
     },
     "metadata": {},
     "output_type": "display_data"
    },
    {
     "data": {
      "text/html": [
       "<span style=\"color:blue\"> |-sampling: None</span>"
      ],
      "text/plain": [
       "<IPython.core.display.HTML object>"
      ]
     },
     "metadata": {},
     "output_type": "display_data"
    },
    {
     "data": {
      "text/html": [
       "<span style=\"color:cyan\"> |-step: 0.05</span>"
      ],
      "text/plain": [
       "<IPython.core.display.HTML object>"
      ]
     },
     "metadata": {},
     "output_type": "display_data"
    },
    {
     "data": {
      "text/html": [
       "<span style=\"color:#7E57C2\"><h2 style=\"font-size:16px\">dense_units_1 (Int)</h2></span>"
      ],
      "text/plain": [
       "<IPython.core.display.HTML object>"
      ]
     },
     "metadata": {},
     "output_type": "display_data"
    },
    {
     "data": {
      "text/html": [
       "<span style=\"color:cyan\"> |-default: 64</span>"
      ],
      "text/plain": [
       "<IPython.core.display.HTML object>"
      ]
     },
     "metadata": {},
     "output_type": "display_data"
    },
    {
     "data": {
      "text/html": [
       "<span style=\"color:blue\"> |-max_value: 64</span>"
      ],
      "text/plain": [
       "<IPython.core.display.HTML object>"
      ]
     },
     "metadata": {},
     "output_type": "display_data"
    },
    {
     "data": {
      "text/html": [
       "<span style=\"color:cyan\"> |-min_value: 8</span>"
      ],
      "text/plain": [
       "<IPython.core.display.HTML object>"
      ]
     },
     "metadata": {},
     "output_type": "display_data"
    },
    {
     "data": {
      "text/html": [
       "<span style=\"color:blue\"> |-sampling: None</span>"
      ],
      "text/plain": [
       "<IPython.core.display.HTML object>"
      ]
     },
     "metadata": {},
     "output_type": "display_data"
    },
    {
     "data": {
      "text/html": [
       "<span style=\"color:cyan\"> |-step: 8</span>"
      ],
      "text/plain": [
       "<IPython.core.display.HTML object>"
      ]
     },
     "metadata": {},
     "output_type": "display_data"
    },
    {
     "data": {
      "text/html": [
       "<span style=\"color:#7E57C2\"><h2 style=\"font-size:16px\">dense_activation_1 (Choice)</h2></span>"
      ],
      "text/plain": [
       "<IPython.core.display.HTML object>"
      ]
     },
     "metadata": {},
     "output_type": "display_data"
    },
    {
     "data": {
      "text/html": [
       "<span style=\"color:cyan\"> |-default: relu</span>"
      ],
      "text/plain": [
       "<IPython.core.display.HTML object>"
      ]
     },
     "metadata": {},
     "output_type": "display_data"
    },
    {
     "data": {
      "text/html": [
       "<span style=\"color:blue\"> |-ordered: False</span>"
      ],
      "text/plain": [
       "<IPython.core.display.HTML object>"
      ]
     },
     "metadata": {},
     "output_type": "display_data"
    },
    {
     "data": {
      "text/html": [
       "<span style=\"color:cyan\"> |-values: ['relu', 'tanh', 'sigmoid']</span>"
      ],
      "text/plain": [
       "<IPython.core.display.HTML object>"
      ]
     },
     "metadata": {},
     "output_type": "display_data"
    },
    {
     "data": {
      "text/html": [
       "<span style=\"color:#7E57C2\"><h2 style=\"font-size:16px\">dropout_1 (Float)</h2></span>"
      ],
      "text/plain": [
       "<IPython.core.display.HTML object>"
      ]
     },
     "metadata": {},
     "output_type": "display_data"
    },
    {
     "data": {
      "text/html": [
       "<span style=\"color:cyan\"> |-default: 0.25</span>"
      ],
      "text/plain": [
       "<IPython.core.display.HTML object>"
      ]
     },
     "metadata": {},
     "output_type": "display_data"
    },
    {
     "data": {
      "text/html": [
       "<span style=\"color:blue\"> |-max_value: 0.5</span>"
      ],
      "text/plain": [
       "<IPython.core.display.HTML object>"
      ]
     },
     "metadata": {},
     "output_type": "display_data"
    },
    {
     "data": {
      "text/html": [
       "<span style=\"color:cyan\"> |-min_value: 0.0</span>"
      ],
      "text/plain": [
       "<IPython.core.display.HTML object>"
      ]
     },
     "metadata": {},
     "output_type": "display_data"
    },
    {
     "data": {
      "text/html": [
       "<span style=\"color:blue\"> |-sampling: None</span>"
      ],
      "text/plain": [
       "<IPython.core.display.HTML object>"
      ]
     },
     "metadata": {},
     "output_type": "display_data"
    },
    {
     "data": {
      "text/html": [
       "<span style=\"color:cyan\"> |-step: 0.05</span>"
      ],
      "text/plain": [
       "<IPython.core.display.HTML object>"
      ]
     },
     "metadata": {},
     "output_type": "display_data"
    },
    {
     "data": {
      "text/html": [
       "<span style=\"color:#7E57C2\"><h2 style=\"font-size:16px\">dense_units_2 (Int)</h2></span>"
      ],
      "text/plain": [
       "<IPython.core.display.HTML object>"
      ]
     },
     "metadata": {},
     "output_type": "display_data"
    },
    {
     "data": {
      "text/html": [
       "<span style=\"color:cyan\"> |-default: 64</span>"
      ],
      "text/plain": [
       "<IPython.core.display.HTML object>"
      ]
     },
     "metadata": {},
     "output_type": "display_data"
    },
    {
     "data": {
      "text/html": [
       "<span style=\"color:blue\"> |-max_value: 64</span>"
      ],
      "text/plain": [
       "<IPython.core.display.HTML object>"
      ]
     },
     "metadata": {},
     "output_type": "display_data"
    },
    {
     "data": {
      "text/html": [
       "<span style=\"color:cyan\"> |-min_value: 8</span>"
      ],
      "text/plain": [
       "<IPython.core.display.HTML object>"
      ]
     },
     "metadata": {},
     "output_type": "display_data"
    },
    {
     "data": {
      "text/html": [
       "<span style=\"color:blue\"> |-sampling: None</span>"
      ],
      "text/plain": [
       "<IPython.core.display.HTML object>"
      ]
     },
     "metadata": {},
     "output_type": "display_data"
    },
    {
     "data": {
      "text/html": [
       "<span style=\"color:cyan\"> |-step: 8</span>"
      ],
      "text/plain": [
       "<IPython.core.display.HTML object>"
      ]
     },
     "metadata": {},
     "output_type": "display_data"
    },
    {
     "data": {
      "text/html": [
       "<span style=\"color:#7E57C2\"><h2 style=\"font-size:16px\">dense_activation_2 (Choice)</h2></span>"
      ],
      "text/plain": [
       "<IPython.core.display.HTML object>"
      ]
     },
     "metadata": {},
     "output_type": "display_data"
    },
    {
     "data": {
      "text/html": [
       "<span style=\"color:cyan\"> |-default: relu</span>"
      ],
      "text/plain": [
       "<IPython.core.display.HTML object>"
      ]
     },
     "metadata": {},
     "output_type": "display_data"
    },
    {
     "data": {
      "text/html": [
       "<span style=\"color:blue\"> |-ordered: False</span>"
      ],
      "text/plain": [
       "<IPython.core.display.HTML object>"
      ]
     },
     "metadata": {},
     "output_type": "display_data"
    },
    {
     "data": {
      "text/html": [
       "<span style=\"color:cyan\"> |-values: ['relu', 'tanh', 'sigmoid']</span>"
      ],
      "text/plain": [
       "<IPython.core.display.HTML object>"
      ]
     },
     "metadata": {},
     "output_type": "display_data"
    },
    {
     "data": {
      "text/html": [
       "<span style=\"color:#7E57C2\"><h2 style=\"font-size:16px\">dropout_2 (Float)</h2></span>"
      ],
      "text/plain": [
       "<IPython.core.display.HTML object>"
      ]
     },
     "metadata": {},
     "output_type": "display_data"
    },
    {
     "data": {
      "text/html": [
       "<span style=\"color:cyan\"> |-default: 0.25</span>"
      ],
      "text/plain": [
       "<IPython.core.display.HTML object>"
      ]
     },
     "metadata": {},
     "output_type": "display_data"
    },
    {
     "data": {
      "text/html": [
       "<span style=\"color:blue\"> |-max_value: 0.5</span>"
      ],
      "text/plain": [
       "<IPython.core.display.HTML object>"
      ]
     },
     "metadata": {},
     "output_type": "display_data"
    },
    {
     "data": {
      "text/html": [
       "<span style=\"color:cyan\"> |-min_value: 0.0</span>"
      ],
      "text/plain": [
       "<IPython.core.display.HTML object>"
      ]
     },
     "metadata": {},
     "output_type": "display_data"
    },
    {
     "data": {
      "text/html": [
       "<span style=\"color:blue\"> |-sampling: None</span>"
      ],
      "text/plain": [
       "<IPython.core.display.HTML object>"
      ]
     },
     "metadata": {},
     "output_type": "display_data"
    },
    {
     "data": {
      "text/html": [
       "<span style=\"color:cyan\"> |-step: 0.05</span>"
      ],
      "text/plain": [
       "<IPython.core.display.HTML object>"
      ]
     },
     "metadata": {},
     "output_type": "display_data"
    },
    {
     "data": {
      "text/html": [
       "<span style=\"color:#7E57C2\"><h2 style=\"font-size:16px\">dense_units_3 (Int)</h2></span>"
      ],
      "text/plain": [
       "<IPython.core.display.HTML object>"
      ]
     },
     "metadata": {},
     "output_type": "display_data"
    },
    {
     "data": {
      "text/html": [
       "<span style=\"color:cyan\"> |-default: 64</span>"
      ],
      "text/plain": [
       "<IPython.core.display.HTML object>"
      ]
     },
     "metadata": {},
     "output_type": "display_data"
    },
    {
     "data": {
      "text/html": [
       "<span style=\"color:blue\"> |-max_value: 64</span>"
      ],
      "text/plain": [
       "<IPython.core.display.HTML object>"
      ]
     },
     "metadata": {},
     "output_type": "display_data"
    },
    {
     "data": {
      "text/html": [
       "<span style=\"color:cyan\"> |-min_value: 8</span>"
      ],
      "text/plain": [
       "<IPython.core.display.HTML object>"
      ]
     },
     "metadata": {},
     "output_type": "display_data"
    },
    {
     "data": {
      "text/html": [
       "<span style=\"color:blue\"> |-sampling: None</span>"
      ],
      "text/plain": [
       "<IPython.core.display.HTML object>"
      ]
     },
     "metadata": {},
     "output_type": "display_data"
    },
    {
     "data": {
      "text/html": [
       "<span style=\"color:cyan\"> |-step: 8</span>"
      ],
      "text/plain": [
       "<IPython.core.display.HTML object>"
      ]
     },
     "metadata": {},
     "output_type": "display_data"
    },
    {
     "data": {
      "text/html": [
       "<span style=\"color:#7E57C2\"><h2 style=\"font-size:16px\">dense_activation_3 (Choice)</h2></span>"
      ],
      "text/plain": [
       "<IPython.core.display.HTML object>"
      ]
     },
     "metadata": {},
     "output_type": "display_data"
    },
    {
     "data": {
      "text/html": [
       "<span style=\"color:cyan\"> |-default: relu</span>"
      ],
      "text/plain": [
       "<IPython.core.display.HTML object>"
      ]
     },
     "metadata": {},
     "output_type": "display_data"
    },
    {
     "data": {
      "text/html": [
       "<span style=\"color:blue\"> |-ordered: False</span>"
      ],
      "text/plain": [
       "<IPython.core.display.HTML object>"
      ]
     },
     "metadata": {},
     "output_type": "display_data"
    },
    {
     "data": {
      "text/html": [
       "<span style=\"color:cyan\"> |-values: ['relu', 'tanh', 'sigmoid']</span>"
      ],
      "text/plain": [
       "<IPython.core.display.HTML object>"
      ]
     },
     "metadata": {},
     "output_type": "display_data"
    },
    {
     "data": {
      "text/html": [
       "<span style=\"color:#7E57C2\"><h2 style=\"font-size:16px\">dropout_3 (Float)</h2></span>"
      ],
      "text/plain": [
       "<IPython.core.display.HTML object>"
      ]
     },
     "metadata": {},
     "output_type": "display_data"
    },
    {
     "data": {
      "text/html": [
       "<span style=\"color:cyan\"> |-default: 0.25</span>"
      ],
      "text/plain": [
       "<IPython.core.display.HTML object>"
      ]
     },
     "metadata": {},
     "output_type": "display_data"
    },
    {
     "data": {
      "text/html": [
       "<span style=\"color:blue\"> |-max_value: 0.5</span>"
      ],
      "text/plain": [
       "<IPython.core.display.HTML object>"
      ]
     },
     "metadata": {},
     "output_type": "display_data"
    },
    {
     "data": {
      "text/html": [
       "<span style=\"color:cyan\"> |-min_value: 0.0</span>"
      ],
      "text/plain": [
       "<IPython.core.display.HTML object>"
      ]
     },
     "metadata": {},
     "output_type": "display_data"
    },
    {
     "data": {
      "text/html": [
       "<span style=\"color:blue\"> |-sampling: None</span>"
      ],
      "text/plain": [
       "<IPython.core.display.HTML object>"
      ]
     },
     "metadata": {},
     "output_type": "display_data"
    },
    {
     "data": {
      "text/html": [
       "<span style=\"color:cyan\"> |-step: 0.05</span>"
      ],
      "text/plain": [
       "<IPython.core.display.HTML object>"
      ]
     },
     "metadata": {},
     "output_type": "display_data"
    },
    {
     "data": {
      "text/html": [
       "<span style=\"color:#7E57C2\"><h2 style=\"font-size:16px\">dense_units_4 (Int)</h2></span>"
      ],
      "text/plain": [
       "<IPython.core.display.HTML object>"
      ]
     },
     "metadata": {},
     "output_type": "display_data"
    },
    {
     "data": {
      "text/html": [
       "<span style=\"color:cyan\"> |-default: 64</span>"
      ],
      "text/plain": [
       "<IPython.core.display.HTML object>"
      ]
     },
     "metadata": {},
     "output_type": "display_data"
    },
    {
     "data": {
      "text/html": [
       "<span style=\"color:blue\"> |-max_value: 64</span>"
      ],
      "text/plain": [
       "<IPython.core.display.HTML object>"
      ]
     },
     "metadata": {},
     "output_type": "display_data"
    },
    {
     "data": {
      "text/html": [
       "<span style=\"color:cyan\"> |-min_value: 8</span>"
      ],
      "text/plain": [
       "<IPython.core.display.HTML object>"
      ]
     },
     "metadata": {},
     "output_type": "display_data"
    },
    {
     "data": {
      "text/html": [
       "<span style=\"color:blue\"> |-sampling: None</span>"
      ],
      "text/plain": [
       "<IPython.core.display.HTML object>"
      ]
     },
     "metadata": {},
     "output_type": "display_data"
    },
    {
     "data": {
      "text/html": [
       "<span style=\"color:cyan\"> |-step: 8</span>"
      ],
      "text/plain": [
       "<IPython.core.display.HTML object>"
      ]
     },
     "metadata": {},
     "output_type": "display_data"
    },
    {
     "data": {
      "text/html": [
       "<span style=\"color:#7E57C2\"><h2 style=\"font-size:16px\">dense_activation_4 (Choice)</h2></span>"
      ],
      "text/plain": [
       "<IPython.core.display.HTML object>"
      ]
     },
     "metadata": {},
     "output_type": "display_data"
    },
    {
     "data": {
      "text/html": [
       "<span style=\"color:cyan\"> |-default: relu</span>"
      ],
      "text/plain": [
       "<IPython.core.display.HTML object>"
      ]
     },
     "metadata": {},
     "output_type": "display_data"
    },
    {
     "data": {
      "text/html": [
       "<span style=\"color:blue\"> |-ordered: False</span>"
      ],
      "text/plain": [
       "<IPython.core.display.HTML object>"
      ]
     },
     "metadata": {},
     "output_type": "display_data"
    },
    {
     "data": {
      "text/html": [
       "<span style=\"color:cyan\"> |-values: ['relu', 'tanh', 'sigmoid']</span>"
      ],
      "text/plain": [
       "<IPython.core.display.HTML object>"
      ]
     },
     "metadata": {},
     "output_type": "display_data"
    },
    {
     "data": {
      "text/html": [
       "<span style=\"color:#7E57C2\"><h2 style=\"font-size:16px\">dropout_4 (Float)</h2></span>"
      ],
      "text/plain": [
       "<IPython.core.display.HTML object>"
      ]
     },
     "metadata": {},
     "output_type": "display_data"
    },
    {
     "data": {
      "text/html": [
       "<span style=\"color:cyan\"> |-default: 0.25</span>"
      ],
      "text/plain": [
       "<IPython.core.display.HTML object>"
      ]
     },
     "metadata": {},
     "output_type": "display_data"
    },
    {
     "data": {
      "text/html": [
       "<span style=\"color:blue\"> |-max_value: 0.5</span>"
      ],
      "text/plain": [
       "<IPython.core.display.HTML object>"
      ]
     },
     "metadata": {},
     "output_type": "display_data"
    },
    {
     "data": {
      "text/html": [
       "<span style=\"color:cyan\"> |-min_value: 0.0</span>"
      ],
      "text/plain": [
       "<IPython.core.display.HTML object>"
      ]
     },
     "metadata": {},
     "output_type": "display_data"
    },
    {
     "data": {
      "text/html": [
       "<span style=\"color:blue\"> |-sampling: None</span>"
      ],
      "text/plain": [
       "<IPython.core.display.HTML object>"
      ]
     },
     "metadata": {},
     "output_type": "display_data"
    },
    {
     "data": {
      "text/html": [
       "<span style=\"color:cyan\"> |-step: 0.05</span>"
      ],
      "text/plain": [
       "<IPython.core.display.HTML object>"
      ]
     },
     "metadata": {},
     "output_type": "display_data"
    },
    {
     "data": {
      "text/html": [
       "<span style=\"color:#7E57C2\"><h2 style=\"font-size:16px\">dense_units_5 (Int)</h2></span>"
      ],
      "text/plain": [
       "<IPython.core.display.HTML object>"
      ]
     },
     "metadata": {},
     "output_type": "display_data"
    },
    {
     "data": {
      "text/html": [
       "<span style=\"color:cyan\"> |-default: 64</span>"
      ],
      "text/plain": [
       "<IPython.core.display.HTML object>"
      ]
     },
     "metadata": {},
     "output_type": "display_data"
    },
    {
     "data": {
      "text/html": [
       "<span style=\"color:blue\"> |-max_value: 64</span>"
      ],
      "text/plain": [
       "<IPython.core.display.HTML object>"
      ]
     },
     "metadata": {},
     "output_type": "display_data"
    },
    {
     "data": {
      "text/html": [
       "<span style=\"color:cyan\"> |-min_value: 8</span>"
      ],
      "text/plain": [
       "<IPython.core.display.HTML object>"
      ]
     },
     "metadata": {},
     "output_type": "display_data"
    },
    {
     "data": {
      "text/html": [
       "<span style=\"color:blue\"> |-sampling: None</span>"
      ],
      "text/plain": [
       "<IPython.core.display.HTML object>"
      ]
     },
     "metadata": {},
     "output_type": "display_data"
    },
    {
     "data": {
      "text/html": [
       "<span style=\"color:cyan\"> |-step: 8</span>"
      ],
      "text/plain": [
       "<IPython.core.display.HTML object>"
      ]
     },
     "metadata": {},
     "output_type": "display_data"
    },
    {
     "data": {
      "text/html": [
       "<span style=\"color:#7E57C2\"><h2 style=\"font-size:16px\">dense_activation_5 (Choice)</h2></span>"
      ],
      "text/plain": [
       "<IPython.core.display.HTML object>"
      ]
     },
     "metadata": {},
     "output_type": "display_data"
    },
    {
     "data": {
      "text/html": [
       "<span style=\"color:cyan\"> |-default: relu</span>"
      ],
      "text/plain": [
       "<IPython.core.display.HTML object>"
      ]
     },
     "metadata": {},
     "output_type": "display_data"
    },
    {
     "data": {
      "text/html": [
       "<span style=\"color:blue\"> |-ordered: False</span>"
      ],
      "text/plain": [
       "<IPython.core.display.HTML object>"
      ]
     },
     "metadata": {},
     "output_type": "display_data"
    },
    {
     "data": {
      "text/html": [
       "<span style=\"color:cyan\"> |-values: ['relu', 'tanh', 'sigmoid']</span>"
      ],
      "text/plain": [
       "<IPython.core.display.HTML object>"
      ]
     },
     "metadata": {},
     "output_type": "display_data"
    },
    {
     "data": {
      "text/html": [
       "<span style=\"color:#7E57C2\"><h2 style=\"font-size:16px\">dropout_5 (Float)</h2></span>"
      ],
      "text/plain": [
       "<IPython.core.display.HTML object>"
      ]
     },
     "metadata": {},
     "output_type": "display_data"
    },
    {
     "data": {
      "text/html": [
       "<span style=\"color:cyan\"> |-default: 0.25</span>"
      ],
      "text/plain": [
       "<IPython.core.display.HTML object>"
      ]
     },
     "metadata": {},
     "output_type": "display_data"
    },
    {
     "data": {
      "text/html": [
       "<span style=\"color:blue\"> |-max_value: 0.5</span>"
      ],
      "text/plain": [
       "<IPython.core.display.HTML object>"
      ]
     },
     "metadata": {},
     "output_type": "display_data"
    },
    {
     "data": {
      "text/html": [
       "<span style=\"color:cyan\"> |-min_value: 0.0</span>"
      ],
      "text/plain": [
       "<IPython.core.display.HTML object>"
      ]
     },
     "metadata": {},
     "output_type": "display_data"
    },
    {
     "data": {
      "text/html": [
       "<span style=\"color:blue\"> |-sampling: None</span>"
      ],
      "text/plain": [
       "<IPython.core.display.HTML object>"
      ]
     },
     "metadata": {},
     "output_type": "display_data"
    },
    {
     "data": {
      "text/html": [
       "<span style=\"color:cyan\"> |-step: 0.05</span>"
      ],
      "text/plain": [
       "<IPython.core.display.HTML object>"
      ]
     },
     "metadata": {},
     "output_type": "display_data"
    },
    {
     "data": {
      "text/html": [
       "<span style=\"color:#7E57C2\"><h2 style=\"font-size:16px\">dense_units_6 (Int)</h2></span>"
      ],
      "text/plain": [
       "<IPython.core.display.HTML object>"
      ]
     },
     "metadata": {},
     "output_type": "display_data"
    },
    {
     "data": {
      "text/html": [
       "<span style=\"color:cyan\"> |-default: 64</span>"
      ],
      "text/plain": [
       "<IPython.core.display.HTML object>"
      ]
     },
     "metadata": {},
     "output_type": "display_data"
    },
    {
     "data": {
      "text/html": [
       "<span style=\"color:blue\"> |-max_value: 64</span>"
      ],
      "text/plain": [
       "<IPython.core.display.HTML object>"
      ]
     },
     "metadata": {},
     "output_type": "display_data"
    },
    {
     "data": {
      "text/html": [
       "<span style=\"color:cyan\"> |-min_value: 8</span>"
      ],
      "text/plain": [
       "<IPython.core.display.HTML object>"
      ]
     },
     "metadata": {},
     "output_type": "display_data"
    },
    {
     "data": {
      "text/html": [
       "<span style=\"color:blue\"> |-sampling: None</span>"
      ],
      "text/plain": [
       "<IPython.core.display.HTML object>"
      ]
     },
     "metadata": {},
     "output_type": "display_data"
    },
    {
     "data": {
      "text/html": [
       "<span style=\"color:cyan\"> |-step: 8</span>"
      ],
      "text/plain": [
       "<IPython.core.display.HTML object>"
      ]
     },
     "metadata": {},
     "output_type": "display_data"
    },
    {
     "data": {
      "text/html": [
       "<span style=\"color:#7E57C2\"><h2 style=\"font-size:16px\">dense_activation_6 (Choice)</h2></span>"
      ],
      "text/plain": [
       "<IPython.core.display.HTML object>"
      ]
     },
     "metadata": {},
     "output_type": "display_data"
    },
    {
     "data": {
      "text/html": [
       "<span style=\"color:cyan\"> |-default: relu</span>"
      ],
      "text/plain": [
       "<IPython.core.display.HTML object>"
      ]
     },
     "metadata": {},
     "output_type": "display_data"
    },
    {
     "data": {
      "text/html": [
       "<span style=\"color:blue\"> |-ordered: False</span>"
      ],
      "text/plain": [
       "<IPython.core.display.HTML object>"
      ]
     },
     "metadata": {},
     "output_type": "display_data"
    },
    {
     "data": {
      "text/html": [
       "<span style=\"color:cyan\"> |-values: ['relu', 'tanh', 'sigmoid']</span>"
      ],
      "text/plain": [
       "<IPython.core.display.HTML object>"
      ]
     },
     "metadata": {},
     "output_type": "display_data"
    },
    {
     "data": {
      "text/html": [
       "<span style=\"color:#7E57C2\"><h2 style=\"font-size:16px\">dropout_6 (Float)</h2></span>"
      ],
      "text/plain": [
       "<IPython.core.display.HTML object>"
      ]
     },
     "metadata": {},
     "output_type": "display_data"
    },
    {
     "data": {
      "text/html": [
       "<span style=\"color:cyan\"> |-default: 0.25</span>"
      ],
      "text/plain": [
       "<IPython.core.display.HTML object>"
      ]
     },
     "metadata": {},
     "output_type": "display_data"
    },
    {
     "data": {
      "text/html": [
       "<span style=\"color:blue\"> |-max_value: 0.5</span>"
      ],
      "text/plain": [
       "<IPython.core.display.HTML object>"
      ]
     },
     "metadata": {},
     "output_type": "display_data"
    },
    {
     "data": {
      "text/html": [
       "<span style=\"color:cyan\"> |-min_value: 0.0</span>"
      ],
      "text/plain": [
       "<IPython.core.display.HTML object>"
      ]
     },
     "metadata": {},
     "output_type": "display_data"
    },
    {
     "data": {
      "text/html": [
       "<span style=\"color:blue\"> |-sampling: None</span>"
      ],
      "text/plain": [
       "<IPython.core.display.HTML object>"
      ]
     },
     "metadata": {},
     "output_type": "display_data"
    },
    {
     "data": {
      "text/html": [
       "<span style=\"color:cyan\"> |-step: 0.05</span>"
      ],
      "text/plain": [
       "<IPython.core.display.HTML object>"
      ]
     },
     "metadata": {},
     "output_type": "display_data"
    },
    {
     "data": {
      "text/html": [
       "<span style=\"color:#7E57C2\"><h2 style=\"font-size:16px\">learning_rate (Float)</h2></span>"
      ],
      "text/plain": [
       "<IPython.core.display.HTML object>"
      ]
     },
     "metadata": {},
     "output_type": "display_data"
    },
    {
     "data": {
      "text/html": [
       "<span style=\"color:cyan\"> |-default: 0.001</span>"
      ],
      "text/plain": [
       "<IPython.core.display.HTML object>"
      ]
     },
     "metadata": {},
     "output_type": "display_data"
    },
    {
     "data": {
      "text/html": [
       "<span style=\"color:blue\"> |-max_value: 0.01</span>"
      ],
      "text/plain": [
       "<IPython.core.display.HTML object>"
      ]
     },
     "metadata": {},
     "output_type": "display_data"
    },
    {
     "data": {
      "text/html": [
       "<span style=\"color:cyan\"> |-min_value: 0.0001</span>"
      ],
      "text/plain": [
       "<IPython.core.display.HTML object>"
      ]
     },
     "metadata": {},
     "output_type": "display_data"
    },
    {
     "data": {
      "text/html": [
       "<span style=\"color:blue\"> |-sampling: log</span>"
      ],
      "text/plain": [
       "<IPython.core.display.HTML object>"
      ]
     },
     "metadata": {},
     "output_type": "display_data"
    },
    {
     "data": {
      "text/html": [
       "<span style=\"color:cyan\"> |-step: None</span>"
      ],
      "text/plain": [
       "<IPython.core.display.HTML object>"
      ]
     },
     "metadata": {},
     "output_type": "display_data"
    }
   ],
   "source": [
    "from kerastuner.tuners import RandomSearch\n",
    "\n",
    "try:\n",
    "    ATTEMPT = ATTEMPT + 1\n",
    "except NameError:\n",
    "    ATTEMPT = 0\n",
    "\n",
    "tuner = RandomSearch(\n",
    "    hypermodel,\n",
    "    objective=\"val_accuracy\",\n",
    "    seed=SEED,\n",
    "    max_trials=MAX_TRIALS,\n",
    "    executions_per_trial=EXECUTION_PER_TRIAL,\n",
    "    directory=f'random_search_{ATTEMPT}',\n",
    "    project_name='titanic'\n",
    ")\n",
    "\n",
    "tuner.search_space_summary()"
   ]
  },
  {
   "cell_type": "code",
   "execution_count": 22,
   "metadata": {},
   "outputs": [
    {
     "name": "stdout",
     "output_type": "stream",
     "text": [
      "Train on 712 samples, validate on 179 samples\n",
      "Epoch 1/20\n",
      "712/712 [==============================] - 1s 1ms/sample - loss: 0.7150 - accuracy: 0.4803 - val_loss: 0.6761 - val_accuracy: 0.5866\n",
      "Epoch 2/20\n",
      "712/712 [==============================] - 0s 142us/sample - loss: 0.6592 - accuracy: 0.6194 - val_loss: 0.6830 - val_accuracy: 0.5866\n",
      "Epoch 3/20\n",
      "712/712 [==============================] - 0s 145us/sample - loss: 0.6665 - accuracy: 0.6236 - val_loss: 0.6748 - val_accuracy: 0.5866\n",
      "Epoch 4/20\n",
      "712/712 [==============================] - 0s 138us/sample - loss: 0.6634 - accuracy: 0.6194 - val_loss: 0.6626 - val_accuracy: 0.5866\n",
      "Epoch 5/20\n",
      "712/712 [==============================] - 0s 140us/sample - loss: 0.6447 - accuracy: 0.6278 - val_loss: 0.6456 - val_accuracy: 0.5866\n",
      "Epoch 6/20\n",
      "712/712 [==============================] - 0s 148us/sample - loss: 0.6394 - accuracy: 0.6503 - val_loss: 0.6115 - val_accuracy: 0.5866\n",
      "Epoch 7/20\n",
      "712/712 [==============================] - 0s 176us/sample - loss: 0.6122 - accuracy: 0.6475 - val_loss: 0.5742 - val_accuracy: 0.6704\n",
      "Epoch 8/20\n",
      "712/712 [==============================] - 0s 167us/sample - loss: 0.5720 - accuracy: 0.7289 - val_loss: 0.5313 - val_accuracy: 0.8045\n",
      "Epoch 9/20\n",
      "712/712 [==============================] - 0s 167us/sample - loss: 0.5536 - accuracy: 0.7233 - val_loss: 0.5032 - val_accuracy: 0.8101\n",
      "Epoch 10/20\n",
      "712/712 [==============================] - 0s 190us/sample - loss: 0.5098 - accuracy: 0.7739 - val_loss: 0.4844 - val_accuracy: 0.8045\n",
      "Epoch 11/20\n",
      "712/712 [==============================] - 0s 146us/sample - loss: 0.5004 - accuracy: 0.7837 - val_loss: 0.4715 - val_accuracy: 0.8045\n",
      "Epoch 12/20\n",
      "712/712 [==============================] - 0s 149us/sample - loss: 0.4894 - accuracy: 0.8090 - val_loss: 0.4718 - val_accuracy: 0.7989\n",
      "Epoch 13/20\n",
      "712/712 [==============================] - 0s 156us/sample - loss: 0.4792 - accuracy: 0.8006 - val_loss: 0.4676 - val_accuracy: 0.8045\n",
      "Epoch 14/20\n",
      "712/712 [==============================] - 0s 156us/sample - loss: 0.4783 - accuracy: 0.8076 - val_loss: 0.4607 - val_accuracy: 0.7989\n",
      "Epoch 15/20\n",
      "712/712 [==============================] - 0s 133us/sample - loss: 0.4716 - accuracy: 0.8132 - val_loss: 0.4520 - val_accuracy: 0.8101\n",
      "Epoch 16/20\n",
      "712/712 [==============================] - 0s 137us/sample - loss: 0.4577 - accuracy: 0.8062 - val_loss: 0.4511 - val_accuracy: 0.8101\n",
      "Epoch 17/20\n",
      "712/712 [==============================] - 0s 162us/sample - loss: 0.4580 - accuracy: 0.8146 - val_loss: 0.4477 - val_accuracy: 0.8212\n",
      "Epoch 18/20\n",
      "712/712 [==============================] - 0s 149us/sample - loss: 0.4395 - accuracy: 0.8301 - val_loss: 0.4463 - val_accuracy: 0.8156\n",
      "Epoch 19/20\n",
      "712/712 [==============================] - 0s 273us/sample - loss: 0.4544 - accuracy: 0.8174 - val_loss: 0.4392 - val_accuracy: 0.8212\n",
      "Epoch 20/20\n",
      "712/712 [==============================] - 0s 304us/sample - loss: 0.4523 - accuracy: 0.8244 - val_loss: 0.4378 - val_accuracy: 0.8268\n",
      "Train on 712 samples, validate on 179 samples\n",
      "Epoch 1/20\n",
      "712/712 [==============================] - 1s 1ms/sample - loss: 0.6640 - accuracy: 0.6236 - val_loss: 0.6753 - val_accuracy: 0.5866\n",
      "Epoch 2/20\n",
      "712/712 [==============================] - 0s 148us/sample - loss: 0.6564 - accuracy: 0.6236 - val_loss: 0.6635 - val_accuracy: 0.5866\n",
      "Epoch 3/20\n",
      "712/712 [==============================] - 0s 137us/sample - loss: 0.6444 - accuracy: 0.6236 - val_loss: 0.6429 - val_accuracy: 0.5866\n",
      "Epoch 4/20\n",
      "712/712 [==============================] - 0s 136us/sample - loss: 0.6291 - accuracy: 0.6278 - val_loss: 0.6028 - val_accuracy: 0.5866\n",
      "Epoch 5/20\n",
      "712/712 [==============================] - 0s 142us/sample - loss: 0.5923 - accuracy: 0.6320 - val_loss: 0.5589 - val_accuracy: 0.7598\n",
      "Epoch 6/20\n",
      "712/712 [==============================] - 0s 169us/sample - loss: 0.5532 - accuracy: 0.7331 - val_loss: 0.5198 - val_accuracy: 0.7989\n",
      "Epoch 7/20\n",
      "712/712 [==============================] - 0s 160us/sample - loss: 0.5236 - accuracy: 0.7739 - val_loss: 0.4942 - val_accuracy: 0.7989\n",
      "Epoch 8/20\n",
      "712/712 [==============================] - 0s 154us/sample - loss: 0.5026 - accuracy: 0.7935 - val_loss: 0.4747 - val_accuracy: 0.8156\n",
      "Epoch 9/20\n",
      "712/712 [==============================] - 0s 151us/sample - loss: 0.4809 - accuracy: 0.8104 - val_loss: 0.4660 - val_accuracy: 0.8212\n",
      "Epoch 10/20\n",
      "712/712 [==============================] - 0s 147us/sample - loss: 0.4723 - accuracy: 0.8160 - val_loss: 0.4595 - val_accuracy: 0.8156\n",
      "Epoch 11/20\n",
      "712/712 [==============================] - 0s 147us/sample - loss: 0.4644 - accuracy: 0.8146 - val_loss: 0.4586 - val_accuracy: 0.8045\n",
      "Epoch 12/20\n",
      "712/712 [==============================] - 0s 139us/sample - loss: 0.4640 - accuracy: 0.8202 - val_loss: 0.4588 - val_accuracy: 0.8101\n",
      "Epoch 13/20\n",
      "712/712 [==============================] - 0s 142us/sample - loss: 0.4549 - accuracy: 0.8216 - val_loss: 0.4565 - val_accuracy: 0.8101\n",
      "Epoch 14/20\n",
      "712/712 [==============================] - 0s 179us/sample - loss: 0.4612 - accuracy: 0.8160 - val_loss: 0.4552 - val_accuracy: 0.8045\n",
      "Epoch 15/20\n",
      "712/712 [==============================] - 0s 154us/sample - loss: 0.4537 - accuracy: 0.8090 - val_loss: 0.4547 - val_accuracy: 0.8045\n",
      "Epoch 16/20\n",
      "712/712 [==============================] - 0s 138us/sample - loss: 0.4579 - accuracy: 0.8132 - val_loss: 0.4515 - val_accuracy: 0.8212\n",
      "Epoch 17/20\n",
      "712/712 [==============================] - 0s 138us/sample - loss: 0.4586 - accuracy: 0.8174 - val_loss: 0.4498 - val_accuracy: 0.8156\n",
      "Epoch 18/20\n",
      "712/712 [==============================] - 0s 146us/sample - loss: 0.4603 - accuracy: 0.8048 - val_loss: 0.4586 - val_accuracy: 0.7989\n",
      "Epoch 19/20\n",
      "712/712 [==============================] - 0s 137us/sample - loss: 0.4615 - accuracy: 0.8188 - val_loss: 0.4506 - val_accuracy: 0.8156\n",
      "Epoch 20/20\n",
      "712/712 [==============================] - 0s 138us/sample - loss: 0.4618 - accuracy: 0.8216 - val_loss: 0.4484 - val_accuracy: 0.8212\n"
     ]
    },
    {
     "data": {
      "text/html": [
       "<span style=\"color:#4527A0\"><h1 style=\"font-size:18px\">Trial complete</h1></span>"
      ],
      "text/plain": [
       "<IPython.core.display.HTML object>"
      ]
     },
     "metadata": {},
     "output_type": "display_data"
    },
    {
     "data": {
      "text/html": [
       "<span style=\"color:#4527A0\"><h1 style=\"font-size:18px\">Trial summary</h1></span>"
      ],
      "text/plain": [
       "<IPython.core.display.HTML object>"
      ]
     },
     "metadata": {},
     "output_type": "display_data"
    },
    {
     "data": {
      "text/html": [
       "<span style=\"color:cyan\"> |-Trial ID: e6f70cc2c919051aa8f03dbb991163fc</span>"
      ],
      "text/plain": [
       "<IPython.core.display.HTML object>"
      ]
     },
     "metadata": {},
     "output_type": "display_data"
    },
    {
     "data": {
      "text/html": [
       "<span style=\"color:cyan\"> |-Score: 0.8240223526954651</span>"
      ],
      "text/plain": [
       "<IPython.core.display.HTML object>"
      ]
     },
     "metadata": {},
     "output_type": "display_data"
    },
    {
     "data": {
      "text/html": [
       "<span style=\"color:cyan\"> |-Best step: 0</span>"
      ],
      "text/plain": [
       "<IPython.core.display.HTML object>"
      ]
     },
     "metadata": {},
     "output_type": "display_data"
    },
    {
     "data": {
      "text/html": [
       "<span style=\"color:#7E57C2\"><h2 style=\"font-size:16px\">Hyperparameters:</h2></span>"
      ],
      "text/plain": [
       "<IPython.core.display.HTML object>"
      ]
     },
     "metadata": {},
     "output_type": "display_data"
    },
    {
     "data": {
      "text/html": [
       "<span style=\"color:cyan\"> |-dense_activation_0: tanh</span>"
      ],
      "text/plain": [
       "<IPython.core.display.HTML object>"
      ]
     },
     "metadata": {},
     "output_type": "display_data"
    },
    {
     "data": {
      "text/html": [
       "<span style=\"color:blue\"> |-dense_activation_1: tanh</span>"
      ],
      "text/plain": [
       "<IPython.core.display.HTML object>"
      ]
     },
     "metadata": {},
     "output_type": "display_data"
    },
    {
     "data": {
      "text/html": [
       "<span style=\"color:cyan\"> |-dense_activation_2: tanh</span>"
      ],
      "text/plain": [
       "<IPython.core.display.HTML object>"
      ]
     },
     "metadata": {},
     "output_type": "display_data"
    },
    {
     "data": {
      "text/html": [
       "<span style=\"color:blue\"> |-dense_activation_3: sigmoid</span>"
      ],
      "text/plain": [
       "<IPython.core.display.HTML object>"
      ]
     },
     "metadata": {},
     "output_type": "display_data"
    },
    {
     "data": {
      "text/html": [
       "<span style=\"color:cyan\"> |-dense_activation_4: sigmoid</span>"
      ],
      "text/plain": [
       "<IPython.core.display.HTML object>"
      ]
     },
     "metadata": {},
     "output_type": "display_data"
    },
    {
     "data": {
      "text/html": [
       "<span style=\"color:blue\"> |-dense_activation_5: relu</span>"
      ],
      "text/plain": [
       "<IPython.core.display.HTML object>"
      ]
     },
     "metadata": {},
     "output_type": "display_data"
    },
    {
     "data": {
      "text/html": [
       "<span style=\"color:cyan\"> |-dense_activation_6: sigmoid</span>"
      ],
      "text/plain": [
       "<IPython.core.display.HTML object>"
      ]
     },
     "metadata": {},
     "output_type": "display_data"
    },
    {
     "data": {
      "text/html": [
       "<span style=\"color:blue\"> |-dense_units_0: 8</span>"
      ],
      "text/plain": [
       "<IPython.core.display.HTML object>"
      ]
     },
     "metadata": {},
     "output_type": "display_data"
    },
    {
     "data": {
      "text/html": [
       "<span style=\"color:cyan\"> |-dense_units_1: 56</span>"
      ],
      "text/plain": [
       "<IPython.core.display.HTML object>"
      ]
     },
     "metadata": {},
     "output_type": "display_data"
    },
    {
     "data": {
      "text/html": [
       "<span style=\"color:blue\"> |-dense_units_2: 8</span>"
      ],
      "text/plain": [
       "<IPython.core.display.HTML object>"
      ]
     },
     "metadata": {},
     "output_type": "display_data"
    },
    {
     "data": {
      "text/html": [
       "<span style=\"color:cyan\"> |-dense_units_3: 64</span>"
      ],
      "text/plain": [
       "<IPython.core.display.HTML object>"
      ]
     },
     "metadata": {},
     "output_type": "display_data"
    },
    {
     "data": {
      "text/html": [
       "<span style=\"color:blue\"> |-dense_units_4: 16</span>"
      ],
      "text/plain": [
       "<IPython.core.display.HTML object>"
      ]
     },
     "metadata": {},
     "output_type": "display_data"
    },
    {
     "data": {
      "text/html": [
       "<span style=\"color:cyan\"> |-dense_units_5: 40</span>"
      ],
      "text/plain": [
       "<IPython.core.display.HTML object>"
      ]
     },
     "metadata": {},
     "output_type": "display_data"
    },
    {
     "data": {
      "text/html": [
       "<span style=\"color:blue\"> |-dense_units_6: 32</span>"
      ],
      "text/plain": [
       "<IPython.core.display.HTML object>"
      ]
     },
     "metadata": {},
     "output_type": "display_data"
    },
    {
     "data": {
      "text/html": [
       "<span style=\"color:cyan\"> |-dropout_0: 0.15000000000000002</span>"
      ],
      "text/plain": [
       "<IPython.core.display.HTML object>"
      ]
     },
     "metadata": {},
     "output_type": "display_data"
    },
    {
     "data": {
      "text/html": [
       "<span style=\"color:blue\"> |-dropout_1: 0.25</span>"
      ],
      "text/plain": [
       "<IPython.core.display.HTML object>"
      ]
     },
     "metadata": {},
     "output_type": "display_data"
    },
    {
     "data": {
      "text/html": [
       "<span style=\"color:cyan\"> |-dropout_2: 0.1</span>"
      ],
      "text/plain": [
       "<IPython.core.display.HTML object>"
      ]
     },
     "metadata": {},
     "output_type": "display_data"
    },
    {
     "data": {
      "text/html": [
       "<span style=\"color:blue\"> |-dropout_3: 0.45</span>"
      ],
      "text/plain": [
       "<IPython.core.display.HTML object>"
      ]
     },
     "metadata": {},
     "output_type": "display_data"
    },
    {
     "data": {
      "text/html": [
       "<span style=\"color:cyan\"> |-dropout_4: 0.0</span>"
      ],
      "text/plain": [
       "<IPython.core.display.HTML object>"
      ]
     },
     "metadata": {},
     "output_type": "display_data"
    },
    {
     "data": {
      "text/html": [
       "<span style=\"color:blue\"> |-dropout_5: 0.15000000000000002</span>"
      ],
      "text/plain": [
       "<IPython.core.display.HTML object>"
      ]
     },
     "metadata": {},
     "output_type": "display_data"
    },
    {
     "data": {
      "text/html": [
       "<span style=\"color:cyan\"> |-dropout_6: 0.2</span>"
      ],
      "text/plain": [
       "<IPython.core.display.HTML object>"
      ]
     },
     "metadata": {},
     "output_type": "display_data"
    },
    {
     "data": {
      "text/html": [
       "<span style=\"color:blue\"> |-learning_rate: 0.0008960175671873151</span>"
      ],
      "text/plain": [
       "<IPython.core.display.HTML object>"
      ]
     },
     "metadata": {},
     "output_type": "display_data"
    },
    {
     "data": {
      "text/html": [
       "<span style=\"color:cyan\"> |-num_layers: 4</span>"
      ],
      "text/plain": [
       "<IPython.core.display.HTML object>"
      ]
     },
     "metadata": {},
     "output_type": "display_data"
    },
    {
     "name": "stdout",
     "output_type": "stream",
     "text": [
      "Train on 712 samples, validate on 179 samples\n",
      "Epoch 1/20\n",
      "712/712 [==============================] - 1s 1ms/sample - loss: 0.7926 - accuracy: 0.4775 - val_loss: 0.7345 - val_accuracy: 0.3855\n",
      "Epoch 2/20\n",
      "712/712 [==============================] - 0s 195us/sample - loss: 0.7591 - accuracy: 0.5140 - val_loss: 0.6981 - val_accuracy: 0.4413\n",
      "Epoch 3/20\n",
      "712/712 [==============================] - 0s 163us/sample - loss: 0.7054 - accuracy: 0.5744 - val_loss: 0.6807 - val_accuracy: 0.5922\n",
      "Epoch 4/20\n",
      "712/712 [==============================] - 0s 135us/sample - loss: 0.7017 - accuracy: 0.5913 - val_loss: 0.6735 - val_accuracy: 0.5866\n",
      "Epoch 5/20\n",
      "712/712 [==============================] - 0s 156us/sample - loss: 0.7000 - accuracy: 0.5801 - val_loss: 0.6685 - val_accuracy: 0.5866\n",
      "Epoch 6/20\n",
      "712/712 [==============================] - 0s 140us/sample - loss: 0.6803 - accuracy: 0.6152 - val_loss: 0.6615 - val_accuracy: 0.5866\n",
      "Epoch 7/20\n",
      "712/712 [==============================] - 0s 140us/sample - loss: 0.6791 - accuracy: 0.6292 - val_loss: 0.6574 - val_accuracy: 0.5866\n",
      "Epoch 8/20\n",
      "712/712 [==============================] - 0s 141us/sample - loss: 0.6671 - accuracy: 0.6278 - val_loss: 0.6512 - val_accuracy: 0.5866\n",
      "Epoch 9/20\n",
      "712/712 [==============================] - 0s 141us/sample - loss: 0.6832 - accuracy: 0.6124 - val_loss: 0.6456 - val_accuracy: 0.5922\n",
      "Epoch 10/20\n",
      "712/712 [==============================] - 0s 141us/sample - loss: 0.6620 - accuracy: 0.6250 - val_loss: 0.6354 - val_accuracy: 0.5922\n",
      "Epoch 11/20\n",
      "712/712 [==============================] - 0s 170us/sample - loss: 0.6517 - accuracy: 0.6461 - val_loss: 0.6256 - val_accuracy: 0.6034\n",
      "Epoch 12/20\n",
      "712/712 [==============================] - 0s 170us/sample - loss: 0.6567 - accuracy: 0.6362 - val_loss: 0.6193 - val_accuracy: 0.6089\n",
      "Epoch 13/20\n",
      "712/712 [==============================] - 0s 136us/sample - loss: 0.6499 - accuracy: 0.6278 - val_loss: 0.6125 - val_accuracy: 0.6089\n",
      "Epoch 14/20\n",
      "712/712 [==============================] - 0s 164us/sample - loss: 0.6691 - accuracy: 0.6166 - val_loss: 0.6056 - val_accuracy: 0.6257\n",
      "Epoch 15/20\n",
      "712/712 [==============================] - 0s 164us/sample - loss: 0.6350 - accuracy: 0.6475 - val_loss: 0.5961 - val_accuracy: 0.6369\n",
      "Epoch 16/20\n",
      "712/712 [==============================] - 0s 165us/sample - loss: 0.6379 - accuracy: 0.6545 - val_loss: 0.5886 - val_accuracy: 0.6983\n",
      "Epoch 17/20\n",
      "712/712 [==============================] - 0s 144us/sample - loss: 0.6296 - accuracy: 0.6517 - val_loss: 0.5854 - val_accuracy: 0.6816\n",
      "Epoch 18/20\n",
      "712/712 [==============================] - 0s 169us/sample - loss: 0.6277 - accuracy: 0.6517 - val_loss: 0.5775 - val_accuracy: 0.7151\n",
      "Epoch 19/20\n",
      "712/712 [==============================] - 0s 173us/sample - loss: 0.6289 - accuracy: 0.6517 - val_loss: 0.5711 - val_accuracy: 0.7151\n",
      "Epoch 20/20\n",
      "712/712 [==============================] - 0s 163us/sample - loss: 0.6207 - accuracy: 0.6559 - val_loss: 0.5631 - val_accuracy: 0.7263\n",
      "Train on 712 samples, validate on 179 samples\n",
      "Epoch 1/20\n",
      "712/712 [==============================] - 1s 1ms/sample - loss: 0.7358 - accuracy: 0.5169 - val_loss: 0.6633 - val_accuracy: 0.5866\n",
      "Epoch 2/20\n",
      "712/712 [==============================] - 0s 144us/sample - loss: 0.6984 - accuracy: 0.5421 - val_loss: 0.6516 - val_accuracy: 0.5866\n",
      "Epoch 3/20\n",
      "712/712 [==============================] - 0s 341us/sample - loss: 0.7196 - accuracy: 0.5478 - val_loss: 0.6437 - val_accuracy: 0.5866\n",
      "Epoch 4/20\n",
      "712/712 [==============================] - 0s 216us/sample - loss: 0.6862 - accuracy: 0.5857 - val_loss: 0.6356 - val_accuracy: 0.5866\n",
      "Epoch 5/20\n",
      "712/712 [==============================] - 0s 199us/sample - loss: 0.6859 - accuracy: 0.5815 - val_loss: 0.6278 - val_accuracy: 0.5866\n",
      "Epoch 6/20\n",
      "712/712 [==============================] - 0s 198us/sample - loss: 0.6664 - accuracy: 0.5899 - val_loss: 0.6204 - val_accuracy: 0.5866\n",
      "Epoch 7/20\n",
      "712/712 [==============================] - 0s 135us/sample - loss: 0.6563 - accuracy: 0.6110 - val_loss: 0.6138 - val_accuracy: 0.5866\n",
      "Epoch 8/20\n",
      "712/712 [==============================] - 0s 140us/sample - loss: 0.6612 - accuracy: 0.5843 - val_loss: 0.6062 - val_accuracy: 0.5866\n",
      "Epoch 9/20\n",
      "712/712 [==============================] - 0s 148us/sample - loss: 0.6730 - accuracy: 0.6166 - val_loss: 0.5996 - val_accuracy: 0.5922\n",
      "Epoch 10/20\n",
      "712/712 [==============================] - 0s 141us/sample - loss: 0.6455 - accuracy: 0.6250 - val_loss: 0.5926 - val_accuracy: 0.6034\n",
      "Epoch 11/20\n",
      "712/712 [==============================] - 0s 137us/sample - loss: 0.6629 - accuracy: 0.6194 - val_loss: 0.5856 - val_accuracy: 0.6145\n",
      "Epoch 12/20\n",
      "712/712 [==============================] - 0s 130us/sample - loss: 0.6550 - accuracy: 0.6278 - val_loss: 0.5780 - val_accuracy: 0.6425\n",
      "Epoch 13/20\n",
      "712/712 [==============================] - 0s 129us/sample - loss: 0.6451 - accuracy: 0.6166 - val_loss: 0.5707 - val_accuracy: 0.6872\n",
      "Epoch 14/20\n",
      "712/712 [==============================] - 0s 131us/sample - loss: 0.6242 - accuracy: 0.6419 - val_loss: 0.5630 - val_accuracy: 0.7039\n",
      "Epoch 15/20\n",
      "712/712 [==============================] - 0s 137us/sample - loss: 0.6365 - accuracy: 0.6461 - val_loss: 0.5558 - val_accuracy: 0.7095\n",
      "Epoch 16/20\n",
      "712/712 [==============================] - 0s 196us/sample - loss: 0.6505 - accuracy: 0.6264 - val_loss: 0.5517 - val_accuracy: 0.7263\n",
      "Epoch 17/20\n",
      "712/712 [==============================] - 0s 162us/sample - loss: 0.6259 - accuracy: 0.6475 - val_loss: 0.5463 - val_accuracy: 0.7318\n",
      "Epoch 18/20\n",
      "712/712 [==============================] - 0s 156us/sample - loss: 0.6246 - accuracy: 0.6433 - val_loss: 0.5401 - val_accuracy: 0.7374\n",
      "Epoch 19/20\n",
      "712/712 [==============================] - 0s 157us/sample - loss: 0.6196 - accuracy: 0.6545 - val_loss: 0.5346 - val_accuracy: 0.7542\n",
      "Epoch 20/20\n",
      "712/712 [==============================] - 0s 167us/sample - loss: 0.6041 - accuracy: 0.6798 - val_loss: 0.5268 - val_accuracy: 0.7821\n"
     ]
    },
    {
     "data": {
      "text/html": [
       "<span style=\"color:#4527A0\"><h1 style=\"font-size:18px\">Trial complete</h1></span>"
      ],
      "text/plain": [
       "<IPython.core.display.HTML object>"
      ]
     },
     "metadata": {},
     "output_type": "display_data"
    },
    {
     "data": {
      "text/html": [
       "<span style=\"color:#4527A0\"><h1 style=\"font-size:18px\">Trial summary</h1></span>"
      ],
      "text/plain": [
       "<IPython.core.display.HTML object>"
      ]
     },
     "metadata": {},
     "output_type": "display_data"
    },
    {
     "data": {
      "text/html": [
       "<span style=\"color:cyan\"> |-Trial ID: acece6d1b096375838073799273ef29b</span>"
      ],
      "text/plain": [
       "<IPython.core.display.HTML object>"
      ]
     },
     "metadata": {},
     "output_type": "display_data"
    },
    {
     "data": {
      "text/html": [
       "<span style=\"color:cyan\"> |-Score: 0.7541899681091309</span>"
      ],
      "text/plain": [
       "<IPython.core.display.HTML object>"
      ]
     },
     "metadata": {},
     "output_type": "display_data"
    },
    {
     "data": {
      "text/html": [
       "<span style=\"color:cyan\"> |-Best step: 0</span>"
      ],
      "text/plain": [
       "<IPython.core.display.HTML object>"
      ]
     },
     "metadata": {},
     "output_type": "display_data"
    },
    {
     "data": {
      "text/html": [
       "<span style=\"color:#7E57C2\"><h2 style=\"font-size:16px\">Hyperparameters:</h2></span>"
      ],
      "text/plain": [
       "<IPython.core.display.HTML object>"
      ]
     },
     "metadata": {},
     "output_type": "display_data"
    },
    {
     "data": {
      "text/html": [
       "<span style=\"color:cyan\"> |-dense_activation_0: relu</span>"
      ],
      "text/plain": [
       "<IPython.core.display.HTML object>"
      ]
     },
     "metadata": {},
     "output_type": "display_data"
    },
    {
     "data": {
      "text/html": [
       "<span style=\"color:blue\"> |-dense_activation_1: relu</span>"
      ],
      "text/plain": [
       "<IPython.core.display.HTML object>"
      ]
     },
     "metadata": {},
     "output_type": "display_data"
    },
    {
     "data": {
      "text/html": [
       "<span style=\"color:cyan\"> |-dense_activation_2: tanh</span>"
      ],
      "text/plain": [
       "<IPython.core.display.HTML object>"
      ]
     },
     "metadata": {},
     "output_type": "display_data"
    },
    {
     "data": {
      "text/html": [
       "<span style=\"color:blue\"> |-dense_activation_3: tanh</span>"
      ],
      "text/plain": [
       "<IPython.core.display.HTML object>"
      ]
     },
     "metadata": {},
     "output_type": "display_data"
    },
    {
     "data": {
      "text/html": [
       "<span style=\"color:cyan\"> |-dense_activation_4: relu</span>"
      ],
      "text/plain": [
       "<IPython.core.display.HTML object>"
      ]
     },
     "metadata": {},
     "output_type": "display_data"
    },
    {
     "data": {
      "text/html": [
       "<span style=\"color:blue\"> |-dense_activation_5: relu</span>"
      ],
      "text/plain": [
       "<IPython.core.display.HTML object>"
      ]
     },
     "metadata": {},
     "output_type": "display_data"
    },
    {
     "data": {
      "text/html": [
       "<span style=\"color:cyan\"> |-dense_activation_6: relu</span>"
      ],
      "text/plain": [
       "<IPython.core.display.HTML object>"
      ]
     },
     "metadata": {},
     "output_type": "display_data"
    },
    {
     "data": {
      "text/html": [
       "<span style=\"color:blue\"> |-dense_units_0: 8</span>"
      ],
      "text/plain": [
       "<IPython.core.display.HTML object>"
      ]
     },
     "metadata": {},
     "output_type": "display_data"
    },
    {
     "data": {
      "text/html": [
       "<span style=\"color:cyan\"> |-dense_units_1: 48</span>"
      ],
      "text/plain": [
       "<IPython.core.display.HTML object>"
      ]
     },
     "metadata": {},
     "output_type": "display_data"
    },
    {
     "data": {
      "text/html": [
       "<span style=\"color:blue\"> |-dense_units_2: 16</span>"
      ],
      "text/plain": [
       "<IPython.core.display.HTML object>"
      ]
     },
     "metadata": {},
     "output_type": "display_data"
    },
    {
     "data": {
      "text/html": [
       "<span style=\"color:cyan\"> |-dense_units_3: 32</span>"
      ],
      "text/plain": [
       "<IPython.core.display.HTML object>"
      ]
     },
     "metadata": {},
     "output_type": "display_data"
    },
    {
     "data": {
      "text/html": [
       "<span style=\"color:blue\"> |-dense_units_4: 56</span>"
      ],
      "text/plain": [
       "<IPython.core.display.HTML object>"
      ]
     },
     "metadata": {},
     "output_type": "display_data"
    },
    {
     "data": {
      "text/html": [
       "<span style=\"color:cyan\"> |-dense_units_5: 40</span>"
      ],
      "text/plain": [
       "<IPython.core.display.HTML object>"
      ]
     },
     "metadata": {},
     "output_type": "display_data"
    },
    {
     "data": {
      "text/html": [
       "<span style=\"color:blue\"> |-dense_units_6: 48</span>"
      ],
      "text/plain": [
       "<IPython.core.display.HTML object>"
      ]
     },
     "metadata": {},
     "output_type": "display_data"
    },
    {
     "data": {
      "text/html": [
       "<span style=\"color:cyan\"> |-dropout_0: 0.35000000000000003</span>"
      ],
      "text/plain": [
       "<IPython.core.display.HTML object>"
      ]
     },
     "metadata": {},
     "output_type": "display_data"
    },
    {
     "data": {
      "text/html": [
       "<span style=\"color:blue\"> |-dropout_1: 0.15000000000000002</span>"
      ],
      "text/plain": [
       "<IPython.core.display.HTML object>"
      ]
     },
     "metadata": {},
     "output_type": "display_data"
    },
    {
     "data": {
      "text/html": [
       "<span style=\"color:cyan\"> |-dropout_2: 0.45</span>"
      ],
      "text/plain": [
       "<IPython.core.display.HTML object>"
      ]
     },
     "metadata": {},
     "output_type": "display_data"
    },
    {
     "data": {
      "text/html": [
       "<span style=\"color:blue\"> |-dropout_3: 0.4</span>"
      ],
      "text/plain": [
       "<IPython.core.display.HTML object>"
      ]
     },
     "metadata": {},
     "output_type": "display_data"
    },
    {
     "data": {
      "text/html": [
       "<span style=\"color:cyan\"> |-dropout_4: 0.15000000000000002</span>"
      ],
      "text/plain": [
       "<IPython.core.display.HTML object>"
      ]
     },
     "metadata": {},
     "output_type": "display_data"
    },
    {
     "data": {
      "text/html": [
       "<span style=\"color:blue\"> |-dropout_5: 0.25</span>"
      ],
      "text/plain": [
       "<IPython.core.display.HTML object>"
      ]
     },
     "metadata": {},
     "output_type": "display_data"
    },
    {
     "data": {
      "text/html": [
       "<span style=\"color:cyan\"> |-dropout_6: 0.4</span>"
      ],
      "text/plain": [
       "<IPython.core.display.HTML object>"
      ]
     },
     "metadata": {},
     "output_type": "display_data"
    },
    {
     "data": {
      "text/html": [
       "<span style=\"color:blue\"> |-learning_rate: 0.00019584369813174676</span>"
      ],
      "text/plain": [
       "<IPython.core.display.HTML object>"
      ]
     },
     "metadata": {},
     "output_type": "display_data"
    },
    {
     "data": {
      "text/html": [
       "<span style=\"color:cyan\"> |-num_layers: 3</span>"
      ],
      "text/plain": [
       "<IPython.core.display.HTML object>"
      ]
     },
     "metadata": {},
     "output_type": "display_data"
    },
    {
     "name": "stdout",
     "output_type": "stream",
     "text": [
      "Train on 712 samples, validate on 179 samples\n",
      "Epoch 1/20\n",
      "712/712 [==============================] - 1s 1ms/sample - loss: 0.5853 - accuracy: 0.6840 - val_loss: 0.5151 - val_accuracy: 0.7765\n",
      "Epoch 2/20\n",
      "712/712 [==============================] - 0s 172us/sample - loss: 0.4796 - accuracy: 0.7837 - val_loss: 0.4618 - val_accuracy: 0.7877\n",
      "Epoch 3/20\n",
      "712/712 [==============================] - 0s 160us/sample - loss: 0.4381 - accuracy: 0.8062 - val_loss: 0.4567 - val_accuracy: 0.8045\n",
      "Epoch 4/20\n",
      "712/712 [==============================] - 0s 172us/sample - loss: 0.4655 - accuracy: 0.8006 - val_loss: 0.4468 - val_accuracy: 0.8324\n",
      "Epoch 5/20\n",
      "712/712 [==============================] - 0s 146us/sample - loss: 0.4146 - accuracy: 0.8357 - val_loss: 0.4511 - val_accuracy: 0.7821\n",
      "Epoch 6/20\n",
      "712/712 [==============================] - 0s 143us/sample - loss: 0.4325 - accuracy: 0.8132 - val_loss: 0.4538 - val_accuracy: 0.8268\n",
      "Epoch 7/20\n",
      "712/712 [==============================] - 0s 143us/sample - loss: 0.3984 - accuracy: 0.8357 - val_loss: 0.4542 - val_accuracy: 0.8268\n",
      "Epoch 8/20\n",
      "712/712 [==============================] - 0s 151us/sample - loss: 0.4187 - accuracy: 0.8287 - val_loss: 0.4507 - val_accuracy: 0.8212\n",
      "Epoch 9/20\n",
      "712/712 [==============================] - 0s 145us/sample - loss: 0.4095 - accuracy: 0.8174 - val_loss: 0.4626 - val_accuracy: 0.8156\n",
      "Epoch 10/20\n",
      "712/712 [==============================] - 0s 145us/sample - loss: 0.3940 - accuracy: 0.8385 - val_loss: 0.4625 - val_accuracy: 0.8156\n",
      "Epoch 11/20\n",
      "712/712 [==============================] - 0s 143us/sample - loss: 0.4142 - accuracy: 0.8244 - val_loss: 0.4161 - val_accuracy: 0.8324\n",
      "Epoch 12/20\n",
      "712/712 [==============================] - 0s 143us/sample - loss: 0.3986 - accuracy: 0.8329 - val_loss: 0.4344 - val_accuracy: 0.8268\n",
      "Epoch 13/20\n",
      "712/712 [==============================] - 0s 163us/sample - loss: 0.4024 - accuracy: 0.8469 - val_loss: 0.4436 - val_accuracy: 0.8380\n",
      "Epoch 14/20\n",
      "712/712 [==============================] - 0s 146us/sample - loss: 0.4030 - accuracy: 0.8413 - val_loss: 0.4198 - val_accuracy: 0.8268\n",
      "Epoch 15/20\n",
      "712/712 [==============================] - 0s 140us/sample - loss: 0.3982 - accuracy: 0.8469 - val_loss: 0.4199 - val_accuracy: 0.8324\n",
      "Epoch 16/20\n",
      "712/712 [==============================] - 0s 131us/sample - loss: 0.3978 - accuracy: 0.8455 - val_loss: 0.4323 - val_accuracy: 0.8212\n",
      "Epoch 17/20\n",
      "712/712 [==============================] - 0s 135us/sample - loss: 0.3843 - accuracy: 0.8483 - val_loss: 0.4210 - val_accuracy: 0.8156\n",
      "Epoch 18/20\n",
      "712/712 [==============================] - 0s 135us/sample - loss: 0.3917 - accuracy: 0.8343 - val_loss: 0.4415 - val_accuracy: 0.8101\n",
      "Epoch 19/20\n",
      "712/712 [==============================] - 0s 132us/sample - loss: 0.4092 - accuracy: 0.8413 - val_loss: 0.4366 - val_accuracy: 0.8212\n",
      "Epoch 20/20\n",
      "712/712 [==============================] - 0s 140us/sample - loss: 0.3903 - accuracy: 0.8469 - val_loss: 0.4361 - val_accuracy: 0.8101\n",
      "Train on 712 samples, validate on 179 samples\n",
      "Epoch 1/20\n",
      "712/712 [==============================] - 1s 986us/sample - loss: 0.5421 - accuracy: 0.7374 - val_loss: 0.4589 - val_accuracy: 0.7821\n",
      "Epoch 2/20\n",
      "712/712 [==============================] - 0s 132us/sample - loss: 0.4805 - accuracy: 0.8090 - val_loss: 0.4356 - val_accuracy: 0.8045\n",
      "Epoch 3/20\n",
      "712/712 [==============================] - 0s 130us/sample - loss: 0.4321 - accuracy: 0.8216 - val_loss: 0.4587 - val_accuracy: 0.8101\n",
      "Epoch 4/20\n",
      "712/712 [==============================] - 0s 137us/sample - loss: 0.4232 - accuracy: 0.8287 - val_loss: 0.4450 - val_accuracy: 0.8212\n",
      "Epoch 5/20\n",
      "712/712 [==============================] - 0s 135us/sample - loss: 0.4286 - accuracy: 0.8244 - val_loss: 0.4504 - val_accuracy: 0.8268\n",
      "Epoch 6/20\n",
      "712/712 [==============================] - 0s 132us/sample - loss: 0.4314 - accuracy: 0.8244 - val_loss: 0.4390 - val_accuracy: 0.8212\n",
      "Epoch 7/20\n",
      "712/712 [==============================] - 0s 141us/sample - loss: 0.4126 - accuracy: 0.8357 - val_loss: 0.4291 - val_accuracy: 0.8212\n",
      "Epoch 8/20\n",
      "712/712 [==============================] - 0s 141us/sample - loss: 0.4153 - accuracy: 0.8329 - val_loss: 0.4230 - val_accuracy: 0.8268\n",
      "Epoch 9/20\n",
      "712/712 [==============================] - 0s 148us/sample - loss: 0.4044 - accuracy: 0.8343 - val_loss: 0.4370 - val_accuracy: 0.8324\n",
      "Epoch 10/20\n",
      "712/712 [==============================] - 0s 144us/sample - loss: 0.4016 - accuracy: 0.8315 - val_loss: 0.4296 - val_accuracy: 0.8268\n",
      "Epoch 11/20\n",
      "712/712 [==============================] - 0s 142us/sample - loss: 0.3931 - accuracy: 0.8357 - val_loss: 0.4303 - val_accuracy: 0.7989\n",
      "Epoch 12/20\n",
      "712/712 [==============================] - 0s 136us/sample - loss: 0.3985 - accuracy: 0.8427 - val_loss: 0.4430 - val_accuracy: 0.8101\n",
      "Epoch 13/20\n",
      "712/712 [==============================] - 0s 145us/sample - loss: 0.3941 - accuracy: 0.8483 - val_loss: 0.4312 - val_accuracy: 0.8268\n",
      "Epoch 14/20\n",
      "712/712 [==============================] - 0s 156us/sample - loss: 0.4118 - accuracy: 0.8315 - val_loss: 0.4350 - val_accuracy: 0.8045\n",
      "Epoch 15/20\n",
      "712/712 [==============================] - 0s 148us/sample - loss: 0.3909 - accuracy: 0.8399 - val_loss: 0.4285 - val_accuracy: 0.8156\n",
      "Epoch 16/20\n",
      "712/712 [==============================] - 0s 139us/sample - loss: 0.3906 - accuracy: 0.8441 - val_loss: 0.4343 - val_accuracy: 0.8268\n",
      "Epoch 17/20\n",
      "712/712 [==============================] - 0s 140us/sample - loss: 0.4056 - accuracy: 0.8343 - val_loss: 0.4344 - val_accuracy: 0.8268\n",
      "Epoch 18/20\n",
      "712/712 [==============================] - 0s 137us/sample - loss: 0.3921 - accuracy: 0.8371 - val_loss: 0.4300 - val_accuracy: 0.8156\n",
      "Epoch 19/20\n",
      "712/712 [==============================] - 0s 133us/sample - loss: 0.3938 - accuracy: 0.8357 - val_loss: 0.4262 - val_accuracy: 0.8324\n",
      "Epoch 20/20\n",
      "712/712 [==============================] - 0s 136us/sample - loss: 0.3927 - accuracy: 0.8525 - val_loss: 0.4366 - val_accuracy: 0.8268\n"
     ]
    },
    {
     "data": {
      "text/html": [
       "<span style=\"color:#4527A0\"><h1 style=\"font-size:18px\">Trial complete</h1></span>"
      ],
      "text/plain": [
       "<IPython.core.display.HTML object>"
      ]
     },
     "metadata": {},
     "output_type": "display_data"
    },
    {
     "data": {
      "text/html": [
       "<span style=\"color:#4527A0\"><h1 style=\"font-size:18px\">Trial summary</h1></span>"
      ],
      "text/plain": [
       "<IPython.core.display.HTML object>"
      ]
     },
     "metadata": {},
     "output_type": "display_data"
    },
    {
     "data": {
      "text/html": [
       "<span style=\"color:cyan\"> |-Trial ID: 12fec6aaf934ab432a5e4c672f42d9c8</span>"
      ],
      "text/plain": [
       "<IPython.core.display.HTML object>"
      ]
     },
     "metadata": {},
     "output_type": "display_data"
    },
    {
     "data": {
      "text/html": [
       "<span style=\"color:cyan\"> |-Score: 0.8351955413818359</span>"
      ],
      "text/plain": [
       "<IPython.core.display.HTML object>"
      ]
     },
     "metadata": {},
     "output_type": "display_data"
    },
    {
     "data": {
      "text/html": [
       "<span style=\"color:cyan\"> |-Best step: 0</span>"
      ],
      "text/plain": [
       "<IPython.core.display.HTML object>"
      ]
     },
     "metadata": {},
     "output_type": "display_data"
    },
    {
     "data": {
      "text/html": [
       "<span style=\"color:#7E57C2\"><h2 style=\"font-size:16px\">Hyperparameters:</h2></span>"
      ],
      "text/plain": [
       "<IPython.core.display.HTML object>"
      ]
     },
     "metadata": {},
     "output_type": "display_data"
    },
    {
     "data": {
      "text/html": [
       "<span style=\"color:cyan\"> |-dense_activation_0: relu</span>"
      ],
      "text/plain": [
       "<IPython.core.display.HTML object>"
      ]
     },
     "metadata": {},
     "output_type": "display_data"
    },
    {
     "data": {
      "text/html": [
       "<span style=\"color:blue\"> |-dense_activation_1: tanh</span>"
      ],
      "text/plain": [
       "<IPython.core.display.HTML object>"
      ]
     },
     "metadata": {},
     "output_type": "display_data"
    },
    {
     "data": {
      "text/html": [
       "<span style=\"color:cyan\"> |-dense_activation_2: tanh</span>"
      ],
      "text/plain": [
       "<IPython.core.display.HTML object>"
      ]
     },
     "metadata": {},
     "output_type": "display_data"
    },
    {
     "data": {
      "text/html": [
       "<span style=\"color:blue\"> |-dense_activation_3: tanh</span>"
      ],
      "text/plain": [
       "<IPython.core.display.HTML object>"
      ]
     },
     "metadata": {},
     "output_type": "display_data"
    },
    {
     "data": {
      "text/html": [
       "<span style=\"color:cyan\"> |-dense_activation_4: relu</span>"
      ],
      "text/plain": [
       "<IPython.core.display.HTML object>"
      ]
     },
     "metadata": {},
     "output_type": "display_data"
    },
    {
     "data": {
      "text/html": [
       "<span style=\"color:blue\"> |-dense_activation_5: sigmoid</span>"
      ],
      "text/plain": [
       "<IPython.core.display.HTML object>"
      ]
     },
     "metadata": {},
     "output_type": "display_data"
    },
    {
     "data": {
      "text/html": [
       "<span style=\"color:cyan\"> |-dense_activation_6: relu</span>"
      ],
      "text/plain": [
       "<IPython.core.display.HTML object>"
      ]
     },
     "metadata": {},
     "output_type": "display_data"
    },
    {
     "data": {
      "text/html": [
       "<span style=\"color:blue\"> |-dense_units_0: 16</span>"
      ],
      "text/plain": [
       "<IPython.core.display.HTML object>"
      ]
     },
     "metadata": {},
     "output_type": "display_data"
    },
    {
     "data": {
      "text/html": [
       "<span style=\"color:cyan\"> |-dense_units_1: 32</span>"
      ],
      "text/plain": [
       "<IPython.core.display.HTML object>"
      ]
     },
     "metadata": {},
     "output_type": "display_data"
    },
    {
     "data": {
      "text/html": [
       "<span style=\"color:blue\"> |-dense_units_2: 48</span>"
      ],
      "text/plain": [
       "<IPython.core.display.HTML object>"
      ]
     },
     "metadata": {},
     "output_type": "display_data"
    },
    {
     "data": {
      "text/html": [
       "<span style=\"color:cyan\"> |-dense_units_3: 24</span>"
      ],
      "text/plain": [
       "<IPython.core.display.HTML object>"
      ]
     },
     "metadata": {},
     "output_type": "display_data"
    },
    {
     "data": {
      "text/html": [
       "<span style=\"color:blue\"> |-dense_units_4: 40</span>"
      ],
      "text/plain": [
       "<IPython.core.display.HTML object>"
      ]
     },
     "metadata": {},
     "output_type": "display_data"
    },
    {
     "data": {
      "text/html": [
       "<span style=\"color:cyan\"> |-dense_units_5: 64</span>"
      ],
      "text/plain": [
       "<IPython.core.display.HTML object>"
      ]
     },
     "metadata": {},
     "output_type": "display_data"
    },
    {
     "data": {
      "text/html": [
       "<span style=\"color:blue\"> |-dense_units_6: 24</span>"
      ],
      "text/plain": [
       "<IPython.core.display.HTML object>"
      ]
     },
     "metadata": {},
     "output_type": "display_data"
    },
    {
     "data": {
      "text/html": [
       "<span style=\"color:cyan\"> |-dropout_0: 0.05</span>"
      ],
      "text/plain": [
       "<IPython.core.display.HTML object>"
      ]
     },
     "metadata": {},
     "output_type": "display_data"
    },
    {
     "data": {
      "text/html": [
       "<span style=\"color:blue\"> |-dropout_1: 0.25</span>"
      ],
      "text/plain": [
       "<IPython.core.display.HTML object>"
      ]
     },
     "metadata": {},
     "output_type": "display_data"
    },
    {
     "data": {
      "text/html": [
       "<span style=\"color:cyan\"> |-dropout_2: 0.1</span>"
      ],
      "text/plain": [
       "<IPython.core.display.HTML object>"
      ]
     },
     "metadata": {},
     "output_type": "display_data"
    },
    {
     "data": {
      "text/html": [
       "<span style=\"color:blue\"> |-dropout_3: 0.05</span>"
      ],
      "text/plain": [
       "<IPython.core.display.HTML object>"
      ]
     },
     "metadata": {},
     "output_type": "display_data"
    },
    {
     "data": {
      "text/html": [
       "<span style=\"color:cyan\"> |-dropout_4: 0.5</span>"
      ],
      "text/plain": [
       "<IPython.core.display.HTML object>"
      ]
     },
     "metadata": {},
     "output_type": "display_data"
    },
    {
     "data": {
      "text/html": [
       "<span style=\"color:blue\"> |-dropout_5: 0.35000000000000003</span>"
      ],
      "text/plain": [
       "<IPython.core.display.HTML object>"
      ]
     },
     "metadata": {},
     "output_type": "display_data"
    },
    {
     "data": {
      "text/html": [
       "<span style=\"color:cyan\"> |-dropout_6: 0.15000000000000002</span>"
      ],
      "text/plain": [
       "<IPython.core.display.HTML object>"
      ]
     },
     "metadata": {},
     "output_type": "display_data"
    },
    {
     "data": {
      "text/html": [
       "<span style=\"color:blue\"> |-learning_rate: 0.007387949622995673</span>"
      ],
      "text/plain": [
       "<IPython.core.display.HTML object>"
      ]
     },
     "metadata": {},
     "output_type": "display_data"
    },
    {
     "data": {
      "text/html": [
       "<span style=\"color:cyan\"> |-num_layers: 3</span>"
      ],
      "text/plain": [
       "<IPython.core.display.HTML object>"
      ]
     },
     "metadata": {},
     "output_type": "display_data"
    },
    {
     "name": "stdout",
     "output_type": "stream",
     "text": [
      "Train on 712 samples, validate on 179 samples\n",
      "Epoch 1/20\n",
      "712/712 [==============================] - 1s 1ms/sample - loss: 0.6726 - accuracy: 0.6067 - val_loss: 0.6751 - val_accuracy: 0.5866\n",
      "Epoch 2/20\n",
      "712/712 [==============================] - 0s 144us/sample - loss: 0.6640 - accuracy: 0.6194 - val_loss: 0.6677 - val_accuracy: 0.5866\n",
      "Epoch 3/20\n",
      "712/712 [==============================] - 0s 145us/sample - loss: 0.6560 - accuracy: 0.6250 - val_loss: 0.6516 - val_accuracy: 0.5866\n",
      "Epoch 4/20\n",
      "712/712 [==============================] - 0s 154us/sample - loss: 0.6391 - accuracy: 0.6236 - val_loss: 0.6114 - val_accuracy: 0.5866\n",
      "Epoch 5/20\n",
      "712/712 [==============================] - 0s 149us/sample - loss: 0.6033 - accuracy: 0.6222 - val_loss: 0.5639 - val_accuracy: 0.5866\n",
      "Epoch 6/20\n",
      "712/712 [==============================] - 0s 161us/sample - loss: 0.5771 - accuracy: 0.6236 - val_loss: 0.5305 - val_accuracy: 0.5866\n",
      "Epoch 7/20\n",
      "712/712 [==============================] - 0s 218us/sample - loss: 0.5397 - accuracy: 0.6292 - val_loss: 0.5236 - val_accuracy: 0.8045\n",
      "Epoch 8/20\n",
      "712/712 [==============================] - 0s 149us/sample - loss: 0.5432 - accuracy: 0.7486 - val_loss: 0.5206 - val_accuracy: 0.8045\n",
      "Epoch 9/20\n",
      "712/712 [==============================] - 0s 161us/sample - loss: 0.5293 - accuracy: 0.7654 - val_loss: 0.5203 - val_accuracy: 0.7989\n",
      "Epoch 10/20\n",
      "712/712 [==============================] - 0s 199us/sample - loss: 0.5279 - accuracy: 0.7795 - val_loss: 0.5173 - val_accuracy: 0.8101\n",
      "Epoch 11/20\n",
      "712/712 [==============================] - 0s 154us/sample - loss: 0.5289 - accuracy: 0.7781 - val_loss: 0.5169 - val_accuracy: 0.7933\n",
      "Epoch 12/20\n",
      "712/712 [==============================] - 0s 157us/sample - loss: 0.5118 - accuracy: 0.7795 - val_loss: 0.5128 - val_accuracy: 0.8045\n",
      "Epoch 13/20\n",
      "712/712 [==============================] - 0s 235us/sample - loss: 0.5277 - accuracy: 0.7992 - val_loss: 0.5093 - val_accuracy: 0.7989\n",
      "Epoch 14/20\n",
      "712/712 [==============================] - 0s 252us/sample - loss: 0.5133 - accuracy: 0.7921 - val_loss: 0.5109 - val_accuracy: 0.8101\n",
      "Epoch 15/20\n",
      "712/712 [==============================] - 0s 283us/sample - loss: 0.5101 - accuracy: 0.7992 - val_loss: 0.5054 - val_accuracy: 0.8156\n",
      "Epoch 16/20\n",
      "712/712 [==============================] - 0s 198us/sample - loss: 0.5170 - accuracy: 0.8132 - val_loss: 0.5008 - val_accuracy: 0.8268\n",
      "Epoch 17/20\n",
      "712/712 [==============================] - 0s 150us/sample - loss: 0.5163 - accuracy: 0.8188 - val_loss: 0.4996 - val_accuracy: 0.8268\n",
      "Epoch 18/20\n",
      "712/712 [==============================] - 0s 150us/sample - loss: 0.5172 - accuracy: 0.8188 - val_loss: 0.4996 - val_accuracy: 0.8268\n",
      "Epoch 19/20\n",
      "712/712 [==============================] - 0s 158us/sample - loss: 0.5231 - accuracy: 0.8062 - val_loss: 0.4991 - val_accuracy: 0.8268\n",
      "Epoch 20/20\n",
      "712/712 [==============================] - 0s 155us/sample - loss: 0.5196 - accuracy: 0.8174 - val_loss: 0.4952 - val_accuracy: 0.8268\n",
      "Train on 712 samples, validate on 179 samples\n",
      "Epoch 1/20\n",
      "712/712 [==============================] - 1s 1ms/sample - loss: 0.6702 - accuracy: 0.6067 - val_loss: 0.6768 - val_accuracy: 0.5866\n",
      "Epoch 2/20\n",
      "712/712 [==============================] - 0s 157us/sample - loss: 0.6659 - accuracy: 0.6124 - val_loss: 0.6737 - val_accuracy: 0.5866\n",
      "Epoch 3/20\n",
      "712/712 [==============================] - 0s 153us/sample - loss: 0.6572 - accuracy: 0.6194 - val_loss: 0.6680 - val_accuracy: 0.5866\n",
      "Epoch 4/20\n",
      "712/712 [==============================] - 0s 154us/sample - loss: 0.6611 - accuracy: 0.6264 - val_loss: 0.6484 - val_accuracy: 0.5866\n",
      "Epoch 5/20\n",
      "712/712 [==============================] - 0s 144us/sample - loss: 0.6396 - accuracy: 0.6250 - val_loss: 0.6107 - val_accuracy: 0.6536\n",
      "Epoch 6/20\n",
      "712/712 [==============================] - 0s 153us/sample - loss: 0.5946 - accuracy: 0.7022 - val_loss: 0.5339 - val_accuracy: 0.7486\n",
      "Epoch 7/20\n",
      "712/712 [==============================] - 0s 146us/sample - loss: 0.5383 - accuracy: 0.7500 - val_loss: 0.4827 - val_accuracy: 0.7821\n",
      "Epoch 8/20\n",
      "712/712 [==============================] - 0s 152us/sample - loss: 0.5030 - accuracy: 0.7711 - val_loss: 0.4567 - val_accuracy: 0.8045\n",
      "Epoch 9/20\n",
      "712/712 [==============================] - 0s 166us/sample - loss: 0.5264 - accuracy: 0.7514 - val_loss: 0.4646 - val_accuracy: 0.8045\n",
      "Epoch 10/20\n",
      "712/712 [==============================] - 0s 144us/sample - loss: 0.4920 - accuracy: 0.7893 - val_loss: 0.4544 - val_accuracy: 0.8101\n",
      "Epoch 11/20\n",
      "712/712 [==============================] - 0s 148us/sample - loss: 0.4805 - accuracy: 0.7935 - val_loss: 0.4408 - val_accuracy: 0.7989\n",
      "Epoch 12/20\n",
      "712/712 [==============================] - 0s 147us/sample - loss: 0.4711 - accuracy: 0.7907 - val_loss: 0.4381 - val_accuracy: 0.7933\n",
      "Epoch 13/20\n",
      "712/712 [==============================] - 0s 139us/sample - loss: 0.4846 - accuracy: 0.8006 - val_loss: 0.4401 - val_accuracy: 0.8212\n",
      "Epoch 14/20\n",
      "712/712 [==============================] - 0s 142us/sample - loss: 0.4555 - accuracy: 0.8230 - val_loss: 0.4312 - val_accuracy: 0.8156\n",
      "Epoch 15/20\n",
      "712/712 [==============================] - 0s 155us/sample - loss: 0.4590 - accuracy: 0.8160 - val_loss: 0.4296 - val_accuracy: 0.8156\n",
      "Epoch 16/20\n",
      "712/712 [==============================] - 0s 160us/sample - loss: 0.4584 - accuracy: 0.8090 - val_loss: 0.4341 - val_accuracy: 0.8156\n",
      "Epoch 17/20\n",
      "712/712 [==============================] - 0s 150us/sample - loss: 0.4647 - accuracy: 0.8230 - val_loss: 0.4326 - val_accuracy: 0.8212\n",
      "Epoch 18/20\n",
      "712/712 [==============================] - 0s 153us/sample - loss: 0.4407 - accuracy: 0.8272 - val_loss: 0.4383 - val_accuracy: 0.8156\n",
      "Epoch 19/20\n",
      "712/712 [==============================] - 0s 150us/sample - loss: 0.4588 - accuracy: 0.8188 - val_loss: 0.4325 - val_accuracy: 0.8268\n",
      "Epoch 20/20\n",
      "712/712 [==============================] - 0s 154us/sample - loss: 0.4705 - accuracy: 0.8188 - val_loss: 0.4291 - val_accuracy: 0.8212\n"
     ]
    },
    {
     "data": {
      "text/html": [
       "<span style=\"color:#4527A0\"><h1 style=\"font-size:18px\">Trial complete</h1></span>"
      ],
      "text/plain": [
       "<IPython.core.display.HTML object>"
      ]
     },
     "metadata": {},
     "output_type": "display_data"
    },
    {
     "data": {
      "text/html": [
       "<span style=\"color:#4527A0\"><h1 style=\"font-size:18px\">Trial summary</h1></span>"
      ],
      "text/plain": [
       "<IPython.core.display.HTML object>"
      ]
     },
     "metadata": {},
     "output_type": "display_data"
    },
    {
     "data": {
      "text/html": [
       "<span style=\"color:cyan\"> |-Trial ID: 053fd9c2a750a1a734195c62987f3035</span>"
      ],
      "text/plain": [
       "<IPython.core.display.HTML object>"
      ]
     },
     "metadata": {},
     "output_type": "display_data"
    },
    {
     "data": {
      "text/html": [
       "<span style=\"color:cyan\"> |-Score: 0.826815664768219</span>"
      ],
      "text/plain": [
       "<IPython.core.display.HTML object>"
      ]
     },
     "metadata": {},
     "output_type": "display_data"
    },
    {
     "data": {
      "text/html": [
       "<span style=\"color:cyan\"> |-Best step: 0</span>"
      ],
      "text/plain": [
       "<IPython.core.display.HTML object>"
      ]
     },
     "metadata": {},
     "output_type": "display_data"
    },
    {
     "data": {
      "text/html": [
       "<span style=\"color:#7E57C2\"><h2 style=\"font-size:16px\">Hyperparameters:</h2></span>"
      ],
      "text/plain": [
       "<IPython.core.display.HTML object>"
      ]
     },
     "metadata": {},
     "output_type": "display_data"
    },
    {
     "data": {
      "text/html": [
       "<span style=\"color:cyan\"> |-dense_activation_0: relu</span>"
      ],
      "text/plain": [
       "<IPython.core.display.HTML object>"
      ]
     },
     "metadata": {},
     "output_type": "display_data"
    },
    {
     "data": {
      "text/html": [
       "<span style=\"color:blue\"> |-dense_activation_1: sigmoid</span>"
      ],
      "text/plain": [
       "<IPython.core.display.HTML object>"
      ]
     },
     "metadata": {},
     "output_type": "display_data"
    },
    {
     "data": {
      "text/html": [
       "<span style=\"color:cyan\"> |-dense_activation_2: tanh</span>"
      ],
      "text/plain": [
       "<IPython.core.display.HTML object>"
      ]
     },
     "metadata": {},
     "output_type": "display_data"
    },
    {
     "data": {
      "text/html": [
       "<span style=\"color:blue\"> |-dense_activation_3: sigmoid</span>"
      ],
      "text/plain": [
       "<IPython.core.display.HTML object>"
      ]
     },
     "metadata": {},
     "output_type": "display_data"
    },
    {
     "data": {
      "text/html": [
       "<span style=\"color:cyan\"> |-dense_activation_4: relu</span>"
      ],
      "text/plain": [
       "<IPython.core.display.HTML object>"
      ]
     },
     "metadata": {},
     "output_type": "display_data"
    },
    {
     "data": {
      "text/html": [
       "<span style=\"color:blue\"> |-dense_activation_5: relu</span>"
      ],
      "text/plain": [
       "<IPython.core.display.HTML object>"
      ]
     },
     "metadata": {},
     "output_type": "display_data"
    },
    {
     "data": {
      "text/html": [
       "<span style=\"color:cyan\"> |-dense_activation_6: tanh</span>"
      ],
      "text/plain": [
       "<IPython.core.display.HTML object>"
      ]
     },
     "metadata": {},
     "output_type": "display_data"
    },
    {
     "data": {
      "text/html": [
       "<span style=\"color:blue\"> |-dense_units_0: 32</span>"
      ],
      "text/plain": [
       "<IPython.core.display.HTML object>"
      ]
     },
     "metadata": {},
     "output_type": "display_data"
    },
    {
     "data": {
      "text/html": [
       "<span style=\"color:cyan\"> |-dense_units_1: 56</span>"
      ],
      "text/plain": [
       "<IPython.core.display.HTML object>"
      ]
     },
     "metadata": {},
     "output_type": "display_data"
    },
    {
     "data": {
      "text/html": [
       "<span style=\"color:blue\"> |-dense_units_2: 48</span>"
      ],
      "text/plain": [
       "<IPython.core.display.HTML object>"
      ]
     },
     "metadata": {},
     "output_type": "display_data"
    },
    {
     "data": {
      "text/html": [
       "<span style=\"color:cyan\"> |-dense_units_3: 16</span>"
      ],
      "text/plain": [
       "<IPython.core.display.HTML object>"
      ]
     },
     "metadata": {},
     "output_type": "display_data"
    },
    {
     "data": {
      "text/html": [
       "<span style=\"color:blue\"> |-dense_units_4: 64</span>"
      ],
      "text/plain": [
       "<IPython.core.display.HTML object>"
      ]
     },
     "metadata": {},
     "output_type": "display_data"
    },
    {
     "data": {
      "text/html": [
       "<span style=\"color:cyan\"> |-dense_units_5: 8</span>"
      ],
      "text/plain": [
       "<IPython.core.display.HTML object>"
      ]
     },
     "metadata": {},
     "output_type": "display_data"
    },
    {
     "data": {
      "text/html": [
       "<span style=\"color:blue\"> |-dense_units_6: 40</span>"
      ],
      "text/plain": [
       "<IPython.core.display.HTML object>"
      ]
     },
     "metadata": {},
     "output_type": "display_data"
    },
    {
     "data": {
      "text/html": [
       "<span style=\"color:cyan\"> |-dropout_0: 0.1</span>"
      ],
      "text/plain": [
       "<IPython.core.display.HTML object>"
      ]
     },
     "metadata": {},
     "output_type": "display_data"
    },
    {
     "data": {
      "text/html": [
       "<span style=\"color:blue\"> |-dropout_1: 0.1</span>"
      ],
      "text/plain": [
       "<IPython.core.display.HTML object>"
      ]
     },
     "metadata": {},
     "output_type": "display_data"
    },
    {
     "data": {
      "text/html": [
       "<span style=\"color:cyan\"> |-dropout_2: 0.25</span>"
      ],
      "text/plain": [
       "<IPython.core.display.HTML object>"
      ]
     },
     "metadata": {},
     "output_type": "display_data"
    },
    {
     "data": {
      "text/html": [
       "<span style=\"color:blue\"> |-dropout_3: 0.05</span>"
      ],
      "text/plain": [
       "<IPython.core.display.HTML object>"
      ]
     },
     "metadata": {},
     "output_type": "display_data"
    },
    {
     "data": {
      "text/html": [
       "<span style=\"color:cyan\"> |-dropout_4: 0.30000000000000004</span>"
      ],
      "text/plain": [
       "<IPython.core.display.HTML object>"
      ]
     },
     "metadata": {},
     "output_type": "display_data"
    },
    {
     "data": {
      "text/html": [
       "<span style=\"color:blue\"> |-dropout_5: 0.30000000000000004</span>"
      ],
      "text/plain": [
       "<IPython.core.display.HTML object>"
      ]
     },
     "metadata": {},
     "output_type": "display_data"
    },
    {
     "data": {
      "text/html": [
       "<span style=\"color:cyan\"> |-dropout_6: 0.2</span>"
      ],
      "text/plain": [
       "<IPython.core.display.HTML object>"
      ]
     },
     "metadata": {},
     "output_type": "display_data"
    },
    {
     "data": {
      "text/html": [
       "<span style=\"color:blue\"> |-learning_rate: 0.0009719978423652108</span>"
      ],
      "text/plain": [
       "<IPython.core.display.HTML object>"
      ]
     },
     "metadata": {},
     "output_type": "display_data"
    },
    {
     "data": {
      "text/html": [
       "<span style=\"color:cyan\"> |-num_layers: 5</span>"
      ],
      "text/plain": [
       "<IPython.core.display.HTML object>"
      ]
     },
     "metadata": {},
     "output_type": "display_data"
    },
    {
     "name": "stdout",
     "output_type": "stream",
     "text": [
      "Train on 712 samples, validate on 179 samples\n",
      "Epoch 1/20\n",
      "712/712 [==============================] - 1s 1ms/sample - loss: 0.7163 - accuracy: 0.5660 - val_loss: 0.6887 - val_accuracy: 0.5866\n",
      "Epoch 2/20\n",
      "712/712 [==============================] - 0s 139us/sample - loss: 0.6958 - accuracy: 0.5969 - val_loss: 0.6842 - val_accuracy: 0.5866\n",
      "Epoch 3/20\n",
      "712/712 [==============================] - 0s 136us/sample - loss: 0.6952 - accuracy: 0.5941 - val_loss: 0.6802 - val_accuracy: 0.5866\n",
      "Epoch 4/20\n",
      "712/712 [==============================] - 0s 133us/sample - loss: 0.6833 - accuracy: 0.5815 - val_loss: 0.6779 - val_accuracy: 0.5866\n",
      "Epoch 5/20\n",
      "712/712 [==============================] - 0s 141us/sample - loss: 0.6712 - accuracy: 0.6110 - val_loss: 0.6643 - val_accuracy: 0.5866\n",
      "Epoch 6/20\n",
      "712/712 [==============================] - 0s 146us/sample - loss: 0.6669 - accuracy: 0.6053 - val_loss: 0.6577 - val_accuracy: 0.5866\n",
      "Epoch 7/20\n",
      "712/712 [==============================] - 0s 146us/sample - loss: 0.6505 - accuracy: 0.6362 - val_loss: 0.6393 - val_accuracy: 0.5866\n",
      "Epoch 8/20\n",
      "712/712 [==============================] - 0s 152us/sample - loss: 0.6435 - accuracy: 0.6390 - val_loss: 0.6149 - val_accuracy: 0.5866\n",
      "Epoch 9/20\n",
      "712/712 [==============================] - 0s 165us/sample - loss: 0.6355 - accuracy: 0.6320 - val_loss: 0.5789 - val_accuracy: 0.7151\n",
      "Epoch 10/20\n",
      "712/712 [==============================] - 0s 150us/sample - loss: 0.5976 - accuracy: 0.6798 - val_loss: 0.5550 - val_accuracy: 0.7095\n",
      "Epoch 11/20\n",
      "712/712 [==============================] - 0s 178us/sample - loss: 0.5760 - accuracy: 0.7051 - val_loss: 0.4964 - val_accuracy: 0.8268\n",
      "Epoch 12/20\n",
      "712/712 [==============================] - 0s 139us/sample - loss: 0.5542 - accuracy: 0.7149 - val_loss: 0.4722 - val_accuracy: 0.8212\n",
      "Epoch 13/20\n",
      "712/712 [==============================] - 0s 140us/sample - loss: 0.5472 - accuracy: 0.7135 - val_loss: 0.4653 - val_accuracy: 0.8268\n",
      "Epoch 14/20\n",
      "712/712 [==============================] - 0s 185us/sample - loss: 0.5338 - accuracy: 0.7486 - val_loss: 0.4418 - val_accuracy: 0.8045\n",
      "Epoch 15/20\n",
      "712/712 [==============================] - 0s 150us/sample - loss: 0.5219 - accuracy: 0.7514 - val_loss: 0.4354 - val_accuracy: 0.7989\n",
      "Epoch 16/20\n",
      "712/712 [==============================] - 0s 137us/sample - loss: 0.4944 - accuracy: 0.7851 - val_loss: 0.4348 - val_accuracy: 0.8045\n",
      "Epoch 17/20\n",
      "712/712 [==============================] - 0s 131us/sample - loss: 0.4897 - accuracy: 0.7851 - val_loss: 0.4370 - val_accuracy: 0.8268\n",
      "Epoch 18/20\n",
      "712/712 [==============================] - 0s 135us/sample - loss: 0.5177 - accuracy: 0.7767 - val_loss: 0.4349 - val_accuracy: 0.8101\n",
      "Epoch 19/20\n",
      "712/712 [==============================] - 0s 142us/sample - loss: 0.4750 - accuracy: 0.7949 - val_loss: 0.4310 - val_accuracy: 0.8101\n",
      "Epoch 20/20\n",
      "712/712 [==============================] - 0s 133us/sample - loss: 0.4861 - accuracy: 0.7837 - val_loss: 0.4305 - val_accuracy: 0.8045\n",
      "Train on 712 samples, validate on 179 samples\n",
      "Epoch 1/20\n",
      "712/712 [==============================] - 1s 998us/sample - loss: 0.7485 - accuracy: 0.5253 - val_loss: 0.7106 - val_accuracy: 0.5866\n",
      "Epoch 2/20\n",
      "712/712 [==============================] - 0s 146us/sample - loss: 0.6803 - accuracy: 0.6067 - val_loss: 0.6763 - val_accuracy: 0.5866\n",
      "Epoch 3/20\n",
      "712/712 [==============================] - 0s 141us/sample - loss: 0.6820 - accuracy: 0.5983 - val_loss: 0.6686 - val_accuracy: 0.5866\n",
      "Epoch 4/20\n",
      "712/712 [==============================] - 0s 143us/sample - loss: 0.6807 - accuracy: 0.5899 - val_loss: 0.6690 - val_accuracy: 0.5866\n",
      "Epoch 5/20\n",
      "712/712 [==============================] - 0s 136us/sample - loss: 0.6665 - accuracy: 0.6138 - val_loss: 0.6488 - val_accuracy: 0.5866\n",
      "Epoch 6/20\n",
      "712/712 [==============================] - 0s 134us/sample - loss: 0.6500 - accuracy: 0.6110 - val_loss: 0.6384 - val_accuracy: 0.5866\n",
      "Epoch 7/20\n",
      "712/712 [==============================] - 0s 138us/sample - loss: 0.6587 - accuracy: 0.6138 - val_loss: 0.6192 - val_accuracy: 0.5866\n",
      "Epoch 8/20\n",
      "712/712 [==============================] - 0s 138us/sample - loss: 0.6360 - accuracy: 0.6503 - val_loss: 0.5892 - val_accuracy: 0.6480\n",
      "Epoch 9/20\n",
      "712/712 [==============================] - 0s 136us/sample - loss: 0.6171 - accuracy: 0.6601 - val_loss: 0.5523 - val_accuracy: 0.7598\n",
      "Epoch 10/20\n",
      "712/712 [==============================] - 0s 143us/sample - loss: 0.5866 - accuracy: 0.6784 - val_loss: 0.5256 - val_accuracy: 0.7486\n",
      "Epoch 11/20\n",
      "712/712 [==============================] - 0s 136us/sample - loss: 0.5537 - accuracy: 0.7303 - val_loss: 0.4702 - val_accuracy: 0.8212\n",
      "Epoch 12/20\n",
      "712/712 [==============================] - 0s 154us/sample - loss: 0.5464 - accuracy: 0.7374 - val_loss: 0.4489 - val_accuracy: 0.8268\n",
      "Epoch 13/20\n",
      "712/712 [==============================] - 0s 174us/sample - loss: 0.5227 - accuracy: 0.7570 - val_loss: 0.4456 - val_accuracy: 0.8324\n",
      "Epoch 14/20\n",
      "712/712 [==============================] - 0s 155us/sample - loss: 0.4969 - accuracy: 0.7795 - val_loss: 0.4291 - val_accuracy: 0.8156\n",
      "Epoch 15/20\n",
      "712/712 [==============================] - 0s 210us/sample - loss: 0.4898 - accuracy: 0.7978 - val_loss: 0.4247 - val_accuracy: 0.8268\n",
      "Epoch 16/20\n",
      "712/712 [==============================] - 0s 150us/sample - loss: 0.4913 - accuracy: 0.7837 - val_loss: 0.4248 - val_accuracy: 0.8212\n",
      "Epoch 17/20\n",
      "712/712 [==============================] - 0s 150us/sample - loss: 0.4783 - accuracy: 0.8034 - val_loss: 0.4259 - val_accuracy: 0.8268\n",
      "Epoch 18/20\n",
      "712/712 [==============================] - 0s 165us/sample - loss: 0.4901 - accuracy: 0.7865 - val_loss: 0.4298 - val_accuracy: 0.8212\n",
      "Epoch 19/20\n",
      "712/712 [==============================] - 0s 142us/sample - loss: 0.4513 - accuracy: 0.8076 - val_loss: 0.4282 - val_accuracy: 0.8212\n",
      "Epoch 20/20\n",
      "712/712 [==============================] - 0s 149us/sample - loss: 0.4631 - accuracy: 0.8146 - val_loss: 0.4282 - val_accuracy: 0.8212\n"
     ]
    },
    {
     "data": {
      "text/html": [
       "<span style=\"color:#4527A0\"><h1 style=\"font-size:18px\">Trial complete</h1></span>"
      ],
      "text/plain": [
       "<IPython.core.display.HTML object>"
      ]
     },
     "metadata": {},
     "output_type": "display_data"
    },
    {
     "data": {
      "text/html": [
       "<span style=\"color:#4527A0\"><h1 style=\"font-size:18px\">Trial summary</h1></span>"
      ],
      "text/plain": [
       "<IPython.core.display.HTML object>"
      ]
     },
     "metadata": {},
     "output_type": "display_data"
    },
    {
     "data": {
      "text/html": [
       "<span style=\"color:cyan\"> |-Trial ID: 60b40a661d7ae663e908d9ef2a167713</span>"
      ],
      "text/plain": [
       "<IPython.core.display.HTML object>"
      ]
     },
     "metadata": {},
     "output_type": "display_data"
    },
    {
     "data": {
      "text/html": [
       "<span style=\"color:cyan\"> |-Score: 0.8296089172363281</span>"
      ],
      "text/plain": [
       "<IPython.core.display.HTML object>"
      ]
     },
     "metadata": {},
     "output_type": "display_data"
    },
    {
     "data": {
      "text/html": [
       "<span style=\"color:cyan\"> |-Best step: 0</span>"
      ],
      "text/plain": [
       "<IPython.core.display.HTML object>"
      ]
     },
     "metadata": {},
     "output_type": "display_data"
    },
    {
     "data": {
      "text/html": [
       "<span style=\"color:#7E57C2\"><h2 style=\"font-size:16px\">Hyperparameters:</h2></span>"
      ],
      "text/plain": [
       "<IPython.core.display.HTML object>"
      ]
     },
     "metadata": {},
     "output_type": "display_data"
    },
    {
     "data": {
      "text/html": [
       "<span style=\"color:cyan\"> |-dense_activation_0: sigmoid</span>"
      ],
      "text/plain": [
       "<IPython.core.display.HTML object>"
      ]
     },
     "metadata": {},
     "output_type": "display_data"
    },
    {
     "data": {
      "text/html": [
       "<span style=\"color:blue\"> |-dense_activation_1: relu</span>"
      ],
      "text/plain": [
       "<IPython.core.display.HTML object>"
      ]
     },
     "metadata": {},
     "output_type": "display_data"
    },
    {
     "data": {
      "text/html": [
       "<span style=\"color:cyan\"> |-dense_activation_2: sigmoid</span>"
      ],
      "text/plain": [
       "<IPython.core.display.HTML object>"
      ]
     },
     "metadata": {},
     "output_type": "display_data"
    },
    {
     "data": {
      "text/html": [
       "<span style=\"color:blue\"> |-dense_activation_3: tanh</span>"
      ],
      "text/plain": [
       "<IPython.core.display.HTML object>"
      ]
     },
     "metadata": {},
     "output_type": "display_data"
    },
    {
     "data": {
      "text/html": [
       "<span style=\"color:cyan\"> |-dense_activation_4: tanh</span>"
      ],
      "text/plain": [
       "<IPython.core.display.HTML object>"
      ]
     },
     "metadata": {},
     "output_type": "display_data"
    },
    {
     "data": {
      "text/html": [
       "<span style=\"color:blue\"> |-dense_activation_5: sigmoid</span>"
      ],
      "text/plain": [
       "<IPython.core.display.HTML object>"
      ]
     },
     "metadata": {},
     "output_type": "display_data"
    },
    {
     "data": {
      "text/html": [
       "<span style=\"color:cyan\"> |-dense_activation_6: relu</span>"
      ],
      "text/plain": [
       "<IPython.core.display.HTML object>"
      ]
     },
     "metadata": {},
     "output_type": "display_data"
    },
    {
     "data": {
      "text/html": [
       "<span style=\"color:blue\"> |-dense_units_0: 48</span>"
      ],
      "text/plain": [
       "<IPython.core.display.HTML object>"
      ]
     },
     "metadata": {},
     "output_type": "display_data"
    },
    {
     "data": {
      "text/html": [
       "<span style=\"color:cyan\"> |-dense_units_1: 16</span>"
      ],
      "text/plain": [
       "<IPython.core.display.HTML object>"
      ]
     },
     "metadata": {},
     "output_type": "display_data"
    },
    {
     "data": {
      "text/html": [
       "<span style=\"color:blue\"> |-dense_units_2: 40</span>"
      ],
      "text/plain": [
       "<IPython.core.display.HTML object>"
      ]
     },
     "metadata": {},
     "output_type": "display_data"
    },
    {
     "data": {
      "text/html": [
       "<span style=\"color:cyan\"> |-dense_units_3: 32</span>"
      ],
      "text/plain": [
       "<IPython.core.display.HTML object>"
      ]
     },
     "metadata": {},
     "output_type": "display_data"
    },
    {
     "data": {
      "text/html": [
       "<span style=\"color:blue\"> |-dense_units_4: 40</span>"
      ],
      "text/plain": [
       "<IPython.core.display.HTML object>"
      ]
     },
     "metadata": {},
     "output_type": "display_data"
    },
    {
     "data": {
      "text/html": [
       "<span style=\"color:cyan\"> |-dense_units_5: 56</span>"
      ],
      "text/plain": [
       "<IPython.core.display.HTML object>"
      ]
     },
     "metadata": {},
     "output_type": "display_data"
    },
    {
     "data": {
      "text/html": [
       "<span style=\"color:blue\"> |-dense_units_6: 64</span>"
      ],
      "text/plain": [
       "<IPython.core.display.HTML object>"
      ]
     },
     "metadata": {},
     "output_type": "display_data"
    },
    {
     "data": {
      "text/html": [
       "<span style=\"color:cyan\"> |-dropout_0: 0.05</span>"
      ],
      "text/plain": [
       "<IPython.core.display.HTML object>"
      ]
     },
     "metadata": {},
     "output_type": "display_data"
    },
    {
     "data": {
      "text/html": [
       "<span style=\"color:blue\"> |-dropout_1: 0.4</span>"
      ],
      "text/plain": [
       "<IPython.core.display.HTML object>"
      ]
     },
     "metadata": {},
     "output_type": "display_data"
    },
    {
     "data": {
      "text/html": [
       "<span style=\"color:cyan\"> |-dropout_2: 0.45</span>"
      ],
      "text/plain": [
       "<IPython.core.display.HTML object>"
      ]
     },
     "metadata": {},
     "output_type": "display_data"
    },
    {
     "data": {
      "text/html": [
       "<span style=\"color:blue\"> |-dropout_3: 0.05</span>"
      ],
      "text/plain": [
       "<IPython.core.display.HTML object>"
      ]
     },
     "metadata": {},
     "output_type": "display_data"
    },
    {
     "data": {
      "text/html": [
       "<span style=\"color:cyan\"> |-dropout_4: 0.05</span>"
      ],
      "text/plain": [
       "<IPython.core.display.HTML object>"
      ]
     },
     "metadata": {},
     "output_type": "display_data"
    },
    {
     "data": {
      "text/html": [
       "<span style=\"color:blue\"> |-dropout_5: 0.5</span>"
      ],
      "text/plain": [
       "<IPython.core.display.HTML object>"
      ]
     },
     "metadata": {},
     "output_type": "display_data"
    },
    {
     "data": {
      "text/html": [
       "<span style=\"color:cyan\"> |-dropout_6: 0.30000000000000004</span>"
      ],
      "text/plain": [
       "<IPython.core.display.HTML object>"
      ]
     },
     "metadata": {},
     "output_type": "display_data"
    },
    {
     "data": {
      "text/html": [
       "<span style=\"color:blue\"> |-learning_rate: 0.0009452767099282696</span>"
      ],
      "text/plain": [
       "<IPython.core.display.HTML object>"
      ]
     },
     "metadata": {},
     "output_type": "display_data"
    },
    {
     "data": {
      "text/html": [
       "<span style=\"color:cyan\"> |-num_layers: 3</span>"
      ],
      "text/plain": [
       "<IPython.core.display.HTML object>"
      ]
     },
     "metadata": {},
     "output_type": "display_data"
    },
    {
     "name": "stdout",
     "output_type": "stream",
     "text": [
      "Train on 712 samples, validate on 179 samples\n",
      "Epoch 1/20\n",
      "712/712 [==============================] - 1s 1ms/sample - loss: 0.6949 - accuracy: 0.5913 - val_loss: 0.5663 - val_accuracy: 0.7989\n",
      "Epoch 2/20\n",
      "712/712 [==============================] - 0s 140us/sample - loss: 0.5417 - accuracy: 0.7584 - val_loss: 0.4765 - val_accuracy: 0.7933\n",
      "Epoch 3/20\n",
      "712/712 [==============================] - 0s 163us/sample - loss: 0.4710 - accuracy: 0.8216 - val_loss: 0.4530 - val_accuracy: 0.8156\n",
      "Epoch 4/20\n",
      "712/712 [==============================] - 0s 172us/sample - loss: 0.4774 - accuracy: 0.8230 - val_loss: 0.4533 - val_accuracy: 0.8212\n",
      "Epoch 5/20\n",
      "712/712 [==============================] - 0s 165us/sample - loss: 0.4420 - accuracy: 0.8357 - val_loss: 0.4424 - val_accuracy: 0.8268\n",
      "Epoch 6/20\n",
      "712/712 [==============================] - 0s 157us/sample - loss: 0.4302 - accuracy: 0.8258 - val_loss: 0.4436 - val_accuracy: 0.8268\n",
      "Epoch 7/20\n",
      "712/712 [==============================] - 0s 139us/sample - loss: 0.4366 - accuracy: 0.8230 - val_loss: 0.4492 - val_accuracy: 0.8212\n",
      "Epoch 8/20\n",
      "712/712 [==============================] - 0s 170us/sample - loss: 0.4385 - accuracy: 0.8301 - val_loss: 0.4263 - val_accuracy: 0.8324\n",
      "Epoch 9/20\n",
      "712/712 [==============================] - 0s 143us/sample - loss: 0.4120 - accuracy: 0.8399 - val_loss: 0.4332 - val_accuracy: 0.8268\n",
      "Epoch 10/20\n",
      "712/712 [==============================] - 0s 133us/sample - loss: 0.4117 - accuracy: 0.8357 - val_loss: 0.4440 - val_accuracy: 0.8156\n",
      "Epoch 11/20\n",
      "712/712 [==============================] - 0s 140us/sample - loss: 0.4142 - accuracy: 0.8174 - val_loss: 0.4255 - val_accuracy: 0.8101\n",
      "Epoch 12/20\n",
      "712/712 [==============================] - 0s 145us/sample - loss: 0.3976 - accuracy: 0.8427 - val_loss: 0.4346 - val_accuracy: 0.8212\n",
      "Epoch 13/20\n",
      "712/712 [==============================] - 0s 142us/sample - loss: 0.4061 - accuracy: 0.8329 - val_loss: 0.4241 - val_accuracy: 0.8268\n",
      "Epoch 14/20\n",
      "712/712 [==============================] - 0s 146us/sample - loss: 0.4104 - accuracy: 0.8258 - val_loss: 0.4339 - val_accuracy: 0.8212\n",
      "Epoch 15/20\n",
      "712/712 [==============================] - 0s 138us/sample - loss: 0.3975 - accuracy: 0.8287 - val_loss: 0.4250 - val_accuracy: 0.8324\n",
      "Epoch 16/20\n",
      "712/712 [==============================] - 0s 147us/sample - loss: 0.4008 - accuracy: 0.8258 - val_loss: 0.4250 - val_accuracy: 0.8156\n",
      "Epoch 17/20\n",
      "712/712 [==============================] - 0s 146us/sample - loss: 0.3902 - accuracy: 0.8329 - val_loss: 0.4275 - val_accuracy: 0.8212\n",
      "Epoch 18/20\n",
      "712/712 [==============================] - 0s 172us/sample - loss: 0.3908 - accuracy: 0.8497 - val_loss: 0.4323 - val_accuracy: 0.8380\n",
      "Epoch 19/20\n",
      "712/712 [==============================] - 0s 141us/sample - loss: 0.4002 - accuracy: 0.8329 - val_loss: 0.4241 - val_accuracy: 0.8212\n",
      "Epoch 20/20\n",
      "712/712 [==============================] - 0s 151us/sample - loss: 0.3964 - accuracy: 0.8371 - val_loss: 0.4492 - val_accuracy: 0.8101\n",
      "Train on 712 samples, validate on 179 samples\n",
      "Epoch 1/20\n",
      "712/712 [==============================] - 1s 1ms/sample - loss: 0.6375 - accuracy: 0.6334 - val_loss: 0.5134 - val_accuracy: 0.7821\n",
      "Epoch 2/20\n",
      "712/712 [==============================] - 0s 150us/sample - loss: 0.5129 - accuracy: 0.7809 - val_loss: 0.4704 - val_accuracy: 0.8212\n",
      "Epoch 3/20\n",
      "712/712 [==============================] - 0s 140us/sample - loss: 0.4602 - accuracy: 0.8272 - val_loss: 0.4697 - val_accuracy: 0.7877\n",
      "Epoch 4/20\n",
      "712/712 [==============================] - 0s 138us/sample - loss: 0.4692 - accuracy: 0.8132 - val_loss: 0.4335 - val_accuracy: 0.8156\n",
      "Epoch 5/20\n",
      "712/712 [==============================] - 0s 143us/sample - loss: 0.4306 - accuracy: 0.8343 - val_loss: 0.4403 - val_accuracy: 0.8156\n",
      "Epoch 6/20\n",
      "712/712 [==============================] - 0s 138us/sample - loss: 0.4247 - accuracy: 0.8315 - val_loss: 0.4423 - val_accuracy: 0.8324\n",
      "Epoch 7/20\n",
      "712/712 [==============================] - 0s 146us/sample - loss: 0.4364 - accuracy: 0.8188 - val_loss: 0.4406 - val_accuracy: 0.8156\n",
      "Epoch 8/20\n",
      "712/712 [==============================] - 0s 147us/sample - loss: 0.4195 - accuracy: 0.8413 - val_loss: 0.4248 - val_accuracy: 0.8324\n",
      "Epoch 9/20\n",
      "712/712 [==============================] - 0s 140us/sample - loss: 0.4203 - accuracy: 0.8202 - val_loss: 0.4302 - val_accuracy: 0.8324\n",
      "Epoch 10/20\n",
      "712/712 [==============================] - 0s 142us/sample - loss: 0.3962 - accuracy: 0.8315 - val_loss: 0.4355 - val_accuracy: 0.8268\n",
      "Epoch 11/20\n",
      "712/712 [==============================] - 0s 141us/sample - loss: 0.4084 - accuracy: 0.8258 - val_loss: 0.4399 - val_accuracy: 0.8324\n",
      "Epoch 12/20\n",
      "712/712 [==============================] - 0s 138us/sample - loss: 0.4098 - accuracy: 0.8385 - val_loss: 0.4259 - val_accuracy: 0.8212\n",
      "Epoch 13/20\n",
      "712/712 [==============================] - 0s 150us/sample - loss: 0.4060 - accuracy: 0.8455 - val_loss: 0.4262 - val_accuracy: 0.8380\n",
      "Epoch 14/20\n",
      "712/712 [==============================] - 0s 139us/sample - loss: 0.4148 - accuracy: 0.8272 - val_loss: 0.4255 - val_accuracy: 0.8324\n",
      "Epoch 15/20\n",
      "712/712 [==============================] - 0s 138us/sample - loss: 0.3983 - accuracy: 0.8343 - val_loss: 0.4258 - val_accuracy: 0.8268\n",
      "Epoch 16/20\n",
      "712/712 [==============================] - 0s 138us/sample - loss: 0.3927 - accuracy: 0.8385 - val_loss: 0.4122 - val_accuracy: 0.8380\n",
      "Epoch 17/20\n",
      "712/712 [==============================] - 0s 139us/sample - loss: 0.4022 - accuracy: 0.8230 - val_loss: 0.4156 - val_accuracy: 0.8324\n",
      "Epoch 18/20\n",
      "712/712 [==============================] - 0s 135us/sample - loss: 0.3981 - accuracy: 0.8371 - val_loss: 0.4186 - val_accuracy: 0.8380\n",
      "Epoch 19/20\n",
      "712/712 [==============================] - 0s 136us/sample - loss: 0.4018 - accuracy: 0.8315 - val_loss: 0.4207 - val_accuracy: 0.8268\n",
      "Epoch 20/20\n",
      "712/712 [==============================] - 0s 137us/sample - loss: 0.4116 - accuracy: 0.8258 - val_loss: 0.4134 - val_accuracy: 0.8212\n"
     ]
    },
    {
     "data": {
      "text/html": [
       "<span style=\"color:#4527A0\"><h1 style=\"font-size:18px\">Trial complete</h1></span>"
      ],
      "text/plain": [
       "<IPython.core.display.HTML object>"
      ]
     },
     "metadata": {},
     "output_type": "display_data"
    },
    {
     "data": {
      "text/html": [
       "<span style=\"color:#4527A0\"><h1 style=\"font-size:18px\">Trial summary</h1></span>"
      ],
      "text/plain": [
       "<IPython.core.display.HTML object>"
      ]
     },
     "metadata": {},
     "output_type": "display_data"
    },
    {
     "data": {
      "text/html": [
       "<span style=\"color:cyan\"> |-Trial ID: af936fa427cc1d39b02850c2b780ad45</span>"
      ],
      "text/plain": [
       "<IPython.core.display.HTML object>"
      ]
     },
     "metadata": {},
     "output_type": "display_data"
    },
    {
     "data": {
      "text/html": [
       "<span style=\"color:cyan\"> |-Score: 0.8379888534545898</span>"
      ],
      "text/plain": [
       "<IPython.core.display.HTML object>"
      ]
     },
     "metadata": {},
     "output_type": "display_data"
    },
    {
     "data": {
      "text/html": [
       "<span style=\"color:cyan\"> |-Best step: 0</span>"
      ],
      "text/plain": [
       "<IPython.core.display.HTML object>"
      ]
     },
     "metadata": {},
     "output_type": "display_data"
    },
    {
     "data": {
      "text/html": [
       "<span style=\"color:#7E57C2\"><h2 style=\"font-size:16px\">Hyperparameters:</h2></span>"
      ],
      "text/plain": [
       "<IPython.core.display.HTML object>"
      ]
     },
     "metadata": {},
     "output_type": "display_data"
    },
    {
     "data": {
      "text/html": [
       "<span style=\"color:cyan\"> |-dense_activation_0: tanh</span>"
      ],
      "text/plain": [
       "<IPython.core.display.HTML object>"
      ]
     },
     "metadata": {},
     "output_type": "display_data"
    },
    {
     "data": {
      "text/html": [
       "<span style=\"color:blue\"> |-dense_activation_1: relu</span>"
      ],
      "text/plain": [
       "<IPython.core.display.HTML object>"
      ]
     },
     "metadata": {},
     "output_type": "display_data"
    },
    {
     "data": {
      "text/html": [
       "<span style=\"color:cyan\"> |-dense_activation_2: relu</span>"
      ],
      "text/plain": [
       "<IPython.core.display.HTML object>"
      ]
     },
     "metadata": {},
     "output_type": "display_data"
    },
    {
     "data": {
      "text/html": [
       "<span style=\"color:blue\"> |-dense_activation_3: sigmoid</span>"
      ],
      "text/plain": [
       "<IPython.core.display.HTML object>"
      ]
     },
     "metadata": {},
     "output_type": "display_data"
    },
    {
     "data": {
      "text/html": [
       "<span style=\"color:cyan\"> |-dense_activation_4: sigmoid</span>"
      ],
      "text/plain": [
       "<IPython.core.display.HTML object>"
      ]
     },
     "metadata": {},
     "output_type": "display_data"
    },
    {
     "data": {
      "text/html": [
       "<span style=\"color:blue\"> |-dense_activation_5: relu</span>"
      ],
      "text/plain": [
       "<IPython.core.display.HTML object>"
      ]
     },
     "metadata": {},
     "output_type": "display_data"
    },
    {
     "data": {
      "text/html": [
       "<span style=\"color:cyan\"> |-dense_activation_6: relu</span>"
      ],
      "text/plain": [
       "<IPython.core.display.HTML object>"
      ]
     },
     "metadata": {},
     "output_type": "display_data"
    },
    {
     "data": {
      "text/html": [
       "<span style=\"color:blue\"> |-dense_units_0: 48</span>"
      ],
      "text/plain": [
       "<IPython.core.display.HTML object>"
      ]
     },
     "metadata": {},
     "output_type": "display_data"
    },
    {
     "data": {
      "text/html": [
       "<span style=\"color:cyan\"> |-dense_units_1: 40</span>"
      ],
      "text/plain": [
       "<IPython.core.display.HTML object>"
      ]
     },
     "metadata": {},
     "output_type": "display_data"
    },
    {
     "data": {
      "text/html": [
       "<span style=\"color:blue\"> |-dense_units_2: 16</span>"
      ],
      "text/plain": [
       "<IPython.core.display.HTML object>"
      ]
     },
     "metadata": {},
     "output_type": "display_data"
    },
    {
     "data": {
      "text/html": [
       "<span style=\"color:cyan\"> |-dense_units_3: 24</span>"
      ],
      "text/plain": [
       "<IPython.core.display.HTML object>"
      ]
     },
     "metadata": {},
     "output_type": "display_data"
    },
    {
     "data": {
      "text/html": [
       "<span style=\"color:blue\"> |-dense_units_4: 56</span>"
      ],
      "text/plain": [
       "<IPython.core.display.HTML object>"
      ]
     },
     "metadata": {},
     "output_type": "display_data"
    },
    {
     "data": {
      "text/html": [
       "<span style=\"color:cyan\"> |-dense_units_5: 24</span>"
      ],
      "text/plain": [
       "<IPython.core.display.HTML object>"
      ]
     },
     "metadata": {},
     "output_type": "display_data"
    },
    {
     "data": {
      "text/html": [
       "<span style=\"color:blue\"> |-dense_units_6: 8</span>"
      ],
      "text/plain": [
       "<IPython.core.display.HTML object>"
      ]
     },
     "metadata": {},
     "output_type": "display_data"
    },
    {
     "data": {
      "text/html": [
       "<span style=\"color:cyan\"> |-dropout_0: 0.05</span>"
      ],
      "text/plain": [
       "<IPython.core.display.HTML object>"
      ]
     },
     "metadata": {},
     "output_type": "display_data"
    },
    {
     "data": {
      "text/html": [
       "<span style=\"color:blue\"> |-dropout_1: 0.25</span>"
      ],
      "text/plain": [
       "<IPython.core.display.HTML object>"
      ]
     },
     "metadata": {},
     "output_type": "display_data"
    },
    {
     "data": {
      "text/html": [
       "<span style=\"color:cyan\"> |-dropout_2: 0.1</span>"
      ],
      "text/plain": [
       "<IPython.core.display.HTML object>"
      ]
     },
     "metadata": {},
     "output_type": "display_data"
    },
    {
     "data": {
      "text/html": [
       "<span style=\"color:blue\"> |-dropout_3: 0.15000000000000002</span>"
      ],
      "text/plain": [
       "<IPython.core.display.HTML object>"
      ]
     },
     "metadata": {},
     "output_type": "display_data"
    },
    {
     "data": {
      "text/html": [
       "<span style=\"color:cyan\"> |-dropout_4: 0.2</span>"
      ],
      "text/plain": [
       "<IPython.core.display.HTML object>"
      ]
     },
     "metadata": {},
     "output_type": "display_data"
    },
    {
     "data": {
      "text/html": [
       "<span style=\"color:blue\"> |-dropout_5: 0.2</span>"
      ],
      "text/plain": [
       "<IPython.core.display.HTML object>"
      ]
     },
     "metadata": {},
     "output_type": "display_data"
    },
    {
     "data": {
      "text/html": [
       "<span style=\"color:cyan\"> |-dropout_6: 0.45</span>"
      ],
      "text/plain": [
       "<IPython.core.display.HTML object>"
      ]
     },
     "metadata": {},
     "output_type": "display_data"
    },
    {
     "data": {
      "text/html": [
       "<span style=\"color:blue\"> |-learning_rate: 0.006353350532750873</span>"
      ],
      "text/plain": [
       "<IPython.core.display.HTML object>"
      ]
     },
     "metadata": {},
     "output_type": "display_data"
    },
    {
     "data": {
      "text/html": [
       "<span style=\"color:cyan\"> |-num_layers: 4</span>"
      ],
      "text/plain": [
       "<IPython.core.display.HTML object>"
      ]
     },
     "metadata": {},
     "output_type": "display_data"
    },
    {
     "name": "stdout",
     "output_type": "stream",
     "text": [
      "Train on 712 samples, validate on 179 samples\n",
      "Epoch 1/20\n",
      "712/712 [==============================] - 1s 955us/sample - loss: 0.6611 - accuracy: 0.6053 - val_loss: 0.5433 - val_accuracy: 0.7207\n",
      "Epoch 2/20\n",
      "712/712 [==============================] - 0s 177us/sample - loss: 0.5381 - accuracy: 0.7444 - val_loss: 0.4358 - val_accuracy: 0.8045\n",
      "Epoch 3/20\n",
      "712/712 [==============================] - 0s 166us/sample - loss: 0.4788 - accuracy: 0.7949 - val_loss: 0.4362 - val_accuracy: 0.8101\n",
      "Epoch 4/20\n",
      "712/712 [==============================] - 0s 163us/sample - loss: 0.4536 - accuracy: 0.8006 - val_loss: 0.4351 - val_accuracy: 0.8156\n",
      "Epoch 5/20\n",
      "712/712 [==============================] - 0s 142us/sample - loss: 0.4314 - accuracy: 0.8258 - val_loss: 0.4341 - val_accuracy: 0.8156\n",
      "Epoch 6/20\n",
      "712/712 [==============================] - 0s 168us/sample - loss: 0.4228 - accuracy: 0.8244 - val_loss: 0.4345 - val_accuracy: 0.8212\n",
      "Epoch 7/20\n",
      "712/712 [==============================] - 0s 159us/sample - loss: 0.4097 - accuracy: 0.8301 - val_loss: 0.4338 - val_accuracy: 0.8268\n",
      "Epoch 8/20\n",
      "712/712 [==============================] - 0s 141us/sample - loss: 0.4034 - accuracy: 0.8427 - val_loss: 0.4304 - val_accuracy: 0.8212\n",
      "Epoch 9/20\n",
      "712/712 [==============================] - 0s 138us/sample - loss: 0.4065 - accuracy: 0.8287 - val_loss: 0.4435 - val_accuracy: 0.8212\n",
      "Epoch 10/20\n",
      "712/712 [==============================] - 0s 134us/sample - loss: 0.3985 - accuracy: 0.8301 - val_loss: 0.4319 - val_accuracy: 0.8268\n",
      "Epoch 11/20\n",
      "712/712 [==============================] - 0s 137us/sample - loss: 0.4007 - accuracy: 0.8413 - val_loss: 0.4300 - val_accuracy: 0.8212\n",
      "Epoch 12/20\n",
      "712/712 [==============================] - 0s 139us/sample - loss: 0.4083 - accuracy: 0.8343 - val_loss: 0.4313 - val_accuracy: 0.8268\n",
      "Epoch 13/20\n",
      "712/712 [==============================] - 0s 157us/sample - loss: 0.3995 - accuracy: 0.8427 - val_loss: 0.4280 - val_accuracy: 0.8324\n",
      "Epoch 14/20\n",
      "712/712 [==============================] - 0s 132us/sample - loss: 0.4060 - accuracy: 0.8357 - val_loss: 0.4254 - val_accuracy: 0.8324\n",
      "Epoch 15/20\n",
      "712/712 [==============================] - 0s 162us/sample - loss: 0.4007 - accuracy: 0.8287 - val_loss: 0.4195 - val_accuracy: 0.8436\n",
      "Epoch 16/20\n",
      "712/712 [==============================] - 0s 130us/sample - loss: 0.3943 - accuracy: 0.8371 - val_loss: 0.4374 - val_accuracy: 0.8268\n",
      "Epoch 17/20\n",
      "712/712 [==============================] - 0s 130us/sample - loss: 0.3867 - accuracy: 0.8455 - val_loss: 0.4311 - val_accuracy: 0.8268\n",
      "Epoch 18/20\n",
      "712/712 [==============================] - 0s 137us/sample - loss: 0.3919 - accuracy: 0.8497 - val_loss: 0.4252 - val_accuracy: 0.8436\n",
      "Epoch 19/20\n",
      "712/712 [==============================] - 0s 135us/sample - loss: 0.4015 - accuracy: 0.8315 - val_loss: 0.4398 - val_accuracy: 0.8324\n",
      "Epoch 20/20\n",
      "712/712 [==============================] - 0s 132us/sample - loss: 0.3819 - accuracy: 0.8469 - val_loss: 0.4406 - val_accuracy: 0.8212\n",
      "Train on 712 samples, validate on 179 samples\n",
      "Epoch 1/20\n",
      "712/712 [==============================] - 1s 972us/sample - loss: 0.6550 - accuracy: 0.6222 - val_loss: 0.5359 - val_accuracy: 0.7151\n",
      "Epoch 2/20\n",
      "712/712 [==============================] - 0s 140us/sample - loss: 0.5283 - accuracy: 0.7486 - val_loss: 0.4447 - val_accuracy: 0.8101\n",
      "Epoch 3/20\n",
      "712/712 [==============================] - 0s 139us/sample - loss: 0.4829 - accuracy: 0.7992 - val_loss: 0.4360 - val_accuracy: 0.8045\n",
      "Epoch 4/20\n",
      "712/712 [==============================] - 0s 138us/sample - loss: 0.4612 - accuracy: 0.8076 - val_loss: 0.4330 - val_accuracy: 0.8156\n",
      "Epoch 5/20\n",
      "712/712 [==============================] - 0s 142us/sample - loss: 0.4340 - accuracy: 0.8258 - val_loss: 0.4385 - val_accuracy: 0.8045\n",
      "Epoch 6/20\n",
      "712/712 [==============================] - 0s 215us/sample - loss: 0.4349 - accuracy: 0.8216 - val_loss: 0.4439 - val_accuracy: 0.8101\n",
      "Epoch 7/20\n",
      "712/712 [==============================] - 0s 213us/sample - loss: 0.4337 - accuracy: 0.8216 - val_loss: 0.4294 - val_accuracy: 0.8101\n",
      "Epoch 8/20\n",
      "712/712 [==============================] - 0s 279us/sample - loss: 0.4272 - accuracy: 0.8188 - val_loss: 0.4260 - val_accuracy: 0.8268\n",
      "Epoch 9/20\n",
      "712/712 [==============================] - 0s 167us/sample - loss: 0.4247 - accuracy: 0.8272 - val_loss: 0.4378 - val_accuracy: 0.8156\n",
      "Epoch 10/20\n",
      "712/712 [==============================] - 0s 135us/sample - loss: 0.4116 - accuracy: 0.8343 - val_loss: 0.4230 - val_accuracy: 0.8324\n",
      "Epoch 11/20\n",
      "712/712 [==============================] - 0s 144us/sample - loss: 0.4153 - accuracy: 0.8399 - val_loss: 0.4239 - val_accuracy: 0.8156\n",
      "Epoch 12/20\n",
      "712/712 [==============================] - 0s 146us/sample - loss: 0.4184 - accuracy: 0.8244 - val_loss: 0.4305 - val_accuracy: 0.8156\n",
      "Epoch 13/20\n",
      "712/712 [==============================] - 0s 135us/sample - loss: 0.3982 - accuracy: 0.8329 - val_loss: 0.4264 - val_accuracy: 0.8268\n",
      "Epoch 14/20\n",
      "712/712 [==============================] - 0s 138us/sample - loss: 0.4023 - accuracy: 0.8357 - val_loss: 0.4277 - val_accuracy: 0.8268\n",
      "Epoch 15/20\n",
      "712/712 [==============================] - 0s 139us/sample - loss: 0.3946 - accuracy: 0.8315 - val_loss: 0.4174 - val_accuracy: 0.8324\n",
      "Epoch 16/20\n",
      "712/712 [==============================] - 0s 151us/sample - loss: 0.3997 - accuracy: 0.8385 - val_loss: 0.4295 - val_accuracy: 0.8101\n",
      "Epoch 17/20\n",
      "712/712 [==============================] - 0s 156us/sample - loss: 0.3916 - accuracy: 0.8413 - val_loss: 0.4287 - val_accuracy: 0.8268\n",
      "Epoch 18/20\n",
      "712/712 [==============================] - 0s 152us/sample - loss: 0.3910 - accuracy: 0.8343 - val_loss: 0.4330 - val_accuracy: 0.8101\n",
      "Epoch 19/20\n",
      "712/712 [==============================] - 0s 135us/sample - loss: 0.4125 - accuracy: 0.8244 - val_loss: 0.4266 - val_accuracy: 0.8268\n",
      "Epoch 20/20\n",
      "712/712 [==============================] - 0s 132us/sample - loss: 0.3969 - accuracy: 0.8483 - val_loss: 0.4338 - val_accuracy: 0.8268\n"
     ]
    },
    {
     "data": {
      "text/html": [
       "<span style=\"color:#4527A0\"><h1 style=\"font-size:18px\">Trial complete</h1></span>"
      ],
      "text/plain": [
       "<IPython.core.display.HTML object>"
      ]
     },
     "metadata": {},
     "output_type": "display_data"
    },
    {
     "data": {
      "text/html": [
       "<span style=\"color:#4527A0\"><h1 style=\"font-size:18px\">Trial summary</h1></span>"
      ],
      "text/plain": [
       "<IPython.core.display.HTML object>"
      ]
     },
     "metadata": {},
     "output_type": "display_data"
    },
    {
     "data": {
      "text/html": [
       "<span style=\"color:cyan\"> |-Trial ID: 8b3be966c65be15d5766c05388c4613f</span>"
      ],
      "text/plain": [
       "<IPython.core.display.HTML object>"
      ]
     },
     "metadata": {},
     "output_type": "display_data"
    },
    {
     "data": {
      "text/html": [
       "<span style=\"color:cyan\"> |-Score: 0.8379888534545898</span>"
      ],
      "text/plain": [
       "<IPython.core.display.HTML object>"
      ]
     },
     "metadata": {},
     "output_type": "display_data"
    },
    {
     "data": {
      "text/html": [
       "<span style=\"color:cyan\"> |-Best step: 0</span>"
      ],
      "text/plain": [
       "<IPython.core.display.HTML object>"
      ]
     },
     "metadata": {},
     "output_type": "display_data"
    },
    {
     "data": {
      "text/html": [
       "<span style=\"color:#7E57C2\"><h2 style=\"font-size:16px\">Hyperparameters:</h2></span>"
      ],
      "text/plain": [
       "<IPython.core.display.HTML object>"
      ]
     },
     "metadata": {},
     "output_type": "display_data"
    },
    {
     "data": {
      "text/html": [
       "<span style=\"color:cyan\"> |-dense_activation_0: tanh</span>"
      ],
      "text/plain": [
       "<IPython.core.display.HTML object>"
      ]
     },
     "metadata": {},
     "output_type": "display_data"
    },
    {
     "data": {
      "text/html": [
       "<span style=\"color:blue\"> |-dense_activation_1: relu</span>"
      ],
      "text/plain": [
       "<IPython.core.display.HTML object>"
      ]
     },
     "metadata": {},
     "output_type": "display_data"
    },
    {
     "data": {
      "text/html": [
       "<span style=\"color:cyan\"> |-dense_activation_2: sigmoid</span>"
      ],
      "text/plain": [
       "<IPython.core.display.HTML object>"
      ]
     },
     "metadata": {},
     "output_type": "display_data"
    },
    {
     "data": {
      "text/html": [
       "<span style=\"color:blue\"> |-dense_activation_3: sigmoid</span>"
      ],
      "text/plain": [
       "<IPython.core.display.HTML object>"
      ]
     },
     "metadata": {},
     "output_type": "display_data"
    },
    {
     "data": {
      "text/html": [
       "<span style=\"color:cyan\"> |-dense_activation_4: sigmoid</span>"
      ],
      "text/plain": [
       "<IPython.core.display.HTML object>"
      ]
     },
     "metadata": {},
     "output_type": "display_data"
    },
    {
     "data": {
      "text/html": [
       "<span style=\"color:blue\"> |-dense_activation_5: sigmoid</span>"
      ],
      "text/plain": [
       "<IPython.core.display.HTML object>"
      ]
     },
     "metadata": {},
     "output_type": "display_data"
    },
    {
     "data": {
      "text/html": [
       "<span style=\"color:cyan\"> |-dense_activation_6: relu</span>"
      ],
      "text/plain": [
       "<IPython.core.display.HTML object>"
      ]
     },
     "metadata": {},
     "output_type": "display_data"
    },
    {
     "data": {
      "text/html": [
       "<span style=\"color:blue\"> |-dense_units_0: 40</span>"
      ],
      "text/plain": [
       "<IPython.core.display.HTML object>"
      ]
     },
     "metadata": {},
     "output_type": "display_data"
    },
    {
     "data": {
      "text/html": [
       "<span style=\"color:cyan\"> |-dense_units_1: 24</span>"
      ],
      "text/plain": [
       "<IPython.core.display.HTML object>"
      ]
     },
     "metadata": {},
     "output_type": "display_data"
    },
    {
     "data": {
      "text/html": [
       "<span style=\"color:blue\"> |-dense_units_2: 24</span>"
      ],
      "text/plain": [
       "<IPython.core.display.HTML object>"
      ]
     },
     "metadata": {},
     "output_type": "display_data"
    },
    {
     "data": {
      "text/html": [
       "<span style=\"color:cyan\"> |-dense_units_3: 16</span>"
      ],
      "text/plain": [
       "<IPython.core.display.HTML object>"
      ]
     },
     "metadata": {},
     "output_type": "display_data"
    },
    {
     "data": {
      "text/html": [
       "<span style=\"color:blue\"> |-dense_units_4: 40</span>"
      ],
      "text/plain": [
       "<IPython.core.display.HTML object>"
      ]
     },
     "metadata": {},
     "output_type": "display_data"
    },
    {
     "data": {
      "text/html": [
       "<span style=\"color:cyan\"> |-dense_units_5: 48</span>"
      ],
      "text/plain": [
       "<IPython.core.display.HTML object>"
      ]
     },
     "metadata": {},
     "output_type": "display_data"
    },
    {
     "data": {
      "text/html": [
       "<span style=\"color:blue\"> |-dense_units_6: 24</span>"
      ],
      "text/plain": [
       "<IPython.core.display.HTML object>"
      ]
     },
     "metadata": {},
     "output_type": "display_data"
    },
    {
     "data": {
      "text/html": [
       "<span style=\"color:cyan\"> |-dropout_0: 0.05</span>"
      ],
      "text/plain": [
       "<IPython.core.display.HTML object>"
      ]
     },
     "metadata": {},
     "output_type": "display_data"
    },
    {
     "data": {
      "text/html": [
       "<span style=\"color:blue\"> |-dropout_1: 0.15000000000000002</span>"
      ],
      "text/plain": [
       "<IPython.core.display.HTML object>"
      ]
     },
     "metadata": {},
     "output_type": "display_data"
    },
    {
     "data": {
      "text/html": [
       "<span style=\"color:cyan\"> |-dropout_2: 0.25</span>"
      ],
      "text/plain": [
       "<IPython.core.display.HTML object>"
      ]
     },
     "metadata": {},
     "output_type": "display_data"
    },
    {
     "data": {
      "text/html": [
       "<span style=\"color:blue\"> |-dropout_3: 0.2</span>"
      ],
      "text/plain": [
       "<IPython.core.display.HTML object>"
      ]
     },
     "metadata": {},
     "output_type": "display_data"
    },
    {
     "data": {
      "text/html": [
       "<span style=\"color:cyan\"> |-dropout_4: 0.30000000000000004</span>"
      ],
      "text/plain": [
       "<IPython.core.display.HTML object>"
      ]
     },
     "metadata": {},
     "output_type": "display_data"
    },
    {
     "data": {
      "text/html": [
       "<span style=\"color:blue\"> |-dropout_5: 0.05</span>"
      ],
      "text/plain": [
       "<IPython.core.display.HTML object>"
      ]
     },
     "metadata": {},
     "output_type": "display_data"
    },
    {
     "data": {
      "text/html": [
       "<span style=\"color:cyan\"> |-dropout_6: 0.05</span>"
      ],
      "text/plain": [
       "<IPython.core.display.HTML object>"
      ]
     },
     "metadata": {},
     "output_type": "display_data"
    },
    {
     "data": {
      "text/html": [
       "<span style=\"color:blue\"> |-learning_rate: 0.0033710341251377745</span>"
      ],
      "text/plain": [
       "<IPython.core.display.HTML object>"
      ]
     },
     "metadata": {},
     "output_type": "display_data"
    },
    {
     "data": {
      "text/html": [
       "<span style=\"color:cyan\"> |-num_layers: 2</span>"
      ],
      "text/plain": [
       "<IPython.core.display.HTML object>"
      ]
     },
     "metadata": {},
     "output_type": "display_data"
    },
    {
     "name": "stdout",
     "output_type": "stream",
     "text": [
      "Train on 712 samples, validate on 179 samples\n",
      "Epoch 1/20\n",
      "712/712 [==============================] - 1s 849us/sample - loss: 0.6064 - accuracy: 0.6601 - val_loss: 0.4496 - val_accuracy: 0.8045\n",
      "Epoch 2/20\n",
      "712/712 [==============================] - 0s 177us/sample - loss: 0.4751 - accuracy: 0.7823 - val_loss: 0.4226 - val_accuracy: 0.8101\n",
      "Epoch 3/20\n",
      "712/712 [==============================] - 0s 220us/sample - loss: 0.4561 - accuracy: 0.8034 - val_loss: 0.4302 - val_accuracy: 0.8045\n",
      "Epoch 4/20\n",
      "712/712 [==============================] - 0s 152us/sample - loss: 0.4295 - accuracy: 0.8244 - val_loss: 0.4249 - val_accuracy: 0.8156\n",
      "Epoch 5/20\n",
      "712/712 [==============================] - 0s 130us/sample - loss: 0.4275 - accuracy: 0.8287 - val_loss: 0.4324 - val_accuracy: 0.8045\n",
      "Epoch 6/20\n",
      "712/712 [==============================] - 0s 142us/sample - loss: 0.4187 - accuracy: 0.8385 - val_loss: 0.4295 - val_accuracy: 0.8101\n",
      "Epoch 7/20\n",
      "712/712 [==============================] - 0s 158us/sample - loss: 0.4134 - accuracy: 0.8371 - val_loss: 0.4257 - val_accuracy: 0.8268\n",
      "Epoch 8/20\n",
      "712/712 [==============================] - 0s 129us/sample - loss: 0.4234 - accuracy: 0.8315 - val_loss: 0.4181 - val_accuracy: 0.8101\n",
      "Epoch 9/20\n",
      "712/712 [==============================] - 0s 136us/sample - loss: 0.4223 - accuracy: 0.8301 - val_loss: 0.4293 - val_accuracy: 0.8212\n",
      "Epoch 10/20\n",
      "712/712 [==============================] - 0s 159us/sample - loss: 0.4123 - accuracy: 0.8343 - val_loss: 0.4153 - val_accuracy: 0.8380\n",
      "Epoch 11/20\n",
      "712/712 [==============================] - 0s 134us/sample - loss: 0.4147 - accuracy: 0.8315 - val_loss: 0.4121 - val_accuracy: 0.8380\n",
      "Epoch 12/20\n",
      "712/712 [==============================] - 0s 137us/sample - loss: 0.4009 - accuracy: 0.8371 - val_loss: 0.4116 - val_accuracy: 0.8268\n",
      "Epoch 13/20\n",
      "712/712 [==============================] - 0s 142us/sample - loss: 0.3936 - accuracy: 0.8329 - val_loss: 0.4111 - val_accuracy: 0.8380\n",
      "Epoch 14/20\n",
      "712/712 [==============================] - 0s 140us/sample - loss: 0.4199 - accuracy: 0.8258 - val_loss: 0.4153 - val_accuracy: 0.8380\n",
      "Epoch 15/20\n",
      "712/712 [==============================] - 0s 134us/sample - loss: 0.4060 - accuracy: 0.8371 - val_loss: 0.4060 - val_accuracy: 0.8380\n",
      "Epoch 16/20\n",
      "712/712 [==============================] - 0s 137us/sample - loss: 0.3998 - accuracy: 0.8357 - val_loss: 0.4104 - val_accuracy: 0.8324\n",
      "Epoch 17/20\n",
      "712/712 [==============================] - 0s 143us/sample - loss: 0.4021 - accuracy: 0.8329 - val_loss: 0.4107 - val_accuracy: 0.8324\n",
      "Epoch 18/20\n",
      "712/712 [==============================] - 0s 139us/sample - loss: 0.3998 - accuracy: 0.8413 - val_loss: 0.4138 - val_accuracy: 0.8268\n",
      "Epoch 19/20\n",
      "712/712 [==============================] - 0s 162us/sample - loss: 0.4044 - accuracy: 0.8357 - val_loss: 0.4111 - val_accuracy: 0.8324\n",
      "Epoch 20/20\n",
      "712/712 [==============================] - 0s 147us/sample - loss: 0.4020 - accuracy: 0.8301 - val_loss: 0.4101 - val_accuracy: 0.8324\n",
      "Train on 712 samples, validate on 179 samples\n",
      "Epoch 1/20\n",
      "712/712 [==============================] - 1s 793us/sample - loss: 0.5783 - accuracy: 0.6868 - val_loss: 0.4415 - val_accuracy: 0.8268\n",
      "Epoch 2/20\n",
      "712/712 [==============================] - 0s 127us/sample - loss: 0.4547 - accuracy: 0.8034 - val_loss: 0.4254 - val_accuracy: 0.8212\n",
      "Epoch 3/20\n",
      "712/712 [==============================] - 0s 128us/sample - loss: 0.4315 - accuracy: 0.8230 - val_loss: 0.4361 - val_accuracy: 0.8101\n",
      "Epoch 4/20\n",
      "712/712 [==============================] - 0s 128us/sample - loss: 0.4283 - accuracy: 0.8301 - val_loss: 0.4385 - val_accuracy: 0.8156\n",
      "Epoch 5/20\n",
      "712/712 [==============================] - 0s 131us/sample - loss: 0.4279 - accuracy: 0.8441 - val_loss: 0.4448 - val_accuracy: 0.8156\n",
      "Epoch 6/20\n",
      "712/712 [==============================] - 0s 135us/sample - loss: 0.4223 - accuracy: 0.8230 - val_loss: 0.4436 - val_accuracy: 0.8268\n",
      "Epoch 7/20\n",
      "712/712 [==============================] - 0s 124us/sample - loss: 0.4099 - accuracy: 0.8230 - val_loss: 0.4320 - val_accuracy: 0.8212\n",
      "Epoch 8/20\n",
      "712/712 [==============================] - 0s 128us/sample - loss: 0.4127 - accuracy: 0.8399 - val_loss: 0.4267 - val_accuracy: 0.8380\n",
      "Epoch 9/20\n",
      "712/712 [==============================] - 0s 132us/sample - loss: 0.4230 - accuracy: 0.8202 - val_loss: 0.4310 - val_accuracy: 0.8268\n",
      "Epoch 10/20\n",
      "712/712 [==============================] - 0s 134us/sample - loss: 0.4006 - accuracy: 0.8455 - val_loss: 0.4256 - val_accuracy: 0.8212\n",
      "Epoch 11/20\n",
      "712/712 [==============================] - 0s 128us/sample - loss: 0.3992 - accuracy: 0.8399 - val_loss: 0.4224 - val_accuracy: 0.8268\n",
      "Epoch 12/20\n",
      "712/712 [==============================] - 0s 128us/sample - loss: 0.4055 - accuracy: 0.8399 - val_loss: 0.4208 - val_accuracy: 0.8268\n",
      "Epoch 13/20\n",
      "712/712 [==============================] - 0s 126us/sample - loss: 0.4046 - accuracy: 0.8272 - val_loss: 0.4156 - val_accuracy: 0.8324\n",
      "Epoch 14/20\n",
      "712/712 [==============================] - 0s 127us/sample - loss: 0.4122 - accuracy: 0.8272 - val_loss: 0.4174 - val_accuracy: 0.8268\n",
      "Epoch 15/20\n",
      "712/712 [==============================] - 0s 135us/sample - loss: 0.4079 - accuracy: 0.8287 - val_loss: 0.4100 - val_accuracy: 0.8268\n",
      "Epoch 16/20\n",
      "712/712 [==============================] - 0s 131us/sample - loss: 0.4111 - accuracy: 0.8343 - val_loss: 0.4159 - val_accuracy: 0.8268\n",
      "Epoch 17/20\n",
      "712/712 [==============================] - 0s 124us/sample - loss: 0.3920 - accuracy: 0.8357 - val_loss: 0.4153 - val_accuracy: 0.8324\n",
      "Epoch 18/20\n",
      "712/712 [==============================] - 0s 131us/sample - loss: 0.3948 - accuracy: 0.8329 - val_loss: 0.4217 - val_accuracy: 0.8268\n",
      "Epoch 19/20\n",
      "712/712 [==============================] - 0s 126us/sample - loss: 0.4093 - accuracy: 0.8357 - val_loss: 0.4204 - val_accuracy: 0.8268\n",
      "Epoch 20/20\n",
      "712/712 [==============================] - 0s 129us/sample - loss: 0.3909 - accuracy: 0.8427 - val_loss: 0.4190 - val_accuracy: 0.8212\n"
     ]
    },
    {
     "data": {
      "text/html": [
       "<span style=\"color:#4527A0\"><h1 style=\"font-size:18px\">Trial complete</h1></span>"
      ],
      "text/plain": [
       "<IPython.core.display.HTML object>"
      ]
     },
     "metadata": {},
     "output_type": "display_data"
    },
    {
     "data": {
      "text/html": [
       "<span style=\"color:#4527A0\"><h1 style=\"font-size:18px\">Trial summary</h1></span>"
      ],
      "text/plain": [
       "<IPython.core.display.HTML object>"
      ]
     },
     "metadata": {},
     "output_type": "display_data"
    },
    {
     "data": {
      "text/html": [
       "<span style=\"color:cyan\"> |-Trial ID: 66bd15078af0aae7a694e5aa5a77c0c3</span>"
      ],
      "text/plain": [
       "<IPython.core.display.HTML object>"
      ]
     },
     "metadata": {},
     "output_type": "display_data"
    },
    {
     "data": {
      "text/html": [
       "<span style=\"color:cyan\"> |-Score: 0.8379888534545898</span>"
      ],
      "text/plain": [
       "<IPython.core.display.HTML object>"
      ]
     },
     "metadata": {},
     "output_type": "display_data"
    },
    {
     "data": {
      "text/html": [
       "<span style=\"color:cyan\"> |-Best step: 0</span>"
      ],
      "text/plain": [
       "<IPython.core.display.HTML object>"
      ]
     },
     "metadata": {},
     "output_type": "display_data"
    },
    {
     "data": {
      "text/html": [
       "<span style=\"color:#7E57C2\"><h2 style=\"font-size:16px\">Hyperparameters:</h2></span>"
      ],
      "text/plain": [
       "<IPython.core.display.HTML object>"
      ]
     },
     "metadata": {},
     "output_type": "display_data"
    },
    {
     "data": {
      "text/html": [
       "<span style=\"color:cyan\"> |-dense_activation_0: tanh</span>"
      ],
      "text/plain": [
       "<IPython.core.display.HTML object>"
      ]
     },
     "metadata": {},
     "output_type": "display_data"
    },
    {
     "data": {
      "text/html": [
       "<span style=\"color:blue\"> |-dense_activation_1: tanh</span>"
      ],
      "text/plain": [
       "<IPython.core.display.HTML object>"
      ]
     },
     "metadata": {},
     "output_type": "display_data"
    },
    {
     "data": {
      "text/html": [
       "<span style=\"color:cyan\"> |-dense_activation_2: sigmoid</span>"
      ],
      "text/plain": [
       "<IPython.core.display.HTML object>"
      ]
     },
     "metadata": {},
     "output_type": "display_data"
    },
    {
     "data": {
      "text/html": [
       "<span style=\"color:blue\"> |-dense_activation_3: sigmoid</span>"
      ],
      "text/plain": [
       "<IPython.core.display.HTML object>"
      ]
     },
     "metadata": {},
     "output_type": "display_data"
    },
    {
     "data": {
      "text/html": [
       "<span style=\"color:cyan\"> |-dense_activation_4: tanh</span>"
      ],
      "text/plain": [
       "<IPython.core.display.HTML object>"
      ]
     },
     "metadata": {},
     "output_type": "display_data"
    },
    {
     "data": {
      "text/html": [
       "<span style=\"color:blue\"> |-dense_activation_5: sigmoid</span>"
      ],
      "text/plain": [
       "<IPython.core.display.HTML object>"
      ]
     },
     "metadata": {},
     "output_type": "display_data"
    },
    {
     "data": {
      "text/html": [
       "<span style=\"color:cyan\"> |-dense_activation_6: tanh</span>"
      ],
      "text/plain": [
       "<IPython.core.display.HTML object>"
      ]
     },
     "metadata": {},
     "output_type": "display_data"
    },
    {
     "data": {
      "text/html": [
       "<span style=\"color:blue\"> |-dense_units_0: 32</span>"
      ],
      "text/plain": [
       "<IPython.core.display.HTML object>"
      ]
     },
     "metadata": {},
     "output_type": "display_data"
    },
    {
     "data": {
      "text/html": [
       "<span style=\"color:cyan\"> |-dense_units_1: 40</span>"
      ],
      "text/plain": [
       "<IPython.core.display.HTML object>"
      ]
     },
     "metadata": {},
     "output_type": "display_data"
    },
    {
     "data": {
      "text/html": [
       "<span style=\"color:blue\"> |-dense_units_2: 32</span>"
      ],
      "text/plain": [
       "<IPython.core.display.HTML object>"
      ]
     },
     "metadata": {},
     "output_type": "display_data"
    },
    {
     "data": {
      "text/html": [
       "<span style=\"color:cyan\"> |-dense_units_3: 16</span>"
      ],
      "text/plain": [
       "<IPython.core.display.HTML object>"
      ]
     },
     "metadata": {},
     "output_type": "display_data"
    },
    {
     "data": {
      "text/html": [
       "<span style=\"color:blue\"> |-dense_units_4: 56</span>"
      ],
      "text/plain": [
       "<IPython.core.display.HTML object>"
      ]
     },
     "metadata": {},
     "output_type": "display_data"
    },
    {
     "data": {
      "text/html": [
       "<span style=\"color:cyan\"> |-dense_units_5: 48</span>"
      ],
      "text/plain": [
       "<IPython.core.display.HTML object>"
      ]
     },
     "metadata": {},
     "output_type": "display_data"
    },
    {
     "data": {
      "text/html": [
       "<span style=\"color:blue\"> |-dense_units_6: 48</span>"
      ],
      "text/plain": [
       "<IPython.core.display.HTML object>"
      ]
     },
     "metadata": {},
     "output_type": "display_data"
    },
    {
     "data": {
      "text/html": [
       "<span style=\"color:cyan\"> |-dropout_0: 0.0</span>"
      ],
      "text/plain": [
       "<IPython.core.display.HTML object>"
      ]
     },
     "metadata": {},
     "output_type": "display_data"
    },
    {
     "data": {
      "text/html": [
       "<span style=\"color:blue\"> |-dropout_1: 0.30000000000000004</span>"
      ],
      "text/plain": [
       "<IPython.core.display.HTML object>"
      ]
     },
     "metadata": {},
     "output_type": "display_data"
    },
    {
     "data": {
      "text/html": [
       "<span style=\"color:cyan\"> |-dropout_2: 0.2</span>"
      ],
      "text/plain": [
       "<IPython.core.display.HTML object>"
      ]
     },
     "metadata": {},
     "output_type": "display_data"
    },
    {
     "data": {
      "text/html": [
       "<span style=\"color:blue\"> |-dropout_3: 0.0</span>"
      ],
      "text/plain": [
       "<IPython.core.display.HTML object>"
      ]
     },
     "metadata": {},
     "output_type": "display_data"
    },
    {
     "data": {
      "text/html": [
       "<span style=\"color:cyan\"> |-dropout_4: 0.15000000000000002</span>"
      ],
      "text/plain": [
       "<IPython.core.display.HTML object>"
      ]
     },
     "metadata": {},
     "output_type": "display_data"
    },
    {
     "data": {
      "text/html": [
       "<span style=\"color:blue\"> |-dropout_5: 0.1</span>"
      ],
      "text/plain": [
       "<IPython.core.display.HTML object>"
      ]
     },
     "metadata": {},
     "output_type": "display_data"
    },
    {
     "data": {
      "text/html": [
       "<span style=\"color:cyan\"> |-dropout_6: 0.05</span>"
      ],
      "text/plain": [
       "<IPython.core.display.HTML object>"
      ]
     },
     "metadata": {},
     "output_type": "display_data"
    },
    {
     "data": {
      "text/html": [
       "<span style=\"color:blue\"> |-learning_rate: 0.0025124079357885637</span>"
      ],
      "text/plain": [
       "<IPython.core.display.HTML object>"
      ]
     },
     "metadata": {},
     "output_type": "display_data"
    },
    {
     "data": {
      "text/html": [
       "<span style=\"color:cyan\"> |-num_layers: 1</span>"
      ],
      "text/plain": [
       "<IPython.core.display.HTML object>"
      ]
     },
     "metadata": {},
     "output_type": "display_data"
    },
    {
     "name": "stdout",
     "output_type": "stream",
     "text": [
      "Train on 712 samples, validate on 179 samples\n",
      "Epoch 1/20\n",
      "712/712 [==============================] - 1s 1ms/sample - loss: 0.6850 - accuracy: 0.5955 - val_loss: 0.6085 - val_accuracy: 0.6704\n",
      "Epoch 2/20\n",
      "712/712 [==============================] - 0s 160us/sample - loss: 0.5897 - accuracy: 0.7079 - val_loss: 0.4555 - val_accuracy: 0.7989\n",
      "Epoch 3/20\n",
      "712/712 [==============================] - 0s 143us/sample - loss: 0.5479 - accuracy: 0.7486 - val_loss: 0.4801 - val_accuracy: 0.7486\n",
      "Epoch 4/20\n",
      "712/712 [==============================] - 0s 138us/sample - loss: 0.5435 - accuracy: 0.7388 - val_loss: 0.4487 - val_accuracy: 0.7877\n",
      "Epoch 5/20\n",
      "712/712 [==============================] - 0s 162us/sample - loss: 0.4900 - accuracy: 0.7823 - val_loss: 0.4437 - val_accuracy: 0.8045\n",
      "Epoch 6/20\n",
      "712/712 [==============================] - 0s 135us/sample - loss: 0.4584 - accuracy: 0.8062 - val_loss: 0.4621 - val_accuracy: 0.7765\n",
      "Epoch 7/20\n",
      "712/712 [==============================] - 0s 133us/sample - loss: 0.4317 - accuracy: 0.8301 - val_loss: 0.4546 - val_accuracy: 0.8045\n",
      "Epoch 8/20\n",
      "712/712 [==============================] - 0s 135us/sample - loss: 0.4399 - accuracy: 0.8230 - val_loss: 0.4568 - val_accuracy: 0.7821\n",
      "Epoch 9/20\n",
      "712/712 [==============================] - 0s 161us/sample - loss: 0.4572 - accuracy: 0.8188 - val_loss: 0.4422 - val_accuracy: 0.8212\n",
      "Epoch 10/20\n",
      "712/712 [==============================] - 0s 138us/sample - loss: 0.4486 - accuracy: 0.8188 - val_loss: 0.4411 - val_accuracy: 0.8156\n",
      "Epoch 11/20\n",
      "712/712 [==============================] - 0s 149us/sample - loss: 0.4400 - accuracy: 0.8104 - val_loss: 0.4391 - val_accuracy: 0.8156\n",
      "Epoch 12/20\n",
      "712/712 [==============================] - 0s 149us/sample - loss: 0.4426 - accuracy: 0.8258 - val_loss: 0.4343 - val_accuracy: 0.8212\n",
      "Epoch 13/20\n",
      "712/712 [==============================] - 0s 152us/sample - loss: 0.4621 - accuracy: 0.8104 - val_loss: 0.4382 - val_accuracy: 0.8045\n",
      "Epoch 14/20\n",
      "712/712 [==============================] - 0s 169us/sample - loss: 0.4261 - accuracy: 0.8230 - val_loss: 0.4415 - val_accuracy: 0.8324\n",
      "Epoch 15/20\n",
      "712/712 [==============================] - 0s 138us/sample - loss: 0.4246 - accuracy: 0.8357 - val_loss: 0.4357 - val_accuracy: 0.8268\n",
      "Epoch 16/20\n",
      "712/712 [==============================] - 0s 212us/sample - loss: 0.4287 - accuracy: 0.8357 - val_loss: 0.4353 - val_accuracy: 0.8324\n",
      "Epoch 17/20\n",
      "712/712 [==============================] - 0s 136us/sample - loss: 0.4190 - accuracy: 0.8301 - val_loss: 0.4309 - val_accuracy: 0.8324\n",
      "Epoch 18/20\n",
      "712/712 [==============================] - 0s 146us/sample - loss: 0.4240 - accuracy: 0.8329 - val_loss: 0.4432 - val_accuracy: 0.8212\n",
      "Epoch 19/20\n",
      "712/712 [==============================] - 0s 151us/sample - loss: 0.4173 - accuracy: 0.8399 - val_loss: 0.4430 - val_accuracy: 0.8268\n",
      "Epoch 20/20\n",
      "712/712 [==============================] - 0s 137us/sample - loss: 0.4290 - accuracy: 0.8188 - val_loss: 0.4328 - val_accuracy: 0.8268\n",
      "Train on 712 samples, validate on 179 samples\n",
      "Epoch 1/20\n",
      "712/712 [==============================] - 1s 1ms/sample - loss: 0.6731 - accuracy: 0.5983 - val_loss: 0.6424 - val_accuracy: 0.5866\n",
      "Epoch 2/20\n",
      "712/712 [==============================] - 0s 141us/sample - loss: 0.5943 - accuracy: 0.6966 - val_loss: 0.4463 - val_accuracy: 0.8268\n",
      "Epoch 3/20\n",
      "712/712 [==============================] - 0s 147us/sample - loss: 0.5339 - accuracy: 0.7472 - val_loss: 0.4720 - val_accuracy: 0.7654\n",
      "Epoch 4/20\n",
      "712/712 [==============================] - 0s 144us/sample - loss: 0.5515 - accuracy: 0.7514 - val_loss: 0.4484 - val_accuracy: 0.7989\n",
      "Epoch 5/20\n",
      "712/712 [==============================] - 0s 136us/sample - loss: 0.4904 - accuracy: 0.7851 - val_loss: 0.4450 - val_accuracy: 0.7877\n",
      "Epoch 6/20\n",
      "712/712 [==============================] - 0s 137us/sample - loss: 0.4754 - accuracy: 0.8020 - val_loss: 0.4594 - val_accuracy: 0.7933\n",
      "Epoch 7/20\n",
      "712/712 [==============================] - 0s 139us/sample - loss: 0.4521 - accuracy: 0.8104 - val_loss: 0.4409 - val_accuracy: 0.8101\n",
      "Epoch 8/20\n",
      "712/712 [==============================] - 0s 141us/sample - loss: 0.4417 - accuracy: 0.8230 - val_loss: 0.4403 - val_accuracy: 0.8268\n",
      "Epoch 9/20\n",
      "712/712 [==============================] - 0s 131us/sample - loss: 0.4562 - accuracy: 0.8104 - val_loss: 0.4418 - val_accuracy: 0.8101\n",
      "Epoch 10/20\n",
      "712/712 [==============================] - 0s 133us/sample - loss: 0.4473 - accuracy: 0.8272 - val_loss: 0.4392 - val_accuracy: 0.8268\n",
      "Epoch 11/20\n",
      "712/712 [==============================] - 0s 135us/sample - loss: 0.4449 - accuracy: 0.8230 - val_loss: 0.4331 - val_accuracy: 0.8212\n",
      "Epoch 12/20\n",
      "712/712 [==============================] - 0s 139us/sample - loss: 0.4368 - accuracy: 0.8301 - val_loss: 0.4442 - val_accuracy: 0.8212\n",
      "Epoch 13/20\n",
      "712/712 [==============================] - 0s 146us/sample - loss: 0.4451 - accuracy: 0.8230 - val_loss: 0.4477 - val_accuracy: 0.7821\n",
      "Epoch 14/20\n",
      "712/712 [==============================] - 0s 147us/sample - loss: 0.4244 - accuracy: 0.8258 - val_loss: 0.4438 - val_accuracy: 0.8268\n",
      "Epoch 15/20\n",
      "712/712 [==============================] - 0s 145us/sample - loss: 0.4325 - accuracy: 0.8160 - val_loss: 0.4288 - val_accuracy: 0.8324\n",
      "Epoch 16/20\n",
      "712/712 [==============================] - 0s 132us/sample - loss: 0.4293 - accuracy: 0.8174 - val_loss: 0.4357 - val_accuracy: 0.8101\n",
      "Epoch 17/20\n",
      "712/712 [==============================] - 0s 135us/sample - loss: 0.4278 - accuracy: 0.8244 - val_loss: 0.4312 - val_accuracy: 0.8324\n",
      "Epoch 18/20\n",
      "712/712 [==============================] - 0s 133us/sample - loss: 0.4138 - accuracy: 0.8301 - val_loss: 0.4446 - val_accuracy: 0.8212\n",
      "Epoch 19/20\n",
      "712/712 [==============================] - 0s 134us/sample - loss: 0.4120 - accuracy: 0.8174 - val_loss: 0.4410 - val_accuracy: 0.8268\n",
      "Epoch 20/20\n",
      "712/712 [==============================] - 0s 363us/sample - loss: 0.4249 - accuracy: 0.8258 - val_loss: 0.4350 - val_accuracy: 0.8324\n"
     ]
    },
    {
     "data": {
      "text/html": [
       "<span style=\"color:#4527A0\"><h1 style=\"font-size:18px\">Trial complete</h1></span>"
      ],
      "text/plain": [
       "<IPython.core.display.HTML object>"
      ]
     },
     "metadata": {},
     "output_type": "display_data"
    },
    {
     "data": {
      "text/html": [
       "<span style=\"color:#4527A0\"><h1 style=\"font-size:18px\">Trial summary</h1></span>"
      ],
      "text/plain": [
       "<IPython.core.display.HTML object>"
      ]
     },
     "metadata": {},
     "output_type": "display_data"
    },
    {
     "data": {
      "text/html": [
       "<span style=\"color:cyan\"> |-Trial ID: a8439af9e179ddc08d3c9a04d3548859</span>"
      ],
      "text/plain": [
       "<IPython.core.display.HTML object>"
      ]
     },
     "metadata": {},
     "output_type": "display_data"
    },
    {
     "data": {
      "text/html": [
       "<span style=\"color:cyan\"> |-Score: 0.832402229309082</span>"
      ],
      "text/plain": [
       "<IPython.core.display.HTML object>"
      ]
     },
     "metadata": {},
     "output_type": "display_data"
    },
    {
     "data": {
      "text/html": [
       "<span style=\"color:cyan\"> |-Best step: 0</span>"
      ],
      "text/plain": [
       "<IPython.core.display.HTML object>"
      ]
     },
     "metadata": {},
     "output_type": "display_data"
    },
    {
     "data": {
      "text/html": [
       "<span style=\"color:#7E57C2\"><h2 style=\"font-size:16px\">Hyperparameters:</h2></span>"
      ],
      "text/plain": [
       "<IPython.core.display.HTML object>"
      ]
     },
     "metadata": {},
     "output_type": "display_data"
    },
    {
     "data": {
      "text/html": [
       "<span style=\"color:cyan\"> |-dense_activation_0: sigmoid</span>"
      ],
      "text/plain": [
       "<IPython.core.display.HTML object>"
      ]
     },
     "metadata": {},
     "output_type": "display_data"
    },
    {
     "data": {
      "text/html": [
       "<span style=\"color:blue\"> |-dense_activation_1: relu</span>"
      ],
      "text/plain": [
       "<IPython.core.display.HTML object>"
      ]
     },
     "metadata": {},
     "output_type": "display_data"
    },
    {
     "data": {
      "text/html": [
       "<span style=\"color:cyan\"> |-dense_activation_2: tanh</span>"
      ],
      "text/plain": [
       "<IPython.core.display.HTML object>"
      ]
     },
     "metadata": {},
     "output_type": "display_data"
    },
    {
     "data": {
      "text/html": [
       "<span style=\"color:blue\"> |-dense_activation_3: sigmoid</span>"
      ],
      "text/plain": [
       "<IPython.core.display.HTML object>"
      ]
     },
     "metadata": {},
     "output_type": "display_data"
    },
    {
     "data": {
      "text/html": [
       "<span style=\"color:cyan\"> |-dense_activation_4: sigmoid</span>"
      ],
      "text/plain": [
       "<IPython.core.display.HTML object>"
      ]
     },
     "metadata": {},
     "output_type": "display_data"
    },
    {
     "data": {
      "text/html": [
       "<span style=\"color:blue\"> |-dense_activation_5: sigmoid</span>"
      ],
      "text/plain": [
       "<IPython.core.display.HTML object>"
      ]
     },
     "metadata": {},
     "output_type": "display_data"
    },
    {
     "data": {
      "text/html": [
       "<span style=\"color:cyan\"> |-dense_activation_6: relu</span>"
      ],
      "text/plain": [
       "<IPython.core.display.HTML object>"
      ]
     },
     "metadata": {},
     "output_type": "display_data"
    },
    {
     "data": {
      "text/html": [
       "<span style=\"color:blue\"> |-dense_units_0: 32</span>"
      ],
      "text/plain": [
       "<IPython.core.display.HTML object>"
      ]
     },
     "metadata": {},
     "output_type": "display_data"
    },
    {
     "data": {
      "text/html": [
       "<span style=\"color:cyan\"> |-dense_units_1: 48</span>"
      ],
      "text/plain": [
       "<IPython.core.display.HTML object>"
      ]
     },
     "metadata": {},
     "output_type": "display_data"
    },
    {
     "data": {
      "text/html": [
       "<span style=\"color:blue\"> |-dense_units_2: 48</span>"
      ],
      "text/plain": [
       "<IPython.core.display.HTML object>"
      ]
     },
     "metadata": {},
     "output_type": "display_data"
    },
    {
     "data": {
      "text/html": [
       "<span style=\"color:cyan\"> |-dense_units_3: 48</span>"
      ],
      "text/plain": [
       "<IPython.core.display.HTML object>"
      ]
     },
     "metadata": {},
     "output_type": "display_data"
    },
    {
     "data": {
      "text/html": [
       "<span style=\"color:blue\"> |-dense_units_4: 16</span>"
      ],
      "text/plain": [
       "<IPython.core.display.HTML object>"
      ]
     },
     "metadata": {},
     "output_type": "display_data"
    },
    {
     "data": {
      "text/html": [
       "<span style=\"color:cyan\"> |-dense_units_5: 24</span>"
      ],
      "text/plain": [
       "<IPython.core.display.HTML object>"
      ]
     },
     "metadata": {},
     "output_type": "display_data"
    },
    {
     "data": {
      "text/html": [
       "<span style=\"color:blue\"> |-dense_units_6: 16</span>"
      ],
      "text/plain": [
       "<IPython.core.display.HTML object>"
      ]
     },
     "metadata": {},
     "output_type": "display_data"
    },
    {
     "data": {
      "text/html": [
       "<span style=\"color:cyan\"> |-dropout_0: 0.25</span>"
      ],
      "text/plain": [
       "<IPython.core.display.HTML object>"
      ]
     },
     "metadata": {},
     "output_type": "display_data"
    },
    {
     "data": {
      "text/html": [
       "<span style=\"color:blue\"> |-dropout_1: 0.15000000000000002</span>"
      ],
      "text/plain": [
       "<IPython.core.display.HTML object>"
      ]
     },
     "metadata": {},
     "output_type": "display_data"
    },
    {
     "data": {
      "text/html": [
       "<span style=\"color:cyan\"> |-dropout_2: 0.15000000000000002</span>"
      ],
      "text/plain": [
       "<IPython.core.display.HTML object>"
      ]
     },
     "metadata": {},
     "output_type": "display_data"
    },
    {
     "data": {
      "text/html": [
       "<span style=\"color:blue\"> |-dropout_3: 0.4</span>"
      ],
      "text/plain": [
       "<IPython.core.display.HTML object>"
      ]
     },
     "metadata": {},
     "output_type": "display_data"
    },
    {
     "data": {
      "text/html": [
       "<span style=\"color:cyan\"> |-dropout_4: 0.35000000000000003</span>"
      ],
      "text/plain": [
       "<IPython.core.display.HTML object>"
      ]
     },
     "metadata": {},
     "output_type": "display_data"
    },
    {
     "data": {
      "text/html": [
       "<span style=\"color:blue\"> |-dropout_5: 0.45</span>"
      ],
      "text/plain": [
       "<IPython.core.display.HTML object>"
      ]
     },
     "metadata": {},
     "output_type": "display_data"
    },
    {
     "data": {
      "text/html": [
       "<span style=\"color:cyan\"> |-dropout_6: 0.25</span>"
      ],
      "text/plain": [
       "<IPython.core.display.HTML object>"
      ]
     },
     "metadata": {},
     "output_type": "display_data"
    },
    {
     "data": {
      "text/html": [
       "<span style=\"color:blue\"> |-learning_rate: 0.0047156844970391324</span>"
      ],
      "text/plain": [
       "<IPython.core.display.HTML object>"
      ]
     },
     "metadata": {},
     "output_type": "display_data"
    },
    {
     "data": {
      "text/html": [
       "<span style=\"color:cyan\"> |-num_layers: 3</span>"
      ],
      "text/plain": [
       "<IPython.core.display.HTML object>"
      ]
     },
     "metadata": {},
     "output_type": "display_data"
    },
    {
     "name": "stdout",
     "output_type": "stream",
     "text": [
      "Train on 712 samples, validate on 179 samples\n",
      "Epoch 1/20\n",
      "712/712 [==============================] - 1s 931us/sample - loss: 0.6992 - accuracy: 0.5674 - val_loss: 0.5784 - val_accuracy: 0.6927\n",
      "Epoch 2/20\n",
      "712/712 [==============================] - 0s 198us/sample - loss: 0.6013 - accuracy: 0.6840 - val_loss: 0.5015 - val_accuracy: 0.7430\n",
      "Epoch 3/20\n",
      "712/712 [==============================] - 0s 154us/sample - loss: 0.5656 - accuracy: 0.7275 - val_loss: 0.4622 - val_accuracy: 0.7877\n",
      "Epoch 4/20\n",
      "712/712 [==============================] - 0s 182us/sample - loss: 0.5479 - accuracy: 0.7261 - val_loss: 0.4382 - val_accuracy: 0.8212\n",
      "Epoch 5/20\n",
      "712/712 [==============================] - 0s 283us/sample - loss: 0.5429 - accuracy: 0.7289 - val_loss: 0.4255 - val_accuracy: 0.8268\n",
      "Epoch 6/20\n",
      "712/712 [==============================] - 0s 246us/sample - loss: 0.5325 - accuracy: 0.7514 - val_loss: 0.4193 - val_accuracy: 0.8324\n",
      "Epoch 7/20\n",
      "712/712 [==============================] - 0s 219us/sample - loss: 0.4978 - accuracy: 0.7837 - val_loss: 0.4165 - val_accuracy: 0.8268\n",
      "Epoch 8/20\n",
      "712/712 [==============================] - 0s 137us/sample - loss: 0.4847 - accuracy: 0.7823 - val_loss: 0.4139 - val_accuracy: 0.8045\n",
      "Epoch 9/20\n",
      "712/712 [==============================] - 0s 132us/sample - loss: 0.4939 - accuracy: 0.7851 - val_loss: 0.4111 - val_accuracy: 0.8268\n",
      "Epoch 10/20\n",
      "712/712 [==============================] - 0s 131us/sample - loss: 0.4763 - accuracy: 0.7963 - val_loss: 0.4108 - val_accuracy: 0.8101\n",
      "Epoch 11/20\n",
      "712/712 [==============================] - 0s 133us/sample - loss: 0.4729 - accuracy: 0.8034 - val_loss: 0.4112 - val_accuracy: 0.8212\n",
      "Epoch 12/20\n",
      "712/712 [==============================] - 0s 129us/sample - loss: 0.4724 - accuracy: 0.7949 - val_loss: 0.4142 - val_accuracy: 0.8156\n",
      "Epoch 13/20\n",
      "712/712 [==============================] - 0s 135us/sample - loss: 0.4638 - accuracy: 0.8174 - val_loss: 0.4088 - val_accuracy: 0.8156\n",
      "Epoch 14/20\n",
      "712/712 [==============================] - 0s 136us/sample - loss: 0.4561 - accuracy: 0.8076 - val_loss: 0.4116 - val_accuracy: 0.8268\n",
      "Epoch 15/20\n",
      "712/712 [==============================] - 0s 141us/sample - loss: 0.4546 - accuracy: 0.8104 - val_loss: 0.4086 - val_accuracy: 0.8212\n",
      "Epoch 16/20\n",
      "712/712 [==============================] - 0s 140us/sample - loss: 0.4497 - accuracy: 0.8216 - val_loss: 0.4144 - val_accuracy: 0.8101\n",
      "Epoch 17/20\n",
      "712/712 [==============================] - 0s 132us/sample - loss: 0.4316 - accuracy: 0.8343 - val_loss: 0.4152 - val_accuracy: 0.8212\n",
      "Epoch 18/20\n",
      "712/712 [==============================] - 0s 139us/sample - loss: 0.4406 - accuracy: 0.8202 - val_loss: 0.4132 - val_accuracy: 0.8212\n",
      "Epoch 19/20\n",
      "712/712 [==============================] - 0s 136us/sample - loss: 0.4484 - accuracy: 0.8090 - val_loss: 0.4182 - val_accuracy: 0.8212\n",
      "Epoch 20/20\n",
      "712/712 [==============================] - 0s 133us/sample - loss: 0.4299 - accuracy: 0.8301 - val_loss: 0.4167 - val_accuracy: 0.8212\n",
      "Train on 712 samples, validate on 179 samples\n",
      "Epoch 1/20\n",
      "712/712 [==============================] - 1s 896us/sample - loss: 0.7016 - accuracy: 0.5646 - val_loss: 0.5918 - val_accuracy: 0.6592\n",
      "Epoch 2/20\n",
      "712/712 [==============================] - 0s 142us/sample - loss: 0.5963 - accuracy: 0.6784 - val_loss: 0.5144 - val_accuracy: 0.7318\n",
      "Epoch 3/20\n",
      "712/712 [==============================] - 0s 144us/sample - loss: 0.5604 - accuracy: 0.7149 - val_loss: 0.4794 - val_accuracy: 0.7877\n",
      "Epoch 4/20\n",
      "712/712 [==============================] - 0s 137us/sample - loss: 0.5372 - accuracy: 0.7430 - val_loss: 0.4651 - val_accuracy: 0.7765\n",
      "Epoch 5/20\n",
      "712/712 [==============================] - 0s 145us/sample - loss: 0.5175 - accuracy: 0.7669 - val_loss: 0.4650 - val_accuracy: 0.7877\n",
      "Epoch 6/20\n",
      "712/712 [==============================] - 0s 130us/sample - loss: 0.4826 - accuracy: 0.7795 - val_loss: 0.4627 - val_accuracy: 0.7821\n",
      "Epoch 7/20\n",
      "712/712 [==============================] - 0s 132us/sample - loss: 0.5192 - accuracy: 0.7640 - val_loss: 0.4621 - val_accuracy: 0.7821\n",
      "Epoch 8/20\n",
      "712/712 [==============================] - 0s 133us/sample - loss: 0.4932 - accuracy: 0.7767 - val_loss: 0.4570 - val_accuracy: 0.7821\n",
      "Epoch 9/20\n",
      "712/712 [==============================] - 0s 143us/sample - loss: 0.4908 - accuracy: 0.7809 - val_loss: 0.4487 - val_accuracy: 0.7877\n",
      "Epoch 10/20\n",
      "712/712 [==============================] - 0s 131us/sample - loss: 0.4680 - accuracy: 0.7963 - val_loss: 0.4490 - val_accuracy: 0.7877\n",
      "Epoch 11/20\n",
      "712/712 [==============================] - 0s 137us/sample - loss: 0.4829 - accuracy: 0.7907 - val_loss: 0.4459 - val_accuracy: 0.7933\n",
      "Epoch 12/20\n",
      "712/712 [==============================] - 0s 139us/sample - loss: 0.4653 - accuracy: 0.8062 - val_loss: 0.4476 - val_accuracy: 0.7933\n",
      "Epoch 13/20\n",
      "712/712 [==============================] - 0s 139us/sample - loss: 0.4681 - accuracy: 0.8048 - val_loss: 0.4416 - val_accuracy: 0.7989\n",
      "Epoch 14/20\n",
      "712/712 [==============================] - 0s 185us/sample - loss: 0.4535 - accuracy: 0.8006 - val_loss: 0.4395 - val_accuracy: 0.8045\n",
      "Epoch 15/20\n",
      "712/712 [==============================] - 0s 133us/sample - loss: 0.4583 - accuracy: 0.8062 - val_loss: 0.4373 - val_accuracy: 0.8045\n",
      "Epoch 16/20\n",
      "712/712 [==============================] - 0s 131us/sample - loss: 0.4373 - accuracy: 0.8258 - val_loss: 0.4371 - val_accuracy: 0.8101\n",
      "Epoch 17/20\n",
      "712/712 [==============================] - 0s 139us/sample - loss: 0.4594 - accuracy: 0.8034 - val_loss: 0.4364 - val_accuracy: 0.8101\n",
      "Epoch 18/20\n",
      "712/712 [==============================] - 0s 130us/sample - loss: 0.4537 - accuracy: 0.8118 - val_loss: 0.4357 - val_accuracy: 0.8045\n",
      "Epoch 19/20\n",
      "712/712 [==============================] - 0s 193us/sample - loss: 0.4602 - accuracy: 0.8062 - val_loss: 0.4335 - val_accuracy: 0.8156\n",
      "Epoch 20/20\n",
      "712/712 [==============================] - 0s 134us/sample - loss: 0.4478 - accuracy: 0.8202 - val_loss: 0.4327 - val_accuracy: 0.8101\n"
     ]
    },
    {
     "data": {
      "text/html": [
       "<span style=\"color:#4527A0\"><h1 style=\"font-size:18px\">Trial complete</h1></span>"
      ],
      "text/plain": [
       "<IPython.core.display.HTML object>"
      ]
     },
     "metadata": {},
     "output_type": "display_data"
    },
    {
     "data": {
      "text/html": [
       "<span style=\"color:#4527A0\"><h1 style=\"font-size:18px\">Trial summary</h1></span>"
      ],
      "text/plain": [
       "<IPython.core.display.HTML object>"
      ]
     },
     "metadata": {},
     "output_type": "display_data"
    },
    {
     "data": {
      "text/html": [
       "<span style=\"color:cyan\"> |-Trial ID: 4f2f6dbdfa347db2e8a77e13b842da9e</span>"
      ],
      "text/plain": [
       "<IPython.core.display.HTML object>"
      ]
     },
     "metadata": {},
     "output_type": "display_data"
    },
    {
     "data": {
      "text/html": [
       "<span style=\"color:cyan\"> |-Score: 0.8240223526954651</span>"
      ],
      "text/plain": [
       "<IPython.core.display.HTML object>"
      ]
     },
     "metadata": {},
     "output_type": "display_data"
    },
    {
     "data": {
      "text/html": [
       "<span style=\"color:cyan\"> |-Best step: 0</span>"
      ],
      "text/plain": [
       "<IPython.core.display.HTML object>"
      ]
     },
     "metadata": {},
     "output_type": "display_data"
    },
    {
     "data": {
      "text/html": [
       "<span style=\"color:#7E57C2\"><h2 style=\"font-size:16px\">Hyperparameters:</h2></span>"
      ],
      "text/plain": [
       "<IPython.core.display.HTML object>"
      ]
     },
     "metadata": {},
     "output_type": "display_data"
    },
    {
     "data": {
      "text/html": [
       "<span style=\"color:cyan\"> |-dense_activation_0: tanh</span>"
      ],
      "text/plain": [
       "<IPython.core.display.HTML object>"
      ]
     },
     "metadata": {},
     "output_type": "display_data"
    },
    {
     "data": {
      "text/html": [
       "<span style=\"color:blue\"> |-dense_activation_1: tanh</span>"
      ],
      "text/plain": [
       "<IPython.core.display.HTML object>"
      ]
     },
     "metadata": {},
     "output_type": "display_data"
    },
    {
     "data": {
      "text/html": [
       "<span style=\"color:cyan\"> |-dense_activation_2: tanh</span>"
      ],
      "text/plain": [
       "<IPython.core.display.HTML object>"
      ]
     },
     "metadata": {},
     "output_type": "display_data"
    },
    {
     "data": {
      "text/html": [
       "<span style=\"color:blue\"> |-dense_activation_3: relu</span>"
      ],
      "text/plain": [
       "<IPython.core.display.HTML object>"
      ]
     },
     "metadata": {},
     "output_type": "display_data"
    },
    {
     "data": {
      "text/html": [
       "<span style=\"color:cyan\"> |-dense_activation_4: sigmoid</span>"
      ],
      "text/plain": [
       "<IPython.core.display.HTML object>"
      ]
     },
     "metadata": {},
     "output_type": "display_data"
    },
    {
     "data": {
      "text/html": [
       "<span style=\"color:blue\"> |-dense_activation_5: relu</span>"
      ],
      "text/plain": [
       "<IPython.core.display.HTML object>"
      ]
     },
     "metadata": {},
     "output_type": "display_data"
    },
    {
     "data": {
      "text/html": [
       "<span style=\"color:cyan\"> |-dense_activation_6: relu</span>"
      ],
      "text/plain": [
       "<IPython.core.display.HTML object>"
      ]
     },
     "metadata": {},
     "output_type": "display_data"
    },
    {
     "data": {
      "text/html": [
       "<span style=\"color:blue\"> |-dense_units_0: 32</span>"
      ],
      "text/plain": [
       "<IPython.core.display.HTML object>"
      ]
     },
     "metadata": {},
     "output_type": "display_data"
    },
    {
     "data": {
      "text/html": [
       "<span style=\"color:cyan\"> |-dense_units_1: 40</span>"
      ],
      "text/plain": [
       "<IPython.core.display.HTML object>"
      ]
     },
     "metadata": {},
     "output_type": "display_data"
    },
    {
     "data": {
      "text/html": [
       "<span style=\"color:blue\"> |-dense_units_2: 32</span>"
      ],
      "text/plain": [
       "<IPython.core.display.HTML object>"
      ]
     },
     "metadata": {},
     "output_type": "display_data"
    },
    {
     "data": {
      "text/html": [
       "<span style=\"color:cyan\"> |-dense_units_3: 8</span>"
      ],
      "text/plain": [
       "<IPython.core.display.HTML object>"
      ]
     },
     "metadata": {},
     "output_type": "display_data"
    },
    {
     "data": {
      "text/html": [
       "<span style=\"color:blue\"> |-dense_units_4: 24</span>"
      ],
      "text/plain": [
       "<IPython.core.display.HTML object>"
      ]
     },
     "metadata": {},
     "output_type": "display_data"
    },
    {
     "data": {
      "text/html": [
       "<span style=\"color:cyan\"> |-dense_units_5: 56</span>"
      ],
      "text/plain": [
       "<IPython.core.display.HTML object>"
      ]
     },
     "metadata": {},
     "output_type": "display_data"
    },
    {
     "data": {
      "text/html": [
       "<span style=\"color:blue\"> |-dense_units_6: 48</span>"
      ],
      "text/plain": [
       "<IPython.core.display.HTML object>"
      ]
     },
     "metadata": {},
     "output_type": "display_data"
    },
    {
     "data": {
      "text/html": [
       "<span style=\"color:cyan\"> |-dropout_0: 0.4</span>"
      ],
      "text/plain": [
       "<IPython.core.display.HTML object>"
      ]
     },
     "metadata": {},
     "output_type": "display_data"
    },
    {
     "data": {
      "text/html": [
       "<span style=\"color:blue\"> |-dropout_1: 0.05</span>"
      ],
      "text/plain": [
       "<IPython.core.display.HTML object>"
      ]
     },
     "metadata": {},
     "output_type": "display_data"
    },
    {
     "data": {
      "text/html": [
       "<span style=\"color:cyan\"> |-dropout_2: 0.35000000000000003</span>"
      ],
      "text/plain": [
       "<IPython.core.display.HTML object>"
      ]
     },
     "metadata": {},
     "output_type": "display_data"
    },
    {
     "data": {
      "text/html": [
       "<span style=\"color:blue\"> |-dropout_3: 0.2</span>"
      ],
      "text/plain": [
       "<IPython.core.display.HTML object>"
      ]
     },
     "metadata": {},
     "output_type": "display_data"
    },
    {
     "data": {
      "text/html": [
       "<span style=\"color:cyan\"> |-dropout_4: 0.30000000000000004</span>"
      ],
      "text/plain": [
       "<IPython.core.display.HTML object>"
      ]
     },
     "metadata": {},
     "output_type": "display_data"
    },
    {
     "data": {
      "text/html": [
       "<span style=\"color:blue\"> |-dropout_5: 0.1</span>"
      ],
      "text/plain": [
       "<IPython.core.display.HTML object>"
      ]
     },
     "metadata": {},
     "output_type": "display_data"
    },
    {
     "data": {
      "text/html": [
       "<span style=\"color:cyan\"> |-dropout_6: 0.4</span>"
      ],
      "text/plain": [
       "<IPython.core.display.HTML object>"
      ]
     },
     "metadata": {},
     "output_type": "display_data"
    },
    {
     "data": {
      "text/html": [
       "<span style=\"color:blue\"> |-learning_rate: 0.0009271244766046284</span>"
      ],
      "text/plain": [
       "<IPython.core.display.HTML object>"
      ]
     },
     "metadata": {},
     "output_type": "display_data"
    },
    {
     "data": {
      "text/html": [
       "<span style=\"color:cyan\"> |-num_layers: 2</span>"
      ],
      "text/plain": [
       "<IPython.core.display.HTML object>"
      ]
     },
     "metadata": {},
     "output_type": "display_data"
    },
    {
     "name": "stdout",
     "output_type": "stream",
     "text": [
      "Train on 712 samples, validate on 179 samples\n",
      "Epoch 1/20\n",
      "712/712 [==============================] - 1s 1ms/sample - loss: 0.6808 - accuracy: 0.5562 - val_loss: 0.6754 - val_accuracy: 0.5866\n",
      "Epoch 2/20\n",
      "712/712 [==============================] - 0s 159us/sample - loss: 0.6724 - accuracy: 0.6025 - val_loss: 0.6738 - val_accuracy: 0.5866\n",
      "Epoch 3/20\n",
      "712/712 [==============================] - 0s 151us/sample - loss: 0.6802 - accuracy: 0.6124 - val_loss: 0.6697 - val_accuracy: 0.5866\n",
      "Epoch 4/20\n",
      "712/712 [==============================] - 0s 161us/sample - loss: 0.6698 - accuracy: 0.6180 - val_loss: 0.6667 - val_accuracy: 0.5866\n",
      "Epoch 5/20\n",
      "712/712 [==============================] - 0s 153us/sample - loss: 0.6650 - accuracy: 0.6180 - val_loss: 0.6637 - val_accuracy: 0.5866\n",
      "Epoch 6/20\n",
      "712/712 [==============================] - 0s 153us/sample - loss: 0.6678 - accuracy: 0.6264 - val_loss: 0.6597 - val_accuracy: 0.5866\n",
      "Epoch 7/20\n",
      "712/712 [==============================] - 0s 147us/sample - loss: 0.6601 - accuracy: 0.6138 - val_loss: 0.6571 - val_accuracy: 0.5866\n",
      "Epoch 8/20\n",
      "712/712 [==============================] - 0s 145us/sample - loss: 0.6679 - accuracy: 0.6208 - val_loss: 0.6504 - val_accuracy: 0.5866\n",
      "Epoch 9/20\n",
      "712/712 [==============================] - 0s 143us/sample - loss: 0.6545 - accuracy: 0.6264 - val_loss: 0.6423 - val_accuracy: 0.5866\n",
      "Epoch 10/20\n",
      "712/712 [==============================] - 0s 168us/sample - loss: 0.6398 - accuracy: 0.6362 - val_loss: 0.6289 - val_accuracy: 0.5866\n",
      "Epoch 11/20\n",
      "712/712 [==============================] - 0s 200us/sample - loss: 0.6453 - accuracy: 0.6166 - val_loss: 0.6175 - val_accuracy: 0.5978\n",
      "Epoch 12/20\n",
      "712/712 [==============================] - 0s 186us/sample - loss: 0.6475 - accuracy: 0.6067 - val_loss: 0.6035 - val_accuracy: 0.6536\n",
      "Epoch 13/20\n",
      "712/712 [==============================] - 0s 185us/sample - loss: 0.6423 - accuracy: 0.6419 - val_loss: 0.5936 - val_accuracy: 0.6760\n",
      "Epoch 14/20\n",
      "712/712 [==============================] - 0s 190us/sample - loss: 0.6286 - accuracy: 0.6433 - val_loss: 0.5818 - val_accuracy: 0.7039\n",
      "Epoch 15/20\n",
      "712/712 [==============================] - 0s 219us/sample - loss: 0.6209 - accuracy: 0.6503 - val_loss: 0.5647 - val_accuracy: 0.7263\n",
      "Epoch 16/20\n",
      "712/712 [==============================] - 0s 192us/sample - loss: 0.6251 - accuracy: 0.6376 - val_loss: 0.5517 - val_accuracy: 0.7765\n",
      "Epoch 17/20\n",
      "712/712 [==============================] - 0s 156us/sample - loss: 0.6079 - accuracy: 0.6545 - val_loss: 0.5404 - val_accuracy: 0.7486\n",
      "Epoch 18/20\n",
      "712/712 [==============================] - 0s 173us/sample - loss: 0.6018 - accuracy: 0.6629 - val_loss: 0.5255 - val_accuracy: 0.7709\n",
      "Epoch 19/20\n",
      "712/712 [==============================] - 0s 194us/sample - loss: 0.6093 - accuracy: 0.6671 - val_loss: 0.5180 - val_accuracy: 0.7821\n",
      "Epoch 20/20\n",
      "712/712 [==============================] - 0s 150us/sample - loss: 0.6041 - accuracy: 0.6784 - val_loss: 0.5108 - val_accuracy: 0.7709\n",
      "Train on 712 samples, validate on 179 samples\n",
      "Epoch 1/20\n",
      "712/712 [==============================] - 1s 1ms/sample - loss: 0.7205 - accuracy: 0.4817 - val_loss: 0.6762 - val_accuracy: 0.5866\n",
      "Epoch 2/20\n",
      "712/712 [==============================] - 0s 154us/sample - loss: 0.6768 - accuracy: 0.5969 - val_loss: 0.6832 - val_accuracy: 0.5866\n",
      "Epoch 3/20\n",
      "712/712 [==============================] - 0s 142us/sample - loss: 0.6628 - accuracy: 0.6264 - val_loss: 0.6874 - val_accuracy: 0.5866\n",
      "Epoch 4/20\n",
      "712/712 [==============================] - 0s 145us/sample - loss: 0.6747 - accuracy: 0.6039 - val_loss: 0.6800 - val_accuracy: 0.5866\n",
      "Epoch 5/20\n",
      "712/712 [==============================] - 0s 153us/sample - loss: 0.6696 - accuracy: 0.5983 - val_loss: 0.6793 - val_accuracy: 0.5866\n",
      "Epoch 6/20\n",
      "712/712 [==============================] - 0s 148us/sample - loss: 0.6700 - accuracy: 0.6166 - val_loss: 0.6743 - val_accuracy: 0.5866\n",
      "Epoch 7/20\n",
      "712/712 [==============================] - 0s 153us/sample - loss: 0.6717 - accuracy: 0.6194 - val_loss: 0.6751 - val_accuracy: 0.5866\n",
      "Epoch 8/20\n",
      "712/712 [==============================] - 0s 147us/sample - loss: 0.6718 - accuracy: 0.6081 - val_loss: 0.6707 - val_accuracy: 0.5866\n",
      "Epoch 9/20\n",
      "712/712 [==============================] - 0s 147us/sample - loss: 0.6583 - accuracy: 0.6250 - val_loss: 0.6725 - val_accuracy: 0.5866\n",
      "Epoch 10/20\n",
      "712/712 [==============================] - 0s 150us/sample - loss: 0.6682 - accuracy: 0.6039 - val_loss: 0.6688 - val_accuracy: 0.5866\n",
      "Epoch 11/20\n",
      "712/712 [==============================] - 0s 157us/sample - loss: 0.6670 - accuracy: 0.6208 - val_loss: 0.6630 - val_accuracy: 0.5866\n",
      "Epoch 12/20\n",
      "712/712 [==============================] - 0s 151us/sample - loss: 0.6575 - accuracy: 0.6348 - val_loss: 0.6585 - val_accuracy: 0.5866\n",
      "Epoch 13/20\n",
      "712/712 [==============================] - 0s 157us/sample - loss: 0.6559 - accuracy: 0.6376 - val_loss: 0.6496 - val_accuracy: 0.5866\n",
      "Epoch 14/20\n",
      "712/712 [==============================] - 0s 148us/sample - loss: 0.6543 - accuracy: 0.6362 - val_loss: 0.6385 - val_accuracy: 0.5866\n",
      "Epoch 15/20\n",
      "712/712 [==============================] - 0s 148us/sample - loss: 0.6473 - accuracy: 0.6447 - val_loss: 0.6258 - val_accuracy: 0.6313\n",
      "Epoch 16/20\n",
      "712/712 [==============================] - 0s 150us/sample - loss: 0.6331 - accuracy: 0.6573 - val_loss: 0.6094 - val_accuracy: 0.6872\n",
      "Epoch 17/20\n",
      "712/712 [==============================] - 0s 149us/sample - loss: 0.6289 - accuracy: 0.6882 - val_loss: 0.5974 - val_accuracy: 0.6872\n",
      "Epoch 18/20\n",
      "712/712 [==============================] - 0s 148us/sample - loss: 0.6227 - accuracy: 0.6966 - val_loss: 0.5709 - val_accuracy: 0.6927\n",
      "Epoch 19/20\n",
      "712/712 [==============================] - 0s 152us/sample - loss: 0.6221 - accuracy: 0.6629 - val_loss: 0.5578 - val_accuracy: 0.7039\n",
      "Epoch 20/20\n",
      "712/712 [==============================] - 0s 149us/sample - loss: 0.6096 - accuracy: 0.6938 - val_loss: 0.5378 - val_accuracy: 0.7263\n"
     ]
    },
    {
     "data": {
      "text/html": [
       "<span style=\"color:#4527A0\"><h1 style=\"font-size:18px\">Trial complete</h1></span>"
      ],
      "text/plain": [
       "<IPython.core.display.HTML object>"
      ]
     },
     "metadata": {},
     "output_type": "display_data"
    },
    {
     "data": {
      "text/html": [
       "<span style=\"color:#4527A0\"><h1 style=\"font-size:18px\">Trial summary</h1></span>"
      ],
      "text/plain": [
       "<IPython.core.display.HTML object>"
      ]
     },
     "metadata": {},
     "output_type": "display_data"
    },
    {
     "data": {
      "text/html": [
       "<span style=\"color:cyan\"> |-Trial ID: 9a4ec33e7686c14e3ff739bab058a17c</span>"
      ],
      "text/plain": [
       "<IPython.core.display.HTML object>"
      ]
     },
     "metadata": {},
     "output_type": "display_data"
    },
    {
     "data": {
      "text/html": [
       "<span style=\"color:cyan\"> |-Score: 0.7541899681091309</span>"
      ],
      "text/plain": [
       "<IPython.core.display.HTML object>"
      ]
     },
     "metadata": {},
     "output_type": "display_data"
    },
    {
     "data": {
      "text/html": [
       "<span style=\"color:cyan\"> |-Best step: 0</span>"
      ],
      "text/plain": [
       "<IPython.core.display.HTML object>"
      ]
     },
     "metadata": {},
     "output_type": "display_data"
    },
    {
     "data": {
      "text/html": [
       "<span style=\"color:#7E57C2\"><h2 style=\"font-size:16px\">Hyperparameters:</h2></span>"
      ],
      "text/plain": [
       "<IPython.core.display.HTML object>"
      ]
     },
     "metadata": {},
     "output_type": "display_data"
    },
    {
     "data": {
      "text/html": [
       "<span style=\"color:cyan\"> |-dense_activation_0: relu</span>"
      ],
      "text/plain": [
       "<IPython.core.display.HTML object>"
      ]
     },
     "metadata": {},
     "output_type": "display_data"
    },
    {
     "data": {
      "text/html": [
       "<span style=\"color:blue\"> |-dense_activation_1: relu</span>"
      ],
      "text/plain": [
       "<IPython.core.display.HTML object>"
      ]
     },
     "metadata": {},
     "output_type": "display_data"
    },
    {
     "data": {
      "text/html": [
       "<span style=\"color:cyan\"> |-dense_activation_2: tanh</span>"
      ],
      "text/plain": [
       "<IPython.core.display.HTML object>"
      ]
     },
     "metadata": {},
     "output_type": "display_data"
    },
    {
     "data": {
      "text/html": [
       "<span style=\"color:blue\"> |-dense_activation_3: sigmoid</span>"
      ],
      "text/plain": [
       "<IPython.core.display.HTML object>"
      ]
     },
     "metadata": {},
     "output_type": "display_data"
    },
    {
     "data": {
      "text/html": [
       "<span style=\"color:cyan\"> |-dense_activation_4: tanh</span>"
      ],
      "text/plain": [
       "<IPython.core.display.HTML object>"
      ]
     },
     "metadata": {},
     "output_type": "display_data"
    },
    {
     "data": {
      "text/html": [
       "<span style=\"color:blue\"> |-dense_activation_5: tanh</span>"
      ],
      "text/plain": [
       "<IPython.core.display.HTML object>"
      ]
     },
     "metadata": {},
     "output_type": "display_data"
    },
    {
     "data": {
      "text/html": [
       "<span style=\"color:cyan\"> |-dense_activation_6: relu</span>"
      ],
      "text/plain": [
       "<IPython.core.display.HTML object>"
      ]
     },
     "metadata": {},
     "output_type": "display_data"
    },
    {
     "data": {
      "text/html": [
       "<span style=\"color:blue\"> |-dense_units_0: 16</span>"
      ],
      "text/plain": [
       "<IPython.core.display.HTML object>"
      ]
     },
     "metadata": {},
     "output_type": "display_data"
    },
    {
     "data": {
      "text/html": [
       "<span style=\"color:cyan\"> |-dense_units_1: 32</span>"
      ],
      "text/plain": [
       "<IPython.core.display.HTML object>"
      ]
     },
     "metadata": {},
     "output_type": "display_data"
    },
    {
     "data": {
      "text/html": [
       "<span style=\"color:blue\"> |-dense_units_2: 32</span>"
      ],
      "text/plain": [
       "<IPython.core.display.HTML object>"
      ]
     },
     "metadata": {},
     "output_type": "display_data"
    },
    {
     "data": {
      "text/html": [
       "<span style=\"color:cyan\"> |-dense_units_3: 48</span>"
      ],
      "text/plain": [
       "<IPython.core.display.HTML object>"
      ]
     },
     "metadata": {},
     "output_type": "display_data"
    },
    {
     "data": {
      "text/html": [
       "<span style=\"color:blue\"> |-dense_units_4: 40</span>"
      ],
      "text/plain": [
       "<IPython.core.display.HTML object>"
      ]
     },
     "metadata": {},
     "output_type": "display_data"
    },
    {
     "data": {
      "text/html": [
       "<span style=\"color:cyan\"> |-dense_units_5: 64</span>"
      ],
      "text/plain": [
       "<IPython.core.display.HTML object>"
      ]
     },
     "metadata": {},
     "output_type": "display_data"
    },
    {
     "data": {
      "text/html": [
       "<span style=\"color:blue\"> |-dense_units_6: 48</span>"
      ],
      "text/plain": [
       "<IPython.core.display.HTML object>"
      ]
     },
     "metadata": {},
     "output_type": "display_data"
    },
    {
     "data": {
      "text/html": [
       "<span style=\"color:cyan\"> |-dropout_0: 0.4</span>"
      ],
      "text/plain": [
       "<IPython.core.display.HTML object>"
      ]
     },
     "metadata": {},
     "output_type": "display_data"
    },
    {
     "data": {
      "text/html": [
       "<span style=\"color:blue\"> |-dropout_1: 0.45</span>"
      ],
      "text/plain": [
       "<IPython.core.display.HTML object>"
      ]
     },
     "metadata": {},
     "output_type": "display_data"
    },
    {
     "data": {
      "text/html": [
       "<span style=\"color:cyan\"> |-dropout_2: 0.0</span>"
      ],
      "text/plain": [
       "<IPython.core.display.HTML object>"
      ]
     },
     "metadata": {},
     "output_type": "display_data"
    },
    {
     "data": {
      "text/html": [
       "<span style=\"color:blue\"> |-dropout_3: 0.0</span>"
      ],
      "text/plain": [
       "<IPython.core.display.HTML object>"
      ]
     },
     "metadata": {},
     "output_type": "display_data"
    },
    {
     "data": {
      "text/html": [
       "<span style=\"color:cyan\"> |-dropout_4: 0.30000000000000004</span>"
      ],
      "text/plain": [
       "<IPython.core.display.HTML object>"
      ]
     },
     "metadata": {},
     "output_type": "display_data"
    },
    {
     "data": {
      "text/html": [
       "<span style=\"color:blue\"> |-dropout_5: 0.25</span>"
      ],
      "text/plain": [
       "<IPython.core.display.HTML object>"
      ]
     },
     "metadata": {},
     "output_type": "display_data"
    },
    {
     "data": {
      "text/html": [
       "<span style=\"color:cyan\"> |-dropout_6: 0.25</span>"
      ],
      "text/plain": [
       "<IPython.core.display.HTML object>"
      ]
     },
     "metadata": {},
     "output_type": "display_data"
    },
    {
     "data": {
      "text/html": [
       "<span style=\"color:blue\"> |-learning_rate: 0.0002249755313619729</span>"
      ],
      "text/plain": [
       "<IPython.core.display.HTML object>"
      ]
     },
     "metadata": {},
     "output_type": "display_data"
    },
    {
     "data": {
      "text/html": [
       "<span style=\"color:cyan\"> |-num_layers: 6</span>"
      ],
      "text/plain": [
       "<IPython.core.display.HTML object>"
      ]
     },
     "metadata": {},
     "output_type": "display_data"
    },
    {
     "name": "stdout",
     "output_type": "stream",
     "text": [
      "Train on 712 samples, validate on 179 samples\n",
      "Epoch 1/20\n",
      "712/712 [==============================] - 1s 1ms/sample - loss: 0.8046 - accuracy: 0.4073 - val_loss: 0.6912 - val_accuracy: 0.5866\n",
      "Epoch 2/20\n",
      "712/712 [==============================] - 0s 152us/sample - loss: 0.6883 - accuracy: 0.5801 - val_loss: 0.6831 - val_accuracy: 0.5866\n",
      "Epoch 3/20\n",
      "712/712 [==============================] - 0s 153us/sample - loss: 0.6934 - accuracy: 0.5913 - val_loss: 0.6814 - val_accuracy: 0.5866\n",
      "Epoch 4/20\n",
      "712/712 [==============================] - 0s 153us/sample - loss: 0.6940 - accuracy: 0.5801 - val_loss: 0.6763 - val_accuracy: 0.5866\n",
      "Epoch 5/20\n",
      "712/712 [==============================] - 0s 150us/sample - loss: 0.6812 - accuracy: 0.5730 - val_loss: 0.6784 - val_accuracy: 0.5866\n",
      "Epoch 6/20\n",
      "712/712 [==============================] - 0s 140us/sample - loss: 0.6928 - accuracy: 0.5843 - val_loss: 0.6746 - val_accuracy: 0.5866\n",
      "Epoch 7/20\n",
      "712/712 [==============================] - 0s 145us/sample - loss: 0.6908 - accuracy: 0.5787 - val_loss: 0.6741 - val_accuracy: 0.5866\n",
      "Epoch 8/20\n",
      "712/712 [==============================] - 0s 146us/sample - loss: 0.6802 - accuracy: 0.6039 - val_loss: 0.6657 - val_accuracy: 0.5866\n",
      "Epoch 9/20\n",
      "712/712 [==============================] - 0s 157us/sample - loss: 0.6695 - accuracy: 0.6067 - val_loss: 0.6623 - val_accuracy: 0.5866\n",
      "Epoch 10/20\n",
      "712/712 [==============================] - 0s 154us/sample - loss: 0.6706 - accuracy: 0.6152 - val_loss: 0.6463 - val_accuracy: 0.5866\n",
      "Epoch 11/20\n",
      "712/712 [==============================] - 0s 154us/sample - loss: 0.6644 - accuracy: 0.6011 - val_loss: 0.6205 - val_accuracy: 0.5866\n",
      "Epoch 12/20\n",
      "712/712 [==============================] - 0s 156us/sample - loss: 0.6395 - accuracy: 0.6334 - val_loss: 0.5862 - val_accuracy: 0.5866\n",
      "Epoch 13/20\n",
      "712/712 [==============================] - 0s 187us/sample - loss: 0.6202 - accuracy: 0.6728 - val_loss: 0.5595 - val_accuracy: 0.7151\n",
      "Epoch 14/20\n",
      "712/712 [==============================] - 0s 178us/sample - loss: 0.6014 - accuracy: 0.6882 - val_loss: 0.5198 - val_accuracy: 0.7765\n",
      "Epoch 15/20\n",
      "712/712 [==============================] - 0s 178us/sample - loss: 0.5806 - accuracy: 0.6826 - val_loss: 0.4971 - val_accuracy: 0.7989\n",
      "Epoch 16/20\n",
      "712/712 [==============================] - 0s 178us/sample - loss: 0.5602 - accuracy: 0.7331 - val_loss: 0.4725 - val_accuracy: 0.8045\n",
      "Epoch 17/20\n",
      "712/712 [==============================] - 0s 178us/sample - loss: 0.5308 - accuracy: 0.7542 - val_loss: 0.4553 - val_accuracy: 0.8324\n",
      "Epoch 18/20\n",
      "712/712 [==============================] - 0s 150us/sample - loss: 0.5418 - accuracy: 0.7444 - val_loss: 0.4559 - val_accuracy: 0.8268\n",
      "Epoch 19/20\n",
      "712/712 [==============================] - 0s 145us/sample - loss: 0.5310 - accuracy: 0.7556 - val_loss: 0.4520 - val_accuracy: 0.7933\n",
      "Epoch 20/20\n",
      "712/712 [==============================] - 0s 224us/sample - loss: 0.5147 - accuracy: 0.7640 - val_loss: 0.4450 - val_accuracy: 0.8212\n",
      "Train on 712 samples, validate on 179 samples\n",
      "Epoch 1/20\n",
      "712/712 [==============================] - 1s 1ms/sample - loss: 0.6972 - accuracy: 0.5871 - val_loss: 0.6806 - val_accuracy: 0.5866\n",
      "Epoch 2/20\n",
      "712/712 [==============================] - 0s 147us/sample - loss: 0.6925 - accuracy: 0.5758 - val_loss: 0.6816 - val_accuracy: 0.5866\n",
      "Epoch 3/20\n",
      "712/712 [==============================] - 0s 146us/sample - loss: 0.6878 - accuracy: 0.5857 - val_loss: 0.6855 - val_accuracy: 0.5866\n",
      "Epoch 4/20\n",
      "712/712 [==============================] - 0s 148us/sample - loss: 0.6994 - accuracy: 0.5815 - val_loss: 0.6802 - val_accuracy: 0.5866\n",
      "Epoch 5/20\n",
      "712/712 [==============================] - 0s 145us/sample - loss: 0.6733 - accuracy: 0.6081 - val_loss: 0.6809 - val_accuracy: 0.5866\n",
      "Epoch 6/20\n",
      "712/712 [==============================] - 0s 150us/sample - loss: 0.6892 - accuracy: 0.5787 - val_loss: 0.6774 - val_accuracy: 0.5866\n",
      "Epoch 7/20\n",
      "712/712 [==============================] - 0s 149us/sample - loss: 0.6720 - accuracy: 0.6011 - val_loss: 0.6790 - val_accuracy: 0.5866\n",
      "Epoch 8/20\n",
      "712/712 [==============================] - 0s 144us/sample - loss: 0.6850 - accuracy: 0.5843 - val_loss: 0.6725 - val_accuracy: 0.5866\n",
      "Epoch 9/20\n",
      "712/712 [==============================] - 0s 161us/sample - loss: 0.6664 - accuracy: 0.6152 - val_loss: 0.6739 - val_accuracy: 0.5866\n",
      "Epoch 10/20\n",
      "712/712 [==============================] - 0s 153us/sample - loss: 0.6742 - accuracy: 0.6180 - val_loss: 0.6648 - val_accuracy: 0.5866\n",
      "Epoch 11/20\n",
      "712/712 [==============================] - 0s 139us/sample - loss: 0.6677 - accuracy: 0.6292 - val_loss: 0.6514 - val_accuracy: 0.5866\n",
      "Epoch 12/20\n",
      "712/712 [==============================] - 0s 145us/sample - loss: 0.6668 - accuracy: 0.6025 - val_loss: 0.6334 - val_accuracy: 0.5866\n",
      "Epoch 13/20\n",
      "712/712 [==============================] - 0s 144us/sample - loss: 0.6448 - accuracy: 0.6250 - val_loss: 0.6042 - val_accuracy: 0.5866\n",
      "Epoch 14/20\n",
      "712/712 [==============================] - 0s 145us/sample - loss: 0.6166 - accuracy: 0.6531 - val_loss: 0.5577 - val_accuracy: 0.7263\n",
      "Epoch 15/20\n",
      "712/712 [==============================] - 0s 153us/sample - loss: 0.6054 - accuracy: 0.6657 - val_loss: 0.5057 - val_accuracy: 0.8268\n",
      "Epoch 16/20\n",
      "712/712 [==============================] - 0s 149us/sample - loss: 0.5776 - accuracy: 0.7135 - val_loss: 0.4813 - val_accuracy: 0.8045\n",
      "Epoch 17/20\n",
      "712/712 [==============================] - 0s 145us/sample - loss: 0.5184 - accuracy: 0.7570 - val_loss: 0.4658 - val_accuracy: 0.7933\n",
      "Epoch 18/20\n",
      "712/712 [==============================] - 0s 144us/sample - loss: 0.5057 - accuracy: 0.7725 - val_loss: 0.4589 - val_accuracy: 0.8212\n",
      "Epoch 19/20\n",
      "712/712 [==============================] - 0s 173us/sample - loss: 0.5225 - accuracy: 0.7711 - val_loss: 0.4668 - val_accuracy: 0.7877\n",
      "Epoch 20/20\n",
      "712/712 [==============================] - 0s 152us/sample - loss: 0.5301 - accuracy: 0.7640 - val_loss: 0.4602 - val_accuracy: 0.7877\n"
     ]
    },
    {
     "data": {
      "text/html": [
       "<span style=\"color:#4527A0\"><h1 style=\"font-size:18px\">Trial complete</h1></span>"
      ],
      "text/plain": [
       "<IPython.core.display.HTML object>"
      ]
     },
     "metadata": {},
     "output_type": "display_data"
    },
    {
     "data": {
      "text/html": [
       "<span style=\"color:#4527A0\"><h1 style=\"font-size:18px\">Trial summary</h1></span>"
      ],
      "text/plain": [
       "<IPython.core.display.HTML object>"
      ]
     },
     "metadata": {},
     "output_type": "display_data"
    },
    {
     "data": {
      "text/html": [
       "<span style=\"color:cyan\"> |-Trial ID: daf36251c28572a4bfd32fd5862417ec</span>"
      ],
      "text/plain": [
       "<IPython.core.display.HTML object>"
      ]
     },
     "metadata": {},
     "output_type": "display_data"
    },
    {
     "data": {
      "text/html": [
       "<span style=\"color:cyan\"> |-Score: 0.8296089172363281</span>"
      ],
      "text/plain": [
       "<IPython.core.display.HTML object>"
      ]
     },
     "metadata": {},
     "output_type": "display_data"
    },
    {
     "data": {
      "text/html": [
       "<span style=\"color:cyan\"> |-Best step: 0</span>"
      ],
      "text/plain": [
       "<IPython.core.display.HTML object>"
      ]
     },
     "metadata": {},
     "output_type": "display_data"
    },
    {
     "data": {
      "text/html": [
       "<span style=\"color:#7E57C2\"><h2 style=\"font-size:16px\">Hyperparameters:</h2></span>"
      ],
      "text/plain": [
       "<IPython.core.display.HTML object>"
      ]
     },
     "metadata": {},
     "output_type": "display_data"
    },
    {
     "data": {
      "text/html": [
       "<span style=\"color:cyan\"> |-dense_activation_0: sigmoid</span>"
      ],
      "text/plain": [
       "<IPython.core.display.HTML object>"
      ]
     },
     "metadata": {},
     "output_type": "display_data"
    },
    {
     "data": {
      "text/html": [
       "<span style=\"color:blue\"> |-dense_activation_1: sigmoid</span>"
      ],
      "text/plain": [
       "<IPython.core.display.HTML object>"
      ]
     },
     "metadata": {},
     "output_type": "display_data"
    },
    {
     "data": {
      "text/html": [
       "<span style=\"color:cyan\"> |-dense_activation_2: relu</span>"
      ],
      "text/plain": [
       "<IPython.core.display.HTML object>"
      ]
     },
     "metadata": {},
     "output_type": "display_data"
    },
    {
     "data": {
      "text/html": [
       "<span style=\"color:blue\"> |-dense_activation_3: tanh</span>"
      ],
      "text/plain": [
       "<IPython.core.display.HTML object>"
      ]
     },
     "metadata": {},
     "output_type": "display_data"
    },
    {
     "data": {
      "text/html": [
       "<span style=\"color:cyan\"> |-dense_activation_4: relu</span>"
      ],
      "text/plain": [
       "<IPython.core.display.HTML object>"
      ]
     },
     "metadata": {},
     "output_type": "display_data"
    },
    {
     "data": {
      "text/html": [
       "<span style=\"color:blue\"> |-dense_activation_5: sigmoid</span>"
      ],
      "text/plain": [
       "<IPython.core.display.HTML object>"
      ]
     },
     "metadata": {},
     "output_type": "display_data"
    },
    {
     "data": {
      "text/html": [
       "<span style=\"color:cyan\"> |-dense_activation_6: tanh</span>"
      ],
      "text/plain": [
       "<IPython.core.display.HTML object>"
      ]
     },
     "metadata": {},
     "output_type": "display_data"
    },
    {
     "data": {
      "text/html": [
       "<span style=\"color:blue\"> |-dense_units_0: 16</span>"
      ],
      "text/plain": [
       "<IPython.core.display.HTML object>"
      ]
     },
     "metadata": {},
     "output_type": "display_data"
    },
    {
     "data": {
      "text/html": [
       "<span style=\"color:cyan\"> |-dense_units_1: 32</span>"
      ],
      "text/plain": [
       "<IPython.core.display.HTML object>"
      ]
     },
     "metadata": {},
     "output_type": "display_data"
    },
    {
     "data": {
      "text/html": [
       "<span style=\"color:blue\"> |-dense_units_2: 64</span>"
      ],
      "text/plain": [
       "<IPython.core.display.HTML object>"
      ]
     },
     "metadata": {},
     "output_type": "display_data"
    },
    {
     "data": {
      "text/html": [
       "<span style=\"color:cyan\"> |-dense_units_3: 16</span>"
      ],
      "text/plain": [
       "<IPython.core.display.HTML object>"
      ]
     },
     "metadata": {},
     "output_type": "display_data"
    },
    {
     "data": {
      "text/html": [
       "<span style=\"color:blue\"> |-dense_units_4: 16</span>"
      ],
      "text/plain": [
       "<IPython.core.display.HTML object>"
      ]
     },
     "metadata": {},
     "output_type": "display_data"
    },
    {
     "data": {
      "text/html": [
       "<span style=\"color:cyan\"> |-dense_units_5: 56</span>"
      ],
      "text/plain": [
       "<IPython.core.display.HTML object>"
      ]
     },
     "metadata": {},
     "output_type": "display_data"
    },
    {
     "data": {
      "text/html": [
       "<span style=\"color:blue\"> |-dense_units_6: 16</span>"
      ],
      "text/plain": [
       "<IPython.core.display.HTML object>"
      ]
     },
     "metadata": {},
     "output_type": "display_data"
    },
    {
     "data": {
      "text/html": [
       "<span style=\"color:cyan\"> |-dropout_0: 0.1</span>"
      ],
      "text/plain": [
       "<IPython.core.display.HTML object>"
      ]
     },
     "metadata": {},
     "output_type": "display_data"
    },
    {
     "data": {
      "text/html": [
       "<span style=\"color:blue\"> |-dropout_1: 0.2</span>"
      ],
      "text/plain": [
       "<IPython.core.display.HTML object>"
      ]
     },
     "metadata": {},
     "output_type": "display_data"
    },
    {
     "data": {
      "text/html": [
       "<span style=\"color:cyan\"> |-dropout_2: 0.05</span>"
      ],
      "text/plain": [
       "<IPython.core.display.HTML object>"
      ]
     },
     "metadata": {},
     "output_type": "display_data"
    },
    {
     "data": {
      "text/html": [
       "<span style=\"color:blue\"> |-dropout_3: 0.30000000000000004</span>"
      ],
      "text/plain": [
       "<IPython.core.display.HTML object>"
      ]
     },
     "metadata": {},
     "output_type": "display_data"
    },
    {
     "data": {
      "text/html": [
       "<span style=\"color:cyan\"> |-dropout_4: 0.30000000000000004</span>"
      ],
      "text/plain": [
       "<IPython.core.display.HTML object>"
      ]
     },
     "metadata": {},
     "output_type": "display_data"
    },
    {
     "data": {
      "text/html": [
       "<span style=\"color:blue\"> |-dropout_5: 0.30000000000000004</span>"
      ],
      "text/plain": [
       "<IPython.core.display.HTML object>"
      ]
     },
     "metadata": {},
     "output_type": "display_data"
    },
    {
     "data": {
      "text/html": [
       "<span style=\"color:cyan\"> |-dropout_6: 0.0</span>"
      ],
      "text/plain": [
       "<IPython.core.display.HTML object>"
      ]
     },
     "metadata": {},
     "output_type": "display_data"
    },
    {
     "data": {
      "text/html": [
       "<span style=\"color:blue\"> |-learning_rate: 0.0008402218420646586</span>"
      ],
      "text/plain": [
       "<IPython.core.display.HTML object>"
      ]
     },
     "metadata": {},
     "output_type": "display_data"
    },
    {
     "data": {
      "text/html": [
       "<span style=\"color:cyan\"> |-num_layers: 5</span>"
      ],
      "text/plain": [
       "<IPython.core.display.HTML object>"
      ]
     },
     "metadata": {},
     "output_type": "display_data"
    },
    {
     "name": "stdout",
     "output_type": "stream",
     "text": [
      "Train on 712 samples, validate on 179 samples\n",
      "Epoch 1/20\n",
      "712/712 [==============================] - 1s 1ms/sample - loss: 0.7319 - accuracy: 0.5253 - val_loss: 0.6726 - val_accuracy: 0.5866\n",
      "Epoch 2/20\n",
      "712/712 [==============================] - 0s 143us/sample - loss: 0.6902 - accuracy: 0.5829 - val_loss: 0.6655 - val_accuracy: 0.5866\n",
      "Epoch 3/20\n",
      "712/712 [==============================] - 0s 136us/sample - loss: 0.6808 - accuracy: 0.6096 - val_loss: 0.6513 - val_accuracy: 0.5866\n",
      "Epoch 4/20\n",
      "712/712 [==============================] - 0s 139us/sample - loss: 0.6758 - accuracy: 0.5983 - val_loss: 0.6426 - val_accuracy: 0.5866\n",
      "Epoch 5/20\n",
      "712/712 [==============================] - 0s 145us/sample - loss: 0.6526 - accuracy: 0.6222 - val_loss: 0.6272 - val_accuracy: 0.5866\n",
      "Epoch 6/20\n",
      "712/712 [==============================] - 0s 148us/sample - loss: 0.6512 - accuracy: 0.6208 - val_loss: 0.6158 - val_accuracy: 0.5866\n",
      "Epoch 7/20\n",
      "712/712 [==============================] - 0s 185us/sample - loss: 0.6366 - accuracy: 0.6306 - val_loss: 0.5994 - val_accuracy: 0.6704\n",
      "Epoch 8/20\n",
      "712/712 [==============================] - 0s 176us/sample - loss: 0.6273 - accuracy: 0.6390 - val_loss: 0.5761 - val_accuracy: 0.7598\n",
      "Epoch 9/20\n",
      "712/712 [==============================] - 0s 168us/sample - loss: 0.6309 - accuracy: 0.6573 - val_loss: 0.5523 - val_accuracy: 0.7654\n",
      "Epoch 10/20\n",
      "712/712 [==============================] - 0s 174us/sample - loss: 0.5992 - accuracy: 0.6882 - val_loss: 0.5234 - val_accuracy: 0.7989\n",
      "Epoch 11/20\n",
      "712/712 [==============================] - 0s 165us/sample - loss: 0.5890 - accuracy: 0.7037 - val_loss: 0.4941 - val_accuracy: 0.8045\n",
      "Epoch 12/20\n",
      "712/712 [==============================] - 0s 143us/sample - loss: 0.5651 - accuracy: 0.7289 - val_loss: 0.4686 - val_accuracy: 0.8045\n",
      "Epoch 13/20\n",
      "712/712 [==============================] - 0s 208us/sample - loss: 0.5470 - accuracy: 0.7416 - val_loss: 0.4575 - val_accuracy: 0.8101\n",
      "Epoch 14/20\n",
      "712/712 [==============================] - 0s 148us/sample - loss: 0.5294 - accuracy: 0.7697 - val_loss: 0.4542 - val_accuracy: 0.8045\n",
      "Epoch 15/20\n",
      "712/712 [==============================] - 0s 148us/sample - loss: 0.5108 - accuracy: 0.7907 - val_loss: 0.4461 - val_accuracy: 0.7989\n",
      "Epoch 16/20\n",
      "712/712 [==============================] - 0s 145us/sample - loss: 0.5093 - accuracy: 0.7795 - val_loss: 0.4433 - val_accuracy: 0.7989\n",
      "Epoch 17/20\n",
      "712/712 [==============================] - 0s 147us/sample - loss: 0.5225 - accuracy: 0.7739 - val_loss: 0.4425 - val_accuracy: 0.8045\n",
      "Epoch 18/20\n",
      "712/712 [==============================] - 0s 144us/sample - loss: 0.5223 - accuracy: 0.7865 - val_loss: 0.4416 - val_accuracy: 0.8045\n",
      "Epoch 19/20\n",
      "712/712 [==============================] - 0s 138us/sample - loss: 0.4949 - accuracy: 0.7879 - val_loss: 0.4409 - val_accuracy: 0.8045\n",
      "Epoch 20/20\n",
      "712/712 [==============================] - 0s 199us/sample - loss: 0.4937 - accuracy: 0.7935 - val_loss: 0.4379 - val_accuracy: 0.8101\n",
      "Train on 712 samples, validate on 179 samples\n",
      "Epoch 1/20\n",
      "712/712 [==============================] - 1s 1ms/sample - loss: 0.7301 - accuracy: 0.5379 - val_loss: 0.6818 - val_accuracy: 0.5866\n",
      "Epoch 2/20\n",
      "712/712 [==============================] - 0s 143us/sample - loss: 0.6908 - accuracy: 0.5955 - val_loss: 0.6723 - val_accuracy: 0.5866\n",
      "Epoch 3/20\n",
      "712/712 [==============================] - 0s 142us/sample - loss: 0.6749 - accuracy: 0.6096 - val_loss: 0.6633 - val_accuracy: 0.5866\n",
      "Epoch 4/20\n",
      "712/712 [==============================] - 0s 135us/sample - loss: 0.6724 - accuracy: 0.5997 - val_loss: 0.6537 - val_accuracy: 0.5866\n",
      "Epoch 5/20\n",
      "712/712 [==============================] - 0s 133us/sample - loss: 0.6664 - accuracy: 0.5857 - val_loss: 0.6497 - val_accuracy: 0.5866\n",
      "Epoch 6/20\n",
      "712/712 [==============================] - 0s 136us/sample - loss: 0.6661 - accuracy: 0.5983 - val_loss: 0.6416 - val_accuracy: 0.5866\n",
      "Epoch 7/20\n",
      "712/712 [==============================] - 0s 141us/sample - loss: 0.6697 - accuracy: 0.5913 - val_loss: 0.6292 - val_accuracy: 0.5866\n",
      "Epoch 8/20\n",
      "712/712 [==============================] - 0s 141us/sample - loss: 0.6468 - accuracy: 0.6292 - val_loss: 0.6181 - val_accuracy: 0.6592\n",
      "Epoch 9/20\n",
      "712/712 [==============================] - 0s 134us/sample - loss: 0.6417 - accuracy: 0.6278 - val_loss: 0.5957 - val_accuracy: 0.6648\n",
      "Epoch 10/20\n",
      "712/712 [==============================] - 0s 139us/sample - loss: 0.6353 - accuracy: 0.6573 - val_loss: 0.5747 - val_accuracy: 0.7095\n",
      "Epoch 11/20\n",
      "712/712 [==============================] - 0s 141us/sample - loss: 0.6171 - accuracy: 0.6615 - val_loss: 0.5430 - val_accuracy: 0.7598\n",
      "Epoch 12/20\n",
      "712/712 [==============================] - 0s 163us/sample - loss: 0.6072 - accuracy: 0.6475 - val_loss: 0.5225 - val_accuracy: 0.8212\n",
      "Epoch 13/20\n",
      "712/712 [==============================] - 0s 141us/sample - loss: 0.5808 - accuracy: 0.7163 - val_loss: 0.5094 - val_accuracy: 0.8156\n",
      "Epoch 14/20\n",
      "712/712 [==============================] - 0s 138us/sample - loss: 0.5775 - accuracy: 0.7051 - val_loss: 0.4820 - val_accuracy: 0.7877\n",
      "Epoch 15/20\n",
      "712/712 [==============================] - 0s 134us/sample - loss: 0.5592 - accuracy: 0.7135 - val_loss: 0.4640 - val_accuracy: 0.8156\n",
      "Epoch 16/20\n",
      "712/712 [==============================] - 0s 155us/sample - loss: 0.5402 - accuracy: 0.7472 - val_loss: 0.4579 - val_accuracy: 0.8101\n",
      "Epoch 17/20\n",
      "712/712 [==============================] - 0s 152us/sample - loss: 0.5262 - accuracy: 0.7640 - val_loss: 0.4483 - val_accuracy: 0.8156\n",
      "Epoch 18/20\n",
      "712/712 [==============================] - 0s 150us/sample - loss: 0.5415 - accuracy: 0.7767 - val_loss: 0.4474 - val_accuracy: 0.8101\n",
      "Epoch 19/20\n",
      "712/712 [==============================] - 0s 155us/sample - loss: 0.4986 - accuracy: 0.7725 - val_loss: 0.4449 - val_accuracy: 0.8045\n",
      "Epoch 20/20\n",
      "712/712 [==============================] - 0s 137us/sample - loss: 0.5056 - accuracy: 0.7781 - val_loss: 0.4421 - val_accuracy: 0.8101\n"
     ]
    },
    {
     "data": {
      "text/html": [
       "<span style=\"color:#4527A0\"><h1 style=\"font-size:18px\">Trial complete</h1></span>"
      ],
      "text/plain": [
       "<IPython.core.display.HTML object>"
      ]
     },
     "metadata": {},
     "output_type": "display_data"
    },
    {
     "data": {
      "text/html": [
       "<span style=\"color:#4527A0\"><h1 style=\"font-size:18px\">Trial summary</h1></span>"
      ],
      "text/plain": [
       "<IPython.core.display.HTML object>"
      ]
     },
     "metadata": {},
     "output_type": "display_data"
    },
    {
     "data": {
      "text/html": [
       "<span style=\"color:cyan\"> |-Trial ID: 0437afed4a78317daa6608c462fbcf0a</span>"
      ],
      "text/plain": [
       "<IPython.core.display.HTML object>"
      ]
     },
     "metadata": {},
     "output_type": "display_data"
    },
    {
     "data": {
      "text/html": [
       "<span style=\"color:cyan\"> |-Score: 0.8156424760818481</span>"
      ],
      "text/plain": [
       "<IPython.core.display.HTML object>"
      ]
     },
     "metadata": {},
     "output_type": "display_data"
    },
    {
     "data": {
      "text/html": [
       "<span style=\"color:cyan\"> |-Best step: 0</span>"
      ],
      "text/plain": [
       "<IPython.core.display.HTML object>"
      ]
     },
     "metadata": {},
     "output_type": "display_data"
    },
    {
     "data": {
      "text/html": [
       "<span style=\"color:#7E57C2\"><h2 style=\"font-size:16px\">Hyperparameters:</h2></span>"
      ],
      "text/plain": [
       "<IPython.core.display.HTML object>"
      ]
     },
     "metadata": {},
     "output_type": "display_data"
    },
    {
     "data": {
      "text/html": [
       "<span style=\"color:cyan\"> |-dense_activation_0: tanh</span>"
      ],
      "text/plain": [
       "<IPython.core.display.HTML object>"
      ]
     },
     "metadata": {},
     "output_type": "display_data"
    },
    {
     "data": {
      "text/html": [
       "<span style=\"color:blue\"> |-dense_activation_1: sigmoid</span>"
      ],
      "text/plain": [
       "<IPython.core.display.HTML object>"
      ]
     },
     "metadata": {},
     "output_type": "display_data"
    },
    {
     "data": {
      "text/html": [
       "<span style=\"color:cyan\"> |-dense_activation_2: relu</span>"
      ],
      "text/plain": [
       "<IPython.core.display.HTML object>"
      ]
     },
     "metadata": {},
     "output_type": "display_data"
    },
    {
     "data": {
      "text/html": [
       "<span style=\"color:blue\"> |-dense_activation_3: tanh</span>"
      ],
      "text/plain": [
       "<IPython.core.display.HTML object>"
      ]
     },
     "metadata": {},
     "output_type": "display_data"
    },
    {
     "data": {
      "text/html": [
       "<span style=\"color:cyan\"> |-dense_activation_4: relu</span>"
      ],
      "text/plain": [
       "<IPython.core.display.HTML object>"
      ]
     },
     "metadata": {},
     "output_type": "display_data"
    },
    {
     "data": {
      "text/html": [
       "<span style=\"color:blue\"> |-dense_activation_5: relu</span>"
      ],
      "text/plain": [
       "<IPython.core.display.HTML object>"
      ]
     },
     "metadata": {},
     "output_type": "display_data"
    },
    {
     "data": {
      "text/html": [
       "<span style=\"color:cyan\"> |-dense_activation_6: relu</span>"
      ],
      "text/plain": [
       "<IPython.core.display.HTML object>"
      ]
     },
     "metadata": {},
     "output_type": "display_data"
    },
    {
     "data": {
      "text/html": [
       "<span style=\"color:blue\"> |-dense_units_0: 16</span>"
      ],
      "text/plain": [
       "<IPython.core.display.HTML object>"
      ]
     },
     "metadata": {},
     "output_type": "display_data"
    },
    {
     "data": {
      "text/html": [
       "<span style=\"color:cyan\"> |-dense_units_1: 56</span>"
      ],
      "text/plain": [
       "<IPython.core.display.HTML object>"
      ]
     },
     "metadata": {},
     "output_type": "display_data"
    },
    {
     "data": {
      "text/html": [
       "<span style=\"color:blue\"> |-dense_units_2: 40</span>"
      ],
      "text/plain": [
       "<IPython.core.display.HTML object>"
      ]
     },
     "metadata": {},
     "output_type": "display_data"
    },
    {
     "data": {
      "text/html": [
       "<span style=\"color:cyan\"> |-dense_units_3: 40</span>"
      ],
      "text/plain": [
       "<IPython.core.display.HTML object>"
      ]
     },
     "metadata": {},
     "output_type": "display_data"
    },
    {
     "data": {
      "text/html": [
       "<span style=\"color:blue\"> |-dense_units_4: 56</span>"
      ],
      "text/plain": [
       "<IPython.core.display.HTML object>"
      ]
     },
     "metadata": {},
     "output_type": "display_data"
    },
    {
     "data": {
      "text/html": [
       "<span style=\"color:cyan\"> |-dense_units_5: 56</span>"
      ],
      "text/plain": [
       "<IPython.core.display.HTML object>"
      ]
     },
     "metadata": {},
     "output_type": "display_data"
    },
    {
     "data": {
      "text/html": [
       "<span style=\"color:blue\"> |-dense_units_6: 16</span>"
      ],
      "text/plain": [
       "<IPython.core.display.HTML object>"
      ]
     },
     "metadata": {},
     "output_type": "display_data"
    },
    {
     "data": {
      "text/html": [
       "<span style=\"color:cyan\"> |-dropout_0: 0.15000000000000002</span>"
      ],
      "text/plain": [
       "<IPython.core.display.HTML object>"
      ]
     },
     "metadata": {},
     "output_type": "display_data"
    },
    {
     "data": {
      "text/html": [
       "<span style=\"color:blue\"> |-dropout_1: 0.30000000000000004</span>"
      ],
      "text/plain": [
       "<IPython.core.display.HTML object>"
      ]
     },
     "metadata": {},
     "output_type": "display_data"
    },
    {
     "data": {
      "text/html": [
       "<span style=\"color:cyan\"> |-dropout_2: 0.45</span>"
      ],
      "text/plain": [
       "<IPython.core.display.HTML object>"
      ]
     },
     "metadata": {},
     "output_type": "display_data"
    },
    {
     "data": {
      "text/html": [
       "<span style=\"color:blue\"> |-dropout_3: 0.5</span>"
      ],
      "text/plain": [
       "<IPython.core.display.HTML object>"
      ]
     },
     "metadata": {},
     "output_type": "display_data"
    },
    {
     "data": {
      "text/html": [
       "<span style=\"color:cyan\"> |-dropout_4: 0.30000000000000004</span>"
      ],
      "text/plain": [
       "<IPython.core.display.HTML object>"
      ]
     },
     "metadata": {},
     "output_type": "display_data"
    },
    {
     "data": {
      "text/html": [
       "<span style=\"color:blue\"> |-dropout_5: 0.0</span>"
      ],
      "text/plain": [
       "<IPython.core.display.HTML object>"
      ]
     },
     "metadata": {},
     "output_type": "display_data"
    },
    {
     "data": {
      "text/html": [
       "<span style=\"color:cyan\"> |-dropout_6: 0.05</span>"
      ],
      "text/plain": [
       "<IPython.core.display.HTML object>"
      ]
     },
     "metadata": {},
     "output_type": "display_data"
    },
    {
     "data": {
      "text/html": [
       "<span style=\"color:blue\"> |-learning_rate: 0.0006309475890224527</span>"
      ],
      "text/plain": [
       "<IPython.core.display.HTML object>"
      ]
     },
     "metadata": {},
     "output_type": "display_data"
    },
    {
     "data": {
      "text/html": [
       "<span style=\"color:cyan\"> |-num_layers: 4</span>"
      ],
      "text/plain": [
       "<IPython.core.display.HTML object>"
      ]
     },
     "metadata": {},
     "output_type": "display_data"
    },
    {
     "name": "stdout",
     "output_type": "stream",
     "text": [
      "Train on 712 samples, validate on 179 samples\n",
      "Epoch 1/20\n",
      "712/712 [==============================] - 1s 1ms/sample - loss: 0.7024 - accuracy: 0.5548 - val_loss: 0.6930 - val_accuracy: 0.5866\n",
      "Epoch 2/20\n",
      "712/712 [==============================] - 0s 137us/sample - loss: 0.6898 - accuracy: 0.5941 - val_loss: 0.6499 - val_accuracy: 0.5866\n",
      "Epoch 3/20\n",
      "712/712 [==============================] - 0s 138us/sample - loss: 0.6473 - accuracy: 0.6236 - val_loss: 0.6314 - val_accuracy: 0.5866\n",
      "Epoch 4/20\n",
      "712/712 [==============================] - 0s 209us/sample - loss: 0.6168 - accuracy: 0.6419 - val_loss: 0.5189 - val_accuracy: 0.7598\n",
      "Epoch 5/20\n",
      "712/712 [==============================] - 0s 251us/sample - loss: 0.5358 - accuracy: 0.7570 - val_loss: 0.4542 - val_accuracy: 0.7709\n",
      "Epoch 6/20\n",
      "712/712 [==============================] - 0s 247us/sample - loss: 0.5448 - accuracy: 0.7556 - val_loss: 0.4651 - val_accuracy: 0.8324\n",
      "Epoch 7/20\n",
      "712/712 [==============================] - 0s 201us/sample - loss: 0.5153 - accuracy: 0.7795 - val_loss: 0.4416 - val_accuracy: 0.7989\n",
      "Epoch 8/20\n",
      "712/712 [==============================] - 0s 146us/sample - loss: 0.5210 - accuracy: 0.7781 - val_loss: 0.4545 - val_accuracy: 0.8156\n",
      "Epoch 9/20\n",
      "712/712 [==============================] - 0s 141us/sample - loss: 0.4777 - accuracy: 0.8048 - val_loss: 0.4294 - val_accuracy: 0.8212\n",
      "Epoch 10/20\n",
      "712/712 [==============================] - 0s 144us/sample - loss: 0.4743 - accuracy: 0.7921 - val_loss: 0.4285 - val_accuracy: 0.8156\n",
      "Epoch 11/20\n",
      "712/712 [==============================] - 0s 144us/sample - loss: 0.4724 - accuracy: 0.8230 - val_loss: 0.4228 - val_accuracy: 0.8156\n",
      "Epoch 12/20\n",
      "712/712 [==============================] - 0s 145us/sample - loss: 0.4645 - accuracy: 0.8118 - val_loss: 0.4235 - val_accuracy: 0.8156\n",
      "Epoch 13/20\n",
      "712/712 [==============================] - 0s 146us/sample - loss: 0.4855 - accuracy: 0.8076 - val_loss: 0.4332 - val_accuracy: 0.8156\n",
      "Epoch 14/20\n",
      "712/712 [==============================] - 0s 149us/sample - loss: 0.4637 - accuracy: 0.8287 - val_loss: 0.4316 - val_accuracy: 0.8324\n",
      "Epoch 15/20\n",
      "712/712 [==============================] - 0s 168us/sample - loss: 0.4597 - accuracy: 0.8301 - val_loss: 0.4214 - val_accuracy: 0.8380\n",
      "Epoch 16/20\n",
      "712/712 [==============================] - 0s 159us/sample - loss: 0.4579 - accuracy: 0.8174 - val_loss: 0.4246 - val_accuracy: 0.8268\n",
      "Epoch 17/20\n",
      "712/712 [==============================] - 0s 141us/sample - loss: 0.4364 - accuracy: 0.8272 - val_loss: 0.4307 - val_accuracy: 0.8324\n",
      "Epoch 18/20\n",
      "712/712 [==============================] - 0s 137us/sample - loss: 0.4318 - accuracy: 0.8371 - val_loss: 0.4411 - val_accuracy: 0.8045\n",
      "Epoch 19/20\n",
      "712/712 [==============================] - 0s 139us/sample - loss: 0.4432 - accuracy: 0.8216 - val_loss: 0.4437 - val_accuracy: 0.8324\n",
      "Epoch 20/20\n",
      "712/712 [==============================] - 0s 175us/sample - loss: 0.4349 - accuracy: 0.8287 - val_loss: 0.4438 - val_accuracy: 0.8268\n",
      "Train on 712 samples, validate on 179 samples\n",
      "Epoch 1/20\n",
      "712/712 [==============================] - 1s 1ms/sample - loss: 0.7016 - accuracy: 0.5674 - val_loss: 0.6769 - val_accuracy: 0.5866\n",
      "Epoch 2/20\n",
      "712/712 [==============================] - 0s 149us/sample - loss: 0.6491 - accuracy: 0.6292 - val_loss: 0.6153 - val_accuracy: 0.6704\n",
      "Epoch 3/20\n",
      "712/712 [==============================] - 0s 152us/sample - loss: 0.6273 - accuracy: 0.6728 - val_loss: 0.5563 - val_accuracy: 0.7039\n",
      "Epoch 4/20\n",
      "712/712 [==============================] - 0s 133us/sample - loss: 0.6139 - accuracy: 0.6756 - val_loss: 0.5624 - val_accuracy: 0.6816\n",
      "Epoch 5/20\n",
      "712/712 [==============================] - 0s 135us/sample - loss: 0.5403 - accuracy: 0.7247 - val_loss: 0.4529 - val_accuracy: 0.7821\n",
      "Epoch 6/20\n",
      "712/712 [==============================] - 0s 133us/sample - loss: 0.4887 - accuracy: 0.7767 - val_loss: 0.4392 - val_accuracy: 0.8101\n",
      "Epoch 7/20\n",
      "712/712 [==============================] - 0s 135us/sample - loss: 0.4845 - accuracy: 0.7865 - val_loss: 0.4403 - val_accuracy: 0.8045\n",
      "Epoch 8/20\n",
      "712/712 [==============================] - 0s 142us/sample - loss: 0.4622 - accuracy: 0.8090 - val_loss: 0.4435 - val_accuracy: 0.8045\n",
      "Epoch 9/20\n",
      "712/712 [==============================] - 0s 138us/sample - loss: 0.4981 - accuracy: 0.7978 - val_loss: 0.4372 - val_accuracy: 0.8268\n",
      "Epoch 10/20\n",
      "712/712 [==============================] - 0s 145us/sample - loss: 0.4702 - accuracy: 0.8132 - val_loss: 0.4672 - val_accuracy: 0.8101\n",
      "Epoch 11/20\n",
      "712/712 [==============================] - 0s 145us/sample - loss: 0.4488 - accuracy: 0.8090 - val_loss: 0.4389 - val_accuracy: 0.8101\n",
      "Epoch 12/20\n",
      "712/712 [==============================] - 0s 138us/sample - loss: 0.4402 - accuracy: 0.8202 - val_loss: 0.4519 - val_accuracy: 0.8156\n",
      "Epoch 13/20\n",
      "712/712 [==============================] - 0s 136us/sample - loss: 0.4706 - accuracy: 0.8090 - val_loss: 0.4418 - val_accuracy: 0.8156\n",
      "Epoch 14/20\n",
      "712/712 [==============================] - 0s 146us/sample - loss: 0.4526 - accuracy: 0.8174 - val_loss: 0.4471 - val_accuracy: 0.8212\n",
      "Epoch 15/20\n",
      "712/712 [==============================] - 0s 150us/sample - loss: 0.4330 - accuracy: 0.8301 - val_loss: 0.4530 - val_accuracy: 0.8212\n",
      "Epoch 16/20\n",
      "712/712 [==============================] - 0s 138us/sample - loss: 0.4254 - accuracy: 0.8357 - val_loss: 0.4394 - val_accuracy: 0.8212\n",
      "Epoch 17/20\n",
      "712/712 [==============================] - 0s 138us/sample - loss: 0.4358 - accuracy: 0.8343 - val_loss: 0.4595 - val_accuracy: 0.8268\n",
      "Epoch 18/20\n",
      "712/712 [==============================] - 0s 135us/sample - loss: 0.4206 - accuracy: 0.8343 - val_loss: 0.4438 - val_accuracy: 0.8212\n",
      "Epoch 19/20\n",
      "712/712 [==============================] - 0s 151us/sample - loss: 0.4675 - accuracy: 0.8188 - val_loss: 0.4440 - val_accuracy: 0.8324\n",
      "Epoch 20/20\n",
      "712/712 [==============================] - 0s 139us/sample - loss: 0.4261 - accuracy: 0.8244 - val_loss: 0.4439 - val_accuracy: 0.8324\n"
     ]
    },
    {
     "data": {
      "text/html": [
       "<span style=\"color:#4527A0\"><h1 style=\"font-size:18px\">Trial complete</h1></span>"
      ],
      "text/plain": [
       "<IPython.core.display.HTML object>"
      ]
     },
     "metadata": {},
     "output_type": "display_data"
    },
    {
     "data": {
      "text/html": [
       "<span style=\"color:#4527A0\"><h1 style=\"font-size:18px\">Trial summary</h1></span>"
      ],
      "text/plain": [
       "<IPython.core.display.HTML object>"
      ]
     },
     "metadata": {},
     "output_type": "display_data"
    },
    {
     "data": {
      "text/html": [
       "<span style=\"color:cyan\"> |-Trial ID: 0894c692061ea1dc4c6e39ba0cfaf634</span>"
      ],
      "text/plain": [
       "<IPython.core.display.HTML object>"
      ]
     },
     "metadata": {},
     "output_type": "display_data"
    },
    {
     "data": {
      "text/html": [
       "<span style=\"color:cyan\"> |-Score: 0.8351955413818359</span>"
      ],
      "text/plain": [
       "<IPython.core.display.HTML object>"
      ]
     },
     "metadata": {},
     "output_type": "display_data"
    },
    {
     "data": {
      "text/html": [
       "<span style=\"color:cyan\"> |-Best step: 0</span>"
      ],
      "text/plain": [
       "<IPython.core.display.HTML object>"
      ]
     },
     "metadata": {},
     "output_type": "display_data"
    },
    {
     "data": {
      "text/html": [
       "<span style=\"color:#7E57C2\"><h2 style=\"font-size:16px\">Hyperparameters:</h2></span>"
      ],
      "text/plain": [
       "<IPython.core.display.HTML object>"
      ]
     },
     "metadata": {},
     "output_type": "display_data"
    },
    {
     "data": {
      "text/html": [
       "<span style=\"color:cyan\"> |-dense_activation_0: relu</span>"
      ],
      "text/plain": [
       "<IPython.core.display.HTML object>"
      ]
     },
     "metadata": {},
     "output_type": "display_data"
    },
    {
     "data": {
      "text/html": [
       "<span style=\"color:blue\"> |-dense_activation_1: sigmoid</span>"
      ],
      "text/plain": [
       "<IPython.core.display.HTML object>"
      ]
     },
     "metadata": {},
     "output_type": "display_data"
    },
    {
     "data": {
      "text/html": [
       "<span style=\"color:cyan\"> |-dense_activation_2: tanh</span>"
      ],
      "text/plain": [
       "<IPython.core.display.HTML object>"
      ]
     },
     "metadata": {},
     "output_type": "display_data"
    },
    {
     "data": {
      "text/html": [
       "<span style=\"color:blue\"> |-dense_activation_3: tanh</span>"
      ],
      "text/plain": [
       "<IPython.core.display.HTML object>"
      ]
     },
     "metadata": {},
     "output_type": "display_data"
    },
    {
     "data": {
      "text/html": [
       "<span style=\"color:cyan\"> |-dense_activation_4: relu</span>"
      ],
      "text/plain": [
       "<IPython.core.display.HTML object>"
      ]
     },
     "metadata": {},
     "output_type": "display_data"
    },
    {
     "data": {
      "text/html": [
       "<span style=\"color:blue\"> |-dense_activation_5: relu</span>"
      ],
      "text/plain": [
       "<IPython.core.display.HTML object>"
      ]
     },
     "metadata": {},
     "output_type": "display_data"
    },
    {
     "data": {
      "text/html": [
       "<span style=\"color:cyan\"> |-dense_activation_6: sigmoid</span>"
      ],
      "text/plain": [
       "<IPython.core.display.HTML object>"
      ]
     },
     "metadata": {},
     "output_type": "display_data"
    },
    {
     "data": {
      "text/html": [
       "<span style=\"color:blue\"> |-dense_units_0: 16</span>"
      ],
      "text/plain": [
       "<IPython.core.display.HTML object>"
      ]
     },
     "metadata": {},
     "output_type": "display_data"
    },
    {
     "data": {
      "text/html": [
       "<span style=\"color:cyan\"> |-dense_units_1: 48</span>"
      ],
      "text/plain": [
       "<IPython.core.display.HTML object>"
      ]
     },
     "metadata": {},
     "output_type": "display_data"
    },
    {
     "data": {
      "text/html": [
       "<span style=\"color:blue\"> |-dense_units_2: 56</span>"
      ],
      "text/plain": [
       "<IPython.core.display.HTML object>"
      ]
     },
     "metadata": {},
     "output_type": "display_data"
    },
    {
     "data": {
      "text/html": [
       "<span style=\"color:cyan\"> |-dense_units_3: 56</span>"
      ],
      "text/plain": [
       "<IPython.core.display.HTML object>"
      ]
     },
     "metadata": {},
     "output_type": "display_data"
    },
    {
     "data": {
      "text/html": [
       "<span style=\"color:blue\"> |-dense_units_4: 16</span>"
      ],
      "text/plain": [
       "<IPython.core.display.HTML object>"
      ]
     },
     "metadata": {},
     "output_type": "display_data"
    },
    {
     "data": {
      "text/html": [
       "<span style=\"color:cyan\"> |-dense_units_5: 16</span>"
      ],
      "text/plain": [
       "<IPython.core.display.HTML object>"
      ]
     },
     "metadata": {},
     "output_type": "display_data"
    },
    {
     "data": {
      "text/html": [
       "<span style=\"color:blue\"> |-dense_units_6: 56</span>"
      ],
      "text/plain": [
       "<IPython.core.display.HTML object>"
      ]
     },
     "metadata": {},
     "output_type": "display_data"
    },
    {
     "data": {
      "text/html": [
       "<span style=\"color:cyan\"> |-dropout_0: 0.2</span>"
      ],
      "text/plain": [
       "<IPython.core.display.HTML object>"
      ]
     },
     "metadata": {},
     "output_type": "display_data"
    },
    {
     "data": {
      "text/html": [
       "<span style=\"color:blue\"> |-dropout_1: 0.2</span>"
      ],
      "text/plain": [
       "<IPython.core.display.HTML object>"
      ]
     },
     "metadata": {},
     "output_type": "display_data"
    },
    {
     "data": {
      "text/html": [
       "<span style=\"color:cyan\"> |-dropout_2: 0.45</span>"
      ],
      "text/plain": [
       "<IPython.core.display.HTML object>"
      ]
     },
     "metadata": {},
     "output_type": "display_data"
    },
    {
     "data": {
      "text/html": [
       "<span style=\"color:blue\"> |-dropout_3: 0.05</span>"
      ],
      "text/plain": [
       "<IPython.core.display.HTML object>"
      ]
     },
     "metadata": {},
     "output_type": "display_data"
    },
    {
     "data": {
      "text/html": [
       "<span style=\"color:cyan\"> |-dropout_4: 0.30000000000000004</span>"
      ],
      "text/plain": [
       "<IPython.core.display.HTML object>"
      ]
     },
     "metadata": {},
     "output_type": "display_data"
    },
    {
     "data": {
      "text/html": [
       "<span style=\"color:blue\"> |-dropout_5: 0.05</span>"
      ],
      "text/plain": [
       "<IPython.core.display.HTML object>"
      ]
     },
     "metadata": {},
     "output_type": "display_data"
    },
    {
     "data": {
      "text/html": [
       "<span style=\"color:cyan\"> |-dropout_6: 0.4</span>"
      ],
      "text/plain": [
       "<IPython.core.display.HTML object>"
      ]
     },
     "metadata": {},
     "output_type": "display_data"
    },
    {
     "data": {
      "text/html": [
       "<span style=\"color:blue\"> |-learning_rate: 0.0036377658208855486</span>"
      ],
      "text/plain": [
       "<IPython.core.display.HTML object>"
      ]
     },
     "metadata": {},
     "output_type": "display_data"
    },
    {
     "data": {
      "text/html": [
       "<span style=\"color:cyan\"> |-num_layers: 4</span>"
      ],
      "text/plain": [
       "<IPython.core.display.HTML object>"
      ]
     },
     "metadata": {},
     "output_type": "display_data"
    },
    {
     "name": "stdout",
     "output_type": "stream",
     "text": [
      "Train on 712 samples, validate on 179 samples\n",
      "Epoch 1/20\n",
      "712/712 [==============================] - 1s 1ms/sample - loss: 0.6282 - accuracy: 0.6081 - val_loss: 0.5498 - val_accuracy: 0.5866\n",
      "Epoch 2/20\n",
      "712/712 [==============================] - 0s 169us/sample - loss: 0.5256 - accuracy: 0.7402 - val_loss: 0.4865 - val_accuracy: 0.7989\n",
      "Epoch 3/20\n",
      "712/712 [==============================] - 0s 170us/sample - loss: 0.4747 - accuracy: 0.8202 - val_loss: 0.4497 - val_accuracy: 0.8045\n",
      "Epoch 4/20\n",
      "712/712 [==============================] - 0s 144us/sample - loss: 0.4714 - accuracy: 0.8104 - val_loss: 0.4292 - val_accuracy: 0.8045\n",
      "Epoch 5/20\n",
      "712/712 [==============================] - 0s 174us/sample - loss: 0.4265 - accuracy: 0.8202 - val_loss: 0.4390 - val_accuracy: 0.8156\n",
      "Epoch 6/20\n",
      "712/712 [==============================] - 0s 140us/sample - loss: 0.4239 - accuracy: 0.8216 - val_loss: 0.4357 - val_accuracy: 0.8101\n",
      "Epoch 7/20\n",
      "712/712 [==============================] - 0s 143us/sample - loss: 0.4201 - accuracy: 0.8287 - val_loss: 0.4504 - val_accuracy: 0.8156\n",
      "Epoch 8/20\n",
      "712/712 [==============================] - 0s 175us/sample - loss: 0.4068 - accuracy: 0.8441 - val_loss: 0.4301 - val_accuracy: 0.8324\n",
      "Epoch 9/20\n",
      "712/712 [==============================] - 0s 144us/sample - loss: 0.3994 - accuracy: 0.8329 - val_loss: 0.4510 - val_accuracy: 0.8268\n",
      "Epoch 10/20\n",
      "712/712 [==============================] - 0s 147us/sample - loss: 0.3869 - accuracy: 0.8427 - val_loss: 0.4490 - val_accuracy: 0.8212\n",
      "Epoch 11/20\n",
      "712/712 [==============================] - 0s 173us/sample - loss: 0.4062 - accuracy: 0.8343 - val_loss: 0.4159 - val_accuracy: 0.8547\n",
      "Epoch 12/20\n",
      "712/712 [==============================] - 0s 145us/sample - loss: 0.3877 - accuracy: 0.8441 - val_loss: 0.4408 - val_accuracy: 0.8212\n",
      "Epoch 13/20\n",
      "712/712 [==============================] - 0s 147us/sample - loss: 0.3901 - accuracy: 0.8525 - val_loss: 0.4502 - val_accuracy: 0.8268\n",
      "Epoch 14/20\n",
      "712/712 [==============================] - 0s 142us/sample - loss: 0.3975 - accuracy: 0.8413 - val_loss: 0.4473 - val_accuracy: 0.8156\n",
      "Epoch 15/20\n",
      "712/712 [==============================] - 0s 138us/sample - loss: 0.3895 - accuracy: 0.8427 - val_loss: 0.4308 - val_accuracy: 0.8212\n",
      "Epoch 16/20\n",
      "712/712 [==============================] - 0s 144us/sample - loss: 0.3815 - accuracy: 0.8455 - val_loss: 0.4397 - val_accuracy: 0.8324\n",
      "Epoch 17/20\n",
      "712/712 [==============================] - 0s 148us/sample - loss: 0.3779 - accuracy: 0.8497 - val_loss: 0.4509 - val_accuracy: 0.8324\n",
      "Epoch 18/20\n",
      "712/712 [==============================] - 0s 145us/sample - loss: 0.3727 - accuracy: 0.8483 - val_loss: 0.4329 - val_accuracy: 0.8268\n",
      "Epoch 19/20\n",
      "712/712 [==============================] - 0s 153us/sample - loss: 0.3709 - accuracy: 0.8511 - val_loss: 0.4435 - val_accuracy: 0.8324\n",
      "Epoch 20/20\n",
      "712/712 [==============================] - 0s 154us/sample - loss: 0.3709 - accuracy: 0.8371 - val_loss: 0.4602 - val_accuracy: 0.8324\n",
      "Train on 712 samples, validate on 179 samples\n",
      "Epoch 1/20\n",
      "712/712 [==============================] - 1s 1ms/sample - loss: 0.5962 - accuracy: 0.6292 - val_loss: 0.5104 - val_accuracy: 0.7933\n",
      "Epoch 2/20\n",
      "712/712 [==============================] - 0s 145us/sample - loss: 0.5054 - accuracy: 0.7753 - val_loss: 0.4429 - val_accuracy: 0.8101\n",
      "Epoch 3/20\n",
      "712/712 [==============================] - 0s 150us/sample - loss: 0.4647 - accuracy: 0.8048 - val_loss: 0.4420 - val_accuracy: 0.8212\n",
      "Epoch 4/20\n",
      "712/712 [==============================] - 0s 146us/sample - loss: 0.4800 - accuracy: 0.8118 - val_loss: 0.4171 - val_accuracy: 0.8380\n",
      "Epoch 5/20\n",
      "712/712 [==============================] - 0s 145us/sample - loss: 0.4366 - accuracy: 0.8287 - val_loss: 0.4358 - val_accuracy: 0.8268\n",
      "Epoch 6/20\n",
      "712/712 [==============================] - 0s 139us/sample - loss: 0.4257 - accuracy: 0.8329 - val_loss: 0.4210 - val_accuracy: 0.8436\n",
      "Epoch 7/20\n",
      "712/712 [==============================] - 0s 191us/sample - loss: 0.4208 - accuracy: 0.8230 - val_loss: 0.4310 - val_accuracy: 0.8268\n",
      "Epoch 8/20\n",
      "712/712 [==============================] - 0s 157us/sample - loss: 0.4138 - accuracy: 0.8315 - val_loss: 0.4086 - val_accuracy: 0.8436\n",
      "Epoch 9/20\n",
      "712/712 [==============================] - 0s 160us/sample - loss: 0.4022 - accuracy: 0.8287 - val_loss: 0.4326 - val_accuracy: 0.8156\n",
      "Epoch 10/20\n",
      "712/712 [==============================] - 0s 141us/sample - loss: 0.3925 - accuracy: 0.8427 - val_loss: 0.4341 - val_accuracy: 0.8324\n",
      "Epoch 11/20\n",
      "712/712 [==============================] - 0s 147us/sample - loss: 0.4040 - accuracy: 0.8244 - val_loss: 0.4127 - val_accuracy: 0.8212\n",
      "Epoch 12/20\n",
      "712/712 [==============================] - 0s 138us/sample - loss: 0.3954 - accuracy: 0.8343 - val_loss: 0.4211 - val_accuracy: 0.8324\n",
      "Epoch 13/20\n",
      "712/712 [==============================] - 0s 137us/sample - loss: 0.3949 - accuracy: 0.8427 - val_loss: 0.4290 - val_accuracy: 0.8212\n",
      "Epoch 14/20\n",
      "712/712 [==============================] - 0s 153us/sample - loss: 0.3784 - accuracy: 0.8343 - val_loss: 0.4281 - val_accuracy: 0.8268\n",
      "Epoch 15/20\n",
      "712/712 [==============================] - 0s 270us/sample - loss: 0.3779 - accuracy: 0.8441 - val_loss: 0.4227 - val_accuracy: 0.8268\n",
      "Epoch 16/20\n",
      "712/712 [==============================] - 0s 252us/sample - loss: 0.3833 - accuracy: 0.8315 - val_loss: 0.4317 - val_accuracy: 0.8268\n",
      "Epoch 17/20\n",
      "712/712 [==============================] - 0s 178us/sample - loss: 0.3724 - accuracy: 0.8525 - val_loss: 0.4440 - val_accuracy: 0.8156\n",
      "Epoch 18/20\n",
      "712/712 [==============================] - 0s 163us/sample - loss: 0.3792 - accuracy: 0.8511 - val_loss: 0.4261 - val_accuracy: 0.8212\n",
      "Epoch 19/20\n",
      "712/712 [==============================] - 0s 150us/sample - loss: 0.3811 - accuracy: 0.8385 - val_loss: 0.4224 - val_accuracy: 0.8212\n",
      "Epoch 20/20\n",
      "712/712 [==============================] - 0s 141us/sample - loss: 0.3795 - accuracy: 0.8427 - val_loss: 0.4336 - val_accuracy: 0.8156\n"
     ]
    },
    {
     "data": {
      "text/html": [
       "<span style=\"color:#4527A0\"><h1 style=\"font-size:18px\">Trial complete</h1></span>"
      ],
      "text/plain": [
       "<IPython.core.display.HTML object>"
      ]
     },
     "metadata": {},
     "output_type": "display_data"
    },
    {
     "data": {
      "text/html": [
       "<span style=\"color:#4527A0\"><h1 style=\"font-size:18px\">Trial summary</h1></span>"
      ],
      "text/plain": [
       "<IPython.core.display.HTML object>"
      ]
     },
     "metadata": {},
     "output_type": "display_data"
    },
    {
     "data": {
      "text/html": [
       "<span style=\"color:cyan\"> |-Trial ID: e01c10b91b04b4e3dfc59271a9494ddc</span>"
      ],
      "text/plain": [
       "<IPython.core.display.HTML object>"
      ]
     },
     "metadata": {},
     "output_type": "display_data"
    },
    {
     "data": {
      "text/html": [
       "<span style=\"color:cyan\"> |-Score: 0.8491619825363159</span>"
      ],
      "text/plain": [
       "<IPython.core.display.HTML object>"
      ]
     },
     "metadata": {},
     "output_type": "display_data"
    },
    {
     "data": {
      "text/html": [
       "<span style=\"color:cyan\"> |-Best step: 0</span>"
      ],
      "text/plain": [
       "<IPython.core.display.HTML object>"
      ]
     },
     "metadata": {},
     "output_type": "display_data"
    },
    {
     "data": {
      "text/html": [
       "<span style=\"color:#7E57C2\"><h2 style=\"font-size:16px\">Hyperparameters:</h2></span>"
      ],
      "text/plain": [
       "<IPython.core.display.HTML object>"
      ]
     },
     "metadata": {},
     "output_type": "display_data"
    },
    {
     "data": {
      "text/html": [
       "<span style=\"color:cyan\"> |-dense_activation_0: relu</span>"
      ],
      "text/plain": [
       "<IPython.core.display.HTML object>"
      ]
     },
     "metadata": {},
     "output_type": "display_data"
    },
    {
     "data": {
      "text/html": [
       "<span style=\"color:blue\"> |-dense_activation_1: tanh</span>"
      ],
      "text/plain": [
       "<IPython.core.display.HTML object>"
      ]
     },
     "metadata": {},
     "output_type": "display_data"
    },
    {
     "data": {
      "text/html": [
       "<span style=\"color:cyan\"> |-dense_activation_2: relu</span>"
      ],
      "text/plain": [
       "<IPython.core.display.HTML object>"
      ]
     },
     "metadata": {},
     "output_type": "display_data"
    },
    {
     "data": {
      "text/html": [
       "<span style=\"color:blue\"> |-dense_activation_3: relu</span>"
      ],
      "text/plain": [
       "<IPython.core.display.HTML object>"
      ]
     },
     "metadata": {},
     "output_type": "display_data"
    },
    {
     "data": {
      "text/html": [
       "<span style=\"color:cyan\"> |-dense_activation_4: relu</span>"
      ],
      "text/plain": [
       "<IPython.core.display.HTML object>"
      ]
     },
     "metadata": {},
     "output_type": "display_data"
    },
    {
     "data": {
      "text/html": [
       "<span style=\"color:blue\"> |-dense_activation_5: tanh</span>"
      ],
      "text/plain": [
       "<IPython.core.display.HTML object>"
      ]
     },
     "metadata": {},
     "output_type": "display_data"
    },
    {
     "data": {
      "text/html": [
       "<span style=\"color:cyan\"> |-dense_activation_6: sigmoid</span>"
      ],
      "text/plain": [
       "<IPython.core.display.HTML object>"
      ]
     },
     "metadata": {},
     "output_type": "display_data"
    },
    {
     "data": {
      "text/html": [
       "<span style=\"color:blue\"> |-dense_units_0: 48</span>"
      ],
      "text/plain": [
       "<IPython.core.display.HTML object>"
      ]
     },
     "metadata": {},
     "output_type": "display_data"
    },
    {
     "data": {
      "text/html": [
       "<span style=\"color:cyan\"> |-dense_units_1: 56</span>"
      ],
      "text/plain": [
       "<IPython.core.display.HTML object>"
      ]
     },
     "metadata": {},
     "output_type": "display_data"
    },
    {
     "data": {
      "text/html": [
       "<span style=\"color:blue\"> |-dense_units_2: 24</span>"
      ],
      "text/plain": [
       "<IPython.core.display.HTML object>"
      ]
     },
     "metadata": {},
     "output_type": "display_data"
    },
    {
     "data": {
      "text/html": [
       "<span style=\"color:cyan\"> |-dense_units_3: 24</span>"
      ],
      "text/plain": [
       "<IPython.core.display.HTML object>"
      ]
     },
     "metadata": {},
     "output_type": "display_data"
    },
    {
     "data": {
      "text/html": [
       "<span style=\"color:blue\"> |-dense_units_4: 24</span>"
      ],
      "text/plain": [
       "<IPython.core.display.HTML object>"
      ]
     },
     "metadata": {},
     "output_type": "display_data"
    },
    {
     "data": {
      "text/html": [
       "<span style=\"color:cyan\"> |-dense_units_5: 56</span>"
      ],
      "text/plain": [
       "<IPython.core.display.HTML object>"
      ]
     },
     "metadata": {},
     "output_type": "display_data"
    },
    {
     "data": {
      "text/html": [
       "<span style=\"color:blue\"> |-dense_units_6: 40</span>"
      ],
      "text/plain": [
       "<IPython.core.display.HTML object>"
      ]
     },
     "metadata": {},
     "output_type": "display_data"
    },
    {
     "data": {
      "text/html": [
       "<span style=\"color:cyan\"> |-dropout_0: 0.0</span>"
      ],
      "text/plain": [
       "<IPython.core.display.HTML object>"
      ]
     },
     "metadata": {},
     "output_type": "display_data"
    },
    {
     "data": {
      "text/html": [
       "<span style=\"color:blue\"> |-dropout_1: 0.05</span>"
      ],
      "text/plain": [
       "<IPython.core.display.HTML object>"
      ]
     },
     "metadata": {},
     "output_type": "display_data"
    },
    {
     "data": {
      "text/html": [
       "<span style=\"color:cyan\"> |-dropout_2: 0.0</span>"
      ],
      "text/plain": [
       "<IPython.core.display.HTML object>"
      ]
     },
     "metadata": {},
     "output_type": "display_data"
    },
    {
     "data": {
      "text/html": [
       "<span style=\"color:blue\"> |-dropout_3: 0.35000000000000003</span>"
      ],
      "text/plain": [
       "<IPython.core.display.HTML object>"
      ]
     },
     "metadata": {},
     "output_type": "display_data"
    },
    {
     "data": {
      "text/html": [
       "<span style=\"color:cyan\"> |-dropout_4: 0.0</span>"
      ],
      "text/plain": [
       "<IPython.core.display.HTML object>"
      ]
     },
     "metadata": {},
     "output_type": "display_data"
    },
    {
     "data": {
      "text/html": [
       "<span style=\"color:blue\"> |-dropout_5: 0.05</span>"
      ],
      "text/plain": [
       "<IPython.core.display.HTML object>"
      ]
     },
     "metadata": {},
     "output_type": "display_data"
    },
    {
     "data": {
      "text/html": [
       "<span style=\"color:cyan\"> |-dropout_6: 0.45</span>"
      ],
      "text/plain": [
       "<IPython.core.display.HTML object>"
      ]
     },
     "metadata": {},
     "output_type": "display_data"
    },
    {
     "data": {
      "text/html": [
       "<span style=\"color:blue\"> |-learning_rate: 0.001753559151044536</span>"
      ],
      "text/plain": [
       "<IPython.core.display.HTML object>"
      ]
     },
     "metadata": {},
     "output_type": "display_data"
    },
    {
     "data": {
      "text/html": [
       "<span style=\"color:cyan\"> |-num_layers: 5</span>"
      ],
      "text/plain": [
       "<IPython.core.display.HTML object>"
      ]
     },
     "metadata": {},
     "output_type": "display_data"
    },
    {
     "name": "stdout",
     "output_type": "stream",
     "text": [
      "Train on 712 samples, validate on 179 samples\n",
      "Epoch 1/20\n",
      "712/712 [==============================] - 1s 978us/sample - loss: 0.7098 - accuracy: 0.5913 - val_loss: 0.6806 - val_accuracy: 0.5866\n",
      "Epoch 2/20\n",
      "712/712 [==============================] - 0s 167us/sample - loss: 0.6239 - accuracy: 0.6615 - val_loss: 0.5315 - val_accuracy: 0.7207\n",
      "Epoch 3/20\n",
      "712/712 [==============================] - 0s 167us/sample - loss: 0.5421 - accuracy: 0.7303 - val_loss: 0.4617 - val_accuracy: 0.7765\n",
      "Epoch 4/20\n",
      "712/712 [==============================] - 0s 139us/sample - loss: 0.4910 - accuracy: 0.7711 - val_loss: 0.4541 - val_accuracy: 0.7765\n",
      "Epoch 5/20\n",
      "712/712 [==============================] - 0s 168us/sample - loss: 0.4625 - accuracy: 0.7992 - val_loss: 0.4437 - val_accuracy: 0.7877\n",
      "Epoch 6/20\n",
      "712/712 [==============================] - 0s 174us/sample - loss: 0.4436 - accuracy: 0.7992 - val_loss: 0.4363 - val_accuracy: 0.8101\n",
      "Epoch 7/20\n",
      "712/712 [==============================] - 0s 149us/sample - loss: 0.4394 - accuracy: 0.8202 - val_loss: 0.4363 - val_accuracy: 0.8045\n",
      "Epoch 8/20\n",
      "712/712 [==============================] - 0s 146us/sample - loss: 0.4455 - accuracy: 0.8062 - val_loss: 0.4437 - val_accuracy: 0.8101\n",
      "Epoch 9/20\n",
      "712/712 [==============================] - 0s 171us/sample - loss: 0.4432 - accuracy: 0.8174 - val_loss: 0.4329 - val_accuracy: 0.8268\n",
      "Epoch 10/20\n",
      "712/712 [==============================] - 0s 151us/sample - loss: 0.4210 - accuracy: 0.8244 - val_loss: 0.4369 - val_accuracy: 0.8212\n",
      "Epoch 11/20\n",
      "712/712 [==============================] - 0s 160us/sample - loss: 0.4212 - accuracy: 0.8202 - val_loss: 0.4471 - val_accuracy: 0.8156\n",
      "Epoch 12/20\n",
      "712/712 [==============================] - 0s 149us/sample - loss: 0.4312 - accuracy: 0.8188 - val_loss: 0.4428 - val_accuracy: 0.8212\n",
      "Epoch 13/20\n",
      "712/712 [==============================] - 0s 145us/sample - loss: 0.4372 - accuracy: 0.8287 - val_loss: 0.4495 - val_accuracy: 0.8045\n",
      "Epoch 14/20\n",
      "712/712 [==============================] - 0s 151us/sample - loss: 0.4420 - accuracy: 0.8104 - val_loss: 0.4370 - val_accuracy: 0.8268\n",
      "Epoch 15/20\n",
      "712/712 [==============================] - 0s 161us/sample - loss: 0.4266 - accuracy: 0.8202 - val_loss: 0.4342 - val_accuracy: 0.8324\n",
      "Epoch 16/20\n",
      "712/712 [==============================] - 0s 136us/sample - loss: 0.4203 - accuracy: 0.8244 - val_loss: 0.4311 - val_accuracy: 0.8324\n",
      "Epoch 17/20\n",
      "712/712 [==============================] - 0s 141us/sample - loss: 0.4172 - accuracy: 0.8244 - val_loss: 0.4347 - val_accuracy: 0.8268\n",
      "Epoch 18/20\n",
      "712/712 [==============================] - 0s 145us/sample - loss: 0.4180 - accuracy: 0.8343 - val_loss: 0.4408 - val_accuracy: 0.8045\n",
      "Epoch 19/20\n",
      "712/712 [==============================] - 0s 153us/sample - loss: 0.4219 - accuracy: 0.8357 - val_loss: 0.4310 - val_accuracy: 0.8268\n",
      "Epoch 20/20\n",
      "712/712 [==============================] - 0s 138us/sample - loss: 0.4110 - accuracy: 0.8287 - val_loss: 0.4312 - val_accuracy: 0.8324\n",
      "Train on 712 samples, validate on 179 samples\n",
      "Epoch 1/20\n",
      "712/712 [==============================] - 1s 1ms/sample - loss: 0.6807 - accuracy: 0.6124 - val_loss: 0.6331 - val_accuracy: 0.6983\n",
      "Epoch 2/20\n",
      "712/712 [==============================] - 0s 142us/sample - loss: 0.5998 - accuracy: 0.6854 - val_loss: 0.4746 - val_accuracy: 0.7877\n",
      "Epoch 3/20\n",
      "712/712 [==============================] - 0s 148us/sample - loss: 0.5210 - accuracy: 0.7514 - val_loss: 0.4403 - val_accuracy: 0.7654\n",
      "Epoch 4/20\n",
      "712/712 [==============================] - 0s 138us/sample - loss: 0.4999 - accuracy: 0.7753 - val_loss: 0.4373 - val_accuracy: 0.7821\n",
      "Epoch 5/20\n",
      "712/712 [==============================] - 0s 135us/sample - loss: 0.4708 - accuracy: 0.7978 - val_loss: 0.4284 - val_accuracy: 0.8156\n",
      "Epoch 6/20\n",
      "712/712 [==============================] - 0s 138us/sample - loss: 0.4533 - accuracy: 0.7893 - val_loss: 0.4355 - val_accuracy: 0.8268\n",
      "Epoch 7/20\n",
      "712/712 [==============================] - 0s 138us/sample - loss: 0.4386 - accuracy: 0.8230 - val_loss: 0.4364 - val_accuracy: 0.8156\n",
      "Epoch 8/20\n",
      "712/712 [==============================] - 0s 137us/sample - loss: 0.4294 - accuracy: 0.8188 - val_loss: 0.4655 - val_accuracy: 0.7765\n",
      "Epoch 9/20\n",
      "712/712 [==============================] - 0s 142us/sample - loss: 0.4292 - accuracy: 0.8174 - val_loss: 0.4353 - val_accuracy: 0.8212\n",
      "Epoch 10/20\n",
      "712/712 [==============================] - 0s 138us/sample - loss: 0.4330 - accuracy: 0.8132 - val_loss: 0.4419 - val_accuracy: 0.8156\n",
      "Epoch 11/20\n",
      "712/712 [==============================] - 0s 143us/sample - loss: 0.4173 - accuracy: 0.8258 - val_loss: 0.4500 - val_accuracy: 0.8156\n",
      "Epoch 12/20\n",
      "712/712 [==============================] - 0s 137us/sample - loss: 0.4342 - accuracy: 0.8174 - val_loss: 0.4426 - val_accuracy: 0.8101\n",
      "Epoch 13/20\n",
      "712/712 [==============================] - 0s 131us/sample - loss: 0.4156 - accuracy: 0.8287 - val_loss: 0.4413 - val_accuracy: 0.8324\n",
      "Epoch 14/20\n",
      "712/712 [==============================] - 0s 173us/sample - loss: 0.4484 - accuracy: 0.8216 - val_loss: 0.4385 - val_accuracy: 0.8380\n",
      "Epoch 15/20\n",
      "712/712 [==============================] - 0s 134us/sample - loss: 0.4193 - accuracy: 0.8399 - val_loss: 0.4371 - val_accuracy: 0.8324\n",
      "Epoch 16/20\n",
      "712/712 [==============================] - 0s 140us/sample - loss: 0.4239 - accuracy: 0.8371 - val_loss: 0.4334 - val_accuracy: 0.8268\n",
      "Epoch 17/20\n",
      "712/712 [==============================] - 0s 139us/sample - loss: 0.4320 - accuracy: 0.8216 - val_loss: 0.4312 - val_accuracy: 0.8324\n",
      "Epoch 18/20\n",
      "712/712 [==============================] - 0s 138us/sample - loss: 0.4108 - accuracy: 0.8315 - val_loss: 0.4423 - val_accuracy: 0.8101\n",
      "Epoch 19/20\n",
      "712/712 [==============================] - 0s 143us/sample - loss: 0.4147 - accuracy: 0.8413 - val_loss: 0.4348 - val_accuracy: 0.8212\n",
      "Epoch 20/20\n",
      "712/712 [==============================] - 0s 142us/sample - loss: 0.4185 - accuracy: 0.8216 - val_loss: 0.4345 - val_accuracy: 0.8268\n"
     ]
    },
    {
     "data": {
      "text/html": [
       "<span style=\"color:#4527A0\"><h1 style=\"font-size:18px\">Trial complete</h1></span>"
      ],
      "text/plain": [
       "<IPython.core.display.HTML object>"
      ]
     },
     "metadata": {},
     "output_type": "display_data"
    },
    {
     "data": {
      "text/html": [
       "<span style=\"color:#4527A0\"><h1 style=\"font-size:18px\">Trial summary</h1></span>"
      ],
      "text/plain": [
       "<IPython.core.display.HTML object>"
      ]
     },
     "metadata": {},
     "output_type": "display_data"
    },
    {
     "data": {
      "text/html": [
       "<span style=\"color:cyan\"> |-Trial ID: d4bc5530139cbd2e83ae37601bdb9e78</span>"
      ],
      "text/plain": [
       "<IPython.core.display.HTML object>"
      ]
     },
     "metadata": {},
     "output_type": "display_data"
    },
    {
     "data": {
      "text/html": [
       "<span style=\"color:cyan\"> |-Score: 0.8351955413818359</span>"
      ],
      "text/plain": [
       "<IPython.core.display.HTML object>"
      ]
     },
     "metadata": {},
     "output_type": "display_data"
    },
    {
     "data": {
      "text/html": [
       "<span style=\"color:cyan\"> |-Best step: 0</span>"
      ],
      "text/plain": [
       "<IPython.core.display.HTML object>"
      ]
     },
     "metadata": {},
     "output_type": "display_data"
    },
    {
     "data": {
      "text/html": [
       "<span style=\"color:#7E57C2\"><h2 style=\"font-size:16px\">Hyperparameters:</h2></span>"
      ],
      "text/plain": [
       "<IPython.core.display.HTML object>"
      ]
     },
     "metadata": {},
     "output_type": "display_data"
    },
    {
     "data": {
      "text/html": [
       "<span style=\"color:cyan\"> |-dense_activation_0: sigmoid</span>"
      ],
      "text/plain": [
       "<IPython.core.display.HTML object>"
      ]
     },
     "metadata": {},
     "output_type": "display_data"
    },
    {
     "data": {
      "text/html": [
       "<span style=\"color:blue\"> |-dense_activation_1: sigmoid</span>"
      ],
      "text/plain": [
       "<IPython.core.display.HTML object>"
      ]
     },
     "metadata": {},
     "output_type": "display_data"
    },
    {
     "data": {
      "text/html": [
       "<span style=\"color:cyan\"> |-dense_activation_2: tanh</span>"
      ],
      "text/plain": [
       "<IPython.core.display.HTML object>"
      ]
     },
     "metadata": {},
     "output_type": "display_data"
    },
    {
     "data": {
      "text/html": [
       "<span style=\"color:blue\"> |-dense_activation_3: tanh</span>"
      ],
      "text/plain": [
       "<IPython.core.display.HTML object>"
      ]
     },
     "metadata": {},
     "output_type": "display_data"
    },
    {
     "data": {
      "text/html": [
       "<span style=\"color:cyan\"> |-dense_activation_4: tanh</span>"
      ],
      "text/plain": [
       "<IPython.core.display.HTML object>"
      ]
     },
     "metadata": {},
     "output_type": "display_data"
    },
    {
     "data": {
      "text/html": [
       "<span style=\"color:blue\"> |-dense_activation_5: relu</span>"
      ],
      "text/plain": [
       "<IPython.core.display.HTML object>"
      ]
     },
     "metadata": {},
     "output_type": "display_data"
    },
    {
     "data": {
      "text/html": [
       "<span style=\"color:cyan\"> |-dense_activation_6: sigmoid</span>"
      ],
      "text/plain": [
       "<IPython.core.display.HTML object>"
      ]
     },
     "metadata": {},
     "output_type": "display_data"
    },
    {
     "data": {
      "text/html": [
       "<span style=\"color:blue\"> |-dense_units_0: 56</span>"
      ],
      "text/plain": [
       "<IPython.core.display.HTML object>"
      ]
     },
     "metadata": {},
     "output_type": "display_data"
    },
    {
     "data": {
      "text/html": [
       "<span style=\"color:cyan\"> |-dense_units_1: 32</span>"
      ],
      "text/plain": [
       "<IPython.core.display.HTML object>"
      ]
     },
     "metadata": {},
     "output_type": "display_data"
    },
    {
     "data": {
      "text/html": [
       "<span style=\"color:blue\"> |-dense_units_2: 64</span>"
      ],
      "text/plain": [
       "<IPython.core.display.HTML object>"
      ]
     },
     "metadata": {},
     "output_type": "display_data"
    },
    {
     "data": {
      "text/html": [
       "<span style=\"color:cyan\"> |-dense_units_3: 16</span>"
      ],
      "text/plain": [
       "<IPython.core.display.HTML object>"
      ]
     },
     "metadata": {},
     "output_type": "display_data"
    },
    {
     "data": {
      "text/html": [
       "<span style=\"color:blue\"> |-dense_units_4: 24</span>"
      ],
      "text/plain": [
       "<IPython.core.display.HTML object>"
      ]
     },
     "metadata": {},
     "output_type": "display_data"
    },
    {
     "data": {
      "text/html": [
       "<span style=\"color:cyan\"> |-dense_units_5: 24</span>"
      ],
      "text/plain": [
       "<IPython.core.display.HTML object>"
      ]
     },
     "metadata": {},
     "output_type": "display_data"
    },
    {
     "data": {
      "text/html": [
       "<span style=\"color:blue\"> |-dense_units_6: 32</span>"
      ],
      "text/plain": [
       "<IPython.core.display.HTML object>"
      ]
     },
     "metadata": {},
     "output_type": "display_data"
    },
    {
     "data": {
      "text/html": [
       "<span style=\"color:cyan\"> |-dropout_0: 0.30000000000000004</span>"
      ],
      "text/plain": [
       "<IPython.core.display.HTML object>"
      ]
     },
     "metadata": {},
     "output_type": "display_data"
    },
    {
     "data": {
      "text/html": [
       "<span style=\"color:blue\"> |-dropout_1: 0.2</span>"
      ],
      "text/plain": [
       "<IPython.core.display.HTML object>"
      ]
     },
     "metadata": {},
     "output_type": "display_data"
    },
    {
     "data": {
      "text/html": [
       "<span style=\"color:cyan\"> |-dropout_2: 0.05</span>"
      ],
      "text/plain": [
       "<IPython.core.display.HTML object>"
      ]
     },
     "metadata": {},
     "output_type": "display_data"
    },
    {
     "data": {
      "text/html": [
       "<span style=\"color:blue\"> |-dropout_3: 0.0</span>"
      ],
      "text/plain": [
       "<IPython.core.display.HTML object>"
      ]
     },
     "metadata": {},
     "output_type": "display_data"
    },
    {
     "data": {
      "text/html": [
       "<span style=\"color:cyan\"> |-dropout_4: 0.4</span>"
      ],
      "text/plain": [
       "<IPython.core.display.HTML object>"
      ]
     },
     "metadata": {},
     "output_type": "display_data"
    },
    {
     "data": {
      "text/html": [
       "<span style=\"color:blue\"> |-dropout_5: 0.0</span>"
      ],
      "text/plain": [
       "<IPython.core.display.HTML object>"
      ]
     },
     "metadata": {},
     "output_type": "display_data"
    },
    {
     "data": {
      "text/html": [
       "<span style=\"color:cyan\"> |-dropout_6: 0.4</span>"
      ],
      "text/plain": [
       "<IPython.core.display.HTML object>"
      ]
     },
     "metadata": {},
     "output_type": "display_data"
    },
    {
     "data": {
      "text/html": [
       "<span style=\"color:blue\"> |-learning_rate: 0.004485708249434565</span>"
      ],
      "text/plain": [
       "<IPython.core.display.HTML object>"
      ]
     },
     "metadata": {},
     "output_type": "display_data"
    },
    {
     "data": {
      "text/html": [
       "<span style=\"color:cyan\"> |-num_layers: 3</span>"
      ],
      "text/plain": [
       "<IPython.core.display.HTML object>"
      ]
     },
     "metadata": {},
     "output_type": "display_data"
    },
    {
     "name": "stdout",
     "output_type": "stream",
     "text": [
      "Train on 712 samples, validate on 179 samples\n",
      "Epoch 1/20\n",
      "712/712 [==============================] - 1s 914us/sample - loss: 0.6753 - accuracy: 0.5829 - val_loss: 0.5435 - val_accuracy: 0.7095\n",
      "Epoch 2/20\n",
      "712/712 [==============================] - 0s 152us/sample - loss: 0.5578 - accuracy: 0.7247 - val_loss: 0.4769 - val_accuracy: 0.8101\n",
      "Epoch 3/20\n",
      "712/712 [==============================] - 0s 130us/sample - loss: 0.5394 - accuracy: 0.7416 - val_loss: 0.4641 - val_accuracy: 0.8045\n",
      "Epoch 4/20\n",
      "712/712 [==============================] - 0s 137us/sample - loss: 0.5254 - accuracy: 0.7514 - val_loss: 0.4502 - val_accuracy: 0.7989\n",
      "Epoch 5/20\n",
      "712/712 [==============================] - 0s 134us/sample - loss: 0.5069 - accuracy: 0.7781 - val_loss: 0.4443 - val_accuracy: 0.8101\n",
      "Epoch 6/20\n",
      "712/712 [==============================] - 0s 164us/sample - loss: 0.4836 - accuracy: 0.7921 - val_loss: 0.4407 - val_accuracy: 0.8212\n",
      "Epoch 7/20\n",
      "712/712 [==============================] - 0s 131us/sample - loss: 0.4817 - accuracy: 0.7921 - val_loss: 0.4375 - val_accuracy: 0.8101\n",
      "Epoch 8/20\n",
      "712/712 [==============================] - 0s 136us/sample - loss: 0.4830 - accuracy: 0.8090 - val_loss: 0.4348 - val_accuracy: 0.7989\n",
      "Epoch 9/20\n",
      "712/712 [==============================] - 0s 141us/sample - loss: 0.4726 - accuracy: 0.7949 - val_loss: 0.4296 - val_accuracy: 0.8156\n",
      "Epoch 10/20\n",
      "712/712 [==============================] - 0s 130us/sample - loss: 0.4821 - accuracy: 0.7893 - val_loss: 0.4350 - val_accuracy: 0.8212\n",
      "Epoch 11/20\n",
      "712/712 [==============================] - 0s 137us/sample - loss: 0.4643 - accuracy: 0.8006 - val_loss: 0.4332 - val_accuracy: 0.8212\n",
      "Epoch 12/20\n",
      "712/712 [==============================] - 0s 132us/sample - loss: 0.4710 - accuracy: 0.8076 - val_loss: 0.4321 - val_accuracy: 0.8156\n",
      "Epoch 13/20\n",
      "712/712 [==============================] - 0s 130us/sample - loss: 0.4515 - accuracy: 0.8020 - val_loss: 0.4306 - val_accuracy: 0.8045\n",
      "Epoch 14/20\n",
      "712/712 [==============================] - 0s 155us/sample - loss: 0.4463 - accuracy: 0.8188 - val_loss: 0.4260 - val_accuracy: 0.8268\n",
      "Epoch 15/20\n",
      "712/712 [==============================] - 0s 138us/sample - loss: 0.4489 - accuracy: 0.8118 - val_loss: 0.4224 - val_accuracy: 0.8268\n",
      "Epoch 16/20\n",
      "712/712 [==============================] - 0s 139us/sample - loss: 0.4345 - accuracy: 0.8329 - val_loss: 0.4239 - val_accuracy: 0.8156\n",
      "Epoch 17/20\n",
      "712/712 [==============================] - 0s 132us/sample - loss: 0.4406 - accuracy: 0.8202 - val_loss: 0.4225 - val_accuracy: 0.8156\n",
      "Epoch 18/20\n",
      "712/712 [==============================] - 0s 133us/sample - loss: 0.4395 - accuracy: 0.8202 - val_loss: 0.4224 - val_accuracy: 0.8212\n",
      "Epoch 19/20\n",
      "712/712 [==============================] - 0s 156us/sample - loss: 0.4388 - accuracy: 0.8371 - val_loss: 0.4178 - val_accuracy: 0.8324\n",
      "Epoch 20/20\n",
      "712/712 [==============================] - 0s 135us/sample - loss: 0.4500 - accuracy: 0.8062 - val_loss: 0.4189 - val_accuracy: 0.8212\n",
      "Train on 712 samples, validate on 179 samples\n",
      "Epoch 1/20\n",
      "712/712 [==============================] - 1s 979us/sample - loss: 0.6685 - accuracy: 0.5969 - val_loss: 0.5627 - val_accuracy: 0.7039\n",
      "Epoch 2/20\n",
      "712/712 [==============================] - 0s 190us/sample - loss: 0.5731 - accuracy: 0.7051 - val_loss: 0.4938 - val_accuracy: 0.7151\n",
      "Epoch 3/20\n",
      "712/712 [==============================] - 0s 197us/sample - loss: 0.5336 - accuracy: 0.7331 - val_loss: 0.4508 - val_accuracy: 0.7989\n",
      "Epoch 4/20\n",
      "712/712 [==============================] - 0s 155us/sample - loss: 0.5146 - accuracy: 0.7697 - val_loss: 0.4396 - val_accuracy: 0.7989\n",
      "Epoch 5/20\n",
      "712/712 [==============================] - 0s 134us/sample - loss: 0.4832 - accuracy: 0.7907 - val_loss: 0.4382 - val_accuracy: 0.7877\n",
      "Epoch 6/20\n",
      "712/712 [==============================] - 0s 148us/sample - loss: 0.4757 - accuracy: 0.7949 - val_loss: 0.4412 - val_accuracy: 0.7933\n",
      "Epoch 7/20\n",
      "712/712 [==============================] - 0s 130us/sample - loss: 0.4754 - accuracy: 0.7963 - val_loss: 0.4394 - val_accuracy: 0.7989\n",
      "Epoch 8/20\n",
      "712/712 [==============================] - 0s 134us/sample - loss: 0.4906 - accuracy: 0.7837 - val_loss: 0.4353 - val_accuracy: 0.7821\n",
      "Epoch 9/20\n",
      "712/712 [==============================] - 0s 136us/sample - loss: 0.4624 - accuracy: 0.8118 - val_loss: 0.4331 - val_accuracy: 0.7933\n",
      "Epoch 10/20\n",
      "712/712 [==============================] - 0s 133us/sample - loss: 0.4643 - accuracy: 0.8090 - val_loss: 0.4389 - val_accuracy: 0.8156\n",
      "Epoch 11/20\n",
      "712/712 [==============================] - 0s 143us/sample - loss: 0.4514 - accuracy: 0.8118 - val_loss: 0.4362 - val_accuracy: 0.8045\n",
      "Epoch 12/20\n",
      "712/712 [==============================] - 0s 137us/sample - loss: 0.4420 - accuracy: 0.8301 - val_loss: 0.4340 - val_accuracy: 0.8101\n",
      "Epoch 13/20\n",
      "712/712 [==============================] - 0s 138us/sample - loss: 0.4422 - accuracy: 0.8090 - val_loss: 0.4344 - val_accuracy: 0.8045\n",
      "Epoch 14/20\n",
      "712/712 [==============================] - 0s 128us/sample - loss: 0.4412 - accuracy: 0.8244 - val_loss: 0.4312 - val_accuracy: 0.8101\n",
      "Epoch 15/20\n",
      "712/712 [==============================] - 0s 131us/sample - loss: 0.4480 - accuracy: 0.8062 - val_loss: 0.4315 - val_accuracy: 0.7989\n",
      "Epoch 16/20\n",
      "712/712 [==============================] - 0s 129us/sample - loss: 0.4402 - accuracy: 0.8132 - val_loss: 0.4318 - val_accuracy: 0.8101\n",
      "Epoch 17/20\n",
      "712/712 [==============================] - 0s 127us/sample - loss: 0.4373 - accuracy: 0.8287 - val_loss: 0.4279 - val_accuracy: 0.8156\n",
      "Epoch 18/20\n",
      "712/712 [==============================] - 0s 133us/sample - loss: 0.4372 - accuracy: 0.8174 - val_loss: 0.4321 - val_accuracy: 0.7989\n",
      "Epoch 19/20\n",
      "712/712 [==============================] - 0s 133us/sample - loss: 0.4391 - accuracy: 0.8216 - val_loss: 0.4303 - val_accuracy: 0.8212\n",
      "Epoch 20/20\n",
      "712/712 [==============================] - 0s 128us/sample - loss: 0.4291 - accuracy: 0.8244 - val_loss: 0.4315 - val_accuracy: 0.8212\n"
     ]
    },
    {
     "data": {
      "text/html": [
       "<span style=\"color:#4527A0\"><h1 style=\"font-size:18px\">Trial complete</h1></span>"
      ],
      "text/plain": [
       "<IPython.core.display.HTML object>"
      ]
     },
     "metadata": {},
     "output_type": "display_data"
    },
    {
     "data": {
      "text/html": [
       "<span style=\"color:#4527A0\"><h1 style=\"font-size:18px\">Trial summary</h1></span>"
      ],
      "text/plain": [
       "<IPython.core.display.HTML object>"
      ]
     },
     "metadata": {},
     "output_type": "display_data"
    },
    {
     "data": {
      "text/html": [
       "<span style=\"color:cyan\"> |-Trial ID: e285ffd3804dc8a635d1fee9bb50f87e</span>"
      ],
      "text/plain": [
       "<IPython.core.display.HTML object>"
      ]
     },
     "metadata": {},
     "output_type": "display_data"
    },
    {
     "data": {
      "text/html": [
       "<span style=\"color:cyan\"> |-Score: 0.8268156051635742</span>"
      ],
      "text/plain": [
       "<IPython.core.display.HTML object>"
      ]
     },
     "metadata": {},
     "output_type": "display_data"
    },
    {
     "data": {
      "text/html": [
       "<span style=\"color:cyan\"> |-Best step: 0</span>"
      ],
      "text/plain": [
       "<IPython.core.display.HTML object>"
      ]
     },
     "metadata": {},
     "output_type": "display_data"
    },
    {
     "data": {
      "text/html": [
       "<span style=\"color:#7E57C2\"><h2 style=\"font-size:16px\">Hyperparameters:</h2></span>"
      ],
      "text/plain": [
       "<IPython.core.display.HTML object>"
      ]
     },
     "metadata": {},
     "output_type": "display_data"
    },
    {
     "data": {
      "text/html": [
       "<span style=\"color:cyan\"> |-dense_activation_0: tanh</span>"
      ],
      "text/plain": [
       "<IPython.core.display.HTML object>"
      ]
     },
     "metadata": {},
     "output_type": "display_data"
    },
    {
     "data": {
      "text/html": [
       "<span style=\"color:blue\"> |-dense_activation_1: tanh</span>"
      ],
      "text/plain": [
       "<IPython.core.display.HTML object>"
      ]
     },
     "metadata": {},
     "output_type": "display_data"
    },
    {
     "data": {
      "text/html": [
       "<span style=\"color:cyan\"> |-dense_activation_2: tanh</span>"
      ],
      "text/plain": [
       "<IPython.core.display.HTML object>"
      ]
     },
     "metadata": {},
     "output_type": "display_data"
    },
    {
     "data": {
      "text/html": [
       "<span style=\"color:blue\"> |-dense_activation_3: sigmoid</span>"
      ],
      "text/plain": [
       "<IPython.core.display.HTML object>"
      ]
     },
     "metadata": {},
     "output_type": "display_data"
    },
    {
     "data": {
      "text/html": [
       "<span style=\"color:cyan\"> |-dense_activation_4: sigmoid</span>"
      ],
      "text/plain": [
       "<IPython.core.display.HTML object>"
      ]
     },
     "metadata": {},
     "output_type": "display_data"
    },
    {
     "data": {
      "text/html": [
       "<span style=\"color:blue\"> |-dense_activation_5: relu</span>"
      ],
      "text/plain": [
       "<IPython.core.display.HTML object>"
      ]
     },
     "metadata": {},
     "output_type": "display_data"
    },
    {
     "data": {
      "text/html": [
       "<span style=\"color:cyan\"> |-dense_activation_6: tanh</span>"
      ],
      "text/plain": [
       "<IPython.core.display.HTML object>"
      ]
     },
     "metadata": {},
     "output_type": "display_data"
    },
    {
     "data": {
      "text/html": [
       "<span style=\"color:blue\"> |-dense_units_0: 24</span>"
      ],
      "text/plain": [
       "<IPython.core.display.HTML object>"
      ]
     },
     "metadata": {},
     "output_type": "display_data"
    },
    {
     "data": {
      "text/html": [
       "<span style=\"color:cyan\"> |-dense_units_1: 32</span>"
      ],
      "text/plain": [
       "<IPython.core.display.HTML object>"
      ]
     },
     "metadata": {},
     "output_type": "display_data"
    },
    {
     "data": {
      "text/html": [
       "<span style=\"color:blue\"> |-dense_units_2: 64</span>"
      ],
      "text/plain": [
       "<IPython.core.display.HTML object>"
      ]
     },
     "metadata": {},
     "output_type": "display_data"
    },
    {
     "data": {
      "text/html": [
       "<span style=\"color:cyan\"> |-dense_units_3: 8</span>"
      ],
      "text/plain": [
       "<IPython.core.display.HTML object>"
      ]
     },
     "metadata": {},
     "output_type": "display_data"
    },
    {
     "data": {
      "text/html": [
       "<span style=\"color:blue\"> |-dense_units_4: 24</span>"
      ],
      "text/plain": [
       "<IPython.core.display.HTML object>"
      ]
     },
     "metadata": {},
     "output_type": "display_data"
    },
    {
     "data": {
      "text/html": [
       "<span style=\"color:cyan\"> |-dense_units_5: 16</span>"
      ],
      "text/plain": [
       "<IPython.core.display.HTML object>"
      ]
     },
     "metadata": {},
     "output_type": "display_data"
    },
    {
     "data": {
      "text/html": [
       "<span style=\"color:blue\"> |-dense_units_6: 40</span>"
      ],
      "text/plain": [
       "<IPython.core.display.HTML object>"
      ]
     },
     "metadata": {},
     "output_type": "display_data"
    },
    {
     "data": {
      "text/html": [
       "<span style=\"color:cyan\"> |-dropout_0: 0.4</span>"
      ],
      "text/plain": [
       "<IPython.core.display.HTML object>"
      ]
     },
     "metadata": {},
     "output_type": "display_data"
    },
    {
     "data": {
      "text/html": [
       "<span style=\"color:blue\"> |-dropout_1: 0.15000000000000002</span>"
      ],
      "text/plain": [
       "<IPython.core.display.HTML object>"
      ]
     },
     "metadata": {},
     "output_type": "display_data"
    },
    {
     "data": {
      "text/html": [
       "<span style=\"color:cyan\"> |-dropout_2: 0.30000000000000004</span>"
      ],
      "text/plain": [
       "<IPython.core.display.HTML object>"
      ]
     },
     "metadata": {},
     "output_type": "display_data"
    },
    {
     "data": {
      "text/html": [
       "<span style=\"color:blue\"> |-dropout_3: 0.2</span>"
      ],
      "text/plain": [
       "<IPython.core.display.HTML object>"
      ]
     },
     "metadata": {},
     "output_type": "display_data"
    },
    {
     "data": {
      "text/html": [
       "<span style=\"color:cyan\"> |-dropout_4: 0.2</span>"
      ],
      "text/plain": [
       "<IPython.core.display.HTML object>"
      ]
     },
     "metadata": {},
     "output_type": "display_data"
    },
    {
     "data": {
      "text/html": [
       "<span style=\"color:blue\"> |-dropout_5: 0.15000000000000002</span>"
      ],
      "text/plain": [
       "<IPython.core.display.HTML object>"
      ]
     },
     "metadata": {},
     "output_type": "display_data"
    },
    {
     "data": {
      "text/html": [
       "<span style=\"color:cyan\"> |-dropout_6: 0.5</span>"
      ],
      "text/plain": [
       "<IPython.core.display.HTML object>"
      ]
     },
     "metadata": {},
     "output_type": "display_data"
    },
    {
     "data": {
      "text/html": [
       "<span style=\"color:blue\"> |-learning_rate: 0.001468495232162837</span>"
      ],
      "text/plain": [
       "<IPython.core.display.HTML object>"
      ]
     },
     "metadata": {},
     "output_type": "display_data"
    },
    {
     "data": {
      "text/html": [
       "<span style=\"color:cyan\"> |-num_layers: 2</span>"
      ],
      "text/plain": [
       "<IPython.core.display.HTML object>"
      ]
     },
     "metadata": {},
     "output_type": "display_data"
    },
    {
     "name": "stdout",
     "output_type": "stream",
     "text": [
      "Train on 712 samples, validate on 179 samples\n",
      "Epoch 1/20\n",
      "712/712 [==============================] - 1s 936us/sample - loss: 0.6281 - accuracy: 0.6489 - val_loss: 0.4601 - val_accuracy: 0.8156\n",
      "Epoch 2/20\n",
      "712/712 [==============================] - 0s 133us/sample - loss: 0.5030 - accuracy: 0.7795 - val_loss: 0.4279 - val_accuracy: 0.8101\n",
      "Epoch 3/20\n",
      "712/712 [==============================] - 0s 135us/sample - loss: 0.4626 - accuracy: 0.8118 - val_loss: 0.4342 - val_accuracy: 0.8045\n",
      "Epoch 4/20\n",
      "712/712 [==============================] - 0s 141us/sample - loss: 0.4392 - accuracy: 0.8244 - val_loss: 0.4370 - val_accuracy: 0.8156\n",
      "Epoch 5/20\n",
      "712/712 [==============================] - 0s 130us/sample - loss: 0.4419 - accuracy: 0.8272 - val_loss: 0.4508 - val_accuracy: 0.8045\n",
      "Epoch 6/20\n",
      "712/712 [==============================] - 0s 158us/sample - loss: 0.4126 - accuracy: 0.8287 - val_loss: 0.4189 - val_accuracy: 0.8268\n",
      "Epoch 7/20\n",
      "712/712 [==============================] - 0s 162us/sample - loss: 0.4061 - accuracy: 0.8216 - val_loss: 0.4348 - val_accuracy: 0.8324\n",
      "Epoch 8/20\n",
      "712/712 [==============================] - 0s 165us/sample - loss: 0.4080 - accuracy: 0.8343 - val_loss: 0.4398 - val_accuracy: 0.8436\n",
      "Epoch 9/20\n",
      "712/712 [==============================] - 0s 141us/sample - loss: 0.4120 - accuracy: 0.8301 - val_loss: 0.4188 - val_accuracy: 0.8268\n",
      "Epoch 10/20\n",
      "712/712 [==============================] - 0s 140us/sample - loss: 0.4180 - accuracy: 0.8357 - val_loss: 0.4215 - val_accuracy: 0.8268\n",
      "Epoch 11/20\n",
      "712/712 [==============================] - 0s 133us/sample - loss: 0.4072 - accuracy: 0.8427 - val_loss: 0.4212 - val_accuracy: 0.8380\n",
      "Epoch 12/20\n",
      "712/712 [==============================] - 0s 126us/sample - loss: 0.4134 - accuracy: 0.8441 - val_loss: 0.4179 - val_accuracy: 0.8324\n",
      "Epoch 13/20\n",
      "712/712 [==============================] - 0s 138us/sample - loss: 0.3984 - accuracy: 0.8399 - val_loss: 0.4121 - val_accuracy: 0.8380\n",
      "Epoch 14/20\n",
      "712/712 [==============================] - 0s 146us/sample - loss: 0.4010 - accuracy: 0.8357 - val_loss: 0.4299 - val_accuracy: 0.8268\n",
      "Epoch 15/20\n",
      "712/712 [==============================] - 0s 126us/sample - loss: 0.3978 - accuracy: 0.8343 - val_loss: 0.4236 - val_accuracy: 0.8156\n",
      "Epoch 16/20\n",
      "712/712 [==============================] - 0s 127us/sample - loss: 0.3960 - accuracy: 0.8315 - val_loss: 0.4319 - val_accuracy: 0.8268\n",
      "Epoch 17/20\n",
      "712/712 [==============================] - 0s 134us/sample - loss: 0.3992 - accuracy: 0.8357 - val_loss: 0.4224 - val_accuracy: 0.8212\n",
      "Epoch 18/20\n",
      "712/712 [==============================] - 0s 131us/sample - loss: 0.3952 - accuracy: 0.8371 - val_loss: 0.4167 - val_accuracy: 0.8324\n",
      "Epoch 19/20\n",
      "712/712 [==============================] - 0s 129us/sample - loss: 0.3886 - accuracy: 0.8371 - val_loss: 0.4206 - val_accuracy: 0.8380\n",
      "Epoch 20/20\n",
      "712/712 [==============================] - 0s 133us/sample - loss: 0.3981 - accuracy: 0.8427 - val_loss: 0.4166 - val_accuracy: 0.8380\n",
      "Train on 712 samples, validate on 179 samples\n",
      "Epoch 1/20\n",
      "712/712 [==============================] - 1s 880us/sample - loss: 0.6086 - accuracy: 0.6685 - val_loss: 0.4912 - val_accuracy: 0.8101\n",
      "Epoch 2/20\n",
      "712/712 [==============================] - 0s 181us/sample - loss: 0.5187 - accuracy: 0.7809 - val_loss: 0.4357 - val_accuracy: 0.8156\n",
      "Epoch 3/20\n",
      "712/712 [==============================] - 0s 153us/sample - loss: 0.4773 - accuracy: 0.8062 - val_loss: 0.4408 - val_accuracy: 0.8101\n",
      "Epoch 4/20\n",
      "712/712 [==============================] - 0s 150us/sample - loss: 0.4702 - accuracy: 0.8118 - val_loss: 0.4311 - val_accuracy: 0.8101\n",
      "Epoch 5/20\n",
      "712/712 [==============================] - 0s 148us/sample - loss: 0.4347 - accuracy: 0.8357 - val_loss: 0.4530 - val_accuracy: 0.8045\n",
      "Epoch 6/20\n",
      "712/712 [==============================] - 0s 140us/sample - loss: 0.4340 - accuracy: 0.8202 - val_loss: 0.4498 - val_accuracy: 0.8268\n",
      "Epoch 7/20\n",
      "712/712 [==============================] - 0s 136us/sample - loss: 0.4298 - accuracy: 0.8202 - val_loss: 0.4400 - val_accuracy: 0.8268\n",
      "Epoch 8/20\n",
      "712/712 [==============================] - 0s 250us/sample - loss: 0.4083 - accuracy: 0.8315 - val_loss: 0.4494 - val_accuracy: 0.8324\n",
      "Epoch 9/20\n",
      "712/712 [==============================] - 0s 173us/sample - loss: 0.4317 - accuracy: 0.8258 - val_loss: 0.4564 - val_accuracy: 0.8324\n",
      "Epoch 10/20\n",
      "712/712 [==============================] - 0s 139us/sample - loss: 0.4094 - accuracy: 0.8469 - val_loss: 0.4451 - val_accuracy: 0.8212\n",
      "Epoch 11/20\n",
      "712/712 [==============================] - 0s 138us/sample - loss: 0.4171 - accuracy: 0.8315 - val_loss: 0.4325 - val_accuracy: 0.8268\n",
      "Epoch 12/20\n",
      "712/712 [==============================] - 0s 135us/sample - loss: 0.4015 - accuracy: 0.8413 - val_loss: 0.4372 - val_accuracy: 0.8268\n",
      "Epoch 13/20\n",
      "712/712 [==============================] - 0s 141us/sample - loss: 0.4059 - accuracy: 0.8343 - val_loss: 0.4478 - val_accuracy: 0.8212\n",
      "Epoch 14/20\n",
      "712/712 [==============================] - 0s 140us/sample - loss: 0.4050 - accuracy: 0.8441 - val_loss: 0.4470 - val_accuracy: 0.8156\n",
      "Epoch 15/20\n",
      "712/712 [==============================] - 0s 131us/sample - loss: 0.4016 - accuracy: 0.8385 - val_loss: 0.4525 - val_accuracy: 0.8156\n",
      "Epoch 16/20\n",
      "712/712 [==============================] - 0s 138us/sample - loss: 0.3884 - accuracy: 0.8329 - val_loss: 0.4710 - val_accuracy: 0.8156\n",
      "Epoch 17/20\n",
      "712/712 [==============================] - 0s 143us/sample - loss: 0.4068 - accuracy: 0.8427 - val_loss: 0.4416 - val_accuracy: 0.8101\n",
      "Epoch 18/20\n",
      "712/712 [==============================] - 0s 137us/sample - loss: 0.3876 - accuracy: 0.8483 - val_loss: 0.4481 - val_accuracy: 0.8212\n",
      "Epoch 19/20\n",
      "712/712 [==============================] - 0s 132us/sample - loss: 0.3921 - accuracy: 0.8427 - val_loss: 0.4565 - val_accuracy: 0.8212\n",
      "Epoch 20/20\n",
      "712/712 [==============================] - 0s 138us/sample - loss: 0.4084 - accuracy: 0.8385 - val_loss: 0.4403 - val_accuracy: 0.8380\n"
     ]
    },
    {
     "data": {
      "text/html": [
       "<span style=\"color:#4527A0\"><h1 style=\"font-size:18px\">Trial complete</h1></span>"
      ],
      "text/plain": [
       "<IPython.core.display.HTML object>"
      ]
     },
     "metadata": {},
     "output_type": "display_data"
    },
    {
     "data": {
      "text/html": [
       "<span style=\"color:#4527A0\"><h1 style=\"font-size:18px\">Trial summary</h1></span>"
      ],
      "text/plain": [
       "<IPython.core.display.HTML object>"
      ]
     },
     "metadata": {},
     "output_type": "display_data"
    },
    {
     "data": {
      "text/html": [
       "<span style=\"color:cyan\"> |-Trial ID: 106df28564199b804f019ac7638f1f17</span>"
      ],
      "text/plain": [
       "<IPython.core.display.HTML object>"
      ]
     },
     "metadata": {},
     "output_type": "display_data"
    },
    {
     "data": {
      "text/html": [
       "<span style=\"color:cyan\"> |-Score: 0.8407821655273438</span>"
      ],
      "text/plain": [
       "<IPython.core.display.HTML object>"
      ]
     },
     "metadata": {},
     "output_type": "display_data"
    },
    {
     "data": {
      "text/html": [
       "<span style=\"color:cyan\"> |-Best step: 0</span>"
      ],
      "text/plain": [
       "<IPython.core.display.HTML object>"
      ]
     },
     "metadata": {},
     "output_type": "display_data"
    },
    {
     "data": {
      "text/html": [
       "<span style=\"color:#7E57C2\"><h2 style=\"font-size:16px\">Hyperparameters:</h2></span>"
      ],
      "text/plain": [
       "<IPython.core.display.HTML object>"
      ]
     },
     "metadata": {},
     "output_type": "display_data"
    },
    {
     "data": {
      "text/html": [
       "<span style=\"color:cyan\"> |-dense_activation_0: relu</span>"
      ],
      "text/plain": [
       "<IPython.core.display.HTML object>"
      ]
     },
     "metadata": {},
     "output_type": "display_data"
    },
    {
     "data": {
      "text/html": [
       "<span style=\"color:blue\"> |-dense_activation_1: relu</span>"
      ],
      "text/plain": [
       "<IPython.core.display.HTML object>"
      ]
     },
     "metadata": {},
     "output_type": "display_data"
    },
    {
     "data": {
      "text/html": [
       "<span style=\"color:cyan\"> |-dense_activation_2: relu</span>"
      ],
      "text/plain": [
       "<IPython.core.display.HTML object>"
      ]
     },
     "metadata": {},
     "output_type": "display_data"
    },
    {
     "data": {
      "text/html": [
       "<span style=\"color:blue\"> |-dense_activation_3: tanh</span>"
      ],
      "text/plain": [
       "<IPython.core.display.HTML object>"
      ]
     },
     "metadata": {},
     "output_type": "display_data"
    },
    {
     "data": {
      "text/html": [
       "<span style=\"color:cyan\"> |-dense_activation_4: tanh</span>"
      ],
      "text/plain": [
       "<IPython.core.display.HTML object>"
      ]
     },
     "metadata": {},
     "output_type": "display_data"
    },
    {
     "data": {
      "text/html": [
       "<span style=\"color:blue\"> |-dense_activation_5: relu</span>"
      ],
      "text/plain": [
       "<IPython.core.display.HTML object>"
      ]
     },
     "metadata": {},
     "output_type": "display_data"
    },
    {
     "data": {
      "text/html": [
       "<span style=\"color:cyan\"> |-dense_activation_6: relu</span>"
      ],
      "text/plain": [
       "<IPython.core.display.HTML object>"
      ]
     },
     "metadata": {},
     "output_type": "display_data"
    },
    {
     "data": {
      "text/html": [
       "<span style=\"color:blue\"> |-dense_units_0: 32</span>"
      ],
      "text/plain": [
       "<IPython.core.display.HTML object>"
      ]
     },
     "metadata": {},
     "output_type": "display_data"
    },
    {
     "data": {
      "text/html": [
       "<span style=\"color:cyan\"> |-dense_units_1: 40</span>"
      ],
      "text/plain": [
       "<IPython.core.display.HTML object>"
      ]
     },
     "metadata": {},
     "output_type": "display_data"
    },
    {
     "data": {
      "text/html": [
       "<span style=\"color:blue\"> |-dense_units_2: 16</span>"
      ],
      "text/plain": [
       "<IPython.core.display.HTML object>"
      ]
     },
     "metadata": {},
     "output_type": "display_data"
    },
    {
     "data": {
      "text/html": [
       "<span style=\"color:cyan\"> |-dense_units_3: 48</span>"
      ],
      "text/plain": [
       "<IPython.core.display.HTML object>"
      ]
     },
     "metadata": {},
     "output_type": "display_data"
    },
    {
     "data": {
      "text/html": [
       "<span style=\"color:blue\"> |-dense_units_4: 56</span>"
      ],
      "text/plain": [
       "<IPython.core.display.HTML object>"
      ]
     },
     "metadata": {},
     "output_type": "display_data"
    },
    {
     "data": {
      "text/html": [
       "<span style=\"color:cyan\"> |-dense_units_5: 16</span>"
      ],
      "text/plain": [
       "<IPython.core.display.HTML object>"
      ]
     },
     "metadata": {},
     "output_type": "display_data"
    },
    {
     "data": {
      "text/html": [
       "<span style=\"color:blue\"> |-dense_units_6: 24</span>"
      ],
      "text/plain": [
       "<IPython.core.display.HTML object>"
      ]
     },
     "metadata": {},
     "output_type": "display_data"
    },
    {
     "data": {
      "text/html": [
       "<span style=\"color:cyan\"> |-dropout_0: 0.2</span>"
      ],
      "text/plain": [
       "<IPython.core.display.HTML object>"
      ]
     },
     "metadata": {},
     "output_type": "display_data"
    },
    {
     "data": {
      "text/html": [
       "<span style=\"color:blue\"> |-dropout_1: 0.2</span>"
      ],
      "text/plain": [
       "<IPython.core.display.HTML object>"
      ]
     },
     "metadata": {},
     "output_type": "display_data"
    },
    {
     "data": {
      "text/html": [
       "<span style=\"color:cyan\"> |-dropout_2: 0.2</span>"
      ],
      "text/plain": [
       "<IPython.core.display.HTML object>"
      ]
     },
     "metadata": {},
     "output_type": "display_data"
    },
    {
     "data": {
      "text/html": [
       "<span style=\"color:blue\"> |-dropout_3: 0.30000000000000004</span>"
      ],
      "text/plain": [
       "<IPython.core.display.HTML object>"
      ]
     },
     "metadata": {},
     "output_type": "display_data"
    },
    {
     "data": {
      "text/html": [
       "<span style=\"color:cyan\"> |-dropout_4: 0.15000000000000002</span>"
      ],
      "text/plain": [
       "<IPython.core.display.HTML object>"
      ]
     },
     "metadata": {},
     "output_type": "display_data"
    },
    {
     "data": {
      "text/html": [
       "<span style=\"color:blue\"> |-dropout_5: 0.0</span>"
      ],
      "text/plain": [
       "<IPython.core.display.HTML object>"
      ]
     },
     "metadata": {},
     "output_type": "display_data"
    },
    {
     "data": {
      "text/html": [
       "<span style=\"color:cyan\"> |-dropout_6: 0.15000000000000002</span>"
      ],
      "text/plain": [
       "<IPython.core.display.HTML object>"
      ]
     },
     "metadata": {},
     "output_type": "display_data"
    },
    {
     "data": {
      "text/html": [
       "<span style=\"color:blue\"> |-learning_rate: 0.006492690297457527</span>"
      ],
      "text/plain": [
       "<IPython.core.display.HTML object>"
      ]
     },
     "metadata": {},
     "output_type": "display_data"
    },
    {
     "data": {
      "text/html": [
       "<span style=\"color:cyan\"> |-num_layers: 2</span>"
      ],
      "text/plain": [
       "<IPython.core.display.HTML object>"
      ]
     },
     "metadata": {},
     "output_type": "display_data"
    },
    {
     "name": "stdout",
     "output_type": "stream",
     "text": [
      "Train on 712 samples, validate on 179 samples\n",
      "Epoch 1/20\n",
      "712/712 [==============================] - 1s 2ms/sample - loss: 0.6854 - accuracy: 0.5899 - val_loss: 0.6603 - val_accuracy: 0.5866\n",
      "Epoch 2/20\n",
      "712/712 [==============================] - 0s 183us/sample - loss: 0.6457 - accuracy: 0.6320 - val_loss: 0.4967 - val_accuracy: 0.7933\n",
      "Epoch 3/20\n",
      "712/712 [==============================] - 0s 180us/sample - loss: 0.5873 - accuracy: 0.6868 - val_loss: 0.4754 - val_accuracy: 0.7877\n",
      "Epoch 4/20\n",
      "712/712 [==============================] - 0s 249us/sample - loss: 0.5476 - accuracy: 0.7725 - val_loss: 0.4876 - val_accuracy: 0.8101\n",
      "Epoch 5/20\n",
      "712/712 [==============================] - 0s 253us/sample - loss: 0.4994 - accuracy: 0.7963 - val_loss: 0.4678 - val_accuracy: 0.7989\n",
      "Epoch 6/20\n",
      "712/712 [==============================] - 0s 307us/sample - loss: 0.4878 - accuracy: 0.8006 - val_loss: 0.4710 - val_accuracy: 0.8045\n",
      "Epoch 7/20\n",
      "712/712 [==============================] - 0s 295us/sample - loss: 0.4624 - accuracy: 0.8146 - val_loss: 0.4549 - val_accuracy: 0.8156\n",
      "Epoch 8/20\n",
      "712/712 [==============================] - 0s 262us/sample - loss: 0.4787 - accuracy: 0.8132 - val_loss: 0.4493 - val_accuracy: 0.8212\n",
      "Epoch 9/20\n",
      "712/712 [==============================] - 0s 203us/sample - loss: 0.4795 - accuracy: 0.8104 - val_loss: 0.4357 - val_accuracy: 0.8212\n",
      "Epoch 10/20\n",
      "712/712 [==============================] - 0s 217us/sample - loss: 0.4526 - accuracy: 0.8132 - val_loss: 0.4552 - val_accuracy: 0.8212\n",
      "Epoch 11/20\n",
      "712/712 [==============================] - 0s 190us/sample - loss: 0.4424 - accuracy: 0.8272 - val_loss: 0.4631 - val_accuracy: 0.8101\n",
      "Epoch 12/20\n",
      "712/712 [==============================] - 0s 186us/sample - loss: 0.4365 - accuracy: 0.8371 - val_loss: 0.4245 - val_accuracy: 0.8268\n",
      "Epoch 13/20\n",
      "712/712 [==============================] - 0s 140us/sample - loss: 0.4707 - accuracy: 0.8160 - val_loss: 0.4506 - val_accuracy: 0.8101\n",
      "Epoch 14/20\n",
      "712/712 [==============================] - 0s 149us/sample - loss: 0.4555 - accuracy: 0.8132 - val_loss: 0.4296 - val_accuracy: 0.8268\n",
      "Epoch 15/20\n",
      "712/712 [==============================] - 0s 153us/sample - loss: 0.4539 - accuracy: 0.8062 - val_loss: 0.4300 - val_accuracy: 0.8212\n",
      "Epoch 16/20\n",
      "712/712 [==============================] - 0s 146us/sample - loss: 0.4319 - accuracy: 0.8188 - val_loss: 0.4239 - val_accuracy: 0.8156\n",
      "Epoch 17/20\n",
      "712/712 [==============================] - 0s 152us/sample - loss: 0.4232 - accuracy: 0.8202 - val_loss: 0.4484 - val_accuracy: 0.8212\n",
      "Epoch 18/20\n",
      "712/712 [==============================] - 0s 148us/sample - loss: 0.4574 - accuracy: 0.8132 - val_loss: 0.4731 - val_accuracy: 0.7877\n",
      "Epoch 19/20\n",
      "712/712 [==============================] - 0s 192us/sample - loss: 0.4233 - accuracy: 0.8188 - val_loss: 0.4815 - val_accuracy: 0.8324\n",
      "Epoch 20/20\n",
      "712/712 [==============================] - 0s 150us/sample - loss: 0.4495 - accuracy: 0.8258 - val_loss: 0.4334 - val_accuracy: 0.8324\n",
      "Train on 712 samples, validate on 179 samples\n",
      "Epoch 1/20\n",
      "712/712 [==============================] - 1s 1ms/sample - loss: 0.7071 - accuracy: 0.5618 - val_loss: 0.6681 - val_accuracy: 0.5866\n",
      "Epoch 2/20\n",
      "712/712 [==============================] - 0s 151us/sample - loss: 0.6524 - accuracy: 0.6124 - val_loss: 0.5724 - val_accuracy: 0.5866\n",
      "Epoch 3/20\n",
      "712/712 [==============================] - 0s 151us/sample - loss: 0.6093 - accuracy: 0.6756 - val_loss: 0.4840 - val_accuracy: 0.7821\n",
      "Epoch 4/20\n",
      "712/712 [==============================] - 0s 155us/sample - loss: 0.5355 - accuracy: 0.7598 - val_loss: 0.4963 - val_accuracy: 0.7821\n",
      "Epoch 5/20\n",
      "712/712 [==============================] - 0s 148us/sample - loss: 0.5151 - accuracy: 0.7809 - val_loss: 0.5000 - val_accuracy: 0.7709\n",
      "Epoch 6/20\n",
      "712/712 [==============================] - 0s 155us/sample - loss: 0.5191 - accuracy: 0.7851 - val_loss: 0.4986 - val_accuracy: 0.8045\n",
      "Epoch 7/20\n",
      "712/712 [==============================] - 0s 158us/sample - loss: 0.5020 - accuracy: 0.8062 - val_loss: 0.4721 - val_accuracy: 0.8101\n",
      "Epoch 8/20\n",
      "712/712 [==============================] - 0s 181us/sample - loss: 0.4774 - accuracy: 0.8132 - val_loss: 0.4733 - val_accuracy: 0.8268\n",
      "Epoch 9/20\n",
      "712/712 [==============================] - 0s 177us/sample - loss: 0.4996 - accuracy: 0.8006 - val_loss: 0.4607 - val_accuracy: 0.8268\n",
      "Epoch 10/20\n",
      "712/712 [==============================] - 0s 159us/sample - loss: 0.4479 - accuracy: 0.8287 - val_loss: 0.4644 - val_accuracy: 0.8268\n",
      "Epoch 11/20\n",
      "712/712 [==============================] - 0s 153us/sample - loss: 0.4533 - accuracy: 0.8160 - val_loss: 0.4588 - val_accuracy: 0.8156\n",
      "Epoch 12/20\n",
      "712/712 [==============================] - 0s 149us/sample - loss: 0.4571 - accuracy: 0.8160 - val_loss: 0.4866 - val_accuracy: 0.7877\n",
      "Epoch 13/20\n",
      "712/712 [==============================] - 0s 146us/sample - loss: 0.4889 - accuracy: 0.8104 - val_loss: 0.4836 - val_accuracy: 0.8212\n",
      "Epoch 14/20\n",
      "712/712 [==============================] - 0s 143us/sample - loss: 0.4619 - accuracy: 0.8301 - val_loss: 0.4523 - val_accuracy: 0.8212\n",
      "Epoch 15/20\n",
      "712/712 [==============================] - 0s 158us/sample - loss: 0.4393 - accuracy: 0.8315 - val_loss: 0.4421 - val_accuracy: 0.8324\n",
      "Epoch 16/20\n",
      "712/712 [==============================] - 0s 224us/sample - loss: 0.4639 - accuracy: 0.8188 - val_loss: 0.4587 - val_accuracy: 0.8380\n",
      "Epoch 17/20\n",
      "712/712 [==============================] - 0s 192us/sample - loss: 0.4390 - accuracy: 0.8202 - val_loss: 0.4571 - val_accuracy: 0.7821\n",
      "Epoch 18/20\n",
      "712/712 [==============================] - 0s 159us/sample - loss: 0.4360 - accuracy: 0.8216 - val_loss: 0.4754 - val_accuracy: 0.8268\n",
      "Epoch 19/20\n",
      "712/712 [==============================] - 0s 145us/sample - loss: 0.4320 - accuracy: 0.8371 - val_loss: 0.4543 - val_accuracy: 0.8324\n",
      "Epoch 20/20\n",
      "712/712 [==============================] - 0s 156us/sample - loss: 0.4331 - accuracy: 0.8301 - val_loss: 0.4569 - val_accuracy: 0.7989\n"
     ]
    },
    {
     "data": {
      "text/html": [
       "<span style=\"color:#4527A0\"><h1 style=\"font-size:18px\">Trial complete</h1></span>"
      ],
      "text/plain": [
       "<IPython.core.display.HTML object>"
      ]
     },
     "metadata": {},
     "output_type": "display_data"
    },
    {
     "data": {
      "text/html": [
       "<span style=\"color:#4527A0\"><h1 style=\"font-size:18px\">Trial summary</h1></span>"
      ],
      "text/plain": [
       "<IPython.core.display.HTML object>"
      ]
     },
     "metadata": {},
     "output_type": "display_data"
    },
    {
     "data": {
      "text/html": [
       "<span style=\"color:cyan\"> |-Trial ID: d99a0c9a5708e9b85f69a2ec850bf729</span>"
      ],
      "text/plain": [
       "<IPython.core.display.HTML object>"
      ]
     },
     "metadata": {},
     "output_type": "display_data"
    },
    {
     "data": {
      "text/html": [
       "<span style=\"color:cyan\"> |-Score: 0.8351955413818359</span>"
      ],
      "text/plain": [
       "<IPython.core.display.HTML object>"
      ]
     },
     "metadata": {},
     "output_type": "display_data"
    },
    {
     "data": {
      "text/html": [
       "<span style=\"color:cyan\"> |-Best step: 0</span>"
      ],
      "text/plain": [
       "<IPython.core.display.HTML object>"
      ]
     },
     "metadata": {},
     "output_type": "display_data"
    },
    {
     "data": {
      "text/html": [
       "<span style=\"color:#7E57C2\"><h2 style=\"font-size:16px\">Hyperparameters:</h2></span>"
      ],
      "text/plain": [
       "<IPython.core.display.HTML object>"
      ]
     },
     "metadata": {},
     "output_type": "display_data"
    },
    {
     "data": {
      "text/html": [
       "<span style=\"color:cyan\"> |-dense_activation_0: relu</span>"
      ],
      "text/plain": [
       "<IPython.core.display.HTML object>"
      ]
     },
     "metadata": {},
     "output_type": "display_data"
    },
    {
     "data": {
      "text/html": [
       "<span style=\"color:blue\"> |-dense_activation_1: sigmoid</span>"
      ],
      "text/plain": [
       "<IPython.core.display.HTML object>"
      ]
     },
     "metadata": {},
     "output_type": "display_data"
    },
    {
     "data": {
      "text/html": [
       "<span style=\"color:cyan\"> |-dense_activation_2: tanh</span>"
      ],
      "text/plain": [
       "<IPython.core.display.HTML object>"
      ]
     },
     "metadata": {},
     "output_type": "display_data"
    },
    {
     "data": {
      "text/html": [
       "<span style=\"color:blue\"> |-dense_activation_3: tanh</span>"
      ],
      "text/plain": [
       "<IPython.core.display.HTML object>"
      ]
     },
     "metadata": {},
     "output_type": "display_data"
    },
    {
     "data": {
      "text/html": [
       "<span style=\"color:cyan\"> |-dense_activation_4: relu</span>"
      ],
      "text/plain": [
       "<IPython.core.display.HTML object>"
      ]
     },
     "metadata": {},
     "output_type": "display_data"
    },
    {
     "data": {
      "text/html": [
       "<span style=\"color:blue\"> |-dense_activation_5: tanh</span>"
      ],
      "text/plain": [
       "<IPython.core.display.HTML object>"
      ]
     },
     "metadata": {},
     "output_type": "display_data"
    },
    {
     "data": {
      "text/html": [
       "<span style=\"color:cyan\"> |-dense_activation_6: tanh</span>"
      ],
      "text/plain": [
       "<IPython.core.display.HTML object>"
      ]
     },
     "metadata": {},
     "output_type": "display_data"
    },
    {
     "data": {
      "text/html": [
       "<span style=\"color:blue\"> |-dense_units_0: 48</span>"
      ],
      "text/plain": [
       "<IPython.core.display.HTML object>"
      ]
     },
     "metadata": {},
     "output_type": "display_data"
    },
    {
     "data": {
      "text/html": [
       "<span style=\"color:cyan\"> |-dense_units_1: 24</span>"
      ],
      "text/plain": [
       "<IPython.core.display.HTML object>"
      ]
     },
     "metadata": {},
     "output_type": "display_data"
    },
    {
     "data": {
      "text/html": [
       "<span style=\"color:blue\"> |-dense_units_2: 16</span>"
      ],
      "text/plain": [
       "<IPython.core.display.HTML object>"
      ]
     },
     "metadata": {},
     "output_type": "display_data"
    },
    {
     "data": {
      "text/html": [
       "<span style=\"color:cyan\"> |-dense_units_3: 56</span>"
      ],
      "text/plain": [
       "<IPython.core.display.HTML object>"
      ]
     },
     "metadata": {},
     "output_type": "display_data"
    },
    {
     "data": {
      "text/html": [
       "<span style=\"color:blue\"> |-dense_units_4: 24</span>"
      ],
      "text/plain": [
       "<IPython.core.display.HTML object>"
      ]
     },
     "metadata": {},
     "output_type": "display_data"
    },
    {
     "data": {
      "text/html": [
       "<span style=\"color:cyan\"> |-dense_units_5: 56</span>"
      ],
      "text/plain": [
       "<IPython.core.display.HTML object>"
      ]
     },
     "metadata": {},
     "output_type": "display_data"
    },
    {
     "data": {
      "text/html": [
       "<span style=\"color:blue\"> |-dense_units_6: 64</span>"
      ],
      "text/plain": [
       "<IPython.core.display.HTML object>"
      ]
     },
     "metadata": {},
     "output_type": "display_data"
    },
    {
     "data": {
      "text/html": [
       "<span style=\"color:cyan\"> |-dropout_0: 0.5</span>"
      ],
      "text/plain": [
       "<IPython.core.display.HTML object>"
      ]
     },
     "metadata": {},
     "output_type": "display_data"
    },
    {
     "data": {
      "text/html": [
       "<span style=\"color:blue\"> |-dropout_1: 0.30000000000000004</span>"
      ],
      "text/plain": [
       "<IPython.core.display.HTML object>"
      ]
     },
     "metadata": {},
     "output_type": "display_data"
    },
    {
     "data": {
      "text/html": [
       "<span style=\"color:cyan\"> |-dropout_2: 0.1</span>"
      ],
      "text/plain": [
       "<IPython.core.display.HTML object>"
      ]
     },
     "metadata": {},
     "output_type": "display_data"
    },
    {
     "data": {
      "text/html": [
       "<span style=\"color:blue\"> |-dropout_3: 0.5</span>"
      ],
      "text/plain": [
       "<IPython.core.display.HTML object>"
      ]
     },
     "metadata": {},
     "output_type": "display_data"
    },
    {
     "data": {
      "text/html": [
       "<span style=\"color:cyan\"> |-dropout_4: 0.5</span>"
      ],
      "text/plain": [
       "<IPython.core.display.HTML object>"
      ]
     },
     "metadata": {},
     "output_type": "display_data"
    },
    {
     "data": {
      "text/html": [
       "<span style=\"color:blue\"> |-dropout_5: 0.05</span>"
      ],
      "text/plain": [
       "<IPython.core.display.HTML object>"
      ]
     },
     "metadata": {},
     "output_type": "display_data"
    },
    {
     "data": {
      "text/html": [
       "<span style=\"color:cyan\"> |-dropout_6: 0.30000000000000004</span>"
      ],
      "text/plain": [
       "<IPython.core.display.HTML object>"
      ]
     },
     "metadata": {},
     "output_type": "display_data"
    },
    {
     "data": {
      "text/html": [
       "<span style=\"color:blue\"> |-learning_rate: 0.008478190236600095</span>"
      ],
      "text/plain": [
       "<IPython.core.display.HTML object>"
      ]
     },
     "metadata": {},
     "output_type": "display_data"
    },
    {
     "data": {
      "text/html": [
       "<span style=\"color:cyan\"> |-num_layers: 5</span>"
      ],
      "text/plain": [
       "<IPython.core.display.HTML object>"
      ]
     },
     "metadata": {},
     "output_type": "display_data"
    },
    {
     "name": "stdout",
     "output_type": "stream",
     "text": [
      "Train on 712 samples, validate on 179 samples\n",
      "Epoch 1/20\n",
      "712/712 [==============================] - 1s 1ms/sample - loss: 0.6995 - accuracy: 0.5843 - val_loss: 0.6811 - val_accuracy: 0.5866\n",
      "Epoch 2/20\n",
      "712/712 [==============================] - 0s 155us/sample - loss: 0.6781 - accuracy: 0.6110 - val_loss: 0.6802 - val_accuracy: 0.5866\n",
      "Epoch 3/20\n",
      "712/712 [==============================] - 0s 152us/sample - loss: 0.6788 - accuracy: 0.6081 - val_loss: 0.6798 - val_accuracy: 0.5866\n",
      "Epoch 4/20\n",
      "712/712 [==============================] - 0s 170us/sample - loss: 0.6803 - accuracy: 0.6166 - val_loss: 0.6781 - val_accuracy: 0.5866\n",
      "Epoch 5/20\n",
      "712/712 [==============================] - 0s 150us/sample - loss: 0.6687 - accuracy: 0.6180 - val_loss: 0.6801 - val_accuracy: 0.5866\n",
      "Epoch 6/20\n",
      "712/712 [==============================] - 0s 161us/sample - loss: 0.6671 - accuracy: 0.6194 - val_loss: 0.6799 - val_accuracy: 0.5866\n",
      "Epoch 7/20\n",
      "712/712 [==============================] - 0s 158us/sample - loss: 0.6676 - accuracy: 0.6236 - val_loss: 0.6790 - val_accuracy: 0.5866\n",
      "Epoch 8/20\n",
      "712/712 [==============================] - 0s 152us/sample - loss: 0.6734 - accuracy: 0.6208 - val_loss: 0.6787 - val_accuracy: 0.5866\n",
      "Epoch 9/20\n",
      "712/712 [==============================] - 0s 149us/sample - loss: 0.6691 - accuracy: 0.6222 - val_loss: 0.6793 - val_accuracy: 0.5866\n",
      "Epoch 10/20\n",
      "712/712 [==============================] - 0s 174us/sample - loss: 0.6593 - accuracy: 0.6208 - val_loss: 0.6809 - val_accuracy: 0.5866\n",
      "Epoch 11/20\n",
      "712/712 [==============================] - 0s 156us/sample - loss: 0.6688 - accuracy: 0.6222 - val_loss: 0.6778 - val_accuracy: 0.5866\n",
      "Epoch 12/20\n",
      "712/712 [==============================] - 0s 149us/sample - loss: 0.6682 - accuracy: 0.6194 - val_loss: 0.6790 - val_accuracy: 0.5866\n",
      "Epoch 13/20\n",
      "712/712 [==============================] - 0s 153us/sample - loss: 0.6648 - accuracy: 0.6236 - val_loss: 0.6772 - val_accuracy: 0.5866\n",
      "Epoch 14/20\n",
      "712/712 [==============================] - 0s 157us/sample - loss: 0.6680 - accuracy: 0.6236 - val_loss: 0.6769 - val_accuracy: 0.5866\n",
      "Epoch 15/20\n",
      "712/712 [==============================] - 0s 157us/sample - loss: 0.6640 - accuracy: 0.6236 - val_loss: 0.6746 - val_accuracy: 0.5866\n",
      "Epoch 16/20\n",
      "712/712 [==============================] - 0s 157us/sample - loss: 0.6596 - accuracy: 0.6236 - val_loss: 0.6692 - val_accuracy: 0.5866\n",
      "Epoch 17/20\n",
      "712/712 [==============================] - 0s 152us/sample - loss: 0.6532 - accuracy: 0.6236 - val_loss: 0.6504 - val_accuracy: 0.5866\n",
      "Epoch 18/20\n",
      "712/712 [==============================] - 0s 169us/sample - loss: 0.6242 - accuracy: 0.6236 - val_loss: 0.5801 - val_accuracy: 0.5866\n",
      "Epoch 19/20\n",
      "712/712 [==============================] - 0s 193us/sample - loss: 0.5390 - accuracy: 0.7149 - val_loss: 0.4786 - val_accuracy: 0.8156\n",
      "Epoch 20/20\n",
      "712/712 [==============================] - 0s 152us/sample - loss: 0.5371 - accuracy: 0.7781 - val_loss: 0.4690 - val_accuracy: 0.8045\n",
      "Train on 712 samples, validate on 179 samples\n",
      "Epoch 1/20\n",
      "712/712 [==============================] - 1s 1ms/sample - loss: 0.6810 - accuracy: 0.5955 - val_loss: 0.6815 - val_accuracy: 0.5866\n",
      "Epoch 2/20\n",
      "712/712 [==============================] - 0s 242us/sample - loss: 0.6704 - accuracy: 0.6264 - val_loss: 0.6813 - val_accuracy: 0.5866\n",
      "Epoch 3/20\n",
      "712/712 [==============================] - 0s 175us/sample - loss: 0.6726 - accuracy: 0.6222 - val_loss: 0.6780 - val_accuracy: 0.5866\n",
      "Epoch 4/20\n",
      "712/712 [==============================] - 0s 150us/sample - loss: 0.6804 - accuracy: 0.6039 - val_loss: 0.6796 - val_accuracy: 0.5866\n",
      "Epoch 5/20\n",
      "712/712 [==============================] - 0s 150us/sample - loss: 0.6583 - accuracy: 0.6236 - val_loss: 0.6813 - val_accuracy: 0.5866\n",
      "Epoch 6/20\n",
      "712/712 [==============================] - 0s 160us/sample - loss: 0.6720 - accuracy: 0.6236 - val_loss: 0.6780 - val_accuracy: 0.5866\n",
      "Epoch 7/20\n",
      "712/712 [==============================] - 0s 152us/sample - loss: 0.6659 - accuracy: 0.6236 - val_loss: 0.6823 - val_accuracy: 0.5866\n",
      "Epoch 8/20\n",
      "712/712 [==============================] - 0s 206us/sample - loss: 0.6737 - accuracy: 0.6236 - val_loss: 0.6779 - val_accuracy: 0.5866\n",
      "Epoch 9/20\n",
      "712/712 [==============================] - 0s 212us/sample - loss: 0.6670 - accuracy: 0.6236 - val_loss: 0.6778 - val_accuracy: 0.5866\n",
      "Epoch 10/20\n",
      "712/712 [==============================] - 0s 214us/sample - loss: 0.6662 - accuracy: 0.6236 - val_loss: 0.6780 - val_accuracy: 0.5866\n",
      "Epoch 11/20\n",
      "712/712 [==============================] - 0s 214us/sample - loss: 0.6666 - accuracy: 0.6222 - val_loss: 0.6752 - val_accuracy: 0.5866\n",
      "Epoch 12/20\n",
      "712/712 [==============================] - 0s 148us/sample - loss: 0.6585 - accuracy: 0.6236 - val_loss: 0.6649 - val_accuracy: 0.5866\n",
      "Epoch 13/20\n",
      "712/712 [==============================] - 0s 152us/sample - loss: 0.6484 - accuracy: 0.6236 - val_loss: 0.6229 - val_accuracy: 0.5866\n",
      "Epoch 14/20\n",
      "712/712 [==============================] - 0s 163us/sample - loss: 0.5882 - accuracy: 0.6503 - val_loss: 0.5271 - val_accuracy: 0.7821\n",
      "Epoch 15/20\n",
      "712/712 [==============================] - 0s 151us/sample - loss: 0.5291 - accuracy: 0.7528 - val_loss: 0.4890 - val_accuracy: 0.7821\n",
      "Epoch 16/20\n",
      "712/712 [==============================] - 0s 149us/sample - loss: 0.5304 - accuracy: 0.7556 - val_loss: 0.4898 - val_accuracy: 0.7821\n",
      "Epoch 17/20\n",
      "712/712 [==============================] - 0s 152us/sample - loss: 0.5159 - accuracy: 0.7809 - val_loss: 0.4750 - val_accuracy: 0.7933\n",
      "Epoch 18/20\n",
      "712/712 [==============================] - 0s 150us/sample - loss: 0.5085 - accuracy: 0.7907 - val_loss: 0.4721 - val_accuracy: 0.8045\n",
      "Epoch 19/20\n",
      "712/712 [==============================] - 0s 165us/sample - loss: 0.4741 - accuracy: 0.8090 - val_loss: 0.4653 - val_accuracy: 0.7989\n",
      "Epoch 20/20\n",
      "712/712 [==============================] - 0s 158us/sample - loss: 0.5048 - accuracy: 0.7949 - val_loss: 0.4554 - val_accuracy: 0.8045\n"
     ]
    },
    {
     "data": {
      "text/html": [
       "<span style=\"color:#4527A0\"><h1 style=\"font-size:18px\">Trial complete</h1></span>"
      ],
      "text/plain": [
       "<IPython.core.display.HTML object>"
      ]
     },
     "metadata": {},
     "output_type": "display_data"
    },
    {
     "data": {
      "text/html": [
       "<span style=\"color:#4527A0\"><h1 style=\"font-size:18px\">Trial summary</h1></span>"
      ],
      "text/plain": [
       "<IPython.core.display.HTML object>"
      ]
     },
     "metadata": {},
     "output_type": "display_data"
    },
    {
     "data": {
      "text/html": [
       "<span style=\"color:cyan\"> |-Trial ID: ccd1e400a84dfe1b26b508cd753380f7</span>"
      ],
      "text/plain": [
       "<IPython.core.display.HTML object>"
      ]
     },
     "metadata": {},
     "output_type": "display_data"
    },
    {
     "data": {
      "text/html": [
       "<span style=\"color:cyan\"> |-Score: 0.8100558519363403</span>"
      ],
      "text/plain": [
       "<IPython.core.display.HTML object>"
      ]
     },
     "metadata": {},
     "output_type": "display_data"
    },
    {
     "data": {
      "text/html": [
       "<span style=\"color:cyan\"> |-Best step: 0</span>"
      ],
      "text/plain": [
       "<IPython.core.display.HTML object>"
      ]
     },
     "metadata": {},
     "output_type": "display_data"
    },
    {
     "data": {
      "text/html": [
       "<span style=\"color:#7E57C2\"><h2 style=\"font-size:16px\">Hyperparameters:</h2></span>"
      ],
      "text/plain": [
       "<IPython.core.display.HTML object>"
      ]
     },
     "metadata": {},
     "output_type": "display_data"
    },
    {
     "data": {
      "text/html": [
       "<span style=\"color:cyan\"> |-dense_activation_0: sigmoid</span>"
      ],
      "text/plain": [
       "<IPython.core.display.HTML object>"
      ]
     },
     "metadata": {},
     "output_type": "display_data"
    },
    {
     "data": {
      "text/html": [
       "<span style=\"color:blue\"> |-dense_activation_1: sigmoid</span>"
      ],
      "text/plain": [
       "<IPython.core.display.HTML object>"
      ]
     },
     "metadata": {},
     "output_type": "display_data"
    },
    {
     "data": {
      "text/html": [
       "<span style=\"color:cyan\"> |-dense_activation_2: sigmoid</span>"
      ],
      "text/plain": [
       "<IPython.core.display.HTML object>"
      ]
     },
     "metadata": {},
     "output_type": "display_data"
    },
    {
     "data": {
      "text/html": [
       "<span style=\"color:blue\"> |-dense_activation_3: sigmoid</span>"
      ],
      "text/plain": [
       "<IPython.core.display.HTML object>"
      ]
     },
     "metadata": {},
     "output_type": "display_data"
    },
    {
     "data": {
      "text/html": [
       "<span style=\"color:cyan\"> |-dense_activation_4: tanh</span>"
      ],
      "text/plain": [
       "<IPython.core.display.HTML object>"
      ]
     },
     "metadata": {},
     "output_type": "display_data"
    },
    {
     "data": {
      "text/html": [
       "<span style=\"color:blue\"> |-dense_activation_5: sigmoid</span>"
      ],
      "text/plain": [
       "<IPython.core.display.HTML object>"
      ]
     },
     "metadata": {},
     "output_type": "display_data"
    },
    {
     "data": {
      "text/html": [
       "<span style=\"color:cyan\"> |-dense_activation_6: relu</span>"
      ],
      "text/plain": [
       "<IPython.core.display.HTML object>"
      ]
     },
     "metadata": {},
     "output_type": "display_data"
    },
    {
     "data": {
      "text/html": [
       "<span style=\"color:blue\"> |-dense_units_0: 32</span>"
      ],
      "text/plain": [
       "<IPython.core.display.HTML object>"
      ]
     },
     "metadata": {},
     "output_type": "display_data"
    },
    {
     "data": {
      "text/html": [
       "<span style=\"color:cyan\"> |-dense_units_1: 40</span>"
      ],
      "text/plain": [
       "<IPython.core.display.HTML object>"
      ]
     },
     "metadata": {},
     "output_type": "display_data"
    },
    {
     "data": {
      "text/html": [
       "<span style=\"color:blue\"> |-dense_units_2: 16</span>"
      ],
      "text/plain": [
       "<IPython.core.display.HTML object>"
      ]
     },
     "metadata": {},
     "output_type": "display_data"
    },
    {
     "data": {
      "text/html": [
       "<span style=\"color:cyan\"> |-dense_units_3: 64</span>"
      ],
      "text/plain": [
       "<IPython.core.display.HTML object>"
      ]
     },
     "metadata": {},
     "output_type": "display_data"
    },
    {
     "data": {
      "text/html": [
       "<span style=\"color:blue\"> |-dense_units_4: 56</span>"
      ],
      "text/plain": [
       "<IPython.core.display.HTML object>"
      ]
     },
     "metadata": {},
     "output_type": "display_data"
    },
    {
     "data": {
      "text/html": [
       "<span style=\"color:cyan\"> |-dense_units_5: 48</span>"
      ],
      "text/plain": [
       "<IPython.core.display.HTML object>"
      ]
     },
     "metadata": {},
     "output_type": "display_data"
    },
    {
     "data": {
      "text/html": [
       "<span style=\"color:blue\"> |-dense_units_6: 32</span>"
      ],
      "text/plain": [
       "<IPython.core.display.HTML object>"
      ]
     },
     "metadata": {},
     "output_type": "display_data"
    },
    {
     "data": {
      "text/html": [
       "<span style=\"color:cyan\"> |-dropout_0: 0.25</span>"
      ],
      "text/plain": [
       "<IPython.core.display.HTML object>"
      ]
     },
     "metadata": {},
     "output_type": "display_data"
    },
    {
     "data": {
      "text/html": [
       "<span style=\"color:blue\"> |-dropout_1: 0.05</span>"
      ],
      "text/plain": [
       "<IPython.core.display.HTML object>"
      ]
     },
     "metadata": {},
     "output_type": "display_data"
    },
    {
     "data": {
      "text/html": [
       "<span style=\"color:cyan\"> |-dropout_2: 0.05</span>"
      ],
      "text/plain": [
       "<IPython.core.display.HTML object>"
      ]
     },
     "metadata": {},
     "output_type": "display_data"
    },
    {
     "data": {
      "text/html": [
       "<span style=\"color:blue\"> |-dropout_3: 0.25</span>"
      ],
      "text/plain": [
       "<IPython.core.display.HTML object>"
      ]
     },
     "metadata": {},
     "output_type": "display_data"
    },
    {
     "data": {
      "text/html": [
       "<span style=\"color:cyan\"> |-dropout_4: 0.30000000000000004</span>"
      ],
      "text/plain": [
       "<IPython.core.display.HTML object>"
      ]
     },
     "metadata": {},
     "output_type": "display_data"
    },
    {
     "data": {
      "text/html": [
       "<span style=\"color:blue\"> |-dropout_5: 0.15000000000000002</span>"
      ],
      "text/plain": [
       "<IPython.core.display.HTML object>"
      ]
     },
     "metadata": {},
     "output_type": "display_data"
    },
    {
     "data": {
      "text/html": [
       "<span style=\"color:cyan\"> |-dropout_6: 0.4</span>"
      ],
      "text/plain": [
       "<IPython.core.display.HTML object>"
      ]
     },
     "metadata": {},
     "output_type": "display_data"
    },
    {
     "data": {
      "text/html": [
       "<span style=\"color:blue\"> |-learning_rate: 0.0019003838058425906</span>"
      ],
      "text/plain": [
       "<IPython.core.display.HTML object>"
      ]
     },
     "metadata": {},
     "output_type": "display_data"
    },
    {
     "data": {
      "text/html": [
       "<span style=\"color:cyan\"> |-num_layers: 6</span>"
      ],
      "text/plain": [
       "<IPython.core.display.HTML object>"
      ]
     },
     "metadata": {},
     "output_type": "display_data"
    },
    {
     "data": {
      "text/html": [
       "<span style=\"color:#4527A0\"><h1 style=\"font-size:18px\">Results summary</h1></span>"
      ],
      "text/plain": [
       "<IPython.core.display.HTML object>"
      ]
     },
     "metadata": {},
     "output_type": "display_data"
    },
    {
     "data": {
      "text/html": [
       "<span style=\"color:cyan\"> |-Results in random_search_0/titanic</span>"
      ],
      "text/plain": [
       "<IPython.core.display.HTML object>"
      ]
     },
     "metadata": {},
     "output_type": "display_data"
    },
    {
     "data": {
      "text/html": [
       "<span style=\"color:cyan\"> |-Showing 10 best trials</span>"
      ],
      "text/plain": [
       "<IPython.core.display.HTML object>"
      ]
     },
     "metadata": {},
     "output_type": "display_data"
    },
    {
     "data": {
      "text/html": [
       "<span style=\"color:cyan\"> |-Objective(name='val_accuracy', direction='max')</span>"
      ],
      "text/plain": [
       "<IPython.core.display.HTML object>"
      ]
     },
     "metadata": {},
     "output_type": "display_data"
    },
    {
     "data": {
      "text/html": [
       "<span style=\"color:#4527A0\"><h1 style=\"font-size:18px\">Trial summary</h1></span>"
      ],
      "text/plain": [
       "<IPython.core.display.HTML object>"
      ]
     },
     "metadata": {},
     "output_type": "display_data"
    },
    {
     "data": {
      "text/html": [
       "<span style=\"color:cyan\"> |-Trial ID: e01c10b91b04b4e3dfc59271a9494ddc</span>"
      ],
      "text/plain": [
       "<IPython.core.display.HTML object>"
      ]
     },
     "metadata": {},
     "output_type": "display_data"
    },
    {
     "data": {
      "text/html": [
       "<span style=\"color:cyan\"> |-Score: 0.8491619825363159</span>"
      ],
      "text/plain": [
       "<IPython.core.display.HTML object>"
      ]
     },
     "metadata": {},
     "output_type": "display_data"
    },
    {
     "data": {
      "text/html": [
       "<span style=\"color:cyan\"> |-Best step: 0</span>"
      ],
      "text/plain": [
       "<IPython.core.display.HTML object>"
      ]
     },
     "metadata": {},
     "output_type": "display_data"
    },
    {
     "data": {
      "text/html": [
       "<span style=\"color:#7E57C2\"><h2 style=\"font-size:16px\">Hyperparameters:</h2></span>"
      ],
      "text/plain": [
       "<IPython.core.display.HTML object>"
      ]
     },
     "metadata": {},
     "output_type": "display_data"
    },
    {
     "data": {
      "text/html": [
       "<span style=\"color:cyan\"> |-dense_activation_0: relu</span>"
      ],
      "text/plain": [
       "<IPython.core.display.HTML object>"
      ]
     },
     "metadata": {},
     "output_type": "display_data"
    },
    {
     "data": {
      "text/html": [
       "<span style=\"color:blue\"> |-dense_activation_1: tanh</span>"
      ],
      "text/plain": [
       "<IPython.core.display.HTML object>"
      ]
     },
     "metadata": {},
     "output_type": "display_data"
    },
    {
     "data": {
      "text/html": [
       "<span style=\"color:cyan\"> |-dense_activation_2: relu</span>"
      ],
      "text/plain": [
       "<IPython.core.display.HTML object>"
      ]
     },
     "metadata": {},
     "output_type": "display_data"
    },
    {
     "data": {
      "text/html": [
       "<span style=\"color:blue\"> |-dense_activation_3: relu</span>"
      ],
      "text/plain": [
       "<IPython.core.display.HTML object>"
      ]
     },
     "metadata": {},
     "output_type": "display_data"
    },
    {
     "data": {
      "text/html": [
       "<span style=\"color:cyan\"> |-dense_activation_4: relu</span>"
      ],
      "text/plain": [
       "<IPython.core.display.HTML object>"
      ]
     },
     "metadata": {},
     "output_type": "display_data"
    },
    {
     "data": {
      "text/html": [
       "<span style=\"color:blue\"> |-dense_activation_5: tanh</span>"
      ],
      "text/plain": [
       "<IPython.core.display.HTML object>"
      ]
     },
     "metadata": {},
     "output_type": "display_data"
    },
    {
     "data": {
      "text/html": [
       "<span style=\"color:cyan\"> |-dense_activation_6: sigmoid</span>"
      ],
      "text/plain": [
       "<IPython.core.display.HTML object>"
      ]
     },
     "metadata": {},
     "output_type": "display_data"
    },
    {
     "data": {
      "text/html": [
       "<span style=\"color:blue\"> |-dense_units_0: 48</span>"
      ],
      "text/plain": [
       "<IPython.core.display.HTML object>"
      ]
     },
     "metadata": {},
     "output_type": "display_data"
    },
    {
     "data": {
      "text/html": [
       "<span style=\"color:cyan\"> |-dense_units_1: 56</span>"
      ],
      "text/plain": [
       "<IPython.core.display.HTML object>"
      ]
     },
     "metadata": {},
     "output_type": "display_data"
    },
    {
     "data": {
      "text/html": [
       "<span style=\"color:blue\"> |-dense_units_2: 24</span>"
      ],
      "text/plain": [
       "<IPython.core.display.HTML object>"
      ]
     },
     "metadata": {},
     "output_type": "display_data"
    },
    {
     "data": {
      "text/html": [
       "<span style=\"color:cyan\"> |-dense_units_3: 24</span>"
      ],
      "text/plain": [
       "<IPython.core.display.HTML object>"
      ]
     },
     "metadata": {},
     "output_type": "display_data"
    },
    {
     "data": {
      "text/html": [
       "<span style=\"color:blue\"> |-dense_units_4: 24</span>"
      ],
      "text/plain": [
       "<IPython.core.display.HTML object>"
      ]
     },
     "metadata": {},
     "output_type": "display_data"
    },
    {
     "data": {
      "text/html": [
       "<span style=\"color:cyan\"> |-dense_units_5: 56</span>"
      ],
      "text/plain": [
       "<IPython.core.display.HTML object>"
      ]
     },
     "metadata": {},
     "output_type": "display_data"
    },
    {
     "data": {
      "text/html": [
       "<span style=\"color:blue\"> |-dense_units_6: 40</span>"
      ],
      "text/plain": [
       "<IPython.core.display.HTML object>"
      ]
     },
     "metadata": {},
     "output_type": "display_data"
    },
    {
     "data": {
      "text/html": [
       "<span style=\"color:cyan\"> |-dropout_0: 0.0</span>"
      ],
      "text/plain": [
       "<IPython.core.display.HTML object>"
      ]
     },
     "metadata": {},
     "output_type": "display_data"
    },
    {
     "data": {
      "text/html": [
       "<span style=\"color:blue\"> |-dropout_1: 0.05</span>"
      ],
      "text/plain": [
       "<IPython.core.display.HTML object>"
      ]
     },
     "metadata": {},
     "output_type": "display_data"
    },
    {
     "data": {
      "text/html": [
       "<span style=\"color:cyan\"> |-dropout_2: 0.0</span>"
      ],
      "text/plain": [
       "<IPython.core.display.HTML object>"
      ]
     },
     "metadata": {},
     "output_type": "display_data"
    },
    {
     "data": {
      "text/html": [
       "<span style=\"color:blue\"> |-dropout_3: 0.35000000000000003</span>"
      ],
      "text/plain": [
       "<IPython.core.display.HTML object>"
      ]
     },
     "metadata": {},
     "output_type": "display_data"
    },
    {
     "data": {
      "text/html": [
       "<span style=\"color:cyan\"> |-dropout_4: 0.0</span>"
      ],
      "text/plain": [
       "<IPython.core.display.HTML object>"
      ]
     },
     "metadata": {},
     "output_type": "display_data"
    },
    {
     "data": {
      "text/html": [
       "<span style=\"color:blue\"> |-dropout_5: 0.05</span>"
      ],
      "text/plain": [
       "<IPython.core.display.HTML object>"
      ]
     },
     "metadata": {},
     "output_type": "display_data"
    },
    {
     "data": {
      "text/html": [
       "<span style=\"color:cyan\"> |-dropout_6: 0.45</span>"
      ],
      "text/plain": [
       "<IPython.core.display.HTML object>"
      ]
     },
     "metadata": {},
     "output_type": "display_data"
    },
    {
     "data": {
      "text/html": [
       "<span style=\"color:blue\"> |-learning_rate: 0.001753559151044536</span>"
      ],
      "text/plain": [
       "<IPython.core.display.HTML object>"
      ]
     },
     "metadata": {},
     "output_type": "display_data"
    },
    {
     "data": {
      "text/html": [
       "<span style=\"color:cyan\"> |-num_layers: 5</span>"
      ],
      "text/plain": [
       "<IPython.core.display.HTML object>"
      ]
     },
     "metadata": {},
     "output_type": "display_data"
    },
    {
     "data": {
      "text/html": [
       "<span style=\"color:#4527A0\"><h1 style=\"font-size:18px\">Trial summary</h1></span>"
      ],
      "text/plain": [
       "<IPython.core.display.HTML object>"
      ]
     },
     "metadata": {},
     "output_type": "display_data"
    },
    {
     "data": {
      "text/html": [
       "<span style=\"color:cyan\"> |-Trial ID: 106df28564199b804f019ac7638f1f17</span>"
      ],
      "text/plain": [
       "<IPython.core.display.HTML object>"
      ]
     },
     "metadata": {},
     "output_type": "display_data"
    },
    {
     "data": {
      "text/html": [
       "<span style=\"color:cyan\"> |-Score: 0.8407821655273438</span>"
      ],
      "text/plain": [
       "<IPython.core.display.HTML object>"
      ]
     },
     "metadata": {},
     "output_type": "display_data"
    },
    {
     "data": {
      "text/html": [
       "<span style=\"color:cyan\"> |-Best step: 0</span>"
      ],
      "text/plain": [
       "<IPython.core.display.HTML object>"
      ]
     },
     "metadata": {},
     "output_type": "display_data"
    },
    {
     "data": {
      "text/html": [
       "<span style=\"color:#7E57C2\"><h2 style=\"font-size:16px\">Hyperparameters:</h2></span>"
      ],
      "text/plain": [
       "<IPython.core.display.HTML object>"
      ]
     },
     "metadata": {},
     "output_type": "display_data"
    },
    {
     "data": {
      "text/html": [
       "<span style=\"color:cyan\"> |-dense_activation_0: relu</span>"
      ],
      "text/plain": [
       "<IPython.core.display.HTML object>"
      ]
     },
     "metadata": {},
     "output_type": "display_data"
    },
    {
     "data": {
      "text/html": [
       "<span style=\"color:blue\"> |-dense_activation_1: relu</span>"
      ],
      "text/plain": [
       "<IPython.core.display.HTML object>"
      ]
     },
     "metadata": {},
     "output_type": "display_data"
    },
    {
     "data": {
      "text/html": [
       "<span style=\"color:cyan\"> |-dense_activation_2: relu</span>"
      ],
      "text/plain": [
       "<IPython.core.display.HTML object>"
      ]
     },
     "metadata": {},
     "output_type": "display_data"
    },
    {
     "data": {
      "text/html": [
       "<span style=\"color:blue\"> |-dense_activation_3: tanh</span>"
      ],
      "text/plain": [
       "<IPython.core.display.HTML object>"
      ]
     },
     "metadata": {},
     "output_type": "display_data"
    },
    {
     "data": {
      "text/html": [
       "<span style=\"color:cyan\"> |-dense_activation_4: tanh</span>"
      ],
      "text/plain": [
       "<IPython.core.display.HTML object>"
      ]
     },
     "metadata": {},
     "output_type": "display_data"
    },
    {
     "data": {
      "text/html": [
       "<span style=\"color:blue\"> |-dense_activation_5: relu</span>"
      ],
      "text/plain": [
       "<IPython.core.display.HTML object>"
      ]
     },
     "metadata": {},
     "output_type": "display_data"
    },
    {
     "data": {
      "text/html": [
       "<span style=\"color:cyan\"> |-dense_activation_6: relu</span>"
      ],
      "text/plain": [
       "<IPython.core.display.HTML object>"
      ]
     },
     "metadata": {},
     "output_type": "display_data"
    },
    {
     "data": {
      "text/html": [
       "<span style=\"color:blue\"> |-dense_units_0: 32</span>"
      ],
      "text/plain": [
       "<IPython.core.display.HTML object>"
      ]
     },
     "metadata": {},
     "output_type": "display_data"
    },
    {
     "data": {
      "text/html": [
       "<span style=\"color:cyan\"> |-dense_units_1: 40</span>"
      ],
      "text/plain": [
       "<IPython.core.display.HTML object>"
      ]
     },
     "metadata": {},
     "output_type": "display_data"
    },
    {
     "data": {
      "text/html": [
       "<span style=\"color:blue\"> |-dense_units_2: 16</span>"
      ],
      "text/plain": [
       "<IPython.core.display.HTML object>"
      ]
     },
     "metadata": {},
     "output_type": "display_data"
    },
    {
     "data": {
      "text/html": [
       "<span style=\"color:cyan\"> |-dense_units_3: 48</span>"
      ],
      "text/plain": [
       "<IPython.core.display.HTML object>"
      ]
     },
     "metadata": {},
     "output_type": "display_data"
    },
    {
     "data": {
      "text/html": [
       "<span style=\"color:blue\"> |-dense_units_4: 56</span>"
      ],
      "text/plain": [
       "<IPython.core.display.HTML object>"
      ]
     },
     "metadata": {},
     "output_type": "display_data"
    },
    {
     "data": {
      "text/html": [
       "<span style=\"color:cyan\"> |-dense_units_5: 16</span>"
      ],
      "text/plain": [
       "<IPython.core.display.HTML object>"
      ]
     },
     "metadata": {},
     "output_type": "display_data"
    },
    {
     "data": {
      "text/html": [
       "<span style=\"color:blue\"> |-dense_units_6: 24</span>"
      ],
      "text/plain": [
       "<IPython.core.display.HTML object>"
      ]
     },
     "metadata": {},
     "output_type": "display_data"
    },
    {
     "data": {
      "text/html": [
       "<span style=\"color:cyan\"> |-dropout_0: 0.2</span>"
      ],
      "text/plain": [
       "<IPython.core.display.HTML object>"
      ]
     },
     "metadata": {},
     "output_type": "display_data"
    },
    {
     "data": {
      "text/html": [
       "<span style=\"color:blue\"> |-dropout_1: 0.2</span>"
      ],
      "text/plain": [
       "<IPython.core.display.HTML object>"
      ]
     },
     "metadata": {},
     "output_type": "display_data"
    },
    {
     "data": {
      "text/html": [
       "<span style=\"color:cyan\"> |-dropout_2: 0.2</span>"
      ],
      "text/plain": [
       "<IPython.core.display.HTML object>"
      ]
     },
     "metadata": {},
     "output_type": "display_data"
    },
    {
     "data": {
      "text/html": [
       "<span style=\"color:blue\"> |-dropout_3: 0.30000000000000004</span>"
      ],
      "text/plain": [
       "<IPython.core.display.HTML object>"
      ]
     },
     "metadata": {},
     "output_type": "display_data"
    },
    {
     "data": {
      "text/html": [
       "<span style=\"color:cyan\"> |-dropout_4: 0.15000000000000002</span>"
      ],
      "text/plain": [
       "<IPython.core.display.HTML object>"
      ]
     },
     "metadata": {},
     "output_type": "display_data"
    },
    {
     "data": {
      "text/html": [
       "<span style=\"color:blue\"> |-dropout_5: 0.0</span>"
      ],
      "text/plain": [
       "<IPython.core.display.HTML object>"
      ]
     },
     "metadata": {},
     "output_type": "display_data"
    },
    {
     "data": {
      "text/html": [
       "<span style=\"color:cyan\"> |-dropout_6: 0.15000000000000002</span>"
      ],
      "text/plain": [
       "<IPython.core.display.HTML object>"
      ]
     },
     "metadata": {},
     "output_type": "display_data"
    },
    {
     "data": {
      "text/html": [
       "<span style=\"color:blue\"> |-learning_rate: 0.006492690297457527</span>"
      ],
      "text/plain": [
       "<IPython.core.display.HTML object>"
      ]
     },
     "metadata": {},
     "output_type": "display_data"
    },
    {
     "data": {
      "text/html": [
       "<span style=\"color:cyan\"> |-num_layers: 2</span>"
      ],
      "text/plain": [
       "<IPython.core.display.HTML object>"
      ]
     },
     "metadata": {},
     "output_type": "display_data"
    },
    {
     "data": {
      "text/html": [
       "<span style=\"color:#4527A0\"><h1 style=\"font-size:18px\">Trial summary</h1></span>"
      ],
      "text/plain": [
       "<IPython.core.display.HTML object>"
      ]
     },
     "metadata": {},
     "output_type": "display_data"
    },
    {
     "data": {
      "text/html": [
       "<span style=\"color:cyan\"> |-Trial ID: af936fa427cc1d39b02850c2b780ad45</span>"
      ],
      "text/plain": [
       "<IPython.core.display.HTML object>"
      ]
     },
     "metadata": {},
     "output_type": "display_data"
    },
    {
     "data": {
      "text/html": [
       "<span style=\"color:cyan\"> |-Score: 0.8379888534545898</span>"
      ],
      "text/plain": [
       "<IPython.core.display.HTML object>"
      ]
     },
     "metadata": {},
     "output_type": "display_data"
    },
    {
     "data": {
      "text/html": [
       "<span style=\"color:cyan\"> |-Best step: 0</span>"
      ],
      "text/plain": [
       "<IPython.core.display.HTML object>"
      ]
     },
     "metadata": {},
     "output_type": "display_data"
    },
    {
     "data": {
      "text/html": [
       "<span style=\"color:#7E57C2\"><h2 style=\"font-size:16px\">Hyperparameters:</h2></span>"
      ],
      "text/plain": [
       "<IPython.core.display.HTML object>"
      ]
     },
     "metadata": {},
     "output_type": "display_data"
    },
    {
     "data": {
      "text/html": [
       "<span style=\"color:cyan\"> |-dense_activation_0: tanh</span>"
      ],
      "text/plain": [
       "<IPython.core.display.HTML object>"
      ]
     },
     "metadata": {},
     "output_type": "display_data"
    },
    {
     "data": {
      "text/html": [
       "<span style=\"color:blue\"> |-dense_activation_1: relu</span>"
      ],
      "text/plain": [
       "<IPython.core.display.HTML object>"
      ]
     },
     "metadata": {},
     "output_type": "display_data"
    },
    {
     "data": {
      "text/html": [
       "<span style=\"color:cyan\"> |-dense_activation_2: relu</span>"
      ],
      "text/plain": [
       "<IPython.core.display.HTML object>"
      ]
     },
     "metadata": {},
     "output_type": "display_data"
    },
    {
     "data": {
      "text/html": [
       "<span style=\"color:blue\"> |-dense_activation_3: sigmoid</span>"
      ],
      "text/plain": [
       "<IPython.core.display.HTML object>"
      ]
     },
     "metadata": {},
     "output_type": "display_data"
    },
    {
     "data": {
      "text/html": [
       "<span style=\"color:cyan\"> |-dense_activation_4: sigmoid</span>"
      ],
      "text/plain": [
       "<IPython.core.display.HTML object>"
      ]
     },
     "metadata": {},
     "output_type": "display_data"
    },
    {
     "data": {
      "text/html": [
       "<span style=\"color:blue\"> |-dense_activation_5: relu</span>"
      ],
      "text/plain": [
       "<IPython.core.display.HTML object>"
      ]
     },
     "metadata": {},
     "output_type": "display_data"
    },
    {
     "data": {
      "text/html": [
       "<span style=\"color:cyan\"> |-dense_activation_6: relu</span>"
      ],
      "text/plain": [
       "<IPython.core.display.HTML object>"
      ]
     },
     "metadata": {},
     "output_type": "display_data"
    },
    {
     "data": {
      "text/html": [
       "<span style=\"color:blue\"> |-dense_units_0: 48</span>"
      ],
      "text/plain": [
       "<IPython.core.display.HTML object>"
      ]
     },
     "metadata": {},
     "output_type": "display_data"
    },
    {
     "data": {
      "text/html": [
       "<span style=\"color:cyan\"> |-dense_units_1: 40</span>"
      ],
      "text/plain": [
       "<IPython.core.display.HTML object>"
      ]
     },
     "metadata": {},
     "output_type": "display_data"
    },
    {
     "data": {
      "text/html": [
       "<span style=\"color:blue\"> |-dense_units_2: 16</span>"
      ],
      "text/plain": [
       "<IPython.core.display.HTML object>"
      ]
     },
     "metadata": {},
     "output_type": "display_data"
    },
    {
     "data": {
      "text/html": [
       "<span style=\"color:cyan\"> |-dense_units_3: 24</span>"
      ],
      "text/plain": [
       "<IPython.core.display.HTML object>"
      ]
     },
     "metadata": {},
     "output_type": "display_data"
    },
    {
     "data": {
      "text/html": [
       "<span style=\"color:blue\"> |-dense_units_4: 56</span>"
      ],
      "text/plain": [
       "<IPython.core.display.HTML object>"
      ]
     },
     "metadata": {},
     "output_type": "display_data"
    },
    {
     "data": {
      "text/html": [
       "<span style=\"color:cyan\"> |-dense_units_5: 24</span>"
      ],
      "text/plain": [
       "<IPython.core.display.HTML object>"
      ]
     },
     "metadata": {},
     "output_type": "display_data"
    },
    {
     "data": {
      "text/html": [
       "<span style=\"color:blue\"> |-dense_units_6: 8</span>"
      ],
      "text/plain": [
       "<IPython.core.display.HTML object>"
      ]
     },
     "metadata": {},
     "output_type": "display_data"
    },
    {
     "data": {
      "text/html": [
       "<span style=\"color:cyan\"> |-dropout_0: 0.05</span>"
      ],
      "text/plain": [
       "<IPython.core.display.HTML object>"
      ]
     },
     "metadata": {},
     "output_type": "display_data"
    },
    {
     "data": {
      "text/html": [
       "<span style=\"color:blue\"> |-dropout_1: 0.25</span>"
      ],
      "text/plain": [
       "<IPython.core.display.HTML object>"
      ]
     },
     "metadata": {},
     "output_type": "display_data"
    },
    {
     "data": {
      "text/html": [
       "<span style=\"color:cyan\"> |-dropout_2: 0.1</span>"
      ],
      "text/plain": [
       "<IPython.core.display.HTML object>"
      ]
     },
     "metadata": {},
     "output_type": "display_data"
    },
    {
     "data": {
      "text/html": [
       "<span style=\"color:blue\"> |-dropout_3: 0.15000000000000002</span>"
      ],
      "text/plain": [
       "<IPython.core.display.HTML object>"
      ]
     },
     "metadata": {},
     "output_type": "display_data"
    },
    {
     "data": {
      "text/html": [
       "<span style=\"color:cyan\"> |-dropout_4: 0.2</span>"
      ],
      "text/plain": [
       "<IPython.core.display.HTML object>"
      ]
     },
     "metadata": {},
     "output_type": "display_data"
    },
    {
     "data": {
      "text/html": [
       "<span style=\"color:blue\"> |-dropout_5: 0.2</span>"
      ],
      "text/plain": [
       "<IPython.core.display.HTML object>"
      ]
     },
     "metadata": {},
     "output_type": "display_data"
    },
    {
     "data": {
      "text/html": [
       "<span style=\"color:cyan\"> |-dropout_6: 0.45</span>"
      ],
      "text/plain": [
       "<IPython.core.display.HTML object>"
      ]
     },
     "metadata": {},
     "output_type": "display_data"
    },
    {
     "data": {
      "text/html": [
       "<span style=\"color:blue\"> |-learning_rate: 0.006353350532750873</span>"
      ],
      "text/plain": [
       "<IPython.core.display.HTML object>"
      ]
     },
     "metadata": {},
     "output_type": "display_data"
    },
    {
     "data": {
      "text/html": [
       "<span style=\"color:cyan\"> |-num_layers: 4</span>"
      ],
      "text/plain": [
       "<IPython.core.display.HTML object>"
      ]
     },
     "metadata": {},
     "output_type": "display_data"
    },
    {
     "data": {
      "text/html": [
       "<span style=\"color:#4527A0\"><h1 style=\"font-size:18px\">Trial summary</h1></span>"
      ],
      "text/plain": [
       "<IPython.core.display.HTML object>"
      ]
     },
     "metadata": {},
     "output_type": "display_data"
    },
    {
     "data": {
      "text/html": [
       "<span style=\"color:cyan\"> |-Trial ID: 8b3be966c65be15d5766c05388c4613f</span>"
      ],
      "text/plain": [
       "<IPython.core.display.HTML object>"
      ]
     },
     "metadata": {},
     "output_type": "display_data"
    },
    {
     "data": {
      "text/html": [
       "<span style=\"color:cyan\"> |-Score: 0.8379888534545898</span>"
      ],
      "text/plain": [
       "<IPython.core.display.HTML object>"
      ]
     },
     "metadata": {},
     "output_type": "display_data"
    },
    {
     "data": {
      "text/html": [
       "<span style=\"color:cyan\"> |-Best step: 0</span>"
      ],
      "text/plain": [
       "<IPython.core.display.HTML object>"
      ]
     },
     "metadata": {},
     "output_type": "display_data"
    },
    {
     "data": {
      "text/html": [
       "<span style=\"color:#7E57C2\"><h2 style=\"font-size:16px\">Hyperparameters:</h2></span>"
      ],
      "text/plain": [
       "<IPython.core.display.HTML object>"
      ]
     },
     "metadata": {},
     "output_type": "display_data"
    },
    {
     "data": {
      "text/html": [
       "<span style=\"color:cyan\"> |-dense_activation_0: tanh</span>"
      ],
      "text/plain": [
       "<IPython.core.display.HTML object>"
      ]
     },
     "metadata": {},
     "output_type": "display_data"
    },
    {
     "data": {
      "text/html": [
       "<span style=\"color:blue\"> |-dense_activation_1: relu</span>"
      ],
      "text/plain": [
       "<IPython.core.display.HTML object>"
      ]
     },
     "metadata": {},
     "output_type": "display_data"
    },
    {
     "data": {
      "text/html": [
       "<span style=\"color:cyan\"> |-dense_activation_2: sigmoid</span>"
      ],
      "text/plain": [
       "<IPython.core.display.HTML object>"
      ]
     },
     "metadata": {},
     "output_type": "display_data"
    },
    {
     "data": {
      "text/html": [
       "<span style=\"color:blue\"> |-dense_activation_3: sigmoid</span>"
      ],
      "text/plain": [
       "<IPython.core.display.HTML object>"
      ]
     },
     "metadata": {},
     "output_type": "display_data"
    },
    {
     "data": {
      "text/html": [
       "<span style=\"color:cyan\"> |-dense_activation_4: sigmoid</span>"
      ],
      "text/plain": [
       "<IPython.core.display.HTML object>"
      ]
     },
     "metadata": {},
     "output_type": "display_data"
    },
    {
     "data": {
      "text/html": [
       "<span style=\"color:blue\"> |-dense_activation_5: sigmoid</span>"
      ],
      "text/plain": [
       "<IPython.core.display.HTML object>"
      ]
     },
     "metadata": {},
     "output_type": "display_data"
    },
    {
     "data": {
      "text/html": [
       "<span style=\"color:cyan\"> |-dense_activation_6: relu</span>"
      ],
      "text/plain": [
       "<IPython.core.display.HTML object>"
      ]
     },
     "metadata": {},
     "output_type": "display_data"
    },
    {
     "data": {
      "text/html": [
       "<span style=\"color:blue\"> |-dense_units_0: 40</span>"
      ],
      "text/plain": [
       "<IPython.core.display.HTML object>"
      ]
     },
     "metadata": {},
     "output_type": "display_data"
    },
    {
     "data": {
      "text/html": [
       "<span style=\"color:cyan\"> |-dense_units_1: 24</span>"
      ],
      "text/plain": [
       "<IPython.core.display.HTML object>"
      ]
     },
     "metadata": {},
     "output_type": "display_data"
    },
    {
     "data": {
      "text/html": [
       "<span style=\"color:blue\"> |-dense_units_2: 24</span>"
      ],
      "text/plain": [
       "<IPython.core.display.HTML object>"
      ]
     },
     "metadata": {},
     "output_type": "display_data"
    },
    {
     "data": {
      "text/html": [
       "<span style=\"color:cyan\"> |-dense_units_3: 16</span>"
      ],
      "text/plain": [
       "<IPython.core.display.HTML object>"
      ]
     },
     "metadata": {},
     "output_type": "display_data"
    },
    {
     "data": {
      "text/html": [
       "<span style=\"color:blue\"> |-dense_units_4: 40</span>"
      ],
      "text/plain": [
       "<IPython.core.display.HTML object>"
      ]
     },
     "metadata": {},
     "output_type": "display_data"
    },
    {
     "data": {
      "text/html": [
       "<span style=\"color:cyan\"> |-dense_units_5: 48</span>"
      ],
      "text/plain": [
       "<IPython.core.display.HTML object>"
      ]
     },
     "metadata": {},
     "output_type": "display_data"
    },
    {
     "data": {
      "text/html": [
       "<span style=\"color:blue\"> |-dense_units_6: 24</span>"
      ],
      "text/plain": [
       "<IPython.core.display.HTML object>"
      ]
     },
     "metadata": {},
     "output_type": "display_data"
    },
    {
     "data": {
      "text/html": [
       "<span style=\"color:cyan\"> |-dropout_0: 0.05</span>"
      ],
      "text/plain": [
       "<IPython.core.display.HTML object>"
      ]
     },
     "metadata": {},
     "output_type": "display_data"
    },
    {
     "data": {
      "text/html": [
       "<span style=\"color:blue\"> |-dropout_1: 0.15000000000000002</span>"
      ],
      "text/plain": [
       "<IPython.core.display.HTML object>"
      ]
     },
     "metadata": {},
     "output_type": "display_data"
    },
    {
     "data": {
      "text/html": [
       "<span style=\"color:cyan\"> |-dropout_2: 0.25</span>"
      ],
      "text/plain": [
       "<IPython.core.display.HTML object>"
      ]
     },
     "metadata": {},
     "output_type": "display_data"
    },
    {
     "data": {
      "text/html": [
       "<span style=\"color:blue\"> |-dropout_3: 0.2</span>"
      ],
      "text/plain": [
       "<IPython.core.display.HTML object>"
      ]
     },
     "metadata": {},
     "output_type": "display_data"
    },
    {
     "data": {
      "text/html": [
       "<span style=\"color:cyan\"> |-dropout_4: 0.30000000000000004</span>"
      ],
      "text/plain": [
       "<IPython.core.display.HTML object>"
      ]
     },
     "metadata": {},
     "output_type": "display_data"
    },
    {
     "data": {
      "text/html": [
       "<span style=\"color:blue\"> |-dropout_5: 0.05</span>"
      ],
      "text/plain": [
       "<IPython.core.display.HTML object>"
      ]
     },
     "metadata": {},
     "output_type": "display_data"
    },
    {
     "data": {
      "text/html": [
       "<span style=\"color:cyan\"> |-dropout_6: 0.05</span>"
      ],
      "text/plain": [
       "<IPython.core.display.HTML object>"
      ]
     },
     "metadata": {},
     "output_type": "display_data"
    },
    {
     "data": {
      "text/html": [
       "<span style=\"color:blue\"> |-learning_rate: 0.0033710341251377745</span>"
      ],
      "text/plain": [
       "<IPython.core.display.HTML object>"
      ]
     },
     "metadata": {},
     "output_type": "display_data"
    },
    {
     "data": {
      "text/html": [
       "<span style=\"color:cyan\"> |-num_layers: 2</span>"
      ],
      "text/plain": [
       "<IPython.core.display.HTML object>"
      ]
     },
     "metadata": {},
     "output_type": "display_data"
    },
    {
     "data": {
      "text/html": [
       "<span style=\"color:#4527A0\"><h1 style=\"font-size:18px\">Trial summary</h1></span>"
      ],
      "text/plain": [
       "<IPython.core.display.HTML object>"
      ]
     },
     "metadata": {},
     "output_type": "display_data"
    },
    {
     "data": {
      "text/html": [
       "<span style=\"color:cyan\"> |-Trial ID: 66bd15078af0aae7a694e5aa5a77c0c3</span>"
      ],
      "text/plain": [
       "<IPython.core.display.HTML object>"
      ]
     },
     "metadata": {},
     "output_type": "display_data"
    },
    {
     "data": {
      "text/html": [
       "<span style=\"color:cyan\"> |-Score: 0.8379888534545898</span>"
      ],
      "text/plain": [
       "<IPython.core.display.HTML object>"
      ]
     },
     "metadata": {},
     "output_type": "display_data"
    },
    {
     "data": {
      "text/html": [
       "<span style=\"color:cyan\"> |-Best step: 0</span>"
      ],
      "text/plain": [
       "<IPython.core.display.HTML object>"
      ]
     },
     "metadata": {},
     "output_type": "display_data"
    },
    {
     "data": {
      "text/html": [
       "<span style=\"color:#7E57C2\"><h2 style=\"font-size:16px\">Hyperparameters:</h2></span>"
      ],
      "text/plain": [
       "<IPython.core.display.HTML object>"
      ]
     },
     "metadata": {},
     "output_type": "display_data"
    },
    {
     "data": {
      "text/html": [
       "<span style=\"color:cyan\"> |-dense_activation_0: tanh</span>"
      ],
      "text/plain": [
       "<IPython.core.display.HTML object>"
      ]
     },
     "metadata": {},
     "output_type": "display_data"
    },
    {
     "data": {
      "text/html": [
       "<span style=\"color:blue\"> |-dense_activation_1: tanh</span>"
      ],
      "text/plain": [
       "<IPython.core.display.HTML object>"
      ]
     },
     "metadata": {},
     "output_type": "display_data"
    },
    {
     "data": {
      "text/html": [
       "<span style=\"color:cyan\"> |-dense_activation_2: sigmoid</span>"
      ],
      "text/plain": [
       "<IPython.core.display.HTML object>"
      ]
     },
     "metadata": {},
     "output_type": "display_data"
    },
    {
     "data": {
      "text/html": [
       "<span style=\"color:blue\"> |-dense_activation_3: sigmoid</span>"
      ],
      "text/plain": [
       "<IPython.core.display.HTML object>"
      ]
     },
     "metadata": {},
     "output_type": "display_data"
    },
    {
     "data": {
      "text/html": [
       "<span style=\"color:cyan\"> |-dense_activation_4: tanh</span>"
      ],
      "text/plain": [
       "<IPython.core.display.HTML object>"
      ]
     },
     "metadata": {},
     "output_type": "display_data"
    },
    {
     "data": {
      "text/html": [
       "<span style=\"color:blue\"> |-dense_activation_5: sigmoid</span>"
      ],
      "text/plain": [
       "<IPython.core.display.HTML object>"
      ]
     },
     "metadata": {},
     "output_type": "display_data"
    },
    {
     "data": {
      "text/html": [
       "<span style=\"color:cyan\"> |-dense_activation_6: tanh</span>"
      ],
      "text/plain": [
       "<IPython.core.display.HTML object>"
      ]
     },
     "metadata": {},
     "output_type": "display_data"
    },
    {
     "data": {
      "text/html": [
       "<span style=\"color:blue\"> |-dense_units_0: 32</span>"
      ],
      "text/plain": [
       "<IPython.core.display.HTML object>"
      ]
     },
     "metadata": {},
     "output_type": "display_data"
    },
    {
     "data": {
      "text/html": [
       "<span style=\"color:cyan\"> |-dense_units_1: 40</span>"
      ],
      "text/plain": [
       "<IPython.core.display.HTML object>"
      ]
     },
     "metadata": {},
     "output_type": "display_data"
    },
    {
     "data": {
      "text/html": [
       "<span style=\"color:blue\"> |-dense_units_2: 32</span>"
      ],
      "text/plain": [
       "<IPython.core.display.HTML object>"
      ]
     },
     "metadata": {},
     "output_type": "display_data"
    },
    {
     "data": {
      "text/html": [
       "<span style=\"color:cyan\"> |-dense_units_3: 16</span>"
      ],
      "text/plain": [
       "<IPython.core.display.HTML object>"
      ]
     },
     "metadata": {},
     "output_type": "display_data"
    },
    {
     "data": {
      "text/html": [
       "<span style=\"color:blue\"> |-dense_units_4: 56</span>"
      ],
      "text/plain": [
       "<IPython.core.display.HTML object>"
      ]
     },
     "metadata": {},
     "output_type": "display_data"
    },
    {
     "data": {
      "text/html": [
       "<span style=\"color:cyan\"> |-dense_units_5: 48</span>"
      ],
      "text/plain": [
       "<IPython.core.display.HTML object>"
      ]
     },
     "metadata": {},
     "output_type": "display_data"
    },
    {
     "data": {
      "text/html": [
       "<span style=\"color:blue\"> |-dense_units_6: 48</span>"
      ],
      "text/plain": [
       "<IPython.core.display.HTML object>"
      ]
     },
     "metadata": {},
     "output_type": "display_data"
    },
    {
     "data": {
      "text/html": [
       "<span style=\"color:cyan\"> |-dropout_0: 0.0</span>"
      ],
      "text/plain": [
       "<IPython.core.display.HTML object>"
      ]
     },
     "metadata": {},
     "output_type": "display_data"
    },
    {
     "data": {
      "text/html": [
       "<span style=\"color:blue\"> |-dropout_1: 0.30000000000000004</span>"
      ],
      "text/plain": [
       "<IPython.core.display.HTML object>"
      ]
     },
     "metadata": {},
     "output_type": "display_data"
    },
    {
     "data": {
      "text/html": [
       "<span style=\"color:cyan\"> |-dropout_2: 0.2</span>"
      ],
      "text/plain": [
       "<IPython.core.display.HTML object>"
      ]
     },
     "metadata": {},
     "output_type": "display_data"
    },
    {
     "data": {
      "text/html": [
       "<span style=\"color:blue\"> |-dropout_3: 0.0</span>"
      ],
      "text/plain": [
       "<IPython.core.display.HTML object>"
      ]
     },
     "metadata": {},
     "output_type": "display_data"
    },
    {
     "data": {
      "text/html": [
       "<span style=\"color:cyan\"> |-dropout_4: 0.15000000000000002</span>"
      ],
      "text/plain": [
       "<IPython.core.display.HTML object>"
      ]
     },
     "metadata": {},
     "output_type": "display_data"
    },
    {
     "data": {
      "text/html": [
       "<span style=\"color:blue\"> |-dropout_5: 0.1</span>"
      ],
      "text/plain": [
       "<IPython.core.display.HTML object>"
      ]
     },
     "metadata": {},
     "output_type": "display_data"
    },
    {
     "data": {
      "text/html": [
       "<span style=\"color:cyan\"> |-dropout_6: 0.05</span>"
      ],
      "text/plain": [
       "<IPython.core.display.HTML object>"
      ]
     },
     "metadata": {},
     "output_type": "display_data"
    },
    {
     "data": {
      "text/html": [
       "<span style=\"color:blue\"> |-learning_rate: 0.0025124079357885637</span>"
      ],
      "text/plain": [
       "<IPython.core.display.HTML object>"
      ]
     },
     "metadata": {},
     "output_type": "display_data"
    },
    {
     "data": {
      "text/html": [
       "<span style=\"color:cyan\"> |-num_layers: 1</span>"
      ],
      "text/plain": [
       "<IPython.core.display.HTML object>"
      ]
     },
     "metadata": {},
     "output_type": "display_data"
    },
    {
     "data": {
      "text/html": [
       "<span style=\"color:#4527A0\"><h1 style=\"font-size:18px\">Trial summary</h1></span>"
      ],
      "text/plain": [
       "<IPython.core.display.HTML object>"
      ]
     },
     "metadata": {},
     "output_type": "display_data"
    },
    {
     "data": {
      "text/html": [
       "<span style=\"color:cyan\"> |-Trial ID: 12fec6aaf934ab432a5e4c672f42d9c8</span>"
      ],
      "text/plain": [
       "<IPython.core.display.HTML object>"
      ]
     },
     "metadata": {},
     "output_type": "display_data"
    },
    {
     "data": {
      "text/html": [
       "<span style=\"color:cyan\"> |-Score: 0.8351955413818359</span>"
      ],
      "text/plain": [
       "<IPython.core.display.HTML object>"
      ]
     },
     "metadata": {},
     "output_type": "display_data"
    },
    {
     "data": {
      "text/html": [
       "<span style=\"color:cyan\"> |-Best step: 0</span>"
      ],
      "text/plain": [
       "<IPython.core.display.HTML object>"
      ]
     },
     "metadata": {},
     "output_type": "display_data"
    },
    {
     "data": {
      "text/html": [
       "<span style=\"color:#7E57C2\"><h2 style=\"font-size:16px\">Hyperparameters:</h2></span>"
      ],
      "text/plain": [
       "<IPython.core.display.HTML object>"
      ]
     },
     "metadata": {},
     "output_type": "display_data"
    },
    {
     "data": {
      "text/html": [
       "<span style=\"color:cyan\"> |-dense_activation_0: relu</span>"
      ],
      "text/plain": [
       "<IPython.core.display.HTML object>"
      ]
     },
     "metadata": {},
     "output_type": "display_data"
    },
    {
     "data": {
      "text/html": [
       "<span style=\"color:blue\"> |-dense_activation_1: tanh</span>"
      ],
      "text/plain": [
       "<IPython.core.display.HTML object>"
      ]
     },
     "metadata": {},
     "output_type": "display_data"
    },
    {
     "data": {
      "text/html": [
       "<span style=\"color:cyan\"> |-dense_activation_2: tanh</span>"
      ],
      "text/plain": [
       "<IPython.core.display.HTML object>"
      ]
     },
     "metadata": {},
     "output_type": "display_data"
    },
    {
     "data": {
      "text/html": [
       "<span style=\"color:blue\"> |-dense_activation_3: tanh</span>"
      ],
      "text/plain": [
       "<IPython.core.display.HTML object>"
      ]
     },
     "metadata": {},
     "output_type": "display_data"
    },
    {
     "data": {
      "text/html": [
       "<span style=\"color:cyan\"> |-dense_activation_4: relu</span>"
      ],
      "text/plain": [
       "<IPython.core.display.HTML object>"
      ]
     },
     "metadata": {},
     "output_type": "display_data"
    },
    {
     "data": {
      "text/html": [
       "<span style=\"color:blue\"> |-dense_activation_5: sigmoid</span>"
      ],
      "text/plain": [
       "<IPython.core.display.HTML object>"
      ]
     },
     "metadata": {},
     "output_type": "display_data"
    },
    {
     "data": {
      "text/html": [
       "<span style=\"color:cyan\"> |-dense_activation_6: relu</span>"
      ],
      "text/plain": [
       "<IPython.core.display.HTML object>"
      ]
     },
     "metadata": {},
     "output_type": "display_data"
    },
    {
     "data": {
      "text/html": [
       "<span style=\"color:blue\"> |-dense_units_0: 16</span>"
      ],
      "text/plain": [
       "<IPython.core.display.HTML object>"
      ]
     },
     "metadata": {},
     "output_type": "display_data"
    },
    {
     "data": {
      "text/html": [
       "<span style=\"color:cyan\"> |-dense_units_1: 32</span>"
      ],
      "text/plain": [
       "<IPython.core.display.HTML object>"
      ]
     },
     "metadata": {},
     "output_type": "display_data"
    },
    {
     "data": {
      "text/html": [
       "<span style=\"color:blue\"> |-dense_units_2: 48</span>"
      ],
      "text/plain": [
       "<IPython.core.display.HTML object>"
      ]
     },
     "metadata": {},
     "output_type": "display_data"
    },
    {
     "data": {
      "text/html": [
       "<span style=\"color:cyan\"> |-dense_units_3: 24</span>"
      ],
      "text/plain": [
       "<IPython.core.display.HTML object>"
      ]
     },
     "metadata": {},
     "output_type": "display_data"
    },
    {
     "data": {
      "text/html": [
       "<span style=\"color:blue\"> |-dense_units_4: 40</span>"
      ],
      "text/plain": [
       "<IPython.core.display.HTML object>"
      ]
     },
     "metadata": {},
     "output_type": "display_data"
    },
    {
     "data": {
      "text/html": [
       "<span style=\"color:cyan\"> |-dense_units_5: 64</span>"
      ],
      "text/plain": [
       "<IPython.core.display.HTML object>"
      ]
     },
     "metadata": {},
     "output_type": "display_data"
    },
    {
     "data": {
      "text/html": [
       "<span style=\"color:blue\"> |-dense_units_6: 24</span>"
      ],
      "text/plain": [
       "<IPython.core.display.HTML object>"
      ]
     },
     "metadata": {},
     "output_type": "display_data"
    },
    {
     "data": {
      "text/html": [
       "<span style=\"color:cyan\"> |-dropout_0: 0.05</span>"
      ],
      "text/plain": [
       "<IPython.core.display.HTML object>"
      ]
     },
     "metadata": {},
     "output_type": "display_data"
    },
    {
     "data": {
      "text/html": [
       "<span style=\"color:blue\"> |-dropout_1: 0.25</span>"
      ],
      "text/plain": [
       "<IPython.core.display.HTML object>"
      ]
     },
     "metadata": {},
     "output_type": "display_data"
    },
    {
     "data": {
      "text/html": [
       "<span style=\"color:cyan\"> |-dropout_2: 0.1</span>"
      ],
      "text/plain": [
       "<IPython.core.display.HTML object>"
      ]
     },
     "metadata": {},
     "output_type": "display_data"
    },
    {
     "data": {
      "text/html": [
       "<span style=\"color:blue\"> |-dropout_3: 0.05</span>"
      ],
      "text/plain": [
       "<IPython.core.display.HTML object>"
      ]
     },
     "metadata": {},
     "output_type": "display_data"
    },
    {
     "data": {
      "text/html": [
       "<span style=\"color:cyan\"> |-dropout_4: 0.5</span>"
      ],
      "text/plain": [
       "<IPython.core.display.HTML object>"
      ]
     },
     "metadata": {},
     "output_type": "display_data"
    },
    {
     "data": {
      "text/html": [
       "<span style=\"color:blue\"> |-dropout_5: 0.35000000000000003</span>"
      ],
      "text/plain": [
       "<IPython.core.display.HTML object>"
      ]
     },
     "metadata": {},
     "output_type": "display_data"
    },
    {
     "data": {
      "text/html": [
       "<span style=\"color:cyan\"> |-dropout_6: 0.15000000000000002</span>"
      ],
      "text/plain": [
       "<IPython.core.display.HTML object>"
      ]
     },
     "metadata": {},
     "output_type": "display_data"
    },
    {
     "data": {
      "text/html": [
       "<span style=\"color:blue\"> |-learning_rate: 0.007387949622995673</span>"
      ],
      "text/plain": [
       "<IPython.core.display.HTML object>"
      ]
     },
     "metadata": {},
     "output_type": "display_data"
    },
    {
     "data": {
      "text/html": [
       "<span style=\"color:cyan\"> |-num_layers: 3</span>"
      ],
      "text/plain": [
       "<IPython.core.display.HTML object>"
      ]
     },
     "metadata": {},
     "output_type": "display_data"
    },
    {
     "data": {
      "text/html": [
       "<span style=\"color:#4527A0\"><h1 style=\"font-size:18px\">Trial summary</h1></span>"
      ],
      "text/plain": [
       "<IPython.core.display.HTML object>"
      ]
     },
     "metadata": {},
     "output_type": "display_data"
    },
    {
     "data": {
      "text/html": [
       "<span style=\"color:cyan\"> |-Trial ID: 0894c692061ea1dc4c6e39ba0cfaf634</span>"
      ],
      "text/plain": [
       "<IPython.core.display.HTML object>"
      ]
     },
     "metadata": {},
     "output_type": "display_data"
    },
    {
     "data": {
      "text/html": [
       "<span style=\"color:cyan\"> |-Score: 0.8351955413818359</span>"
      ],
      "text/plain": [
       "<IPython.core.display.HTML object>"
      ]
     },
     "metadata": {},
     "output_type": "display_data"
    },
    {
     "data": {
      "text/html": [
       "<span style=\"color:cyan\"> |-Best step: 0</span>"
      ],
      "text/plain": [
       "<IPython.core.display.HTML object>"
      ]
     },
     "metadata": {},
     "output_type": "display_data"
    },
    {
     "data": {
      "text/html": [
       "<span style=\"color:#7E57C2\"><h2 style=\"font-size:16px\">Hyperparameters:</h2></span>"
      ],
      "text/plain": [
       "<IPython.core.display.HTML object>"
      ]
     },
     "metadata": {},
     "output_type": "display_data"
    },
    {
     "data": {
      "text/html": [
       "<span style=\"color:cyan\"> |-dense_activation_0: relu</span>"
      ],
      "text/plain": [
       "<IPython.core.display.HTML object>"
      ]
     },
     "metadata": {},
     "output_type": "display_data"
    },
    {
     "data": {
      "text/html": [
       "<span style=\"color:blue\"> |-dense_activation_1: sigmoid</span>"
      ],
      "text/plain": [
       "<IPython.core.display.HTML object>"
      ]
     },
     "metadata": {},
     "output_type": "display_data"
    },
    {
     "data": {
      "text/html": [
       "<span style=\"color:cyan\"> |-dense_activation_2: tanh</span>"
      ],
      "text/plain": [
       "<IPython.core.display.HTML object>"
      ]
     },
     "metadata": {},
     "output_type": "display_data"
    },
    {
     "data": {
      "text/html": [
       "<span style=\"color:blue\"> |-dense_activation_3: tanh</span>"
      ],
      "text/plain": [
       "<IPython.core.display.HTML object>"
      ]
     },
     "metadata": {},
     "output_type": "display_data"
    },
    {
     "data": {
      "text/html": [
       "<span style=\"color:cyan\"> |-dense_activation_4: relu</span>"
      ],
      "text/plain": [
       "<IPython.core.display.HTML object>"
      ]
     },
     "metadata": {},
     "output_type": "display_data"
    },
    {
     "data": {
      "text/html": [
       "<span style=\"color:blue\"> |-dense_activation_5: relu</span>"
      ],
      "text/plain": [
       "<IPython.core.display.HTML object>"
      ]
     },
     "metadata": {},
     "output_type": "display_data"
    },
    {
     "data": {
      "text/html": [
       "<span style=\"color:cyan\"> |-dense_activation_6: sigmoid</span>"
      ],
      "text/plain": [
       "<IPython.core.display.HTML object>"
      ]
     },
     "metadata": {},
     "output_type": "display_data"
    },
    {
     "data": {
      "text/html": [
       "<span style=\"color:blue\"> |-dense_units_0: 16</span>"
      ],
      "text/plain": [
       "<IPython.core.display.HTML object>"
      ]
     },
     "metadata": {},
     "output_type": "display_data"
    },
    {
     "data": {
      "text/html": [
       "<span style=\"color:cyan\"> |-dense_units_1: 48</span>"
      ],
      "text/plain": [
       "<IPython.core.display.HTML object>"
      ]
     },
     "metadata": {},
     "output_type": "display_data"
    },
    {
     "data": {
      "text/html": [
       "<span style=\"color:blue\"> |-dense_units_2: 56</span>"
      ],
      "text/plain": [
       "<IPython.core.display.HTML object>"
      ]
     },
     "metadata": {},
     "output_type": "display_data"
    },
    {
     "data": {
      "text/html": [
       "<span style=\"color:cyan\"> |-dense_units_3: 56</span>"
      ],
      "text/plain": [
       "<IPython.core.display.HTML object>"
      ]
     },
     "metadata": {},
     "output_type": "display_data"
    },
    {
     "data": {
      "text/html": [
       "<span style=\"color:blue\"> |-dense_units_4: 16</span>"
      ],
      "text/plain": [
       "<IPython.core.display.HTML object>"
      ]
     },
     "metadata": {},
     "output_type": "display_data"
    },
    {
     "data": {
      "text/html": [
       "<span style=\"color:cyan\"> |-dense_units_5: 16</span>"
      ],
      "text/plain": [
       "<IPython.core.display.HTML object>"
      ]
     },
     "metadata": {},
     "output_type": "display_data"
    },
    {
     "data": {
      "text/html": [
       "<span style=\"color:blue\"> |-dense_units_6: 56</span>"
      ],
      "text/plain": [
       "<IPython.core.display.HTML object>"
      ]
     },
     "metadata": {},
     "output_type": "display_data"
    },
    {
     "data": {
      "text/html": [
       "<span style=\"color:cyan\"> |-dropout_0: 0.2</span>"
      ],
      "text/plain": [
       "<IPython.core.display.HTML object>"
      ]
     },
     "metadata": {},
     "output_type": "display_data"
    },
    {
     "data": {
      "text/html": [
       "<span style=\"color:blue\"> |-dropout_1: 0.2</span>"
      ],
      "text/plain": [
       "<IPython.core.display.HTML object>"
      ]
     },
     "metadata": {},
     "output_type": "display_data"
    },
    {
     "data": {
      "text/html": [
       "<span style=\"color:cyan\"> |-dropout_2: 0.45</span>"
      ],
      "text/plain": [
       "<IPython.core.display.HTML object>"
      ]
     },
     "metadata": {},
     "output_type": "display_data"
    },
    {
     "data": {
      "text/html": [
       "<span style=\"color:blue\"> |-dropout_3: 0.05</span>"
      ],
      "text/plain": [
       "<IPython.core.display.HTML object>"
      ]
     },
     "metadata": {},
     "output_type": "display_data"
    },
    {
     "data": {
      "text/html": [
       "<span style=\"color:cyan\"> |-dropout_4: 0.30000000000000004</span>"
      ],
      "text/plain": [
       "<IPython.core.display.HTML object>"
      ]
     },
     "metadata": {},
     "output_type": "display_data"
    },
    {
     "data": {
      "text/html": [
       "<span style=\"color:blue\"> |-dropout_5: 0.05</span>"
      ],
      "text/plain": [
       "<IPython.core.display.HTML object>"
      ]
     },
     "metadata": {},
     "output_type": "display_data"
    },
    {
     "data": {
      "text/html": [
       "<span style=\"color:cyan\"> |-dropout_6: 0.4</span>"
      ],
      "text/plain": [
       "<IPython.core.display.HTML object>"
      ]
     },
     "metadata": {},
     "output_type": "display_data"
    },
    {
     "data": {
      "text/html": [
       "<span style=\"color:blue\"> |-learning_rate: 0.0036377658208855486</span>"
      ],
      "text/plain": [
       "<IPython.core.display.HTML object>"
      ]
     },
     "metadata": {},
     "output_type": "display_data"
    },
    {
     "data": {
      "text/html": [
       "<span style=\"color:cyan\"> |-num_layers: 4</span>"
      ],
      "text/plain": [
       "<IPython.core.display.HTML object>"
      ]
     },
     "metadata": {},
     "output_type": "display_data"
    },
    {
     "data": {
      "text/html": [
       "<span style=\"color:#4527A0\"><h1 style=\"font-size:18px\">Trial summary</h1></span>"
      ],
      "text/plain": [
       "<IPython.core.display.HTML object>"
      ]
     },
     "metadata": {},
     "output_type": "display_data"
    },
    {
     "data": {
      "text/html": [
       "<span style=\"color:cyan\"> |-Trial ID: d4bc5530139cbd2e83ae37601bdb9e78</span>"
      ],
      "text/plain": [
       "<IPython.core.display.HTML object>"
      ]
     },
     "metadata": {},
     "output_type": "display_data"
    },
    {
     "data": {
      "text/html": [
       "<span style=\"color:cyan\"> |-Score: 0.8351955413818359</span>"
      ],
      "text/plain": [
       "<IPython.core.display.HTML object>"
      ]
     },
     "metadata": {},
     "output_type": "display_data"
    },
    {
     "data": {
      "text/html": [
       "<span style=\"color:cyan\"> |-Best step: 0</span>"
      ],
      "text/plain": [
       "<IPython.core.display.HTML object>"
      ]
     },
     "metadata": {},
     "output_type": "display_data"
    },
    {
     "data": {
      "text/html": [
       "<span style=\"color:#7E57C2\"><h2 style=\"font-size:16px\">Hyperparameters:</h2></span>"
      ],
      "text/plain": [
       "<IPython.core.display.HTML object>"
      ]
     },
     "metadata": {},
     "output_type": "display_data"
    },
    {
     "data": {
      "text/html": [
       "<span style=\"color:cyan\"> |-dense_activation_0: sigmoid</span>"
      ],
      "text/plain": [
       "<IPython.core.display.HTML object>"
      ]
     },
     "metadata": {},
     "output_type": "display_data"
    },
    {
     "data": {
      "text/html": [
       "<span style=\"color:blue\"> |-dense_activation_1: sigmoid</span>"
      ],
      "text/plain": [
       "<IPython.core.display.HTML object>"
      ]
     },
     "metadata": {},
     "output_type": "display_data"
    },
    {
     "data": {
      "text/html": [
       "<span style=\"color:cyan\"> |-dense_activation_2: tanh</span>"
      ],
      "text/plain": [
       "<IPython.core.display.HTML object>"
      ]
     },
     "metadata": {},
     "output_type": "display_data"
    },
    {
     "data": {
      "text/html": [
       "<span style=\"color:blue\"> |-dense_activation_3: tanh</span>"
      ],
      "text/plain": [
       "<IPython.core.display.HTML object>"
      ]
     },
     "metadata": {},
     "output_type": "display_data"
    },
    {
     "data": {
      "text/html": [
       "<span style=\"color:cyan\"> |-dense_activation_4: tanh</span>"
      ],
      "text/plain": [
       "<IPython.core.display.HTML object>"
      ]
     },
     "metadata": {},
     "output_type": "display_data"
    },
    {
     "data": {
      "text/html": [
       "<span style=\"color:blue\"> |-dense_activation_5: relu</span>"
      ],
      "text/plain": [
       "<IPython.core.display.HTML object>"
      ]
     },
     "metadata": {},
     "output_type": "display_data"
    },
    {
     "data": {
      "text/html": [
       "<span style=\"color:cyan\"> |-dense_activation_6: sigmoid</span>"
      ],
      "text/plain": [
       "<IPython.core.display.HTML object>"
      ]
     },
     "metadata": {},
     "output_type": "display_data"
    },
    {
     "data": {
      "text/html": [
       "<span style=\"color:blue\"> |-dense_units_0: 56</span>"
      ],
      "text/plain": [
       "<IPython.core.display.HTML object>"
      ]
     },
     "metadata": {},
     "output_type": "display_data"
    },
    {
     "data": {
      "text/html": [
       "<span style=\"color:cyan\"> |-dense_units_1: 32</span>"
      ],
      "text/plain": [
       "<IPython.core.display.HTML object>"
      ]
     },
     "metadata": {},
     "output_type": "display_data"
    },
    {
     "data": {
      "text/html": [
       "<span style=\"color:blue\"> |-dense_units_2: 64</span>"
      ],
      "text/plain": [
       "<IPython.core.display.HTML object>"
      ]
     },
     "metadata": {},
     "output_type": "display_data"
    },
    {
     "data": {
      "text/html": [
       "<span style=\"color:cyan\"> |-dense_units_3: 16</span>"
      ],
      "text/plain": [
       "<IPython.core.display.HTML object>"
      ]
     },
     "metadata": {},
     "output_type": "display_data"
    },
    {
     "data": {
      "text/html": [
       "<span style=\"color:blue\"> |-dense_units_4: 24</span>"
      ],
      "text/plain": [
       "<IPython.core.display.HTML object>"
      ]
     },
     "metadata": {},
     "output_type": "display_data"
    },
    {
     "data": {
      "text/html": [
       "<span style=\"color:cyan\"> |-dense_units_5: 24</span>"
      ],
      "text/plain": [
       "<IPython.core.display.HTML object>"
      ]
     },
     "metadata": {},
     "output_type": "display_data"
    },
    {
     "data": {
      "text/html": [
       "<span style=\"color:blue\"> |-dense_units_6: 32</span>"
      ],
      "text/plain": [
       "<IPython.core.display.HTML object>"
      ]
     },
     "metadata": {},
     "output_type": "display_data"
    },
    {
     "data": {
      "text/html": [
       "<span style=\"color:cyan\"> |-dropout_0: 0.30000000000000004</span>"
      ],
      "text/plain": [
       "<IPython.core.display.HTML object>"
      ]
     },
     "metadata": {},
     "output_type": "display_data"
    },
    {
     "data": {
      "text/html": [
       "<span style=\"color:blue\"> |-dropout_1: 0.2</span>"
      ],
      "text/plain": [
       "<IPython.core.display.HTML object>"
      ]
     },
     "metadata": {},
     "output_type": "display_data"
    },
    {
     "data": {
      "text/html": [
       "<span style=\"color:cyan\"> |-dropout_2: 0.05</span>"
      ],
      "text/plain": [
       "<IPython.core.display.HTML object>"
      ]
     },
     "metadata": {},
     "output_type": "display_data"
    },
    {
     "data": {
      "text/html": [
       "<span style=\"color:blue\"> |-dropout_3: 0.0</span>"
      ],
      "text/plain": [
       "<IPython.core.display.HTML object>"
      ]
     },
     "metadata": {},
     "output_type": "display_data"
    },
    {
     "data": {
      "text/html": [
       "<span style=\"color:cyan\"> |-dropout_4: 0.4</span>"
      ],
      "text/plain": [
       "<IPython.core.display.HTML object>"
      ]
     },
     "metadata": {},
     "output_type": "display_data"
    },
    {
     "data": {
      "text/html": [
       "<span style=\"color:blue\"> |-dropout_5: 0.0</span>"
      ],
      "text/plain": [
       "<IPython.core.display.HTML object>"
      ]
     },
     "metadata": {},
     "output_type": "display_data"
    },
    {
     "data": {
      "text/html": [
       "<span style=\"color:cyan\"> |-dropout_6: 0.4</span>"
      ],
      "text/plain": [
       "<IPython.core.display.HTML object>"
      ]
     },
     "metadata": {},
     "output_type": "display_data"
    },
    {
     "data": {
      "text/html": [
       "<span style=\"color:blue\"> |-learning_rate: 0.004485708249434565</span>"
      ],
      "text/plain": [
       "<IPython.core.display.HTML object>"
      ]
     },
     "metadata": {},
     "output_type": "display_data"
    },
    {
     "data": {
      "text/html": [
       "<span style=\"color:cyan\"> |-num_layers: 3</span>"
      ],
      "text/plain": [
       "<IPython.core.display.HTML object>"
      ]
     },
     "metadata": {},
     "output_type": "display_data"
    },
    {
     "data": {
      "text/html": [
       "<span style=\"color:#4527A0\"><h1 style=\"font-size:18px\">Trial summary</h1></span>"
      ],
      "text/plain": [
       "<IPython.core.display.HTML object>"
      ]
     },
     "metadata": {},
     "output_type": "display_data"
    },
    {
     "data": {
      "text/html": [
       "<span style=\"color:cyan\"> |-Trial ID: d99a0c9a5708e9b85f69a2ec850bf729</span>"
      ],
      "text/plain": [
       "<IPython.core.display.HTML object>"
      ]
     },
     "metadata": {},
     "output_type": "display_data"
    },
    {
     "data": {
      "text/html": [
       "<span style=\"color:cyan\"> |-Score: 0.8351955413818359</span>"
      ],
      "text/plain": [
       "<IPython.core.display.HTML object>"
      ]
     },
     "metadata": {},
     "output_type": "display_data"
    },
    {
     "data": {
      "text/html": [
       "<span style=\"color:cyan\"> |-Best step: 0</span>"
      ],
      "text/plain": [
       "<IPython.core.display.HTML object>"
      ]
     },
     "metadata": {},
     "output_type": "display_data"
    },
    {
     "data": {
      "text/html": [
       "<span style=\"color:#7E57C2\"><h2 style=\"font-size:16px\">Hyperparameters:</h2></span>"
      ],
      "text/plain": [
       "<IPython.core.display.HTML object>"
      ]
     },
     "metadata": {},
     "output_type": "display_data"
    },
    {
     "data": {
      "text/html": [
       "<span style=\"color:cyan\"> |-dense_activation_0: relu</span>"
      ],
      "text/plain": [
       "<IPython.core.display.HTML object>"
      ]
     },
     "metadata": {},
     "output_type": "display_data"
    },
    {
     "data": {
      "text/html": [
       "<span style=\"color:blue\"> |-dense_activation_1: sigmoid</span>"
      ],
      "text/plain": [
       "<IPython.core.display.HTML object>"
      ]
     },
     "metadata": {},
     "output_type": "display_data"
    },
    {
     "data": {
      "text/html": [
       "<span style=\"color:cyan\"> |-dense_activation_2: tanh</span>"
      ],
      "text/plain": [
       "<IPython.core.display.HTML object>"
      ]
     },
     "metadata": {},
     "output_type": "display_data"
    },
    {
     "data": {
      "text/html": [
       "<span style=\"color:blue\"> |-dense_activation_3: tanh</span>"
      ],
      "text/plain": [
       "<IPython.core.display.HTML object>"
      ]
     },
     "metadata": {},
     "output_type": "display_data"
    },
    {
     "data": {
      "text/html": [
       "<span style=\"color:cyan\"> |-dense_activation_4: relu</span>"
      ],
      "text/plain": [
       "<IPython.core.display.HTML object>"
      ]
     },
     "metadata": {},
     "output_type": "display_data"
    },
    {
     "data": {
      "text/html": [
       "<span style=\"color:blue\"> |-dense_activation_5: tanh</span>"
      ],
      "text/plain": [
       "<IPython.core.display.HTML object>"
      ]
     },
     "metadata": {},
     "output_type": "display_data"
    },
    {
     "data": {
      "text/html": [
       "<span style=\"color:cyan\"> |-dense_activation_6: tanh</span>"
      ],
      "text/plain": [
       "<IPython.core.display.HTML object>"
      ]
     },
     "metadata": {},
     "output_type": "display_data"
    },
    {
     "data": {
      "text/html": [
       "<span style=\"color:blue\"> |-dense_units_0: 48</span>"
      ],
      "text/plain": [
       "<IPython.core.display.HTML object>"
      ]
     },
     "metadata": {},
     "output_type": "display_data"
    },
    {
     "data": {
      "text/html": [
       "<span style=\"color:cyan\"> |-dense_units_1: 24</span>"
      ],
      "text/plain": [
       "<IPython.core.display.HTML object>"
      ]
     },
     "metadata": {},
     "output_type": "display_data"
    },
    {
     "data": {
      "text/html": [
       "<span style=\"color:blue\"> |-dense_units_2: 16</span>"
      ],
      "text/plain": [
       "<IPython.core.display.HTML object>"
      ]
     },
     "metadata": {},
     "output_type": "display_data"
    },
    {
     "data": {
      "text/html": [
       "<span style=\"color:cyan\"> |-dense_units_3: 56</span>"
      ],
      "text/plain": [
       "<IPython.core.display.HTML object>"
      ]
     },
     "metadata": {},
     "output_type": "display_data"
    },
    {
     "data": {
      "text/html": [
       "<span style=\"color:blue\"> |-dense_units_4: 24</span>"
      ],
      "text/plain": [
       "<IPython.core.display.HTML object>"
      ]
     },
     "metadata": {},
     "output_type": "display_data"
    },
    {
     "data": {
      "text/html": [
       "<span style=\"color:cyan\"> |-dense_units_5: 56</span>"
      ],
      "text/plain": [
       "<IPython.core.display.HTML object>"
      ]
     },
     "metadata": {},
     "output_type": "display_data"
    },
    {
     "data": {
      "text/html": [
       "<span style=\"color:blue\"> |-dense_units_6: 64</span>"
      ],
      "text/plain": [
       "<IPython.core.display.HTML object>"
      ]
     },
     "metadata": {},
     "output_type": "display_data"
    },
    {
     "data": {
      "text/html": [
       "<span style=\"color:cyan\"> |-dropout_0: 0.5</span>"
      ],
      "text/plain": [
       "<IPython.core.display.HTML object>"
      ]
     },
     "metadata": {},
     "output_type": "display_data"
    },
    {
     "data": {
      "text/html": [
       "<span style=\"color:blue\"> |-dropout_1: 0.30000000000000004</span>"
      ],
      "text/plain": [
       "<IPython.core.display.HTML object>"
      ]
     },
     "metadata": {},
     "output_type": "display_data"
    },
    {
     "data": {
      "text/html": [
       "<span style=\"color:cyan\"> |-dropout_2: 0.1</span>"
      ],
      "text/plain": [
       "<IPython.core.display.HTML object>"
      ]
     },
     "metadata": {},
     "output_type": "display_data"
    },
    {
     "data": {
      "text/html": [
       "<span style=\"color:blue\"> |-dropout_3: 0.5</span>"
      ],
      "text/plain": [
       "<IPython.core.display.HTML object>"
      ]
     },
     "metadata": {},
     "output_type": "display_data"
    },
    {
     "data": {
      "text/html": [
       "<span style=\"color:cyan\"> |-dropout_4: 0.5</span>"
      ],
      "text/plain": [
       "<IPython.core.display.HTML object>"
      ]
     },
     "metadata": {},
     "output_type": "display_data"
    },
    {
     "data": {
      "text/html": [
       "<span style=\"color:blue\"> |-dropout_5: 0.05</span>"
      ],
      "text/plain": [
       "<IPython.core.display.HTML object>"
      ]
     },
     "metadata": {},
     "output_type": "display_data"
    },
    {
     "data": {
      "text/html": [
       "<span style=\"color:cyan\"> |-dropout_6: 0.30000000000000004</span>"
      ],
      "text/plain": [
       "<IPython.core.display.HTML object>"
      ]
     },
     "metadata": {},
     "output_type": "display_data"
    },
    {
     "data": {
      "text/html": [
       "<span style=\"color:blue\"> |-learning_rate: 0.008478190236600095</span>"
      ],
      "text/plain": [
       "<IPython.core.display.HTML object>"
      ]
     },
     "metadata": {},
     "output_type": "display_data"
    },
    {
     "data": {
      "text/html": [
       "<span style=\"color:cyan\"> |-num_layers: 5</span>"
      ],
      "text/plain": [
       "<IPython.core.display.HTML object>"
      ]
     },
     "metadata": {},
     "output_type": "display_data"
    },
    {
     "data": {
      "text/html": [
       "<span style=\"color:#4527A0\"><h1 style=\"font-size:18px\">Trial summary</h1></span>"
      ],
      "text/plain": [
       "<IPython.core.display.HTML object>"
      ]
     },
     "metadata": {},
     "output_type": "display_data"
    },
    {
     "data": {
      "text/html": [
       "<span style=\"color:cyan\"> |-Trial ID: a8439af9e179ddc08d3c9a04d3548859</span>"
      ],
      "text/plain": [
       "<IPython.core.display.HTML object>"
      ]
     },
     "metadata": {},
     "output_type": "display_data"
    },
    {
     "data": {
      "text/html": [
       "<span style=\"color:cyan\"> |-Score: 0.832402229309082</span>"
      ],
      "text/plain": [
       "<IPython.core.display.HTML object>"
      ]
     },
     "metadata": {},
     "output_type": "display_data"
    },
    {
     "data": {
      "text/html": [
       "<span style=\"color:cyan\"> |-Best step: 0</span>"
      ],
      "text/plain": [
       "<IPython.core.display.HTML object>"
      ]
     },
     "metadata": {},
     "output_type": "display_data"
    },
    {
     "data": {
      "text/html": [
       "<span style=\"color:#7E57C2\"><h2 style=\"font-size:16px\">Hyperparameters:</h2></span>"
      ],
      "text/plain": [
       "<IPython.core.display.HTML object>"
      ]
     },
     "metadata": {},
     "output_type": "display_data"
    },
    {
     "data": {
      "text/html": [
       "<span style=\"color:cyan\"> |-dense_activation_0: sigmoid</span>"
      ],
      "text/plain": [
       "<IPython.core.display.HTML object>"
      ]
     },
     "metadata": {},
     "output_type": "display_data"
    },
    {
     "data": {
      "text/html": [
       "<span style=\"color:blue\"> |-dense_activation_1: relu</span>"
      ],
      "text/plain": [
       "<IPython.core.display.HTML object>"
      ]
     },
     "metadata": {},
     "output_type": "display_data"
    },
    {
     "data": {
      "text/html": [
       "<span style=\"color:cyan\"> |-dense_activation_2: tanh</span>"
      ],
      "text/plain": [
       "<IPython.core.display.HTML object>"
      ]
     },
     "metadata": {},
     "output_type": "display_data"
    },
    {
     "data": {
      "text/html": [
       "<span style=\"color:blue\"> |-dense_activation_3: sigmoid</span>"
      ],
      "text/plain": [
       "<IPython.core.display.HTML object>"
      ]
     },
     "metadata": {},
     "output_type": "display_data"
    },
    {
     "data": {
      "text/html": [
       "<span style=\"color:cyan\"> |-dense_activation_4: sigmoid</span>"
      ],
      "text/plain": [
       "<IPython.core.display.HTML object>"
      ]
     },
     "metadata": {},
     "output_type": "display_data"
    },
    {
     "data": {
      "text/html": [
       "<span style=\"color:blue\"> |-dense_activation_5: sigmoid</span>"
      ],
      "text/plain": [
       "<IPython.core.display.HTML object>"
      ]
     },
     "metadata": {},
     "output_type": "display_data"
    },
    {
     "data": {
      "text/html": [
       "<span style=\"color:cyan\"> |-dense_activation_6: relu</span>"
      ],
      "text/plain": [
       "<IPython.core.display.HTML object>"
      ]
     },
     "metadata": {},
     "output_type": "display_data"
    },
    {
     "data": {
      "text/html": [
       "<span style=\"color:blue\"> |-dense_units_0: 32</span>"
      ],
      "text/plain": [
       "<IPython.core.display.HTML object>"
      ]
     },
     "metadata": {},
     "output_type": "display_data"
    },
    {
     "data": {
      "text/html": [
       "<span style=\"color:cyan\"> |-dense_units_1: 48</span>"
      ],
      "text/plain": [
       "<IPython.core.display.HTML object>"
      ]
     },
     "metadata": {},
     "output_type": "display_data"
    },
    {
     "data": {
      "text/html": [
       "<span style=\"color:blue\"> |-dense_units_2: 48</span>"
      ],
      "text/plain": [
       "<IPython.core.display.HTML object>"
      ]
     },
     "metadata": {},
     "output_type": "display_data"
    },
    {
     "data": {
      "text/html": [
       "<span style=\"color:cyan\"> |-dense_units_3: 48</span>"
      ],
      "text/plain": [
       "<IPython.core.display.HTML object>"
      ]
     },
     "metadata": {},
     "output_type": "display_data"
    },
    {
     "data": {
      "text/html": [
       "<span style=\"color:blue\"> |-dense_units_4: 16</span>"
      ],
      "text/plain": [
       "<IPython.core.display.HTML object>"
      ]
     },
     "metadata": {},
     "output_type": "display_data"
    },
    {
     "data": {
      "text/html": [
       "<span style=\"color:cyan\"> |-dense_units_5: 24</span>"
      ],
      "text/plain": [
       "<IPython.core.display.HTML object>"
      ]
     },
     "metadata": {},
     "output_type": "display_data"
    },
    {
     "data": {
      "text/html": [
       "<span style=\"color:blue\"> |-dense_units_6: 16</span>"
      ],
      "text/plain": [
       "<IPython.core.display.HTML object>"
      ]
     },
     "metadata": {},
     "output_type": "display_data"
    },
    {
     "data": {
      "text/html": [
       "<span style=\"color:cyan\"> |-dropout_0: 0.25</span>"
      ],
      "text/plain": [
       "<IPython.core.display.HTML object>"
      ]
     },
     "metadata": {},
     "output_type": "display_data"
    },
    {
     "data": {
      "text/html": [
       "<span style=\"color:blue\"> |-dropout_1: 0.15000000000000002</span>"
      ],
      "text/plain": [
       "<IPython.core.display.HTML object>"
      ]
     },
     "metadata": {},
     "output_type": "display_data"
    },
    {
     "data": {
      "text/html": [
       "<span style=\"color:cyan\"> |-dropout_2: 0.15000000000000002</span>"
      ],
      "text/plain": [
       "<IPython.core.display.HTML object>"
      ]
     },
     "metadata": {},
     "output_type": "display_data"
    },
    {
     "data": {
      "text/html": [
       "<span style=\"color:blue\"> |-dropout_3: 0.4</span>"
      ],
      "text/plain": [
       "<IPython.core.display.HTML object>"
      ]
     },
     "metadata": {},
     "output_type": "display_data"
    },
    {
     "data": {
      "text/html": [
       "<span style=\"color:cyan\"> |-dropout_4: 0.35000000000000003</span>"
      ],
      "text/plain": [
       "<IPython.core.display.HTML object>"
      ]
     },
     "metadata": {},
     "output_type": "display_data"
    },
    {
     "data": {
      "text/html": [
       "<span style=\"color:blue\"> |-dropout_5: 0.45</span>"
      ],
      "text/plain": [
       "<IPython.core.display.HTML object>"
      ]
     },
     "metadata": {},
     "output_type": "display_data"
    },
    {
     "data": {
      "text/html": [
       "<span style=\"color:cyan\"> |-dropout_6: 0.25</span>"
      ],
      "text/plain": [
       "<IPython.core.display.HTML object>"
      ]
     },
     "metadata": {},
     "output_type": "display_data"
    },
    {
     "data": {
      "text/html": [
       "<span style=\"color:blue\"> |-learning_rate: 0.0047156844970391324</span>"
      ],
      "text/plain": [
       "<IPython.core.display.HTML object>"
      ]
     },
     "metadata": {},
     "output_type": "display_data"
    },
    {
     "data": {
      "text/html": [
       "<span style=\"color:cyan\"> |-num_layers: 3</span>"
      ],
      "text/plain": [
       "<IPython.core.display.HTML object>"
      ]
     },
     "metadata": {},
     "output_type": "display_data"
    }
   ],
   "source": [
    "tuner.search(X_train, Y_train, epochs=N_EPOCH_SEARCH, validation_data=(X_dev, Y_dev))\n",
    "\n",
    "tuner.results_summary()"
   ]
  },
  {
   "cell_type": "markdown",
   "execution_count": null,
   "metadata": {},
   "source": [
    "# Results of the tuning"
   ]
  },
  {
   "cell_type": "code",
   "execution_count": 23,
   "metadata": {},
   "outputs": [
    {
     "data": {
      "text/plain": [
       "{'num_layers': 5,\n",
       " 'dense_units_0': 48,\n",
       " 'dense_activation_0': 'relu',\n",
       " 'dropout_0': 0.0,\n",
       " 'dense_units_1': 56,\n",
       " 'dense_activation_1': 'tanh',\n",
       " 'dropout_1': 0.05,\n",
       " 'dense_units_2': 24,\n",
       " 'dense_activation_2': 'relu',\n",
       " 'dropout_2': 0.0,\n",
       " 'dense_units_3': 24,\n",
       " 'dense_activation_3': 'relu',\n",
       " 'dropout_3': 0.35000000000000003,\n",
       " 'dense_units_4': 24,\n",
       " 'dense_activation_4': 'relu',\n",
       " 'dropout_4': 0.0,\n",
       " 'dense_units_5': 56,\n",
       " 'dense_activation_5': 'tanh',\n",
       " 'dropout_5': 0.05,\n",
       " 'dense_units_6': 40,\n",
       " 'dense_activation_6': 'sigmoid',\n",
       " 'dropout_6': 0.45,\n",
       " 'learning_rate': 0.001753559151044536}"
      ]
     },
     "execution_count": 23,
     "metadata": {},
     "output_type": "execute_result"
    }
   ],
   "source": [
    "tuner.oracle.get_best_trials(num_trials=1)[0].hyperparameters.values"
   ]
  },
  {
   "cell_type": "code",
   "execution_count": 24,
   "metadata": {},
   "outputs": [
    {
     "name": "stdout",
     "output_type": "stream",
     "text": [
      "Best model\n",
      "712/712 [==============================] - 0s 224us/sample - loss: 0.3750 - accuracy: 0.8483\n",
      "Tuned train accuracy: 0.8483145833015442\n",
      "179/179 [==============================] - 0s 93us/sample - loss: 0.4159 - accuracy: 0.8547\n",
      "Tuned dev accuracy: 0.8547486066818237\n",
      "Model: \"sequential\"\n",
      "_________________________________________________________________\n",
      "Layer (type)                 Output Shape              Param #   \n",
      "=================================================================\n",
      "dense (Dense)                (None, 48)                1008      \n",
      "_________________________________________________________________\n",
      "dropout (Dropout)            (None, 48)                0         \n",
      "_________________________________________________________________\n",
      "dense_1 (Dense)              (None, 56)                2744      \n",
      "_________________________________________________________________\n",
      "dropout_1 (Dropout)          (None, 56)                0         \n",
      "_________________________________________________________________\n",
      "dense_2 (Dense)              (None, 24)                1368      \n",
      "_________________________________________________________________\n",
      "dropout_2 (Dropout)          (None, 24)                0         \n",
      "_________________________________________________________________\n",
      "dense_3 (Dense)              (None, 24)                600       \n",
      "_________________________________________________________________\n",
      "dropout_3 (Dropout)          (None, 24)                0         \n",
      "_________________________________________________________________\n",
      "dense_4 (Dense)              (None, 24)                600       \n",
      "_________________________________________________________________\n",
      "dropout_4 (Dropout)          (None, 24)                0         \n",
      "_________________________________________________________________\n",
      "dense_5 (Dense)              (None, 56)                1400      \n",
      "_________________________________________________________________\n",
      "dropout_5 (Dropout)          (None, 56)                0         \n",
      "_________________________________________________________________\n",
      "dense_6 (Dense)              (None, 1)                 57        \n",
      "=================================================================\n",
      "Total params: 7,777\n",
      "Trainable params: 7,777\n",
      "Non-trainable params: 0\n",
      "_________________________________________________________________\n"
     ]
    }
   ],
   "source": [
    "print(\"Best model\")\n",
    "\n",
    "# Get the best model tuned.\n",
    "best_model = tuner.get_best_models(num_models=1)[0]\n",
    "\n",
    "_, accuracy = best_model.evaluate(X_train, Y_train)\n",
    "print(f\"Tuned train accuracy: {accuracy}\")\n",
    "\n",
    "_, accuracy = best_model.evaluate(X_dev, Y_dev)\n",
    "print(f\"Tuned dev accuracy: {accuracy}\")\n",
    "\n",
    "best_model.summary()"
   ]
  },
  {
   "cell_type": "markdown",
   "execution_count": null,
   "metadata": {},
   "source": [
    "# Predict"
   ]
  },
  {
   "cell_type": "code",
   "execution_count": 25,
   "metadata": {},
   "outputs": [],
   "source": [
    "def store_predictions(model, submission_name):\n",
    "    predictions = model.predict(X_test)\n",
    "\n",
    "    predictions = np.round(predictions).astype(np.uint8).reshape((-1))\n",
    "\n",
    "    print(f\"{submission_name}:\\n{predictions}\")\n",
    "    \n",
    "    output = pd.DataFrame({'PassengerId': test_data.PassengerId, 'Survived': predictions})\n",
    "    output.to_csv(f\"{submission_name}.csv\", index=False)"
   ]
  },
  {
   "cell_type": "code",
   "execution_count": 26,
   "metadata": {},
   "outputs": [
    {
     "name": "stdout",
     "output_type": "stream",
     "text": [
      "dl_submission:\n",
      "[0 1 0 0 1 0 1 0 1 0 0 0 1 0 1 1 0 0 0 1 0 1 1 0 1 0 1 0 0 0 0 0 0 0 1 0 0\n",
      " 0 0 0 0 0 0 1 1 0 0 0 1 1 0 0 1 1 0 0 0 0 0 1 0 0 0 1 1 1 1 0 0 1 1 0 0 0\n",
      " 1 1 0 1 0 1 1 0 0 0 0 0 1 0 1 1 1 0 1 0 0 0 1 0 0 0 1 0 0 0 1 0 0 0 0 0 0\n",
      " 1 1 1 1 0 0 0 1 1 1 0 1 0 0 0 0 1 0 0 0 1 0 0 0 0 0 0 0 0 0 1 0 0 0 0 0 0\n",
      " 0 0 1 0 0 1 0 0 1 0 0 1 1 1 1 0 0 1 0 0 1 0 0 0 0 0 0 1 1 1 1 1 0 0 1 0 1\n",
      " 0 1 0 0 0 0 0 1 0 1 0 1 0 0 1 1 1 1 1 0 0 0 0 1 0 0 0 0 1 0 0 1 0 1 0 1 0\n",
      " 1 0 1 1 0 1 0 0 0 1 0 0 1 0 1 0 1 1 1 1 0 0 0 0 1 0 1 1 1 0 1 0 0 0 0 0 1\n",
      " 0 0 0 1 1 0 0 0 0 0 0 1 0 1 1 0 1 0 0 0 0 0 1 1 1 1 0 0 0 0 0 0 1 0 0 0 0\n",
      " 1 0 0 0 0 1 0 0 1 1 0 1 0 1 0 0 0 0 1 1 0 0 0 0 0 0 0 0 1 0 1 0 0 0 1 0 0\n",
      " 1 0 0 0 0 0 1 0 0 0 1 1 1 0 1 0 1 1 0 0 0 0 0 1 0 0 1 0 1 1 0 1 0 0 0 1 0\n",
      " 0 1 0 0 1 1 0 0 0 0 0 0 1 1 0 1 0 0 0 0 0 1 1 0 0 1 0 1 0 0 1 0 1 0 0 1 0\n",
      " 0 1 1 1 1 0 0 1 0 0 1]\n",
      "dl_tuned_submission:\n",
      "[0 0 0 0 0 0 1 0 1 0 0 0 1 0 1 1 0 0 0 1 0 1 1 0 1 0 1 0 0 0 0 0 0 0 0 0 0\n",
      " 0 0 0 0 0 0 1 1 0 0 0 1 0 0 0 1 1 0 0 0 0 0 1 0 0 0 1 1 1 1 0 1 1 1 0 0 1\n",
      " 1 1 0 1 0 1 1 0 0 0 0 0 1 0 0 1 0 0 1 0 0 0 1 0 0 0 1 0 0 0 1 0 0 0 0 0 0\n",
      " 1 1 1 1 0 0 1 1 1 1 0 1 0 0 0 0 0 0 0 0 1 0 0 0 0 0 0 0 0 0 1 0 0 0 0 0 0\n",
      " 0 0 1 0 0 0 0 0 1 0 0 0 1 1 1 0 0 0 0 0 1 0 0 0 0 0 0 1 1 0 1 1 0 1 1 0 1\n",
      " 0 1 0 0 0 0 0 1 0 1 0 1 0 0 1 1 1 1 1 0 0 1 0 1 0 0 0 0 1 0 0 1 0 1 0 1 0\n",
      " 1 0 1 1 0 1 0 0 0 1 0 0 0 0 1 0 1 1 1 1 1 0 0 0 1 0 1 1 1 0 0 0 0 0 0 0 1\n",
      " 0 0 0 1 0 0 0 0 0 0 0 1 0 1 1 0 1 0 0 0 0 0 1 1 1 0 0 0 0 0 0 0 1 0 0 0 0\n",
      " 1 0 0 0 0 1 0 0 1 1 0 1 0 0 0 0 0 1 1 1 0 0 0 0 0 0 0 0 1 0 1 0 0 0 1 0 0\n",
      " 1 0 0 0 0 0 1 0 0 0 1 1 1 0 1 0 1 1 0 0 0 0 0 1 0 0 0 0 1 1 0 1 0 0 0 1 0\n",
      " 0 1 0 0 1 1 0 0 0 0 0 0 1 0 0 1 0 0 0 0 0 1 1 0 0 1 0 1 0 0 1 0 1 0 1 1 0\n",
      " 0 1 0 1 1 0 0 1 0 0 1]\n"
     ]
    }
   ],
   "source": [
    "store_predictions(model, \"dl_submission\")\n",
    "store_predictions(best_model, \"dl_tuned_submission\")"
   ]
  },
  {
   "cell_type": "code",
   "execution_count": null,
   "metadata": {},
   "outputs": [],
   "source": []
  }
 ],
 "metadata": {
  "kernelspec": {
   "display_name": "Python 3",
   "language": "python",
   "name": "python3"
  },
  "language_info": {
   "codemirror_mode": {
    "name": "ipython",
    "version": 3
   },
   "file_extension": ".py",
   "mimetype": "text/x-python",
   "name": "python",
   "nbconvert_exporter": "python",
   "pygments_lexer": "ipython3",
   "version": "3.7.6"
  }
 },
 "nbformat": 4,
 "nbformat_minor": 4
}
