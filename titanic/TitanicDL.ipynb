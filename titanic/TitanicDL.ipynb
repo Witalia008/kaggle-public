{
 "cells": [
  {
   "cell_type": "code",
   "execution_count": 1,
   "metadata": {},
   "outputs": [
    {
     "name": "stdout",
     "output_type": "stream",
     "text": [
      "env: PYTHONHASHSEED=0\n"
     ]
    }
   ],
   "source": [
    "%env PYTHONHASHSEED=0"
   ]
  },
  {
   "cell_type": "code",
   "execution_count": 2,
   "metadata": {
    "_kg_hide-output": true,
    "collapsed": true
   },
   "outputs": [
    {
     "name": "stdout",
     "output_type": "stream",
     "text": [
      "Collecting pip\r\n",
      "  Downloading pip-20.1.1-py2.py3-none-any.whl (1.5 MB)\r\n",
      "\u001b[K     |████████████████████████████████| 1.5 MB 8.7 MB/s \r\n",
      "\u001b[?25hInstalling collected packages: pip\r\n",
      "  Attempting uninstall: pip\r\n",
      "    Found existing installation: pip 20.1\r\n",
      "    Uninstalling pip-20.1:\r\n",
      "      Successfully uninstalled pip-20.1\r\n",
      "Successfully installed pip-20.1.1\r\n",
      "Collecting keras-tuner\r\n",
      "  Downloading keras-tuner-1.0.1.tar.gz (54 kB)\r\n",
      "\u001b[K     |████████████████████████████████| 54 kB 2.0 MB/s \r\n",
      "\u001b[?25hRequirement already satisfied: future in /opt/conda/lib/python3.7/site-packages (from keras-tuner) (0.18.2)\r\n",
      "Requirement already satisfied: numpy in /opt/conda/lib/python3.7/site-packages (from keras-tuner) (1.18.1)\r\n",
      "Requirement already satisfied: tabulate in /opt/conda/lib/python3.7/site-packages (from keras-tuner) (0.8.7)\r\n",
      "Collecting terminaltables\r\n",
      "  Downloading terminaltables-3.1.0.tar.gz (12 kB)\r\n",
      "Requirement already satisfied: colorama in /opt/conda/lib/python3.7/site-packages (from keras-tuner) (0.4.3)\r\n",
      "Requirement already satisfied: tqdm in /opt/conda/lib/python3.7/site-packages (from keras-tuner) (4.45.0)\r\n",
      "Requirement already satisfied: requests in /opt/conda/lib/python3.7/site-packages (from keras-tuner) (2.23.0)\r\n",
      "Requirement already satisfied: scipy in /opt/conda/lib/python3.7/site-packages (from keras-tuner) (1.4.1)\r\n",
      "Requirement already satisfied: scikit-learn in /opt/conda/lib/python3.7/site-packages (from keras-tuner) (0.22.2.post1)\r\n",
      "Requirement already satisfied: certifi>=2017.4.17 in /opt/conda/lib/python3.7/site-packages (from requests->keras-tuner) (2020.4.5.1)\r\n",
      "Requirement already satisfied: idna<3,>=2.5 in /opt/conda/lib/python3.7/site-packages (from requests->keras-tuner) (2.9)\r\n",
      "Requirement already satisfied: urllib3!=1.25.0,!=1.25.1,<1.26,>=1.21.1 in /opt/conda/lib/python3.7/site-packages (from requests->keras-tuner) (1.24.3)\r\n",
      "Requirement already satisfied: chardet<4,>=3.0.2 in /opt/conda/lib/python3.7/site-packages (from requests->keras-tuner) (3.0.4)\r\n",
      "Requirement already satisfied: joblib>=0.11 in /opt/conda/lib/python3.7/site-packages (from scikit-learn->keras-tuner) (0.14.1)\r\n",
      "Building wheels for collected packages: keras-tuner, terminaltables\r\n",
      "  Building wheel for keras-tuner (setup.py) ... \u001b[?25l-\b \b\\\b \bdone\r\n",
      "\u001b[?25h  Created wheel for keras-tuner: filename=keras_tuner-1.0.1-py3-none-any.whl size=73198 sha256=a23c40574472d024106171bb12eac3627e07bc961c00f983da395f0062b91d9f\r\n",
      "  Stored in directory: /root/.cache/pip/wheels/0b/cf/2f/1a1749d3a3650fac3305a8d7f9237b6de7c41068e2f8520ca2\r\n",
      "  Building wheel for terminaltables (setup.py) ... \u001b[?25l-\b \b\\\b \bdone\r\n",
      "\u001b[?25h  Created wheel for terminaltables: filename=terminaltables-3.1.0-py3-none-any.whl size=15354 sha256=1300007d8faa55d25c3dcf6f491a27ca1dbb6ac558314490ad51654532e13c8f\r\n",
      "  Stored in directory: /root/.cache/pip/wheels/ba/ad/c8/2d98360791161cd3db6daf6b5e730f34021fc9367d5879f497\r\n",
      "Successfully built keras-tuner terminaltables\r\n",
      "Installing collected packages: terminaltables, keras-tuner\r\n",
      "Successfully installed keras-tuner-1.0.1 terminaltables-3.1.0\r\n"
     ]
    }
   ],
   "source": [
    "!python -m pip install --upgrade pip\n",
    "!python -m pip install keras-tuner"
   ]
  },
  {
   "cell_type": "code",
   "execution_count": 3,
   "metadata": {},
   "outputs": [
    {
     "name": "stdout",
     "output_type": "stream",
     "text": [
      "2.1.0\n"
     ]
    }
   ],
   "source": [
    "import numpy as np # linear algebra\n",
    "import pandas as pd # data processing, CSV file I/O (e.g. pd.read_csv)\n",
    "\n",
    "import matplotlib.pyplot as plt\n",
    "%matplotlib inline\n",
    "# notebook\n",
    "\n",
    "import tensorflow as tf\n",
    "from tensorflow import keras\n",
    "\n",
    "print(tf.__version__)"
   ]
  },
  {
   "cell_type": "code",
   "execution_count": 4,
   "metadata": {},
   "outputs": [],
   "source": [
    "# Define seed to reprodicibility of random generation\n",
    "SEED = 42\n",
    "\n",
    "DEV_SPLIT=0.2\n",
    "\n",
    "MODE = \"DEV\"\n",
    "# MODE = \"EVAL\""
   ]
  },
  {
   "cell_type": "code",
   "execution_count": 5,
   "metadata": {},
   "outputs": [],
   "source": [
    "import random as python_random\n",
    "\n",
    "# Make sure Keras produces reproducible results.\n",
    "\n",
    "np.random.seed(SEED)\n",
    "python_random.seed(SEED)\n",
    "tf.random.set_seed(SEED)"
   ]
  },
  {
   "cell_type": "code",
   "execution_count": 6,
   "metadata": {},
   "outputs": [
    {
     "name": "stdout",
     "output_type": "stream",
     "text": [
      "[PhysicalDevice(name='/physical_device:GPU:0', device_type='GPU')]\n"
     ]
    }
   ],
   "source": [
    "physical_devices = tf.config.experimental.list_physical_devices(\"GPU\")\n",
    "print(physical_devices)\n",
    "for device in (physical_devices or []):\n",
    "    tf.config.experimental.set_memory_growth(device, True)"
   ]
  },
  {
   "cell_type": "markdown",
   "execution_count": null,
   "metadata": {},
   "source": [
    "# Read data and extract usable features"
   ]
  },
  {
   "cell_type": "code",
   "execution_count": 7,
   "metadata": {},
   "outputs": [],
   "source": [
    "train_data = pd.read_csv(\"/kaggle/input/titanic/train.csv\")\n",
    "test_data = pd.read_csv(\"/kaggle/input/titanic/test.csv\")"
   ]
  },
  {
   "cell_type": "code",
   "execution_count": 8,
   "metadata": {},
   "outputs": [
    {
     "name": "stdout",
     "output_type": "stream",
     "text": [
      "(891, 9)\n",
      "(891,)\n",
      "(418, 9)\n"
     ]
    }
   ],
   "source": [
    "features = \"Pclass Sex SibSp Parch Fare Embarked Name Cabin Age\".split()\n",
    "\n",
    "X_train_init = train_data[features]\n",
    "Y_train_init = train_data.Survived\n",
    "\n",
    "print(X_train_init.shape)\n",
    "print(Y_train_init.shape)\n",
    "\n",
    "X_test_init = test_data[features]\n",
    "\n",
    "print(X_test_init.shape)"
   ]
  },
  {
   "cell_type": "markdown",
   "execution_count": null,
   "metadata": {},
   "source": [
    "# Split into train/dev sets\n",
    "## Needs to be done before pre-processing to avoid test-train contamination"
   ]
  },
  {
   "cell_type": "code",
   "execution_count": 9,
   "metadata": {},
   "outputs": [
    {
     "name": "stdout",
     "output_type": "stream",
     "text": [
      "(712, 9) (712,)\n",
      "(179, 9) (179,)\n"
     ]
    }
   ],
   "source": [
    "from sklearn.model_selection import train_test_split\n",
    "\n",
    "# if MODE == \"DEV\":\n",
    "X_train_unproc, X_dev_unproc, Y_train_unproc, Y_dev_unproc = train_test_split(X_train_init, Y_train_init, test_size=DEV_SPLIT, random_state=SEED)\n",
    "\n",
    "print(X_train_unproc.shape, Y_train_unproc.shape)\n",
    "print(X_dev_unproc.shape, Y_dev_unproc.shape)"
   ]
  },
  {
   "cell_type": "markdown",
   "execution_count": null,
   "metadata": {},
   "source": [
    "## Data observations\n",
    "*Have NaNs:* Age, Fare (some zeros, nans too), Cabin, Embarked\n",
    "*NOTE:* maybe need to approximate missing values using some other technique, like an additional model?\n",
    "\n",
    "* (+) Pclass:\n",
    "  * 1 - 3 number, 1 being the highest\n",
    "  * Range: 1-3\n",
    "  * Current approach: convert to one-hot.\n",
    "  * Previous approaches:\n",
    "      * normalize by 3.\n",
    "* (+) Name:\n",
    "  * has person's title, which could be used (Mr, Ms, Mrs, etc.)\n",
    "  * From title, can infer marital status?\n",
    "  * Current approach: extract titles, replace infrequent ones with \"Others\", convert them to one-hot, and calculate 'Married' based on title (1 - married (Mr, Mrs), -1 - unmarried (Miss, Master), 0 - unknown (other titles))\n",
    "  * Potential improvements: use more titles for getting 'married'; use 'maiden name' in calculation of 'married'; use 'nickname' somehow?\n",
    "* (+) Sex:\n",
    "  * Either male or female\n",
    "  * male: 65%, female: 35%\n",
    "  * Current approach: convert to one-hot.\n",
    "  * Potential improvements: use 1 and -1 for sexes?\n",
    "* (+) Age:\n",
    "  * has fractions if approximated. Has missing values.\n",
    "  * Range: 0.42-80\n",
    "  * Current approach: fill NaN with average in group-by Pclass-Sex, but create a column that identifies missing values. Also, normalize by 80.\n",
    "  * Potential improvements: have a better approximation of age. Convert to age categories?\n",
    "* (+) SibSp:\n",
    "  * how many siblings or spouses on board.\n",
    "  * Range: 0-8\n",
    "  * Current approach: Add to 'Family'.\n",
    "  * Previous approaches:\n",
    "    * normalize by 8.\n",
    "* (+) Parch:\n",
    "  * How many parents/children. (can be 0 for babies, if with nannies)\n",
    "  * Range: 0-6\n",
    "  * Current approach: Add to 'Family'\n",
    "  * Previous approachesL\n",
    "    * normalize by 6.\n",
    "* Ticket:\n",
    "  * A number with some optional letters (which can have some meaning?).\n",
    "  * Has repetitions (maybe for people travelling together).\n",
    "* (+) Fare:\n",
    "  * can have zeros (what do they mean?). Can have omitted (just one in test).\n",
    "  * Range: 0-512.3292\n",
    "  * Current approach: fill nan with mean, normalize by 512.\n",
    "  * Potential improvements: most fare is <= 30 USD, so maybe use fare categories.\n",
    "* (+) Cabin:\n",
    "  * has a lot of omitted values (78%). Can have multiple values (probably for families?).\n",
    "  * One value is a letter with a number. (both probably have meaning and impact?)\n",
    "  * Current approach: convert to one-hot (based on letter), include a 'nan' column for those that are missing values. Create a column for cabin number, and a column to identify missing numbers.\n",
    "  * Potential improvements: maybe cabin number itself doesn't mean much? Also, maybe need to deal with missing values in a different way? Also, maybe deal with multiple values better?\n",
    "* (+) Embarked:\n",
    "  * Either of 3 letters (with different frequency). Has just a few omitted.\n",
    "  * S - 72/65%, C - 19/24%, Q - 9/11%\n",
    "  * Current approach: convert to one-hot matrix (fill 2 missing with mode)\n",
    "  * Potential improvements: somehow take into the account different distribution of embarkation city?"
   ]
  },
  {
   "cell_type": "code",
   "execution_count": 10,
   "metadata": {},
   "outputs": [],
   "source": [
    "def prepare_data(X):\n",
    "    # To display all the columns from left to right without breaking into next line.\n",
    "    pd.set_option('display.width', 1500)\n",
    "\n",
    "    import re\n",
    "    \n",
    "    titles = ['Mr', 'Mrs', 'Miss', 'Master', 'Ms', 'Don', 'Rev', 'Dr', 'Mme', 'Major', 'Lady', 'Sir', 'Mlle', 'Col', 'Capt', 'the Countess', 'Jonkheer', 'Dona']\n",
    "    \n",
    "    X = X.copy()\n",
    "    \n",
    "    # === Get X - the features. ===\n",
    "\n",
    "    # == Post-process data ==\n",
    "\n",
    "#     if \"SibSp\" in X:\n",
    "#         X.SibSp = X.SibSp.divide(8)\n",
    "\n",
    "#     if \"Parch\" in X:\n",
    "#         X.Parch = X.Parch.divide(6)\n",
    "        \n",
    "    if \"Parch\" in X and \"SibSp\" in X:\n",
    "        X[\"Family\"] = X.Parch + X.SibSp\n",
    "#         X.Family = X.Family.divide(14)\n",
    "        X = X.drop(columns=\"Parch SibSp\".split())\n",
    "\n",
    "    if \"Fare\" in X:\n",
    "        # Since only a few would miss 'fare' value, it's okay to fill with average.\n",
    "        X.Fare = X.Fare.fillna(X.Fare.mean())\n",
    "        \n",
    "        X.Fare = np.where(X.Fare < 50, 1, 2)\n",
    "        \n",
    "#         X.Fare = X.Fare.divide(512)\n",
    "\n",
    "    if \"Embarked\" in X:\n",
    "        X.Embarked = X.Embarked.fillna(X.Embarked.mode()[0])\n",
    "        X.Embarked = X.Embarked.astype(pd.api.types.CategoricalDtype(categories=\"C Q S\".split()))\n",
    "        X = pd.get_dummies(X, columns=[\"Embarked\"])\n",
    "\n",
    "    if \"Name\" in X:\n",
    "        X[\"Title\"] = X.Name.apply(lambda name: re.search(\", ([\\w ]+).\", name).group(1))\n",
    "\n",
    "        # Try to see if the person is married (1), or not (-1), or unknown (0).\n",
    "        X[\"Married\"] = X.Title.apply(lambda title: 1 if title in \"Mrs Mr\".split() else -1 if title in \"Miss Master\".split() else 0)\n",
    "\n",
    "        # Get dummies for title\n",
    "        \n",
    "        # Include all possible values, even those not present in current dataset.\n",
    "#         X.Title = X.Title.astype(pd.api.types.CategoricalDtype(categories=titles))\n",
    "        \n",
    "        # Titles that are rare are converted to 'Others'\n",
    "        important_titles = ['Mr', 'Mrs', 'Miss', 'Master']\n",
    "        X.Title = X.Title.apply(lambda title: title if title in important_titles else \"Others\")\n",
    "        \n",
    "        X = pd.get_dummies(X, columns=[\"Title\"])\n",
    "        \n",
    "        # We don't need the name itself.\n",
    "        X = X.drop(columns=[\"Name\"])\n",
    "        \n",
    "    if \"Cabin\" in X:\n",
    "        X[\"Cabin_Missing\"] = np.where(X.Cabin.isnull(), 1, 0)\n",
    "        X.Cabin = X.Cabin.fillna(\"-\")\n",
    "        \n",
    "#         X[\"Cabin_Number\"] = X.Cabin.apply(lambda cabin: int(re.search(\"\\w(\\d+)\", cabin).group(1)) if len(cabin) > 1 else 0)\n",
    "#         # Do some sort of normalization.\n",
    "#         X.Cabin_Number = X.Cabin_Number.divide(200)\n",
    "#         X[\"Cabin_Number_Missing\"] = np.where(X.Cabin_Number == 0, 1, 0)\n",
    "        \n",
    "        X.Cabin = X.Cabin.apply(lambda cabin: cabin[:1])\n",
    "        \n",
    "        # Convert to one-hot\n",
    "#         X.Cabin = X.Cabin.astype(pd.api.types.CategoricalDtype(categories=list(\"ABCDEFGT\")))\n",
    "#         X = pd.get_dummies(X, columns=[\"Cabin\"], dummy_na=True)\n",
    "\n",
    "        # Convert to numbers with T beeing the lowest deck and S - the highest (sun deck).\n",
    "        X[\"Deck_Level\"] = X.Cabin.apply(lambda cabin: \"SABCDEFGT\".find(cabin[0]))\n",
    "        X = X.drop(columns=[\"Cabin\"])\n",
    "\n",
    "    if \"Age\" in X:\n",
    "        X[\"Age_Missing\"] = np.where(X.Age.isnull(), 1, 0)\n",
    "\n",
    "        # No need to skip 'nan' for Age when calculating mean, as Pandas does that automatically.\n",
    "        # 'transform' will go through each group, and fill its nan values with its mean value.\n",
    "        # Then, all that will be aggregated back into the column, thus replacing nan values with group's mean.\n",
    "        X[\"Age\"] = X.groupby(\"Pclass Sex\".split())[\"Age\"].transform(lambda x: x.fillna(x.mean()))\n",
    "        \n",
    "#         X.Age = X.Age.divide(80)\n",
    "\n",
    "        # Convert age to categories 1 - child, 2 - young, 3 - older, 4 - senile\n",
    "        X.Age = pd.cut(X.Age, bins=[0, 16, 30, 50, 80], labels=False) + 1\n",
    "        \n",
    "    # Needs to be after 'Age', since age is using original Sex column.\n",
    "    if \"Sex\" in X:\n",
    "        X.Sex = X.Sex.astype(pd.api.types.CategoricalDtype(categories=\"male female\".split()))\n",
    "        X = pd.get_dummies(X, columns=[\"Sex\"])\n",
    "\n",
    "    if \"Pclass\" in X:\n",
    "        X = pd.get_dummies(X, columns=[\"Pclass\"])\n",
    "        # Do not normalize small numbers\n",
    "#         X.Pclass = X.Pclass.divide(3)\n",
    "\n",
    "    return X"
   ]
  },
  {
   "cell_type": "code",
   "execution_count": 11,
   "metadata": {},
   "outputs": [],
   "source": [
    "def prepare_data_clean(X):\n",
    "    import re\n",
    "    \n",
    "    titles = ['Mr', 'Mrs', 'Miss', 'Master', 'Ms', 'Don', 'Rev', 'Dr', 'Mme', 'Major', 'Lady', 'Sir', 'Mlle', 'Col', 'Capt', 'the Countess', 'Jonkheer', 'Dona']\n",
    "    \n",
    "    X = X.copy()\n",
    "    \n",
    "    # Remember missing values\n",
    "    for col in \"Embarked Cabin Age Fare\".split():\n",
    "        X[f\"{col}_Missing\"] = np.where(X[col].isnull(), 1, 0)\n",
    "        \n",
    "    if \"Parch\" in X and \"SibSp\" in X:\n",
    "        X[\"Family\"] = X.Parch + X.SibSp\n",
    "\n",
    "    if \"Fare\" in X:\n",
    "        X.Fare = X.Fare.fillna(X.Fare.mean())\n",
    "        X.Fare = pd.cut(X.Fare, bins=[-1, 15, 30, 50, 70, 100, 600], labels=False) + 1\n",
    "\n",
    "    if \"Embarked\" in X:\n",
    "        X.Embarked = X.Embarked.fillna(X.Embarked.mode()[0])\n",
    "        X.Embarked = X.Embarked.astype(pd.api.types.CategoricalDtype(categories=\"C Q S\".split()))\n",
    "\n",
    "    if \"Name\" in X:\n",
    "        X[\"Title\"] = X.Name.apply(lambda name: re.search(\", ([\\w ]+).\", name).group(1))\n",
    "\n",
    "        important_titles = ['Mr', 'Mrs', 'Miss', 'Master']\n",
    "        X.Title = X.Title.apply(lambda title: title if title in important_titles else \"Others\")\n",
    "\n",
    "        X[\"Married\"] = X.Title.apply(lambda title: 1 if title in \"Mrs Mr\".split() else -1 if title in \"Miss Master\".split() else 0)\n",
    "        \n",
    "    if \"Cabin\" in X:   \n",
    "        X[\"Deck_Level\"] = X.Cabin.fillna(\"-\").apply(lambda cabin: \"SABCDEFGT\".find(cabin[0]))\n",
    "\n",
    "    if \"Age\" in X:\n",
    "        X[\"Age\"] = X.groupby(\"Pclass Sex\".split())[\"Age\"].transform(lambda x: x.fillna(x.mean()))\n",
    "        X.Age = pd.cut(X.Age, bins=[0, 16, 30, 50, 80], labels=False) + 1\n",
    "        \n",
    "    X = X.drop(columns=\"Name Cabin Parch SibSp\".split())\n",
    "        \n",
    "    X = pd.get_dummies(X, columns=\"Sex Embarked Title\".split())\n",
    "\n",
    "    return X"
   ]
  },
  {
   "cell_type": "code",
   "execution_count": 12,
   "metadata": {},
   "outputs": [
    {
     "name": "stdout",
     "output_type": "stream",
     "text": [
      "Train data:\n",
      "     Pclass  Fare  Age  Embarked_Missing  Cabin_Missing  Age_Missing  \\\n",
      "331       1     2    3                 0              0            0   \n",
      "733       2     1    2                 0              1            0   \n",
      "382       3     1    3                 0              1            0   \n",
      "704       3     1    2                 0              1            0   \n",
      "813       3     3    1                 0              1            0   \n",
      "\n",
      "     Fare_Missing  Family  Married  Deck_Level  Sex_female  Sex_male  \\\n",
      "331             0       0        1           3           0         1   \n",
      "733             0       0        1          -1           0         1   \n",
      "382             0       0        1          -1           0         1   \n",
      "704             0       1        1          -1           0         1   \n",
      "813             0       6       -1          -1           1         0   \n",
      "\n",
      "     Embarked_C  Embarked_Q  Embarked_S  Title_Master  Title_Miss  Title_Mr  \\\n",
      "331           0           0           1             0           0         1   \n",
      "733           0           0           1             0           0         1   \n",
      "382           0           0           1             0           0         1   \n",
      "704           0           0           1             0           0         1   \n",
      "813           0           0           1             0           1         0   \n",
      "\n",
      "     Title_Mrs  Title_Others  \n",
      "331          0             0  \n",
      "733          0             0  \n",
      "382          0             0  \n",
      "704          0             0  \n",
      "813          0             0  \n",
      "Dev data:\n",
      "     Pclass  Fare  Age  Embarked_Missing  Cabin_Missing  Age_Missing  \\\n",
      "709       3     2    2                 0              1            1   \n",
      "439       2     1    3                 0              1            0   \n",
      "840       3     1    2                 0              1            0   \n",
      "720       2     3    1                 0              1            0   \n",
      "39        3     1    1                 0              1            0   \n",
      "\n",
      "     Fare_Missing  Family  Married  Deck_Level  Sex_female  Sex_male  \\\n",
      "709             0       2       -1          -1           0         1   \n",
      "439             0       0        1          -1           0         1   \n",
      "840             0       0        1          -1           0         1   \n",
      "720             0       1       -1          -1           1         0   \n",
      "39              0       1       -1          -1           1         0   \n",
      "\n",
      "     Embarked_C  Embarked_Q  Embarked_S  Title_Master  Title_Miss  Title_Mr  \\\n",
      "709           1           0           0             1           0         0   \n",
      "439           0           0           1             0           0         1   \n",
      "840           0           0           1             0           0         1   \n",
      "720           0           0           1             0           1         0   \n",
      "39            1           0           0             0           1         0   \n",
      "\n",
      "     Title_Mrs  Title_Others  \n",
      "709          0             0  \n",
      "439          0             0  \n",
      "840          0             0  \n",
      "720          0             0  \n",
      "39           0             0  \n",
      "Test data:\n",
      "   Pclass  Fare  Age  Embarked_Missing  Cabin_Missing  Age_Missing  \\\n",
      "0       3     1    3                 0              1            0   \n",
      "1       3     1    3                 0              1            0   \n",
      "2       2     1    4                 0              1            0   \n",
      "3       3     1    2                 0              1            0   \n",
      "4       3     1    2                 0              1            0   \n",
      "\n",
      "   Fare_Missing  Family  Married  Deck_Level  Sex_female  Sex_male  \\\n",
      "0             0       0        1          -1           0         1   \n",
      "1             0       1        1          -1           1         0   \n",
      "2             0       0        1          -1           0         1   \n",
      "3             0       0        1          -1           0         1   \n",
      "4             0       2        1          -1           1         0   \n",
      "\n",
      "   Embarked_C  Embarked_Q  Embarked_S  Title_Master  Title_Miss  Title_Mr  \\\n",
      "0           0           1           0             0           0         1   \n",
      "1           0           0           1             0           0         0   \n",
      "2           0           1           0             0           0         1   \n",
      "3           0           0           1             0           0         1   \n",
      "4           0           0           1             0           0         0   \n",
      "\n",
      "   Title_Mrs  Title_Others  \n",
      "0          0             0  \n",
      "1          1             0  \n",
      "2          0             0  \n",
      "3          0             0  \n",
      "4          1             0  \n"
     ]
    }
   ],
   "source": [
    "print(\"Train data:\")\n",
    "X_train = prepare_data_clean(X_train_unproc)\n",
    "Y_train = Y_train_unproc\n",
    "print(X_train.head())\n",
    "\n",
    "print(\"Dev data:\")\n",
    "X_dev = prepare_data_clean(X_dev_unproc)\n",
    "Y_dev = Y_dev_unproc\n",
    "print(X_dev.head())\n",
    "\n",
    "print(\"Test data:\")\n",
    "X_test = prepare_data_clean(X_test_init)\n",
    "print(X_test.head())"
   ]
  },
  {
   "cell_type": "markdown",
   "execution_count": null,
   "metadata": {},
   "source": [
    "# DL model using Keras"
   ]
  },
  {
   "cell_type": "code",
   "execution_count": 13,
   "metadata": {},
   "outputs": [],
   "source": [
    "def get_model(input_size):\n",
    "    from tensorflow.keras.models import Sequential\n",
    "    from tensorflow.keras.layers import Dense, Dropout\n",
    "    from tensorflow.keras.regularizers import l2\n",
    "\n",
    "    model = Sequential([\n",
    "        Dense(128, input_shape=(input_size,), activation=\"relu\", kernel_regularizer=l2(0.01)),\n",
    "        Dropout(0.2),\n",
    "        Dense(32, activation=\"relu\", kernel_regularizer=l2(0.01)),\n",
    "        Dropout(0.2),\n",
    "        Dense(20, activation=\"relu\", kernel_regularizer=l2(0.01)),\n",
    "        Dropout(0.25),\n",
    "        Dense(6, activation=\"tanh\", kernel_regularizer=l2(0.01)),\n",
    "        Dropout(0.3),\n",
    "        Dense(1, activation=\"sigmoid\")\n",
    "    ])\n",
    "    \n",
    "    model.compile(optimizer=keras.optimizers.Adam(1e-3), metrics=[\"accuracy\"], loss=\"binary_crossentropy\")\n",
    "    \n",
    "    return model"
   ]
  },
  {
   "cell_type": "code",
   "execution_count": 14,
   "metadata": {},
   "outputs": [
    {
     "name": "stdout",
     "output_type": "stream",
     "text": [
      "Train on 712 samples, validate on 179 samples\n",
      "Epoch 1/500\n",
      "712/712 [==============================] - 2s 2ms/sample - loss: 1.7318 - accuracy: 0.6194 - val_loss: 1.5430 - val_accuracy: 0.7095\n",
      "Epoch 2/500\n",
      "712/712 [==============================] - 0s 170us/sample - loss: 1.4975 - accuracy: 0.6952 - val_loss: 1.3339 - val_accuracy: 0.7374\n",
      "Epoch 3/500\n",
      "712/712 [==============================] - 0s 149us/sample - loss: 1.3091 - accuracy: 0.7205 - val_loss: 1.1792 - val_accuracy: 0.8156\n",
      "Epoch 4/500\n",
      "712/712 [==============================] - 0s 229us/sample - loss: 1.1735 - accuracy: 0.7626 - val_loss: 1.0577 - val_accuracy: 0.8156\n",
      "Epoch 5/500\n",
      "712/712 [==============================] - 0s 177us/sample - loss: 1.0724 - accuracy: 0.7486 - val_loss: 0.9734 - val_accuracy: 0.7989\n",
      "Epoch 6/500\n",
      "712/712 [==============================] - 0s 150us/sample - loss: 0.9945 - accuracy: 0.7823 - val_loss: 0.8950 - val_accuracy: 0.8101\n",
      "Epoch 7/500\n",
      "712/712 [==============================] - 0s 145us/sample - loss: 0.8925 - accuracy: 0.7851 - val_loss: 0.8336 - val_accuracy: 0.7933\n",
      "Epoch 8/500\n",
      "712/712 [==============================] - 0s 139us/sample - loss: 0.8618 - accuracy: 0.8020 - val_loss: 0.7849 - val_accuracy: 0.8156\n",
      "Epoch 9/500\n",
      "712/712 [==============================] - 0s 136us/sample - loss: 0.8161 - accuracy: 0.8062 - val_loss: 0.7517 - val_accuracy: 0.7989\n",
      "Epoch 10/500\n",
      "712/712 [==============================] - 0s 143us/sample - loss: 0.7785 - accuracy: 0.8062 - val_loss: 0.7220 - val_accuracy: 0.8101\n",
      "Epoch 11/500\n",
      "712/712 [==============================] - 0s 141us/sample - loss: 0.7463 - accuracy: 0.8006 - val_loss: 0.6930 - val_accuracy: 0.8101\n",
      "Epoch 12/500\n",
      "712/712 [==============================] - 0s 141us/sample - loss: 0.7197 - accuracy: 0.8202 - val_loss: 0.6707 - val_accuracy: 0.8156\n",
      "Epoch 13/500\n",
      "712/712 [==============================] - 0s 140us/sample - loss: 0.6983 - accuracy: 0.8146 - val_loss: 0.6559 - val_accuracy: 0.8101\n",
      "Epoch 14/500\n",
      "712/712 [==============================] - 0s 143us/sample - loss: 0.6699 - accuracy: 0.8174 - val_loss: 0.6376 - val_accuracy: 0.8045\n",
      "Epoch 15/500\n",
      "712/712 [==============================] - 0s 139us/sample - loss: 0.6715 - accuracy: 0.8034 - val_loss: 0.6180 - val_accuracy: 0.8101\n",
      "Epoch 16/500\n",
      "712/712 [==============================] - 0s 139us/sample - loss: 0.6651 - accuracy: 0.8174 - val_loss: 0.6090 - val_accuracy: 0.8101\n",
      "Epoch 17/500\n",
      "712/712 [==============================] - 0s 139us/sample - loss: 0.6474 - accuracy: 0.8146 - val_loss: 0.5949 - val_accuracy: 0.8156\n",
      "Epoch 18/500\n",
      "712/712 [==============================] - 0s 137us/sample - loss: 0.6293 - accuracy: 0.8104 - val_loss: 0.5851 - val_accuracy: 0.8045\n",
      "Epoch 19/500\n",
      "712/712 [==============================] - 0s 142us/sample - loss: 0.6179 - accuracy: 0.8258 - val_loss: 0.5750 - val_accuracy: 0.8268\n",
      "Epoch 20/500\n",
      "712/712 [==============================] - 0s 140us/sample - loss: 0.5971 - accuracy: 0.8357 - val_loss: 0.5648 - val_accuracy: 0.8045\n",
      "Epoch 21/500\n",
      "712/712 [==============================] - 0s 140us/sample - loss: 0.5997 - accuracy: 0.8160 - val_loss: 0.5732 - val_accuracy: 0.8045\n",
      "Epoch 22/500\n",
      "712/712 [==============================] - 0s 141us/sample - loss: 0.5970 - accuracy: 0.8118 - val_loss: 0.5571 - val_accuracy: 0.8045\n",
      "Epoch 23/500\n",
      "712/712 [==============================] - 0s 140us/sample - loss: 0.5915 - accuracy: 0.8329 - val_loss: 0.5545 - val_accuracy: 0.8212\n",
      "Epoch 24/500\n",
      "712/712 [==============================] - 0s 139us/sample - loss: 0.5633 - accuracy: 0.8188 - val_loss: 0.5446 - val_accuracy: 0.8268\n",
      "Epoch 25/500\n",
      "712/712 [==============================] - 0s 134us/sample - loss: 0.5642 - accuracy: 0.8301 - val_loss: 0.5379 - val_accuracy: 0.8212\n",
      "Epoch 26/500\n",
      "712/712 [==============================] - 0s 155us/sample - loss: 0.5593 - accuracy: 0.8118 - val_loss: 0.5301 - val_accuracy: 0.8156\n",
      "Epoch 27/500\n",
      "712/712 [==============================] - 0s 133us/sample - loss: 0.5504 - accuracy: 0.8202 - val_loss: 0.5317 - val_accuracy: 0.8212\n",
      "Epoch 28/500\n",
      "712/712 [==============================] - 0s 138us/sample - loss: 0.5413 - accuracy: 0.8357 - val_loss: 0.5394 - val_accuracy: 0.8045\n",
      "Epoch 29/500\n",
      "712/712 [==============================] - 0s 140us/sample - loss: 0.5396 - accuracy: 0.8258 - val_loss: 0.5243 - val_accuracy: 0.7933\n",
      "Epoch 30/500\n",
      "712/712 [==============================] - 0s 137us/sample - loss: 0.5709 - accuracy: 0.8188 - val_loss: 0.5378 - val_accuracy: 0.8101\n",
      "Epoch 31/500\n",
      "712/712 [==============================] - 0s 141us/sample - loss: 0.5589 - accuracy: 0.8034 - val_loss: 0.5211 - val_accuracy: 0.8212\n",
      "Epoch 32/500\n",
      "712/712 [==============================] - 0s 136us/sample - loss: 0.5431 - accuracy: 0.8258 - val_loss: 0.5176 - val_accuracy: 0.8212\n",
      "Epoch 33/500\n",
      "712/712 [==============================] - 0s 138us/sample - loss: 0.5220 - accuracy: 0.8301 - val_loss: 0.5143 - val_accuracy: 0.8101\n",
      "Epoch 34/500\n",
      "712/712 [==============================] - 0s 147us/sample - loss: 0.5375 - accuracy: 0.8160 - val_loss: 0.5168 - val_accuracy: 0.8101\n",
      "Epoch 35/500\n",
      "712/712 [==============================] - 0s 137us/sample - loss: 0.5187 - accuracy: 0.8315 - val_loss: 0.5059 - val_accuracy: 0.8380\n",
      "Epoch 36/500\n",
      "712/712 [==============================] - 0s 136us/sample - loss: 0.5292 - accuracy: 0.8202 - val_loss: 0.5098 - val_accuracy: 0.8324\n",
      "Epoch 37/500\n",
      "712/712 [==============================] - 0s 131us/sample - loss: 0.5427 - accuracy: 0.8132 - val_loss: 0.5108 - val_accuracy: 0.8212\n",
      "Epoch 38/500\n",
      "712/712 [==============================] - 0s 132us/sample - loss: 0.5408 - accuracy: 0.8301 - val_loss: 0.5240 - val_accuracy: 0.8045\n",
      "Epoch 39/500\n",
      "712/712 [==============================] - 0s 140us/sample - loss: 0.5362 - accuracy: 0.8315 - val_loss: 0.5087 - val_accuracy: 0.8045\n",
      "Epoch 40/500\n",
      "712/712 [==============================] - 0s 139us/sample - loss: 0.5147 - accuracy: 0.8329 - val_loss: 0.5051 - val_accuracy: 0.8156\n",
      "Epoch 41/500\n",
      "712/712 [==============================] - 0s 145us/sample - loss: 0.5233 - accuracy: 0.8258 - val_loss: 0.5028 - val_accuracy: 0.8212\n",
      "Epoch 42/500\n",
      "712/712 [==============================] - 0s 139us/sample - loss: 0.5369 - accuracy: 0.8230 - val_loss: 0.4984 - val_accuracy: 0.8268\n",
      "Epoch 43/500\n",
      "712/712 [==============================] - 0s 139us/sample - loss: 0.5044 - accuracy: 0.8230 - val_loss: 0.4960 - val_accuracy: 0.8268\n",
      "Epoch 44/500\n",
      "712/712 [==============================] - 0s 138us/sample - loss: 0.5249 - accuracy: 0.8202 - val_loss: 0.4969 - val_accuracy: 0.8101\n",
      "Epoch 45/500\n",
      "712/712 [==============================] - 0s 142us/sample - loss: 0.5131 - accuracy: 0.8272 - val_loss: 0.4962 - val_accuracy: 0.7933\n",
      "Epoch 46/500\n",
      "712/712 [==============================] - 0s 137us/sample - loss: 0.5267 - accuracy: 0.8230 - val_loss: 0.4981 - val_accuracy: 0.8324\n",
      "Epoch 47/500\n",
      "712/712 [==============================] - 0s 138us/sample - loss: 0.5171 - accuracy: 0.8315 - val_loss: 0.4887 - val_accuracy: 0.8268\n",
      "Epoch 48/500\n",
      "712/712 [==============================] - 0s 139us/sample - loss: 0.5074 - accuracy: 0.8188 - val_loss: 0.4916 - val_accuracy: 0.8268\n",
      "Epoch 49/500\n",
      "712/712 [==============================] - 0s 142us/sample - loss: 0.5373 - accuracy: 0.8160 - val_loss: 0.4969 - val_accuracy: 0.8101\n",
      "Epoch 50/500\n",
      "712/712 [==============================] - 0s 138us/sample - loss: 0.5142 - accuracy: 0.8244 - val_loss: 0.4925 - val_accuracy: 0.8156\n",
      "Epoch 51/500\n",
      "712/712 [==============================] - 0s 137us/sample - loss: 0.5233 - accuracy: 0.8230 - val_loss: 0.4885 - val_accuracy: 0.8212\n",
      "Epoch 52/500\n",
      "712/712 [==============================] - 0s 132us/sample - loss: 0.5075 - accuracy: 0.8258 - val_loss: 0.4993 - val_accuracy: 0.8101\n",
      "Epoch 53/500\n",
      "712/712 [==============================] - 0s 132us/sample - loss: 0.5110 - accuracy: 0.8301 - val_loss: 0.5016 - val_accuracy: 0.8156\n",
      "Epoch 54/500\n",
      "712/712 [==============================] - 0s 132us/sample - loss: 0.5264 - accuracy: 0.8244 - val_loss: 0.4864 - val_accuracy: 0.8324\n",
      "Epoch 55/500\n",
      "712/712 [==============================] - 0s 135us/sample - loss: 0.5092 - accuracy: 0.8188 - val_loss: 0.4858 - val_accuracy: 0.8380\n",
      "Epoch 56/500\n",
      "712/712 [==============================] - 0s 136us/sample - loss: 0.5061 - accuracy: 0.8441 - val_loss: 0.4946 - val_accuracy: 0.8101\n",
      "Epoch 57/500\n",
      "712/712 [==============================] - 0s 133us/sample - loss: 0.5056 - accuracy: 0.8371 - val_loss: 0.4865 - val_accuracy: 0.8268\n",
      "Epoch 58/500\n",
      "712/712 [==============================] - 0s 135us/sample - loss: 0.5034 - accuracy: 0.8357 - val_loss: 0.4846 - val_accuracy: 0.8324\n",
      "Epoch 59/500\n",
      "712/712 [==============================] - 0s 137us/sample - loss: 0.4972 - accuracy: 0.8315 - val_loss: 0.4865 - val_accuracy: 0.8268\n",
      "Epoch 60/500\n",
      "712/712 [==============================] - 0s 148us/sample - loss: 0.5171 - accuracy: 0.8244 - val_loss: 0.4832 - val_accuracy: 0.8324\n",
      "Epoch 61/500\n",
      "712/712 [==============================] - 0s 140us/sample - loss: 0.4974 - accuracy: 0.8272 - val_loss: 0.4865 - val_accuracy: 0.8324\n",
      "Epoch 62/500\n",
      "712/712 [==============================] - 0s 140us/sample - loss: 0.5104 - accuracy: 0.8385 - val_loss: 0.4971 - val_accuracy: 0.8212\n",
      "Epoch 63/500\n",
      "712/712 [==============================] - 0s 138us/sample - loss: 0.5080 - accuracy: 0.8244 - val_loss: 0.4792 - val_accuracy: 0.8380\n",
      "Epoch 64/500\n",
      "712/712 [==============================] - 0s 141us/sample - loss: 0.4967 - accuracy: 0.8230 - val_loss: 0.4805 - val_accuracy: 0.8156\n",
      "Epoch 65/500\n",
      "712/712 [==============================] - 0s 147us/sample - loss: 0.5183 - accuracy: 0.8287 - val_loss: 0.4820 - val_accuracy: 0.8436\n",
      "Epoch 66/500\n",
      "712/712 [==============================] - 0s 143us/sample - loss: 0.4924 - accuracy: 0.8343 - val_loss: 0.4835 - val_accuracy: 0.8324\n",
      "Epoch 67/500\n",
      "712/712 [==============================] - 0s 141us/sample - loss: 0.5021 - accuracy: 0.8230 - val_loss: 0.4750 - val_accuracy: 0.8212\n",
      "Epoch 68/500\n",
      "712/712 [==============================] - 0s 138us/sample - loss: 0.5097 - accuracy: 0.8357 - val_loss: 0.4751 - val_accuracy: 0.8268\n",
      "Epoch 69/500\n",
      "712/712 [==============================] - 0s 143us/sample - loss: 0.5138 - accuracy: 0.8287 - val_loss: 0.4839 - val_accuracy: 0.8156\n",
      "Epoch 70/500\n",
      "712/712 [==============================] - 0s 136us/sample - loss: 0.4903 - accuracy: 0.8385 - val_loss: 0.4785 - val_accuracy: 0.8380\n",
      "Epoch 71/500\n",
      "712/712 [==============================] - 0s 139us/sample - loss: 0.4947 - accuracy: 0.8357 - val_loss: 0.4778 - val_accuracy: 0.8268\n",
      "Epoch 72/500\n",
      "712/712 [==============================] - 0s 138us/sample - loss: 0.5028 - accuracy: 0.8343 - val_loss: 0.4916 - val_accuracy: 0.8101\n",
      "Epoch 73/500\n",
      "712/712 [==============================] - 0s 140us/sample - loss: 0.4856 - accuracy: 0.8385 - val_loss: 0.4774 - val_accuracy: 0.8324\n",
      "Epoch 74/500\n",
      "712/712 [==============================] - 0s 140us/sample - loss: 0.4970 - accuracy: 0.8329 - val_loss: 0.4790 - val_accuracy: 0.8212\n",
      "Epoch 75/500\n",
      "712/712 [==============================] - 0s 134us/sample - loss: 0.5069 - accuracy: 0.8272 - val_loss: 0.4772 - val_accuracy: 0.8268\n",
      "Epoch 76/500\n",
      "712/712 [==============================] - 0s 140us/sample - loss: 0.4925 - accuracy: 0.8385 - val_loss: 0.4809 - val_accuracy: 0.8212\n",
      "Epoch 77/500\n",
      "712/712 [==============================] - 0s 150us/sample - loss: 0.4906 - accuracy: 0.8371 - val_loss: 0.4750 - val_accuracy: 0.8268\n",
      "Epoch 78/500\n",
      "712/712 [==============================] - 0s 140us/sample - loss: 0.4923 - accuracy: 0.8357 - val_loss: 0.4756 - val_accuracy: 0.8436\n",
      "Epoch 79/500\n",
      "712/712 [==============================] - 0s 138us/sample - loss: 0.4910 - accuracy: 0.8413 - val_loss: 0.4866 - val_accuracy: 0.8101\n",
      "Epoch 80/500\n",
      "712/712 [==============================] - 0s 140us/sample - loss: 0.5051 - accuracy: 0.8287 - val_loss: 0.4783 - val_accuracy: 0.8324\n",
      "Epoch 81/500\n",
      "712/712 [==============================] - 0s 149us/sample - loss: 0.4855 - accuracy: 0.8357 - val_loss: 0.4842 - val_accuracy: 0.8212\n",
      "Epoch 82/500\n",
      "712/712 [==============================] - 0s 199us/sample - loss: 0.5079 - accuracy: 0.8385 - val_loss: 0.4823 - val_accuracy: 0.8324\n",
      "Epoch 83/500\n",
      "712/712 [==============================] - 0s 143us/sample - loss: 0.4824 - accuracy: 0.8287 - val_loss: 0.4723 - val_accuracy: 0.8380\n",
      "Epoch 84/500\n",
      "712/712 [==============================] - 0s 141us/sample - loss: 0.4877 - accuracy: 0.8441 - val_loss: 0.4753 - val_accuracy: 0.8380\n",
      "Epoch 85/500\n",
      "712/712 [==============================] - 0s 139us/sample - loss: 0.4699 - accuracy: 0.8371 - val_loss: 0.4746 - val_accuracy: 0.8268\n",
      "Epoch 86/500\n",
      "712/712 [==============================] - 0s 207us/sample - loss: 0.4836 - accuracy: 0.8385 - val_loss: 0.4797 - val_accuracy: 0.8324\n",
      "Epoch 87/500\n",
      "712/712 [==============================] - 0s 214us/sample - loss: 0.4987 - accuracy: 0.8385 - val_loss: 0.4726 - val_accuracy: 0.8380\n",
      "Epoch 88/500\n",
      "712/712 [==============================] - 0s 214us/sample - loss: 0.4806 - accuracy: 0.8399 - val_loss: 0.4764 - val_accuracy: 0.8324\n",
      "Epoch 89/500\n",
      "712/712 [==============================] - 0s 161us/sample - loss: 0.4900 - accuracy: 0.8329 - val_loss: 0.4688 - val_accuracy: 0.8380\n",
      "Epoch 90/500\n",
      "712/712 [==============================] - 0s 136us/sample - loss: 0.4894 - accuracy: 0.8357 - val_loss: 0.4740 - val_accuracy: 0.8324\n",
      "Epoch 91/500\n",
      "712/712 [==============================] - 0s 133us/sample - loss: 0.4832 - accuracy: 0.8343 - val_loss: 0.4733 - val_accuracy: 0.8380\n",
      "Epoch 92/500\n",
      "712/712 [==============================] - 0s 144us/sample - loss: 0.4860 - accuracy: 0.8427 - val_loss: 0.4831 - val_accuracy: 0.8156\n",
      "Epoch 93/500\n",
      "712/712 [==============================] - 0s 140us/sample - loss: 0.4899 - accuracy: 0.8301 - val_loss: 0.4791 - val_accuracy: 0.8156\n",
      "Epoch 94/500\n",
      "712/712 [==============================] - 0s 134us/sample - loss: 0.4891 - accuracy: 0.8343 - val_loss: 0.4735 - val_accuracy: 0.8492\n",
      "Epoch 95/500\n",
      "712/712 [==============================] - 0s 140us/sample - loss: 0.4971 - accuracy: 0.8301 - val_loss: 0.4741 - val_accuracy: 0.8436\n",
      "Epoch 96/500\n",
      "712/712 [==============================] - 0s 142us/sample - loss: 0.4880 - accuracy: 0.8371 - val_loss: 0.4838 - val_accuracy: 0.8324\n",
      "Epoch 97/500\n",
      "712/712 [==============================] - 0s 141us/sample - loss: 0.4864 - accuracy: 0.8371 - val_loss: 0.4807 - val_accuracy: 0.8268\n",
      "Epoch 98/500\n",
      "712/712 [==============================] - 0s 136us/sample - loss: 0.4779 - accuracy: 0.8301 - val_loss: 0.4780 - val_accuracy: 0.8380\n",
      "Epoch 99/500\n",
      "712/712 [==============================] - 0s 135us/sample - loss: 0.4953 - accuracy: 0.8329 - val_loss: 0.4702 - val_accuracy: 0.8324\n",
      "Epoch 100/500\n",
      "712/712 [==============================] - 0s 133us/sample - loss: 0.4910 - accuracy: 0.8371 - val_loss: 0.4693 - val_accuracy: 0.8380\n",
      "Epoch 101/500\n",
      "712/712 [==============================] - 0s 142us/sample - loss: 0.4785 - accuracy: 0.8441 - val_loss: 0.4799 - val_accuracy: 0.8156\n",
      "Epoch 102/500\n",
      "712/712 [==============================] - 0s 133us/sample - loss: 0.4833 - accuracy: 0.8399 - val_loss: 0.4754 - val_accuracy: 0.8380\n",
      "Epoch 103/500\n",
      "712/712 [==============================] - 0s 138us/sample - loss: 0.4737 - accuracy: 0.8315 - val_loss: 0.4716 - val_accuracy: 0.8380\n",
      "Epoch 104/500\n",
      "712/712 [==============================] - 0s 136us/sample - loss: 0.4870 - accuracy: 0.8357 - val_loss: 0.4720 - val_accuracy: 0.8380\n",
      "Epoch 105/500\n",
      "712/712 [==============================] - 0s 161us/sample - loss: 0.4807 - accuracy: 0.8399 - val_loss: 0.4731 - val_accuracy: 0.8324\n",
      "Epoch 106/500\n",
      "712/712 [==============================] - 0s 135us/sample - loss: 0.4874 - accuracy: 0.8413 - val_loss: 0.4730 - val_accuracy: 0.8380\n",
      "Epoch 107/500\n",
      "712/712 [==============================] - 0s 166us/sample - loss: 0.4758 - accuracy: 0.8455 - val_loss: 0.4821 - val_accuracy: 0.8212\n",
      "Epoch 108/500\n",
      "712/712 [==============================] - 0s 143us/sample - loss: 0.4796 - accuracy: 0.8483 - val_loss: 0.4785 - val_accuracy: 0.8212\n",
      "Epoch 109/500\n",
      "712/712 [==============================] - 0s 143us/sample - loss: 0.4809 - accuracy: 0.8385 - val_loss: 0.4780 - val_accuracy: 0.8380\n",
      "Epoch 110/500\n",
      "712/712 [==============================] - 0s 140us/sample - loss: 0.4887 - accuracy: 0.8385 - val_loss: 0.4723 - val_accuracy: 0.8436\n",
      "Epoch 111/500\n",
      "712/712 [==============================] - 0s 140us/sample - loss: 0.4880 - accuracy: 0.8301 - val_loss: 0.4669 - val_accuracy: 0.8380\n",
      "Epoch 112/500\n",
      "712/712 [==============================] - 0s 139us/sample - loss: 0.4655 - accuracy: 0.8357 - val_loss: 0.4650 - val_accuracy: 0.8380\n",
      "Epoch 113/500\n",
      "712/712 [==============================] - 0s 136us/sample - loss: 0.4810 - accuracy: 0.8441 - val_loss: 0.4768 - val_accuracy: 0.8156\n",
      "Epoch 114/500\n",
      "712/712 [==============================] - 0s 143us/sample - loss: 0.4834 - accuracy: 0.8385 - val_loss: 0.4670 - val_accuracy: 0.8324\n",
      "Epoch 115/500\n",
      "712/712 [==============================] - 0s 143us/sample - loss: 0.4858 - accuracy: 0.8385 - val_loss: 0.4655 - val_accuracy: 0.8324\n",
      "Epoch 116/500\n",
      "712/712 [==============================] - 0s 130us/sample - loss: 0.4870 - accuracy: 0.8329 - val_loss: 0.4724 - val_accuracy: 0.8324\n",
      "Epoch 117/500\n",
      "712/712 [==============================] - 0s 136us/sample - loss: 0.4827 - accuracy: 0.8539 - val_loss: 0.4725 - val_accuracy: 0.8380\n",
      "Epoch 118/500\n",
      "712/712 [==============================] - 0s 143us/sample - loss: 0.4682 - accuracy: 0.8399 - val_loss: 0.4828 - val_accuracy: 0.8268\n",
      "Epoch 119/500\n",
      "712/712 [==============================] - 0s 139us/sample - loss: 0.4764 - accuracy: 0.8357 - val_loss: 0.4703 - val_accuracy: 0.8436\n",
      "Epoch 120/500\n",
      "712/712 [==============================] - 0s 136us/sample - loss: 0.4819 - accuracy: 0.8357 - val_loss: 0.4650 - val_accuracy: 0.8380\n",
      "Epoch 121/500\n",
      "712/712 [==============================] - 0s 137us/sample - loss: 0.4912 - accuracy: 0.8329 - val_loss: 0.4732 - val_accuracy: 0.8380\n",
      "Epoch 122/500\n",
      "712/712 [==============================] - 0s 140us/sample - loss: 0.4847 - accuracy: 0.8357 - val_loss: 0.4763 - val_accuracy: 0.8268\n",
      "Epoch 123/500\n",
      "712/712 [==============================] - 0s 158us/sample - loss: 0.4869 - accuracy: 0.8315 - val_loss: 0.4649 - val_accuracy: 0.8380\n",
      "Epoch 124/500\n",
      "712/712 [==============================] - 0s 138us/sample - loss: 0.4707 - accuracy: 0.8455 - val_loss: 0.4683 - val_accuracy: 0.8380\n",
      "Epoch 125/500\n",
      "712/712 [==============================] - 0s 137us/sample - loss: 0.4830 - accuracy: 0.8216 - val_loss: 0.4689 - val_accuracy: 0.8380\n",
      "Epoch 126/500\n",
      "712/712 [==============================] - 0s 139us/sample - loss: 0.4867 - accuracy: 0.8301 - val_loss: 0.4760 - val_accuracy: 0.8324\n",
      "Epoch 127/500\n",
      "712/712 [==============================] - 0s 144us/sample - loss: 0.4770 - accuracy: 0.8329 - val_loss: 0.4710 - val_accuracy: 0.8380\n",
      "Epoch 128/500\n",
      "712/712 [==============================] - 0s 156us/sample - loss: 0.4708 - accuracy: 0.8371 - val_loss: 0.4639 - val_accuracy: 0.8436\n",
      "Epoch 129/500\n",
      "712/712 [==============================] - 0s 139us/sample - loss: 0.4752 - accuracy: 0.8329 - val_loss: 0.4650 - val_accuracy: 0.8492\n",
      "Epoch 130/500\n",
      "712/712 [==============================] - 0s 134us/sample - loss: 0.4766 - accuracy: 0.8385 - val_loss: 0.4647 - val_accuracy: 0.8324\n",
      "Epoch 131/500\n",
      "712/712 [==============================] - 0s 136us/sample - loss: 0.4643 - accuracy: 0.8343 - val_loss: 0.4746 - val_accuracy: 0.8324\n",
      "Epoch 132/500\n",
      "712/712 [==============================] - 0s 136us/sample - loss: 0.4801 - accuracy: 0.8287 - val_loss: 0.4652 - val_accuracy: 0.8380\n",
      "Epoch 133/500\n",
      "712/712 [==============================] - 0s 144us/sample - loss: 0.4690 - accuracy: 0.8385 - val_loss: 0.4645 - val_accuracy: 0.8436\n",
      "Epoch 134/500\n",
      "712/712 [==============================] - 0s 145us/sample - loss: 0.4732 - accuracy: 0.8357 - val_loss: 0.4801 - val_accuracy: 0.8156\n",
      "Epoch 135/500\n",
      "712/712 [==============================] - 0s 134us/sample - loss: 0.4744 - accuracy: 0.8399 - val_loss: 0.4659 - val_accuracy: 0.8324\n",
      "Epoch 136/500\n",
      "712/712 [==============================] - 0s 132us/sample - loss: 0.4785 - accuracy: 0.8413 - val_loss: 0.4786 - val_accuracy: 0.8268\n",
      "Epoch 137/500\n",
      "712/712 [==============================] - 0s 141us/sample - loss: 0.4599 - accuracy: 0.8553 - val_loss: 0.4695 - val_accuracy: 0.8324\n",
      "Epoch 138/500\n",
      "712/712 [==============================] - 0s 152us/sample - loss: 0.4700 - accuracy: 0.8357 - val_loss: 0.4647 - val_accuracy: 0.8380\n",
      "Epoch 139/500\n",
      "712/712 [==============================] - 0s 138us/sample - loss: 0.4708 - accuracy: 0.8146 - val_loss: 0.4710 - val_accuracy: 0.8436\n",
      "Epoch 140/500\n",
      "712/712 [==============================] - 0s 137us/sample - loss: 0.4905 - accuracy: 0.8230 - val_loss: 0.4701 - val_accuracy: 0.8268\n",
      "Epoch 141/500\n",
      "712/712 [==============================] - 0s 136us/sample - loss: 0.4706 - accuracy: 0.8427 - val_loss: 0.4564 - val_accuracy: 0.8436\n",
      "Epoch 142/500\n",
      "712/712 [==============================] - 0s 139us/sample - loss: 0.4867 - accuracy: 0.8258 - val_loss: 0.4613 - val_accuracy: 0.8380\n",
      "Epoch 143/500\n",
      "712/712 [==============================] - 0s 141us/sample - loss: 0.4711 - accuracy: 0.8315 - val_loss: 0.4678 - val_accuracy: 0.8268\n",
      "Epoch 144/500\n",
      "712/712 [==============================] - 0s 150us/sample - loss: 0.4774 - accuracy: 0.8343 - val_loss: 0.4871 - val_accuracy: 0.8212\n",
      "Epoch 145/500\n",
      "712/712 [==============================] - 0s 139us/sample - loss: 0.4776 - accuracy: 0.8343 - val_loss: 0.4639 - val_accuracy: 0.8380\n",
      "Epoch 146/500\n",
      "712/712 [==============================] - 0s 139us/sample - loss: 0.4770 - accuracy: 0.8427 - val_loss: 0.4586 - val_accuracy: 0.8436\n",
      "Epoch 147/500\n",
      "712/712 [==============================] - 0s 142us/sample - loss: 0.4813 - accuracy: 0.8385 - val_loss: 0.4703 - val_accuracy: 0.8268\n",
      "Epoch 148/500\n",
      "712/712 [==============================] - 0s 139us/sample - loss: 0.4682 - accuracy: 0.8399 - val_loss: 0.4654 - val_accuracy: 0.8380\n",
      "Epoch 149/500\n",
      "712/712 [==============================] - 0s 139us/sample - loss: 0.4723 - accuracy: 0.8272 - val_loss: 0.4848 - val_accuracy: 0.8156\n",
      "Epoch 150/500\n",
      "712/712 [==============================] - 0s 140us/sample - loss: 0.4789 - accuracy: 0.8357 - val_loss: 0.4724 - val_accuracy: 0.8380\n",
      "Epoch 151/500\n",
      "712/712 [==============================] - 0s 139us/sample - loss: 0.4751 - accuracy: 0.8371 - val_loss: 0.4741 - val_accuracy: 0.8212\n",
      "Epoch 152/500\n",
      "712/712 [==============================] - 0s 137us/sample - loss: 0.4734 - accuracy: 0.8329 - val_loss: 0.4674 - val_accuracy: 0.8324\n",
      "Epoch 153/500\n",
      "712/712 [==============================] - 0s 142us/sample - loss: 0.4739 - accuracy: 0.8385 - val_loss: 0.4679 - val_accuracy: 0.8436\n",
      "Epoch 154/500\n",
      "712/712 [==============================] - 0s 137us/sample - loss: 0.4547 - accuracy: 0.8427 - val_loss: 0.4709 - val_accuracy: 0.8268\n",
      "Epoch 155/500\n",
      "712/712 [==============================] - 0s 142us/sample - loss: 0.4612 - accuracy: 0.8413 - val_loss: 0.4681 - val_accuracy: 0.8380\n",
      "Epoch 156/500\n",
      "712/712 [==============================] - 0s 145us/sample - loss: 0.4608 - accuracy: 0.8413 - val_loss: 0.4779 - val_accuracy: 0.8324\n",
      "Epoch 157/500\n",
      "712/712 [==============================] - 0s 138us/sample - loss: 0.4779 - accuracy: 0.8371 - val_loss: 0.4673 - val_accuracy: 0.8324\n",
      "Epoch 158/500\n",
      "712/712 [==============================] - 0s 134us/sample - loss: 0.4738 - accuracy: 0.8371 - val_loss: 0.4624 - val_accuracy: 0.8380\n",
      "Epoch 159/500\n",
      "712/712 [==============================] - 0s 141us/sample - loss: 0.4774 - accuracy: 0.8244 - val_loss: 0.4644 - val_accuracy: 0.8436\n",
      "Epoch 160/500\n",
      "712/712 [==============================] - 0s 138us/sample - loss: 0.4658 - accuracy: 0.8371 - val_loss: 0.4649 - val_accuracy: 0.8324\n",
      "Epoch 161/500\n",
      "712/712 [==============================] - 0s 138us/sample - loss: 0.4701 - accuracy: 0.8385 - val_loss: 0.4653 - val_accuracy: 0.8268\n",
      "Epoch 162/500\n",
      "712/712 [==============================] - 0s 149us/sample - loss: 0.4728 - accuracy: 0.8385 - val_loss: 0.4660 - val_accuracy: 0.8324\n",
      "Epoch 163/500\n",
      "712/712 [==============================] - 0s 140us/sample - loss: 0.4741 - accuracy: 0.8371 - val_loss: 0.4601 - val_accuracy: 0.8380\n",
      "Epoch 164/500\n",
      "712/712 [==============================] - 0s 136us/sample - loss: 0.4680 - accuracy: 0.8244 - val_loss: 0.4646 - val_accuracy: 0.8380\n",
      "Epoch 165/500\n",
      "712/712 [==============================] - 0s 140us/sample - loss: 0.4636 - accuracy: 0.8315 - val_loss: 0.4665 - val_accuracy: 0.8380\n",
      "Epoch 166/500\n",
      "712/712 [==============================] - 0s 132us/sample - loss: 0.4717 - accuracy: 0.8371 - val_loss: 0.4672 - val_accuracy: 0.8380\n",
      "Epoch 167/500\n",
      "712/712 [==============================] - 0s 137us/sample - loss: 0.4481 - accuracy: 0.8427 - val_loss: 0.4681 - val_accuracy: 0.8380\n",
      "Epoch 168/500\n",
      "712/712 [==============================] - 0s 138us/sample - loss: 0.4786 - accuracy: 0.8287 - val_loss: 0.4541 - val_accuracy: 0.8436\n",
      "Epoch 169/500\n",
      "712/712 [==============================] - 0s 134us/sample - loss: 0.4671 - accuracy: 0.8385 - val_loss: 0.4630 - val_accuracy: 0.8436\n",
      "Epoch 170/500\n",
      "712/712 [==============================] - 0s 140us/sample - loss: 0.4576 - accuracy: 0.8413 - val_loss: 0.4684 - val_accuracy: 0.8268\n",
      "Epoch 171/500\n",
      "712/712 [==============================] - 0s 140us/sample - loss: 0.4622 - accuracy: 0.8357 - val_loss: 0.4662 - val_accuracy: 0.8436\n",
      "Epoch 172/500\n",
      "712/712 [==============================] - 0s 134us/sample - loss: 0.4576 - accuracy: 0.8441 - val_loss: 0.4648 - val_accuracy: 0.8492\n",
      "Epoch 173/500\n",
      "712/712 [==============================] - 0s 140us/sample - loss: 0.4854 - accuracy: 0.8301 - val_loss: 0.4682 - val_accuracy: 0.8492\n",
      "Epoch 174/500\n",
      "712/712 [==============================] - 0s 139us/sample - loss: 0.4834 - accuracy: 0.8174 - val_loss: 0.4629 - val_accuracy: 0.8324\n",
      "Epoch 175/500\n",
      "712/712 [==============================] - 0s 137us/sample - loss: 0.4736 - accuracy: 0.8357 - val_loss: 0.4608 - val_accuracy: 0.8492\n",
      "Epoch 176/500\n",
      "712/712 [==============================] - 0s 141us/sample - loss: 0.4694 - accuracy: 0.8413 - val_loss: 0.4618 - val_accuracy: 0.8436\n",
      "Epoch 177/500\n",
      "712/712 [==============================] - 0s 137us/sample - loss: 0.4784 - accuracy: 0.8371 - val_loss: 0.4592 - val_accuracy: 0.8436\n",
      "Epoch 178/500\n",
      "712/712 [==============================] - 0s 137us/sample - loss: 0.4751 - accuracy: 0.8301 - val_loss: 0.4656 - val_accuracy: 0.8156\n",
      "Epoch 179/500\n",
      "712/712 [==============================] - 0s 138us/sample - loss: 0.4705 - accuracy: 0.8511 - val_loss: 0.4663 - val_accuracy: 0.8324\n",
      "Epoch 180/500\n",
      "712/712 [==============================] - 0s 135us/sample - loss: 0.4818 - accuracy: 0.8244 - val_loss: 0.4627 - val_accuracy: 0.8380\n",
      "Epoch 181/500\n",
      "712/712 [==============================] - 0s 139us/sample - loss: 0.4683 - accuracy: 0.8315 - val_loss: 0.4549 - val_accuracy: 0.8380\n",
      "Epoch 182/500\n",
      "712/712 [==============================] - 0s 137us/sample - loss: 0.4618 - accuracy: 0.8413 - val_loss: 0.4552 - val_accuracy: 0.8380\n",
      "Epoch 183/500\n",
      "712/712 [==============================] - 0s 136us/sample - loss: 0.4619 - accuracy: 0.8483 - val_loss: 0.4652 - val_accuracy: 0.8436\n",
      "Epoch 184/500\n",
      "712/712 [==============================] - 0s 135us/sample - loss: 0.4615 - accuracy: 0.8427 - val_loss: 0.4572 - val_accuracy: 0.8436\n",
      "Epoch 185/500\n",
      "712/712 [==============================] - 0s 141us/sample - loss: 0.4644 - accuracy: 0.8427 - val_loss: 0.4637 - val_accuracy: 0.8492\n",
      "Epoch 186/500\n",
      "712/712 [==============================] - 0s 151us/sample - loss: 0.4640 - accuracy: 0.8315 - val_loss: 0.4646 - val_accuracy: 0.8436\n",
      "Epoch 187/500\n",
      "712/712 [==============================] - 0s 147us/sample - loss: 0.4613 - accuracy: 0.8497 - val_loss: 0.4581 - val_accuracy: 0.8436\n",
      "Epoch 188/500\n",
      "712/712 [==============================] - 0s 133us/sample - loss: 0.4705 - accuracy: 0.8413 - val_loss: 0.4699 - val_accuracy: 0.8324\n",
      "Epoch 189/500\n",
      "712/712 [==============================] - 0s 209us/sample - loss: 0.4481 - accuracy: 0.8469 - val_loss: 0.4644 - val_accuracy: 0.8547\n",
      "Epoch 190/500\n",
      "712/712 [==============================] - 0s 142us/sample - loss: 0.4721 - accuracy: 0.8329 - val_loss: 0.4656 - val_accuracy: 0.8492\n",
      "Epoch 191/500\n",
      "712/712 [==============================] - 0s 144us/sample - loss: 0.4616 - accuracy: 0.8399 - val_loss: 0.4654 - val_accuracy: 0.8547\n",
      "Epoch 192/500\n",
      "712/712 [==============================] - 0s 138us/sample - loss: 0.4694 - accuracy: 0.8258 - val_loss: 0.4611 - val_accuracy: 0.8547\n",
      "Epoch 193/500\n",
      "712/712 [==============================] - 0s 204us/sample - loss: 0.4695 - accuracy: 0.8455 - val_loss: 0.4717 - val_accuracy: 0.8380\n",
      "Epoch 194/500\n",
      "712/712 [==============================] - 0s 234us/sample - loss: 0.4940 - accuracy: 0.8301 - val_loss: 0.4711 - val_accuracy: 0.8212\n",
      "Epoch 195/500\n",
      "712/712 [==============================] - 0s 184us/sample - loss: 0.4761 - accuracy: 0.8385 - val_loss: 0.4627 - val_accuracy: 0.8436\n",
      "Epoch 196/500\n",
      "712/712 [==============================] - 0s 191us/sample - loss: 0.4750 - accuracy: 0.8343 - val_loss: 0.4652 - val_accuracy: 0.7989\n",
      "Epoch 197/500\n",
      "712/712 [==============================] - 0s 140us/sample - loss: 0.4601 - accuracy: 0.8469 - val_loss: 0.4671 - val_accuracy: 0.8492\n",
      "Epoch 198/500\n",
      "712/712 [==============================] - 0s 139us/sample - loss: 0.4725 - accuracy: 0.8371 - val_loss: 0.4710 - val_accuracy: 0.8268\n",
      "Epoch 199/500\n",
      "712/712 [==============================] - 0s 140us/sample - loss: 0.4836 - accuracy: 0.8216 - val_loss: 0.4610 - val_accuracy: 0.8380\n",
      "Epoch 200/500\n",
      "712/712 [==============================] - 0s 140us/sample - loss: 0.4655 - accuracy: 0.8483 - val_loss: 0.4646 - val_accuracy: 0.8324\n",
      "Epoch 201/500\n",
      "712/712 [==============================] - 0s 136us/sample - loss: 0.4689 - accuracy: 0.8399 - val_loss: 0.4839 - val_accuracy: 0.8268\n",
      "Epoch 202/500\n",
      "712/712 [==============================] - 0s 135us/sample - loss: 0.4752 - accuracy: 0.8258 - val_loss: 0.4617 - val_accuracy: 0.8436\n",
      "Epoch 203/500\n",
      "712/712 [==============================] - 0s 138us/sample - loss: 0.4702 - accuracy: 0.8469 - val_loss: 0.4661 - val_accuracy: 0.8380\n",
      "Epoch 204/500\n",
      "712/712 [==============================] - 0s 145us/sample - loss: 0.4726 - accuracy: 0.8343 - val_loss: 0.4674 - val_accuracy: 0.8380\n",
      "Epoch 205/500\n",
      "712/712 [==============================] - 0s 138us/sample - loss: 0.4667 - accuracy: 0.8497 - val_loss: 0.4653 - val_accuracy: 0.8380\n",
      "Epoch 206/500\n",
      "712/712 [==============================] - 0s 143us/sample - loss: 0.4574 - accuracy: 0.8399 - val_loss: 0.4685 - val_accuracy: 0.8492\n",
      "Epoch 207/500\n",
      "712/712 [==============================] - 0s 140us/sample - loss: 0.4453 - accuracy: 0.8427 - val_loss: 0.4651 - val_accuracy: 0.8492\n",
      "Epoch 208/500\n",
      "712/712 [==============================] - 0s 139us/sample - loss: 0.4739 - accuracy: 0.8399 - val_loss: 0.4612 - val_accuracy: 0.8380\n",
      "Epoch 209/500\n",
      "712/712 [==============================] - 0s 137us/sample - loss: 0.4652 - accuracy: 0.8413 - val_loss: 0.4612 - val_accuracy: 0.8492\n",
      "Epoch 210/500\n",
      "712/712 [==============================] - 0s 140us/sample - loss: 0.4605 - accuracy: 0.8357 - val_loss: 0.4587 - val_accuracy: 0.8547\n",
      "Epoch 211/500\n",
      "712/712 [==============================] - 0s 141us/sample - loss: 0.4770 - accuracy: 0.8413 - val_loss: 0.4600 - val_accuracy: 0.8492\n",
      "Epoch 212/500\n",
      "712/712 [==============================] - 0s 142us/sample - loss: 0.4676 - accuracy: 0.8427 - val_loss: 0.4635 - val_accuracy: 0.8380\n",
      "Epoch 213/500\n",
      "712/712 [==============================] - 0s 141us/sample - loss: 0.4635 - accuracy: 0.8427 - val_loss: 0.4615 - val_accuracy: 0.8436\n",
      "Epoch 214/500\n",
      "712/712 [==============================] - 0s 144us/sample - loss: 0.4558 - accuracy: 0.8301 - val_loss: 0.4636 - val_accuracy: 0.8436\n",
      "Epoch 215/500\n",
      "712/712 [==============================] - 0s 142us/sample - loss: 0.4758 - accuracy: 0.8343 - val_loss: 0.4692 - val_accuracy: 0.8380\n",
      "Epoch 216/500\n",
      "712/712 [==============================] - 0s 141us/sample - loss: 0.4727 - accuracy: 0.8272 - val_loss: 0.4663 - val_accuracy: 0.8324\n",
      "Epoch 217/500\n",
      "712/712 [==============================] - 0s 152us/sample - loss: 0.4616 - accuracy: 0.8525 - val_loss: 0.4640 - val_accuracy: 0.8436\n",
      "Epoch 218/500\n",
      "712/712 [==============================] - 0s 149us/sample - loss: 0.4518 - accuracy: 0.8413 - val_loss: 0.4553 - val_accuracy: 0.8492\n",
      "Epoch 219/500\n",
      "712/712 [==============================] - 0s 141us/sample - loss: 0.4714 - accuracy: 0.8427 - val_loss: 0.4626 - val_accuracy: 0.8436\n",
      "Epoch 220/500\n",
      "712/712 [==============================] - 0s 152us/sample - loss: 0.4677 - accuracy: 0.8427 - val_loss: 0.4668 - val_accuracy: 0.8380\n",
      "Epoch 221/500\n",
      "712/712 [==============================] - 0s 137us/sample - loss: 0.4739 - accuracy: 0.8357 - val_loss: 0.4657 - val_accuracy: 0.8380\n",
      "Epoch 222/500\n",
      "712/712 [==============================] - 0s 138us/sample - loss: 0.4627 - accuracy: 0.8399 - val_loss: 0.4648 - val_accuracy: 0.8380\n",
      "Epoch 223/500\n",
      "712/712 [==============================] - 0s 164us/sample - loss: 0.4763 - accuracy: 0.8343 - val_loss: 0.4668 - val_accuracy: 0.8436\n",
      "Epoch 224/500\n",
      "712/712 [==============================] - 0s 147us/sample - loss: 0.4718 - accuracy: 0.8441 - val_loss: 0.4621 - val_accuracy: 0.8324\n",
      "Epoch 225/500\n",
      "712/712 [==============================] - 0s 141us/sample - loss: 0.4618 - accuracy: 0.8413 - val_loss: 0.4611 - val_accuracy: 0.8547\n",
      "Epoch 226/500\n",
      "712/712 [==============================] - 0s 145us/sample - loss: 0.4615 - accuracy: 0.8483 - val_loss: 0.4722 - val_accuracy: 0.8045\n",
      "Epoch 227/500\n",
      "712/712 [==============================] - 0s 140us/sample - loss: 0.4699 - accuracy: 0.8371 - val_loss: 0.4687 - val_accuracy: 0.8492\n",
      "Epoch 228/500\n",
      "712/712 [==============================] - 0s 137us/sample - loss: 0.4750 - accuracy: 0.8525 - val_loss: 0.4724 - val_accuracy: 0.8045\n",
      "Epoch 229/500\n",
      "712/712 [==============================] - 0s 140us/sample - loss: 0.4662 - accuracy: 0.8413 - val_loss: 0.4678 - val_accuracy: 0.8324\n",
      "Epoch 230/500\n",
      "712/712 [==============================] - 0s 141us/sample - loss: 0.4622 - accuracy: 0.8413 - val_loss: 0.4543 - val_accuracy: 0.8380\n",
      "Epoch 231/500\n",
      "712/712 [==============================] - 0s 137us/sample - loss: 0.4630 - accuracy: 0.8497 - val_loss: 0.4551 - val_accuracy: 0.8436\n",
      "Epoch 232/500\n",
      "712/712 [==============================] - 0s 135us/sample - loss: 0.4598 - accuracy: 0.8399 - val_loss: 0.4645 - val_accuracy: 0.8436\n",
      "Epoch 233/500\n",
      "712/712 [==============================] - 0s 138us/sample - loss: 0.4710 - accuracy: 0.8441 - val_loss: 0.4748 - val_accuracy: 0.8324\n",
      "Epoch 234/500\n",
      "712/712 [==============================] - 0s 144us/sample - loss: 0.4665 - accuracy: 0.8315 - val_loss: 0.4707 - val_accuracy: 0.8324\n",
      "Epoch 235/500\n",
      "712/712 [==============================] - 0s 140us/sample - loss: 0.4666 - accuracy: 0.8287 - val_loss: 0.4672 - val_accuracy: 0.8436\n",
      "Epoch 236/500\n",
      "712/712 [==============================] - 0s 141us/sample - loss: 0.4713 - accuracy: 0.8427 - val_loss: 0.4533 - val_accuracy: 0.8436\n",
      "Epoch 237/500\n",
      "712/712 [==============================] - 0s 139us/sample - loss: 0.4660 - accuracy: 0.8301 - val_loss: 0.4553 - val_accuracy: 0.8547\n",
      "Epoch 238/500\n",
      "712/712 [==============================] - 0s 137us/sample - loss: 0.4625 - accuracy: 0.8258 - val_loss: 0.4616 - val_accuracy: 0.8436\n",
      "Epoch 239/500\n",
      "712/712 [==============================] - 0s 138us/sample - loss: 0.4633 - accuracy: 0.8441 - val_loss: 0.4615 - val_accuracy: 0.8436\n",
      "Epoch 240/500\n",
      "712/712 [==============================] - 0s 142us/sample - loss: 0.4749 - accuracy: 0.8371 - val_loss: 0.4736 - val_accuracy: 0.8380\n",
      "Epoch 241/500\n",
      "712/712 [==============================] - 0s 138us/sample - loss: 0.4557 - accuracy: 0.8483 - val_loss: 0.4670 - val_accuracy: 0.8436\n",
      "Epoch 242/500\n",
      "712/712 [==============================] - 0s 141us/sample - loss: 0.4598 - accuracy: 0.8371 - val_loss: 0.4596 - val_accuracy: 0.8547\n",
      "Epoch 243/500\n",
      "712/712 [==============================] - 0s 154us/sample - loss: 0.4795 - accuracy: 0.8497 - val_loss: 0.4610 - val_accuracy: 0.8324\n",
      "Epoch 244/500\n",
      "712/712 [==============================] - 0s 166us/sample - loss: 0.4659 - accuracy: 0.8441 - val_loss: 0.4670 - val_accuracy: 0.8268\n",
      "Epoch 245/500\n",
      "712/712 [==============================] - 0s 141us/sample - loss: 0.4505 - accuracy: 0.8413 - val_loss: 0.4564 - val_accuracy: 0.8380\n",
      "Epoch 246/500\n",
      "712/712 [==============================] - 0s 136us/sample - loss: 0.4565 - accuracy: 0.8427 - val_loss: 0.4559 - val_accuracy: 0.8380\n",
      "Epoch 247/500\n",
      "712/712 [==============================] - 0s 147us/sample - loss: 0.4728 - accuracy: 0.8385 - val_loss: 0.4671 - val_accuracy: 0.8436\n",
      "Epoch 248/500\n",
      "712/712 [==============================] - 0s 145us/sample - loss: 0.4658 - accuracy: 0.8385 - val_loss: 0.4581 - val_accuracy: 0.8436\n",
      "Epoch 249/500\n",
      "712/712 [==============================] - 0s 147us/sample - loss: 0.4633 - accuracy: 0.8455 - val_loss: 0.4704 - val_accuracy: 0.8380\n",
      "Epoch 250/500\n",
      "712/712 [==============================] - 0s 168us/sample - loss: 0.4639 - accuracy: 0.8315 - val_loss: 0.4615 - val_accuracy: 0.8380\n",
      "Epoch 251/500\n",
      "712/712 [==============================] - 0s 149us/sample - loss: 0.4674 - accuracy: 0.8385 - val_loss: 0.4614 - val_accuracy: 0.8380\n",
      "Epoch 252/500\n",
      "712/712 [==============================] - 0s 148us/sample - loss: 0.4804 - accuracy: 0.8272 - val_loss: 0.4701 - val_accuracy: 0.8324\n",
      "Epoch 253/500\n",
      "712/712 [==============================] - 0s 142us/sample - loss: 0.4809 - accuracy: 0.8132 - val_loss: 0.4560 - val_accuracy: 0.8547\n",
      "Epoch 254/500\n",
      "712/712 [==============================] - 0s 152us/sample - loss: 0.4738 - accuracy: 0.8315 - val_loss: 0.4554 - val_accuracy: 0.8324\n",
      "Epoch 255/500\n",
      "712/712 [==============================] - 0s 138us/sample - loss: 0.4495 - accuracy: 0.8497 - val_loss: 0.4626 - val_accuracy: 0.8324\n",
      "Epoch 256/500\n",
      "712/712 [==============================] - 0s 141us/sample - loss: 0.4569 - accuracy: 0.8413 - val_loss: 0.4608 - val_accuracy: 0.8492\n",
      "Epoch 257/500\n",
      "712/712 [==============================] - 0s 149us/sample - loss: 0.4424 - accuracy: 0.8525 - val_loss: 0.4812 - val_accuracy: 0.8212\n",
      "Epoch 258/500\n",
      "712/712 [==============================] - 0s 149us/sample - loss: 0.4612 - accuracy: 0.8371 - val_loss: 0.4621 - val_accuracy: 0.8436\n",
      "Epoch 259/500\n",
      "712/712 [==============================] - 0s 152us/sample - loss: 0.4688 - accuracy: 0.8399 - val_loss: 0.4681 - val_accuracy: 0.8436\n",
      "Epoch 260/500\n",
      "712/712 [==============================] - 0s 146us/sample - loss: 0.4580 - accuracy: 0.8385 - val_loss: 0.4615 - val_accuracy: 0.8492\n",
      "Epoch 261/500\n",
      "712/712 [==============================] - 0s 147us/sample - loss: 0.4508 - accuracy: 0.8329 - val_loss: 0.4778 - val_accuracy: 0.8380\n",
      "Epoch 262/500\n",
      "712/712 [==============================] - 0s 146us/sample - loss: 0.4559 - accuracy: 0.8357 - val_loss: 0.4542 - val_accuracy: 0.8380\n",
      "Epoch 263/500\n",
      "712/712 [==============================] - 0s 147us/sample - loss: 0.4581 - accuracy: 0.8385 - val_loss: 0.4669 - val_accuracy: 0.8380\n",
      "Epoch 264/500\n",
      "712/712 [==============================] - 0s 150us/sample - loss: 0.4583 - accuracy: 0.8357 - val_loss: 0.4534 - val_accuracy: 0.8492\n",
      "Epoch 265/500\n",
      "712/712 [==============================] - 0s 149us/sample - loss: 0.4627 - accuracy: 0.8455 - val_loss: 0.4657 - val_accuracy: 0.8380\n",
      "Epoch 266/500\n",
      "712/712 [==============================] - 0s 148us/sample - loss: 0.4692 - accuracy: 0.8427 - val_loss: 0.4588 - val_accuracy: 0.8436\n",
      "Epoch 267/500\n",
      "712/712 [==============================] - 0s 148us/sample - loss: 0.4521 - accuracy: 0.8371 - val_loss: 0.4602 - val_accuracy: 0.8324\n",
      "Epoch 268/500\n",
      "712/712 [==============================] - 0s 144us/sample - loss: 0.4669 - accuracy: 0.8371 - val_loss: 0.4607 - val_accuracy: 0.8492\n",
      "Epoch 269/500\n",
      "712/712 [==============================] - 0s 144us/sample - loss: 0.4566 - accuracy: 0.8525 - val_loss: 0.4593 - val_accuracy: 0.8380\n",
      "Epoch 270/500\n",
      "712/712 [==============================] - 0s 137us/sample - loss: 0.4494 - accuracy: 0.8483 - val_loss: 0.4679 - val_accuracy: 0.8380\n",
      "Epoch 271/500\n",
      "712/712 [==============================] - 0s 139us/sample - loss: 0.4610 - accuracy: 0.8553 - val_loss: 0.4693 - val_accuracy: 0.8380\n",
      "Epoch 272/500\n",
      "712/712 [==============================] - 0s 147us/sample - loss: 0.4477 - accuracy: 0.8483 - val_loss: 0.4633 - val_accuracy: 0.8324\n",
      "Epoch 273/500\n",
      "712/712 [==============================] - 0s 148us/sample - loss: 0.4645 - accuracy: 0.8329 - val_loss: 0.4686 - val_accuracy: 0.8268\n",
      "Epoch 274/500\n",
      "712/712 [==============================] - 0s 146us/sample - loss: 0.4540 - accuracy: 0.8596 - val_loss: 0.4572 - val_accuracy: 0.8436\n",
      "Epoch 275/500\n",
      "712/712 [==============================] - 0s 139us/sample - loss: 0.4646 - accuracy: 0.8427 - val_loss: 0.4582 - val_accuracy: 0.8380\n",
      "Epoch 276/500\n",
      "712/712 [==============================] - 0s 144us/sample - loss: 0.4524 - accuracy: 0.8427 - val_loss: 0.4658 - val_accuracy: 0.8380\n",
      "Epoch 277/500\n",
      "712/712 [==============================] - 0s 149us/sample - loss: 0.4632 - accuracy: 0.8385 - val_loss: 0.4637 - val_accuracy: 0.8324\n",
      "Epoch 278/500\n",
      "712/712 [==============================] - 0s 151us/sample - loss: 0.4514 - accuracy: 0.8413 - val_loss: 0.4683 - val_accuracy: 0.8324\n",
      "Epoch 279/500\n",
      "712/712 [==============================] - 0s 149us/sample - loss: 0.4552 - accuracy: 0.8385 - val_loss: 0.4654 - val_accuracy: 0.8324\n",
      "Epoch 280/500\n",
      "712/712 [==============================] - 0s 151us/sample - loss: 0.4742 - accuracy: 0.8244 - val_loss: 0.4613 - val_accuracy: 0.8492\n",
      "Epoch 281/500\n",
      "712/712 [==============================] - 0s 152us/sample - loss: 0.4703 - accuracy: 0.8315 - val_loss: 0.4579 - val_accuracy: 0.8436\n",
      "Epoch 282/500\n",
      "712/712 [==============================] - 0s 146us/sample - loss: 0.4685 - accuracy: 0.8469 - val_loss: 0.4605 - val_accuracy: 0.8436\n",
      "Epoch 283/500\n",
      "712/712 [==============================] - 0s 146us/sample - loss: 0.4709 - accuracy: 0.8427 - val_loss: 0.4556 - val_accuracy: 0.8380\n",
      "Epoch 284/500\n",
      "712/712 [==============================] - 0s 148us/sample - loss: 0.4568 - accuracy: 0.8455 - val_loss: 0.4680 - val_accuracy: 0.8212\n",
      "Epoch 285/500\n",
      "712/712 [==============================] - 0s 146us/sample - loss: 0.4847 - accuracy: 0.8371 - val_loss: 0.4601 - val_accuracy: 0.8212\n",
      "Epoch 286/500\n",
      "712/712 [==============================] - 0s 161us/sample - loss: 0.4545 - accuracy: 0.8399 - val_loss: 0.4629 - val_accuracy: 0.8324\n",
      "Epoch 287/500\n",
      "712/712 [==============================] - 0s 143us/sample - loss: 0.4639 - accuracy: 0.8441 - val_loss: 0.4606 - val_accuracy: 0.8492\n",
      "Epoch 288/500\n",
      "712/712 [==============================] - 0s 179us/sample - loss: 0.4547 - accuracy: 0.8371 - val_loss: 0.4725 - val_accuracy: 0.8547\n",
      "Epoch 289/500\n",
      "712/712 [==============================] - 0s 146us/sample - loss: 0.4595 - accuracy: 0.8413 - val_loss: 0.4790 - val_accuracy: 0.8380\n",
      "Epoch 290/500\n",
      "712/712 [==============================] - 0s 165us/sample - loss: 0.4504 - accuracy: 0.8371 - val_loss: 0.4561 - val_accuracy: 0.8436\n",
      "Epoch 291/500\n",
      "712/712 [==============================] - 0s 151us/sample - loss: 0.4607 - accuracy: 0.8427 - val_loss: 0.4665 - val_accuracy: 0.7989\n",
      "Epoch 292/500\n",
      "712/712 [==============================] - 0s 162us/sample - loss: 0.4700 - accuracy: 0.8399 - val_loss: 0.4607 - val_accuracy: 0.8380\n",
      "Epoch 293/500\n",
      "712/712 [==============================] - 0s 195us/sample - loss: 0.4506 - accuracy: 0.8427 - val_loss: 0.4645 - val_accuracy: 0.8380\n",
      "Epoch 294/500\n",
      "712/712 [==============================] - 0s 135us/sample - loss: 0.4666 - accuracy: 0.8539 - val_loss: 0.4657 - val_accuracy: 0.8324\n",
      "Epoch 295/500\n",
      "712/712 [==============================] - 0s 147us/sample - loss: 0.4630 - accuracy: 0.8525 - val_loss: 0.4618 - val_accuracy: 0.8324\n",
      "Epoch 296/500\n",
      "712/712 [==============================] - 0s 159us/sample - loss: 0.4519 - accuracy: 0.8469 - val_loss: 0.4686 - val_accuracy: 0.8380\n",
      "Epoch 297/500\n",
      "712/712 [==============================] - 0s 214us/sample - loss: 0.4598 - accuracy: 0.8371 - val_loss: 0.4638 - val_accuracy: 0.8324\n",
      "Epoch 298/500\n",
      "712/712 [==============================] - 0s 211us/sample - loss: 0.4545 - accuracy: 0.8441 - val_loss: 0.4625 - val_accuracy: 0.8436\n",
      "Epoch 299/500\n",
      "712/712 [==============================] - 0s 221us/sample - loss: 0.4595 - accuracy: 0.8413 - val_loss: 0.4650 - val_accuracy: 0.8380\n",
      "Epoch 300/500\n",
      "712/712 [==============================] - 0s 169us/sample - loss: 0.4520 - accuracy: 0.8469 - val_loss: 0.4755 - val_accuracy: 0.8380\n",
      "Epoch 301/500\n",
      "712/712 [==============================] - 0s 142us/sample - loss: 0.4564 - accuracy: 0.8399 - val_loss: 0.4550 - val_accuracy: 0.8380\n",
      "Epoch 302/500\n",
      "712/712 [==============================] - 0s 143us/sample - loss: 0.4519 - accuracy: 0.8511 - val_loss: 0.4716 - val_accuracy: 0.8380\n",
      "Epoch 303/500\n",
      "712/712 [==============================] - 0s 152us/sample - loss: 0.4542 - accuracy: 0.8567 - val_loss: 0.4553 - val_accuracy: 0.8436\n",
      "Epoch 304/500\n",
      "712/712 [==============================] - 0s 161us/sample - loss: 0.4619 - accuracy: 0.8455 - val_loss: 0.4651 - val_accuracy: 0.8436\n",
      "Epoch 305/500\n",
      "712/712 [==============================] - 0s 143us/sample - loss: 0.4639 - accuracy: 0.8525 - val_loss: 0.4567 - val_accuracy: 0.8324\n",
      "Epoch 306/500\n",
      "712/712 [==============================] - 0s 141us/sample - loss: 0.4660 - accuracy: 0.8315 - val_loss: 0.4611 - val_accuracy: 0.8436\n",
      "Epoch 307/500\n",
      "712/712 [==============================] - 0s 140us/sample - loss: 0.4635 - accuracy: 0.8469 - val_loss: 0.4796 - val_accuracy: 0.8324\n",
      "Epoch 308/500\n",
      "712/712 [==============================] - 0s 137us/sample - loss: 0.4577 - accuracy: 0.8483 - val_loss: 0.4644 - val_accuracy: 0.8492\n",
      "Epoch 309/500\n",
      "712/712 [==============================] - 0s 134us/sample - loss: 0.4486 - accuracy: 0.8343 - val_loss: 0.4548 - val_accuracy: 0.8436\n",
      "Epoch 310/500\n",
      "712/712 [==============================] - 0s 140us/sample - loss: 0.4693 - accuracy: 0.8371 - val_loss: 0.4672 - val_accuracy: 0.8045\n",
      "Epoch 311/500\n",
      "712/712 [==============================] - 0s 140us/sample - loss: 0.4577 - accuracy: 0.8399 - val_loss: 0.4542 - val_accuracy: 0.8380\n",
      "Epoch 312/500\n",
      "712/712 [==============================] - 0s 143us/sample - loss: 0.4637 - accuracy: 0.8455 - val_loss: 0.4624 - val_accuracy: 0.8380\n",
      "Epoch 313/500\n",
      "712/712 [==============================] - 0s 140us/sample - loss: 0.4744 - accuracy: 0.8343 - val_loss: 0.4663 - val_accuracy: 0.8436\n",
      "Epoch 314/500\n",
      "712/712 [==============================] - 0s 189us/sample - loss: 0.4541 - accuracy: 0.8483 - val_loss: 0.4633 - val_accuracy: 0.8380\n",
      "Epoch 315/500\n",
      "712/712 [==============================] - 0s 143us/sample - loss: 0.4651 - accuracy: 0.8427 - val_loss: 0.4654 - val_accuracy: 0.8380\n",
      "Epoch 316/500\n",
      "712/712 [==============================] - 0s 143us/sample - loss: 0.4726 - accuracy: 0.8399 - val_loss: 0.4580 - val_accuracy: 0.8492\n",
      "Epoch 317/500\n",
      "712/712 [==============================] - 0s 198us/sample - loss: 0.4485 - accuracy: 0.8441 - val_loss: 0.4663 - val_accuracy: 0.8324\n",
      "Epoch 318/500\n",
      "712/712 [==============================] - 0s 152us/sample - loss: 0.4733 - accuracy: 0.8385 - val_loss: 0.4561 - val_accuracy: 0.8436\n",
      "Epoch 319/500\n",
      "712/712 [==============================] - 0s 139us/sample - loss: 0.4623 - accuracy: 0.8371 - val_loss: 0.4732 - val_accuracy: 0.8101\n",
      "Epoch 320/500\n",
      "712/712 [==============================] - 0s 186us/sample - loss: 0.4512 - accuracy: 0.8497 - val_loss: 0.4583 - val_accuracy: 0.8380\n",
      "Epoch 321/500\n",
      "712/712 [==============================] - 0s 219us/sample - loss: 0.4527 - accuracy: 0.8413 - val_loss: 0.4623 - val_accuracy: 0.8436\n",
      "Epoch 322/500\n",
      "712/712 [==============================] - 0s 143us/sample - loss: 0.4623 - accuracy: 0.8371 - val_loss: 0.4642 - val_accuracy: 0.8380\n",
      "Epoch 323/500\n",
      "712/712 [==============================] - 0s 140us/sample - loss: 0.4560 - accuracy: 0.8441 - val_loss: 0.4633 - val_accuracy: 0.8436\n",
      "Epoch 324/500\n",
      "712/712 [==============================] - 0s 142us/sample - loss: 0.4700 - accuracy: 0.8413 - val_loss: 0.4583 - val_accuracy: 0.8380\n",
      "Epoch 325/500\n",
      "712/712 [==============================] - 0s 140us/sample - loss: 0.4596 - accuracy: 0.8413 - val_loss: 0.4670 - val_accuracy: 0.8268\n",
      "Epoch 326/500\n",
      "712/712 [==============================] - 0s 145us/sample - loss: 0.4495 - accuracy: 0.8441 - val_loss: 0.4591 - val_accuracy: 0.8380\n",
      "Epoch 327/500\n",
      "712/712 [==============================] - 0s 145us/sample - loss: 0.4533 - accuracy: 0.8483 - val_loss: 0.4563 - val_accuracy: 0.8492\n",
      "Epoch 328/500\n",
      "712/712 [==============================] - 0s 137us/sample - loss: 0.4574 - accuracy: 0.8343 - val_loss: 0.4595 - val_accuracy: 0.8436\n",
      "Epoch 329/500\n",
      "712/712 [==============================] - 0s 141us/sample - loss: 0.4750 - accuracy: 0.8371 - val_loss: 0.4521 - val_accuracy: 0.8436\n",
      "Epoch 330/500\n",
      "712/712 [==============================] - 0s 142us/sample - loss: 0.4406 - accuracy: 0.8511 - val_loss: 0.4541 - val_accuracy: 0.8436\n",
      "Epoch 331/500\n",
      "712/712 [==============================] - 0s 138us/sample - loss: 0.4592 - accuracy: 0.8385 - val_loss: 0.4678 - val_accuracy: 0.8156\n",
      "Epoch 332/500\n",
      "712/712 [==============================] - 0s 145us/sample - loss: 0.4604 - accuracy: 0.8399 - val_loss: 0.4575 - val_accuracy: 0.8324\n",
      "Epoch 333/500\n",
      "712/712 [==============================] - 0s 143us/sample - loss: 0.4738 - accuracy: 0.8329 - val_loss: 0.4529 - val_accuracy: 0.8324\n",
      "Epoch 334/500\n",
      "712/712 [==============================] - 0s 140us/sample - loss: 0.4468 - accuracy: 0.8469 - val_loss: 0.4571 - val_accuracy: 0.8436\n",
      "Epoch 335/500\n",
      "712/712 [==============================] - 0s 139us/sample - loss: 0.4534 - accuracy: 0.8399 - val_loss: 0.4631 - val_accuracy: 0.8492\n",
      "Epoch 336/500\n",
      "712/712 [==============================] - 0s 139us/sample - loss: 0.4666 - accuracy: 0.8427 - val_loss: 0.4624 - val_accuracy: 0.8436\n",
      "Epoch 337/500\n",
      "712/712 [==============================] - 0s 141us/sample - loss: 0.4717 - accuracy: 0.8357 - val_loss: 0.4661 - val_accuracy: 0.8380\n",
      "Epoch 338/500\n",
      "712/712 [==============================] - 0s 132us/sample - loss: 0.4580 - accuracy: 0.8357 - val_loss: 0.4642 - val_accuracy: 0.8436\n",
      "Epoch 339/500\n",
      "712/712 [==============================] - 0s 136us/sample - loss: 0.4464 - accuracy: 0.8399 - val_loss: 0.4549 - val_accuracy: 0.8436\n",
      "Epoch 340/500\n",
      "712/712 [==============================] - 0s 143us/sample - loss: 0.4663 - accuracy: 0.8371 - val_loss: 0.4554 - val_accuracy: 0.8436\n",
      "Epoch 341/500\n",
      "712/712 [==============================] - 0s 140us/sample - loss: 0.4515 - accuracy: 0.8539 - val_loss: 0.4731 - val_accuracy: 0.8101\n",
      "Epoch 342/500\n",
      "712/712 [==============================] - 0s 141us/sample - loss: 0.4669 - accuracy: 0.8413 - val_loss: 0.4641 - val_accuracy: 0.8380\n",
      "Epoch 343/500\n",
      "712/712 [==============================] - 0s 137us/sample - loss: 0.4567 - accuracy: 0.8483 - val_loss: 0.4608 - val_accuracy: 0.8324\n",
      "Epoch 344/500\n",
      "712/712 [==============================] - 0s 139us/sample - loss: 0.4519 - accuracy: 0.8581 - val_loss: 0.4734 - val_accuracy: 0.8380\n",
      "Epoch 345/500\n",
      "712/712 [==============================] - 0s 140us/sample - loss: 0.4540 - accuracy: 0.8511 - val_loss: 0.4485 - val_accuracy: 0.8492\n",
      "Epoch 346/500\n",
      "712/712 [==============================] - 0s 151us/sample - loss: 0.4606 - accuracy: 0.8427 - val_loss: 0.4734 - val_accuracy: 0.8436\n",
      "Epoch 347/500\n",
      "712/712 [==============================] - 0s 138us/sample - loss: 0.4453 - accuracy: 0.8511 - val_loss: 0.4635 - val_accuracy: 0.8324\n",
      "Epoch 348/500\n",
      "712/712 [==============================] - 0s 139us/sample - loss: 0.4708 - accuracy: 0.8357 - val_loss: 0.4561 - val_accuracy: 0.8492\n",
      "Epoch 349/500\n",
      "712/712 [==============================] - 0s 146us/sample - loss: 0.4576 - accuracy: 0.8315 - val_loss: 0.4713 - val_accuracy: 0.8380\n",
      "Epoch 350/500\n",
      "712/712 [==============================] - 0s 139us/sample - loss: 0.4701 - accuracy: 0.8427 - val_loss: 0.4483 - val_accuracy: 0.8380\n",
      "Epoch 351/500\n",
      "712/712 [==============================] - 0s 140us/sample - loss: 0.4545 - accuracy: 0.8385 - val_loss: 0.4576 - val_accuracy: 0.8380\n",
      "Epoch 352/500\n",
      "712/712 [==============================] - 0s 151us/sample - loss: 0.4615 - accuracy: 0.8301 - val_loss: 0.4613 - val_accuracy: 0.8324\n",
      "Epoch 353/500\n",
      "712/712 [==============================] - 0s 139us/sample - loss: 0.4679 - accuracy: 0.8272 - val_loss: 0.4543 - val_accuracy: 0.8380\n",
      "Epoch 354/500\n",
      "712/712 [==============================] - 0s 138us/sample - loss: 0.4478 - accuracy: 0.8371 - val_loss: 0.4578 - val_accuracy: 0.8380\n",
      "Epoch 355/500\n",
      "712/712 [==============================] - 0s 140us/sample - loss: 0.4668 - accuracy: 0.8399 - val_loss: 0.4769 - val_accuracy: 0.8380\n",
      "Epoch 356/500\n",
      "712/712 [==============================] - 0s 141us/sample - loss: 0.4477 - accuracy: 0.8329 - val_loss: 0.4557 - val_accuracy: 0.8380\n",
      "Epoch 357/500\n",
      "712/712 [==============================] - 0s 134us/sample - loss: 0.4475 - accuracy: 0.8553 - val_loss: 0.4525 - val_accuracy: 0.8380\n",
      "Epoch 358/500\n",
      "712/712 [==============================] - 0s 134us/sample - loss: 0.4662 - accuracy: 0.8413 - val_loss: 0.5067 - val_accuracy: 0.7933\n",
      "Epoch 359/500\n",
      "712/712 [==============================] - 0s 134us/sample - loss: 0.4558 - accuracy: 0.8230 - val_loss: 0.4631 - val_accuracy: 0.8380\n",
      "Epoch 360/500\n",
      "712/712 [==============================] - 0s 133us/sample - loss: 0.4551 - accuracy: 0.8413 - val_loss: 0.4547 - val_accuracy: 0.8380\n",
      "Epoch 361/500\n",
      "712/712 [==============================] - 0s 134us/sample - loss: 0.4662 - accuracy: 0.8385 - val_loss: 0.4562 - val_accuracy: 0.8436\n",
      "Epoch 362/500\n",
      "712/712 [==============================] - 0s 141us/sample - loss: 0.4698 - accuracy: 0.8385 - val_loss: 0.4614 - val_accuracy: 0.8380\n",
      "Epoch 363/500\n",
      "712/712 [==============================] - 0s 140us/sample - loss: 0.4645 - accuracy: 0.8315 - val_loss: 0.4596 - val_accuracy: 0.8380\n",
      "Epoch 364/500\n",
      "712/712 [==============================] - 0s 137us/sample - loss: 0.4494 - accuracy: 0.8427 - val_loss: 0.4715 - val_accuracy: 0.8324\n",
      "Epoch 365/500\n",
      "712/712 [==============================] - 0s 137us/sample - loss: 0.4455 - accuracy: 0.8455 - val_loss: 0.4814 - val_accuracy: 0.8324\n",
      "Epoch 366/500\n",
      "712/712 [==============================] - 0s 135us/sample - loss: 0.4554 - accuracy: 0.8483 - val_loss: 0.4679 - val_accuracy: 0.8324\n",
      "Epoch 367/500\n",
      "712/712 [==============================] - 0s 140us/sample - loss: 0.4382 - accuracy: 0.8441 - val_loss: 0.4673 - val_accuracy: 0.8324\n",
      "Epoch 368/500\n",
      "712/712 [==============================] - 0s 138us/sample - loss: 0.4623 - accuracy: 0.8413 - val_loss: 0.4708 - val_accuracy: 0.8380\n",
      "Epoch 369/500\n",
      "712/712 [==============================] - 0s 138us/sample - loss: 0.4527 - accuracy: 0.8399 - val_loss: 0.4648 - val_accuracy: 0.8212\n",
      "Epoch 370/500\n",
      "712/712 [==============================] - 0s 153us/sample - loss: 0.4503 - accuracy: 0.8497 - val_loss: 0.4651 - val_accuracy: 0.8492\n",
      "Epoch 371/500\n",
      "712/712 [==============================] - 0s 137us/sample - loss: 0.4728 - accuracy: 0.8343 - val_loss: 0.4854 - val_accuracy: 0.8156\n",
      "Epoch 372/500\n",
      "712/712 [==============================] - 0s 148us/sample - loss: 0.4695 - accuracy: 0.8343 - val_loss: 0.4591 - val_accuracy: 0.8380\n",
      "Epoch 373/500\n",
      "712/712 [==============================] - 0s 131us/sample - loss: 0.4445 - accuracy: 0.8329 - val_loss: 0.4571 - val_accuracy: 0.8492\n",
      "Epoch 374/500\n",
      "712/712 [==============================] - 0s 130us/sample - loss: 0.4547 - accuracy: 0.8469 - val_loss: 0.4525 - val_accuracy: 0.8380\n",
      "Epoch 375/500\n",
      "712/712 [==============================] - 0s 133us/sample - loss: 0.4611 - accuracy: 0.8427 - val_loss: 0.4699 - val_accuracy: 0.8380\n",
      "Epoch 376/500\n",
      "712/712 [==============================] - 0s 136us/sample - loss: 0.4490 - accuracy: 0.8455 - val_loss: 0.4679 - val_accuracy: 0.8492\n",
      "Epoch 377/500\n",
      "712/712 [==============================] - 0s 140us/sample - loss: 0.4730 - accuracy: 0.8301 - val_loss: 0.4577 - val_accuracy: 0.8212\n",
      "Epoch 378/500\n",
      "712/712 [==============================] - 0s 141us/sample - loss: 0.4637 - accuracy: 0.8455 - val_loss: 0.4549 - val_accuracy: 0.8156\n",
      "Epoch 379/500\n",
      "712/712 [==============================] - 0s 142us/sample - loss: 0.4553 - accuracy: 0.8567 - val_loss: 0.4543 - val_accuracy: 0.8380\n",
      "Epoch 380/500\n",
      "712/712 [==============================] - 0s 138us/sample - loss: 0.4550 - accuracy: 0.8483 - val_loss: 0.4789 - val_accuracy: 0.8101\n",
      "Epoch 381/500\n",
      "712/712 [==============================] - 0s 136us/sample - loss: 0.4583 - accuracy: 0.8413 - val_loss: 0.4818 - val_accuracy: 0.7989\n",
      "Epoch 382/500\n",
      "712/712 [==============================] - 0s 335us/sample - loss: 0.4589 - accuracy: 0.8315 - val_loss: 0.4759 - val_accuracy: 0.8380\n",
      "Epoch 383/500\n",
      "712/712 [==============================] - 0s 242us/sample - loss: 0.4713 - accuracy: 0.8343 - val_loss: 0.4574 - val_accuracy: 0.8380\n",
      "Epoch 384/500\n",
      "712/712 [==============================] - 0s 220us/sample - loss: 0.4648 - accuracy: 0.8441 - val_loss: 0.4589 - val_accuracy: 0.8380\n",
      "Epoch 385/500\n",
      "712/712 [==============================] - 0s 219us/sample - loss: 0.4538 - accuracy: 0.8371 - val_loss: 0.4616 - val_accuracy: 0.8380\n",
      "Epoch 386/500\n",
      "712/712 [==============================] - 0s 166us/sample - loss: 0.4337 - accuracy: 0.8483 - val_loss: 0.4725 - val_accuracy: 0.8380\n",
      "Epoch 387/500\n",
      "712/712 [==============================] - 0s 135us/sample - loss: 0.4391 - accuracy: 0.8399 - val_loss: 0.4596 - val_accuracy: 0.8436\n",
      "Epoch 388/500\n",
      "712/712 [==============================] - 0s 134us/sample - loss: 0.4401 - accuracy: 0.8539 - val_loss: 0.4667 - val_accuracy: 0.8380\n",
      "Epoch 389/500\n",
      "712/712 [==============================] - 0s 169us/sample - loss: 0.4446 - accuracy: 0.8441 - val_loss: 0.4620 - val_accuracy: 0.8324\n",
      "Epoch 390/500\n",
      "712/712 [==============================] - 0s 141us/sample - loss: 0.4533 - accuracy: 0.8399 - val_loss: 0.4665 - val_accuracy: 0.8324\n",
      "Epoch 391/500\n",
      "712/712 [==============================] - 0s 207us/sample - loss: 0.4591 - accuracy: 0.8371 - val_loss: 0.4591 - val_accuracy: 0.8380\n",
      "Epoch 392/500\n",
      "712/712 [==============================] - 0s 149us/sample - loss: 0.4567 - accuracy: 0.8427 - val_loss: 0.4648 - val_accuracy: 0.8324\n",
      "Epoch 393/500\n",
      "712/712 [==============================] - 0s 140us/sample - loss: 0.4746 - accuracy: 0.8216 - val_loss: 0.4577 - val_accuracy: 0.8436\n",
      "Epoch 394/500\n",
      "712/712 [==============================] - 0s 196us/sample - loss: 0.4422 - accuracy: 0.8511 - val_loss: 0.4666 - val_accuracy: 0.8324\n",
      "Epoch 395/500\n",
      "712/712 [==============================] - 0s 144us/sample - loss: 0.4586 - accuracy: 0.8483 - val_loss: 0.4589 - val_accuracy: 0.8268\n",
      "Epoch 396/500\n",
      "712/712 [==============================] - 0s 134us/sample - loss: 0.4582 - accuracy: 0.8469 - val_loss: 0.4642 - val_accuracy: 0.8436\n",
      "Epoch 397/500\n",
      "712/712 [==============================] - 0s 136us/sample - loss: 0.4478 - accuracy: 0.8539 - val_loss: 0.4572 - val_accuracy: 0.8436\n",
      "Epoch 398/500\n",
      "712/712 [==============================] - 0s 236us/sample - loss: 0.4508 - accuracy: 0.8525 - val_loss: 0.4502 - val_accuracy: 0.8492\n",
      "Epoch 399/500\n",
      "712/712 [==============================] - 0s 222us/sample - loss: 0.4531 - accuracy: 0.8385 - val_loss: 0.4742 - val_accuracy: 0.8268\n",
      "Epoch 400/500\n",
      "712/712 [==============================] - 0s 214us/sample - loss: 0.4662 - accuracy: 0.8399 - val_loss: 0.4718 - val_accuracy: 0.8492\n",
      "Epoch 401/500\n",
      "712/712 [==============================] - 0s 154us/sample - loss: 0.4573 - accuracy: 0.8329 - val_loss: 0.4691 - val_accuracy: 0.8324\n",
      "Epoch 402/500\n",
      "712/712 [==============================] - 0s 138us/sample - loss: 0.4393 - accuracy: 0.8427 - val_loss: 0.4623 - val_accuracy: 0.8492\n",
      "Epoch 403/500\n",
      "712/712 [==============================] - 0s 145us/sample - loss: 0.4654 - accuracy: 0.8469 - val_loss: 0.4631 - val_accuracy: 0.8436\n",
      "Epoch 404/500\n",
      "712/712 [==============================] - 0s 139us/sample - loss: 0.4611 - accuracy: 0.8385 - val_loss: 0.4663 - val_accuracy: 0.8380\n",
      "Epoch 405/500\n",
      "712/712 [==============================] - 0s 160us/sample - loss: 0.4646 - accuracy: 0.8301 - val_loss: 0.4500 - val_accuracy: 0.8380\n",
      "Epoch 406/500\n",
      "712/712 [==============================] - 0s 140us/sample - loss: 0.4501 - accuracy: 0.8511 - val_loss: 0.4690 - val_accuracy: 0.8045\n",
      "Epoch 407/500\n",
      "712/712 [==============================] - 0s 142us/sample - loss: 0.4599 - accuracy: 0.8399 - val_loss: 0.4832 - val_accuracy: 0.8492\n",
      "Epoch 408/500\n",
      "712/712 [==============================] - 0s 171us/sample - loss: 0.4491 - accuracy: 0.8371 - val_loss: 0.4554 - val_accuracy: 0.8436\n",
      "Epoch 409/500\n",
      "712/712 [==============================] - 0s 155us/sample - loss: 0.4473 - accuracy: 0.8385 - val_loss: 0.4526 - val_accuracy: 0.8436\n",
      "Epoch 410/500\n",
      "712/712 [==============================] - 0s 142us/sample - loss: 0.4612 - accuracy: 0.8371 - val_loss: 0.4610 - val_accuracy: 0.8436\n",
      "Epoch 411/500\n",
      "712/712 [==============================] - 0s 140us/sample - loss: 0.4555 - accuracy: 0.8385 - val_loss: 0.4517 - val_accuracy: 0.8492\n",
      "Epoch 412/500\n",
      "712/712 [==============================] - 0s 141us/sample - loss: 0.4628 - accuracy: 0.8483 - val_loss: 0.4485 - val_accuracy: 0.8380\n",
      "Epoch 413/500\n",
      "712/712 [==============================] - 0s 137us/sample - loss: 0.4650 - accuracy: 0.8385 - val_loss: 0.4659 - val_accuracy: 0.8492\n",
      "Epoch 414/500\n",
      "712/712 [==============================] - 0s 138us/sample - loss: 0.4433 - accuracy: 0.8539 - val_loss: 0.4813 - val_accuracy: 0.8268\n",
      "Epoch 415/500\n",
      "712/712 [==============================] - 0s 154us/sample - loss: 0.4665 - accuracy: 0.8301 - val_loss: 0.4592 - val_accuracy: 0.8492\n",
      "Epoch 416/500\n",
      "712/712 [==============================] - 0s 156us/sample - loss: 0.4468 - accuracy: 0.8427 - val_loss: 0.4668 - val_accuracy: 0.8380\n",
      "Epoch 417/500\n",
      "712/712 [==============================] - 0s 148us/sample - loss: 0.4579 - accuracy: 0.8483 - val_loss: 0.4689 - val_accuracy: 0.8212\n",
      "Epoch 418/500\n",
      "712/712 [==============================] - 0s 143us/sample - loss: 0.4608 - accuracy: 0.8287 - val_loss: 0.4636 - val_accuracy: 0.8268\n",
      "Epoch 419/500\n",
      "712/712 [==============================] - 0s 159us/sample - loss: 0.4686 - accuracy: 0.8329 - val_loss: 0.4595 - val_accuracy: 0.8547\n",
      "Epoch 420/500\n",
      "712/712 [==============================] - 0s 142us/sample - loss: 0.4491 - accuracy: 0.8441 - val_loss: 0.4602 - val_accuracy: 0.8324\n",
      "Epoch 421/500\n",
      "712/712 [==============================] - 0s 141us/sample - loss: 0.4556 - accuracy: 0.8301 - val_loss: 0.4597 - val_accuracy: 0.8492\n",
      "Epoch 422/500\n",
      "712/712 [==============================] - 0s 135us/sample - loss: 0.4601 - accuracy: 0.8469 - val_loss: 0.4788 - val_accuracy: 0.8268\n",
      "Epoch 423/500\n",
      "712/712 [==============================] - 0s 135us/sample - loss: 0.4467 - accuracy: 0.8553 - val_loss: 0.4827 - val_accuracy: 0.8268\n",
      "Epoch 424/500\n",
      "712/712 [==============================] - 0s 137us/sample - loss: 0.4541 - accuracy: 0.8511 - val_loss: 0.4492 - val_accuracy: 0.8436\n",
      "Epoch 425/500\n",
      "712/712 [==============================] - 0s 144us/sample - loss: 0.4515 - accuracy: 0.8441 - val_loss: 0.4462 - val_accuracy: 0.8380\n",
      "Epoch 426/500\n",
      "712/712 [==============================] - 0s 142us/sample - loss: 0.4493 - accuracy: 0.8525 - val_loss: 0.4725 - val_accuracy: 0.8324\n",
      "Epoch 427/500\n",
      "712/712 [==============================] - 0s 183us/sample - loss: 0.4604 - accuracy: 0.8258 - val_loss: 0.4609 - val_accuracy: 0.8380\n",
      "Epoch 428/500\n",
      "712/712 [==============================] - 0s 138us/sample - loss: 0.4502 - accuracy: 0.8469 - val_loss: 0.4547 - val_accuracy: 0.8380\n",
      "Epoch 429/500\n",
      "712/712 [==============================] - 0s 151us/sample - loss: 0.4683 - accuracy: 0.8357 - val_loss: 0.4466 - val_accuracy: 0.8436\n",
      "Epoch 430/500\n",
      "712/712 [==============================] - 0s 144us/sample - loss: 0.4432 - accuracy: 0.8399 - val_loss: 0.4701 - val_accuracy: 0.8380\n",
      "Epoch 431/500\n",
      "712/712 [==============================] - 0s 144us/sample - loss: 0.4442 - accuracy: 0.8483 - val_loss: 0.4618 - val_accuracy: 0.8380\n",
      "Epoch 432/500\n",
      "712/712 [==============================] - 0s 139us/sample - loss: 0.4433 - accuracy: 0.8413 - val_loss: 0.4586 - val_accuracy: 0.8436\n",
      "Epoch 433/500\n",
      "712/712 [==============================] - 0s 141us/sample - loss: 0.4561 - accuracy: 0.8272 - val_loss: 0.4605 - val_accuracy: 0.8380\n",
      "Epoch 434/500\n",
      "712/712 [==============================] - 0s 144us/sample - loss: 0.4470 - accuracy: 0.8399 - val_loss: 0.4543 - val_accuracy: 0.8380\n",
      "Epoch 435/500\n",
      "712/712 [==============================] - 0s 141us/sample - loss: 0.4447 - accuracy: 0.8413 - val_loss: 0.4514 - val_accuracy: 0.8436\n",
      "Epoch 436/500\n",
      "712/712 [==============================] - 0s 142us/sample - loss: 0.4642 - accuracy: 0.8329 - val_loss: 0.4586 - val_accuracy: 0.8436\n",
      "Epoch 437/500\n",
      "712/712 [==============================] - 0s 148us/sample - loss: 0.4635 - accuracy: 0.8427 - val_loss: 0.4654 - val_accuracy: 0.8547\n",
      "Epoch 438/500\n",
      "712/712 [==============================] - 0s 138us/sample - loss: 0.4634 - accuracy: 0.8343 - val_loss: 0.4590 - val_accuracy: 0.8380\n",
      "Epoch 439/500\n",
      "712/712 [==============================] - 0s 224us/sample - loss: 0.4532 - accuracy: 0.8357 - val_loss: 0.4576 - val_accuracy: 0.8324\n",
      "Epoch 440/500\n",
      "712/712 [==============================] - 0s 222us/sample - loss: 0.4470 - accuracy: 0.8525 - val_loss: 0.4690 - val_accuracy: 0.8324\n",
      "Epoch 441/500\n",
      "712/712 [==============================] - 0s 236us/sample - loss: 0.4506 - accuracy: 0.8399 - val_loss: 0.4637 - val_accuracy: 0.8268\n",
      "Epoch 442/500\n",
      "712/712 [==============================] - 0s 214us/sample - loss: 0.4507 - accuracy: 0.8497 - val_loss: 0.4608 - val_accuracy: 0.8436\n",
      "Epoch 443/500\n",
      "712/712 [==============================] - 0s 211us/sample - loss: 0.4583 - accuracy: 0.8371 - val_loss: 0.4713 - val_accuracy: 0.8324\n",
      "Epoch 444/500\n",
      "712/712 [==============================] - 0s 192us/sample - loss: 0.4585 - accuracy: 0.8539 - val_loss: 0.4525 - val_accuracy: 0.8324\n",
      "Epoch 445/500\n",
      "712/712 [==============================] - 0s 142us/sample - loss: 0.4457 - accuracy: 0.8385 - val_loss: 0.4610 - val_accuracy: 0.8547\n",
      "Epoch 446/500\n",
      "712/712 [==============================] - 0s 161us/sample - loss: 0.4382 - accuracy: 0.8427 - val_loss: 0.4637 - val_accuracy: 0.8492\n",
      "Epoch 447/500\n",
      "712/712 [==============================] - 0s 140us/sample - loss: 0.4452 - accuracy: 0.8497 - val_loss: 0.4590 - val_accuracy: 0.8492\n",
      "Epoch 448/500\n",
      "712/712 [==============================] - 0s 140us/sample - loss: 0.4541 - accuracy: 0.8413 - val_loss: 0.4565 - val_accuracy: 0.8547\n",
      "Epoch 449/500\n",
      "712/712 [==============================] - 0s 145us/sample - loss: 0.4647 - accuracy: 0.8371 - val_loss: 0.4601 - val_accuracy: 0.8324\n",
      "Epoch 450/500\n",
      "712/712 [==============================] - 0s 151us/sample - loss: 0.4596 - accuracy: 0.8399 - val_loss: 0.4569 - val_accuracy: 0.8492\n",
      "Epoch 451/500\n",
      "712/712 [==============================] - 0s 142us/sample - loss: 0.4540 - accuracy: 0.8469 - val_loss: 0.4594 - val_accuracy: 0.8436\n",
      "Epoch 452/500\n",
      "712/712 [==============================] - 0s 141us/sample - loss: 0.4523 - accuracy: 0.8483 - val_loss: 0.4641 - val_accuracy: 0.8380\n",
      "Epoch 453/500\n",
      "712/712 [==============================] - 0s 144us/sample - loss: 0.4458 - accuracy: 0.8357 - val_loss: 0.4681 - val_accuracy: 0.8380\n",
      "Epoch 454/500\n",
      "712/712 [==============================] - 0s 140us/sample - loss: 0.4514 - accuracy: 0.8469 - val_loss: 0.4572 - val_accuracy: 0.8436\n",
      "Epoch 455/500\n",
      "712/712 [==============================] - 0s 142us/sample - loss: 0.4375 - accuracy: 0.8525 - val_loss: 0.4564 - val_accuracy: 0.8436\n",
      "Epoch 456/500\n",
      "712/712 [==============================] - 0s 162us/sample - loss: 0.4580 - accuracy: 0.8427 - val_loss: 0.4515 - val_accuracy: 0.8492\n",
      "Epoch 457/500\n",
      "712/712 [==============================] - 0s 145us/sample - loss: 0.4410 - accuracy: 0.8427 - val_loss: 0.4669 - val_accuracy: 0.8268\n",
      "Epoch 458/500\n",
      "712/712 [==============================] - 0s 139us/sample - loss: 0.4602 - accuracy: 0.8511 - val_loss: 0.4520 - val_accuracy: 0.8492\n",
      "Epoch 459/500\n",
      "712/712 [==============================] - 0s 137us/sample - loss: 0.4552 - accuracy: 0.8399 - val_loss: 0.4615 - val_accuracy: 0.8324\n",
      "Epoch 460/500\n",
      "712/712 [==============================] - 0s 140us/sample - loss: 0.4444 - accuracy: 0.8385 - val_loss: 0.4654 - val_accuracy: 0.8380\n",
      "Epoch 461/500\n",
      "712/712 [==============================] - 0s 138us/sample - loss: 0.4485 - accuracy: 0.8483 - val_loss: 0.4603 - val_accuracy: 0.8268\n",
      "Epoch 462/500\n",
      "712/712 [==============================] - 0s 138us/sample - loss: 0.4464 - accuracy: 0.8455 - val_loss: 0.4566 - val_accuracy: 0.8436\n",
      "Epoch 463/500\n",
      "712/712 [==============================] - 0s 183us/sample - loss: 0.4407 - accuracy: 0.8455 - val_loss: 0.4656 - val_accuracy: 0.8324\n",
      "Epoch 464/500\n",
      "712/712 [==============================] - 0s 139us/sample - loss: 0.4544 - accuracy: 0.8399 - val_loss: 0.4706 - val_accuracy: 0.8156\n",
      "Epoch 465/500\n",
      "712/712 [==============================] - 0s 141us/sample - loss: 0.4514 - accuracy: 0.8441 - val_loss: 0.4583 - val_accuracy: 0.8492\n",
      "Epoch 466/500\n",
      "712/712 [==============================] - 0s 161us/sample - loss: 0.4449 - accuracy: 0.8497 - val_loss: 0.4681 - val_accuracy: 0.8380\n",
      "Epoch 467/500\n",
      "712/712 [==============================] - 0s 131us/sample - loss: 0.4625 - accuracy: 0.8343 - val_loss: 0.4594 - val_accuracy: 0.8436\n",
      "Epoch 468/500\n",
      "712/712 [==============================] - 0s 134us/sample - loss: 0.4419 - accuracy: 0.8525 - val_loss: 0.4598 - val_accuracy: 0.8492\n",
      "Epoch 469/500\n",
      "712/712 [==============================] - 0s 143us/sample - loss: 0.4540 - accuracy: 0.8343 - val_loss: 0.4639 - val_accuracy: 0.8324\n",
      "Epoch 470/500\n",
      "712/712 [==============================] - 0s 129us/sample - loss: 0.4420 - accuracy: 0.8427 - val_loss: 0.4628 - val_accuracy: 0.8380\n",
      "Epoch 471/500\n",
      "712/712 [==============================] - 0s 129us/sample - loss: 0.4511 - accuracy: 0.8399 - val_loss: 0.4720 - val_accuracy: 0.8492\n",
      "Epoch 472/500\n",
      "712/712 [==============================] - 0s 129us/sample - loss: 0.4454 - accuracy: 0.8469 - val_loss: 0.4706 - val_accuracy: 0.8268\n",
      "Epoch 473/500\n",
      "712/712 [==============================] - 0s 138us/sample - loss: 0.4584 - accuracy: 0.8427 - val_loss: 0.4594 - val_accuracy: 0.8324\n",
      "Epoch 474/500\n",
      "712/712 [==============================] - 0s 142us/sample - loss: 0.4378 - accuracy: 0.8497 - val_loss: 0.4583 - val_accuracy: 0.8547\n",
      "Epoch 475/500\n",
      "712/712 [==============================] - 0s 140us/sample - loss: 0.4473 - accuracy: 0.8497 - val_loss: 0.4607 - val_accuracy: 0.8436\n",
      "Epoch 476/500\n",
      "712/712 [==============================] - 0s 133us/sample - loss: 0.4480 - accuracy: 0.8441 - val_loss: 0.4750 - val_accuracy: 0.8212\n",
      "Epoch 477/500\n",
      "712/712 [==============================] - 0s 138us/sample - loss: 0.4441 - accuracy: 0.8469 - val_loss: 0.4624 - val_accuracy: 0.8324\n",
      "Epoch 478/500\n",
      "712/712 [==============================] - 0s 133us/sample - loss: 0.4436 - accuracy: 0.8455 - val_loss: 0.4607 - val_accuracy: 0.8492\n",
      "Epoch 479/500\n",
      "712/712 [==============================] - 0s 135us/sample - loss: 0.4434 - accuracy: 0.8483 - val_loss: 0.4500 - val_accuracy: 0.8603\n",
      "Epoch 480/500\n",
      "712/712 [==============================] - 0s 135us/sample - loss: 0.4532 - accuracy: 0.8455 - val_loss: 0.4544 - val_accuracy: 0.8436\n",
      "Epoch 481/500\n",
      "712/712 [==============================] - 0s 131us/sample - loss: 0.4421 - accuracy: 0.8399 - val_loss: 0.4744 - val_accuracy: 0.8380\n",
      "Epoch 482/500\n",
      "712/712 [==============================] - 0s 133us/sample - loss: 0.4483 - accuracy: 0.8371 - val_loss: 0.4658 - val_accuracy: 0.8380\n",
      "Epoch 483/500\n",
      "712/712 [==============================] - 0s 137us/sample - loss: 0.4461 - accuracy: 0.8483 - val_loss: 0.4655 - val_accuracy: 0.8380\n",
      "Epoch 484/500\n",
      "712/712 [==============================] - 0s 142us/sample - loss: 0.4473 - accuracy: 0.8441 - val_loss: 0.4574 - val_accuracy: 0.8492\n",
      "Epoch 485/500\n",
      "712/712 [==============================] - 0s 140us/sample - loss: 0.4635 - accuracy: 0.8357 - val_loss: 0.4599 - val_accuracy: 0.8380\n",
      "Epoch 486/500\n",
      "712/712 [==============================] - 0s 143us/sample - loss: 0.4557 - accuracy: 0.8441 - val_loss: 0.4580 - val_accuracy: 0.8324\n",
      "Epoch 487/500\n",
      "712/712 [==============================] - 0s 137us/sample - loss: 0.4409 - accuracy: 0.8371 - val_loss: 0.4573 - val_accuracy: 0.8436\n",
      "Epoch 488/500\n",
      "712/712 [==============================] - 0s 132us/sample - loss: 0.4593 - accuracy: 0.8343 - val_loss: 0.4491 - val_accuracy: 0.8492\n",
      "Epoch 489/500\n",
      "712/712 [==============================] - 0s 132us/sample - loss: 0.4491 - accuracy: 0.8399 - val_loss: 0.4605 - val_accuracy: 0.8324\n",
      "Epoch 490/500\n",
      "712/712 [==============================] - 0s 137us/sample - loss: 0.4443 - accuracy: 0.8497 - val_loss: 0.4738 - val_accuracy: 0.8436\n",
      "Epoch 491/500\n",
      "712/712 [==============================] - 0s 133us/sample - loss: 0.4498 - accuracy: 0.8483 - val_loss: 0.4534 - val_accuracy: 0.8492\n",
      "Epoch 492/500\n",
      "712/712 [==============================] - 0s 137us/sample - loss: 0.4466 - accuracy: 0.8553 - val_loss: 0.4522 - val_accuracy: 0.8380\n",
      "Epoch 493/500\n",
      "712/712 [==============================] - 0s 140us/sample - loss: 0.4419 - accuracy: 0.8497 - val_loss: 0.4590 - val_accuracy: 0.8547\n",
      "Epoch 494/500\n",
      "712/712 [==============================] - 0s 172us/sample - loss: 0.4536 - accuracy: 0.8371 - val_loss: 0.4530 - val_accuracy: 0.8268\n",
      "Epoch 495/500\n",
      "712/712 [==============================] - 0s 153us/sample - loss: 0.4492 - accuracy: 0.8385 - val_loss: 0.4656 - val_accuracy: 0.8380\n",
      "Epoch 496/500\n",
      "712/712 [==============================] - 0s 209us/sample - loss: 0.4469 - accuracy: 0.8539 - val_loss: 0.4617 - val_accuracy: 0.8436\n",
      "Epoch 497/500\n",
      "712/712 [==============================] - 0s 136us/sample - loss: 0.4417 - accuracy: 0.8455 - val_loss: 0.4608 - val_accuracy: 0.8324\n",
      "Epoch 498/500\n",
      "712/712 [==============================] - 0s 132us/sample - loss: 0.4370 - accuracy: 0.8441 - val_loss: 0.4689 - val_accuracy: 0.8380\n",
      "Epoch 499/500\n",
      "712/712 [==============================] - 0s 155us/sample - loss: 0.4597 - accuracy: 0.8343 - val_loss: 0.4619 - val_accuracy: 0.8380\n",
      "Epoch 500/500\n",
      "712/712 [==============================] - 0s 191us/sample - loss: 0.4596 - accuracy: 0.8343 - val_loss: 0.4596 - val_accuracy: 0.8324\n"
     ]
    }
   ],
   "source": [
    "# Create a new model each time before running training (otherwise new trainings would just be on already trained model)\n",
    "model = get_model(X_train.shape[1])\n",
    "\n",
    "history = model.fit(X_train, Y_train, epochs=500, batch_size=32, validation_data=(X_dev, Y_dev))"
   ]
  },
  {
   "cell_type": "markdown",
   "execution_count": null,
   "metadata": {},
   "source": [
    "# Results of the DL model"
   ]
  },
  {
   "cell_type": "code",
   "execution_count": 15,
   "metadata": {},
   "outputs": [],
   "source": [
    "def plot_model_history(history):\n",
    "    # list all data in history\n",
    "    print(history.history.keys())\n",
    "    # summarize history for accuracy\n",
    "    plt.plot(history.history['accuracy'])\n",
    "    plt.plot(history.history['val_accuracy'])\n",
    "    plt.title('model accuracy')\n",
    "    plt.ylabel('accuracy')\n",
    "    plt.xlabel('epoch')\n",
    "    plt.legend(['train', 'test'], loc='upper left')\n",
    "    plt.show()"
   ]
  },
  {
   "cell_type": "code",
   "execution_count": 16,
   "metadata": {},
   "outputs": [
    {
     "name": "stdout",
     "output_type": "stream",
     "text": [
      "dict_keys(['loss', 'accuracy', 'val_loss', 'val_accuracy'])\n"
     ]
    },
    {
     "data": {
      "image/png": "[encoded data removed]",
      "text/plain": [
       "<Figure size 432x288 with 1 Axes>"
      ]
     },
     "metadata": {
      "needs_background": "light"
     },
     "output_type": "display_data"
    }
   ],
   "source": [
    "plot_model_history(history)"
   ]
  },
  {
   "cell_type": "code",
   "execution_count": 17,
   "metadata": {},
   "outputs": [
    {
     "name": "stdout",
     "output_type": "stream",
     "text": [
      "712/712 - 0s - loss: 0.4168 - accuracy: 0.8596\n",
      "\n",
      "Train accuracy: 0.85955054\n"
     ]
    }
   ],
   "source": [
    "_, accuracy = model.evaluate(X_train, Y_train, verbose=2)\n",
    "\n",
    "print('\\nTrain accuracy:', accuracy)"
   ]
  },
  {
   "cell_type": "code",
   "execution_count": 18,
   "metadata": {},
   "outputs": [
    {
     "name": "stdout",
     "output_type": "stream",
     "text": [
      "179/179 - 0s - loss: 0.4596 - accuracy: 0.8324\n",
      "\n",
      "Dev accuracy: 0.8324022\n"
     ]
    }
   ],
   "source": [
    "_, accuracy = model.evaluate(X_dev, Y_dev, verbose=2)\n",
    "\n",
    "print('\\nDev accuracy:', accuracy)"
   ]
  },
  {
   "cell_type": "markdown",
   "execution_count": null,
   "metadata": {},
   "source": [
    "# Tune hyperparameters for the DL model"
   ]
  },
  {
   "cell_type": "code",
   "execution_count": 19,
   "metadata": {},
   "outputs": [],
   "source": [
    "from kerastuner import HyperModel\n",
    "\n",
    "# https://www.sicara.ai/blog/hyperparameter-tuning-keras-tuner\n",
    "# https://www.curiousily.com/posts/hackers-guide-to-hyperparameter-tuning/\n",
    "\n",
    "class TitanicHyperModel(HyperModel):\n",
    "    def __init__(self, input_size):\n",
    "        self.input_shape = (input_size, )\n",
    "\n",
    "    def build(self, hp):\n",
    "        from tensorflow.keras.models import Sequential\n",
    "        from tensorflow.keras.layers import Dense, Dropout\n",
    "#         from tensorflow.keras.regularizers import L1L2\n",
    "\n",
    "        model = Sequential()\n",
    "        \n",
    "        for layer_n in range(hp.Int(\"num_layers\", min_value=1, max_value=6, step=1, default=6) + 1):\n",
    "            units = hp.Int(\n",
    "                f\"dense_units_{layer_n}\",\n",
    "                min_value=8,\n",
    "                max_value=64,\n",
    "                step=8,\n",
    "                default=64\n",
    "            )\n",
    "            activation = hp.Choice(\n",
    "                f\"dense_activation_{layer_n}\",\n",
    "                values=['relu', 'tanh', 'sigmoid'],\n",
    "                default='relu'\n",
    "            )\n",
    "#             regularizer_l1 = hp.Float(\n",
    "#                 f'l1_{layer_n}',\n",
    "#                 min_value=1e-5,\n",
    "#                 max_value=0.1,\n",
    "#                 sampling='LOG',\n",
    "#                 default=0\n",
    "#             )\n",
    "#             regularizer_l2 = hp.Float(\n",
    "#                 f'l2_{layer_n}',\n",
    "#                 min_value=1e-5,\n",
    "#                 max_value=0.1,\n",
    "#                 sampling='LOG',\n",
    "#                 default=0.01\n",
    "#             )\n",
    "            \n",
    "            input_shape_params = {\"input_shape\": self.input_shape} if layer_n == 0 else {}\n",
    "            model.add(Dense(units=units, **input_shape_params, activation=activation)) #, kernel_regularizer=L1L2(l1=regularizer_l1, l2=regularizer_l2)))\n",
    "            \n",
    "            droupout_rate = hp.Float(\n",
    "                f'dropout_{layer_n}',\n",
    "                min_value=0.0,\n",
    "                max_value=0.5,\n",
    "                default=0.25,\n",
    "                step=0.05,\n",
    "            )\n",
    "            \n",
    "            model.add(Dropout(rate=droupout_rate))\n",
    "        \n",
    "        model.add(Dense(1, activation=\"sigmoid\"))\n",
    "        \n",
    "        model.compile(\n",
    "            optimizer=keras.optimizers.Adam(\n",
    "                hp.Float(\n",
    "                    'learning_rate',\n",
    "                    min_value=1e-4,\n",
    "                    max_value=1e-2,\n",
    "                    sampling='LOG',\n",
    "                    default=1e-3\n",
    "                )\n",
    "            ),\n",
    "            metrics=[\"accuracy\"],\n",
    "            loss=\"binary_crossentropy\",\n",
    "        )\n",
    "\n",
    "        return model\n",
    "\n",
    "hypermodel = TitanicHyperModel(input_size=X_train.shape[1])"
   ]
  },
  {
   "cell_type": "code",
   "execution_count": 20,
   "metadata": {},
   "outputs": [],
   "source": [
    "# Dev mode\n",
    "\n",
    "if MODE == \"DEV\":\n",
    "    MAX_TRIALS = 20\n",
    "    EXECUTION_PER_TRIAL = 2\n",
    "    N_EPOCH_SEARCH = 20\n",
    "else:\n",
    "    MAX_TRIALS = 200\n",
    "    EXECUTION_PER_TRIAL = 3\n",
    "    N_EPOCH_SEARCH = 400"
   ]
  },
  {
   "cell_type": "code",
   "execution_count": 21,
   "metadata": {},
   "outputs": [
    {
     "data": {
      "text/html": [
       "<span style=\"color:#4527A0\"><h1 style=\"font-size:18px\">Search space summary</h1></span>"
      ],
      "text/plain": [
       "<IPython.core.display.HTML object>"
      ]
     },
     "metadata": {},
     "output_type": "display_data"
    },
    {
     "data": {
      "text/html": [
       "<span style=\"color:cyan\"> |-Default search space size: 23</span>"
      ],
      "text/plain": [
       "<IPython.core.display.HTML object>"
      ]
     },
     "metadata": {},
     "output_type": "display_data"
    },
    {
     "data": {
      "text/html": [
       "<span style=\"color:#7E57C2\"><h2 style=\"font-size:16px\">num_layers (Int)</h2></span>"
      ],
      "text/plain": [
       "<IPython.core.display.HTML object>"
      ]
     },
     "metadata": {},
     "output_type": "display_data"
    },
    {
     "data": {
      "text/html": [
       "<span style=\"color:cyan\"> |-default: 6</span>"
      ],
      "text/plain": [
       "<IPython.core.display.HTML object>"
      ]
     },
     "metadata": {},
     "output_type": "display_data"
    },
    {
     "data": {
      "text/html": [
       "<span style=\"color:blue\"> |-max_value: 6</span>"
      ],
      "text/plain": [
       "<IPython.core.display.HTML object>"
      ]
     },
     "metadata": {},
     "output_type": "display_data"
    },
    {
     "data": {
      "text/html": [
       "<span style=\"color:cyan\"> |-min_value: 1</span>"
      ],
      "text/plain": [
       "<IPython.core.display.HTML object>"
      ]
     },
     "metadata": {},
     "output_type": "display_data"
    },
    {
     "data": {
      "text/html": [
       "<span style=\"color:blue\"> |-sampling: None</span>"
      ],
      "text/plain": [
       "<IPython.core.display.HTML object>"
      ]
     },
     "metadata": {},
     "output_type": "display_data"
    },
    {
     "data": {
      "text/html": [
       "<span style=\"color:cyan\"> |-step: 1</span>"
      ],
      "text/plain": [
       "<IPython.core.display.HTML object>"
      ]
     },
     "metadata": {},
     "output_type": "display_data"
    },
    {
     "data": {
      "text/html": [
       "<span style=\"color:#7E57C2\"><h2 style=\"font-size:16px\">dense_units_0 (Int)</h2></span>"
      ],
      "text/plain": [
       "<IPython.core.display.HTML object>"
      ]
     },
     "metadata": {},
     "output_type": "display_data"
    },
    {
     "data": {
      "text/html": [
       "<span style=\"color:cyan\"> |-default: 64</span>"
      ],
      "text/plain": [
       "<IPython.core.display.HTML object>"
      ]
     },
     "metadata": {},
     "output_type": "display_data"
    },
    {
     "data": {
      "text/html": [
       "<span style=\"color:blue\"> |-max_value: 64</span>"
      ],
      "text/plain": [
       "<IPython.core.display.HTML object>"
      ]
     },
     "metadata": {},
     "output_type": "display_data"
    },
    {
     "data": {
      "text/html": [
       "<span style=\"color:cyan\"> |-min_value: 8</span>"
      ],
      "text/plain": [
       "<IPython.core.display.HTML object>"
      ]
     },
     "metadata": {},
     "output_type": "display_data"
    },
    {
     "data": {
      "text/html": [
       "<span style=\"color:blue\"> |-sampling: None</span>"
      ],
      "text/plain": [
       "<IPython.core.display.HTML object>"
      ]
     },
     "metadata": {},
     "output_type": "display_data"
    },
    {
     "data": {
      "text/html": [
       "<span style=\"color:cyan\"> |-step: 8</span>"
      ],
      "text/plain": [
       "<IPython.core.display.HTML object>"
      ]
     },
     "metadata": {},
     "output_type": "display_data"
    },
    {
     "data": {
      "text/html": [
       "<span style=\"color:#7E57C2\"><h2 style=\"font-size:16px\">dense_activation_0 (Choice)</h2></span>"
      ],
      "text/plain": [
       "<IPython.core.display.HTML object>"
      ]
     },
     "metadata": {},
     "output_type": "display_data"
    },
    {
     "data": {
      "text/html": [
       "<span style=\"color:cyan\"> |-default: relu</span>"
      ],
      "text/plain": [
       "<IPython.core.display.HTML object>"
      ]
     },
     "metadata": {},
     "output_type": "display_data"
    },
    {
     "data": {
      "text/html": [
       "<span style=\"color:blue\"> |-ordered: False</span>"
      ],
      "text/plain": [
       "<IPython.core.display.HTML object>"
      ]
     },
     "metadata": {},
     "output_type": "display_data"
    },
    {
     "data": {
      "text/html": [
       "<span style=\"color:cyan\"> |-values: ['relu', 'tanh', 'sigmoid']</span>"
      ],
      "text/plain": [
       "<IPython.core.display.HTML object>"
      ]
     },
     "metadata": {},
     "output_type": "display_data"
    },
    {
     "data": {
      "text/html": [
       "<span style=\"color:#7E57C2\"><h2 style=\"font-size:16px\">dropout_0 (Float)</h2></span>"
      ],
      "text/plain": [
       "<IPython.core.display.HTML object>"
      ]
     },
     "metadata": {},
     "output_type": "display_data"
    },
    {
     "data": {
      "text/html": [
       "<span style=\"color:cyan\"> |-default: 0.25</span>"
      ],
      "text/plain": [
       "<IPython.core.display.HTML object>"
      ]
     },
     "metadata": {},
     "output_type": "display_data"
    },
    {
     "data": {
      "text/html": [
       "<span style=\"color:blue\"> |-max_value: 0.5</span>"
      ],
      "text/plain": [
       "<IPython.core.display.HTML object>"
      ]
     },
     "metadata": {},
     "output_type": "display_data"
    },
    {
     "data": {
      "text/html": [
       "<span style=\"color:cyan\"> |-min_value: 0.0</span>"
      ],
      "text/plain": [
       "<IPython.core.display.HTML object>"
      ]
     },
     "metadata": {},
     "output_type": "display_data"
    },
    {
     "data": {
      "text/html": [
       "<span style=\"color:blue\"> |-sampling: None</span>"
      ],
      "text/plain": [
       "<IPython.core.display.HTML object>"
      ]
     },
     "metadata": {},
     "output_type": "display_data"
    },
    {
     "data": {
      "text/html": [
       "<span style=\"color:cyan\"> |-step: 0.05</span>"
      ],
      "text/plain": [
       "<IPython.core.display.HTML object>"
      ]
     },
     "metadata": {},
     "output_type": "display_data"
    },
    {
     "data": {
      "text/html": [
       "<span style=\"color:#7E57C2\"><h2 style=\"font-size:16px\">dense_units_1 (Int)</h2></span>"
      ],
      "text/plain": [
       "<IPython.core.display.HTML object>"
      ]
     },
     "metadata": {},
     "output_type": "display_data"
    },
    {
     "data": {
      "text/html": [
       "<span style=\"color:cyan\"> |-default: 64</span>"
      ],
      "text/plain": [
       "<IPython.core.display.HTML object>"
      ]
     },
     "metadata": {},
     "output_type": "display_data"
    },
    {
     "data": {
      "text/html": [
       "<span style=\"color:blue\"> |-max_value: 64</span>"
      ],
      "text/plain": [
       "<IPython.core.display.HTML object>"
      ]
     },
     "metadata": {},
     "output_type": "display_data"
    },
    {
     "data": {
      "text/html": [
       "<span style=\"color:cyan\"> |-min_value: 8</span>"
      ],
      "text/plain": [
       "<IPython.core.display.HTML object>"
      ]
     },
     "metadata": {},
     "output_type": "display_data"
    },
    {
     "data": {
      "text/html": [
       "<span style=\"color:blue\"> |-sampling: None</span>"
      ],
      "text/plain": [
       "<IPython.core.display.HTML object>"
      ]
     },
     "metadata": {},
     "output_type": "display_data"
    },
    {
     "data": {
      "text/html": [
       "<span style=\"color:cyan\"> |-step: 8</span>"
      ],
      "text/plain": [
       "<IPython.core.display.HTML object>"
      ]
     },
     "metadata": {},
     "output_type": "display_data"
    },
    {
     "data": {
      "text/html": [
       "<span style=\"color:#7E57C2\"><h2 style=\"font-size:16px\">dense_activation_1 (Choice)</h2></span>"
      ],
      "text/plain": [
       "<IPython.core.display.HTML object>"
      ]
     },
     "metadata": {},
     "output_type": "display_data"
    },
    {
     "data": {
      "text/html": [
       "<span style=\"color:cyan\"> |-default: relu</span>"
      ],
      "text/plain": [
       "<IPython.core.display.HTML object>"
      ]
     },
     "metadata": {},
     "output_type": "display_data"
    },
    {
     "data": {
      "text/html": [
       "<span style=\"color:blue\"> |-ordered: False</span>"
      ],
      "text/plain": [
       "<IPython.core.display.HTML object>"
      ]
     },
     "metadata": {},
     "output_type": "display_data"
    },
    {
     "data": {
      "text/html": [
       "<span style=\"color:cyan\"> |-values: ['relu', 'tanh', 'sigmoid']</span>"
      ],
      "text/plain": [
       "<IPython.core.display.HTML object>"
      ]
     },
     "metadata": {},
     "output_type": "display_data"
    },
    {
     "data": {
      "text/html": [
       "<span style=\"color:#7E57C2\"><h2 style=\"font-size:16px\">dropout_1 (Float)</h2></span>"
      ],
      "text/plain": [
       "<IPython.core.display.HTML object>"
      ]
     },
     "metadata": {},
     "output_type": "display_data"
    },
    {
     "data": {
      "text/html": [
       "<span style=\"color:cyan\"> |-default: 0.25</span>"
      ],
      "text/plain": [
       "<IPython.core.display.HTML object>"
      ]
     },
     "metadata": {},
     "output_type": "display_data"
    },
    {
     "data": {
      "text/html": [
       "<span style=\"color:blue\"> |-max_value: 0.5</span>"
      ],
      "text/plain": [
       "<IPython.core.display.HTML object>"
      ]
     },
     "metadata": {},
     "output_type": "display_data"
    },
    {
     "data": {
      "text/html": [
       "<span style=\"color:cyan\"> |-min_value: 0.0</span>"
      ],
      "text/plain": [
       "<IPython.core.display.HTML object>"
      ]
     },
     "metadata": {},
     "output_type": "display_data"
    },
    {
     "data": {
      "text/html": [
       "<span style=\"color:blue\"> |-sampling: None</span>"
      ],
      "text/plain": [
       "<IPython.core.display.HTML object>"
      ]
     },
     "metadata": {},
     "output_type": "display_data"
    },
    {
     "data": {
      "text/html": [
       "<span style=\"color:cyan\"> |-step: 0.05</span>"
      ],
      "text/plain": [
       "<IPython.core.display.HTML object>"
      ]
     },
     "metadata": {},
     "output_type": "display_data"
    },
    {
     "data": {
      "text/html": [
       "<span style=\"color:#7E57C2\"><h2 style=\"font-size:16px\">dense_units_2 (Int)</h2></span>"
      ],
      "text/plain": [
       "<IPython.core.display.HTML object>"
      ]
     },
     "metadata": {},
     "output_type": "display_data"
    },
    {
     "data": {
      "text/html": [
       "<span style=\"color:cyan\"> |-default: 64</span>"
      ],
      "text/plain": [
       "<IPython.core.display.HTML object>"
      ]
     },
     "metadata": {},
     "output_type": "display_data"
    },
    {
     "data": {
      "text/html": [
       "<span style=\"color:blue\"> |-max_value: 64</span>"
      ],
      "text/plain": [
       "<IPython.core.display.HTML object>"
      ]
     },
     "metadata": {},
     "output_type": "display_data"
    },
    {
     "data": {
      "text/html": [
       "<span style=\"color:cyan\"> |-min_value: 8</span>"
      ],
      "text/plain": [
       "<IPython.core.display.HTML object>"
      ]
     },
     "metadata": {},
     "output_type": "display_data"
    },
    {
     "data": {
      "text/html": [
       "<span style=\"color:blue\"> |-sampling: None</span>"
      ],
      "text/plain": [
       "<IPython.core.display.HTML object>"
      ]
     },
     "metadata": {},
     "output_type": "display_data"
    },
    {
     "data": {
      "text/html": [
       "<span style=\"color:cyan\"> |-step: 8</span>"
      ],
      "text/plain": [
       "<IPython.core.display.HTML object>"
      ]
     },
     "metadata": {},
     "output_type": "display_data"
    },
    {
     "data": {
      "text/html": [
       "<span style=\"color:#7E57C2\"><h2 style=\"font-size:16px\">dense_activation_2 (Choice)</h2></span>"
      ],
      "text/plain": [
       "<IPython.core.display.HTML object>"
      ]
     },
     "metadata": {},
     "output_type": "display_data"
    },
    {
     "data": {
      "text/html": [
       "<span style=\"color:cyan\"> |-default: relu</span>"
      ],
      "text/plain": [
       "<IPython.core.display.HTML object>"
      ]
     },
     "metadata": {},
     "output_type": "display_data"
    },
    {
     "data": {
      "text/html": [
       "<span style=\"color:blue\"> |-ordered: False</span>"
      ],
      "text/plain": [
       "<IPython.core.display.HTML object>"
      ]
     },
     "metadata": {},
     "output_type": "display_data"
    },
    {
     "data": {
      "text/html": [
       "<span style=\"color:cyan\"> |-values: ['relu', 'tanh', 'sigmoid']</span>"
      ],
      "text/plain": [
       "<IPython.core.display.HTML object>"
      ]
     },
     "metadata": {},
     "output_type": "display_data"
    },
    {
     "data": {
      "text/html": [
       "<span style=\"color:#7E57C2\"><h2 style=\"font-size:16px\">dropout_2 (Float)</h2></span>"
      ],
      "text/plain": [
       "<IPython.core.display.HTML object>"
      ]
     },
     "metadata": {},
     "output_type": "display_data"
    },
    {
     "data": {
      "text/html": [
       "<span style=\"color:cyan\"> |-default: 0.25</span>"
      ],
      "text/plain": [
       "<IPython.core.display.HTML object>"
      ]
     },
     "metadata": {},
     "output_type": "display_data"
    },
    {
     "data": {
      "text/html": [
       "<span style=\"color:blue\"> |-max_value: 0.5</span>"
      ],
      "text/plain": [
       "<IPython.core.display.HTML object>"
      ]
     },
     "metadata": {},
     "output_type": "display_data"
    },
    {
     "data": {
      "text/html": [
       "<span style=\"color:cyan\"> |-min_value: 0.0</span>"
      ],
      "text/plain": [
       "<IPython.core.display.HTML object>"
      ]
     },
     "metadata": {},
     "output_type": "display_data"
    },
    {
     "data": {
      "text/html": [
       "<span style=\"color:blue\"> |-sampling: None</span>"
      ],
      "text/plain": [
       "<IPython.core.display.HTML object>"
      ]
     },
     "metadata": {},
     "output_type": "display_data"
    },
    {
     "data": {
      "text/html": [
       "<span style=\"color:cyan\"> |-step: 0.05</span>"
      ],
      "text/plain": [
       "<IPython.core.display.HTML object>"
      ]
     },
     "metadata": {},
     "output_type": "display_data"
    },
    {
     "data": {
      "text/html": [
       "<span style=\"color:#7E57C2\"><h2 style=\"font-size:16px\">dense_units_3 (Int)</h2></span>"
      ],
      "text/plain": [
       "<IPython.core.display.HTML object>"
      ]
     },
     "metadata": {},
     "output_type": "display_data"
    },
    {
     "data": {
      "text/html": [
       "<span style=\"color:cyan\"> |-default: 64</span>"
      ],
      "text/plain": [
       "<IPython.core.display.HTML object>"
      ]
     },
     "metadata": {},
     "output_type": "display_data"
    },
    {
     "data": {
      "text/html": [
       "<span style=\"color:blue\"> |-max_value: 64</span>"
      ],
      "text/plain": [
       "<IPython.core.display.HTML object>"
      ]
     },
     "metadata": {},
     "output_type": "display_data"
    },
    {
     "data": {
      "text/html": [
       "<span style=\"color:cyan\"> |-min_value: 8</span>"
      ],
      "text/plain": [
       "<IPython.core.display.HTML object>"
      ]
     },
     "metadata": {},
     "output_type": "display_data"
    },
    {
     "data": {
      "text/html": [
       "<span style=\"color:blue\"> |-sampling: None</span>"
      ],
      "text/plain": [
       "<IPython.core.display.HTML object>"
      ]
     },
     "metadata": {},
     "output_type": "display_data"
    },
    {
     "data": {
      "text/html": [
       "<span style=\"color:cyan\"> |-step: 8</span>"
      ],
      "text/plain": [
       "<IPython.core.display.HTML object>"
      ]
     },
     "metadata": {},
     "output_type": "display_data"
    },
    {
     "data": {
      "text/html": [
       "<span style=\"color:#7E57C2\"><h2 style=\"font-size:16px\">dense_activation_3 (Choice)</h2></span>"
      ],
      "text/plain": [
       "<IPython.core.display.HTML object>"
      ]
     },
     "metadata": {},
     "output_type": "display_data"
    },
    {
     "data": {
      "text/html": [
       "<span style=\"color:cyan\"> |-default: relu</span>"
      ],
      "text/plain": [
       "<IPython.core.display.HTML object>"
      ]
     },
     "metadata": {},
     "output_type": "display_data"
    },
    {
     "data": {
      "text/html": [
       "<span style=\"color:blue\"> |-ordered: False</span>"
      ],
      "text/plain": [
       "<IPython.core.display.HTML object>"
      ]
     },
     "metadata": {},
     "output_type": "display_data"
    },
    {
     "data": {
      "text/html": [
       "<span style=\"color:cyan\"> |-values: ['relu', 'tanh', 'sigmoid']</span>"
      ],
      "text/plain": [
       "<IPython.core.display.HTML object>"
      ]
     },
     "metadata": {},
     "output_type": "display_data"
    },
    {
     "data": {
      "text/html": [
       "<span style=\"color:#7E57C2\"><h2 style=\"font-size:16px\">dropout_3 (Float)</h2></span>"
      ],
      "text/plain": [
       "<IPython.core.display.HTML object>"
      ]
     },
     "metadata": {},
     "output_type": "display_data"
    },
    {
     "data": {
      "text/html": [
       "<span style=\"color:cyan\"> |-default: 0.25</span>"
      ],
      "text/plain": [
       "<IPython.core.display.HTML object>"
      ]
     },
     "metadata": {},
     "output_type": "display_data"
    },
    {
     "data": {
      "text/html": [
       "<span style=\"color:blue\"> |-max_value: 0.5</span>"
      ],
      "text/plain": [
       "<IPython.core.display.HTML object>"
      ]
     },
     "metadata": {},
     "output_type": "display_data"
    },
    {
     "data": {
      "text/html": [
       "<span style=\"color:cyan\"> |-min_value: 0.0</span>"
      ],
      "text/plain": [
       "<IPython.core.display.HTML object>"
      ]
     },
     "metadata": {},
     "output_type": "display_data"
    },
    {
     "data": {
      "text/html": [
       "<span style=\"color:blue\"> |-sampling: None</span>"
      ],
      "text/plain": [
       "<IPython.core.display.HTML object>"
      ]
     },
     "metadata": {},
     "output_type": "display_data"
    },
    {
     "data": {
      "text/html": [
       "<span style=\"color:cyan\"> |-step: 0.05</span>"
      ],
      "text/plain": [
       "<IPython.core.display.HTML object>"
      ]
     },
     "metadata": {},
     "output_type": "display_data"
    },
    {
     "data": {
      "text/html": [
       "<span style=\"color:#7E57C2\"><h2 style=\"font-size:16px\">dense_units_4 (Int)</h2></span>"
      ],
      "text/plain": [
       "<IPython.core.display.HTML object>"
      ]
     },
     "metadata": {},
     "output_type": "display_data"
    },
    {
     "data": {
      "text/html": [
       "<span style=\"color:cyan\"> |-default: 64</span>"
      ],
      "text/plain": [
       "<IPython.core.display.HTML object>"
      ]
     },
     "metadata": {},
     "output_type": "display_data"
    },
    {
     "data": {
      "text/html": [
       "<span style=\"color:blue\"> |-max_value: 64</span>"
      ],
      "text/plain": [
       "<IPython.core.display.HTML object>"
      ]
     },
     "metadata": {},
     "output_type": "display_data"
    },
    {
     "data": {
      "text/html": [
       "<span style=\"color:cyan\"> |-min_value: 8</span>"
      ],
      "text/plain": [
       "<IPython.core.display.HTML object>"
      ]
     },
     "metadata": {},
     "output_type": "display_data"
    },
    {
     "data": {
      "text/html": [
       "<span style=\"color:blue\"> |-sampling: None</span>"
      ],
      "text/plain": [
       "<IPython.core.display.HTML object>"
      ]
     },
     "metadata": {},
     "output_type": "display_data"
    },
    {
     "data": {
      "text/html": [
       "<span style=\"color:cyan\"> |-step: 8</span>"
      ],
      "text/plain": [
       "<IPython.core.display.HTML object>"
      ]
     },
     "metadata": {},
     "output_type": "display_data"
    },
    {
     "data": {
      "text/html": [
       "<span style=\"color:#7E57C2\"><h2 style=\"font-size:16px\">dense_activation_4 (Choice)</h2></span>"
      ],
      "text/plain": [
       "<IPython.core.display.HTML object>"
      ]
     },
     "metadata": {},
     "output_type": "display_data"
    },
    {
     "data": {
      "text/html": [
       "<span style=\"color:cyan\"> |-default: relu</span>"
      ],
      "text/plain": [
       "<IPython.core.display.HTML object>"
      ]
     },
     "metadata": {},
     "output_type": "display_data"
    },
    {
     "data": {
      "text/html": [
       "<span style=\"color:blue\"> |-ordered: False</span>"
      ],
      "text/plain": [
       "<IPython.core.display.HTML object>"
      ]
     },
     "metadata": {},
     "output_type": "display_data"
    },
    {
     "data": {
      "text/html": [
       "<span style=\"color:cyan\"> |-values: ['relu', 'tanh', 'sigmoid']</span>"
      ],
      "text/plain": [
       "<IPython.core.display.HTML object>"
      ]
     },
     "metadata": {},
     "output_type": "display_data"
    },
    {
     "data": {
      "text/html": [
       "<span style=\"color:#7E57C2\"><h2 style=\"font-size:16px\">dropout_4 (Float)</h2></span>"
      ],
      "text/plain": [
       "<IPython.core.display.HTML object>"
      ]
     },
     "metadata": {},
     "output_type": "display_data"
    },
    {
     "data": {
      "text/html": [
       "<span style=\"color:cyan\"> |-default: 0.25</span>"
      ],
      "text/plain": [
       "<IPython.core.display.HTML object>"
      ]
     },
     "metadata": {},
     "output_type": "display_data"
    },
    {
     "data": {
      "text/html": [
       "<span style=\"color:blue\"> |-max_value: 0.5</span>"
      ],
      "text/plain": [
       "<IPython.core.display.HTML object>"
      ]
     },
     "metadata": {},
     "output_type": "display_data"
    },
    {
     "data": {
      "text/html": [
       "<span style=\"color:cyan\"> |-min_value: 0.0</span>"
      ],
      "text/plain": [
       "<IPython.core.display.HTML object>"
      ]
     },
     "metadata": {},
     "output_type": "display_data"
    },
    {
     "data": {
      "text/html": [
       "<span style=\"color:blue\"> |-sampling: None</span>"
      ],
      "text/plain": [
       "<IPython.core.display.HTML object>"
      ]
     },
     "metadata": {},
     "output_type": "display_data"
    },
    {
     "data": {
      "text/html": [
       "<span style=\"color:cyan\"> |-step: 0.05</span>"
      ],
      "text/plain": [
       "<IPython.core.display.HTML object>"
      ]
     },
     "metadata": {},
     "output_type": "display_data"
    },
    {
     "data": {
      "text/html": [
       "<span style=\"color:#7E57C2\"><h2 style=\"font-size:16px\">dense_units_5 (Int)</h2></span>"
      ],
      "text/plain": [
       "<IPython.core.display.HTML object>"
      ]
     },
     "metadata": {},
     "output_type": "display_data"
    },
    {
     "data": {
      "text/html": [
       "<span style=\"color:cyan\"> |-default: 64</span>"
      ],
      "text/plain": [
       "<IPython.core.display.HTML object>"
      ]
     },
     "metadata": {},
     "output_type": "display_data"
    },
    {
     "data": {
      "text/html": [
       "<span style=\"color:blue\"> |-max_value: 64</span>"
      ],
      "text/plain": [
       "<IPython.core.display.HTML object>"
      ]
     },
     "metadata": {},
     "output_type": "display_data"
    },
    {
     "data": {
      "text/html": [
       "<span style=\"color:cyan\"> |-min_value: 8</span>"
      ],
      "text/plain": [
       "<IPython.core.display.HTML object>"
      ]
     },
     "metadata": {},
     "output_type": "display_data"
    },
    {
     "data": {
      "text/html": [
       "<span style=\"color:blue\"> |-sampling: None</span>"
      ],
      "text/plain": [
       "<IPython.core.display.HTML object>"
      ]
     },
     "metadata": {},
     "output_type": "display_data"
    },
    {
     "data": {
      "text/html": [
       "<span style=\"color:cyan\"> |-step: 8</span>"
      ],
      "text/plain": [
       "<IPython.core.display.HTML object>"
      ]
     },
     "metadata": {},
     "output_type": "display_data"
    },
    {
     "data": {
      "text/html": [
       "<span style=\"color:#7E57C2\"><h2 style=\"font-size:16px\">dense_activation_5 (Choice)</h2></span>"
      ],
      "text/plain": [
       "<IPython.core.display.HTML object>"
      ]
     },
     "metadata": {},
     "output_type": "display_data"
    },
    {
     "data": {
      "text/html": [
       "<span style=\"color:cyan\"> |-default: relu</span>"
      ],
      "text/plain": [
       "<IPython.core.display.HTML object>"
      ]
     },
     "metadata": {},
     "output_type": "display_data"
    },
    {
     "data": {
      "text/html": [
       "<span style=\"color:blue\"> |-ordered: False</span>"
      ],
      "text/plain": [
       "<IPython.core.display.HTML object>"
      ]
     },
     "metadata": {},
     "output_type": "display_data"
    },
    {
     "data": {
      "text/html": [
       "<span style=\"color:cyan\"> |-values: ['relu', 'tanh', 'sigmoid']</span>"
      ],
      "text/plain": [
       "<IPython.core.display.HTML object>"
      ]
     },
     "metadata": {},
     "output_type": "display_data"
    },
    {
     "data": {
      "text/html": [
       "<span style=\"color:#7E57C2\"><h2 style=\"font-size:16px\">dropout_5 (Float)</h2></span>"
      ],
      "text/plain": [
       "<IPython.core.display.HTML object>"
      ]
     },
     "metadata": {},
     "output_type": "display_data"
    },
    {
     "data": {
      "text/html": [
       "<span style=\"color:cyan\"> |-default: 0.25</span>"
      ],
      "text/plain": [
       "<IPython.core.display.HTML object>"
      ]
     },
     "metadata": {},
     "output_type": "display_data"
    },
    {
     "data": {
      "text/html": [
       "<span style=\"color:blue\"> |-max_value: 0.5</span>"
      ],
      "text/plain": [
       "<IPython.core.display.HTML object>"
      ]
     },
     "metadata": {},
     "output_type": "display_data"
    },
    {
     "data": {
      "text/html": [
       "<span style=\"color:cyan\"> |-min_value: 0.0</span>"
      ],
      "text/plain": [
       "<IPython.core.display.HTML object>"
      ]
     },
     "metadata": {},
     "output_type": "display_data"
    },
    {
     "data": {
      "text/html": [
       "<span style=\"color:blue\"> |-sampling: None</span>"
      ],
      "text/plain": [
       "<IPython.core.display.HTML object>"
      ]
     },
     "metadata": {},
     "output_type": "display_data"
    },
    {
     "data": {
      "text/html": [
       "<span style=\"color:cyan\"> |-step: 0.05</span>"
      ],
      "text/plain": [
       "<IPython.core.display.HTML object>"
      ]
     },
     "metadata": {},
     "output_type": "display_data"
    },
    {
     "data": {
      "text/html": [
       "<span style=\"color:#7E57C2\"><h2 style=\"font-size:16px\">dense_units_6 (Int)</h2></span>"
      ],
      "text/plain": [
       "<IPython.core.display.HTML object>"
      ]
     },
     "metadata": {},
     "output_type": "display_data"
    },
    {
     "data": {
      "text/html": [
       "<span style=\"color:cyan\"> |-default: 64</span>"
      ],
      "text/plain": [
       "<IPython.core.display.HTML object>"
      ]
     },
     "metadata": {},
     "output_type": "display_data"
    },
    {
     "data": {
      "text/html": [
       "<span style=\"color:blue\"> |-max_value: 64</span>"
      ],
      "text/plain": [
       "<IPython.core.display.HTML object>"
      ]
     },
     "metadata": {},
     "output_type": "display_data"
    },
    {
     "data": {
      "text/html": [
       "<span style=\"color:cyan\"> |-min_value: 8</span>"
      ],
      "text/plain": [
       "<IPython.core.display.HTML object>"
      ]
     },
     "metadata": {},
     "output_type": "display_data"
    },
    {
     "data": {
      "text/html": [
       "<span style=\"color:blue\"> |-sampling: None</span>"
      ],
      "text/plain": [
       "<IPython.core.display.HTML object>"
      ]
     },
     "metadata": {},
     "output_type": "display_data"
    },
    {
     "data": {
      "text/html": [
       "<span style=\"color:cyan\"> |-step: 8</span>"
      ],
      "text/plain": [
       "<IPython.core.display.HTML object>"
      ]
     },
     "metadata": {},
     "output_type": "display_data"
    },
    {
     "data": {
      "text/html": [
       "<span style=\"color:#7E57C2\"><h2 style=\"font-size:16px\">dense_activation_6 (Choice)</h2></span>"
      ],
      "text/plain": [
       "<IPython.core.display.HTML object>"
      ]
     },
     "metadata": {},
     "output_type": "display_data"
    },
    {
     "data": {
      "text/html": [
       "<span style=\"color:cyan\"> |-default: relu</span>"
      ],
      "text/plain": [
       "<IPython.core.display.HTML object>"
      ]
     },
     "metadata": {},
     "output_type": "display_data"
    },
    {
     "data": {
      "text/html": [
       "<span style=\"color:blue\"> |-ordered: False</span>"
      ],
      "text/plain": [
       "<IPython.core.display.HTML object>"
      ]
     },
     "metadata": {},
     "output_type": "display_data"
    },
    {
     "data": {
      "text/html": [
       "<span style=\"color:cyan\"> |-values: ['relu', 'tanh', 'sigmoid']</span>"
      ],
      "text/plain": [
       "<IPython.core.display.HTML object>"
      ]
     },
     "metadata": {},
     "output_type": "display_data"
    },
    {
     "data": {
      "text/html": [
       "<span style=\"color:#7E57C2\"><h2 style=\"font-size:16px\">dropout_6 (Float)</h2></span>"
      ],
      "text/plain": [
       "<IPython.core.display.HTML object>"
      ]
     },
     "metadata": {},
     "output_type": "display_data"
    },
    {
     "data": {
      "text/html": [
       "<span style=\"color:cyan\"> |-default: 0.25</span>"
      ],
      "text/plain": [
       "<IPython.core.display.HTML object>"
      ]
     },
     "metadata": {},
     "output_type": "display_data"
    },
    {
     "data": {
      "text/html": [
       "<span style=\"color:blue\"> |-max_value: 0.5</span>"
      ],
      "text/plain": [
       "<IPython.core.display.HTML object>"
      ]
     },
     "metadata": {},
     "output_type": "display_data"
    },
    {
     "data": {
      "text/html": [
       "<span style=\"color:cyan\"> |-min_value: 0.0</span>"
      ],
      "text/plain": [
       "<IPython.core.display.HTML object>"
      ]
     },
     "metadata": {},
     "output_type": "display_data"
    },
    {
     "data": {
      "text/html": [
       "<span style=\"color:blue\"> |-sampling: None</span>"
      ],
      "text/plain": [
       "<IPython.core.display.HTML object>"
      ]
     },
     "metadata": {},
     "output_type": "display_data"
    },
    {
     "data": {
      "text/html": [
       "<span style=\"color:cyan\"> |-step: 0.05</span>"
      ],
      "text/plain": [
       "<IPython.core.display.HTML object>"
      ]
     },
     "metadata": {},
     "output_type": "display_data"
    },
    {
     "data": {
      "text/html": [
       "<span style=\"color:#7E57C2\"><h2 style=\"font-size:16px\">learning_rate (Float)</h2></span>"
      ],
      "text/plain": [
       "<IPython.core.display.HTML object>"
      ]
     },
     "metadata": {},
     "output_type": "display_data"
    },
    {
     "data": {
      "text/html": [
       "<span style=\"color:cyan\"> |-default: 0.001</span>"
      ],
      "text/plain": [
       "<IPython.core.display.HTML object>"
      ]
     },
     "metadata": {},
     "output_type": "display_data"
    },
    {
     "data": {
      "text/html": [
       "<span style=\"color:blue\"> |-max_value: 0.01</span>"
      ],
      "text/plain": [
       "<IPython.core.display.HTML object>"
      ]
     },
     "metadata": {},
     "output_type": "display_data"
    },
    {
     "data": {
      "text/html": [
       "<span style=\"color:cyan\"> |-min_value: 0.0001</span>"
      ],
      "text/plain": [
       "<IPython.core.display.HTML object>"
      ]
     },
     "metadata": {},
     "output_type": "display_data"
    },
    {
     "data": {
      "text/html": [
       "<span style=\"color:blue\"> |-sampling: log</span>"
      ],
      "text/plain": [
       "<IPython.core.display.HTML object>"
      ]
     },
     "metadata": {},
     "output_type": "display_data"
    },
    {
     "data": {
      "text/html": [
       "<span style=\"color:cyan\"> |-step: None</span>"
      ],
      "text/plain": [
       "<IPython.core.display.HTML object>"
      ]
     },
     "metadata": {},
     "output_type": "display_data"
    }
   ],
   "source": [
    "from kerastuner.tuners import RandomSearch\n",
    "\n",
    "try:\n",
    "    ATTEMPT = ATTEMPT + 1\n",
    "except NameError:\n",
    "    ATTEMPT = 0\n",
    "\n",
    "tuner = RandomSearch(\n",
    "    hypermodel,\n",
    "    objective=\"val_accuracy\",\n",
    "    seed=SEED,\n",
    "    max_trials=MAX_TRIALS,\n",
    "    executions_per_trial=EXECUTION_PER_TRIAL,\n",
    "    directory=f'random_search_{ATTEMPT}',\n",
    "    project_name='titanic'\n",
    ")\n",
    "\n",
    "tuner.search_space_summary()"
   ]
  },
  {
   "cell_type": "code",
   "execution_count": 22,
   "metadata": {},
   "outputs": [
    {
     "name": "stdout",
     "output_type": "stream",
     "text": [
      "Train on 712 samples, validate on 179 samples\n",
      "Epoch 1/20\n",
      "712/712 [==============================] - 1s 1ms/sample - loss: 0.7142 - accuracy: 0.4775 - val_loss: 0.6766 - val_accuracy: 0.5866\n",
      "Epoch 2/20\n",
      "712/712 [==============================] - 0s 140us/sample - loss: 0.6589 - accuracy: 0.6194 - val_loss: 0.6823 - val_accuracy: 0.5866\n",
      "Epoch 3/20\n",
      "712/712 [==============================] - 0s 140us/sample - loss: 0.6646 - accuracy: 0.6236 - val_loss: 0.6700 - val_accuracy: 0.5866\n",
      "Epoch 4/20\n",
      "712/712 [==============================] - 0s 148us/sample - loss: 0.6575 - accuracy: 0.6208 - val_loss: 0.6494 - val_accuracy: 0.5866\n",
      "Epoch 5/20\n",
      "712/712 [==============================] - 0s 170us/sample - loss: 0.6277 - accuracy: 0.6306 - val_loss: 0.6135 - val_accuracy: 0.5866\n",
      "Epoch 6/20\n",
      "712/712 [==============================] - 0s 180us/sample - loss: 0.6061 - accuracy: 0.6798 - val_loss: 0.5613 - val_accuracy: 0.7765\n",
      "Epoch 7/20\n",
      "712/712 [==============================] - 0s 168us/sample - loss: 0.5601 - accuracy: 0.7247 - val_loss: 0.5206 - val_accuracy: 0.8045\n",
      "Epoch 8/20\n",
      "712/712 [==============================] - 0s 149us/sample - loss: 0.5181 - accuracy: 0.7767 - val_loss: 0.4936 - val_accuracy: 0.7877\n",
      "Epoch 9/20\n",
      "712/712 [==============================] - 0s 146us/sample - loss: 0.5052 - accuracy: 0.7837 - val_loss: 0.4834 - val_accuracy: 0.7877\n",
      "Epoch 10/20\n",
      "712/712 [==============================] - 0s 145us/sample - loss: 0.4862 - accuracy: 0.7978 - val_loss: 0.4778 - val_accuracy: 0.7821\n",
      "Epoch 11/20\n",
      "712/712 [==============================] - 0s 145us/sample - loss: 0.4821 - accuracy: 0.7963 - val_loss: 0.4735 - val_accuracy: 0.7877\n",
      "Epoch 12/20\n",
      "712/712 [==============================] - 0s 139us/sample - loss: 0.4830 - accuracy: 0.7978 - val_loss: 0.4737 - val_accuracy: 0.7877\n",
      "Epoch 13/20\n",
      "712/712 [==============================] - 0s 146us/sample - loss: 0.4737 - accuracy: 0.8006 - val_loss: 0.4719 - val_accuracy: 0.7877\n",
      "Epoch 14/20\n",
      "712/712 [==============================] - 0s 148us/sample - loss: 0.4732 - accuracy: 0.8020 - val_loss: 0.4674 - val_accuracy: 0.7877\n",
      "Epoch 15/20\n",
      "712/712 [==============================] - 0s 141us/sample - loss: 0.4744 - accuracy: 0.7978 - val_loss: 0.4637 - val_accuracy: 0.7989\n",
      "Epoch 16/20\n",
      "712/712 [==============================] - 0s 138us/sample - loss: 0.4567 - accuracy: 0.8216 - val_loss: 0.4626 - val_accuracy: 0.7989\n",
      "Epoch 17/20\n",
      "712/712 [==============================] - 0s 139us/sample - loss: 0.4702 - accuracy: 0.8118 - val_loss: 0.4612 - val_accuracy: 0.8045\n",
      "Epoch 18/20\n",
      "712/712 [==============================] - 0s 137us/sample - loss: 0.4511 - accuracy: 0.8160 - val_loss: 0.4554 - val_accuracy: 0.7989\n",
      "Epoch 19/20\n",
      "712/712 [==============================] - 0s 152us/sample - loss: 0.4541 - accuracy: 0.8174 - val_loss: 0.4518 - val_accuracy: 0.8045\n",
      "Epoch 20/20\n",
      "712/712 [==============================] - 0s 158us/sample - loss: 0.4757 - accuracy: 0.8034 - val_loss: 0.4484 - val_accuracy: 0.8045\n",
      "Train on 712 samples, validate on 179 samples\n",
      "Epoch 1/20\n",
      "712/712 [==============================] - 1s 1ms/sample - loss: 0.6660 - accuracy: 0.6236 - val_loss: 0.6794 - val_accuracy: 0.5866\n",
      "Epoch 2/20\n",
      "712/712 [==============================] - 0s 150us/sample - loss: 0.6619 - accuracy: 0.6236 - val_loss: 0.6763 - val_accuracy: 0.5866\n",
      "Epoch 3/20\n",
      "712/712 [==============================] - 0s 145us/sample - loss: 0.6589 - accuracy: 0.6236 - val_loss: 0.6715 - val_accuracy: 0.5866\n",
      "Epoch 4/20\n",
      "712/712 [==============================] - 0s 143us/sample - loss: 0.6593 - accuracy: 0.6236 - val_loss: 0.6562 - val_accuracy: 0.5866\n",
      "Epoch 5/20\n",
      "712/712 [==============================] - 0s 139us/sample - loss: 0.6415 - accuracy: 0.6236 - val_loss: 0.6367 - val_accuracy: 0.5866\n",
      "Epoch 6/20\n",
      "712/712 [==============================] - 0s 140us/sample - loss: 0.6257 - accuracy: 0.6320 - val_loss: 0.6034 - val_accuracy: 0.5866\n",
      "Epoch 7/20\n",
      "712/712 [==============================] - 0s 145us/sample - loss: 0.6075 - accuracy: 0.6531 - val_loss: 0.5705 - val_accuracy: 0.7151\n",
      "Epoch 8/20\n",
      "712/712 [==============================] - 0s 155us/sample - loss: 0.5817 - accuracy: 0.6854 - val_loss: 0.5382 - val_accuracy: 0.7877\n",
      "Epoch 9/20\n",
      "712/712 [==============================] - 0s 175us/sample - loss: 0.5561 - accuracy: 0.6952 - val_loss: 0.5129 - val_accuracy: 0.7933\n",
      "Epoch 10/20\n",
      "712/712 [==============================] - 0s 150us/sample - loss: 0.5280 - accuracy: 0.7570 - val_loss: 0.4937 - val_accuracy: 0.7877\n",
      "Epoch 11/20\n",
      "712/712 [==============================] - 0s 180us/sample - loss: 0.5080 - accuracy: 0.7767 - val_loss: 0.4794 - val_accuracy: 0.8101\n",
      "Epoch 12/20\n",
      "712/712 [==============================] - 0s 143us/sample - loss: 0.5091 - accuracy: 0.7669 - val_loss: 0.4686 - val_accuracy: 0.8101\n",
      "Epoch 13/20\n",
      "712/712 [==============================] - 0s 144us/sample - loss: 0.4998 - accuracy: 0.7669 - val_loss: 0.4642 - val_accuracy: 0.8045\n",
      "Epoch 14/20\n",
      "712/712 [==============================] - 0s 148us/sample - loss: 0.4905 - accuracy: 0.7921 - val_loss: 0.4606 - val_accuracy: 0.8045\n",
      "Epoch 15/20\n",
      "712/712 [==============================] - 0s 148us/sample - loss: 0.4805 - accuracy: 0.7921 - val_loss: 0.4592 - val_accuracy: 0.7989\n",
      "Epoch 16/20\n",
      "712/712 [==============================] - 0s 143us/sample - loss: 0.4874 - accuracy: 0.7809 - val_loss: 0.4569 - val_accuracy: 0.7989\n",
      "Epoch 17/20\n",
      "712/712 [==============================] - 0s 145us/sample - loss: 0.4874 - accuracy: 0.7823 - val_loss: 0.4550 - val_accuracy: 0.8045\n",
      "Epoch 18/20\n",
      "712/712 [==============================] - 0s 141us/sample - loss: 0.4771 - accuracy: 0.7935 - val_loss: 0.4560 - val_accuracy: 0.7989\n",
      "Epoch 19/20\n",
      "712/712 [==============================] - 0s 140us/sample - loss: 0.4863 - accuracy: 0.7865 - val_loss: 0.4545 - val_accuracy: 0.8045\n",
      "Epoch 20/20\n",
      "712/712 [==============================] - 0s 148us/sample - loss: 0.4759 - accuracy: 0.7935 - val_loss: 0.4544 - val_accuracy: 0.8101\n"
     ]
    },
    {
     "data": {
      "text/html": [
       "<span style=\"color:#4527A0\"><h1 style=\"font-size:18px\">Trial complete</h1></span>"
      ],
      "text/plain": [
       "<IPython.core.display.HTML object>"
      ]
     },
     "metadata": {},
     "output_type": "display_data"
    },
    {
     "data": {
      "text/html": [
       "<span style=\"color:#4527A0\"><h1 style=\"font-size:18px\">Trial summary</h1></span>"
      ],
      "text/plain": [
       "<IPython.core.display.HTML object>"
      ]
     },
     "metadata": {},
     "output_type": "display_data"
    },
    {
     "data": {
      "text/html": [
       "<span style=\"color:cyan\"> |-Trial ID: ea5fe06e3846d3e342476e3334e0d5cb</span>"
      ],
      "text/plain": [
       "<IPython.core.display.HTML object>"
      ]
     },
     "metadata": {},
     "output_type": "display_data"
    },
    {
     "data": {
      "text/html": [
       "<span style=\"color:cyan\"> |-Score: 0.8072625398635864</span>"
      ],
      "text/plain": [
       "<IPython.core.display.HTML object>"
      ]
     },
     "metadata": {},
     "output_type": "display_data"
    },
    {
     "data": {
      "text/html": [
       "<span style=\"color:cyan\"> |-Best step: 0</span>"
      ],
      "text/plain": [
       "<IPython.core.display.HTML object>"
      ]
     },
     "metadata": {},
     "output_type": "display_data"
    },
    {
     "data": {
      "text/html": [
       "<span style=\"color:#7E57C2\"><h2 style=\"font-size:16px\">Hyperparameters:</h2></span>"
      ],
      "text/plain": [
       "<IPython.core.display.HTML object>"
      ]
     },
     "metadata": {},
     "output_type": "display_data"
    },
    {
     "data": {
      "text/html": [
       "<span style=\"color:cyan\"> |-dense_activation_0: tanh</span>"
      ],
      "text/plain": [
       "<IPython.core.display.HTML object>"
      ]
     },
     "metadata": {},
     "output_type": "display_data"
    },
    {
     "data": {
      "text/html": [
       "<span style=\"color:blue\"> |-dense_activation_1: tanh</span>"
      ],
      "text/plain": [
       "<IPython.core.display.HTML object>"
      ]
     },
     "metadata": {},
     "output_type": "display_data"
    },
    {
     "data": {
      "text/html": [
       "<span style=\"color:cyan\"> |-dense_activation_2: tanh</span>"
      ],
      "text/plain": [
       "<IPython.core.display.HTML object>"
      ]
     },
     "metadata": {},
     "output_type": "display_data"
    },
    {
     "data": {
      "text/html": [
       "<span style=\"color:blue\"> |-dense_activation_3: sigmoid</span>"
      ],
      "text/plain": [
       "<IPython.core.display.HTML object>"
      ]
     },
     "metadata": {},
     "output_type": "display_data"
    },
    {
     "data": {
      "text/html": [
       "<span style=\"color:cyan\"> |-dense_activation_4: sigmoid</span>"
      ],
      "text/plain": [
       "<IPython.core.display.HTML object>"
      ]
     },
     "metadata": {},
     "output_type": "display_data"
    },
    {
     "data": {
      "text/html": [
       "<span style=\"color:blue\"> |-dense_activation_5: relu</span>"
      ],
      "text/plain": [
       "<IPython.core.display.HTML object>"
      ]
     },
     "metadata": {},
     "output_type": "display_data"
    },
    {
     "data": {
      "text/html": [
       "<span style=\"color:cyan\"> |-dense_activation_6: sigmoid</span>"
      ],
      "text/plain": [
       "<IPython.core.display.HTML object>"
      ]
     },
     "metadata": {},
     "output_type": "display_data"
    },
    {
     "data": {
      "text/html": [
       "<span style=\"color:blue\"> |-dense_units_0: 8</span>"
      ],
      "text/plain": [
       "<IPython.core.display.HTML object>"
      ]
     },
     "metadata": {},
     "output_type": "display_data"
    },
    {
     "data": {
      "text/html": [
       "<span style=\"color:cyan\"> |-dense_units_1: 56</span>"
      ],
      "text/plain": [
       "<IPython.core.display.HTML object>"
      ]
     },
     "metadata": {},
     "output_type": "display_data"
    },
    {
     "data": {
      "text/html": [
       "<span style=\"color:blue\"> |-dense_units_2: 8</span>"
      ],
      "text/plain": [
       "<IPython.core.display.HTML object>"
      ]
     },
     "metadata": {},
     "output_type": "display_data"
    },
    {
     "data": {
      "text/html": [
       "<span style=\"color:cyan\"> |-dense_units_3: 64</span>"
      ],
      "text/plain": [
       "<IPython.core.display.HTML object>"
      ]
     },
     "metadata": {},
     "output_type": "display_data"
    },
    {
     "data": {
      "text/html": [
       "<span style=\"color:blue\"> |-dense_units_4: 16</span>"
      ],
      "text/plain": [
       "<IPython.core.display.HTML object>"
      ]
     },
     "metadata": {},
     "output_type": "display_data"
    },
    {
     "data": {
      "text/html": [
       "<span style=\"color:cyan\"> |-dense_units_5: 40</span>"
      ],
      "text/plain": [
       "<IPython.core.display.HTML object>"
      ]
     },
     "metadata": {},
     "output_type": "display_data"
    },
    {
     "data": {
      "text/html": [
       "<span style=\"color:blue\"> |-dense_units_6: 32</span>"
      ],
      "text/plain": [
       "<IPython.core.display.HTML object>"
      ]
     },
     "metadata": {},
     "output_type": "display_data"
    },
    {
     "data": {
      "text/html": [
       "<span style=\"color:cyan\"> |-dropout_0: 0.15000000000000002</span>"
      ],
      "text/plain": [
       "<IPython.core.display.HTML object>"
      ]
     },
     "metadata": {},
     "output_type": "display_data"
    },
    {
     "data": {
      "text/html": [
       "<span style=\"color:blue\"> |-dropout_1: 0.25</span>"
      ],
      "text/plain": [
       "<IPython.core.display.HTML object>"
      ]
     },
     "metadata": {},
     "output_type": "display_data"
    },
    {
     "data": {
      "text/html": [
       "<span style=\"color:cyan\"> |-dropout_2: 0.1</span>"
      ],
      "text/plain": [
       "<IPython.core.display.HTML object>"
      ]
     },
     "metadata": {},
     "output_type": "display_data"
    },
    {
     "data": {
      "text/html": [
       "<span style=\"color:blue\"> |-dropout_3: 0.45</span>"
      ],
      "text/plain": [
       "<IPython.core.display.HTML object>"
      ]
     },
     "metadata": {},
     "output_type": "display_data"
    },
    {
     "data": {
      "text/html": [
       "<span style=\"color:cyan\"> |-dropout_4: 0.0</span>"
      ],
      "text/plain": [
       "<IPython.core.display.HTML object>"
      ]
     },
     "metadata": {},
     "output_type": "display_data"
    },
    {
     "data": {
      "text/html": [
       "<span style=\"color:blue\"> |-dropout_5: 0.15000000000000002</span>"
      ],
      "text/plain": [
       "<IPython.core.display.HTML object>"
      ]
     },
     "metadata": {},
     "output_type": "display_data"
    },
    {
     "data": {
      "text/html": [
       "<span style=\"color:cyan\"> |-dropout_6: 0.2</span>"
      ],
      "text/plain": [
       "<IPython.core.display.HTML object>"
      ]
     },
     "metadata": {},
     "output_type": "display_data"
    },
    {
     "data": {
      "text/html": [
       "<span style=\"color:blue\"> |-learning_rate: 0.0008960175671873151</span>"
      ],
      "text/plain": [
       "<IPython.core.display.HTML object>"
      ]
     },
     "metadata": {},
     "output_type": "display_data"
    },
    {
     "data": {
      "text/html": [
       "<span style=\"color:cyan\"> |-num_layers: 4</span>"
      ],
      "text/plain": [
       "<IPython.core.display.HTML object>"
      ]
     },
     "metadata": {},
     "output_type": "display_data"
    },
    {
     "name": "stdout",
     "output_type": "stream",
     "text": [
      "Train on 712 samples, validate on 179 samples\n",
      "Epoch 1/20\n",
      "712/712 [==============================] - 1s 1ms/sample - loss: 0.7939 - accuracy: 0.4831 - val_loss: 0.6799 - val_accuracy: 0.4916\n",
      "Epoch 2/20\n",
      "712/712 [==============================] - 0s 183us/sample - loss: 0.7759 - accuracy: 0.5000 - val_loss: 0.6422 - val_accuracy: 0.6648\n",
      "Epoch 3/20\n",
      "712/712 [==============================] - 0s 172us/sample - loss: 0.7104 - accuracy: 0.5744 - val_loss: 0.6308 - val_accuracy: 0.6369\n",
      "Epoch 4/20\n",
      "712/712 [==============================] - 0s 135us/sample - loss: 0.7050 - accuracy: 0.5885 - val_loss: 0.6285 - val_accuracy: 0.5978\n",
      "Epoch 5/20\n",
      "712/712 [==============================] - 0s 150us/sample - loss: 0.7079 - accuracy: 0.5632 - val_loss: 0.6283 - val_accuracy: 0.5866\n",
      "Epoch 6/20\n",
      "712/712 [==============================] - 0s 148us/sample - loss: 0.6941 - accuracy: 0.5744 - val_loss: 0.6232 - val_accuracy: 0.5922\n",
      "Epoch 7/20\n",
      "712/712 [==============================] - 0s 143us/sample - loss: 0.6907 - accuracy: 0.6039 - val_loss: 0.6224 - val_accuracy: 0.5866\n",
      "Epoch 8/20\n",
      "712/712 [==============================] - 0s 218us/sample - loss: 0.6777 - accuracy: 0.6011 - val_loss: 0.6179 - val_accuracy: 0.5866\n",
      "Epoch 9/20\n",
      "712/712 [==============================] - 0s 154us/sample - loss: 0.6728 - accuracy: 0.6039 - val_loss: 0.6165 - val_accuracy: 0.5866\n",
      "Epoch 10/20\n",
      "712/712 [==============================] - 0s 141us/sample - loss: 0.6794 - accuracy: 0.6067 - val_loss: 0.6078 - val_accuracy: 0.5866\n",
      "Epoch 11/20\n",
      "712/712 [==============================] - 0s 149us/sample - loss: 0.6884 - accuracy: 0.5843 - val_loss: 0.6022 - val_accuracy: 0.5922\n",
      "Epoch 12/20\n",
      "712/712 [==============================] - 0s 262us/sample - loss: 0.6657 - accuracy: 0.6208 - val_loss: 0.5983 - val_accuracy: 0.5922\n",
      "Epoch 13/20\n",
      "712/712 [==============================] - 0s 231us/sample - loss: 0.6673 - accuracy: 0.6194 - val_loss: 0.5934 - val_accuracy: 0.5978\n",
      "Epoch 14/20\n",
      "712/712 [==============================] - 0s 193us/sample - loss: 0.6834 - accuracy: 0.5969 - val_loss: 0.5891 - val_accuracy: 0.6089\n",
      "Epoch 15/20\n",
      "712/712 [==============================] - 0s 138us/sample - loss: 0.6646 - accuracy: 0.6320 - val_loss: 0.5843 - val_accuracy: 0.6145\n",
      "Epoch 16/20\n",
      "712/712 [==============================] - 0s 132us/sample - loss: 0.6601 - accuracy: 0.6081 - val_loss: 0.5793 - val_accuracy: 0.6313\n",
      "Epoch 17/20\n",
      "712/712 [==============================] - 0s 135us/sample - loss: 0.6660 - accuracy: 0.6250 - val_loss: 0.5793 - val_accuracy: 0.6201\n",
      "Epoch 18/20\n",
      "712/712 [==============================] - 0s 152us/sample - loss: 0.6493 - accuracy: 0.6264 - val_loss: 0.5723 - val_accuracy: 0.6369\n",
      "Epoch 19/20\n",
      "712/712 [==============================] - 0s 145us/sample - loss: 0.6549 - accuracy: 0.6236 - val_loss: 0.5679 - val_accuracy: 0.6536\n",
      "Epoch 20/20\n",
      "712/712 [==============================] - 0s 158us/sample - loss: 0.6565 - accuracy: 0.6264 - val_loss: 0.5616 - val_accuracy: 0.6704\n",
      "Train on 712 samples, validate on 179 samples\n",
      "Epoch 1/20\n",
      "712/712 [==============================] - 1s 1ms/sample - loss: 0.7255 - accuracy: 0.5183 - val_loss: 0.6649 - val_accuracy: 0.6257\n",
      "Epoch 2/20\n",
      "712/712 [==============================] - 0s 191us/sample - loss: 0.7107 - accuracy: 0.5492 - val_loss: 0.6548 - val_accuracy: 0.6034\n",
      "Epoch 3/20\n",
      "712/712 [==============================] - 0s 164us/sample - loss: 0.7149 - accuracy: 0.5590 - val_loss: 0.6452 - val_accuracy: 0.5978\n",
      "Epoch 4/20\n",
      "712/712 [==============================] - 0s 144us/sample - loss: 0.6808 - accuracy: 0.6166 - val_loss: 0.6364 - val_accuracy: 0.6034\n",
      "Epoch 5/20\n",
      "712/712 [==============================] - 0s 175us/sample - loss: 0.6832 - accuracy: 0.6138 - val_loss: 0.6273 - val_accuracy: 0.6145\n",
      "Epoch 6/20\n",
      "712/712 [==============================] - 0s 243us/sample - loss: 0.6620 - accuracy: 0.6419 - val_loss: 0.6181 - val_accuracy: 0.6648\n",
      "Epoch 7/20\n",
      "712/712 [==============================] - 0s 158us/sample - loss: 0.6607 - accuracy: 0.6362 - val_loss: 0.6095 - val_accuracy: 0.6648\n",
      "Epoch 8/20\n",
      "712/712 [==============================] - 0s 167us/sample - loss: 0.6424 - accuracy: 0.6475 - val_loss: 0.5986 - val_accuracy: 0.7430\n",
      "Epoch 9/20\n",
      "712/712 [==============================] - 0s 170us/sample - loss: 0.6568 - accuracy: 0.6320 - val_loss: 0.5918 - val_accuracy: 0.7598\n",
      "Epoch 10/20\n",
      "712/712 [==============================] - 0s 176us/sample - loss: 0.6518 - accuracy: 0.6601 - val_loss: 0.5831 - val_accuracy: 0.7765\n",
      "Epoch 11/20\n",
      "712/712 [==============================] - 0s 149us/sample - loss: 0.6441 - accuracy: 0.6390 - val_loss: 0.5735 - val_accuracy: 0.7765\n",
      "Epoch 12/20\n",
      "712/712 [==============================] - 0s 181us/sample - loss: 0.6344 - accuracy: 0.6629 - val_loss: 0.5640 - val_accuracy: 0.7877\n",
      "Epoch 13/20\n",
      "712/712 [==============================] - 0s 157us/sample - loss: 0.6402 - accuracy: 0.6615 - val_loss: 0.5564 - val_accuracy: 0.7821\n",
      "Epoch 14/20\n",
      "712/712 [==============================] - 0s 147us/sample - loss: 0.6123 - accuracy: 0.6770 - val_loss: 0.5497 - val_accuracy: 0.7821\n",
      "Epoch 15/20\n",
      "712/712 [==============================] - 0s 149us/sample - loss: 0.6268 - accuracy: 0.6756 - val_loss: 0.5422 - val_accuracy: 0.7821\n",
      "Epoch 16/20\n",
      "712/712 [==============================] - 0s 144us/sample - loss: 0.6251 - accuracy: 0.6770 - val_loss: 0.5365 - val_accuracy: 0.7821\n",
      "Epoch 17/20\n",
      "712/712 [==============================] - 0s 154us/sample - loss: 0.6160 - accuracy: 0.6798 - val_loss: 0.5307 - val_accuracy: 0.7821\n",
      "Epoch 18/20\n",
      "712/712 [==============================] - 0s 148us/sample - loss: 0.6297 - accuracy: 0.6503 - val_loss: 0.5253 - val_accuracy: 0.7877\n",
      "Epoch 19/20\n",
      "712/712 [==============================] - 0s 144us/sample - loss: 0.6173 - accuracy: 0.6868 - val_loss: 0.5203 - val_accuracy: 0.7877\n",
      "Epoch 20/20\n",
      "712/712 [==============================] - 0s 141us/sample - loss: 0.5985 - accuracy: 0.6896 - val_loss: 0.5137 - val_accuracy: 0.7877\n"
     ]
    },
    {
     "data": {
      "text/html": [
       "<span style=\"color:#4527A0\"><h1 style=\"font-size:18px\">Trial complete</h1></span>"
      ],
      "text/plain": [
       "<IPython.core.display.HTML object>"
      ]
     },
     "metadata": {},
     "output_type": "display_data"
    },
    {
     "data": {
      "text/html": [
       "<span style=\"color:#4527A0\"><h1 style=\"font-size:18px\">Trial summary</h1></span>"
      ],
      "text/plain": [
       "<IPython.core.display.HTML object>"
      ]
     },
     "metadata": {},
     "output_type": "display_data"
    },
    {
     "data": {
      "text/html": [
       "<span style=\"color:cyan\"> |-Trial ID: 376a7a6974d8925daac19d70c2f51ba4</span>"
      ],
      "text/plain": [
       "<IPython.core.display.HTML object>"
      ]
     },
     "metadata": {},
     "output_type": "display_data"
    },
    {
     "data": {
      "text/html": [
       "<span style=\"color:cyan\"> |-Score: 0.7290502786636353</span>"
      ],
      "text/plain": [
       "<IPython.core.display.HTML object>"
      ]
     },
     "metadata": {},
     "output_type": "display_data"
    },
    {
     "data": {
      "text/html": [
       "<span style=\"color:cyan\"> |-Best step: 0</span>"
      ],
      "text/plain": [
       "<IPython.core.display.HTML object>"
      ]
     },
     "metadata": {},
     "output_type": "display_data"
    },
    {
     "data": {
      "text/html": [
       "<span style=\"color:#7E57C2\"><h2 style=\"font-size:16px\">Hyperparameters:</h2></span>"
      ],
      "text/plain": [
       "<IPython.core.display.HTML object>"
      ]
     },
     "metadata": {},
     "output_type": "display_data"
    },
    {
     "data": {
      "text/html": [
       "<span style=\"color:cyan\"> |-dense_activation_0: relu</span>"
      ],
      "text/plain": [
       "<IPython.core.display.HTML object>"
      ]
     },
     "metadata": {},
     "output_type": "display_data"
    },
    {
     "data": {
      "text/html": [
       "<span style=\"color:blue\"> |-dense_activation_1: relu</span>"
      ],
      "text/plain": [
       "<IPython.core.display.HTML object>"
      ]
     },
     "metadata": {},
     "output_type": "display_data"
    },
    {
     "data": {
      "text/html": [
       "<span style=\"color:cyan\"> |-dense_activation_2: tanh</span>"
      ],
      "text/plain": [
       "<IPython.core.display.HTML object>"
      ]
     },
     "metadata": {},
     "output_type": "display_data"
    },
    {
     "data": {
      "text/html": [
       "<span style=\"color:blue\"> |-dense_activation_3: tanh</span>"
      ],
      "text/plain": [
       "<IPython.core.display.HTML object>"
      ]
     },
     "metadata": {},
     "output_type": "display_data"
    },
    {
     "data": {
      "text/html": [
       "<span style=\"color:cyan\"> |-dense_activation_4: relu</span>"
      ],
      "text/plain": [
       "<IPython.core.display.HTML object>"
      ]
     },
     "metadata": {},
     "output_type": "display_data"
    },
    {
     "data": {
      "text/html": [
       "<span style=\"color:blue\"> |-dense_activation_5: relu</span>"
      ],
      "text/plain": [
       "<IPython.core.display.HTML object>"
      ]
     },
     "metadata": {},
     "output_type": "display_data"
    },
    {
     "data": {
      "text/html": [
       "<span style=\"color:cyan\"> |-dense_activation_6: relu</span>"
      ],
      "text/plain": [
       "<IPython.core.display.HTML object>"
      ]
     },
     "metadata": {},
     "output_type": "display_data"
    },
    {
     "data": {
      "text/html": [
       "<span style=\"color:blue\"> |-dense_units_0: 8</span>"
      ],
      "text/plain": [
       "<IPython.core.display.HTML object>"
      ]
     },
     "metadata": {},
     "output_type": "display_data"
    },
    {
     "data": {
      "text/html": [
       "<span style=\"color:cyan\"> |-dense_units_1: 48</span>"
      ],
      "text/plain": [
       "<IPython.core.display.HTML object>"
      ]
     },
     "metadata": {},
     "output_type": "display_data"
    },
    {
     "data": {
      "text/html": [
       "<span style=\"color:blue\"> |-dense_units_2: 16</span>"
      ],
      "text/plain": [
       "<IPython.core.display.HTML object>"
      ]
     },
     "metadata": {},
     "output_type": "display_data"
    },
    {
     "data": {
      "text/html": [
       "<span style=\"color:cyan\"> |-dense_units_3: 32</span>"
      ],
      "text/plain": [
       "<IPython.core.display.HTML object>"
      ]
     },
     "metadata": {},
     "output_type": "display_data"
    },
    {
     "data": {
      "text/html": [
       "<span style=\"color:blue\"> |-dense_units_4: 56</span>"
      ],
      "text/plain": [
       "<IPython.core.display.HTML object>"
      ]
     },
     "metadata": {},
     "output_type": "display_data"
    },
    {
     "data": {
      "text/html": [
       "<span style=\"color:cyan\"> |-dense_units_5: 40</span>"
      ],
      "text/plain": [
       "<IPython.core.display.HTML object>"
      ]
     },
     "metadata": {},
     "output_type": "display_data"
    },
    {
     "data": {
      "text/html": [
       "<span style=\"color:blue\"> |-dense_units_6: 48</span>"
      ],
      "text/plain": [
       "<IPython.core.display.HTML object>"
      ]
     },
     "metadata": {},
     "output_type": "display_data"
    },
    {
     "data": {
      "text/html": [
       "<span style=\"color:cyan\"> |-dropout_0: 0.35000000000000003</span>"
      ],
      "text/plain": [
       "<IPython.core.display.HTML object>"
      ]
     },
     "metadata": {},
     "output_type": "display_data"
    },
    {
     "data": {
      "text/html": [
       "<span style=\"color:blue\"> |-dropout_1: 0.15000000000000002</span>"
      ],
      "text/plain": [
       "<IPython.core.display.HTML object>"
      ]
     },
     "metadata": {},
     "output_type": "display_data"
    },
    {
     "data": {
      "text/html": [
       "<span style=\"color:cyan\"> |-dropout_2: 0.45</span>"
      ],
      "text/plain": [
       "<IPython.core.display.HTML object>"
      ]
     },
     "metadata": {},
     "output_type": "display_data"
    },
    {
     "data": {
      "text/html": [
       "<span style=\"color:blue\"> |-dropout_3: 0.4</span>"
      ],
      "text/plain": [
       "<IPython.core.display.HTML object>"
      ]
     },
     "metadata": {},
     "output_type": "display_data"
    },
    {
     "data": {
      "text/html": [
       "<span style=\"color:cyan\"> |-dropout_4: 0.15000000000000002</span>"
      ],
      "text/plain": [
       "<IPython.core.display.HTML object>"
      ]
     },
     "metadata": {},
     "output_type": "display_data"
    },
    {
     "data": {
      "text/html": [
       "<span style=\"color:blue\"> |-dropout_5: 0.25</span>"
      ],
      "text/plain": [
       "<IPython.core.display.HTML object>"
      ]
     },
     "metadata": {},
     "output_type": "display_data"
    },
    {
     "data": {
      "text/html": [
       "<span style=\"color:cyan\"> |-dropout_6: 0.4</span>"
      ],
      "text/plain": [
       "<IPython.core.display.HTML object>"
      ]
     },
     "metadata": {},
     "output_type": "display_data"
    },
    {
     "data": {
      "text/html": [
       "<span style=\"color:blue\"> |-learning_rate: 0.00019584369813174676</span>"
      ],
      "text/plain": [
       "<IPython.core.display.HTML object>"
      ]
     },
     "metadata": {},
     "output_type": "display_data"
    },
    {
     "data": {
      "text/html": [
       "<span style=\"color:cyan\"> |-num_layers: 3</span>"
      ],
      "text/plain": [
       "<IPython.core.display.HTML object>"
      ]
     },
     "metadata": {},
     "output_type": "display_data"
    },
    {
     "name": "stdout",
     "output_type": "stream",
     "text": [
      "Train on 712 samples, validate on 179 samples\n",
      "Epoch 1/20\n",
      "712/712 [==============================] - 1s 1ms/sample - loss: 0.5341 - accuracy: 0.7233 - val_loss: 0.4539 - val_accuracy: 0.7933\n",
      "Epoch 2/20\n",
      "712/712 [==============================] - 0s 164us/sample - loss: 0.4875 - accuracy: 0.7851 - val_loss: 0.4485 - val_accuracy: 0.7821\n",
      "Epoch 3/20\n",
      "712/712 [==============================] - 0s 163us/sample - loss: 0.4460 - accuracy: 0.8104 - val_loss: 0.4510 - val_accuracy: 0.8212\n",
      "Epoch 4/20\n",
      "712/712 [==============================] - 0s 141us/sample - loss: 0.4643 - accuracy: 0.7851 - val_loss: 0.4464 - val_accuracy: 0.8101\n",
      "Epoch 5/20\n",
      "712/712 [==============================] - 0s 137us/sample - loss: 0.4399 - accuracy: 0.8202 - val_loss: 0.4482 - val_accuracy: 0.8156\n",
      "Epoch 6/20\n",
      "712/712 [==============================] - 0s 137us/sample - loss: 0.4383 - accuracy: 0.8272 - val_loss: 0.4298 - val_accuracy: 0.8156\n",
      "Epoch 7/20\n",
      "712/712 [==============================] - 0s 134us/sample - loss: 0.4171 - accuracy: 0.8272 - val_loss: 0.4430 - val_accuracy: 0.8212\n",
      "Epoch 8/20\n",
      "712/712 [==============================] - 0s 134us/sample - loss: 0.4197 - accuracy: 0.8315 - val_loss: 0.4548 - val_accuracy: 0.7654\n",
      "Epoch 9/20\n",
      "712/712 [==============================] - 0s 137us/sample - loss: 0.4175 - accuracy: 0.8357 - val_loss: 0.4262 - val_accuracy: 0.8045\n",
      "Epoch 10/20\n",
      "712/712 [==============================] - 0s 160us/sample - loss: 0.4185 - accuracy: 0.8062 - val_loss: 0.4375 - val_accuracy: 0.8268\n",
      "Epoch 11/20\n",
      "712/712 [==============================] - 0s 147us/sample - loss: 0.4163 - accuracy: 0.8146 - val_loss: 0.4204 - val_accuracy: 0.8268\n",
      "Epoch 12/20\n",
      "712/712 [==============================] - 0s 164us/sample - loss: 0.3950 - accuracy: 0.8441 - val_loss: 0.4247 - val_accuracy: 0.8212\n",
      "Epoch 13/20\n",
      "712/712 [==============================] - 0s 171us/sample - loss: 0.4158 - accuracy: 0.8301 - val_loss: 0.4317 - val_accuracy: 0.8324\n",
      "Epoch 14/20\n",
      "712/712 [==============================] - 0s 137us/sample - loss: 0.4204 - accuracy: 0.8160 - val_loss: 0.4314 - val_accuracy: 0.8268\n",
      "Epoch 15/20\n",
      "712/712 [==============================] - 0s 141us/sample - loss: 0.3901 - accuracy: 0.8357 - val_loss: 0.4385 - val_accuracy: 0.8212\n",
      "Epoch 16/20\n",
      "712/712 [==============================] - 0s 156us/sample - loss: 0.3981 - accuracy: 0.8230 - val_loss: 0.4180 - val_accuracy: 0.8212\n",
      "Epoch 17/20\n",
      "712/712 [==============================] - 0s 160us/sample - loss: 0.4104 - accuracy: 0.8188 - val_loss: 0.4208 - val_accuracy: 0.8156\n",
      "Epoch 18/20\n",
      "712/712 [==============================] - 0s 152us/sample - loss: 0.3946 - accuracy: 0.8371 - val_loss: 0.4361 - val_accuracy: 0.7709\n",
      "Epoch 19/20\n",
      "712/712 [==============================] - 0s 147us/sample - loss: 0.3966 - accuracy: 0.8315 - val_loss: 0.4156 - val_accuracy: 0.8212\n",
      "Epoch 20/20\n",
      "712/712 [==============================] - 0s 140us/sample - loss: 0.3892 - accuracy: 0.8301 - val_loss: 0.4136 - val_accuracy: 0.8101\n",
      "Train on 712 samples, validate on 179 samples\n",
      "Epoch 1/20\n",
      "712/712 [==============================] - 1s 994us/sample - loss: 0.6129 - accuracy: 0.6643 - val_loss: 0.4463 - val_accuracy: 0.7933\n",
      "Epoch 2/20\n",
      "712/712 [==============================] - 0s 147us/sample - loss: 0.5121 - accuracy: 0.7725 - val_loss: 0.4359 - val_accuracy: 0.8101\n",
      "Epoch 3/20\n",
      "712/712 [==============================] - 0s 166us/sample - loss: 0.4713 - accuracy: 0.8034 - val_loss: 0.4363 - val_accuracy: 0.7989\n",
      "Epoch 4/20\n",
      "712/712 [==============================] - 0s 150us/sample - loss: 0.4794 - accuracy: 0.7893 - val_loss: 0.4375 - val_accuracy: 0.8156\n",
      "Epoch 5/20\n",
      "712/712 [==============================] - 0s 136us/sample - loss: 0.4390 - accuracy: 0.8146 - val_loss: 0.4470 - val_accuracy: 0.8045\n",
      "Epoch 6/20\n",
      "712/712 [==============================] - 0s 142us/sample - loss: 0.4470 - accuracy: 0.8090 - val_loss: 0.4324 - val_accuracy: 0.8268\n",
      "Epoch 7/20\n",
      "712/712 [==============================] - 0s 143us/sample - loss: 0.4321 - accuracy: 0.8146 - val_loss: 0.4387 - val_accuracy: 0.8268\n",
      "Epoch 8/20\n",
      "712/712 [==============================] - 0s 140us/sample - loss: 0.4284 - accuracy: 0.8216 - val_loss: 0.4244 - val_accuracy: 0.8324\n",
      "Epoch 9/20\n",
      "712/712 [==============================] - 0s 147us/sample - loss: 0.4323 - accuracy: 0.8258 - val_loss: 0.4347 - val_accuracy: 0.8212\n",
      "Epoch 10/20\n",
      "712/712 [==============================] - 0s 135us/sample - loss: 0.4178 - accuracy: 0.8301 - val_loss: 0.4253 - val_accuracy: 0.8268\n",
      "Epoch 11/20\n",
      "712/712 [==============================] - 0s 141us/sample - loss: 0.4015 - accuracy: 0.8441 - val_loss: 0.4313 - val_accuracy: 0.8268\n",
      "Epoch 12/20\n",
      "712/712 [==============================] - 0s 147us/sample - loss: 0.4059 - accuracy: 0.8343 - val_loss: 0.4222 - val_accuracy: 0.8212\n",
      "Epoch 13/20\n",
      "712/712 [==============================] - 0s 145us/sample - loss: 0.4221 - accuracy: 0.8329 - val_loss: 0.4356 - val_accuracy: 0.8212\n",
      "Epoch 14/20\n",
      "712/712 [==============================] - 0s 146us/sample - loss: 0.4251 - accuracy: 0.8244 - val_loss: 0.4089 - val_accuracy: 0.8324\n",
      "Epoch 15/20\n",
      "712/712 [==============================] - 0s 147us/sample - loss: 0.4046 - accuracy: 0.8258 - val_loss: 0.4074 - val_accuracy: 0.8324\n",
      "Epoch 16/20\n",
      "712/712 [==============================] - 0s 173us/sample - loss: 0.3979 - accuracy: 0.8301 - val_loss: 0.4036 - val_accuracy: 0.8324\n",
      "Epoch 17/20\n",
      "712/712 [==============================] - 0s 163us/sample - loss: 0.3959 - accuracy: 0.8469 - val_loss: 0.4022 - val_accuracy: 0.8324\n",
      "Epoch 18/20\n",
      "712/712 [==============================] - 0s 238us/sample - loss: 0.4127 - accuracy: 0.8258 - val_loss: 0.4178 - val_accuracy: 0.8268\n",
      "Epoch 19/20\n",
      "712/712 [==============================] - 0s 160us/sample - loss: 0.4057 - accuracy: 0.8315 - val_loss: 0.4187 - val_accuracy: 0.8268\n",
      "Epoch 20/20\n",
      "712/712 [==============================] - 0s 154us/sample - loss: 0.3977 - accuracy: 0.8385 - val_loss: 0.4494 - val_accuracy: 0.8156\n"
     ]
    },
    {
     "data": {
      "text/html": [
       "<span style=\"color:#4527A0\"><h1 style=\"font-size:18px\">Trial complete</h1></span>"
      ],
      "text/plain": [
       "<IPython.core.display.HTML object>"
      ]
     },
     "metadata": {},
     "output_type": "display_data"
    },
    {
     "data": {
      "text/html": [
       "<span style=\"color:#4527A0\"><h1 style=\"font-size:18px\">Trial summary</h1></span>"
      ],
      "text/plain": [
       "<IPython.core.display.HTML object>"
      ]
     },
     "metadata": {},
     "output_type": "display_data"
    },
    {
     "data": {
      "text/html": [
       "<span style=\"color:cyan\"> |-Trial ID: 1e10a94157acabae47a42a9f30e18d21</span>"
      ],
      "text/plain": [
       "<IPython.core.display.HTML object>"
      ]
     },
     "metadata": {},
     "output_type": "display_data"
    },
    {
     "data": {
      "text/html": [
       "<span style=\"color:cyan\"> |-Score: 0.832402229309082</span>"
      ],
      "text/plain": [
       "<IPython.core.display.HTML object>"
      ]
     },
     "metadata": {},
     "output_type": "display_data"
    },
    {
     "data": {
      "text/html": [
       "<span style=\"color:cyan\"> |-Best step: 0</span>"
      ],
      "text/plain": [
       "<IPython.core.display.HTML object>"
      ]
     },
     "metadata": {},
     "output_type": "display_data"
    },
    {
     "data": {
      "text/html": [
       "<span style=\"color:#7E57C2\"><h2 style=\"font-size:16px\">Hyperparameters:</h2></span>"
      ],
      "text/plain": [
       "<IPython.core.display.HTML object>"
      ]
     },
     "metadata": {},
     "output_type": "display_data"
    },
    {
     "data": {
      "text/html": [
       "<span style=\"color:cyan\"> |-dense_activation_0: relu</span>"
      ],
      "text/plain": [
       "<IPython.core.display.HTML object>"
      ]
     },
     "metadata": {},
     "output_type": "display_data"
    },
    {
     "data": {
      "text/html": [
       "<span style=\"color:blue\"> |-dense_activation_1: tanh</span>"
      ],
      "text/plain": [
       "<IPython.core.display.HTML object>"
      ]
     },
     "metadata": {},
     "output_type": "display_data"
    },
    {
     "data": {
      "text/html": [
       "<span style=\"color:cyan\"> |-dense_activation_2: tanh</span>"
      ],
      "text/plain": [
       "<IPython.core.display.HTML object>"
      ]
     },
     "metadata": {},
     "output_type": "display_data"
    },
    {
     "data": {
      "text/html": [
       "<span style=\"color:blue\"> |-dense_activation_3: tanh</span>"
      ],
      "text/plain": [
       "<IPython.core.display.HTML object>"
      ]
     },
     "metadata": {},
     "output_type": "display_data"
    },
    {
     "data": {
      "text/html": [
       "<span style=\"color:cyan\"> |-dense_activation_4: relu</span>"
      ],
      "text/plain": [
       "<IPython.core.display.HTML object>"
      ]
     },
     "metadata": {},
     "output_type": "display_data"
    },
    {
     "data": {
      "text/html": [
       "<span style=\"color:blue\"> |-dense_activation_5: sigmoid</span>"
      ],
      "text/plain": [
       "<IPython.core.display.HTML object>"
      ]
     },
     "metadata": {},
     "output_type": "display_data"
    },
    {
     "data": {
      "text/html": [
       "<span style=\"color:cyan\"> |-dense_activation_6: relu</span>"
      ],
      "text/plain": [
       "<IPython.core.display.HTML object>"
      ]
     },
     "metadata": {},
     "output_type": "display_data"
    },
    {
     "data": {
      "text/html": [
       "<span style=\"color:blue\"> |-dense_units_0: 16</span>"
      ],
      "text/plain": [
       "<IPython.core.display.HTML object>"
      ]
     },
     "metadata": {},
     "output_type": "display_data"
    },
    {
     "data": {
      "text/html": [
       "<span style=\"color:cyan\"> |-dense_units_1: 32</span>"
      ],
      "text/plain": [
       "<IPython.core.display.HTML object>"
      ]
     },
     "metadata": {},
     "output_type": "display_data"
    },
    {
     "data": {
      "text/html": [
       "<span style=\"color:blue\"> |-dense_units_2: 48</span>"
      ],
      "text/plain": [
       "<IPython.core.display.HTML object>"
      ]
     },
     "metadata": {},
     "output_type": "display_data"
    },
    {
     "data": {
      "text/html": [
       "<span style=\"color:cyan\"> |-dense_units_3: 24</span>"
      ],
      "text/plain": [
       "<IPython.core.display.HTML object>"
      ]
     },
     "metadata": {},
     "output_type": "display_data"
    },
    {
     "data": {
      "text/html": [
       "<span style=\"color:blue\"> |-dense_units_4: 40</span>"
      ],
      "text/plain": [
       "<IPython.core.display.HTML object>"
      ]
     },
     "metadata": {},
     "output_type": "display_data"
    },
    {
     "data": {
      "text/html": [
       "<span style=\"color:cyan\"> |-dense_units_5: 64</span>"
      ],
      "text/plain": [
       "<IPython.core.display.HTML object>"
      ]
     },
     "metadata": {},
     "output_type": "display_data"
    },
    {
     "data": {
      "text/html": [
       "<span style=\"color:blue\"> |-dense_units_6: 24</span>"
      ],
      "text/plain": [
       "<IPython.core.display.HTML object>"
      ]
     },
     "metadata": {},
     "output_type": "display_data"
    },
    {
     "data": {
      "text/html": [
       "<span style=\"color:cyan\"> |-dropout_0: 0.05</span>"
      ],
      "text/plain": [
       "<IPython.core.display.HTML object>"
      ]
     },
     "metadata": {},
     "output_type": "display_data"
    },
    {
     "data": {
      "text/html": [
       "<span style=\"color:blue\"> |-dropout_1: 0.25</span>"
      ],
      "text/plain": [
       "<IPython.core.display.HTML object>"
      ]
     },
     "metadata": {},
     "output_type": "display_data"
    },
    {
     "data": {
      "text/html": [
       "<span style=\"color:cyan\"> |-dropout_2: 0.1</span>"
      ],
      "text/plain": [
       "<IPython.core.display.HTML object>"
      ]
     },
     "metadata": {},
     "output_type": "display_data"
    },
    {
     "data": {
      "text/html": [
       "<span style=\"color:blue\"> |-dropout_3: 0.05</span>"
      ],
      "text/plain": [
       "<IPython.core.display.HTML object>"
      ]
     },
     "metadata": {},
     "output_type": "display_data"
    },
    {
     "data": {
      "text/html": [
       "<span style=\"color:cyan\"> |-dropout_4: 0.5</span>"
      ],
      "text/plain": [
       "<IPython.core.display.HTML object>"
      ]
     },
     "metadata": {},
     "output_type": "display_data"
    },
    {
     "data": {
      "text/html": [
       "<span style=\"color:blue\"> |-dropout_5: 0.35000000000000003</span>"
      ],
      "text/plain": [
       "<IPython.core.display.HTML object>"
      ]
     },
     "metadata": {},
     "output_type": "display_data"
    },
    {
     "data": {
      "text/html": [
       "<span style=\"color:cyan\"> |-dropout_6: 0.15000000000000002</span>"
      ],
      "text/plain": [
       "<IPython.core.display.HTML object>"
      ]
     },
     "metadata": {},
     "output_type": "display_data"
    },
    {
     "data": {
      "text/html": [
       "<span style=\"color:blue\"> |-learning_rate: 0.007387949622995673</span>"
      ],
      "text/plain": [
       "<IPython.core.display.HTML object>"
      ]
     },
     "metadata": {},
     "output_type": "display_data"
    },
    {
     "data": {
      "text/html": [
       "<span style=\"color:cyan\"> |-num_layers: 3</span>"
      ],
      "text/plain": [
       "<IPython.core.display.HTML object>"
      ]
     },
     "metadata": {},
     "output_type": "display_data"
    },
    {
     "name": "stdout",
     "output_type": "stream",
     "text": [
      "Train on 712 samples, validate on 179 samples\n",
      "Epoch 1/20\n",
      "712/712 [==============================] - 1s 1ms/sample - loss: 0.6726 - accuracy: 0.5983 - val_loss: 0.6751 - val_accuracy: 0.5866\n",
      "Epoch 2/20\n",
      "712/712 [==============================] - 0s 155us/sample - loss: 0.6658 - accuracy: 0.6250 - val_loss: 0.6707 - val_accuracy: 0.5866\n",
      "Epoch 3/20\n",
      "712/712 [==============================] - 0s 164us/sample - loss: 0.6595 - accuracy: 0.6250 - val_loss: 0.6644 - val_accuracy: 0.5866\n",
      "Epoch 4/20\n",
      "712/712 [==============================] - 0s 151us/sample - loss: 0.6460 - accuracy: 0.6208 - val_loss: 0.6287 - val_accuracy: 0.5866\n",
      "Epoch 5/20\n",
      "712/712 [==============================] - 0s 164us/sample - loss: 0.6291 - accuracy: 0.6236 - val_loss: 0.5832 - val_accuracy: 0.5866\n",
      "Epoch 6/20\n",
      "712/712 [==============================] - 0s 149us/sample - loss: 0.5972 - accuracy: 0.6292 - val_loss: 0.5381 - val_accuracy: 0.5866\n",
      "Epoch 7/20\n",
      "712/712 [==============================] - 0s 177us/sample - loss: 0.5424 - accuracy: 0.6489 - val_loss: 0.5177 - val_accuracy: 0.7821\n",
      "Epoch 8/20\n",
      "712/712 [==============================] - 0s 173us/sample - loss: 0.5399 - accuracy: 0.7317 - val_loss: 0.4932 - val_accuracy: 0.8045\n",
      "Epoch 9/20\n",
      "712/712 [==============================] - 0s 146us/sample - loss: 0.5167 - accuracy: 0.7556 - val_loss: 0.4866 - val_accuracy: 0.7877\n",
      "Epoch 10/20\n",
      "712/712 [==============================] - 0s 180us/sample - loss: 0.5046 - accuracy: 0.7626 - val_loss: 0.4732 - val_accuracy: 0.8101\n",
      "Epoch 11/20\n",
      "712/712 [==============================] - 0s 148us/sample - loss: 0.4973 - accuracy: 0.7837 - val_loss: 0.4662 - val_accuracy: 0.8045\n",
      "Epoch 12/20\n",
      "712/712 [==============================] - 0s 187us/sample - loss: 0.4886 - accuracy: 0.7837 - val_loss: 0.4611 - val_accuracy: 0.8156\n",
      "Epoch 13/20\n",
      "712/712 [==============================] - 0s 149us/sample - loss: 0.4940 - accuracy: 0.7992 - val_loss: 0.4517 - val_accuracy: 0.8156\n",
      "Epoch 14/20\n",
      "712/712 [==============================] - 0s 159us/sample - loss: 0.4688 - accuracy: 0.8062 - val_loss: 0.4419 - val_accuracy: 0.8156\n",
      "Epoch 15/20\n",
      "712/712 [==============================] - 0s 200us/sample - loss: 0.4855 - accuracy: 0.8006 - val_loss: 0.4396 - val_accuracy: 0.8268\n",
      "Epoch 16/20\n",
      "712/712 [==============================] - 0s 173us/sample - loss: 0.4824 - accuracy: 0.8090 - val_loss: 0.4388 - val_accuracy: 0.8324\n",
      "Epoch 17/20\n",
      "712/712 [==============================] - 0s 147us/sample - loss: 0.4720 - accuracy: 0.8230 - val_loss: 0.4370 - val_accuracy: 0.8268\n",
      "Epoch 18/20\n",
      "712/712 [==============================] - 0s 146us/sample - loss: 0.4845 - accuracy: 0.8160 - val_loss: 0.4353 - val_accuracy: 0.8324\n",
      "Epoch 19/20\n",
      "712/712 [==============================] - 0s 147us/sample - loss: 0.4836 - accuracy: 0.8160 - val_loss: 0.4371 - val_accuracy: 0.8156\n",
      "Epoch 20/20\n",
      "712/712 [==============================] - 0s 155us/sample - loss: 0.4880 - accuracy: 0.8132 - val_loss: 0.4349 - val_accuracy: 0.8324\n",
      "Train on 712 samples, validate on 179 samples\n",
      "Epoch 1/20\n",
      "712/712 [==============================] - 1s 1ms/sample - loss: 0.6686 - accuracy: 0.6081 - val_loss: 0.6740 - val_accuracy: 0.5866\n",
      "Epoch 2/20\n",
      "712/712 [==============================] - 0s 155us/sample - loss: 0.6621 - accuracy: 0.6152 - val_loss: 0.6667 - val_accuracy: 0.5866\n",
      "Epoch 3/20\n",
      "712/712 [==============================] - 0s 154us/sample - loss: 0.6491 - accuracy: 0.6292 - val_loss: 0.6475 - val_accuracy: 0.5866\n",
      "Epoch 4/20\n",
      "712/712 [==============================] - 0s 144us/sample - loss: 0.6456 - accuracy: 0.6236 - val_loss: 0.6052 - val_accuracy: 0.7207\n",
      "Epoch 5/20\n",
      "712/712 [==============================] - 0s 147us/sample - loss: 0.6198 - accuracy: 0.6587 - val_loss: 0.5552 - val_accuracy: 0.7374\n",
      "Epoch 6/20\n",
      "712/712 [==============================] - 0s 153us/sample - loss: 0.5774 - accuracy: 0.7163 - val_loss: 0.5093 - val_accuracy: 0.7430\n",
      "Epoch 7/20\n",
      "712/712 [==============================] - 0s 145us/sample - loss: 0.5388 - accuracy: 0.7444 - val_loss: 0.4790 - val_accuracy: 0.7877\n",
      "Epoch 8/20\n",
      "712/712 [==============================] - 0s 145us/sample - loss: 0.5100 - accuracy: 0.7654 - val_loss: 0.4592 - val_accuracy: 0.7933\n",
      "Epoch 9/20\n",
      "712/712 [==============================] - 0s 145us/sample - loss: 0.5116 - accuracy: 0.7711 - val_loss: 0.4550 - val_accuracy: 0.8101\n",
      "Epoch 10/20\n",
      "712/712 [==============================] - 0s 148us/sample - loss: 0.4953 - accuracy: 0.7978 - val_loss: 0.4448 - val_accuracy: 0.8101\n",
      "Epoch 11/20\n",
      "712/712 [==============================] - 0s 169us/sample - loss: 0.4847 - accuracy: 0.7893 - val_loss: 0.4409 - val_accuracy: 0.8212\n",
      "Epoch 12/20\n",
      "712/712 [==============================] - 0s 148us/sample - loss: 0.4737 - accuracy: 0.7949 - val_loss: 0.4365 - val_accuracy: 0.8268\n",
      "Epoch 13/20\n",
      "712/712 [==============================] - 0s 153us/sample - loss: 0.4863 - accuracy: 0.7907 - val_loss: 0.4353 - val_accuracy: 0.8268\n",
      "Epoch 14/20\n",
      "712/712 [==============================] - 0s 147us/sample - loss: 0.4743 - accuracy: 0.7992 - val_loss: 0.4301 - val_accuracy: 0.8156\n",
      "Epoch 15/20\n",
      "712/712 [==============================] - 0s 147us/sample - loss: 0.4658 - accuracy: 0.8006 - val_loss: 0.4257 - val_accuracy: 0.8268\n",
      "Epoch 16/20\n",
      "712/712 [==============================] - 0s 148us/sample - loss: 0.4773 - accuracy: 0.7963 - val_loss: 0.4286 - val_accuracy: 0.8268\n",
      "Epoch 17/20\n",
      "712/712 [==============================] - 0s 147us/sample - loss: 0.4766 - accuracy: 0.8062 - val_loss: 0.4288 - val_accuracy: 0.8268\n",
      "Epoch 18/20\n",
      "712/712 [==============================] - 0s 147us/sample - loss: 0.4593 - accuracy: 0.8160 - val_loss: 0.4285 - val_accuracy: 0.8212\n",
      "Epoch 19/20\n",
      "712/712 [==============================] - 0s 161us/sample - loss: 0.4509 - accuracy: 0.8104 - val_loss: 0.4303 - val_accuracy: 0.8212\n",
      "Epoch 20/20\n",
      "712/712 [==============================] - 0s 142us/sample - loss: 0.4714 - accuracy: 0.8160 - val_loss: 0.4302 - val_accuracy: 0.8212\n"
     ]
    },
    {
     "data": {
      "text/html": [
       "<span style=\"color:#4527A0\"><h1 style=\"font-size:18px\">Trial complete</h1></span>"
      ],
      "text/plain": [
       "<IPython.core.display.HTML object>"
      ]
     },
     "metadata": {},
     "output_type": "display_data"
    },
    {
     "data": {
      "text/html": [
       "<span style=\"color:#4527A0\"><h1 style=\"font-size:18px\">Trial summary</h1></span>"
      ],
      "text/plain": [
       "<IPython.core.display.HTML object>"
      ]
     },
     "metadata": {},
     "output_type": "display_data"
    },
    {
     "data": {
      "text/html": [
       "<span style=\"color:cyan\"> |-Trial ID: 60aa8476e5ece2fb229bef08667f1f22</span>"
      ],
      "text/plain": [
       "<IPython.core.display.HTML object>"
      ]
     },
     "metadata": {},
     "output_type": "display_data"
    },
    {
     "data": {
      "text/html": [
       "<span style=\"color:cyan\"> |-Score: 0.8296089172363281</span>"
      ],
      "text/plain": [
       "<IPython.core.display.HTML object>"
      ]
     },
     "metadata": {},
     "output_type": "display_data"
    },
    {
     "data": {
      "text/html": [
       "<span style=\"color:cyan\"> |-Best step: 0</span>"
      ],
      "text/plain": [
       "<IPython.core.display.HTML object>"
      ]
     },
     "metadata": {},
     "output_type": "display_data"
    },
    {
     "data": {
      "text/html": [
       "<span style=\"color:#7E57C2\"><h2 style=\"font-size:16px\">Hyperparameters:</h2></span>"
      ],
      "text/plain": [
       "<IPython.core.display.HTML object>"
      ]
     },
     "metadata": {},
     "output_type": "display_data"
    },
    {
     "data": {
      "text/html": [
       "<span style=\"color:cyan\"> |-dense_activation_0: relu</span>"
      ],
      "text/plain": [
       "<IPython.core.display.HTML object>"
      ]
     },
     "metadata": {},
     "output_type": "display_data"
    },
    {
     "data": {
      "text/html": [
       "<span style=\"color:blue\"> |-dense_activation_1: sigmoid</span>"
      ],
      "text/plain": [
       "<IPython.core.display.HTML object>"
      ]
     },
     "metadata": {},
     "output_type": "display_data"
    },
    {
     "data": {
      "text/html": [
       "<span style=\"color:cyan\"> |-dense_activation_2: tanh</span>"
      ],
      "text/plain": [
       "<IPython.core.display.HTML object>"
      ]
     },
     "metadata": {},
     "output_type": "display_data"
    },
    {
     "data": {
      "text/html": [
       "<span style=\"color:blue\"> |-dense_activation_3: sigmoid</span>"
      ],
      "text/plain": [
       "<IPython.core.display.HTML object>"
      ]
     },
     "metadata": {},
     "output_type": "display_data"
    },
    {
     "data": {
      "text/html": [
       "<span style=\"color:cyan\"> |-dense_activation_4: relu</span>"
      ],
      "text/plain": [
       "<IPython.core.display.HTML object>"
      ]
     },
     "metadata": {},
     "output_type": "display_data"
    },
    {
     "data": {
      "text/html": [
       "<span style=\"color:blue\"> |-dense_activation_5: relu</span>"
      ],
      "text/plain": [
       "<IPython.core.display.HTML object>"
      ]
     },
     "metadata": {},
     "output_type": "display_data"
    },
    {
     "data": {
      "text/html": [
       "<span style=\"color:cyan\"> |-dense_activation_6: tanh</span>"
      ],
      "text/plain": [
       "<IPython.core.display.HTML object>"
      ]
     },
     "metadata": {},
     "output_type": "display_data"
    },
    {
     "data": {
      "text/html": [
       "<span style=\"color:blue\"> |-dense_units_0: 32</span>"
      ],
      "text/plain": [
       "<IPython.core.display.HTML object>"
      ]
     },
     "metadata": {},
     "output_type": "display_data"
    },
    {
     "data": {
      "text/html": [
       "<span style=\"color:cyan\"> |-dense_units_1: 56</span>"
      ],
      "text/plain": [
       "<IPython.core.display.HTML object>"
      ]
     },
     "metadata": {},
     "output_type": "display_data"
    },
    {
     "data": {
      "text/html": [
       "<span style=\"color:blue\"> |-dense_units_2: 48</span>"
      ],
      "text/plain": [
       "<IPython.core.display.HTML object>"
      ]
     },
     "metadata": {},
     "output_type": "display_data"
    },
    {
     "data": {
      "text/html": [
       "<span style=\"color:cyan\"> |-dense_units_3: 16</span>"
      ],
      "text/plain": [
       "<IPython.core.display.HTML object>"
      ]
     },
     "metadata": {},
     "output_type": "display_data"
    },
    {
     "data": {
      "text/html": [
       "<span style=\"color:blue\"> |-dense_units_4: 64</span>"
      ],
      "text/plain": [
       "<IPython.core.display.HTML object>"
      ]
     },
     "metadata": {},
     "output_type": "display_data"
    },
    {
     "data": {
      "text/html": [
       "<span style=\"color:cyan\"> |-dense_units_5: 8</span>"
      ],
      "text/plain": [
       "<IPython.core.display.HTML object>"
      ]
     },
     "metadata": {},
     "output_type": "display_data"
    },
    {
     "data": {
      "text/html": [
       "<span style=\"color:blue\"> |-dense_units_6: 40</span>"
      ],
      "text/plain": [
       "<IPython.core.display.HTML object>"
      ]
     },
     "metadata": {},
     "output_type": "display_data"
    },
    {
     "data": {
      "text/html": [
       "<span style=\"color:cyan\"> |-dropout_0: 0.1</span>"
      ],
      "text/plain": [
       "<IPython.core.display.HTML object>"
      ]
     },
     "metadata": {},
     "output_type": "display_data"
    },
    {
     "data": {
      "text/html": [
       "<span style=\"color:blue\"> |-dropout_1: 0.1</span>"
      ],
      "text/plain": [
       "<IPython.core.display.HTML object>"
      ]
     },
     "metadata": {},
     "output_type": "display_data"
    },
    {
     "data": {
      "text/html": [
       "<span style=\"color:cyan\"> |-dropout_2: 0.25</span>"
      ],
      "text/plain": [
       "<IPython.core.display.HTML object>"
      ]
     },
     "metadata": {},
     "output_type": "display_data"
    },
    {
     "data": {
      "text/html": [
       "<span style=\"color:blue\"> |-dropout_3: 0.05</span>"
      ],
      "text/plain": [
       "<IPython.core.display.HTML object>"
      ]
     },
     "metadata": {},
     "output_type": "display_data"
    },
    {
     "data": {
      "text/html": [
       "<span style=\"color:cyan\"> |-dropout_4: 0.30000000000000004</span>"
      ],
      "text/plain": [
       "<IPython.core.display.HTML object>"
      ]
     },
     "metadata": {},
     "output_type": "display_data"
    },
    {
     "data": {
      "text/html": [
       "<span style=\"color:blue\"> |-dropout_5: 0.30000000000000004</span>"
      ],
      "text/plain": [
       "<IPython.core.display.HTML object>"
      ]
     },
     "metadata": {},
     "output_type": "display_data"
    },
    {
     "data": {
      "text/html": [
       "<span style=\"color:cyan\"> |-dropout_6: 0.2</span>"
      ],
      "text/plain": [
       "<IPython.core.display.HTML object>"
      ]
     },
     "metadata": {},
     "output_type": "display_data"
    },
    {
     "data": {
      "text/html": [
       "<span style=\"color:blue\"> |-learning_rate: 0.0009719978423652108</span>"
      ],
      "text/plain": [
       "<IPython.core.display.HTML object>"
      ]
     },
     "metadata": {},
     "output_type": "display_data"
    },
    {
     "data": {
      "text/html": [
       "<span style=\"color:cyan\"> |-num_layers: 5</span>"
      ],
      "text/plain": [
       "<IPython.core.display.HTML object>"
      ]
     },
     "metadata": {},
     "output_type": "display_data"
    },
    {
     "name": "stdout",
     "output_type": "stream",
     "text": [
      "Train on 712 samples, validate on 179 samples\n",
      "Epoch 1/20\n",
      "712/712 [==============================] - 1s 1ms/sample - loss: 0.7130 - accuracy: 0.5632 - val_loss: 0.6828 - val_accuracy: 0.5866\n",
      "Epoch 2/20\n",
      "712/712 [==============================] - 0s 144us/sample - loss: 0.6895 - accuracy: 0.6039 - val_loss: 0.6731 - val_accuracy: 0.5866\n",
      "Epoch 3/20\n",
      "712/712 [==============================] - 0s 140us/sample - loss: 0.6854 - accuracy: 0.5829 - val_loss: 0.6619 - val_accuracy: 0.5866\n",
      "Epoch 4/20\n",
      "712/712 [==============================] - 0s 147us/sample - loss: 0.6724 - accuracy: 0.5843 - val_loss: 0.6532 - val_accuracy: 0.5866\n",
      "Epoch 5/20\n",
      "712/712 [==============================] - 0s 146us/sample - loss: 0.6571 - accuracy: 0.6236 - val_loss: 0.6280 - val_accuracy: 0.5866\n",
      "Epoch 6/20\n",
      "712/712 [==============================] - 0s 148us/sample - loss: 0.6429 - accuracy: 0.6390 - val_loss: 0.6109 - val_accuracy: 0.5866\n",
      "Epoch 7/20\n",
      "712/712 [==============================] - 0s 159us/sample - loss: 0.6176 - accuracy: 0.6629 - val_loss: 0.5702 - val_accuracy: 0.7207\n",
      "Epoch 8/20\n",
      "712/712 [==============================] - 0s 178us/sample - loss: 0.5995 - accuracy: 0.6784 - val_loss: 0.5348 - val_accuracy: 0.7263\n",
      "Epoch 9/20\n",
      "712/712 [==============================] - 0s 159us/sample - loss: 0.5915 - accuracy: 0.6980 - val_loss: 0.4955 - val_accuracy: 0.7989\n",
      "Epoch 10/20\n",
      "712/712 [==============================] - 0s 143us/sample - loss: 0.5632 - accuracy: 0.7107 - val_loss: 0.4890 - val_accuracy: 0.7486\n",
      "Epoch 11/20\n",
      "712/712 [==============================] - 0s 148us/sample - loss: 0.5455 - accuracy: 0.7219 - val_loss: 0.4544 - val_accuracy: 0.7821\n",
      "Epoch 12/20\n",
      "712/712 [==============================] - 0s 138us/sample - loss: 0.5210 - accuracy: 0.7612 - val_loss: 0.4412 - val_accuracy: 0.7821\n",
      "Epoch 13/20\n",
      "712/712 [==============================] - 0s 162us/sample - loss: 0.5128 - accuracy: 0.7570 - val_loss: 0.4416 - val_accuracy: 0.8268\n",
      "Epoch 14/20\n",
      "712/712 [==============================] - 0s 135us/sample - loss: 0.5355 - accuracy: 0.7514 - val_loss: 0.4349 - val_accuracy: 0.7821\n",
      "Epoch 15/20\n",
      "712/712 [==============================] - 0s 135us/sample - loss: 0.4889 - accuracy: 0.7781 - val_loss: 0.4309 - val_accuracy: 0.7765\n",
      "Epoch 16/20\n",
      "712/712 [==============================] - 0s 144us/sample - loss: 0.4814 - accuracy: 0.7921 - val_loss: 0.4312 - val_accuracy: 0.7989\n",
      "Epoch 17/20\n",
      "712/712 [==============================] - 0s 144us/sample - loss: 0.4922 - accuracy: 0.7795 - val_loss: 0.4319 - val_accuracy: 0.7933\n",
      "Epoch 18/20\n",
      "712/712 [==============================] - 0s 143us/sample - loss: 0.5185 - accuracy: 0.7851 - val_loss: 0.4359 - val_accuracy: 0.7989\n",
      "Epoch 19/20\n",
      "712/712 [==============================] - 0s 147us/sample - loss: 0.4954 - accuracy: 0.7753 - val_loss: 0.4345 - val_accuracy: 0.7989\n",
      "Epoch 20/20\n",
      "712/712 [==============================] - 0s 151us/sample - loss: 0.4914 - accuracy: 0.7795 - val_loss: 0.4343 - val_accuracy: 0.7933\n",
      "Train on 712 samples, validate on 179 samples\n",
      "Epoch 1/20\n",
      "712/712 [==============================] - 1s 1ms/sample - loss: 0.7483 - accuracy: 0.5211 - val_loss: 0.7135 - val_accuracy: 0.5866\n",
      "Epoch 2/20\n",
      "712/712 [==============================] - 0s 145us/sample - loss: 0.6827 - accuracy: 0.6039 - val_loss: 0.6814 - val_accuracy: 0.5866\n",
      "Epoch 3/20\n",
      "712/712 [==============================] - 0s 138us/sample - loss: 0.6846 - accuracy: 0.5997 - val_loss: 0.6745 - val_accuracy: 0.5866\n",
      "Epoch 4/20\n",
      "712/712 [==============================] - 0s 142us/sample - loss: 0.6836 - accuracy: 0.5871 - val_loss: 0.6755 - val_accuracy: 0.5866\n",
      "Epoch 5/20\n",
      "712/712 [==============================] - 0s 138us/sample - loss: 0.6695 - accuracy: 0.6166 - val_loss: 0.6548 - val_accuracy: 0.5866\n",
      "Epoch 6/20\n",
      "712/712 [==============================] - 0s 140us/sample - loss: 0.6524 - accuracy: 0.6110 - val_loss: 0.6420 - val_accuracy: 0.5866\n",
      "Epoch 7/20\n",
      "712/712 [==============================] - 0s 136us/sample - loss: 0.6623 - accuracy: 0.6194 - val_loss: 0.6217 - val_accuracy: 0.5866\n",
      "Epoch 8/20\n",
      "712/712 [==============================] - 0s 147us/sample - loss: 0.6378 - accuracy: 0.6461 - val_loss: 0.5910 - val_accuracy: 0.6872\n",
      "Epoch 9/20\n",
      "712/712 [==============================] - 0s 148us/sample - loss: 0.6018 - accuracy: 0.6713 - val_loss: 0.5497 - val_accuracy: 0.7430\n",
      "Epoch 10/20\n",
      "712/712 [==============================] - 0s 142us/sample - loss: 0.5874 - accuracy: 0.6896 - val_loss: 0.5253 - val_accuracy: 0.7318\n",
      "Epoch 11/20\n",
      "712/712 [==============================] - 0s 136us/sample - loss: 0.5627 - accuracy: 0.7289 - val_loss: 0.4826 - val_accuracy: 0.7933\n",
      "Epoch 12/20\n",
      "712/712 [==============================] - 0s 146us/sample - loss: 0.5320 - accuracy: 0.7500 - val_loss: 0.4577 - val_accuracy: 0.7821\n",
      "Epoch 13/20\n",
      "712/712 [==============================] - 0s 138us/sample - loss: 0.5122 - accuracy: 0.7612 - val_loss: 0.4526 - val_accuracy: 0.7877\n",
      "Epoch 14/20\n",
      "712/712 [==============================] - 0s 144us/sample - loss: 0.4995 - accuracy: 0.7654 - val_loss: 0.4411 - val_accuracy: 0.7821\n",
      "Epoch 15/20\n",
      "712/712 [==============================] - 0s 143us/sample - loss: 0.4968 - accuracy: 0.7767 - val_loss: 0.4377 - val_accuracy: 0.7933\n",
      "Epoch 16/20\n",
      "712/712 [==============================] - 0s 141us/sample - loss: 0.5082 - accuracy: 0.7711 - val_loss: 0.4384 - val_accuracy: 0.7765\n",
      "Epoch 17/20\n",
      "712/712 [==============================] - 0s 137us/sample - loss: 0.4920 - accuracy: 0.7809 - val_loss: 0.4386 - val_accuracy: 0.7933\n",
      "Epoch 18/20\n",
      "712/712 [==============================] - 0s 136us/sample - loss: 0.5112 - accuracy: 0.7753 - val_loss: 0.4400 - val_accuracy: 0.7989\n",
      "Epoch 19/20\n",
      "712/712 [==============================] - 0s 138us/sample - loss: 0.4760 - accuracy: 0.7907 - val_loss: 0.4380 - val_accuracy: 0.7989\n",
      "Epoch 20/20\n",
      "712/712 [==============================] - 0s 136us/sample - loss: 0.4830 - accuracy: 0.8048 - val_loss: 0.4397 - val_accuracy: 0.7877\n"
     ]
    },
    {
     "data": {
      "text/html": [
       "<span style=\"color:#4527A0\"><h1 style=\"font-size:18px\">Trial complete</h1></span>"
      ],
      "text/plain": [
       "<IPython.core.display.HTML object>"
      ]
     },
     "metadata": {},
     "output_type": "display_data"
    },
    {
     "data": {
      "text/html": [
       "<span style=\"color:#4527A0\"><h1 style=\"font-size:18px\">Trial summary</h1></span>"
      ],
      "text/plain": [
       "<IPython.core.display.HTML object>"
      ]
     },
     "metadata": {},
     "output_type": "display_data"
    },
    {
     "data": {
      "text/html": [
       "<span style=\"color:cyan\"> |-Trial ID: 2ada5f6ec36031cbadcfaea865b1caa9</span>"
      ],
      "text/plain": [
       "<IPython.core.display.HTML object>"
      ]
     },
     "metadata": {},
     "output_type": "display_data"
    },
    {
     "data": {
      "text/html": [
       "<span style=\"color:cyan\"> |-Score: 0.8128491640090942</span>"
      ],
      "text/plain": [
       "<IPython.core.display.HTML object>"
      ]
     },
     "metadata": {},
     "output_type": "display_data"
    },
    {
     "data": {
      "text/html": [
       "<span style=\"color:cyan\"> |-Best step: 0</span>"
      ],
      "text/plain": [
       "<IPython.core.display.HTML object>"
      ]
     },
     "metadata": {},
     "output_type": "display_data"
    },
    {
     "data": {
      "text/html": [
       "<span style=\"color:#7E57C2\"><h2 style=\"font-size:16px\">Hyperparameters:</h2></span>"
      ],
      "text/plain": [
       "<IPython.core.display.HTML object>"
      ]
     },
     "metadata": {},
     "output_type": "display_data"
    },
    {
     "data": {
      "text/html": [
       "<span style=\"color:cyan\"> |-dense_activation_0: sigmoid</span>"
      ],
      "text/plain": [
       "<IPython.core.display.HTML object>"
      ]
     },
     "metadata": {},
     "output_type": "display_data"
    },
    {
     "data": {
      "text/html": [
       "<span style=\"color:blue\"> |-dense_activation_1: relu</span>"
      ],
      "text/plain": [
       "<IPython.core.display.HTML object>"
      ]
     },
     "metadata": {},
     "output_type": "display_data"
    },
    {
     "data": {
      "text/html": [
       "<span style=\"color:cyan\"> |-dense_activation_2: sigmoid</span>"
      ],
      "text/plain": [
       "<IPython.core.display.HTML object>"
      ]
     },
     "metadata": {},
     "output_type": "display_data"
    },
    {
     "data": {
      "text/html": [
       "<span style=\"color:blue\"> |-dense_activation_3: tanh</span>"
      ],
      "text/plain": [
       "<IPython.core.display.HTML object>"
      ]
     },
     "metadata": {},
     "output_type": "display_data"
    },
    {
     "data": {
      "text/html": [
       "<span style=\"color:cyan\"> |-dense_activation_4: tanh</span>"
      ],
      "text/plain": [
       "<IPython.core.display.HTML object>"
      ]
     },
     "metadata": {},
     "output_type": "display_data"
    },
    {
     "data": {
      "text/html": [
       "<span style=\"color:blue\"> |-dense_activation_5: sigmoid</span>"
      ],
      "text/plain": [
       "<IPython.core.display.HTML object>"
      ]
     },
     "metadata": {},
     "output_type": "display_data"
    },
    {
     "data": {
      "text/html": [
       "<span style=\"color:cyan\"> |-dense_activation_6: relu</span>"
      ],
      "text/plain": [
       "<IPython.core.display.HTML object>"
      ]
     },
     "metadata": {},
     "output_type": "display_data"
    },
    {
     "data": {
      "text/html": [
       "<span style=\"color:blue\"> |-dense_units_0: 48</span>"
      ],
      "text/plain": [
       "<IPython.core.display.HTML object>"
      ]
     },
     "metadata": {},
     "output_type": "display_data"
    },
    {
     "data": {
      "text/html": [
       "<span style=\"color:cyan\"> |-dense_units_1: 16</span>"
      ],
      "text/plain": [
       "<IPython.core.display.HTML object>"
      ]
     },
     "metadata": {},
     "output_type": "display_data"
    },
    {
     "data": {
      "text/html": [
       "<span style=\"color:blue\"> |-dense_units_2: 40</span>"
      ],
      "text/plain": [
       "<IPython.core.display.HTML object>"
      ]
     },
     "metadata": {},
     "output_type": "display_data"
    },
    {
     "data": {
      "text/html": [
       "<span style=\"color:cyan\"> |-dense_units_3: 32</span>"
      ],
      "text/plain": [
       "<IPython.core.display.HTML object>"
      ]
     },
     "metadata": {},
     "output_type": "display_data"
    },
    {
     "data": {
      "text/html": [
       "<span style=\"color:blue\"> |-dense_units_4: 40</span>"
      ],
      "text/plain": [
       "<IPython.core.display.HTML object>"
      ]
     },
     "metadata": {},
     "output_type": "display_data"
    },
    {
     "data": {
      "text/html": [
       "<span style=\"color:cyan\"> |-dense_units_5: 56</span>"
      ],
      "text/plain": [
       "<IPython.core.display.HTML object>"
      ]
     },
     "metadata": {},
     "output_type": "display_data"
    },
    {
     "data": {
      "text/html": [
       "<span style=\"color:blue\"> |-dense_units_6: 64</span>"
      ],
      "text/plain": [
       "<IPython.core.display.HTML object>"
      ]
     },
     "metadata": {},
     "output_type": "display_data"
    },
    {
     "data": {
      "text/html": [
       "<span style=\"color:cyan\"> |-dropout_0: 0.05</span>"
      ],
      "text/plain": [
       "<IPython.core.display.HTML object>"
      ]
     },
     "metadata": {},
     "output_type": "display_data"
    },
    {
     "data": {
      "text/html": [
       "<span style=\"color:blue\"> |-dropout_1: 0.4</span>"
      ],
      "text/plain": [
       "<IPython.core.display.HTML object>"
      ]
     },
     "metadata": {},
     "output_type": "display_data"
    },
    {
     "data": {
      "text/html": [
       "<span style=\"color:cyan\"> |-dropout_2: 0.45</span>"
      ],
      "text/plain": [
       "<IPython.core.display.HTML object>"
      ]
     },
     "metadata": {},
     "output_type": "display_data"
    },
    {
     "data": {
      "text/html": [
       "<span style=\"color:blue\"> |-dropout_3: 0.05</span>"
      ],
      "text/plain": [
       "<IPython.core.display.HTML object>"
      ]
     },
     "metadata": {},
     "output_type": "display_data"
    },
    {
     "data": {
      "text/html": [
       "<span style=\"color:cyan\"> |-dropout_4: 0.05</span>"
      ],
      "text/plain": [
       "<IPython.core.display.HTML object>"
      ]
     },
     "metadata": {},
     "output_type": "display_data"
    },
    {
     "data": {
      "text/html": [
       "<span style=\"color:blue\"> |-dropout_5: 0.5</span>"
      ],
      "text/plain": [
       "<IPython.core.display.HTML object>"
      ]
     },
     "metadata": {},
     "output_type": "display_data"
    },
    {
     "data": {
      "text/html": [
       "<span style=\"color:cyan\"> |-dropout_6: 0.30000000000000004</span>"
      ],
      "text/plain": [
       "<IPython.core.display.HTML object>"
      ]
     },
     "metadata": {},
     "output_type": "display_data"
    },
    {
     "data": {
      "text/html": [
       "<span style=\"color:blue\"> |-learning_rate: 0.0009452767099282696</span>"
      ],
      "text/plain": [
       "<IPython.core.display.HTML object>"
      ]
     },
     "metadata": {},
     "output_type": "display_data"
    },
    {
     "data": {
      "text/html": [
       "<span style=\"color:cyan\"> |-num_layers: 3</span>"
      ],
      "text/plain": [
       "<IPython.core.display.HTML object>"
      ]
     },
     "metadata": {},
     "output_type": "display_data"
    },
    {
     "name": "stdout",
     "output_type": "stream",
     "text": [
      "Train on 712 samples, validate on 179 samples\n",
      "Epoch 1/20\n",
      "712/712 [==============================] - 1s 1ms/sample - loss: 0.7001 - accuracy: 0.5885 - val_loss: 0.5858 - val_accuracy: 0.7374\n",
      "Epoch 2/20\n",
      "712/712 [==============================] - 0s 174us/sample - loss: 0.5487 - accuracy: 0.7261 - val_loss: 0.4698 - val_accuracy: 0.8045\n",
      "Epoch 3/20\n",
      "712/712 [==============================] - 0s 185us/sample - loss: 0.5001 - accuracy: 0.7935 - val_loss: 0.4553 - val_accuracy: 0.8268\n",
      "Epoch 4/20\n",
      "712/712 [==============================] - 0s 142us/sample - loss: 0.5139 - accuracy: 0.7949 - val_loss: 0.4705 - val_accuracy: 0.8212\n",
      "Epoch 5/20\n",
      "712/712 [==============================] - 0s 141us/sample - loss: 0.4642 - accuracy: 0.8287 - val_loss: 0.4809 - val_accuracy: 0.8045\n",
      "Epoch 6/20\n",
      "712/712 [==============================] - 0s 142us/sample - loss: 0.4576 - accuracy: 0.8146 - val_loss: 0.4751 - val_accuracy: 0.8268\n",
      "Epoch 7/20\n",
      "712/712 [==============================] - 0s 140us/sample - loss: 0.4567 - accuracy: 0.8287 - val_loss: 0.4475 - val_accuracy: 0.8268\n",
      "Epoch 8/20\n",
      "712/712 [==============================] - 0s 175us/sample - loss: 0.4511 - accuracy: 0.8343 - val_loss: 0.4520 - val_accuracy: 0.8324\n",
      "Epoch 9/20\n",
      "712/712 [==============================] - 0s 142us/sample - loss: 0.4457 - accuracy: 0.8301 - val_loss: 0.4396 - val_accuracy: 0.8268\n",
      "Epoch 10/20\n",
      "712/712 [==============================] - 0s 157us/sample - loss: 0.4257 - accuracy: 0.8399 - val_loss: 0.4444 - val_accuracy: 0.8268\n",
      "Epoch 11/20\n",
      "712/712 [==============================] - 0s 145us/sample - loss: 0.4288 - accuracy: 0.8230 - val_loss: 0.4464 - val_accuracy: 0.8212\n",
      "Epoch 12/20\n",
      "712/712 [==============================] - 0s 153us/sample - loss: 0.4072 - accuracy: 0.8469 - val_loss: 0.4473 - val_accuracy: 0.7933\n",
      "Epoch 13/20\n",
      "712/712 [==============================] - 0s 146us/sample - loss: 0.4265 - accuracy: 0.8258 - val_loss: 0.4310 - val_accuracy: 0.8268\n",
      "Epoch 14/20\n",
      "712/712 [==============================] - 0s 149us/sample - loss: 0.4207 - accuracy: 0.8104 - val_loss: 0.4321 - val_accuracy: 0.8212\n",
      "Epoch 15/20\n",
      "712/712 [==============================] - 0s 140us/sample - loss: 0.4131 - accuracy: 0.8174 - val_loss: 0.4346 - val_accuracy: 0.8268\n",
      "Epoch 16/20\n",
      "712/712 [==============================] - 0s 150us/sample - loss: 0.4110 - accuracy: 0.8301 - val_loss: 0.4213 - val_accuracy: 0.8212\n",
      "Epoch 17/20\n",
      "712/712 [==============================] - 0s 143us/sample - loss: 0.4234 - accuracy: 0.8230 - val_loss: 0.4234 - val_accuracy: 0.8212\n",
      "Epoch 18/20\n",
      "712/712 [==============================] - 0s 143us/sample - loss: 0.4091 - accuracy: 0.8272 - val_loss: 0.4371 - val_accuracy: 0.8156\n",
      "Epoch 19/20\n",
      "712/712 [==============================] - 0s 174us/sample - loss: 0.4111 - accuracy: 0.8272 - val_loss: 0.4228 - val_accuracy: 0.8212\n",
      "Epoch 20/20\n",
      "712/712 [==============================] - 0s 162us/sample - loss: 0.4013 - accuracy: 0.8343 - val_loss: 0.4432 - val_accuracy: 0.8212\n",
      "Train on 712 samples, validate on 179 samples\n",
      "Epoch 1/20\n",
      "712/712 [==============================] - 1s 1ms/sample - loss: 0.6355 - accuracy: 0.6419 - val_loss: 0.5206 - val_accuracy: 0.7989\n",
      "Epoch 2/20\n",
      "712/712 [==============================] - 0s 141us/sample - loss: 0.5202 - accuracy: 0.7753 - val_loss: 0.5085 - val_accuracy: 0.7877\n",
      "Epoch 3/20\n",
      "712/712 [==============================] - 0s 143us/sample - loss: 0.4883 - accuracy: 0.8034 - val_loss: 0.4714 - val_accuracy: 0.7933\n",
      "Epoch 4/20\n",
      "712/712 [==============================] - 0s 183us/sample - loss: 0.4946 - accuracy: 0.8020 - val_loss: 0.4397 - val_accuracy: 0.8380\n",
      "Epoch 5/20\n",
      "712/712 [==============================] - 0s 146us/sample - loss: 0.4663 - accuracy: 0.8287 - val_loss: 0.4442 - val_accuracy: 0.8268\n",
      "Epoch 6/20\n",
      "712/712 [==============================] - 0s 147us/sample - loss: 0.4413 - accuracy: 0.8272 - val_loss: 0.4639 - val_accuracy: 0.8212\n",
      "Epoch 7/20\n",
      "712/712 [==============================] - 0s 161us/sample - loss: 0.4491 - accuracy: 0.8258 - val_loss: 0.4336 - val_accuracy: 0.8324\n",
      "Epoch 8/20\n",
      "712/712 [==============================] - 0s 148us/sample - loss: 0.4303 - accuracy: 0.8371 - val_loss: 0.4511 - val_accuracy: 0.8268\n",
      "Epoch 9/20\n",
      "712/712 [==============================] - 0s 154us/sample - loss: 0.4284 - accuracy: 0.8343 - val_loss: 0.4407 - val_accuracy: 0.8268\n",
      "Epoch 10/20\n",
      "712/712 [==============================] - 0s 148us/sample - loss: 0.4263 - accuracy: 0.8202 - val_loss: 0.4284 - val_accuracy: 0.8324\n",
      "Epoch 11/20\n",
      "712/712 [==============================] - 0s 147us/sample - loss: 0.4190 - accuracy: 0.8146 - val_loss: 0.4481 - val_accuracy: 0.8212\n",
      "Epoch 12/20\n",
      "712/712 [==============================] - 0s 151us/sample - loss: 0.4035 - accuracy: 0.8483 - val_loss: 0.4549 - val_accuracy: 0.8156\n",
      "Epoch 13/20\n",
      "712/712 [==============================] - 0s 149us/sample - loss: 0.4250 - accuracy: 0.8188 - val_loss: 0.4450 - val_accuracy: 0.8268\n",
      "Epoch 14/20\n",
      "712/712 [==============================] - 0s 150us/sample - loss: 0.4243 - accuracy: 0.8329 - val_loss: 0.4259 - val_accuracy: 0.8212\n",
      "Epoch 15/20\n",
      "712/712 [==============================] - 0s 146us/sample - loss: 0.4144 - accuracy: 0.8272 - val_loss: 0.4088 - val_accuracy: 0.8324\n",
      "Epoch 16/20\n",
      "712/712 [==============================] - 0s 143us/sample - loss: 0.4073 - accuracy: 0.8343 - val_loss: 0.4048 - val_accuracy: 0.8324\n",
      "Epoch 17/20\n",
      "712/712 [==============================] - 0s 146us/sample - loss: 0.4158 - accuracy: 0.8258 - val_loss: 0.4191 - val_accuracy: 0.8324\n",
      "Epoch 18/20\n",
      "712/712 [==============================] - 0s 150us/sample - loss: 0.4063 - accuracy: 0.8272 - val_loss: 0.4132 - val_accuracy: 0.8324\n",
      "Epoch 19/20\n",
      "712/712 [==============================] - 0s 153us/sample - loss: 0.4069 - accuracy: 0.8315 - val_loss: 0.4189 - val_accuracy: 0.8268\n",
      "Epoch 20/20\n",
      "712/712 [==============================] - 0s 149us/sample - loss: 0.4104 - accuracy: 0.8371 - val_loss: 0.4595 - val_accuracy: 0.8045\n"
     ]
    },
    {
     "data": {
      "text/html": [
       "<span style=\"color:#4527A0\"><h1 style=\"font-size:18px\">Trial complete</h1></span>"
      ],
      "text/plain": [
       "<IPython.core.display.HTML object>"
      ]
     },
     "metadata": {},
     "output_type": "display_data"
    },
    {
     "data": {
      "text/html": [
       "<span style=\"color:#4527A0\"><h1 style=\"font-size:18px\">Trial summary</h1></span>"
      ],
      "text/plain": [
       "<IPython.core.display.HTML object>"
      ]
     },
     "metadata": {},
     "output_type": "display_data"
    },
    {
     "data": {
      "text/html": [
       "<span style=\"color:cyan\"> |-Trial ID: 4b5b08a09417e15800d9d63f29c418cf</span>"
      ],
      "text/plain": [
       "<IPython.core.display.HTML object>"
      ]
     },
     "metadata": {},
     "output_type": "display_data"
    },
    {
     "data": {
      "text/html": [
       "<span style=\"color:cyan\"> |-Score: 0.8351955413818359</span>"
      ],
      "text/plain": [
       "<IPython.core.display.HTML object>"
      ]
     },
     "metadata": {},
     "output_type": "display_data"
    },
    {
     "data": {
      "text/html": [
       "<span style=\"color:cyan\"> |-Best step: 0</span>"
      ],
      "text/plain": [
       "<IPython.core.display.HTML object>"
      ]
     },
     "metadata": {},
     "output_type": "display_data"
    },
    {
     "data": {
      "text/html": [
       "<span style=\"color:#7E57C2\"><h2 style=\"font-size:16px\">Hyperparameters:</h2></span>"
      ],
      "text/plain": [
       "<IPython.core.display.HTML object>"
      ]
     },
     "metadata": {},
     "output_type": "display_data"
    },
    {
     "data": {
      "text/html": [
       "<span style=\"color:cyan\"> |-dense_activation_0: tanh</span>"
      ],
      "text/plain": [
       "<IPython.core.display.HTML object>"
      ]
     },
     "metadata": {},
     "output_type": "display_data"
    },
    {
     "data": {
      "text/html": [
       "<span style=\"color:blue\"> |-dense_activation_1: relu</span>"
      ],
      "text/plain": [
       "<IPython.core.display.HTML object>"
      ]
     },
     "metadata": {},
     "output_type": "display_data"
    },
    {
     "data": {
      "text/html": [
       "<span style=\"color:cyan\"> |-dense_activation_2: relu</span>"
      ],
      "text/plain": [
       "<IPython.core.display.HTML object>"
      ]
     },
     "metadata": {},
     "output_type": "display_data"
    },
    {
     "data": {
      "text/html": [
       "<span style=\"color:blue\"> |-dense_activation_3: sigmoid</span>"
      ],
      "text/plain": [
       "<IPython.core.display.HTML object>"
      ]
     },
     "metadata": {},
     "output_type": "display_data"
    },
    {
     "data": {
      "text/html": [
       "<span style=\"color:cyan\"> |-dense_activation_4: sigmoid</span>"
      ],
      "text/plain": [
       "<IPython.core.display.HTML object>"
      ]
     },
     "metadata": {},
     "output_type": "display_data"
    },
    {
     "data": {
      "text/html": [
       "<span style=\"color:blue\"> |-dense_activation_5: relu</span>"
      ],
      "text/plain": [
       "<IPython.core.display.HTML object>"
      ]
     },
     "metadata": {},
     "output_type": "display_data"
    },
    {
     "data": {
      "text/html": [
       "<span style=\"color:cyan\"> |-dense_activation_6: relu</span>"
      ],
      "text/plain": [
       "<IPython.core.display.HTML object>"
      ]
     },
     "metadata": {},
     "output_type": "display_data"
    },
    {
     "data": {
      "text/html": [
       "<span style=\"color:blue\"> |-dense_units_0: 48</span>"
      ],
      "text/plain": [
       "<IPython.core.display.HTML object>"
      ]
     },
     "metadata": {},
     "output_type": "display_data"
    },
    {
     "data": {
      "text/html": [
       "<span style=\"color:cyan\"> |-dense_units_1: 40</span>"
      ],
      "text/plain": [
       "<IPython.core.display.HTML object>"
      ]
     },
     "metadata": {},
     "output_type": "display_data"
    },
    {
     "data": {
      "text/html": [
       "<span style=\"color:blue\"> |-dense_units_2: 16</span>"
      ],
      "text/plain": [
       "<IPython.core.display.HTML object>"
      ]
     },
     "metadata": {},
     "output_type": "display_data"
    },
    {
     "data": {
      "text/html": [
       "<span style=\"color:cyan\"> |-dense_units_3: 24</span>"
      ],
      "text/plain": [
       "<IPython.core.display.HTML object>"
      ]
     },
     "metadata": {},
     "output_type": "display_data"
    },
    {
     "data": {
      "text/html": [
       "<span style=\"color:blue\"> |-dense_units_4: 56</span>"
      ],
      "text/plain": [
       "<IPython.core.display.HTML object>"
      ]
     },
     "metadata": {},
     "output_type": "display_data"
    },
    {
     "data": {
      "text/html": [
       "<span style=\"color:cyan\"> |-dense_units_5: 24</span>"
      ],
      "text/plain": [
       "<IPython.core.display.HTML object>"
      ]
     },
     "metadata": {},
     "output_type": "display_data"
    },
    {
     "data": {
      "text/html": [
       "<span style=\"color:blue\"> |-dense_units_6: 8</span>"
      ],
      "text/plain": [
       "<IPython.core.display.HTML object>"
      ]
     },
     "metadata": {},
     "output_type": "display_data"
    },
    {
     "data": {
      "text/html": [
       "<span style=\"color:cyan\"> |-dropout_0: 0.05</span>"
      ],
      "text/plain": [
       "<IPython.core.display.HTML object>"
      ]
     },
     "metadata": {},
     "output_type": "display_data"
    },
    {
     "data": {
      "text/html": [
       "<span style=\"color:blue\"> |-dropout_1: 0.25</span>"
      ],
      "text/plain": [
       "<IPython.core.display.HTML object>"
      ]
     },
     "metadata": {},
     "output_type": "display_data"
    },
    {
     "data": {
      "text/html": [
       "<span style=\"color:cyan\"> |-dropout_2: 0.1</span>"
      ],
      "text/plain": [
       "<IPython.core.display.HTML object>"
      ]
     },
     "metadata": {},
     "output_type": "display_data"
    },
    {
     "data": {
      "text/html": [
       "<span style=\"color:blue\"> |-dropout_3: 0.15000000000000002</span>"
      ],
      "text/plain": [
       "<IPython.core.display.HTML object>"
      ]
     },
     "metadata": {},
     "output_type": "display_data"
    },
    {
     "data": {
      "text/html": [
       "<span style=\"color:cyan\"> |-dropout_4: 0.2</span>"
      ],
      "text/plain": [
       "<IPython.core.display.HTML object>"
      ]
     },
     "metadata": {},
     "output_type": "display_data"
    },
    {
     "data": {
      "text/html": [
       "<span style=\"color:blue\"> |-dropout_5: 0.2</span>"
      ],
      "text/plain": [
       "<IPython.core.display.HTML object>"
      ]
     },
     "metadata": {},
     "output_type": "display_data"
    },
    {
     "data": {
      "text/html": [
       "<span style=\"color:cyan\"> |-dropout_6: 0.45</span>"
      ],
      "text/plain": [
       "<IPython.core.display.HTML object>"
      ]
     },
     "metadata": {},
     "output_type": "display_data"
    },
    {
     "data": {
      "text/html": [
       "<span style=\"color:blue\"> |-learning_rate: 0.006353350532750873</span>"
      ],
      "text/plain": [
       "<IPython.core.display.HTML object>"
      ]
     },
     "metadata": {},
     "output_type": "display_data"
    },
    {
     "data": {
      "text/html": [
       "<span style=\"color:cyan\"> |-num_layers: 4</span>"
      ],
      "text/plain": [
       "<IPython.core.display.HTML object>"
      ]
     },
     "metadata": {},
     "output_type": "display_data"
    },
    {
     "name": "stdout",
     "output_type": "stream",
     "text": [
      "Train on 712 samples, validate on 179 samples\n",
      "Epoch 1/20\n",
      "712/712 [==============================] - 1s 952us/sample - loss: 0.6631 - accuracy: 0.5815 - val_loss: 0.5486 - val_accuracy: 0.7207\n",
      "Epoch 2/20\n",
      "712/712 [==============================] - 0s 164us/sample - loss: 0.5407 - accuracy: 0.7430 - val_loss: 0.4348 - val_accuracy: 0.7877\n",
      "Epoch 3/20\n",
      "712/712 [==============================] - 0s 163us/sample - loss: 0.4805 - accuracy: 0.7963 - val_loss: 0.4363 - val_accuracy: 0.7989\n",
      "Epoch 4/20\n",
      "712/712 [==============================] - 0s 185us/sample - loss: 0.4684 - accuracy: 0.7865 - val_loss: 0.4371 - val_accuracy: 0.8156\n",
      "Epoch 5/20\n",
      "712/712 [==============================] - 0s 172us/sample - loss: 0.4419 - accuracy: 0.8118 - val_loss: 0.4384 - val_accuracy: 0.8156\n",
      "Epoch 6/20\n",
      "712/712 [==============================] - 0s 142us/sample - loss: 0.4454 - accuracy: 0.8146 - val_loss: 0.4383 - val_accuracy: 0.8101\n",
      "Epoch 7/20\n",
      "712/712 [==============================] - 0s 141us/sample - loss: 0.4197 - accuracy: 0.8244 - val_loss: 0.4275 - val_accuracy: 0.8156\n",
      "Epoch 8/20\n",
      "712/712 [==============================] - 0s 217us/sample - loss: 0.4108 - accuracy: 0.8427 - val_loss: 0.4218 - val_accuracy: 0.8212\n",
      "Epoch 9/20\n",
      "712/712 [==============================] - 0s 225us/sample - loss: 0.4183 - accuracy: 0.8272 - val_loss: 0.4333 - val_accuracy: 0.8156\n",
      "Epoch 10/20\n",
      "712/712 [==============================] - 0s 187us/sample - loss: 0.4156 - accuracy: 0.8272 - val_loss: 0.4219 - val_accuracy: 0.8156\n",
      "Epoch 11/20\n",
      "712/712 [==============================] - 0s 218us/sample - loss: 0.4158 - accuracy: 0.8315 - val_loss: 0.4202 - val_accuracy: 0.8212\n",
      "Epoch 12/20\n",
      "712/712 [==============================] - 0s 166us/sample - loss: 0.4200 - accuracy: 0.8258 - val_loss: 0.4204 - val_accuracy: 0.8324\n",
      "Epoch 13/20\n",
      "712/712 [==============================] - 0s 133us/sample - loss: 0.4039 - accuracy: 0.8371 - val_loss: 0.4178 - val_accuracy: 0.8268\n",
      "Epoch 14/20\n",
      "712/712 [==============================] - 0s 132us/sample - loss: 0.4152 - accuracy: 0.8315 - val_loss: 0.4160 - val_accuracy: 0.8212\n",
      "Epoch 15/20\n",
      "712/712 [==============================] - 0s 134us/sample - loss: 0.4087 - accuracy: 0.8315 - val_loss: 0.4108 - val_accuracy: 0.8268\n",
      "Epoch 16/20\n",
      "712/712 [==============================] - 0s 139us/sample - loss: 0.3990 - accuracy: 0.8371 - val_loss: 0.4227 - val_accuracy: 0.8324\n",
      "Epoch 17/20\n",
      "712/712 [==============================] - 0s 139us/sample - loss: 0.3945 - accuracy: 0.8483 - val_loss: 0.4128 - val_accuracy: 0.8268\n",
      "Epoch 18/20\n",
      "712/712 [==============================] - 0s 138us/sample - loss: 0.3976 - accuracy: 0.8399 - val_loss: 0.4054 - val_accuracy: 0.8324\n",
      "Epoch 19/20\n",
      "712/712 [==============================] - 0s 138us/sample - loss: 0.4012 - accuracy: 0.8357 - val_loss: 0.4092 - val_accuracy: 0.8268\n",
      "Epoch 20/20\n",
      "712/712 [==============================] - 0s 142us/sample - loss: 0.3924 - accuracy: 0.8385 - val_loss: 0.4170 - val_accuracy: 0.8268\n",
      "Train on 712 samples, validate on 179 samples\n",
      "Epoch 1/20\n",
      "712/712 [==============================] - 1s 1ms/sample - loss: 0.6389 - accuracy: 0.6306 - val_loss: 0.5246 - val_accuracy: 0.7486\n",
      "Epoch 2/20\n",
      "712/712 [==============================] - 0s 142us/sample - loss: 0.5163 - accuracy: 0.7542 - val_loss: 0.4479 - val_accuracy: 0.7877\n",
      "Epoch 3/20\n",
      "712/712 [==============================] - 0s 135us/sample - loss: 0.4810 - accuracy: 0.7978 - val_loss: 0.4373 - val_accuracy: 0.8156\n",
      "Epoch 4/20\n",
      "712/712 [==============================] - 0s 214us/sample - loss: 0.4721 - accuracy: 0.8048 - val_loss: 0.4371 - val_accuracy: 0.8156\n",
      "Epoch 5/20\n",
      "712/712 [==============================] - 0s 323us/sample - loss: 0.4476 - accuracy: 0.8160 - val_loss: 0.4363 - val_accuracy: 0.8212\n",
      "Epoch 6/20\n",
      "712/712 [==============================] - 0s 246us/sample - loss: 0.4497 - accuracy: 0.8118 - val_loss: 0.4526 - val_accuracy: 0.8101\n",
      "Epoch 7/20\n",
      "712/712 [==============================] - 0s 233us/sample - loss: 0.4402 - accuracy: 0.8301 - val_loss: 0.4346 - val_accuracy: 0.8268\n",
      "Epoch 8/20\n",
      "712/712 [==============================] - 0s 179us/sample - loss: 0.4272 - accuracy: 0.8301 - val_loss: 0.4282 - val_accuracy: 0.8268\n",
      "Epoch 9/20\n",
      "712/712 [==============================] - 0s 139us/sample - loss: 0.4275 - accuracy: 0.8188 - val_loss: 0.4273 - val_accuracy: 0.8212\n",
      "Epoch 10/20\n",
      "712/712 [==============================] - 0s 140us/sample - loss: 0.4225 - accuracy: 0.8315 - val_loss: 0.4280 - val_accuracy: 0.8324\n",
      "Epoch 11/20\n",
      "712/712 [==============================] - 0s 135us/sample - loss: 0.4178 - accuracy: 0.8272 - val_loss: 0.4203 - val_accuracy: 0.8268\n",
      "Epoch 12/20\n",
      "712/712 [==============================] - 0s 146us/sample - loss: 0.4208 - accuracy: 0.8287 - val_loss: 0.4239 - val_accuracy: 0.8268\n",
      "Epoch 13/20\n",
      "712/712 [==============================] - 0s 128us/sample - loss: 0.4050 - accuracy: 0.8399 - val_loss: 0.4204 - val_accuracy: 0.8324\n",
      "Epoch 14/20\n",
      "712/712 [==============================] - 0s 212us/sample - loss: 0.4205 - accuracy: 0.8244 - val_loss: 0.4172 - val_accuracy: 0.8324\n",
      "Epoch 15/20\n",
      "712/712 [==============================] - 0s 164us/sample - loss: 0.3986 - accuracy: 0.8413 - val_loss: 0.4129 - val_accuracy: 0.8380\n",
      "Epoch 16/20\n",
      "712/712 [==============================] - 0s 135us/sample - loss: 0.4024 - accuracy: 0.8427 - val_loss: 0.4267 - val_accuracy: 0.8212\n",
      "Epoch 17/20\n",
      "712/712 [==============================] - 0s 139us/sample - loss: 0.4026 - accuracy: 0.8287 - val_loss: 0.4182 - val_accuracy: 0.8324\n",
      "Epoch 18/20\n",
      "712/712 [==============================] - 0s 132us/sample - loss: 0.3937 - accuracy: 0.8371 - val_loss: 0.4213 - val_accuracy: 0.8268\n",
      "Epoch 19/20\n",
      "712/712 [==============================] - 0s 135us/sample - loss: 0.4105 - accuracy: 0.8301 - val_loss: 0.4199 - val_accuracy: 0.8212\n",
      "Epoch 20/20\n",
      "712/712 [==============================] - 0s 142us/sample - loss: 0.4001 - accuracy: 0.8413 - val_loss: 0.4216 - val_accuracy: 0.8156\n"
     ]
    },
    {
     "data": {
      "text/html": [
       "<span style=\"color:#4527A0\"><h1 style=\"font-size:18px\">Trial complete</h1></span>"
      ],
      "text/plain": [
       "<IPython.core.display.HTML object>"
      ]
     },
     "metadata": {},
     "output_type": "display_data"
    },
    {
     "data": {
      "text/html": [
       "<span style=\"color:#4527A0\"><h1 style=\"font-size:18px\">Trial summary</h1></span>"
      ],
      "text/plain": [
       "<IPython.core.display.HTML object>"
      ]
     },
     "metadata": {},
     "output_type": "display_data"
    },
    {
     "data": {
      "text/html": [
       "<span style=\"color:cyan\"> |-Trial ID: 58a06638b081182d45229addc7141bef</span>"
      ],
      "text/plain": [
       "<IPython.core.display.HTML object>"
      ]
     },
     "metadata": {},
     "output_type": "display_data"
    },
    {
     "data": {
      "text/html": [
       "<span style=\"color:cyan\"> |-Score: 0.8351955413818359</span>"
      ],
      "text/plain": [
       "<IPython.core.display.HTML object>"
      ]
     },
     "metadata": {},
     "output_type": "display_data"
    },
    {
     "data": {
      "text/html": [
       "<span style=\"color:cyan\"> |-Best step: 0</span>"
      ],
      "text/plain": [
       "<IPython.core.display.HTML object>"
      ]
     },
     "metadata": {},
     "output_type": "display_data"
    },
    {
     "data": {
      "text/html": [
       "<span style=\"color:#7E57C2\"><h2 style=\"font-size:16px\">Hyperparameters:</h2></span>"
      ],
      "text/plain": [
       "<IPython.core.display.HTML object>"
      ]
     },
     "metadata": {},
     "output_type": "display_data"
    },
    {
     "data": {
      "text/html": [
       "<span style=\"color:cyan\"> |-dense_activation_0: tanh</span>"
      ],
      "text/plain": [
       "<IPython.core.display.HTML object>"
      ]
     },
     "metadata": {},
     "output_type": "display_data"
    },
    {
     "data": {
      "text/html": [
       "<span style=\"color:blue\"> |-dense_activation_1: relu</span>"
      ],
      "text/plain": [
       "<IPython.core.display.HTML object>"
      ]
     },
     "metadata": {},
     "output_type": "display_data"
    },
    {
     "data": {
      "text/html": [
       "<span style=\"color:cyan\"> |-dense_activation_2: sigmoid</span>"
      ],
      "text/plain": [
       "<IPython.core.display.HTML object>"
      ]
     },
     "metadata": {},
     "output_type": "display_data"
    },
    {
     "data": {
      "text/html": [
       "<span style=\"color:blue\"> |-dense_activation_3: sigmoid</span>"
      ],
      "text/plain": [
       "<IPython.core.display.HTML object>"
      ]
     },
     "metadata": {},
     "output_type": "display_data"
    },
    {
     "data": {
      "text/html": [
       "<span style=\"color:cyan\"> |-dense_activation_4: sigmoid</span>"
      ],
      "text/plain": [
       "<IPython.core.display.HTML object>"
      ]
     },
     "metadata": {},
     "output_type": "display_data"
    },
    {
     "data": {
      "text/html": [
       "<span style=\"color:blue\"> |-dense_activation_5: sigmoid</span>"
      ],
      "text/plain": [
       "<IPython.core.display.HTML object>"
      ]
     },
     "metadata": {},
     "output_type": "display_data"
    },
    {
     "data": {
      "text/html": [
       "<span style=\"color:cyan\"> |-dense_activation_6: relu</span>"
      ],
      "text/plain": [
       "<IPython.core.display.HTML object>"
      ]
     },
     "metadata": {},
     "output_type": "display_data"
    },
    {
     "data": {
      "text/html": [
       "<span style=\"color:blue\"> |-dense_units_0: 40</span>"
      ],
      "text/plain": [
       "<IPython.core.display.HTML object>"
      ]
     },
     "metadata": {},
     "output_type": "display_data"
    },
    {
     "data": {
      "text/html": [
       "<span style=\"color:cyan\"> |-dense_units_1: 24</span>"
      ],
      "text/plain": [
       "<IPython.core.display.HTML object>"
      ]
     },
     "metadata": {},
     "output_type": "display_data"
    },
    {
     "data": {
      "text/html": [
       "<span style=\"color:blue\"> |-dense_units_2: 24</span>"
      ],
      "text/plain": [
       "<IPython.core.display.HTML object>"
      ]
     },
     "metadata": {},
     "output_type": "display_data"
    },
    {
     "data": {
      "text/html": [
       "<span style=\"color:cyan\"> |-dense_units_3: 16</span>"
      ],
      "text/plain": [
       "<IPython.core.display.HTML object>"
      ]
     },
     "metadata": {},
     "output_type": "display_data"
    },
    {
     "data": {
      "text/html": [
       "<span style=\"color:blue\"> |-dense_units_4: 40</span>"
      ],
      "text/plain": [
       "<IPython.core.display.HTML object>"
      ]
     },
     "metadata": {},
     "output_type": "display_data"
    },
    {
     "data": {
      "text/html": [
       "<span style=\"color:cyan\"> |-dense_units_5: 48</span>"
      ],
      "text/plain": [
       "<IPython.core.display.HTML object>"
      ]
     },
     "metadata": {},
     "output_type": "display_data"
    },
    {
     "data": {
      "text/html": [
       "<span style=\"color:blue\"> |-dense_units_6: 24</span>"
      ],
      "text/plain": [
       "<IPython.core.display.HTML object>"
      ]
     },
     "metadata": {},
     "output_type": "display_data"
    },
    {
     "data": {
      "text/html": [
       "<span style=\"color:cyan\"> |-dropout_0: 0.05</span>"
      ],
      "text/plain": [
       "<IPython.core.display.HTML object>"
      ]
     },
     "metadata": {},
     "output_type": "display_data"
    },
    {
     "data": {
      "text/html": [
       "<span style=\"color:blue\"> |-dropout_1: 0.15000000000000002</span>"
      ],
      "text/plain": [
       "<IPython.core.display.HTML object>"
      ]
     },
     "metadata": {},
     "output_type": "display_data"
    },
    {
     "data": {
      "text/html": [
       "<span style=\"color:cyan\"> |-dropout_2: 0.25</span>"
      ],
      "text/plain": [
       "<IPython.core.display.HTML object>"
      ]
     },
     "metadata": {},
     "output_type": "display_data"
    },
    {
     "data": {
      "text/html": [
       "<span style=\"color:blue\"> |-dropout_3: 0.2</span>"
      ],
      "text/plain": [
       "<IPython.core.display.HTML object>"
      ]
     },
     "metadata": {},
     "output_type": "display_data"
    },
    {
     "data": {
      "text/html": [
       "<span style=\"color:cyan\"> |-dropout_4: 0.30000000000000004</span>"
      ],
      "text/plain": [
       "<IPython.core.display.HTML object>"
      ]
     },
     "metadata": {},
     "output_type": "display_data"
    },
    {
     "data": {
      "text/html": [
       "<span style=\"color:blue\"> |-dropout_5: 0.05</span>"
      ],
      "text/plain": [
       "<IPython.core.display.HTML object>"
      ]
     },
     "metadata": {},
     "output_type": "display_data"
    },
    {
     "data": {
      "text/html": [
       "<span style=\"color:cyan\"> |-dropout_6: 0.05</span>"
      ],
      "text/plain": [
       "<IPython.core.display.HTML object>"
      ]
     },
     "metadata": {},
     "output_type": "display_data"
    },
    {
     "data": {
      "text/html": [
       "<span style=\"color:blue\"> |-learning_rate: 0.0033710341251377745</span>"
      ],
      "text/plain": [
       "<IPython.core.display.HTML object>"
      ]
     },
     "metadata": {},
     "output_type": "display_data"
    },
    {
     "data": {
      "text/html": [
       "<span style=\"color:cyan\"> |-num_layers: 2</span>"
      ],
      "text/plain": [
       "<IPython.core.display.HTML object>"
      ]
     },
     "metadata": {},
     "output_type": "display_data"
    },
    {
     "name": "stdout",
     "output_type": "stream",
     "text": [
      "Train on 712 samples, validate on 179 samples\n",
      "Epoch 1/20\n",
      "712/712 [==============================] - 1s 828us/sample - loss: 0.6080 - accuracy: 0.6615 - val_loss: 0.4361 - val_accuracy: 0.7877\n",
      "Epoch 2/20\n",
      "712/712 [==============================] - 0s 147us/sample - loss: 0.4796 - accuracy: 0.7669 - val_loss: 0.4186 - val_accuracy: 0.8045\n",
      "Epoch 3/20\n",
      "712/712 [==============================] - 0s 129us/sample - loss: 0.4792 - accuracy: 0.7823 - val_loss: 0.4198 - val_accuracy: 0.7933\n",
      "Epoch 4/20\n",
      "712/712 [==============================] - 0s 129us/sample - loss: 0.4415 - accuracy: 0.8048 - val_loss: 0.4159 - val_accuracy: 0.7933\n",
      "Epoch 5/20\n",
      "712/712 [==============================] - 0s 168us/sample - loss: 0.4408 - accuracy: 0.8076 - val_loss: 0.4248 - val_accuracy: 0.8045\n",
      "Epoch 6/20\n",
      "712/712 [==============================] - 0s 157us/sample - loss: 0.4360 - accuracy: 0.8174 - val_loss: 0.4226 - val_accuracy: 0.7989\n",
      "Epoch 7/20\n",
      "712/712 [==============================] - 0s 151us/sample - loss: 0.4223 - accuracy: 0.8132 - val_loss: 0.4189 - val_accuracy: 0.8156\n",
      "Epoch 8/20\n",
      "712/712 [==============================] - 0s 131us/sample - loss: 0.4273 - accuracy: 0.8216 - val_loss: 0.4144 - val_accuracy: 0.8101\n",
      "Epoch 9/20\n",
      "712/712 [==============================] - 0s 151us/sample - loss: 0.4252 - accuracy: 0.8258 - val_loss: 0.4123 - val_accuracy: 0.8212\n",
      "Epoch 10/20\n",
      "712/712 [==============================] - 0s 131us/sample - loss: 0.4136 - accuracy: 0.8343 - val_loss: 0.4149 - val_accuracy: 0.8212\n",
      "Epoch 11/20\n",
      "712/712 [==============================] - 0s 146us/sample - loss: 0.4178 - accuracy: 0.8272 - val_loss: 0.4047 - val_accuracy: 0.8268\n",
      "Epoch 12/20\n",
      "712/712 [==============================] - 0s 129us/sample - loss: 0.4137 - accuracy: 0.8287 - val_loss: 0.4080 - val_accuracy: 0.8212\n",
      "Epoch 13/20\n",
      "712/712 [==============================] - 0s 151us/sample - loss: 0.4151 - accuracy: 0.8202 - val_loss: 0.4026 - val_accuracy: 0.8324\n",
      "Epoch 14/20\n",
      "712/712 [==============================] - 0s 136us/sample - loss: 0.4293 - accuracy: 0.8202 - val_loss: 0.4063 - val_accuracy: 0.8156\n",
      "Epoch 15/20\n",
      "712/712 [==============================] - 0s 129us/sample - loss: 0.4065 - accuracy: 0.8315 - val_loss: 0.3971 - val_accuracy: 0.8324\n",
      "Epoch 16/20\n",
      "712/712 [==============================] - 0s 166us/sample - loss: 0.4139 - accuracy: 0.8244 - val_loss: 0.4067 - val_accuracy: 0.8212\n",
      "Epoch 17/20\n",
      "712/712 [==============================] - 0s 129us/sample - loss: 0.3956 - accuracy: 0.8441 - val_loss: 0.4026 - val_accuracy: 0.8324\n",
      "Epoch 18/20\n",
      "712/712 [==============================] - 0s 133us/sample - loss: 0.4096 - accuracy: 0.8230 - val_loss: 0.4049 - val_accuracy: 0.8156\n",
      "Epoch 19/20\n",
      "712/712 [==============================] - 0s 130us/sample - loss: 0.4062 - accuracy: 0.8427 - val_loss: 0.4010 - val_accuracy: 0.8268\n",
      "Epoch 20/20\n",
      "712/712 [==============================] - 0s 128us/sample - loss: 0.4007 - accuracy: 0.8427 - val_loss: 0.4006 - val_accuracy: 0.8268\n",
      "Train on 712 samples, validate on 179 samples\n",
      "Epoch 1/20\n",
      "712/712 [==============================] - 1s 1ms/sample - loss: 0.6214 - accuracy: 0.6531 - val_loss: 0.4904 - val_accuracy: 0.7542\n",
      "Epoch 2/20\n",
      "712/712 [==============================] - 0s 190us/sample - loss: 0.4756 - accuracy: 0.7683 - val_loss: 0.4407 - val_accuracy: 0.7877\n",
      "Epoch 3/20\n",
      "712/712 [==============================] - 0s 134us/sample - loss: 0.4477 - accuracy: 0.8062 - val_loss: 0.4410 - val_accuracy: 0.7933\n",
      "Epoch 4/20\n",
      "712/712 [==============================] - 0s 141us/sample - loss: 0.4392 - accuracy: 0.8062 - val_loss: 0.4401 - val_accuracy: 0.7989\n",
      "Epoch 5/20\n",
      "712/712 [==============================] - 0s 135us/sample - loss: 0.4503 - accuracy: 0.8146 - val_loss: 0.4431 - val_accuracy: 0.8101\n",
      "Epoch 6/20\n",
      "712/712 [==============================] - 0s 129us/sample - loss: 0.4357 - accuracy: 0.8160 - val_loss: 0.4405 - val_accuracy: 0.8045\n",
      "Epoch 7/20\n",
      "712/712 [==============================] - 0s 129us/sample - loss: 0.4304 - accuracy: 0.8048 - val_loss: 0.4301 - val_accuracy: 0.8101\n",
      "Epoch 8/20\n",
      "712/712 [==============================] - 0s 128us/sample - loss: 0.4270 - accuracy: 0.8272 - val_loss: 0.4321 - val_accuracy: 0.8045\n",
      "Epoch 9/20\n",
      "712/712 [==============================] - 0s 127us/sample - loss: 0.4304 - accuracy: 0.8244 - val_loss: 0.4315 - val_accuracy: 0.8101\n",
      "Epoch 10/20\n",
      "712/712 [==============================] - 0s 129us/sample - loss: 0.4136 - accuracy: 0.8385 - val_loss: 0.4270 - val_accuracy: 0.8212\n",
      "Epoch 11/20\n",
      "712/712 [==============================] - 0s 129us/sample - loss: 0.4143 - accuracy: 0.8287 - val_loss: 0.4246 - val_accuracy: 0.8156\n",
      "Epoch 12/20\n",
      "712/712 [==============================] - 0s 125us/sample - loss: 0.4180 - accuracy: 0.8357 - val_loss: 0.4209 - val_accuracy: 0.8101\n",
      "Epoch 13/20\n",
      "712/712 [==============================] - 0s 127us/sample - loss: 0.4126 - accuracy: 0.8287 - val_loss: 0.4146 - val_accuracy: 0.8156\n",
      "Epoch 14/20\n",
      "712/712 [==============================] - 0s 131us/sample - loss: 0.4253 - accuracy: 0.8329 - val_loss: 0.4142 - val_accuracy: 0.8212\n",
      "Epoch 15/20\n",
      "712/712 [==============================] - 0s 185us/sample - loss: 0.4144 - accuracy: 0.8216 - val_loss: 0.4078 - val_accuracy: 0.8324\n",
      "Epoch 16/20\n",
      "712/712 [==============================] - 0s 132us/sample - loss: 0.4019 - accuracy: 0.8399 - val_loss: 0.4146 - val_accuracy: 0.8212\n",
      "Epoch 17/20\n",
      "712/712 [==============================] - 0s 173us/sample - loss: 0.3978 - accuracy: 0.8343 - val_loss: 0.4126 - val_accuracy: 0.8101\n",
      "Epoch 18/20\n",
      "712/712 [==============================] - 0s 144us/sample - loss: 0.4012 - accuracy: 0.8357 - val_loss: 0.4198 - val_accuracy: 0.8156\n",
      "Epoch 19/20\n",
      "712/712 [==============================] - 0s 134us/sample - loss: 0.4030 - accuracy: 0.8357 - val_loss: 0.4129 - val_accuracy: 0.8268\n",
      "Epoch 20/20\n",
      "712/712 [==============================] - 0s 126us/sample - loss: 0.4013 - accuracy: 0.8315 - val_loss: 0.4090 - val_accuracy: 0.8156\n"
     ]
    },
    {
     "data": {
      "text/html": [
       "<span style=\"color:#4527A0\"><h1 style=\"font-size:18px\">Trial complete</h1></span>"
      ],
      "text/plain": [
       "<IPython.core.display.HTML object>"
      ]
     },
     "metadata": {},
     "output_type": "display_data"
    },
    {
     "data": {
      "text/html": [
       "<span style=\"color:#4527A0\"><h1 style=\"font-size:18px\">Trial summary</h1></span>"
      ],
      "text/plain": [
       "<IPython.core.display.HTML object>"
      ]
     },
     "metadata": {},
     "output_type": "display_data"
    },
    {
     "data": {
      "text/html": [
       "<span style=\"color:cyan\"> |-Trial ID: 147f85dd80af3b73599453fde5885eda</span>"
      ],
      "text/plain": [
       "<IPython.core.display.HTML object>"
      ]
     },
     "metadata": {},
     "output_type": "display_data"
    },
    {
     "data": {
      "text/html": [
       "<span style=\"color:cyan\"> |-Score: 0.832402229309082</span>"
      ],
      "text/plain": [
       "<IPython.core.display.HTML object>"
      ]
     },
     "metadata": {},
     "output_type": "display_data"
    },
    {
     "data": {
      "text/html": [
       "<span style=\"color:cyan\"> |-Best step: 0</span>"
      ],
      "text/plain": [
       "<IPython.core.display.HTML object>"
      ]
     },
     "metadata": {},
     "output_type": "display_data"
    },
    {
     "data": {
      "text/html": [
       "<span style=\"color:#7E57C2\"><h2 style=\"font-size:16px\">Hyperparameters:</h2></span>"
      ],
      "text/plain": [
       "<IPython.core.display.HTML object>"
      ]
     },
     "metadata": {},
     "output_type": "display_data"
    },
    {
     "data": {
      "text/html": [
       "<span style=\"color:cyan\"> |-dense_activation_0: tanh</span>"
      ],
      "text/plain": [
       "<IPython.core.display.HTML object>"
      ]
     },
     "metadata": {},
     "output_type": "display_data"
    },
    {
     "data": {
      "text/html": [
       "<span style=\"color:blue\"> |-dense_activation_1: tanh</span>"
      ],
      "text/plain": [
       "<IPython.core.display.HTML object>"
      ]
     },
     "metadata": {},
     "output_type": "display_data"
    },
    {
     "data": {
      "text/html": [
       "<span style=\"color:cyan\"> |-dense_activation_2: sigmoid</span>"
      ],
      "text/plain": [
       "<IPython.core.display.HTML object>"
      ]
     },
     "metadata": {},
     "output_type": "display_data"
    },
    {
     "data": {
      "text/html": [
       "<span style=\"color:blue\"> |-dense_activation_3: sigmoid</span>"
      ],
      "text/plain": [
       "<IPython.core.display.HTML object>"
      ]
     },
     "metadata": {},
     "output_type": "display_data"
    },
    {
     "data": {
      "text/html": [
       "<span style=\"color:cyan\"> |-dense_activation_4: tanh</span>"
      ],
      "text/plain": [
       "<IPython.core.display.HTML object>"
      ]
     },
     "metadata": {},
     "output_type": "display_data"
    },
    {
     "data": {
      "text/html": [
       "<span style=\"color:blue\"> |-dense_activation_5: sigmoid</span>"
      ],
      "text/plain": [
       "<IPython.core.display.HTML object>"
      ]
     },
     "metadata": {},
     "output_type": "display_data"
    },
    {
     "data": {
      "text/html": [
       "<span style=\"color:cyan\"> |-dense_activation_6: tanh</span>"
      ],
      "text/plain": [
       "<IPython.core.display.HTML object>"
      ]
     },
     "metadata": {},
     "output_type": "display_data"
    },
    {
     "data": {
      "text/html": [
       "<span style=\"color:blue\"> |-dense_units_0: 32</span>"
      ],
      "text/plain": [
       "<IPython.core.display.HTML object>"
      ]
     },
     "metadata": {},
     "output_type": "display_data"
    },
    {
     "data": {
      "text/html": [
       "<span style=\"color:cyan\"> |-dense_units_1: 40</span>"
      ],
      "text/plain": [
       "<IPython.core.display.HTML object>"
      ]
     },
     "metadata": {},
     "output_type": "display_data"
    },
    {
     "data": {
      "text/html": [
       "<span style=\"color:blue\"> |-dense_units_2: 32</span>"
      ],
      "text/plain": [
       "<IPython.core.display.HTML object>"
      ]
     },
     "metadata": {},
     "output_type": "display_data"
    },
    {
     "data": {
      "text/html": [
       "<span style=\"color:cyan\"> |-dense_units_3: 16</span>"
      ],
      "text/plain": [
       "<IPython.core.display.HTML object>"
      ]
     },
     "metadata": {},
     "output_type": "display_data"
    },
    {
     "data": {
      "text/html": [
       "<span style=\"color:blue\"> |-dense_units_4: 56</span>"
      ],
      "text/plain": [
       "<IPython.core.display.HTML object>"
      ]
     },
     "metadata": {},
     "output_type": "display_data"
    },
    {
     "data": {
      "text/html": [
       "<span style=\"color:cyan\"> |-dense_units_5: 48</span>"
      ],
      "text/plain": [
       "<IPython.core.display.HTML object>"
      ]
     },
     "metadata": {},
     "output_type": "display_data"
    },
    {
     "data": {
      "text/html": [
       "<span style=\"color:blue\"> |-dense_units_6: 48</span>"
      ],
      "text/plain": [
       "<IPython.core.display.HTML object>"
      ]
     },
     "metadata": {},
     "output_type": "display_data"
    },
    {
     "data": {
      "text/html": [
       "<span style=\"color:cyan\"> |-dropout_0: 0.0</span>"
      ],
      "text/plain": [
       "<IPython.core.display.HTML object>"
      ]
     },
     "metadata": {},
     "output_type": "display_data"
    },
    {
     "data": {
      "text/html": [
       "<span style=\"color:blue\"> |-dropout_1: 0.30000000000000004</span>"
      ],
      "text/plain": [
       "<IPython.core.display.HTML object>"
      ]
     },
     "metadata": {},
     "output_type": "display_data"
    },
    {
     "data": {
      "text/html": [
       "<span style=\"color:cyan\"> |-dropout_2: 0.2</span>"
      ],
      "text/plain": [
       "<IPython.core.display.HTML object>"
      ]
     },
     "metadata": {},
     "output_type": "display_data"
    },
    {
     "data": {
      "text/html": [
       "<span style=\"color:blue\"> |-dropout_3: 0.0</span>"
      ],
      "text/plain": [
       "<IPython.core.display.HTML object>"
      ]
     },
     "metadata": {},
     "output_type": "display_data"
    },
    {
     "data": {
      "text/html": [
       "<span style=\"color:cyan\"> |-dropout_4: 0.15000000000000002</span>"
      ],
      "text/plain": [
       "<IPython.core.display.HTML object>"
      ]
     },
     "metadata": {},
     "output_type": "display_data"
    },
    {
     "data": {
      "text/html": [
       "<span style=\"color:blue\"> |-dropout_5: 0.1</span>"
      ],
      "text/plain": [
       "<IPython.core.display.HTML object>"
      ]
     },
     "metadata": {},
     "output_type": "display_data"
    },
    {
     "data": {
      "text/html": [
       "<span style=\"color:cyan\"> |-dropout_6: 0.05</span>"
      ],
      "text/plain": [
       "<IPython.core.display.HTML object>"
      ]
     },
     "metadata": {},
     "output_type": "display_data"
    },
    {
     "data": {
      "text/html": [
       "<span style=\"color:blue\"> |-learning_rate: 0.0025124079357885637</span>"
      ],
      "text/plain": [
       "<IPython.core.display.HTML object>"
      ]
     },
     "metadata": {},
     "output_type": "display_data"
    },
    {
     "data": {
      "text/html": [
       "<span style=\"color:cyan\"> |-num_layers: 1</span>"
      ],
      "text/plain": [
       "<IPython.core.display.HTML object>"
      ]
     },
     "metadata": {},
     "output_type": "display_data"
    },
    {
     "name": "stdout",
     "output_type": "stream",
     "text": [
      "Train on 712 samples, validate on 179 samples\n",
      "Epoch 1/20\n",
      "712/712 [==============================] - 1s 1ms/sample - loss: 0.6736 - accuracy: 0.6110 - val_loss: 0.5836 - val_accuracy: 0.7095\n",
      "Epoch 2/20\n",
      "712/712 [==============================] - 0s 208us/sample - loss: 0.5701 - accuracy: 0.7219 - val_loss: 0.4413 - val_accuracy: 0.7765\n",
      "Epoch 3/20\n",
      "712/712 [==============================] - 0s 177us/sample - loss: 0.5423 - accuracy: 0.7430 - val_loss: 0.4532 - val_accuracy: 0.7821\n",
      "Epoch 4/20\n",
      "712/712 [==============================] - 0s 162us/sample - loss: 0.5102 - accuracy: 0.7795 - val_loss: 0.4510 - val_accuracy: 0.7877\n",
      "Epoch 5/20\n",
      "712/712 [==============================] - 0s 142us/sample - loss: 0.4930 - accuracy: 0.7795 - val_loss: 0.4558 - val_accuracy: 0.7765\n",
      "Epoch 6/20\n",
      "712/712 [==============================] - 0s 200us/sample - loss: 0.4772 - accuracy: 0.8020 - val_loss: 0.4554 - val_accuracy: 0.7933\n",
      "Epoch 7/20\n",
      "712/712 [==============================] - 0s 174us/sample - loss: 0.4607 - accuracy: 0.8132 - val_loss: 0.4505 - val_accuracy: 0.7933\n",
      "Epoch 8/20\n",
      "712/712 [==============================] - 0s 138us/sample - loss: 0.4641 - accuracy: 0.8062 - val_loss: 0.4608 - val_accuracy: 0.7933\n",
      "Epoch 9/20\n",
      "712/712 [==============================] - 0s 163us/sample - loss: 0.4561 - accuracy: 0.7949 - val_loss: 0.4567 - val_accuracy: 0.8101\n",
      "Epoch 10/20\n",
      "712/712 [==============================] - 0s 140us/sample - loss: 0.4596 - accuracy: 0.8020 - val_loss: 0.4446 - val_accuracy: 0.7933\n",
      "Epoch 11/20\n",
      "712/712 [==============================] - 0s 138us/sample - loss: 0.4610 - accuracy: 0.7949 - val_loss: 0.4418 - val_accuracy: 0.8101\n",
      "Epoch 12/20\n",
      "712/712 [==============================] - 0s 158us/sample - loss: 0.4563 - accuracy: 0.8076 - val_loss: 0.4324 - val_accuracy: 0.8156\n",
      "Epoch 13/20\n",
      "712/712 [==============================] - 0s 137us/sample - loss: 0.4733 - accuracy: 0.7963 - val_loss: 0.4427 - val_accuracy: 0.7877\n",
      "Epoch 14/20\n",
      "712/712 [==============================] - 0s 162us/sample - loss: 0.4543 - accuracy: 0.8034 - val_loss: 0.4390 - val_accuracy: 0.8212\n",
      "Epoch 15/20\n",
      "712/712 [==============================] - 0s 151us/sample - loss: 0.4362 - accuracy: 0.8258 - val_loss: 0.4314 - val_accuracy: 0.8212\n",
      "Epoch 16/20\n",
      "712/712 [==============================] - 0s 139us/sample - loss: 0.4288 - accuracy: 0.8202 - val_loss: 0.4421 - val_accuracy: 0.8101\n",
      "Epoch 17/20\n",
      "712/712 [==============================] - 0s 144us/sample - loss: 0.4350 - accuracy: 0.8244 - val_loss: 0.4330 - val_accuracy: 0.8156\n",
      "Epoch 18/20\n",
      "712/712 [==============================] - 0s 136us/sample - loss: 0.4302 - accuracy: 0.8160 - val_loss: 0.4402 - val_accuracy: 0.8156\n",
      "Epoch 19/20\n",
      "712/712 [==============================] - 0s 162us/sample - loss: 0.4338 - accuracy: 0.8202 - val_loss: 0.4406 - val_accuracy: 0.8268\n",
      "Epoch 20/20\n",
      "712/712 [==============================] - 0s 142us/sample - loss: 0.4341 - accuracy: 0.8258 - val_loss: 0.4361 - val_accuracy: 0.8268\n",
      "Train on 712 samples, validate on 179 samples\n",
      "Epoch 1/20\n",
      "712/712 [==============================] - 1s 993us/sample - loss: 0.6608 - accuracy: 0.6222 - val_loss: 0.5617 - val_accuracy: 0.7151\n",
      "Epoch 2/20\n",
      "712/712 [==============================] - 0s 140us/sample - loss: 0.5443 - accuracy: 0.7388 - val_loss: 0.4296 - val_accuracy: 0.8101\n",
      "Epoch 3/20\n",
      "712/712 [==============================] - 0s 139us/sample - loss: 0.5206 - accuracy: 0.7654 - val_loss: 0.4701 - val_accuracy: 0.7933\n",
      "Epoch 4/20\n",
      "712/712 [==============================] - 0s 144us/sample - loss: 0.5268 - accuracy: 0.7725 - val_loss: 0.4445 - val_accuracy: 0.7821\n",
      "Epoch 5/20\n",
      "712/712 [==============================] - 0s 169us/sample - loss: 0.4991 - accuracy: 0.7795 - val_loss: 0.4465 - val_accuracy: 0.7821\n",
      "Epoch 6/20\n",
      "712/712 [==============================] - 0s 142us/sample - loss: 0.4768 - accuracy: 0.8160 - val_loss: 0.4552 - val_accuracy: 0.8101\n",
      "Epoch 7/20\n",
      "712/712 [==============================] - 0s 134us/sample - loss: 0.4575 - accuracy: 0.8104 - val_loss: 0.4457 - val_accuracy: 0.7933\n",
      "Epoch 8/20\n",
      "712/712 [==============================] - 0s 168us/sample - loss: 0.4514 - accuracy: 0.8104 - val_loss: 0.4404 - val_accuracy: 0.8045\n",
      "Epoch 9/20\n",
      "712/712 [==============================] - 0s 145us/sample - loss: 0.4617 - accuracy: 0.8132 - val_loss: 0.4423 - val_accuracy: 0.7989\n",
      "Epoch 10/20\n",
      "712/712 [==============================] - 0s 139us/sample - loss: 0.4490 - accuracy: 0.8174 - val_loss: 0.4466 - val_accuracy: 0.8045\n",
      "Epoch 11/20\n",
      "712/712 [==============================] - 0s 143us/sample - loss: 0.4491 - accuracy: 0.8216 - val_loss: 0.4445 - val_accuracy: 0.8045\n",
      "Epoch 12/20\n",
      "712/712 [==============================] - 0s 144us/sample - loss: 0.4590 - accuracy: 0.8062 - val_loss: 0.4348 - val_accuracy: 0.8268\n",
      "Epoch 13/20\n",
      "712/712 [==============================] - 0s 133us/sample - loss: 0.4636 - accuracy: 0.8076 - val_loss: 0.4383 - val_accuracy: 0.8212\n",
      "Epoch 14/20\n",
      "712/712 [==============================] - 0s 137us/sample - loss: 0.4495 - accuracy: 0.8076 - val_loss: 0.4367 - val_accuracy: 0.8045\n",
      "Epoch 15/20\n",
      "712/712 [==============================] - 0s 156us/sample - loss: 0.4344 - accuracy: 0.8258 - val_loss: 0.4263 - val_accuracy: 0.8268\n",
      "Epoch 16/20\n",
      "712/712 [==============================] - 0s 136us/sample - loss: 0.4375 - accuracy: 0.8202 - val_loss: 0.4353 - val_accuracy: 0.8212\n",
      "Epoch 17/20\n",
      "712/712 [==============================] - 0s 141us/sample - loss: 0.4407 - accuracy: 0.8216 - val_loss: 0.4323 - val_accuracy: 0.8268\n",
      "Epoch 18/20\n",
      "712/712 [==============================] - 0s 137us/sample - loss: 0.4342 - accuracy: 0.8258 - val_loss: 0.4475 - val_accuracy: 0.7765\n",
      "Epoch 19/20\n",
      "712/712 [==============================] - 0s 149us/sample - loss: 0.4310 - accuracy: 0.8230 - val_loss: 0.4319 - val_accuracy: 0.8268\n",
      "Epoch 20/20\n",
      "712/712 [==============================] - 0s 162us/sample - loss: 0.4277 - accuracy: 0.8258 - val_loss: 0.4325 - val_accuracy: 0.8268\n"
     ]
    },
    {
     "data": {
      "text/html": [
       "<span style=\"color:#4527A0\"><h1 style=\"font-size:18px\">Trial complete</h1></span>"
      ],
      "text/plain": [
       "<IPython.core.display.HTML object>"
      ]
     },
     "metadata": {},
     "output_type": "display_data"
    },
    {
     "data": {
      "text/html": [
       "<span style=\"color:#4527A0\"><h1 style=\"font-size:18px\">Trial summary</h1></span>"
      ],
      "text/plain": [
       "<IPython.core.display.HTML object>"
      ]
     },
     "metadata": {},
     "output_type": "display_data"
    },
    {
     "data": {
      "text/html": [
       "<span style=\"color:cyan\"> |-Trial ID: b36fa9120402ae1665593fcb09beaca9</span>"
      ],
      "text/plain": [
       "<IPython.core.display.HTML object>"
      ]
     },
     "metadata": {},
     "output_type": "display_data"
    },
    {
     "data": {
      "text/html": [
       "<span style=\"color:cyan\"> |-Score: 0.826815664768219</span>"
      ],
      "text/plain": [
       "<IPython.core.display.HTML object>"
      ]
     },
     "metadata": {},
     "output_type": "display_data"
    },
    {
     "data": {
      "text/html": [
       "<span style=\"color:cyan\"> |-Best step: 0</span>"
      ],
      "text/plain": [
       "<IPython.core.display.HTML object>"
      ]
     },
     "metadata": {},
     "output_type": "display_data"
    },
    {
     "data": {
      "text/html": [
       "<span style=\"color:#7E57C2\"><h2 style=\"font-size:16px\">Hyperparameters:</h2></span>"
      ],
      "text/plain": [
       "<IPython.core.display.HTML object>"
      ]
     },
     "metadata": {},
     "output_type": "display_data"
    },
    {
     "data": {
      "text/html": [
       "<span style=\"color:cyan\"> |-dense_activation_0: sigmoid</span>"
      ],
      "text/plain": [
       "<IPython.core.display.HTML object>"
      ]
     },
     "metadata": {},
     "output_type": "display_data"
    },
    {
     "data": {
      "text/html": [
       "<span style=\"color:blue\"> |-dense_activation_1: relu</span>"
      ],
      "text/plain": [
       "<IPython.core.display.HTML object>"
      ]
     },
     "metadata": {},
     "output_type": "display_data"
    },
    {
     "data": {
      "text/html": [
       "<span style=\"color:cyan\"> |-dense_activation_2: tanh</span>"
      ],
      "text/plain": [
       "<IPython.core.display.HTML object>"
      ]
     },
     "metadata": {},
     "output_type": "display_data"
    },
    {
     "data": {
      "text/html": [
       "<span style=\"color:blue\"> |-dense_activation_3: sigmoid</span>"
      ],
      "text/plain": [
       "<IPython.core.display.HTML object>"
      ]
     },
     "metadata": {},
     "output_type": "display_data"
    },
    {
     "data": {
      "text/html": [
       "<span style=\"color:cyan\"> |-dense_activation_4: sigmoid</span>"
      ],
      "text/plain": [
       "<IPython.core.display.HTML object>"
      ]
     },
     "metadata": {},
     "output_type": "display_data"
    },
    {
     "data": {
      "text/html": [
       "<span style=\"color:blue\"> |-dense_activation_5: sigmoid</span>"
      ],
      "text/plain": [
       "<IPython.core.display.HTML object>"
      ]
     },
     "metadata": {},
     "output_type": "display_data"
    },
    {
     "data": {
      "text/html": [
       "<span style=\"color:cyan\"> |-dense_activation_6: relu</span>"
      ],
      "text/plain": [
       "<IPython.core.display.HTML object>"
      ]
     },
     "metadata": {},
     "output_type": "display_data"
    },
    {
     "data": {
      "text/html": [
       "<span style=\"color:blue\"> |-dense_units_0: 32</span>"
      ],
      "text/plain": [
       "<IPython.core.display.HTML object>"
      ]
     },
     "metadata": {},
     "output_type": "display_data"
    },
    {
     "data": {
      "text/html": [
       "<span style=\"color:cyan\"> |-dense_units_1: 48</span>"
      ],
      "text/plain": [
       "<IPython.core.display.HTML object>"
      ]
     },
     "metadata": {},
     "output_type": "display_data"
    },
    {
     "data": {
      "text/html": [
       "<span style=\"color:blue\"> |-dense_units_2: 48</span>"
      ],
      "text/plain": [
       "<IPython.core.display.HTML object>"
      ]
     },
     "metadata": {},
     "output_type": "display_data"
    },
    {
     "data": {
      "text/html": [
       "<span style=\"color:cyan\"> |-dense_units_3: 48</span>"
      ],
      "text/plain": [
       "<IPython.core.display.HTML object>"
      ]
     },
     "metadata": {},
     "output_type": "display_data"
    },
    {
     "data": {
      "text/html": [
       "<span style=\"color:blue\"> |-dense_units_4: 16</span>"
      ],
      "text/plain": [
       "<IPython.core.display.HTML object>"
      ]
     },
     "metadata": {},
     "output_type": "display_data"
    },
    {
     "data": {
      "text/html": [
       "<span style=\"color:cyan\"> |-dense_units_5: 24</span>"
      ],
      "text/plain": [
       "<IPython.core.display.HTML object>"
      ]
     },
     "metadata": {},
     "output_type": "display_data"
    },
    {
     "data": {
      "text/html": [
       "<span style=\"color:blue\"> |-dense_units_6: 16</span>"
      ],
      "text/plain": [
       "<IPython.core.display.HTML object>"
      ]
     },
     "metadata": {},
     "output_type": "display_data"
    },
    {
     "data": {
      "text/html": [
       "<span style=\"color:cyan\"> |-dropout_0: 0.25</span>"
      ],
      "text/plain": [
       "<IPython.core.display.HTML object>"
      ]
     },
     "metadata": {},
     "output_type": "display_data"
    },
    {
     "data": {
      "text/html": [
       "<span style=\"color:blue\"> |-dropout_1: 0.15000000000000002</span>"
      ],
      "text/plain": [
       "<IPython.core.display.HTML object>"
      ]
     },
     "metadata": {},
     "output_type": "display_data"
    },
    {
     "data": {
      "text/html": [
       "<span style=\"color:cyan\"> |-dropout_2: 0.15000000000000002</span>"
      ],
      "text/plain": [
       "<IPython.core.display.HTML object>"
      ]
     },
     "metadata": {},
     "output_type": "display_data"
    },
    {
     "data": {
      "text/html": [
       "<span style=\"color:blue\"> |-dropout_3: 0.4</span>"
      ],
      "text/plain": [
       "<IPython.core.display.HTML object>"
      ]
     },
     "metadata": {},
     "output_type": "display_data"
    },
    {
     "data": {
      "text/html": [
       "<span style=\"color:cyan\"> |-dropout_4: 0.35000000000000003</span>"
      ],
      "text/plain": [
       "<IPython.core.display.HTML object>"
      ]
     },
     "metadata": {},
     "output_type": "display_data"
    },
    {
     "data": {
      "text/html": [
       "<span style=\"color:blue\"> |-dropout_5: 0.45</span>"
      ],
      "text/plain": [
       "<IPython.core.display.HTML object>"
      ]
     },
     "metadata": {},
     "output_type": "display_data"
    },
    {
     "data": {
      "text/html": [
       "<span style=\"color:cyan\"> |-dropout_6: 0.25</span>"
      ],
      "text/plain": [
       "<IPython.core.display.HTML object>"
      ]
     },
     "metadata": {},
     "output_type": "display_data"
    },
    {
     "data": {
      "text/html": [
       "<span style=\"color:blue\"> |-learning_rate: 0.0047156844970391324</span>"
      ],
      "text/plain": [
       "<IPython.core.display.HTML object>"
      ]
     },
     "metadata": {},
     "output_type": "display_data"
    },
    {
     "data": {
      "text/html": [
       "<span style=\"color:cyan\"> |-num_layers: 3</span>"
      ],
      "text/plain": [
       "<IPython.core.display.HTML object>"
      ]
     },
     "metadata": {},
     "output_type": "display_data"
    },
    {
     "name": "stdout",
     "output_type": "stream",
     "text": [
      "Train on 712 samples, validate on 179 samples\n",
      "Epoch 1/20\n",
      "712/712 [==============================] - 1s 921us/sample - loss: 0.6568 - accuracy: 0.6236 - val_loss: 0.5714 - val_accuracy: 0.7039\n",
      "Epoch 2/20\n",
      "712/712 [==============================] - 0s 156us/sample - loss: 0.6191 - accuracy: 0.6615 - val_loss: 0.5130 - val_accuracy: 0.7207\n",
      "Epoch 3/20\n",
      "712/712 [==============================] - 0s 155us/sample - loss: 0.5640 - accuracy: 0.7093 - val_loss: 0.4851 - val_accuracy: 0.7486\n",
      "Epoch 4/20\n",
      "712/712 [==============================] - 0s 155us/sample - loss: 0.5537 - accuracy: 0.7261 - val_loss: 0.4579 - val_accuracy: 0.7765\n",
      "Epoch 5/20\n",
      "712/712 [==============================] - 0s 168us/sample - loss: 0.5254 - accuracy: 0.7584 - val_loss: 0.4417 - val_accuracy: 0.7989\n",
      "Epoch 6/20\n",
      "712/712 [==============================] - 0s 132us/sample - loss: 0.5355 - accuracy: 0.7556 - val_loss: 0.4365 - val_accuracy: 0.7821\n",
      "Epoch 7/20\n",
      "712/712 [==============================] - 0s 131us/sample - loss: 0.5143 - accuracy: 0.7640 - val_loss: 0.4333 - val_accuracy: 0.7821\n",
      "Epoch 8/20\n",
      "712/712 [==============================] - 0s 134us/sample - loss: 0.5081 - accuracy: 0.7767 - val_loss: 0.4333 - val_accuracy: 0.7877\n",
      "Epoch 9/20\n",
      "712/712 [==============================] - 0s 140us/sample - loss: 0.4800 - accuracy: 0.7921 - val_loss: 0.4306 - val_accuracy: 0.7877\n",
      "Epoch 10/20\n",
      "712/712 [==============================] - 0s 133us/sample - loss: 0.4884 - accuracy: 0.7809 - val_loss: 0.4318 - val_accuracy: 0.7933\n",
      "Epoch 11/20\n",
      "712/712 [==============================] - 0s 133us/sample - loss: 0.4670 - accuracy: 0.7978 - val_loss: 0.4306 - val_accuracy: 0.7877\n",
      "Epoch 12/20\n",
      "712/712 [==============================] - 0s 137us/sample - loss: 0.4627 - accuracy: 0.7921 - val_loss: 0.4314 - val_accuracy: 0.7933\n",
      "Epoch 13/20\n",
      "712/712 [==============================] - 0s 144us/sample - loss: 0.4819 - accuracy: 0.7949 - val_loss: 0.4280 - val_accuracy: 0.7877\n",
      "Epoch 14/20\n",
      "712/712 [==============================] - 0s 143us/sample - loss: 0.4537 - accuracy: 0.8020 - val_loss: 0.4254 - val_accuracy: 0.7877\n",
      "Epoch 15/20\n",
      "712/712 [==============================] - 0s 136us/sample - loss: 0.4650 - accuracy: 0.7921 - val_loss: 0.4230 - val_accuracy: 0.7877\n",
      "Epoch 16/20\n",
      "712/712 [==============================] - 0s 136us/sample - loss: 0.4603 - accuracy: 0.8020 - val_loss: 0.4253 - val_accuracy: 0.7933\n",
      "Epoch 17/20\n",
      "712/712 [==============================] - 0s 168us/sample - loss: 0.4590 - accuracy: 0.8048 - val_loss: 0.4242 - val_accuracy: 0.8045\n",
      "Epoch 18/20\n",
      "712/712 [==============================] - 0s 151us/sample - loss: 0.4533 - accuracy: 0.8062 - val_loss: 0.4250 - val_accuracy: 0.7933\n",
      "Epoch 19/20\n",
      "712/712 [==============================] - 0s 166us/sample - loss: 0.4447 - accuracy: 0.8090 - val_loss: 0.4269 - val_accuracy: 0.8101\n",
      "Epoch 20/20\n",
      "712/712 [==============================] - 0s 156us/sample - loss: 0.4574 - accuracy: 0.8287 - val_loss: 0.4249 - val_accuracy: 0.8156\n",
      "Train on 712 samples, validate on 179 samples\n",
      "Epoch 1/20\n",
      "712/712 [==============================] - 1s 896us/sample - loss: 0.6433 - accuracy: 0.6348 - val_loss: 0.5246 - val_accuracy: 0.7430\n",
      "Epoch 2/20\n",
      "712/712 [==============================] - 0s 153us/sample - loss: 0.5850 - accuracy: 0.6924 - val_loss: 0.4603 - val_accuracy: 0.7765\n",
      "Epoch 3/20\n",
      "712/712 [==============================] - 0s 183us/sample - loss: 0.5476 - accuracy: 0.7360 - val_loss: 0.4370 - val_accuracy: 0.8156\n",
      "Epoch 4/20\n",
      "712/712 [==============================] - 0s 134us/sample - loss: 0.5088 - accuracy: 0.7556 - val_loss: 0.4243 - val_accuracy: 0.8045\n",
      "Epoch 5/20\n",
      "712/712 [==============================] - 0s 138us/sample - loss: 0.5023 - accuracy: 0.7626 - val_loss: 0.4240 - val_accuracy: 0.7933\n",
      "Epoch 6/20\n",
      "712/712 [==============================] - 0s 162us/sample - loss: 0.4940 - accuracy: 0.7767 - val_loss: 0.4235 - val_accuracy: 0.7933\n",
      "Epoch 7/20\n",
      "712/712 [==============================] - 0s 196us/sample - loss: 0.4909 - accuracy: 0.7809 - val_loss: 0.4265 - val_accuracy: 0.7933\n",
      "Epoch 8/20\n",
      "712/712 [==============================] - 0s 278us/sample - loss: 0.4703 - accuracy: 0.7893 - val_loss: 0.4286 - val_accuracy: 0.7933\n",
      "Epoch 9/20\n",
      "712/712 [==============================] - 0s 184us/sample - loss: 0.4810 - accuracy: 0.7865 - val_loss: 0.4253 - val_accuracy: 0.7933\n",
      "Epoch 10/20\n",
      "712/712 [==============================] - 0s 144us/sample - loss: 0.4763 - accuracy: 0.7851 - val_loss: 0.4277 - val_accuracy: 0.7933\n",
      "Epoch 11/20\n",
      "712/712 [==============================] - 0s 135us/sample - loss: 0.4783 - accuracy: 0.7963 - val_loss: 0.4274 - val_accuracy: 0.7933\n",
      "Epoch 12/20\n",
      "712/712 [==============================] - 0s 140us/sample - loss: 0.4495 - accuracy: 0.8090 - val_loss: 0.4248 - val_accuracy: 0.7933\n",
      "Epoch 13/20\n",
      "712/712 [==============================] - 0s 135us/sample - loss: 0.4412 - accuracy: 0.8062 - val_loss: 0.4250 - val_accuracy: 0.7933\n",
      "Epoch 14/20\n",
      "712/712 [==============================] - 0s 133us/sample - loss: 0.4657 - accuracy: 0.7893 - val_loss: 0.4251 - val_accuracy: 0.7933\n",
      "Epoch 15/20\n",
      "712/712 [==============================] - 0s 145us/sample - loss: 0.4523 - accuracy: 0.8034 - val_loss: 0.4248 - val_accuracy: 0.7877\n",
      "Epoch 16/20\n",
      "712/712 [==============================] - 0s 143us/sample - loss: 0.4653 - accuracy: 0.7851 - val_loss: 0.4273 - val_accuracy: 0.7933\n",
      "Epoch 17/20\n",
      "712/712 [==============================] - 0s 146us/sample - loss: 0.4612 - accuracy: 0.8118 - val_loss: 0.4230 - val_accuracy: 0.7933\n",
      "Epoch 18/20\n",
      "712/712 [==============================] - 0s 164us/sample - loss: 0.4416 - accuracy: 0.8062 - val_loss: 0.4263 - val_accuracy: 0.7989\n",
      "Epoch 19/20\n",
      "712/712 [==============================] - 0s 139us/sample - loss: 0.4559 - accuracy: 0.8062 - val_loss: 0.4229 - val_accuracy: 0.8045\n",
      "Epoch 20/20\n",
      "712/712 [==============================] - 0s 138us/sample - loss: 0.4399 - accuracy: 0.8160 - val_loss: 0.4221 - val_accuracy: 0.8045\n"
     ]
    },
    {
     "data": {
      "text/html": [
       "<span style=\"color:#4527A0\"><h1 style=\"font-size:18px\">Trial complete</h1></span>"
      ],
      "text/plain": [
       "<IPython.core.display.HTML object>"
      ]
     },
     "metadata": {},
     "output_type": "display_data"
    },
    {
     "data": {
      "text/html": [
       "<span style=\"color:#4527A0\"><h1 style=\"font-size:18px\">Trial summary</h1></span>"
      ],
      "text/plain": [
       "<IPython.core.display.HTML object>"
      ]
     },
     "metadata": {},
     "output_type": "display_data"
    },
    {
     "data": {
      "text/html": [
       "<span style=\"color:cyan\"> |-Trial ID: febbd47caf8a0779497583fae80f81df</span>"
      ],
      "text/plain": [
       "<IPython.core.display.HTML object>"
      ]
     },
     "metadata": {},
     "output_type": "display_data"
    },
    {
     "data": {
      "text/html": [
       "<span style=\"color:cyan\"> |-Score: 0.8156424760818481</span>"
      ],
      "text/plain": [
       "<IPython.core.display.HTML object>"
      ]
     },
     "metadata": {},
     "output_type": "display_data"
    },
    {
     "data": {
      "text/html": [
       "<span style=\"color:cyan\"> |-Best step: 0</span>"
      ],
      "text/plain": [
       "<IPython.core.display.HTML object>"
      ]
     },
     "metadata": {},
     "output_type": "display_data"
    },
    {
     "data": {
      "text/html": [
       "<span style=\"color:#7E57C2\"><h2 style=\"font-size:16px\">Hyperparameters:</h2></span>"
      ],
      "text/plain": [
       "<IPython.core.display.HTML object>"
      ]
     },
     "metadata": {},
     "output_type": "display_data"
    },
    {
     "data": {
      "text/html": [
       "<span style=\"color:cyan\"> |-dense_activation_0: tanh</span>"
      ],
      "text/plain": [
       "<IPython.core.display.HTML object>"
      ]
     },
     "metadata": {},
     "output_type": "display_data"
    },
    {
     "data": {
      "text/html": [
       "<span style=\"color:blue\"> |-dense_activation_1: tanh</span>"
      ],
      "text/plain": [
       "<IPython.core.display.HTML object>"
      ]
     },
     "metadata": {},
     "output_type": "display_data"
    },
    {
     "data": {
      "text/html": [
       "<span style=\"color:cyan\"> |-dense_activation_2: tanh</span>"
      ],
      "text/plain": [
       "<IPython.core.display.HTML object>"
      ]
     },
     "metadata": {},
     "output_type": "display_data"
    },
    {
     "data": {
      "text/html": [
       "<span style=\"color:blue\"> |-dense_activation_3: relu</span>"
      ],
      "text/plain": [
       "<IPython.core.display.HTML object>"
      ]
     },
     "metadata": {},
     "output_type": "display_data"
    },
    {
     "data": {
      "text/html": [
       "<span style=\"color:cyan\"> |-dense_activation_4: sigmoid</span>"
      ],
      "text/plain": [
       "<IPython.core.display.HTML object>"
      ]
     },
     "metadata": {},
     "output_type": "display_data"
    },
    {
     "data": {
      "text/html": [
       "<span style=\"color:blue\"> |-dense_activation_5: relu</span>"
      ],
      "text/plain": [
       "<IPython.core.display.HTML object>"
      ]
     },
     "metadata": {},
     "output_type": "display_data"
    },
    {
     "data": {
      "text/html": [
       "<span style=\"color:cyan\"> |-dense_activation_6: relu</span>"
      ],
      "text/plain": [
       "<IPython.core.display.HTML object>"
      ]
     },
     "metadata": {},
     "output_type": "display_data"
    },
    {
     "data": {
      "text/html": [
       "<span style=\"color:blue\"> |-dense_units_0: 32</span>"
      ],
      "text/plain": [
       "<IPython.core.display.HTML object>"
      ]
     },
     "metadata": {},
     "output_type": "display_data"
    },
    {
     "data": {
      "text/html": [
       "<span style=\"color:cyan\"> |-dense_units_1: 40</span>"
      ],
      "text/plain": [
       "<IPython.core.display.HTML object>"
      ]
     },
     "metadata": {},
     "output_type": "display_data"
    },
    {
     "data": {
      "text/html": [
       "<span style=\"color:blue\"> |-dense_units_2: 32</span>"
      ],
      "text/plain": [
       "<IPython.core.display.HTML object>"
      ]
     },
     "metadata": {},
     "output_type": "display_data"
    },
    {
     "data": {
      "text/html": [
       "<span style=\"color:cyan\"> |-dense_units_3: 8</span>"
      ],
      "text/plain": [
       "<IPython.core.display.HTML object>"
      ]
     },
     "metadata": {},
     "output_type": "display_data"
    },
    {
     "data": {
      "text/html": [
       "<span style=\"color:blue\"> |-dense_units_4: 24</span>"
      ],
      "text/plain": [
       "<IPython.core.display.HTML object>"
      ]
     },
     "metadata": {},
     "output_type": "display_data"
    },
    {
     "data": {
      "text/html": [
       "<span style=\"color:cyan\"> |-dense_units_5: 56</span>"
      ],
      "text/plain": [
       "<IPython.core.display.HTML object>"
      ]
     },
     "metadata": {},
     "output_type": "display_data"
    },
    {
     "data": {
      "text/html": [
       "<span style=\"color:blue\"> |-dense_units_6: 48</span>"
      ],
      "text/plain": [
       "<IPython.core.display.HTML object>"
      ]
     },
     "metadata": {},
     "output_type": "display_data"
    },
    {
     "data": {
      "text/html": [
       "<span style=\"color:cyan\"> |-dropout_0: 0.4</span>"
      ],
      "text/plain": [
       "<IPython.core.display.HTML object>"
      ]
     },
     "metadata": {},
     "output_type": "display_data"
    },
    {
     "data": {
      "text/html": [
       "<span style=\"color:blue\"> |-dropout_1: 0.05</span>"
      ],
      "text/plain": [
       "<IPython.core.display.HTML object>"
      ]
     },
     "metadata": {},
     "output_type": "display_data"
    },
    {
     "data": {
      "text/html": [
       "<span style=\"color:cyan\"> |-dropout_2: 0.35000000000000003</span>"
      ],
      "text/plain": [
       "<IPython.core.display.HTML object>"
      ]
     },
     "metadata": {},
     "output_type": "display_data"
    },
    {
     "data": {
      "text/html": [
       "<span style=\"color:blue\"> |-dropout_3: 0.2</span>"
      ],
      "text/plain": [
       "<IPython.core.display.HTML object>"
      ]
     },
     "metadata": {},
     "output_type": "display_data"
    },
    {
     "data": {
      "text/html": [
       "<span style=\"color:cyan\"> |-dropout_4: 0.30000000000000004</span>"
      ],
      "text/plain": [
       "<IPython.core.display.HTML object>"
      ]
     },
     "metadata": {},
     "output_type": "display_data"
    },
    {
     "data": {
      "text/html": [
       "<span style=\"color:blue\"> |-dropout_5: 0.1</span>"
      ],
      "text/plain": [
       "<IPython.core.display.HTML object>"
      ]
     },
     "metadata": {},
     "output_type": "display_data"
    },
    {
     "data": {
      "text/html": [
       "<span style=\"color:cyan\"> |-dropout_6: 0.4</span>"
      ],
      "text/plain": [
       "<IPython.core.display.HTML object>"
      ]
     },
     "metadata": {},
     "output_type": "display_data"
    },
    {
     "data": {
      "text/html": [
       "<span style=\"color:blue\"> |-learning_rate: 0.0009271244766046284</span>"
      ],
      "text/plain": [
       "<IPython.core.display.HTML object>"
      ]
     },
     "metadata": {},
     "output_type": "display_data"
    },
    {
     "data": {
      "text/html": [
       "<span style=\"color:cyan\"> |-num_layers: 2</span>"
      ],
      "text/plain": [
       "<IPython.core.display.HTML object>"
      ]
     },
     "metadata": {},
     "output_type": "display_data"
    },
    {
     "name": "stdout",
     "output_type": "stream",
     "text": [
      "Train on 712 samples, validate on 179 samples\n",
      "Epoch 1/20\n",
      "712/712 [==============================] - 1s 1ms/sample - loss: 0.6827 - accuracy: 0.5534 - val_loss: 0.6732 - val_accuracy: 0.5866\n",
      "Epoch 2/20\n",
      "712/712 [==============================] - 0s 159us/sample - loss: 0.6695 - accuracy: 0.6011 - val_loss: 0.6746 - val_accuracy: 0.5866\n",
      "Epoch 3/20\n",
      "712/712 [==============================] - 0s 161us/sample - loss: 0.6766 - accuracy: 0.6124 - val_loss: 0.6728 - val_accuracy: 0.5866\n",
      "Epoch 4/20\n",
      "712/712 [==============================] - 0s 156us/sample - loss: 0.6706 - accuracy: 0.6039 - val_loss: 0.6689 - val_accuracy: 0.5866\n",
      "Epoch 5/20\n",
      "712/712 [==============================] - 0s 154us/sample - loss: 0.6683 - accuracy: 0.6180 - val_loss: 0.6668 - val_accuracy: 0.5866\n",
      "Epoch 6/20\n",
      "712/712 [==============================] - 0s 145us/sample - loss: 0.6718 - accuracy: 0.6110 - val_loss: 0.6628 - val_accuracy: 0.5866\n",
      "Epoch 7/20\n",
      "712/712 [==============================] - 0s 144us/sample - loss: 0.6612 - accuracy: 0.6250 - val_loss: 0.6616 - val_accuracy: 0.5866\n",
      "Epoch 8/20\n",
      "712/712 [==============================] - 0s 169us/sample - loss: 0.6724 - accuracy: 0.6096 - val_loss: 0.6567 - val_accuracy: 0.5866\n",
      "Epoch 9/20\n",
      "712/712 [==============================] - 0s 171us/sample - loss: 0.6611 - accuracy: 0.6166 - val_loss: 0.6505 - val_accuracy: 0.5866\n",
      "Epoch 10/20\n",
      "712/712 [==============================] - 0s 158us/sample - loss: 0.6496 - accuracy: 0.6419 - val_loss: 0.6406 - val_accuracy: 0.5866\n",
      "Epoch 11/20\n",
      "712/712 [==============================] - 0s 185us/sample - loss: 0.6509 - accuracy: 0.6180 - val_loss: 0.6304 - val_accuracy: 0.5978\n",
      "Epoch 12/20\n",
      "712/712 [==============================] - 0s 186us/sample - loss: 0.6489 - accuracy: 0.6194 - val_loss: 0.6166 - val_accuracy: 0.6704\n",
      "Epoch 13/20\n",
      "712/712 [==============================] - 0s 182us/sample - loss: 0.6438 - accuracy: 0.6517 - val_loss: 0.6061 - val_accuracy: 0.7039\n",
      "Epoch 14/20\n",
      "712/712 [==============================] - 0s 149us/sample - loss: 0.6245 - accuracy: 0.6657 - val_loss: 0.5913 - val_accuracy: 0.7039\n",
      "Epoch 15/20\n",
      "712/712 [==============================] - 0s 148us/sample - loss: 0.6341 - accuracy: 0.6390 - val_loss: 0.5811 - val_accuracy: 0.6983\n",
      "Epoch 16/20\n",
      "712/712 [==============================] - 0s 184us/sample - loss: 0.6203 - accuracy: 0.6756 - val_loss: 0.5693 - val_accuracy: 0.7207\n",
      "Epoch 17/20\n",
      "712/712 [==============================] - 0s 185us/sample - loss: 0.6089 - accuracy: 0.6657 - val_loss: 0.5547 - val_accuracy: 0.7263\n",
      "Epoch 18/20\n",
      "712/712 [==============================] - 0s 148us/sample - loss: 0.6200 - accuracy: 0.6728 - val_loss: 0.5458 - val_accuracy: 0.7151\n",
      "Epoch 19/20\n",
      "712/712 [==============================] - 0s 146us/sample - loss: 0.5992 - accuracy: 0.6868 - val_loss: 0.5367 - val_accuracy: 0.7151\n",
      "Epoch 20/20\n",
      "712/712 [==============================] - 0s 184us/sample - loss: 0.6037 - accuracy: 0.6840 - val_loss: 0.5303 - val_accuracy: 0.7318\n",
      "Train on 712 samples, validate on 179 samples\n",
      "Epoch 1/20\n",
      "712/712 [==============================] - 1s 1ms/sample - loss: 0.7166 - accuracy: 0.4902 - val_loss: 0.6798 - val_accuracy: 0.5866\n",
      "Epoch 2/20\n",
      "712/712 [==============================] - 0s 160us/sample - loss: 0.6770 - accuracy: 0.5997 - val_loss: 0.6848 - val_accuracy: 0.5866\n",
      "Epoch 3/20\n",
      "712/712 [==============================] - 0s 154us/sample - loss: 0.6613 - accuracy: 0.6250 - val_loss: 0.6891 - val_accuracy: 0.5866\n",
      "Epoch 4/20\n",
      "712/712 [==============================] - 0s 149us/sample - loss: 0.6745 - accuracy: 0.6081 - val_loss: 0.6819 - val_accuracy: 0.5866\n",
      "Epoch 5/20\n",
      "712/712 [==============================] - 0s 159us/sample - loss: 0.6724 - accuracy: 0.6025 - val_loss: 0.6815 - val_accuracy: 0.5866\n",
      "Epoch 6/20\n",
      "712/712 [==============================] - 0s 163us/sample - loss: 0.6718 - accuracy: 0.6138 - val_loss: 0.6742 - val_accuracy: 0.5866\n",
      "Epoch 7/20\n",
      "712/712 [==============================] - 0s 149us/sample - loss: 0.6728 - accuracy: 0.6208 - val_loss: 0.6783 - val_accuracy: 0.5866\n",
      "Epoch 8/20\n",
      "712/712 [==============================] - 0s 156us/sample - loss: 0.6748 - accuracy: 0.6180 - val_loss: 0.6751 - val_accuracy: 0.5866\n",
      "Epoch 9/20\n",
      "712/712 [==============================] - 0s 155us/sample - loss: 0.6626 - accuracy: 0.6152 - val_loss: 0.6755 - val_accuracy: 0.5866\n",
      "Epoch 10/20\n",
      "712/712 [==============================] - 0s 154us/sample - loss: 0.6662 - accuracy: 0.6166 - val_loss: 0.6682 - val_accuracy: 0.5866\n",
      "Epoch 11/20\n",
      "712/712 [==============================] - 0s 159us/sample - loss: 0.6636 - accuracy: 0.6404 - val_loss: 0.6616 - val_accuracy: 0.5866\n",
      "Epoch 12/20\n",
      "712/712 [==============================] - 0s 152us/sample - loss: 0.6618 - accuracy: 0.6236 - val_loss: 0.6581 - val_accuracy: 0.5866\n",
      "Epoch 13/20\n",
      "712/712 [==============================] - 0s 160us/sample - loss: 0.6598 - accuracy: 0.6264 - val_loss: 0.6537 - val_accuracy: 0.5866\n",
      "Epoch 14/20\n",
      "712/712 [==============================] - 0s 148us/sample - loss: 0.6541 - accuracy: 0.6404 - val_loss: 0.6425 - val_accuracy: 0.5866\n",
      "Epoch 15/20\n",
      "712/712 [==============================] - 0s 146us/sample - loss: 0.6443 - accuracy: 0.6404 - val_loss: 0.6255 - val_accuracy: 0.5922\n",
      "Epoch 16/20\n",
      "712/712 [==============================] - 0s 158us/sample - loss: 0.6331 - accuracy: 0.6643 - val_loss: 0.6047 - val_accuracy: 0.6592\n",
      "Epoch 17/20\n",
      "712/712 [==============================] - 0s 151us/sample - loss: 0.6267 - accuracy: 0.6671 - val_loss: 0.5921 - val_accuracy: 0.6704\n",
      "Epoch 18/20\n",
      "712/712 [==============================] - 0s 149us/sample - loss: 0.6184 - accuracy: 0.6657 - val_loss: 0.5490 - val_accuracy: 0.7151\n",
      "Epoch 19/20\n",
      "712/712 [==============================] - 0s 194us/sample - loss: 0.6270 - accuracy: 0.6615 - val_loss: 0.5353 - val_accuracy: 0.7486\n",
      "Epoch 20/20\n",
      "712/712 [==============================] - 0s 155us/sample - loss: 0.5940 - accuracy: 0.6854 - val_loss: 0.5154 - val_accuracy: 0.7374\n"
     ]
    },
    {
     "data": {
      "text/html": [
       "<span style=\"color:#4527A0\"><h1 style=\"font-size:18px\">Trial complete</h1></span>"
      ],
      "text/plain": [
       "<IPython.core.display.HTML object>"
      ]
     },
     "metadata": {},
     "output_type": "display_data"
    },
    {
     "data": {
      "text/html": [
       "<span style=\"color:#4527A0\"><h1 style=\"font-size:18px\">Trial summary</h1></span>"
      ],
      "text/plain": [
       "<IPython.core.display.HTML object>"
      ]
     },
     "metadata": {},
     "output_type": "display_data"
    },
    {
     "data": {
      "text/html": [
       "<span style=\"color:cyan\"> |-Trial ID: 4dc14e92ae52c376273ea9b8aee21c31</span>"
      ],
      "text/plain": [
       "<IPython.core.display.HTML object>"
      ]
     },
     "metadata": {},
     "output_type": "display_data"
    },
    {
     "data": {
      "text/html": [
       "<span style=\"color:cyan\"> |-Score: 0.7402234673500061</span>"
      ],
      "text/plain": [
       "<IPython.core.display.HTML object>"
      ]
     },
     "metadata": {},
     "output_type": "display_data"
    },
    {
     "data": {
      "text/html": [
       "<span style=\"color:cyan\"> |-Best step: 0</span>"
      ],
      "text/plain": [
       "<IPython.core.display.HTML object>"
      ]
     },
     "metadata": {},
     "output_type": "display_data"
    },
    {
     "data": {
      "text/html": [
       "<span style=\"color:#7E57C2\"><h2 style=\"font-size:16px\">Hyperparameters:</h2></span>"
      ],
      "text/plain": [
       "<IPython.core.display.HTML object>"
      ]
     },
     "metadata": {},
     "output_type": "display_data"
    },
    {
     "data": {
      "text/html": [
       "<span style=\"color:cyan\"> |-dense_activation_0: relu</span>"
      ],
      "text/plain": [
       "<IPython.core.display.HTML object>"
      ]
     },
     "metadata": {},
     "output_type": "display_data"
    },
    {
     "data": {
      "text/html": [
       "<span style=\"color:blue\"> |-dense_activation_1: relu</span>"
      ],
      "text/plain": [
       "<IPython.core.display.HTML object>"
      ]
     },
     "metadata": {},
     "output_type": "display_data"
    },
    {
     "data": {
      "text/html": [
       "<span style=\"color:cyan\"> |-dense_activation_2: tanh</span>"
      ],
      "text/plain": [
       "<IPython.core.display.HTML object>"
      ]
     },
     "metadata": {},
     "output_type": "display_data"
    },
    {
     "data": {
      "text/html": [
       "<span style=\"color:blue\"> |-dense_activation_3: sigmoid</span>"
      ],
      "text/plain": [
       "<IPython.core.display.HTML object>"
      ]
     },
     "metadata": {},
     "output_type": "display_data"
    },
    {
     "data": {
      "text/html": [
       "<span style=\"color:cyan\"> |-dense_activation_4: tanh</span>"
      ],
      "text/plain": [
       "<IPython.core.display.HTML object>"
      ]
     },
     "metadata": {},
     "output_type": "display_data"
    },
    {
     "data": {
      "text/html": [
       "<span style=\"color:blue\"> |-dense_activation_5: tanh</span>"
      ],
      "text/plain": [
       "<IPython.core.display.HTML object>"
      ]
     },
     "metadata": {},
     "output_type": "display_data"
    },
    {
     "data": {
      "text/html": [
       "<span style=\"color:cyan\"> |-dense_activation_6: relu</span>"
      ],
      "text/plain": [
       "<IPython.core.display.HTML object>"
      ]
     },
     "metadata": {},
     "output_type": "display_data"
    },
    {
     "data": {
      "text/html": [
       "<span style=\"color:blue\"> |-dense_units_0: 16</span>"
      ],
      "text/plain": [
       "<IPython.core.display.HTML object>"
      ]
     },
     "metadata": {},
     "output_type": "display_data"
    },
    {
     "data": {
      "text/html": [
       "<span style=\"color:cyan\"> |-dense_units_1: 32</span>"
      ],
      "text/plain": [
       "<IPython.core.display.HTML object>"
      ]
     },
     "metadata": {},
     "output_type": "display_data"
    },
    {
     "data": {
      "text/html": [
       "<span style=\"color:blue\"> |-dense_units_2: 32</span>"
      ],
      "text/plain": [
       "<IPython.core.display.HTML object>"
      ]
     },
     "metadata": {},
     "output_type": "display_data"
    },
    {
     "data": {
      "text/html": [
       "<span style=\"color:cyan\"> |-dense_units_3: 48</span>"
      ],
      "text/plain": [
       "<IPython.core.display.HTML object>"
      ]
     },
     "metadata": {},
     "output_type": "display_data"
    },
    {
     "data": {
      "text/html": [
       "<span style=\"color:blue\"> |-dense_units_4: 40</span>"
      ],
      "text/plain": [
       "<IPython.core.display.HTML object>"
      ]
     },
     "metadata": {},
     "output_type": "display_data"
    },
    {
     "data": {
      "text/html": [
       "<span style=\"color:cyan\"> |-dense_units_5: 64</span>"
      ],
      "text/plain": [
       "<IPython.core.display.HTML object>"
      ]
     },
     "metadata": {},
     "output_type": "display_data"
    },
    {
     "data": {
      "text/html": [
       "<span style=\"color:blue\"> |-dense_units_6: 48</span>"
      ],
      "text/plain": [
       "<IPython.core.display.HTML object>"
      ]
     },
     "metadata": {},
     "output_type": "display_data"
    },
    {
     "data": {
      "text/html": [
       "<span style=\"color:cyan\"> |-dropout_0: 0.4</span>"
      ],
      "text/plain": [
       "<IPython.core.display.HTML object>"
      ]
     },
     "metadata": {},
     "output_type": "display_data"
    },
    {
     "data": {
      "text/html": [
       "<span style=\"color:blue\"> |-dropout_1: 0.45</span>"
      ],
      "text/plain": [
       "<IPython.core.display.HTML object>"
      ]
     },
     "metadata": {},
     "output_type": "display_data"
    },
    {
     "data": {
      "text/html": [
       "<span style=\"color:cyan\"> |-dropout_2: 0.0</span>"
      ],
      "text/plain": [
       "<IPython.core.display.HTML object>"
      ]
     },
     "metadata": {},
     "output_type": "display_data"
    },
    {
     "data": {
      "text/html": [
       "<span style=\"color:blue\"> |-dropout_3: 0.0</span>"
      ],
      "text/plain": [
       "<IPython.core.display.HTML object>"
      ]
     },
     "metadata": {},
     "output_type": "display_data"
    },
    {
     "data": {
      "text/html": [
       "<span style=\"color:cyan\"> |-dropout_4: 0.30000000000000004</span>"
      ],
      "text/plain": [
       "<IPython.core.display.HTML object>"
      ]
     },
     "metadata": {},
     "output_type": "display_data"
    },
    {
     "data": {
      "text/html": [
       "<span style=\"color:blue\"> |-dropout_5: 0.25</span>"
      ],
      "text/plain": [
       "<IPython.core.display.HTML object>"
      ]
     },
     "metadata": {},
     "output_type": "display_data"
    },
    {
     "data": {
      "text/html": [
       "<span style=\"color:cyan\"> |-dropout_6: 0.25</span>"
      ],
      "text/plain": [
       "<IPython.core.display.HTML object>"
      ]
     },
     "metadata": {},
     "output_type": "display_data"
    },
    {
     "data": {
      "text/html": [
       "<span style=\"color:blue\"> |-learning_rate: 0.0002249755313619729</span>"
      ],
      "text/plain": [
       "<IPython.core.display.HTML object>"
      ]
     },
     "metadata": {},
     "output_type": "display_data"
    },
    {
     "data": {
      "text/html": [
       "<span style=\"color:cyan\"> |-num_layers: 6</span>"
      ],
      "text/plain": [
       "<IPython.core.display.HTML object>"
      ]
     },
     "metadata": {},
     "output_type": "display_data"
    },
    {
     "name": "stdout",
     "output_type": "stream",
     "text": [
      "Train on 712 samples, validate on 179 samples\n",
      "Epoch 1/20\n",
      "712/712 [==============================] - 1s 1ms/sample - loss: 0.8045 - accuracy: 0.4045 - val_loss: 0.6916 - val_accuracy: 0.5866\n",
      "Epoch 2/20\n",
      "712/712 [==============================] - 0s 147us/sample - loss: 0.6888 - accuracy: 0.5772 - val_loss: 0.6837 - val_accuracy: 0.5866\n",
      "Epoch 3/20\n",
      "712/712 [==============================] - 0s 163us/sample - loss: 0.6940 - accuracy: 0.5913 - val_loss: 0.6830 - val_accuracy: 0.5866\n",
      "Epoch 4/20\n",
      "712/712 [==============================] - 0s 162us/sample - loss: 0.6946 - accuracy: 0.5815 - val_loss: 0.6775 - val_accuracy: 0.5866\n",
      "Epoch 5/20\n",
      "712/712 [==============================] - 0s 198us/sample - loss: 0.6818 - accuracy: 0.5716 - val_loss: 0.6800 - val_accuracy: 0.5866\n",
      "Epoch 6/20\n",
      "712/712 [==============================] - 0s 181us/sample - loss: 0.6939 - accuracy: 0.5871 - val_loss: 0.6769 - val_accuracy: 0.5866\n",
      "Epoch 7/20\n",
      "712/712 [==============================] - 0s 170us/sample - loss: 0.6932 - accuracy: 0.5801 - val_loss: 0.6779 - val_accuracy: 0.5866\n",
      "Epoch 8/20\n",
      "712/712 [==============================] - 0s 154us/sample - loss: 0.6831 - accuracy: 0.6067 - val_loss: 0.6726 - val_accuracy: 0.5866\n",
      "Epoch 9/20\n",
      "712/712 [==============================] - 0s 254us/sample - loss: 0.6749 - accuracy: 0.6039 - val_loss: 0.6748 - val_accuracy: 0.5866\n",
      "Epoch 10/20\n",
      "712/712 [==============================] - 0s 249us/sample - loss: 0.6788 - accuracy: 0.6124 - val_loss: 0.6696 - val_accuracy: 0.5866\n",
      "Epoch 11/20\n",
      "712/712 [==============================] - 0s 201us/sample - loss: 0.6804 - accuracy: 0.5997 - val_loss: 0.6620 - val_accuracy: 0.5866\n",
      "Epoch 12/20\n",
      "712/712 [==============================] - 0s 155us/sample - loss: 0.6693 - accuracy: 0.6096 - val_loss: 0.6529 - val_accuracy: 0.5866\n",
      "Epoch 13/20\n",
      "712/712 [==============================] - 0s 164us/sample - loss: 0.6546 - accuracy: 0.6152 - val_loss: 0.6359 - val_accuracy: 0.5866\n",
      "Epoch 14/20\n",
      "712/712 [==============================] - 0s 148us/sample - loss: 0.6448 - accuracy: 0.6152 - val_loss: 0.5956 - val_accuracy: 0.5866\n",
      "Epoch 15/20\n",
      "712/712 [==============================] - 0s 177us/sample - loss: 0.6232 - accuracy: 0.6362 - val_loss: 0.5501 - val_accuracy: 0.7877\n",
      "Epoch 16/20\n",
      "712/712 [==============================] - 0s 149us/sample - loss: 0.6027 - accuracy: 0.6573 - val_loss: 0.5146 - val_accuracy: 0.7877\n",
      "Epoch 17/20\n",
      "712/712 [==============================] - 0s 147us/sample - loss: 0.5612 - accuracy: 0.7022 - val_loss: 0.4916 - val_accuracy: 0.7877\n",
      "Epoch 18/20\n",
      "712/712 [==============================] - 0s 150us/sample - loss: 0.5590 - accuracy: 0.7149 - val_loss: 0.4839 - val_accuracy: 0.7877\n",
      "Epoch 19/20\n",
      "712/712 [==============================] - 0s 208us/sample - loss: 0.5313 - accuracy: 0.7416 - val_loss: 0.4715 - val_accuracy: 0.7989\n",
      "Epoch 20/20\n",
      "712/712 [==============================] - 0s 153us/sample - loss: 0.5261 - accuracy: 0.7472 - val_loss: 0.4672 - val_accuracy: 0.7989\n",
      "Train on 712 samples, validate on 179 samples\n",
      "Epoch 1/20\n",
      "712/712 [==============================] - 1s 1ms/sample - loss: 0.6974 - accuracy: 0.5913 - val_loss: 0.6808 - val_accuracy: 0.5866\n",
      "Epoch 2/20\n",
      "712/712 [==============================] - 0s 162us/sample - loss: 0.6927 - accuracy: 0.5815 - val_loss: 0.6821 - val_accuracy: 0.5866\n",
      "Epoch 3/20\n",
      "712/712 [==============================] - 0s 155us/sample - loss: 0.6881 - accuracy: 0.5857 - val_loss: 0.6868 - val_accuracy: 0.5866\n",
      "Epoch 4/20\n",
      "712/712 [==============================] - 0s 148us/sample - loss: 0.6999 - accuracy: 0.5843 - val_loss: 0.6817 - val_accuracy: 0.5866\n",
      "Epoch 5/20\n",
      "712/712 [==============================] - 0s 164us/sample - loss: 0.6741 - accuracy: 0.6053 - val_loss: 0.6824 - val_accuracy: 0.5866\n",
      "Epoch 6/20\n",
      "712/712 [==============================] - 0s 147us/sample - loss: 0.6897 - accuracy: 0.5744 - val_loss: 0.6790 - val_accuracy: 0.5866\n",
      "Epoch 7/20\n",
      "712/712 [==============================] - 0s 142us/sample - loss: 0.6738 - accuracy: 0.5941 - val_loss: 0.6815 - val_accuracy: 0.5866\n",
      "Epoch 8/20\n",
      "712/712 [==============================] - 0s 149us/sample - loss: 0.6863 - accuracy: 0.5843 - val_loss: 0.6771 - val_accuracy: 0.5866\n",
      "Epoch 9/20\n",
      "712/712 [==============================] - 0s 156us/sample - loss: 0.6696 - accuracy: 0.6025 - val_loss: 0.6809 - val_accuracy: 0.5866\n"
     ]
    }
   ],
   "source": [
    "tuner.search(X_train, Y_train, epochs=N_EPOCH_SEARCH, validation_data=(X_dev, Y_dev))\n",
    "\n",
    "tuner.results_summary()"
   ]
  },
  {
   "cell_type": "markdown",
   "execution_count": null,
   "metadata": {},
   "source": [
    "# Results of the tuning"
   ]
  },
  {
   "cell_type": "code",
   "execution_count": 23,
   "metadata": {},
   "outputs": [
    {
     "data": {
      "text/plain": [
       "{'num_layers': 2,\n",
       " 'dense_units_0': 32,\n",
       " 'dense_activation_0': 'relu',\n",
       " 'dropout_0': 0.2,\n",
       " 'dense_units_1': 40,\n",
       " 'dense_activation_1': 'relu',\n",
       " 'dropout_1': 0.2,\n",
       " 'dense_units_2': 16,\n",
       " 'dense_activation_2': 'relu',\n",
       " 'dropout_2': 0.2,\n",
       " 'dense_units_3': 48,\n",
       " 'dense_activation_3': 'tanh',\n",
       " 'dropout_3': 0.30000000000000004,\n",
       " 'dense_units_4': 56,\n",
       " 'dense_activation_4': 'tanh',\n",
       " 'dropout_4': 0.15000000000000002,\n",
       " 'dense_units_5': 16,\n",
       " 'dense_activation_5': 'relu',\n",
       " 'dropout_5': 0.0,\n",
       " 'dense_units_6': 24,\n",
       " 'dense_activation_6': 'relu',\n",
       " 'dropout_6': 0.15000000000000002,\n",
       " 'learning_rate': 0.006492690297457527}"
      ]
     },
     "execution_count": 23,
     "metadata": {},
     "output_type": "execute_result"
    }
   ],
   "source": [
    "tuner.oracle.get_best_trials(num_trials=1)[0].hyperparameters.values"
   ]
  },
  {
   "cell_type": "code",
   "execution_count": 24,
   "metadata": {},
   "outputs": [
    {
     "name": "stdout",
     "output_type": "stream",
     "text": [
      "Best model\n",
      "712/712 [==============================] - 0s 193us/sample - loss: 0.3728 - accuracy: 0.8455\n",
      "Tuned train accuracy: 0.8455055952072144\n",
      "179/179 [==============================] - 0s 94us/sample - loss: 0.3943 - accuracy: 0.8436\n",
      "Tuned dev accuracy: 0.8435754179954529\n",
      "Model: \"sequential\"\n",
      "_________________________________________________________________\n",
      "Layer (type)                 Output Shape              Param #   \n",
      "=================================================================\n",
      "dense (Dense)                (None, 32)                672       \n",
      "_________________________________________________________________\n",
      "dropout (Dropout)            (None, 32)                0         \n",
      "_________________________________________________________________\n",
      "dense_1 (Dense)              (None, 40)                1320      \n",
      "_________________________________________________________________\n",
      "dropout_1 (Dropout)          (None, 40)                0         \n",
      "_________________________________________________________________\n",
      "dense_2 (Dense)              (None, 16)                656       \n",
      "_________________________________________________________________\n",
      "dropout_2 (Dropout)          (None, 16)                0         \n",
      "_________________________________________________________________\n",
      "dense_3 (Dense)              (None, 1)                 17        \n",
      "=================================================================\n",
      "Total params: 2,665\n",
      "Trainable params: 2,665\n",
      "Non-trainable params: 0\n",
      "_________________________________________________________________\n"
     ]
    }
   ],
   "source": [
    "print(\"Best model\")\n",
    "\n",
    "# Get the best model tuned.\n",
    "best_model = tuner.get_best_models(num_models=1)[0]\n",
    "\n",
    "_, accuracy = best_model.evaluate(X_train, Y_train)\n",
    "print(f\"Tuned train accuracy: {accuracy}\")\n",
    "\n",
    "_, accuracy = best_model.evaluate(X_dev, Y_dev)\n",
    "print(f\"Tuned dev accuracy: {accuracy}\")\n",
    "\n",
    "best_model.summary()"
   ]
  },
  {
   "cell_type": "markdown",
   "execution_count": null,
   "metadata": {},
   "source": [
    "# Predict"
   ]
  },
  {
   "cell_type": "code",
   "execution_count": 25,
   "metadata": {},
   "outputs": [],
   "source": [
    "def store_predictions(model, submission_name):\n",
    "    predictions = model.predict(X_test)\n",
    "\n",
    "    predictions = np.round(predictions).astype(np.uint8).reshape((-1))\n",
    "\n",
    "    print(f\"{submission_name}:\\n{predictions}\")\n",
    "    \n",
    "    output = pd.DataFrame({'PassengerId': test_data.PassengerId, 'Survived': predictions})\n",
    "    output.to_csv(f\"{submission_name}.csv\", index=False)"
   ]
  },
  {
   "cell_type": "code",
   "execution_count": 26,
   "metadata": {},
   "outputs": [
    {
     "name": "stdout",
     "output_type": "stream",
     "text": [
      "dl_submission:\n",
      "[0 1 0 0 0 0 1 0 1 0 0 0 1 0 1 1 0 0 0 1 0 1 1 0 1 0 1 0 0 0 0 0 1 0 1 0 0\n",
      " 1 0 0 0 0 0 1 1 0 0 0 1 1 0 0 1 1 0 0 0 0 0 1 0 0 0 1 1 1 1 0 0 1 1 0 1 1\n",
      " 1 1 0 1 0 1 1 0 0 0 0 0 1 1 1 1 1 0 1 0 0 0 1 0 1 0 1 0 0 0 1 0 0 0 0 0 0\n",
      " 1 1 1 1 0 0 0 1 1 1 0 1 0 0 1 0 1 0 0 0 1 0 0 0 0 0 0 1 0 0 1 0 0 0 0 0 0\n",
      " 0 0 1 0 0 0 0 0 1 1 0 0 1 1 1 0 0 1 0 0 1 1 0 0 0 0 0 1 1 0 1 1 0 0 1 0 1\n",
      " 0 1 0 0 0 0 0 1 0 1 0 1 1 0 1 1 1 1 1 0 0 1 0 1 0 0 0 0 1 0 0 1 0 1 0 1 0\n",
      " 1 0 1 1 0 1 0 0 0 1 0 0 1 0 0 0 1 1 1 1 0 0 0 0 1 0 1 1 1 0 0 0 0 0 0 0 1\n",
      " 0 0 0 1 0 0 0 0 0 0 0 1 0 1 1 0 1 0 0 0 0 1 1 1 1 1 0 0 0 0 0 0 1 0 1 0 0\n",
      " 1 0 0 0 0 0 0 0 1 1 0 1 0 1 0 0 0 1 1 1 1 0 0 0 0 0 0 0 1 0 1 0 0 0 1 0 0\n",
      " 1 0 0 0 0 0 1 0 0 0 1 0 1 0 1 0 1 1 0 0 0 0 0 1 0 0 1 0 1 1 0 1 0 0 1 1 0\n",
      " 0 1 0 0 1 1 0 0 0 0 0 0 1 1 0 1 0 0 0 0 0 1 1 0 0 1 0 1 0 0 1 0 1 0 0 1 0\n",
      " 0 1 0 1 1 1 0 1 0 0 1]\n",
      "dl_tuned_submission:\n",
      "[0 1 0 0 1 0 1 0 1 0 0 0 1 0 1 1 0 0 1 1 0 1 1 0 1 0 1 0 0 0 0 0 1 0 0 0 0\n",
      " 1 0 0 0 0 0 1 1 0 0 0 1 1 0 0 1 1 0 0 0 0 0 1 0 0 0 1 1 1 1 0 0 1 1 0 1 0\n",
      " 1 0 0 1 0 1 1 0 0 0 0 0 1 1 0 1 1 0 1 0 0 0 1 0 1 0 1 0 0 0 1 0 0 0 0 0 0\n",
      " 1 1 1 1 0 0 1 0 1 1 0 1 0 0 1 0 1 0 0 0 1 0 0 0 0 0 0 1 0 0 1 0 0 0 0 0 0\n",
      " 0 0 1 0 0 1 0 0 1 1 0 1 1 1 1 0 0 1 0 0 1 1 0 0 0 0 0 1 1 0 1 1 0 0 1 0 1\n",
      " 0 1 0 0 0 0 0 1 0 1 0 1 1 0 1 1 1 1 1 0 0 1 0 1 0 0 0 0 1 0 0 1 0 1 0 1 0\n",
      " 1 0 1 1 0 1 0 0 0 1 0 0 0 0 0 0 1 1 1 1 0 0 0 0 1 0 1 1 1 0 0 0 0 0 0 0 1\n",
      " 0 0 0 1 1 0 0 0 0 0 0 0 0 1 1 0 1 0 0 0 0 1 1 1 1 1 0 0 0 0 0 0 1 0 0 0 0\n",
      " 1 0 0 0 0 0 0 0 1 1 0 1 0 1 0 0 0 1 1 1 0 0 0 0 0 0 0 0 1 0 1 0 0 0 1 0 0\n",
      " 1 0 0 0 0 0 1 0 0 0 1 0 1 0 1 0 1 1 0 0 0 1 0 1 0 0 1 0 1 1 0 1 0 0 1 1 0\n",
      " 0 1 0 0 1 1 0 0 0 0 0 0 1 1 0 1 0 0 0 0 0 1 1 0 0 1 0 1 0 0 1 0 1 0 0 0 0\n",
      " 0 1 1 1 1 1 0 1 0 0 1]\n"
     ]
    }
   ],
   "source": [
    "store_predictions(model, \"dl_submission\")\n",
    "store_predictions(best_model, \"dl_tuned_submission\")"
   ]
  },
  {
   "cell_type": "code",
   "execution_count": null,
   "metadata": {},
   "outputs": [],
   "source": []
  }
 ],
 "metadata": {
  "kernelspec": {
   "display_name": "Python 3",
   "language": "python",
   "name": "python3"
  },
  "language_info": {
   "codemirror_mode": {
    "name": "ipython",
    "version": 3
   },
   "file_extension": ".py",
   "mimetype": "text/x-python",
   "name": "python",
   "nbconvert_exporter": "python",
   "pygments_lexer": "ipython3",
   "version": "3.7.6"
  }
 },
 "nbformat": 4,
 "nbformat_minor": 4
}
