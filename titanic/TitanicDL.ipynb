{
 "cells": [
  {
   "cell_type": "code",
   "execution_count": 1,
   "metadata": {},
   "outputs": [
    {
     "name": "stdout",
     "output_type": "stream",
     "text": [
      "Collecting keras-tuner\r\n",
      "  Downloading keras-tuner-1.0.1.tar.gz (54 kB)\r\n",
      "\u001b[K     |████████████████████████████████| 54 kB 1.3 MB/s \r\n",
      "\u001b[?25hRequirement already satisfied: future in /opt/conda/lib/python3.7/site-packages (from keras-tuner) (0.18.2)\r\n",
      "Requirement already satisfied: numpy in /opt/conda/lib/python3.7/site-packages (from keras-tuner) (1.18.1)\r\n",
      "Requirement already satisfied: tabulate in /opt/conda/lib/python3.7/site-packages (from keras-tuner) (0.8.7)\r\n",
      "Collecting terminaltables\r\n",
      "  Downloading terminaltables-3.1.0.tar.gz (12 kB)\r\n",
      "Requirement already satisfied: colorama in /opt/conda/lib/python3.7/site-packages (from keras-tuner) (0.4.3)\r\n",
      "Requirement already satisfied: tqdm in /opt/conda/lib/python3.7/site-packages (from keras-tuner) (4.45.0)\r\n",
      "Requirement already satisfied: requests in /opt/conda/lib/python3.7/site-packages (from keras-tuner) (2.23.0)\r\n",
      "Requirement already satisfied: scipy in /opt/conda/lib/python3.7/site-packages (from keras-tuner) (1.4.1)\r\n",
      "Requirement already satisfied: scikit-learn in /opt/conda/lib/python3.7/site-packages (from keras-tuner) (0.22.2.post1)\r\n",
      "Requirement already satisfied: idna<3,>=2.5 in /opt/conda/lib/python3.7/site-packages (from requests->keras-tuner) (2.9)\r\n",
      "Requirement already satisfied: chardet<4,>=3.0.2 in /opt/conda/lib/python3.7/site-packages (from requests->keras-tuner) (3.0.4)\r\n",
      "Requirement already satisfied: certifi>=2017.4.17 in /opt/conda/lib/python3.7/site-packages (from requests->keras-tuner) (2020.4.5.1)\r\n",
      "Requirement already satisfied: urllib3!=1.25.0,!=1.25.1,<1.26,>=1.21.1 in /opt/conda/lib/python3.7/site-packages (from requests->keras-tuner) (1.24.3)\r\n",
      "Requirement already satisfied: joblib>=0.11 in /opt/conda/lib/python3.7/site-packages (from scikit-learn->keras-tuner) (0.14.1)\r\n",
      "Building wheels for collected packages: keras-tuner, terminaltables\r\n",
      "  Building wheel for keras-tuner (setup.py) ... \u001b[?25l-\b \b\\\b \b|\b \bdone\r\n",
      "\u001b[?25h  Created wheel for keras-tuner: filename=keras_tuner-1.0.1-py3-none-any.whl size=73198 sha256=69b0b949ffac72a9e82a04f1d4f7cc1a77d077501115d3830f62ff70f70f950f\r\n",
      "  Stored in directory: /root/.cache/pip/wheels/0b/cf/2f/1a1749d3a3650fac3305a8d7f9237b6de7c41068e2f8520ca2\r\n",
      "  Building wheel for terminaltables (setup.py) ... \u001b[?25l-\b \b\\\b \bdone\r\n",
      "\u001b[?25h  Created wheel for terminaltables: filename=terminaltables-3.1.0-py3-none-any.whl size=15354 sha256=728dbea61f07bcde7d6697c4ed3863f291c020f3a32527226d7c7df1a23e3f5c\r\n",
      "  Stored in directory: /root/.cache/pip/wheels/ba/ad/c8/2d98360791161cd3db6daf6b5e730f34021fc9367d5879f497\r\n",
      "Successfully built keras-tuner terminaltables\r\n",
      "Installing collected packages: terminaltables, keras-tuner\r\n",
      "Successfully installed keras-tuner-1.0.1 terminaltables-3.1.0\r\n",
      "\u001b[33mWARNING: You are using pip version 20.1; however, version 20.1.1 is available.\r\n",
      "You should consider upgrading via the '/opt/conda/bin/python -m pip install --upgrade pip' command.\u001b[0m\r\n"
     ]
    }
   ],
   "source": [
    "!python -m pip install keras-tuner"
   ]
  },
  {
   "cell_type": "code",
   "execution_count": 2,
   "metadata": {
    "_cell_guid": "b1076dfc-b9ad-4769-8c92-a6c4dae69d19",
    "_uuid": "8f2839f25d086af736a60e9eeb907d3b93b6e0e5"
   },
   "outputs": [
    {
     "name": "stdout",
     "output_type": "stream",
     "text": [
      "/kaggle/input/titanic/gender_submission.csv\n",
      "/kaggle/input/titanic/test.csv\n",
      "/kaggle/input/titanic/train.csv\n"
     ]
    }
   ],
   "source": [
    "# This Python 3 environment comes with many helpful analytics libraries installed\n",
    "# It is defined by the kaggle/python Docker image: https://github.com/kaggle/docker-python\n",
    "# For example, here's several helpful packages to load\n",
    "\n",
    "import numpy as np # linear algebra\n",
    "import pandas as pd # data processing, CSV file I/O (e.g. pd.read_csv)\n",
    "\n",
    "# Input data files are available in the read-only \"../input/\" directory\n",
    "# For example, running this (by clicking run or pressing Shift+Enter) will list all files under the input directory\n",
    "\n",
    "import os\n",
    "for dirname, _, filenames in os.walk('/kaggle/input'):\n",
    "    for filename in filenames:\n",
    "        print(os.path.join(dirname, filename))\n",
    "\n",
    "# You can write up to 5GB to the current directory (/kaggle/working/) that gets preserved as output when you create a version using \"Save & Run All\" \n",
    "# You can also write temporary files to /kaggle/temp/, but they won't be saved outside of the current session"
   ]
  },
  {
   "cell_type": "code",
   "execution_count": 3,
   "metadata": {
    "_cell_guid": "79c7e3d0-c299-4dcb-8224-4455121ee9b0",
    "_uuid": "d629ff2d2480ee46fbb7e2d37f6b5fab8052498a"
   },
   "outputs": [
    {
     "data": {
      "text/html": [
       "<div>\n",
       "<style scoped>\n",
       "    .dataframe tbody tr th:only-of-type {\n",
       "        vertical-align: middle;\n",
       "    }\n",
       "\n",
       "    .dataframe tbody tr th {\n",
       "        vertical-align: top;\n",
       "    }\n",
       "\n",
       "    .dataframe thead th {\n",
       "        text-align: right;\n",
       "    }\n",
       "</style>\n",
       "<table border=\"1\" class=\"dataframe\">\n",
       "  <thead>\n",
       "    <tr style=\"text-align: right;\">\n",
       "      <th></th>\n",
       "      <th>PassengerId</th>\n",
       "      <th>Survived</th>\n",
       "      <th>Pclass</th>\n",
       "      <th>Name</th>\n",
       "      <th>Sex</th>\n",
       "      <th>Age</th>\n",
       "      <th>SibSp</th>\n",
       "      <th>Parch</th>\n",
       "      <th>Ticket</th>\n",
       "      <th>Fare</th>\n",
       "      <th>Cabin</th>\n",
       "      <th>Embarked</th>\n",
       "    </tr>\n",
       "  </thead>\n",
       "  <tbody>\n",
       "    <tr>\n",
       "      <th>0</th>\n",
       "      <td>1</td>\n",
       "      <td>0</td>\n",
       "      <td>3</td>\n",
       "      <td>Braund, Mr. Owen Harris</td>\n",
       "      <td>male</td>\n",
       "      <td>22.0</td>\n",
       "      <td>1</td>\n",
       "      <td>0</td>\n",
       "      <td>A/5 21171</td>\n",
       "      <td>7.2500</td>\n",
       "      <td>NaN</td>\n",
       "      <td>S</td>\n",
       "    </tr>\n",
       "    <tr>\n",
       "      <th>1</th>\n",
       "      <td>2</td>\n",
       "      <td>1</td>\n",
       "      <td>1</td>\n",
       "      <td>Cumings, Mrs. John Bradley (Florence Briggs Th...</td>\n",
       "      <td>female</td>\n",
       "      <td>38.0</td>\n",
       "      <td>1</td>\n",
       "      <td>0</td>\n",
       "      <td>PC 17599</td>\n",
       "      <td>71.2833</td>\n",
       "      <td>C85</td>\n",
       "      <td>C</td>\n",
       "    </tr>\n",
       "    <tr>\n",
       "      <th>2</th>\n",
       "      <td>3</td>\n",
       "      <td>1</td>\n",
       "      <td>3</td>\n",
       "      <td>Heikkinen, Miss. Laina</td>\n",
       "      <td>female</td>\n",
       "      <td>26.0</td>\n",
       "      <td>0</td>\n",
       "      <td>0</td>\n",
       "      <td>STON/O2. 3101282</td>\n",
       "      <td>7.9250</td>\n",
       "      <td>NaN</td>\n",
       "      <td>S</td>\n",
       "    </tr>\n",
       "    <tr>\n",
       "      <th>3</th>\n",
       "      <td>4</td>\n",
       "      <td>1</td>\n",
       "      <td>1</td>\n",
       "      <td>Futrelle, Mrs. Jacques Heath (Lily May Peel)</td>\n",
       "      <td>female</td>\n",
       "      <td>35.0</td>\n",
       "      <td>1</td>\n",
       "      <td>0</td>\n",
       "      <td>113803</td>\n",
       "      <td>53.1000</td>\n",
       "      <td>C123</td>\n",
       "      <td>S</td>\n",
       "    </tr>\n",
       "    <tr>\n",
       "      <th>4</th>\n",
       "      <td>5</td>\n",
       "      <td>0</td>\n",
       "      <td>3</td>\n",
       "      <td>Allen, Mr. William Henry</td>\n",
       "      <td>male</td>\n",
       "      <td>35.0</td>\n",
       "      <td>0</td>\n",
       "      <td>0</td>\n",
       "      <td>373450</td>\n",
       "      <td>8.0500</td>\n",
       "      <td>NaN</td>\n",
       "      <td>S</td>\n",
       "    </tr>\n",
       "  </tbody>\n",
       "</table>\n",
       "</div>"
      ],
      "text/plain": [
       "   PassengerId  Survived  Pclass  \\\n",
       "0            1         0       3   \n",
       "1            2         1       1   \n",
       "2            3         1       3   \n",
       "3            4         1       1   \n",
       "4            5         0       3   \n",
       "\n",
       "                                                Name     Sex   Age  SibSp  \\\n",
       "0                            Braund, Mr. Owen Harris    male  22.0      1   \n",
       "1  Cumings, Mrs. John Bradley (Florence Briggs Th...  female  38.0      1   \n",
       "2                             Heikkinen, Miss. Laina  female  26.0      0   \n",
       "3       Futrelle, Mrs. Jacques Heath (Lily May Peel)  female  35.0      1   \n",
       "4                           Allen, Mr. William Henry    male  35.0      0   \n",
       "\n",
       "   Parch            Ticket     Fare Cabin Embarked  \n",
       "0      0         A/5 21171   7.2500   NaN        S  \n",
       "1      0          PC 17599  71.2833   C85        C  \n",
       "2      0  STON/O2. 3101282   7.9250   NaN        S  \n",
       "3      0            113803  53.1000  C123        S  \n",
       "4      0            373450   8.0500   NaN        S  "
      ]
     },
     "execution_count": 3,
     "metadata": {},
     "output_type": "execute_result"
    }
   ],
   "source": [
    "train_data = pd.read_csv(\"/kaggle/input/titanic/train.csv\")\n",
    "train_data.head()"
   ]
  },
  {
   "cell_type": "code",
   "execution_count": 4,
   "metadata": {},
   "outputs": [
    {
     "data": {
      "text/html": [
       "<div>\n",
       "<style scoped>\n",
       "    .dataframe tbody tr th:only-of-type {\n",
       "        vertical-align: middle;\n",
       "    }\n",
       "\n",
       "    .dataframe tbody tr th {\n",
       "        vertical-align: top;\n",
       "    }\n",
       "\n",
       "    .dataframe thead th {\n",
       "        text-align: right;\n",
       "    }\n",
       "</style>\n",
       "<table border=\"1\" class=\"dataframe\">\n",
       "  <thead>\n",
       "    <tr style=\"text-align: right;\">\n",
       "      <th></th>\n",
       "      <th>PassengerId</th>\n",
       "      <th>Pclass</th>\n",
       "      <th>Name</th>\n",
       "      <th>Sex</th>\n",
       "      <th>Age</th>\n",
       "      <th>SibSp</th>\n",
       "      <th>Parch</th>\n",
       "      <th>Ticket</th>\n",
       "      <th>Fare</th>\n",
       "      <th>Cabin</th>\n",
       "      <th>Embarked</th>\n",
       "    </tr>\n",
       "  </thead>\n",
       "  <tbody>\n",
       "    <tr>\n",
       "      <th>0</th>\n",
       "      <td>892</td>\n",
       "      <td>3</td>\n",
       "      <td>Kelly, Mr. James</td>\n",
       "      <td>male</td>\n",
       "      <td>34.5</td>\n",
       "      <td>0</td>\n",
       "      <td>0</td>\n",
       "      <td>330911</td>\n",
       "      <td>7.8292</td>\n",
       "      <td>NaN</td>\n",
       "      <td>Q</td>\n",
       "    </tr>\n",
       "    <tr>\n",
       "      <th>1</th>\n",
       "      <td>893</td>\n",
       "      <td>3</td>\n",
       "      <td>Wilkes, Mrs. James (Ellen Needs)</td>\n",
       "      <td>female</td>\n",
       "      <td>47.0</td>\n",
       "      <td>1</td>\n",
       "      <td>0</td>\n",
       "      <td>363272</td>\n",
       "      <td>7.0000</td>\n",
       "      <td>NaN</td>\n",
       "      <td>S</td>\n",
       "    </tr>\n",
       "    <tr>\n",
       "      <th>2</th>\n",
       "      <td>894</td>\n",
       "      <td>2</td>\n",
       "      <td>Myles, Mr. Thomas Francis</td>\n",
       "      <td>male</td>\n",
       "      <td>62.0</td>\n",
       "      <td>0</td>\n",
       "      <td>0</td>\n",
       "      <td>240276</td>\n",
       "      <td>9.6875</td>\n",
       "      <td>NaN</td>\n",
       "      <td>Q</td>\n",
       "    </tr>\n",
       "    <tr>\n",
       "      <th>3</th>\n",
       "      <td>895</td>\n",
       "      <td>3</td>\n",
       "      <td>Wirz, Mr. Albert</td>\n",
       "      <td>male</td>\n",
       "      <td>27.0</td>\n",
       "      <td>0</td>\n",
       "      <td>0</td>\n",
       "      <td>315154</td>\n",
       "      <td>8.6625</td>\n",
       "      <td>NaN</td>\n",
       "      <td>S</td>\n",
       "    </tr>\n",
       "    <tr>\n",
       "      <th>4</th>\n",
       "      <td>896</td>\n",
       "      <td>3</td>\n",
       "      <td>Hirvonen, Mrs. Alexander (Helga E Lindqvist)</td>\n",
       "      <td>female</td>\n",
       "      <td>22.0</td>\n",
       "      <td>1</td>\n",
       "      <td>1</td>\n",
       "      <td>3101298</td>\n",
       "      <td>12.2875</td>\n",
       "      <td>NaN</td>\n",
       "      <td>S</td>\n",
       "    </tr>\n",
       "  </tbody>\n",
       "</table>\n",
       "</div>"
      ],
      "text/plain": [
       "   PassengerId  Pclass                                          Name     Sex  \\\n",
       "0          892       3                              Kelly, Mr. James    male   \n",
       "1          893       3              Wilkes, Mrs. James (Ellen Needs)  female   \n",
       "2          894       2                     Myles, Mr. Thomas Francis    male   \n",
       "3          895       3                              Wirz, Mr. Albert    male   \n",
       "4          896       3  Hirvonen, Mrs. Alexander (Helga E Lindqvist)  female   \n",
       "\n",
       "    Age  SibSp  Parch   Ticket     Fare Cabin Embarked  \n",
       "0  34.5      0      0   330911   7.8292   NaN        Q  \n",
       "1  47.0      1      0   363272   7.0000   NaN        S  \n",
       "2  62.0      0      0   240276   9.6875   NaN        Q  \n",
       "3  27.0      0      0   315154   8.6625   NaN        S  \n",
       "4  22.0      1      1  3101298  12.2875   NaN        S  "
      ]
     },
     "execution_count": 4,
     "metadata": {},
     "output_type": "execute_result"
    }
   ],
   "source": [
    "test_data = pd.read_csv(\"/kaggle/input/titanic/test.csv\")\n",
    "test_data.head()"
   ]
  },
  {
   "cell_type": "markdown",
   "execution_count": null,
   "metadata": {},
   "source": [
    "## Data observations\n",
    "*Have NaNs:* Age, Fare (some zeros, nans too), Cabin, Embarked\n",
    "*NOTE:* maybe need to approximate missing values using some other technique, like an additional model?\n",
    "\n",
    "* (+) Pclass:\n",
    "  * 1 - 3 number, 1 being the highest\n",
    "  * Range: 1-3\n",
    "  * Current approach: normalize by 3\n",
    "* (+) Name:\n",
    "  * has person's title, which could be used (Mr, Ms, Mrs, etc.)\n",
    "  * From title, can infer marital status?\n",
    "  * Current approach: extract titles, convert them to one-hot, and calculate 'Married' based on title (1 - married (Mr, Mrs), -1 - unmarried (Miss, Master), 0 - unknown (other titles))\n",
    "  * Potential improvements: use more titles for getting 'married'; use 'maiden name' in calculation of 'married'; use 'nickname' somehow?\n",
    "* (+) Sex:\n",
    "  * Either male or female\n",
    "  * male: 65%, female: 35%\n",
    "  * Current approach: convert to one-hot.\n",
    "  * Potential improvements: use 1 and -1 for sexes?\n",
    "* (+) Age:\n",
    "  * has fractions if approximated. Has missing values.\n",
    "  * Range: 0.42-80\n",
    "  * Current approach: fill NaN with average in group-by Pclass-Sex, but create a column that identifies missing values. Also, normalize by 80.\n",
    "  * Potential improvements: have a better approximation of age.\n",
    "* (+) SibSp:\n",
    "  * how many siblings or spouses on board.\n",
    "  * Range: 0-8\n",
    "  * Current approach: normalize by 8.\n",
    "* (+) Parch:\n",
    "  * How many parents/children. (can be 0 for babies, if with nannies)\n",
    "  * Range: 0-6\n",
    "  * Current approach: normalize by 6.\n",
    "* Ticket:\n",
    "  * A number with some optional letters (which can have some meaning?).\n",
    "  * Has repetitions (maybe for people travelling together).\n",
    "* (+) Fare:\n",
    "  * can have zeros (what do they mean?). Can have omitted (just one in test).\n",
    "  * Range: 0-512.3292\n",
    "  * Current approach: fill nan with mean, normalize by 512. \n",
    "* (+) Cabin:\n",
    "  * has a lot of omitted values (78%). Can have multiple values (probably for families?).\n",
    "  * One value is a letter with a number. (both probably have meaning and impact?)\n",
    "  * Current approach: convert to one-hot (based on letter), include a 'nan' column for those that are missing values. Create a column for cabin number, and a column to identify missing numbers.\n",
    "  * Potential improvements: maybe cabin number itself doesn't mean much? Also, maybe need to deal with missing values in a different way? Also, maybe deal with multiple values better?\n",
    "* (+) Embarked:\n",
    "  * Either of 3 letters (with different frequency). Has just a few omitted.\n",
    "  * S - 72/65%, C - 19/24%, Q - 9/11%\n",
    "  * Current approach: convert to one-hot matrix.\n",
    "  * Potential improvements: somehow take into the account different distribution of embarkation city?"
   ]
  },
  {
   "cell_type": "code",
   "execution_count": 5,
   "metadata": {},
   "outputs": [],
   "source": [
    "def prepare_data(csv_data):\n",
    "    # To display all the columns from left to right without breaking into next line.\n",
    "    pd.set_option('display.width', 1500)\n",
    "\n",
    "    import re\n",
    "    \n",
    "    features = \"Pclass Sex SibSp Parch Fare Embarked Name Cabin Age\".split()\n",
    "    \n",
    "    titles = ['Mr', 'Mrs', 'Miss', 'Master', 'Ms', 'Don', 'Rev', 'Dr', 'Mme', 'Major', 'Lady', 'Sir', 'Mlle', 'Col', 'Capt', 'the Countess', 'Jonkheer', 'Dona']\n",
    "    \n",
    "    # === Get X - the features. ===\n",
    "\n",
    "    X = csv_data[features].copy()\n",
    "\n",
    "    # == Post-process data ==\n",
    "\n",
    "    if \"Pclass\" in X:\n",
    "        X.Pclass = X.Pclass.divide(3)\n",
    "\n",
    "    if \"SibSp\" in X:\n",
    "        X.SibSp = X.SibSp.divide(8)\n",
    "\n",
    "    if \"Parch\" in X:\n",
    "        X.Parch = X.Parch.divide(6)\n",
    "\n",
    "    if \"Fare\" in X:\n",
    "        # Since only a few would miss 'fare' value, it's okay to fill with average.\n",
    "        X.Fare = X.Fare.fillna(X.Fare.mean()).divide(512)\n",
    "\n",
    "    if \"Embarked\" in X:\n",
    "        X.Embarked = X.Embarked.astype(pd.api.types.CategoricalDtype(categories=\"C Q S\".split()))\n",
    "        X = pd.get_dummies(X, columns=[\"Embarked\"])\n",
    "\n",
    "    if \"Name\" in X:\n",
    "        X[\"Title\"] = X.Name.apply(lambda name: re.search(\", ([\\w ]+).\", name).group(1))\n",
    "\n",
    "        # Try to see if the person is married (1), or not (-1), or unknown (0).\n",
    "        X[\"Married\"] = X.Title.apply(lambda title: 1 if title in \"Mrs Mr\".split() else -1 if title in \"Miss Master\".split() else 0)\n",
    "\n",
    "        # Get dummies for title, but include all possible values, even those not present in current dataset.\n",
    "        X.Title = X.Title.astype(pd.api.types.CategoricalDtype(categories=titles))\n",
    "        X = pd.get_dummies(X, columns=[\"Title\"])\n",
    "        \n",
    "    if \"Cabin\" in X:\n",
    "        X.Cabin = X.Cabin.fillna(\"-\")\n",
    "        \n",
    "        X[\"Cabin_Number\"] = X.Cabin.apply(lambda cabin: int(re.search(\"\\w(\\d+)\", cabin).group(1)) if len(cabin) > 1 else 0)\n",
    "        # Do some sort of normalization.\n",
    "        X.Cabin_Number = X.Cabin_Number.divide(200)\n",
    "        X[\"Cabin_Number_Missing\"] = np.where(X.Cabin_Number == 0, 1, 0)\n",
    "        \n",
    "        X.Cabin = X.Cabin.apply(lambda cabin: cabin[:1])\n",
    "        \n",
    "        X.Cabin = X.Cabin.astype(pd.api.types.CategoricalDtype(categories=list(\"ABCDEFGT\")))\n",
    "        X = pd.get_dummies(X, columns=[\"Cabin\"], dummy_na=True)\n",
    "\n",
    "    if \"Age\" in X:\n",
    "        X[\"Age_Missing\"] = np.where(X.Age.isnull(), 1, 0)\n",
    "\n",
    "        # No need to skip 'nan' for Age when calculating mean, as Pandas does that automatically.\n",
    "        # 'transform' will go through each group, and fill its nan values with its mean value.\n",
    "        # Then, all that will be aggregated back into the column, thus replacing nan values with group's mean.\n",
    "        X[\"Age\"] = X.groupby(\"Pclass Sex\".split())[\"Age\"].transform(lambda x: x.fillna(x.mean()))\n",
    "        \n",
    "        X.Age = X.Age.divide(80)\n",
    "\n",
    "    # Needs to be after 'Age', since age is using original Sex column.\n",
    "    if \"Sex\" in X:\n",
    "        X.Sex = X.Sex.astype(pd.api.types.CategoricalDtype(categories=\"male female\".split()))\n",
    "        X = pd.get_dummies(X, columns=[\"Sex\"])\n",
    "        \n",
    "    # = Remove extra features = \n",
    "    remove_features = \"Name\".split()\n",
    "    X = X.drop(columns=remove_features)\n",
    "    \n",
    "    # === Get Y - the result values. ===\n",
    "    Y = csv_data.get(\"Survived\")\n",
    "    \n",
    "    print(X.head(5))\n",
    "    print(None if Y is None else Y.head(5))\n",
    "    \n",
    "    return np.array(X), np.array(Y)"
   ]
  },
  {
   "cell_type": "code",
   "execution_count": 6,
   "metadata": {},
   "outputs": [
    {
     "name": "stdout",
     "output_type": "stream",
     "text": [
      "Train data:\n",
      "     Pclass  SibSp  Parch      Fare     Age  Embarked_C  Embarked_Q  Embarked_S  Married  Title_Mr  ...  Cabin_C  Cabin_D  Cabin_E  Cabin_F  Cabin_G  Cabin_T  Cabin_nan  Age_Missing  Sex_male  Sex_female\n",
      "0  1.000000  0.125    0.0  0.014160  0.2750           0           0           1        1         1  ...        0        0        0        0        0        0          1            0         1           0\n",
      "1  0.333333  0.125    0.0  0.139225  0.4750           1           0           0        1         0  ...        1        0        0        0        0        0          0            0         0           1\n",
      "2  1.000000  0.000    0.0  0.015479  0.3250           0           0           1       -1         0  ...        0        0        0        0        0        0          1            0         0           1\n",
      "3  0.333333  0.125    0.0  0.103711  0.4375           0           0           1        1         0  ...        1        0        0        0        0        0          0            0         0           1\n",
      "4  1.000000  0.000    0.0  0.015723  0.4375           0           0           1        1         1  ...        0        0        0        0        0        0          1            0         1           0\n",
      "\n",
      "[5 rows x 41 columns]\n",
      "0    0\n",
      "1    1\n",
      "2    1\n",
      "3    1\n",
      "4    0\n",
      "Name: Survived, dtype: int64\n"
     ]
    }
   ],
   "source": [
    "print(\"Train data:\")\n",
    "train_data_X, train_data_Y = prepare_data(train_data)"
   ]
  },
  {
   "cell_type": "code",
   "execution_count": 7,
   "metadata": {},
   "outputs": [
    {
     "name": "stdout",
     "output_type": "stream",
     "text": [
      "Test data:\n",
      "     Pclass  SibSp     Parch      Fare      Age  Embarked_C  Embarked_Q  Embarked_S  Married  Title_Mr  ...  Cabin_C  Cabin_D  Cabin_E  Cabin_F  Cabin_G  Cabin_T  Cabin_nan  Age_Missing  Sex_male  Sex_female\n",
      "0  1.000000  0.000  0.000000  0.015291  0.43125           0           1           0        1         1  ...        0        0        0        0        0        0          1            0         1           0\n",
      "1  1.000000  0.125  0.000000  0.013672  0.58750           0           0           1        1         0  ...        0        0        0        0        0        0          1            0         0           1\n",
      "2  0.666667  0.000  0.000000  0.018921  0.77500           0           1           0        1         1  ...        0        0        0        0        0        0          1            0         1           0\n",
      "3  1.000000  0.000  0.000000  0.016919  0.33750           0           0           1        1         1  ...        0        0        0        0        0        0          1            0         1           0\n",
      "4  1.000000  0.125  0.166667  0.023999  0.27500           0           0           1        1         0  ...        0        0        0        0        0        0          1            0         0           1\n",
      "\n",
      "[5 rows x 41 columns]\n",
      "None\n"
     ]
    }
   ],
   "source": [
    "print(\"Test data:\")\n",
    "test_data_X, _ = prepare_data(test_data)"
   ]
  },
  {
   "cell_type": "code",
   "execution_count": 8,
   "metadata": {},
   "outputs": [
    {
     "name": "stdout",
     "output_type": "stream",
     "text": [
      "(757, 41) (757, 1)\n",
      "(134, 41) (134, 1)\n"
     ]
    }
   ],
   "source": [
    "from sklearn.model_selection import train_test_split\n",
    "\n",
    "train_X, dev_X, train_Y, dev_Y = train_test_split(train_data_X, train_data_Y, test_size=0.15, random_state=42)\n",
    "\n",
    "train_Y = train_Y.reshape((-1, 1))\n",
    "dev_Y = dev_Y.reshape((-1, 1))\n",
    "\n",
    "print(train_X.shape, train_Y.shape)\n",
    "print(dev_X.shape, dev_Y.shape)"
   ]
  },
  {
   "cell_type": "code",
   "execution_count": 9,
   "metadata": {},
   "outputs": [],
   "source": [
    "# Uncomment for the submission - use whole data set for training.\n",
    "\n",
    "# train_X, train_Y = train_data_X, train_data_Y"
   ]
  },
  {
   "cell_type": "code",
   "execution_count": 10,
   "metadata": {},
   "outputs": [
    {
     "name": "stdout",
     "output_type": "stream",
     "text": [
      "2.1.0\n"
     ]
    }
   ],
   "source": [
    "import tensorflow as tf\n",
    "from tensorflow import keras\n",
    "\n",
    "print(tf.__version__)"
   ]
  },
  {
   "cell_type": "code",
   "execution_count": 11,
   "metadata": {},
   "outputs": [],
   "source": [
    "from tensorflow.keras.models import Sequential\n",
    "from tensorflow.keras.layers import Dense, Dropout\n",
    "from tensorflow.keras.regularizers import l2\n",
    "\n",
    "def get_model(input_size):\n",
    "    model = Sequential([\n",
    "        Dense(128, input_shape=(input_size,), activation=\"relu\", kernel_regularizer=l2(0.01)),\n",
    "        Dropout(0.2),\n",
    "        Dense(64, activation=\"relu\", kernel_regularizer=l2(0.01)),\n",
    "        Dropout(0.2),\n",
    "        Dense(32, activation=\"relu\", kernel_regularizer=l2(0.01)),\n",
    "        Dropout(0.2),\n",
    "        Dense(16, activation=\"relu\", kernel_regularizer=l2(0.01)),\n",
    "        Dropout(0.2),\n",
    "        Dense(1, activation=\"sigmoid\")\n",
    "    ])\n",
    "    \n",
    "    model.compile(optimizer=keras.optimizers.Adam(3e-4), metrics=[\"accuracy\"], loss=\"binary_crossentropy\")\n",
    "    \n",
    "    return model"
   ]
  },
  {
   "cell_type": "code",
   "execution_count": 12,
   "metadata": {},
   "outputs": [],
   "source": [
    "model = get_model(train_X.shape[1])"
   ]
  },
  {
   "cell_type": "code",
   "execution_count": 13,
   "metadata": {},
   "outputs": [
    {
     "name": "stdout",
     "output_type": "stream",
     "text": [
      "Train on 757 samples, validate on 134 samples\n",
      "Epoch 1/500\n",
      "757/757 [==============================] - 1s 2ms/sample - loss: 2.7075 - accuracy: 0.5786 - val_loss: 2.5944 - val_accuracy: 0.7612\n",
      "Epoch 2/500\n",
      "757/757 [==============================] - 0s 96us/sample - loss: 2.5032 - accuracy: 0.6684 - val_loss: 2.3991 - val_accuracy: 0.7537\n",
      "Epoch 3/500\n",
      "757/757 [==============================] - 0s 91us/sample - loss: 2.3321 - accuracy: 0.6764 - val_loss: 2.2212 - val_accuracy: 0.7612\n",
      "Epoch 4/500\n",
      "757/757 [==============================] - 0s 88us/sample - loss: 2.1629 - accuracy: 0.7015 - val_loss: 2.0591 - val_accuracy: 0.7537\n",
      "Epoch 5/500\n",
      "757/757 [==============================] - 0s 87us/sample - loss: 2.0095 - accuracy: 0.7279 - val_loss: 1.9158 - val_accuracy: 0.8060\n",
      "Epoch 6/500\n",
      "757/757 [==============================] - 0s 87us/sample - loss: 1.8814 - accuracy: 0.7398 - val_loss: 1.7940 - val_accuracy: 0.7910\n",
      "Epoch 7/500\n",
      "757/757 [==============================] - 0s 91us/sample - loss: 1.7825 - accuracy: 0.7715 - val_loss: 1.6897 - val_accuracy: 0.7910\n",
      "Epoch 8/500\n",
      "757/757 [==============================] - 0s 88us/sample - loss: 1.6774 - accuracy: 0.7569 - val_loss: 1.5959 - val_accuracy: 0.7910\n",
      "Epoch 9/500\n",
      "757/757 [==============================] - 0s 86us/sample - loss: 1.5796 - accuracy: 0.7900 - val_loss: 1.5109 - val_accuracy: 0.7910\n",
      "Epoch 10/500\n",
      "757/757 [==============================] - 0s 92us/sample - loss: 1.4867 - accuracy: 0.7992 - val_loss: 1.4301 - val_accuracy: 0.7910\n",
      "Epoch 11/500\n",
      "757/757 [==============================] - 0s 93us/sample - loss: 1.4161 - accuracy: 0.7900 - val_loss: 1.3579 - val_accuracy: 0.7910\n",
      "Epoch 12/500\n",
      "757/757 [==============================] - 0s 88us/sample - loss: 1.3270 - accuracy: 0.8124 - val_loss: 1.2920 - val_accuracy: 0.7910\n",
      "Epoch 13/500\n",
      "757/757 [==============================] - 0s 88us/sample - loss: 1.2770 - accuracy: 0.7900 - val_loss: 1.2332 - val_accuracy: 0.8060\n",
      "Epoch 14/500\n",
      "757/757 [==============================] - 0s 113us/sample - loss: 1.2060 - accuracy: 0.7979 - val_loss: 1.1778 - val_accuracy: 0.7985\n",
      "Epoch 15/500\n",
      "757/757 [==============================] - 0s 108us/sample - loss: 1.1742 - accuracy: 0.8045 - val_loss: 1.1299 - val_accuracy: 0.7910\n",
      "Epoch 16/500\n",
      "757/757 [==============================] - 0s 92us/sample - loss: 1.1225 - accuracy: 0.8005 - val_loss: 1.0875 - val_accuracy: 0.8060\n",
      "Epoch 17/500\n",
      "757/757 [==============================] - 0s 93us/sample - loss: 1.0730 - accuracy: 0.8151 - val_loss: 1.0413 - val_accuracy: 0.7985\n",
      "Epoch 18/500\n",
      "757/757 [==============================] - 0s 87us/sample - loss: 1.0469 - accuracy: 0.7926 - val_loss: 1.0038 - val_accuracy: 0.8060\n",
      "Epoch 19/500\n",
      "757/757 [==============================] - 0s 87us/sample - loss: 0.9942 - accuracy: 0.8071 - val_loss: 0.9677 - val_accuracy: 0.7985\n",
      "Epoch 20/500\n",
      "757/757 [==============================] - 0s 88us/sample - loss: 0.9701 - accuracy: 0.8018 - val_loss: 0.9357 - val_accuracy: 0.8060\n",
      "Epoch 21/500\n",
      "757/757 [==============================] - 0s 96us/sample - loss: 0.9196 - accuracy: 0.8085 - val_loss: 0.9064 - val_accuracy: 0.8060\n",
      "Epoch 22/500\n",
      "757/757 [==============================] - 0s 86us/sample - loss: 0.9029 - accuracy: 0.7952 - val_loss: 0.8798 - val_accuracy: 0.7985\n",
      "Epoch 23/500\n",
      "757/757 [==============================] - 0s 89us/sample - loss: 0.8900 - accuracy: 0.7992 - val_loss: 0.8534 - val_accuracy: 0.7985\n",
      "Epoch 24/500\n",
      "757/757 [==============================] - 0s 99us/sample - loss: 0.8598 - accuracy: 0.8045 - val_loss: 0.8298 - val_accuracy: 0.7985\n",
      "Epoch 25/500\n",
      "757/757 [==============================] - 0s 88us/sample - loss: 0.8223 - accuracy: 0.8164 - val_loss: 0.8085 - val_accuracy: 0.7985\n",
      "Epoch 26/500\n",
      "757/757 [==============================] - 0s 89us/sample - loss: 0.7882 - accuracy: 0.8164 - val_loss: 0.7874 - val_accuracy: 0.8209\n",
      "Epoch 27/500\n",
      "757/757 [==============================] - 0s 88us/sample - loss: 0.7913 - accuracy: 0.8151 - val_loss: 0.7712 - val_accuracy: 0.7985\n",
      "Epoch 28/500\n",
      "757/757 [==============================] - 0s 89us/sample - loss: 0.7652 - accuracy: 0.8151 - val_loss: 0.7535 - val_accuracy: 0.7985\n",
      "Epoch 29/500\n",
      "757/757 [==============================] - 0s 86us/sample - loss: 0.7590 - accuracy: 0.8071 - val_loss: 0.7372 - val_accuracy: 0.8209\n",
      "Epoch 30/500\n",
      "757/757 [==============================] - 0s 87us/sample - loss: 0.7355 - accuracy: 0.8111 - val_loss: 0.7241 - val_accuracy: 0.7985\n",
      "Epoch 31/500\n",
      "757/757 [==============================] - 0s 88us/sample - loss: 0.7297 - accuracy: 0.8071 - val_loss: 0.7136 - val_accuracy: 0.8209\n",
      "Epoch 32/500\n",
      "757/757 [==============================] - 0s 85us/sample - loss: 0.7112 - accuracy: 0.8018 - val_loss: 0.7031 - val_accuracy: 0.7985\n",
      "Epoch 33/500\n",
      "757/757 [==============================] - 0s 85us/sample - loss: 0.7148 - accuracy: 0.8085 - val_loss: 0.6892 - val_accuracy: 0.8209\n",
      "Epoch 34/500\n",
      "757/757 [==============================] - 0s 87us/sample - loss: 0.6985 - accuracy: 0.8005 - val_loss: 0.6826 - val_accuracy: 0.7985\n",
      "Epoch 35/500\n",
      "757/757 [==============================] - 0s 87us/sample - loss: 0.6840 - accuracy: 0.8349 - val_loss: 0.6700 - val_accuracy: 0.8209\n",
      "Epoch 36/500\n",
      "757/757 [==============================] - 0s 96us/sample - loss: 0.6830 - accuracy: 0.8085 - val_loss: 0.6625 - val_accuracy: 0.8134\n",
      "Epoch 37/500\n",
      "757/757 [==============================] - 0s 87us/sample - loss: 0.6657 - accuracy: 0.8085 - val_loss: 0.6548 - val_accuracy: 0.8134\n",
      "Epoch 38/500\n",
      "757/757 [==============================] - 0s 86us/sample - loss: 0.6574 - accuracy: 0.8256 - val_loss: 0.6456 - val_accuracy: 0.8134\n",
      "Epoch 39/500\n",
      "757/757 [==============================] - 0s 88us/sample - loss: 0.6567 - accuracy: 0.8217 - val_loss: 0.6362 - val_accuracy: 0.8209\n",
      "Epoch 40/500\n",
      "757/757 [==============================] - 0s 88us/sample - loss: 0.6446 - accuracy: 0.8283 - val_loss: 0.6284 - val_accuracy: 0.8209\n",
      "Epoch 41/500\n",
      "757/757 [==============================] - 0s 88us/sample - loss: 0.6431 - accuracy: 0.8230 - val_loss: 0.6261 - val_accuracy: 0.8134\n",
      "Epoch 42/500\n",
      "757/757 [==============================] - 0s 89us/sample - loss: 0.6171 - accuracy: 0.8296 - val_loss: 0.6206 - val_accuracy: 0.8134\n",
      "Epoch 43/500\n",
      "757/757 [==============================] - 0s 85us/sample - loss: 0.6283 - accuracy: 0.8256 - val_loss: 0.6126 - val_accuracy: 0.8209\n",
      "Epoch 44/500\n",
      "757/757 [==============================] - 0s 91us/sample - loss: 0.6210 - accuracy: 0.8177 - val_loss: 0.6108 - val_accuracy: 0.8134\n",
      "Epoch 45/500\n",
      "757/757 [==============================] - 0s 88us/sample - loss: 0.6192 - accuracy: 0.8217 - val_loss: 0.6050 - val_accuracy: 0.8209\n",
      "Epoch 46/500\n",
      "757/757 [==============================] - 0s 87us/sample - loss: 0.6066 - accuracy: 0.8230 - val_loss: 0.6002 - val_accuracy: 0.8209\n",
      "Epoch 47/500\n",
      "757/757 [==============================] - 0s 89us/sample - loss: 0.5962 - accuracy: 0.8164 - val_loss: 0.5973 - val_accuracy: 0.8134\n",
      "Epoch 48/500\n",
      "757/757 [==============================] - 0s 86us/sample - loss: 0.5968 - accuracy: 0.8203 - val_loss: 0.5917 - val_accuracy: 0.8134\n",
      "Epoch 49/500\n",
      "757/757 [==============================] - 0s 88us/sample - loss: 0.5845 - accuracy: 0.8362 - val_loss: 0.5862 - val_accuracy: 0.8134\n",
      "Epoch 50/500\n",
      "757/757 [==============================] - 0s 88us/sample - loss: 0.6006 - accuracy: 0.8190 - val_loss: 0.5855 - val_accuracy: 0.8060\n",
      "Epoch 51/500\n",
      "757/757 [==============================] - 0s 86us/sample - loss: 0.5977 - accuracy: 0.8243 - val_loss: 0.5807 - val_accuracy: 0.8134\n",
      "Epoch 52/500\n",
      "757/757 [==============================] - 0s 85us/sample - loss: 0.5776 - accuracy: 0.8336 - val_loss: 0.5804 - val_accuracy: 0.8209\n",
      "Epoch 53/500\n",
      "757/757 [==============================] - 0s 87us/sample - loss: 0.5904 - accuracy: 0.8283 - val_loss: 0.5775 - val_accuracy: 0.8134\n",
      "Epoch 54/500\n",
      "757/757 [==============================] - 0s 90us/sample - loss: 0.5779 - accuracy: 0.8085 - val_loss: 0.5764 - val_accuracy: 0.8209\n",
      "Epoch 55/500\n",
      "757/757 [==============================] - 0s 86us/sample - loss: 0.5685 - accuracy: 0.8296 - val_loss: 0.5745 - val_accuracy: 0.8209\n",
      "Epoch 56/500\n",
      "757/757 [==============================] - 0s 93us/sample - loss: 0.5725 - accuracy: 0.8243 - val_loss: 0.5657 - val_accuracy: 0.8060\n",
      "Epoch 57/500\n",
      "757/757 [==============================] - 0s 87us/sample - loss: 0.5789 - accuracy: 0.8283 - val_loss: 0.5663 - val_accuracy: 0.8134\n",
      "Epoch 58/500\n",
      "757/757 [==============================] - 0s 87us/sample - loss: 0.5853 - accuracy: 0.8190 - val_loss: 0.5632 - val_accuracy: 0.8060\n",
      "Epoch 59/500\n",
      "757/757 [==============================] - 0s 85us/sample - loss: 0.5592 - accuracy: 0.8283 - val_loss: 0.5577 - val_accuracy: 0.8209\n",
      "Epoch 60/500\n",
      "757/757 [==============================] - 0s 86us/sample - loss: 0.5717 - accuracy: 0.8283 - val_loss: 0.5578 - val_accuracy: 0.8209\n",
      "Epoch 61/500\n",
      "757/757 [==============================] - 0s 86us/sample - loss: 0.5489 - accuracy: 0.8309 - val_loss: 0.5583 - val_accuracy: 0.8134\n",
      "Epoch 62/500\n",
      "757/757 [==============================] - 0s 88us/sample - loss: 0.5649 - accuracy: 0.8283 - val_loss: 0.5558 - val_accuracy: 0.8060\n",
      "Epoch 63/500\n",
      "757/757 [==============================] - 0s 86us/sample - loss: 0.5538 - accuracy: 0.8230 - val_loss: 0.5538 - val_accuracy: 0.8060\n",
      "Epoch 64/500\n",
      "757/757 [==============================] - 0s 88us/sample - loss: 0.5460 - accuracy: 0.8203 - val_loss: 0.5513 - val_accuracy: 0.8134\n",
      "Epoch 65/500\n",
      "757/757 [==============================] - 0s 88us/sample - loss: 0.5631 - accuracy: 0.8230 - val_loss: 0.5504 - val_accuracy: 0.8060\n",
      "Epoch 66/500\n",
      "757/757 [==============================] - 0s 90us/sample - loss: 0.5441 - accuracy: 0.8256 - val_loss: 0.5452 - val_accuracy: 0.8134\n",
      "Epoch 67/500\n",
      "757/757 [==============================] - 0s 90us/sample - loss: 0.5487 - accuracy: 0.8243 - val_loss: 0.5424 - val_accuracy: 0.8209\n",
      "Epoch 68/500\n",
      "757/757 [==============================] - 0s 87us/sample - loss: 0.5480 - accuracy: 0.8309 - val_loss: 0.5413 - val_accuracy: 0.8358\n",
      "Epoch 69/500\n",
      "757/757 [==============================] - 0s 86us/sample - loss: 0.5470 - accuracy: 0.8203 - val_loss: 0.5425 - val_accuracy: 0.8060\n",
      "Epoch 70/500\n",
      "757/757 [==============================] - 0s 87us/sample - loss: 0.5416 - accuracy: 0.8296 - val_loss: 0.5421 - val_accuracy: 0.8134\n",
      "Epoch 71/500\n",
      "757/757 [==============================] - 0s 87us/sample - loss: 0.5408 - accuracy: 0.8164 - val_loss: 0.5387 - val_accuracy: 0.8284\n",
      "Epoch 72/500\n",
      "757/757 [==============================] - 0s 88us/sample - loss: 0.5449 - accuracy: 0.8441 - val_loss: 0.5383 - val_accuracy: 0.8209\n",
      "Epoch 73/500\n",
      "757/757 [==============================] - 0s 87us/sample - loss: 0.5312 - accuracy: 0.8336 - val_loss: 0.5344 - val_accuracy: 0.8209\n",
      "Epoch 74/500\n",
      "757/757 [==============================] - 0s 89us/sample - loss: 0.5386 - accuracy: 0.8322 - val_loss: 0.5328 - val_accuracy: 0.8209\n",
      "Epoch 75/500\n",
      "757/757 [==============================] - 0s 88us/sample - loss: 0.5535 - accuracy: 0.8177 - val_loss: 0.5328 - val_accuracy: 0.8209\n",
      "Epoch 76/500\n",
      "757/757 [==============================] - 0s 89us/sample - loss: 0.5290 - accuracy: 0.8388 - val_loss: 0.5326 - val_accuracy: 0.8134\n",
      "Epoch 77/500\n",
      "757/757 [==============================] - 0s 86us/sample - loss: 0.5288 - accuracy: 0.8375 - val_loss: 0.5280 - val_accuracy: 0.8209\n",
      "Epoch 78/500\n",
      "757/757 [==============================] - 0s 86us/sample - loss: 0.5386 - accuracy: 0.8243 - val_loss: 0.5277 - val_accuracy: 0.8284\n",
      "Epoch 79/500\n",
      "757/757 [==============================] - 0s 86us/sample - loss: 0.5171 - accuracy: 0.8336 - val_loss: 0.5317 - val_accuracy: 0.8134\n",
      "Epoch 80/500\n",
      "757/757 [==============================] - 0s 87us/sample - loss: 0.5180 - accuracy: 0.8349 - val_loss: 0.5255 - val_accuracy: 0.8284\n",
      "Epoch 81/500\n",
      "757/757 [==============================] - 0s 86us/sample - loss: 0.5281 - accuracy: 0.8349 - val_loss: 0.5285 - val_accuracy: 0.8134\n",
      "Epoch 82/500\n",
      "757/757 [==============================] - 0s 88us/sample - loss: 0.5193 - accuracy: 0.8336 - val_loss: 0.5268 - val_accuracy: 0.8209\n",
      "Epoch 83/500\n",
      "757/757 [==============================] - 0s 93us/sample - loss: 0.5300 - accuracy: 0.8256 - val_loss: 0.5248 - val_accuracy: 0.8209\n",
      "Epoch 84/500\n",
      "757/757 [==============================] - 0s 86us/sample - loss: 0.5347 - accuracy: 0.8190 - val_loss: 0.5269 - val_accuracy: 0.7985\n",
      "Epoch 85/500\n",
      "757/757 [==============================] - 0s 89us/sample - loss: 0.5321 - accuracy: 0.8243 - val_loss: 0.5226 - val_accuracy: 0.8284\n",
      "Epoch 86/500\n",
      "757/757 [==============================] - 0s 88us/sample - loss: 0.5121 - accuracy: 0.8283 - val_loss: 0.5217 - val_accuracy: 0.8358\n",
      "Epoch 87/500\n",
      "757/757 [==============================] - 0s 87us/sample - loss: 0.5215 - accuracy: 0.8230 - val_loss: 0.5209 - val_accuracy: 0.8358\n",
      "Epoch 88/500\n",
      "757/757 [==============================] - 0s 87us/sample - loss: 0.5198 - accuracy: 0.8296 - val_loss: 0.5227 - val_accuracy: 0.8134\n",
      "Epoch 89/500\n",
      "757/757 [==============================] - 0s 87us/sample - loss: 0.5234 - accuracy: 0.8362 - val_loss: 0.5180 - val_accuracy: 0.8134\n",
      "Epoch 90/500\n",
      "757/757 [==============================] - 0s 87us/sample - loss: 0.5221 - accuracy: 0.8190 - val_loss: 0.5208 - val_accuracy: 0.8060\n",
      "Epoch 91/500\n",
      "757/757 [==============================] - 0s 89us/sample - loss: 0.5205 - accuracy: 0.8243 - val_loss: 0.5199 - val_accuracy: 0.8134\n",
      "Epoch 92/500\n",
      "757/757 [==============================] - 0s 100us/sample - loss: 0.5278 - accuracy: 0.8336 - val_loss: 0.5163 - val_accuracy: 0.8209\n",
      "Epoch 93/500\n",
      "757/757 [==============================] - 0s 89us/sample - loss: 0.5102 - accuracy: 0.8322 - val_loss: 0.5205 - val_accuracy: 0.8134\n",
      "Epoch 94/500\n",
      "757/757 [==============================] - 0s 88us/sample - loss: 0.5049 - accuracy: 0.8269 - val_loss: 0.5149 - val_accuracy: 0.8284\n",
      "Epoch 95/500\n",
      "757/757 [==============================] - 0s 89us/sample - loss: 0.5151 - accuracy: 0.8481 - val_loss: 0.5163 - val_accuracy: 0.7985\n",
      "Epoch 96/500\n",
      "757/757 [==============================] - 0s 87us/sample - loss: 0.5064 - accuracy: 0.8283 - val_loss: 0.5166 - val_accuracy: 0.8134\n",
      "Epoch 97/500\n",
      "757/757 [==============================] - 0s 86us/sample - loss: 0.5036 - accuracy: 0.8415 - val_loss: 0.5164 - val_accuracy: 0.8134\n",
      "Epoch 98/500\n",
      "757/757 [==============================] - 0s 87us/sample - loss: 0.5101 - accuracy: 0.8415 - val_loss: 0.5145 - val_accuracy: 0.8284\n",
      "Epoch 99/500\n",
      "757/757 [==============================] - 0s 86us/sample - loss: 0.5078 - accuracy: 0.8468 - val_loss: 0.5143 - val_accuracy: 0.8209\n",
      "Epoch 100/500\n",
      "757/757 [==============================] - 0s 88us/sample - loss: 0.5126 - accuracy: 0.8375 - val_loss: 0.5129 - val_accuracy: 0.8284\n",
      "Epoch 101/500\n",
      "757/757 [==============================] - 0s 89us/sample - loss: 0.5139 - accuracy: 0.8336 - val_loss: 0.5142 - val_accuracy: 0.8134\n",
      "Epoch 102/500\n",
      "757/757 [==============================] - 0s 87us/sample - loss: 0.5060 - accuracy: 0.8454 - val_loss: 0.5128 - val_accuracy: 0.8209\n",
      "Epoch 103/500\n",
      "757/757 [==============================] - 0s 87us/sample - loss: 0.5072 - accuracy: 0.8269 - val_loss: 0.5109 - val_accuracy: 0.8209\n",
      "Epoch 104/500\n",
      "757/757 [==============================] - 0s 87us/sample - loss: 0.4999 - accuracy: 0.8362 - val_loss: 0.5093 - val_accuracy: 0.8134\n",
      "Epoch 105/500\n",
      "757/757 [==============================] - 0s 88us/sample - loss: 0.5042 - accuracy: 0.8269 - val_loss: 0.5088 - val_accuracy: 0.8284\n",
      "Epoch 106/500\n",
      "757/757 [==============================] - 0s 88us/sample - loss: 0.5063 - accuracy: 0.8415 - val_loss: 0.5105 - val_accuracy: 0.8134\n",
      "Epoch 107/500\n",
      "757/757 [==============================] - 0s 87us/sample - loss: 0.5110 - accuracy: 0.8269 - val_loss: 0.5064 - val_accuracy: 0.8284\n",
      "Epoch 108/500\n",
      "757/757 [==============================] - 0s 88us/sample - loss: 0.5060 - accuracy: 0.8388 - val_loss: 0.5150 - val_accuracy: 0.8134\n",
      "Epoch 109/500\n",
      "757/757 [==============================] - 0s 87us/sample - loss: 0.5043 - accuracy: 0.8349 - val_loss: 0.5066 - val_accuracy: 0.8209\n",
      "Epoch 110/500\n",
      "757/757 [==============================] - 0s 88us/sample - loss: 0.5086 - accuracy: 0.8362 - val_loss: 0.5069 - val_accuracy: 0.8060\n",
      "Epoch 111/500\n",
      "757/757 [==============================] - 0s 87us/sample - loss: 0.4983 - accuracy: 0.8428 - val_loss: 0.5087 - val_accuracy: 0.8060\n",
      "Epoch 112/500\n",
      "757/757 [==============================] - 0s 87us/sample - loss: 0.5003 - accuracy: 0.8309 - val_loss: 0.5066 - val_accuracy: 0.8284\n",
      "Epoch 113/500\n",
      "757/757 [==============================] - 0s 88us/sample - loss: 0.5050 - accuracy: 0.8336 - val_loss: 0.5089 - val_accuracy: 0.8358\n",
      "Epoch 114/500\n",
      "757/757 [==============================] - 0s 90us/sample - loss: 0.4986 - accuracy: 0.8454 - val_loss: 0.5066 - val_accuracy: 0.8134\n",
      "Epoch 115/500\n",
      "757/757 [==============================] - 0s 92us/sample - loss: 0.5019 - accuracy: 0.8336 - val_loss: 0.5045 - val_accuracy: 0.8209\n",
      "Epoch 116/500\n",
      "757/757 [==============================] - 0s 88us/sample - loss: 0.5087 - accuracy: 0.8362 - val_loss: 0.5048 - val_accuracy: 0.8284\n",
      "Epoch 117/500\n",
      "757/757 [==============================] - 0s 87us/sample - loss: 0.5036 - accuracy: 0.8402 - val_loss: 0.5100 - val_accuracy: 0.8134\n",
      "Epoch 118/500\n",
      "757/757 [==============================] - 0s 88us/sample - loss: 0.4900 - accuracy: 0.8441 - val_loss: 0.5031 - val_accuracy: 0.8209\n",
      "Epoch 119/500\n",
      "757/757 [==============================] - 0s 88us/sample - loss: 0.5067 - accuracy: 0.8296 - val_loss: 0.5040 - val_accuracy: 0.8209\n",
      "Epoch 120/500\n",
      "757/757 [==============================] - 0s 89us/sample - loss: 0.4915 - accuracy: 0.8415 - val_loss: 0.4996 - val_accuracy: 0.8358\n",
      "Epoch 121/500\n",
      "757/757 [==============================] - 0s 88us/sample - loss: 0.4932 - accuracy: 0.8415 - val_loss: 0.5039 - val_accuracy: 0.8209\n",
      "Epoch 122/500\n",
      "757/757 [==============================] - 0s 88us/sample - loss: 0.4856 - accuracy: 0.8362 - val_loss: 0.5032 - val_accuracy: 0.8209\n",
      "Epoch 123/500\n",
      "757/757 [==============================] - 0s 87us/sample - loss: 0.4926 - accuracy: 0.8402 - val_loss: 0.5008 - val_accuracy: 0.8134\n",
      "Epoch 124/500\n",
      "757/757 [==============================] - 0s 88us/sample - loss: 0.5016 - accuracy: 0.8322 - val_loss: 0.5020 - val_accuracy: 0.8209\n",
      "Epoch 125/500\n",
      "757/757 [==============================] - 0s 86us/sample - loss: 0.4960 - accuracy: 0.8283 - val_loss: 0.5005 - val_accuracy: 0.8134\n",
      "Epoch 126/500\n",
      "757/757 [==============================] - 0s 85us/sample - loss: 0.4966 - accuracy: 0.8283 - val_loss: 0.5072 - val_accuracy: 0.8134\n",
      "Epoch 127/500\n",
      "757/757 [==============================] - 0s 90us/sample - loss: 0.4929 - accuracy: 0.8415 - val_loss: 0.5024 - val_accuracy: 0.8134\n",
      "Epoch 128/500\n",
      "757/757 [==============================] - 0s 87us/sample - loss: 0.4976 - accuracy: 0.8296 - val_loss: 0.5001 - val_accuracy: 0.8284\n",
      "Epoch 129/500\n",
      "757/757 [==============================] - 0s 87us/sample - loss: 0.4951 - accuracy: 0.8375 - val_loss: 0.4996 - val_accuracy: 0.8209\n",
      "Epoch 130/500\n",
      "757/757 [==============================] - 0s 88us/sample - loss: 0.5021 - accuracy: 0.8415 - val_loss: 0.5001 - val_accuracy: 0.8209\n",
      "Epoch 131/500\n",
      "757/757 [==============================] - 0s 89us/sample - loss: 0.4899 - accuracy: 0.8230 - val_loss: 0.5007 - val_accuracy: 0.8358\n",
      "Epoch 132/500\n",
      "757/757 [==============================] - 0s 86us/sample - loss: 0.4935 - accuracy: 0.8454 - val_loss: 0.5036 - val_accuracy: 0.8134\n",
      "Epoch 133/500\n",
      "757/757 [==============================] - 0s 86us/sample - loss: 0.4959 - accuracy: 0.8309 - val_loss: 0.4971 - val_accuracy: 0.8209\n",
      "Epoch 134/500\n",
      "757/757 [==============================] - 0s 90us/sample - loss: 0.4900 - accuracy: 0.8375 - val_loss: 0.4987 - val_accuracy: 0.8284\n",
      "Epoch 135/500\n",
      "757/757 [==============================] - 0s 90us/sample - loss: 0.5020 - accuracy: 0.8322 - val_loss: 0.4988 - val_accuracy: 0.8134\n",
      "Epoch 136/500\n",
      "757/757 [==============================] - 0s 87us/sample - loss: 0.4946 - accuracy: 0.8415 - val_loss: 0.4961 - val_accuracy: 0.8134\n",
      "Epoch 137/500\n",
      "757/757 [==============================] - 0s 86us/sample - loss: 0.4946 - accuracy: 0.8322 - val_loss: 0.5021 - val_accuracy: 0.8134\n",
      "Epoch 138/500\n",
      "757/757 [==============================] - 0s 87us/sample - loss: 0.4913 - accuracy: 0.8336 - val_loss: 0.4964 - val_accuracy: 0.8134\n",
      "Epoch 139/500\n",
      "757/757 [==============================] - 0s 87us/sample - loss: 0.4883 - accuracy: 0.8402 - val_loss: 0.4976 - val_accuracy: 0.8134\n",
      "Epoch 140/500\n",
      "757/757 [==============================] - 0s 89us/sample - loss: 0.4919 - accuracy: 0.8362 - val_loss: 0.4963 - val_accuracy: 0.8209\n",
      "Epoch 141/500\n",
      "757/757 [==============================] - 0s 87us/sample - loss: 0.4877 - accuracy: 0.8322 - val_loss: 0.4975 - val_accuracy: 0.8284\n",
      "Epoch 142/500\n",
      "757/757 [==============================] - 0s 88us/sample - loss: 0.4890 - accuracy: 0.8296 - val_loss: 0.4965 - val_accuracy: 0.8209\n",
      "Epoch 143/500\n",
      "757/757 [==============================] - 0s 88us/sample - loss: 0.4973 - accuracy: 0.8256 - val_loss: 0.4974 - val_accuracy: 0.8209\n",
      "Epoch 144/500\n",
      "757/757 [==============================] - 0s 87us/sample - loss: 0.4923 - accuracy: 0.8336 - val_loss: 0.4950 - val_accuracy: 0.8284\n",
      "Epoch 145/500\n",
      "757/757 [==============================] - 0s 88us/sample - loss: 0.4807 - accuracy: 0.8362 - val_loss: 0.4953 - val_accuracy: 0.8134\n",
      "Epoch 146/500\n",
      "757/757 [==============================] - 0s 86us/sample - loss: 0.4938 - accuracy: 0.8230 - val_loss: 0.4951 - val_accuracy: 0.8209\n",
      "Epoch 147/500\n",
      "757/757 [==============================] - 0s 87us/sample - loss: 0.4873 - accuracy: 0.8375 - val_loss: 0.4937 - val_accuracy: 0.8284\n",
      "Epoch 148/500\n",
      "757/757 [==============================] - 0s 87us/sample - loss: 0.4954 - accuracy: 0.8388 - val_loss: 0.4951 - val_accuracy: 0.8284\n",
      "Epoch 149/500\n",
      "757/757 [==============================] - 0s 88us/sample - loss: 0.4992 - accuracy: 0.8375 - val_loss: 0.4995 - val_accuracy: 0.8134\n",
      "Epoch 150/500\n",
      "757/757 [==============================] - 0s 86us/sample - loss: 0.4879 - accuracy: 0.8375 - val_loss: 0.4996 - val_accuracy: 0.8209\n",
      "Epoch 151/500\n",
      "757/757 [==============================] - 0s 86us/sample - loss: 0.4867 - accuracy: 0.8388 - val_loss: 0.4952 - val_accuracy: 0.8209\n",
      "Epoch 152/500\n",
      "757/757 [==============================] - 0s 87us/sample - loss: 0.4778 - accuracy: 0.8388 - val_loss: 0.4910 - val_accuracy: 0.8284\n",
      "Epoch 153/500\n",
      "757/757 [==============================] - 0s 88us/sample - loss: 0.4748 - accuracy: 0.8349 - val_loss: 0.4929 - val_accuracy: 0.8134\n",
      "Epoch 154/500\n",
      "757/757 [==============================] - 0s 89us/sample - loss: 0.4969 - accuracy: 0.8269 - val_loss: 0.4944 - val_accuracy: 0.8209\n",
      "Epoch 155/500\n",
      "757/757 [==============================] - 0s 87us/sample - loss: 0.4908 - accuracy: 0.8269 - val_loss: 0.4913 - val_accuracy: 0.8209\n",
      "Epoch 156/500\n",
      "757/757 [==============================] - 0s 93us/sample - loss: 0.4821 - accuracy: 0.8468 - val_loss: 0.4944 - val_accuracy: 0.8209\n",
      "Epoch 157/500\n",
      "757/757 [==============================] - 0s 89us/sample - loss: 0.4844 - accuracy: 0.8388 - val_loss: 0.4933 - val_accuracy: 0.8433\n",
      "Epoch 158/500\n",
      "757/757 [==============================] - 0s 88us/sample - loss: 0.4848 - accuracy: 0.8441 - val_loss: 0.4930 - val_accuracy: 0.8134\n",
      "Epoch 159/500\n",
      "757/757 [==============================] - 0s 87us/sample - loss: 0.4851 - accuracy: 0.8481 - val_loss: 0.4942 - val_accuracy: 0.8209\n",
      "Epoch 160/500\n",
      "757/757 [==============================] - 0s 88us/sample - loss: 0.4860 - accuracy: 0.8362 - val_loss: 0.4903 - val_accuracy: 0.8284\n",
      "Epoch 161/500\n",
      "757/757 [==============================] - 0s 87us/sample - loss: 0.4918 - accuracy: 0.8269 - val_loss: 0.4902 - val_accuracy: 0.8284\n",
      "Epoch 162/500\n",
      "757/757 [==============================] - 0s 88us/sample - loss: 0.4839 - accuracy: 0.8507 - val_loss: 0.4935 - val_accuracy: 0.8209\n",
      "Epoch 163/500\n",
      "757/757 [==============================] - 0s 86us/sample - loss: 0.4862 - accuracy: 0.8388 - val_loss: 0.4942 - val_accuracy: 0.8209\n",
      "Epoch 164/500\n",
      "757/757 [==============================] - 0s 89us/sample - loss: 0.4892 - accuracy: 0.8454 - val_loss: 0.4922 - val_accuracy: 0.8209\n",
      "Epoch 165/500\n",
      "757/757 [==============================] - 0s 86us/sample - loss: 0.4865 - accuracy: 0.8322 - val_loss: 0.4875 - val_accuracy: 0.8284\n",
      "Epoch 166/500\n",
      "757/757 [==============================] - 0s 87us/sample - loss: 0.4904 - accuracy: 0.8468 - val_loss: 0.4915 - val_accuracy: 0.8284\n",
      "Epoch 167/500\n",
      "757/757 [==============================] - 0s 86us/sample - loss: 0.4997 - accuracy: 0.8243 - val_loss: 0.4911 - val_accuracy: 0.8209\n",
      "Epoch 168/500\n",
      "757/757 [==============================] - 0s 89us/sample - loss: 0.4829 - accuracy: 0.8309 - val_loss: 0.4928 - val_accuracy: 0.8134\n",
      "Epoch 169/500\n",
      "757/757 [==============================] - 0s 87us/sample - loss: 0.4901 - accuracy: 0.8362 - val_loss: 0.4895 - val_accuracy: 0.8209\n",
      "Epoch 170/500\n",
      "757/757 [==============================] - 0s 88us/sample - loss: 0.4952 - accuracy: 0.8402 - val_loss: 0.4907 - val_accuracy: 0.8209\n",
      "Epoch 171/500\n",
      "757/757 [==============================] - 0s 96us/sample - loss: 0.4849 - accuracy: 0.8481 - val_loss: 0.4874 - val_accuracy: 0.8209\n",
      "Epoch 172/500\n",
      "757/757 [==============================] - 0s 87us/sample - loss: 0.4733 - accuracy: 0.8494 - val_loss: 0.4899 - val_accuracy: 0.8134\n",
      "Epoch 173/500\n",
      "757/757 [==============================] - 0s 87us/sample - loss: 0.4907 - accuracy: 0.8349 - val_loss: 0.4919 - val_accuracy: 0.8209\n",
      "Epoch 174/500\n",
      "757/757 [==============================] - 0s 92us/sample - loss: 0.4830 - accuracy: 0.8375 - val_loss: 0.4864 - val_accuracy: 0.8358\n",
      "Epoch 175/500\n",
      "757/757 [==============================] - 0s 113us/sample - loss: 0.4888 - accuracy: 0.8375 - val_loss: 0.4903 - val_accuracy: 0.8134\n",
      "Epoch 176/500\n",
      "757/757 [==============================] - 0s 105us/sample - loss: 0.4863 - accuracy: 0.8322 - val_loss: 0.4921 - val_accuracy: 0.8209\n",
      "Epoch 177/500\n",
      "757/757 [==============================] - 0s 87us/sample - loss: 0.4901 - accuracy: 0.8296 - val_loss: 0.4883 - val_accuracy: 0.8209\n",
      "Epoch 178/500\n",
      "757/757 [==============================] - 0s 90us/sample - loss: 0.4873 - accuracy: 0.8362 - val_loss: 0.4856 - val_accuracy: 0.8209\n",
      "Epoch 179/500\n",
      "757/757 [==============================] - 0s 86us/sample - loss: 0.4832 - accuracy: 0.8309 - val_loss: 0.4886 - val_accuracy: 0.8134\n",
      "Epoch 180/500\n",
      "757/757 [==============================] - 0s 87us/sample - loss: 0.4836 - accuracy: 0.8362 - val_loss: 0.4884 - val_accuracy: 0.8284\n",
      "Epoch 181/500\n",
      "757/757 [==============================] - 0s 87us/sample - loss: 0.4791 - accuracy: 0.8336 - val_loss: 0.4868 - val_accuracy: 0.8209\n",
      "Epoch 182/500\n",
      "757/757 [==============================] - 0s 88us/sample - loss: 0.4743 - accuracy: 0.8481 - val_loss: 0.4883 - val_accuracy: 0.8209\n",
      "Epoch 183/500\n",
      "757/757 [==============================] - 0s 86us/sample - loss: 0.4839 - accuracy: 0.8454 - val_loss: 0.4905 - val_accuracy: 0.8209\n",
      "Epoch 184/500\n",
      "757/757 [==============================] - 0s 86us/sample - loss: 0.4859 - accuracy: 0.8402 - val_loss: 0.4857 - val_accuracy: 0.8358\n",
      "Epoch 185/500\n",
      "757/757 [==============================] - 0s 88us/sample - loss: 0.4818 - accuracy: 0.8481 - val_loss: 0.4873 - val_accuracy: 0.8209\n",
      "Epoch 186/500\n",
      "757/757 [==============================] - 0s 97us/sample - loss: 0.4836 - accuracy: 0.8336 - val_loss: 0.4887 - val_accuracy: 0.8209\n",
      "Epoch 187/500\n",
      "757/757 [==============================] - 0s 92us/sample - loss: 0.4804 - accuracy: 0.8534 - val_loss: 0.4915 - val_accuracy: 0.8209\n",
      "Epoch 188/500\n",
      "757/757 [==============================] - 0s 87us/sample - loss: 0.4741 - accuracy: 0.8454 - val_loss: 0.4902 - val_accuracy: 0.8134\n",
      "Epoch 189/500\n",
      "757/757 [==============================] - 0s 86us/sample - loss: 0.4852 - accuracy: 0.8349 - val_loss: 0.4887 - val_accuracy: 0.8209\n",
      "Epoch 190/500\n",
      "757/757 [==============================] - 0s 88us/sample - loss: 0.4795 - accuracy: 0.8402 - val_loss: 0.4870 - val_accuracy: 0.8209\n",
      "Epoch 191/500\n",
      "757/757 [==============================] - 0s 88us/sample - loss: 0.4860 - accuracy: 0.8362 - val_loss: 0.4860 - val_accuracy: 0.8060\n",
      "Epoch 192/500\n",
      "757/757 [==============================] - 0s 88us/sample - loss: 0.4896 - accuracy: 0.8322 - val_loss: 0.4914 - val_accuracy: 0.8134\n",
      "Epoch 193/500\n",
      "757/757 [==============================] - 0s 88us/sample - loss: 0.4743 - accuracy: 0.8336 - val_loss: 0.4827 - val_accuracy: 0.8358\n",
      "Epoch 194/500\n",
      "757/757 [==============================] - 0s 86us/sample - loss: 0.4841 - accuracy: 0.8362 - val_loss: 0.4868 - val_accuracy: 0.8134\n",
      "Epoch 195/500\n",
      "757/757 [==============================] - 0s 86us/sample - loss: 0.4791 - accuracy: 0.8322 - val_loss: 0.4896 - val_accuracy: 0.8209\n",
      "Epoch 196/500\n",
      "757/757 [==============================] - 0s 87us/sample - loss: 0.4795 - accuracy: 0.8322 - val_loss: 0.4854 - val_accuracy: 0.8134\n",
      "Epoch 197/500\n",
      "757/757 [==============================] - 0s 88us/sample - loss: 0.4834 - accuracy: 0.8362 - val_loss: 0.4870 - val_accuracy: 0.8209\n",
      "Epoch 198/500\n",
      "757/757 [==============================] - 0s 88us/sample - loss: 0.4875 - accuracy: 0.8362 - val_loss: 0.4865 - val_accuracy: 0.8134\n",
      "Epoch 199/500\n",
      "757/757 [==============================] - 0s 88us/sample - loss: 0.4789 - accuracy: 0.8402 - val_loss: 0.4880 - val_accuracy: 0.8209\n",
      "Epoch 200/500\n",
      "757/757 [==============================] - 0s 92us/sample - loss: 0.4808 - accuracy: 0.8349 - val_loss: 0.4887 - val_accuracy: 0.8284\n",
      "Epoch 201/500\n",
      "757/757 [==============================] - 0s 89us/sample - loss: 0.4800 - accuracy: 0.8415 - val_loss: 0.4902 - val_accuracy: 0.8134\n",
      "Epoch 202/500\n",
      "757/757 [==============================] - 0s 87us/sample - loss: 0.4751 - accuracy: 0.8283 - val_loss: 0.4866 - val_accuracy: 0.8284\n",
      "Epoch 203/500\n",
      "757/757 [==============================] - 0s 86us/sample - loss: 0.4690 - accuracy: 0.8454 - val_loss: 0.4888 - val_accuracy: 0.8284\n",
      "Epoch 204/500\n",
      "757/757 [==============================] - 0s 87us/sample - loss: 0.4735 - accuracy: 0.8362 - val_loss: 0.4884 - val_accuracy: 0.8209\n",
      "Epoch 205/500\n",
      "757/757 [==============================] - 0s 87us/sample - loss: 0.4739 - accuracy: 0.8402 - val_loss: 0.4884 - val_accuracy: 0.8134\n",
      "Epoch 206/500\n",
      "757/757 [==============================] - 0s 87us/sample - loss: 0.4744 - accuracy: 0.8428 - val_loss: 0.4865 - val_accuracy: 0.8209\n",
      "Epoch 207/500\n",
      "757/757 [==============================] - 0s 86us/sample - loss: 0.4705 - accuracy: 0.8402 - val_loss: 0.4845 - val_accuracy: 0.8209\n",
      "Epoch 208/500\n",
      "757/757 [==============================] - 0s 87us/sample - loss: 0.4883 - accuracy: 0.8322 - val_loss: 0.4852 - val_accuracy: 0.8134\n",
      "Epoch 209/500\n",
      "757/757 [==============================] - 0s 86us/sample - loss: 0.4868 - accuracy: 0.8309 - val_loss: 0.4854 - val_accuracy: 0.8134\n",
      "Epoch 210/500\n",
      "757/757 [==============================] - 0s 87us/sample - loss: 0.4718 - accuracy: 0.8441 - val_loss: 0.4914 - val_accuracy: 0.8209\n",
      "Epoch 211/500\n",
      "757/757 [==============================] - 0s 89us/sample - loss: 0.4913 - accuracy: 0.8322 - val_loss: 0.4869 - val_accuracy: 0.8209\n",
      "Epoch 212/500\n",
      "757/757 [==============================] - 0s 88us/sample - loss: 0.4877 - accuracy: 0.8283 - val_loss: 0.4856 - val_accuracy: 0.8134\n",
      "Epoch 213/500\n",
      "757/757 [==============================] - 0s 93us/sample - loss: 0.4590 - accuracy: 0.8534 - val_loss: 0.4845 - val_accuracy: 0.8134\n",
      "Epoch 214/500\n",
      "757/757 [==============================] - 0s 96us/sample - loss: 0.4769 - accuracy: 0.8362 - val_loss: 0.4828 - val_accuracy: 0.8134\n",
      "Epoch 215/500\n",
      "757/757 [==============================] - 0s 88us/sample - loss: 0.4739 - accuracy: 0.8296 - val_loss: 0.4863 - val_accuracy: 0.8284\n",
      "Epoch 216/500\n",
      "757/757 [==============================] - 0s 86us/sample - loss: 0.4759 - accuracy: 0.8402 - val_loss: 0.4817 - val_accuracy: 0.8284\n",
      "Epoch 217/500\n",
      "757/757 [==============================] - 0s 87us/sample - loss: 0.4675 - accuracy: 0.8494 - val_loss: 0.4877 - val_accuracy: 0.8209\n",
      "Epoch 218/500\n",
      "757/757 [==============================] - 0s 151us/sample - loss: 0.4801 - accuracy: 0.8322 - val_loss: 0.4855 - val_accuracy: 0.8060\n",
      "Epoch 219/500\n",
      "757/757 [==============================] - 0s 104us/sample - loss: 0.4797 - accuracy: 0.8494 - val_loss: 0.4836 - val_accuracy: 0.8209\n",
      "Epoch 220/500\n",
      "757/757 [==============================] - 0s 101us/sample - loss: 0.4865 - accuracy: 0.8269 - val_loss: 0.4866 - val_accuracy: 0.8134\n",
      "Epoch 221/500\n",
      "757/757 [==============================] - 0s 105us/sample - loss: 0.4734 - accuracy: 0.8481 - val_loss: 0.4822 - val_accuracy: 0.8209\n",
      "Epoch 222/500\n",
      "757/757 [==============================] - 0s 95us/sample - loss: 0.4620 - accuracy: 0.8547 - val_loss: 0.4824 - val_accuracy: 0.8209\n",
      "Epoch 223/500\n",
      "757/757 [==============================] - 0s 104us/sample - loss: 0.4733 - accuracy: 0.8507 - val_loss: 0.4842 - val_accuracy: 0.8134\n",
      "Epoch 224/500\n",
      "757/757 [==============================] - 0s 99us/sample - loss: 0.4805 - accuracy: 0.8349 - val_loss: 0.4831 - val_accuracy: 0.8209\n",
      "Epoch 225/500\n",
      "757/757 [==============================] - 0s 109us/sample - loss: 0.4792 - accuracy: 0.8336 - val_loss: 0.4832 - val_accuracy: 0.8209\n",
      "Epoch 226/500\n",
      "757/757 [==============================] - 0s 114us/sample - loss: 0.4758 - accuracy: 0.8362 - val_loss: 0.4839 - val_accuracy: 0.8060\n",
      "Epoch 227/500\n",
      "757/757 [==============================] - 0s 99us/sample - loss: 0.4824 - accuracy: 0.8388 - val_loss: 0.4827 - val_accuracy: 0.8209\n",
      "Epoch 228/500\n",
      "757/757 [==============================] - 0s 88us/sample - loss: 0.4740 - accuracy: 0.8388 - val_loss: 0.4871 - val_accuracy: 0.8209\n",
      "Epoch 229/500\n",
      "757/757 [==============================] - 0s 88us/sample - loss: 0.4698 - accuracy: 0.8441 - val_loss: 0.4807 - val_accuracy: 0.8284\n",
      "Epoch 230/500\n",
      "757/757 [==============================] - 0s 88us/sample - loss: 0.4767 - accuracy: 0.8296 - val_loss: 0.4844 - val_accuracy: 0.8134\n",
      "Epoch 231/500\n",
      "757/757 [==============================] - 0s 88us/sample - loss: 0.4726 - accuracy: 0.8336 - val_loss: 0.4849 - val_accuracy: 0.8209\n",
      "Epoch 232/500\n",
      "757/757 [==============================] - 0s 87us/sample - loss: 0.4764 - accuracy: 0.8296 - val_loss: 0.4853 - val_accuracy: 0.8209\n",
      "Epoch 233/500\n",
      "757/757 [==============================] - 0s 88us/sample - loss: 0.4707 - accuracy: 0.8415 - val_loss: 0.4817 - val_accuracy: 0.8209\n",
      "Epoch 234/500\n",
      "757/757 [==============================] - 0s 87us/sample - loss: 0.4630 - accuracy: 0.8441 - val_loss: 0.4826 - val_accuracy: 0.8209\n",
      "Epoch 235/500\n",
      "757/757 [==============================] - 0s 86us/sample - loss: 0.4678 - accuracy: 0.8402 - val_loss: 0.4844 - val_accuracy: 0.8284\n",
      "Epoch 236/500\n",
      "757/757 [==============================] - 0s 91us/sample - loss: 0.4738 - accuracy: 0.8468 - val_loss: 0.4837 - val_accuracy: 0.8134\n",
      "Epoch 237/500\n",
      "757/757 [==============================] - 0s 94us/sample - loss: 0.4808 - accuracy: 0.8441 - val_loss: 0.4829 - val_accuracy: 0.8134\n",
      "Epoch 238/500\n",
      "757/757 [==============================] - 0s 89us/sample - loss: 0.4721 - accuracy: 0.8388 - val_loss: 0.4837 - val_accuracy: 0.8209\n",
      "Epoch 239/500\n",
      "757/757 [==============================] - 0s 88us/sample - loss: 0.4771 - accuracy: 0.8322 - val_loss: 0.4827 - val_accuracy: 0.8060\n",
      "Epoch 240/500\n",
      "757/757 [==============================] - 0s 92us/sample - loss: 0.4792 - accuracy: 0.8388 - val_loss: 0.4839 - val_accuracy: 0.8134\n",
      "Epoch 241/500\n",
      "757/757 [==============================] - 0s 88us/sample - loss: 0.4761 - accuracy: 0.8362 - val_loss: 0.4821 - val_accuracy: 0.8284\n",
      "Epoch 242/500\n",
      "757/757 [==============================] - 0s 111us/sample - loss: 0.4693 - accuracy: 0.8283 - val_loss: 0.4862 - val_accuracy: 0.8134\n",
      "Epoch 243/500\n",
      "757/757 [==============================] - 0s 88us/sample - loss: 0.4679 - accuracy: 0.8415 - val_loss: 0.4818 - val_accuracy: 0.8209\n",
      "Epoch 244/500\n",
      "757/757 [==============================] - 0s 89us/sample - loss: 0.4700 - accuracy: 0.8349 - val_loss: 0.4835 - val_accuracy: 0.8284\n",
      "Epoch 245/500\n",
      "757/757 [==============================] - 0s 94us/sample - loss: 0.4677 - accuracy: 0.8415 - val_loss: 0.4838 - val_accuracy: 0.8134\n",
      "Epoch 246/500\n",
      "757/757 [==============================] - 0s 88us/sample - loss: 0.4803 - accuracy: 0.8415 - val_loss: 0.4835 - val_accuracy: 0.8209\n",
      "Epoch 247/500\n",
      "757/757 [==============================] - 0s 91us/sample - loss: 0.4696 - accuracy: 0.8375 - val_loss: 0.4865 - val_accuracy: 0.8209\n",
      "Epoch 248/500\n",
      "757/757 [==============================] - 0s 87us/sample - loss: 0.4783 - accuracy: 0.8388 - val_loss: 0.4826 - val_accuracy: 0.8209\n",
      "Epoch 249/500\n",
      "757/757 [==============================] - 0s 88us/sample - loss: 0.4757 - accuracy: 0.8336 - val_loss: 0.4844 - val_accuracy: 0.8209\n",
      "Epoch 250/500\n",
      "757/757 [==============================] - 0s 86us/sample - loss: 0.4832 - accuracy: 0.8388 - val_loss: 0.4839 - val_accuracy: 0.8209\n",
      "Epoch 251/500\n",
      "757/757 [==============================] - 0s 88us/sample - loss: 0.4740 - accuracy: 0.8454 - val_loss: 0.4834 - val_accuracy: 0.8358\n",
      "Epoch 252/500\n",
      "757/757 [==============================] - 0s 86us/sample - loss: 0.4702 - accuracy: 0.8481 - val_loss: 0.4839 - val_accuracy: 0.8134\n",
      "Epoch 253/500\n",
      "757/757 [==============================] - 0s 88us/sample - loss: 0.4812 - accuracy: 0.8309 - val_loss: 0.4819 - val_accuracy: 0.8209\n",
      "Epoch 254/500\n",
      "757/757 [==============================] - 0s 88us/sample - loss: 0.4745 - accuracy: 0.8402 - val_loss: 0.4852 - val_accuracy: 0.8209\n",
      "Epoch 255/500\n",
      "757/757 [==============================] - 0s 90us/sample - loss: 0.4746 - accuracy: 0.8428 - val_loss: 0.4838 - val_accuracy: 0.8358\n",
      "Epoch 256/500\n",
      "757/757 [==============================] - 0s 98us/sample - loss: 0.4728 - accuracy: 0.8388 - val_loss: 0.4855 - val_accuracy: 0.8134\n",
      "Epoch 257/500\n",
      "757/757 [==============================] - 0s 88us/sample - loss: 0.4738 - accuracy: 0.8309 - val_loss: 0.4850 - val_accuracy: 0.8209\n",
      "Epoch 258/500\n",
      "757/757 [==============================] - 0s 89us/sample - loss: 0.4850 - accuracy: 0.8362 - val_loss: 0.4791 - val_accuracy: 0.8358\n",
      "Epoch 259/500\n",
      "757/757 [==============================] - 0s 87us/sample - loss: 0.4817 - accuracy: 0.8349 - val_loss: 0.4810 - val_accuracy: 0.8209\n",
      "Epoch 260/500\n",
      "757/757 [==============================] - 0s 87us/sample - loss: 0.4664 - accuracy: 0.8441 - val_loss: 0.4838 - val_accuracy: 0.8209\n",
      "Epoch 261/500\n",
      "757/757 [==============================] - 0s 89us/sample - loss: 0.4684 - accuracy: 0.8230 - val_loss: 0.4839 - val_accuracy: 0.8209\n",
      "Epoch 262/500\n",
      "757/757 [==============================] - 0s 93us/sample - loss: 0.4799 - accuracy: 0.8428 - val_loss: 0.4872 - val_accuracy: 0.8209\n",
      "Epoch 263/500\n",
      "757/757 [==============================] - 0s 88us/sample - loss: 0.4583 - accuracy: 0.8481 - val_loss: 0.4777 - val_accuracy: 0.8209\n",
      "Epoch 264/500\n",
      "757/757 [==============================] - 0s 88us/sample - loss: 0.4601 - accuracy: 0.8481 - val_loss: 0.4788 - val_accuracy: 0.8134\n",
      "Epoch 265/500\n",
      "757/757 [==============================] - 0s 88us/sample - loss: 0.4661 - accuracy: 0.8507 - val_loss: 0.4774 - val_accuracy: 0.8358\n",
      "Epoch 266/500\n",
      "757/757 [==============================] - 0s 86us/sample - loss: 0.4691 - accuracy: 0.8454 - val_loss: 0.4798 - val_accuracy: 0.8209\n",
      "Epoch 267/500\n",
      "757/757 [==============================] - 0s 87us/sample - loss: 0.4710 - accuracy: 0.8441 - val_loss: 0.4784 - val_accuracy: 0.8134\n",
      "Epoch 268/500\n",
      "757/757 [==============================] - 0s 86us/sample - loss: 0.4765 - accuracy: 0.8428 - val_loss: 0.4797 - val_accuracy: 0.8209\n",
      "Epoch 269/500\n",
      "757/757 [==============================] - 0s 104us/sample - loss: 0.4667 - accuracy: 0.8322 - val_loss: 0.4783 - val_accuracy: 0.8284\n",
      "Epoch 270/500\n",
      "757/757 [==============================] - 0s 106us/sample - loss: 0.4713 - accuracy: 0.8243 - val_loss: 0.4791 - val_accuracy: 0.8209\n",
      "Epoch 271/500\n",
      "757/757 [==============================] - 0s 113us/sample - loss: 0.4739 - accuracy: 0.8388 - val_loss: 0.4854 - val_accuracy: 0.8134\n",
      "Epoch 272/500\n",
      "757/757 [==============================] - 0s 118us/sample - loss: 0.4714 - accuracy: 0.8415 - val_loss: 0.4821 - val_accuracy: 0.8284\n",
      "Epoch 273/500\n",
      "757/757 [==============================] - 0s 100us/sample - loss: 0.4666 - accuracy: 0.8402 - val_loss: 0.4801 - val_accuracy: 0.8209\n",
      "Epoch 274/500\n",
      "757/757 [==============================] - 0s 105us/sample - loss: 0.4704 - accuracy: 0.8481 - val_loss: 0.4780 - val_accuracy: 0.8209\n",
      "Epoch 275/500\n",
      "757/757 [==============================] - 0s 101us/sample - loss: 0.4721 - accuracy: 0.8375 - val_loss: 0.4822 - val_accuracy: 0.8134\n",
      "Epoch 276/500\n",
      "757/757 [==============================] - 0s 161us/sample - loss: 0.4743 - accuracy: 0.8415 - val_loss: 0.4818 - val_accuracy: 0.8134\n",
      "Epoch 277/500\n",
      "757/757 [==============================] - 0s 96us/sample - loss: 0.4610 - accuracy: 0.8454 - val_loss: 0.4811 - val_accuracy: 0.8134\n",
      "Epoch 278/500\n",
      "757/757 [==============================] - 0s 88us/sample - loss: 0.4714 - accuracy: 0.8428 - val_loss: 0.4804 - val_accuracy: 0.8134\n",
      "Epoch 279/500\n",
      "757/757 [==============================] - 0s 94us/sample - loss: 0.4811 - accuracy: 0.8349 - val_loss: 0.4811 - val_accuracy: 0.8134\n",
      "Epoch 280/500\n",
      "757/757 [==============================] - 0s 88us/sample - loss: 0.4702 - accuracy: 0.8388 - val_loss: 0.4793 - val_accuracy: 0.8284\n",
      "Epoch 281/500\n",
      "757/757 [==============================] - 0s 101us/sample - loss: 0.4748 - accuracy: 0.8283 - val_loss: 0.4810 - val_accuracy: 0.8209\n",
      "Epoch 282/500\n",
      "757/757 [==============================] - 0s 103us/sample - loss: 0.4664 - accuracy: 0.8454 - val_loss: 0.4807 - val_accuracy: 0.8209\n",
      "Epoch 283/500\n",
      "757/757 [==============================] - 0s 95us/sample - loss: 0.4609 - accuracy: 0.8494 - val_loss: 0.4806 - val_accuracy: 0.8134\n",
      "Epoch 284/500\n",
      "757/757 [==============================] - 0s 89us/sample - loss: 0.4661 - accuracy: 0.8336 - val_loss: 0.4818 - val_accuracy: 0.8284\n",
      "Epoch 285/500\n",
      "757/757 [==============================] - 0s 88us/sample - loss: 0.4731 - accuracy: 0.8322 - val_loss: 0.4819 - val_accuracy: 0.8209\n",
      "Epoch 286/500\n",
      "757/757 [==============================] - 0s 93us/sample - loss: 0.4713 - accuracy: 0.8388 - val_loss: 0.4828 - val_accuracy: 0.8209\n",
      "Epoch 287/500\n",
      "757/757 [==============================] - 0s 87us/sample - loss: 0.4736 - accuracy: 0.8375 - val_loss: 0.4795 - val_accuracy: 0.8209\n",
      "Epoch 288/500\n",
      "757/757 [==============================] - 0s 86us/sample - loss: 0.4687 - accuracy: 0.8415 - val_loss: 0.4798 - val_accuracy: 0.8284\n",
      "Epoch 289/500\n",
      "757/757 [==============================] - 0s 86us/sample - loss: 0.4837 - accuracy: 0.8388 - val_loss: 0.4802 - val_accuracy: 0.8358\n",
      "Epoch 290/500\n",
      "757/757 [==============================] - 0s 89us/sample - loss: 0.4790 - accuracy: 0.8336 - val_loss: 0.4816 - val_accuracy: 0.8134\n",
      "Epoch 291/500\n",
      "757/757 [==============================] - 0s 87us/sample - loss: 0.4575 - accuracy: 0.8560 - val_loss: 0.4787 - val_accuracy: 0.8209\n",
      "Epoch 292/500\n",
      "757/757 [==============================] - 0s 85us/sample - loss: 0.4584 - accuracy: 0.8468 - val_loss: 0.4808 - val_accuracy: 0.8284\n",
      "Epoch 293/500\n",
      "757/757 [==============================] - 0s 88us/sample - loss: 0.4667 - accuracy: 0.8402 - val_loss: 0.4789 - val_accuracy: 0.8209\n",
      "Epoch 294/500\n",
      "757/757 [==============================] - 0s 87us/sample - loss: 0.4746 - accuracy: 0.8388 - val_loss: 0.4764 - val_accuracy: 0.8209\n",
      "Epoch 295/500\n",
      "757/757 [==============================] - 0s 95us/sample - loss: 0.4578 - accuracy: 0.8560 - val_loss: 0.4776 - val_accuracy: 0.8209\n",
      "Epoch 296/500\n",
      "757/757 [==============================] - 0s 94us/sample - loss: 0.4670 - accuracy: 0.8428 - val_loss: 0.4776 - val_accuracy: 0.8209\n",
      "Epoch 297/500\n",
      "757/757 [==============================] - 0s 117us/sample - loss: 0.4805 - accuracy: 0.8375 - val_loss: 0.4792 - val_accuracy: 0.8134\n",
      "Epoch 298/500\n",
      "757/757 [==============================] - 0s 96us/sample - loss: 0.4673 - accuracy: 0.8415 - val_loss: 0.4787 - val_accuracy: 0.8209\n",
      "Epoch 299/500\n",
      "757/757 [==============================] - 0s 89us/sample - loss: 0.4650 - accuracy: 0.8375 - val_loss: 0.4799 - val_accuracy: 0.8209\n",
      "Epoch 300/500\n",
      "757/757 [==============================] - 0s 89us/sample - loss: 0.4661 - accuracy: 0.8507 - val_loss: 0.4793 - val_accuracy: 0.8284\n",
      "Epoch 301/500\n",
      "757/757 [==============================] - 0s 88us/sample - loss: 0.4784 - accuracy: 0.8349 - val_loss: 0.4810 - val_accuracy: 0.8134\n",
      "Epoch 302/500\n",
      "757/757 [==============================] - 0s 89us/sample - loss: 0.4590 - accuracy: 0.8428 - val_loss: 0.4795 - val_accuracy: 0.8134\n",
      "Epoch 303/500\n",
      "757/757 [==============================] - 0s 92us/sample - loss: 0.4718 - accuracy: 0.8375 - val_loss: 0.4817 - val_accuracy: 0.8134\n",
      "Epoch 304/500\n",
      "757/757 [==============================] - 0s 88us/sample - loss: 0.4626 - accuracy: 0.8415 - val_loss: 0.4789 - val_accuracy: 0.8209\n",
      "Epoch 305/500\n",
      "757/757 [==============================] - 0s 89us/sample - loss: 0.4683 - accuracy: 0.8428 - val_loss: 0.4805 - val_accuracy: 0.7985\n",
      "Epoch 306/500\n",
      "757/757 [==============================] - 0s 87us/sample - loss: 0.4704 - accuracy: 0.8454 - val_loss: 0.4783 - val_accuracy: 0.8209\n",
      "Epoch 307/500\n",
      "757/757 [==============================] - 0s 87us/sample - loss: 0.4604 - accuracy: 0.8402 - val_loss: 0.4785 - val_accuracy: 0.8209\n",
      "Epoch 308/500\n",
      "757/757 [==============================] - 0s 88us/sample - loss: 0.4722 - accuracy: 0.8296 - val_loss: 0.4793 - val_accuracy: 0.8209\n",
      "Epoch 309/500\n",
      "757/757 [==============================] - 0s 87us/sample - loss: 0.4809 - accuracy: 0.8296 - val_loss: 0.4783 - val_accuracy: 0.8209\n",
      "Epoch 310/500\n",
      "757/757 [==============================] - 0s 89us/sample - loss: 0.4733 - accuracy: 0.8349 - val_loss: 0.4779 - val_accuracy: 0.8209\n",
      "Epoch 311/500\n",
      "757/757 [==============================] - 0s 96us/sample - loss: 0.4698 - accuracy: 0.8454 - val_loss: 0.4780 - val_accuracy: 0.8284\n",
      "Epoch 312/500\n",
      "757/757 [==============================] - 0s 95us/sample - loss: 0.4613 - accuracy: 0.8454 - val_loss: 0.4806 - val_accuracy: 0.8358\n",
      "Epoch 313/500\n",
      "757/757 [==============================] - 0s 89us/sample - loss: 0.4769 - accuracy: 0.8283 - val_loss: 0.4814 - val_accuracy: 0.8209\n",
      "Epoch 314/500\n",
      "757/757 [==============================] - 0s 89us/sample - loss: 0.4594 - accuracy: 0.8481 - val_loss: 0.4794 - val_accuracy: 0.8358\n",
      "Epoch 315/500\n",
      "757/757 [==============================] - 0s 89us/sample - loss: 0.4724 - accuracy: 0.8415 - val_loss: 0.4810 - val_accuracy: 0.8134\n",
      "Epoch 316/500\n",
      "757/757 [==============================] - 0s 91us/sample - loss: 0.4706 - accuracy: 0.8309 - val_loss: 0.4800 - val_accuracy: 0.8209\n",
      "Epoch 317/500\n",
      "757/757 [==============================] - 0s 87us/sample - loss: 0.4550 - accuracy: 0.8468 - val_loss: 0.4761 - val_accuracy: 0.8209\n",
      "Epoch 318/500\n",
      "757/757 [==============================] - 0s 88us/sample - loss: 0.4698 - accuracy: 0.8428 - val_loss: 0.4763 - val_accuracy: 0.8209\n",
      "Epoch 319/500\n",
      "757/757 [==============================] - 0s 86us/sample - loss: 0.4663 - accuracy: 0.8283 - val_loss: 0.4824 - val_accuracy: 0.8060\n",
      "Epoch 320/500\n",
      "757/757 [==============================] - 0s 86us/sample - loss: 0.4596 - accuracy: 0.8428 - val_loss: 0.4781 - val_accuracy: 0.8209\n",
      "Epoch 321/500\n",
      "757/757 [==============================] - 0s 88us/sample - loss: 0.4858 - accuracy: 0.8375 - val_loss: 0.4814 - val_accuracy: 0.8134\n",
      "Epoch 322/500\n",
      "757/757 [==============================] - 0s 86us/sample - loss: 0.4667 - accuracy: 0.8454 - val_loss: 0.4781 - val_accuracy: 0.8433\n",
      "Epoch 323/500\n",
      "757/757 [==============================] - 0s 87us/sample - loss: 0.4654 - accuracy: 0.8454 - val_loss: 0.4742 - val_accuracy: 0.8433\n",
      "Epoch 324/500\n",
      "757/757 [==============================] - 0s 87us/sample - loss: 0.4634 - accuracy: 0.8507 - val_loss: 0.4773 - val_accuracy: 0.8209\n",
      "Epoch 325/500\n",
      "757/757 [==============================] - 0s 86us/sample - loss: 0.4498 - accuracy: 0.8507 - val_loss: 0.4775 - val_accuracy: 0.8209\n",
      "Epoch 326/500\n",
      "757/757 [==============================] - 0s 114us/sample - loss: 0.4616 - accuracy: 0.8415 - val_loss: 0.4738 - val_accuracy: 0.8284\n",
      "Epoch 327/500\n",
      "757/757 [==============================] - 0s 100us/sample - loss: 0.4707 - accuracy: 0.8441 - val_loss: 0.4799 - val_accuracy: 0.8209\n",
      "Epoch 328/500\n",
      "757/757 [==============================] - 0s 89us/sample - loss: 0.4674 - accuracy: 0.8428 - val_loss: 0.4761 - val_accuracy: 0.8209\n",
      "Epoch 329/500\n",
      "757/757 [==============================] - 0s 87us/sample - loss: 0.4663 - accuracy: 0.8402 - val_loss: 0.4802 - val_accuracy: 0.8134\n",
      "Epoch 330/500\n",
      "757/757 [==============================] - 0s 111us/sample - loss: 0.4634 - accuracy: 0.8468 - val_loss: 0.4756 - val_accuracy: 0.8284\n",
      "Epoch 331/500\n",
      "757/757 [==============================] - 0s 103us/sample - loss: 0.4689 - accuracy: 0.8468 - val_loss: 0.4805 - val_accuracy: 0.8209\n",
      "Epoch 332/500\n",
      "757/757 [==============================] - 0s 89us/sample - loss: 0.4686 - accuracy: 0.8375 - val_loss: 0.4762 - val_accuracy: 0.8209\n",
      "Epoch 333/500\n",
      "757/757 [==============================] - 0s 88us/sample - loss: 0.4602 - accuracy: 0.8481 - val_loss: 0.4769 - val_accuracy: 0.8134\n",
      "Epoch 334/500\n",
      "757/757 [==============================] - 0s 88us/sample - loss: 0.4664 - accuracy: 0.8494 - val_loss: 0.4759 - val_accuracy: 0.8209\n",
      "Epoch 335/500\n",
      "757/757 [==============================] - 0s 89us/sample - loss: 0.4709 - accuracy: 0.8362 - val_loss: 0.4792 - val_accuracy: 0.8134\n",
      "Epoch 336/500\n",
      "757/757 [==============================] - 0s 88us/sample - loss: 0.4738 - accuracy: 0.8388 - val_loss: 0.4816 - val_accuracy: 0.8209\n",
      "Epoch 337/500\n",
      "757/757 [==============================] - 0s 87us/sample - loss: 0.4600 - accuracy: 0.8441 - val_loss: 0.4794 - val_accuracy: 0.8284\n",
      "Epoch 338/500\n",
      "757/757 [==============================] - 0s 89us/sample - loss: 0.4738 - accuracy: 0.8402 - val_loss: 0.4773 - val_accuracy: 0.8209\n",
      "Epoch 339/500\n",
      "757/757 [==============================] - 0s 91us/sample - loss: 0.4699 - accuracy: 0.8296 - val_loss: 0.4788 - val_accuracy: 0.8284\n",
      "Epoch 340/500\n",
      "757/757 [==============================] - 0s 96us/sample - loss: 0.4746 - accuracy: 0.8388 - val_loss: 0.4777 - val_accuracy: 0.8433\n",
      "Epoch 341/500\n",
      "757/757 [==============================] - 0s 88us/sample - loss: 0.4658 - accuracy: 0.8454 - val_loss: 0.4778 - val_accuracy: 0.8284\n",
      "Epoch 342/500\n",
      "757/757 [==============================] - 0s 98us/sample - loss: 0.4668 - accuracy: 0.8520 - val_loss: 0.4754 - val_accuracy: 0.8209\n",
      "Epoch 343/500\n",
      "757/757 [==============================] - 0s 88us/sample - loss: 0.4667 - accuracy: 0.8402 - val_loss: 0.4794 - val_accuracy: 0.8209\n",
      "Epoch 344/500\n",
      "757/757 [==============================] - 0s 88us/sample - loss: 0.4684 - accuracy: 0.8468 - val_loss: 0.4825 - val_accuracy: 0.8134\n",
      "Epoch 345/500\n",
      "757/757 [==============================] - 0s 89us/sample - loss: 0.4671 - accuracy: 0.8441 - val_loss: 0.4755 - val_accuracy: 0.8209\n",
      "Epoch 346/500\n",
      "757/757 [==============================] - 0s 88us/sample - loss: 0.4671 - accuracy: 0.8362 - val_loss: 0.4789 - val_accuracy: 0.8209\n",
      "Epoch 347/500\n",
      "757/757 [==============================] - 0s 87us/sample - loss: 0.4815 - accuracy: 0.8336 - val_loss: 0.4750 - val_accuracy: 0.8209\n",
      "Epoch 348/500\n",
      "757/757 [==============================] - 0s 88us/sample - loss: 0.4553 - accuracy: 0.8494 - val_loss: 0.4772 - val_accuracy: 0.8209\n",
      "Epoch 349/500\n",
      "757/757 [==============================] - 0s 86us/sample - loss: 0.4629 - accuracy: 0.8375 - val_loss: 0.4773 - val_accuracy: 0.8209\n",
      "Epoch 350/500\n",
      "757/757 [==============================] - 0s 103us/sample - loss: 0.4735 - accuracy: 0.8349 - val_loss: 0.4775 - val_accuracy: 0.8134\n",
      "Epoch 351/500\n",
      "757/757 [==============================] - 0s 108us/sample - loss: 0.4660 - accuracy: 0.8415 - val_loss: 0.4786 - val_accuracy: 0.8209\n",
      "Epoch 352/500\n",
      "757/757 [==============================] - 0s 102us/sample - loss: 0.4758 - accuracy: 0.8336 - val_loss: 0.4849 - val_accuracy: 0.8134\n",
      "Epoch 353/500\n",
      "757/757 [==============================] - 0s 90us/sample - loss: 0.4684 - accuracy: 0.8375 - val_loss: 0.4766 - val_accuracy: 0.8209\n",
      "Epoch 354/500\n",
      "757/757 [==============================] - 0s 112us/sample - loss: 0.4684 - accuracy: 0.8362 - val_loss: 0.4789 - val_accuracy: 0.8209\n",
      "Epoch 355/500\n",
      "757/757 [==============================] - 0s 95us/sample - loss: 0.4587 - accuracy: 0.8375 - val_loss: 0.4797 - val_accuracy: 0.8284\n",
      "Epoch 356/500\n",
      "757/757 [==============================] - 0s 97us/sample - loss: 0.4661 - accuracy: 0.8402 - val_loss: 0.4773 - val_accuracy: 0.8209\n",
      "Epoch 357/500\n",
      "757/757 [==============================] - 0s 87us/sample - loss: 0.4647 - accuracy: 0.8441 - val_loss: 0.4810 - val_accuracy: 0.8060\n",
      "Epoch 358/500\n",
      "757/757 [==============================] - 0s 88us/sample - loss: 0.4695 - accuracy: 0.8349 - val_loss: 0.4769 - val_accuracy: 0.8209\n",
      "Epoch 359/500\n",
      "757/757 [==============================] - 0s 87us/sample - loss: 0.4713 - accuracy: 0.8428 - val_loss: 0.4759 - val_accuracy: 0.8209\n",
      "Epoch 360/500\n",
      "757/757 [==============================] - 0s 89us/sample - loss: 0.4667 - accuracy: 0.8388 - val_loss: 0.4775 - val_accuracy: 0.8284\n",
      "Epoch 361/500\n",
      "757/757 [==============================] - 0s 87us/sample - loss: 0.4619 - accuracy: 0.8507 - val_loss: 0.4771 - val_accuracy: 0.8284\n",
      "Epoch 362/500\n",
      "757/757 [==============================] - 0s 87us/sample - loss: 0.4561 - accuracy: 0.8336 - val_loss: 0.4782 - val_accuracy: 0.8209\n",
      "Epoch 363/500\n",
      "757/757 [==============================] - 0s 89us/sample - loss: 0.4640 - accuracy: 0.8494 - val_loss: 0.4824 - val_accuracy: 0.8134\n",
      "Epoch 364/500\n",
      "757/757 [==============================] - 0s 88us/sample - loss: 0.4603 - accuracy: 0.8534 - val_loss: 0.4773 - val_accuracy: 0.8284\n",
      "Epoch 365/500\n",
      "757/757 [==============================] - 0s 87us/sample - loss: 0.4691 - accuracy: 0.8309 - val_loss: 0.4797 - val_accuracy: 0.8209\n",
      "Epoch 366/500\n",
      "757/757 [==============================] - 0s 87us/sample - loss: 0.4603 - accuracy: 0.8494 - val_loss: 0.4782 - val_accuracy: 0.8209\n",
      "Epoch 367/500\n",
      "757/757 [==============================] - 0s 87us/sample - loss: 0.4660 - accuracy: 0.8428 - val_loss: 0.4790 - val_accuracy: 0.8060\n",
      "Epoch 368/500\n",
      "757/757 [==============================] - 0s 93us/sample - loss: 0.4620 - accuracy: 0.8468 - val_loss: 0.4752 - val_accuracy: 0.8433\n",
      "Epoch 369/500\n",
      "757/757 [==============================] - 0s 94us/sample - loss: 0.4668 - accuracy: 0.8362 - val_loss: 0.4795 - val_accuracy: 0.8209\n",
      "Epoch 370/500\n",
      "757/757 [==============================] - 0s 92us/sample - loss: 0.4682 - accuracy: 0.8520 - val_loss: 0.4800 - val_accuracy: 0.8209\n",
      "Epoch 371/500\n",
      "757/757 [==============================] - 0s 88us/sample - loss: 0.4688 - accuracy: 0.8428 - val_loss: 0.4784 - val_accuracy: 0.8284\n",
      "Epoch 372/500\n",
      "757/757 [==============================] - 0s 89us/sample - loss: 0.4614 - accuracy: 0.8388 - val_loss: 0.4785 - val_accuracy: 0.8209\n",
      "Epoch 373/500\n",
      "757/757 [==============================] - 0s 88us/sample - loss: 0.4714 - accuracy: 0.8362 - val_loss: 0.4779 - val_accuracy: 0.8284\n",
      "Epoch 374/500\n",
      "757/757 [==============================] - 0s 90us/sample - loss: 0.4613 - accuracy: 0.8336 - val_loss: 0.4774 - val_accuracy: 0.8209\n",
      "Epoch 375/500\n",
      "757/757 [==============================] - 0s 88us/sample - loss: 0.4686 - accuracy: 0.8507 - val_loss: 0.4735 - val_accuracy: 0.8284\n",
      "Epoch 376/500\n",
      "757/757 [==============================] - 0s 90us/sample - loss: 0.4608 - accuracy: 0.8402 - val_loss: 0.4754 - val_accuracy: 0.8209\n",
      "Epoch 377/500\n",
      "757/757 [==============================] - 0s 97us/sample - loss: 0.4746 - accuracy: 0.8362 - val_loss: 0.4786 - val_accuracy: 0.8060\n",
      "Epoch 378/500\n",
      "757/757 [==============================] - 0s 87us/sample - loss: 0.4724 - accuracy: 0.8296 - val_loss: 0.4779 - val_accuracy: 0.8284\n",
      "Epoch 379/500\n",
      "757/757 [==============================] - 0s 87us/sample - loss: 0.4611 - accuracy: 0.8362 - val_loss: 0.4805 - val_accuracy: 0.8134\n",
      "Epoch 380/500\n",
      "757/757 [==============================] - 0s 87us/sample - loss: 0.4701 - accuracy: 0.8349 - val_loss: 0.4751 - val_accuracy: 0.8209\n",
      "Epoch 381/500\n",
      "757/757 [==============================] - 0s 87us/sample - loss: 0.4677 - accuracy: 0.8388 - val_loss: 0.4778 - val_accuracy: 0.8209\n",
      "Epoch 382/500\n",
      "757/757 [==============================] - 0s 93us/sample - loss: 0.4661 - accuracy: 0.8441 - val_loss: 0.4791 - val_accuracy: 0.8209\n",
      "Epoch 383/500\n",
      "757/757 [==============================] - 0s 88us/sample - loss: 0.4595 - accuracy: 0.8349 - val_loss: 0.4776 - val_accuracy: 0.8209\n",
      "Epoch 384/500\n",
      "757/757 [==============================] - 0s 87us/sample - loss: 0.4600 - accuracy: 0.8309 - val_loss: 0.4750 - val_accuracy: 0.8209\n",
      "Epoch 385/500\n",
      "757/757 [==============================] - 0s 89us/sample - loss: 0.4591 - accuracy: 0.8402 - val_loss: 0.4741 - val_accuracy: 0.8284\n",
      "Epoch 386/500\n",
      "757/757 [==============================] - 0s 88us/sample - loss: 0.4583 - accuracy: 0.8468 - val_loss: 0.4782 - val_accuracy: 0.8209\n",
      "Epoch 387/500\n",
      "757/757 [==============================] - 0s 89us/sample - loss: 0.4603 - accuracy: 0.8534 - val_loss: 0.4757 - val_accuracy: 0.8209\n",
      "Epoch 388/500\n",
      "757/757 [==============================] - 0s 86us/sample - loss: 0.4635 - accuracy: 0.8441 - val_loss: 0.4763 - val_accuracy: 0.8209\n",
      "Epoch 389/500\n",
      "757/757 [==============================] - 0s 87us/sample - loss: 0.4736 - accuracy: 0.8415 - val_loss: 0.4796 - val_accuracy: 0.8209\n",
      "Epoch 390/500\n",
      "757/757 [==============================] - 0s 89us/sample - loss: 0.4647 - accuracy: 0.8507 - val_loss: 0.4783 - val_accuracy: 0.8134\n",
      "Epoch 391/500\n",
      "757/757 [==============================] - 0s 88us/sample - loss: 0.4651 - accuracy: 0.8349 - val_loss: 0.4824 - val_accuracy: 0.8134\n",
      "Epoch 392/500\n",
      "757/757 [==============================] - 0s 88us/sample - loss: 0.4682 - accuracy: 0.8468 - val_loss: 0.4780 - val_accuracy: 0.8358\n",
      "Epoch 393/500\n",
      "757/757 [==============================] - 0s 86us/sample - loss: 0.4692 - accuracy: 0.8415 - val_loss: 0.4789 - val_accuracy: 0.8209\n",
      "Epoch 394/500\n",
      "757/757 [==============================] - 0s 85us/sample - loss: 0.4601 - accuracy: 0.8454 - val_loss: 0.4814 - val_accuracy: 0.8358\n",
      "Epoch 395/500\n",
      "757/757 [==============================] - 0s 88us/sample - loss: 0.4653 - accuracy: 0.8441 - val_loss: 0.4790 - val_accuracy: 0.8209\n",
      "Epoch 396/500\n",
      "757/757 [==============================] - 0s 87us/sample - loss: 0.4675 - accuracy: 0.8415 - val_loss: 0.4752 - val_accuracy: 0.8284\n",
      "Epoch 397/500\n",
      "757/757 [==============================] - 0s 92us/sample - loss: 0.4642 - accuracy: 0.8441 - val_loss: 0.4807 - val_accuracy: 0.8060\n",
      "Epoch 398/500\n",
      "757/757 [==============================] - 0s 88us/sample - loss: 0.4654 - accuracy: 0.8441 - val_loss: 0.4798 - val_accuracy: 0.8284\n",
      "Epoch 399/500\n",
      "757/757 [==============================] - 0s 86us/sample - loss: 0.4670 - accuracy: 0.8507 - val_loss: 0.4850 - val_accuracy: 0.8209\n",
      "Epoch 400/500\n",
      "757/757 [==============================] - 0s 87us/sample - loss: 0.4667 - accuracy: 0.8362 - val_loss: 0.4830 - val_accuracy: 0.8134\n",
      "Epoch 401/500\n",
      "757/757 [==============================] - 0s 88us/sample - loss: 0.4768 - accuracy: 0.8269 - val_loss: 0.4813 - val_accuracy: 0.8209\n",
      "Epoch 402/500\n",
      "757/757 [==============================] - 0s 87us/sample - loss: 0.4681 - accuracy: 0.8428 - val_loss: 0.4815 - val_accuracy: 0.8134\n",
      "Epoch 403/500\n",
      "757/757 [==============================] - 0s 88us/sample - loss: 0.4584 - accuracy: 0.8454 - val_loss: 0.4764 - val_accuracy: 0.8433\n",
      "Epoch 404/500\n",
      "757/757 [==============================] - 0s 87us/sample - loss: 0.4573 - accuracy: 0.8494 - val_loss: 0.4765 - val_accuracy: 0.8209\n",
      "Epoch 405/500\n",
      "757/757 [==============================] - 0s 90us/sample - loss: 0.4715 - accuracy: 0.8296 - val_loss: 0.4806 - val_accuracy: 0.8134\n",
      "Epoch 406/500\n",
      "757/757 [==============================] - 0s 87us/sample - loss: 0.4794 - accuracy: 0.8283 - val_loss: 0.4774 - val_accuracy: 0.8433\n",
      "Epoch 407/500\n",
      "757/757 [==============================] - 0s 87us/sample - loss: 0.4646 - accuracy: 0.8415 - val_loss: 0.4812 - val_accuracy: 0.8134\n",
      "Epoch 408/500\n",
      "757/757 [==============================] - 0s 88us/sample - loss: 0.4598 - accuracy: 0.8481 - val_loss: 0.4785 - val_accuracy: 0.8134\n",
      "Epoch 409/500\n",
      "757/757 [==============================] - 0s 87us/sample - loss: 0.4746 - accuracy: 0.8468 - val_loss: 0.4771 - val_accuracy: 0.8358\n",
      "Epoch 410/500\n",
      "757/757 [==============================] - 0s 88us/sample - loss: 0.4673 - accuracy: 0.8441 - val_loss: 0.4757 - val_accuracy: 0.8358\n",
      "Epoch 411/500\n",
      "757/757 [==============================] - 0s 89us/sample - loss: 0.4616 - accuracy: 0.8362 - val_loss: 0.4879 - val_accuracy: 0.8060\n",
      "Epoch 412/500\n",
      "757/757 [==============================] - 0s 89us/sample - loss: 0.4647 - accuracy: 0.8520 - val_loss: 0.4762 - val_accuracy: 0.8209\n",
      "Epoch 413/500\n",
      "757/757 [==============================] - 0s 89us/sample - loss: 0.4654 - accuracy: 0.8349 - val_loss: 0.4780 - val_accuracy: 0.8284\n",
      "Epoch 414/500\n",
      "757/757 [==============================] - 0s 88us/sample - loss: 0.4756 - accuracy: 0.8428 - val_loss: 0.4778 - val_accuracy: 0.8060\n",
      "Epoch 415/500\n",
      "757/757 [==============================] - 0s 89us/sample - loss: 0.4569 - accuracy: 0.8494 - val_loss: 0.4771 - val_accuracy: 0.8209\n",
      "Epoch 416/500\n",
      "757/757 [==============================] - 0s 87us/sample - loss: 0.4644 - accuracy: 0.8441 - val_loss: 0.4774 - val_accuracy: 0.8134\n",
      "Epoch 417/500\n",
      "757/757 [==============================] - 0s 88us/sample - loss: 0.4637 - accuracy: 0.8349 - val_loss: 0.4825 - val_accuracy: 0.8209\n",
      "Epoch 418/500\n",
      "757/757 [==============================] - 0s 88us/sample - loss: 0.4659 - accuracy: 0.8388 - val_loss: 0.4794 - val_accuracy: 0.8134\n",
      "Epoch 419/500\n",
      "757/757 [==============================] - 0s 88us/sample - loss: 0.4617 - accuracy: 0.8468 - val_loss: 0.4810 - val_accuracy: 0.8209\n",
      "Epoch 420/500\n",
      "757/757 [==============================] - 0s 87us/sample - loss: 0.4710 - accuracy: 0.8454 - val_loss: 0.4833 - val_accuracy: 0.8134\n",
      "Epoch 421/500\n",
      "757/757 [==============================] - 0s 89us/sample - loss: 0.4732 - accuracy: 0.8349 - val_loss: 0.4827 - val_accuracy: 0.8134\n",
      "Epoch 422/500\n",
      "757/757 [==============================] - 0s 89us/sample - loss: 0.4631 - accuracy: 0.8415 - val_loss: 0.4778 - val_accuracy: 0.8433\n",
      "Epoch 423/500\n",
      "757/757 [==============================] - 0s 87us/sample - loss: 0.4529 - accuracy: 0.8534 - val_loss: 0.4796 - val_accuracy: 0.8284\n",
      "Epoch 424/500\n",
      "757/757 [==============================] - 0s 87us/sample - loss: 0.4728 - accuracy: 0.8428 - val_loss: 0.4777 - val_accuracy: 0.8209\n",
      "Epoch 425/500\n",
      "757/757 [==============================] - 0s 88us/sample - loss: 0.4600 - accuracy: 0.8415 - val_loss: 0.4787 - val_accuracy: 0.8209\n",
      "Epoch 426/500\n",
      "757/757 [==============================] - 0s 88us/sample - loss: 0.4670 - accuracy: 0.8349 - val_loss: 0.4790 - val_accuracy: 0.8209\n",
      "Epoch 427/500\n",
      "757/757 [==============================] - 0s 89us/sample - loss: 0.4579 - accuracy: 0.8613 - val_loss: 0.4787 - val_accuracy: 0.8284\n",
      "Epoch 428/500\n",
      "757/757 [==============================] - 0s 92us/sample - loss: 0.4760 - accuracy: 0.8362 - val_loss: 0.4799 - val_accuracy: 0.8060\n",
      "Epoch 429/500\n",
      "757/757 [==============================] - 0s 90us/sample - loss: 0.4637 - accuracy: 0.8441 - val_loss: 0.4752 - val_accuracy: 0.8209\n",
      "Epoch 430/500\n",
      "757/757 [==============================] - 0s 87us/sample - loss: 0.4626 - accuracy: 0.8428 - val_loss: 0.4777 - val_accuracy: 0.8209\n",
      "Epoch 431/500\n",
      "757/757 [==============================] - 0s 86us/sample - loss: 0.4594 - accuracy: 0.8520 - val_loss: 0.4803 - val_accuracy: 0.8209\n",
      "Epoch 432/500\n",
      "757/757 [==============================] - 0s 87us/sample - loss: 0.4614 - accuracy: 0.8520 - val_loss: 0.4779 - val_accuracy: 0.8134\n",
      "Epoch 433/500\n",
      "757/757 [==============================] - 0s 89us/sample - loss: 0.4596 - accuracy: 0.8494 - val_loss: 0.4791 - val_accuracy: 0.8209\n",
      "Epoch 434/500\n",
      "757/757 [==============================] - 0s 89us/sample - loss: 0.4568 - accuracy: 0.8613 - val_loss: 0.4768 - val_accuracy: 0.8209\n",
      "Epoch 435/500\n",
      "757/757 [==============================] - 0s 89us/sample - loss: 0.4445 - accuracy: 0.8639 - val_loss: 0.4780 - val_accuracy: 0.8134\n",
      "Epoch 436/500\n",
      "757/757 [==============================] - 0s 88us/sample - loss: 0.4676 - accuracy: 0.8362 - val_loss: 0.4813 - val_accuracy: 0.8134\n",
      "Epoch 437/500\n",
      "757/757 [==============================] - 0s 86us/sample - loss: 0.4595 - accuracy: 0.8507 - val_loss: 0.4780 - val_accuracy: 0.8209\n",
      "Epoch 438/500\n",
      "757/757 [==============================] - 0s 86us/sample - loss: 0.4548 - accuracy: 0.8349 - val_loss: 0.4773 - val_accuracy: 0.8209\n",
      "Epoch 439/500\n",
      "757/757 [==============================] - 0s 92us/sample - loss: 0.4581 - accuracy: 0.8375 - val_loss: 0.4801 - val_accuracy: 0.8209\n",
      "Epoch 440/500\n",
      "757/757 [==============================] - 0s 103us/sample - loss: 0.4677 - accuracy: 0.8428 - val_loss: 0.4769 - val_accuracy: 0.8060\n",
      "Epoch 441/500\n",
      "757/757 [==============================] - 0s 89us/sample - loss: 0.4691 - accuracy: 0.8349 - val_loss: 0.4748 - val_accuracy: 0.8209\n",
      "Epoch 442/500\n",
      "757/757 [==============================] - 0s 88us/sample - loss: 0.4680 - accuracy: 0.8269 - val_loss: 0.4777 - val_accuracy: 0.8284\n",
      "Epoch 443/500\n",
      "757/757 [==============================] - 0s 87us/sample - loss: 0.4603 - accuracy: 0.8520 - val_loss: 0.4805 - val_accuracy: 0.8060\n",
      "Epoch 444/500\n",
      "757/757 [==============================] - 0s 87us/sample - loss: 0.4627 - accuracy: 0.8402 - val_loss: 0.4760 - val_accuracy: 0.8134\n",
      "Epoch 445/500\n",
      "757/757 [==============================] - 0s 87us/sample - loss: 0.4572 - accuracy: 0.8415 - val_loss: 0.4750 - val_accuracy: 0.8284\n",
      "Epoch 446/500\n",
      "757/757 [==============================] - 0s 88us/sample - loss: 0.4623 - accuracy: 0.8441 - val_loss: 0.4710 - val_accuracy: 0.8284\n",
      "Epoch 447/500\n",
      "757/757 [==============================] - 0s 90us/sample - loss: 0.4567 - accuracy: 0.8454 - val_loss: 0.4776 - val_accuracy: 0.8134\n",
      "Epoch 448/500\n",
      "757/757 [==============================] - 0s 89us/sample - loss: 0.4683 - accuracy: 0.8362 - val_loss: 0.4745 - val_accuracy: 0.8284\n",
      "Epoch 449/500\n",
      "757/757 [==============================] - 0s 88us/sample - loss: 0.4605 - accuracy: 0.8454 - val_loss: 0.4769 - val_accuracy: 0.8209\n",
      "Epoch 450/500\n",
      "757/757 [==============================] - 0s 88us/sample - loss: 0.4730 - accuracy: 0.8494 - val_loss: 0.4781 - val_accuracy: 0.8284\n",
      "Epoch 451/500\n",
      "757/757 [==============================] - 0s 89us/sample - loss: 0.4650 - accuracy: 0.8454 - val_loss: 0.4847 - val_accuracy: 0.8134\n",
      "Epoch 452/500\n",
      "757/757 [==============================] - 0s 87us/sample - loss: 0.4569 - accuracy: 0.8441 - val_loss: 0.4786 - val_accuracy: 0.8209\n",
      "Epoch 453/500\n",
      "757/757 [==============================] - 0s 87us/sample - loss: 0.4643 - accuracy: 0.8388 - val_loss: 0.4766 - val_accuracy: 0.8134\n",
      "Epoch 454/500\n",
      "757/757 [==============================] - 0s 88us/sample - loss: 0.4635 - accuracy: 0.8468 - val_loss: 0.4768 - val_accuracy: 0.8134\n",
      "Epoch 455/500\n",
      "757/757 [==============================] - 0s 87us/sample - loss: 0.4610 - accuracy: 0.8441 - val_loss: 0.4756 - val_accuracy: 0.8209\n",
      "Epoch 456/500\n",
      "757/757 [==============================] - 0s 89us/sample - loss: 0.4600 - accuracy: 0.8468 - val_loss: 0.4758 - val_accuracy: 0.8209\n",
      "Epoch 457/500\n",
      "757/757 [==============================] - 0s 89us/sample - loss: 0.4801 - accuracy: 0.8349 - val_loss: 0.4764 - val_accuracy: 0.8284\n",
      "Epoch 458/500\n",
      "757/757 [==============================] - 0s 88us/sample - loss: 0.4641 - accuracy: 0.8507 - val_loss: 0.4736 - val_accuracy: 0.8209\n",
      "Epoch 459/500\n",
      "757/757 [==============================] - 0s 88us/sample - loss: 0.4566 - accuracy: 0.8468 - val_loss: 0.4755 - val_accuracy: 0.8209\n",
      "Epoch 460/500\n",
      "757/757 [==============================] - 0s 88us/sample - loss: 0.4658 - accuracy: 0.8428 - val_loss: 0.4798 - val_accuracy: 0.8134\n",
      "Epoch 461/500\n",
      "757/757 [==============================] - 0s 88us/sample - loss: 0.4669 - accuracy: 0.8507 - val_loss: 0.4792 - val_accuracy: 0.8284\n",
      "Epoch 462/500\n",
      "757/757 [==============================] - 0s 86us/sample - loss: 0.4648 - accuracy: 0.8349 - val_loss: 0.4771 - val_accuracy: 0.8209\n",
      "Epoch 463/500\n",
      "757/757 [==============================] - 0s 88us/sample - loss: 0.4636 - accuracy: 0.8388 - val_loss: 0.4754 - val_accuracy: 0.8209\n",
      "Epoch 464/500\n",
      "757/757 [==============================] - 0s 86us/sample - loss: 0.4544 - accuracy: 0.8481 - val_loss: 0.4807 - val_accuracy: 0.8134\n",
      "Epoch 465/500\n",
      "757/757 [==============================] - 0s 89us/sample - loss: 0.4588 - accuracy: 0.8428 - val_loss: 0.4753 - val_accuracy: 0.8358\n",
      "Epoch 466/500\n",
      "757/757 [==============================] - 0s 85us/sample - loss: 0.4529 - accuracy: 0.8547 - val_loss: 0.4773 - val_accuracy: 0.8284\n",
      "Epoch 467/500\n",
      "757/757 [==============================] - 0s 87us/sample - loss: 0.4714 - accuracy: 0.8441 - val_loss: 0.4752 - val_accuracy: 0.8284\n",
      "Epoch 468/500\n",
      "757/757 [==============================] - 0s 87us/sample - loss: 0.4640 - accuracy: 0.8415 - val_loss: 0.4778 - val_accuracy: 0.8134\n",
      "Epoch 469/500\n",
      "757/757 [==============================] - 0s 87us/sample - loss: 0.4652 - accuracy: 0.8428 - val_loss: 0.4792 - val_accuracy: 0.8060\n",
      "Epoch 470/500\n",
      "757/757 [==============================] - 0s 88us/sample - loss: 0.4724 - accuracy: 0.8415 - val_loss: 0.4822 - val_accuracy: 0.8134\n",
      "Epoch 471/500\n",
      "757/757 [==============================] - 0s 89us/sample - loss: 0.4652 - accuracy: 0.8296 - val_loss: 0.4826 - val_accuracy: 0.8134\n",
      "Epoch 472/500\n",
      "757/757 [==============================] - 0s 87us/sample - loss: 0.4640 - accuracy: 0.8415 - val_loss: 0.4783 - val_accuracy: 0.8060\n",
      "Epoch 473/500\n",
      "757/757 [==============================] - 0s 85us/sample - loss: 0.4508 - accuracy: 0.8375 - val_loss: 0.4794 - val_accuracy: 0.8134\n",
      "Epoch 474/500\n",
      "757/757 [==============================] - 0s 89us/sample - loss: 0.4488 - accuracy: 0.8520 - val_loss: 0.4770 - val_accuracy: 0.8209\n",
      "Epoch 475/500\n",
      "757/757 [==============================] - 0s 89us/sample - loss: 0.4617 - accuracy: 0.8349 - val_loss: 0.4775 - val_accuracy: 0.8134\n",
      "Epoch 476/500\n",
      "757/757 [==============================] - 0s 88us/sample - loss: 0.4622 - accuracy: 0.8481 - val_loss: 0.4755 - val_accuracy: 0.8134\n",
      "Epoch 477/500\n",
      "757/757 [==============================] - 0s 87us/sample - loss: 0.4512 - accuracy: 0.8481 - val_loss: 0.4811 - val_accuracy: 0.8134\n",
      "Epoch 478/500\n",
      "757/757 [==============================] - 0s 87us/sample - loss: 0.4604 - accuracy: 0.8454 - val_loss: 0.4737 - val_accuracy: 0.8284\n",
      "Epoch 479/500\n",
      "757/757 [==============================] - 0s 90us/sample - loss: 0.4563 - accuracy: 0.8454 - val_loss: 0.4754 - val_accuracy: 0.8134\n",
      "Epoch 480/500\n",
      "757/757 [==============================] - 0s 87us/sample - loss: 0.4660 - accuracy: 0.8322 - val_loss: 0.4743 - val_accuracy: 0.8209\n",
      "Epoch 481/500\n",
      "757/757 [==============================] - 0s 87us/sample - loss: 0.4683 - accuracy: 0.8362 - val_loss: 0.4725 - val_accuracy: 0.8209\n",
      "Epoch 482/500\n",
      "757/757 [==============================] - 0s 87us/sample - loss: 0.4624 - accuracy: 0.8428 - val_loss: 0.4743 - val_accuracy: 0.8209\n",
      "Epoch 483/500\n",
      "757/757 [==============================] - 0s 87us/sample - loss: 0.4647 - accuracy: 0.8322 - val_loss: 0.4737 - val_accuracy: 0.8209\n",
      "Epoch 484/500\n",
      "757/757 [==============================] - 0s 88us/sample - loss: 0.4573 - accuracy: 0.8375 - val_loss: 0.4735 - val_accuracy: 0.8209\n",
      "Epoch 485/500\n",
      "757/757 [==============================] - 0s 92us/sample - loss: 0.4557 - accuracy: 0.8534 - val_loss: 0.4756 - val_accuracy: 0.8209\n",
      "Epoch 486/500\n",
      "757/757 [==============================] - 0s 88us/sample - loss: 0.4606 - accuracy: 0.8454 - val_loss: 0.4794 - val_accuracy: 0.8060\n",
      "Epoch 487/500\n",
      "757/757 [==============================] - 0s 89us/sample - loss: 0.4592 - accuracy: 0.8507 - val_loss: 0.4744 - val_accuracy: 0.8209\n",
      "Epoch 488/500\n",
      "757/757 [==============================] - 0s 89us/sample - loss: 0.4574 - accuracy: 0.8441 - val_loss: 0.4759 - val_accuracy: 0.8209\n",
      "Epoch 489/500\n",
      "757/757 [==============================] - 0s 89us/sample - loss: 0.4686 - accuracy: 0.8283 - val_loss: 0.4763 - val_accuracy: 0.8134\n",
      "Epoch 490/500\n",
      "757/757 [==============================] - 0s 122us/sample - loss: 0.4585 - accuracy: 0.8428 - val_loss: 0.4764 - val_accuracy: 0.8209\n",
      "Epoch 491/500\n",
      "757/757 [==============================] - 0s 102us/sample - loss: 0.4590 - accuracy: 0.8507 - val_loss: 0.4726 - val_accuracy: 0.8284\n",
      "Epoch 492/500\n",
      "757/757 [==============================] - 0s 91us/sample - loss: 0.4602 - accuracy: 0.8534 - val_loss: 0.4743 - val_accuracy: 0.8060\n",
      "Epoch 493/500\n",
      "757/757 [==============================] - 0s 88us/sample - loss: 0.4621 - accuracy: 0.8402 - val_loss: 0.4765 - val_accuracy: 0.8284\n",
      "Epoch 494/500\n",
      "757/757 [==============================] - 0s 89us/sample - loss: 0.4643 - accuracy: 0.8428 - val_loss: 0.4763 - val_accuracy: 0.8134\n",
      "Epoch 495/500\n",
      "757/757 [==============================] - 0s 87us/sample - loss: 0.4573 - accuracy: 0.8468 - val_loss: 0.4772 - val_accuracy: 0.8060\n",
      "Epoch 496/500\n",
      "757/757 [==============================] - 0s 87us/sample - loss: 0.4567 - accuracy: 0.8402 - val_loss: 0.4750 - val_accuracy: 0.8134\n",
      "Epoch 497/500\n",
      "757/757 [==============================] - 0s 88us/sample - loss: 0.4484 - accuracy: 0.8507 - val_loss: 0.4774 - val_accuracy: 0.8358\n",
      "Epoch 498/500\n",
      "757/757 [==============================] - 0s 86us/sample - loss: 0.4648 - accuracy: 0.8454 - val_loss: 0.4754 - val_accuracy: 0.8209\n",
      "Epoch 499/500\n",
      "757/757 [==============================] - 0s 96us/sample - loss: 0.4603 - accuracy: 0.8560 - val_loss: 0.4757 - val_accuracy: 0.8134\n",
      "Epoch 500/500\n",
      "757/757 [==============================] - 0s 86us/sample - loss: 0.4567 - accuracy: 0.8441 - val_loss: 0.4753 - val_accuracy: 0.8134\n"
     ]
    },
    {
     "data": {
      "text/plain": [
       "<tensorflow.python.keras.callbacks.History at 0x7fc8ec0d8ed0>"
      ]
     },
     "execution_count": 13,
     "metadata": {},
     "output_type": "execute_result"
    }
   ],
   "source": [
    "model.fit(train_X, train_Y, epochs=500, batch_size=32, validation_data=(dev_X, dev_Y))"
   ]
  },
  {
   "cell_type": "code",
   "execution_count": 14,
   "metadata": {},
   "outputs": [
    {
     "name": "stdout",
     "output_type": "stream",
     "text": [
      "757/757 - 0s - loss: 0.4416 - accuracy: 0.8534\n",
      "\n",
      "Train accuracy: 0.8533686\n"
     ]
    }
   ],
   "source": [
    "_, accuracy = model.evaluate(train_X, train_Y, verbose=2)\n",
    "\n",
    "print('\\nTrain accuracy:', accuracy)"
   ]
  },
  {
   "cell_type": "code",
   "execution_count": 15,
   "metadata": {},
   "outputs": [
    {
     "name": "stdout",
     "output_type": "stream",
     "text": [
      "134/134 - 0s - loss: 0.4753 - accuracy: 0.8134\n",
      "\n",
      "Dev accuracy: 0.8134328\n"
     ]
    }
   ],
   "source": [
    "_, accuracy = model.evaluate(dev_X, dev_Y, verbose=2)\n",
    "\n",
    "print('\\nDev accuracy:', accuracy)"
   ]
  },
  {
   "cell_type": "code",
   "execution_count": 16,
   "metadata": {},
   "outputs": [],
   "source": [
    "from kerastuner import HyperModel\n",
    "\n",
    "class TitanicHyperModel(HyperModel):\n",
    "    def __init__(self, input_size):\n",
    "        self.input_shape = (input_size, )\n",
    "\n",
    "    def build(self, hp):\n",
    "        model = Sequential([\n",
    "            Dense(\n",
    "                units=hp.Int(\n",
    "                    \"dense_units_1\",\n",
    "                    min_value=64,\n",
    "                    max_value=128,\n",
    "                    step=64,\n",
    "                    default=64\n",
    "                ),\n",
    "                input_shape=self.input_shape,\n",
    "                activation=hp.Choice(\n",
    "                    'dense_activation_1',\n",
    "                    values=['relu', 'tanh', 'sigmoid'],\n",
    "                    default='relu'\n",
    "                )\n",
    "            ),\n",
    "            Dropout(rate=hp.Float(\n",
    "                'dropout_1',\n",
    "                min_value=0.0,\n",
    "                max_value=0.5,\n",
    "                default=0.25,\n",
    "                step=0.05,\n",
    "            )),\n",
    "            Dense(\n",
    "                units=hp.Int(\n",
    "                    \"dense_units_2\",\n",
    "                    min_value=16,\n",
    "                    max_value=64,\n",
    "                    step=16,\n",
    "                    default=32\n",
    "                ),\n",
    "                activation=hp.Choice(\n",
    "                    'dense_activation_2',\n",
    "                    values=['relu', 'tanh', 'sigmoid'],\n",
    "                    default='relu'\n",
    "                )\n",
    "            ),\n",
    "            Dropout(rate=hp.Float(\n",
    "                'dropout_2',\n",
    "                min_value=0.0,\n",
    "                max_value=0.5,\n",
    "                default=0.25,\n",
    "                step=0.05,\n",
    "            )),\n",
    "            Dense(\n",
    "                units=hp.Int(\n",
    "                    \"dense_units_3\",\n",
    "                    min_value=4,\n",
    "                    max_value=32,\n",
    "                    step=4,\n",
    "                    default=16\n",
    "                ),\n",
    "                activation=hp.Choice(\n",
    "                    'dense_activation_3',\n",
    "                    values=['relu', 'tanh', 'sigmoid'],\n",
    "                    default='relu'\n",
    "                )\n",
    "            ),\n",
    "            Dropout(rate=hp.Float(\n",
    "                'dropout_3',\n",
    "                min_value=0.0,\n",
    "                max_value=0.5,\n",
    "                default=0.25,\n",
    "                step=0.05,\n",
    "            )),\n",
    "            Dense(\n",
    "                units=hp.Int(\n",
    "                    \"dense_units_4\",\n",
    "                    min_value=4,\n",
    "                    max_value=16,\n",
    "                    step=2,\n",
    "                    default=8\n",
    "                ),\n",
    "                activation=hp.Choice(\n",
    "                    'dense_activation_4',\n",
    "                    values=['relu', 'tanh', 'sigmoid'],\n",
    "                    default='relu'\n",
    "                )\n",
    "            ),\n",
    "            Dropout(rate=hp.Float(\n",
    "                'dropout_4',\n",
    "                min_value=0.0,\n",
    "                max_value=0.5,\n",
    "                default=0.25,\n",
    "                step=0.05,\n",
    "            )),\n",
    "            Dense(1, activation=\"sigmoid\")\n",
    "        ])\n",
    "        \n",
    "        model.compile(\n",
    "            optimizer=keras.optimizers.Adam(\n",
    "                hp.Float(\n",
    "                    'learning_rate',\n",
    "                    min_value=1e-4,\n",
    "                    max_value=1e-2,\n",
    "                    sampling='LOG',\n",
    "                    default=1e-3\n",
    "                )\n",
    "            ),\n",
    "            metrics=[\"accuracy\"],\n",
    "            loss=\"binary_crossentropy\",\n",
    "        )\n",
    "\n",
    "        return model\n",
    "\n",
    "hypermodel = TitanicHyperModel(input_size=train_X.shape[1])"
   ]
  },
  {
   "cell_type": "code",
   "execution_count": 17,
   "metadata": {},
   "outputs": [],
   "source": [
    "SEED = 42\n",
    "MAX_TRIALS = 200\n",
    "EXECUTION_PER_TRIAL = 2\n",
    "N_EPOCH_SEARCH = 500"
   ]
  },
  {
   "cell_type": "code",
   "execution_count": 18,
   "metadata": {},
   "outputs": [],
   "source": [
    "from kerastuner.tuners import RandomSearch\n",
    "\n",
    "tuner = RandomSearch(\n",
    "    hypermodel,\n",
    "    objective=\"val_accuracy\",\n",
    "    seed=SEED,\n",
    "    max_trials=MAX_TRIALS,\n",
    "    executions_per_trial=EXECUTION_PER_TRIAL,\n",
    "    directory='random_search_1',\n",
    "    project_name='titanic'\n",
    ")"
   ]
  },
  {
   "cell_type": "code",
   "execution_count": 19,
   "metadata": {},
   "outputs": [
    {
     "data": {
      "text/html": [
       "<span style=\"color:#4527A0\"><h1 style=\"font-size:18px\">Search space summary</h1></span>"
      ],
      "text/plain": [
       "<IPython.core.display.HTML object>"
      ]
     },
     "metadata": {},
     "output_type": "display_data"
    },
    {
     "data": {
      "text/html": [
       "<span style=\"color:cyan\"> |-Default search space size: 13</span>"
      ],
      "text/plain": [
       "<IPython.core.display.HTML object>"
      ]
     },
     "metadata": {},
     "output_type": "display_data"
    },
    {
     "data": {
      "text/html": [
       "<span style=\"color:#7E57C2\"><h2 style=\"font-size:16px\">dense_units_1 (Int)</h2></span>"
      ],
      "text/plain": [
       "<IPython.core.display.HTML object>"
      ]
     },
     "metadata": {},
     "output_type": "display_data"
    },
    {
     "data": {
      "text/html": [
       "<span style=\"color:cyan\"> |-default: 64</span>"
      ],
      "text/plain": [
       "<IPython.core.display.HTML object>"
      ]
     },
     "metadata": {},
     "output_type": "display_data"
    },
    {
     "data": {
      "text/html": [
       "<span style=\"color:blue\"> |-max_value: 128</span>"
      ],
      "text/plain": [
       "<IPython.core.display.HTML object>"
      ]
     },
     "metadata": {},
     "output_type": "display_data"
    },
    {
     "data": {
      "text/html": [
       "<span style=\"color:cyan\"> |-min_value: 64</span>"
      ],
      "text/plain": [
       "<IPython.core.display.HTML object>"
      ]
     },
     "metadata": {},
     "output_type": "display_data"
    },
    {
     "data": {
      "text/html": [
       "<span style=\"color:blue\"> |-sampling: None</span>"
      ],
      "text/plain": [
       "<IPython.core.display.HTML object>"
      ]
     },
     "metadata": {},
     "output_type": "display_data"
    },
    {
     "data": {
      "text/html": [
       "<span style=\"color:cyan\"> |-step: 64</span>"
      ],
      "text/plain": [
       "<IPython.core.display.HTML object>"
      ]
     },
     "metadata": {},
     "output_type": "display_data"
    },
    {
     "data": {
      "text/html": [
       "<span style=\"color:#7E57C2\"><h2 style=\"font-size:16px\">dense_activation_1 (Choice)</h2></span>"
      ],
      "text/plain": [
       "<IPython.core.display.HTML object>"
      ]
     },
     "metadata": {},
     "output_type": "display_data"
    },
    {
     "data": {
      "text/html": [
       "<span style=\"color:cyan\"> |-default: relu</span>"
      ],
      "text/plain": [
       "<IPython.core.display.HTML object>"
      ]
     },
     "metadata": {},
     "output_type": "display_data"
    },
    {
     "data": {
      "text/html": [
       "<span style=\"color:blue\"> |-ordered: False</span>"
      ],
      "text/plain": [
       "<IPython.core.display.HTML object>"
      ]
     },
     "metadata": {},
     "output_type": "display_data"
    },
    {
     "data": {
      "text/html": [
       "<span style=\"color:cyan\"> |-values: ['relu', 'tanh', 'sigmoid']</span>"
      ],
      "text/plain": [
       "<IPython.core.display.HTML object>"
      ]
     },
     "metadata": {},
     "output_type": "display_data"
    },
    {
     "data": {
      "text/html": [
       "<span style=\"color:#7E57C2\"><h2 style=\"font-size:16px\">dropout_1 (Float)</h2></span>"
      ],
      "text/plain": [
       "<IPython.core.display.HTML object>"
      ]
     },
     "metadata": {},
     "output_type": "display_data"
    },
    {
     "data": {
      "text/html": [
       "<span style=\"color:cyan\"> |-default: 0.25</span>"
      ],
      "text/plain": [
       "<IPython.core.display.HTML object>"
      ]
     },
     "metadata": {},
     "output_type": "display_data"
    },
    {
     "data": {
      "text/html": [
       "<span style=\"color:blue\"> |-max_value: 0.5</span>"
      ],
      "text/plain": [
       "<IPython.core.display.HTML object>"
      ]
     },
     "metadata": {},
     "output_type": "display_data"
    },
    {
     "data": {
      "text/html": [
       "<span style=\"color:cyan\"> |-min_value: 0.0</span>"
      ],
      "text/plain": [
       "<IPython.core.display.HTML object>"
      ]
     },
     "metadata": {},
     "output_type": "display_data"
    },
    {
     "data": {
      "text/html": [
       "<span style=\"color:blue\"> |-sampling: None</span>"
      ],
      "text/plain": [
       "<IPython.core.display.HTML object>"
      ]
     },
     "metadata": {},
     "output_type": "display_data"
    },
    {
     "data": {
      "text/html": [
       "<span style=\"color:cyan\"> |-step: 0.05</span>"
      ],
      "text/plain": [
       "<IPython.core.display.HTML object>"
      ]
     },
     "metadata": {},
     "output_type": "display_data"
    },
    {
     "data": {
      "text/html": [
       "<span style=\"color:#7E57C2\"><h2 style=\"font-size:16px\">dense_units_2 (Int)</h2></span>"
      ],
      "text/plain": [
       "<IPython.core.display.HTML object>"
      ]
     },
     "metadata": {},
     "output_type": "display_data"
    },
    {
     "data": {
      "text/html": [
       "<span style=\"color:cyan\"> |-default: 32</span>"
      ],
      "text/plain": [
       "<IPython.core.display.HTML object>"
      ]
     },
     "metadata": {},
     "output_type": "display_data"
    },
    {
     "data": {
      "text/html": [
       "<span style=\"color:blue\"> |-max_value: 64</span>"
      ],
      "text/plain": [
       "<IPython.core.display.HTML object>"
      ]
     },
     "metadata": {},
     "output_type": "display_data"
    },
    {
     "data": {
      "text/html": [
       "<span style=\"color:cyan\"> |-min_value: 16</span>"
      ],
      "text/plain": [
       "<IPython.core.display.HTML object>"
      ]
     },
     "metadata": {},
     "output_type": "display_data"
    },
    {
     "data": {
      "text/html": [
       "<span style=\"color:blue\"> |-sampling: None</span>"
      ],
      "text/plain": [
       "<IPython.core.display.HTML object>"
      ]
     },
     "metadata": {},
     "output_type": "display_data"
    },
    {
     "data": {
      "text/html": [
       "<span style=\"color:cyan\"> |-step: 16</span>"
      ],
      "text/plain": [
       "<IPython.core.display.HTML object>"
      ]
     },
     "metadata": {},
     "output_type": "display_data"
    },
    {
     "data": {
      "text/html": [
       "<span style=\"color:#7E57C2\"><h2 style=\"font-size:16px\">dense_activation_2 (Choice)</h2></span>"
      ],
      "text/plain": [
       "<IPython.core.display.HTML object>"
      ]
     },
     "metadata": {},
     "output_type": "display_data"
    },
    {
     "data": {
      "text/html": [
       "<span style=\"color:cyan\"> |-default: relu</span>"
      ],
      "text/plain": [
       "<IPython.core.display.HTML object>"
      ]
     },
     "metadata": {},
     "output_type": "display_data"
    },
    {
     "data": {
      "text/html": [
       "<span style=\"color:blue\"> |-ordered: False</span>"
      ],
      "text/plain": [
       "<IPython.core.display.HTML object>"
      ]
     },
     "metadata": {},
     "output_type": "display_data"
    },
    {
     "data": {
      "text/html": [
       "<span style=\"color:cyan\"> |-values: ['relu', 'tanh', 'sigmoid']</span>"
      ],
      "text/plain": [
       "<IPython.core.display.HTML object>"
      ]
     },
     "metadata": {},
     "output_type": "display_data"
    },
    {
     "data": {
      "text/html": [
       "<span style=\"color:#7E57C2\"><h2 style=\"font-size:16px\">dropout_2 (Float)</h2></span>"
      ],
      "text/plain": [
       "<IPython.core.display.HTML object>"
      ]
     },
     "metadata": {},
     "output_type": "display_data"
    },
    {
     "data": {
      "text/html": [
       "<span style=\"color:cyan\"> |-default: 0.25</span>"
      ],
      "text/plain": [
       "<IPython.core.display.HTML object>"
      ]
     },
     "metadata": {},
     "output_type": "display_data"
    },
    {
     "data": {
      "text/html": [
       "<span style=\"color:blue\"> |-max_value: 0.5</span>"
      ],
      "text/plain": [
       "<IPython.core.display.HTML object>"
      ]
     },
     "metadata": {},
     "output_type": "display_data"
    },
    {
     "data": {
      "text/html": [
       "<span style=\"color:cyan\"> |-min_value: 0.0</span>"
      ],
      "text/plain": [
       "<IPython.core.display.HTML object>"
      ]
     },
     "metadata": {},
     "output_type": "display_data"
    },
    {
     "data": {
      "text/html": [
       "<span style=\"color:blue\"> |-sampling: None</span>"
      ],
      "text/plain": [
       "<IPython.core.display.HTML object>"
      ]
     },
     "metadata": {},
     "output_type": "display_data"
    },
    {
     "data": {
      "text/html": [
       "<span style=\"color:cyan\"> |-step: 0.05</span>"
      ],
      "text/plain": [
       "<IPython.core.display.HTML object>"
      ]
     },
     "metadata": {},
     "output_type": "display_data"
    },
    {
     "data": {
      "text/html": [
       "<span style=\"color:#7E57C2\"><h2 style=\"font-size:16px\">dense_units_3 (Int)</h2></span>"
      ],
      "text/plain": [
       "<IPython.core.display.HTML object>"
      ]
     },
     "metadata": {},
     "output_type": "display_data"
    },
    {
     "data": {
      "text/html": [
       "<span style=\"color:cyan\"> |-default: 16</span>"
      ],
      "text/plain": [
       "<IPython.core.display.HTML object>"
      ]
     },
     "metadata": {},
     "output_type": "display_data"
    },
    {
     "data": {
      "text/html": [
       "<span style=\"color:blue\"> |-max_value: 32</span>"
      ],
      "text/plain": [
       "<IPython.core.display.HTML object>"
      ]
     },
     "metadata": {},
     "output_type": "display_data"
    },
    {
     "data": {
      "text/html": [
       "<span style=\"color:cyan\"> |-min_value: 4</span>"
      ],
      "text/plain": [
       "<IPython.core.display.HTML object>"
      ]
     },
     "metadata": {},
     "output_type": "display_data"
    },
    {
     "data": {
      "text/html": [
       "<span style=\"color:blue\"> |-sampling: None</span>"
      ],
      "text/plain": [
       "<IPython.core.display.HTML object>"
      ]
     },
     "metadata": {},
     "output_type": "display_data"
    },
    {
     "data": {
      "text/html": [
       "<span style=\"color:cyan\"> |-step: 4</span>"
      ],
      "text/plain": [
       "<IPython.core.display.HTML object>"
      ]
     },
     "metadata": {},
     "output_type": "display_data"
    },
    {
     "data": {
      "text/html": [
       "<span style=\"color:#7E57C2\"><h2 style=\"font-size:16px\">dense_activation_3 (Choice)</h2></span>"
      ],
      "text/plain": [
       "<IPython.core.display.HTML object>"
      ]
     },
     "metadata": {},
     "output_type": "display_data"
    },
    {
     "data": {
      "text/html": [
       "<span style=\"color:cyan\"> |-default: relu</span>"
      ],
      "text/plain": [
       "<IPython.core.display.HTML object>"
      ]
     },
     "metadata": {},
     "output_type": "display_data"
    },
    {
     "data": {
      "text/html": [
       "<span style=\"color:blue\"> |-ordered: False</span>"
      ],
      "text/plain": [
       "<IPython.core.display.HTML object>"
      ]
     },
     "metadata": {},
     "output_type": "display_data"
    },
    {
     "data": {
      "text/html": [
       "<span style=\"color:cyan\"> |-values: ['relu', 'tanh', 'sigmoid']</span>"
      ],
      "text/plain": [
       "<IPython.core.display.HTML object>"
      ]
     },
     "metadata": {},
     "output_type": "display_data"
    },
    {
     "data": {
      "text/html": [
       "<span style=\"color:#7E57C2\"><h2 style=\"font-size:16px\">dropout_3 (Float)</h2></span>"
      ],
      "text/plain": [
       "<IPython.core.display.HTML object>"
      ]
     },
     "metadata": {},
     "output_type": "display_data"
    },
    {
     "data": {
      "text/html": [
       "<span style=\"color:cyan\"> |-default: 0.25</span>"
      ],
      "text/plain": [
       "<IPython.core.display.HTML object>"
      ]
     },
     "metadata": {},
     "output_type": "display_data"
    },
    {
     "data": {
      "text/html": [
       "<span style=\"color:blue\"> |-max_value: 0.5</span>"
      ],
      "text/plain": [
       "<IPython.core.display.HTML object>"
      ]
     },
     "metadata": {},
     "output_type": "display_data"
    },
    {
     "data": {
      "text/html": [
       "<span style=\"color:cyan\"> |-min_value: 0.0</span>"
      ],
      "text/plain": [
       "<IPython.core.display.HTML object>"
      ]
     },
     "metadata": {},
     "output_type": "display_data"
    },
    {
     "data": {
      "text/html": [
       "<span style=\"color:blue\"> |-sampling: None</span>"
      ],
      "text/plain": [
       "<IPython.core.display.HTML object>"
      ]
     },
     "metadata": {},
     "output_type": "display_data"
    },
    {
     "data": {
      "text/html": [
       "<span style=\"color:cyan\"> |-step: 0.05</span>"
      ],
      "text/plain": [
       "<IPython.core.display.HTML object>"
      ]
     },
     "metadata": {},
     "output_type": "display_data"
    },
    {
     "data": {
      "text/html": [
       "<span style=\"color:#7E57C2\"><h2 style=\"font-size:16px\">dense_units_4 (Int)</h2></span>"
      ],
      "text/plain": [
       "<IPython.core.display.HTML object>"
      ]
     },
     "metadata": {},
     "output_type": "display_data"
    },
    {
     "data": {
      "text/html": [
       "<span style=\"color:cyan\"> |-default: 8</span>"
      ],
      "text/plain": [
       "<IPython.core.display.HTML object>"
      ]
     },
     "metadata": {},
     "output_type": "display_data"
    },
    {
     "data": {
      "text/html": [
       "<span style=\"color:blue\"> |-max_value: 16</span>"
      ],
      "text/plain": [
       "<IPython.core.display.HTML object>"
      ]
     },
     "metadata": {},
     "output_type": "display_data"
    },
    {
     "data": {
      "text/html": [
       "<span style=\"color:cyan\"> |-min_value: 4</span>"
      ],
      "text/plain": [
       "<IPython.core.display.HTML object>"
      ]
     },
     "metadata": {},
     "output_type": "display_data"
    },
    {
     "data": {
      "text/html": [
       "<span style=\"color:blue\"> |-sampling: None</span>"
      ],
      "text/plain": [
       "<IPython.core.display.HTML object>"
      ]
     },
     "metadata": {},
     "output_type": "display_data"
    },
    {
     "data": {
      "text/html": [
       "<span style=\"color:cyan\"> |-step: 2</span>"
      ],
      "text/plain": [
       "<IPython.core.display.HTML object>"
      ]
     },
     "metadata": {},
     "output_type": "display_data"
    },
    {
     "data": {
      "text/html": [
       "<span style=\"color:#7E57C2\"><h2 style=\"font-size:16px\">dense_activation_4 (Choice)</h2></span>"
      ],
      "text/plain": [
       "<IPython.core.display.HTML object>"
      ]
     },
     "metadata": {},
     "output_type": "display_data"
    },
    {
     "data": {
      "text/html": [
       "<span style=\"color:cyan\"> |-default: relu</span>"
      ],
      "text/plain": [
       "<IPython.core.display.HTML object>"
      ]
     },
     "metadata": {},
     "output_type": "display_data"
    },
    {
     "data": {
      "text/html": [
       "<span style=\"color:blue\"> |-ordered: False</span>"
      ],
      "text/plain": [
       "<IPython.core.display.HTML object>"
      ]
     },
     "metadata": {},
     "output_type": "display_data"
    },
    {
     "data": {
      "text/html": [
       "<span style=\"color:cyan\"> |-values: ['relu', 'tanh', 'sigmoid']</span>"
      ],
      "text/plain": [
       "<IPython.core.display.HTML object>"
      ]
     },
     "metadata": {},
     "output_type": "display_data"
    },
    {
     "data": {
      "text/html": [
       "<span style=\"color:#7E57C2\"><h2 style=\"font-size:16px\">dropout_4 (Float)</h2></span>"
      ],
      "text/plain": [
       "<IPython.core.display.HTML object>"
      ]
     },
     "metadata": {},
     "output_type": "display_data"
    },
    {
     "data": {
      "text/html": [
       "<span style=\"color:cyan\"> |-default: 0.25</span>"
      ],
      "text/plain": [
       "<IPython.core.display.HTML object>"
      ]
     },
     "metadata": {},
     "output_type": "display_data"
    },
    {
     "data": {
      "text/html": [
       "<span style=\"color:blue\"> |-max_value: 0.5</span>"
      ],
      "text/plain": [
       "<IPython.core.display.HTML object>"
      ]
     },
     "metadata": {},
     "output_type": "display_data"
    },
    {
     "data": {
      "text/html": [
       "<span style=\"color:cyan\"> |-min_value: 0.0</span>"
      ],
      "text/plain": [
       "<IPython.core.display.HTML object>"
      ]
     },
     "metadata": {},
     "output_type": "display_data"
    },
    {
     "data": {
      "text/html": [
       "<span style=\"color:blue\"> |-sampling: None</span>"
      ],
      "text/plain": [
       "<IPython.core.display.HTML object>"
      ]
     },
     "metadata": {},
     "output_type": "display_data"
    },
    {
     "data": {
      "text/html": [
       "<span style=\"color:cyan\"> |-step: 0.05</span>"
      ],
      "text/plain": [
       "<IPython.core.display.HTML object>"
      ]
     },
     "metadata": {},
     "output_type": "display_data"
    },
    {
     "data": {
      "text/html": [
       "<span style=\"color:#7E57C2\"><h2 style=\"font-size:16px\">learning_rate (Float)</h2></span>"
      ],
      "text/plain": [
       "<IPython.core.display.HTML object>"
      ]
     },
     "metadata": {},
     "output_type": "display_data"
    },
    {
     "data": {
      "text/html": [
       "<span style=\"color:cyan\"> |-default: 0.001</span>"
      ],
      "text/plain": [
       "<IPython.core.display.HTML object>"
      ]
     },
     "metadata": {},
     "output_type": "display_data"
    },
    {
     "data": {
      "text/html": [
       "<span style=\"color:blue\"> |-max_value: 0.01</span>"
      ],
      "text/plain": [
       "<IPython.core.display.HTML object>"
      ]
     },
     "metadata": {},
     "output_type": "display_data"
    },
    {
     "data": {
      "text/html": [
       "<span style=\"color:cyan\"> |-min_value: 0.0001</span>"
      ],
      "text/plain": [
       "<IPython.core.display.HTML object>"
      ]
     },
     "metadata": {},
     "output_type": "display_data"
    },
    {
     "data": {
      "text/html": [
       "<span style=\"color:blue\"> |-sampling: log</span>"
      ],
      "text/plain": [
       "<IPython.core.display.HTML object>"
      ]
     },
     "metadata": {},
     "output_type": "display_data"
    },
    {
     "data": {
      "text/html": [
       "<span style=\"color:cyan\"> |-step: None</span>"
      ],
      "text/plain": [
       "<IPython.core.display.HTML object>"
      ]
     },
     "metadata": {},
     "output_type": "display_data"
    }
   ],
   "source": [
    "tuner.search_space_summary()"
   ]
  },
  {
   "cell_type": "code",
   "execution_count": 20,
   "metadata": {},
   "outputs": [
    {
     "name": "stdout",
     "output_type": "stream",
     "text": [
      "Train on 757 samples, validate on 134 samples\n",
      "Epoch 1/500\n",
      "757/757 [==============================] - 1s 1ms/sample - loss: 0.5483 - accuracy: 0.7173 - val_loss: 0.4731 - val_accuracy: 0.7910\n",
      "Epoch 2/500\n",
      "757/757 [==============================] - 0s 89us/sample - loss: 0.5157 - accuracy: 0.7768 - val_loss: 0.5000 - val_accuracy: 0.7910\n",
      "Epoch 3/500\n",
      "757/757 [==============================] - 0s 95us/sample - loss: 0.5064 - accuracy: 0.7873 - val_loss: 0.4721 - val_accuracy: 0.7761\n",
      "Epoch 4/500\n",
      "757/757 [==============================] - 0s 129us/sample - loss: 0.4714 - accuracy: 0.7939 - val_loss: 0.4418 - val_accuracy: 0.8209\n",
      "Epoch 5/500\n",
      "757/757 [==============================] - 0s 106us/sample - loss: 0.4566 - accuracy: 0.8164 - val_loss: 0.4219 - val_accuracy: 0.8433\n",
      "Epoch 6/500\n",
      "757/757 [==============================] - 0s 89us/sample - loss: 0.4594 - accuracy: 0.8111 - val_loss: 0.4344 - val_accuracy: 0.8284\n",
      "Epoch 7/500\n",
      "757/757 [==============================] - 0s 96us/sample - loss: 0.4445 - accuracy: 0.8283 - val_loss: 0.4729 - val_accuracy: 0.7985\n",
      "Epoch 8/500\n",
      "757/757 [==============================] - 0s 95us/sample - loss: 0.4413 - accuracy: 0.8203 - val_loss: 0.4450 - val_accuracy: 0.8209\n",
      "Epoch 9/500\n",
      "757/757 [==============================] - 0s 97us/sample - loss: 0.4170 - accuracy: 0.8441 - val_loss: 0.4202 - val_accuracy: 0.8284\n",
      "Epoch 10/500\n",
      "757/757 [==============================] - 0s 97us/sample - loss: 0.4345 - accuracy: 0.8322 - val_loss: 0.4347 - val_accuracy: 0.8134\n",
      "Epoch 11/500\n",
      "757/757 [==============================] - 0s 96us/sample - loss: 0.4177 - accuracy: 0.8362 - val_loss: 0.4613 - val_accuracy: 0.8060\n",
      "Epoch 12/500\n",
      "757/757 [==============================] - 0s 95us/sample - loss: 0.4329 - accuracy: 0.8349 - val_loss: 0.4551 - val_accuracy: 0.8060\n",
      "Epoch 13/500\n",
      "757/757 [==============================] - 0s 96us/sample - loss: 0.3993 - accuracy: 0.8494 - val_loss: 0.4495 - val_accuracy: 0.8209\n",
      "Epoch 14/500\n",
      "757/757 [==============================] - 0s 88us/sample - loss: 0.4122 - accuracy: 0.8481 - val_loss: 0.4511 - val_accuracy: 0.7985\n",
      "Epoch 15/500\n",
      "757/757 [==============================] - 0s 96us/sample - loss: 0.3939 - accuracy: 0.8560 - val_loss: 0.4637 - val_accuracy: 0.8060\n",
      "Epoch 16/500\n",
      "757/757 [==============================] - 0s 98us/sample - loss: 0.4175 - accuracy: 0.8402 - val_loss: 0.4281 - val_accuracy: 0.8134\n",
      "Epoch 17/500\n",
      "757/757 [==============================] - 0s 95us/sample - loss: 0.4173 - accuracy: 0.8336 - val_loss: 0.4097 - val_accuracy: 0.8209\n",
      "Epoch 18/500\n",
      "757/757 [==============================] - 0s 98us/sample - loss: 0.4179 - accuracy: 0.8296 - val_loss: 0.4512 - val_accuracy: 0.8060\n",
      "Epoch 19/500\n",
      "757/757 [==============================] - 0s 96us/sample - loss: 0.4114 - accuracy: 0.8362 - val_loss: 0.4647 - val_accuracy: 0.7836\n",
      "Epoch 20/500\n",
      "757/757 [==============================] - 0s 96us/sample - loss: 0.4029 - accuracy: 0.8349 - val_loss: 0.4411 - val_accuracy: 0.8060\n",
      "Epoch 21/500\n",
      "757/757 [==============================] - 0s 97us/sample - loss: 0.3940 - accuracy: 0.8494 - val_loss: 0.4683 - val_accuracy: 0.8060\n",
      "Epoch 22/500\n",
      "757/757 [==============================] - 0s 89us/sample - loss: 0.4097 - accuracy: 0.8428 - val_loss: 0.4662 - val_accuracy: 0.8209\n",
      "Epoch 23/500\n",
      "757/757 [==============================] - 0s 95us/sample - loss: 0.4173 - accuracy: 0.8375 - val_loss: 0.4639 - val_accuracy: 0.8358\n",
      "Epoch 24/500\n",
      "757/757 [==============================] - 0s 97us/sample - loss: 0.4000 - accuracy: 0.8639 - val_loss: 0.4478 - val_accuracy: 0.7985\n",
      "Epoch 25/500\n",
      "757/757 [==============================] - 0s 91us/sample - loss: 0.3916 - accuracy: 0.8560 - val_loss: 0.4481 - val_accuracy: 0.8134\n",
      "Epoch 26/500\n",
      "757/757 [==============================] - 0s 94us/sample - loss: 0.4065 - accuracy: 0.8494 - val_loss: 0.4529 - val_accuracy: 0.8284\n",
      "Epoch 27/500\n",
      "757/757 [==============================] - 0s 95us/sample - loss: 0.3983 - accuracy: 0.8481 - val_loss: 0.4428 - val_accuracy: 0.8209\n",
      "Epoch 28/500\n",
      "757/757 [==============================] - 0s 97us/sample - loss: 0.3902 - accuracy: 0.8547 - val_loss: 0.4734 - val_accuracy: 0.8209\n",
      "Epoch 29/500\n",
      "757/757 [==============================] - 0s 97us/sample - loss: 0.3743 - accuracy: 0.8560 - val_loss: 0.4849 - val_accuracy: 0.7910\n",
      "Epoch 30/500\n",
      "757/757 [==============================] - 0s 97us/sample - loss: 0.3814 - accuracy: 0.8600 - val_loss: 0.4748 - val_accuracy: 0.8060\n",
      "Epoch 31/500\n",
      "757/757 [==============================] - 0s 100us/sample - loss: 0.4032 - accuracy: 0.8415 - val_loss: 0.4496 - val_accuracy: 0.8060\n",
      "Epoch 32/500\n",
      "757/757 [==============================] - 0s 96us/sample - loss: 0.3961 - accuracy: 0.8481 - val_loss: 0.4575 - val_accuracy: 0.8134\n",
      "Epoch 33/500\n",
      "757/757 [==============================] - 0s 97us/sample - loss: 0.3838 - accuracy: 0.8613 - val_loss: 0.4661 - val_accuracy: 0.8134\n",
      "Epoch 34/500\n",
      "757/757 [==============================] - 0s 95us/sample - loss: 0.3865 - accuracy: 0.8573 - val_loss: 0.4904 - val_accuracy: 0.8209\n",
      "Epoch 35/500\n",
      "757/757 [==============================] - 0s 96us/sample - loss: 0.3849 - accuracy: 0.8454 - val_loss: 0.4663 - val_accuracy: 0.8060\n",
      "Epoch 36/500\n",
      "757/757 [==============================] - 0s 89us/sample - loss: 0.3857 - accuracy: 0.8573 - val_loss: 0.4708 - val_accuracy: 0.7910\n",
      "Epoch 37/500\n",
      "757/757 [==============================] - 0s 96us/sample - loss: 0.3652 - accuracy: 0.8573 - val_loss: 0.4567 - val_accuracy: 0.8433\n",
      "Epoch 38/500\n",
      "757/757 [==============================] - 0s 98us/sample - loss: 0.3839 - accuracy: 0.8600 - val_loss: 0.4823 - val_accuracy: 0.8060\n",
      "Epoch 39/500\n",
      "757/757 [==============================] - 0s 88us/sample - loss: 0.3936 - accuracy: 0.8600 - val_loss: 0.4746 - val_accuracy: 0.8060\n",
      "Epoch 40/500\n",
      "757/757 [==============================] - 0s 96us/sample - loss: 0.3900 - accuracy: 0.8534 - val_loss: 0.4244 - val_accuracy: 0.8284\n",
      "Epoch 41/500\n",
      "757/757 [==============================] - 0s 88us/sample - loss: 0.3865 - accuracy: 0.8520 - val_loss: 0.4822 - val_accuracy: 0.8060\n",
      "Epoch 42/500\n",
      "757/757 [==============================] - 0s 100us/sample - loss: 0.3945 - accuracy: 0.8534 - val_loss: 0.4713 - val_accuracy: 0.8284\n",
      "Epoch 43/500\n",
      "757/757 [==============================] - 0s 96us/sample - loss: 0.3901 - accuracy: 0.8573 - val_loss: 0.4495 - val_accuracy: 0.8284\n",
      "Epoch 44/500\n",
      "757/757 [==============================] - 0s 96us/sample - loss: 0.3822 - accuracy: 0.8507 - val_loss: 0.4585 - val_accuracy: 0.8284\n",
      "Epoch 45/500\n",
      "757/757 [==============================] - 0s 98us/sample - loss: 0.3825 - accuracy: 0.8626 - val_loss: 0.4465 - val_accuracy: 0.8134\n",
      "Epoch 46/500\n",
      "757/757 [==============================] - 0s 87us/sample - loss: 0.3660 - accuracy: 0.8587 - val_loss: 0.4918 - val_accuracy: 0.8284\n",
      "Epoch 47/500\n",
      "757/757 [==============================] - 0s 96us/sample - loss: 0.3922 - accuracy: 0.8520 - val_loss: 0.4498 - val_accuracy: 0.8209\n",
      "Epoch 48/500\n",
      "757/757 [==============================] - 0s 87us/sample - loss: 0.3922 - accuracy: 0.8520 - val_loss: 0.4687 - val_accuracy: 0.8060\n",
      "Epoch 49/500\n",
      "757/757 [==============================] - 0s 96us/sample - loss: 0.3867 - accuracy: 0.8679 - val_loss: 0.4871 - val_accuracy: 0.8060\n",
      "Epoch 50/500\n",
      "757/757 [==============================] - 0s 99us/sample - loss: 0.3811 - accuracy: 0.8613 - val_loss: 0.4739 - val_accuracy: 0.8134\n",
      "Epoch 51/500\n",
      "757/757 [==============================] - 0s 96us/sample - loss: 0.3906 - accuracy: 0.8613 - val_loss: 0.4934 - val_accuracy: 0.7910\n",
      "Epoch 52/500\n",
      "757/757 [==============================] - 0s 95us/sample - loss: 0.3627 - accuracy: 0.8666 - val_loss: 0.4619 - val_accuracy: 0.8209\n",
      "Epoch 53/500\n",
      "757/757 [==============================] - 0s 100us/sample - loss: 0.3785 - accuracy: 0.8547 - val_loss: 0.4623 - val_accuracy: 0.8134\n",
      "Epoch 54/500\n",
      "757/757 [==============================] - 0s 95us/sample - loss: 0.3860 - accuracy: 0.8573 - val_loss: 0.4655 - val_accuracy: 0.8284\n",
      "Epoch 55/500\n",
      "757/757 [==============================] - 0s 94us/sample - loss: 0.3835 - accuracy: 0.8613 - val_loss: 0.4779 - val_accuracy: 0.7985\n",
      "Epoch 56/500\n",
      "757/757 [==============================] - 0s 96us/sample - loss: 0.3778 - accuracy: 0.8573 - val_loss: 0.4825 - val_accuracy: 0.7910\n",
      "Epoch 57/500\n",
      "757/757 [==============================] - 0s 95us/sample - loss: 0.3885 - accuracy: 0.8547 - val_loss: 0.4673 - val_accuracy: 0.8060\n",
      "Epoch 58/500\n",
      "757/757 [==============================] - 0s 95us/sample - loss: 0.3816 - accuracy: 0.8626 - val_loss: 0.4401 - val_accuracy: 0.8060\n",
      "Epoch 59/500\n",
      "757/757 [==============================] - 0s 96us/sample - loss: 0.3696 - accuracy: 0.8507 - val_loss: 0.4502 - val_accuracy: 0.8358\n",
      "Epoch 60/500\n",
      "757/757 [==============================] - 0s 96us/sample - loss: 0.3718 - accuracy: 0.8613 - val_loss: 0.4528 - val_accuracy: 0.8358\n",
      "Epoch 61/500\n",
      "757/757 [==============================] - 0s 99us/sample - loss: 0.3669 - accuracy: 0.8692 - val_loss: 0.4513 - val_accuracy: 0.8358\n",
      "Epoch 62/500\n",
      "757/757 [==============================] - 0s 95us/sample - loss: 0.3850 - accuracy: 0.8587 - val_loss: 0.4429 - val_accuracy: 0.8433\n",
      "Epoch 63/500\n",
      "757/757 [==============================] - 0s 96us/sample - loss: 0.3848 - accuracy: 0.8534 - val_loss: 0.4529 - val_accuracy: 0.8134\n",
      "Epoch 64/500\n",
      "757/757 [==============================] - 0s 97us/sample - loss: 0.3653 - accuracy: 0.8679 - val_loss: 0.4512 - val_accuracy: 0.8358\n",
      "Epoch 65/500\n",
      "757/757 [==============================] - 0s 88us/sample - loss: 0.3842 - accuracy: 0.8547 - val_loss: 0.4624 - val_accuracy: 0.7985\n",
      "Epoch 66/500\n",
      "757/757 [==============================] - 0s 97us/sample - loss: 0.3649 - accuracy: 0.8560 - val_loss: 0.4554 - val_accuracy: 0.7910\n",
      "Epoch 67/500\n",
      "757/757 [==============================] - 0s 96us/sample - loss: 0.3652 - accuracy: 0.8587 - val_loss: 0.5179 - val_accuracy: 0.8060\n",
      "Epoch 68/500\n",
      "757/757 [==============================] - 0s 97us/sample - loss: 0.3728 - accuracy: 0.8587 - val_loss: 0.4789 - val_accuracy: 0.8060\n",
      "Epoch 69/500\n",
      "757/757 [==============================] - 0s 97us/sample - loss: 0.3719 - accuracy: 0.8494 - val_loss: 0.4795 - val_accuracy: 0.8134\n",
      "Epoch 70/500\n",
      "757/757 [==============================] - 0s 90us/sample - loss: 0.3503 - accuracy: 0.8679 - val_loss: 0.4908 - val_accuracy: 0.8060\n",
      "Epoch 71/500\n",
      "757/757 [==============================] - 0s 99us/sample - loss: 0.3558 - accuracy: 0.8705 - val_loss: 0.4900 - val_accuracy: 0.7985\n",
      "Epoch 72/500\n",
      "757/757 [==============================] - 0s 88us/sample - loss: 0.3639 - accuracy: 0.8600 - val_loss: 0.4338 - val_accuracy: 0.8433\n",
      "Epoch 73/500\n",
      "757/757 [==============================] - 0s 89us/sample - loss: 0.3645 - accuracy: 0.8719 - val_loss: 0.4701 - val_accuracy: 0.8284\n",
      "Epoch 74/500\n",
      "757/757 [==============================] - 0s 96us/sample - loss: 0.3687 - accuracy: 0.8666 - val_loss: 0.4902 - val_accuracy: 0.7910\n",
      "Epoch 75/500\n",
      "757/757 [==============================] - 0s 97us/sample - loss: 0.3751 - accuracy: 0.8679 - val_loss: 0.4656 - val_accuracy: 0.8134\n",
      "Epoch 76/500\n",
      "757/757 [==============================] - 0s 88us/sample - loss: 0.3789 - accuracy: 0.8560 - val_loss: 0.4725 - val_accuracy: 0.8209\n",
      "Epoch 77/500\n",
      "757/757 [==============================] - 0s 97us/sample - loss: 0.3722 - accuracy: 0.8494 - val_loss: 0.4766 - val_accuracy: 0.7985\n",
      "Epoch 78/500\n",
      "757/757 [==============================] - 0s 88us/sample - loss: 0.3714 - accuracy: 0.8613 - val_loss: 0.4652 - val_accuracy: 0.8060\n",
      "Epoch 79/500\n",
      "757/757 [==============================] - 0s 89us/sample - loss: 0.3631 - accuracy: 0.8626 - val_loss: 0.4949 - val_accuracy: 0.8134\n",
      "Epoch 80/500\n",
      "757/757 [==============================] - 0s 98us/sample - loss: 0.3561 - accuracy: 0.8653 - val_loss: 0.4510 - val_accuracy: 0.8209\n",
      "Epoch 81/500\n",
      "757/757 [==============================] - 0s 97us/sample - loss: 0.3610 - accuracy: 0.8600 - val_loss: 0.4470 - val_accuracy: 0.8060\n",
      "Epoch 82/500\n",
      "757/757 [==============================] - 0s 89us/sample - loss: 0.3644 - accuracy: 0.8639 - val_loss: 0.4694 - val_accuracy: 0.8284\n",
      "Epoch 83/500\n",
      "757/757 [==============================] - 0s 97us/sample - loss: 0.3566 - accuracy: 0.8613 - val_loss: 0.4559 - val_accuracy: 0.8433\n",
      "Epoch 84/500\n",
      "757/757 [==============================] - 0s 97us/sample - loss: 0.3567 - accuracy: 0.8653 - val_loss: 0.4687 - val_accuracy: 0.8284\n",
      "Epoch 85/500\n",
      "757/757 [==============================] - 0s 95us/sample - loss: 0.3622 - accuracy: 0.8639 - val_loss: 0.4942 - val_accuracy: 0.7985\n",
      "Epoch 86/500\n",
      "757/757 [==============================] - 0s 89us/sample - loss: 0.3380 - accuracy: 0.8613 - val_loss: 0.4899 - val_accuracy: 0.8284\n",
      "Epoch 87/500\n",
      "757/757 [==============================] - 0s 90us/sample - loss: 0.3685 - accuracy: 0.8705 - val_loss: 0.4825 - val_accuracy: 0.8284\n",
      "Epoch 88/500\n",
      "757/757 [==============================] - 0s 89us/sample - loss: 0.3675 - accuracy: 0.8600 - val_loss: 0.4346 - val_accuracy: 0.8433\n",
      "Epoch 89/500\n",
      "757/757 [==============================] - 0s 89us/sample - loss: 0.3673 - accuracy: 0.8573 - val_loss: 0.4507 - val_accuracy: 0.8358\n",
      "Epoch 90/500\n",
      "757/757 [==============================] - 0s 97us/sample - loss: 0.3534 - accuracy: 0.8573 - val_loss: 0.4688 - val_accuracy: 0.8134\n",
      "Epoch 91/500\n",
      "757/757 [==============================] - 0s 88us/sample - loss: 0.3460 - accuracy: 0.8692 - val_loss: 0.4967 - val_accuracy: 0.8284\n",
      "Epoch 92/500\n",
      "757/757 [==============================] - 0s 96us/sample - loss: 0.3479 - accuracy: 0.8705 - val_loss: 0.4668 - val_accuracy: 0.8358\n",
      "Epoch 93/500\n",
      "757/757 [==============================] - 0s 96us/sample - loss: 0.3446 - accuracy: 0.8653 - val_loss: 0.4716 - val_accuracy: 0.8433\n",
      "Epoch 94/500\n",
      "757/757 [==============================] - 0s 107us/sample - loss: 0.3402 - accuracy: 0.8679 - val_loss: 0.4532 - val_accuracy: 0.8507\n",
      "Epoch 95/500\n",
      "757/757 [==============================] - 0s 96us/sample - loss: 0.3520 - accuracy: 0.8639 - val_loss: 0.4663 - val_accuracy: 0.8284\n",
      "Epoch 96/500\n",
      "757/757 [==============================] - 0s 98us/sample - loss: 0.3596 - accuracy: 0.8613 - val_loss: 0.4532 - val_accuracy: 0.8134\n",
      "Epoch 97/500\n",
      "757/757 [==============================] - 0s 95us/sample - loss: 0.3631 - accuracy: 0.8600 - val_loss: 0.4661 - val_accuracy: 0.8209\n",
      "Epoch 98/500\n",
      "757/757 [==============================] - 0s 121us/sample - loss: 0.3595 - accuracy: 0.8758 - val_loss: 0.4769 - val_accuracy: 0.8134\n",
      "Epoch 99/500\n",
      "757/757 [==============================] - 0s 108us/sample - loss: 0.3419 - accuracy: 0.8719 - val_loss: 0.4905 - val_accuracy: 0.8134\n",
      "Epoch 100/500\n",
      "757/757 [==============================] - 0s 98us/sample - loss: 0.3490 - accuracy: 0.8798 - val_loss: 0.4794 - val_accuracy: 0.8433\n",
      "Epoch 101/500\n",
      "757/757 [==============================] - 0s 96us/sample - loss: 0.3494 - accuracy: 0.8732 - val_loss: 0.4884 - val_accuracy: 0.8209\n",
      "Epoch 102/500\n",
      "757/757 [==============================] - 0s 98us/sample - loss: 0.3446 - accuracy: 0.8732 - val_loss: 0.4964 - val_accuracy: 0.8134\n",
      "Epoch 103/500\n",
      "757/757 [==============================] - 0s 96us/sample - loss: 0.3521 - accuracy: 0.8745 - val_loss: 0.4518 - val_accuracy: 0.8209\n",
      "Epoch 104/500\n",
      "757/757 [==============================] - 0s 97us/sample - loss: 0.3378 - accuracy: 0.8705 - val_loss: 0.4784 - val_accuracy: 0.7910\n",
      "Epoch 105/500\n",
      "757/757 [==============================] - 0s 97us/sample - loss: 0.3489 - accuracy: 0.8785 - val_loss: 0.4821 - val_accuracy: 0.8284\n",
      "Epoch 106/500\n",
      "757/757 [==============================] - 0s 105us/sample - loss: 0.3370 - accuracy: 0.8745 - val_loss: 0.4787 - val_accuracy: 0.8134\n",
      "Epoch 107/500\n",
      "757/757 [==============================] - 0s 98us/sample - loss: 0.3605 - accuracy: 0.8719 - val_loss: 0.5287 - val_accuracy: 0.7985\n",
      "Epoch 108/500\n",
      "757/757 [==============================] - 0s 97us/sample - loss: 0.3563 - accuracy: 0.8732 - val_loss: 0.4904 - val_accuracy: 0.8358\n",
      "Epoch 109/500\n",
      "757/757 [==============================] - 0s 88us/sample - loss: 0.3571 - accuracy: 0.8626 - val_loss: 0.5149 - val_accuracy: 0.8209\n",
      "Epoch 110/500\n",
      "757/757 [==============================] - 0s 89us/sample - loss: 0.3496 - accuracy: 0.8679 - val_loss: 0.4830 - val_accuracy: 0.8358\n",
      "Epoch 111/500\n",
      "757/757 [==============================] - 0s 88us/sample - loss: 0.3436 - accuracy: 0.8771 - val_loss: 0.5113 - val_accuracy: 0.8060\n",
      "Epoch 112/500\n",
      "757/757 [==============================] - 0s 96us/sample - loss: 0.3518 - accuracy: 0.8719 - val_loss: 0.4688 - val_accuracy: 0.8358\n",
      "Epoch 113/500\n",
      "757/757 [==============================] - 0s 89us/sample - loss: 0.3446 - accuracy: 0.8771 - val_loss: 0.5032 - val_accuracy: 0.8358\n",
      "Epoch 114/500\n",
      "757/757 [==============================] - 0s 103us/sample - loss: 0.3418 - accuracy: 0.8666 - val_loss: 0.4999 - val_accuracy: 0.8284\n",
      "Epoch 115/500\n",
      "757/757 [==============================] - 0s 97us/sample - loss: 0.3519 - accuracy: 0.8639 - val_loss: 0.4998 - val_accuracy: 0.8209\n",
      "Epoch 116/500\n",
      "757/757 [==============================] - 0s 89us/sample - loss: 0.3392 - accuracy: 0.8824 - val_loss: 0.5001 - val_accuracy: 0.8134\n",
      "Epoch 117/500\n",
      "757/757 [==============================] - 0s 95us/sample - loss: 0.3571 - accuracy: 0.8613 - val_loss: 0.4921 - val_accuracy: 0.8358\n",
      "Epoch 118/500\n",
      "757/757 [==============================] - 0s 87us/sample - loss: 0.3511 - accuracy: 0.8705 - val_loss: 0.4941 - val_accuracy: 0.8284\n",
      "Epoch 119/500\n",
      "757/757 [==============================] - 0s 96us/sample - loss: 0.3373 - accuracy: 0.8758 - val_loss: 0.4912 - val_accuracy: 0.8433\n",
      "Epoch 120/500\n",
      "757/757 [==============================] - 0s 90us/sample - loss: 0.3536 - accuracy: 0.8864 - val_loss: 0.4988 - val_accuracy: 0.7985\n",
      "Epoch 121/500\n",
      "757/757 [==============================] - 0s 89us/sample - loss: 0.3525 - accuracy: 0.8745 - val_loss: 0.4921 - val_accuracy: 0.8134\n",
      "Epoch 122/500\n",
      "757/757 [==============================] - 0s 96us/sample - loss: 0.3508 - accuracy: 0.8679 - val_loss: 0.4730 - val_accuracy: 0.8134\n",
      "Epoch 123/500\n",
      "757/757 [==============================] - 0s 88us/sample - loss: 0.3521 - accuracy: 0.8679 - val_loss: 0.4907 - val_accuracy: 0.8134\n",
      "Epoch 124/500\n",
      "757/757 [==============================] - 0s 88us/sample - loss: 0.3627 - accuracy: 0.8692 - val_loss: 0.4685 - val_accuracy: 0.8433\n",
      "Epoch 125/500\n",
      "757/757 [==============================] - 0s 89us/sample - loss: 0.3533 - accuracy: 0.8692 - val_loss: 0.4953 - val_accuracy: 0.8134\n",
      "Epoch 126/500\n",
      "757/757 [==============================] - 0s 89us/sample - loss: 0.3657 - accuracy: 0.8639 - val_loss: 0.4979 - val_accuracy: 0.8060\n",
      "Epoch 127/500\n",
      "757/757 [==============================] - 0s 88us/sample - loss: 0.3622 - accuracy: 0.8758 - val_loss: 0.5209 - val_accuracy: 0.8060\n",
      "Epoch 128/500\n",
      "757/757 [==============================] - 0s 96us/sample - loss: 0.3560 - accuracy: 0.8692 - val_loss: 0.4871 - val_accuracy: 0.7836\n",
      "Epoch 129/500\n",
      "757/757 [==============================] - 0s 97us/sample - loss: 0.3512 - accuracy: 0.8745 - val_loss: 0.5052 - val_accuracy: 0.8060\n",
      "Epoch 130/500\n",
      "757/757 [==============================] - 0s 90us/sample - loss: 0.3395 - accuracy: 0.8705 - val_loss: 0.5416 - val_accuracy: 0.8209\n",
      "Epoch 131/500\n",
      "757/757 [==============================] - 0s 96us/sample - loss: 0.3462 - accuracy: 0.8639 - val_loss: 0.5270 - val_accuracy: 0.8209\n",
      "Epoch 132/500\n",
      "757/757 [==============================] - 0s 87us/sample - loss: 0.3419 - accuracy: 0.8732 - val_loss: 0.5013 - val_accuracy: 0.8284\n",
      "Epoch 133/500\n",
      "757/757 [==============================] - 0s 114us/sample - loss: 0.3433 - accuracy: 0.8824 - val_loss: 0.4561 - val_accuracy: 0.8582\n",
      "Epoch 134/500\n",
      "757/757 [==============================] - 0s 98us/sample - loss: 0.3597 - accuracy: 0.8705 - val_loss: 0.4805 - val_accuracy: 0.8134\n",
      "Epoch 135/500\n",
      "757/757 [==============================] - 0s 89us/sample - loss: 0.3184 - accuracy: 0.8745 - val_loss: 0.4810 - val_accuracy: 0.8134\n",
      "Epoch 136/500\n",
      "757/757 [==============================] - 0s 90us/sample - loss: 0.3460 - accuracy: 0.8732 - val_loss: 0.4956 - val_accuracy: 0.8358\n",
      "Epoch 137/500\n",
      "757/757 [==============================] - 0s 96us/sample - loss: 0.3468 - accuracy: 0.8771 - val_loss: 0.5561 - val_accuracy: 0.8134\n",
      "Epoch 138/500\n",
      "757/757 [==============================] - 0s 89us/sample - loss: 0.3539 - accuracy: 0.8666 - val_loss: 0.5115 - val_accuracy: 0.8134\n",
      "Epoch 139/500\n",
      "757/757 [==============================] - 0s 89us/sample - loss: 0.3526 - accuracy: 0.8692 - val_loss: 0.4799 - val_accuracy: 0.8209\n",
      "Epoch 140/500\n",
      "757/757 [==============================] - 0s 88us/sample - loss: 0.3417 - accuracy: 0.8758 - val_loss: 0.4929 - val_accuracy: 0.8358\n",
      "Epoch 141/500\n",
      "757/757 [==============================] - 0s 96us/sample - loss: 0.3428 - accuracy: 0.8785 - val_loss: 0.5086 - val_accuracy: 0.8209\n",
      "Epoch 142/500\n",
      "757/757 [==============================] - 0s 89us/sample - loss: 0.3361 - accuracy: 0.8653 - val_loss: 0.4846 - val_accuracy: 0.8284\n",
      "Epoch 143/500\n",
      "757/757 [==============================] - 0s 89us/sample - loss: 0.3475 - accuracy: 0.8745 - val_loss: 0.4822 - val_accuracy: 0.8060\n",
      "Epoch 144/500\n",
      "757/757 [==============================] - 0s 89us/sample - loss: 0.3481 - accuracy: 0.8705 - val_loss: 0.4819 - val_accuracy: 0.8284\n",
      "Epoch 145/500\n",
      "757/757 [==============================] - 0s 90us/sample - loss: 0.3369 - accuracy: 0.8705 - val_loss: 0.4945 - val_accuracy: 0.8060\n",
      "Epoch 146/500\n",
      "757/757 [==============================] - 0s 98us/sample - loss: 0.3598 - accuracy: 0.8626 - val_loss: 0.4607 - val_accuracy: 0.8582\n",
      "Epoch 147/500\n",
      "757/757 [==============================] - 0s 98us/sample - loss: 0.3576 - accuracy: 0.8692 - val_loss: 0.4601 - val_accuracy: 0.8358\n",
      "Epoch 148/500\n",
      "757/757 [==============================] - 0s 88us/sample - loss: 0.3655 - accuracy: 0.8692 - val_loss: 0.5602 - val_accuracy: 0.7985\n",
      "Epoch 149/500\n",
      "757/757 [==============================] - 0s 95us/sample - loss: 0.3726 - accuracy: 0.8666 - val_loss: 0.4962 - val_accuracy: 0.8060\n",
      "Epoch 150/500\n",
      "757/757 [==============================] - 0s 88us/sample - loss: 0.3476 - accuracy: 0.8745 - val_loss: 0.4837 - val_accuracy: 0.8284\n",
      "Epoch 151/500\n",
      "757/757 [==============================] - 0s 97us/sample - loss: 0.3607 - accuracy: 0.8692 - val_loss: 0.5003 - val_accuracy: 0.8134\n",
      "Epoch 152/500\n",
      "757/757 [==============================] - 0s 96us/sample - loss: 0.3381 - accuracy: 0.8758 - val_loss: 0.4792 - val_accuracy: 0.8134\n",
      "Epoch 153/500\n",
      "757/757 [==============================] - 0s 95us/sample - loss: 0.3315 - accuracy: 0.8771 - val_loss: 0.4962 - val_accuracy: 0.7985\n",
      "Epoch 154/500\n",
      "757/757 [==============================] - 0s 88us/sample - loss: 0.3352 - accuracy: 0.8745 - val_loss: 0.5304 - val_accuracy: 0.7910\n",
      "Epoch 155/500\n",
      "757/757 [==============================] - 0s 88us/sample - loss: 0.3260 - accuracy: 0.8745 - val_loss: 0.5105 - val_accuracy: 0.7985\n",
      "Epoch 156/500\n",
      "757/757 [==============================] - 0s 98us/sample - loss: 0.3357 - accuracy: 0.8838 - val_loss: 0.5420 - val_accuracy: 0.7836\n",
      "Epoch 157/500\n",
      "757/757 [==============================] - 0s 95us/sample - loss: 0.3496 - accuracy: 0.8824 - val_loss: 0.4759 - val_accuracy: 0.8060\n",
      "Epoch 158/500\n",
      "757/757 [==============================] - 0s 99us/sample - loss: 0.3481 - accuracy: 0.8745 - val_loss: 0.4946 - val_accuracy: 0.8134\n",
      "Epoch 159/500\n",
      "757/757 [==============================] - 0s 95us/sample - loss: 0.3307 - accuracy: 0.8890 - val_loss: 0.4985 - val_accuracy: 0.7985\n",
      "Epoch 160/500\n",
      "757/757 [==============================] - 0s 97us/sample - loss: 0.3332 - accuracy: 0.8785 - val_loss: 0.5217 - val_accuracy: 0.8209\n",
      "Epoch 161/500\n",
      "757/757 [==============================] - 0s 96us/sample - loss: 0.3451 - accuracy: 0.8719 - val_loss: 0.4904 - val_accuracy: 0.8284\n",
      "Epoch 162/500\n",
      "757/757 [==============================] - 0s 88us/sample - loss: 0.3318 - accuracy: 0.8758 - val_loss: 0.4962 - val_accuracy: 0.8134\n",
      "Epoch 163/500\n",
      "757/757 [==============================] - 0s 87us/sample - loss: 0.3456 - accuracy: 0.8745 - val_loss: 0.4904 - val_accuracy: 0.8209\n",
      "Epoch 164/500\n",
      "757/757 [==============================] - 0s 88us/sample - loss: 0.3462 - accuracy: 0.8692 - val_loss: 0.4983 - val_accuracy: 0.8134\n",
      "Epoch 165/500\n",
      "757/757 [==============================] - 0s 87us/sample - loss: 0.3413 - accuracy: 0.8851 - val_loss: 0.5189 - val_accuracy: 0.8284\n",
      "Epoch 166/500\n",
      "757/757 [==============================] - 0s 88us/sample - loss: 0.3827 - accuracy: 0.8639 - val_loss: 0.4904 - val_accuracy: 0.7985\n",
      "Epoch 167/500\n",
      "757/757 [==============================] - 0s 97us/sample - loss: 0.3447 - accuracy: 0.8771 - val_loss: 0.4999 - val_accuracy: 0.8134\n",
      "Epoch 168/500\n",
      "757/757 [==============================] - 0s 97us/sample - loss: 0.3245 - accuracy: 0.8838 - val_loss: 0.5236 - val_accuracy: 0.8134\n",
      "Epoch 169/500\n",
      "757/757 [==============================] - 0s 97us/sample - loss: 0.3366 - accuracy: 0.8785 - val_loss: 0.5162 - val_accuracy: 0.8060\n",
      "Epoch 170/500\n",
      "757/757 [==============================] - 0s 99us/sample - loss: 0.3405 - accuracy: 0.8732 - val_loss: 0.5532 - val_accuracy: 0.7910\n",
      "Epoch 171/500\n",
      "757/757 [==============================] - 0s 97us/sample - loss: 0.3368 - accuracy: 0.8758 - val_loss: 0.4899 - val_accuracy: 0.8433\n",
      "Epoch 172/500\n",
      "757/757 [==============================] - 0s 97us/sample - loss: 0.3289 - accuracy: 0.8811 - val_loss: 0.5013 - val_accuracy: 0.8433\n",
      "Epoch 173/500\n",
      "757/757 [==============================] - 0s 97us/sample - loss: 0.3580 - accuracy: 0.8732 - val_loss: 0.4943 - val_accuracy: 0.8284\n",
      "Epoch 174/500\n",
      "757/757 [==============================] - 0s 98us/sample - loss: 0.3345 - accuracy: 0.8838 - val_loss: 0.4774 - val_accuracy: 0.8284\n",
      "Epoch 175/500\n",
      "757/757 [==============================] - 0s 88us/sample - loss: 0.3473 - accuracy: 0.8811 - val_loss: 0.4903 - val_accuracy: 0.8209\n",
      "Epoch 176/500\n",
      "757/757 [==============================] - 0s 96us/sample - loss: 0.3209 - accuracy: 0.8758 - val_loss: 0.4841 - val_accuracy: 0.8358\n",
      "Epoch 177/500\n",
      "757/757 [==============================] - 0s 99us/sample - loss: 0.3441 - accuracy: 0.8732 - val_loss: 0.4790 - val_accuracy: 0.8284\n",
      "Epoch 178/500\n",
      "757/757 [==============================] - 0s 88us/sample - loss: 0.3337 - accuracy: 0.8758 - val_loss: 0.5066 - val_accuracy: 0.7985\n",
      "Epoch 179/500\n",
      "757/757 [==============================] - 0s 95us/sample - loss: 0.3217 - accuracy: 0.8811 - val_loss: 0.5154 - val_accuracy: 0.8134\n",
      "Epoch 180/500\n",
      "757/757 [==============================] - 0s 90us/sample - loss: 0.3372 - accuracy: 0.8758 - val_loss: 0.5004 - val_accuracy: 0.8209\n",
      "Epoch 181/500\n",
      "757/757 [==============================] - 0s 96us/sample - loss: 0.3475 - accuracy: 0.8785 - val_loss: 0.5005 - val_accuracy: 0.8209\n",
      "Epoch 182/500\n",
      "757/757 [==============================] - 0s 95us/sample - loss: 0.3322 - accuracy: 0.8877 - val_loss: 0.4942 - val_accuracy: 0.8209\n",
      "Epoch 183/500\n",
      "757/757 [==============================] - 0s 95us/sample - loss: 0.3342 - accuracy: 0.8785 - val_loss: 0.4653 - val_accuracy: 0.8284\n",
      "Epoch 184/500\n",
      "757/757 [==============================] - 0s 97us/sample - loss: 0.3558 - accuracy: 0.8798 - val_loss: 0.4620 - val_accuracy: 0.8433\n",
      "Epoch 185/500\n",
      "757/757 [==============================] - 0s 99us/sample - loss: 0.3548 - accuracy: 0.8705 - val_loss: 0.4638 - val_accuracy: 0.8284\n",
      "Epoch 186/500\n",
      "757/757 [==============================] - 0s 97us/sample - loss: 0.3439 - accuracy: 0.8798 - val_loss: 0.4365 - val_accuracy: 0.8433\n",
      "Epoch 187/500\n",
      "757/757 [==============================] - 0s 130us/sample - loss: 0.3295 - accuracy: 0.8970 - val_loss: 0.4477 - val_accuracy: 0.8358\n",
      "Epoch 188/500\n",
      "757/757 [==============================] - 0s 88us/sample - loss: 0.3371 - accuracy: 0.8824 - val_loss: 0.4672 - val_accuracy: 0.8433\n",
      "Epoch 189/500\n",
      "757/757 [==============================] - 0s 95us/sample - loss: 0.3411 - accuracy: 0.8864 - val_loss: 0.4844 - val_accuracy: 0.8209\n",
      "Epoch 190/500\n",
      "757/757 [==============================] - 0s 97us/sample - loss: 0.3337 - accuracy: 0.8758 - val_loss: 0.4676 - val_accuracy: 0.8209\n",
      "Epoch 191/500\n",
      "757/757 [==============================] - 0s 108us/sample - loss: 0.3320 - accuracy: 0.8798 - val_loss: 0.4672 - val_accuracy: 0.8209\n",
      "Epoch 192/500\n",
      "757/757 [==============================] - 0s 121us/sample - loss: 0.3254 - accuracy: 0.8904 - val_loss: 0.5372 - val_accuracy: 0.7910\n",
      "Epoch 193/500\n",
      "757/757 [==============================] - 0s 100us/sample - loss: 0.3294 - accuracy: 0.8758 - val_loss: 0.5154 - val_accuracy: 0.7985\n",
      "Epoch 194/500\n",
      "757/757 [==============================] - 0s 97us/sample - loss: 0.3294 - accuracy: 0.8838 - val_loss: 0.4796 - val_accuracy: 0.8433\n",
      "Epoch 195/500\n",
      "757/757 [==============================] - 0s 101us/sample - loss: 0.3214 - accuracy: 0.8824 - val_loss: 0.5136 - val_accuracy: 0.8134\n",
      "Epoch 196/500\n",
      "757/757 [==============================] - 0s 101us/sample - loss: 0.3493 - accuracy: 0.8745 - val_loss: 0.4958 - val_accuracy: 0.8209\n",
      "Epoch 197/500\n",
      "757/757 [==============================] - 0s 102us/sample - loss: 0.3413 - accuracy: 0.8798 - val_loss: 0.4890 - val_accuracy: 0.8134\n",
      "Epoch 198/500\n",
      "757/757 [==============================] - 0s 99us/sample - loss: 0.3333 - accuracy: 0.8798 - val_loss: 0.4798 - val_accuracy: 0.8209\n",
      "Epoch 199/500\n",
      "757/757 [==============================] - 0s 103us/sample - loss: 0.3552 - accuracy: 0.8613 - val_loss: 0.4478 - val_accuracy: 0.8358\n",
      "Epoch 200/500\n",
      "757/757 [==============================] - 0s 100us/sample - loss: 0.3470 - accuracy: 0.8771 - val_loss: 0.4883 - val_accuracy: 0.7985\n",
      "Epoch 201/500\n",
      "757/757 [==============================] - 0s 100us/sample - loss: 0.3342 - accuracy: 0.8745 - val_loss: 0.4817 - val_accuracy: 0.7985\n",
      "Epoch 202/500\n",
      "757/757 [==============================] - 0s 102us/sample - loss: 0.3326 - accuracy: 0.8851 - val_loss: 0.4744 - val_accuracy: 0.8060\n",
      "Epoch 203/500\n",
      "757/757 [==============================] - 0s 98us/sample - loss: 0.3364 - accuracy: 0.8653 - val_loss: 0.4919 - val_accuracy: 0.8358\n",
      "Epoch 204/500\n",
      "757/757 [==============================] - 0s 96us/sample - loss: 0.3299 - accuracy: 0.8824 - val_loss: 0.4712 - val_accuracy: 0.8284\n",
      "Epoch 205/500\n",
      "757/757 [==============================] - 0s 99us/sample - loss: 0.3572 - accuracy: 0.8705 - val_loss: 0.4796 - val_accuracy: 0.8134\n",
      "Epoch 206/500\n",
      "757/757 [==============================] - 0s 101us/sample - loss: 0.3439 - accuracy: 0.8732 - val_loss: 0.4802 - val_accuracy: 0.8209\n",
      "Epoch 207/500\n",
      "757/757 [==============================] - 0s 98us/sample - loss: 0.3383 - accuracy: 0.8732 - val_loss: 0.4823 - val_accuracy: 0.8358\n",
      "Epoch 208/500\n",
      "757/757 [==============================] - 0s 100us/sample - loss: 0.3472 - accuracy: 0.8705 - val_loss: 0.4750 - val_accuracy: 0.8284\n",
      "Epoch 209/500\n",
      "757/757 [==============================] - 0s 102us/sample - loss: 0.3295 - accuracy: 0.8785 - val_loss: 0.4898 - val_accuracy: 0.8209\n",
      "Epoch 210/500\n",
      "757/757 [==============================] - 0s 100us/sample - loss: 0.3337 - accuracy: 0.8838 - val_loss: 0.4658 - val_accuracy: 0.8209\n",
      "Epoch 211/500\n",
      "757/757 [==============================] - 0s 99us/sample - loss: 0.3291 - accuracy: 0.8811 - val_loss: 0.4704 - val_accuracy: 0.8284\n",
      "Epoch 212/500\n",
      "757/757 [==============================] - 0s 100us/sample - loss: 0.3360 - accuracy: 0.8666 - val_loss: 0.4948 - val_accuracy: 0.7761\n",
      "Epoch 213/500\n",
      "757/757 [==============================] - 0s 89us/sample - loss: 0.3436 - accuracy: 0.8877 - val_loss: 0.5128 - val_accuracy: 0.8060\n",
      "Epoch 214/500\n",
      "757/757 [==============================] - 0s 96us/sample - loss: 0.3319 - accuracy: 0.8798 - val_loss: 0.4766 - val_accuracy: 0.8284\n",
      "Epoch 215/500\n",
      "757/757 [==============================] - 0s 89us/sample - loss: 0.3544 - accuracy: 0.8811 - val_loss: 0.4864 - val_accuracy: 0.8284\n",
      "Epoch 216/500\n",
      "757/757 [==============================] - 0s 96us/sample - loss: 0.3219 - accuracy: 0.8983 - val_loss: 0.4926 - val_accuracy: 0.8284\n",
      "Epoch 217/500\n",
      "757/757 [==============================] - 0s 98us/sample - loss: 0.3423 - accuracy: 0.8771 - val_loss: 0.5057 - val_accuracy: 0.7985\n",
      "Epoch 218/500\n",
      "757/757 [==============================] - 0s 88us/sample - loss: 0.3258 - accuracy: 0.8838 - val_loss: 0.4981 - val_accuracy: 0.8134\n",
      "Epoch 219/500\n",
      "757/757 [==============================] - 0s 96us/sample - loss: 0.3157 - accuracy: 0.8705 - val_loss: 0.5042 - val_accuracy: 0.8284\n",
      "Epoch 220/500\n",
      "757/757 [==============================] - 0s 90us/sample - loss: 0.3266 - accuracy: 0.8838 - val_loss: 0.5257 - val_accuracy: 0.8134\n",
      "Epoch 221/500\n",
      "757/757 [==============================] - 0s 97us/sample - loss: 0.3421 - accuracy: 0.8811 - val_loss: 0.4544 - val_accuracy: 0.8358\n",
      "Epoch 222/500\n",
      "757/757 [==============================] - 0s 99us/sample - loss: 0.3319 - accuracy: 0.8811 - val_loss: 0.4481 - val_accuracy: 0.8358\n",
      "Epoch 223/500\n",
      "757/757 [==============================] - 0s 96us/sample - loss: 0.3268 - accuracy: 0.8864 - val_loss: 0.4769 - val_accuracy: 0.8507\n",
      "Epoch 224/500\n",
      "757/757 [==============================] - 0s 95us/sample - loss: 0.3057 - accuracy: 0.8877 - val_loss: 0.5144 - val_accuracy: 0.8284\n",
      "Epoch 225/500\n",
      "757/757 [==============================] - 0s 97us/sample - loss: 0.3272 - accuracy: 0.8811 - val_loss: 0.5071 - val_accuracy: 0.8060\n",
      "Epoch 226/500\n",
      "757/757 [==============================] - 0s 89us/sample - loss: 0.3395 - accuracy: 0.8811 - val_loss: 0.4734 - val_accuracy: 0.8358\n",
      "Epoch 227/500\n",
      "757/757 [==============================] - 0s 90us/sample - loss: 0.3545 - accuracy: 0.8798 - val_loss: 0.4883 - val_accuracy: 0.8134\n",
      "Epoch 228/500\n",
      "757/757 [==============================] - 0s 96us/sample - loss: 0.3434 - accuracy: 0.8811 - val_loss: 0.5084 - val_accuracy: 0.8209\n",
      "Epoch 229/500\n",
      "757/757 [==============================] - 0s 88us/sample - loss: 0.3227 - accuracy: 0.8838 - val_loss: 0.4632 - val_accuracy: 0.8433\n",
      "Epoch 230/500\n",
      "757/757 [==============================] - 0s 88us/sample - loss: 0.3321 - accuracy: 0.8758 - val_loss: 0.4886 - val_accuracy: 0.8433\n",
      "Epoch 231/500\n",
      "757/757 [==============================] - 0s 90us/sample - loss: 0.3263 - accuracy: 0.8824 - val_loss: 0.5082 - val_accuracy: 0.8134\n",
      "Epoch 232/500\n",
      "757/757 [==============================] - 0s 89us/sample - loss: 0.3340 - accuracy: 0.8904 - val_loss: 0.5272 - val_accuracy: 0.8209\n",
      "Epoch 233/500\n",
      "757/757 [==============================] - 0s 87us/sample - loss: 0.3146 - accuracy: 0.8864 - val_loss: 0.4988 - val_accuracy: 0.8060\n",
      "Epoch 234/500\n",
      "757/757 [==============================] - 0s 88us/sample - loss: 0.3388 - accuracy: 0.8798 - val_loss: 0.4988 - val_accuracy: 0.8358\n",
      "Epoch 235/500\n",
      "757/757 [==============================] - 0s 90us/sample - loss: 0.3338 - accuracy: 0.8798 - val_loss: 0.5206 - val_accuracy: 0.8134\n",
      "Epoch 236/500\n",
      "757/757 [==============================] - 0s 100us/sample - loss: 0.3334 - accuracy: 0.8745 - val_loss: 0.5230 - val_accuracy: 0.8209\n",
      "Epoch 237/500\n",
      "757/757 [==============================] - 0s 89us/sample - loss: 0.3285 - accuracy: 0.8877 - val_loss: 0.5185 - val_accuracy: 0.8060\n",
      "Epoch 238/500\n",
      "757/757 [==============================] - 0s 97us/sample - loss: 0.3570 - accuracy: 0.8679 - val_loss: 0.5010 - val_accuracy: 0.8209\n",
      "Epoch 239/500\n",
      "757/757 [==============================] - 0s 100us/sample - loss: 0.3246 - accuracy: 0.8838 - val_loss: 0.5011 - val_accuracy: 0.8134\n",
      "Epoch 240/500\n",
      "757/757 [==============================] - 0s 120us/sample - loss: 0.3289 - accuracy: 0.8838 - val_loss: 0.5258 - val_accuracy: 0.8134\n",
      "Epoch 241/500\n",
      "757/757 [==============================] - 0s 97us/sample - loss: 0.3376 - accuracy: 0.8851 - val_loss: 0.5396 - val_accuracy: 0.8134\n",
      "Epoch 242/500\n",
      "757/757 [==============================] - 0s 87us/sample - loss: 0.3425 - accuracy: 0.8811 - val_loss: 0.5477 - val_accuracy: 0.7985\n",
      "Epoch 243/500\n",
      "757/757 [==============================] - 0s 102us/sample - loss: 0.3458 - accuracy: 0.8732 - val_loss: 0.5265 - val_accuracy: 0.7836\n",
      "Epoch 244/500\n",
      "757/757 [==============================] - 0s 98us/sample - loss: 0.3258 - accuracy: 0.8705 - val_loss: 0.5173 - val_accuracy: 0.8134\n",
      "Epoch 245/500\n",
      "757/757 [==============================] - 0s 98us/sample - loss: 0.3365 - accuracy: 0.8758 - val_loss: 0.5305 - val_accuracy: 0.8060\n",
      "Epoch 246/500\n",
      "757/757 [==============================] - 0s 96us/sample - loss: 0.3329 - accuracy: 0.8838 - val_loss: 0.5410 - val_accuracy: 0.8060\n",
      "Epoch 247/500\n",
      "757/757 [==============================] - 0s 89us/sample - loss: 0.3443 - accuracy: 0.8771 - val_loss: 0.5348 - val_accuracy: 0.8060\n",
      "Epoch 248/500\n",
      "757/757 [==============================] - 0s 101us/sample - loss: 0.3381 - accuracy: 0.8785 - val_loss: 0.5459 - val_accuracy: 0.7836\n",
      "Epoch 249/500\n",
      "757/757 [==============================] - 0s 96us/sample - loss: 0.3049 - accuracy: 0.8864 - val_loss: 0.5211 - val_accuracy: 0.7985\n",
      "Epoch 250/500\n",
      "757/757 [==============================] - 0s 97us/sample - loss: 0.3076 - accuracy: 0.8943 - val_loss: 0.5628 - val_accuracy: 0.7985\n",
      "Epoch 251/500\n",
      "757/757 [==============================] - 0s 88us/sample - loss: 0.3378 - accuracy: 0.8798 - val_loss: 0.5457 - val_accuracy: 0.7910\n",
      "Epoch 252/500\n",
      "757/757 [==============================] - 0s 97us/sample - loss: 0.3257 - accuracy: 0.8956 - val_loss: 0.5361 - val_accuracy: 0.8134\n",
      "Epoch 253/500\n",
      "757/757 [==============================] - 0s 87us/sample - loss: 0.3094 - accuracy: 0.9009 - val_loss: 0.5319 - val_accuracy: 0.8209\n",
      "Epoch 254/500\n",
      "757/757 [==============================] - 0s 88us/sample - loss: 0.3355 - accuracy: 0.8745 - val_loss: 0.4818 - val_accuracy: 0.8209\n",
      "Epoch 255/500\n",
      "757/757 [==============================] - 0s 96us/sample - loss: 0.3254 - accuracy: 0.8851 - val_loss: 0.5233 - val_accuracy: 0.8284\n",
      "Epoch 256/500\n",
      "757/757 [==============================] - 0s 88us/sample - loss: 0.3454 - accuracy: 0.8745 - val_loss: 0.4931 - val_accuracy: 0.8134\n",
      "Epoch 257/500\n",
      "757/757 [==============================] - 0s 96us/sample - loss: 0.3186 - accuracy: 0.8864 - val_loss: 0.4938 - val_accuracy: 0.8134\n",
      "Epoch 258/500\n",
      "757/757 [==============================] - 0s 89us/sample - loss: 0.3126 - accuracy: 0.8851 - val_loss: 0.4845 - val_accuracy: 0.8284\n",
      "Epoch 259/500\n",
      "757/757 [==============================] - 0s 98us/sample - loss: 0.3233 - accuracy: 0.8798 - val_loss: 0.5078 - val_accuracy: 0.8284\n",
      "Epoch 260/500\n",
      "757/757 [==============================] - 0s 97us/sample - loss: 0.3395 - accuracy: 0.8864 - val_loss: 0.4842 - val_accuracy: 0.8284\n",
      "Epoch 261/500\n",
      "757/757 [==============================] - 0s 99us/sample - loss: 0.3246 - accuracy: 0.8851 - val_loss: 0.5018 - val_accuracy: 0.8134\n",
      "Epoch 262/500\n",
      "757/757 [==============================] - 0s 97us/sample - loss: 0.3251 - accuracy: 0.8824 - val_loss: 0.4893 - val_accuracy: 0.8209\n",
      "Epoch 263/500\n",
      "757/757 [==============================] - 0s 96us/sample - loss: 0.3101 - accuracy: 0.8864 - val_loss: 0.4916 - val_accuracy: 0.8209\n",
      "Epoch 264/500\n",
      "757/757 [==============================] - 0s 97us/sample - loss: 0.3342 - accuracy: 0.8864 - val_loss: 0.4758 - val_accuracy: 0.8358\n",
      "Epoch 265/500\n",
      "757/757 [==============================] - 0s 96us/sample - loss: 0.3386 - accuracy: 0.8890 - val_loss: 0.5097 - val_accuracy: 0.8134\n",
      "Epoch 266/500\n",
      "757/757 [==============================] - 0s 89us/sample - loss: 0.3348 - accuracy: 0.8904 - val_loss: 0.5031 - val_accuracy: 0.8209\n",
      "Epoch 267/500\n",
      "757/757 [==============================] - 0s 97us/sample - loss: 0.3363 - accuracy: 0.8864 - val_loss: 0.5134 - val_accuracy: 0.8209\n",
      "Epoch 268/500\n",
      "757/757 [==============================] - 0s 88us/sample - loss: 0.3295 - accuracy: 0.8811 - val_loss: 0.5240 - val_accuracy: 0.8060\n",
      "Epoch 269/500\n",
      "757/757 [==============================] - 0s 97us/sample - loss: 0.3397 - accuracy: 0.8824 - val_loss: 0.4981 - val_accuracy: 0.8134\n",
      "Epoch 270/500\n",
      "757/757 [==============================] - 0s 89us/sample - loss: 0.3190 - accuracy: 0.8970 - val_loss: 0.5004 - val_accuracy: 0.8060\n",
      "Epoch 271/500\n",
      "757/757 [==============================] - 0s 96us/sample - loss: 0.3284 - accuracy: 0.8838 - val_loss: 0.5325 - val_accuracy: 0.8134\n",
      "Epoch 272/500\n",
      "757/757 [==============================] - 0s 90us/sample - loss: 0.3351 - accuracy: 0.8824 - val_loss: 0.4842 - val_accuracy: 0.8284\n",
      "Epoch 273/500\n",
      "757/757 [==============================] - 0s 90us/sample - loss: 0.3439 - accuracy: 0.8838 - val_loss: 0.4945 - val_accuracy: 0.8284\n",
      "Epoch 274/500\n",
      "757/757 [==============================] - 0s 96us/sample - loss: 0.3161 - accuracy: 0.8864 - val_loss: 0.5077 - val_accuracy: 0.8284\n",
      "Epoch 275/500\n",
      "757/757 [==============================] - 0s 98us/sample - loss: 0.3263 - accuracy: 0.8864 - val_loss: 0.4897 - val_accuracy: 0.8358\n",
      "Epoch 276/500\n",
      "757/757 [==============================] - 0s 88us/sample - loss: 0.3175 - accuracy: 0.8798 - val_loss: 0.5208 - val_accuracy: 0.8209\n",
      "Epoch 277/500\n",
      "757/757 [==============================] - 0s 97us/sample - loss: 0.3150 - accuracy: 0.8890 - val_loss: 0.5550 - val_accuracy: 0.8134\n",
      "Epoch 278/500\n",
      "757/757 [==============================] - 0s 97us/sample - loss: 0.3304 - accuracy: 0.8824 - val_loss: 0.5446 - val_accuracy: 0.7910\n",
      "Epoch 279/500\n",
      "757/757 [==============================] - 0s 89us/sample - loss: 0.3165 - accuracy: 0.8904 - val_loss: 0.5436 - val_accuracy: 0.8060\n",
      "Epoch 280/500\n",
      "757/757 [==============================] - 0s 100us/sample - loss: 0.3327 - accuracy: 0.8943 - val_loss: 0.5360 - val_accuracy: 0.8134\n",
      "Epoch 281/500\n",
      "757/757 [==============================] - 0s 89us/sample - loss: 0.3114 - accuracy: 0.8877 - val_loss: 0.5169 - val_accuracy: 0.8358\n",
      "Epoch 282/500\n",
      "757/757 [==============================] - 0s 87us/sample - loss: 0.3101 - accuracy: 0.8904 - val_loss: 0.5177 - val_accuracy: 0.8284\n",
      "Epoch 283/500\n",
      "757/757 [==============================] - 0s 95us/sample - loss: 0.3220 - accuracy: 0.8864 - val_loss: 0.5100 - val_accuracy: 0.8284\n",
      "Epoch 284/500\n",
      "757/757 [==============================] - 0s 89us/sample - loss: 0.3330 - accuracy: 0.8745 - val_loss: 0.5572 - val_accuracy: 0.7985\n",
      "Epoch 285/500\n",
      "757/757 [==============================] - 0s 96us/sample - loss: 0.3297 - accuracy: 0.8798 - val_loss: 0.5281 - val_accuracy: 0.8284\n",
      "Epoch 286/500\n",
      "757/757 [==============================] - 0s 88us/sample - loss: 0.3127 - accuracy: 0.8771 - val_loss: 0.4905 - val_accuracy: 0.8284\n",
      "Epoch 287/500\n",
      "757/757 [==============================] - 0s 96us/sample - loss: 0.3203 - accuracy: 0.8877 - val_loss: 0.5162 - val_accuracy: 0.8060\n",
      "Epoch 288/500\n",
      "757/757 [==============================] - 0s 96us/sample - loss: 0.3424 - accuracy: 0.8798 - val_loss: 0.5443 - val_accuracy: 0.8060\n",
      "Epoch 289/500\n",
      "757/757 [==============================] - 0s 88us/sample - loss: 0.3506 - accuracy: 0.8838 - val_loss: 0.4633 - val_accuracy: 0.8358\n",
      "Epoch 290/500\n",
      "757/757 [==============================] - 0s 88us/sample - loss: 0.3265 - accuracy: 0.8917 - val_loss: 0.4766 - val_accuracy: 0.8060\n",
      "Epoch 291/500\n",
      "757/757 [==============================] - 0s 95us/sample - loss: 0.3203 - accuracy: 0.8917 - val_loss: 0.4817 - val_accuracy: 0.8358\n",
      "Epoch 292/500\n",
      "757/757 [==============================] - 0s 89us/sample - loss: 0.3349 - accuracy: 0.8811 - val_loss: 0.4778 - val_accuracy: 0.8284\n",
      "Epoch 293/500\n",
      "757/757 [==============================] - 0s 90us/sample - loss: 0.3190 - accuracy: 0.8996 - val_loss: 0.4824 - val_accuracy: 0.8284\n",
      "Epoch 294/500\n",
      "757/757 [==============================] - 0s 97us/sample - loss: 0.3397 - accuracy: 0.8745 - val_loss: 0.4825 - val_accuracy: 0.8284\n",
      "Epoch 295/500\n",
      "757/757 [==============================] - 0s 88us/sample - loss: 0.3125 - accuracy: 0.8930 - val_loss: 0.4798 - val_accuracy: 0.8209\n",
      "Epoch 296/500\n",
      "757/757 [==============================] - 0s 99us/sample - loss: 0.3317 - accuracy: 0.8877 - val_loss: 0.4771 - val_accuracy: 0.8358\n",
      "Epoch 297/500\n",
      "757/757 [==============================] - 0s 96us/sample - loss: 0.3303 - accuracy: 0.8758 - val_loss: 0.5051 - val_accuracy: 0.8209\n",
      "Epoch 298/500\n",
      "757/757 [==============================] - 0s 88us/sample - loss: 0.3220 - accuracy: 0.8904 - val_loss: 0.4871 - val_accuracy: 0.8134\n",
      "Epoch 299/500\n",
      "757/757 [==============================] - 0s 95us/sample - loss: 0.3230 - accuracy: 0.8930 - val_loss: 0.5294 - val_accuracy: 0.8209\n",
      "Epoch 300/500\n",
      "757/757 [==============================] - 0s 99us/sample - loss: 0.3268 - accuracy: 0.8811 - val_loss: 0.5119 - val_accuracy: 0.8284\n",
      "Epoch 301/500\n",
      "757/757 [==============================] - 0s 96us/sample - loss: 0.3026 - accuracy: 0.8956 - val_loss: 0.5255 - val_accuracy: 0.8134\n",
      "Epoch 302/500\n",
      "757/757 [==============================] - 0s 98us/sample - loss: 0.3017 - accuracy: 0.8996 - val_loss: 0.5738 - val_accuracy: 0.8060\n",
      "Epoch 303/500\n",
      "757/757 [==============================] - 0s 88us/sample - loss: 0.3103 - accuracy: 0.8890 - val_loss: 0.5356 - val_accuracy: 0.8060\n",
      "Epoch 304/500\n",
      "757/757 [==============================] - 0s 87us/sample - loss: 0.3099 - accuracy: 0.8930 - val_loss: 0.4897 - val_accuracy: 0.8284\n",
      "Epoch 305/500\n",
      "757/757 [==============================] - 0s 89us/sample - loss: 0.3154 - accuracy: 0.8917 - val_loss: 0.5031 - val_accuracy: 0.8284\n",
      "Epoch 306/500\n",
      "757/757 [==============================] - 0s 88us/sample - loss: 0.3219 - accuracy: 0.8890 - val_loss: 0.5068 - val_accuracy: 0.8358\n",
      "Epoch 307/500\n",
      "757/757 [==============================] - 0s 98us/sample - loss: 0.3269 - accuracy: 0.8851 - val_loss: 0.4965 - val_accuracy: 0.8284\n",
      "Epoch 308/500\n",
      "757/757 [==============================] - 0s 94us/sample - loss: 0.3119 - accuracy: 0.8798 - val_loss: 0.4940 - val_accuracy: 0.8284\n",
      "Epoch 309/500\n",
      "757/757 [==============================] - 0s 96us/sample - loss: 0.3160 - accuracy: 0.8824 - val_loss: 0.5211 - val_accuracy: 0.8284\n",
      "Epoch 310/500\n",
      "757/757 [==============================] - 0s 89us/sample - loss: 0.3272 - accuracy: 0.8798 - val_loss: 0.5326 - val_accuracy: 0.8284\n",
      "Epoch 311/500\n",
      "757/757 [==============================] - 0s 91us/sample - loss: 0.3149 - accuracy: 0.8851 - val_loss: 0.5293 - val_accuracy: 0.8209\n",
      "Epoch 312/500\n",
      "757/757 [==============================] - 0s 88us/sample - loss: 0.3219 - accuracy: 0.8890 - val_loss: 0.5284 - val_accuracy: 0.8284\n",
      "Epoch 313/500\n",
      "757/757 [==============================] - 0s 90us/sample - loss: 0.3071 - accuracy: 0.8785 - val_loss: 0.5374 - val_accuracy: 0.7985\n",
      "Epoch 314/500\n",
      "757/757 [==============================] - 0s 95us/sample - loss: 0.3314 - accuracy: 0.8811 - val_loss: 0.5487 - val_accuracy: 0.7836\n",
      "Epoch 315/500\n",
      "757/757 [==============================] - 0s 96us/sample - loss: 0.3192 - accuracy: 0.8904 - val_loss: 0.5579 - val_accuracy: 0.7985\n",
      "Epoch 316/500\n",
      "757/757 [==============================] - 0s 89us/sample - loss: 0.3244 - accuracy: 0.8811 - val_loss: 0.5129 - val_accuracy: 0.8358\n",
      "Epoch 317/500\n",
      "757/757 [==============================] - 0s 96us/sample - loss: 0.3198 - accuracy: 0.8758 - val_loss: 0.5227 - val_accuracy: 0.8209\n",
      "Epoch 318/500\n",
      "757/757 [==============================] - 0s 89us/sample - loss: 0.3302 - accuracy: 0.8745 - val_loss: 0.5010 - val_accuracy: 0.8358\n",
      "Epoch 319/500\n",
      "757/757 [==============================] - 0s 88us/sample - loss: 0.3291 - accuracy: 0.8771 - val_loss: 0.4844 - val_accuracy: 0.8358\n",
      "Epoch 320/500\n",
      "757/757 [==============================] - 0s 99us/sample - loss: 0.3296 - accuracy: 0.8798 - val_loss: 0.4863 - val_accuracy: 0.8284\n",
      "Epoch 321/500\n",
      "757/757 [==============================] - 0s 96us/sample - loss: 0.3379 - accuracy: 0.8798 - val_loss: 0.5005 - val_accuracy: 0.8284\n",
      "Epoch 322/500\n",
      "757/757 [==============================] - 0s 89us/sample - loss: 0.3191 - accuracy: 0.8851 - val_loss: 0.5118 - val_accuracy: 0.8284\n",
      "Epoch 323/500\n",
      "757/757 [==============================] - 0s 99us/sample - loss: 0.3333 - accuracy: 0.8785 - val_loss: 0.5105 - val_accuracy: 0.8284\n",
      "Epoch 324/500\n",
      "757/757 [==============================] - 0s 89us/sample - loss: 0.3215 - accuracy: 0.8798 - val_loss: 0.5060 - val_accuracy: 0.8433\n",
      "Epoch 325/500\n",
      "757/757 [==============================] - 0s 89us/sample - loss: 0.3220 - accuracy: 0.8811 - val_loss: 0.4989 - val_accuracy: 0.8134\n",
      "Epoch 326/500\n",
      "757/757 [==============================] - 0s 88us/sample - loss: 0.3344 - accuracy: 0.8771 - val_loss: 0.4754 - val_accuracy: 0.8284\n",
      "Epoch 327/500\n",
      "757/757 [==============================] - 0s 89us/sample - loss: 0.3278 - accuracy: 0.8838 - val_loss: 0.4750 - val_accuracy: 0.8358\n",
      "Epoch 328/500\n",
      "757/757 [==============================] - 0s 95us/sample - loss: 0.3302 - accuracy: 0.8890 - val_loss: 0.5036 - val_accuracy: 0.8209\n",
      "Epoch 329/500\n",
      "757/757 [==============================] - 0s 87us/sample - loss: 0.3232 - accuracy: 0.8877 - val_loss: 0.4692 - val_accuracy: 0.8358\n",
      "Epoch 330/500\n",
      "757/757 [==============================] - 0s 95us/sample - loss: 0.3157 - accuracy: 0.8943 - val_loss: 0.5022 - val_accuracy: 0.8284\n",
      "Epoch 331/500\n",
      "757/757 [==============================] - 0s 89us/sample - loss: 0.3304 - accuracy: 0.8824 - val_loss: 0.5092 - val_accuracy: 0.8284\n",
      "Epoch 332/500\n",
      "757/757 [==============================] - 0s 90us/sample - loss: 0.3197 - accuracy: 0.8890 - val_loss: 0.5351 - val_accuracy: 0.7985\n",
      "Epoch 333/500\n",
      "757/757 [==============================] - 0s 90us/sample - loss: 0.3311 - accuracy: 0.8877 - val_loss: 0.5015 - val_accuracy: 0.8358\n",
      "Epoch 334/500\n",
      "757/757 [==============================] - 0s 90us/sample - loss: 0.3225 - accuracy: 0.8798 - val_loss: 0.4963 - val_accuracy: 0.8209\n",
      "Epoch 335/500\n",
      "757/757 [==============================] - 0s 97us/sample - loss: 0.3433 - accuracy: 0.8838 - val_loss: 0.4837 - val_accuracy: 0.8284\n",
      "Epoch 336/500\n",
      "757/757 [==============================] - 0s 97us/sample - loss: 0.3359 - accuracy: 0.8811 - val_loss: 0.4890 - val_accuracy: 0.8433\n",
      "Epoch 337/500\n",
      "757/757 [==============================] - 0s 89us/sample - loss: 0.3140 - accuracy: 0.8890 - val_loss: 0.4936 - val_accuracy: 0.8358\n",
      "Epoch 338/500\n",
      "757/757 [==============================] - 0s 89us/sample - loss: 0.3291 - accuracy: 0.8824 - val_loss: 0.4787 - val_accuracy: 0.8358\n",
      "Epoch 339/500\n",
      "757/757 [==============================] - 0s 96us/sample - loss: 0.3170 - accuracy: 0.8785 - val_loss: 0.4994 - val_accuracy: 0.8209\n",
      "Epoch 340/500\n",
      "757/757 [==============================] - 0s 96us/sample - loss: 0.3292 - accuracy: 0.8811 - val_loss: 0.5125 - val_accuracy: 0.8358\n",
      "Epoch 341/500\n",
      "757/757 [==============================] - 0s 89us/sample - loss: 0.3242 - accuracy: 0.8758 - val_loss: 0.5036 - val_accuracy: 0.8284\n",
      "Epoch 342/500\n",
      "757/757 [==============================] - 0s 96us/sample - loss: 0.3125 - accuracy: 0.9009 - val_loss: 0.5001 - val_accuracy: 0.8284\n",
      "Epoch 343/500\n",
      "757/757 [==============================] - 0s 96us/sample - loss: 0.3171 - accuracy: 0.8771 - val_loss: 0.5028 - val_accuracy: 0.8284\n",
      "Epoch 344/500\n",
      "757/757 [==============================] - 0s 95us/sample - loss: 0.3367 - accuracy: 0.8864 - val_loss: 0.4851 - val_accuracy: 0.8284\n",
      "Epoch 345/500\n",
      "757/757 [==============================] - 0s 88us/sample - loss: 0.3207 - accuracy: 0.8877 - val_loss: 0.4872 - val_accuracy: 0.8433\n",
      "Epoch 346/500\n",
      "757/757 [==============================] - 0s 88us/sample - loss: 0.3183 - accuracy: 0.8890 - val_loss: 0.4805 - val_accuracy: 0.8507\n",
      "Epoch 347/500\n",
      "757/757 [==============================] - 0s 89us/sample - loss: 0.3033 - accuracy: 0.8917 - val_loss: 0.4879 - val_accuracy: 0.8358\n",
      "Epoch 348/500\n",
      "757/757 [==============================] - 0s 94us/sample - loss: 0.3141 - accuracy: 0.8785 - val_loss: 0.4940 - val_accuracy: 0.8358\n",
      "Epoch 349/500\n",
      "757/757 [==============================] - 0s 95us/sample - loss: 0.3146 - accuracy: 0.8838 - val_loss: 0.5165 - val_accuracy: 0.8433\n",
      "Epoch 350/500\n",
      "757/757 [==============================] - 0s 89us/sample - loss: 0.3257 - accuracy: 0.8811 - val_loss: 0.4963 - val_accuracy: 0.8284\n",
      "Epoch 351/500\n",
      "757/757 [==============================] - 0s 100us/sample - loss: 0.3124 - accuracy: 0.8824 - val_loss: 0.5166 - val_accuracy: 0.8209\n",
      "Epoch 352/500\n",
      "757/757 [==============================] - 0s 98us/sample - loss: 0.3169 - accuracy: 0.8890 - val_loss: 0.4968 - val_accuracy: 0.8134\n",
      "Epoch 353/500\n",
      "757/757 [==============================] - 0s 90us/sample - loss: 0.3232 - accuracy: 0.8890 - val_loss: 0.4967 - val_accuracy: 0.8284\n",
      "Epoch 354/500\n",
      "757/757 [==============================] - 0s 97us/sample - loss: 0.3165 - accuracy: 0.8811 - val_loss: 0.4749 - val_accuracy: 0.8507\n",
      "Epoch 355/500\n",
      "757/757 [==============================] - 0s 97us/sample - loss: 0.3199 - accuracy: 0.8890 - val_loss: 0.4794 - val_accuracy: 0.8209\n",
      "Epoch 356/500\n",
      "757/757 [==============================] - 0s 88us/sample - loss: 0.3088 - accuracy: 0.8798 - val_loss: 0.4834 - val_accuracy: 0.8358\n",
      "Epoch 357/500\n",
      "757/757 [==============================] - 0s 90us/sample - loss: 0.3278 - accuracy: 0.8838 - val_loss: 0.4854 - val_accuracy: 0.8284\n",
      "Epoch 358/500\n",
      "757/757 [==============================] - 0s 95us/sample - loss: 0.3183 - accuracy: 0.8877 - val_loss: 0.4967 - val_accuracy: 0.8060\n",
      "Epoch 359/500\n",
      "757/757 [==============================] - 0s 88us/sample - loss: 0.3327 - accuracy: 0.8943 - val_loss: 0.5128 - val_accuracy: 0.8209\n",
      "Epoch 360/500\n",
      "757/757 [==============================] - 0s 98us/sample - loss: 0.3242 - accuracy: 0.8824 - val_loss: 0.4877 - val_accuracy: 0.8358\n",
      "Epoch 361/500\n",
      "757/757 [==============================] - 0s 95us/sample - loss: 0.2990 - accuracy: 0.8851 - val_loss: 0.5017 - val_accuracy: 0.8134\n",
      "Epoch 362/500\n",
      "757/757 [==============================] - 0s 87us/sample - loss: 0.3100 - accuracy: 0.8890 - val_loss: 0.5043 - val_accuracy: 0.8284\n",
      "Epoch 363/500\n",
      "757/757 [==============================] - 0s 89us/sample - loss: 0.3006 - accuracy: 0.8917 - val_loss: 0.5093 - val_accuracy: 0.8284\n",
      "Epoch 364/500\n",
      "757/757 [==============================] - 0s 89us/sample - loss: 0.3061 - accuracy: 0.8970 - val_loss: 0.4984 - val_accuracy: 0.8284\n",
      "Epoch 365/500\n",
      "757/757 [==============================] - 0s 96us/sample - loss: 0.3208 - accuracy: 0.8904 - val_loss: 0.4877 - val_accuracy: 0.8284\n",
      "Epoch 366/500\n",
      "757/757 [==============================] - 0s 88us/sample - loss: 0.3021 - accuracy: 0.8917 - val_loss: 0.4893 - val_accuracy: 0.8209\n",
      "Epoch 367/500\n",
      "757/757 [==============================] - 0s 87us/sample - loss: 0.3317 - accuracy: 0.8864 - val_loss: 0.4897 - val_accuracy: 0.8284\n",
      "Epoch 368/500\n",
      "757/757 [==============================] - 0s 88us/sample - loss: 0.3161 - accuracy: 0.8864 - val_loss: 0.4958 - val_accuracy: 0.8060\n",
      "Epoch 369/500\n",
      "757/757 [==============================] - 0s 98us/sample - loss: 0.3304 - accuracy: 0.8719 - val_loss: 0.4948 - val_accuracy: 0.8134\n",
      "Epoch 370/500\n",
      "757/757 [==============================] - 0s 89us/sample - loss: 0.3105 - accuracy: 0.8970 - val_loss: 0.5112 - val_accuracy: 0.8209\n",
      "Epoch 371/500\n",
      "757/757 [==============================] - 0s 88us/sample - loss: 0.3278 - accuracy: 0.8890 - val_loss: 0.4729 - val_accuracy: 0.8209\n",
      "Epoch 372/500\n",
      "757/757 [==============================] - 0s 88us/sample - loss: 0.3473 - accuracy: 0.8811 - val_loss: 0.5289 - val_accuracy: 0.8060\n",
      "Epoch 373/500\n",
      "757/757 [==============================] - 0s 98us/sample - loss: 0.3373 - accuracy: 0.8811 - val_loss: 0.5193 - val_accuracy: 0.8060\n",
      "Epoch 374/500\n",
      "757/757 [==============================] - 0s 89us/sample - loss: 0.3314 - accuracy: 0.8917 - val_loss: 0.5053 - val_accuracy: 0.8209\n",
      "Epoch 375/500\n",
      "757/757 [==============================] - 0s 97us/sample - loss: 0.3186 - accuracy: 0.8877 - val_loss: 0.5013 - val_accuracy: 0.8284\n",
      "Epoch 376/500\n",
      "757/757 [==============================] - 0s 108us/sample - loss: 0.3324 - accuracy: 0.8771 - val_loss: 0.4829 - val_accuracy: 0.8209\n",
      "Epoch 377/500\n",
      "757/757 [==============================] - 0s 97us/sample - loss: 0.3156 - accuracy: 0.8838 - val_loss: 0.4726 - val_accuracy: 0.8433\n",
      "Epoch 378/500\n",
      "757/757 [==============================] - 0s 96us/sample - loss: 0.3109 - accuracy: 0.8904 - val_loss: 0.5050 - val_accuracy: 0.8284\n",
      "Epoch 379/500\n",
      "757/757 [==============================] - 0s 97us/sample - loss: 0.3298 - accuracy: 0.8851 - val_loss: 0.5089 - val_accuracy: 0.8134\n",
      "Epoch 380/500\n",
      "757/757 [==============================] - 0s 91us/sample - loss: 0.3267 - accuracy: 0.8917 - val_loss: 0.5152 - val_accuracy: 0.8284\n",
      "Epoch 381/500\n",
      "757/757 [==============================] - 0s 96us/sample - loss: 0.3045 - accuracy: 0.8904 - val_loss: 0.5102 - val_accuracy: 0.8209\n",
      "Epoch 382/500\n",
      "757/757 [==============================] - 0s 88us/sample - loss: 0.3279 - accuracy: 0.8811 - val_loss: 0.4901 - val_accuracy: 0.8284\n",
      "Epoch 383/500\n",
      "757/757 [==============================] - 0s 88us/sample - loss: 0.3167 - accuracy: 0.8917 - val_loss: 0.5011 - val_accuracy: 0.8433\n",
      "Epoch 384/500\n",
      "757/757 [==============================] - 0s 110us/sample - loss: 0.3455 - accuracy: 0.8798 - val_loss: 0.4879 - val_accuracy: 0.8209\n",
      "Epoch 385/500\n",
      "757/757 [==============================] - 0s 112us/sample - loss: 0.3270 - accuracy: 0.8864 - val_loss: 0.4825 - val_accuracy: 0.8358\n",
      "Epoch 386/500\n",
      "757/757 [==============================] - 0s 88us/sample - loss: 0.3247 - accuracy: 0.8890 - val_loss: 0.4864 - val_accuracy: 0.8134\n",
      "Epoch 387/500\n",
      "757/757 [==============================] - 0s 95us/sample - loss: 0.3100 - accuracy: 0.8864 - val_loss: 0.4949 - val_accuracy: 0.8209\n",
      "Epoch 388/500\n",
      "757/757 [==============================] - 0s 87us/sample - loss: 0.3169 - accuracy: 0.8864 - val_loss: 0.4947 - val_accuracy: 0.8358\n",
      "Epoch 389/500\n",
      "757/757 [==============================] - 0s 88us/sample - loss: 0.3271 - accuracy: 0.8785 - val_loss: 0.5031 - val_accuracy: 0.8284\n",
      "Epoch 390/500\n",
      "757/757 [==============================] - 0s 88us/sample - loss: 0.3102 - accuracy: 0.8851 - val_loss: 0.4838 - val_accuracy: 0.8433\n",
      "Epoch 391/500\n",
      "757/757 [==============================] - 0s 87us/sample - loss: 0.3159 - accuracy: 0.8785 - val_loss: 0.5243 - val_accuracy: 0.8060\n",
      "Epoch 392/500\n",
      "757/757 [==============================] - 0s 89us/sample - loss: 0.3281 - accuracy: 0.8705 - val_loss: 0.5000 - val_accuracy: 0.8284\n",
      "Epoch 393/500\n",
      "757/757 [==============================] - 0s 101us/sample - loss: 0.3525 - accuracy: 0.8851 - val_loss: 0.4716 - val_accuracy: 0.8433\n",
      "Epoch 394/500\n",
      "757/757 [==============================] - 0s 88us/sample - loss: 0.3596 - accuracy: 0.8732 - val_loss: 0.4916 - val_accuracy: 0.8358\n",
      "Epoch 395/500\n",
      "757/757 [==============================] - 0s 87us/sample - loss: 0.3521 - accuracy: 0.8719 - val_loss: 0.4618 - val_accuracy: 0.8433\n",
      "Epoch 396/500\n",
      "757/757 [==============================] - 0s 96us/sample - loss: 0.3533 - accuracy: 0.8719 - val_loss: 0.4638 - val_accuracy: 0.8060\n",
      "Epoch 397/500\n",
      "757/757 [==============================] - 0s 89us/sample - loss: 0.3417 - accuracy: 0.8758 - val_loss: 0.4690 - val_accuracy: 0.8209\n",
      "Epoch 398/500\n",
      "757/757 [==============================] - 0s 88us/sample - loss: 0.3421 - accuracy: 0.8798 - val_loss: 0.4661 - val_accuracy: 0.8433\n",
      "Epoch 399/500\n",
      "757/757 [==============================] - 0s 88us/sample - loss: 0.3496 - accuracy: 0.8705 - val_loss: 0.4784 - val_accuracy: 0.8284\n",
      "Epoch 400/500\n",
      "757/757 [==============================] - 0s 86us/sample - loss: 0.3542 - accuracy: 0.8626 - val_loss: 0.4206 - val_accuracy: 0.8507\n",
      "Epoch 401/500\n",
      "757/757 [==============================] - 0s 90us/sample - loss: 0.3508 - accuracy: 0.8758 - val_loss: 0.4323 - val_accuracy: 0.8507\n",
      "Epoch 402/500\n",
      "757/757 [==============================] - 0s 88us/sample - loss: 0.3375 - accuracy: 0.8824 - val_loss: 0.4330 - val_accuracy: 0.8358\n",
      "Epoch 403/500\n",
      "757/757 [==============================] - 0s 97us/sample - loss: 0.3485 - accuracy: 0.8719 - val_loss: 0.4265 - val_accuracy: 0.8433\n",
      "Epoch 404/500\n",
      "757/757 [==============================] - 0s 89us/sample - loss: 0.3321 - accuracy: 0.8877 - val_loss: 0.5105 - val_accuracy: 0.8284\n",
      "Epoch 405/500\n",
      "757/757 [==============================] - 0s 96us/sample - loss: 0.3291 - accuracy: 0.8877 - val_loss: 0.4539 - val_accuracy: 0.8284\n",
      "Epoch 406/500\n",
      "757/757 [==============================] - 0s 96us/sample - loss: 0.3191 - accuracy: 0.8851 - val_loss: 0.4609 - val_accuracy: 0.8358\n",
      "Epoch 407/500\n",
      "757/757 [==============================] - 0s 88us/sample - loss: 0.3123 - accuracy: 0.8930 - val_loss: 0.4773 - val_accuracy: 0.8284\n",
      "Epoch 408/500\n",
      "757/757 [==============================] - 0s 97us/sample - loss: 0.3369 - accuracy: 0.8851 - val_loss: 0.4635 - val_accuracy: 0.8284\n",
      "Epoch 409/500\n",
      "757/757 [==============================] - 0s 95us/sample - loss: 0.3269 - accuracy: 0.8851 - val_loss: 0.4752 - val_accuracy: 0.8284\n",
      "Epoch 410/500\n",
      "757/757 [==============================] - 0s 97us/sample - loss: 0.3237 - accuracy: 0.8904 - val_loss: 0.4920 - val_accuracy: 0.8284\n",
      "Epoch 411/500\n",
      "757/757 [==============================] - 0s 90us/sample - loss: 0.3413 - accuracy: 0.8838 - val_loss: 0.4802 - val_accuracy: 0.8209\n",
      "Epoch 412/500\n",
      "757/757 [==============================] - 0s 89us/sample - loss: 0.3203 - accuracy: 0.8904 - val_loss: 0.4760 - val_accuracy: 0.8358\n",
      "Epoch 413/500\n",
      "757/757 [==============================] - 0s 89us/sample - loss: 0.3119 - accuracy: 0.8970 - val_loss: 0.4824 - val_accuracy: 0.8209\n",
      "Epoch 414/500\n",
      "757/757 [==============================] - 0s 90us/sample - loss: 0.3278 - accuracy: 0.8811 - val_loss: 0.4955 - val_accuracy: 0.8284\n",
      "Epoch 415/500\n",
      "757/757 [==============================] - 0s 95us/sample - loss: 0.3318 - accuracy: 0.8864 - val_loss: 0.5249 - val_accuracy: 0.8209\n",
      "Epoch 416/500\n",
      "757/757 [==============================] - 0s 98us/sample - loss: 0.3248 - accuracy: 0.8785 - val_loss: 0.4758 - val_accuracy: 0.8433\n",
      "Epoch 417/500\n",
      "757/757 [==============================] - 0s 97us/sample - loss: 0.3200 - accuracy: 0.8877 - val_loss: 0.4859 - val_accuracy: 0.8284\n",
      "Epoch 418/500\n",
      "757/757 [==============================] - 0s 88us/sample - loss: 0.3244 - accuracy: 0.8824 - val_loss: 0.4983 - val_accuracy: 0.8134\n",
      "Epoch 419/500\n",
      "757/757 [==============================] - 0s 98us/sample - loss: 0.3199 - accuracy: 0.8970 - val_loss: 0.5049 - val_accuracy: 0.8284\n",
      "Epoch 420/500\n",
      "757/757 [==============================] - 0s 95us/sample - loss: 0.3214 - accuracy: 0.8798 - val_loss: 0.5162 - val_accuracy: 0.8209\n",
      "Epoch 421/500\n",
      "757/757 [==============================] - 0s 89us/sample - loss: 0.3351 - accuracy: 0.8745 - val_loss: 0.5032 - val_accuracy: 0.8209\n",
      "Epoch 422/500\n",
      "757/757 [==============================] - 0s 89us/sample - loss: 0.3209 - accuracy: 0.8745 - val_loss: 0.4937 - val_accuracy: 0.8209\n",
      "Epoch 423/500\n",
      "757/757 [==============================] - 0s 98us/sample - loss: 0.3230 - accuracy: 0.8811 - val_loss: 0.4879 - val_accuracy: 0.8209\n",
      "Epoch 424/500\n",
      "757/757 [==============================] - 0s 89us/sample - loss: 0.3200 - accuracy: 0.8864 - val_loss: 0.4839 - val_accuracy: 0.8134\n",
      "Epoch 425/500\n",
      "757/757 [==============================] - 0s 96us/sample - loss: 0.3178 - accuracy: 0.8811 - val_loss: 0.4875 - val_accuracy: 0.8209\n",
      "Epoch 426/500\n",
      "757/757 [==============================] - 0s 95us/sample - loss: 0.3357 - accuracy: 0.8838 - val_loss: 0.4832 - val_accuracy: 0.8358\n",
      "Epoch 427/500\n",
      "757/757 [==============================] - 0s 89us/sample - loss: 0.3244 - accuracy: 0.8745 - val_loss: 0.5347 - val_accuracy: 0.8209\n",
      "Epoch 428/500\n",
      "757/757 [==============================] - 0s 97us/sample - loss: 0.3303 - accuracy: 0.8811 - val_loss: 0.4694 - val_accuracy: 0.8134\n",
      "Epoch 429/500\n",
      "757/757 [==============================] - 0s 89us/sample - loss: 0.3225 - accuracy: 0.8771 - val_loss: 0.4654 - val_accuracy: 0.8284\n",
      "Epoch 430/500\n",
      "757/757 [==============================] - 0s 97us/sample - loss: 0.3241 - accuracy: 0.8851 - val_loss: 0.4725 - val_accuracy: 0.8209\n",
      "Epoch 431/500\n",
      "757/757 [==============================] - 0s 89us/sample - loss: 0.3082 - accuracy: 0.8838 - val_loss: 0.4691 - val_accuracy: 0.8433\n",
      "Epoch 432/500\n",
      "757/757 [==============================] - 0s 97us/sample - loss: 0.3135 - accuracy: 0.8811 - val_loss: 0.4831 - val_accuracy: 0.8284\n",
      "Epoch 433/500\n",
      "757/757 [==============================] - 0s 100us/sample - loss: 0.3214 - accuracy: 0.8864 - val_loss: 0.5255 - val_accuracy: 0.8209\n",
      "Epoch 434/500\n",
      "757/757 [==============================] - 0s 96us/sample - loss: 0.3345 - accuracy: 0.8824 - val_loss: 0.4972 - val_accuracy: 0.8134\n",
      "Epoch 435/500\n",
      "757/757 [==============================] - 0s 94us/sample - loss: 0.3348 - accuracy: 0.8890 - val_loss: 0.4782 - val_accuracy: 0.8209\n",
      "Epoch 436/500\n",
      "757/757 [==============================] - 0s 86us/sample - loss: 0.3144 - accuracy: 0.8877 - val_loss: 0.4797 - val_accuracy: 0.8209\n",
      "Epoch 437/500\n",
      "757/757 [==============================] - 0s 89us/sample - loss: 0.3243 - accuracy: 0.8890 - val_loss: 0.4685 - val_accuracy: 0.8358\n",
      "Epoch 438/500\n",
      "757/757 [==============================] - 0s 94us/sample - loss: 0.3118 - accuracy: 0.8943 - val_loss: 0.5176 - val_accuracy: 0.8209\n",
      "Epoch 439/500\n",
      "757/757 [==============================] - 0s 89us/sample - loss: 0.3113 - accuracy: 0.8838 - val_loss: 0.5037 - val_accuracy: 0.8209\n",
      "Epoch 440/500\n",
      "757/757 [==============================] - 0s 97us/sample - loss: 0.3011 - accuracy: 0.8864 - val_loss: 0.5073 - val_accuracy: 0.8134\n",
      "Epoch 441/500\n",
      "757/757 [==============================] - 0s 98us/sample - loss: 0.3115 - accuracy: 0.8864 - val_loss: 0.5056 - val_accuracy: 0.8209\n",
      "Epoch 442/500\n",
      "757/757 [==============================] - 0s 87us/sample - loss: 0.3138 - accuracy: 0.8851 - val_loss: 0.4959 - val_accuracy: 0.8284\n",
      "Epoch 443/500\n",
      "757/757 [==============================] - 0s 88us/sample - loss: 0.3156 - accuracy: 0.8890 - val_loss: 0.5001 - val_accuracy: 0.8358\n",
      "Epoch 444/500\n",
      "757/757 [==============================] - 0s 89us/sample - loss: 0.3186 - accuracy: 0.8864 - val_loss: 0.5206 - val_accuracy: 0.8209\n",
      "Epoch 445/500\n",
      "757/757 [==============================] - 0s 88us/sample - loss: 0.3228 - accuracy: 0.8798 - val_loss: 0.5196 - val_accuracy: 0.8209\n",
      "Epoch 446/500\n",
      "757/757 [==============================] - 0s 95us/sample - loss: 0.3134 - accuracy: 0.8798 - val_loss: 0.5025 - val_accuracy: 0.8134\n",
      "Epoch 447/500\n",
      "757/757 [==============================] - 0s 96us/sample - loss: 0.3166 - accuracy: 0.8877 - val_loss: 0.5123 - val_accuracy: 0.8284\n",
      "Epoch 448/500\n",
      "757/757 [==============================] - 0s 96us/sample - loss: 0.3358 - accuracy: 0.8811 - val_loss: 0.5097 - val_accuracy: 0.8134\n",
      "Epoch 449/500\n",
      "757/757 [==============================] - 0s 95us/sample - loss: 0.3355 - accuracy: 0.8824 - val_loss: 0.4857 - val_accuracy: 0.8209\n",
      "Epoch 450/500\n",
      "757/757 [==============================] - 0s 96us/sample - loss: 0.3310 - accuracy: 0.8838 - val_loss: 0.5273 - val_accuracy: 0.7985\n",
      "Epoch 451/500\n",
      "757/757 [==============================] - 0s 87us/sample - loss: 0.3276 - accuracy: 0.8956 - val_loss: 0.5169 - val_accuracy: 0.8209\n",
      "Epoch 452/500\n",
      "757/757 [==============================] - 0s 98us/sample - loss: 0.3297 - accuracy: 0.8798 - val_loss: 0.5334 - val_accuracy: 0.8134\n",
      "Epoch 453/500\n",
      "757/757 [==============================] - 0s 88us/sample - loss: 0.3388 - accuracy: 0.8851 - val_loss: 0.5197 - val_accuracy: 0.8284\n",
      "Epoch 454/500\n",
      "757/757 [==============================] - 0s 88us/sample - loss: 0.3268 - accuracy: 0.8719 - val_loss: 0.5376 - val_accuracy: 0.8060\n",
      "Epoch 455/500\n",
      "757/757 [==============================] - 0s 97us/sample - loss: 0.3292 - accuracy: 0.8824 - val_loss: 0.4938 - val_accuracy: 0.8134\n",
      "Epoch 456/500\n",
      "757/757 [==============================] - 0s 89us/sample - loss: 0.3257 - accuracy: 0.8785 - val_loss: 0.5555 - val_accuracy: 0.7985\n",
      "Epoch 457/500\n",
      "757/757 [==============================] - 0s 89us/sample - loss: 0.3137 - accuracy: 0.8877 - val_loss: 0.5306 - val_accuracy: 0.8134\n",
      "Epoch 458/500\n",
      "757/757 [==============================] - 0s 88us/sample - loss: 0.3165 - accuracy: 0.8864 - val_loss: 0.5728 - val_accuracy: 0.8060\n",
      "Epoch 459/500\n",
      "757/757 [==============================] - 0s 88us/sample - loss: 0.3411 - accuracy: 0.8877 - val_loss: 0.5395 - val_accuracy: 0.8209\n",
      "Epoch 460/500\n",
      "757/757 [==============================] - 0s 90us/sample - loss: 0.3122 - accuracy: 0.8930 - val_loss: 0.5125 - val_accuracy: 0.8284\n",
      "Epoch 461/500\n",
      "757/757 [==============================] - 0s 88us/sample - loss: 0.3189 - accuracy: 0.8943 - val_loss: 0.5412 - val_accuracy: 0.8284\n",
      "Epoch 462/500\n",
      "757/757 [==============================] - 0s 88us/sample - loss: 0.3261 - accuracy: 0.8785 - val_loss: 0.5216 - val_accuracy: 0.8209\n",
      "Epoch 463/500\n",
      "757/757 [==============================] - 0s 95us/sample - loss: 0.3255 - accuracy: 0.8851 - val_loss: 0.5309 - val_accuracy: 0.8134\n",
      "Epoch 464/500\n",
      "757/757 [==============================] - 0s 89us/sample - loss: 0.3100 - accuracy: 0.8864 - val_loss: 0.5327 - val_accuracy: 0.8134\n",
      "Epoch 465/500\n",
      "757/757 [==============================] - 0s 88us/sample - loss: 0.3216 - accuracy: 0.8890 - val_loss: 0.5696 - val_accuracy: 0.8134\n",
      "Epoch 466/500\n",
      "757/757 [==============================] - 0s 97us/sample - loss: 0.3295 - accuracy: 0.8785 - val_loss: 0.5332 - val_accuracy: 0.8134\n",
      "Epoch 467/500\n",
      "757/757 [==============================] - 0s 87us/sample - loss: 0.3317 - accuracy: 0.8758 - val_loss: 0.5152 - val_accuracy: 0.8134\n",
      "Epoch 468/500\n",
      "757/757 [==============================] - 0s 87us/sample - loss: 0.3224 - accuracy: 0.8904 - val_loss: 0.5131 - val_accuracy: 0.8060\n",
      "Epoch 469/500\n",
      "757/757 [==============================] - 0s 99us/sample - loss: 0.3112 - accuracy: 0.8956 - val_loss: 0.5237 - val_accuracy: 0.7985\n",
      "Epoch 470/500\n",
      "757/757 [==============================] - 0s 89us/sample - loss: 0.3206 - accuracy: 0.8904 - val_loss: 0.5119 - val_accuracy: 0.8134\n",
      "Epoch 471/500\n",
      "757/757 [==============================] - 0s 88us/sample - loss: 0.3116 - accuracy: 0.8890 - val_loss: 0.4999 - val_accuracy: 0.8134\n",
      "Epoch 472/500\n",
      "757/757 [==============================] - 0s 89us/sample - loss: 0.3130 - accuracy: 0.8956 - val_loss: 0.5298 - val_accuracy: 0.7910\n",
      "Epoch 473/500\n",
      "757/757 [==============================] - 0s 90us/sample - loss: 0.3213 - accuracy: 0.8930 - val_loss: 0.5171 - val_accuracy: 0.8209\n",
      "Epoch 474/500\n",
      "757/757 [==============================] - 0s 96us/sample - loss: 0.3186 - accuracy: 0.8877 - val_loss: 0.4870 - val_accuracy: 0.8358\n",
      "Epoch 475/500\n",
      "757/757 [==============================] - 0s 88us/sample - loss: 0.3292 - accuracy: 0.8917 - val_loss: 0.5280 - val_accuracy: 0.8284\n",
      "Epoch 476/500\n",
      "757/757 [==============================] - 0s 88us/sample - loss: 0.3229 - accuracy: 0.8877 - val_loss: 0.5212 - val_accuracy: 0.8284\n",
      "Epoch 477/500\n",
      "757/757 [==============================] - 0s 89us/sample - loss: 0.3151 - accuracy: 0.8956 - val_loss: 0.4567 - val_accuracy: 0.8507\n",
      "Epoch 478/500\n",
      "757/757 [==============================] - 0s 89us/sample - loss: 0.3038 - accuracy: 0.8890 - val_loss: 0.4758 - val_accuracy: 0.8433\n",
      "Epoch 479/500\n",
      "757/757 [==============================] - 0s 89us/sample - loss: 0.3233 - accuracy: 0.8877 - val_loss: 0.4780 - val_accuracy: 0.8433\n",
      "Epoch 480/500\n",
      "757/757 [==============================] - 0s 99us/sample - loss: 0.3181 - accuracy: 0.8798 - val_loss: 0.4977 - val_accuracy: 0.8284\n",
      "Epoch 481/500\n",
      "757/757 [==============================] - 0s 96us/sample - loss: 0.3068 - accuracy: 0.8864 - val_loss: 0.5055 - val_accuracy: 0.8358\n",
      "Epoch 482/500\n",
      "757/757 [==============================] - 0s 95us/sample - loss: 0.3286 - accuracy: 0.8970 - val_loss: 0.5330 - val_accuracy: 0.8358\n",
      "Epoch 483/500\n",
      "757/757 [==============================] - 0s 88us/sample - loss: 0.3150 - accuracy: 0.8930 - val_loss: 0.5059 - val_accuracy: 0.8284\n",
      "Epoch 484/500\n",
      "757/757 [==============================] - 0s 95us/sample - loss: 0.3187 - accuracy: 0.8798 - val_loss: 0.5014 - val_accuracy: 0.8358\n",
      "Epoch 485/500\n",
      "757/757 [==============================] - 0s 88us/sample - loss: 0.3038 - accuracy: 0.8851 - val_loss: 0.5036 - val_accuracy: 0.8433\n",
      "Epoch 486/500\n",
      "757/757 [==============================] - 0s 96us/sample - loss: 0.2993 - accuracy: 0.8930 - val_loss: 0.5227 - val_accuracy: 0.8284\n",
      "Epoch 487/500\n",
      "757/757 [==============================] - 0s 87us/sample - loss: 0.3288 - accuracy: 0.8890 - val_loss: 0.5052 - val_accuracy: 0.8358\n",
      "Epoch 488/500\n",
      "757/757 [==============================] - 0s 143us/sample - loss: 0.3009 - accuracy: 0.8838 - val_loss: 0.5027 - val_accuracy: 0.8433\n",
      "Epoch 489/500\n",
      "757/757 [==============================] - 0s 115us/sample - loss: 0.3294 - accuracy: 0.8917 - val_loss: 0.5036 - val_accuracy: 0.8209\n",
      "Epoch 490/500\n",
      "757/757 [==============================] - 0s 106us/sample - loss: 0.3144 - accuracy: 0.8904 - val_loss: 0.4866 - val_accuracy: 0.8507\n",
      "Epoch 491/500\n",
      "757/757 [==============================] - 0s 102us/sample - loss: 0.3121 - accuracy: 0.8824 - val_loss: 0.5025 - val_accuracy: 0.8358\n",
      "Epoch 492/500\n",
      "757/757 [==============================] - 0s 112us/sample - loss: 0.3203 - accuracy: 0.8917 - val_loss: 0.4975 - val_accuracy: 0.8358\n",
      "Epoch 493/500\n",
      "757/757 [==============================] - 0s 108us/sample - loss: 0.3140 - accuracy: 0.8890 - val_loss: 0.4934 - val_accuracy: 0.8433\n",
      "Epoch 494/500\n",
      "757/757 [==============================] - 0s 113us/sample - loss: 0.3324 - accuracy: 0.8824 - val_loss: 0.4986 - val_accuracy: 0.8134\n",
      "Epoch 495/500\n",
      "757/757 [==============================] - 0s 108us/sample - loss: 0.2988 - accuracy: 0.8943 - val_loss: 0.5162 - val_accuracy: 0.8209\n",
      "Epoch 496/500\n",
      "757/757 [==============================] - 0s 98us/sample - loss: 0.3234 - accuracy: 0.8904 - val_loss: 0.5117 - val_accuracy: 0.8209\n",
      "Epoch 497/500\n",
      "757/757 [==============================] - 0s 95us/sample - loss: 0.2911 - accuracy: 0.8904 - val_loss: 0.5272 - val_accuracy: 0.8134\n",
      "Epoch 498/500\n",
      "757/757 [==============================] - 0s 99us/sample - loss: 0.3169 - accuracy: 0.8917 - val_loss: 0.5106 - val_accuracy: 0.8284\n",
      "Epoch 499/500\n",
      "757/757 [==============================] - 0s 94us/sample - loss: 0.3053 - accuracy: 0.8930 - val_loss: 0.5141 - val_accuracy: 0.8284\n",
      "Epoch 500/500\n",
      "757/757 [==============================] - 0s 87us/sample - loss: 0.3074 - accuracy: 0.8904 - val_loss: 0.5082 - val_accuracy: 0.8134\n",
      "Train on 757 samples, validate on 134 samples\n",
      "Epoch 1/500\n",
      "757/757 [==============================] - 1s 1ms/sample - loss: 0.5798 - accuracy: 0.7041 - val_loss: 0.4978 - val_accuracy: 0.7910\n",
      "Epoch 2/500\n",
      "757/757 [==============================] - 0s 86us/sample - loss: 0.5076 - accuracy: 0.7913 - val_loss: 0.4766 - val_accuracy: 0.7985\n",
      "Epoch 3/500\n",
      "757/757 [==============================] - 0s 87us/sample - loss: 0.4687 - accuracy: 0.8018 - val_loss: 0.4593 - val_accuracy: 0.8060\n",
      "Epoch 4/500\n",
      "757/757 [==============================] - 0s 88us/sample - loss: 0.4739 - accuracy: 0.8111 - val_loss: 0.4364 - val_accuracy: 0.8284\n",
      "Epoch 5/500\n",
      "757/757 [==============================] - 0s 87us/sample - loss: 0.4501 - accuracy: 0.8032 - val_loss: 0.4716 - val_accuracy: 0.7910\n",
      "Epoch 6/500\n",
      "757/757 [==============================] - 0s 97us/sample - loss: 0.4416 - accuracy: 0.8322 - val_loss: 0.4490 - val_accuracy: 0.8209\n",
      "Epoch 7/500\n",
      "757/757 [==============================] - 0s 89us/sample - loss: 0.4535 - accuracy: 0.8269 - val_loss: 0.5054 - val_accuracy: 0.7537\n",
      "Epoch 8/500\n",
      "757/757 [==============================] - 0s 95us/sample - loss: 0.4552 - accuracy: 0.8217 - val_loss: 0.4486 - val_accuracy: 0.8284\n",
      "Epoch 9/500\n",
      "757/757 [==============================] - 0s 98us/sample - loss: 0.4346 - accuracy: 0.8362 - val_loss: 0.4792 - val_accuracy: 0.7985\n",
      "Epoch 10/500\n",
      "757/757 [==============================] - 0s 101us/sample - loss: 0.4337 - accuracy: 0.8322 - val_loss: 0.4442 - val_accuracy: 0.8358\n",
      "Epoch 11/500\n",
      "757/757 [==============================] - 0s 102us/sample - loss: 0.4256 - accuracy: 0.8441 - val_loss: 0.4460 - val_accuracy: 0.8060\n",
      "Epoch 12/500\n",
      "757/757 [==============================] - 0s 98us/sample - loss: 0.4397 - accuracy: 0.8283 - val_loss: 0.4326 - val_accuracy: 0.8284\n",
      "Epoch 13/500\n",
      "757/757 [==============================] - 0s 98us/sample - loss: 0.4328 - accuracy: 0.8349 - val_loss: 0.4575 - val_accuracy: 0.8209\n",
      "Epoch 14/500\n",
      "757/757 [==============================] - 0s 120us/sample - loss: 0.4207 - accuracy: 0.8507 - val_loss: 0.4407 - val_accuracy: 0.8134\n",
      "Epoch 15/500\n",
      "757/757 [==============================] - 0s 106us/sample - loss: 0.4359 - accuracy: 0.8217 - val_loss: 0.4312 - val_accuracy: 0.8134\n",
      "Epoch 16/500\n",
      "757/757 [==============================] - 0s 100us/sample - loss: 0.4028 - accuracy: 0.8481 - val_loss: 0.4453 - val_accuracy: 0.8060\n",
      "Epoch 17/500\n",
      "757/757 [==============================] - 0s 98us/sample - loss: 0.4204 - accuracy: 0.8362 - val_loss: 0.4169 - val_accuracy: 0.8358\n",
      "Epoch 18/500\n",
      "757/757 [==============================] - 0s 100us/sample - loss: 0.4132 - accuracy: 0.8402 - val_loss: 0.4487 - val_accuracy: 0.8284\n",
      "Epoch 19/500\n",
      "757/757 [==============================] - 0s 100us/sample - loss: 0.4197 - accuracy: 0.8441 - val_loss: 0.4574 - val_accuracy: 0.8134\n",
      "Epoch 20/500\n",
      "757/757 [==============================] - 0s 96us/sample - loss: 0.4143 - accuracy: 0.8336 - val_loss: 0.4510 - val_accuracy: 0.8284\n",
      "Epoch 21/500\n",
      "757/757 [==============================] - 0s 98us/sample - loss: 0.4064 - accuracy: 0.8441 - val_loss: 0.4368 - val_accuracy: 0.8209\n",
      "Epoch 22/500\n",
      "757/757 [==============================] - 0s 108us/sample - loss: 0.4087 - accuracy: 0.8454 - val_loss: 0.4175 - val_accuracy: 0.8060\n",
      "Epoch 23/500\n",
      "757/757 [==============================] - 0s 114us/sample - loss: 0.4171 - accuracy: 0.8322 - val_loss: 0.4436 - val_accuracy: 0.8134\n",
      "Epoch 24/500\n",
      "757/757 [==============================] - 0s 102us/sample - loss: 0.4016 - accuracy: 0.8507 - val_loss: 0.4481 - val_accuracy: 0.7910\n",
      "Epoch 25/500\n",
      "757/757 [==============================] - 0s 101us/sample - loss: 0.4068 - accuracy: 0.8494 - val_loss: 0.4335 - val_accuracy: 0.8284\n",
      "Epoch 26/500\n",
      "757/757 [==============================] - 0s 98us/sample - loss: 0.4076 - accuracy: 0.8520 - val_loss: 0.4620 - val_accuracy: 0.8284\n",
      "Epoch 27/500\n",
      "757/757 [==============================] - 0s 103us/sample - loss: 0.4243 - accuracy: 0.8428 - val_loss: 0.4483 - val_accuracy: 0.8209\n",
      "Epoch 28/500\n",
      "757/757 [==============================] - 0s 108us/sample - loss: 0.4033 - accuracy: 0.8402 - val_loss: 0.4782 - val_accuracy: 0.7836\n",
      "Epoch 29/500\n",
      "757/757 [==============================] - 0s 112us/sample - loss: 0.4218 - accuracy: 0.8336 - val_loss: 0.4702 - val_accuracy: 0.7910\n",
      "Epoch 30/500\n",
      "757/757 [==============================] - 0s 114us/sample - loss: 0.4031 - accuracy: 0.8349 - val_loss: 0.4577 - val_accuracy: 0.8060\n",
      "Epoch 31/500\n",
      "757/757 [==============================] - 0s 112us/sample - loss: 0.3958 - accuracy: 0.8534 - val_loss: 0.4316 - val_accuracy: 0.8209\n",
      "Epoch 32/500\n",
      "757/757 [==============================] - 0s 114us/sample - loss: 0.3992 - accuracy: 0.8534 - val_loss: 0.4456 - val_accuracy: 0.8284\n",
      "Epoch 33/500\n",
      "757/757 [==============================] - 0s 113us/sample - loss: 0.3977 - accuracy: 0.8494 - val_loss: 0.5024 - val_accuracy: 0.7985\n",
      "Epoch 34/500\n",
      "757/757 [==============================] - 0s 114us/sample - loss: 0.4052 - accuracy: 0.8428 - val_loss: 0.4723 - val_accuracy: 0.7910\n",
      "Epoch 35/500\n",
      "757/757 [==============================] - 0s 112us/sample - loss: 0.3962 - accuracy: 0.8481 - val_loss: 0.5127 - val_accuracy: 0.7910\n",
      "Epoch 36/500\n",
      "757/757 [==============================] - 0s 114us/sample - loss: 0.3907 - accuracy: 0.8507 - val_loss: 0.4578 - val_accuracy: 0.8134\n",
      "Epoch 37/500\n",
      "757/757 [==============================] - 0s 111us/sample - loss: 0.3775 - accuracy: 0.8666 - val_loss: 0.4781 - val_accuracy: 0.8134\n",
      "Epoch 38/500\n",
      "757/757 [==============================] - 0s 113us/sample - loss: 0.3834 - accuracy: 0.8547 - val_loss: 0.4803 - val_accuracy: 0.7910\n",
      "Epoch 39/500\n",
      "757/757 [==============================] - 0s 112us/sample - loss: 0.3929 - accuracy: 0.8547 - val_loss: 0.4508 - val_accuracy: 0.7985\n",
      "Epoch 40/500\n",
      "757/757 [==============================] - 0s 108us/sample - loss: 0.3987 - accuracy: 0.8626 - val_loss: 0.4814 - val_accuracy: 0.7836\n",
      "Epoch 41/500\n",
      "757/757 [==============================] - 0s 104us/sample - loss: 0.3996 - accuracy: 0.8587 - val_loss: 0.4925 - val_accuracy: 0.7985\n",
      "Epoch 42/500\n",
      "757/757 [==============================] - 0s 105us/sample - loss: 0.3944 - accuracy: 0.8520 - val_loss: 0.4587 - val_accuracy: 0.8060\n",
      "Epoch 43/500\n",
      "757/757 [==============================] - 0s 105us/sample - loss: 0.3780 - accuracy: 0.8705 - val_loss: 0.4833 - val_accuracy: 0.7985\n",
      "Epoch 44/500\n",
      "757/757 [==============================] - 0s 108us/sample - loss: 0.3821 - accuracy: 0.8507 - val_loss: 0.4587 - val_accuracy: 0.7985\n",
      "Epoch 45/500\n",
      "757/757 [==============================] - 0s 129us/sample - loss: 0.3813 - accuracy: 0.8547 - val_loss: 0.5377 - val_accuracy: 0.7836\n",
      "Epoch 46/500\n",
      "757/757 [==============================] - 0s 111us/sample - loss: 0.3858 - accuracy: 0.8587 - val_loss: 0.4678 - val_accuracy: 0.8060\n",
      "Epoch 47/500\n",
      "757/757 [==============================] - 0s 119us/sample - loss: 0.3763 - accuracy: 0.8653 - val_loss: 0.4469 - val_accuracy: 0.8209\n",
      "Epoch 48/500\n",
      "757/757 [==============================] - 0s 115us/sample - loss: 0.4089 - accuracy: 0.8547 - val_loss: 0.4693 - val_accuracy: 0.8060\n",
      "Epoch 49/500\n",
      "757/757 [==============================] - 0s 119us/sample - loss: 0.3862 - accuracy: 0.8415 - val_loss: 0.4635 - val_accuracy: 0.7985\n",
      "Epoch 50/500\n",
      "757/757 [==============================] - 0s 121us/sample - loss: 0.3940 - accuracy: 0.8520 - val_loss: 0.4542 - val_accuracy: 0.8358\n",
      "Epoch 51/500\n",
      "757/757 [==============================] - 0s 116us/sample - loss: 0.3811 - accuracy: 0.8626 - val_loss: 0.4728 - val_accuracy: 0.8209\n",
      "Epoch 52/500\n",
      "757/757 [==============================] - 0s 115us/sample - loss: 0.3831 - accuracy: 0.8507 - val_loss: 0.4658 - val_accuracy: 0.8284\n",
      "Epoch 53/500\n",
      "757/757 [==============================] - 0s 114us/sample - loss: 0.3747 - accuracy: 0.8507 - val_loss: 0.4866 - val_accuracy: 0.8060\n",
      "Epoch 54/500\n",
      "757/757 [==============================] - 0s 108us/sample - loss: 0.3755 - accuracy: 0.8534 - val_loss: 0.4814 - val_accuracy: 0.8284\n",
      "Epoch 55/500\n",
      "757/757 [==============================] - 0s 110us/sample - loss: 0.3823 - accuracy: 0.8639 - val_loss: 0.4490 - val_accuracy: 0.8209\n",
      "Epoch 56/500\n",
      "757/757 [==============================] - 0s 120us/sample - loss: 0.3731 - accuracy: 0.8639 - val_loss: 0.4749 - val_accuracy: 0.8209\n",
      "Epoch 57/500\n",
      "757/757 [==============================] - 0s 112us/sample - loss: 0.3717 - accuracy: 0.8679 - val_loss: 0.4737 - val_accuracy: 0.8060\n",
      "Epoch 58/500\n",
      "757/757 [==============================] - 0s 109us/sample - loss: 0.3848 - accuracy: 0.8653 - val_loss: 0.4546 - val_accuracy: 0.8134\n",
      "Epoch 59/500\n",
      "757/757 [==============================] - 0s 104us/sample - loss: 0.3735 - accuracy: 0.8679 - val_loss: 0.5186 - val_accuracy: 0.7985\n",
      "Epoch 60/500\n",
      "757/757 [==============================] - 0s 104us/sample - loss: 0.3807 - accuracy: 0.8534 - val_loss: 0.4454 - val_accuracy: 0.8284\n",
      "Epoch 61/500\n",
      "757/757 [==============================] - 0s 106us/sample - loss: 0.3764 - accuracy: 0.8613 - val_loss: 0.4543 - val_accuracy: 0.8209\n",
      "Epoch 62/500\n",
      "757/757 [==============================] - 0s 105us/sample - loss: 0.3834 - accuracy: 0.8587 - val_loss: 0.4746 - val_accuracy: 0.8209\n",
      "Epoch 63/500\n",
      "757/757 [==============================] - 0s 107us/sample - loss: 0.3750 - accuracy: 0.8626 - val_loss: 0.4874 - val_accuracy: 0.8060\n",
      "Epoch 64/500\n",
      "757/757 [==============================] - 0s 106us/sample - loss: 0.3759 - accuracy: 0.8587 - val_loss: 0.4484 - val_accuracy: 0.8358\n",
      "Epoch 65/500\n",
      "757/757 [==============================] - 0s 106us/sample - loss: 0.3870 - accuracy: 0.8626 - val_loss: 0.5025 - val_accuracy: 0.8060\n",
      "Epoch 66/500\n",
      "757/757 [==============================] - 0s 111us/sample - loss: 0.3687 - accuracy: 0.8745 - val_loss: 0.5015 - val_accuracy: 0.8134\n",
      "Epoch 67/500\n",
      "757/757 [==============================] - 0s 119us/sample - loss: 0.3658 - accuracy: 0.8481 - val_loss: 0.4955 - val_accuracy: 0.8134\n",
      "Epoch 68/500\n",
      "757/757 [==============================] - 0s 119us/sample - loss: 0.3598 - accuracy: 0.8679 - val_loss: 0.4450 - val_accuracy: 0.8284\n",
      "Epoch 69/500\n",
      "757/757 [==============================] - 0s 110us/sample - loss: 0.3668 - accuracy: 0.8600 - val_loss: 0.4893 - val_accuracy: 0.7985\n",
      "Epoch 70/500\n",
      "757/757 [==============================] - 0s 110us/sample - loss: 0.3631 - accuracy: 0.8573 - val_loss: 0.4902 - val_accuracy: 0.8134\n",
      "Epoch 71/500\n",
      "757/757 [==============================] - 0s 108us/sample - loss: 0.3684 - accuracy: 0.8587 - val_loss: 0.4523 - val_accuracy: 0.8209\n",
      "Epoch 72/500\n",
      "757/757 [==============================] - 0s 107us/sample - loss: 0.3593 - accuracy: 0.8705 - val_loss: 0.4972 - val_accuracy: 0.8284\n",
      "Epoch 73/500\n",
      "757/757 [==============================] - 0s 107us/sample - loss: 0.3625 - accuracy: 0.8573 - val_loss: 0.5366 - val_accuracy: 0.7910\n",
      "Epoch 74/500\n",
      "757/757 [==============================] - 0s 111us/sample - loss: 0.3712 - accuracy: 0.8547 - val_loss: 0.4965 - val_accuracy: 0.8209\n",
      "Epoch 75/500\n",
      "757/757 [==============================] - 0s 108us/sample - loss: 0.3773 - accuracy: 0.8507 - val_loss: 0.4783 - val_accuracy: 0.8284\n",
      "Epoch 76/500\n",
      "757/757 [==============================] - 0s 108us/sample - loss: 0.3736 - accuracy: 0.8587 - val_loss: 0.5188 - val_accuracy: 0.7985\n",
      "Epoch 77/500\n",
      "757/757 [==============================] - 0s 110us/sample - loss: 0.3727 - accuracy: 0.8534 - val_loss: 0.5113 - val_accuracy: 0.8060\n",
      "Epoch 78/500\n",
      "757/757 [==============================] - 0s 108us/sample - loss: 0.3795 - accuracy: 0.8520 - val_loss: 0.4638 - val_accuracy: 0.8209\n",
      "Epoch 79/500\n",
      "757/757 [==============================] - 0s 117us/sample - loss: 0.3744 - accuracy: 0.8666 - val_loss: 0.4783 - val_accuracy: 0.8209\n",
      "Epoch 80/500\n",
      "757/757 [==============================] - 0s 118us/sample - loss: 0.3616 - accuracy: 0.8639 - val_loss: 0.4881 - val_accuracy: 0.8284\n",
      "Epoch 81/500\n",
      "757/757 [==============================] - 0s 109us/sample - loss: 0.3689 - accuracy: 0.8507 - val_loss: 0.4682 - val_accuracy: 0.8209\n",
      "Epoch 82/500\n",
      "757/757 [==============================] - 0s 107us/sample - loss: 0.3695 - accuracy: 0.8626 - val_loss: 0.4456 - val_accuracy: 0.8433\n",
      "Epoch 83/500\n",
      "757/757 [==============================] - 0s 107us/sample - loss: 0.3858 - accuracy: 0.8402 - val_loss: 0.4876 - val_accuracy: 0.8060\n",
      "Epoch 84/500\n",
      "757/757 [==============================] - 0s 107us/sample - loss: 0.3632 - accuracy: 0.8534 - val_loss: 0.4983 - val_accuracy: 0.7985\n",
      "Epoch 85/500\n",
      "757/757 [==============================] - 0s 106us/sample - loss: 0.3711 - accuracy: 0.8639 - val_loss: 0.4693 - val_accuracy: 0.7836\n",
      "Epoch 86/500\n",
      "757/757 [==============================] - 0s 108us/sample - loss: 0.3746 - accuracy: 0.8481 - val_loss: 0.4669 - val_accuracy: 0.7910\n",
      "Epoch 87/500\n",
      "757/757 [==============================] - 0s 105us/sample - loss: 0.3610 - accuracy: 0.8639 - val_loss: 0.4531 - val_accuracy: 0.8358\n",
      "Epoch 88/500\n",
      "757/757 [==============================] - 0s 116us/sample - loss: 0.3667 - accuracy: 0.8613 - val_loss: 0.4871 - val_accuracy: 0.7985\n",
      "Epoch 89/500\n",
      "757/757 [==============================] - 0s 103us/sample - loss: 0.3718 - accuracy: 0.8719 - val_loss: 0.4672 - val_accuracy: 0.8060\n",
      "Epoch 90/500\n",
      "757/757 [==============================] - 0s 120us/sample - loss: 0.3639 - accuracy: 0.8534 - val_loss: 0.4795 - val_accuracy: 0.8134\n",
      "Epoch 91/500\n",
      "757/757 [==============================] - 0s 112us/sample - loss: 0.3632 - accuracy: 0.8745 - val_loss: 0.4800 - val_accuracy: 0.8209\n",
      "Epoch 92/500\n",
      "757/757 [==============================] - 0s 109us/sample - loss: 0.3683 - accuracy: 0.8639 - val_loss: 0.4755 - val_accuracy: 0.8284\n",
      "Epoch 93/500\n",
      "757/757 [==============================] - 0s 100us/sample - loss: 0.3513 - accuracy: 0.8639 - val_loss: 0.5038 - val_accuracy: 0.8134\n",
      "Epoch 94/500\n",
      "757/757 [==============================] - 0s 97us/sample - loss: 0.3608 - accuracy: 0.8626 - val_loss: 0.5171 - val_accuracy: 0.8134\n",
      "Epoch 95/500\n",
      "757/757 [==============================] - 0s 115us/sample - loss: 0.3517 - accuracy: 0.8771 - val_loss: 0.5153 - val_accuracy: 0.8134\n",
      "Epoch 96/500\n",
      "757/757 [==============================] - 0s 103us/sample - loss: 0.3757 - accuracy: 0.8613 - val_loss: 0.4822 - val_accuracy: 0.8209\n",
      "Epoch 97/500\n",
      "757/757 [==============================] - 0s 96us/sample - loss: 0.3659 - accuracy: 0.8666 - val_loss: 0.4921 - val_accuracy: 0.8134\n",
      "Epoch 98/500\n",
      "757/757 [==============================] - 0s 99us/sample - loss: 0.3484 - accuracy: 0.8692 - val_loss: 0.4794 - val_accuracy: 0.8209\n",
      "Epoch 99/500\n",
      "757/757 [==============================] - 0s 95us/sample - loss: 0.3621 - accuracy: 0.8666 - val_loss: 0.4698 - val_accuracy: 0.8134\n",
      "Epoch 100/500\n",
      "757/757 [==============================] - 0s 90us/sample - loss: 0.3632 - accuracy: 0.8626 - val_loss: 0.5046 - val_accuracy: 0.7910\n",
      "Epoch 101/500\n",
      "757/757 [==============================] - 0s 114us/sample - loss: 0.3641 - accuracy: 0.8547 - val_loss: 0.4414 - val_accuracy: 0.8134\n",
      "Epoch 102/500\n",
      "757/757 [==============================] - 0s 108us/sample - loss: 0.3714 - accuracy: 0.8626 - val_loss: 0.4779 - val_accuracy: 0.8134\n",
      "Epoch 103/500\n",
      "757/757 [==============================] - 0s 98us/sample - loss: 0.3536 - accuracy: 0.8719 - val_loss: 0.4644 - val_accuracy: 0.8284\n",
      "Epoch 104/500\n",
      "757/757 [==============================] - 0s 89us/sample - loss: 0.3463 - accuracy: 0.8745 - val_loss: 0.4683 - val_accuracy: 0.8284\n",
      "Epoch 105/500\n",
      "757/757 [==============================] - 0s 101us/sample - loss: 0.3433 - accuracy: 0.8719 - val_loss: 0.5128 - val_accuracy: 0.7910\n",
      "Epoch 106/500\n",
      "757/757 [==============================] - 0s 88us/sample - loss: 0.3652 - accuracy: 0.8639 - val_loss: 0.5046 - val_accuracy: 0.8134\n",
      "Epoch 107/500\n",
      "757/757 [==============================] - 0s 88us/sample - loss: 0.3661 - accuracy: 0.8732 - val_loss: 0.5293 - val_accuracy: 0.8060\n",
      "Epoch 108/500\n",
      "757/757 [==============================] - 0s 102us/sample - loss: 0.3519 - accuracy: 0.8613 - val_loss: 0.5212 - val_accuracy: 0.7985\n",
      "Epoch 109/500\n",
      "757/757 [==============================] - 0s 96us/sample - loss: 0.3530 - accuracy: 0.8613 - val_loss: 0.5066 - val_accuracy: 0.8209\n",
      "Epoch 110/500\n",
      "757/757 [==============================] - 0s 97us/sample - loss: 0.3596 - accuracy: 0.8653 - val_loss: 0.5400 - val_accuracy: 0.7910\n",
      "Epoch 111/500\n",
      "757/757 [==============================] - 0s 89us/sample - loss: 0.3656 - accuracy: 0.8653 - val_loss: 0.5183 - val_accuracy: 0.8209\n",
      "Epoch 112/500\n",
      "757/757 [==============================] - 0s 97us/sample - loss: 0.3597 - accuracy: 0.8626 - val_loss: 0.5286 - val_accuracy: 0.7985\n",
      "Epoch 113/500\n",
      "757/757 [==============================] - 0s 99us/sample - loss: 0.3363 - accuracy: 0.8785 - val_loss: 0.5243 - val_accuracy: 0.8060\n",
      "Epoch 114/500\n",
      "757/757 [==============================] - 0s 89us/sample - loss: 0.3624 - accuracy: 0.8705 - val_loss: 0.4910 - val_accuracy: 0.7910\n",
      "Epoch 115/500\n",
      "757/757 [==============================] - 0s 97us/sample - loss: 0.3633 - accuracy: 0.8600 - val_loss: 0.5215 - val_accuracy: 0.8134\n",
      "Epoch 116/500\n",
      "757/757 [==============================] - 0s 89us/sample - loss: 0.3584 - accuracy: 0.8613 - val_loss: 0.5167 - val_accuracy: 0.8284\n",
      "Epoch 117/500\n",
      "757/757 [==============================] - 0s 89us/sample - loss: 0.3410 - accuracy: 0.8666 - val_loss: 0.5161 - val_accuracy: 0.8284\n",
      "Epoch 118/500\n",
      "757/757 [==============================] - 0s 89us/sample - loss: 0.3532 - accuracy: 0.8679 - val_loss: 0.5532 - val_accuracy: 0.7836\n",
      "Epoch 119/500\n",
      "757/757 [==============================] - 0s 89us/sample - loss: 0.3537 - accuracy: 0.8705 - val_loss: 0.4988 - val_accuracy: 0.8209\n",
      "Epoch 120/500\n",
      "757/757 [==============================] - 0s 89us/sample - loss: 0.3474 - accuracy: 0.8745 - val_loss: 0.4774 - val_accuracy: 0.8284\n",
      "Epoch 121/500\n",
      "757/757 [==============================] - 0s 88us/sample - loss: 0.3629 - accuracy: 0.8679 - val_loss: 0.5145 - val_accuracy: 0.7985\n",
      "Epoch 122/500\n",
      "757/757 [==============================] - 0s 88us/sample - loss: 0.3635 - accuracy: 0.8705 - val_loss: 0.4784 - val_accuracy: 0.8358\n",
      "Epoch 123/500\n",
      "757/757 [==============================] - 0s 97us/sample - loss: 0.3659 - accuracy: 0.8547 - val_loss: 0.5011 - val_accuracy: 0.8284\n",
      "Epoch 124/500\n",
      "757/757 [==============================] - 0s 96us/sample - loss: 0.3629 - accuracy: 0.8719 - val_loss: 0.4967 - val_accuracy: 0.8134\n",
      "Epoch 125/500\n",
      "757/757 [==============================] - 0s 88us/sample - loss: 0.3542 - accuracy: 0.8639 - val_loss: 0.5225 - val_accuracy: 0.8209\n",
      "Epoch 126/500\n",
      "757/757 [==============================] - 0s 91us/sample - loss: 0.3406 - accuracy: 0.8613 - val_loss: 0.5205 - val_accuracy: 0.8209\n",
      "Epoch 127/500\n",
      "757/757 [==============================] - 0s 99us/sample - loss: 0.3458 - accuracy: 0.8745 - val_loss: 0.5120 - val_accuracy: 0.8209\n",
      "Epoch 128/500\n",
      "757/757 [==============================] - 0s 99us/sample - loss: 0.3708 - accuracy: 0.8626 - val_loss: 0.4878 - val_accuracy: 0.8284\n",
      "Epoch 129/500\n",
      "757/757 [==============================] - 0s 88us/sample - loss: 0.3528 - accuracy: 0.8758 - val_loss: 0.4829 - val_accuracy: 0.8358\n",
      "Epoch 130/500\n",
      "757/757 [==============================] - 0s 97us/sample - loss: 0.3705 - accuracy: 0.8600 - val_loss: 0.4469 - val_accuracy: 0.8358\n",
      "Epoch 131/500\n",
      "757/757 [==============================] - 0s 89us/sample - loss: 0.3494 - accuracy: 0.8666 - val_loss: 0.4768 - val_accuracy: 0.8284\n",
      "Epoch 132/500\n",
      "757/757 [==============================] - 0s 98us/sample - loss: 0.3456 - accuracy: 0.8798 - val_loss: 0.4997 - val_accuracy: 0.8284\n",
      "Epoch 133/500\n",
      "757/757 [==============================] - 0s 98us/sample - loss: 0.3519 - accuracy: 0.8745 - val_loss: 0.5185 - val_accuracy: 0.8209\n",
      "Epoch 134/500\n",
      "757/757 [==============================] - 0s 94us/sample - loss: 0.3323 - accuracy: 0.8798 - val_loss: 0.5222 - val_accuracy: 0.7985\n",
      "Epoch 135/500\n",
      "757/757 [==============================] - 0s 88us/sample - loss: 0.3404 - accuracy: 0.8573 - val_loss: 0.5108 - val_accuracy: 0.8284\n",
      "Epoch 136/500\n",
      "757/757 [==============================] - 0s 98us/sample - loss: 0.3331 - accuracy: 0.8705 - val_loss: 0.4945 - val_accuracy: 0.8209\n",
      "Epoch 137/500\n",
      "757/757 [==============================] - 0s 99us/sample - loss: 0.3488 - accuracy: 0.8771 - val_loss: 0.5062 - val_accuracy: 0.8209\n",
      "Epoch 138/500\n",
      "757/757 [==============================] - 0s 97us/sample - loss: 0.3449 - accuracy: 0.8811 - val_loss: 0.5056 - val_accuracy: 0.8284\n",
      "Epoch 139/500\n",
      "757/757 [==============================] - 0s 98us/sample - loss: 0.3453 - accuracy: 0.8811 - val_loss: 0.4623 - val_accuracy: 0.8284\n",
      "Epoch 140/500\n",
      "757/757 [==============================] - 0s 90us/sample - loss: 0.3447 - accuracy: 0.8732 - val_loss: 0.5097 - val_accuracy: 0.8209\n",
      "Epoch 141/500\n",
      "757/757 [==============================] - 0s 98us/sample - loss: 0.3514 - accuracy: 0.8679 - val_loss: 0.5159 - val_accuracy: 0.8209\n",
      "Epoch 142/500\n",
      "757/757 [==============================] - 0s 99us/sample - loss: 0.3454 - accuracy: 0.8771 - val_loss: 0.5062 - val_accuracy: 0.8209\n",
      "Epoch 143/500\n",
      "757/757 [==============================] - 0s 97us/sample - loss: 0.3337 - accuracy: 0.8771 - val_loss: 0.5204 - val_accuracy: 0.8060\n",
      "Epoch 144/500\n",
      "757/757 [==============================] - 0s 99us/sample - loss: 0.3498 - accuracy: 0.8719 - val_loss: 0.5063 - val_accuracy: 0.8134\n",
      "Epoch 145/500\n",
      "757/757 [==============================] - 0s 125us/sample - loss: 0.3697 - accuracy: 0.8587 - val_loss: 0.4889 - val_accuracy: 0.8209\n",
      "Epoch 146/500\n",
      "757/757 [==============================] - 0s 99us/sample - loss: 0.3581 - accuracy: 0.8560 - val_loss: 0.5000 - val_accuracy: 0.8134\n",
      "Epoch 147/500\n",
      "757/757 [==============================] - 0s 96us/sample - loss: 0.3488 - accuracy: 0.8705 - val_loss: 0.4995 - val_accuracy: 0.8060\n",
      "Epoch 148/500\n",
      "757/757 [==============================] - 0s 89us/sample - loss: 0.3647 - accuracy: 0.8732 - val_loss: 0.4510 - val_accuracy: 0.8209\n",
      "Epoch 149/500\n",
      "757/757 [==============================] - 0s 98us/sample - loss: 0.3472 - accuracy: 0.8758 - val_loss: 0.4884 - val_accuracy: 0.8209\n",
      "Epoch 150/500\n",
      "757/757 [==============================] - 0s 97us/sample - loss: 0.3532 - accuracy: 0.8719 - val_loss: 0.4574 - val_accuracy: 0.8284\n",
      "Epoch 151/500\n",
      "757/757 [==============================] - 0s 87us/sample - loss: 0.3484 - accuracy: 0.8679 - val_loss: 0.4580 - val_accuracy: 0.8134\n",
      "Epoch 152/500\n",
      "757/757 [==============================] - 0s 102us/sample - loss: 0.3466 - accuracy: 0.8600 - val_loss: 0.4497 - val_accuracy: 0.8284\n",
      "Epoch 153/500\n",
      "757/757 [==============================] - 0s 97us/sample - loss: 0.3455 - accuracy: 0.8811 - val_loss: 0.4216 - val_accuracy: 0.8433\n",
      "Epoch 154/500\n",
      "757/757 [==============================] - 0s 97us/sample - loss: 0.3616 - accuracy: 0.8692 - val_loss: 0.4389 - val_accuracy: 0.8507\n",
      "Epoch 155/500\n",
      "757/757 [==============================] - 0s 95us/sample - loss: 0.3397 - accuracy: 0.8771 - val_loss: 0.4736 - val_accuracy: 0.8284\n",
      "Epoch 156/500\n",
      "757/757 [==============================] - 0s 99us/sample - loss: 0.3496 - accuracy: 0.8679 - val_loss: 0.5079 - val_accuracy: 0.8134\n",
      "Epoch 157/500\n",
      "757/757 [==============================] - 0s 98us/sample - loss: 0.3447 - accuracy: 0.8692 - val_loss: 0.4824 - val_accuracy: 0.8284\n",
      "Epoch 158/500\n",
      "757/757 [==============================] - 0s 100us/sample - loss: 0.3367 - accuracy: 0.8719 - val_loss: 0.4610 - val_accuracy: 0.8284\n",
      "Epoch 159/500\n",
      "757/757 [==============================] - 0s 97us/sample - loss: 0.3453 - accuracy: 0.8745 - val_loss: 0.4886 - val_accuracy: 0.8209\n",
      "Epoch 160/500\n",
      "757/757 [==============================] - 0s 97us/sample - loss: 0.3481 - accuracy: 0.8639 - val_loss: 0.5211 - val_accuracy: 0.8209\n",
      "Epoch 161/500\n",
      "757/757 [==============================] - 0s 99us/sample - loss: 0.3564 - accuracy: 0.8653 - val_loss: 0.5288 - val_accuracy: 0.8134\n",
      "Epoch 162/500\n",
      "757/757 [==============================] - 0s 98us/sample - loss: 0.3498 - accuracy: 0.8732 - val_loss: 0.4905 - val_accuracy: 0.8284\n",
      "Epoch 163/500\n",
      "757/757 [==============================] - 0s 95us/sample - loss: 0.3665 - accuracy: 0.8798 - val_loss: 0.4839 - val_accuracy: 0.8284\n",
      "Epoch 164/500\n",
      "757/757 [==============================] - 0s 90us/sample - loss: 0.3535 - accuracy: 0.8824 - val_loss: 0.4714 - val_accuracy: 0.8507\n",
      "Epoch 165/500\n",
      "757/757 [==============================] - 0s 89us/sample - loss: 0.3387 - accuracy: 0.8771 - val_loss: 0.4891 - val_accuracy: 0.8209\n",
      "Epoch 166/500\n",
      "757/757 [==============================] - 0s 97us/sample - loss: 0.3433 - accuracy: 0.8719 - val_loss: 0.5020 - val_accuracy: 0.8060\n",
      "Epoch 167/500\n",
      "757/757 [==============================] - 0s 98us/sample - loss: 0.3423 - accuracy: 0.8653 - val_loss: 0.4967 - val_accuracy: 0.8209\n",
      "Epoch 168/500\n",
      "757/757 [==============================] - 0s 97us/sample - loss: 0.3499 - accuracy: 0.8679 - val_loss: 0.5156 - val_accuracy: 0.8209\n",
      "Epoch 169/500\n",
      "757/757 [==============================] - 0s 96us/sample - loss: 0.3306 - accuracy: 0.8851 - val_loss: 0.4794 - val_accuracy: 0.8209\n",
      "Epoch 170/500\n",
      "757/757 [==============================] - 0s 96us/sample - loss: 0.3393 - accuracy: 0.8745 - val_loss: 0.4946 - val_accuracy: 0.8134\n",
      "Epoch 171/500\n",
      "757/757 [==============================] - 0s 99us/sample - loss: 0.3277 - accuracy: 0.8771 - val_loss: 0.5121 - val_accuracy: 0.8284\n",
      "Epoch 172/500\n",
      "757/757 [==============================] - 0s 97us/sample - loss: 0.3457 - accuracy: 0.8732 - val_loss: 0.5111 - val_accuracy: 0.8134\n",
      "Epoch 173/500\n",
      "757/757 [==============================] - 0s 90us/sample - loss: 0.3442 - accuracy: 0.8758 - val_loss: 0.5224 - val_accuracy: 0.8134\n",
      "Epoch 174/500\n",
      "757/757 [==============================] - 0s 91us/sample - loss: 0.3587 - accuracy: 0.8679 - val_loss: 0.4706 - val_accuracy: 0.8209\n",
      "Epoch 175/500\n",
      "757/757 [==============================] - 0s 97us/sample - loss: 0.3458 - accuracy: 0.8719 - val_loss: 0.4639 - val_accuracy: 0.8358\n",
      "Epoch 176/500\n",
      "757/757 [==============================] - 0s 100us/sample - loss: 0.3433 - accuracy: 0.8771 - val_loss: 0.4788 - val_accuracy: 0.8358\n",
      "Epoch 177/500\n",
      "757/757 [==============================] - 0s 99us/sample - loss: 0.3472 - accuracy: 0.8745 - val_loss: 0.4836 - val_accuracy: 0.8358\n",
      "Epoch 178/500\n",
      "757/757 [==============================] - 0s 91us/sample - loss: 0.3524 - accuracy: 0.8613 - val_loss: 0.4689 - val_accuracy: 0.8284\n",
      "Epoch 179/500\n",
      "757/757 [==============================] - 0s 96us/sample - loss: 0.3395 - accuracy: 0.8719 - val_loss: 0.4750 - val_accuracy: 0.8284\n",
      "Epoch 180/500\n",
      "757/757 [==============================] - 0s 91us/sample - loss: 0.3442 - accuracy: 0.8639 - val_loss: 0.4964 - val_accuracy: 0.8284\n",
      "Epoch 181/500\n",
      "757/757 [==============================] - 0s 97us/sample - loss: 0.3514 - accuracy: 0.8639 - val_loss: 0.4855 - val_accuracy: 0.8134\n",
      "Epoch 182/500\n",
      "757/757 [==============================] - 0s 99us/sample - loss: 0.3484 - accuracy: 0.8679 - val_loss: 0.4878 - val_accuracy: 0.8209\n",
      "Epoch 183/500\n",
      "757/757 [==============================] - 0s 98us/sample - loss: 0.3496 - accuracy: 0.8719 - val_loss: 0.4851 - val_accuracy: 0.8209\n",
      "Epoch 184/500\n",
      "757/757 [==============================] - 0s 99us/sample - loss: 0.3462 - accuracy: 0.8719 - val_loss: 0.4917 - val_accuracy: 0.8209\n",
      "Epoch 185/500\n",
      "757/757 [==============================] - 0s 97us/sample - loss: 0.3372 - accuracy: 0.8798 - val_loss: 0.4900 - val_accuracy: 0.8358\n",
      "Epoch 186/500\n",
      "757/757 [==============================] - 0s 97us/sample - loss: 0.3492 - accuracy: 0.8692 - val_loss: 0.4974 - val_accuracy: 0.8358\n",
      "Epoch 187/500\n",
      "757/757 [==============================] - 0s 99us/sample - loss: 0.3915 - accuracy: 0.8520 - val_loss: 0.4665 - val_accuracy: 0.8209\n",
      "Epoch 188/500\n",
      "757/757 [==============================] - 0s 97us/sample - loss: 0.3727 - accuracy: 0.8626 - val_loss: 0.5063 - val_accuracy: 0.8060\n",
      "Epoch 189/500\n",
      "757/757 [==============================] - 0s 97us/sample - loss: 0.3649 - accuracy: 0.8666 - val_loss: 0.4890 - val_accuracy: 0.8134\n",
      "Epoch 190/500\n",
      "757/757 [==============================] - 0s 98us/sample - loss: 0.3656 - accuracy: 0.8626 - val_loss: 0.4750 - val_accuracy: 0.8134\n",
      "Epoch 191/500\n",
      "757/757 [==============================] - 0s 95us/sample - loss: 0.3555 - accuracy: 0.8613 - val_loss: 0.4901 - val_accuracy: 0.8209\n",
      "Epoch 192/500\n",
      "757/757 [==============================] - 0s 90us/sample - loss: 0.3648 - accuracy: 0.8732 - val_loss: 0.4818 - val_accuracy: 0.8209\n",
      "Epoch 193/500\n",
      "757/757 [==============================] - 0s 96us/sample - loss: 0.3332 - accuracy: 0.8745 - val_loss: 0.5023 - val_accuracy: 0.8209\n",
      "Epoch 194/500\n",
      "757/757 [==============================] - 0s 89us/sample - loss: 0.3533 - accuracy: 0.8798 - val_loss: 0.4926 - val_accuracy: 0.8284\n",
      "Epoch 195/500\n",
      "757/757 [==============================] - 0s 88us/sample - loss: 0.3442 - accuracy: 0.8798 - val_loss: 0.4329 - val_accuracy: 0.8507\n",
      "Epoch 196/500\n",
      "757/757 [==============================] - 0s 98us/sample - loss: 0.3550 - accuracy: 0.8679 - val_loss: 0.5202 - val_accuracy: 0.8284\n",
      "Epoch 197/500\n",
      "757/757 [==============================] - 0s 88us/sample - loss: 0.3457 - accuracy: 0.8666 - val_loss: 0.5124 - val_accuracy: 0.8060\n",
      "Epoch 198/500\n",
      "757/757 [==============================] - 0s 89us/sample - loss: 0.3593 - accuracy: 0.8732 - val_loss: 0.4560 - val_accuracy: 0.8209\n",
      "Epoch 199/500\n",
      "757/757 [==============================] - 0s 98us/sample - loss: 0.3326 - accuracy: 0.8824 - val_loss: 0.5056 - val_accuracy: 0.8209\n",
      "Epoch 200/500\n",
      "757/757 [==============================] - 0s 88us/sample - loss: 0.3461 - accuracy: 0.8838 - val_loss: 0.4986 - val_accuracy: 0.8209\n",
      "Epoch 201/500\n",
      "757/757 [==============================] - 0s 95us/sample - loss: 0.3461 - accuracy: 0.8771 - val_loss: 0.4934 - val_accuracy: 0.8060\n",
      "Epoch 202/500\n",
      "757/757 [==============================] - 0s 88us/sample - loss: 0.3516 - accuracy: 0.8705 - val_loss: 0.5063 - val_accuracy: 0.8134\n",
      "Epoch 203/500\n",
      "757/757 [==============================] - 0s 96us/sample - loss: 0.3572 - accuracy: 0.8666 - val_loss: 0.4432 - val_accuracy: 0.8358\n",
      "Epoch 204/500\n",
      "757/757 [==============================] - 0s 94us/sample - loss: 0.3462 - accuracy: 0.8758 - val_loss: 0.4540 - val_accuracy: 0.8433\n",
      "Epoch 205/500\n",
      "757/757 [==============================] - 0s 96us/sample - loss: 0.3515 - accuracy: 0.8771 - val_loss: 0.4660 - val_accuracy: 0.8284\n",
      "Epoch 206/500\n",
      "757/757 [==============================] - 0s 96us/sample - loss: 0.3333 - accuracy: 0.8838 - val_loss: 0.4724 - val_accuracy: 0.8433\n",
      "Epoch 207/500\n",
      "757/757 [==============================] - 0s 90us/sample - loss: 0.3358 - accuracy: 0.8745 - val_loss: 0.4747 - val_accuracy: 0.8284\n",
      "Epoch 208/500\n",
      "757/757 [==============================] - 0s 96us/sample - loss: 0.3513 - accuracy: 0.8771 - val_loss: 0.4680 - val_accuracy: 0.8433\n",
      "Epoch 209/500\n",
      "757/757 [==============================] - 0s 97us/sample - loss: 0.3345 - accuracy: 0.8785 - val_loss: 0.4698 - val_accuracy: 0.8433\n",
      "Epoch 210/500\n",
      "757/757 [==============================] - 0s 95us/sample - loss: 0.3417 - accuracy: 0.8745 - val_loss: 0.4609 - val_accuracy: 0.8507\n",
      "Epoch 211/500\n",
      "757/757 [==============================] - 0s 95us/sample - loss: 0.3301 - accuracy: 0.8732 - val_loss: 0.5138 - val_accuracy: 0.8134\n",
      "Epoch 212/500\n",
      "757/757 [==============================] - 0s 88us/sample - loss: 0.3345 - accuracy: 0.8917 - val_loss: 0.5100 - val_accuracy: 0.8134\n",
      "Epoch 213/500\n",
      "757/757 [==============================] - 0s 89us/sample - loss: 0.3521 - accuracy: 0.8864 - val_loss: 0.5052 - val_accuracy: 0.8134\n",
      "Epoch 214/500\n",
      "757/757 [==============================] - 0s 95us/sample - loss: 0.3466 - accuracy: 0.8692 - val_loss: 0.4718 - val_accuracy: 0.8433\n",
      "Epoch 215/500\n",
      "757/757 [==============================] - 0s 95us/sample - loss: 0.3201 - accuracy: 0.8771 - val_loss: 0.4830 - val_accuracy: 0.8433\n",
      "Epoch 216/500\n",
      "757/757 [==============================] - 0s 98us/sample - loss: 0.3139 - accuracy: 0.8917 - val_loss: 0.4960 - val_accuracy: 0.8284\n",
      "Epoch 217/500\n",
      "757/757 [==============================] - 0s 95us/sample - loss: 0.3417 - accuracy: 0.8771 - val_loss: 0.4710 - val_accuracy: 0.8358\n",
      "Epoch 218/500\n",
      "757/757 [==============================] - 0s 105us/sample - loss: 0.3401 - accuracy: 0.8811 - val_loss: 0.4804 - val_accuracy: 0.8284\n",
      "Epoch 219/500\n",
      "757/757 [==============================] - 0s 97us/sample - loss: 0.3364 - accuracy: 0.8719 - val_loss: 0.4779 - val_accuracy: 0.8284\n",
      "Epoch 220/500\n",
      "757/757 [==============================] - 0s 97us/sample - loss: 0.3488 - accuracy: 0.8745 - val_loss: 0.5212 - val_accuracy: 0.7985\n",
      "Epoch 221/500\n",
      "757/757 [==============================] - 0s 98us/sample - loss: 0.3298 - accuracy: 0.8824 - val_loss: 0.4717 - val_accuracy: 0.8284\n",
      "Epoch 222/500\n",
      "757/757 [==============================] - 0s 90us/sample - loss: 0.3407 - accuracy: 0.8838 - val_loss: 0.5149 - val_accuracy: 0.8134\n",
      "Epoch 223/500\n",
      "757/757 [==============================] - 0s 90us/sample - loss: 0.3596 - accuracy: 0.8666 - val_loss: 0.4974 - val_accuracy: 0.8358\n",
      "Epoch 224/500\n",
      "757/757 [==============================] - 0s 90us/sample - loss: 0.3415 - accuracy: 0.8758 - val_loss: 0.5116 - val_accuracy: 0.8209\n",
      "Epoch 225/500\n",
      "757/757 [==============================] - 0s 88us/sample - loss: 0.3339 - accuracy: 0.8732 - val_loss: 0.4807 - val_accuracy: 0.8284\n",
      "Epoch 226/500\n",
      "757/757 [==============================] - 0s 98us/sample - loss: 0.3294 - accuracy: 0.8745 - val_loss: 0.4906 - val_accuracy: 0.8507\n",
      "Epoch 227/500\n",
      "757/757 [==============================] - 0s 88us/sample - loss: 0.3423 - accuracy: 0.8785 - val_loss: 0.4701 - val_accuracy: 0.8507\n",
      "Epoch 228/500\n",
      "757/757 [==============================] - 0s 95us/sample - loss: 0.3443 - accuracy: 0.8745 - val_loss: 0.5020 - val_accuracy: 0.8134\n",
      "Epoch 229/500\n",
      "757/757 [==============================] - 0s 96us/sample - loss: 0.3365 - accuracy: 0.8758 - val_loss: 0.4846 - val_accuracy: 0.8358\n",
      "Epoch 230/500\n",
      "757/757 [==============================] - 0s 91us/sample - loss: 0.3456 - accuracy: 0.8771 - val_loss: 0.4953 - val_accuracy: 0.8209\n",
      "Epoch 231/500\n",
      "757/757 [==============================] - 0s 95us/sample - loss: 0.3482 - accuracy: 0.8785 - val_loss: 0.5181 - val_accuracy: 0.8209\n",
      "Epoch 232/500\n",
      "757/757 [==============================] - 0s 95us/sample - loss: 0.3617 - accuracy: 0.8666 - val_loss: 0.4916 - val_accuracy: 0.8209\n",
      "Epoch 233/500\n",
      "757/757 [==============================] - 0s 98us/sample - loss: 0.3321 - accuracy: 0.8811 - val_loss: 0.4773 - val_accuracy: 0.8433\n",
      "Epoch 234/500\n",
      "757/757 [==============================] - 0s 96us/sample - loss: 0.3345 - accuracy: 0.8692 - val_loss: 0.4771 - val_accuracy: 0.8433\n",
      "Epoch 235/500\n",
      "757/757 [==============================] - 0s 99us/sample - loss: 0.3655 - accuracy: 0.8719 - val_loss: 0.4670 - val_accuracy: 0.8358\n",
      "Epoch 236/500\n",
      "757/757 [==============================] - 0s 89us/sample - loss: 0.3333 - accuracy: 0.8732 - val_loss: 0.4640 - val_accuracy: 0.8507\n",
      "Epoch 237/500\n",
      "757/757 [==============================] - 0s 99us/sample - loss: 0.3164 - accuracy: 0.8904 - val_loss: 0.4740 - val_accuracy: 0.8507\n",
      "Epoch 238/500\n",
      "757/757 [==============================] - 0s 95us/sample - loss: 0.3300 - accuracy: 0.8824 - val_loss: 0.4784 - val_accuracy: 0.8433\n",
      "Epoch 239/500\n",
      "757/757 [==============================] - 0s 89us/sample - loss: 0.3380 - accuracy: 0.8824 - val_loss: 0.4876 - val_accuracy: 0.8284\n",
      "Epoch 240/500\n",
      "757/757 [==============================] - 0s 94us/sample - loss: 0.3338 - accuracy: 0.8864 - val_loss: 0.4805 - val_accuracy: 0.8134\n",
      "Epoch 241/500\n",
      "757/757 [==============================] - 0s 89us/sample - loss: 0.3517 - accuracy: 0.8705 - val_loss: 0.4420 - val_accuracy: 0.8358\n",
      "Epoch 242/500\n",
      "757/757 [==============================] - 0s 88us/sample - loss: 0.3452 - accuracy: 0.8811 - val_loss: 0.4442 - val_accuracy: 0.8433\n",
      "Epoch 243/500\n",
      "757/757 [==============================] - 0s 94us/sample - loss: 0.3542 - accuracy: 0.8771 - val_loss: 0.4976 - val_accuracy: 0.8209\n",
      "Epoch 244/500\n",
      "757/757 [==============================] - 0s 96us/sample - loss: 0.3408 - accuracy: 0.8679 - val_loss: 0.5068 - val_accuracy: 0.8134\n",
      "Epoch 245/500\n",
      "757/757 [==============================] - 0s 87us/sample - loss: 0.3354 - accuracy: 0.8838 - val_loss: 0.4895 - val_accuracy: 0.8433\n",
      "Epoch 246/500\n",
      "757/757 [==============================] - 0s 88us/sample - loss: 0.3354 - accuracy: 0.8771 - val_loss: 0.4842 - val_accuracy: 0.8358\n",
      "Epoch 247/500\n",
      "757/757 [==============================] - 0s 88us/sample - loss: 0.3538 - accuracy: 0.8758 - val_loss: 0.5038 - val_accuracy: 0.8284\n",
      "Epoch 248/500\n",
      "757/757 [==============================] - 0s 89us/sample - loss: 0.3460 - accuracy: 0.8824 - val_loss: 0.4974 - val_accuracy: 0.8134\n",
      "Epoch 249/500\n",
      "757/757 [==============================] - 0s 89us/sample - loss: 0.3395 - accuracy: 0.8705 - val_loss: 0.4872 - val_accuracy: 0.8358\n",
      "Epoch 250/500\n",
      "757/757 [==============================] - 0s 99us/sample - loss: 0.3322 - accuracy: 0.8824 - val_loss: 0.4778 - val_accuracy: 0.8507\n",
      "Epoch 251/500\n",
      "757/757 [==============================] - 0s 89us/sample - loss: 0.3308 - accuracy: 0.8785 - val_loss: 0.4508 - val_accuracy: 0.8582\n",
      "Epoch 252/500\n",
      "757/757 [==============================] - 0s 95us/sample - loss: 0.3448 - accuracy: 0.8758 - val_loss: 0.4420 - val_accuracy: 0.8433\n",
      "Epoch 253/500\n",
      "757/757 [==============================] - 0s 95us/sample - loss: 0.3277 - accuracy: 0.8745 - val_loss: 0.4536 - val_accuracy: 0.8358\n",
      "Epoch 254/500\n",
      "757/757 [==============================] - 0s 96us/sample - loss: 0.3441 - accuracy: 0.8785 - val_loss: 0.4893 - val_accuracy: 0.8209\n",
      "Epoch 255/500\n",
      "757/757 [==============================] - 0s 88us/sample - loss: 0.3109 - accuracy: 0.8956 - val_loss: 0.4946 - val_accuracy: 0.8209\n",
      "Epoch 256/500\n",
      "757/757 [==============================] - 0s 100us/sample - loss: 0.3358 - accuracy: 0.8666 - val_loss: 0.4457 - val_accuracy: 0.8358\n",
      "Epoch 257/500\n",
      "757/757 [==============================] - 0s 96us/sample - loss: 0.3327 - accuracy: 0.8705 - val_loss: 0.4523 - val_accuracy: 0.8433\n",
      "Epoch 258/500\n",
      "757/757 [==============================] - 0s 95us/sample - loss: 0.3343 - accuracy: 0.8785 - val_loss: 0.4601 - val_accuracy: 0.8358\n",
      "Epoch 259/500\n",
      "757/757 [==============================] - 0s 96us/sample - loss: 0.3506 - accuracy: 0.8864 - val_loss: 0.4737 - val_accuracy: 0.8284\n",
      "Epoch 260/500\n",
      "757/757 [==============================] - 0s 94us/sample - loss: 0.3455 - accuracy: 0.8758 - val_loss: 0.4589 - val_accuracy: 0.8358\n",
      "Epoch 261/500\n",
      "757/757 [==============================] - 0s 96us/sample - loss: 0.3443 - accuracy: 0.8785 - val_loss: 0.4951 - val_accuracy: 0.8284\n",
      "Epoch 262/500\n",
      "757/757 [==============================] - 0s 95us/sample - loss: 0.3322 - accuracy: 0.8824 - val_loss: 0.4920 - val_accuracy: 0.8209\n",
      "Epoch 263/500\n",
      "757/757 [==============================] - 0s 99us/sample - loss: 0.3288 - accuracy: 0.8824 - val_loss: 0.5058 - val_accuracy: 0.8209\n",
      "Epoch 264/500\n",
      "757/757 [==============================] - 0s 100us/sample - loss: 0.3195 - accuracy: 0.8917 - val_loss: 0.4879 - val_accuracy: 0.8134\n",
      "Epoch 265/500\n",
      "757/757 [==============================] - 0s 97us/sample - loss: 0.3268 - accuracy: 0.8758 - val_loss: 0.5331 - val_accuracy: 0.8134\n",
      "Epoch 266/500\n",
      "757/757 [==============================] - 0s 96us/sample - loss: 0.3415 - accuracy: 0.8732 - val_loss: 0.4830 - val_accuracy: 0.8358\n",
      "Epoch 267/500\n",
      "757/757 [==============================] - 0s 91us/sample - loss: 0.3304 - accuracy: 0.8811 - val_loss: 0.4693 - val_accuracy: 0.8358\n",
      "Epoch 268/500\n",
      "757/757 [==============================] - 0s 100us/sample - loss: 0.3354 - accuracy: 0.8838 - val_loss: 0.4737 - val_accuracy: 0.8284\n",
      "Epoch 269/500\n",
      "757/757 [==============================] - 0s 96us/sample - loss: 0.3580 - accuracy: 0.8732 - val_loss: 0.4833 - val_accuracy: 0.8209\n",
      "Epoch 270/500\n",
      "757/757 [==============================] - 0s 104us/sample - loss: 0.3273 - accuracy: 0.8785 - val_loss: 0.4831 - val_accuracy: 0.8209\n",
      "Epoch 271/500\n",
      "757/757 [==============================] - 0s 97us/sample - loss: 0.3411 - accuracy: 0.8798 - val_loss: 0.4960 - val_accuracy: 0.8134\n",
      "Epoch 272/500\n",
      "757/757 [==============================] - 0s 96us/sample - loss: 0.3334 - accuracy: 0.8864 - val_loss: 0.4879 - val_accuracy: 0.8209\n",
      "Epoch 273/500\n",
      "757/757 [==============================] - 0s 95us/sample - loss: 0.3422 - accuracy: 0.8758 - val_loss: 0.4816 - val_accuracy: 0.8209\n",
      "Epoch 274/500\n",
      "757/757 [==============================] - 0s 97us/sample - loss: 0.3328 - accuracy: 0.8758 - val_loss: 0.4786 - val_accuracy: 0.8209\n",
      "Epoch 275/500\n",
      "757/757 [==============================] - 0s 87us/sample - loss: 0.3345 - accuracy: 0.8798 - val_loss: 0.5291 - val_accuracy: 0.8134\n",
      "Epoch 276/500\n",
      "757/757 [==============================] - 0s 98us/sample - loss: 0.3397 - accuracy: 0.8732 - val_loss: 0.5142 - val_accuracy: 0.8060\n",
      "Epoch 277/500\n",
      "757/757 [==============================] - 0s 98us/sample - loss: 0.3353 - accuracy: 0.8798 - val_loss: 0.5019 - val_accuracy: 0.8134\n",
      "Epoch 278/500\n",
      "757/757 [==============================] - 0s 96us/sample - loss: 0.3236 - accuracy: 0.8798 - val_loss: 0.4971 - val_accuracy: 0.8284\n",
      "Epoch 279/500\n",
      "757/757 [==============================] - 0s 89us/sample - loss: 0.3419 - accuracy: 0.8851 - val_loss: 0.5331 - val_accuracy: 0.8209\n",
      "Epoch 280/500\n",
      "757/757 [==============================] - 0s 96us/sample - loss: 0.3341 - accuracy: 0.8758 - val_loss: 0.5161 - val_accuracy: 0.8134\n",
      "Epoch 281/500\n",
      "757/757 [==============================] - 0s 96us/sample - loss: 0.3275 - accuracy: 0.8864 - val_loss: 0.5253 - val_accuracy: 0.8134\n",
      "Epoch 282/500\n",
      "757/757 [==============================] - 0s 97us/sample - loss: 0.3349 - accuracy: 0.8824 - val_loss: 0.5031 - val_accuracy: 0.8134\n",
      "Epoch 283/500\n",
      "757/757 [==============================] - 0s 98us/sample - loss: 0.3503 - accuracy: 0.8705 - val_loss: 0.5098 - val_accuracy: 0.8209\n",
      "Epoch 284/500\n",
      "757/757 [==============================] - 0s 96us/sample - loss: 0.3434 - accuracy: 0.8785 - val_loss: 0.4925 - val_accuracy: 0.8209\n",
      "Epoch 285/500\n",
      "757/757 [==============================] - 0s 96us/sample - loss: 0.3459 - accuracy: 0.8732 - val_loss: 0.5079 - val_accuracy: 0.8134\n",
      "757/757 [==============================] - 0s 89us/sample - loss: 0.4113 - accuracy: 0.8269 - val_loss: 0.4204 - val_accuracy: 0.8358\n",
      "Epoch 252/500\n",
      "757/757 [==============================] - 0s 88us/sample - loss: 0.4165 - accuracy: 0.8322 - val_loss: 0.4192 - val_accuracy: 0.8284\n",
      "Epoch 253/500\n",
      "757/757 [==============================] - 0s 87us/sample - loss: 0.4027 - accuracy: 0.8388 - val_loss: 0.4196 - val_accuracy: 0.8284\n",
      "Epoch 254/500\n",
      "757/757 [==============================] - 0s 88us/sample - loss: 0.4133 - accuracy: 0.8336 - val_loss: 0.4202 - val_accuracy: 0.8358\n",
      "Epoch 255/500\n",
      "757/757 [==============================] - 0s 88us/sample - loss: 0.4244 - accuracy: 0.8388 - val_loss: 0.4197 - val_accuracy: 0.8284\n",
      "Epoch 256/500\n",
      "757/757 [==============================] - 0s 87us/sample - loss: 0.4182 - accuracy: 0.8402 - val_loss: 0.4201 - val_accuracy: 0.8358\n",
      "Epoch 257/500\n",
      "757/757 [==============================] - 0s 87us/sample - loss: 0.4045 - accuracy: 0.8349 - val_loss: 0.4198 - val_accuracy: 0.8284\n",
      "Epoch 258/500\n",
      "757/757 [==============================] - 0s 86us/sample - loss: 0.4114 - accuracy: 0.8322 - val_loss: 0.4195 - val_accuracy: 0.8284\n",
      "Epoch 259/500\n",
      "757/757 [==============================] - 0s 88us/sample - loss: 0.4053 - accuracy: 0.8375 - val_loss: 0.4204 - val_accuracy: 0.8284\n",
      "Epoch 260/500\n",
      "757/757 [==============================] - 0s 89us/sample - loss: 0.4025 - accuracy: 0.8349 - val_loss: 0.4197 - val_accuracy: 0.8284\n",
      "Epoch 261/500\n",
      "757/757 [==============================] - 0s 87us/sample - loss: 0.4162 - accuracy: 0.8362 - val_loss: 0.4195 - val_accuracy: 0.8284\n",
      "Epoch 262/500\n",
      "757/757 [==============================] - 0s 87us/sample - loss: 0.4178 - accuracy: 0.8283 - val_loss: 0.4199 - val_accuracy: 0.8284\n",
      "Epoch 263/500\n",
      "757/757 [==============================] - 0s 86us/sample - loss: 0.4183 - accuracy: 0.8243 - val_loss: 0.4195 - val_accuracy: 0.8284\n",
      "Epoch 264/500\n",
      "757/757 [==============================] - 0s 86us/sample - loss: 0.4268 - accuracy: 0.8243 - val_loss: 0.4203 - val_accuracy: 0.8358\n",
      "Epoch 265/500\n",
      "757/757 [==============================] - 0s 87us/sample - loss: 0.4212 - accuracy: 0.8269 - val_loss: 0.4187 - val_accuracy: 0.8284\n",
      "Epoch 266/500\n",
      "757/757 [==============================] - 0s 87us/sample - loss: 0.4006 - accuracy: 0.8428 - val_loss: 0.4201 - val_accuracy: 0.8358\n",
      "Epoch 267/500\n",
      "757/757 [==============================] - 0s 87us/sample - loss: 0.4042 - accuracy: 0.8349 - val_loss: 0.4195 - val_accuracy: 0.8284\n",
      "Epoch 268/500\n",
      "757/757 [==============================] - 0s 89us/sample - loss: 0.4184 - accuracy: 0.8388 - val_loss: 0.4199 - val_accuracy: 0.8284\n",
      "Epoch 269/500\n",
      "757/757 [==============================] - 0s 85us/sample - loss: 0.4089 - accuracy: 0.8349 - val_loss: 0.4188 - val_accuracy: 0.8284\n",
      "Epoch 270/500\n",
      "757/757 [==============================] - 0s 87us/sample - loss: 0.4063 - accuracy: 0.8283 - val_loss: 0.4191 - val_accuracy: 0.8284\n",
      "Epoch 271/500\n",
      "757/757 [==============================] - 0s 87us/sample - loss: 0.4109 - accuracy: 0.8283 - val_loss: 0.4190 - val_accuracy: 0.8284\n",
      "Epoch 272/500\n",
      "757/757 [==============================] - 0s 87us/sample - loss: 0.4176 - accuracy: 0.8309 - val_loss: 0.4191 - val_accuracy: 0.8284\n",
      "Epoch 273/500\n",
      "757/757 [==============================] - 0s 84us/sample - loss: 0.4057 - accuracy: 0.8269 - val_loss: 0.4187 - val_accuracy: 0.8284\n",
      "Epoch 274/500\n",
      "757/757 [==============================] - 0s 86us/sample - loss: 0.4142 - accuracy: 0.8375 - val_loss: 0.4186 - val_accuracy: 0.8284\n",
      "Epoch 275/500\n",
      "757/757 [==============================] - 0s 85us/sample - loss: 0.4176 - accuracy: 0.8362 - val_loss: 0.4194 - val_accuracy: 0.8284\n",
      "Epoch 276/500\n",
      "757/757 [==============================] - 0s 84us/sample - loss: 0.4120 - accuracy: 0.8296 - val_loss: 0.4192 - val_accuracy: 0.8284\n",
      "Epoch 277/500\n",
      "757/757 [==============================] - 0s 85us/sample - loss: 0.4209 - accuracy: 0.8336 - val_loss: 0.4182 - val_accuracy: 0.8284\n",
      "Epoch 278/500\n",
      "757/757 [==============================] - 0s 84us/sample - loss: 0.4103 - accuracy: 0.8322 - val_loss: 0.4206 - val_accuracy: 0.8284\n",
      "Epoch 279/500\n",
      "757/757 [==============================] - 0s 88us/sample - loss: 0.4131 - accuracy: 0.8441 - val_loss: 0.4181 - val_accuracy: 0.8284\n",
      "Epoch 280/500\n",
      "757/757 [==============================] - 0s 86us/sample - loss: 0.4201 - accuracy: 0.8336 - val_loss: 0.4200 - val_accuracy: 0.8358\n",
      "Epoch 281/500\n",
      "757/757 [==============================] - 0s 87us/sample - loss: 0.4128 - accuracy: 0.8349 - val_loss: 0.4182 - val_accuracy: 0.8284\n",
      "Epoch 282/500\n",
      "757/757 [==============================] - 0s 88us/sample - loss: 0.4187 - accuracy: 0.8243 - val_loss: 0.4179 - val_accuracy: 0.8284\n",
      "Epoch 283/500\n",
      "757/757 [==============================] - 0s 86us/sample - loss: 0.4184 - accuracy: 0.8322 - val_loss: 0.4186 - val_accuracy: 0.8284\n",
      "Epoch 284/500\n",
      "757/757 [==============================] - 0s 86us/sample - loss: 0.4119 - accuracy: 0.8402 - val_loss: 0.4194 - val_accuracy: 0.8284\n",
      "Epoch 285/500\n",
      "757/757 [==============================] - 0s 86us/sample - loss: 0.4170 - accuracy: 0.8322 - val_loss: 0.4196 - val_accuracy: 0.8358\n",
      "Epoch 286/500\n",
      "757/757 [==============================] - 0s 85us/sample - loss: 0.4087 - accuracy: 0.8428 - val_loss: 0.4181 - val_accuracy: 0.8284\n",
      "Epoch 287/500\n",
      "757/757 [==============================] - 0s 85us/sample - loss: 0.4093 - accuracy: 0.8362 - val_loss: 0.4174 - val_accuracy: 0.8284\n",
      "Epoch 288/500\n",
      "757/757 [==============================] - 0s 87us/sample - loss: 0.4121 - accuracy: 0.8481 - val_loss: 0.4174 - val_accuracy: 0.8284\n",
      "Epoch 289/500\n",
      "757/757 [==============================] - 0s 86us/sample - loss: 0.4046 - accuracy: 0.8388 - val_loss: 0.4174 - val_accuracy: 0.8284\n",
      "Epoch 290/500\n",
      "757/757 [==============================] - 0s 86us/sample - loss: 0.4045 - accuracy: 0.8415 - val_loss: 0.4174 - val_accuracy: 0.8284\n",
      "Epoch 291/500\n",
      "757/757 [==============================] - 0s 86us/sample - loss: 0.4023 - accuracy: 0.8388 - val_loss: 0.4182 - val_accuracy: 0.8284\n",
      "Epoch 292/500\n",
      "757/757 [==============================] - 0s 85us/sample - loss: 0.4085 - accuracy: 0.8362 - val_loss: 0.4186 - val_accuracy: 0.8284\n",
      "Epoch 293/500\n",
      "757/757 [==============================] - 0s 87us/sample - loss: 0.4009 - accuracy: 0.8322 - val_loss: 0.4168 - val_accuracy: 0.8284\n",
      "Epoch 294/500\n",
      "757/757 [==============================] - 0s 85us/sample - loss: 0.4054 - accuracy: 0.8481 - val_loss: 0.4184 - val_accuracy: 0.8284\n",
      "Epoch 295/500\n",
      "757/757 [==============================] - 0s 85us/sample - loss: 0.4111 - accuracy: 0.8415 - val_loss: 0.4177 - val_accuracy: 0.8284\n",
      "Epoch 296/500\n",
      "757/757 [==============================] - 0s 89us/sample - loss: 0.4062 - accuracy: 0.8441 - val_loss: 0.4176 - val_accuracy: 0.8284\n",
      "Epoch 297/500\n",
      "757/757 [==============================] - 0s 87us/sample - loss: 0.4119 - accuracy: 0.8388 - val_loss: 0.4174 - val_accuracy: 0.8284\n",
      "Epoch 298/500\n",
      "757/757 [==============================] - 0s 86us/sample - loss: 0.4125 - accuracy: 0.8322 - val_loss: 0.4176 - val_accuracy: 0.8284\n",
      "Epoch 299/500\n",
      "757/757 [==============================] - 0s 84us/sample - loss: 0.4096 - accuracy: 0.8375 - val_loss: 0.4179 - val_accuracy: 0.8284\n",
      "Epoch 300/500\n",
      "757/757 [==============================] - 0s 86us/sample - loss: 0.4117 - accuracy: 0.8322 - val_loss: 0.4170 - val_accuracy: 0.8284\n",
      "Epoch 301/500\n",
      "757/757 [==============================] - 0s 85us/sample - loss: 0.4056 - accuracy: 0.8415 - val_loss: 0.4165 - val_accuracy: 0.8284\n",
      "Epoch 302/500\n",
      "757/757 [==============================] - 0s 99us/sample - loss: 0.4042 - accuracy: 0.8507 - val_loss: 0.4174 - val_accuracy: 0.8284\n",
      "Epoch 303/500\n",
      "757/757 [==============================] - 0s 85us/sample - loss: 0.4139 - accuracy: 0.8322 - val_loss: 0.4176 - val_accuracy: 0.8284\n",
      "Epoch 304/500\n",
      "757/757 [==============================] - 0s 88us/sample - loss: 0.4061 - accuracy: 0.8362 - val_loss: 0.4171 - val_accuracy: 0.8284\n",
      "Epoch 305/500\n",
      "757/757 [==============================] - 0s 84us/sample - loss: 0.4051 - accuracy: 0.8336 - val_loss: 0.4174 - val_accuracy: 0.8284\n",
      "Epoch 306/500\n",
      "757/757 [==============================] - 0s 85us/sample - loss: 0.4164 - accuracy: 0.8362 - val_loss: 0.4173 - val_accuracy: 0.8284\n",
      "Epoch 307/500\n",
      "757/757 [==============================] - 0s 84us/sample - loss: 0.4174 - accuracy: 0.8269 - val_loss: 0.4170 - val_accuracy: 0.8284\n",
      "Epoch 308/500\n",
      "757/757 [==============================] - 0s 86us/sample - loss: 0.4001 - accuracy: 0.8428 - val_loss: 0.4186 - val_accuracy: 0.8284\n",
      "Epoch 309/500\n",
      "757/757 [==============================] - 0s 86us/sample - loss: 0.4114 - accuracy: 0.8336 - val_loss: 0.4181 - val_accuracy: 0.8284\n",
      "Epoch 310/500\n",
      "757/757 [==============================] - 0s 88us/sample - loss: 0.4094 - accuracy: 0.8534 - val_loss: 0.4173 - val_accuracy: 0.8284\n",
      "Epoch 311/500\n",
      "757/757 [==============================] - 0s 88us/sample - loss: 0.4098 - accuracy: 0.8283 - val_loss: 0.4168 - val_accuracy: 0.8284\n",
      "Epoch 312/500\n",
      "757/757 [==============================] - 0s 85us/sample - loss: 0.4089 - accuracy: 0.8362 - val_loss: 0.4173 - val_accuracy: 0.8284\n",
      "Epoch 313/500\n",
      "757/757 [==============================] - 0s 87us/sample - loss: 0.4035 - accuracy: 0.8507 - val_loss: 0.4175 - val_accuracy: 0.8284\n",
      "Epoch 314/500\n",
      "757/757 [==============================] - 0s 85us/sample - loss: 0.4084 - accuracy: 0.8349 - val_loss: 0.4172 - val_accuracy: 0.8284\n",
      "Epoch 315/500\n",
      "757/757 [==============================] - 0s 113us/sample - loss: 0.4130 - accuracy: 0.8309 - val_loss: 0.4171 - val_accuracy: 0.8284\n",
      "Epoch 316/500\n",
      "757/757 [==============================] - 0s 98us/sample - loss: 0.4103 - accuracy: 0.8296 - val_loss: 0.4173 - val_accuracy: 0.8284\n",
      "Epoch 317/500\n",
      "757/757 [==============================] - 0s 86us/sample - loss: 0.4013 - accuracy: 0.8415 - val_loss: 0.4182 - val_accuracy: 0.8284\n",
      "Epoch 318/500\n",
      "757/757 [==============================] - 0s 85us/sample - loss: 0.4021 - accuracy: 0.8388 - val_loss: 0.4194 - val_accuracy: 0.8209\n",
      "Epoch 319/500\n",
      "757/757 [==============================] - 0s 85us/sample - loss: 0.4034 - accuracy: 0.8468 - val_loss: 0.4173 - val_accuracy: 0.8284\n",
      "Epoch 320/500\n",
      "757/757 [==============================] - 0s 86us/sample - loss: 0.4047 - accuracy: 0.8388 - val_loss: 0.4177 - val_accuracy: 0.8284\n",
      "Epoch 321/500\n",
      "757/757 [==============================] - 0s 100us/sample - loss: 0.4049 - accuracy: 0.8375 - val_loss: 0.4175 - val_accuracy: 0.8284\n",
      "Epoch 322/500\n",
      "757/757 [==============================] - 0s 87us/sample - loss: 0.4019 - accuracy: 0.8402 - val_loss: 0.4175 - val_accuracy: 0.8284\n",
      "Epoch 323/500\n",
      "757/757 [==============================] - 0s 88us/sample - loss: 0.4020 - accuracy: 0.8428 - val_loss: 0.4172 - val_accuracy: 0.8284\n",
      "Epoch 324/500\n",
      "757/757 [==============================] - 0s 84us/sample - loss: 0.4016 - accuracy: 0.8428 - val_loss: 0.4169 - val_accuracy: 0.8284\n",
      "Epoch 325/500\n",
      "757/757 [==============================] - 0s 86us/sample - loss: 0.4063 - accuracy: 0.8415 - val_loss: 0.4174 - val_accuracy: 0.8284\n",
      "Epoch 326/500\n",
      "757/757 [==============================] - 0s 85us/sample - loss: 0.4075 - accuracy: 0.8375 - val_loss: 0.4171 - val_accuracy: 0.8284\n",
      "Epoch 327/500\n",
      "757/757 [==============================] - 0s 87us/sample - loss: 0.4048 - accuracy: 0.8441 - val_loss: 0.4169 - val_accuracy: 0.8284\n",
      "Epoch 328/500\n",
      "757/757 [==============================] - 0s 86us/sample - loss: 0.4094 - accuracy: 0.8362 - val_loss: 0.4160 - val_accuracy: 0.8284\n",
      "Epoch 329/500\n",
      "757/757 [==============================] - 0s 88us/sample - loss: 0.4029 - accuracy: 0.8428 - val_loss: 0.4161 - val_accuracy: 0.8284\n",
      "Epoch 330/500\n",
      "757/757 [==============================] - 0s 87us/sample - loss: 0.3970 - accuracy: 0.8441 - val_loss: 0.4157 - val_accuracy: 0.8284\n",
      "Epoch 331/500\n",
      "757/757 [==============================] - 0s 86us/sample - loss: 0.4047 - accuracy: 0.8454 - val_loss: 0.4154 - val_accuracy: 0.8284\n",
      "Epoch 332/500\n",
      "757/757 [==============================] - 0s 87us/sample - loss: 0.4131 - accuracy: 0.8349 - val_loss: 0.4159 - val_accuracy: 0.8284\n",
      "Epoch 333/500\n",
      "757/757 [==============================] - 0s 89us/sample - loss: 0.4123 - accuracy: 0.8402 - val_loss: 0.4161 - val_accuracy: 0.8284\n",
      "Epoch 334/500\n",
      "757/757 [==============================] - 0s 84us/sample - loss: 0.4036 - accuracy: 0.8349 - val_loss: 0.4160 - val_accuracy: 0.8284\n",
      "Epoch 335/500\n",
      "757/757 [==============================] - 0s 87us/sample - loss: 0.4054 - accuracy: 0.8415 - val_loss: 0.4194 - val_accuracy: 0.8209\n",
      "Epoch 336/500\n",
      "757/757 [==============================] - 0s 86us/sample - loss: 0.4061 - accuracy: 0.8375 - val_loss: 0.4161 - val_accuracy: 0.8284\n",
      "Epoch 337/500\n",
      "757/757 [==============================] - 0s 85us/sample - loss: 0.4150 - accuracy: 0.8468 - val_loss: 0.4161 - val_accuracy: 0.8284\n",
      "Epoch 338/500\n",
      "757/757 [==============================] - 0s 85us/sample - loss: 0.4123 - accuracy: 0.8336 - val_loss: 0.4159 - val_accuracy: 0.8284\n",
      "Epoch 339/500\n",
      "757/757 [==============================] - 0s 85us/sample - loss: 0.4092 - accuracy: 0.8375 - val_loss: 0.4169 - val_accuracy: 0.8284\n",
      "Epoch 340/500\n",
      "757/757 [==============================] - 0s 85us/sample - loss: 0.3954 - accuracy: 0.8336 - val_loss: 0.4149 - val_accuracy: 0.8284\n",
      "Epoch 341/500\n",
      "757/757 [==============================] - 0s 86us/sample - loss: 0.4096 - accuracy: 0.8362 - val_loss: 0.4155 - val_accuracy: 0.8284\n",
      "Epoch 342/500\n",
      "757/757 [==============================] - 0s 88us/sample - loss: 0.4150 - accuracy: 0.8349 - val_loss: 0.4153 - val_accuracy: 0.8284\n",
      "Epoch 343/500\n",
      "757/757 [==============================] - 0s 85us/sample - loss: 0.3995 - accuracy: 0.8534 - val_loss: 0.4154 - val_accuracy: 0.8284\n",
      "Epoch 344/500\n",
      "757/757 [==============================] - 0s 85us/sample - loss: 0.4177 - accuracy: 0.8296 - val_loss: 0.4157 - val_accuracy: 0.8284\n",
      "Epoch 345/500\n",
      "757/757 [==============================] - 0s 87us/sample - loss: 0.3975 - accuracy: 0.8428 - val_loss: 0.4161 - val_accuracy: 0.8284\n",
      "Epoch 346/500\n",
      "757/757 [==============================] - 0s 86us/sample - loss: 0.4054 - accuracy: 0.8481 - val_loss: 0.4180 - val_accuracy: 0.8284\n",
      "Epoch 347/500\n",
      "757/757 [==============================] - 0s 84us/sample - loss: 0.4017 - accuracy: 0.8388 - val_loss: 0.4159 - val_accuracy: 0.8284\n",
      "Epoch 348/500\n",
      "757/757 [==============================] - 0s 85us/sample - loss: 0.4178 - accuracy: 0.8428 - val_loss: 0.4161 - val_accuracy: 0.8284\n",
      "Epoch 349/500\n",
      "757/757 [==============================] - 0s 89us/sample - loss: 0.4039 - accuracy: 0.8468 - val_loss: 0.4155 - val_accuracy: 0.8284\n",
      "Epoch 350/500\n",
      "757/757 [==============================] - 0s 88us/sample - loss: 0.4089 - accuracy: 0.8415 - val_loss: 0.4156 - val_accuracy: 0.8284\n",
      "Epoch 351/500\n",
      "757/757 [==============================] - 0s 86us/sample - loss: 0.4178 - accuracy: 0.8296 - val_loss: 0.4169 - val_accuracy: 0.8284\n",
      "Epoch 352/500\n",
      "757/757 [==============================] - 0s 87us/sample - loss: 0.4053 - accuracy: 0.8296 - val_loss: 0.4157 - val_accuracy: 0.8284\n",
      "Epoch 353/500\n",
      "757/757 [==============================] - 0s 87us/sample - loss: 0.4042 - accuracy: 0.8375 - val_loss: 0.4151 - val_accuracy: 0.8284\n",
      "Epoch 354/500\n",
      "757/757 [==============================] - 0s 87us/sample - loss: 0.4037 - accuracy: 0.8296 - val_loss: 0.4156 - val_accuracy: 0.8284\n",
      "Epoch 355/500\n",
      "757/757 [==============================] - 0s 85us/sample - loss: 0.3992 - accuracy: 0.8494 - val_loss: 0.4158 - val_accuracy: 0.8284\n",
      "Epoch 356/500\n",
      "757/757 [==============================] - 0s 85us/sample - loss: 0.3974 - accuracy: 0.8322 - val_loss: 0.4165 - val_accuracy: 0.8284\n",
      "Epoch 357/500\n",
      "757/757 [==============================] - 0s 84us/sample - loss: 0.4052 - accuracy: 0.8375 - val_loss: 0.4178 - val_accuracy: 0.8284\n",
      "Epoch 358/500\n",
      "757/757 [==============================] - 0s 85us/sample - loss: 0.4042 - accuracy: 0.8441 - val_loss: 0.4150 - val_accuracy: 0.8284\n",
      "Epoch 359/500\n",
      "757/757 [==============================] - 0s 85us/sample - loss: 0.4078 - accuracy: 0.8415 - val_loss: 0.4153 - val_accuracy: 0.8284\n",
      "Epoch 360/500\n",
      "757/757 [==============================] - 0s 83us/sample - loss: 0.4078 - accuracy: 0.8454 - val_loss: 0.4181 - val_accuracy: 0.8284\n",
      "Epoch 361/500\n",
      "757/757 [==============================] - 0s 85us/sample - loss: 0.4050 - accuracy: 0.8322 - val_loss: 0.4160 - val_accuracy: 0.8284\n",
      "Epoch 362/500\n",
      "757/757 [==============================] - 0s 86us/sample - loss: 0.4025 - accuracy: 0.8375 - val_loss: 0.4153 - val_accuracy: 0.8284\n",
      "Epoch 363/500\n",
      "757/757 [==============================] - 0s 86us/sample - loss: 0.4028 - accuracy: 0.8243 - val_loss: 0.4146 - val_accuracy: 0.8284\n",
      "Epoch 364/500\n",
      "757/757 [==============================] - 0s 85us/sample - loss: 0.4099 - accuracy: 0.8362 - val_loss: 0.4164 - val_accuracy: 0.8284\n",
      "Epoch 365/500\n",
      "757/757 [==============================] - 0s 82us/sample - loss: 0.4041 - accuracy: 0.8349 - val_loss: 0.4170 - val_accuracy: 0.8284\n",
      "Epoch 366/500\n",
      "757/757 [==============================] - 0s 83us/sample - loss: 0.3995 - accuracy: 0.8520 - val_loss: 0.4148 - val_accuracy: 0.8284\n",
      "Epoch 367/500\n",
      "757/757 [==============================] - 0s 88us/sample - loss: 0.3951 - accuracy: 0.8428 - val_loss: 0.4152 - val_accuracy: 0.8284\n",
      "Epoch 368/500\n",
      "757/757 [==============================] - 0s 88us/sample - loss: 0.4061 - accuracy: 0.8402 - val_loss: 0.4164 - val_accuracy: 0.8284\n",
      "Epoch 369/500\n",
      "757/757 [==============================] - 0s 86us/sample - loss: 0.4100 - accuracy: 0.8441 - val_loss: 0.4153 - val_accuracy: 0.8284\n",
      "Epoch 370/500\n",
      "757/757 [==============================] - 0s 85us/sample - loss: 0.4032 - accuracy: 0.8534 - val_loss: 0.4159 - val_accuracy: 0.8284\n",
      "Epoch 371/500\n",
      "757/757 [==============================] - 0s 85us/sample - loss: 0.4136 - accuracy: 0.8375 - val_loss: 0.4156 - val_accuracy: 0.8284\n",
      "Epoch 372/500\n",
      "757/757 [==============================] - 0s 86us/sample - loss: 0.4100 - accuracy: 0.8375 - val_loss: 0.4162 - val_accuracy: 0.8284\n",
      "Epoch 373/500\n",
      "757/757 [==============================] - 0s 90us/sample - loss: 0.4019 - accuracy: 0.8441 - val_loss: 0.4152 - val_accuracy: 0.8284\n",
      "Epoch 374/500\n",
      "757/757 [==============================] - 0s 97us/sample - loss: 0.3957 - accuracy: 0.8428 - val_loss: 0.4163 - val_accuracy: 0.8284\n",
      "Epoch 375/500\n",
      "757/757 [==============================] - 0s 100us/sample - loss: 0.3984 - accuracy: 0.8296 - val_loss: 0.4150 - val_accuracy: 0.8284\n",
      "Epoch 376/500\n",
      "757/757 [==============================] - 0s 101us/sample - loss: 0.4064 - accuracy: 0.8309 - val_loss: 0.4151 - val_accuracy: 0.8284\n",
      "Epoch 377/500\n",
      "757/757 [==============================] - 0s 101us/sample - loss: 0.4043 - accuracy: 0.8481 - val_loss: 0.4146 - val_accuracy: 0.8284\n",
      "Epoch 378/500\n",
      "757/757 [==============================] - 0s 99us/sample - loss: 0.3955 - accuracy: 0.8468 - val_loss: 0.4150 - val_accuracy: 0.8284\n",
      "Epoch 379/500\n",
      "757/757 [==============================] - 0s 99us/sample - loss: 0.4017 - accuracy: 0.8415 - val_loss: 0.4143 - val_accuracy: 0.8284\n",
      "Epoch 380/500\n",
      "757/757 [==============================] - 0s 100us/sample - loss: 0.3947 - accuracy: 0.8402 - val_loss: 0.4138 - val_accuracy: 0.8284\n",
      "Epoch 381/500\n",
      "757/757 [==============================] - 0s 100us/sample - loss: 0.3975 - accuracy: 0.8415 - val_loss: 0.4149 - val_accuracy: 0.8284\n",
      "Epoch 382/500\n",
      "757/757 [==============================] - 0s 102us/sample - loss: 0.4110 - accuracy: 0.8454 - val_loss: 0.4144 - val_accuracy: 0.8284\n",
      "Epoch 383/500\n",
      "757/757 [==============================] - 0s 105us/sample - loss: 0.4008 - accuracy: 0.8507 - val_loss: 0.4144 - val_accuracy: 0.8284\n",
      "Epoch 384/500\n",
      "757/757 [==============================] - 0s 98us/sample - loss: 0.4022 - accuracy: 0.8428 - val_loss: 0.4149 - val_accuracy: 0.8284\n",
      "Epoch 385/500\n",
      "757/757 [==============================] - 0s 102us/sample - loss: 0.4052 - accuracy: 0.8534 - val_loss: 0.4146 - val_accuracy: 0.8284\n",
      "Epoch 386/500\n",
      "757/757 [==============================] - 0s 100us/sample - loss: 0.3955 - accuracy: 0.8336 - val_loss: 0.4139 - val_accuracy: 0.8284\n",
      "Epoch 387/500\n",
      "757/757 [==============================] - 0s 104us/sample - loss: 0.3999 - accuracy: 0.8428 - val_loss: 0.4145 - val_accuracy: 0.8284\n",
      "Epoch 388/500\n",
      "757/757 [==============================] - 0s 98us/sample - loss: 0.4030 - accuracy: 0.8349 - val_loss: 0.4146 - val_accuracy: 0.8284\n",
      "Epoch 389/500\n",
      "757/757 [==============================] - 0s 114us/sample - loss: 0.4063 - accuracy: 0.8336 - val_loss: 0.4144 - val_accuracy: 0.8284\n",
      "Epoch 390/500\n",
      "757/757 [==============================] - 0s 99us/sample - loss: 0.3993 - accuracy: 0.8402 - val_loss: 0.4141 - val_accuracy: 0.8284\n",
      "Epoch 391/500\n",
      "757/757 [==============================] - 0s 100us/sample - loss: 0.4166 - accuracy: 0.8468 - val_loss: 0.4152 - val_accuracy: 0.8284\n",
      "Epoch 392/500\n",
      "757/757 [==============================] - 0s 101us/sample - loss: 0.4041 - accuracy: 0.8454 - val_loss: 0.4130 - val_accuracy: 0.8284\n",
      "Epoch 393/500\n",
      "757/757 [==============================] - 0s 102us/sample - loss: 0.4006 - accuracy: 0.8415 - val_loss: 0.4133 - val_accuracy: 0.8284\n",
      "Epoch 394/500\n",
      "757/757 [==============================] - 0s 103us/sample - loss: 0.3918 - accuracy: 0.8441 - val_loss: 0.4138 - val_accuracy: 0.8284\n",
      "Epoch 395/500\n",
      "757/757 [==============================] - 0s 103us/sample - loss: 0.3983 - accuracy: 0.8388 - val_loss: 0.4143 - val_accuracy: 0.8284\n",
      "Epoch 396/500\n",
      "757/757 [==============================] - 0s 102us/sample - loss: 0.3962 - accuracy: 0.8428 - val_loss: 0.4141 - val_accuracy: 0.8284\n",
      "Epoch 397/500\n",
      "757/757 [==============================] - 0s 101us/sample - loss: 0.4018 - accuracy: 0.8441 - val_loss: 0.4144 - val_accuracy: 0.8284\n",
      "Epoch 398/500\n",
      "757/757 [==============================] - 0s 102us/sample - loss: 0.4034 - accuracy: 0.8243 - val_loss: 0.4142 - val_accuracy: 0.8284\n",
      "Epoch 399/500\n",
      "757/757 [==============================] - 0s 105us/sample - loss: 0.3983 - accuracy: 0.8481 - val_loss: 0.4157 - val_accuracy: 0.8284\n",
      "Epoch 400/500\n",
      "757/757 [==============================] - 0s 101us/sample - loss: 0.4009 - accuracy: 0.8454 - val_loss: 0.4143 - val_accuracy: 0.8284\n",
      "Epoch 401/500\n",
      "757/757 [==============================] - 0s 105us/sample - loss: 0.3972 - accuracy: 0.8428 - val_loss: 0.4144 - val_accuracy: 0.8284\n",
      "Epoch 402/500\n",
      "757/757 [==============================] - 0s 134us/sample - loss: 0.4124 - accuracy: 0.8349 - val_loss: 0.4131 - val_accuracy: 0.8284\n",
      "Epoch 403/500\n",
      "757/757 [==============================] - 0s 107us/sample - loss: 0.3929 - accuracy: 0.8402 - val_loss: 0.4158 - val_accuracy: 0.8284\n",
      "Epoch 404/500\n",
      "757/757 [==============================] - 0s 99us/sample - loss: 0.4028 - accuracy: 0.8468 - val_loss: 0.4149 - val_accuracy: 0.8284\n",
      "Epoch 405/500\n",
      "757/757 [==============================] - 0s 102us/sample - loss: 0.4079 - accuracy: 0.8375 - val_loss: 0.4131 - val_accuracy: 0.8358\n",
      "Epoch 406/500\n",
      "757/757 [==============================] - 0s 112us/sample - loss: 0.3933 - accuracy: 0.8481 - val_loss: 0.4145 - val_accuracy: 0.8284\n",
      "Epoch 407/500\n",
      "757/757 [==============================] - 0s 118us/sample - loss: 0.4033 - accuracy: 0.8520 - val_loss: 0.4138 - val_accuracy: 0.8284\n",
      "Epoch 408/500\n",
      "757/757 [==============================] - 0s 98us/sample - loss: 0.3975 - accuracy: 0.8428 - val_loss: 0.4130 - val_accuracy: 0.8284\n",
      "Epoch 409/500\n",
      "757/757 [==============================] - 0s 101us/sample - loss: 0.3995 - accuracy: 0.8468 - val_loss: 0.4140 - val_accuracy: 0.8284\n",
      "Epoch 410/500\n",
      "757/757 [==============================] - 0s 100us/sample - loss: 0.4005 - accuracy: 0.8428 - val_loss: 0.4142 - val_accuracy: 0.8284\n",
      "Epoch 411/500\n",
      "757/757 [==============================] - 0s 98us/sample - loss: 0.3993 - accuracy: 0.8415 - val_loss: 0.4143 - val_accuracy: 0.8284\n",
      "Epoch 412/500\n",
      "757/757 [==============================] - 0s 98us/sample - loss: 0.4025 - accuracy: 0.8454 - val_loss: 0.4140 - val_accuracy: 0.8284\n",
      "Epoch 413/500\n",
      "757/757 [==============================] - 0s 101us/sample - loss: 0.4044 - accuracy: 0.8309 - val_loss: 0.4157 - val_accuracy: 0.8284\n",
      "Epoch 414/500\n",
      "757/757 [==============================] - 0s 99us/sample - loss: 0.4035 - accuracy: 0.8415 - val_loss: 0.4154 - val_accuracy: 0.8284\n",
      "Epoch 415/500\n",
      "757/757 [==============================] - 0s 100us/sample - loss: 0.4034 - accuracy: 0.8441 - val_loss: 0.4151 - val_accuracy: 0.8284\n",
      "Epoch 416/500\n",
      "757/757 [==============================] - 0s 101us/sample - loss: 0.3973 - accuracy: 0.8375 - val_loss: 0.4144 - val_accuracy: 0.8284\n",
      "Epoch 417/500\n",
      "757/757 [==============================] - 0s 101us/sample - loss: 0.3855 - accuracy: 0.8520 - val_loss: 0.4143 - val_accuracy: 0.8358\n",
      "Epoch 418/500\n",
      "757/757 [==============================] - 0s 102us/sample - loss: 0.4024 - accuracy: 0.8349 - val_loss: 0.4146 - val_accuracy: 0.8284\n",
      "Epoch 419/500\n",
      "757/757 [==============================] - 0s 100us/sample - loss: 0.3976 - accuracy: 0.8388 - val_loss: 0.4152 - val_accuracy: 0.8284\n",
      "Epoch 420/500\n",
      "757/757 [==============================] - 0s 99us/sample - loss: 0.3994 - accuracy: 0.8441 - val_loss: 0.4137 - val_accuracy: 0.8358\n",
      "Epoch 421/500\n",
      "757/757 [==============================] - 0s 102us/sample - loss: 0.4044 - accuracy: 0.8481 - val_loss: 0.4139 - val_accuracy: 0.8358\n",
      "Epoch 422/500\n",
      "757/757 [==============================] - 0s 101us/sample - loss: 0.4005 - accuracy: 0.8454 - val_loss: 0.4144 - val_accuracy: 0.8284\n",
      "Epoch 423/500\n",
      "757/757 [==============================] - 0s 100us/sample - loss: 0.3973 - accuracy: 0.8428 - val_loss: 0.4127 - val_accuracy: 0.8358\n",
      "Epoch 424/500\n",
      "757/757 [==============================] - 0s 101us/sample - loss: 0.3998 - accuracy: 0.8441 - val_loss: 0.4135 - val_accuracy: 0.8284\n",
      "Epoch 425/500\n",
      "757/757 [==============================] - 0s 101us/sample - loss: 0.3942 - accuracy: 0.8520 - val_loss: 0.4147 - val_accuracy: 0.8284\n",
      "Epoch 426/500\n",
      "757/757 [==============================] - 0s 102us/sample - loss: 0.3931 - accuracy: 0.8507 - val_loss: 0.4130 - val_accuracy: 0.8358\n",
      "Epoch 427/500\n",
      "757/757 [==============================] - 0s 101us/sample - loss: 0.3965 - accuracy: 0.8494 - val_loss: 0.4162 - val_accuracy: 0.8284\n",
      "Epoch 428/500\n",
      "757/757 [==============================] - 0s 103us/sample - loss: 0.4010 - accuracy: 0.8402 - val_loss: 0.4141 - val_accuracy: 0.8284\n",
      "Epoch 429/500\n",
      "757/757 [==============================] - 0s 101us/sample - loss: 0.4052 - accuracy: 0.8428 - val_loss: 0.4135 - val_accuracy: 0.8284\n",
      "Epoch 430/500\n",
      "757/757 [==============================] - 0s 98us/sample - loss: 0.4020 - accuracy: 0.8468 - val_loss: 0.4134 - val_accuracy: 0.8284\n",
      "Epoch 431/500\n",
      "757/757 [==============================] - 0s 99us/sample - loss: 0.4017 - accuracy: 0.8362 - val_loss: 0.4143 - val_accuracy: 0.8284\n",
      "Epoch 432/500\n",
      "757/757 [==============================] - 0s 103us/sample - loss: 0.3984 - accuracy: 0.8454 - val_loss: 0.4128 - val_accuracy: 0.8284\n",
      "Epoch 433/500\n",
      "757/757 [==============================] - 0s 102us/sample - loss: 0.3999 - accuracy: 0.8468 - val_loss: 0.4125 - val_accuracy: 0.8358\n",
      "Epoch 434/500\n",
      "757/757 [==============================] - 0s 100us/sample - loss: 0.3906 - accuracy: 0.8481 - val_loss: 0.4140 - val_accuracy: 0.8284\n",
      "Epoch 435/500\n",
      "757/757 [==============================] - 0s 102us/sample - loss: 0.3946 - accuracy: 0.8415 - val_loss: 0.4138 - val_accuracy: 0.8284\n",
      "Epoch 436/500\n",
      "757/757 [==============================] - 0s 98us/sample - loss: 0.3890 - accuracy: 0.8507 - val_loss: 0.4144 - val_accuracy: 0.8284\n",
      "Epoch 437/500\n",
      "757/757 [==============================] - 0s 101us/sample - loss: 0.4059 - accuracy: 0.8388 - val_loss: 0.4129 - val_accuracy: 0.8284\n",
      "Epoch 438/500\n",
      "757/757 [==============================] - 0s 101us/sample - loss: 0.3975 - accuracy: 0.8494 - val_loss: 0.4136 - val_accuracy: 0.8284\n",
      "Epoch 439/500\n",
      "757/757 [==============================] - 0s 100us/sample - loss: 0.3964 - accuracy: 0.8481 - val_loss: 0.4128 - val_accuracy: 0.8358\n",
      "Epoch 440/500\n",
      "757/757 [==============================] - 0s 102us/sample - loss: 0.3972 - accuracy: 0.8428 - val_loss: 0.4126 - val_accuracy: 0.8284\n",
      "Epoch 441/500\n",
      "757/757 [==============================] - 0s 100us/sample - loss: 0.4024 - accuracy: 0.8415 - val_loss: 0.4135 - val_accuracy: 0.8284\n",
      "Epoch 442/500\n",
      "757/757 [==============================] - 0s 99us/sample - loss: 0.3918 - accuracy: 0.8441 - val_loss: 0.4130 - val_accuracy: 0.8358\n",
      "Epoch 443/500\n",
      "757/757 [==============================] - 0s 102us/sample - loss: 0.3954 - accuracy: 0.8468 - val_loss: 0.4130 - val_accuracy: 0.8358\n",
      "Epoch 444/500\n",
      "757/757 [==============================] - 0s 100us/sample - loss: 0.3916 - accuracy: 0.8481 - val_loss: 0.4123 - val_accuracy: 0.8358\n",
      "Epoch 445/500\n",
      "757/757 [==============================] - 0s 98us/sample - loss: 0.3943 - accuracy: 0.8415 - val_loss: 0.4132 - val_accuracy: 0.8358\n",
      "Epoch 446/500\n",
      "757/757 [==============================] - 0s 100us/sample - loss: 0.3893 - accuracy: 0.8388 - val_loss: 0.4126 - val_accuracy: 0.8358\n",
      "Epoch 447/500\n",
      "757/757 [==============================] - 0s 99us/sample - loss: 0.3891 - accuracy: 0.8481 - val_loss: 0.4126 - val_accuracy: 0.8358\n",
      "Epoch 448/500\n",
      "757/757 [==============================] - 0s 99us/sample - loss: 0.3913 - accuracy: 0.8402 - val_loss: 0.4151 - val_accuracy: 0.8284\n",
      "Epoch 449/500\n",
      "757/757 [==============================] - 0s 100us/sample - loss: 0.3898 - accuracy: 0.8507 - val_loss: 0.4138 - val_accuracy: 0.8358\n",
      "Epoch 450/500\n",
      "757/757 [==============================] - 0s 98us/sample - loss: 0.3957 - accuracy: 0.8322 - val_loss: 0.4147 - val_accuracy: 0.8284\n",
      "Epoch 451/500\n",
      "757/757 [==============================] - 0s 101us/sample - loss: 0.3959 - accuracy: 0.8362 - val_loss: 0.4139 - val_accuracy: 0.8358\n",
      "Epoch 452/500\n",
      "757/757 [==============================] - 0s 102us/sample - loss: 0.3957 - accuracy: 0.8547 - val_loss: 0.4139 - val_accuracy: 0.8358\n",
      "Epoch 453/500\n",
      "757/757 [==============================] - 0s 103us/sample - loss: 0.4027 - accuracy: 0.8349 - val_loss: 0.4135 - val_accuracy: 0.8358\n",
      "Epoch 454/500\n",
      "757/757 [==============================] - 0s 99us/sample - loss: 0.3914 - accuracy: 0.8428 - val_loss: 0.4140 - val_accuracy: 0.8284\n",
      "Epoch 455/500\n",
      "757/757 [==============================] - 0s 98us/sample - loss: 0.3955 - accuracy: 0.8336 - val_loss: 0.4127 - val_accuracy: 0.8284\n",
      "Epoch 456/500\n",
      "757/757 [==============================] - 0s 122us/sample - loss: 0.3864 - accuracy: 0.8507 - val_loss: 0.4152 - val_accuracy: 0.8284\n",
      "Epoch 457/500\n",
      "757/757 [==============================] - 0s 108us/sample - loss: 0.3936 - accuracy: 0.8441 - val_loss: 0.4129 - val_accuracy: 0.8284\n",
      "Epoch 458/500\n",
      "757/757 [==============================] - 0s 103us/sample - loss: 0.3994 - accuracy: 0.8494 - val_loss: 0.4136 - val_accuracy: 0.8358\n",
      "Epoch 459/500\n",
      "757/757 [==============================] - 0s 102us/sample - loss: 0.3999 - accuracy: 0.8388 - val_loss: 0.4131 - val_accuracy: 0.8358\n",
      "Epoch 460/500\n",
      "757/757 [==============================] - 0s 100us/sample - loss: 0.3935 - accuracy: 0.8468 - val_loss: 0.4132 - val_accuracy: 0.8358\n",
      "Epoch 461/500\n",
      "757/757 [==============================] - 0s 111us/sample - loss: 0.4028 - accuracy: 0.8388 - val_loss: 0.4123 - val_accuracy: 0.8358\n",
      "Epoch 462/500\n",
      "757/757 [==============================] - 0s 100us/sample - loss: 0.3942 - accuracy: 0.8388 - val_loss: 0.4125 - val_accuracy: 0.8358\n",
      "Epoch 463/500\n",
      "757/757 [==============================] - 0s 102us/sample - loss: 0.4020 - accuracy: 0.8441 - val_loss: 0.4143 - val_accuracy: 0.8284\n",
      "Epoch 464/500\n",
      "757/757 [==============================] - 0s 100us/sample - loss: 0.3863 - accuracy: 0.8481 - val_loss: 0.4124 - val_accuracy: 0.8358\n",
      "Epoch 465/500\n",
      "757/757 [==============================] - 0s 102us/sample - loss: 0.3936 - accuracy: 0.8481 - val_loss: 0.4123 - val_accuracy: 0.8358\n",
      "Epoch 466/500\n",
      "757/757 [==============================] - 0s 101us/sample - loss: 0.3906 - accuracy: 0.8494 - val_loss: 0.4129 - val_accuracy: 0.8358\n",
      "Epoch 467/500\n",
      "757/757 [==============================] - 0s 101us/sample - loss: 0.4032 - accuracy: 0.8362 - val_loss: 0.4131 - val_accuracy: 0.8284\n",
      "Epoch 468/500\n",
      "757/757 [==============================] - 0s 101us/sample - loss: 0.4029 - accuracy: 0.8454 - val_loss: 0.4129 - val_accuracy: 0.8358\n",
      "Epoch 469/500\n",
      "757/757 [==============================] - 0s 100us/sample - loss: 0.3967 - accuracy: 0.8415 - val_loss: 0.4136 - val_accuracy: 0.8284\n",
      "Epoch 470/500\n",
      "757/757 [==============================] - 0s 99us/sample - loss: 0.3936 - accuracy: 0.8441 - val_loss: 0.4137 - val_accuracy: 0.8284\n",
      "Epoch 471/500\n",
      "757/757 [==============================] - 0s 97us/sample - loss: 0.3956 - accuracy: 0.8560 - val_loss: 0.4128 - val_accuracy: 0.8358\n",
      "Epoch 472/500\n",
      "757/757 [==============================] - 0s 101us/sample - loss: 0.3978 - accuracy: 0.8441 - val_loss: 0.4140 - val_accuracy: 0.8284\n",
      "Epoch 473/500\n",
      "757/757 [==============================] - 0s 101us/sample - loss: 0.3937 - accuracy: 0.8520 - val_loss: 0.4122 - val_accuracy: 0.8284\n",
      "Epoch 474/500\n",
      "757/757 [==============================] - 0s 99us/sample - loss: 0.4060 - accuracy: 0.8441 - val_loss: 0.4133 - val_accuracy: 0.8284\n",
      "Epoch 475/500\n",
      "757/757 [==============================] - 0s 98us/sample - loss: 0.3998 - accuracy: 0.8402 - val_loss: 0.4121 - val_accuracy: 0.8358\n",
      "Epoch 476/500\n",
      "757/757 [==============================] - 0s 99us/sample - loss: 0.3846 - accuracy: 0.8507 - val_loss: 0.4120 - val_accuracy: 0.8358\n",
      "Epoch 477/500\n",
      "757/757 [==============================] - 0s 100us/sample - loss: 0.3934 - accuracy: 0.8494 - val_loss: 0.4134 - val_accuracy: 0.8284\n",
      "Epoch 478/500\n",
      "757/757 [==============================] - 0s 99us/sample - loss: 0.3903 - accuracy: 0.8375 - val_loss: 0.4109 - val_accuracy: 0.8284\n",
      "Epoch 479/500\n",
      "757/757 [==============================] - 0s 102us/sample - loss: 0.3920 - accuracy: 0.8481 - val_loss: 0.4118 - val_accuracy: 0.8358\n",
      "Epoch 480/500\n",
      "757/757 [==============================] - 0s 99us/sample - loss: 0.3984 - accuracy: 0.8415 - val_loss: 0.4125 - val_accuracy: 0.8284\n",
      "Epoch 481/500\n",
      "757/757 [==============================] - 0s 101us/sample - loss: 0.3976 - accuracy: 0.8494 - val_loss: 0.4106 - val_accuracy: 0.8284\n",
      "Epoch 482/500\n",
      "757/757 [==============================] - 0s 101us/sample - loss: 0.3928 - accuracy: 0.8454 - val_loss: 0.4116 - val_accuracy: 0.8358\n",
      "Epoch 483/500\n",
      "757/757 [==============================] - 0s 102us/sample - loss: 0.4037 - accuracy: 0.8283 - val_loss: 0.4113 - val_accuracy: 0.8358\n",
      "Epoch 484/500\n",
      "757/757 [==============================] - 0s 101us/sample - loss: 0.3944 - accuracy: 0.8441 - val_loss: 0.4102 - val_accuracy: 0.8284\n",
      "Epoch 485/500\n",
      "757/757 [==============================] - 0s 99us/sample - loss: 0.3938 - accuracy: 0.8428 - val_loss: 0.4127 - val_accuracy: 0.8358\n",
      "Epoch 486/500\n",
      "757/757 [==============================] - 0s 101us/sample - loss: 0.3960 - accuracy: 0.8507 - val_loss: 0.4124 - val_accuracy: 0.8284\n",
      "Epoch 487/500\n",
      "757/757 [==============================] - 0s 98us/sample - loss: 0.3958 - accuracy: 0.8481 - val_loss: 0.4132 - val_accuracy: 0.8358\n",
      "Epoch 488/500\n",
      "757/757 [==============================] - 0s 101us/sample - loss: 0.3874 - accuracy: 0.8322 - val_loss: 0.4117 - val_accuracy: 0.8284\n",
      "Epoch 489/500\n",
      "757/757 [==============================] - 0s 104us/sample - loss: 0.3951 - accuracy: 0.8481 - val_loss: 0.4144 - val_accuracy: 0.8284\n",
      "Epoch 490/500\n",
      "757/757 [==============================] - 0s 102us/sample - loss: 0.4035 - accuracy: 0.8468 - val_loss: 0.4124 - val_accuracy: 0.8284\n",
      "Epoch 491/500\n",
      "757/757 [==============================] - 0s 104us/sample - loss: 0.3944 - accuracy: 0.8520 - val_loss: 0.4114 - val_accuracy: 0.8284\n",
      "Epoch 492/500\n",
      "757/757 [==============================] - 0s 98us/sample - loss: 0.3901 - accuracy: 0.8415 - val_loss: 0.4127 - val_accuracy: 0.8284\n",
      "Epoch 493/500\n",
      "757/757 [==============================] - 0s 101us/sample - loss: 0.3917 - accuracy: 0.8468 - val_loss: 0.4124 - val_accuracy: 0.8284\n",
      "Epoch 494/500\n",
      "757/757 [==============================] - 0s 98us/sample - loss: 0.4064 - accuracy: 0.8441 - val_loss: 0.4107 - val_accuracy: 0.8284\n",
      "Epoch 495/500\n",
      "757/757 [==============================] - 0s 91us/sample - loss: 0.3960 - accuracy: 0.8415 - val_loss: 0.4126 - val_accuracy: 0.8284\n",
      "Epoch 496/500\n",
      "757/757 [==============================] - 0s 98us/sample - loss: 0.3938 - accuracy: 0.8520 - val_loss: 0.4120 - val_accuracy: 0.8284\n",
      "Epoch 497/500\n",
      "757/757 [==============================] - 0s 100us/sample - loss: 0.3930 - accuracy: 0.8415 - val_loss: 0.4134 - val_accuracy: 0.8284\n",
      "Epoch 498/500\n",
      "757/757 [==============================] - 0s 97us/sample - loss: 0.3876 - accuracy: 0.8520 - val_loss: 0.4119 - val_accuracy: 0.8284\n",
      "Epoch 499/500\n",
      "757/757 [==============================] - 0s 88us/sample - loss: 0.3977 - accuracy: 0.8441 - val_loss: 0.4107 - val_accuracy: 0.8284\n",
      "Epoch 500/500\n",
      "757/757 [==============================] - 0s 86us/sample - loss: 0.4001 - accuracy: 0.8441 - val_loss: 0.4120 - val_accuracy: 0.8284\n"
     ]
    },
    {
     "data": {
      "text/html": [
       "<span style=\"color:#4527A0\"><h1 style=\"font-size:18px\">Trial complete</h1></span>"
      ],
      "text/plain": [
       "<IPython.core.display.HTML object>"
      ]
     },
     "metadata": {},
     "output_type": "display_data"
    },
    {
     "data": {
      "text/html": [
       "<span style=\"color:#4527A0\"><h1 style=\"font-size:18px\">Trial summary</h1></span>"
      ],
      "text/plain": [
       "<IPython.core.display.HTML object>"
      ]
     },
     "metadata": {},
     "output_type": "display_data"
    },
    {
     "data": {
      "text/html": [
       "<span style=\"color:cyan\"> |-Trial ID: 299da7e1810b1bc9c4a94afbc96bd23b</span>"
      ],
      "text/plain": [
       "<IPython.core.display.HTML object>"
      ]
     },
     "metadata": {},
     "output_type": "display_data"
    },
    {
     "data": {
      "text/html": [
       "<span style=\"color:cyan\"> |-Score: 0.8395522832870483</span>"
      ],
      "text/plain": [
       "<IPython.core.display.HTML object>"
      ]
     },
     "metadata": {},
     "output_type": "display_data"
    },
    {
     "data": {
      "text/html": [
       "<span style=\"color:cyan\"> |-Best step: 0</span>"
      ],
      "text/plain": [
       "<IPython.core.display.HTML object>"
      ]
     },
     "metadata": {},
     "output_type": "display_data"
    },
    {
     "data": {
      "text/html": [
       "<span style=\"color:#7E57C2\"><h2 style=\"font-size:16px\">Hyperparameters:</h2></span>"
      ],
      "text/plain": [
       "<IPython.core.display.HTML object>"
      ]
     },
     "metadata": {},
     "output_type": "display_data"
    },
    {
     "data": {
      "text/html": [
       "<span style=\"color:cyan\"> |-dense_activation_1: sigmoid</span>"
      ],
      "text/plain": [
       "<IPython.core.display.HTML object>"
      ]
     },
     "metadata": {},
     "output_type": "display_data"
    },
    {
     "data": {
      "text/html": [
       "<span style=\"color:blue\"> |-dense_activation_2: relu</span>"
      ],
      "text/plain": [
       "<IPython.core.display.HTML object>"
      ]
     },
     "metadata": {},
     "output_type": "display_data"
    },
    {
     "data": {
      "text/html": [
       "<span style=\"color:cyan\"> |-dense_activation_3: sigmoid</span>"
      ],
      "text/plain": [
       "<IPython.core.display.HTML object>"
      ]
     },
     "metadata": {},
     "output_type": "display_data"
    },
    {
     "data": {
      "text/html": [
       "<span style=\"color:blue\"> |-dense_activation_4: tanh</span>"
      ],
      "text/plain": [
       "<IPython.core.display.HTML object>"
      ]
     },
     "metadata": {},
     "output_type": "display_data"
    },
    {
     "data": {
      "text/html": [
       "<span style=\"color:cyan\"> |-dense_units_1: 64</span>"
      ],
      "text/plain": [
       "<IPython.core.display.HTML object>"
      ]
     },
     "metadata": {},
     "output_type": "display_data"
    },
    {
     "data": {
      "text/html": [
       "<span style=\"color:blue\"> |-dense_units_2: 48</span>"
      ],
      "text/plain": [
       "<IPython.core.display.HTML object>"
      ]
     },
     "metadata": {},
     "output_type": "display_data"
    },
    {
     "data": {
      "text/html": [
       "<span style=\"color:cyan\"> |-dense_units_3: 16</span>"
      ],
      "text/plain": [
       "<IPython.core.display.HTML object>"
      ]
     },
     "metadata": {},
     "output_type": "display_data"
    },
    {
     "data": {
      "text/html": [
       "<span style=\"color:blue\"> |-dense_units_4: 10</span>"
      ],
      "text/plain": [
       "<IPython.core.display.HTML object>"
      ]
     },
     "metadata": {},
     "output_type": "display_data"
    },
    {
     "data": {
      "text/html": [
       "<span style=\"color:cyan\"> |-dropout_1: 0.0</span>"
      ],
      "text/plain": [
       "<IPython.core.display.HTML object>"
      ]
     },
     "metadata": {},
     "output_type": "display_data"
    },
    {
     "data": {
      "text/html": [
       "<span style=\"color:blue\"> |-dropout_2: 0.15000000000000002</span>"
      ],
      "text/plain": [
       "<IPython.core.display.HTML object>"
      ]
     },
     "metadata": {},
     "output_type": "display_data"
    },
    {
     "data": {
      "text/html": [
       "<span style=\"color:cyan\"> |-dropout_3: 0.2</span>"
      ],
      "text/plain": [
       "<IPython.core.display.HTML object>"
      ]
     },
     "metadata": {},
     "output_type": "display_data"
    },
    {
     "data": {
      "text/html": [
       "<span style=\"color:blue\"> |-dropout_4: 0.05</span>"
      ],
      "text/plain": [
       "<IPython.core.display.HTML object>"
      ]
     },
     "metadata": {},
     "output_type": "display_data"
    },
    {
     "data": {
      "text/html": [
       "<span style=\"color:cyan\"> |-learning_rate: 0.00014111965749931114</span>"
      ],
      "text/plain": [
       "<IPython.core.display.HTML object>"
      ]
     },
     "metadata": {},
     "output_type": "display_data"
    },
    {
     "name": "stdout",
     "output_type": "stream",
     "text": [
      "Train on 757 samples, validate on 134 samples\n",
      "Epoch 1/500\n",
      "757/757 [==============================] - 1s 1ms/sample - loss: 0.6999 - accuracy: 0.5310 - val_loss: 0.6810 - val_accuracy: 0.5821\n",
      "Epoch 2/500\n",
      "757/757 [==============================] - 0s 97us/sample - loss: 0.6762 - accuracy: 0.5931 - val_loss: 0.6771 - val_accuracy: 0.5821\n",
      "Epoch 3/500\n",
      "757/757 [==============================] - 0s 88us/sample - loss: 0.6622 - accuracy: 0.6050 - val_loss: 0.6714 - val_accuracy: 0.5821\n",
      "Epoch 4/500\n",
      "757/757 [==============================] - 0s 90us/sample - loss: 0.6638 - accuracy: 0.6050 - val_loss: 0.6614 - val_accuracy: 0.5821\n",
      "Epoch 5/500\n",
      "757/757 [==============================] - 0s 95us/sample - loss: 0.6635 - accuracy: 0.6116 - val_loss: 0.6517 - val_accuracy: 0.5821\n",
      "Epoch 6/500\n",
      "757/757 [==============================] - 0s 87us/sample - loss: 0.6656 - accuracy: 0.6169 - val_loss: 0.6441 - val_accuracy: 0.5821\n",
      "Epoch 7/500\n",
      "757/757 [==============================] - 0s 87us/sample - loss: 0.6491 - accuracy: 0.6143 - val_loss: 0.6353 - val_accuracy: 0.5821\n",
      "Epoch 8/500\n",
      "757/757 [==============================] - 0s 94us/sample - loss: 0.6616 - accuracy: 0.6024 - val_loss: 0.6264 - val_accuracy: 0.5821\n",
      "Epoch 9/500\n",
      "757/757 [==============================] - 0s 87us/sample - loss: 0.6424 - accuracy: 0.6235 - val_loss: 0.6162 - val_accuracy: 0.5821\n",
      "Epoch 10/500\n",
      "757/757 [==============================] - 0s 96us/sample - loss: 0.6412 - accuracy: 0.6367 - val_loss: 0.6035 - val_accuracy: 0.5821\n",
      "Epoch 11/500\n",
      "757/757 [==============================] - 0s 115us/sample - loss: 0.6433 - accuracy: 0.6367 - val_loss: 0.5890 - val_accuracy: 0.6269\n",
      "Epoch 12/500\n",
      "757/757 [==============================] - 0s 114us/sample - loss: 0.6292 - accuracy: 0.6539 - val_loss: 0.5774 - val_accuracy: 0.6343\n",
      "Epoch 13/500\n",
      "757/757 [==============================] - 0s 113us/sample - loss: 0.6085 - accuracy: 0.6724 - val_loss: 0.5625 - val_accuracy: 0.7015\n",
      "Epoch 14/500\n",
      "757/757 [==============================] - 0s 115us/sample - loss: 0.6095 - accuracy: 0.6671 - val_loss: 0.5500 - val_accuracy: 0.7612\n",
      "Epoch 15/500\n",
      "757/757 [==============================] - 0s 114us/sample - loss: 0.5816 - accuracy: 0.6975 - val_loss: 0.5297 - val_accuracy: 0.7836\n",
      "Epoch 16/500\n",
      "757/757 [==============================] - 0s 107us/sample - loss: 0.5888 - accuracy: 0.6935 - val_loss: 0.5097 - val_accuracy: 0.8060\n",
      "Epoch 17/500\n",
      "757/757 [==============================] - 0s 96us/sample - loss: 0.5992 - accuracy: 0.6777 - val_loss: 0.5032 - val_accuracy: 0.8060\n",
      "Epoch 18/500\n",
      "757/757 [==============================] - 0s 97us/sample - loss: 0.5807 - accuracy: 0.7094 - val_loss: 0.4950 - val_accuracy: 0.8060\n",
      "Epoch 19/500\n",
      "757/757 [==============================] - 0s 98us/sample - loss: 0.5628 - accuracy: 0.7239 - val_loss: 0.4886 - val_accuracy: 0.8060\n",
      "Epoch 20/500\n",
      "757/757 [==============================] - 0s 96us/sample - loss: 0.5683 - accuracy: 0.7160 - val_loss: 0.4812 - val_accuracy: 0.8060\n",
      "Epoch 21/500\n",
      "757/757 [==============================] - 0s 96us/sample - loss: 0.5662 - accuracy: 0.7147 - val_loss: 0.4792 - val_accuracy: 0.8060\n",
      "Epoch 22/500\n",
      "757/757 [==============================] - 0s 98us/sample - loss: 0.5530 - accuracy: 0.7371 - val_loss: 0.4722 - val_accuracy: 0.8060\n",
      "Epoch 23/500\n",
      "757/757 [==============================] - 0s 97us/sample - loss: 0.5371 - accuracy: 0.7371 - val_loss: 0.4691 - val_accuracy: 0.8060\n",
      "Epoch 24/500\n",
      "757/757 [==============================] - 0s 196us/sample - loss: 0.5536 - accuracy: 0.7450 - val_loss: 0.4699 - val_accuracy: 0.8134\n",
      "Epoch 25/500\n",
      "757/757 [==============================] - 0s 119us/sample - loss: 0.5290 - accuracy: 0.7662 - val_loss: 0.4671 - val_accuracy: 0.8060\n",
      "Epoch 26/500\n",
      "757/757 [==============================] - 0s 113us/sample - loss: 0.5348 - accuracy: 0.7583 - val_loss: 0.4653 - val_accuracy: 0.8060\n",
      "Epoch 27/500\n",
      "757/757 [==============================] - 0s 119us/sample - loss: 0.5341 - accuracy: 0.7477 - val_loss: 0.4636 - val_accuracy: 0.8060\n",
      "Epoch 28/500\n",
      "757/757 [==============================] - 0s 106us/sample - loss: 0.5338 - accuracy: 0.7384 - val_loss: 0.4633 - val_accuracy: 0.8060\n",
      "Epoch 29/500\n",
      "757/757 [==============================] - 0s 111us/sample - loss: 0.5468 - accuracy: 0.7318 - val_loss: 0.4643 - val_accuracy: 0.8060\n",
      "Epoch 30/500\n",
      "757/757 [==============================] - 0s 105us/sample - loss: 0.5325 - accuracy: 0.7543 - val_loss: 0.4644 - val_accuracy: 0.8060\n",
      "Epoch 31/500\n",
      "757/757 [==============================] - 0s 112us/sample - loss: 0.5308 - accuracy: 0.7464 - val_loss: 0.4639 - val_accuracy: 0.8060\n",
      "Epoch 32/500\n",
      "757/757 [==============================] - 0s 100us/sample - loss: 0.5215 - accuracy: 0.7622 - val_loss: 0.4648 - val_accuracy: 0.8060\n",
      "Epoch 33/500\n",
      "757/757 [==============================] - 0s 96us/sample - loss: 0.5227 - accuracy: 0.7675 - val_loss: 0.4619 - val_accuracy: 0.8060\n",
      "Epoch 34/500\n",
      "757/757 [==============================] - 0s 96us/sample - loss: 0.5175 - accuracy: 0.7701 - val_loss: 0.4602 - val_accuracy: 0.8060\n",
      "Epoch 35/500\n",
      "757/757 [==============================] - 0s 99us/sample - loss: 0.5074 - accuracy: 0.7622 - val_loss: 0.4595 - val_accuracy: 0.8060\n",
      "Epoch 36/500\n",
      "757/757 [==============================] - 0s 109us/sample - loss: 0.4985 - accuracy: 0.7913 - val_loss: 0.4605 - val_accuracy: 0.8060\n",
      "Epoch 37/500\n",
      "757/757 [==============================] - 0s 89us/sample - loss: 0.5092 - accuracy: 0.7781 - val_loss: 0.4573 - val_accuracy: 0.8060\n",
      "Epoch 38/500\n",
      "757/757 [==============================] - 0s 96us/sample - loss: 0.5230 - accuracy: 0.7583 - val_loss: 0.4581 - val_accuracy: 0.8060\n",
      "Epoch 39/500\n",
      "757/757 [==============================] - 0s 97us/sample - loss: 0.5156 - accuracy: 0.7596 - val_loss: 0.4572 - val_accuracy: 0.8060\n",
      "Epoch 40/500\n",
      "757/757 [==============================] - 0s 108us/sample - loss: 0.5000 - accuracy: 0.7688 - val_loss: 0.4569 - val_accuracy: 0.8060\n",
      "Epoch 41/500\n",
      "757/757 [==============================] - 0s 89us/sample - loss: 0.5017 - accuracy: 0.7675 - val_loss: 0.4589 - val_accuracy: 0.8060\n",
      "Epoch 42/500\n",
      "757/757 [==============================] - 0s 100us/sample - loss: 0.5209 - accuracy: 0.7675 - val_loss: 0.4577 - val_accuracy: 0.8060\n",
      "Epoch 43/500\n",
      "757/757 [==============================] - 0s 94us/sample - loss: 0.5105 - accuracy: 0.7781 - val_loss: 0.4562 - val_accuracy: 0.8060\n",
      "Epoch 44/500\n",
      "757/757 [==============================] - 0s 89us/sample - loss: 0.5078 - accuracy: 0.7754 - val_loss: 0.4565 - val_accuracy: 0.8060\n",
      "Epoch 45/500\n",
      "757/757 [==============================] - 0s 97us/sample - loss: 0.4990 - accuracy: 0.7768 - val_loss: 0.4564 - val_accuracy: 0.8060\n",
      "Epoch 46/500\n",
      "757/757 [==============================] - 0s 95us/sample - loss: 0.5008 - accuracy: 0.7807 - val_loss: 0.4570 - val_accuracy: 0.8060\n",
      "Epoch 47/500\n",
      "757/757 [==============================] - 0s 97us/sample - loss: 0.4965 - accuracy: 0.7820 - val_loss: 0.4562 - val_accuracy: 0.8060\n",
      "Epoch 48/500\n",
      "757/757 [==============================] - 0s 98us/sample - loss: 0.4905 - accuracy: 0.7807 - val_loss: 0.4556 - val_accuracy: 0.8060\n",
      "Epoch 49/500\n",
      "757/757 [==============================] - 0s 88us/sample - loss: 0.5047 - accuracy: 0.7768 - val_loss: 0.4551 - val_accuracy: 0.8060\n",
      "Epoch 50/500\n",
      "757/757 [==============================] - 0s 99us/sample - loss: 0.4916 - accuracy: 0.7873 - val_loss: 0.4538 - val_accuracy: 0.7985\n",
      "Epoch 51/500\n",
      "757/757 [==============================] - 0s 97us/sample - loss: 0.4799 - accuracy: 0.7966 - val_loss: 0.4536 - val_accuracy: 0.8060\n",
      "Epoch 52/500\n",
      "757/757 [==============================] - 0s 89us/sample - loss: 0.5007 - accuracy: 0.7794 - val_loss: 0.4540 - val_accuracy: 0.8060\n",
      "Epoch 53/500\n",
      "757/757 [==============================] - 0s 96us/sample - loss: 0.4966 - accuracy: 0.7715 - val_loss: 0.4536 - val_accuracy: 0.8060\n",
      "Epoch 54/500\n",
      "757/757 [==============================] - 0s 96us/sample - loss: 0.4938 - accuracy: 0.7701 - val_loss: 0.4536 - val_accuracy: 0.8060\n",
      "Epoch 55/500\n",
      "757/757 [==============================] - 0s 96us/sample - loss: 0.4956 - accuracy: 0.7834 - val_loss: 0.4548 - val_accuracy: 0.7910\n",
      "Epoch 56/500\n",
      "757/757 [==============================] - 0s 96us/sample - loss: 0.4815 - accuracy: 0.7873 - val_loss: 0.4546 - val_accuracy: 0.8060\n",
      "Epoch 57/500\n",
      "757/757 [==============================] - 0s 95us/sample - loss: 0.5187 - accuracy: 0.7437 - val_loss: 0.4540 - val_accuracy: 0.8060\n",
      "Epoch 58/500\n",
      "757/757 [==============================] - 0s 100us/sample - loss: 0.4968 - accuracy: 0.7952 - val_loss: 0.4537 - val_accuracy: 0.8060\n",
      "Epoch 59/500\n",
      "757/757 [==============================] - 0s 98us/sample - loss: 0.4840 - accuracy: 0.7847 - val_loss: 0.4527 - val_accuracy: 0.7985\n",
      "Epoch 60/500\n",
      "757/757 [==============================] - 0s 89us/sample - loss: 0.5041 - accuracy: 0.7728 - val_loss: 0.4538 - val_accuracy: 0.8060\n",
      "Epoch 61/500\n",
      "757/757 [==============================] - 0s 118us/sample - loss: 0.4956 - accuracy: 0.7873 - val_loss: 0.4539 - val_accuracy: 0.8060\n",
      "Epoch 62/500\n",
      "757/757 [==============================] - 0s 90us/sample - loss: 0.4925 - accuracy: 0.7966 - val_loss: 0.4536 - val_accuracy: 0.7910\n",
      "Epoch 63/500\n",
      "757/757 [==============================] - 0s 95us/sample - loss: 0.4883 - accuracy: 0.7768 - val_loss: 0.4537 - val_accuracy: 0.7985\n",
      "Epoch 64/500\n",
      "757/757 [==============================] - 0s 96us/sample - loss: 0.4779 - accuracy: 0.7820 - val_loss: 0.4533 - val_accuracy: 0.7910\n",
      "Epoch 65/500\n",
      "757/757 [==============================] - 0s 97us/sample - loss: 0.4940 - accuracy: 0.7715 - val_loss: 0.4529 - val_accuracy: 0.7910\n",
      "Epoch 66/500\n",
      "757/757 [==============================] - 0s 96us/sample - loss: 0.4761 - accuracy: 0.8005 - val_loss: 0.4530 - val_accuracy: 0.7985\n",
      "Epoch 67/500\n",
      "757/757 [==============================] - 0s 96us/sample - loss: 0.4781 - accuracy: 0.7939 - val_loss: 0.4520 - val_accuracy: 0.7910\n",
      "Epoch 68/500\n",
      "757/757 [==============================] - 0s 99us/sample - loss: 0.4956 - accuracy: 0.7781 - val_loss: 0.4525 - val_accuracy: 0.7985\n",
      "Epoch 69/500\n",
      "757/757 [==============================] - 0s 95us/sample - loss: 0.4743 - accuracy: 0.8005 - val_loss: 0.4517 - val_accuracy: 0.7910\n",
      "Epoch 70/500\n",
      "757/757 [==============================] - 0s 90us/sample - loss: 0.4695 - accuracy: 0.7847 - val_loss: 0.4526 - val_accuracy: 0.7910\n",
      "Epoch 71/500\n",
      "757/757 [==============================] - 0s 89us/sample - loss: 0.4869 - accuracy: 0.7900 - val_loss: 0.4508 - val_accuracy: 0.7985\n",
      "Epoch 72/500\n",
      "757/757 [==============================] - 0s 96us/sample - loss: 0.4797 - accuracy: 0.7926 - val_loss: 0.4505 - val_accuracy: 0.7985\n",
      "Epoch 73/500\n",
      "757/757 [==============================] - 0s 87us/sample - loss: 0.4850 - accuracy: 0.7794 - val_loss: 0.4516 - val_accuracy: 0.7910\n",
      "Epoch 74/500\n",
      "757/757 [==============================] - 0s 97us/sample - loss: 0.4714 - accuracy: 0.7913 - val_loss: 0.4502 - val_accuracy: 0.7985\n",
      "Epoch 75/500\n",
      "757/757 [==============================] - 0s 89us/sample - loss: 0.4811 - accuracy: 0.7900 - val_loss: 0.4498 - val_accuracy: 0.7985\n",
      "Epoch 76/500\n",
      "757/757 [==============================] - 0s 95us/sample - loss: 0.4565 - accuracy: 0.8032 - val_loss: 0.4496 - val_accuracy: 0.7985\n",
      "Epoch 77/500\n",
      "757/757 [==============================] - 0s 100us/sample - loss: 0.4707 - accuracy: 0.7966 - val_loss: 0.4494 - val_accuracy: 0.7985\n",
      "Epoch 78/500\n",
      "757/757 [==============================] - 0s 135us/sample - loss: 0.4680 - accuracy: 0.7979 - val_loss: 0.4486 - val_accuracy: 0.7985\n",
      "Epoch 79/500\n",
      "757/757 [==============================] - 0s 87us/sample - loss: 0.4567 - accuracy: 0.8018 - val_loss: 0.4482 - val_accuracy: 0.7985\n",
      "Epoch 80/500\n",
      "757/757 [==============================] - 0s 97us/sample - loss: 0.4809 - accuracy: 0.7847 - val_loss: 0.4479 - val_accuracy: 0.7910\n",
      "Epoch 81/500\n",
      "757/757 [==============================] - 0s 99us/sample - loss: 0.4694 - accuracy: 0.8005 - val_loss: 0.4482 - val_accuracy: 0.7761\n",
      "Epoch 82/500\n",
      "757/757 [==============================] - 0s 88us/sample - loss: 0.4789 - accuracy: 0.8071 - val_loss: 0.4483 - val_accuracy: 0.7910\n",
      "Epoch 83/500\n",
      "757/757 [==============================] - 0s 109us/sample - loss: 0.4665 - accuracy: 0.8111 - val_loss: 0.4481 - val_accuracy: 0.7761\n",
      "Epoch 84/500\n",
      "757/757 [==============================] - 0s 114us/sample - loss: 0.4710 - accuracy: 0.7966 - val_loss: 0.4489 - val_accuracy: 0.7910\n",
      "Epoch 85/500\n",
      "757/757 [==============================] - 0s 111us/sample - loss: 0.4704 - accuracy: 0.7900 - val_loss: 0.4506 - val_accuracy: 0.7910\n",
      "Epoch 86/500\n",
      "757/757 [==============================] - 0s 114us/sample - loss: 0.4845 - accuracy: 0.7873 - val_loss: 0.4485 - val_accuracy: 0.7985\n",
      "Epoch 87/500\n",
      "757/757 [==============================] - 0s 109us/sample - loss: 0.4588 - accuracy: 0.8045 - val_loss: 0.4485 - val_accuracy: 0.7985\n",
      "Epoch 88/500\n",
      "757/757 [==============================] - 0s 110us/sample - loss: 0.4694 - accuracy: 0.8005 - val_loss: 0.4480 - val_accuracy: 0.7985\n",
      "Epoch 89/500\n",
      "757/757 [==============================] - 0s 109us/sample - loss: 0.4781 - accuracy: 0.7834 - val_loss: 0.4477 - val_accuracy: 0.7910\n",
      "Epoch 90/500\n",
      "757/757 [==============================] - 0s 109us/sample - loss: 0.4711 - accuracy: 0.7900 - val_loss: 0.4469 - val_accuracy: 0.7985\n",
      "Epoch 91/500\n",
      "757/757 [==============================] - 0s 109us/sample - loss: 0.4712 - accuracy: 0.8032 - val_loss: 0.4468 - val_accuracy: 0.7910\n",
      "Epoch 92/500\n",
      "757/757 [==============================] - 0s 96us/sample - loss: 0.4723 - accuracy: 0.7992 - val_loss: 0.4473 - val_accuracy: 0.7910\n",
      "Epoch 93/500\n",
      "757/757 [==============================] - 0s 98us/sample - loss: 0.4617 - accuracy: 0.7966 - val_loss: 0.4480 - val_accuracy: 0.7910\n",
      "Epoch 94/500\n",
      "757/757 [==============================] - 0s 91us/sample - loss: 0.4809 - accuracy: 0.7966 - val_loss: 0.4480 - val_accuracy: 0.7910\n",
      "Epoch 95/500\n",
      "757/757 [==============================] - 0s 95us/sample - loss: 0.4525 - accuracy: 0.8071 - val_loss: 0.4483 - val_accuracy: 0.7985\n",
      "Epoch 96/500\n",
      "757/757 [==============================] - 0s 98us/sample - loss: 0.4716 - accuracy: 0.7926 - val_loss: 0.4478 - val_accuracy: 0.7985\n",
      "Epoch 97/500\n",
      "757/757 [==============================] - 0s 88us/sample - loss: 0.4831 - accuracy: 0.7847 - val_loss: 0.4475 - val_accuracy: 0.7910\n",
      "Epoch 98/500\n",
      "757/757 [==============================] - 0s 99us/sample - loss: 0.4561 - accuracy: 0.8018 - val_loss: 0.4468 - val_accuracy: 0.7985\n",
      "Epoch 99/500\n",
      "757/757 [==============================] - 0s 96us/sample - loss: 0.4626 - accuracy: 0.7913 - val_loss: 0.4466 - val_accuracy: 0.7985\n",
      "Epoch 100/500\n",
      "757/757 [==============================] - 0s 95us/sample - loss: 0.4695 - accuracy: 0.7913 - val_loss: 0.4471 - val_accuracy: 0.7985\n",
      "Epoch 101/500\n",
      "757/757 [==============================] - 0s 88us/sample - loss: 0.4749 - accuracy: 0.7847 - val_loss: 0.4469 - val_accuracy: 0.7985\n",
      "Epoch 102/500\n",
      "757/757 [==============================] - 0s 100us/sample - loss: 0.4774 - accuracy: 0.7847 - val_loss: 0.4474 - val_accuracy: 0.7985\n",
      "Epoch 103/500\n",
      "757/757 [==============================] - 0s 95us/sample - loss: 0.4530 - accuracy: 0.7966 - val_loss: 0.4468 - val_accuracy: 0.8060\n",
      "Epoch 104/500\n",
      "757/757 [==============================] - 0s 97us/sample - loss: 0.4640 - accuracy: 0.8018 - val_loss: 0.4469 - val_accuracy: 0.7985\n",
      "Epoch 105/500\n",
      "757/757 [==============================] - 0s 96us/sample - loss: 0.4624 - accuracy: 0.8032 - val_loss: 0.4465 - val_accuracy: 0.7910\n",
      "Epoch 106/500\n",
      "757/757 [==============================] - 0s 96us/sample - loss: 0.4642 - accuracy: 0.8045 - val_loss: 0.4458 - val_accuracy: 0.8060\n",
      "Epoch 107/500\n",
      "757/757 [==============================] - 0s 97us/sample - loss: 0.4595 - accuracy: 0.8005 - val_loss: 0.4468 - val_accuracy: 0.7985\n",
      "Epoch 108/500\n",
      "757/757 [==============================] - 0s 88us/sample - loss: 0.4807 - accuracy: 0.7900 - val_loss: 0.4464 - val_accuracy: 0.7910\n",
      "Epoch 109/500\n",
      "757/757 [==============================] - 0s 98us/sample - loss: 0.4645 - accuracy: 0.7966 - val_loss: 0.4458 - val_accuracy: 0.7985\n",
      "Epoch 110/500\n",
      "757/757 [==============================] - 0s 88us/sample - loss: 0.4434 - accuracy: 0.8269 - val_loss: 0.4457 - val_accuracy: 0.7910\n",
      "Epoch 111/500\n",
      "757/757 [==============================] - 0s 129us/sample - loss: 0.4621 - accuracy: 0.7966 - val_loss: 0.4462 - val_accuracy: 0.7910\n",
      "Epoch 112/500\n",
      "757/757 [==============================] - 0s 98us/sample - loss: 0.4604 - accuracy: 0.8032 - val_loss: 0.4454 - val_accuracy: 0.8134\n",
      "Epoch 113/500\n",
      "757/757 [==============================] - 0s 94us/sample - loss: 0.4599 - accuracy: 0.8045 - val_loss: 0.4450 - val_accuracy: 0.8134\n",
      "Epoch 114/500\n",
      "757/757 [==============================] - 0s 89us/sample - loss: 0.4779 - accuracy: 0.7834 - val_loss: 0.4451 - val_accuracy: 0.7985\n",
      "Epoch 115/500\n",
      "757/757 [==============================] - 0s 96us/sample - loss: 0.4708 - accuracy: 0.7873 - val_loss: 0.4456 - val_accuracy: 0.7910\n",
      "Epoch 116/500\n",
      "757/757 [==============================] - 0s 89us/sample - loss: 0.4544 - accuracy: 0.8071 - val_loss: 0.4452 - val_accuracy: 0.8134\n",
      "Epoch 117/500\n",
      "757/757 [==============================] - 0s 95us/sample - loss: 0.4556 - accuracy: 0.8032 - val_loss: 0.4451 - val_accuracy: 0.7910\n",
      "Epoch 118/500\n",
      "757/757 [==============================] - 0s 95us/sample - loss: 0.4713 - accuracy: 0.7952 - val_loss: 0.4451 - val_accuracy: 0.8134\n",
      "Epoch 119/500\n",
      "757/757 [==============================] - 0s 90us/sample - loss: 0.4600 - accuracy: 0.7979 - val_loss: 0.4449 - val_accuracy: 0.8134\n",
      "Epoch 120/500\n",
      "757/757 [==============================] - 0s 97us/sample - loss: 0.4655 - accuracy: 0.7834 - val_loss: 0.4448 - val_accuracy: 0.8060\n",
      "Epoch 121/500\n",
      "757/757 [==============================] - 0s 86us/sample - loss: 0.4521 - accuracy: 0.8018 - val_loss: 0.4453 - val_accuracy: 0.8060\n",
      "Epoch 122/500\n",
      "757/757 [==============================] - 0s 88us/sample - loss: 0.4664 - accuracy: 0.7926 - val_loss: 0.4447 - val_accuracy: 0.8060\n",
      "Epoch 123/500\n",
      "757/757 [==============================] - 0s 98us/sample - loss: 0.4442 - accuracy: 0.7939 - val_loss: 0.4449 - val_accuracy: 0.8060\n",
      "Epoch 124/500\n",
      "757/757 [==============================] - 0s 105us/sample - loss: 0.4663 - accuracy: 0.7979 - val_loss: 0.4452 - val_accuracy: 0.8060\n",
      "Epoch 125/500\n",
      "757/757 [==============================] - 0s 98us/sample - loss: 0.4584 - accuracy: 0.8032 - val_loss: 0.4452 - val_accuracy: 0.8134\n",
      "Epoch 126/500\n",
      "757/757 [==============================] - 0s 96us/sample - loss: 0.4548 - accuracy: 0.7900 - val_loss: 0.4451 - val_accuracy: 0.8060\n",
      "Epoch 127/500\n",
      "757/757 [==============================] - 0s 95us/sample - loss: 0.4606 - accuracy: 0.7952 - val_loss: 0.4445 - val_accuracy: 0.8060\n",
      "Epoch 128/500\n",
      "757/757 [==============================] - 0s 97us/sample - loss: 0.4517 - accuracy: 0.8032 - val_loss: 0.4449 - val_accuracy: 0.8060\n",
      "Epoch 129/500\n",
      "757/757 [==============================] - 0s 96us/sample - loss: 0.4843 - accuracy: 0.7913 - val_loss: 0.4438 - val_accuracy: 0.8060\n",
      "Epoch 130/500\n",
      "757/757 [==============================] - 0s 98us/sample - loss: 0.4574 - accuracy: 0.7992 - val_loss: 0.4437 - val_accuracy: 0.8060\n",
      "Epoch 131/500\n",
      "757/757 [==============================] - 0s 95us/sample - loss: 0.4505 - accuracy: 0.8071 - val_loss: 0.4430 - val_accuracy: 0.8060\n",
      "Epoch 132/500\n",
      "757/757 [==============================] - 0s 98us/sample - loss: 0.4576 - accuracy: 0.8085 - val_loss: 0.4434 - val_accuracy: 0.8060\n",
      "Epoch 133/500\n",
      "757/757 [==============================] - 0s 103us/sample - loss: 0.4517 - accuracy: 0.8032 - val_loss: 0.4434 - val_accuracy: 0.8060\n",
      "Epoch 134/500\n",
      "757/757 [==============================] - 0s 88us/sample - loss: 0.4511 - accuracy: 0.8058 - val_loss: 0.4423 - val_accuracy: 0.8060\n",
      "Epoch 135/500\n",
      "757/757 [==============================] - 0s 97us/sample - loss: 0.4693 - accuracy: 0.7873 - val_loss: 0.4427 - val_accuracy: 0.8060\n",
      "Epoch 136/500\n",
      "757/757 [==============================] - 0s 98us/sample - loss: 0.4573 - accuracy: 0.8177 - val_loss: 0.4434 - val_accuracy: 0.8060\n",
      "Epoch 137/500\n",
      "757/757 [==============================] - 0s 123us/sample - loss: 0.4489 - accuracy: 0.8032 - val_loss: 0.4436 - val_accuracy: 0.8060\n",
      "Epoch 138/500\n",
      "757/757 [==============================] - 0s 90us/sample - loss: 0.4582 - accuracy: 0.7966 - val_loss: 0.4427 - val_accuracy: 0.8060\n",
      "Epoch 139/500\n",
      "757/757 [==============================] - 0s 97us/sample - loss: 0.4526 - accuracy: 0.8098 - val_loss: 0.4428 - val_accuracy: 0.8060\n",
      "Epoch 140/500\n",
      "757/757 [==============================] - 0s 103us/sample - loss: 0.4599 - accuracy: 0.8045 - val_loss: 0.4421 - val_accuracy: 0.8060\n",
      "Epoch 141/500\n",
      "757/757 [==============================] - 0s 90us/sample - loss: 0.4590 - accuracy: 0.8058 - val_loss: 0.4418 - val_accuracy: 0.8060\n",
      "Epoch 142/500\n",
      "757/757 [==============================] - 0s 96us/sample - loss: 0.4498 - accuracy: 0.8098 - val_loss: 0.4417 - val_accuracy: 0.8134\n",
      "Epoch 143/500\n",
      "757/757 [==============================] - 0s 99us/sample - loss: 0.4514 - accuracy: 0.8164 - val_loss: 0.4418 - val_accuracy: 0.8134\n",
      "Epoch 144/500\n",
      "757/757 [==============================] - 0s 106us/sample - loss: 0.4507 - accuracy: 0.7979 - val_loss: 0.4428 - val_accuracy: 0.8060\n",
      "Epoch 145/500\n",
      "757/757 [==============================] - 0s 119us/sample - loss: 0.4571 - accuracy: 0.8058 - val_loss: 0.4423 - val_accuracy: 0.8060\n",
      "Epoch 146/500\n",
      "757/757 [==============================] - 0s 97us/sample - loss: 0.4277 - accuracy: 0.8151 - val_loss: 0.4437 - val_accuracy: 0.8134\n",
      "Epoch 147/500\n",
      "757/757 [==============================] - 0s 96us/sample - loss: 0.4534 - accuracy: 0.8045 - val_loss: 0.4433 - val_accuracy: 0.8060\n",
      "Epoch 148/500\n",
      "757/757 [==============================] - 0s 96us/sample - loss: 0.4641 - accuracy: 0.8058 - val_loss: 0.4424 - val_accuracy: 0.8134\n",
      "Epoch 149/500\n",
      "757/757 [==============================] - 0s 98us/sample - loss: 0.4429 - accuracy: 0.8111 - val_loss: 0.4418 - val_accuracy: 0.8060\n",
      "Epoch 150/500\n",
      "757/757 [==============================] - 0s 108us/sample - loss: 0.4422 - accuracy: 0.8190 - val_loss: 0.4422 - val_accuracy: 0.8060\n",
      "Epoch 151/500\n",
      "757/757 [==============================] - 0s 96us/sample - loss: 0.4456 - accuracy: 0.8203 - val_loss: 0.4420 - val_accuracy: 0.8134\n",
      "Epoch 152/500\n",
      "757/757 [==============================] - 0s 96us/sample - loss: 0.4595 - accuracy: 0.8032 - val_loss: 0.4420 - val_accuracy: 0.8060\n",
      "Epoch 153/500\n",
      "757/757 [==============================] - 0s 89us/sample - loss: 0.4452 - accuracy: 0.8124 - val_loss: 0.4410 - val_accuracy: 0.8060\n",
      "Epoch 154/500\n",
      "757/757 [==============================] - 0s 98us/sample - loss: 0.4439 - accuracy: 0.8124 - val_loss: 0.4411 - val_accuracy: 0.8134\n",
      "Epoch 155/500\n",
      "757/757 [==============================] - 0s 89us/sample - loss: 0.4409 - accuracy: 0.8190 - val_loss: 0.4405 - val_accuracy: 0.8060\n",
      "Epoch 156/500\n",
      "757/757 [==============================] - 0s 89us/sample - loss: 0.4472 - accuracy: 0.8111 - val_loss: 0.4405 - val_accuracy: 0.8060\n",
      "Epoch 157/500\n",
      "757/757 [==============================] - 0s 95us/sample - loss: 0.4505 - accuracy: 0.8071 - val_loss: 0.4409 - val_accuracy: 0.8060\n",
      "Epoch 158/500\n",
      "757/757 [==============================] - 0s 98us/sample - loss: 0.4468 - accuracy: 0.8058 - val_loss: 0.4406 - val_accuracy: 0.8060\n",
      "Epoch 159/500\n",
      "757/757 [==============================] - 0s 88us/sample - loss: 0.4587 - accuracy: 0.8085 - val_loss: 0.4400 - val_accuracy: 0.8060\n",
      "Epoch 160/500\n",
      "757/757 [==============================] - 0s 96us/sample - loss: 0.4519 - accuracy: 0.8111 - val_loss: 0.4398 - val_accuracy: 0.8060\n",
      "Epoch 161/500\n",
      "757/757 [==============================] - 0s 97us/sample - loss: 0.4461 - accuracy: 0.8137 - val_loss: 0.4397 - val_accuracy: 0.8060\n",
      "Epoch 162/500\n",
      "757/757 [==============================] - 0s 89us/sample - loss: 0.4433 - accuracy: 0.7966 - val_loss: 0.4398 - val_accuracy: 0.8060\n",
      "Epoch 163/500\n",
      "757/757 [==============================] - 0s 89us/sample - loss: 0.4426 - accuracy: 0.8256 - val_loss: 0.4397 - val_accuracy: 0.8060\n",
      "Epoch 164/500\n",
      "757/757 [==============================] - 0s 102us/sample - loss: 0.4610 - accuracy: 0.7873 - val_loss: 0.4396 - val_accuracy: 0.8060\n",
      "Epoch 165/500\n",
      "757/757 [==============================] - 0s 96us/sample - loss: 0.4435 - accuracy: 0.8230 - val_loss: 0.4407 - val_accuracy: 0.8060\n",
      "Epoch 166/500\n",
      "757/757 [==============================] - 0s 100us/sample - loss: 0.4627 - accuracy: 0.8058 - val_loss: 0.4402 - val_accuracy: 0.8060\n",
      "Epoch 167/500\n",
      "757/757 [==============================] - 0s 97us/sample - loss: 0.4427 - accuracy: 0.8005 - val_loss: 0.4405 - val_accuracy: 0.8060\n",
      "Epoch 168/500\n",
      "757/757 [==============================] - 0s 97us/sample - loss: 0.4383 - accuracy: 0.8098 - val_loss: 0.4402 - val_accuracy: 0.8134\n",
      "Epoch 169/500\n",
      "757/757 [==============================] - 0s 95us/sample - loss: 0.4432 - accuracy: 0.8032 - val_loss: 0.4412 - val_accuracy: 0.8060\n",
      "Epoch 170/500\n",
      "757/757 [==============================] - 0s 97us/sample - loss: 0.4462 - accuracy: 0.8111 - val_loss: 0.4413 - val_accuracy: 0.8060\n",
      "Epoch 171/500\n",
      "757/757 [==============================] - 0s 101us/sample - loss: 0.4445 - accuracy: 0.8098 - val_loss: 0.4414 - val_accuracy: 0.8060\n",
      "Epoch 172/500\n",
      "757/757 [==============================] - 0s 89us/sample - loss: 0.4570 - accuracy: 0.8045 - val_loss: 0.4414 - val_accuracy: 0.8060\n",
      "Epoch 173/500\n",
      "757/757 [==============================] - 0s 96us/sample - loss: 0.4359 - accuracy: 0.8124 - val_loss: 0.4404 - val_accuracy: 0.8060\n",
      "Epoch 174/500\n",
      "757/757 [==============================] - 0s 89us/sample - loss: 0.4402 - accuracy: 0.8058 - val_loss: 0.4411 - val_accuracy: 0.8060\n",
      "Epoch 175/500\n",
      "757/757 [==============================] - 0s 97us/sample - loss: 0.4591 - accuracy: 0.7900 - val_loss: 0.4408 - val_accuracy: 0.8060\n",
      "Epoch 176/500\n",
      "757/757 [==============================] - 0s 89us/sample - loss: 0.4431 - accuracy: 0.8296 - val_loss: 0.4412 - val_accuracy: 0.8060\n",
      "Epoch 177/500\n",
      "757/757 [==============================] - 0s 98us/sample - loss: 0.4519 - accuracy: 0.8177 - val_loss: 0.4411 - val_accuracy: 0.8060\n",
      "Epoch 178/500\n",
      "757/757 [==============================] - 0s 99us/sample - loss: 0.4563 - accuracy: 0.8151 - val_loss: 0.4410 - val_accuracy: 0.8060\n",
      "Epoch 179/500\n",
      "757/757 [==============================] - 0s 87us/sample - loss: 0.4443 - accuracy: 0.8164 - val_loss: 0.4416 - val_accuracy: 0.8060\n",
      "Epoch 180/500\n",
      "757/757 [==============================] - 0s 97us/sample - loss: 0.4440 - accuracy: 0.8190 - val_loss: 0.4412 - val_accuracy: 0.8060\n",
      "Epoch 181/500\n",
      "757/757 [==============================] - 0s 89us/sample - loss: 0.4440 - accuracy: 0.8111 - val_loss: 0.4405 - val_accuracy: 0.8060\n",
      "Epoch 182/500\n",
      "757/757 [==============================] - 0s 86us/sample - loss: 0.4372 - accuracy: 0.8137 - val_loss: 0.4409 - val_accuracy: 0.7985\n",
      "Epoch 183/500\n",
      "757/757 [==============================] - 0s 88us/sample - loss: 0.4304 - accuracy: 0.8085 - val_loss: 0.4410 - val_accuracy: 0.7985\n",
      "Epoch 184/500\n",
      "757/757 [==============================] - 0s 98us/sample - loss: 0.4269 - accuracy: 0.8269 - val_loss: 0.4425 - val_accuracy: 0.8060\n",
      "Epoch 185/500\n",
      "757/757 [==============================] - 0s 96us/sample - loss: 0.4295 - accuracy: 0.8217 - val_loss: 0.4417 - val_accuracy: 0.8060\n",
      "757/757 [==============================] - 0s 97us/sample - loss: 0.3377 - accuracy: 0.8732 - val_loss: 0.5063 - val_accuracy: 0.8060\n",
      "Epoch 119/500\n",
      "757/757 [==============================] - 0s 98us/sample - loss: 0.3333 - accuracy: 0.8705 - val_loss: 0.5287 - val_accuracy: 0.8134\n",
      "Epoch 120/500\n",
      "757/757 [==============================] - 0s 102us/sample - loss: 0.3144 - accuracy: 0.8838 - val_loss: 0.5367 - val_accuracy: 0.8209\n",
      "Epoch 121/500\n",
      "757/757 [==============================] - 0s 86us/sample - loss: 0.3305 - accuracy: 0.8771 - val_loss: 0.5341 - val_accuracy: 0.8209\n",
      "Epoch 122/500\n",
      "757/757 [==============================] - 0s 88us/sample - loss: 0.3251 - accuracy: 0.8798 - val_loss: 0.5345 - val_accuracy: 0.8209\n",
      "Epoch 123/500\n",
      "757/757 [==============================] - 0s 89us/sample - loss: 0.3274 - accuracy: 0.8692 - val_loss: 0.5648 - val_accuracy: 0.8284\n",
      "Epoch 124/500\n",
      "757/757 [==============================] - 0s 89us/sample - loss: 0.3278 - accuracy: 0.8666 - val_loss: 0.5429 - val_accuracy: 0.8209\n",
      "Epoch 125/500\n",
      "757/757 [==============================] - 0s 88us/sample - loss: 0.3318 - accuracy: 0.8613 - val_loss: 0.5116 - val_accuracy: 0.8284\n",
      "Epoch 126/500\n",
      "757/757 [==============================] - 0s 87us/sample - loss: 0.3188 - accuracy: 0.8771 - val_loss: 0.4724 - val_accuracy: 0.8358\n",
      "Epoch 127/500\n",
      "757/757 [==============================] - 0s 88us/sample - loss: 0.3340 - accuracy: 0.8692 - val_loss: 0.4968 - val_accuracy: 0.8284\n",
      "Epoch 128/500\n",
      "757/757 [==============================] - 0s 86us/sample - loss: 0.3155 - accuracy: 0.8798 - val_loss: 0.5274 - val_accuracy: 0.8209\n",
      "Epoch 129/500\n",
      "757/757 [==============================] - 0s 86us/sample - loss: 0.3136 - accuracy: 0.8864 - val_loss: 0.5942 - val_accuracy: 0.8060\n",
      "Epoch 130/500\n",
      "757/757 [==============================] - 0s 86us/sample - loss: 0.3436 - accuracy: 0.8653 - val_loss: 0.5040 - val_accuracy: 0.7910\n",
      "Epoch 131/500\n",
      "757/757 [==============================] - 0s 89us/sample - loss: 0.3504 - accuracy: 0.8626 - val_loss: 0.5046 - val_accuracy: 0.8284\n",
      "Epoch 132/500\n",
      "757/757 [==============================] - 0s 88us/sample - loss: 0.3280 - accuracy: 0.8758 - val_loss: 0.5330 - val_accuracy: 0.8209\n",
      "Epoch 133/500\n",
      "757/757 [==============================] - 0s 86us/sample - loss: 0.3248 - accuracy: 0.8758 - val_loss: 0.5167 - val_accuracy: 0.8209\n",
      "Epoch 134/500\n",
      "757/757 [==============================] - 0s 89us/sample - loss: 0.3155 - accuracy: 0.8785 - val_loss: 0.6036 - val_accuracy: 0.8209\n",
      "Epoch 135/500\n",
      "757/757 [==============================] - 0s 87us/sample - loss: 0.3263 - accuracy: 0.8811 - val_loss: 0.4994 - val_accuracy: 0.8284\n",
      "Epoch 136/500\n",
      "757/757 [==============================] - 0s 86us/sample - loss: 0.3143 - accuracy: 0.8917 - val_loss: 0.5756 - val_accuracy: 0.8209\n",
      "Epoch 137/500\n",
      "757/757 [==============================] - 0s 87us/sample - loss: 0.3148 - accuracy: 0.8811 - val_loss: 0.5530 - val_accuracy: 0.8134\n",
      "Epoch 138/500\n",
      "757/757 [==============================] - 0s 87us/sample - loss: 0.3303 - accuracy: 0.8798 - val_loss: 0.5310 - val_accuracy: 0.8284\n",
      "Epoch 139/500\n",
      "757/757 [==============================] - 0s 88us/sample - loss: 0.3354 - accuracy: 0.8719 - val_loss: 0.5550 - val_accuracy: 0.8134\n",
      "Epoch 140/500\n",
      "757/757 [==============================] - 0s 87us/sample - loss: 0.3191 - accuracy: 0.8745 - val_loss: 0.5081 - val_accuracy: 0.8209\n",
      "Epoch 141/500\n",
      "757/757 [==============================] - 0s 86us/sample - loss: 0.3341 - accuracy: 0.8705 - val_loss: 0.5666 - val_accuracy: 0.8284\n",
      "Epoch 142/500\n",
      "757/757 [==============================] - 0s 90us/sample - loss: 0.3505 - accuracy: 0.8666 - val_loss: 0.5075 - val_accuracy: 0.8284\n",
      "Epoch 143/500\n",
      "757/757 [==============================] - 0s 87us/sample - loss: 0.3174 - accuracy: 0.8851 - val_loss: 0.5904 - val_accuracy: 0.8060\n",
      "Epoch 144/500\n",
      "757/757 [==============================] - 0s 88us/sample - loss: 0.3343 - accuracy: 0.8719 - val_loss: 0.5219 - val_accuracy: 0.8134\n",
      "Epoch 145/500\n",
      "757/757 [==============================] - 0s 87us/sample - loss: 0.3264 - accuracy: 0.8745 - val_loss: 0.5494 - val_accuracy: 0.8134\n",
      "Epoch 146/500\n",
      "757/757 [==============================] - 0s 97us/sample - loss: 0.3457 - accuracy: 0.8560 - val_loss: 0.5211 - val_accuracy: 0.8284\n",
      "Epoch 147/500\n",
      "757/757 [==============================] - 0s 88us/sample - loss: 0.3280 - accuracy: 0.8732 - val_loss: 0.5297 - val_accuracy: 0.8209\n",
      "Epoch 148/500\n",
      "757/757 [==============================] - 0s 87us/sample - loss: 0.3249 - accuracy: 0.8785 - val_loss: 0.5939 - val_accuracy: 0.8134\n",
      "Epoch 149/500\n",
      "757/757 [==============================] - 0s 88us/sample - loss: 0.3300 - accuracy: 0.8719 - val_loss: 0.5494 - val_accuracy: 0.8284\n",
      "Epoch 150/500\n",
      "757/757 [==============================] - 0s 86us/sample - loss: 0.3299 - accuracy: 0.8692 - val_loss: 0.5465 - val_accuracy: 0.8284\n",
      "Epoch 151/500\n",
      "757/757 [==============================] - 0s 87us/sample - loss: 0.3192 - accuracy: 0.8758 - val_loss: 0.5679 - val_accuracy: 0.8284\n",
      "Epoch 152/500\n",
      "757/757 [==============================] - 0s 90us/sample - loss: 0.3176 - accuracy: 0.8864 - val_loss: 0.5277 - val_accuracy: 0.8134\n",
      "Epoch 153/500\n",
      "757/757 [==============================] - 0s 87us/sample - loss: 0.3111 - accuracy: 0.8732 - val_loss: 0.5996 - val_accuracy: 0.8209\n",
      "Epoch 154/500\n",
      "757/757 [==============================] - 0s 87us/sample - loss: 0.3220 - accuracy: 0.8838 - val_loss: 0.5484 - val_accuracy: 0.8284\n",
      "Epoch 155/500\n",
      "757/757 [==============================] - 0s 87us/sample - loss: 0.3189 - accuracy: 0.8705 - val_loss: 0.5560 - val_accuracy: 0.8134\n",
      "Epoch 156/500\n",
      "757/757 [==============================] - 0s 94us/sample - loss: 0.3079 - accuracy: 0.8824 - val_loss: 0.6056 - val_accuracy: 0.8134\n",
      "Epoch 157/500\n",
      "757/757 [==============================] - 0s 87us/sample - loss: 0.3157 - accuracy: 0.8838 - val_loss: 0.5846 - val_accuracy: 0.8060\n",
      "Epoch 158/500\n",
      "757/757 [==============================] - 0s 88us/sample - loss: 0.3367 - accuracy: 0.8639 - val_loss: 0.5257 - val_accuracy: 0.8134\n",
      "Epoch 159/500\n",
      "757/757 [==============================] - 0s 96us/sample - loss: 0.3278 - accuracy: 0.8745 - val_loss: 0.5926 - val_accuracy: 0.8209\n",
      "Epoch 160/500\n",
      "757/757 [==============================] - 0s 89us/sample - loss: 0.3082 - accuracy: 0.8851 - val_loss: 0.5715 - val_accuracy: 0.8209\n",
      "Epoch 161/500\n",
      "757/757 [==============================] - 0s 96us/sample - loss: 0.3359 - accuracy: 0.8732 - val_loss: 0.5922 - val_accuracy: 0.8134\n",
      "Epoch 162/500\n",
      "757/757 [==============================] - 0s 89us/sample - loss: 0.3338 - accuracy: 0.8785 - val_loss: 0.5387 - val_accuracy: 0.8358\n",
      "Epoch 163/500\n",
      "757/757 [==============================] - 0s 88us/sample - loss: 0.3140 - accuracy: 0.8824 - val_loss: 0.5376 - val_accuracy: 0.8284\n",
      "Epoch 164/500\n",
      "757/757 [==============================] - 0s 99us/sample - loss: 0.3166 - accuracy: 0.8798 - val_loss: 0.5745 - val_accuracy: 0.8284\n",
      "Epoch 165/500\n",
      "757/757 [==============================] - 0s 88us/sample - loss: 0.3194 - accuracy: 0.8838 - val_loss: 0.5488 - val_accuracy: 0.8358\n",
      "Epoch 166/500\n",
      "757/757 [==============================] - 0s 85us/sample - loss: 0.3141 - accuracy: 0.8864 - val_loss: 0.5378 - val_accuracy: 0.8134\n",
      "Epoch 167/500\n",
      "757/757 [==============================] - 0s 86us/sample - loss: 0.3153 - accuracy: 0.8877 - val_loss: 0.5740 - val_accuracy: 0.8284\n",
      "Epoch 168/500\n",
      "757/757 [==============================] - 0s 87us/sample - loss: 0.3165 - accuracy: 0.8824 - val_loss: 0.5287 - val_accuracy: 0.8284\n",
      "Epoch 169/500\n",
      "757/757 [==============================] - 0s 89us/sample - loss: 0.3126 - accuracy: 0.8864 - val_loss: 0.5708 - val_accuracy: 0.8209\n",
      "Epoch 170/500\n",
      "757/757 [==============================] - 0s 90us/sample - loss: 0.3235 - accuracy: 0.8798 - val_loss: 0.5555 - val_accuracy: 0.8134\n",
      "Epoch 171/500\n",
      "757/757 [==============================] - 0s 89us/sample - loss: 0.3231 - accuracy: 0.8758 - val_loss: 0.5708 - val_accuracy: 0.8060\n",
      "Epoch 172/500\n",
      "757/757 [==============================] - 0s 85us/sample - loss: 0.3181 - accuracy: 0.8758 - val_loss: 0.5912 - val_accuracy: 0.8134\n",
      "Epoch 173/500\n",
      "757/757 [==============================] - 0s 96us/sample - loss: 0.3123 - accuracy: 0.8838 - val_loss: 0.6068 - val_accuracy: 0.8134\n",
      "Epoch 174/500\n",
      "757/757 [==============================] - 0s 86us/sample - loss: 0.3040 - accuracy: 0.8904 - val_loss: 0.5905 - val_accuracy: 0.8358\n",
      "Epoch 175/500\n",
      "757/757 [==============================] - 0s 85us/sample - loss: 0.3151 - accuracy: 0.8785 - val_loss: 0.6155 - val_accuracy: 0.8134\n",
      "Epoch 176/500\n",
      "757/757 [==============================] - 0s 86us/sample - loss: 0.3157 - accuracy: 0.8824 - val_loss: 0.5994 - val_accuracy: 0.8134\n",
      "Epoch 177/500\n",
      "757/757 [==============================] - 0s 86us/sample - loss: 0.3241 - accuracy: 0.8732 - val_loss: 0.5495 - val_accuracy: 0.8060\n",
      "Epoch 178/500\n",
      "757/757 [==============================] - 0s 88us/sample - loss: 0.3105 - accuracy: 0.8824 - val_loss: 0.5859 - val_accuracy: 0.8134\n",
      "Epoch 179/500\n",
      "757/757 [==============================] - 0s 88us/sample - loss: 0.3163 - accuracy: 0.8758 - val_loss: 0.6398 - val_accuracy: 0.8060\n",
      "Epoch 180/500\n",
      "757/757 [==============================] - 0s 88us/sample - loss: 0.3161 - accuracy: 0.8851 - val_loss: 0.5673 - val_accuracy: 0.8209\n",
      "Epoch 181/500\n",
      "757/757 [==============================] - 0s 86us/sample - loss: 0.3247 - accuracy: 0.8798 - val_loss: 0.5506 - val_accuracy: 0.8209\n",
      "Epoch 182/500\n",
      "757/757 [==============================] - 0s 87us/sample - loss: 0.3267 - accuracy: 0.8771 - val_loss: 0.5355 - val_accuracy: 0.8433\n",
      "Epoch 183/500\n",
      "757/757 [==============================] - 0s 89us/sample - loss: 0.3161 - accuracy: 0.8798 - val_loss: 0.5309 - val_accuracy: 0.8358\n",
      "Epoch 184/500\n",
      "757/757 [==============================] - 0s 96us/sample - loss: 0.3114 - accuracy: 0.8838 - val_loss: 0.5363 - val_accuracy: 0.8433\n",
      "Epoch 185/500\n",
      "757/757 [==============================] - 0s 88us/sample - loss: 0.3192 - accuracy: 0.8851 - val_loss: 0.5408 - val_accuracy: 0.8358\n",
      "Epoch 186/500\n",
      "757/757 [==============================] - 0s 86us/sample - loss: 0.3189 - accuracy: 0.8824 - val_loss: 0.5552 - val_accuracy: 0.8433\n",
      "Epoch 187/500\n",
      "757/757 [==============================] - 0s 87us/sample - loss: 0.3099 - accuracy: 0.8785 - val_loss: 0.5334 - val_accuracy: 0.8209\n",
      "Epoch 188/500\n",
      "757/757 [==============================] - 0s 88us/sample - loss: 0.3178 - accuracy: 0.8745 - val_loss: 0.5537 - val_accuracy: 0.8284\n",
      "Epoch 189/500\n",
      "757/757 [==============================] - 0s 86us/sample - loss: 0.3060 - accuracy: 0.8890 - val_loss: 0.5612 - val_accuracy: 0.8284\n",
      "Epoch 190/500\n",
      "757/757 [==============================] - 0s 86us/sample - loss: 0.3129 - accuracy: 0.8838 - val_loss: 0.5831 - val_accuracy: 0.8284\n",
      "Epoch 191/500\n",
      "757/757 [==============================] - 0s 86us/sample - loss: 0.3053 - accuracy: 0.8864 - val_loss: 0.5576 - val_accuracy: 0.8358\n",
      "Epoch 192/500\n",
      "757/757 [==============================] - 0s 86us/sample - loss: 0.3013 - accuracy: 0.8970 - val_loss: 0.5616 - val_accuracy: 0.8358\n",
      "Epoch 193/500\n",
      "757/757 [==============================] - 0s 88us/sample - loss: 0.3044 - accuracy: 0.8956 - val_loss: 0.5881 - val_accuracy: 0.8433\n",
      "Epoch 194/500\n",
      "757/757 [==============================] - 0s 89us/sample - loss: 0.3123 - accuracy: 0.8930 - val_loss: 0.5935 - val_accuracy: 0.8358\n",
      "Epoch 195/500\n",
      "757/757 [==============================] - 0s 86us/sample - loss: 0.3064 - accuracy: 0.8930 - val_loss: 0.5993 - val_accuracy: 0.8358\n",
      "Epoch 196/500\n",
      "757/757 [==============================] - 0s 85us/sample - loss: 0.2999 - accuracy: 0.8864 - val_loss: 0.5617 - val_accuracy: 0.8358\n",
      "Epoch 197/500\n",
      "757/757 [==============================] - 0s 87us/sample - loss: 0.3066 - accuracy: 0.8851 - val_loss: 0.5812 - val_accuracy: 0.8433\n",
      "Epoch 198/500\n",
      "757/757 [==============================] - 0s 85us/sample - loss: 0.3132 - accuracy: 0.8811 - val_loss: 0.5377 - val_accuracy: 0.8433\n",
      "Epoch 199/500\n",
      "757/757 [==============================] - 0s 87us/sample - loss: 0.3172 - accuracy: 0.8824 - val_loss: 0.5735 - val_accuracy: 0.8284\n",
      "Epoch 200/500\n",
      "757/757 [==============================] - 0s 87us/sample - loss: 0.3130 - accuracy: 0.8904 - val_loss: 0.5813 - val_accuracy: 0.8209\n",
      "Epoch 201/500\n",
      "757/757 [==============================] - 0s 89us/sample - loss: 0.3013 - accuracy: 0.8917 - val_loss: 0.5624 - val_accuracy: 0.8284\n",
      "Epoch 202/500\n",
      "757/757 [==============================] - 0s 87us/sample - loss: 0.3081 - accuracy: 0.8851 - val_loss: 0.5670 - val_accuracy: 0.8358\n",
      "Epoch 203/500\n",
      "757/757 [==============================] - 0s 88us/sample - loss: 0.3199 - accuracy: 0.8785 - val_loss: 0.5870 - val_accuracy: 0.8284\n",
      "Epoch 204/500\n",
      "757/757 [==============================] - 0s 86us/sample - loss: 0.3150 - accuracy: 0.8824 - val_loss: 0.5874 - val_accuracy: 0.8433\n",
      "Epoch 205/500\n",
      "757/757 [==============================] - 0s 88us/sample - loss: 0.3416 - accuracy: 0.8811 - val_loss: 0.5473 - val_accuracy: 0.8433\n",
      "Epoch 206/500\n",
      "757/757 [==============================] - 0s 86us/sample - loss: 0.3237 - accuracy: 0.8838 - val_loss: 0.5527 - val_accuracy: 0.8284\n",
      "Epoch 207/500\n",
      "757/757 [==============================] - 0s 86us/sample - loss: 0.3110 - accuracy: 0.8811 - val_loss: 0.5352 - val_accuracy: 0.8284\n",
      "Epoch 208/500\n",
      "757/757 [==============================] - 0s 88us/sample - loss: 0.3180 - accuracy: 0.8838 - val_loss: 0.5519 - val_accuracy: 0.8284\n",
      "Epoch 209/500\n",
      "757/757 [==============================] - 0s 88us/sample - loss: 0.3205 - accuracy: 0.8824 - val_loss: 0.5584 - val_accuracy: 0.8284\n",
      "Epoch 210/500\n",
      "757/757 [==============================] - 0s 88us/sample - loss: 0.3065 - accuracy: 0.8811 - val_loss: 0.5942 - val_accuracy: 0.8209\n",
      "Epoch 211/500\n",
      "757/757 [==============================] - 0s 88us/sample - loss: 0.3691 - accuracy: 0.8824 - val_loss: 0.6148 - val_accuracy: 0.8284\n",
      "Epoch 212/500\n",
      "757/757 [==============================] - 0s 86us/sample - loss: 0.3432 - accuracy: 0.8758 - val_loss: 0.4888 - val_accuracy: 0.8284\n",
      "Epoch 213/500\n",
      "757/757 [==============================] - 0s 88us/sample - loss: 0.3164 - accuracy: 0.8838 - val_loss: 0.5211 - val_accuracy: 0.8433\n",
      "Epoch 214/500\n",
      "757/757 [==============================] - 0s 89us/sample - loss: 0.3211 - accuracy: 0.8838 - val_loss: 0.5369 - val_accuracy: 0.8358\n",
      "Epoch 215/500\n",
      "757/757 [==============================] - 0s 88us/sample - loss: 0.3112 - accuracy: 0.8904 - val_loss: 0.5453 - val_accuracy: 0.8433\n",
      "Epoch 216/500\n",
      "757/757 [==============================] - 0s 86us/sample - loss: 0.3187 - accuracy: 0.8771 - val_loss: 0.5492 - val_accuracy: 0.8284\n",
      "Epoch 217/500\n",
      "757/757 [==============================] - 0s 88us/sample - loss: 0.3151 - accuracy: 0.8798 - val_loss: 0.5532 - val_accuracy: 0.8134\n",
      "Epoch 218/500\n",
      "757/757 [==============================] - 0s 85us/sample - loss: 0.3113 - accuracy: 0.8824 - val_loss: 0.5430 - val_accuracy: 0.8358\n",
      "Epoch 219/500\n",
      "757/757 [==============================] - 0s 87us/sample - loss: 0.3078 - accuracy: 0.8864 - val_loss: 0.5888 - val_accuracy: 0.8284\n",
      "Epoch 220/500\n",
      "757/757 [==============================] - 0s 86us/sample - loss: 0.3098 - accuracy: 0.8851 - val_loss: 0.5679 - val_accuracy: 0.8134\n",
      "Epoch 221/500\n",
      "757/757 [==============================] - 0s 84us/sample - loss: 0.3149 - accuracy: 0.8824 - val_loss: 0.5745 - val_accuracy: 0.8134\n",
      "Epoch 222/500\n",
      "757/757 [==============================] - 0s 96us/sample - loss: 0.3058 - accuracy: 0.8798 - val_loss: 0.5722 - val_accuracy: 0.8284\n",
      "Epoch 223/500\n",
      "757/757 [==============================] - 0s 84us/sample - loss: 0.3088 - accuracy: 0.8811 - val_loss: 0.5499 - val_accuracy: 0.8284\n",
      "Epoch 224/500\n",
      "757/757 [==============================] - 0s 88us/sample - loss: 0.3060 - accuracy: 0.8732 - val_loss: 0.5425 - val_accuracy: 0.8358\n",
      "Epoch 225/500\n",
      "757/757 [==============================] - 0s 88us/sample - loss: 0.3001 - accuracy: 0.8890 - val_loss: 0.5346 - val_accuracy: 0.8284\n",
      "Epoch 226/500\n",
      "757/757 [==============================] - 0s 88us/sample - loss: 0.3130 - accuracy: 0.8824 - val_loss: 0.5270 - val_accuracy: 0.8358\n",
      "Epoch 227/500\n",
      "757/757 [==============================] - 0s 95us/sample - loss: 0.3026 - accuracy: 0.8864 - val_loss: 0.5874 - val_accuracy: 0.8358\n",
      "Epoch 228/500\n",
      "757/757 [==============================] - 0s 96us/sample - loss: 0.3213 - accuracy: 0.8838 - val_loss: 0.5866 - val_accuracy: 0.8284\n",
      "Epoch 229/500\n",
      "757/757 [==============================] - 0s 96us/sample - loss: 0.3216 - accuracy: 0.8785 - val_loss: 0.5323 - val_accuracy: 0.8358\n",
      "Epoch 230/500\n",
      "757/757 [==============================] - 0s 88us/sample - loss: 0.3195 - accuracy: 0.8864 - val_loss: 0.5299 - val_accuracy: 0.8433\n",
      "Epoch 231/500\n",
      "757/757 [==============================] - 0s 87us/sample - loss: 0.3106 - accuracy: 0.8890 - val_loss: 0.5684 - val_accuracy: 0.8284\n",
      "Epoch 232/500\n",
      "757/757 [==============================] - 0s 131us/sample - loss: 0.3111 - accuracy: 0.8824 - val_loss: 0.5546 - val_accuracy: 0.8358\n",
      "Epoch 233/500\n",
      "757/757 [==============================] - 0s 92us/sample - loss: 0.3044 - accuracy: 0.8864 - val_loss: 0.5642 - val_accuracy: 0.8358\n",
      "Epoch 234/500\n",
      "757/757 [==============================] - 0s 96us/sample - loss: 0.3001 - accuracy: 0.8917 - val_loss: 0.6095 - val_accuracy: 0.8358\n",
      "Epoch 235/500\n",
      "757/757 [==============================] - 0s 100us/sample - loss: 0.3012 - accuracy: 0.8838 - val_loss: 0.6098 - val_accuracy: 0.8209\n",
      "Epoch 236/500\n",
      "757/757 [==============================] - 0s 97us/sample - loss: 0.3062 - accuracy: 0.8917 - val_loss: 0.6144 - val_accuracy: 0.8134\n",
      "Epoch 237/500\n",
      "757/757 [==============================] - 0s 100us/sample - loss: 0.3015 - accuracy: 0.8838 - val_loss: 0.5909 - val_accuracy: 0.8134\n",
      "Epoch 238/500\n",
      "757/757 [==============================] - 0s 96us/sample - loss: 0.3068 - accuracy: 0.8851 - val_loss: 0.5767 - val_accuracy: 0.8284\n",
      "Epoch 239/500\n",
      "757/757 [==============================] - 0s 97us/sample - loss: 0.3101 - accuracy: 0.8864 - val_loss: 0.5673 - val_accuracy: 0.8284\n",
      "Epoch 240/500\n",
      "757/757 [==============================] - 0s 96us/sample - loss: 0.3241 - accuracy: 0.8838 - val_loss: 0.5719 - val_accuracy: 0.8284\n",
      "Epoch 241/500\n",
      "757/757 [==============================] - 0s 98us/sample - loss: 0.2940 - accuracy: 0.8890 - val_loss: 0.5731 - val_accuracy: 0.8358\n",
      "Epoch 242/500\n",
      "757/757 [==============================] - 0s 97us/sample - loss: 0.2974 - accuracy: 0.8930 - val_loss: 0.6002 - val_accuracy: 0.8358\n",
      "Epoch 243/500\n",
      "757/757 [==============================] - 0s 98us/sample - loss: 0.3221 - accuracy: 0.8851 - val_loss: 0.5271 - val_accuracy: 0.8433\n",
      "Epoch 244/500\n",
      "757/757 [==============================] - 0s 95us/sample - loss: 0.3232 - accuracy: 0.8745 - val_loss: 0.6429 - val_accuracy: 0.8209\n",
      "Epoch 245/500\n",
      "757/757 [==============================] - 0s 97us/sample - loss: 0.3141 - accuracy: 0.8838 - val_loss: 0.5773 - val_accuracy: 0.8209\n",
      "Epoch 246/500\n",
      "757/757 [==============================] - 0s 96us/sample - loss: 0.3032 - accuracy: 0.8824 - val_loss: 0.5743 - val_accuracy: 0.8284\n",
      "Epoch 247/500\n",
      "757/757 [==============================] - 0s 91us/sample - loss: 0.3000 - accuracy: 0.8838 - val_loss: 0.5656 - val_accuracy: 0.8209\n",
      "Epoch 248/500\n",
      "757/757 [==============================] - 0s 98us/sample - loss: 0.3113 - accuracy: 0.8785 - val_loss: 0.5920 - val_accuracy: 0.8358\n",
      "Epoch 249/500\n",
      "757/757 [==============================] - 0s 98us/sample - loss: 0.3133 - accuracy: 0.8824 - val_loss: 0.5771 - val_accuracy: 0.8358\n",
      "Epoch 250/500\n",
      "757/757 [==============================] - 0s 97us/sample - loss: 0.3126 - accuracy: 0.8824 - val_loss: 0.5849 - val_accuracy: 0.8358\n",
      "Epoch 251/500\n",
      "757/757 [==============================] - 0s 98us/sample - loss: 0.3014 - accuracy: 0.8877 - val_loss: 0.5876 - val_accuracy: 0.8284\n",
      "Epoch 252/500\n",
      "757/757 [==============================] - 0s 101us/sample - loss: 0.2936 - accuracy: 0.8943 - val_loss: 0.6003 - val_accuracy: 0.8284\n",
      "Epoch 253/500\n",
      "757/757 [==============================] - 0s 97us/sample - loss: 0.2952 - accuracy: 0.8917 - val_loss: 0.5986 - val_accuracy: 0.8358\n",
      "Epoch 254/500\n",
      "757/757 [==============================] - 0s 97us/sample - loss: 0.3003 - accuracy: 0.8943 - val_loss: 0.5884 - val_accuracy: 0.8284\n",
      "Epoch 255/500\n",
      "757/757 [==============================] - 0s 105us/sample - loss: 0.3048 - accuracy: 0.8798 - val_loss: 0.5936 - val_accuracy: 0.8284\n",
      "Epoch 256/500\n",
      "757/757 [==============================] - 0s 98us/sample - loss: 0.2956 - accuracy: 0.8890 - val_loss: 0.5812 - val_accuracy: 0.8358\n",
      "Epoch 257/500\n",
      "757/757 [==============================] - 0s 100us/sample - loss: 0.3215 - accuracy: 0.8785 - val_loss: 0.5573 - val_accuracy: 0.8358\n",
      "Epoch 258/500\n",
      "757/757 [==============================] - 0s 100us/sample - loss: 0.3133 - accuracy: 0.8838 - val_loss: 0.5591 - val_accuracy: 0.8507\n",
      "Epoch 259/500\n",
      "757/757 [==============================] - 0s 97us/sample - loss: 0.3055 - accuracy: 0.8811 - val_loss: 0.5582 - val_accuracy: 0.8358\n",
      "Epoch 260/500\n",
      "757/757 [==============================] - 0s 96us/sample - loss: 0.3019 - accuracy: 0.8983 - val_loss: 0.5817 - val_accuracy: 0.8284\n",
      "Epoch 261/500\n",
      "757/757 [==============================] - 0s 97us/sample - loss: 0.3202 - accuracy: 0.8758 - val_loss: 0.5473 - val_accuracy: 0.8284\n",
      "Epoch 262/500\n",
      "757/757 [==============================] - 0s 97us/sample - loss: 0.3068 - accuracy: 0.8811 - val_loss: 0.5761 - val_accuracy: 0.8284\n",
      "Epoch 263/500\n",
      "757/757 [==============================] - 0s 98us/sample - loss: 0.3109 - accuracy: 0.8745 - val_loss: 0.5883 - val_accuracy: 0.8284\n",
      "Epoch 264/500\n",
      "757/757 [==============================] - 0s 97us/sample - loss: 0.3089 - accuracy: 0.8838 - val_loss: 0.5516 - val_accuracy: 0.8358\n",
      "Epoch 265/500\n",
      "757/757 [==============================] - 0s 100us/sample - loss: 0.3071 - accuracy: 0.8877 - val_loss: 0.5457 - val_accuracy: 0.8358\n",
      "Epoch 266/500\n",
      "757/757 [==============================] - 0s 97us/sample - loss: 0.3044 - accuracy: 0.8864 - val_loss: 0.5480 - val_accuracy: 0.8209\n",
      "Epoch 267/500\n",
      "757/757 [==============================] - 0s 95us/sample - loss: 0.3189 - accuracy: 0.8824 - val_loss: 0.5541 - val_accuracy: 0.8358\n",
      "Epoch 268/500\n",
      "757/757 [==============================] - 0s 87us/sample - loss: 0.3207 - accuracy: 0.8785 - val_loss: 0.5462 - val_accuracy: 0.8209\n",
      "Epoch 269/500\n",
      "757/757 [==============================] - 0s 87us/sample - loss: 0.3110 - accuracy: 0.8851 - val_loss: 0.5866 - val_accuracy: 0.8284\n",
      "Epoch 270/500\n",
      "757/757 [==============================] - 0s 87us/sample - loss: 0.3259 - accuracy: 0.8785 - val_loss: 0.5272 - val_accuracy: 0.8284\n",
      "Epoch 271/500\n",
      "757/757 [==============================] - 0s 86us/sample - loss: 0.3133 - accuracy: 0.8705 - val_loss: 0.5583 - val_accuracy: 0.8284\n",
      "Epoch 272/500\n",
      "757/757 [==============================] - 0s 85us/sample - loss: 0.2924 - accuracy: 0.8970 - val_loss: 0.5710 - val_accuracy: 0.8358\n",
      "Epoch 273/500\n",
      "757/757 [==============================] - 0s 95us/sample - loss: 0.3116 - accuracy: 0.8851 - val_loss: 0.5747 - val_accuracy: 0.8358\n",
      "Epoch 274/500\n",
      "757/757 [==============================] - 0s 87us/sample - loss: 0.2972 - accuracy: 0.8904 - val_loss: 0.5170 - val_accuracy: 0.8358\n",
      "Epoch 275/500\n",
      "757/757 [==============================] - 0s 89us/sample - loss: 0.3061 - accuracy: 0.8811 - val_loss: 0.5366 - val_accuracy: 0.8433\n",
      "Epoch 276/500\n",
      "757/757 [==============================] - 0s 95us/sample - loss: 0.3101 - accuracy: 0.8917 - val_loss: 0.5739 - val_accuracy: 0.8284\n",
      "Epoch 277/500\n",
      "757/757 [==============================] - 0s 95us/sample - loss: 0.2936 - accuracy: 0.8917 - val_loss: 0.5578 - val_accuracy: 0.8433\n",
      "Epoch 278/500\n",
      "757/757 [==============================] - 0s 85us/sample - loss: 0.2966 - accuracy: 0.8877 - val_loss: 0.5345 - val_accuracy: 0.8433\n",
      "Epoch 279/500\n",
      "757/757 [==============================] - 0s 87us/sample - loss: 0.3073 - accuracy: 0.8838 - val_loss: 0.5351 - val_accuracy: 0.8433\n",
      "Epoch 280/500\n",
      "757/757 [==============================] - 0s 86us/sample - loss: 0.2999 - accuracy: 0.8877 - val_loss: 0.5705 - val_accuracy: 0.8358\n",
      "Epoch 281/500\n",
      "757/757 [==============================] - 0s 86us/sample - loss: 0.3077 - accuracy: 0.8864 - val_loss: 0.5632 - val_accuracy: 0.8358\n",
      "Epoch 282/500\n",
      "757/757 [==============================] - 0s 96us/sample - loss: 0.3042 - accuracy: 0.8877 - val_loss: 0.5789 - val_accuracy: 0.8209\n",
      "Epoch 283/500\n",
      "757/757 [==============================] - 0s 87us/sample - loss: 0.3056 - accuracy: 0.8943 - val_loss: 0.5707 - val_accuracy: 0.8284\n",
      "Epoch 284/500\n",
      "757/757 [==============================] - 0s 88us/sample - loss: 0.3036 - accuracy: 0.8864 - val_loss: 0.5827 - val_accuracy: 0.8284\n",
      "Epoch 285/500\n",
      "757/757 [==============================] - 0s 87us/sample - loss: 0.3095 - accuracy: 0.8798 - val_loss: 0.5655 - val_accuracy: 0.8358\n",
      "Epoch 286/500\n",
      "757/757 [==============================] - 0s 88us/sample - loss: 0.2993 - accuracy: 0.8956 - val_loss: 0.5674 - val_accuracy: 0.8433\n",
      "Epoch 287/500\n",
      "757/757 [==============================] - 0s 88us/sample - loss: 0.2916 - accuracy: 0.8956 - val_loss: 0.5723 - val_accuracy: 0.8358\n",
      "Epoch 288/500\n",
      "757/757 [==============================] - 0s 86us/sample - loss: 0.3012 - accuracy: 0.8864 - val_loss: 0.5538 - val_accuracy: 0.8507\n",
      "Epoch 289/500\n",
      "757/757 [==============================] - 0s 88us/sample - loss: 0.3038 - accuracy: 0.8811 - val_loss: 0.5780 - val_accuracy: 0.8358\n",
      "Epoch 290/500\n",
      "757/757 [==============================] - 0s 86us/sample - loss: 0.3084 - accuracy: 0.8877 - val_loss: 0.5505 - val_accuracy: 0.8433\n",
      "Epoch 291/500\n",
      "757/757 [==============================] - 0s 89us/sample - loss: 0.3127 - accuracy: 0.8798 - val_loss: 0.5700 - val_accuracy: 0.8358\n",
      "Epoch 292/500\n",
      "757/757 [==============================] - 0s 86us/sample - loss: 0.3096 - accuracy: 0.8824 - val_loss: 0.5419 - val_accuracy: 0.8284\n",
      "Epoch 293/500\n",
      "757/757 [==============================] - 0s 88us/sample - loss: 0.3051 - accuracy: 0.8864 - val_loss: 0.5948 - val_accuracy: 0.8433\n",
      "Epoch 294/500\n",
      "757/757 [==============================] - 0s 86us/sample - loss: 0.2961 - accuracy: 0.8930 - val_loss: 0.6357 - val_accuracy: 0.8209\n",
      "Epoch 295/500\n",
      "757/757 [==============================] - 0s 88us/sample - loss: 0.2999 - accuracy: 0.8904 - val_loss: 0.5667 - val_accuracy: 0.8358\n",
      "Epoch 296/500\n",
      "757/757 [==============================] - 0s 87us/sample - loss: 0.3056 - accuracy: 0.8824 - val_loss: 0.5352 - val_accuracy: 0.8358\n",
      "Epoch 297/500\n",
      "757/757 [==============================] - 0s 86us/sample - loss: 0.3000 - accuracy: 0.8917 - val_loss: 0.5895 - val_accuracy: 0.8358\n",
      "Epoch 298/500\n",
      "757/757 [==============================] - 0s 86us/sample - loss: 0.2962 - accuracy: 0.8904 - val_loss: 0.5998 - val_accuracy: 0.8358\n",
      "Epoch 299/500\n",
      "757/757 [==============================] - 0s 87us/sample - loss: 0.3017 - accuracy: 0.8851 - val_loss: 0.6044 - val_accuracy: 0.8433\n",
      "Epoch 300/500\n",
      "757/757 [==============================] - 0s 88us/sample - loss: 0.3174 - accuracy: 0.8838 - val_loss: 0.5742 - val_accuracy: 0.8284\n",
      "Epoch 301/500\n",
      "757/757 [==============================] - 0s 86us/sample - loss: 0.2980 - accuracy: 0.8877 - val_loss: 0.6177 - val_accuracy: 0.8433\n",
      "Epoch 302/500\n",
      "757/757 [==============================] - 0s 85us/sample - loss: 0.3022 - accuracy: 0.8917 - val_loss: 0.5973 - val_accuracy: 0.8507\n",
      "Epoch 303/500\n",
      "757/757 [==============================] - 0s 87us/sample - loss: 0.2926 - accuracy: 0.8917 - val_loss: 0.5583 - val_accuracy: 0.8433\n",
      "Epoch 304/500\n",
      "757/757 [==============================] - 0s 96us/sample - loss: 0.2944 - accuracy: 0.8943 - val_loss: 0.5751 - val_accuracy: 0.8358\n",
      "Epoch 305/500\n",
      "757/757 [==============================] - 0s 95us/sample - loss: 0.3003 - accuracy: 0.8890 - val_loss: 0.6121 - val_accuracy: 0.8433\n",
      "Epoch 306/500\n",
      "757/757 [==============================] - 0s 87us/sample - loss: 0.3059 - accuracy: 0.8917 - val_loss: 0.5610 - val_accuracy: 0.8209\n",
      "Epoch 307/500\n",
      "757/757 [==============================] - 0s 88us/sample - loss: 0.3123 - accuracy: 0.8851 - val_loss: 0.5850 - val_accuracy: 0.8134\n",
      "Epoch 308/500\n",
      "757/757 [==============================] - 0s 87us/sample - loss: 0.3166 - accuracy: 0.8851 - val_loss: 0.6292 - val_accuracy: 0.8209\n",
      "Epoch 309/500\n",
      "757/757 [==============================] - 0s 84us/sample - loss: 0.3076 - accuracy: 0.8877 - val_loss: 0.5797 - val_accuracy: 0.8358\n",
      "Epoch 310/500\n",
      "757/757 [==============================] - 0s 86us/sample - loss: 0.2923 - accuracy: 0.8943 - val_loss: 0.6039 - val_accuracy: 0.8358\n",
      "Epoch 311/500\n",
      "757/757 [==============================] - 0s 87us/sample - loss: 0.3112 - accuracy: 0.8864 - val_loss: 0.5789 - val_accuracy: 0.8209\n",
      "Epoch 312/500\n",
      "757/757 [==============================] - 0s 89us/sample - loss: 0.3044 - accuracy: 0.8890 - val_loss: 0.5789 - val_accuracy: 0.8134\n",
      "Epoch 313/500\n",
      "757/757 [==============================] - 0s 88us/sample - loss: 0.3010 - accuracy: 0.8758 - val_loss: 0.5996 - val_accuracy: 0.8284\n",
      "Epoch 314/500\n",
      "757/757 [==============================] - 0s 86us/sample - loss: 0.2970 - accuracy: 0.8917 - val_loss: 0.6487 - val_accuracy: 0.8284\n",
      "Epoch 315/500\n",
      "757/757 [==============================] - 0s 91us/sample - loss: 0.3360 - accuracy: 0.8771 - val_loss: 0.5277 - val_accuracy: 0.8358\n",
      "Epoch 316/500\n",
      "757/757 [==============================] - 0s 88us/sample - loss: 0.3073 - accuracy: 0.8851 - val_loss: 0.5618 - val_accuracy: 0.8507\n",
      "Epoch 317/500\n",
      "757/757 [==============================] - 0s 87us/sample - loss: 0.2907 - accuracy: 0.8917 - val_loss: 0.5896 - val_accuracy: 0.8358\n",
      "Epoch 318/500\n",
      "757/757 [==============================] - 0s 87us/sample - loss: 0.2902 - accuracy: 0.8943 - val_loss: 0.6113 - val_accuracy: 0.8433\n",
      "Epoch 319/500\n",
      "757/757 [==============================] - 0s 86us/sample - loss: 0.2849 - accuracy: 0.8943 - val_loss: 0.6037 - val_accuracy: 0.8209\n",
      "Epoch 320/500\n",
      "757/757 [==============================] - 0s 87us/sample - loss: 0.2952 - accuracy: 0.8877 - val_loss: 0.6269 - val_accuracy: 0.8358\n",
      "Epoch 321/500\n",
      "757/757 [==============================] - 0s 96us/sample - loss: 0.3007 - accuracy: 0.8864 - val_loss: 0.6282 - val_accuracy: 0.8358\n",
      "Epoch 322/500\n",
      "757/757 [==============================] - 0s 86us/sample - loss: 0.2868 - accuracy: 0.8943 - val_loss: 0.6595 - val_accuracy: 0.8284\n",
      "Epoch 323/500\n",
      "757/757 [==============================] - 0s 87us/sample - loss: 0.3014 - accuracy: 0.8890 - val_loss: 0.6805 - val_accuracy: 0.8209\n",
      "Epoch 324/500\n",
      "757/757 [==============================] - 0s 85us/sample - loss: 0.3196 - accuracy: 0.8798 - val_loss: 0.5489 - val_accuracy: 0.8284\n",
      "Epoch 325/500\n",
      "757/757 [==============================] - 0s 87us/sample - loss: 0.2994 - accuracy: 0.8917 - val_loss: 0.6304 - val_accuracy: 0.8134\n",
      "Epoch 326/500\n",
      "757/757 [==============================] - 0s 85us/sample - loss: 0.3183 - accuracy: 0.8851 - val_loss: 0.5594 - val_accuracy: 0.8134\n",
      "Epoch 327/500\n",
      "757/757 [==============================] - 0s 86us/sample - loss: 0.2904 - accuracy: 0.8996 - val_loss: 0.5810 - val_accuracy: 0.8284\n",
      "Epoch 328/500\n",
      "757/757 [==============================] - 0s 85us/sample - loss: 0.3057 - accuracy: 0.8877 - val_loss: 0.5225 - val_accuracy: 0.8358\n",
      "Epoch 329/500\n",
      "757/757 [==============================] - 0s 86us/sample - loss: 0.3050 - accuracy: 0.8838 - val_loss: 0.5753 - val_accuracy: 0.8358\n",
      "Epoch 330/500\n",
      "757/757 [==============================] - 0s 87us/sample - loss: 0.3103 - accuracy: 0.8838 - val_loss: 0.5960 - val_accuracy: 0.8284\n",
      "Epoch 331/500\n",
      "757/757 [==============================] - 0s 86us/sample - loss: 0.3117 - accuracy: 0.8851 - val_loss: 0.5976 - val_accuracy: 0.8209\n",
      "Epoch 332/500\n",
      "757/757 [==============================] - 0s 86us/sample - loss: 0.2979 - accuracy: 0.8890 - val_loss: 0.5827 - val_accuracy: 0.8358\n",
      "Epoch 333/500\n",
      "757/757 [==============================] - 0s 86us/sample - loss: 0.2900 - accuracy: 0.8956 - val_loss: 0.5781 - val_accuracy: 0.8358\n",
      "Epoch 334/500\n",
      "757/757 [==============================] - 0s 85us/sample - loss: 0.3002 - accuracy: 0.8904 - val_loss: 0.5553 - val_accuracy: 0.8433\n",
      "Epoch 335/500\n",
      "757/757 [==============================] - 0s 88us/sample - loss: 0.2988 - accuracy: 0.8904 - val_loss: 0.5699 - val_accuracy: 0.8433\n",
      "Epoch 336/500\n",
      "757/757 [==============================] - 0s 86us/sample - loss: 0.3070 - accuracy: 0.8877 - val_loss: 0.5884 - val_accuracy: 0.8284\n",
      "Epoch 337/500\n",
      "757/757 [==============================] - 0s 88us/sample - loss: 0.2928 - accuracy: 0.8943 - val_loss: 0.5958 - val_accuracy: 0.8358\n",
      "Epoch 338/500\n",
      "757/757 [==============================] - 0s 87us/sample - loss: 0.2957 - accuracy: 0.8838 - val_loss: 0.5498 - val_accuracy: 0.8433\n",
      "Epoch 339/500\n",
      "757/757 [==============================] - 0s 88us/sample - loss: 0.3019 - accuracy: 0.8798 - val_loss: 0.5809 - val_accuracy: 0.8507\n",
      "Epoch 340/500\n",
      "757/757 [==============================] - 0s 86us/sample - loss: 0.2943 - accuracy: 0.8970 - val_loss: 0.5898 - val_accuracy: 0.8358\n",
      "Epoch 341/500\n",
      "757/757 [==============================] - 0s 88us/sample - loss: 0.2863 - accuracy: 0.8943 - val_loss: 0.5952 - val_accuracy: 0.8358\n",
      "Epoch 342/500\n",
      "757/757 [==============================] - 0s 87us/sample - loss: 0.2953 - accuracy: 0.8824 - val_loss: 0.6073 - val_accuracy: 0.8209\n",
      "Epoch 343/500\n",
      "757/757 [==============================] - 0s 87us/sample - loss: 0.2901 - accuracy: 0.8904 - val_loss: 0.6407 - val_accuracy: 0.8209\n",
      "Epoch 344/500\n",
      "757/757 [==============================] - 0s 88us/sample - loss: 0.2865 - accuracy: 0.9009 - val_loss: 0.6055 - val_accuracy: 0.8209\n",
      "Epoch 345/500\n",
      "757/757 [==============================] - 0s 87us/sample - loss: 0.2966 - accuracy: 0.8877 - val_loss: 0.6187 - val_accuracy: 0.8209\n",
      "Epoch 346/500\n",
      "757/757 [==============================] - 0s 88us/sample - loss: 0.2950 - accuracy: 0.8890 - val_loss: 0.6009 - val_accuracy: 0.8209\n",
      "Epoch 347/500\n",
      "757/757 [==============================] - 0s 88us/sample - loss: 0.2914 - accuracy: 0.8956 - val_loss: 0.5757 - val_accuracy: 0.8358\n",
      "Epoch 348/500\n",
      "757/757 [==============================] - 0s 87us/sample - loss: 0.2994 - accuracy: 0.8877 - val_loss: 0.5977 - val_accuracy: 0.8209\n",
      "Epoch 349/500\n",
      "757/757 [==============================] - 0s 88us/sample - loss: 0.2854 - accuracy: 0.8983 - val_loss: 0.6484 - val_accuracy: 0.8284\n",
      "Epoch 350/500\n",
      "757/757 [==============================] - 0s 88us/sample - loss: 0.3032 - accuracy: 0.8890 - val_loss: 0.5691 - val_accuracy: 0.8433\n",
      "Epoch 351/500\n",
      "757/757 [==============================] - 0s 90us/sample - loss: 0.2952 - accuracy: 0.8917 - val_loss: 0.5814 - val_accuracy: 0.8284\n",
      "Epoch 352/500\n",
      "757/757 [==============================] - 0s 86us/sample - loss: 0.2971 - accuracy: 0.8917 - val_loss: 0.5898 - val_accuracy: 0.8284\n",
      "Epoch 353/500\n",
      "757/757 [==============================] - 0s 85us/sample - loss: 0.3001 - accuracy: 0.8930 - val_loss: 0.6275 - val_accuracy: 0.8358\n",
      "Epoch 354/500\n",
      "757/757 [==============================] - 0s 89us/sample - loss: 0.2980 - accuracy: 0.8851 - val_loss: 0.5713 - val_accuracy: 0.8358\n",
      "Epoch 355/500\n",
      "757/757 [==============================] - 0s 85us/sample - loss: 0.2903 - accuracy: 0.9009 - val_loss: 0.5957 - val_accuracy: 0.8433\n",
      "Epoch 356/500\n",
      "757/757 [==============================] - 0s 86us/sample - loss: 0.3086 - accuracy: 0.8824 - val_loss: 0.5533 - val_accuracy: 0.8433\n",
      "Epoch 357/500\n",
      "757/757 [==============================] - 0s 88us/sample - loss: 0.3093 - accuracy: 0.8877 - val_loss: 0.6211 - val_accuracy: 0.8209\n",
      "Epoch 358/500\n",
      "757/757 [==============================] - 0s 87us/sample - loss: 0.3056 - accuracy: 0.8811 - val_loss: 0.6089 - val_accuracy: 0.8209\n",
      "Epoch 359/500\n",
      "757/757 [==============================] - 0s 90us/sample - loss: 0.3012 - accuracy: 0.8943 - val_loss: 0.5579 - val_accuracy: 0.8433\n",
      "Epoch 360/500\n",
      "757/757 [==============================] - 0s 96us/sample - loss: 0.3046 - accuracy: 0.8890 - val_loss: 0.5725 - val_accuracy: 0.8433\n",
      "Epoch 361/500\n",
      "757/757 [==============================] - 0s 85us/sample - loss: 0.2990 - accuracy: 0.8904 - val_loss: 0.6291 - val_accuracy: 0.8433\n",
      "Epoch 362/500\n",
      "757/757 [==============================] - 0s 87us/sample - loss: 0.3037 - accuracy: 0.8838 - val_loss: 0.5556 - val_accuracy: 0.8433\n",
      "Epoch 363/500\n",
      "757/757 [==============================] - 0s 89us/sample - loss: 0.3008 - accuracy: 0.8864 - val_loss: 0.5942 - val_accuracy: 0.8209\n",
      "Epoch 364/500\n",
      "757/757 [==============================] - 0s 88us/sample - loss: 0.2945 - accuracy: 0.8943 - val_loss: 0.6362 - val_accuracy: 0.8134\n",
      "Epoch 365/500\n",
      "757/757 [==============================] - 0s 87us/sample - loss: 0.3004 - accuracy: 0.8838 - val_loss: 0.6032 - val_accuracy: 0.8284\n",
      "Epoch 366/500\n",
      "757/757 [==============================] - 0s 87us/sample - loss: 0.2929 - accuracy: 0.8943 - val_loss: 0.5954 - val_accuracy: 0.8358\n",
      "Epoch 367/500\n",
      "757/757 [==============================] - 0s 88us/sample - loss: 0.2991 - accuracy: 0.8904 - val_loss: 0.5769 - val_accuracy: 0.8358\n",
      "Epoch 368/500\n",
      "757/757 [==============================] - 0s 87us/sample - loss: 0.2933 - accuracy: 0.8917 - val_loss: 0.5804 - val_accuracy: 0.8358\n",
      "Epoch 369/500\n",
      "757/757 [==============================] - 0s 88us/sample - loss: 0.2960 - accuracy: 0.8864 - val_loss: 0.6066 - val_accuracy: 0.8433\n",
      "Epoch 370/500\n",
      "757/757 [==============================] - 0s 95us/sample - loss: 0.2927 - accuracy: 0.8904 - val_loss: 0.6232 - val_accuracy: 0.8358\n",
      "Epoch 371/500\n",
      "757/757 [==============================] - 0s 88us/sample - loss: 0.2942 - accuracy: 0.8943 - val_loss: 0.6344 - val_accuracy: 0.8358\n",
      "Epoch 372/500\n",
      "757/757 [==============================] - 0s 86us/sample - loss: 0.2919 - accuracy: 0.8930 - val_loss: 0.5717 - val_accuracy: 0.8358\n",
      "Epoch 373/500\n",
      "757/757 [==============================] - 0s 196us/sample - loss: 0.2996 - accuracy: 0.8877 - val_loss: 0.6033 - val_accuracy: 0.8358\n",
      "Epoch 374/500\n",
      "757/757 [==============================] - 0s 105us/sample - loss: 0.2936 - accuracy: 0.8877 - val_loss: 0.6171 - val_accuracy: 0.8284\n",
      "Epoch 375/500\n",
      "757/757 [==============================] - 0s 113us/sample - loss: 0.2930 - accuracy: 0.8917 - val_loss: 0.6121 - val_accuracy: 0.8358\n",
      "Epoch 376/500\n",
      "757/757 [==============================] - 0s 117us/sample - loss: 0.2842 - accuracy: 0.8970 - val_loss: 0.6137 - val_accuracy: 0.8358\n",
      "Epoch 377/500\n",
      "757/757 [==============================] - 0s 106us/sample - loss: 0.2914 - accuracy: 0.8930 - val_loss: 0.6313 - val_accuracy: 0.8284\n",
      "Epoch 378/500\n",
      "757/757 [==============================] - 0s 142us/sample - loss: 0.2947 - accuracy: 0.8917 - val_loss: 0.6815 - val_accuracy: 0.8284\n",
      "Epoch 379/500\n",
      "757/757 [==============================] - 0s 145us/sample - loss: 0.3003 - accuracy: 0.8851 - val_loss: 0.6307 - val_accuracy: 0.8358\n",
      "Epoch 380/500\n",
      "757/757 [==============================] - 0s 106us/sample - loss: 0.2872 - accuracy: 0.9009 - val_loss: 0.6375 - val_accuracy: 0.8433\n",
      "Epoch 381/500\n",
      "757/757 [==============================] - 0s 90us/sample - loss: 0.2847 - accuracy: 0.8956 - val_loss: 0.7113 - val_accuracy: 0.8209\n",
      "Epoch 382/500\n",
      "757/757 [==============================] - 0s 95us/sample - loss: 0.3186 - accuracy: 0.8917 - val_loss: 0.5876 - val_accuracy: 0.8358\n",
      "Epoch 383/500\n",
      "757/757 [==============================] - 0s 103us/sample - loss: 0.3114 - accuracy: 0.8785 - val_loss: 0.5956 - val_accuracy: 0.8209\n",
      "Epoch 384/500\n",
      "757/757 [==============================] - 0s 124us/sample - loss: 0.2952 - accuracy: 0.8930 - val_loss: 0.5753 - val_accuracy: 0.8284\n",
      "Epoch 385/500\n",
      "757/757 [==============================] - 0s 89us/sample - loss: 0.2909 - accuracy: 0.8970 - val_loss: 0.6181 - val_accuracy: 0.8284\n",
      "Epoch 386/500\n",
      "757/757 [==============================] - 0s 115us/sample - loss: 0.2987 - accuracy: 0.8956 - val_loss: 0.5672 - val_accuracy: 0.8358\n",
      "Epoch 387/500\n",
      "757/757 [==============================] - 0s 88us/sample - loss: 0.3015 - accuracy: 0.8851 - val_loss: 0.6121 - val_accuracy: 0.8284\n",
      "Epoch 388/500\n",
      "757/757 [==============================] - 0s 101us/sample - loss: 0.2883 - accuracy: 0.8917 - val_loss: 0.6333 - val_accuracy: 0.8209\n",
      "Epoch 389/500\n",
      "757/757 [==============================] - 0s 90us/sample - loss: 0.2937 - accuracy: 0.8930 - val_loss: 0.5903 - val_accuracy: 0.8284\n",
      "Epoch 390/500\n",
      "757/757 [==============================] - 0s 89us/sample - loss: 0.2976 - accuracy: 0.8943 - val_loss: 0.6059 - val_accuracy: 0.8358\n",
      "Epoch 391/500\n",
      "757/757 [==============================] - 0s 88us/sample - loss: 0.3130 - accuracy: 0.8877 - val_loss: 0.6490 - val_accuracy: 0.8284\n",
      "Epoch 392/500\n",
      "757/757 [==============================] - 0s 87us/sample - loss: 0.3080 - accuracy: 0.8877 - val_loss: 0.6317 - val_accuracy: 0.8358\n",
      "Epoch 393/500\n",
      "757/757 [==============================] - 0s 97us/sample - loss: 0.2974 - accuracy: 0.8943 - val_loss: 0.6399 - val_accuracy: 0.8358\n",
      "Epoch 394/500\n",
      "757/757 [==============================] - 0s 90us/sample - loss: 0.2899 - accuracy: 0.8943 - val_loss: 0.5998 - val_accuracy: 0.8284\n",
      "Epoch 395/500\n",
      "757/757 [==============================] - 0s 87us/sample - loss: 0.2881 - accuracy: 0.9009 - val_loss: 0.6365 - val_accuracy: 0.8284\n",
      "Epoch 396/500\n",
      "757/757 [==============================] - 0s 87us/sample - loss: 0.2923 - accuracy: 0.8930 - val_loss: 0.6290 - val_accuracy: 0.8433\n",
      "Epoch 397/500\n",
      "757/757 [==============================] - 0s 87us/sample - loss: 0.2852 - accuracy: 0.8943 - val_loss: 0.6218 - val_accuracy: 0.8433\n",
      "Epoch 398/500\n",
      "757/757 [==============================] - 0s 98us/sample - loss: 0.2941 - accuracy: 0.8930 - val_loss: 0.6504 - val_accuracy: 0.8284\n",
      "Epoch 399/500\n",
      "757/757 [==============================] - 0s 101us/sample - loss: 0.3133 - accuracy: 0.8851 - val_loss: 0.6260 - val_accuracy: 0.8134\n",
      "Epoch 400/500\n",
      "757/757 [==============================] - 0s 89us/sample - loss: 0.2917 - accuracy: 0.8917 - val_loss: 0.5907 - val_accuracy: 0.8209\n",
      "Epoch 401/500\n",
      "757/757 [==============================] - 0s 97us/sample - loss: 0.2891 - accuracy: 0.8970 - val_loss: 0.6000 - val_accuracy: 0.8284\n",
      "Epoch 402/500\n",
      "757/757 [==============================] - 0s 88us/sample - loss: 0.2819 - accuracy: 0.9009 - val_loss: 0.6080 - val_accuracy: 0.8358\n",
      "Epoch 403/500\n",
      "757/757 [==============================] - 0s 87us/sample - loss: 0.2977 - accuracy: 0.8864 - val_loss: 0.6103 - val_accuracy: 0.8284\n",
      "Epoch 404/500\n",
      "757/757 [==============================] - 0s 86us/sample - loss: 0.2904 - accuracy: 0.8943 - val_loss: 0.5915 - val_accuracy: 0.8507\n",
      "Epoch 405/500\n",
      "757/757 [==============================] - 0s 89us/sample - loss: 0.2876 - accuracy: 0.9009 - val_loss: 0.6067 - val_accuracy: 0.8433\n",
      "Epoch 406/500\n",
      "757/757 [==============================] - 0s 88us/sample - loss: 0.3063 - accuracy: 0.8877 - val_loss: 0.5863 - val_accuracy: 0.8358\n",
      "Epoch 407/500\n",
      "757/757 [==============================] - 0s 86us/sample - loss: 0.3048 - accuracy: 0.8877 - val_loss: 0.5465 - val_accuracy: 0.8507\n",
      "Epoch 408/500\n",
      "757/757 [==============================] - 0s 88us/sample - loss: 0.2997 - accuracy: 0.8864 - val_loss: 0.6218 - val_accuracy: 0.8284\n",
      "Epoch 409/500\n",
      "757/757 [==============================] - 0s 88us/sample - loss: 0.3023 - accuracy: 0.8943 - val_loss: 0.6078 - val_accuracy: 0.8209\n",
      "Epoch 410/500\n",
      "757/757 [==============================] - 0s 85us/sample - loss: 0.2813 - accuracy: 0.8996 - val_loss: 0.6318 - val_accuracy: 0.8284\n",
      "Epoch 411/500\n",
      "757/757 [==============================] - 0s 86us/sample - loss: 0.2753 - accuracy: 0.8956 - val_loss: 0.6353 - val_accuracy: 0.8284\n",
      "Epoch 412/500\n",
      "757/757 [==============================] - 0s 100us/sample - loss: 0.2929 - accuracy: 0.8904 - val_loss: 0.6125 - val_accuracy: 0.8358\n",
      "Epoch 413/500\n",
      "757/757 [==============================] - 0s 106us/sample - loss: 0.2907 - accuracy: 0.8930 - val_loss: 0.6555 - val_accuracy: 0.8209\n",
      "Epoch 414/500\n",
      "757/757 [==============================] - 0s 88us/sample - loss: 0.2900 - accuracy: 0.9009 - val_loss: 0.6030 - val_accuracy: 0.8134\n",
      "Epoch 415/500\n",
      "757/757 [==============================] - 0s 87us/sample - loss: 0.3011 - accuracy: 0.8917 - val_loss: 0.6628 - val_accuracy: 0.8209\n",
      "Epoch 416/500\n",
      "757/757 [==============================] - 0s 88us/sample - loss: 0.3067 - accuracy: 0.8943 - val_loss: 0.6568 - val_accuracy: 0.8284\n",
      "Epoch 417/500\n",
      "757/757 [==============================] - 0s 86us/sample - loss: 0.3200 - accuracy: 0.8864 - val_loss: 0.5395 - val_accuracy: 0.8358\n",
      "Epoch 363/500\n",
      "757/757 [==============================] - 0s 84us/sample - loss: 0.3106 - accuracy: 0.9009 - val_loss: 0.5415 - val_accuracy: 0.8284\n",
      "Epoch 364/500\n",
      "757/757 [==============================] - 0s 86us/sample - loss: 0.3130 - accuracy: 0.8996 - val_loss: 0.5418 - val_accuracy: 0.8284\n",
      "Epoch 365/500\n",
      "757/757 [==============================] - 0s 84us/sample - loss: 0.3105 - accuracy: 0.8943 - val_loss: 0.5501 - val_accuracy: 0.8284\n",
      "Epoch 366/500\n",
      "757/757 [==============================] - 0s 87us/sample - loss: 0.3116 - accuracy: 0.8917 - val_loss: 0.5475 - val_accuracy: 0.8358\n",
      "Epoch 367/500\n",
      "757/757 [==============================] - 0s 87us/sample - loss: 0.3347 - accuracy: 0.8890 - val_loss: 0.5455 - val_accuracy: 0.8284\n",
      "Epoch 368/500\n",
      "757/757 [==============================] - 0s 87us/sample - loss: 0.3142 - accuracy: 0.8904 - val_loss: 0.5506 - val_accuracy: 0.8284\n",
      "Epoch 369/500\n",
      "757/757 [==============================] - 0s 87us/sample - loss: 0.3170 - accuracy: 0.8983 - val_loss: 0.5378 - val_accuracy: 0.8284\n",
      "Epoch 370/500\n",
      "757/757 [==============================] - 0s 87us/sample - loss: 0.3227 - accuracy: 0.8890 - val_loss: 0.5467 - val_accuracy: 0.8284\n",
      "Epoch 371/500\n",
      "757/757 [==============================] - 0s 86us/sample - loss: 0.3271 - accuracy: 0.8824 - val_loss: 0.5495 - val_accuracy: 0.8284\n",
      "Epoch 372/500\n",
      "757/757 [==============================] - 0s 89us/sample - loss: 0.3202 - accuracy: 0.8956 - val_loss: 0.5385 - val_accuracy: 0.8284\n",
      "Epoch 373/500\n",
      "757/757 [==============================] - 0s 86us/sample - loss: 0.3311 - accuracy: 0.8917 - val_loss: 0.5493 - val_accuracy: 0.8358\n",
      "Epoch 374/500\n",
      "757/757 [==============================] - 0s 86us/sample - loss: 0.3018 - accuracy: 0.8943 - val_loss: 0.5445 - val_accuracy: 0.8358\n",
      "Epoch 375/500\n",
      "757/757 [==============================] - 0s 85us/sample - loss: 0.3120 - accuracy: 0.8890 - val_loss: 0.5442 - val_accuracy: 0.8284\n",
      "Epoch 376/500\n",
      "757/757 [==============================] - 0s 89us/sample - loss: 0.3189 - accuracy: 0.8917 - val_loss: 0.5547 - val_accuracy: 0.8284\n",
      "Epoch 377/500\n",
      "757/757 [==============================] - 0s 85us/sample - loss: 0.3270 - accuracy: 0.8838 - val_loss: 0.5354 - val_accuracy: 0.8284\n",
      "Epoch 378/500\n",
      "757/757 [==============================] - 0s 87us/sample - loss: 0.3209 - accuracy: 0.8838 - val_loss: 0.5519 - val_accuracy: 0.8209\n",
      "Epoch 379/500\n",
      "757/757 [==============================] - 0s 90us/sample - loss: 0.3138 - accuracy: 0.8917 - val_loss: 0.5464 - val_accuracy: 0.8209\n",
      "Epoch 380/500\n",
      "757/757 [==============================] - 0s 85us/sample - loss: 0.3199 - accuracy: 0.8864 - val_loss: 0.5514 - val_accuracy: 0.8209\n",
      "Epoch 381/500\n",
      "757/757 [==============================] - 0s 87us/sample - loss: 0.3089 - accuracy: 0.8917 - val_loss: 0.5558 - val_accuracy: 0.8209\n",
      "Epoch 382/500\n",
      "757/757 [==============================] - 0s 89us/sample - loss: 0.3234 - accuracy: 0.8811 - val_loss: 0.5473 - val_accuracy: 0.8284\n",
      "Epoch 383/500\n",
      "757/757 [==============================] - 0s 86us/sample - loss: 0.3098 - accuracy: 0.8838 - val_loss: 0.5493 - val_accuracy: 0.8209\n",
      "Epoch 384/500\n",
      "757/757 [==============================] - 0s 86us/sample - loss: 0.3159 - accuracy: 0.8904 - val_loss: 0.5483 - val_accuracy: 0.8209\n",
      "Epoch 385/500\n",
      "757/757 [==============================] - 0s 87us/sample - loss: 0.3238 - accuracy: 0.8851 - val_loss: 0.5259 - val_accuracy: 0.8358\n",
      "Epoch 386/500\n",
      "757/757 [==============================] - 0s 86us/sample - loss: 0.3122 - accuracy: 0.8851 - val_loss: 0.5301 - val_accuracy: 0.8358\n",
      "Epoch 387/500\n",
      "757/757 [==============================] - 0s 87us/sample - loss: 0.3240 - accuracy: 0.8838 - val_loss: 0.5564 - val_accuracy: 0.8284\n",
      "Epoch 388/500\n",
      "757/757 [==============================] - 0s 87us/sample - loss: 0.3304 - accuracy: 0.8851 - val_loss: 0.5550 - val_accuracy: 0.8358\n",
      "Epoch 389/500\n",
      "757/757 [==============================] - 0s 86us/sample - loss: 0.3173 - accuracy: 0.8811 - val_loss: 0.5353 - val_accuracy: 0.8284\n",
      "Epoch 390/500\n",
      "757/757 [==============================] - 0s 85us/sample - loss: 0.3322 - accuracy: 0.8838 - val_loss: 0.5232 - val_accuracy: 0.8433\n",
      "Epoch 391/500\n",
      "757/757 [==============================] - 0s 85us/sample - loss: 0.3273 - accuracy: 0.8943 - val_loss: 0.5585 - val_accuracy: 0.8209\n",
      "Epoch 392/500\n",
      "757/757 [==============================] - 0s 85us/sample - loss: 0.3105 - accuracy: 0.8890 - val_loss: 0.5232 - val_accuracy: 0.8358\n",
      "Epoch 393/500\n",
      "757/757 [==============================] - 0s 88us/sample - loss: 0.3230 - accuracy: 0.8904 - val_loss: 0.5305 - val_accuracy: 0.8284\n",
      "Epoch 394/500\n",
      "757/757 [==============================] - 0s 88us/sample - loss: 0.3260 - accuracy: 0.8851 - val_loss: 0.5293 - val_accuracy: 0.8284\n",
      "Epoch 395/500\n",
      "757/757 [==============================] - 0s 86us/sample - loss: 0.3165 - accuracy: 0.8771 - val_loss: 0.5518 - val_accuracy: 0.8358\n",
      "Epoch 396/500\n",
      "757/757 [==============================] - 0s 86us/sample - loss: 0.3200 - accuracy: 0.9009 - val_loss: 0.5569 - val_accuracy: 0.8284\n",
      "Epoch 397/500\n",
      "757/757 [==============================] - 0s 86us/sample - loss: 0.3110 - accuracy: 0.8930 - val_loss: 0.5563 - val_accuracy: 0.8284\n",
      "Epoch 398/500\n",
      "757/757 [==============================] - 0s 87us/sample - loss: 0.3214 - accuracy: 0.8877 - val_loss: 0.5373 - val_accuracy: 0.8358\n",
      "Epoch 399/500\n",
      "757/757 [==============================] - 0s 87us/sample - loss: 0.3149 - accuracy: 0.8877 - val_loss: 0.5492 - val_accuracy: 0.8284\n",
      "Epoch 400/500\n",
      "757/757 [==============================] - 0s 86us/sample - loss: 0.3161 - accuracy: 0.8864 - val_loss: 0.5277 - val_accuracy: 0.8284\n",
      "Epoch 401/500\n",
      "757/757 [==============================] - 0s 85us/sample - loss: 0.3127 - accuracy: 0.8890 - val_loss: 0.5467 - val_accuracy: 0.8284\n",
      "Epoch 402/500\n",
      "757/757 [==============================] - 0s 86us/sample - loss: 0.3331 - accuracy: 0.8811 - val_loss: 0.5429 - val_accuracy: 0.8358\n",
      "Epoch 403/500\n",
      "757/757 [==============================] - 0s 85us/sample - loss: 0.3357 - accuracy: 0.8798 - val_loss: 0.5487 - val_accuracy: 0.8284\n",
      "Epoch 404/500\n",
      "757/757 [==============================] - 0s 86us/sample - loss: 0.3074 - accuracy: 0.8877 - val_loss: 0.5540 - val_accuracy: 0.8209\n",
      "Epoch 405/500\n",
      "757/757 [==============================] - 0s 86us/sample - loss: 0.3227 - accuracy: 0.8864 - val_loss: 0.5558 - val_accuracy: 0.8284\n",
      "Epoch 406/500\n",
      "757/757 [==============================] - 0s 86us/sample - loss: 0.3091 - accuracy: 0.8904 - val_loss: 0.5295 - val_accuracy: 0.8433\n",
      "Epoch 407/500\n",
      "757/757 [==============================] - 0s 87us/sample - loss: 0.3264 - accuracy: 0.8864 - val_loss: 0.5201 - val_accuracy: 0.8433\n",
      "Epoch 408/500\n",
      "757/757 [==============================] - 0s 85us/sample - loss: 0.3255 - accuracy: 0.8838 - val_loss: 0.5281 - val_accuracy: 0.8358\n",
      "Epoch 409/500\n",
      "757/757 [==============================] - 0s 87us/sample - loss: 0.3222 - accuracy: 0.8864 - val_loss: 0.5145 - val_accuracy: 0.8358\n",
      "Epoch 410/500\n",
      "757/757 [==============================] - 0s 86us/sample - loss: 0.3231 - accuracy: 0.8851 - val_loss: 0.5358 - val_accuracy: 0.8358\n",
      "Epoch 411/500\n",
      "757/757 [==============================] - 0s 87us/sample - loss: 0.3207 - accuracy: 0.8864 - val_loss: 0.5121 - val_accuracy: 0.8358\n",
      "Epoch 412/500\n",
      "757/757 [==============================] - 0s 85us/sample - loss: 0.3259 - accuracy: 0.8890 - val_loss: 0.5180 - val_accuracy: 0.8358\n",
      "Epoch 413/500\n",
      "757/757 [==============================] - 0s 85us/sample - loss: 0.3124 - accuracy: 0.8877 - val_loss: 0.5248 - val_accuracy: 0.8358\n",
      "Epoch 414/500\n",
      "757/757 [==============================] - 0s 84us/sample - loss: 0.3192 - accuracy: 0.8890 - val_loss: 0.5441 - val_accuracy: 0.8284\n",
      "Epoch 415/500\n",
      "757/757 [==============================] - 0s 96us/sample - loss: 0.3072 - accuracy: 0.8877 - val_loss: 0.5472 - val_accuracy: 0.8358\n",
      "Epoch 416/500\n",
      "757/757 [==============================] - 0s 87us/sample - loss: 0.3142 - accuracy: 0.8890 - val_loss: 0.5483 - val_accuracy: 0.8284\n",
      "Epoch 417/500\n",
      "757/757 [==============================] - 0s 86us/sample - loss: 0.3115 - accuracy: 0.8851 - val_loss: 0.5262 - val_accuracy: 0.8284\n",
      "Epoch 418/500\n",
      "757/757 [==============================] - 0s 85us/sample - loss: 0.3149 - accuracy: 0.8890 - val_loss: 0.5469 - val_accuracy: 0.8284\n",
      "Epoch 419/500\n",
      "757/757 [==============================] - 0s 85us/sample - loss: 0.3201 - accuracy: 0.8838 - val_loss: 0.5666 - val_accuracy: 0.8209\n",
      "Epoch 420/500\n",
      "757/757 [==============================] - 0s 88us/sample - loss: 0.3198 - accuracy: 0.8917 - val_loss: 0.5606 - val_accuracy: 0.8358\n",
      "Epoch 421/500\n",
      "757/757 [==============================] - 0s 87us/sample - loss: 0.3198 - accuracy: 0.8824 - val_loss: 0.5558 - val_accuracy: 0.8358\n",
      "Epoch 422/500\n",
      "757/757 [==============================] - 0s 85us/sample - loss: 0.3143 - accuracy: 0.9009 - val_loss: 0.5572 - val_accuracy: 0.8358\n",
      "Epoch 423/500\n",
      "757/757 [==============================] - 0s 86us/sample - loss: 0.2979 - accuracy: 0.8956 - val_loss: 0.5499 - val_accuracy: 0.8284\n",
      "Epoch 424/500\n",
      "757/757 [==============================] - 0s 85us/sample - loss: 0.3196 - accuracy: 0.8838 - val_loss: 0.5543 - val_accuracy: 0.8284\n",
      "Epoch 425/500\n",
      "757/757 [==============================] - 0s 87us/sample - loss: 0.3292 - accuracy: 0.8838 - val_loss: 0.5598 - val_accuracy: 0.8358\n",
      "Epoch 426/500\n",
      "757/757 [==============================] - 0s 88us/sample - loss: 0.3138 - accuracy: 0.8956 - val_loss: 0.5710 - val_accuracy: 0.8284\n",
      "Epoch 427/500\n",
      "757/757 [==============================] - 0s 88us/sample - loss: 0.3128 - accuracy: 0.8877 - val_loss: 0.5610 - val_accuracy: 0.8358\n",
      "Epoch 428/500\n",
      "757/757 [==============================] - 0s 85us/sample - loss: 0.3196 - accuracy: 0.8811 - val_loss: 0.5586 - val_accuracy: 0.8284\n",
      "Epoch 429/500\n",
      "757/757 [==============================] - 0s 84us/sample - loss: 0.3145 - accuracy: 0.8877 - val_loss: 0.5621 - val_accuracy: 0.8358\n",
      "Epoch 430/500\n",
      "757/757 [==============================] - 0s 88us/sample - loss: 0.3211 - accuracy: 0.8864 - val_loss: 0.5612 - val_accuracy: 0.8358\n",
      "Epoch 431/500\n",
      "757/757 [==============================] - 0s 86us/sample - loss: 0.3153 - accuracy: 0.8890 - val_loss: 0.5665 - val_accuracy: 0.8284\n",
      "Epoch 432/500\n",
      "757/757 [==============================] - 0s 84us/sample - loss: 0.3236 - accuracy: 0.8838 - val_loss: 0.5551 - val_accuracy: 0.8358\n",
      "Epoch 433/500\n",
      "757/757 [==============================] - 0s 88us/sample - loss: 0.3259 - accuracy: 0.8943 - val_loss: 0.5523 - val_accuracy: 0.8284\n",
      "Epoch 434/500\n",
      "757/757 [==============================] - 0s 86us/sample - loss: 0.3139 - accuracy: 0.8877 - val_loss: 0.5363 - val_accuracy: 0.8358\n",
      "Epoch 435/500\n",
      "757/757 [==============================] - 0s 88us/sample - loss: 0.3285 - accuracy: 0.8824 - val_loss: 0.5577 - val_accuracy: 0.8358\n",
      "Epoch 436/500\n",
      "757/757 [==============================] - 0s 86us/sample - loss: 0.3222 - accuracy: 0.8904 - val_loss: 0.5240 - val_accuracy: 0.8284\n",
      "Epoch 437/500\n",
      "757/757 [==============================] - 0s 85us/sample - loss: 0.3233 - accuracy: 0.8864 - val_loss: 0.5487 - val_accuracy: 0.8209\n",
      "Epoch 438/500\n",
      "757/757 [==============================] - 0s 88us/sample - loss: 0.3285 - accuracy: 0.8890 - val_loss: 0.5598 - val_accuracy: 0.8209\n",
      "Epoch 439/500\n",
      "757/757 [==============================] - 0s 89us/sample - loss: 0.3144 - accuracy: 0.8811 - val_loss: 0.5511 - val_accuracy: 0.8284\n",
      "Epoch 440/500\n",
      "757/757 [==============================] - 0s 85us/sample - loss: 0.3068 - accuracy: 0.8943 - val_loss: 0.5729 - val_accuracy: 0.8209\n",
      "Epoch 441/500\n",
      "757/757 [==============================] - 0s 86us/sample - loss: 0.3206 - accuracy: 0.8930 - val_loss: 0.5773 - val_accuracy: 0.8134\n",
      "Epoch 442/500\n",
      "757/757 [==============================] - 0s 87us/sample - loss: 0.3139 - accuracy: 0.8904 - val_loss: 0.5439 - val_accuracy: 0.8284\n",
      "Epoch 443/500\n",
      "757/757 [==============================] - 0s 85us/sample - loss: 0.3233 - accuracy: 0.8864 - val_loss: 0.5427 - val_accuracy: 0.8284\n",
      "Epoch 444/500\n",
      "757/757 [==============================] - 0s 87us/sample - loss: 0.3101 - accuracy: 0.8864 - val_loss: 0.5487 - val_accuracy: 0.8358\n",
      "Epoch 445/500\n",
      "757/757 [==============================] - 0s 87us/sample - loss: 0.3177 - accuracy: 0.8917 - val_loss: 0.5237 - val_accuracy: 0.8284\n",
      "Epoch 446/500\n",
      "757/757 [==============================] - 0s 86us/sample - loss: 0.3254 - accuracy: 0.8851 - val_loss: 0.5268 - val_accuracy: 0.8433\n",
      "Epoch 447/500\n",
      "757/757 [==============================] - 0s 88us/sample - loss: 0.3220 - accuracy: 0.8904 - val_loss: 0.5321 - val_accuracy: 0.8358\n",
      "Epoch 448/500\n",
      "757/757 [==============================] - 0s 86us/sample - loss: 0.3139 - accuracy: 0.8904 - val_loss: 0.5535 - val_accuracy: 0.8284\n",
      "Epoch 449/500\n",
      "757/757 [==============================] - 0s 87us/sample - loss: 0.3046 - accuracy: 0.8917 - val_loss: 0.5530 - val_accuracy: 0.8284\n",
      "Epoch 450/500\n",
      "757/757 [==============================] - 0s 89us/sample - loss: 0.3211 - accuracy: 0.8851 - val_loss: 0.5282 - val_accuracy: 0.8284\n",
      "Epoch 451/500\n",
      "757/757 [==============================] - 0s 86us/sample - loss: 0.3150 - accuracy: 0.8824 - val_loss: 0.5364 - val_accuracy: 0.8284\n",
      "Epoch 452/500\n",
      "757/757 [==============================] - 0s 87us/sample - loss: 0.3314 - accuracy: 0.8890 - val_loss: 0.5544 - val_accuracy: 0.8284\n",
      "Epoch 453/500\n",
      "757/757 [==============================] - 0s 126us/sample - loss: 0.3177 - accuracy: 0.8904 - val_loss: 0.5304 - val_accuracy: 0.8284\n",
      "Epoch 454/500\n",
      "757/757 [==============================] - 0s 86us/sample - loss: 0.3144 - accuracy: 0.8904 - val_loss: 0.5362 - val_accuracy: 0.8358\n",
      "Epoch 455/500\n",
      "757/757 [==============================] - 0s 87us/sample - loss: 0.3211 - accuracy: 0.8904 - val_loss: 0.5470 - val_accuracy: 0.8284\n",
      "Epoch 456/500\n",
      "757/757 [==============================] - 0s 86us/sample - loss: 0.3065 - accuracy: 0.8943 - val_loss: 0.5364 - val_accuracy: 0.8433\n",
      "Epoch 457/500\n",
      "757/757 [==============================] - 0s 87us/sample - loss: 0.3151 - accuracy: 0.8917 - val_loss: 0.5389 - val_accuracy: 0.8284\n",
      "Epoch 458/500\n",
      "757/757 [==============================] - 0s 84us/sample - loss: 0.3194 - accuracy: 0.8877 - val_loss: 0.5468 - val_accuracy: 0.8358\n",
      "Epoch 459/500\n",
      "757/757 [==============================] - 0s 86us/sample - loss: 0.2974 - accuracy: 0.8956 - val_loss: 0.5563 - val_accuracy: 0.8358\n",
      "Epoch 460/500\n",
      "757/757 [==============================] - 0s 86us/sample - loss: 0.3183 - accuracy: 0.8904 - val_loss: 0.5640 - val_accuracy: 0.8358\n",
      "Epoch 461/500\n",
      "757/757 [==============================] - 0s 85us/sample - loss: 0.3097 - accuracy: 0.8877 - val_loss: 0.5658 - val_accuracy: 0.8358\n",
      "Epoch 462/500\n",
      "757/757 [==============================] - 0s 86us/sample - loss: 0.3182 - accuracy: 0.8877 - val_loss: 0.5589 - val_accuracy: 0.8284\n",
      "Epoch 463/500\n",
      "757/757 [==============================] - 0s 132us/sample - loss: 0.3170 - accuracy: 0.8811 - val_loss: 0.5556 - val_accuracy: 0.8284\n",
      "Epoch 464/500\n",
      "757/757 [==============================] - 0s 88us/sample - loss: 0.3232 - accuracy: 0.8838 - val_loss: 0.5570 - val_accuracy: 0.8284\n",
      "Epoch 465/500\n",
      "757/757 [==============================] - 0s 95us/sample - loss: 0.3219 - accuracy: 0.8851 - val_loss: 0.5384 - val_accuracy: 0.8284\n",
      "Epoch 466/500\n",
      "757/757 [==============================] - 0s 88us/sample - loss: 0.3210 - accuracy: 0.8838 - val_loss: 0.5660 - val_accuracy: 0.8284\n",
      "Epoch 467/500\n",
      "757/757 [==============================] - 0s 89us/sample - loss: 0.3226 - accuracy: 0.8798 - val_loss: 0.5763 - val_accuracy: 0.8209\n",
      "Epoch 468/500\n",
      "757/757 [==============================] - 0s 120us/sample - loss: 0.3215 - accuracy: 0.8811 - val_loss: 0.5545 - val_accuracy: 0.8284\n",
      "Epoch 469/500\n",
      "757/757 [==============================] - 0s 103us/sample - loss: 0.3098 - accuracy: 0.8956 - val_loss: 0.5617 - val_accuracy: 0.8284\n",
      "Epoch 470/500\n",
      "757/757 [==============================] - 0s 90us/sample - loss: 0.3085 - accuracy: 0.8943 - val_loss: 0.5604 - val_accuracy: 0.8284\n",
      "Epoch 471/500\n",
      "757/757 [==============================] - 0s 109us/sample - loss: 0.3009 - accuracy: 0.8890 - val_loss: 0.5572 - val_accuracy: 0.8358\n",
      "Epoch 472/500\n",
      "757/757 [==============================] - 0s 89us/sample - loss: 0.3135 - accuracy: 0.8877 - val_loss: 0.5499 - val_accuracy: 0.8358\n",
      "Epoch 473/500\n",
      "757/757 [==============================] - 0s 99us/sample - loss: 0.3195 - accuracy: 0.8864 - val_loss: 0.5622 - val_accuracy: 0.8284\n",
      "Epoch 474/500\n",
      "757/757 [==============================] - 0s 89us/sample - loss: 0.3197 - accuracy: 0.8864 - val_loss: 0.5607 - val_accuracy: 0.8284\n",
      "Epoch 475/500\n",
      "757/757 [==============================] - 0s 96us/sample - loss: 0.3190 - accuracy: 0.8890 - val_loss: 0.5530 - val_accuracy: 0.8284\n",
      "Epoch 476/500\n",
      "757/757 [==============================] - 0s 99us/sample - loss: 0.3118 - accuracy: 0.8877 - val_loss: 0.5585 - val_accuracy: 0.8284\n",
      "Epoch 477/500\n",
      "757/757 [==============================] - 0s 91us/sample - loss: 0.3252 - accuracy: 0.8838 - val_loss: 0.5089 - val_accuracy: 0.8358\n",
      "Epoch 478/500\n",
      "757/757 [==============================] - 0s 90us/sample - loss: 0.3189 - accuracy: 0.8904 - val_loss: 0.5439 - val_accuracy: 0.8433\n",
      "Epoch 479/500\n",
      "757/757 [==============================] - 0s 89us/sample - loss: 0.3156 - accuracy: 0.8904 - val_loss: 0.5099 - val_accuracy: 0.8507\n",
      "Epoch 480/500\n",
      "757/757 [==============================] - 0s 89us/sample - loss: 0.3210 - accuracy: 0.8930 - val_loss: 0.5164 - val_accuracy: 0.8358\n",
      "Epoch 481/500\n",
      "757/757 [==============================] - 0s 96us/sample - loss: 0.3093 - accuracy: 0.8851 - val_loss: 0.4829 - val_accuracy: 0.8507\n",
      "Epoch 482/500\n",
      "757/757 [==============================] - 0s 89us/sample - loss: 0.3179 - accuracy: 0.8917 - val_loss: 0.5465 - val_accuracy: 0.8284\n",
      "Epoch 483/500\n",
      "757/757 [==============================] - 0s 85us/sample - loss: 0.3211 - accuracy: 0.8864 - val_loss: 0.5482 - val_accuracy: 0.8358\n",
      "Epoch 484/500\n",
      "757/757 [==============================] - 0s 88us/sample - loss: 0.3271 - accuracy: 0.8758 - val_loss: 0.5284 - val_accuracy: 0.8209\n",
      "Epoch 485/500\n",
      "757/757 [==============================] - 0s 89us/sample - loss: 0.3233 - accuracy: 0.8838 - val_loss: 0.5581 - val_accuracy: 0.8134\n",
      "Epoch 486/500\n",
      "757/757 [==============================] - 0s 90us/sample - loss: 0.2976 - accuracy: 0.8943 - val_loss: 0.5777 - val_accuracy: 0.8209\n",
      "Epoch 487/500\n",
      "757/757 [==============================] - 0s 99us/sample - loss: 0.3068 - accuracy: 0.8851 - val_loss: 0.5985 - val_accuracy: 0.8209\n",
      "Epoch 488/500\n",
      "757/757 [==============================] - 0s 101us/sample - loss: 0.3196 - accuracy: 0.8798 - val_loss: 0.5627 - val_accuracy: 0.8209\n",
      "Epoch 489/500\n",
      "757/757 [==============================] - 0s 100us/sample - loss: 0.3100 - accuracy: 0.8838 - val_loss: 0.5584 - val_accuracy: 0.8358\n",
      "Epoch 490/500\n",
      "757/757 [==============================] - 0s 90us/sample - loss: 0.3052 - accuracy: 0.8877 - val_loss: 0.5572 - val_accuracy: 0.8284\n",
      "Epoch 491/500\n",
      "757/757 [==============================] - 0s 97us/sample - loss: 0.3104 - accuracy: 0.8838 - val_loss: 0.5647 - val_accuracy: 0.8284\n",
      "Epoch 492/500\n",
      "757/757 [==============================] - 0s 90us/sample - loss: 0.3181 - accuracy: 0.8917 - val_loss: 0.5670 - val_accuracy: 0.8284\n",
      "Epoch 493/500\n",
      "757/757 [==============================] - 0s 90us/sample - loss: 0.3006 - accuracy: 0.8904 - val_loss: 0.5600 - val_accuracy: 0.8358\n",
      "Epoch 494/500\n",
      "757/757 [==============================] - 0s 89us/sample - loss: 0.3184 - accuracy: 0.8904 - val_loss: 0.5598 - val_accuracy: 0.8209\n",
      "Epoch 495/500\n",
      "757/757 [==============================] - 0s 89us/sample - loss: 0.3010 - accuracy: 0.8917 - val_loss: 0.5462 - val_accuracy: 0.8284\n",
      "Epoch 496/500\n",
      "757/757 [==============================] - 0s 96us/sample - loss: 0.3253 - accuracy: 0.8864 - val_loss: 0.5592 - val_accuracy: 0.8134\n",
      "Epoch 497/500\n",
      "757/757 [==============================] - 0s 89us/sample - loss: 0.3055 - accuracy: 0.8890 - val_loss: 0.5919 - val_accuracy: 0.8060\n",
      "Epoch 498/500\n",
      "757/757 [==============================] - 0s 94us/sample - loss: 0.3101 - accuracy: 0.8904 - val_loss: 0.5548 - val_accuracy: 0.8284\n",
      "Epoch 499/500\n",
      "757/757 [==============================] - 0s 95us/sample - loss: 0.3126 - accuracy: 0.8943 - val_loss: 0.5793 - val_accuracy: 0.8209\n",
      "Epoch 500/500\n",
      "757/757 [==============================] - 0s 96us/sample - loss: 0.3097 - accuracy: 0.8890 - val_loss: 0.5785 - val_accuracy: 0.8209\n"
     ]
    },
    {
     "data": {
      "text/html": [
       "<span style=\"color:#4527A0\"><h1 style=\"font-size:18px\">Trial complete</h1></span>"
      ],
      "text/plain": [
       "<IPython.core.display.HTML object>"
      ]
     },
     "metadata": {},
     "output_type": "display_data"
    },
    {
     "data": {
      "text/html": [
       "<span style=\"color:#4527A0\"><h1 style=\"font-size:18px\">Trial summary</h1></span>"
      ],
      "text/plain": [
       "<IPython.core.display.HTML object>"
      ]
     },
     "metadata": {},
     "output_type": "display_data"
    },
    {
     "data": {
      "text/html": [
       "<span style=\"color:cyan\"> |-Trial ID: 06cdea2d04df7d27d0806a1c1adc5e98</span>"
      ],
      "text/plain": [
       "<IPython.core.display.HTML object>"
      ]
     },
     "metadata": {},
     "output_type": "display_data"
    },
    {
     "data": {
      "text/html": [
       "<span style=\"color:cyan\"> |-Score: 0.858208954334259</span>"
      ],
      "text/plain": [
       "<IPython.core.display.HTML object>"
      ]
     },
     "metadata": {},
     "output_type": "display_data"
    },
    {
     "data": {
      "text/html": [
       "<span style=\"color:cyan\"> |-Best step: 0</span>"
      ],
      "text/plain": [
       "<IPython.core.display.HTML object>"
      ]
     },
     "metadata": {},
     "output_type": "display_data"
    },
    {
     "data": {
      "text/html": [
       "<span style=\"color:#7E57C2\"><h2 style=\"font-size:16px\">Hyperparameters:</h2></span>"
      ],
      "text/plain": [
       "<IPython.core.display.HTML object>"
      ]
     },
     "metadata": {},
     "output_type": "display_data"
    },
    {
     "data": {
      "text/html": [
       "<span style=\"color:cyan\"> |-dense_activation_1: relu</span>"
      ],
      "text/plain": [
       "<IPython.core.display.HTML object>"
      ]
     },
     "metadata": {},
     "output_type": "display_data"
    },
    {
     "data": {
      "text/html": [
       "<span style=\"color:blue\"> |-dense_activation_2: relu</span>"
      ],
      "text/plain": [
       "<IPython.core.display.HTML object>"
      ]
     },
     "metadata": {},
     "output_type": "display_data"
    },
    {
     "data": {
      "text/html": [
       "<span style=\"color:cyan\"> |-dense_activation_3: tanh</span>"
      ],
      "text/plain": [
       "<IPython.core.display.HTML object>"
      ]
     },
     "metadata": {},
     "output_type": "display_data"
    },
    {
     "data": {
      "text/html": [
       "<span style=\"color:blue\"> |-dense_activation_4: sigmoid</span>"
      ],
      "text/plain": [
       "<IPython.core.display.HTML object>"
      ]
     },
     "metadata": {},
     "output_type": "display_data"
    },
    {
     "data": {
      "text/html": [
       "<span style=\"color:cyan\"> |-dense_units_1: 128</span>"
      ],
      "text/plain": [
       "<IPython.core.display.HTML object>"
      ]
     },
     "metadata": {},
     "output_type": "display_data"
    },
    {
     "data": {
      "text/html": [
       "<span style=\"color:blue\"> |-dense_units_2: 16</span>"
      ],
      "text/plain": [
       "<IPython.core.display.HTML object>"
      ]
     },
     "metadata": {},
     "output_type": "display_data"
    },
    {
     "data": {
      "text/html": [
       "<span style=\"color:cyan\"> |-dense_units_3: 20</span>"
      ],
      "text/plain": [
       "<IPython.core.display.HTML object>"
      ]
     },
     "metadata": {},
     "output_type": "display_data"
    },
    {
     "data": {
      "text/html": [
       "<span style=\"color:blue\"> |-dense_units_4: 8</span>"
      ],
      "text/plain": [
       "<IPython.core.display.HTML object>"
      ]
     },
     "metadata": {},
     "output_type": "display_data"
    },
    {
     "data": {
      "text/html": [
       "<span style=\"color:cyan\"> |-dropout_1: 0.15000000000000002</span>"
      ],
      "text/plain": [
       "<IPython.core.display.HTML object>"
      ]
     },
     "metadata": {},
     "output_type": "display_data"
    },
    {
     "data": {
      "text/html": [
       "<span style=\"color:blue\"> |-dropout_2: 0.25</span>"
      ],
      "text/plain": [
       "<IPython.core.display.HTML object>"
      ]
     },
     "metadata": {},
     "output_type": "display_data"
    },
    {
     "data": {
      "text/html": [
       "<span style=\"color:cyan\"> |-dropout_3: 0.45</span>"
      ],
      "text/plain": [
       "<IPython.core.display.HTML object>"
      ]
     },
     "metadata": {},
     "output_type": "display_data"
    },
    {
     "data": {
      "text/html": [
       "<span style=\"color:blue\"> |-dropout_4: 0.25</span>"
      ],
      "text/plain": [
       "<IPython.core.display.HTML object>"
      ]
     },
     "metadata": {},
     "output_type": "display_data"
    },
    {
     "data": {
      "text/html": [
       "<span style=\"color:cyan\"> |-learning_rate: 0.0011466013001199728</span>"
      ],
      "text/plain": [
       "<IPython.core.display.HTML object>"
      ]
     },
     "metadata": {},
     "output_type": "display_data"
    },
    {
     "name": "stdout",
     "output_type": "stream",
     "text": [
      "Train on 757 samples, validate on 134 samples\n",
      "Epoch 1/500\n",
      "757/757 [==============================] - 1s 1ms/sample - loss: 0.6311 - accuracy: 0.6380 - val_loss: 0.5153 - val_accuracy: 0.7910\n",
      "Epoch 2/500\n",
      "757/757 [==============================] - 0s 119us/sample - loss: 0.5248 - accuracy: 0.7596 - val_loss: 0.4721 - val_accuracy: 0.8060\n",
      "Epoch 3/500\n",
      "757/757 [==============================] - 0s 99us/sample - loss: 0.4909 - accuracy: 0.7979 - val_loss: 0.4775 - val_accuracy: 0.7836\n",
      "Epoch 4/500\n",
      "757/757 [==============================] - 0s 99us/sample - loss: 0.4816 - accuracy: 0.8005 - val_loss: 0.4720 - val_accuracy: 0.8060\n",
      "Epoch 5/500\n",
      "757/757 [==============================] - 0s 116us/sample - loss: 0.4973 - accuracy: 0.7979 - val_loss: 0.4498 - val_accuracy: 0.8134\n",
      "Epoch 6/500\n",
      "757/757 [==============================] - 0s 100us/sample - loss: 0.4795 - accuracy: 0.7952 - val_loss: 0.4430 - val_accuracy: 0.8134\n",
      "Epoch 7/500\n",
      "757/757 [==============================] - 0s 118us/sample - loss: 0.4565 - accuracy: 0.8190 - val_loss: 0.4428 - val_accuracy: 0.8284\n",
      "Epoch 8/500\n",
      "757/757 [==============================] - 0s 111us/sample - loss: 0.4472 - accuracy: 0.8415 - val_loss: 0.4307 - val_accuracy: 0.8358\n",
      "Epoch 9/500\n",
      "757/757 [==============================] - 0s 96us/sample - loss: 0.4668 - accuracy: 0.8230 - val_loss: 0.4465 - val_accuracy: 0.8209\n",
      "Epoch 10/500\n",
      "757/757 [==============================] - 0s 97us/sample - loss: 0.4514 - accuracy: 0.8124 - val_loss: 0.4489 - val_accuracy: 0.8134\n",
      "Epoch 11/500\n",
      "757/757 [==============================] - 0s 113us/sample - loss: 0.4279 - accuracy: 0.8388 - val_loss: 0.4342 - val_accuracy: 0.8433\n",
      "Epoch 12/500\n",
      "757/757 [==============================] - 0s 96us/sample - loss: 0.4293 - accuracy: 0.8362 - val_loss: 0.4377 - val_accuracy: 0.8209\n",
      "Epoch 13/500\n",
      "757/757 [==============================] - 0s 99us/sample - loss: 0.4359 - accuracy: 0.8415 - val_loss: 0.4344 - val_accuracy: 0.8284\n",
      "Epoch 14/500\n",
      "757/757 [==============================] - 0s 95us/sample - loss: 0.4313 - accuracy: 0.8375 - val_loss: 0.4414 - val_accuracy: 0.8060\n",
      "Epoch 15/500\n",
      "757/757 [==============================] - 0s 96us/sample - loss: 0.4256 - accuracy: 0.8349 - val_loss: 0.4330 - val_accuracy: 0.8284\n",
      "Epoch 16/500\n",
      "757/757 [==============================] - 0s 95us/sample - loss: 0.4289 - accuracy: 0.8375 - val_loss: 0.4331 - val_accuracy: 0.8358\n",
      "Epoch 17/500\n",
      "757/757 [==============================] - 0s 96us/sample - loss: 0.4177 - accuracy: 0.8547 - val_loss: 0.4333 - val_accuracy: 0.8358\n",
      "Epoch 18/500\n",
      "757/757 [==============================] - 0s 98us/sample - loss: 0.4176 - accuracy: 0.8468 - val_loss: 0.4313 - val_accuracy: 0.8284\n",
      "Epoch 19/500\n",
      "757/757 [==============================] - 0s 100us/sample - loss: 0.4231 - accuracy: 0.8481 - val_loss: 0.4493 - val_accuracy: 0.8060\n",
      "Epoch 20/500\n",
      "757/757 [==============================] - 0s 100us/sample - loss: 0.4092 - accuracy: 0.8468 - val_loss: 0.4228 - val_accuracy: 0.8433\n",
      "Epoch 21/500\n",
      "757/757 [==============================] - 0s 98us/sample - loss: 0.4389 - accuracy: 0.8296 - val_loss: 0.4398 - val_accuracy: 0.8134\n",
      "Epoch 22/500\n",
      "757/757 [==============================] - 0s 97us/sample - loss: 0.4043 - accuracy: 0.8494 - val_loss: 0.4416 - val_accuracy: 0.8209\n",
      "Epoch 23/500\n",
      "757/757 [==============================] - 0s 96us/sample - loss: 0.4049 - accuracy: 0.8468 - val_loss: 0.4315 - val_accuracy: 0.8209\n",
      "Epoch 24/500\n",
      "757/757 [==============================] - 0s 101us/sample - loss: 0.4086 - accuracy: 0.8560 - val_loss: 0.4377 - val_accuracy: 0.8358\n",
      "Epoch 25/500\n",
      "757/757 [==============================] - 0s 95us/sample - loss: 0.3888 - accuracy: 0.8547 - val_loss: 0.4552 - val_accuracy: 0.8134\n",
      "Epoch 26/500\n",
      "757/757 [==============================] - 0s 97us/sample - loss: 0.3883 - accuracy: 0.8587 - val_loss: 0.4515 - val_accuracy: 0.8209\n",
      "Epoch 27/500\n",
      "757/757 [==============================] - 0s 88us/sample - loss: 0.4060 - accuracy: 0.8441 - val_loss: 0.4459 - val_accuracy: 0.8209\n",
      "Epoch 28/500\n",
      "757/757 [==============================] - 0s 96us/sample - loss: 0.3880 - accuracy: 0.8547 - val_loss: 0.4702 - val_accuracy: 0.7985\n",
      "Epoch 29/500\n",
      "757/757 [==============================] - 0s 97us/sample - loss: 0.4040 - accuracy: 0.8454 - val_loss: 0.4596 - val_accuracy: 0.8060\n",
      "Epoch 30/500\n",
      "757/757 [==============================] - 0s 94us/sample - loss: 0.4064 - accuracy: 0.8600 - val_loss: 0.4499 - val_accuracy: 0.8433\n",
      "Epoch 31/500\n",
      "757/757 [==============================] - 0s 96us/sample - loss: 0.3882 - accuracy: 0.8494 - val_loss: 0.4626 - val_accuracy: 0.8284\n",
      "Epoch 32/500\n",
      "757/757 [==============================] - 0s 94us/sample - loss: 0.3987 - accuracy: 0.8507 - val_loss: 0.4576 - val_accuracy: 0.8060\n",
      "Epoch 33/500\n",
      "757/757 [==============================] - 0s 95us/sample - loss: 0.3814 - accuracy: 0.8573 - val_loss: 0.4518 - val_accuracy: 0.8284\n",
      "Epoch 34/500\n",
      "757/757 [==============================] - 0s 97us/sample - loss: 0.3879 - accuracy: 0.8573 - val_loss: 0.4750 - val_accuracy: 0.7985\n",
      "Epoch 35/500\n",
      "757/757 [==============================] - 0s 94us/sample - loss: 0.3964 - accuracy: 0.8534 - val_loss: 0.4830 - val_accuracy: 0.7985\n",
      "Epoch 36/500\n",
      "757/757 [==============================] - 0s 96us/sample - loss: 0.3873 - accuracy: 0.8613 - val_loss: 0.4525 - val_accuracy: 0.8284\n",
      "Epoch 37/500\n",
      "757/757 [==============================] - 0s 96us/sample - loss: 0.3833 - accuracy: 0.8600 - val_loss: 0.4802 - val_accuracy: 0.7985\n",
      "Epoch 38/500\n",
      "757/757 [==============================] - 0s 88us/sample - loss: 0.3838 - accuracy: 0.8587 - val_loss: 0.4591 - val_accuracy: 0.8134\n",
      "Epoch 39/500\n",
      "757/757 [==============================] - 0s 97us/sample - loss: 0.3775 - accuracy: 0.8507 - val_loss: 0.4453 - val_accuracy: 0.8060\n",
      "Epoch 40/500\n",
      "757/757 [==============================] - 0s 89us/sample - loss: 0.3833 - accuracy: 0.8626 - val_loss: 0.4636 - val_accuracy: 0.8060\n",
      "Epoch 41/500\n",
      "757/757 [==============================] - 0s 95us/sample - loss: 0.3947 - accuracy: 0.8613 - val_loss: 0.4659 - val_accuracy: 0.8134\n",
      "Epoch 42/500\n",
      "757/757 [==============================] - 0s 95us/sample - loss: 0.3890 - accuracy: 0.8639 - val_loss: 0.4476 - val_accuracy: 0.8284\n",
      "Epoch 43/500\n",
      "757/757 [==============================] - 0s 94us/sample - loss: 0.3691 - accuracy: 0.8692 - val_loss: 0.4762 - val_accuracy: 0.8284\n",
      "Epoch 44/500\n",
      "757/757 [==============================] - 0s 95us/sample - loss: 0.3705 - accuracy: 0.8626 - val_loss: 0.4703 - val_accuracy: 0.7910\n",
      "Epoch 45/500\n",
      "757/757 [==============================] - 0s 97us/sample - loss: 0.3805 - accuracy: 0.8600 - val_loss: 0.4691 - val_accuracy: 0.8284\n",
      "Epoch 46/500\n",
      "757/757 [==============================] - 0s 98us/sample - loss: 0.3685 - accuracy: 0.8719 - val_loss: 0.4797 - val_accuracy: 0.8134\n",
      "Epoch 47/500\n",
      "757/757 [==============================] - 0s 89us/sample - loss: 0.3674 - accuracy: 0.8639 - val_loss: 0.4570 - val_accuracy: 0.8134\n",
      "Epoch 48/500\n",
      "757/757 [==============================] - 0s 96us/sample - loss: 0.3686 - accuracy: 0.8666 - val_loss: 0.4735 - val_accuracy: 0.7910\n",
      "Epoch 49/500\n",
      "757/757 [==============================] - 0s 97us/sample - loss: 0.3748 - accuracy: 0.8573 - val_loss: 0.4669 - val_accuracy: 0.8134\n",
      "Epoch 50/500\n",
      "757/757 [==============================] - 0s 98us/sample - loss: 0.3659 - accuracy: 0.8679 - val_loss: 0.4634 - val_accuracy: 0.8433\n",
      "Epoch 51/500\n",
      "757/757 [==============================] - 0s 98us/sample - loss: 0.3703 - accuracy: 0.8732 - val_loss: 0.4979 - val_accuracy: 0.8060\n",
      "Epoch 52/500\n",
      "757/757 [==============================] - 0s 97us/sample - loss: 0.3676 - accuracy: 0.8600 - val_loss: 0.4848 - val_accuracy: 0.8134\n",
      "Epoch 53/500\n",
      "757/757 [==============================] - 0s 95us/sample - loss: 0.3785 - accuracy: 0.8626 - val_loss: 0.4925 - val_accuracy: 0.8209\n",
      "Epoch 54/500\n",
      "757/757 [==============================] - 0s 97us/sample - loss: 0.3509 - accuracy: 0.8705 - val_loss: 0.4868 - val_accuracy: 0.8209\n",
      "Epoch 55/500\n",
      "757/757 [==============================] - 0s 88us/sample - loss: 0.3757 - accuracy: 0.8692 - val_loss: 0.4865 - val_accuracy: 0.8209\n",
      "Epoch 56/500\n",
      "757/757 [==============================] - 0s 97us/sample - loss: 0.3777 - accuracy: 0.8600 - val_loss: 0.4804 - val_accuracy: 0.7910\n",
      "Epoch 57/500\n",
      "757/757 [==============================] - 0s 95us/sample - loss: 0.3551 - accuracy: 0.8600 - val_loss: 0.4829 - val_accuracy: 0.8134\n",
      "Epoch 58/500\n",
      "757/757 [==============================] - 0s 95us/sample - loss: 0.3774 - accuracy: 0.8639 - val_loss: 0.4782 - val_accuracy: 0.8358\n",
      "Epoch 59/500\n",
      "757/757 [==============================] - 0s 97us/sample - loss: 0.3493 - accuracy: 0.8732 - val_loss: 0.4611 - val_accuracy: 0.8284\n",
      "Epoch 60/500\n",
      "757/757 [==============================] - 0s 101us/sample - loss: 0.3527 - accuracy: 0.8653 - val_loss: 0.4658 - val_accuracy: 0.8433\n",
      "Epoch 61/500\n",
      "757/757 [==============================] - 0s 98us/sample - loss: 0.3451 - accuracy: 0.8692 - val_loss: 0.4878 - val_accuracy: 0.8284\n",
      "Epoch 62/500\n",
      "757/757 [==============================] - 0s 97us/sample - loss: 0.3605 - accuracy: 0.8653 - val_loss: 0.4865 - val_accuracy: 0.8209\n",
      "Epoch 63/500\n",
      "757/757 [==============================] - 0s 97us/sample - loss: 0.3599 - accuracy: 0.8732 - val_loss: 0.5113 - val_accuracy: 0.7910\n",
      "Epoch 64/500\n",
      "757/757 [==============================] - 0s 98us/sample - loss: 0.3717 - accuracy: 0.8653 - val_loss: 0.4700 - val_accuracy: 0.8358\n",
      "Epoch 65/500\n",
      "757/757 [==============================] - 0s 95us/sample - loss: 0.3608 - accuracy: 0.8719 - val_loss: 0.4505 - val_accuracy: 0.8358\n",
      "Epoch 66/500\n",
      "757/757 [==============================] - 0s 99us/sample - loss: 0.3609 - accuracy: 0.8719 - val_loss: 0.4566 - val_accuracy: 0.8358\n",
      "Epoch 67/500\n",
      "757/757 [==============================] - 0s 96us/sample - loss: 0.3574 - accuracy: 0.8771 - val_loss: 0.4821 - val_accuracy: 0.8134\n",
      "Epoch 68/500\n",
      "757/757 [==============================] - 0s 94us/sample - loss: 0.3470 - accuracy: 0.8745 - val_loss: 0.4817 - val_accuracy: 0.8134\n",
      "Epoch 69/500\n",
      "757/757 [==============================] - 0s 96us/sample - loss: 0.3704 - accuracy: 0.8692 - val_loss: 0.4879 - val_accuracy: 0.8060\n",
      "Epoch 70/500\n",
      "757/757 [==============================] - 0s 96us/sample - loss: 0.3589 - accuracy: 0.8653 - val_loss: 0.4773 - val_accuracy: 0.8209\n",
      "Epoch 71/500\n",
      "757/757 [==============================] - 0s 88us/sample - loss: 0.3428 - accuracy: 0.8705 - val_loss: 0.4844 - val_accuracy: 0.8284\n",
      "Epoch 72/500\n",
      "757/757 [==============================] - 0s 94us/sample - loss: 0.3700 - accuracy: 0.8666 - val_loss: 0.4637 - val_accuracy: 0.8284\n",
      "Epoch 73/500\n",
      "757/757 [==============================] - 0s 98us/sample - loss: 0.3472 - accuracy: 0.8719 - val_loss: 0.4799 - val_accuracy: 0.8209\n",
      "Epoch 74/500\n",
      "757/757 [==============================] - 0s 97us/sample - loss: 0.3488 - accuracy: 0.8692 - val_loss: 0.4831 - val_accuracy: 0.8209\n",
      "Epoch 75/500\n",
      "757/757 [==============================] - 0s 99us/sample - loss: 0.3519 - accuracy: 0.8705 - val_loss: 0.4777 - val_accuracy: 0.8284\n",
      "Epoch 76/500\n",
      "757/757 [==============================] - 0s 102us/sample - loss: 0.3522 - accuracy: 0.8732 - val_loss: 0.4741 - val_accuracy: 0.8134\n",
      "Epoch 77/500\n",
      "757/757 [==============================] - 0s 99us/sample - loss: 0.3798 - accuracy: 0.8600 - val_loss: 0.4458 - val_accuracy: 0.8284\n",
      "Epoch 78/500\n",
      "757/757 [==============================] - 0s 115us/sample - loss: 0.3571 - accuracy: 0.8719 - val_loss: 0.4680 - val_accuracy: 0.8358\n",
      "Epoch 79/500\n",
      "757/757 [==============================] - 0s 104us/sample - loss: 0.3621 - accuracy: 0.8732 - val_loss: 0.5015 - val_accuracy: 0.8134\n",
      "Epoch 80/500\n",
      "757/757 [==============================] - 0s 97us/sample - loss: 0.3597 - accuracy: 0.8679 - val_loss: 0.4401 - val_accuracy: 0.8358\n",
      "Epoch 81/500\n",
      "757/757 [==============================] - 0s 98us/sample - loss: 0.3711 - accuracy: 0.8600 - val_loss: 0.4558 - val_accuracy: 0.8209\n",
      "Epoch 82/500\n",
      "757/757 [==============================] - 0s 98us/sample - loss: 0.3536 - accuracy: 0.8745 - val_loss: 0.4860 - val_accuracy: 0.8209\n",
      "Epoch 83/500\n",
      "757/757 [==============================] - 0s 120us/sample - loss: 0.3790 - accuracy: 0.8666 - val_loss: 0.4381 - val_accuracy: 0.8582\n",
      "Epoch 84/500\n",
      "757/757 [==============================] - 0s 97us/sample - loss: 0.3455 - accuracy: 0.8732 - val_loss: 0.4554 - val_accuracy: 0.8433\n",
      "Epoch 85/500\n",
      "757/757 [==============================] - 0s 98us/sample - loss: 0.3544 - accuracy: 0.8745 - val_loss: 0.4532 - val_accuracy: 0.8358\n",
      "Epoch 86/500\n",
      "757/757 [==============================] - 0s 97us/sample - loss: 0.3450 - accuracy: 0.8745 - val_loss: 0.4699 - val_accuracy: 0.8134\n",
      "Epoch 87/500\n",
      "757/757 [==============================] - 0s 98us/sample - loss: 0.3384 - accuracy: 0.8771 - val_loss: 0.4892 - val_accuracy: 0.8358\n",
      "Epoch 88/500\n",
      "757/757 [==============================] - 0s 101us/sample - loss: 0.3438 - accuracy: 0.8798 - val_loss: 0.4628 - val_accuracy: 0.8433\n",
      "Epoch 89/500\n",
      "757/757 [==============================] - 0s 101us/sample - loss: 0.3595 - accuracy: 0.8692 - val_loss: 0.4711 - val_accuracy: 0.8358\n",
      "Epoch 90/500\n",
      "757/757 [==============================] - 0s 98us/sample - loss: 0.3560 - accuracy: 0.8811 - val_loss: 0.4895 - val_accuracy: 0.8209\n",
      "Epoch 91/500\n",
      "757/757 [==============================] - 0s 128us/sample - loss: 0.2800 - accuracy: 0.8904 - val_loss: 0.9273 - val_accuracy: 0.7910\n",
      "Epoch 479/500\n",
      "757/757 [==============================] - 0s 89us/sample - loss: 0.2741 - accuracy: 0.8930 - val_loss: 0.9073 - val_accuracy: 0.7910\n",
      "Epoch 480/500\n",
      "757/757 [==============================] - 0s 90us/sample - loss: 0.2692 - accuracy: 0.8904 - val_loss: 0.9748 - val_accuracy: 0.7761\n",
      "Epoch 481/500\n",
      "757/757 [==============================] - 0s 96us/sample - loss: 0.2838 - accuracy: 0.8864 - val_loss: 0.9546 - val_accuracy: 0.7761\n",
      "Epoch 482/500\n",
      "757/757 [==============================] - 0s 87us/sample - loss: 0.2906 - accuracy: 0.8851 - val_loss: 0.9309 - val_accuracy: 0.7910\n",
      "Epoch 483/500\n",
      "757/757 [==============================] - 0s 88us/sample - loss: 0.2826 - accuracy: 0.8917 - val_loss: 0.8927 - val_accuracy: 0.7761\n",
      "Epoch 484/500\n",
      "757/757 [==============================] - 0s 89us/sample - loss: 0.2782 - accuracy: 0.8930 - val_loss: 0.8859 - val_accuracy: 0.7687\n",
      "Epoch 485/500\n",
      "757/757 [==============================] - 0s 87us/sample - loss: 0.2810 - accuracy: 0.8930 - val_loss: 0.9527 - val_accuracy: 0.7761\n",
      "Epoch 486/500\n",
      "757/757 [==============================] - 0s 90us/sample - loss: 0.2942 - accuracy: 0.8890 - val_loss: 0.9052 - val_accuracy: 0.7910\n",
      "Epoch 487/500\n",
      "757/757 [==============================] - 0s 89us/sample - loss: 0.2989 - accuracy: 0.8851 - val_loss: 0.9101 - val_accuracy: 0.7836\n",
      "Epoch 488/500\n",
      "757/757 [==============================] - 0s 87us/sample - loss: 0.2898 - accuracy: 0.8904 - val_loss: 0.8977 - val_accuracy: 0.7836\n",
      "Epoch 489/500\n",
      "757/757 [==============================] - 0s 86us/sample - loss: 0.2877 - accuracy: 0.8864 - val_loss: 0.8793 - val_accuracy: 0.7910\n",
      "Epoch 490/500\n",
      "757/757 [==============================] - 0s 95us/sample - loss: 0.2824 - accuracy: 0.8890 - val_loss: 0.8824 - val_accuracy: 0.7761\n",
      "Epoch 491/500\n",
      "757/757 [==============================] - 0s 90us/sample - loss: 0.2724 - accuracy: 0.8890 - val_loss: 0.9637 - val_accuracy: 0.7761\n",
      "Epoch 492/500\n",
      "757/757 [==============================] - 0s 87us/sample - loss: 0.2814 - accuracy: 0.8930 - val_loss: 0.8716 - val_accuracy: 0.7836\n",
      "Epoch 493/500\n",
      "757/757 [==============================] - 0s 89us/sample - loss: 0.2822 - accuracy: 0.8798 - val_loss: 0.8525 - val_accuracy: 0.7985\n",
      "Epoch 494/500\n",
      "757/757 [==============================] - 0s 85us/sample - loss: 0.2769 - accuracy: 0.8943 - val_loss: 0.8930 - val_accuracy: 0.7836\n",
      "Epoch 495/500\n",
      "757/757 [==============================] - 0s 85us/sample - loss: 0.2794 - accuracy: 0.8877 - val_loss: 0.9284 - val_accuracy: 0.7985\n",
      "Epoch 496/500\n",
      "757/757 [==============================] - 0s 85us/sample - loss: 0.2948 - accuracy: 0.8811 - val_loss: 0.8364 - val_accuracy: 0.7836\n",
      "Epoch 497/500\n",
      "757/757 [==============================] - 0s 86us/sample - loss: 0.2796 - accuracy: 0.8824 - val_loss: 0.9501 - val_accuracy: 0.7985\n",
      "Epoch 498/500\n",
      "757/757 [==============================] - 0s 84us/sample - loss: 0.2837 - accuracy: 0.8930 - val_loss: 0.8710 - val_accuracy: 0.7836\n",
      "Epoch 499/500\n",
      "757/757 [==============================] - 0s 84us/sample - loss: 0.2842 - accuracy: 0.8864 - val_loss: 0.9399 - val_accuracy: 0.7687\n",
      "Epoch 500/500\n",
      "757/757 [==============================] - 0s 84us/sample - loss: 0.2859 - accuracy: 0.8930 - val_loss: 1.0276 - val_accuracy: 0.7836\n"
     ]
    },
    {
     "data": {
      "text/html": [
       "<span style=\"color:#4527A0\"><h1 style=\"font-size:18px\">Trial complete</h1></span>"
      ],
      "text/plain": [
       "<IPython.core.display.HTML object>"
      ]
     },
     "metadata": {},
     "output_type": "display_data"
    },
    {
     "data": {
      "text/html": [
       "<span style=\"color:#4527A0\"><h1 style=\"font-size:18px\">Trial summary</h1></span>"
      ],
      "text/plain": [
       "<IPython.core.display.HTML object>"
      ]
     },
     "metadata": {},
     "output_type": "display_data"
    },
    {
     "data": {
      "text/html": [
       "<span style=\"color:cyan\"> |-Trial ID: b04bdacbc9c88bbffc8634df574031f1</span>"
      ],
      "text/plain": [
       "<IPython.core.display.HTML object>"
      ]
     },
     "metadata": {},
     "output_type": "display_data"
    },
    {
     "data": {
      "text/html": [
       "<span style=\"color:cyan\"> |-Score: 0.8470149040222168</span>"
      ],
      "text/plain": [
       "<IPython.core.display.HTML object>"
      ]
     },
     "metadata": {},
     "output_type": "display_data"
    },
    {
     "data": {
      "text/html": [
       "<span style=\"color:cyan\"> |-Best step: 0</span>"
      ],
      "text/plain": [
       "<IPython.core.display.HTML object>"
      ]
     },
     "metadata": {},
     "output_type": "display_data"
    },
    {
     "data": {
      "text/html": [
       "<span style=\"color:#7E57C2\"><h2 style=\"font-size:16px\">Hyperparameters:</h2></span>"
      ],
      "text/plain": [
       "<IPython.core.display.HTML object>"
      ]
     },
     "metadata": {},
     "output_type": "display_data"
    },
    {
     "data": {
      "text/html": [
       "<span style=\"color:cyan\"> |-dense_activation_1: relu</span>"
      ],
      "text/plain": [
       "<IPython.core.display.HTML object>"
      ]
     },
     "metadata": {},
     "output_type": "display_data"
    },
    {
     "data": {
      "text/html": [
       "<span style=\"color:blue\"> |-dense_activation_2: sigmoid</span>"
      ],
      "text/plain": [
       "<IPython.core.display.HTML object>"
      ]
     },
     "metadata": {},
     "output_type": "display_data"
    },
    {
     "data": {
      "text/html": [
       "<span style=\"color:cyan\"> |-dense_activation_3: tanh</span>"
      ],
      "text/plain": [
       "<IPython.core.display.HTML object>"
      ]
     },
     "metadata": {},
     "output_type": "display_data"
    },
    {
     "data": {
      "text/html": [
       "<span style=\"color:blue\"> |-dense_activation_4: relu</span>"
      ],
      "text/plain": [
       "<IPython.core.display.HTML object>"
      ]
     },
     "metadata": {},
     "output_type": "display_data"
    },
    {
     "data": {
      "text/html": [
       "<span style=\"color:cyan\"> |-dense_units_1: 64</span>"
      ],
      "text/plain": [
       "<IPython.core.display.HTML object>"
      ]
     },
     "metadata": {},
     "output_type": "display_data"
    },
    {
     "data": {
      "text/html": [
       "<span style=\"color:blue\"> |-dense_units_2: 16</span>"
      ],
      "text/plain": [
       "<IPython.core.display.HTML object>"
      ]
     },
     "metadata": {},
     "output_type": "display_data"
    },
    {
     "data": {
      "text/html": [
       "<span style=\"color:cyan\"> |-dense_units_3: 20</span>"
      ],
      "text/plain": [
       "<IPython.core.display.HTML object>"
      ]
     },
     "metadata": {},
     "output_type": "display_data"
    },
    {
     "data": {
      "text/html": [
       "<span style=\"color:blue\"> |-dense_units_4: 6</span>"
      ],
      "text/plain": [
       "<IPython.core.display.HTML object>"
      ]
     },
     "metadata": {},
     "output_type": "display_data"
    },
    {
     "data": {
      "text/html": [
       "<span style=\"color:cyan\"> |-dropout_1: 0.30000000000000004</span>"
      ],
      "text/plain": [
       "<IPython.core.display.HTML object>"
      ]
     },
     "metadata": {},
     "output_type": "display_data"
    },
    {
     "data": {
      "text/html": [
       "<span style=\"color:blue\"> |-dropout_2: 0.1</span>"
      ],
      "text/plain": [
       "<IPython.core.display.HTML object>"
      ]
     },
     "metadata": {},
     "output_type": "display_data"
    },
    {
     "data": {
      "text/html": [
       "<span style=\"color:cyan\"> |-dropout_3: 0.30000000000000004</span>"
      ],
      "text/plain": [
       "<IPython.core.display.HTML object>"
      ]
     },
     "metadata": {},
     "output_type": "display_data"
    },
    {
     "data": {
      "text/html": [
       "<span style=\"color:blue\"> |-dropout_4: 0.2</span>"
      ],
      "text/plain": [
       "<IPython.core.display.HTML object>"
      ]
     },
     "metadata": {},
     "output_type": "display_data"
    },
    {
     "data": {
      "text/html": [
       "<span style=\"color:cyan\"> |-learning_rate: 0.004179706358511756</span>"
      ],
      "text/plain": [
       "<IPython.core.display.HTML object>"
      ]
     },
     "metadata": {},
     "output_type": "display_data"
    },
    {
     "name": "stdout",
     "output_type": "stream",
     "text": [
      "Train on 757 samples, validate on 134 samples\n",
      "Epoch 1/500\n",
      "757/757 [==============================] - 1s 1ms/sample - loss: 0.7450 - accuracy: 0.4161 - val_loss: 0.7097 - val_accuracy: 0.4179\n",
      "Epoch 2/500\n",
      "757/757 [==============================] - 0s 97us/sample - loss: 0.7160 - accuracy: 0.4557 - val_loss: 0.6913 - val_accuracy: 0.4179\n",
      "Epoch 3/500\n",
      "757/757 [==============================] - 0s 101us/sample - loss: 0.6877 - accuracy: 0.5376 - val_loss: 0.6785 - val_accuracy: 0.5821\n",
      "Epoch 4/500\n",
      "757/757 [==============================] - 0s 88us/sample - loss: 0.6821 - accuracy: 0.5720 - val_loss: 0.6689 - val_accuracy: 0.5821\n",
      "Epoch 5/500\n",
      "757/757 [==============================] - 0s 85us/sample - loss: 0.6700 - accuracy: 0.5852 - val_loss: 0.6599 - val_accuracy: 0.5821\n",
      "Epoch 6/500\n",
      "757/757 [==============================] - 0s 87us/sample - loss: 0.6637 - accuracy: 0.5945 - val_loss: 0.6522 - val_accuracy: 0.5821\n",
      "Epoch 7/500\n",
      "757/757 [==============================] - 0s 86us/sample - loss: 0.6535 - accuracy: 0.6011 - val_loss: 0.6460 - val_accuracy: 0.5821\n",
      "Epoch 8/500\n",
      "757/757 [==============================] - 0s 87us/sample - loss: 0.6442 - accuracy: 0.6050 - val_loss: 0.6398 - val_accuracy: 0.5821\n",
      "Epoch 9/500\n",
      "757/757 [==============================] - 0s 85us/sample - loss: 0.6338 - accuracy: 0.6196 - val_loss: 0.6346 - val_accuracy: 0.5821\n",
      "Epoch 10/500\n",
      "757/757 [==============================] - 0s 89us/sample - loss: 0.6395 - accuracy: 0.5945 - val_loss: 0.6293 - val_accuracy: 0.5821\n",
      "Epoch 11/500\n",
      "757/757 [==============================] - 0s 87us/sample - loss: 0.6362 - accuracy: 0.6182 - val_loss: 0.6239 - val_accuracy: 0.5821\n",
      "Epoch 12/500\n",
      "757/757 [==============================] - 0s 86us/sample - loss: 0.6294 - accuracy: 0.6169 - val_loss: 0.6190 - val_accuracy: 0.5821\n",
      "Epoch 13/500\n",
      "757/757 [==============================] - 0s 87us/sample - loss: 0.6300 - accuracy: 0.6275 - val_loss: 0.6139 - val_accuracy: 0.5821\n",
      "Epoch 14/500\n",
      "757/757 [==============================] - 0s 85us/sample - loss: 0.6150 - accuracy: 0.6367 - val_loss: 0.6095 - val_accuracy: 0.5821\n",
      "Epoch 15/500\n",
      "757/757 [==============================] - 0s 86us/sample - loss: 0.6140 - accuracy: 0.6473 - val_loss: 0.6045 - val_accuracy: 0.5821\n",
      "Epoch 16/500\n",
      "757/757 [==============================] - 0s 95us/sample - loss: 0.6042 - accuracy: 0.6816 - val_loss: 0.5998 - val_accuracy: 0.5821\n",
      "Epoch 17/500\n",
      "757/757 [==============================] - 0s 88us/sample - loss: 0.6049 - accuracy: 0.6764 - val_loss: 0.5953 - val_accuracy: 0.5821\n",
      "Epoch 18/500\n",
      "757/757 [==============================] - 0s 87us/sample - loss: 0.5988 - accuracy: 0.6935 - val_loss: 0.5904 - val_accuracy: 0.5821\n",
      "Epoch 19/500\n",
      "757/757 [==============================] - 0s 87us/sample - loss: 0.5900 - accuracy: 0.6935 - val_loss: 0.5855 - val_accuracy: 0.5821\n",
      "Epoch 20/500\n",
      "757/757 [==============================] - 0s 87us/sample - loss: 0.5994 - accuracy: 0.6962 - val_loss: 0.5817 - val_accuracy: 0.5821\n",
      "Epoch 21/500\n",
      "757/757 [==============================] - 0s 88us/sample - loss: 0.5880 - accuracy: 0.6975 - val_loss: 0.5758 - val_accuracy: 0.5821\n",
      "Epoch 22/500\n",
      "757/757 [==============================] - 0s 87us/sample - loss: 0.5745 - accuracy: 0.7358 - val_loss: 0.5717 - val_accuracy: 0.5821\n",
      "Epoch 23/500\n",
      "757/757 [==============================] - 0s 104us/sample - loss: 0.5855 - accuracy: 0.7028 - val_loss: 0.5657 - val_accuracy: 0.7910\n",
      "Epoch 24/500\n",
      "757/757 [==============================] - 0s 86us/sample - loss: 0.5531 - accuracy: 0.7517 - val_loss: 0.5619 - val_accuracy: 0.7836\n",
      "Epoch 25/500\n",
      "757/757 [==============================] - 0s 104us/sample - loss: 0.5711 - accuracy: 0.7133 - val_loss: 0.5574 - val_accuracy: 0.8060\n",
      "Epoch 26/500\n",
      "757/757 [==============================] - 0s 89us/sample - loss: 0.5576 - accuracy: 0.7226 - val_loss: 0.5522 - val_accuracy: 0.8060\n",
      "Epoch 27/500\n",
      "757/757 [==============================] - 0s 89us/sample - loss: 0.5711 - accuracy: 0.6962 - val_loss: 0.5492 - val_accuracy: 0.8060\n",
      "Epoch 28/500\n",
      "757/757 [==============================] - 0s 90us/sample - loss: 0.5613 - accuracy: 0.7199 - val_loss: 0.5461 - val_accuracy: 0.8060\n",
      "Epoch 29/500\n",
      "757/757 [==============================] - 0s 173us/sample - loss: 0.3384 - accuracy: 0.8705 - val_loss: 0.4834 - val_accuracy: 0.7985\n",
      "Epoch 259/500\n",
      "757/757 [==============================] - 0s 129us/sample - loss: 0.3655 - accuracy: 0.8692 - val_loss: 0.5036 - val_accuracy: 0.7985\n",
      "Epoch 260/500\n",
      "757/757 [==============================] - 0s 101us/sample - loss: 0.3517 - accuracy: 0.8758 - val_loss: 0.4886 - val_accuracy: 0.7985\n",
      "Epoch 261/500\n",
      "757/757 [==============================] - 0s 100us/sample - loss: 0.3648 - accuracy: 0.8679 - val_loss: 0.5006 - val_accuracy: 0.7985\n",
      "Epoch 262/500\n",
      "757/757 [==============================] - 0s 100us/sample - loss: 0.3394 - accuracy: 0.8679 - val_loss: 0.4910 - val_accuracy: 0.8060\n",
      "Epoch 263/500\n",
      "757/757 [==============================] - 0s 101us/sample - loss: 0.3405 - accuracy: 0.8692 - val_loss: 0.4879 - val_accuracy: 0.8060\n",
      "Epoch 264/500\n",
      "757/757 [==============================] - 0s 97us/sample - loss: 0.3586 - accuracy: 0.8626 - val_loss: 0.4899 - val_accuracy: 0.8060\n",
      "Epoch 265/500\n",
      "757/757 [==============================] - 0s 98us/sample - loss: 0.3423 - accuracy: 0.8666 - val_loss: 0.4906 - val_accuracy: 0.7985\n",
      "Epoch 266/500\n",
      "757/757 [==============================] - 0s 96us/sample - loss: 0.3573 - accuracy: 0.8719 - val_loss: 0.4791 - val_accuracy: 0.8134\n",
      "Epoch 267/500\n",
      "757/757 [==============================] - 0s 100us/sample - loss: 0.3600 - accuracy: 0.8679 - val_loss: 0.4893 - val_accuracy: 0.8134\n",
      "Epoch 268/500\n",
      "757/757 [==============================] - 0s 99us/sample - loss: 0.3493 - accuracy: 0.8653 - val_loss: 0.4959 - val_accuracy: 0.8060\n",
      "Epoch 269/500\n",
      "757/757 [==============================] - 0s 101us/sample - loss: 0.3556 - accuracy: 0.8653 - val_loss: 0.5141 - val_accuracy: 0.8060\n",
      "Epoch 270/500\n",
      "757/757 [==============================] - 0s 102us/sample - loss: 0.3559 - accuracy: 0.8745 - val_loss: 0.4971 - val_accuracy: 0.7985\n",
      "Epoch 271/500\n",
      "757/757 [==============================] - 0s 99us/sample - loss: 0.3624 - accuracy: 0.8679 - val_loss: 0.5209 - val_accuracy: 0.7910\n",
      "Epoch 272/500\n",
      "757/757 [==============================] - 0s 99us/sample - loss: 0.3559 - accuracy: 0.8666 - val_loss: 0.5037 - val_accuracy: 0.7985\n",
      "Epoch 273/500\n",
      "757/757 [==============================] - 0s 103us/sample - loss: 0.3431 - accuracy: 0.8745 - val_loss: 0.4853 - val_accuracy: 0.7985\n",
      "Epoch 274/500\n",
      "757/757 [==============================] - 0s 100us/sample - loss: 0.3575 - accuracy: 0.8666 - val_loss: 0.5176 - val_accuracy: 0.7836\n",
      "Epoch 275/500\n",
      "757/757 [==============================] - 0s 99us/sample - loss: 0.3598 - accuracy: 0.8732 - val_loss: 0.5350 - val_accuracy: 0.7836\n",
      "Epoch 276/500\n",
      "757/757 [==============================] - 0s 102us/sample - loss: 0.3459 - accuracy: 0.8692 - val_loss: 0.4833 - val_accuracy: 0.7985\n",
      "Epoch 277/500\n",
      "757/757 [==============================] - 0s 101us/sample - loss: 0.3521 - accuracy: 0.8732 - val_loss: 0.5285 - val_accuracy: 0.8060\n",
      "Epoch 278/500\n",
      "757/757 [==============================] - 0s 99us/sample - loss: 0.3371 - accuracy: 0.8692 - val_loss: 0.5049 - val_accuracy: 0.8060\n",
      "Epoch 279/500\n",
      "757/757 [==============================] - 0s 98us/sample - loss: 0.3504 - accuracy: 0.8732 - val_loss: 0.5186 - val_accuracy: 0.8060\n",
      "Epoch 280/500\n",
      "757/757 [==============================] - 0s 97us/sample - loss: 0.3400 - accuracy: 0.8824 - val_loss: 0.5414 - val_accuracy: 0.7985\n",
      "Epoch 281/500\n",
      "757/757 [==============================] - 0s 97us/sample - loss: 0.3568 - accuracy: 0.8732 - val_loss: 0.4899 - val_accuracy: 0.8209\n",
      "Epoch 282/500\n",
      "757/757 [==============================] - 0s 96us/sample - loss: 0.3550 - accuracy: 0.8745 - val_loss: 0.4902 - val_accuracy: 0.8134\n",
      "Epoch 283/500\n",
      "757/757 [==============================] - 0s 100us/sample - loss: 0.3542 - accuracy: 0.8679 - val_loss: 0.5283 - val_accuracy: 0.7985\n",
      "Epoch 284/500\n",
      "757/757 [==============================] - 0s 96us/sample - loss: 0.3570 - accuracy: 0.8666 - val_loss: 0.4846 - val_accuracy: 0.8134\n",
      "Epoch 285/500\n",
      "757/757 [==============================] - 0s 102us/sample - loss: 0.3482 - accuracy: 0.8824 - val_loss: 0.5325 - val_accuracy: 0.7985\n",
      "Epoch 286/500\n",
      "757/757 [==============================] - 0s 98us/sample - loss: 0.3443 - accuracy: 0.8705 - val_loss: 0.5331 - val_accuracy: 0.7910\n",
      "Epoch 287/500\n",
      "757/757 [==============================] - 0s 97us/sample - loss: 0.3377 - accuracy: 0.8771 - val_loss: 0.5257 - val_accuracy: 0.7910\n",
      "Epoch 288/500\n",
      "757/757 [==============================] - 0s 99us/sample - loss: 0.3497 - accuracy: 0.8705 - val_loss: 0.5225 - val_accuracy: 0.7910\n",
      "Epoch 289/500\n",
      "757/757 [==============================] - 0s 99us/sample - loss: 0.3535 - accuracy: 0.8666 - val_loss: 0.4788 - val_accuracy: 0.8209\n",
      "Epoch 290/500\n",
      "757/757 [==============================] - 0s 98us/sample - loss: 0.3580 - accuracy: 0.8639 - val_loss: 0.5223 - val_accuracy: 0.7985\n",
      "Epoch 291/500\n",
      "757/757 [==============================] - 0s 96us/sample - loss: 0.3450 - accuracy: 0.8758 - val_loss: 0.5219 - val_accuracy: 0.8134\n",
      "Epoch 292/500\n",
      "757/757 [==============================] - 0s 98us/sample - loss: 0.3579 - accuracy: 0.8653 - val_loss: 0.4794 - val_accuracy: 0.8209\n",
      "Epoch 293/500\n",
      "757/757 [==============================] - 0s 127us/sample - loss: 0.3399 - accuracy: 0.8679 - val_loss: 0.5321 - val_accuracy: 0.7910\n",
      "Epoch 294/500\n",
      "757/757 [==============================] - 0s 99us/sample - loss: 0.3514 - accuracy: 0.8653 - val_loss: 0.5045 - val_accuracy: 0.7910\n",
      "Epoch 295/500\n",
      "757/757 [==============================] - 0s 98us/sample - loss: 0.3446 - accuracy: 0.8692 - val_loss: 0.5238 - val_accuracy: 0.7985\n",
      "Epoch 296/500\n",
      "757/757 [==============================] - 0s 97us/sample - loss: 0.3550 - accuracy: 0.8626 - val_loss: 0.5134 - val_accuracy: 0.8134\n",
      "Epoch 297/500\n",
      "757/757 [==============================] - 0s 85us/sample - loss: 0.3660 - accuracy: 0.8587 - val_loss: 0.4366 - val_accuracy: 0.8284\n",
      "Epoch 464/500\n",
      "757/757 [==============================] - 0s 85us/sample - loss: 0.3722 - accuracy: 0.8560 - val_loss: 0.4330 - val_accuracy: 0.8209\n",
      "Epoch 465/500\n",
      "757/757 [==============================] - 0s 84us/sample - loss: 0.3808 - accuracy: 0.8441 - val_loss: 0.4279 - val_accuracy: 0.8134\n",
      "Epoch 466/500\n",
      "757/757 [==============================] - 0s 85us/sample - loss: 0.3828 - accuracy: 0.8428 - val_loss: 0.4277 - val_accuracy: 0.8209\n",
      "Epoch 467/500\n",
      "757/757 [==============================] - 0s 84us/sample - loss: 0.3751 - accuracy: 0.8520 - val_loss: 0.4376 - val_accuracy: 0.8209\n",
      "Epoch 468/500\n",
      "757/757 [==============================] - 0s 84us/sample - loss: 0.3867 - accuracy: 0.8415 - val_loss: 0.4348 - val_accuracy: 0.8284\n",
      "Epoch 469/500\n",
      "757/757 [==============================] - 0s 84us/sample - loss: 0.3817 - accuracy: 0.8362 - val_loss: 0.4306 - val_accuracy: 0.8209\n",
      "Epoch 470/500\n",
      "757/757 [==============================] - 0s 83us/sample - loss: 0.3813 - accuracy: 0.8454 - val_loss: 0.4212 - val_accuracy: 0.8284\n",
      "Epoch 471/500\n",
      "757/757 [==============================] - 0s 84us/sample - loss: 0.3829 - accuracy: 0.8494 - val_loss: 0.4294 - val_accuracy: 0.8209\n",
      "Epoch 472/500\n",
      "757/757 [==============================] - 0s 84us/sample - loss: 0.3826 - accuracy: 0.8468 - val_loss: 0.4269 - val_accuracy: 0.8209\n",
      "Epoch 473/500\n",
      "757/757 [==============================] - 0s 84us/sample - loss: 0.3842 - accuracy: 0.8441 - val_loss: 0.4171 - val_accuracy: 0.8358\n",
      "Epoch 474/500\n",
      "757/757 [==============================] - 0s 86us/sample - loss: 0.3893 - accuracy: 0.8375 - val_loss: 0.4225 - val_accuracy: 0.8284\n",
      "Epoch 475/500\n",
      "757/757 [==============================] - 0s 86us/sample - loss: 0.3823 - accuracy: 0.8520 - val_loss: 0.4211 - val_accuracy: 0.8209\n",
      "Epoch 476/500\n",
      "757/757 [==============================] - 0s 85us/sample - loss: 0.3867 - accuracy: 0.8402 - val_loss: 0.4188 - val_accuracy: 0.8209\n",
      "Epoch 477/500\n",
      "757/757 [==============================] - 0s 87us/sample - loss: 0.3795 - accuracy: 0.8468 - val_loss: 0.4253 - val_accuracy: 0.8209\n",
      "Epoch 478/500\n",
      "757/757 [==============================] - 0s 87us/sample - loss: 0.3778 - accuracy: 0.8388 - val_loss: 0.4374 - val_accuracy: 0.8284\n",
      "Epoch 479/500\n",
      "757/757 [==============================] - 0s 85us/sample - loss: 0.3779 - accuracy: 0.8494 - val_loss: 0.4363 - val_accuracy: 0.8284\n",
      "Epoch 480/500\n",
      "757/757 [==============================] - 0s 84us/sample - loss: 0.3853 - accuracy: 0.8507 - val_loss: 0.4304 - val_accuracy: 0.8209\n",
      "Epoch 481/500\n",
      "757/757 [==============================] - 0s 83us/sample - loss: 0.3567 - accuracy: 0.8626 - val_loss: 0.4358 - val_accuracy: 0.8209\n",
      "Epoch 482/500\n",
      "757/757 [==============================] - 0s 85us/sample - loss: 0.3757 - accuracy: 0.8494 - val_loss: 0.4195 - val_accuracy: 0.8284\n",
      "Epoch 483/500\n",
      "757/757 [==============================] - 0s 85us/sample - loss: 0.3762 - accuracy: 0.8468 - val_loss: 0.4341 - val_accuracy: 0.8284\n",
      "Epoch 484/500\n",
      "757/757 [==============================] - 0s 82us/sample - loss: 0.3835 - accuracy: 0.8468 - val_loss: 0.4325 - val_accuracy: 0.8284\n",
      "Epoch 485/500\n",
      "757/757 [==============================] - 0s 83us/sample - loss: 0.3765 - accuracy: 0.8507 - val_loss: 0.4235 - val_accuracy: 0.8358\n",
      "Epoch 486/500\n",
      "757/757 [==============================] - 0s 84us/sample - loss: 0.3857 - accuracy: 0.8441 - val_loss: 0.4324 - val_accuracy: 0.8284\n",
      "Epoch 487/500\n",
      "757/757 [==============================] - 0s 83us/sample - loss: 0.3804 - accuracy: 0.8441 - val_loss: 0.4247 - val_accuracy: 0.8209\n",
      "Epoch 488/500\n",
      "757/757 [==============================] - 0s 86us/sample - loss: 0.3923 - accuracy: 0.8349 - val_loss: 0.4287 - val_accuracy: 0.8134\n",
      "Epoch 489/500\n",
      "757/757 [==============================] - 0s 85us/sample - loss: 0.3728 - accuracy: 0.8534 - val_loss: 0.4286 - val_accuracy: 0.8134\n",
      "Epoch 490/500\n",
      "757/757 [==============================] - 0s 84us/sample - loss: 0.3810 - accuracy: 0.8402 - val_loss: 0.4422 - val_accuracy: 0.8134\n",
      "Epoch 491/500\n",
      "757/757 [==============================] - 0s 83us/sample - loss: 0.3817 - accuracy: 0.8468 - val_loss: 0.4391 - val_accuracy: 0.8134\n",
      "Epoch 492/500\n",
      "757/757 [==============================] - 0s 85us/sample - loss: 0.3853 - accuracy: 0.8494 - val_loss: 0.4497 - val_accuracy: 0.8209\n",
      "Epoch 493/500\n",
      "757/757 [==============================] - 0s 86us/sample - loss: 0.3797 - accuracy: 0.8441 - val_loss: 0.4267 - val_accuracy: 0.8209\n",
      "Epoch 494/500\n",
      "757/757 [==============================] - 0s 87us/sample - loss: 0.3784 - accuracy: 0.8481 - val_loss: 0.4350 - val_accuracy: 0.8134\n",
      "Epoch 495/500\n",
      "757/757 [==============================] - 0s 86us/sample - loss: 0.3692 - accuracy: 0.8441 - val_loss: 0.4359 - val_accuracy: 0.8134\n",
      "Epoch 496/500\n",
      "757/757 [==============================] - 0s 86us/sample - loss: 0.3841 - accuracy: 0.8415 - val_loss: 0.4340 - val_accuracy: 0.8134\n",
      "Epoch 497/500\n",
      "757/757 [==============================] - 0s 85us/sample - loss: 0.3806 - accuracy: 0.8468 - val_loss: 0.4231 - val_accuracy: 0.8209\n",
      "Epoch 498/500\n",
      "757/757 [==============================] - 0s 86us/sample - loss: 0.3801 - accuracy: 0.8388 - val_loss: 0.4304 - val_accuracy: 0.8134\n",
      "Epoch 499/500\n",
      "757/757 [==============================] - 0s 88us/sample - loss: 0.3750 - accuracy: 0.8494 - val_loss: 0.4249 - val_accuracy: 0.8134\n",
      "Epoch 500/500\n",
      "757/757 [==============================] - 0s 85us/sample - loss: 0.3767 - accuracy: 0.8428 - val_loss: 0.4302 - val_accuracy: 0.8209\n",
      "Train on 757 samples, validate on 134 samples\n",
      "Epoch 1/500\n",
      "757/757 [==============================] - 1s 963us/sample - loss: 0.6762 - accuracy: 0.5812 - val_loss: 0.6668 - val_accuracy: 0.5821\n",
      "Epoch 2/500\n",
      "757/757 [==============================] - 0s 84us/sample - loss: 0.6548 - accuracy: 0.6156 - val_loss: 0.6576 - val_accuracy: 0.5821\n",
      "Epoch 3/500\n",
      "757/757 [==============================] - 0s 83us/sample - loss: 0.6509 - accuracy: 0.6275 - val_loss: 0.6414 - val_accuracy: 0.5821\n",
      "Epoch 4/500\n",
      "757/757 [==============================] - 0s 83us/sample - loss: 0.6455 - accuracy: 0.6222 - val_loss: 0.6212 - val_accuracy: 0.5821\n",
      "Epoch 5/500\n",
      "757/757 [==============================] - 0s 82us/sample - loss: 0.6239 - accuracy: 0.6513 - val_loss: 0.5876 - val_accuracy: 0.6642\n",
      "Epoch 6/500\n",
      "757/757 [==============================] - 0s 85us/sample - loss: 0.6096 - accuracy: 0.6790 - val_loss: 0.5596 - val_accuracy: 0.7761\n",
      "Epoch 7/500\n",
      "757/757 [==============================] - 0s 84us/sample - loss: 0.5909 - accuracy: 0.6988 - val_loss: 0.5274 - val_accuracy: 0.7985\n",
      "Epoch 8/500\n",
      "757/757 [==============================] - 0s 87us/sample - loss: 0.5612 - accuracy: 0.7424 - val_loss: 0.4922 - val_accuracy: 0.7910\n",
      "Epoch 9/500\n",
      "757/757 [==============================] - 0s 83us/sample - loss: 0.5517 - accuracy: 0.7424 - val_loss: 0.4791 - val_accuracy: 0.7985\n",
      "Epoch 10/500\n",
      "757/757 [==============================] - 0s 85us/sample - loss: 0.5396 - accuracy: 0.7384 - val_loss: 0.4700 - val_accuracy: 0.7910\n",
      "Epoch 11/500\n",
      "757/757 [==============================] - 0s 83us/sample - loss: 0.5204 - accuracy: 0.7688 - val_loss: 0.4689 - val_accuracy: 0.7910\n",
      "Epoch 12/500\n",
      "757/757 [==============================] - 0s 83us/sample - loss: 0.5121 - accuracy: 0.7583 - val_loss: 0.4640 - val_accuracy: 0.7910\n",
      "Epoch 13/500\n",
      "757/757 [==============================] - 0s 87us/sample - loss: 0.5112 - accuracy: 0.7781 - val_loss: 0.4602 - val_accuracy: 0.7910\n",
      "Epoch 14/500\n",
      "757/757 [==============================] - 0s 83us/sample - loss: 0.5052 - accuracy: 0.7820 - val_loss: 0.4580 - val_accuracy: 0.7910\n",
      "Epoch 15/500\n",
      "757/757 [==============================] - 0s 86us/sample - loss: 0.5019 - accuracy: 0.7781 - val_loss: 0.4571 - val_accuracy: 0.7910\n",
      "Epoch 16/500\n",
      "757/757 [==============================] - 0s 83us/sample - loss: 0.4906 - accuracy: 0.7834 - val_loss: 0.4580 - val_accuracy: 0.7910\n",
      "Epoch 17/500\n",
      "757/757 [==============================] - 0s 82us/sample - loss: 0.4978 - accuracy: 0.7635 - val_loss: 0.4540 - val_accuracy: 0.7910\n",
      "Epoch 18/500\n",
      "757/757 [==============================] - 0s 100us/sample - loss: 0.3606 - accuracy: 0.8639 - val_loss: 0.4269 - val_accuracy: 0.8358\n",
      "Epoch 276/500\n",
      "757/757 [==============================] - 0s 98us/sample - loss: 0.3604 - accuracy: 0.8600 - val_loss: 0.4223 - val_accuracy: 0.8284\n",
      "Epoch 277/500\n",
      "757/757 [==============================] - 0s 100us/sample - loss: 0.3715 - accuracy: 0.8468 - val_loss: 0.4170 - val_accuracy: 0.8358\n",
      "Epoch 278/500\n",
      "757/757 [==============================] - 0s 96us/sample - loss: 0.3652 - accuracy: 0.8639 - val_loss: 0.4190 - val_accuracy: 0.8358\n",
      "Epoch 279/500\n",
      "757/757 [==============================] - 0s 96us/sample - loss: 0.3695 - accuracy: 0.8666 - val_loss: 0.4465 - val_accuracy: 0.8284\n",
      "Epoch 280/500\n",
      "757/757 [==============================] - 0s 97us/sample - loss: 0.3561 - accuracy: 0.8600 - val_loss: 0.4346 - val_accuracy: 0.8284\n",
      "Epoch 281/500\n",
      "757/757 [==============================] - 0s 97us/sample - loss: 0.3643 - accuracy: 0.8573 - val_loss: 0.4135 - val_accuracy: 0.8358\n",
      "Epoch 282/500\n",
      "757/757 [==============================] - 0s 92us/sample - loss: 0.3514 - accuracy: 0.8679 - val_loss: 0.4161 - val_accuracy: 0.8209\n",
      "Epoch 283/500\n",
      "757/757 [==============================] - 0s 104us/sample - loss: 0.3758 - accuracy: 0.8573 - val_loss: 0.4191 - val_accuracy: 0.8284\n",
      "Epoch 284/500\n",
      "757/757 [==============================] - 0s 101us/sample - loss: 0.3544 - accuracy: 0.8653 - val_loss: 0.4429 - val_accuracy: 0.8209\n",
      "Epoch 285/500\n",
      "757/757 [==============================] - 0s 102us/sample - loss: 0.3547 - accuracy: 0.8653 - val_loss: 0.4199 - val_accuracy: 0.8134\n",
      "Epoch 286/500\n",
      "757/757 [==============================] - 0s 101us/sample - loss: 0.3492 - accuracy: 0.8666 - val_loss: 0.4295 - val_accuracy: 0.8284\n",
      "Epoch 287/500\n",
      "757/757 [==============================] - 0s 127us/sample - loss: 0.3571 - accuracy: 0.8639 - val_loss: 0.4225 - val_accuracy: 0.8134\n",
      "Epoch 288/500\n",
      "757/757 [==============================] - 0s 100us/sample - loss: 0.3571 - accuracy: 0.8732 - val_loss: 0.4269 - val_accuracy: 0.8209\n",
      "Epoch 289/500\n",
      "757/757 [==============================] - 0s 99us/sample - loss: 0.3531 - accuracy: 0.8600 - val_loss: 0.4365 - val_accuracy: 0.8284\n",
      "Epoch 290/500\n",
      "757/757 [==============================] - 0s 90us/sample - loss: 0.3552 - accuracy: 0.8613 - val_loss: 0.4345 - val_accuracy: 0.8284\n",
      "Epoch 291/500\n",
      "757/757 [==============================] - 0s 88us/sample - loss: 0.3503 - accuracy: 0.8666 - val_loss: 0.4444 - val_accuracy: 0.8284\n",
      "Epoch 292/500\n",
      "757/757 [==============================] - 0s 89us/sample - loss: 0.3594 - accuracy: 0.8600 - val_loss: 0.4239 - val_accuracy: 0.8209\n",
      "Epoch 293/500\n",
      "757/757 [==============================] - 0s 99us/sample - loss: 0.3555 - accuracy: 0.8587 - val_loss: 0.4342 - val_accuracy: 0.8358\n",
      "Epoch 294/500\n",
      "757/757 [==============================] - 0s 88us/sample - loss: 0.3587 - accuracy: 0.8666 - val_loss: 0.4088 - val_accuracy: 0.8284\n",
      "Epoch 295/500\n",
      "757/757 [==============================] - 0s 97us/sample - loss: 0.3481 - accuracy: 0.8626 - val_loss: 0.4119 - val_accuracy: 0.8358\n",
      "Epoch 296/500\n",
      "757/757 [==============================] - 0s 96us/sample - loss: 0.3597 - accuracy: 0.8587 - val_loss: 0.4185 - val_accuracy: 0.8358\n",
      "Epoch 297/500\n",
      "757/757 [==============================] - 0s 96us/sample - loss: 0.3507 - accuracy: 0.8639 - val_loss: 0.4224 - val_accuracy: 0.8134\n",
      "Epoch 298/500\n",
      "757/757 [==============================] - 0s 106us/sample - loss: 0.3566 - accuracy: 0.8613 - val_loss: 0.4461 - val_accuracy: 0.8134\n",
      "Epoch 299/500\n",
      "757/757 [==============================] - 0s 97us/sample - loss: 0.3613 - accuracy: 0.8626 - val_loss: 0.4367 - val_accuracy: 0.8209\n",
      "Epoch 300/500\n",
      "757/757 [==============================] - 0s 96us/sample - loss: 0.3522 - accuracy: 0.8653 - val_loss: 0.4290 - val_accuracy: 0.8134\n",
      "Epoch 301/500\n",
      "757/757 [==============================] - 0s 89us/sample - loss: 0.3559 - accuracy: 0.8587 - val_loss: 0.4311 - val_accuracy: 0.8060\n",
      "Epoch 302/500\n",
      "757/757 [==============================] - 0s 88us/sample - loss: 0.3648 - accuracy: 0.8481 - val_loss: 0.4529 - val_accuracy: 0.8209\n",
      "Epoch 303/500\n",
      "757/757 [==============================] - 0s 96us/sample - loss: 0.3559 - accuracy: 0.8560 - val_loss: 0.4478 - val_accuracy: 0.8060\n",
      "Epoch 304/500\n",
      "757/757 [==============================] - 0s 96us/sample - loss: 0.3548 - accuracy: 0.8587 - val_loss: 0.4529 - val_accuracy: 0.8209\n",
      "Epoch 305/500\n",
      "757/757 [==============================] - 0s 97us/sample - loss: 0.3440 - accuracy: 0.8732 - val_loss: 0.4451 - val_accuracy: 0.8284\n",
      "Epoch 306/500\n",
      "757/757 [==============================] - 0s 96us/sample - loss: 0.3461 - accuracy: 0.8626 - val_loss: 0.4311 - val_accuracy: 0.8134\n",
      "Epoch 307/500\n",
      "757/757 [==============================] - 0s 96us/sample - loss: 0.3571 - accuracy: 0.8666 - val_loss: 0.4324 - val_accuracy: 0.8284\n",
      "Epoch 308/500\n",
      "757/757 [==============================] - 0s 88us/sample - loss: 0.3540 - accuracy: 0.8666 - val_loss: 0.4352 - val_accuracy: 0.8284\n",
      "Epoch 309/500\n",
      "757/757 [==============================] - 0s 89us/sample - loss: 0.3561 - accuracy: 0.8679 - val_loss: 0.4151 - val_accuracy: 0.8284\n",
      "Epoch 310/500\n",
      "757/757 [==============================] - 0s 88us/sample - loss: 0.3593 - accuracy: 0.8692 - val_loss: 0.4172 - val_accuracy: 0.8433\n",
      "Epoch 311/500\n",
      "757/757 [==============================] - 0s 88us/sample - loss: 0.3561 - accuracy: 0.8679 - val_loss: 0.4455 - val_accuracy: 0.8209\n",
      "Epoch 312/500\n",
      "757/757 [==============================] - 0s 97us/sample - loss: 0.3566 - accuracy: 0.8679 - val_loss: 0.4322 - val_accuracy: 0.8284\n",
      "Epoch 313/500\n",
      "757/757 [==============================] - 0s 89us/sample - loss: 0.3571 - accuracy: 0.8692 - val_loss: 0.4446 - val_accuracy: 0.7985\n",
      "Epoch 314/500\n",
      "757/757 [==============================] - 0s 87us/sample - loss: 0.3454 - accuracy: 0.8732 - val_loss: 0.4465 - val_accuracy: 0.8209\n",
      "Epoch 315/500\n",
      "757/757 [==============================] - 0s 91us/sample - loss: 0.3473 - accuracy: 0.8639 - val_loss: 0.4425 - val_accuracy: 0.8358\n",
      "Epoch 316/500\n",
      "757/757 [==============================] - 0s 96us/sample - loss: 0.3519 - accuracy: 0.8666 - val_loss: 0.4796 - val_accuracy: 0.8209\n",
      "Epoch 317/500\n",
      "757/757 [==============================] - 0s 88us/sample - loss: 0.3506 - accuracy: 0.8613 - val_loss: 0.4303 - val_accuracy: 0.8060\n",
      "Epoch 318/500\n",
      "757/757 [==============================] - 0s 89us/sample - loss: 0.3717 - accuracy: 0.8454 - val_loss: 0.4328 - val_accuracy: 0.8358\n",
      "Epoch 320/500\n",
      "757/757 [==============================] - 0s 89us/sample - loss: 0.3744 - accuracy: 0.8626 - val_loss: 0.4334 - val_accuracy: 0.8284\n",
      "Epoch 321/500\n",
      "757/757 [==============================] - 0s 125us/sample - loss: 0.3626 - accuracy: 0.8600 - val_loss: 0.4370 - val_accuracy: 0.8209\n",
      "Epoch 322/500\n",
      "757/757 [==============================] - 0s 104us/sample - loss: 0.3933 - accuracy: 0.8468 - val_loss: 0.4314 - val_accuracy: 0.8284\n",
      "Epoch 323/500\n",
      "757/757 [==============================] - 0s 95us/sample - loss: 0.3785 - accuracy: 0.8560 - val_loss: 0.4320 - val_accuracy: 0.8284\n",
      "Epoch 324/500\n",
      "757/757 [==============================] - 0s 88us/sample - loss: 0.3805 - accuracy: 0.8547 - val_loss: 0.4355 - val_accuracy: 0.8284\n",
      "Epoch 325/500\n",
      "757/757 [==============================] - 0s 88us/sample - loss: 0.3722 - accuracy: 0.8626 - val_loss: 0.4287 - val_accuracy: 0.8358\n",
      "Epoch 326/500\n",
      "757/757 [==============================] - 0s 99us/sample - loss: 0.3723 - accuracy: 0.8626 - val_loss: 0.4346 - val_accuracy: 0.8209\n",
      "Epoch 327/500\n",
      "757/757 [==============================] - 0s 88us/sample - loss: 0.3641 - accuracy: 0.8692 - val_loss: 0.4308 - val_accuracy: 0.8358\n",
      "Epoch 328/500\n",
      "757/757 [==============================] - 0s 88us/sample - loss: 0.3707 - accuracy: 0.8639 - val_loss: 0.4369 - val_accuracy: 0.8209\n",
      "Epoch 329/500\n",
      "757/757 [==============================] - 0s 88us/sample - loss: 0.3695 - accuracy: 0.8573 - val_loss: 0.4315 - val_accuracy: 0.8284\n",
      "Epoch 330/500\n",
      "757/757 [==============================] - 0s 97us/sample - loss: 0.3734 - accuracy: 0.8626 - val_loss: 0.4312 - val_accuracy: 0.8284\n",
      "Epoch 331/500\n",
      "757/757 [==============================] - 0s 98us/sample - loss: 0.3814 - accuracy: 0.8534 - val_loss: 0.4325 - val_accuracy: 0.8284\n",
      "Epoch 332/500\n",
      "757/757 [==============================] - 0s 99us/sample - loss: 0.3694 - accuracy: 0.8560 - val_loss: 0.4330 - val_accuracy: 0.8358\n",
      "Epoch 333/500\n",
      "757/757 [==============================] - 0s 97us/sample - loss: 0.3892 - accuracy: 0.8600 - val_loss: 0.4320 - val_accuracy: 0.8358\n",
      "Epoch 334/500\n",
      "757/757 [==============================] - 0s 88us/sample - loss: 0.3842 - accuracy: 0.8600 - val_loss: 0.4328 - val_accuracy: 0.8358\n",
      "Epoch 335/500\n",
      "757/757 [==============================] - 0s 88us/sample - loss: 0.3787 - accuracy: 0.8494 - val_loss: 0.4321 - val_accuracy: 0.8284\n",
      "Epoch 336/500\n",
      "757/757 [==============================] - 0s 87us/sample - loss: 0.3812 - accuracy: 0.8587 - val_loss: 0.4350 - val_accuracy: 0.8209\n",
      "Epoch 337/500\n",
      "757/757 [==============================] - 0s 95us/sample - loss: 0.3664 - accuracy: 0.8600 - val_loss: 0.4322 - val_accuracy: 0.8358\n",
      "Epoch 338/500\n",
      "757/757 [==============================] - 0s 88us/sample - loss: 0.3747 - accuracy: 0.8587 - val_loss: 0.4382 - val_accuracy: 0.8358\n",
      "Epoch 339/500\n",
      "757/757 [==============================] - 0s 99us/sample - loss: 0.3744 - accuracy: 0.8573 - val_loss: 0.4360 - val_accuracy: 0.8209\n",
      "Epoch 340/500\n",
      "757/757 [==============================] - 0s 89us/sample - loss: 0.3732 - accuracy: 0.8573 - val_loss: 0.4387 - val_accuracy: 0.8209\n",
      "Epoch 341/500\n",
      "757/757 [==============================] - 0s 97us/sample - loss: 0.3656 - accuracy: 0.8573 - val_loss: 0.4371 - val_accuracy: 0.8358\n",
      "Epoch 342/500\n",
      "757/757 [==============================] - 0s 96us/sample - loss: 0.3802 - accuracy: 0.8560 - val_loss: 0.4358 - val_accuracy: 0.8284\n",
      "Epoch 343/500\n",
      "757/757 [==============================] - 0s 89us/sample - loss: 0.3764 - accuracy: 0.8666 - val_loss: 0.4372 - val_accuracy: 0.8209\n",
      "Epoch 344/500\n",
      "757/757 [==============================] - 0s 88us/sample - loss: 0.3679 - accuracy: 0.8560 - val_loss: 0.4382 - val_accuracy: 0.8209\n",
      "Epoch 345/500\n",
      "757/757 [==============================] - 0s 97us/sample - loss: 0.3773 - accuracy: 0.8507 - val_loss: 0.4329 - val_accuracy: 0.8358\n",
      "Epoch 346/500\n",
      "757/757 [==============================] - 0s 98us/sample - loss: 0.3754 - accuracy: 0.8639 - val_loss: 0.4362 - val_accuracy: 0.8358\n",
      "Epoch 347/500\n",
      "757/757 [==============================] - 0s 88us/sample - loss: 0.3669 - accuracy: 0.8600 - val_loss: 0.4424 - val_accuracy: 0.8209\n",
      "Epoch 348/500\n",
      "757/757 [==============================] - 0s 89us/sample - loss: 0.3696 - accuracy: 0.8560 - val_loss: 0.4366 - val_accuracy: 0.8284\n",
      "Epoch 349/500\n",
      "757/757 [==============================] - 0s 90us/sample - loss: 0.3700 - accuracy: 0.8560 - val_loss: 0.4418 - val_accuracy: 0.8209\n",
      "Epoch 350/500\n",
      "757/757 [==============================] - 0s 85us/sample - loss: 0.3726 - accuracy: 0.8573 - val_loss: 0.4329 - val_accuracy: 0.8358\n",
      "Epoch 351/500\n",
      "757/757 [==============================] - 0s 88us/sample - loss: 0.3664 - accuracy: 0.8639 - val_loss: 0.4338 - val_accuracy: 0.8209\n",
      "Epoch 352/500\n",
      "757/757 [==============================] - 0s 96us/sample - loss: 0.3676 - accuracy: 0.8587 - val_loss: 0.4355 - val_accuracy: 0.8209\n",
      "Epoch 353/500\n",
      "757/757 [==============================] - 0s 94us/sample - loss: 0.3767 - accuracy: 0.8520 - val_loss: 0.4330 - val_accuracy: 0.8433\n",
      "Epoch 354/500\n",
      "757/757 [==============================] - 0s 88us/sample - loss: 0.3726 - accuracy: 0.8679 - val_loss: 0.4338 - val_accuracy: 0.8284\n",
      "Epoch 355/500\n",
      "757/757 [==============================] - 0s 90us/sample - loss: 0.3784 - accuracy: 0.8587 - val_loss: 0.4305 - val_accuracy: 0.8433\n",
      "Epoch 356/500\n",
      "757/757 [==============================] - 0s 89us/sample - loss: 0.3902 - accuracy: 0.8613 - val_loss: 0.4324 - val_accuracy: 0.8209\n",
      "Epoch 357/500\n",
      "757/757 [==============================] - 0s 88us/sample - loss: 0.3810 - accuracy: 0.8560 - val_loss: 0.4304 - val_accuracy: 0.8284\n",
      "Epoch 358/500\n",
      "757/757 [==============================] - 0s 98us/sample - loss: 0.3812 - accuracy: 0.8520 - val_loss: 0.4388 - val_accuracy: 0.8209\n",
      "Epoch 359/500\n",
      "757/757 [==============================] - 0s 87us/sample - loss: 0.3741 - accuracy: 0.8573 - val_loss: 0.4307 - val_accuracy: 0.8284\n",
      "Epoch 360/500\n",
      "757/757 [==============================] - 0s 87us/sample - loss: 0.3710 - accuracy: 0.8587 - val_loss: 0.4336 - val_accuracy: 0.8209\n",
      "Epoch 361/500\n",
      "757/757 [==============================] - 0s 89us/sample - loss: 0.3675 - accuracy: 0.8600 - val_loss: 0.4403 - val_accuracy: 0.8209\n",
      "Epoch 362/500\n",
      "757/757 [==============================] - 0s 89us/sample - loss: 0.3712 - accuracy: 0.8679 - val_loss: 0.4330 - val_accuracy: 0.8284\n",
      "Epoch 363/500\n",
      "757/757 [==============================] - 0s 87us/sample - loss: 0.3693 - accuracy: 0.8613 - val_loss: 0.4368 - val_accuracy: 0.8209\n",
      "Epoch 364/500\n",
      "757/757 [==============================] - 0s 89us/sample - loss: 0.3836 - accuracy: 0.8534 - val_loss: 0.4331 - val_accuracy: 0.8284\n",
      "Epoch 365/500\n",
      "757/757 [==============================] - 0s 87us/sample - loss: 0.3719 - accuracy: 0.8547 - val_loss: 0.4319 - val_accuracy: 0.8358\n",
      "Epoch 366/500\n",
      "757/757 [==============================] - 0s 89us/sample - loss: 0.3681 - accuracy: 0.8626 - val_loss: 0.4319 - val_accuracy: 0.8284\n",
      "Epoch 367/500\n",
      "757/757 [==============================] - 0s 87us/sample - loss: 0.3708 - accuracy: 0.8653 - val_loss: 0.4329 - val_accuracy: 0.8284\n",
      "Epoch 368/500\n",
      "757/757 [==============================] - 0s 90us/sample - loss: 0.3703 - accuracy: 0.8547 - val_loss: 0.4381 - val_accuracy: 0.8433\n",
      "Epoch 369/500\n",
      "757/757 [==============================] - 0s 88us/sample - loss: 0.3742 - accuracy: 0.8626 - val_loss: 0.4323 - val_accuracy: 0.8433\n",
      "Epoch 370/500\n",
      "757/757 [==============================] - 0s 89us/sample - loss: 0.3779 - accuracy: 0.8573 - val_loss: 0.4342 - val_accuracy: 0.8433\n",
      "Epoch 371/500\n",
      "757/757 [==============================] - 0s 98us/sample - loss: 0.3667 - accuracy: 0.8666 - val_loss: 0.4340 - val_accuracy: 0.8284\n",
      "Epoch 372/500\n",
      "757/757 [==============================] - 0s 94us/sample - loss: 0.3705 - accuracy: 0.8626 - val_loss: 0.4380 - val_accuracy: 0.8209\n",
      "Epoch 373/500\n",
      "757/757 [==============================] - 0s 88us/sample - loss: 0.3750 - accuracy: 0.8587 - val_loss: 0.4373 - val_accuracy: 0.8433\n",
      "Epoch 374/500\n",
      "757/757 [==============================] - 0s 89us/sample - loss: 0.3737 - accuracy: 0.8653 - val_loss: 0.4291 - val_accuracy: 0.8284\n",
      "Epoch 375/500\n",
      "757/757 [==============================] - 0s 95us/sample - loss: 0.3620 - accuracy: 0.8600 - val_loss: 0.4330 - val_accuracy: 0.8284\n",
      "Epoch 376/500\n",
      "757/757 [==============================] - 0s 90us/sample - loss: 0.3762 - accuracy: 0.8613 - val_loss: 0.4362 - val_accuracy: 0.8284\n",
      "Epoch 377/500\n",
      "757/757 [==============================] - 0s 87us/sample - loss: 0.3713 - accuracy: 0.8573 - val_loss: 0.4350 - val_accuracy: 0.8284\n",
      "Epoch 378/500\n",
      "757/757 [==============================] - 0s 88us/sample - loss: 0.3766 - accuracy: 0.8534 - val_loss: 0.4326 - val_accuracy: 0.8284\n",
      "Epoch 379/500\n",
      "757/757 [==============================] - 0s 90us/sample - loss: 0.3773 - accuracy: 0.8534 - val_loss: 0.4367 - val_accuracy: 0.8209\n",
      "Epoch 380/500\n",
      "757/757 [==============================] - 0s 97us/sample - loss: 0.3777 - accuracy: 0.8560 - val_loss: 0.4301 - val_accuracy: 0.8358\n",
      "Epoch 381/500\n",
      "757/757 [==============================] - 0s 88us/sample - loss: 0.3723 - accuracy: 0.8613 - val_loss: 0.4352 - val_accuracy: 0.8284\n",
      "Epoch 382/500\n",
      "757/757 [==============================] - 0s 155us/sample - loss: 0.3731 - accuracy: 0.8613 - val_loss: 0.4312 - val_accuracy: 0.8284\n",
      "Epoch 383/500\n",
      "757/757 [==============================] - 0s 119us/sample - loss: 0.3707 - accuracy: 0.8639 - val_loss: 0.4316 - val_accuracy: 0.8433\n",
      "Epoch 384/500\n",
      "757/757 [==============================] - 0s 108us/sample - loss: 0.3761 - accuracy: 0.8560 - val_loss: 0.4365 - val_accuracy: 0.8284\n",
      "Epoch 385/500\n",
      "757/757 [==============================] - 0s 107us/sample - loss: 0.3731 - accuracy: 0.8626 - val_loss: 0.4343 - val_accuracy: 0.8358\n",
      "Epoch 386/500\n",
      "757/757 [==============================] - 0s 103us/sample - loss: 0.3657 - accuracy: 0.8534 - val_loss: 0.4345 - val_accuracy: 0.8284\n",
      "Epoch 387/500\n",
      "757/757 [==============================] - 0s 115us/sample - loss: 0.3725 - accuracy: 0.8653 - val_loss: 0.4332 - val_accuracy: 0.8284\n",
      "Epoch 388/500\n",
      "757/757 [==============================] - 0s 110us/sample - loss: 0.3703 - accuracy: 0.8573 - val_loss: 0.4382 - val_accuracy: 0.8209\n",
      "Epoch 389/500\n",
      "757/757 [==============================] - 0s 108us/sample - loss: 0.3747 - accuracy: 0.8626 - val_loss: 0.4351 - val_accuracy: 0.8284\n",
      "Epoch 390/500\n",
      "757/757 [==============================] - 0s 107us/sample - loss: 0.3743 - accuracy: 0.8573 - val_loss: 0.4268 - val_accuracy: 0.8358\n",
      "Epoch 391/500\n",
      "757/757 [==============================] - 0s 90us/sample - loss: 0.3683 - accuracy: 0.8679 - val_loss: 0.4335 - val_accuracy: 0.8284\n",
      "Epoch 392/500\n",
      "757/757 [==============================] - 0s 97us/sample - loss: 0.3704 - accuracy: 0.8679 - val_loss: 0.4350 - val_accuracy: 0.8284\n",
      "Epoch 393/500\n",
      "757/757 [==============================] - 0s 88us/sample - loss: 0.3831 - accuracy: 0.8587 - val_loss: 0.4308 - val_accuracy: 0.8284\n",
      "Epoch 394/500\n",
      "757/757 [==============================] - 0s 106us/sample - loss: 0.3686 - accuracy: 0.8468 - val_loss: 0.4349 - val_accuracy: 0.8358\n",
      "Epoch 395/500\n",
      "757/757 [==============================] - 0s 97us/sample - loss: 0.3733 - accuracy: 0.8626 - val_loss: 0.4370 - val_accuracy: 0.8209\n",
      "Epoch 396/500\n",
      "757/757 [==============================] - 0s 87us/sample - loss: 0.3916 - accuracy: 0.8573 - val_loss: 0.4323 - val_accuracy: 0.8209\n",
      "Epoch 397/500\n",
      "757/757 [==============================] - 0s 88us/sample - loss: 0.3646 - accuracy: 0.8573 - val_loss: 0.4350 - val_accuracy: 0.8358\n",
      "Epoch 398/500\n",
      "757/757 [==============================] - 0s 98us/sample - loss: 0.3717 - accuracy: 0.8587 - val_loss: 0.4318 - val_accuracy: 0.8284\n",
      "Epoch 399/500\n",
      "757/757 [==============================] - 0s 100us/sample - loss: 0.3742 - accuracy: 0.8666 - val_loss: 0.4327 - val_accuracy: 0.8284\n",
      "Epoch 400/500\n",
      "757/757 [==============================] - 0s 88us/sample - loss: 0.3713 - accuracy: 0.8520 - val_loss: 0.4338 - val_accuracy: 0.8358\n",
      "Epoch 401/500\n",
      "757/757 [==============================] - 0s 101us/sample - loss: 0.3701 - accuracy: 0.8560 - val_loss: 0.4347 - val_accuracy: 0.8209\n",
      "Epoch 402/500\n",
      "757/757 [==============================] - 0s 90us/sample - loss: 0.3709 - accuracy: 0.8626 - val_loss: 0.4383 - val_accuracy: 0.8358\n",
      "Epoch 403/500\n",
      "757/757 [==============================] - 0s 88us/sample - loss: 0.3662 - accuracy: 0.8626 - val_loss: 0.4394 - val_accuracy: 0.8209\n",
      "Epoch 404/500\n",
      "757/757 [==============================] - 0s 96us/sample - loss: 0.3726 - accuracy: 0.8653 - val_loss: 0.4457 - val_accuracy: 0.8209\n",
      "Epoch 405/500\n",
      "757/757 [==============================] - 0s 90us/sample - loss: 0.3725 - accuracy: 0.8560 - val_loss: 0.4369 - val_accuracy: 0.8358\n",
      "Epoch 406/500\n",
      "757/757 [==============================] - 0s 88us/sample - loss: 0.3621 - accuracy: 0.8639 - val_loss: 0.4358 - val_accuracy: 0.8284\n",
      "Epoch 407/500\n",
      "757/757 [==============================] - 0s 98us/sample - loss: 0.3726 - accuracy: 0.8547 - val_loss: 0.4378 - val_accuracy: 0.8433\n",
      "Epoch 408/500\n",
      "757/757 [==============================] - 0s 89us/sample - loss: 0.3654 - accuracy: 0.8653 - val_loss: 0.4426 - val_accuracy: 0.8209\n",
      "Epoch 409/500\n",
      "757/757 [==============================] - 0s 89us/sample - loss: 0.3648 - accuracy: 0.8653 - val_loss: 0.4329 - val_accuracy: 0.8358\n",
      "Epoch 410/500\n",
      "757/757 [==============================] - 0s 98us/sample - loss: 0.3678 - accuracy: 0.8613 - val_loss: 0.4364 - val_accuracy: 0.8358\n",
      "Epoch 411/500\n",
      "757/757 [==============================] - 0s 96us/sample - loss: 0.3654 - accuracy: 0.8626 - val_loss: 0.4313 - val_accuracy: 0.8358\n",
      "Epoch 412/500\n",
      "757/757 [==============================] - 0s 89us/sample - loss: 0.3720 - accuracy: 0.8653 - val_loss: 0.4401 - val_accuracy: 0.8209\n",
      "Epoch 413/500\n",
      "757/757 [==============================] - 0s 89us/sample - loss: 0.3674 - accuracy: 0.8626 - val_loss: 0.4346 - val_accuracy: 0.8284\n",
      "Epoch 414/500\n",
      "757/757 [==============================] - 0s 89us/sample - loss: 0.3667 - accuracy: 0.8626 - val_loss: 0.4383 - val_accuracy: 0.8433\n",
      "Epoch 415/500\n",
      "757/757 [==============================] - 0s 88us/sample - loss: 0.3701 - accuracy: 0.8666 - val_loss: 0.4426 - val_accuracy: 0.8209\n",
      "Epoch 416/500\n",
      "757/757 [==============================] - 0s 98us/sample - loss: 0.3775 - accuracy: 0.8560 - val_loss: 0.4335 - val_accuracy: 0.8358\n",
      "Epoch 417/500\n",
      "757/757 [==============================] - 0s 98us/sample - loss: 0.3689 - accuracy: 0.8547 - val_loss: 0.4424 - val_accuracy: 0.8134\n",
      "Epoch 418/500\n",
      "757/757 [==============================] - 0s 89us/sample - loss: 0.3643 - accuracy: 0.8653 - val_loss: 0.4395 - val_accuracy: 0.8209\n",
      "Epoch 419/500\n",
      "757/757 [==============================] - 0s 89us/sample - loss: 0.3849 - accuracy: 0.8534 - val_loss: 0.4334 - val_accuracy: 0.8358\n",
      "Epoch 420/500\n",
      "757/757 [==============================] - 0s 89us/sample - loss: 0.3768 - accuracy: 0.8494 - val_loss: 0.4326 - val_accuracy: 0.8358\n",
      "Epoch 421/500\n",
      "757/757 [==============================] - 0s 108us/sample - loss: 0.3743 - accuracy: 0.8534 - val_loss: 0.4345 - val_accuracy: 0.8284\n",
      "Epoch 422/500\n",
      "757/757 [==============================] - 0s 89us/sample - loss: 0.3745 - accuracy: 0.8639 - val_loss: 0.4309 - val_accuracy: 0.8358\n",
      "Epoch 423/500\n",
      "757/757 [==============================] - 0s 89us/sample - loss: 0.3694 - accuracy: 0.8600 - val_loss: 0.4325 - val_accuracy: 0.8358\n",
      "Epoch 424/500\n",
      "757/757 [==============================] - 0s 88us/sample - loss: 0.3697 - accuracy: 0.8587 - val_loss: 0.4321 - val_accuracy: 0.8284\n",
      "Epoch 425/500\n",
      "757/757 [==============================] - 0s 87us/sample - loss: 0.3826 - accuracy: 0.8560 - val_loss: 0.4337 - val_accuracy: 0.8358\n",
      "Epoch 426/500\n",
      "757/757 [==============================] - 0s 88us/sample - loss: 0.3781 - accuracy: 0.8613 - val_loss: 0.4384 - val_accuracy: 0.8284\n",
      "Epoch 427/500\n",
      "757/757 [==============================] - 0s 90us/sample - loss: 0.3607 - accuracy: 0.8626 - val_loss: 0.4318 - val_accuracy: 0.8358\n",
      "Epoch 428/500\n",
      "757/757 [==============================] - 0s 89us/sample - loss: 0.3614 - accuracy: 0.8679 - val_loss: 0.4351 - val_accuracy: 0.8209\n",
      "Epoch 429/500\n",
      "757/757 [==============================] - 0s 89us/sample - loss: 0.3731 - accuracy: 0.8587 - val_loss: 0.4387 - val_accuracy: 0.8284\n",
      "Epoch 430/500\n",
      "757/757 [==============================] - 0s 97us/sample - loss: 0.3681 - accuracy: 0.8679 - val_loss: 0.4391 - val_accuracy: 0.8358\n",
      "Epoch 431/500\n",
      "757/757 [==============================] - 0s 88us/sample - loss: 0.3668 - accuracy: 0.8626 - val_loss: 0.4392 - val_accuracy: 0.8358\n",
      "Epoch 432/500\n",
      "757/757 [==============================] - 0s 89us/sample - loss: 0.3677 - accuracy: 0.8692 - val_loss: 0.4351 - val_accuracy: 0.8358\n",
      "Epoch 433/500\n",
      "757/757 [==============================] - 0s 97us/sample - loss: 0.3638 - accuracy: 0.8613 - val_loss: 0.4411 - val_accuracy: 0.8284\n",
      "Epoch 434/500\n",
      "757/757 [==============================] - 0s 101us/sample - loss: 0.3801 - accuracy: 0.8573 - val_loss: 0.4383 - val_accuracy: 0.8358\n",
      "Epoch 435/500\n",
      "757/757 [==============================] - 0s 97us/sample - loss: 0.3715 - accuracy: 0.8613 - val_loss: 0.4338 - val_accuracy: 0.8358\n",
      "Epoch 436/500\n",
      "757/757 [==============================] - 0s 96us/sample - loss: 0.3725 - accuracy: 0.8560 - val_loss: 0.4389 - val_accuracy: 0.8284\n",
      "Epoch 437/500\n",
      "757/757 [==============================] - 0s 96us/sample - loss: 0.3787 - accuracy: 0.8600 - val_loss: 0.4380 - val_accuracy: 0.8358\n",
      "Epoch 438/500\n",
      "757/757 [==============================] - 0s 98us/sample - loss: 0.3683 - accuracy: 0.8639 - val_loss: 0.4368 - val_accuracy: 0.8358\n",
      "Epoch 439/500\n",
      "757/757 [==============================] - 0s 89us/sample - loss: 0.3735 - accuracy: 0.8600 - val_loss: 0.4365 - val_accuracy: 0.8284\n",
      "Epoch 440/500\n",
      "757/757 [==============================] - 0s 89us/sample - loss: 0.3804 - accuracy: 0.8573 - val_loss: 0.4367 - val_accuracy: 0.8209\n",
      "Epoch 441/500\n",
      "757/757 [==============================] - 0s 96us/sample - loss: 0.3601 - accuracy: 0.8666 - val_loss: 0.4343 - val_accuracy: 0.8284\n",
      "Epoch 442/500\n",
      "757/757 [==============================] - 0s 95us/sample - loss: 0.3592 - accuracy: 0.8679 - val_loss: 0.4388 - val_accuracy: 0.8209\n",
      "Epoch 443/500\n",
      "757/757 [==============================] - 0s 89us/sample - loss: 0.3753 - accuracy: 0.8600 - val_loss: 0.4346 - val_accuracy: 0.8358\n",
      "Epoch 444/500\n",
      "757/757 [==============================] - 0s 94us/sample - loss: 0.3609 - accuracy: 0.8679 - val_loss: 0.4462 - val_accuracy: 0.8209\n",
      "Epoch 445/500\n",
      "757/757 [==============================] - 0s 96us/sample - loss: 0.3689 - accuracy: 0.8613 - val_loss: 0.4442 - val_accuracy: 0.8284\n",
      "Epoch 446/500\n",
      "757/757 [==============================] - 0s 86us/sample - loss: 0.3684 - accuracy: 0.8600 - val_loss: 0.4385 - val_accuracy: 0.8358\n",
      "Epoch 447/500\n",
      "757/757 [==============================] - 0s 124us/sample - loss: 0.3668 - accuracy: 0.8613 - val_loss: 0.4344 - val_accuracy: 0.8358\n",
      "Epoch 448/500\n",
      "757/757 [==============================] - 0s 102us/sample - loss: 0.3668 - accuracy: 0.8653 - val_loss: 0.4373 - val_accuracy: 0.8284\n",
      "Epoch 449/500\n",
      "757/757 [==============================] - 0s 113us/sample - loss: 0.3663 - accuracy: 0.8692 - val_loss: 0.4442 - val_accuracy: 0.8284\n",
      "Epoch 450/500\n",
      "757/757 [==============================] - 0s 117us/sample - loss: 0.3760 - accuracy: 0.8705 - val_loss: 0.4386 - val_accuracy: 0.8209\n",
      "Epoch 451/500\n",
      "757/757 [==============================] - 0s 102us/sample - loss: 0.3831 - accuracy: 0.8666 - val_loss: 0.4423 - val_accuracy: 0.8358\n",
      "Epoch 452/500\n",
      "757/757 [==============================] - 0s 106us/sample - loss: 0.3670 - accuracy: 0.8560 - val_loss: 0.4403 - val_accuracy: 0.8284\n",
      "Epoch 453/500\n",
      "757/757 [==============================] - 0s 107us/sample - loss: 0.3722 - accuracy: 0.8560 - val_loss: 0.4352 - val_accuracy: 0.8284\n",
      "Epoch 454/500\n",
      "757/757 [==============================] - 0s 103us/sample - loss: 0.3659 - accuracy: 0.8653 - val_loss: 0.4365 - val_accuracy: 0.8284\n",
      "Epoch 455/500\n",
      "757/757 [==============================] - 0s 109us/sample - loss: 0.3743 - accuracy: 0.8666 - val_loss: 0.4359 - val_accuracy: 0.8358\n",
      "Epoch 456/500\n",
      "757/757 [==============================] - 0s 105us/sample - loss: 0.3677 - accuracy: 0.8534 - val_loss: 0.4371 - val_accuracy: 0.8358\n",
      "Epoch 457/500\n",
      "757/757 [==============================] - 0s 89us/sample - loss: 0.3656 - accuracy: 0.8758 - val_loss: 0.4406 - val_accuracy: 0.8284\n",
      "Epoch 458/500\n",
      "757/757 [==============================] - 0s 99us/sample - loss: 0.3745 - accuracy: 0.8666 - val_loss: 0.4412 - val_accuracy: 0.8209\n",
      "Epoch 459/500\n",
      "757/757 [==============================] - 0s 97us/sample - loss: 0.3705 - accuracy: 0.8639 - val_loss: 0.4372 - val_accuracy: 0.8284\n",
      "Epoch 460/500\n",
      "757/757 [==============================] - 0s 97us/sample - loss: 0.3750 - accuracy: 0.8653 - val_loss: 0.4393 - val_accuracy: 0.8284\n",
      "Epoch 461/500\n",
      "757/757 [==============================] - 0s 90us/sample - loss: 0.3725 - accuracy: 0.8520 - val_loss: 0.4345 - val_accuracy: 0.8358\n",
      "Epoch 462/500\n",
      "757/757 [==============================] - 0s 122us/sample - loss: 0.3723 - accuracy: 0.8560 - val_loss: 0.4341 - val_accuracy: 0.8358\n",
      "Epoch 463/500\n",
      "757/757 [==============================] - 0s 103us/sample - loss: 0.3701 - accuracy: 0.8600 - val_loss: 0.4371 - val_accuracy: 0.8284\n",
      "Epoch 464/500\n",
      "757/757 [==============================] - 0s 89us/sample - loss: 0.3726 - accuracy: 0.8745 - val_loss: 0.4382 - val_accuracy: 0.8358\n",
      "Epoch 465/500\n",
      "757/757 [==============================] - 0s 87us/sample - loss: 0.3646 - accuracy: 0.8666 - val_loss: 0.4448 - val_accuracy: 0.8284\n",
      "Epoch 466/500\n",
      "757/757 [==============================] - 0s 104us/sample - loss: 0.3860 - accuracy: 0.8573 - val_loss: 0.4324 - val_accuracy: 0.8284\n",
      "Epoch 467/500\n",
      "757/757 [==============================] - 0s 123us/sample - loss: 0.3715 - accuracy: 0.8692 - val_loss: 0.4415 - val_accuracy: 0.8284\n",
      "Epoch 468/500\n",
      "757/757 [==============================] - 0s 88us/sample - loss: 0.3652 - accuracy: 0.8613 - val_loss: 0.4367 - val_accuracy: 0.8358\n",
      "Epoch 469/500\n",
      "757/757 [==============================] - 0s 87us/sample - loss: 0.3721 - accuracy: 0.8692 - val_loss: 0.4341 - val_accuracy: 0.8358\n",
      "Epoch 470/500\n",
      "757/757 [==============================] - 0s 89us/sample - loss: 0.3645 - accuracy: 0.8705 - val_loss: 0.4388 - val_accuracy: 0.8284\n",
      "Epoch 471/500\n",
      "757/757 [==============================] - 0s 163us/sample - loss: 0.3629 - accuracy: 0.8547 - val_loss: 0.4376 - val_accuracy: 0.8284\n",
      "Epoch 472/500\n",
      "757/757 [==============================] - 0s 114us/sample - loss: 0.3598 - accuracy: 0.8600 - val_loss: 0.4402 - val_accuracy: 0.8284\n",
      "Epoch 473/500\n",
      "757/757 [==============================] - 0s 98us/sample - loss: 0.3602 - accuracy: 0.8639 - val_loss: 0.4360 - val_accuracy: 0.8284\n",
      "Epoch 474/500\n",
      "757/757 [==============================] - 0s 100us/sample - loss: 0.3668 - accuracy: 0.8613 - val_loss: 0.4372 - val_accuracy: 0.8284\n",
      "Epoch 475/500\n",
      "757/757 [==============================] - 0s 97us/sample - loss: 0.3655 - accuracy: 0.8613 - val_loss: 0.4376 - val_accuracy: 0.8358\n",
      "Epoch 476/500\n",
      "757/757 [==============================] - 0s 99us/sample - loss: 0.3648 - accuracy: 0.8639 - val_loss: 0.4372 - val_accuracy: 0.8284\n",
      "Epoch 477/500\n",
      "757/757 [==============================] - 0s 101us/sample - loss: 0.3661 - accuracy: 0.8600 - val_loss: 0.4447 - val_accuracy: 0.8209\n",
      "Epoch 478/500\n",
      "757/757 [==============================] - 0s 103us/sample - loss: 0.3734 - accuracy: 0.8653 - val_loss: 0.4379 - val_accuracy: 0.8209\n",
      "Epoch 479/500\n",
      "757/757 [==============================] - 0s 101us/sample - loss: 0.3742 - accuracy: 0.8666 - val_loss: 0.4396 - val_accuracy: 0.8358\n",
      "Epoch 480/500\n",
      "757/757 [==============================] - 0s 98us/sample - loss: 0.3705 - accuracy: 0.8613 - val_loss: 0.4392 - val_accuracy: 0.8284\n",
      "Epoch 481/500\n",
      "757/757 [==============================] - 0s 97us/sample - loss: 0.3666 - accuracy: 0.8745 - val_loss: 0.4389 - val_accuracy: 0.8284\n",
      "Epoch 482/500\n",
      "757/757 [==============================] - 0s 98us/sample - loss: 0.3728 - accuracy: 0.8613 - val_loss: 0.4331 - val_accuracy: 0.8358\n",
      "Epoch 483/500\n",
      "757/757 [==============================] - 0s 107us/sample - loss: 0.3692 - accuracy: 0.8653 - val_loss: 0.4378 - val_accuracy: 0.8358\n",
      "Epoch 484/500\n",
      "757/757 [==============================] - 0s 100us/sample - loss: 0.3678 - accuracy: 0.8626 - val_loss: 0.4370 - val_accuracy: 0.8284\n",
      "Epoch 485/500\n",
      "757/757 [==============================] - 0s 100us/sample - loss: 0.3607 - accuracy: 0.8692 - val_loss: 0.4429 - val_accuracy: 0.8284\n",
      "Epoch 486/500\n",
      "757/757 [==============================] - 0s 102us/sample - loss: 0.3738 - accuracy: 0.8613 - val_loss: 0.4413 - val_accuracy: 0.8358\n",
      "Epoch 487/500\n",
      "757/757 [==============================] - 0s 100us/sample - loss: 0.3661 - accuracy: 0.8560 - val_loss: 0.4403 - val_accuracy: 0.8284\n",
      "Epoch 488/500\n",
      "757/757 [==============================] - 0s 99us/sample - loss: 0.3757 - accuracy: 0.8560 - val_loss: 0.4340 - val_accuracy: 0.8284\n",
      "Epoch 489/500\n",
      "757/757 [==============================] - 0s 97us/sample - loss: 0.3593 - accuracy: 0.8626 - val_loss: 0.4390 - val_accuracy: 0.8209\n",
      "Epoch 490/500\n",
      "757/757 [==============================] - 0s 99us/sample - loss: 0.3798 - accuracy: 0.8587 - val_loss: 0.4342 - val_accuracy: 0.8284\n",
      "Epoch 491/500\n",
      "757/757 [==============================] - 0s 103us/sample - loss: 0.3687 - accuracy: 0.8587 - val_loss: 0.4328 - val_accuracy: 0.8284\n",
      "Epoch 492/500\n",
      "757/757 [==============================] - 0s 99us/sample - loss: 0.3627 - accuracy: 0.8679 - val_loss: 0.4469 - val_accuracy: 0.8134\n",
      "Epoch 493/500\n",
      "757/757 [==============================] - 0s 99us/sample - loss: 0.3639 - accuracy: 0.8547 - val_loss: 0.4351 - val_accuracy: 0.8284\n",
      "Epoch 494/500\n",
      "757/757 [==============================] - 0s 102us/sample - loss: 0.3635 - accuracy: 0.8679 - val_loss: 0.4425 - val_accuracy: 0.8209\n",
      "Epoch 495/500\n",
      "757/757 [==============================] - 0s 119us/sample - loss: 0.3605 - accuracy: 0.8679 - val_loss: 0.4400 - val_accuracy: 0.8284\n",
      "Epoch 496/500\n",
      "757/757 [==============================] - 0s 101us/sample - loss: 0.3619 - accuracy: 0.8653 - val_loss: 0.4398 - val_accuracy: 0.8358\n",
      "Epoch 497/500\n",
      "757/757 [==============================] - 0s 89us/sample - loss: 0.3740 - accuracy: 0.8573 - val_loss: 0.4421 - val_accuracy: 0.8284\n",
      "Epoch 498/500\n",
      "757/757 [==============================] - 0s 88us/sample - loss: 0.3726 - accuracy: 0.8573 - val_loss: 0.4338 - val_accuracy: 0.8358\n",
      "Epoch 499/500\n",
      "757/757 [==============================] - 0s 88us/sample - loss: 0.3753 - accuracy: 0.8600 - val_loss: 0.4414 - val_accuracy: 0.8284\n",
      "Epoch 500/500\n",
      "757/757 [==============================] - 0s 89us/sample - loss: 0.3637 - accuracy: 0.8626 - val_loss: 0.4398 - val_accuracy: 0.8284\n",
      "Train on 757 samples, validate on 134 samples\n",
      "Epoch 1/500\n",
      "757/757 [==============================] - 1s 1ms/sample - loss: 0.6853 - accuracy: 0.6209 - val_loss: 0.6786 - val_accuracy: 0.5821\n",
      "Epoch 2/500\n",
      "757/757 [==============================] - 0s 88us/sample - loss: 0.6679 - accuracy: 0.6116 - val_loss: 0.6569 - val_accuracy: 0.5821\n",
      "Epoch 3/500\n",
      "757/757 [==============================] - 0s 98us/sample - loss: 0.6534 - accuracy: 0.6169 - val_loss: 0.6344 - val_accuracy: 0.5821\n",
      "Epoch 4/500\n",
      "757/757 [==============================] - 0s 89us/sample - loss: 0.6290 - accuracy: 0.6328 - val_loss: 0.6048 - val_accuracy: 0.5821\n",
      "Epoch 5/500\n",
      "757/757 [==============================] - 0s 89us/sample - loss: 0.6087 - accuracy: 0.6618 - val_loss: 0.5674 - val_accuracy: 0.7612\n",
      "Epoch 6/500\n",
      "757/757 [==============================] - 0s 87us/sample - loss: 0.5695 - accuracy: 0.7133 - val_loss: 0.5353 - val_accuracy: 0.7836\n",
      "Epoch 7/500\n",
      "757/757 [==============================] - 0s 86us/sample - loss: 0.5583 - accuracy: 0.7332 - val_loss: 0.5135 - val_accuracy: 0.7910\n",
      "Epoch 8/500\n",
      "757/757 [==============================] - 0s 88us/sample - loss: 0.5253 - accuracy: 0.7609 - val_loss: 0.4964 - val_accuracy: 0.7910\n",
      "Epoch 9/500\n",
      "757/757 [==============================] - 0s 88us/sample - loss: 0.5201 - accuracy: 0.7609 - val_loss: 0.4861 - val_accuracy: 0.7910\n",
      "Epoch 10/500\n",
      "757/757 [==============================] - 0s 106us/sample - loss: 0.5027 - accuracy: 0.7820 - val_loss: 0.4798 - val_accuracy: 0.7910\n",
      "Epoch 11/500\n",
      "757/757 [==============================] - 0s 101us/sample - loss: 0.4903 - accuracy: 0.7939 - val_loss: 0.4753 - val_accuracy: 0.7910\n",
      "Epoch 12/500\n",
      "757/757 [==============================] - 0s 87us/sample - loss: 0.4916 - accuracy: 0.7913 - val_loss: 0.4727 - val_accuracy: 0.7836\n",
      "Epoch 13/500\n",
      "757/757 [==============================] - 0s 89us/sample - loss: 0.4904 - accuracy: 0.7900 - val_loss: 0.4721 - val_accuracy: 0.7910\n",
      "Epoch 14/500\n",
      "757/757 [==============================] - 0s 89us/sample - loss: 0.4962 - accuracy: 0.7913 - val_loss: 0.4688 - val_accuracy: 0.7836\n",
      "Epoch 15/500\n",
      "757/757 [==============================] - 0s 86us/sample - loss: 0.4830 - accuracy: 0.7794 - val_loss: 0.4676 - val_accuracy: 0.7836\n",
      "Epoch 16/500\n",
      "757/757 [==============================] - 0s 90us/sample - loss: 0.4899 - accuracy: 0.7900 - val_loss: 0.4650 - val_accuracy: 0.7836\n",
      "Epoch 17/500\n",
      "757/757 [==============================] - 0s 87us/sample - loss: 0.4738 - accuracy: 0.7992 - val_loss: 0.4634 - val_accuracy: 0.7985\n",
      "Epoch 18/500\n",
      "757/757 [==============================] - 0s 89us/sample - loss: 0.4627 - accuracy: 0.7966 - val_loss: 0.4611 - val_accuracy: 0.7985\n",
      "Epoch 19/500\n",
      "757/757 [==============================] - 0s 89us/sample - loss: 0.4568 - accuracy: 0.7952 - val_loss: 0.4592 - val_accuracy: 0.7985\n",
      "Epoch 20/500\n",
      "757/757 [==============================] - 0s 87us/sample - loss: 0.4668 - accuracy: 0.8124 - val_loss: 0.4596 - val_accuracy: 0.8134\n",
      "Epoch 21/500\n",
      "757/757 [==============================] - 0s 89us/sample - loss: 0.4637 - accuracy: 0.8045 - val_loss: 0.4551 - val_accuracy: 0.8134\n",
      "Epoch 22/500\n",
      "757/757 [==============================] - 0s 89us/sample - loss: 0.4589 - accuracy: 0.8018 - val_loss: 0.4539 - val_accuracy: 0.8134\n",
      "Epoch 23/500\n",
      "757/757 [==============================] - 0s 91us/sample - loss: 0.4546 - accuracy: 0.7992 - val_loss: 0.4547 - val_accuracy: 0.8134\n",
      "Epoch 24/500\n",
      "757/757 [==============================] - 0s 105us/sample - loss: 0.4545 - accuracy: 0.8071 - val_loss: 0.4486 - val_accuracy: 0.8134\n",
      "Epoch 25/500\n",
      "757/757 [==============================] - 0s 88us/sample - loss: 0.4548 - accuracy: 0.8164 - val_loss: 0.4474 - val_accuracy: 0.8134\n",
      "Epoch 26/500\n",
      "757/757 [==============================] - 0s 96us/sample - loss: 0.4511 - accuracy: 0.8045 - val_loss: 0.4478 - val_accuracy: 0.8134\n",
      "Epoch 27/500\n",
      "757/757 [==============================] - 0s 88us/sample - loss: 0.4506 - accuracy: 0.8164 - val_loss: 0.4453 - val_accuracy: 0.8284\n",
      "Epoch 28/500\n",
      "757/757 [==============================] - 0s 100us/sample - loss: 0.4369 - accuracy: 0.8217 - val_loss: 0.4432 - val_accuracy: 0.8358\n",
      "Epoch 29/500\n",
      "757/757 [==============================] - 0s 89us/sample - loss: 0.4342 - accuracy: 0.8283 - val_loss: 0.4409 - val_accuracy: 0.8284\n",
      "Epoch 30/500\n",
      "757/757 [==============================] - 0s 96us/sample - loss: 0.4287 - accuracy: 0.8283 - val_loss: 0.4396 - val_accuracy: 0.8209\n",
      "Epoch 31/500\n",
      "757/757 [==============================] - 0s 89us/sample - loss: 0.4506 - accuracy: 0.8230 - val_loss: 0.4389 - val_accuracy: 0.8209\n",
      "Epoch 32/500\n",
      "757/757 [==============================] - 0s 95us/sample - loss: 0.4361 - accuracy: 0.8349 - val_loss: 0.4390 - val_accuracy: 0.8209\n",
      "Epoch 33/500\n",
      "757/757 [==============================] - 0s 96us/sample - loss: 0.4463 - accuracy: 0.8190 - val_loss: 0.4349 - val_accuracy: 0.8209\n",
      "Epoch 34/500\n",
      "757/757 [==============================] - 0s 89us/sample - loss: 0.4320 - accuracy: 0.8309 - val_loss: 0.4346 - val_accuracy: 0.8284\n",
      "Epoch 35/500\n",
      "757/757 [==============================] - 0s 89us/sample - loss: 0.4371 - accuracy: 0.8269 - val_loss: 0.4366 - val_accuracy: 0.8209\n",
      "Epoch 36/500\n",
      "757/757 [==============================] - 0s 96us/sample - loss: 0.4411 - accuracy: 0.8256 - val_loss: 0.4329 - val_accuracy: 0.8284\n",
      "Epoch 37/500\n",
      "757/757 [==============================] - 0s 92us/sample - loss: 0.4411 - accuracy: 0.8203 - val_loss: 0.4338 - val_accuracy: 0.8284\n",
      "Epoch 38/500\n",
      "757/757 [==============================] - 0s 99us/sample - loss: 0.4229 - accuracy: 0.8349 - val_loss: 0.4322 - val_accuracy: 0.8284\n",
      "Epoch 39/500\n",
      "757/757 [==============================] - 0s 88us/sample - loss: 0.4279 - accuracy: 0.8296 - val_loss: 0.4315 - val_accuracy: 0.8284\n",
      "Epoch 40/500\n",
      "757/757 [==============================] - 0s 87us/sample - loss: 0.4304 - accuracy: 0.8296 - val_loss: 0.4299 - val_accuracy: 0.8284\n",
      "Epoch 41/500\n",
      "757/757 [==============================] - 0s 87us/sample - loss: 0.4209 - accuracy: 0.8296 - val_loss: 0.4297 - val_accuracy: 0.8358\n",
      "Epoch 42/500\n",
      "757/757 [==============================] - 0s 89us/sample - loss: 0.4222 - accuracy: 0.8322 - val_loss: 0.4300 - val_accuracy: 0.8284\n",
      "Epoch 43/500\n",
      "757/757 [==============================] - 0s 97us/sample - loss: 0.4356 - accuracy: 0.8362 - val_loss: 0.4279 - val_accuracy: 0.8358\n",
      "Epoch 44/500\n",
      "757/757 [==============================] - 0s 86us/sample - loss: 0.4306 - accuracy: 0.8283 - val_loss: 0.4259 - val_accuracy: 0.8358\n",
      "Epoch 45/500\n",
      "757/757 [==============================] - 0s 88us/sample - loss: 0.4260 - accuracy: 0.8322 - val_loss: 0.4268 - val_accuracy: 0.8358\n",
      "Epoch 46/500\n",
      "757/757 [==============================] - 0s 88us/sample - loss: 0.4332 - accuracy: 0.8468 - val_loss: 0.4261 - val_accuracy: 0.8284\n",
      "Epoch 47/500\n",
      "757/757 [==============================] - 0s 90us/sample - loss: 0.4136 - accuracy: 0.8441 - val_loss: 0.4276 - val_accuracy: 0.8284\n",
      "Epoch 48/500\n",
      "757/757 [==============================] - 0s 97us/sample - loss: 0.4213 - accuracy: 0.8428 - val_loss: 0.4256 - val_accuracy: 0.8284\n",
      "Epoch 49/500\n",
      "757/757 [==============================] - 0s 101us/sample - loss: 0.4227 - accuracy: 0.8494 - val_loss: 0.4260 - val_accuracy: 0.8284\n",
      "Epoch 50/500\n",
      "757/757 [==============================] - 0s 96us/sample - loss: 0.4234 - accuracy: 0.8375 - val_loss: 0.4261 - val_accuracy: 0.8284\n",
      "Epoch 51/500\n",
      "757/757 [==============================] - 0s 96us/sample - loss: 0.4240 - accuracy: 0.8362 - val_loss: 0.4263 - val_accuracy: 0.8284\n",
      "Epoch 52/500\n",
      "757/757 [==============================] - 0s 98us/sample - loss: 0.4226 - accuracy: 0.8296 - val_loss: 0.4276 - val_accuracy: 0.8284\n",
      "Epoch 53/500\n",
      "757/757 [==============================] - 0s 89us/sample - loss: 0.4145 - accuracy: 0.8402 - val_loss: 0.4274 - val_accuracy: 0.8284\n",
      "Epoch 54/500\n",
      "757/757 [==============================] - 0s 97us/sample - loss: 0.4115 - accuracy: 0.8481 - val_loss: 0.4251 - val_accuracy: 0.8284\n",
      "Epoch 55/500\n",
      "757/757 [==============================] - 0s 90us/sample - loss: 0.4227 - accuracy: 0.8375 - val_loss: 0.4236 - val_accuracy: 0.8284\n",
      "Epoch 56/500\n",
      "757/757 [==============================] - 0s 98us/sample - loss: 0.4188 - accuracy: 0.8415 - val_loss: 0.4241 - val_accuracy: 0.8284\n",
      "Epoch 57/500\n",
      "757/757 [==============================] - 0s 90us/sample - loss: 0.4245 - accuracy: 0.8375 - val_loss: 0.4246 - val_accuracy: 0.8284\n",
      "Epoch 58/500\n",
      "757/757 [==============================] - 0s 98us/sample - loss: 0.4145 - accuracy: 0.8388 - val_loss: 0.4299 - val_accuracy: 0.8358\n",
      "Epoch 59/500\n",
      "757/757 [==============================] - 0s 98us/sample - loss: 0.4126 - accuracy: 0.8428 - val_loss: 0.4265 - val_accuracy: 0.8358\n",
      "Epoch 60/500\n",
      "757/757 [==============================] - 0s 88us/sample - loss: 0.4270 - accuracy: 0.8203 - val_loss: 0.4289 - val_accuracy: 0.8358\n",
      "Epoch 61/500\n",
      "757/757 [==============================] - 0s 89us/sample - loss: 0.4054 - accuracy: 0.8573 - val_loss: 0.4248 - val_accuracy: 0.8284\n",
      "Epoch 62/500\n",
      "757/757 [==============================] - 0s 87us/sample - loss: 0.4151 - accuracy: 0.8494 - val_loss: 0.4199 - val_accuracy: 0.8284\n",
      "Epoch 63/500\n",
      "757/757 [==============================] - 0s 96us/sample - loss: 0.4293 - accuracy: 0.8362 - val_loss: 0.4193 - val_accuracy: 0.8284\n",
      "Epoch 64/500\n",
      "757/757 [==============================] - 0s 98us/sample - loss: 0.4151 - accuracy: 0.8415 - val_loss: 0.4210 - val_accuracy: 0.8284\n",
      "Epoch 65/500\n",
      "757/757 [==============================] - 0s 90us/sample - loss: 0.4144 - accuracy: 0.8428 - val_loss: 0.4214 - val_accuracy: 0.8284\n",
      "Epoch 66/500\n",
      "757/757 [==============================] - 0s 87us/sample - loss: 0.4195 - accuracy: 0.8309 - val_loss: 0.4204 - val_accuracy: 0.8284\n",
      "Epoch 67/500\n",
      "757/757 [==============================] - 0s 89us/sample - loss: 0.4078 - accuracy: 0.8375 - val_loss: 0.4207 - val_accuracy: 0.8284\n",
      "Epoch 68/500\n",
      "757/757 [==============================] - 0s 87us/sample - loss: 0.4203 - accuracy: 0.8441 - val_loss: 0.4224 - val_accuracy: 0.8284\n",
      "Epoch 69/500\n",
      "757/757 [==============================] - 0s 92us/sample - loss: 0.4284 - accuracy: 0.8428 - val_loss: 0.4192 - val_accuracy: 0.8284\n",
      "Epoch 70/500\n",
      "757/757 [==============================] - 0s 90us/sample - loss: 0.4121 - accuracy: 0.8309 - val_loss: 0.4193 - val_accuracy: 0.8284\n",
      "Epoch 71/500\n",
      "757/757 [==============================] - 0s 90us/sample - loss: 0.4105 - accuracy: 0.8375 - val_loss: 0.4202 - val_accuracy: 0.8284\n",
      "Epoch 72/500\n",
      "757/757 [==============================] - 0s 89us/sample - loss: 0.4073 - accuracy: 0.8507 - val_loss: 0.4197 - val_accuracy: 0.8284\n",
      "Epoch 73/500\n",
      "757/757 [==============================] - 0s 89us/sample - loss: 0.4179 - accuracy: 0.8415 - val_loss: 0.4175 - val_accuracy: 0.8284\n",
      "Epoch 74/500\n",
      "757/757 [==============================] - 0s 89us/sample - loss: 0.4131 - accuracy: 0.8494 - val_loss: 0.4214 - val_accuracy: 0.8284\n",
      "Epoch 75/500\n",
      "757/757 [==============================] - 0s 96us/sample - loss: 0.4048 - accuracy: 0.8375 - val_loss: 0.4211 - val_accuracy: 0.8358\n",
      "Epoch 76/500\n",
      "757/757 [==============================] - 0s 87us/sample - loss: 0.4135 - accuracy: 0.8349 - val_loss: 0.4263 - val_accuracy: 0.8284\n",
      "Epoch 77/500\n",
      "757/757 [==============================] - 0s 87us/sample - loss: 0.4137 - accuracy: 0.8388 - val_loss: 0.4217 - val_accuracy: 0.8358\n",
      "Epoch 78/500\n",
      "757/757 [==============================] - 0s 98us/sample - loss: 0.3980 - accuracy: 0.8362 - val_loss: 0.4232 - val_accuracy: 0.8209\n",
      "Epoch 79/500\n",
      "757/757 [==============================] - 0s 89us/sample - loss: 0.4092 - accuracy: 0.8375 - val_loss: 0.4167 - val_accuracy: 0.8284\n",
      "Epoch 80/500\n",
      "757/757 [==============================] - 0s 90us/sample - loss: 0.4064 - accuracy: 0.8402 - val_loss: 0.4196 - val_accuracy: 0.8433\n",
      "Epoch 81/500\n",
      "757/757 [==============================] - 0s 88us/sample - loss: 0.4021 - accuracy: 0.8454 - val_loss: 0.4213 - val_accuracy: 0.8358\n",
      "Epoch 82/500\n",
      "757/757 [==============================] - 0s 90us/sample - loss: 0.4051 - accuracy: 0.8428 - val_loss: 0.4222 - val_accuracy: 0.8284\n",
      "Epoch 83/500\n",
      "757/757 [==============================] - 0s 91us/sample - loss: 0.4132 - accuracy: 0.8454 - val_loss: 0.4214 - val_accuracy: 0.8284\n",
      "Epoch 84/500\n",
      "757/757 [==============================] - 0s 87us/sample - loss: 0.4033 - accuracy: 0.8454 - val_loss: 0.4241 - val_accuracy: 0.8209\n",
      "Epoch 85/500\n",
      "757/757 [==============================] - 0s 97us/sample - loss: 0.4064 - accuracy: 0.8494 - val_loss: 0.4195 - val_accuracy: 0.8284\n",
      "Epoch 86/500\n",
      "757/757 [==============================] - 0s 89us/sample - loss: 0.4168 - accuracy: 0.8336 - val_loss: 0.4177 - val_accuracy: 0.8358\n",
      "Epoch 87/500\n",
      "757/757 [==============================] - 0s 90us/sample - loss: 0.4184 - accuracy: 0.8415 - val_loss: 0.4195 - val_accuracy: 0.8284\n",
      "Epoch 88/500\n",
      "757/757 [==============================] - 0s 90us/sample - loss: 0.4096 - accuracy: 0.8428 - val_loss: 0.4203 - val_accuracy: 0.8358\n",
      "Epoch 89/500\n",
      "757/757 [==============================] - 0s 90us/sample - loss: 0.4061 - accuracy: 0.8494 - val_loss: 0.4173 - val_accuracy: 0.8358\n",
      "Epoch 90/500\n",
      "757/757 [==============================] - 0s 87us/sample - loss: 0.4110 - accuracy: 0.8441 - val_loss: 0.4215 - val_accuracy: 0.8209\n",
      "Epoch 91/500\n",
      "757/757 [==============================] - 0s 109us/sample - loss: 0.4020 - accuracy: 0.8402 - val_loss: 0.4220 - val_accuracy: 0.8284\n",
      "Epoch 92/500\n",
      "757/757 [==============================] - 0s 109us/sample - loss: 0.4173 - accuracy: 0.8362 - val_loss: 0.4244 - val_accuracy: 0.8209\n",
      "Epoch 93/500\n",
      "757/757 [==============================] - 0s 89us/sample - loss: 0.4110 - accuracy: 0.8375 - val_loss: 0.4199 - val_accuracy: 0.8284\n",
      "Epoch 94/500\n",
      "757/757 [==============================] - 0s 89us/sample - loss: 0.4203 - accuracy: 0.8402 - val_loss: 0.4179 - val_accuracy: 0.8358\n",
      "Epoch 95/500\n",
      "757/757 [==============================] - 0s 86us/sample - loss: 0.4056 - accuracy: 0.8454 - val_loss: 0.4163 - val_accuracy: 0.8358\n",
      "Epoch 96/500\n",
      "757/757 [==============================] - 0s 89us/sample - loss: 0.3670 - accuracy: 0.8534 - val_loss: 0.4103 - val_accuracy: 0.8657\n",
      "Epoch 76/500\n",
      "757/757 [==============================] - 0s 98us/sample - loss: 0.3770 - accuracy: 0.8494 - val_loss: 0.4484 - val_accuracy: 0.8284\n",
      "Epoch 77/500\n",
      "757/757 [==============================] - 0s 88us/sample - loss: 0.3814 - accuracy: 0.8573 - val_loss: 0.3977 - val_accuracy: 0.8284\n",
      "Epoch 78/500\n",
      "757/757 [==============================] - 0s 87us/sample - loss: 0.3744 - accuracy: 0.8454 - val_loss: 0.4088 - val_accuracy: 0.8582\n",
      "Epoch 79/500\n",
      "757/757 [==============================] - 0s 89us/sample - loss: 0.3678 - accuracy: 0.8494 - val_loss: 0.4413 - val_accuracy: 0.8284\n",
      "Epoch 80/500\n",
      "757/757 [==============================] - 0s 105us/sample - loss: 0.3735 - accuracy: 0.8494 - val_loss: 0.4230 - val_accuracy: 0.8507\n",
      "Epoch 81/500\n",
      "757/757 [==============================] - 0s 105us/sample - loss: 0.3611 - accuracy: 0.8666 - val_loss: 0.4104 - val_accuracy: 0.8582\n",
      "Epoch 82/500\n",
      "757/757 [==============================] - 0s 108us/sample - loss: 0.3661 - accuracy: 0.8587 - val_loss: 0.4141 - val_accuracy: 0.8507\n",
      "Epoch 83/500\n",
      "757/757 [==============================] - 0s 106us/sample - loss: 0.3665 - accuracy: 0.8587 - val_loss: 0.4595 - val_accuracy: 0.8209\n",
      "Epoch 84/500\n",
      "757/757 [==============================] - 0s 103us/sample - loss: 0.3714 - accuracy: 0.8653 - val_loss: 0.4206 - val_accuracy: 0.8507\n",
      "Epoch 85/500\n",
      "757/757 [==============================] - 0s 101us/sample - loss: 0.3590 - accuracy: 0.8666 - val_loss: 0.4557 - val_accuracy: 0.8284\n",
      "Epoch 86/500\n",
      "757/757 [==============================] - 0s 93us/sample - loss: 0.3647 - accuracy: 0.8626 - val_loss: 0.4227 - val_accuracy: 0.8507\n",
      "Epoch 87/500\n",
      "757/757 [==============================] - 0s 107us/sample - loss: 0.3757 - accuracy: 0.8507 - val_loss: 0.4143 - val_accuracy: 0.8507\n",
      "Epoch 88/500\n",
      "757/757 [==============================] - 0s 101us/sample - loss: 0.3559 - accuracy: 0.8679 - val_loss: 0.4268 - val_accuracy: 0.8358\n",
      "Epoch 89/500\n",
      "757/757 [==============================] - 0s 87us/sample - loss: 0.3645 - accuracy: 0.8547 - val_loss: 0.4058 - val_accuracy: 0.8433\n",
      "Epoch 90/500\n",
      "757/757 [==============================] - 0s 88us/sample - loss: 0.3634 - accuracy: 0.8613 - val_loss: 0.4237 - val_accuracy: 0.8507\n",
      "Epoch 91/500\n",
      "757/757 [==============================] - 0s 114us/sample - loss: 0.3575 - accuracy: 0.8507 - val_loss: 0.4194 - val_accuracy: 0.8433\n",
      "Epoch 92/500\n",
      "757/757 [==============================] - 0s 107us/sample - loss: 0.3698 - accuracy: 0.8639 - val_loss: 0.4166 - val_accuracy: 0.8507\n",
      "Epoch 93/500\n",
      "757/757 [==============================] - 0s 86us/sample - loss: 0.3626 - accuracy: 0.8626 - val_loss: 0.4187 - val_accuracy: 0.8582\n",
      "Epoch 94/500\n",
      "757/757 [==============================] - 0s 87us/sample - loss: 0.3731 - accuracy: 0.8494 - val_loss: 0.4176 - val_accuracy: 0.8284\n",
      "Epoch 95/500\n",
      "757/757 [==============================] - 0s 89us/sample - loss: 0.3589 - accuracy: 0.8679 - val_loss: 0.4139 - val_accuracy: 0.8582\n",
      "Epoch 96/500\n",
      "757/757 [==============================] - 0s 86us/sample - loss: 0.3513 - accuracy: 0.8573 - val_loss: 0.4068 - val_accuracy: 0.8358\n",
      "Epoch 97/500\n",
      "757/757 [==============================] - 0s 89us/sample - loss: 0.3552 - accuracy: 0.8626 - val_loss: 0.4286 - val_accuracy: 0.8507\n",
      "Epoch 98/500\n",
      "757/757 [==============================] - 0s 87us/sample - loss: 0.3585 - accuracy: 0.8600 - val_loss: 0.4122 - val_accuracy: 0.8507\n",
      "Epoch 99/500\n",
      "757/757 [==============================] - 0s 86us/sample - loss: 0.3571 - accuracy: 0.8534 - val_loss: 0.4112 - val_accuracy: 0.8433\n",
      "Epoch 100/500\n",
      "757/757 [==============================] - 0s 87us/sample - loss: 0.3639 - accuracy: 0.8520 - val_loss: 0.4185 - val_accuracy: 0.8582\n",
      "Epoch 101/500\n",
      "757/757 [==============================] - 0s 87us/sample - loss: 0.3751 - accuracy: 0.8547 - val_loss: 0.4046 - val_accuracy: 0.8507\n",
      "Epoch 102/500\n",
      "757/757 [==============================] - 0s 88us/sample - loss: 0.3534 - accuracy: 0.8626 - val_loss: 0.4149 - val_accuracy: 0.8284\n",
      "Epoch 103/500\n",
      "757/757 [==============================] - 0s 89us/sample - loss: 0.3600 - accuracy: 0.8560 - val_loss: 0.4100 - val_accuracy: 0.8582\n",
      "Epoch 104/500\n",
      "757/757 [==============================] - 0s 89us/sample - loss: 0.3559 - accuracy: 0.8679 - val_loss: 0.4203 - val_accuracy: 0.8433\n",
      "Epoch 105/500\n",
      "757/757 [==============================] - 0s 96us/sample - loss: 0.3552 - accuracy: 0.8613 - val_loss: 0.4012 - val_accuracy: 0.8507\n",
      "Epoch 106/500\n",
      "757/757 [==============================] - 0s 86us/sample - loss: 0.3690 - accuracy: 0.8507 - val_loss: 0.4515 - val_accuracy: 0.8358\n",
      "Epoch 107/500\n",
      "757/757 [==============================] - 0s 99us/sample - loss: 0.3613 - accuracy: 0.8666 - val_loss: 0.4032 - val_accuracy: 0.8358\n",
      "Epoch 108/500\n",
      "757/757 [==============================] - 0s 89us/sample - loss: 0.3569 - accuracy: 0.8587 - val_loss: 0.4274 - val_accuracy: 0.8284\n",
      "Epoch 109/500\n",
      "757/757 [==============================] - 0s 99us/sample - loss: 0.3598 - accuracy: 0.8481 - val_loss: 0.4349 - val_accuracy: 0.8284\n",
      "Epoch 110/500\n",
      "757/757 [==============================] - 0s 88us/sample - loss: 0.3580 - accuracy: 0.8587 - val_loss: 0.4372 - val_accuracy: 0.8209\n",
      "Epoch 111/500\n",
      "757/757 [==============================] - 0s 88us/sample - loss: 0.3575 - accuracy: 0.8587 - val_loss: 0.4337 - val_accuracy: 0.8433\n",
      "Epoch 112/500\n",
      "757/757 [==============================] - 0s 87us/sample - loss: 0.3621 - accuracy: 0.8507 - val_loss: 0.4419 - val_accuracy: 0.8582\n",
      "Epoch 113/500\n",
      "757/757 [==============================] - 0s 87us/sample - loss: 0.3676 - accuracy: 0.8560 - val_loss: 0.4326 - val_accuracy: 0.8433\n",
      "Epoch 114/500\n",
      "757/757 [==============================] - 0s 88us/sample - loss: 0.3778 - accuracy: 0.8534 - val_loss: 0.4281 - val_accuracy: 0.8433\n",
      "Epoch 115/500\n",
      "757/757 [==============================] - 0s 89us/sample - loss: 0.3562 - accuracy: 0.8626 - val_loss: 0.4258 - val_accuracy: 0.8358\n",
      "Epoch 116/500\n",
      "757/757 [==============================] - 0s 86us/sample - loss: 0.3599 - accuracy: 0.8560 - val_loss: 0.4065 - val_accuracy: 0.8582\n",
      "Epoch 117/500\n",
      "757/757 [==============================] - 0s 87us/sample - loss: 0.3569 - accuracy: 0.8613 - val_loss: 0.4234 - val_accuracy: 0.8358\n",
      "Epoch 118/500\n",
      "757/757 [==============================] - 0s 102us/sample - loss: 0.3565 - accuracy: 0.8666 - val_loss: 0.4125 - val_accuracy: 0.8507\n",
      "Epoch 119/500\n",
      "757/757 [==============================] - 0s 100us/sample - loss: 0.3587 - accuracy: 0.8481 - val_loss: 0.4280 - val_accuracy: 0.8433\n",
      "Epoch 120/500\n",
      "757/757 [==============================] - 0s 92us/sample - loss: 0.3549 - accuracy: 0.8653 - val_loss: 0.4284 - val_accuracy: 0.8433\n",
      "Epoch 121/500\n",
      "757/757 [==============================] - 0s 87us/sample - loss: 0.3597 - accuracy: 0.8600 - val_loss: 0.4684 - val_accuracy: 0.8209\n",
      "Epoch 122/500\n",
      "757/757 [==============================] - 0s 98us/sample - loss: 0.3609 - accuracy: 0.8587 - val_loss: 0.4351 - val_accuracy: 0.8507\n",
      "Epoch 123/500\n",
      "757/757 [==============================] - 0s 87us/sample - loss: 0.3472 - accuracy: 0.8719 - val_loss: 0.4528 - val_accuracy: 0.8507\n",
      "Epoch 124/500\n",
      "757/757 [==============================] - 0s 89us/sample - loss: 0.3603 - accuracy: 0.8560 - val_loss: 0.4262 - val_accuracy: 0.8284\n",
      "Epoch 125/500\n",
      "757/757 [==============================] - 0s 99us/sample - loss: 0.3561 - accuracy: 0.8653 - val_loss: 0.4516 - val_accuracy: 0.8134\n",
      "Epoch 126/500\n",
      "757/757 [==============================] - 0s 88us/sample - loss: 0.3567 - accuracy: 0.8639 - val_loss: 0.4317 - val_accuracy: 0.8582\n",
      "Epoch 127/500\n",
      "757/757 [==============================] - 0s 85us/sample - loss: 0.3599 - accuracy: 0.8639 - val_loss: 0.4178 - val_accuracy: 0.8507\n",
      "Epoch 128/500\n",
      "757/757 [==============================] - 0s 94us/sample - loss: 0.3569 - accuracy: 0.8560 - val_loss: 0.4289 - val_accuracy: 0.8507\n",
      "Epoch 129/500\n",
      "757/757 [==============================] - 0s 87us/sample - loss: 0.3567 - accuracy: 0.8626 - val_loss: 0.4489 - val_accuracy: 0.8433\n",
      "Epoch 130/500\n",
      "757/757 [==============================] - 0s 96us/sample - loss: 0.3560 - accuracy: 0.8639 - val_loss: 0.4363 - val_accuracy: 0.8284\n",
      "Epoch 131/500\n",
      "757/757 [==============================] - 0s 88us/sample - loss: 0.3525 - accuracy: 0.8626 - val_loss: 0.4479 - val_accuracy: 0.8209\n",
      "Epoch 132/500\n",
      "757/757 [==============================] - 0s 96us/sample - loss: 0.3475 - accuracy: 0.8666 - val_loss: 0.4710 - val_accuracy: 0.8284\n",
      "Epoch 133/500\n",
      "757/757 [==============================] - 0s 86us/sample - loss: 0.3518 - accuracy: 0.8679 - val_loss: 0.4342 - val_accuracy: 0.8358\n",
      "Epoch 134/500\n",
      "757/757 [==============================] - 0s 90us/sample - loss: 0.3548 - accuracy: 0.8705 - val_loss: 0.4798 - val_accuracy: 0.8284\n",
      "Epoch 135/500\n",
      "757/757 [==============================] - 0s 91us/sample - loss: 0.3490 - accuracy: 0.8653 - val_loss: 0.4532 - val_accuracy: 0.8358\n",
      "Epoch 136/500\n",
      "757/757 [==============================] - 0s 87us/sample - loss: 0.3529 - accuracy: 0.8692 - val_loss: 0.4645 - val_accuracy: 0.8060\n",
      "Epoch 137/500\n",
      "757/757 [==============================] - 0s 86us/sample - loss: 0.3469 - accuracy: 0.8626 - val_loss: 0.4532 - val_accuracy: 0.8358\n",
      "Epoch 138/500\n",
      "757/757 [==============================] - 0s 87us/sample - loss: 0.3533 - accuracy: 0.8626 - val_loss: 0.4523 - val_accuracy: 0.8284\n",
      "Epoch 139/500\n",
      "757/757 [==============================] - 0s 86us/sample - loss: 0.3548 - accuracy: 0.8626 - val_loss: 0.4392 - val_accuracy: 0.8507\n",
      "Epoch 140/500\n",
      "757/757 [==============================] - 0s 86us/sample - loss: 0.3500 - accuracy: 0.8626 - val_loss: 0.4264 - val_accuracy: 0.8582\n",
      "Epoch 141/500\n",
      "757/757 [==============================] - 0s 88us/sample - loss: 0.3514 - accuracy: 0.8587 - val_loss: 0.4431 - val_accuracy: 0.8284\n",
      "Epoch 142/500\n",
      "757/757 [==============================] - 0s 99us/sample - loss: 0.3603 - accuracy: 0.8626 - val_loss: 0.4364 - val_accuracy: 0.8433\n",
      "Epoch 143/500\n",
      "757/757 [==============================] - 0s 98us/sample - loss: 0.3493 - accuracy: 0.8692 - val_loss: 0.4264 - val_accuracy: 0.8433\n",
      "Epoch 144/500\n",
      "757/757 [==============================] - 0s 113us/sample - loss: 0.3540 - accuracy: 0.8587 - val_loss: 0.4069 - val_accuracy: 0.8657\n",
      "Epoch 145/500\n",
      "757/757 [==============================] - 0s 121us/sample - loss: 0.3538 - accuracy: 0.8613 - val_loss: 0.4804 - val_accuracy: 0.8209\n",
      "Epoch 146/500\n",
      "757/757 [==============================] - 0s 96us/sample - loss: 0.3498 - accuracy: 0.8653 - val_loss: 0.4262 - val_accuracy: 0.8433\n",
      "Epoch 147/500\n",
      "757/757 [==============================] - 0s 85us/sample - loss: 0.3559 - accuracy: 0.8613 - val_loss: 0.4488 - val_accuracy: 0.8433\n",
      "Epoch 148/500\n",
      "757/757 [==============================] - 0s 106us/sample - loss: 0.3484 - accuracy: 0.8613 - val_loss: 0.4308 - val_accuracy: 0.8433\n",
      "Epoch 149/500\n",
      "757/757 [==============================] - 0s 88us/sample - loss: 0.3551 - accuracy: 0.8679 - val_loss: 0.4536 - val_accuracy: 0.8284\n",
      "Epoch 150/500\n",
      "757/757 [==============================] - 0s 86us/sample - loss: 0.3537 - accuracy: 0.8626 - val_loss: 0.4434 - val_accuracy: 0.8358\n",
      "Epoch 151/500\n",
      "757/757 [==============================] - 0s 90us/sample - loss: 0.3558 - accuracy: 0.8626 - val_loss: 0.4315 - val_accuracy: 0.8433\n",
      "Epoch 152/500\n",
      "757/757 [==============================] - 0s 87us/sample - loss: 0.3522 - accuracy: 0.8573 - val_loss: 0.4219 - val_accuracy: 0.8582\n",
      "Epoch 153/500\n",
      "757/757 [==============================] - 0s 88us/sample - loss: 0.3540 - accuracy: 0.8560 - val_loss: 0.4456 - val_accuracy: 0.8134\n",
      "Epoch 154/500\n",
      "757/757 [==============================] - 0s 90us/sample - loss: 0.3555 - accuracy: 0.8600 - val_loss: 0.4096 - val_accuracy: 0.8507\n",
      "Epoch 155/500\n",
      "757/757 [==============================] - 0s 88us/sample - loss: 0.3463 - accuracy: 0.8732 - val_loss: 0.4532 - val_accuracy: 0.8209\n",
      "Epoch 156/500\n",
      "757/757 [==============================] - 0s 88us/sample - loss: 0.3480 - accuracy: 0.8692 - val_loss: 0.4657 - val_accuracy: 0.8209\n",
      "Epoch 157/500\n",
      "757/757 [==============================] - 0s 86us/sample - loss: 0.3427 - accuracy: 0.8705 - val_loss: 0.4308 - val_accuracy: 0.8358\n",
      "Epoch 158/500\n",
      "757/757 [==============================] - 0s 91us/sample - loss: 0.3526 - accuracy: 0.8613 - val_loss: 0.4171 - val_accuracy: 0.8433\n",
      "Epoch 159/500\n",
      "757/757 [==============================] - 0s 88us/sample - loss: 0.3466 - accuracy: 0.8639 - val_loss: 0.4201 - val_accuracy: 0.8507\n",
      "Epoch 160/500\n",
      "757/757 [==============================] - 0s 90us/sample - loss: 0.3501 - accuracy: 0.8587 - val_loss: 0.4552 - val_accuracy: 0.8284\n",
      "Epoch 161/500\n",
      "757/757 [==============================] - 0s 90us/sample - loss: 0.3530 - accuracy: 0.8626 - val_loss: 0.4523 - val_accuracy: 0.8433\n",
      "Epoch 162/500\n",
      "757/757 [==============================] - 0s 114us/sample - loss: 0.3435 - accuracy: 0.8719 - val_loss: 0.4369 - val_accuracy: 0.8209\n",
      "Epoch 163/500\n",
      "757/757 [==============================] - 0s 107us/sample - loss: 0.3555 - accuracy: 0.8679 - val_loss: 0.4315 - val_accuracy: 0.8433\n",
      "Epoch 164/500\n",
      "757/757 [==============================] - 0s 89us/sample - loss: 0.3456 - accuracy: 0.8679 - val_loss: 0.4276 - val_accuracy: 0.8209\n",
      "Epoch 165/500\n",
      "757/757 [==============================] - 0s 95us/sample - loss: 0.3463 - accuracy: 0.8679 - val_loss: 0.4310 - val_accuracy: 0.8433\n",
      "Epoch 166/500\n",
      "757/757 [==============================] - 0s 88us/sample - loss: 0.3407 - accuracy: 0.8732 - val_loss: 0.4383 - val_accuracy: 0.8358\n",
      "Epoch 167/500\n",
      "757/757 [==============================] - 0s 89us/sample - loss: 0.3430 - accuracy: 0.8679 - val_loss: 0.4333 - val_accuracy: 0.8433\n",
      "Epoch 168/500\n",
      "757/757 [==============================] - 0s 98us/sample - loss: 0.3471 - accuracy: 0.8679 - val_loss: 0.4487 - val_accuracy: 0.8433\n",
      "Epoch 169/500\n",
      "757/757 [==============================] - 0s 88us/sample - loss: 0.3521 - accuracy: 0.8600 - val_loss: 0.4336 - val_accuracy: 0.8284\n",
      "Epoch 170/500\n",
      "757/757 [==============================] - 0s 89us/sample - loss: 0.3495 - accuracy: 0.8560 - val_loss: 0.4337 - val_accuracy: 0.8358\n",
      "Epoch 171/500\n",
      "757/757 [==============================] - 0s 86us/sample - loss: 0.3492 - accuracy: 0.8666 - val_loss: 0.4626 - val_accuracy: 0.8209\n",
      "Epoch 172/500\n",
      "757/757 [==============================] - 0s 130us/sample - loss: 0.3504 - accuracy: 0.8732 - val_loss: 0.4758 - val_accuracy: 0.8209\n",
      "Epoch 173/500\n",
      "757/757 [==============================] - 0s 86us/sample - loss: 0.3481 - accuracy: 0.8600 - val_loss: 0.4446 - val_accuracy: 0.8433\n",
      "Epoch 174/500\n",
      "757/757 [==============================] - 0s 87us/sample - loss: 0.3456 - accuracy: 0.8613 - val_loss: 0.4377 - val_accuracy: 0.8582\n",
      "Epoch 175/500\n",
      "757/757 [==============================] - 0s 105us/sample - loss: 0.3524 - accuracy: 0.8626 - val_loss: 0.4506 - val_accuracy: 0.8507\n",
      "Epoch 176/500\n",
      "757/757 [==============================] - 0s 100us/sample - loss: 0.3542 - accuracy: 0.8679 - val_loss: 0.4436 - val_accuracy: 0.8582\n",
      "Epoch 177/500\n",
      "757/757 [==============================] - 0s 108us/sample - loss: 0.3514 - accuracy: 0.8626 - val_loss: 0.4540 - val_accuracy: 0.8433\n",
      "Epoch 178/500\n",
      "757/757 [==============================] - 0s 112us/sample - loss: 0.3462 - accuracy: 0.8719 - val_loss: 0.4544 - val_accuracy: 0.8582\n",
      "Epoch 179/500\n",
      "757/757 [==============================] - 0s 89us/sample - loss: 0.3472 - accuracy: 0.8719 - val_loss: 0.4712 - val_accuracy: 0.8209\n",
      "Epoch 180/500\n",
      "757/757 [==============================] - 0s 87us/sample - loss: 0.3480 - accuracy: 0.8600 - val_loss: 0.4522 - val_accuracy: 0.8433\n",
      "Epoch 181/500\n",
      "757/757 [==============================] - 0s 87us/sample - loss: 0.3439 - accuracy: 0.8719 - val_loss: 0.4707 - val_accuracy: 0.8358\n",
      "Epoch 182/500\n",
      "757/757 [==============================] - 0s 86us/sample - loss: 0.3518 - accuracy: 0.8613 - val_loss: 0.4725 - val_accuracy: 0.8433\n",
      "Epoch 183/500\n",
      "757/757 [==============================] - 0s 86us/sample - loss: 0.3498 - accuracy: 0.8639 - val_loss: 0.4617 - val_accuracy: 0.8358\n",
      "Epoch 184/500\n",
      "757/757 [==============================] - 0s 87us/sample - loss: 0.3457 - accuracy: 0.8666 - val_loss: 0.4544 - val_accuracy: 0.8433\n",
      "Epoch 185/500\n",
      "757/757 [==============================] - 0s 86us/sample - loss: 0.3458 - accuracy: 0.8600 - val_loss: 0.4467 - val_accuracy: 0.8507\n",
      "Epoch 186/500\n",
      "757/757 [==============================] - 0s 84us/sample - loss: 0.3364 - accuracy: 0.8679 - val_loss: 0.4940 - val_accuracy: 0.8358\n",
      "Epoch 187/500\n",
      "757/757 [==============================] - 0s 86us/sample - loss: 0.3787 - accuracy: 0.8428 - val_loss: 0.4430 - val_accuracy: 0.8657\n",
      "Epoch 188/500\n",
      "757/757 [==============================] - 0s 89us/sample - loss: 0.3497 - accuracy: 0.8626 - val_loss: 0.4371 - val_accuracy: 0.8582\n",
      "Epoch 189/500\n",
      "757/757 [==============================] - 0s 87us/sample - loss: 0.3550 - accuracy: 0.8666 - val_loss: 0.4278 - val_accuracy: 0.8657\n",
      "Epoch 190/500\n",
      "757/757 [==============================] - 0s 88us/sample - loss: 0.3433 - accuracy: 0.8692 - val_loss: 0.4701 - val_accuracy: 0.8284\n",
      "Epoch 191/500\n",
      "757/757 [==============================] - 0s 87us/sample - loss: 0.3477 - accuracy: 0.8653 - val_loss: 0.4513 - val_accuracy: 0.8507\n",
      "Epoch 192/500\n",
      "757/757 [==============================] - 0s 87us/sample - loss: 0.3456 - accuracy: 0.8679 - val_loss: 0.4767 - val_accuracy: 0.8209\n",
      "Epoch 193/500\n",
      "757/757 [==============================] - 0s 87us/sample - loss: 0.3477 - accuracy: 0.8679 - val_loss: 0.4645 - val_accuracy: 0.8358\n",
      "Epoch 194/500\n",
      "757/757 [==============================] - 0s 88us/sample - loss: 0.3438 - accuracy: 0.8653 - val_loss: 0.4534 - val_accuracy: 0.8507\n",
      "Epoch 195/500\n",
      "757/757 [==============================] - 0s 86us/sample - loss: 0.3536 - accuracy: 0.8666 - val_loss: 0.4597 - val_accuracy: 0.8358\n",
      "Epoch 196/500\n",
      "757/757 [==============================] - 0s 85us/sample - loss: 0.3439 - accuracy: 0.8679 - val_loss: 0.4659 - val_accuracy: 0.8358\n",
      "Epoch 197/500\n",
      "757/757 [==============================] - 0s 102us/sample - loss: 0.3473 - accuracy: 0.8666 - val_loss: 0.4399 - val_accuracy: 0.8507\n",
      "Epoch 198/500\n",
      "757/757 [==============================] - 0s 87us/sample - loss: 0.3506 - accuracy: 0.8679 - val_loss: 0.4607 - val_accuracy: 0.8433\n",
      "Epoch 199/500\n",
      "757/757 [==============================] - 0s 97us/sample - loss: 0.3534 - accuracy: 0.8653 - val_loss: 0.4455 - val_accuracy: 0.8507\n",
      "Epoch 200/500\n",
      "757/757 [==============================] - 0s 88us/sample - loss: 0.3608 - accuracy: 0.8626 - val_loss: 0.4429 - val_accuracy: 0.8433\n",
      "Epoch 201/500\n",
      "757/757 [==============================] - 0s 96us/sample - loss: 0.3543 - accuracy: 0.8560 - val_loss: 0.4344 - val_accuracy: 0.8507\n",
      "Epoch 202/500\n",
      "757/757 [==============================] - 0s 88us/sample - loss: 0.3516 - accuracy: 0.8600 - val_loss: 0.4745 - val_accuracy: 0.8358\n",
      "Epoch 203/500\n",
      "757/757 [==============================] - 0s 88us/sample - loss: 0.3551 - accuracy: 0.8653 - val_loss: 0.4904 - val_accuracy: 0.8134\n",
      "Epoch 204/500\n",
      "757/757 [==============================] - 0s 89us/sample - loss: 0.3450 - accuracy: 0.8692 - val_loss: 0.4734 - val_accuracy: 0.8209\n",
      "Epoch 205/500\n",
      "757/757 [==============================] - 0s 87us/sample - loss: 0.3518 - accuracy: 0.8626 - val_loss: 0.4681 - val_accuracy: 0.8284\n",
      "Epoch 206/500\n",
      "757/757 [==============================] - 0s 86us/sample - loss: 0.3460 - accuracy: 0.8745 - val_loss: 0.4787 - val_accuracy: 0.8209\n",
      "Epoch 207/500\n",
      "757/757 [==============================] - 0s 88us/sample - loss: 0.3466 - accuracy: 0.8653 - val_loss: 0.4479 - val_accuracy: 0.8433\n",
      "Epoch 208/500\n",
      "757/757 [==============================] - 0s 89us/sample - loss: 0.3476 - accuracy: 0.8639 - val_loss: 0.4563 - val_accuracy: 0.8209\n",
      "Epoch 209/500\n",
      "757/757 [==============================] - 0s 89us/sample - loss: 0.3461 - accuracy: 0.8771 - val_loss: 0.4774 - val_accuracy: 0.8358\n",
      "Epoch 210/500\n",
      "757/757 [==============================] - 0s 99us/sample - loss: 0.3500 - accuracy: 0.8679 - val_loss: 0.4858 - val_accuracy: 0.8209\n",
      "Epoch 211/500\n",
      "757/757 [==============================] - 0s 95us/sample - loss: 0.3555 - accuracy: 0.8732 - val_loss: 0.4303 - val_accuracy: 0.8507\n",
      "Epoch 212/500\n",
      "757/757 [==============================] - 0s 88us/sample - loss: 0.3478 - accuracy: 0.8626 - val_loss: 0.4330 - val_accuracy: 0.8582\n",
      "Epoch 213/500\n",
      "757/757 [==============================] - 0s 90us/sample - loss: 0.3438 - accuracy: 0.8719 - val_loss: 0.4642 - val_accuracy: 0.8507\n",
      "Epoch 214/500\n",
      "757/757 [==============================] - 0s 99us/sample - loss: 0.3433 - accuracy: 0.8719 - val_loss: 0.4653 - val_accuracy: 0.8134\n",
      "Epoch 215/500\n",
      "757/757 [==============================] - 0s 87us/sample - loss: 0.3452 - accuracy: 0.8745 - val_loss: 0.4636 - val_accuracy: 0.8284\n",
      "Epoch 216/500\n",
      "757/757 [==============================] - 0s 84us/sample - loss: 0.3423 - accuracy: 0.8732 - val_loss: 0.4784 - val_accuracy: 0.8358\n",
      "Epoch 217/500\n",
      "757/757 [==============================] - 0s 86us/sample - loss: 0.3397 - accuracy: 0.8758 - val_loss: 0.4865 - val_accuracy: 0.8358\n",
      "Epoch 218/500\n",
      "757/757 [==============================] - 0s 85us/sample - loss: 0.3435 - accuracy: 0.8626 - val_loss: 0.4658 - val_accuracy: 0.8358\n",
      "Epoch 219/500\n",
      "757/757 [==============================] - 0s 85us/sample - loss: 0.3450 - accuracy: 0.8587 - val_loss: 0.4592 - val_accuracy: 0.8358\n",
      "Epoch 220/500\n",
      "757/757 [==============================] - 0s 87us/sample - loss: 0.3443 - accuracy: 0.8705 - val_loss: 0.4673 - val_accuracy: 0.8507\n",
      "Epoch 221/500\n",
      "757/757 [==============================] - 0s 87us/sample - loss: 0.3405 - accuracy: 0.8666 - val_loss: 0.4672 - val_accuracy: 0.8507\n",
      "Epoch 222/500\n",
      "757/757 [==============================] - 0s 85us/sample - loss: 0.3416 - accuracy: 0.8705 - val_loss: 0.4820 - val_accuracy: 0.8358\n",
      "Epoch 223/500\n",
      "757/757 [==============================] - 0s 86us/sample - loss: 0.3422 - accuracy: 0.8732 - val_loss: 0.4831 - val_accuracy: 0.8433\n",
      "Epoch 224/500\n",
      "757/757 [==============================] - 0s 90us/sample - loss: 0.3479 - accuracy: 0.8705 - val_loss: 0.4738 - val_accuracy: 0.8433\n",
      "Epoch 225/500\n",
      "757/757 [==============================] - 0s 89us/sample - loss: 0.3368 - accuracy: 0.8626 - val_loss: 0.4873 - val_accuracy: 0.8358\n",
      "Epoch 226/500\n",
      "757/757 [==============================] - 0s 89us/sample - loss: 0.3374 - accuracy: 0.8705 - val_loss: 0.4681 - val_accuracy: 0.8134\n",
      "Epoch 227/500\n",
      "757/757 [==============================] - 0s 87us/sample - loss: 0.3524 - accuracy: 0.8692 - val_loss: 0.4460 - val_accuracy: 0.8284\n",
      "Epoch 228/500\n",
      "757/757 [==============================] - 0s 89us/sample - loss: 0.3466 - accuracy: 0.8771 - val_loss: 0.4453 - val_accuracy: 0.8433\n",
      "Epoch 229/500\n",
      "757/757 [==============================] - 0s 91us/sample - loss: 0.3570 - accuracy: 0.8613 - val_loss: 0.4364 - val_accuracy: 0.8507\n",
      "Epoch 230/500\n",
      "757/757 [==============================] - 0s 97us/sample - loss: 0.3474 - accuracy: 0.8587 - val_loss: 0.4420 - val_accuracy: 0.8507\n",
      "Epoch 231/500\n",
      "757/757 [==============================] - 0s 87us/sample - loss: 0.3507 - accuracy: 0.8626 - val_loss: 0.4501 - val_accuracy: 0.8358\n",
      "Epoch 232/500\n",
      "757/757 [==============================] - 0s 92us/sample - loss: 0.3433 - accuracy: 0.8705 - val_loss: 0.4447 - val_accuracy: 0.8209\n",
      "Epoch 233/500\n",
      "757/757 [==============================] - 0s 90us/sample - loss: 0.3504 - accuracy: 0.8653 - val_loss: 0.4366 - val_accuracy: 0.8358\n",
      "Epoch 234/500\n",
      "757/757 [==============================] - 0s 87us/sample - loss: 0.3508 - accuracy: 0.8745 - val_loss: 0.4119 - val_accuracy: 0.8731\n",
      "Epoch 235/500\n",
      "757/757 [==============================] - 0s 87us/sample - loss: 0.3519 - accuracy: 0.8573 - val_loss: 0.4748 - val_accuracy: 0.8284\n",
      "Epoch 236/500\n",
      "757/757 [==============================] - 0s 89us/sample - loss: 0.3446 - accuracy: 0.8692 - val_loss: 0.4364 - val_accuracy: 0.8358\n",
      "Epoch 237/500\n",
      "757/757 [==============================] - 0s 89us/sample - loss: 0.3511 - accuracy: 0.8745 - val_loss: 0.4306 - val_accuracy: 0.8507\n",
      "Epoch 238/500\n",
      "757/757 [==============================] - 0s 88us/sample - loss: 0.3475 - accuracy: 0.8666 - val_loss: 0.4314 - val_accuracy: 0.8507\n",
      "Epoch 239/500\n",
      "757/757 [==============================] - 0s 87us/sample - loss: 0.3458 - accuracy: 0.8692 - val_loss: 0.4911 - val_accuracy: 0.8284\n",
      "Epoch 240/500\n",
      "757/757 [==============================] - 0s 85us/sample - loss: 0.3678 - accuracy: 0.8613 - val_loss: 0.4483 - val_accuracy: 0.8209\n",
      "Epoch 241/500\n",
      "757/757 [==============================] - 0s 85us/sample - loss: 0.3531 - accuracy: 0.8653 - val_loss: 0.4254 - val_accuracy: 0.8358\n",
      "Epoch 242/500\n",
      "757/757 [==============================] - 0s 86us/sample - loss: 0.3556 - accuracy: 0.8653 - val_loss: 0.4337 - val_accuracy: 0.8284\n",
      "Epoch 243/500\n",
      "757/757 [==============================] - 0s 89us/sample - loss: 0.3492 - accuracy: 0.8653 - val_loss: 0.4467 - val_accuracy: 0.8209\n",
      "Epoch 244/500\n",
      "757/757 [==============================] - 0s 87us/sample - loss: 0.3493 - accuracy: 0.8692 - val_loss: 0.4572 - val_accuracy: 0.8209\n",
      "Epoch 245/500\n",
      "757/757 [==============================] - 0s 89us/sample - loss: 0.3446 - accuracy: 0.8692 - val_loss: 0.4542 - val_accuracy: 0.8284\n",
      "Epoch 246/500\n",
      "757/757 [==============================] - 0s 86us/sample - loss: 0.3410 - accuracy: 0.8798 - val_loss: 0.4654 - val_accuracy: 0.8284\n",
      "Epoch 247/500\n",
      "757/757 [==============================] - 0s 88us/sample - loss: 0.3373 - accuracy: 0.8719 - val_loss: 0.4678 - val_accuracy: 0.8433\n",
      "Epoch 248/500\n",
      "757/757 [==============================] - 0s 86us/sample - loss: 0.3395 - accuracy: 0.8679 - val_loss: 0.4916 - val_accuracy: 0.8209\n",
      "Epoch 249/500\n",
      "757/757 [==============================] - 0s 89us/sample - loss: 0.3420 - accuracy: 0.8679 - val_loss: 0.4751 - val_accuracy: 0.8209\n",
      "Epoch 250/500\n",
      "757/757 [==============================] - 0s 89us/sample - loss: 0.3490 - accuracy: 0.8692 - val_loss: 0.4672 - val_accuracy: 0.8209\n",
      "Epoch 251/500\n",
      "757/757 [==============================] - 0s 86us/sample - loss: 0.3485 - accuracy: 0.8626 - val_loss: 0.4727 - val_accuracy: 0.8358\n",
      "Epoch 252/500\n",
      "757/757 [==============================] - 0s 87us/sample - loss: 0.3431 - accuracy: 0.8758 - val_loss: 0.4630 - val_accuracy: 0.8507\n",
      "Epoch 253/500\n",
      "757/757 [==============================] - 0s 88us/sample - loss: 0.3371 - accuracy: 0.8653 - val_loss: 0.4558 - val_accuracy: 0.8507\n",
      "Epoch 254/500\n",
      "757/757 [==============================] - 0s 88us/sample - loss: 0.3372 - accuracy: 0.8653 - val_loss: 0.4722 - val_accuracy: 0.8209\n",
      "Epoch 255/500\n",
      "757/757 [==============================] - 0s 86us/sample - loss: 0.3403 - accuracy: 0.8679 - val_loss: 0.4576 - val_accuracy: 0.8433\n",
      "Epoch 256/500\n",
      "757/757 [==============================] - 0s 88us/sample - loss: 0.3363 - accuracy: 0.8679 - val_loss: 0.4604 - val_accuracy: 0.8358\n",
      "Epoch 257/500\n",
      "757/757 [==============================] - 0s 89us/sample - loss: 0.3425 - accuracy: 0.8771 - val_loss: 0.4427 - val_accuracy: 0.8582\n",
      "Epoch 258/500\n",
      "757/757 [==============================] - 0s 87us/sample - loss: 0.3408 - accuracy: 0.8758 - val_loss: 0.4543 - val_accuracy: 0.8507\n",
      "Epoch 259/500\n",
      "757/757 [==============================] - 0s 90us/sample - loss: 0.3405 - accuracy: 0.8666 - val_loss: 0.4510 - val_accuracy: 0.8582\n",
      "Epoch 260/500\n",
      "757/757 [==============================] - 0s 88us/sample - loss: 0.3425 - accuracy: 0.8626 - val_loss: 0.4493 - val_accuracy: 0.8433\n",
      "Epoch 261/500\n",
      "757/757 [==============================] - 0s 89us/sample - loss: 0.3374 - accuracy: 0.8679 - val_loss: 0.4559 - val_accuracy: 0.8358\n",
      "Epoch 262/500\n",
      "757/757 [==============================] - 0s 88us/sample - loss: 0.3415 - accuracy: 0.8732 - val_loss: 0.4417 - val_accuracy: 0.8582\n",
      "Epoch 263/500\n",
      "757/757 [==============================] - 0s 88us/sample - loss: 0.3418 - accuracy: 0.8705 - val_loss: 0.4457 - val_accuracy: 0.8582\n",
      "Epoch 264/500\n",
      "757/757 [==============================] - 0s 87us/sample - loss: 0.3419 - accuracy: 0.8758 - val_loss: 0.4602 - val_accuracy: 0.8433\n",
      "Epoch 265/500\n",
      "757/757 [==============================] - 0s 88us/sample - loss: 0.3526 - accuracy: 0.8653 - val_loss: 0.4527 - val_accuracy: 0.8433\n",
      "Epoch 266/500\n",
      "757/757 [==============================] - 0s 88us/sample - loss: 0.3475 - accuracy: 0.8587 - val_loss: 0.4535 - val_accuracy: 0.8433\n",
      "Epoch 267/500\n",
      "757/757 [==============================] - 0s 87us/sample - loss: 0.3419 - accuracy: 0.8666 - val_loss: 0.4462 - val_accuracy: 0.8507\n",
      "Epoch 268/500\n",
      "757/757 [==============================] - 0s 85us/sample - loss: 0.3495 - accuracy: 0.8666 - val_loss: 0.4551 - val_accuracy: 0.8507\n",
      "Epoch 269/500\n",
      "757/757 [==============================] - 0s 86us/sample - loss: 0.3440 - accuracy: 0.8705 - val_loss: 0.4560 - val_accuracy: 0.8582\n",
      "Epoch 270/500\n",
      "757/757 [==============================] - 0s 86us/sample - loss: 0.3422 - accuracy: 0.8666 - val_loss: 0.4651 - val_accuracy: 0.8284\n",
      "Epoch 271/500\n",
      "757/757 [==============================] - 0s 87us/sample - loss: 0.3461 - accuracy: 0.8613 - val_loss: 0.4966 - val_accuracy: 0.8134\n",
      "Epoch 272/500\n",
      "757/757 [==============================] - 0s 87us/sample - loss: 0.3381 - accuracy: 0.8692 - val_loss: 0.4848 - val_accuracy: 0.8358\n",
      "Epoch 273/500\n",
      "757/757 [==============================] - 0s 87us/sample - loss: 0.3410 - accuracy: 0.8639 - val_loss: 0.4684 - val_accuracy: 0.8284\n",
      "Epoch 274/500\n",
      "757/757 [==============================] - 0s 87us/sample - loss: 0.3400 - accuracy: 0.8719 - val_loss: 0.4882 - val_accuracy: 0.8358\n",
      "Epoch 275/500\n",
      "757/757 [==============================] - 0s 85us/sample - loss: 0.3386 - accuracy: 0.8719 - val_loss: 0.4836 - val_accuracy: 0.8284\n",
      "Epoch 276/500\n",
      "757/757 [==============================] - 0s 86us/sample - loss: 0.3462 - accuracy: 0.8653 - val_loss: 0.4680 - val_accuracy: 0.8284\n",
      "Epoch 277/500\n",
      "757/757 [==============================] - 0s 89us/sample - loss: 0.3451 - accuracy: 0.8653 - val_loss: 0.4675 - val_accuracy: 0.8358\n",
      "Epoch 278/500\n",
      "757/757 [==============================] - 0s 86us/sample - loss: 0.3466 - accuracy: 0.8692 - val_loss: 0.4943 - val_accuracy: 0.8433\n",
      "Epoch 279/500\n",
      "757/757 [==============================] - 0s 85us/sample - loss: 0.3363 - accuracy: 0.8771 - val_loss: 0.4858 - val_accuracy: 0.8433\n",
      "Epoch 280/500\n",
      "757/757 [==============================] - 0s 86us/sample - loss: 0.3418 - accuracy: 0.8705 - val_loss: 0.4909 - val_accuracy: 0.8358\n",
      "Epoch 281/500\n",
      "757/757 [==============================] - 0s 88us/sample - loss: 0.3490 - accuracy: 0.8613 - val_loss: 0.5114 - val_accuracy: 0.8134\n",
      "Epoch 282/500\n",
      "757/757 [==============================] - 0s 86us/sample - loss: 0.3333 - accuracy: 0.8785 - val_loss: 0.4942 - val_accuracy: 0.8358\n",
      "Epoch 283/500\n",
      "757/757 [==============================] - 0s 87us/sample - loss: 0.3389 - accuracy: 0.8705 - val_loss: 0.4796 - val_accuracy: 0.8582\n",
      "Epoch 284/500\n",
      "757/757 [==============================] - 0s 87us/sample - loss: 0.3426 - accuracy: 0.8771 - val_loss: 0.4695 - val_accuracy: 0.8433\n",
      "Epoch 285/500\n",
      "757/757 [==============================] - 0s 90us/sample - loss: 0.3427 - accuracy: 0.8679 - val_loss: 0.4691 - val_accuracy: 0.8582\n",
      "Epoch 286/500\n",
      "757/757 [==============================] - 0s 88us/sample - loss: 0.3400 - accuracy: 0.8705 - val_loss: 0.4942 - val_accuracy: 0.8358\n",
      "Epoch 287/500\n",
      "757/757 [==============================] - 0s 86us/sample - loss: 0.3415 - accuracy: 0.8719 - val_loss: 0.4853 - val_accuracy: 0.8433\n",
      "Epoch 288/500\n",
      "757/757 [==============================] - 0s 86us/sample - loss: 0.3434 - accuracy: 0.8705 - val_loss: 0.4812 - val_accuracy: 0.8209\n",
      "Epoch 289/500\n",
      "757/757 [==============================] - 0s 86us/sample - loss: 0.3410 - accuracy: 0.8771 - val_loss: 0.4547 - val_accuracy: 0.8582\n",
      "Epoch 290/500\n",
      "757/757 [==============================] - 0s 86us/sample - loss: 0.3358 - accuracy: 0.8626 - val_loss: 0.4733 - val_accuracy: 0.8358\n",
      "Epoch 291/500\n",
      "757/757 [==============================] - 0s 85us/sample - loss: 0.3393 - accuracy: 0.8785 - val_loss: 0.5123 - val_accuracy: 0.8284\n",
      "Epoch 292/500\n",
      "757/757 [==============================] - 0s 84us/sample - loss: 0.3442 - accuracy: 0.8679 - val_loss: 0.4902 - val_accuracy: 0.8284\n",
      "Epoch 293/500\n",
      "757/757 [==============================] - 0s 85us/sample - loss: 0.3404 - accuracy: 0.8692 - val_loss: 0.4824 - val_accuracy: 0.8284\n",
      "Epoch 294/500\n",
      "757/757 [==============================] - 0s 87us/sample - loss: 0.3376 - accuracy: 0.8719 - val_loss: 0.5073 - val_accuracy: 0.8358\n",
      "Epoch 295/500\n",
      "757/757 [==============================] - 0s 88us/sample - loss: 0.3391 - accuracy: 0.8719 - val_loss: 0.4925 - val_accuracy: 0.8358\n",
      "Epoch 296/500\n",
      "757/757 [==============================] - 0s 87us/sample - loss: 0.3401 - accuracy: 0.8692 - val_loss: 0.4997 - val_accuracy: 0.8358\n",
      "Epoch 297/500\n",
      "757/757 [==============================] - 0s 86us/sample - loss: 0.3429 - accuracy: 0.8719 - val_loss: 0.4741 - val_accuracy: 0.8507\n",
      "Epoch 298/500\n",
      "757/757 [==============================] - 0s 85us/sample - loss: 0.3394 - accuracy: 0.8771 - val_loss: 0.4691 - val_accuracy: 0.8284\n",
      "Epoch 299/500\n",
      "757/757 [==============================] - 0s 87us/sample - loss: 0.3391 - accuracy: 0.8679 - val_loss: 0.4875 - val_accuracy: 0.8209\n",
      "Epoch 300/500\n",
      "757/757 [==============================] - 0s 86us/sample - loss: 0.3389 - accuracy: 0.8679 - val_loss: 0.4687 - val_accuracy: 0.8433\n",
      "Epoch 301/500\n",
      "757/757 [==============================] - 0s 86us/sample - loss: 0.3630 - accuracy: 0.8600 - val_loss: 0.4770 - val_accuracy: 0.8358\n",
      "Epoch 302/500\n",
      "757/757 [==============================] - 0s 87us/sample - loss: 0.3468 - accuracy: 0.8600 - val_loss: 0.4865 - val_accuracy: 0.8209\n",
      "Epoch 303/500\n",
      "757/757 [==============================] - 0s 86us/sample - loss: 0.3452 - accuracy: 0.8705 - val_loss: 0.4811 - val_accuracy: 0.8358\n",
      "Epoch 304/500\n",
      "757/757 [==============================] - 0s 88us/sample - loss: 0.3362 - accuracy: 0.8719 - val_loss: 0.4832 - val_accuracy: 0.8284\n",
      "Epoch 305/500\n",
      "757/757 [==============================] - 0s 88us/sample - loss: 0.3439 - accuracy: 0.8705 - val_loss: 0.4803 - val_accuracy: 0.8433\n",
      "Epoch 306/500\n",
      "757/757 [==============================] - 0s 87us/sample - loss: 0.3413 - accuracy: 0.8745 - val_loss: 0.4623 - val_accuracy: 0.8358\n",
      "Epoch 307/500\n",
      "757/757 [==============================] - 0s 87us/sample - loss: 0.3404 - accuracy: 0.8771 - val_loss: 0.4848 - val_accuracy: 0.8358\n",
      "Epoch 308/500\n",
      "757/757 [==============================] - 0s 86us/sample - loss: 0.3451 - accuracy: 0.8719 - val_loss: 0.4742 - val_accuracy: 0.8284\n",
      "Epoch 309/500\n",
      "757/757 [==============================] - 0s 88us/sample - loss: 0.3406 - accuracy: 0.8732 - val_loss: 0.4733 - val_accuracy: 0.8358\n",
      "Epoch 310/500\n",
      "757/757 [==============================] - 0s 87us/sample - loss: 0.3362 - accuracy: 0.8771 - val_loss: 0.4797 - val_accuracy: 0.8358\n",
      "Epoch 311/500\n",
      "757/757 [==============================] - 0s 85us/sample - loss: 0.3514 - accuracy: 0.8666 - val_loss: 0.4800 - val_accuracy: 0.8209\n",
      "Epoch 312/500\n",
      "757/757 [==============================] - 0s 85us/sample - loss: 0.3435 - accuracy: 0.8679 - val_loss: 0.4761 - val_accuracy: 0.8209\n",
      "Epoch 313/500\n",
      "757/757 [==============================] - 0s 112us/sample - loss: 0.3434 - accuracy: 0.8758 - val_loss: 0.5006 - val_accuracy: 0.8358\n",
      "Epoch 314/500\n",
      "757/757 [==============================] - 0s 102us/sample - loss: 0.3360 - accuracy: 0.8653 - val_loss: 0.5007 - val_accuracy: 0.8284\n",
      "Epoch 315/500\n",
      "757/757 [==============================] - 0s 86us/sample - loss: 0.3361 - accuracy: 0.8692 - val_loss: 0.5043 - val_accuracy: 0.8284\n",
      "Epoch 316/500\n",
      "757/757 [==============================] - 0s 85us/sample - loss: 0.3431 - accuracy: 0.8705 - val_loss: 0.5154 - val_accuracy: 0.8134\n",
      "Epoch 317/500\n",
      "757/757 [==============================] - 0s 87us/sample - loss: 0.3406 - accuracy: 0.8653 - val_loss: 0.5027 - val_accuracy: 0.8284\n",
      "Epoch 318/500\n",
      "757/757 [==============================] - 0s 84us/sample - loss: 0.3466 - accuracy: 0.8692 - val_loss: 0.4873 - val_accuracy: 0.8507\n",
      "Epoch 319/500\n",
      "757/757 [==============================] - 0s 87us/sample - loss: 0.3469 - accuracy: 0.8666 - val_loss: 0.4837 - val_accuracy: 0.8358\n",
      "Epoch 320/500\n",
      "757/757 [==============================] - 0s 87us/sample - loss: 0.3412 - accuracy: 0.8653 - val_loss: 0.4864 - val_accuracy: 0.8433\n",
      "Epoch 321/500\n",
      "757/757 [==============================] - 0s 90us/sample - loss: 0.3298 - accuracy: 0.8692 - val_loss: 0.4803 - val_accuracy: 0.8284\n",
      "Epoch 322/500\n",
      "757/757 [==============================] - 0s 85us/sample - loss: 0.3374 - accuracy: 0.8613 - val_loss: 0.4938 - val_accuracy: 0.8209\n",
      "Epoch 323/500\n",
      "757/757 [==============================] - 0s 85us/sample - loss: 0.3345 - accuracy: 0.8666 - val_loss: 0.5274 - val_accuracy: 0.8209\n",
      "Epoch 324/500\n",
      "757/757 [==============================] - 0s 84us/sample - loss: 0.3480 - accuracy: 0.8719 - val_loss: 0.4862 - val_accuracy: 0.8284\n",
      "Epoch 325/500\n",
      "757/757 [==============================] - 0s 86us/sample - loss: 0.3387 - accuracy: 0.8719 - val_loss: 0.4956 - val_accuracy: 0.8433\n",
      "Epoch 326/500\n",
      "757/757 [==============================] - 0s 88us/sample - loss: 0.3411 - accuracy: 0.8719 - val_loss: 0.4788 - val_accuracy: 0.8284\n",
      "Epoch 327/500\n",
      "757/757 [==============================] - 0s 88us/sample - loss: 0.3349 - accuracy: 0.8745 - val_loss: 0.4924 - val_accuracy: 0.8433\n",
      "Epoch 328/500\n",
      "757/757 [==============================] - 0s 86us/sample - loss: 0.3318 - accuracy: 0.8639 - val_loss: 0.4993 - val_accuracy: 0.8433\n",
      "Epoch 329/500\n",
      "757/757 [==============================] - 0s 88us/sample - loss: 0.3308 - accuracy: 0.8732 - val_loss: 0.4954 - val_accuracy: 0.8284\n",
      "Epoch 330/500\n",
      "757/757 [==============================] - 0s 86us/sample - loss: 0.3401 - accuracy: 0.8771 - val_loss: 0.5016 - val_accuracy: 0.8284\n",
      "Epoch 331/500\n",
      "757/757 [==============================] - 0s 90us/sample - loss: 0.3396 - accuracy: 0.8666 - val_loss: 0.4944 - val_accuracy: 0.8433\n",
      "Epoch 332/500\n",
      "757/757 [==============================] - 0s 86us/sample - loss: 0.3444 - accuracy: 0.8653 - val_loss: 0.4994 - val_accuracy: 0.8209\n",
      "Epoch 333/500\n",
      "757/757 [==============================] - 0s 87us/sample - loss: 0.3332 - accuracy: 0.8705 - val_loss: 0.5135 - val_accuracy: 0.8134\n",
      "Epoch 334/500\n",
      "757/757 [==============================] - 0s 86us/sample - loss: 0.3472 - accuracy: 0.8679 - val_loss: 0.4470 - val_accuracy: 0.8284\n",
      "Epoch 278/500\n",
      "757/757 [==============================] - 0s 85us/sample - loss: 0.3444 - accuracy: 0.8653 - val_loss: 0.4545 - val_accuracy: 0.8433\n",
      "Epoch 279/500\n",
      "757/757 [==============================] - 0s 83us/sample - loss: 0.3501 - accuracy: 0.8719 - val_loss: 0.4507 - val_accuracy: 0.8134\n",
      "Epoch 280/500\n",
      "757/757 [==============================] - 0s 82us/sample - loss: 0.3425 - accuracy: 0.8626 - val_loss: 0.4619 - val_accuracy: 0.8209\n",
      "Epoch 281/500\n",
      "757/757 [==============================] - 0s 84us/sample - loss: 0.3555 - accuracy: 0.8600 - val_loss: 0.4507 - val_accuracy: 0.7985\n",
      "Epoch 282/500\n",
      "757/757 [==============================] - 0s 85us/sample - loss: 0.3536 - accuracy: 0.8679 - val_loss: 0.4679 - val_accuracy: 0.8358\n",
      "Epoch 283/500\n",
      "757/757 [==============================] - 0s 86us/sample - loss: 0.3488 - accuracy: 0.8666 - val_loss: 0.4550 - val_accuracy: 0.8134\n",
      "Epoch 284/500\n",
      "757/757 [==============================] - 0s 84us/sample - loss: 0.3483 - accuracy: 0.8653 - val_loss: 0.4514 - val_accuracy: 0.8433\n",
      "Epoch 285/500\n",
      "757/757 [==============================] - 0s 84us/sample - loss: 0.3350 - accuracy: 0.8705 - val_loss: 0.4767 - val_accuracy: 0.8209\n",
      "Epoch 286/500\n",
      "757/757 [==============================] - 0s 85us/sample - loss: 0.3541 - accuracy: 0.8639 - val_loss: 0.4590 - val_accuracy: 0.8358\n",
      "Epoch 287/500\n",
      "757/757 [==============================] - 0s 83us/sample - loss: 0.3490 - accuracy: 0.8573 - val_loss: 0.4668 - val_accuracy: 0.8134\n",
      "Epoch 288/500\n",
      "757/757 [==============================] - 0s 84us/sample - loss: 0.3405 - accuracy: 0.8626 - val_loss: 0.4535 - val_accuracy: 0.8284\n",
      "Epoch 289/500\n",
      "757/757 [==============================] - 0s 87us/sample - loss: 0.3456 - accuracy: 0.8705 - val_loss: 0.4684 - val_accuracy: 0.8209\n",
      "Epoch 290/500\n",
      "757/757 [==============================] - 0s 86us/sample - loss: 0.3451 - accuracy: 0.8679 - val_loss: 0.4590 - val_accuracy: 0.8284\n",
      "Epoch 291/500\n",
      "757/757 [==============================] - 0s 83us/sample - loss: 0.3482 - accuracy: 0.8573 - val_loss: 0.4661 - val_accuracy: 0.8209\n",
      "Epoch 292/500\n",
      "757/757 [==============================] - 0s 85us/sample - loss: 0.3303 - accuracy: 0.8653 - val_loss: 0.4779 - val_accuracy: 0.8060\n",
      "Epoch 293/500\n",
      "757/757 [==============================] - 0s 86us/sample - loss: 0.3506 - accuracy: 0.8719 - val_loss: 0.4493 - val_accuracy: 0.7985\n",
      "Epoch 294/500\n",
      "757/757 [==============================] - 0s 84us/sample - loss: 0.3392 - accuracy: 0.8692 - val_loss: 0.4563 - val_accuracy: 0.8358\n",
      "Epoch 295/500\n",
      "757/757 [==============================] - 0s 86us/sample - loss: 0.3346 - accuracy: 0.8692 - val_loss: 0.4705 - val_accuracy: 0.8060\n",
      "Epoch 296/500\n",
      "757/757 [==============================] - 0s 83us/sample - loss: 0.3478 - accuracy: 0.8600 - val_loss: 0.4574 - val_accuracy: 0.8134\n",
      "Epoch 297/500\n",
      "757/757 [==============================] - 0s 85us/sample - loss: 0.3446 - accuracy: 0.8771 - val_loss: 0.4743 - val_accuracy: 0.8134\n",
      "Epoch 298/500\n",
      "757/757 [==============================] - 0s 83us/sample - loss: 0.3381 - accuracy: 0.8653 - val_loss: 0.4602 - val_accuracy: 0.8284\n",
      "Epoch 299/500\n",
      "757/757 [==============================] - 0s 80us/sample - loss: 0.3413 - accuracy: 0.8639 - val_loss: 0.4514 - val_accuracy: 0.8433\n",
      "Epoch 300/500\n",
      "757/757 [==============================] - 0s 85us/sample - loss: 0.3370 - accuracy: 0.8653 - val_loss: 0.4659 - val_accuracy: 0.8284\n",
      "Epoch 301/500\n",
      "757/757 [==============================] - 0s 84us/sample - loss: 0.3474 - accuracy: 0.8639 - val_loss: 0.4631 - val_accuracy: 0.8433\n",
      "Epoch 302/500\n",
      "757/757 [==============================] - 0s 86us/sample - loss: 0.3403 - accuracy: 0.8705 - val_loss: 0.4689 - val_accuracy: 0.8358\n",
      "Epoch 303/500\n",
      "757/757 [==============================] - 0s 84us/sample - loss: 0.3311 - accuracy: 0.8679 - val_loss: 0.4747 - val_accuracy: 0.7985\n",
      "Epoch 304/500\n",
      "757/757 [==============================] - 0s 84us/sample - loss: 0.3437 - accuracy: 0.8705 - val_loss: 0.4606 - val_accuracy: 0.8284\n",
      "Epoch 305/500\n",
      "757/757 [==============================] - 0s 86us/sample - loss: 0.3488 - accuracy: 0.8653 - val_loss: 0.4603 - val_accuracy: 0.8209\n",
      "Epoch 306/500\n",
      "757/757 [==============================] - 0s 85us/sample - loss: 0.3499 - accuracy: 0.8587 - val_loss: 0.4544 - val_accuracy: 0.8284\n",
      "Epoch 307/500\n",
      "757/757 [==============================] - 0s 84us/sample - loss: 0.3348 - accuracy: 0.8719 - val_loss: 0.4830 - val_accuracy: 0.8134\n",
      "Epoch 308/500\n",
      "757/757 [==============================] - 0s 86us/sample - loss: 0.3431 - accuracy: 0.8705 - val_loss: 0.4519 - val_accuracy: 0.8060\n",
      "Epoch 309/500\n",
      "757/757 [==============================] - 0s 84us/sample - loss: 0.3431 - accuracy: 0.8679 - val_loss: 0.4520 - val_accuracy: 0.8134\n",
      "Epoch 310/500\n",
      "757/757 [==============================] - 0s 83us/sample - loss: 0.3349 - accuracy: 0.8692 - val_loss: 0.4543 - val_accuracy: 0.8433\n",
      "Epoch 311/500\n",
      "757/757 [==============================] - 0s 83us/sample - loss: 0.3397 - accuracy: 0.8653 - val_loss: 0.4675 - val_accuracy: 0.8284\n",
      "Epoch 312/500\n",
      "757/757 [==============================] - 0s 84us/sample - loss: 0.3363 - accuracy: 0.8692 - val_loss: 0.4550 - val_accuracy: 0.8284\n",
      "Epoch 313/500\n",
      "757/757 [==============================] - 0s 86us/sample - loss: 0.3413 - accuracy: 0.8692 - val_loss: 0.4648 - val_accuracy: 0.8209\n",
      "Epoch 314/500\n",
      "757/757 [==============================] - 0s 89us/sample - loss: 0.3339 - accuracy: 0.8692 - val_loss: 0.4610 - val_accuracy: 0.8209\n",
      "Epoch 315/500\n",
      "757/757 [==============================] - 0s 88us/sample - loss: 0.3378 - accuracy: 0.8639 - val_loss: 0.4433 - val_accuracy: 0.8358\n",
      "Epoch 316/500\n",
      "757/757 [==============================] - 0s 84us/sample - loss: 0.3342 - accuracy: 0.8758 - val_loss: 0.4429 - val_accuracy: 0.8284\n",
      "Epoch 317/500\n",
      "757/757 [==============================] - 0s 85us/sample - loss: 0.3357 - accuracy: 0.8705 - val_loss: 0.4422 - val_accuracy: 0.8358\n",
      "Epoch 318/500\n",
      "757/757 [==============================] - 0s 83us/sample - loss: 0.3450 - accuracy: 0.8666 - val_loss: 0.4406 - val_accuracy: 0.8284\n",
      "Epoch 319/500\n",
      "757/757 [==============================] - 0s 85us/sample - loss: 0.3415 - accuracy: 0.8626 - val_loss: 0.4535 - val_accuracy: 0.8358\n",
      "Epoch 320/500\n",
      "757/757 [==============================] - 0s 85us/sample - loss: 0.3481 - accuracy: 0.8573 - val_loss: 0.4707 - val_accuracy: 0.7985\n",
      "Epoch 321/500\n",
      "757/757 [==============================] - 0s 85us/sample - loss: 0.3349 - accuracy: 0.8732 - val_loss: 0.4541 - val_accuracy: 0.8209\n",
      "Epoch 322/500\n",
      "757/757 [==============================] - 0s 85us/sample - loss: 0.3376 - accuracy: 0.8719 - val_loss: 0.4766 - val_accuracy: 0.8358\n",
      "Epoch 323/500\n",
      "757/757 [==============================] - 0s 87us/sample - loss: 0.3359 - accuracy: 0.8719 - val_loss: 0.4434 - val_accuracy: 0.8209\n",
      "Epoch 324/500\n",
      "757/757 [==============================] - 0s 89us/sample - loss: 0.3328 - accuracy: 0.8745 - val_loss: 0.4565 - val_accuracy: 0.8507\n",
      "Epoch 325/500\n",
      "757/757 [==============================] - 0s 85us/sample - loss: 0.3425 - accuracy: 0.8679 - val_loss: 0.4730 - val_accuracy: 0.8284\n",
      "Epoch 326/500\n",
      "757/757 [==============================] - 0s 84us/sample - loss: 0.3447 - accuracy: 0.8626 - val_loss: 0.4502 - val_accuracy: 0.8060\n",
      "Epoch 327/500\n",
      "757/757 [==============================] - 0s 83us/sample - loss: 0.3358 - accuracy: 0.8679 - val_loss: 0.4773 - val_accuracy: 0.8060\n",
      "Epoch 328/500\n",
      "757/757 [==============================] - 0s 86us/sample - loss: 0.3376 - accuracy: 0.8758 - val_loss: 0.4610 - val_accuracy: 0.8284\n",
      "Epoch 329/500\n",
      "757/757 [==============================] - 0s 85us/sample - loss: 0.3372 - accuracy: 0.8666 - val_loss: 0.4535 - val_accuracy: 0.8358\n",
      "Epoch 330/500\n",
      "757/757 [==============================] - 0s 89us/sample - loss: 0.3410 - accuracy: 0.8626 - val_loss: 0.4671 - val_accuracy: 0.8134\n",
      "Epoch 331/500\n",
      "757/757 [==============================] - 0s 82us/sample - loss: 0.3378 - accuracy: 0.8653 - val_loss: 0.4727 - val_accuracy: 0.8358\n",
      "Epoch 332/500\n",
      "757/757 [==============================] - 0s 83us/sample - loss: 0.3439 - accuracy: 0.8639 - val_loss: 0.4551 - val_accuracy: 0.8582\n",
      "757/757 [==============================] - 1s 1ms/sample - loss: 0.8134 - accuracy: 0.4174 - val_loss: 0.7567 - val_accuracy: 0.4179\n",
      "Epoch 2/500\n",
      "757/757 [==============================] - 0s 97us/sample - loss: 0.7925 - accuracy: 0.4042 - val_loss: 0.7338 - val_accuracy: 0.4179\n",
      "Epoch 3/500\n",
      "757/757 [==============================] - 0s 88us/sample - loss: 0.7571 - accuracy: 0.4465 - val_loss: 0.7134 - val_accuracy: 0.4179\n",
      "Epoch 4/500\n",
      "757/757 [==============================] - 0s 86us/sample - loss: 0.7437 - accuracy: 0.4650 - val_loss: 0.6941 - val_accuracy: 0.4179\n",
      "Epoch 5/500\n",
      "757/757 [==============================] - 0s 89us/sample - loss: 0.7201 - accuracy: 0.5020 - val_loss: 0.6783 - val_accuracy: 0.4179\n",
      "Epoch 6/500\n",
      "757/757 [==============================] - 0s 105us/sample - loss: 0.7004 - accuracy: 0.5324 - val_loss: 0.6643 - val_accuracy: 0.7612\n",
      "Epoch 7/500\n",
      "757/757 [==============================] - 0s 115us/sample - loss: 0.6906 - accuracy: 0.5614 - val_loss: 0.6527 - val_accuracy: 0.7910\n",
      "Epoch 8/500\n",
      "757/757 [==============================] - 0s 104us/sample - loss: 0.6865 - accuracy: 0.5588 - val_loss: 0.6416 - val_accuracy: 0.8134\n",
      "Epoch 9/500\n",
      "757/757 [==============================] - 0s 88us/sample - loss: 0.6720 - accuracy: 0.5984 - val_loss: 0.6317 - val_accuracy: 0.7910\n",
      "Epoch 10/500\n",
      "757/757 [==============================] - 0s 96us/sample - loss: 0.6524 - accuracy: 0.6275 - val_loss: 0.6226 - val_accuracy: 0.7910\n",
      "Epoch 11/500\n",
      "757/757 [==============================] - 0s 87us/sample - loss: 0.6553 - accuracy: 0.6301 - val_loss: 0.6139 - val_accuracy: 0.7910\n",
      "Epoch 12/500\n",
      "757/757 [==============================] - 0s 95us/sample - loss: 0.6414 - accuracy: 0.6460 - val_loss: 0.6054 - val_accuracy: 0.7985\n",
      "Epoch 13/500\n",
      "757/757 [==============================] - 0s 96us/sample - loss: 0.6338 - accuracy: 0.6618 - val_loss: 0.5969 - val_accuracy: 0.7910\n",
      "Epoch 14/500\n",
      "757/757 [==============================] - 0s 88us/sample - loss: 0.6266 - accuracy: 0.6433 - val_loss: 0.5891 - val_accuracy: 0.7910\n",
      "Epoch 15/500\n",
      "757/757 [==============================] - 0s 89us/sample - loss: 0.6075 - accuracy: 0.6882 - val_loss: 0.5814 - val_accuracy: 0.7910\n",
      "Epoch 16/500\n",
      "757/757 [==============================] - 0s 98us/sample - loss: 0.6104 - accuracy: 0.6816 - val_loss: 0.5750 - val_accuracy: 0.7910\n",
      "Epoch 17/500\n",
      "757/757 [==============================] - 0s 89us/sample - loss: 0.6094 - accuracy: 0.6962 - val_loss: 0.5689 - val_accuracy: 0.7910\n",
      "Epoch 18/500\n",
      "757/757 [==============================] - 0s 89us/sample - loss: 0.5910 - accuracy: 0.7107 - val_loss: 0.5638 - val_accuracy: 0.7910\n",
      "Epoch 19/500\n",
      "757/757 [==============================] - 0s 96us/sample - loss: 0.5955 - accuracy: 0.6909 - val_loss: 0.5584 - val_accuracy: 0.7910\n",
      "Epoch 20/500\n",
      "757/757 [==============================] - 0s 89us/sample - loss: 0.5907 - accuracy: 0.7173 - val_loss: 0.5532 - val_accuracy: 0.7910\n",
      "Epoch 21/500\n",
      "757/757 [==============================] - 0s 88us/sample - loss: 0.5811 - accuracy: 0.7305 - val_loss: 0.5498 - val_accuracy: 0.7910\n",
      "Epoch 22/500\n",
      "757/757 [==============================] - 0s 95us/sample - loss: 0.5670 - accuracy: 0.7411 - val_loss: 0.5452 - val_accuracy: 0.7910\n",
      "Epoch 23/500\n",
      "757/757 [==============================] - 0s 87us/sample - loss: 0.5760 - accuracy: 0.7305 - val_loss: 0.5412 - val_accuracy: 0.7910\n",
      "Epoch 24/500\n",
      "757/757 [==============================] - 0s 99us/sample - loss: 0.5752 - accuracy: 0.7067 - val_loss: 0.5383 - val_accuracy: 0.7910\n",
      "Epoch 25/500\n",
      "757/757 [==============================] - 0s 88us/sample - loss: 0.5653 - accuracy: 0.7305 - val_loss: 0.5358 - val_accuracy: 0.7910\n",
      "Epoch 26/500\n",
      "757/757 [==============================] - 0s 98us/sample - loss: 0.5642 - accuracy: 0.7358 - val_loss: 0.5338 - val_accuracy: 0.7910\n",
      "Epoch 27/500\n",
      "757/757 [==============================] - 0s 88us/sample - loss: 0.5701 - accuracy: 0.7252 - val_loss: 0.5325 - val_accuracy: 0.7910\n",
      "Epoch 28/500\n",
      "757/757 [==============================] - 0s 88us/sample - loss: 0.5491 - accuracy: 0.7398 - val_loss: 0.5294 - val_accuracy: 0.7910\n",
      "Epoch 29/500\n",
      "757/757 [==============================] - 0s 87us/sample - loss: 0.5482 - accuracy: 0.7477 - val_loss: 0.5274 - val_accuracy: 0.7985\n",
      "Epoch 30/500\n",
      "757/757 [==============================] - 0s 88us/sample - loss: 0.5244 - accuracy: 0.7754 - val_loss: 0.5256 - val_accuracy: 0.8060\n",
      "Epoch 31/500\n",
      "757/757 [==============================] - 0s 86us/sample - loss: 0.5380 - accuracy: 0.7609 - val_loss: 0.5227 - val_accuracy: 0.7910\n",
      "Epoch 32/500\n",
      "757/757 [==============================] - 0s 87us/sample - loss: 0.5354 - accuracy: 0.7649 - val_loss: 0.5200 - val_accuracy: 0.7910\n",
      "Epoch 33/500\n",
      "757/757 [==============================] - 0s 90us/sample - loss: 0.5376 - accuracy: 0.7569 - val_loss: 0.5177 - val_accuracy: 0.7910\n",
      "Epoch 34/500\n",
      "757/757 [==============================] - 0s 89us/sample - loss: 0.5259 - accuracy: 0.7715 - val_loss: 0.5147 - val_accuracy: 0.8060\n",
      "Epoch 35/500\n",
      "757/757 [==============================] - 0s 85us/sample - loss: 0.5322 - accuracy: 0.7701 - val_loss: 0.5137 - val_accuracy: 0.8060\n",
      "Epoch 36/500\n",
      "757/757 [==============================] - 0s 88us/sample - loss: 0.5335 - accuracy: 0.7675 - val_loss: 0.5114 - val_accuracy: 0.8060\n",
      "Epoch 37/500\n",
      "757/757 [==============================] - 0s 89us/sample - loss: 0.5434 - accuracy: 0.7450 - val_loss: 0.5106 - val_accuracy: 0.8060\n",
      "Epoch 38/500\n",
      "757/757 [==============================] - 0s 87us/sample - loss: 0.5298 - accuracy: 0.7675 - val_loss: 0.5079 - val_accuracy: 0.8060\n",
      "Epoch 39/500\n",
      "757/757 [==============================] - 0s 97us/sample - loss: 0.5236 - accuracy: 0.7834 - val_loss: 0.5061 - val_accuracy: 0.8060\n",
      "Epoch 40/500\n",
      "757/757 [==============================] - 0s 95us/sample - loss: 0.5308 - accuracy: 0.7768 - val_loss: 0.5027 - val_accuracy: 0.8060\n",
      "Epoch 41/500\n",
      "757/757 [==============================] - 0s 90us/sample - loss: 0.5293 - accuracy: 0.7688 - val_loss: 0.5013 - val_accuracy: 0.8060\n",
      "Epoch 42/500\n",
      "757/757 [==============================] - 0s 103us/sample - loss: 0.5249 - accuracy: 0.7820 - val_loss: 0.4992 - val_accuracy: 0.8060\n",
      "Epoch 43/500\n",
      "757/757 [==============================] - 0s 88us/sample - loss: 0.5226 - accuracy: 0.7807 - val_loss: 0.4974 - val_accuracy: 0.8060\n",
      "Epoch 44/500\n",
      "757/757 [==============================] - 0s 96us/sample - loss: 0.5098 - accuracy: 0.7781 - val_loss: 0.4940 - val_accuracy: 0.8134\n",
      "Epoch 45/500\n",
      "757/757 [==============================] - 0s 95us/sample - loss: 0.5082 - accuracy: 0.7952 - val_loss: 0.4931 - val_accuracy: 0.8134\n",
      "Epoch 46/500\n",
      "757/757 [==============================] - 0s 89us/sample - loss: 0.5129 - accuracy: 0.7992 - val_loss: 0.4912 - val_accuracy: 0.8134\n",
      "Epoch 47/500\n",
      "757/757 [==============================] - 0s 103us/sample - loss: 0.5154 - accuracy: 0.7807 - val_loss: 0.4905 - val_accuracy: 0.8134\n",
      "Epoch 48/500\n",
      "757/757 [==============================] - 0s 89us/sample - loss: 0.5096 - accuracy: 0.7873 - val_loss: 0.4873 - val_accuracy: 0.7985\n",
      "Epoch 49/500\n",
      "757/757 [==============================] - 0s 98us/sample - loss: 0.4991 - accuracy: 0.8032 - val_loss: 0.4857 - val_accuracy: 0.8134\n",
      "Epoch 50/500\n",
      "757/757 [==============================] - 0s 96us/sample - loss: 0.5076 - accuracy: 0.7847 - val_loss: 0.4838 - val_accuracy: 0.8134\n",
      "Epoch 51/500\n",
      "757/757 [==============================] - 0s 112us/sample - loss: 0.4980 - accuracy: 0.7992 - val_loss: 0.4810 - val_accuracy: 0.8209\n",
      "Epoch 52/500\n",
      "757/757 [==============================] - 0s 89us/sample - loss: 0.5048 - accuracy: 0.7860 - val_loss: 0.4790 - val_accuracy: 0.8134\n",
      "Epoch 53/500\n",
      "757/757 [==============================] - 0s 96us/sample - loss: 0.4998 - accuracy: 0.7900 - val_loss: 0.4776 - val_accuracy: 0.8209\n",
      "Epoch 54/500\n",
      "757/757 [==============================] - 0s 88us/sample - loss: 0.4997 - accuracy: 0.7900 - val_loss: 0.4774 - val_accuracy: 0.8134\n",
      "Epoch 55/500\n",
      "757/757 [==============================] - 0s 88us/sample - loss: 0.4842 - accuracy: 0.8137 - val_loss: 0.4760 - val_accuracy: 0.8134\n",
      "Epoch 56/500\n",
      "757/757 [==============================] - 0s 88us/sample - loss: 0.4845 - accuracy: 0.8217 - val_loss: 0.4749 - val_accuracy: 0.8134\n",
      "Epoch 57/500\n",
      "757/757 [==============================] - 0s 90us/sample - loss: 0.4994 - accuracy: 0.8085 - val_loss: 0.4738 - val_accuracy: 0.8134\n",
      "Epoch 58/500\n",
      "757/757 [==============================] - 0s 96us/sample - loss: 0.4863 - accuracy: 0.8071 - val_loss: 0.4720 - val_accuracy: 0.8209\n",
      "Epoch 59/500\n",
      "757/757 [==============================] - 0s 87us/sample - loss: 0.4898 - accuracy: 0.8085 - val_loss: 0.4703 - val_accuracy: 0.8209\n",
      "Epoch 60/500\n",
      "757/757 [==============================] - 0s 89us/sample - loss: 0.4889 - accuracy: 0.7979 - val_loss: 0.4699 - val_accuracy: 0.8134\n",
      "Epoch 61/500\n",
      "757/757 [==============================] - 0s 87us/sample - loss: 0.4749 - accuracy: 0.8177 - val_loss: 0.4695 - val_accuracy: 0.8209\n",
      "Epoch 62/500\n",
      "757/757 [==============================] - 0s 87us/sample - loss: 0.4914 - accuracy: 0.8058 - val_loss: 0.4673 - val_accuracy: 0.8134\n",
      "Epoch 63/500\n",
      "757/757 [==============================] - 0s 87us/sample - loss: 0.4886 - accuracy: 0.8203 - val_loss: 0.4669 - val_accuracy: 0.8209\n",
      "Epoch 64/500\n",
      "757/757 [==============================] - 0s 88us/sample - loss: 0.4899 - accuracy: 0.8018 - val_loss: 0.4653 - val_accuracy: 0.8209\n",
      "Epoch 65/500\n",
      "757/757 [==============================] - 0s 88us/sample - loss: 0.4797 - accuracy: 0.8124 - val_loss: 0.4647 - val_accuracy: 0.8209\n",
      "Epoch 66/500\n",
      "757/757 [==============================] - 0s 89us/sample - loss: 0.4869 - accuracy: 0.8058 - val_loss: 0.4634 - val_accuracy: 0.8209\n",
      "Epoch 67/500\n",
      "757/757 [==============================] - 0s 88us/sample - loss: 0.4765 - accuracy: 0.8217 - val_loss: 0.4627 - val_accuracy: 0.8209\n",
      "Epoch 68/500\n",
      "757/757 [==============================] - 0s 89us/sample - loss: 0.4793 - accuracy: 0.8124 - val_loss: 0.4608 - val_accuracy: 0.8209\n",
      "Epoch 69/500\n",
      "757/757 [==============================] - 0s 105us/sample - loss: 0.4787 - accuracy: 0.8190 - val_loss: 0.4592 - val_accuracy: 0.8284\n",
      "Epoch 70/500\n",
      "757/757 [==============================] - 0s 88us/sample - loss: 0.4821 - accuracy: 0.8243 - val_loss: 0.4583 - val_accuracy: 0.8284\n",
      "Epoch 71/500\n",
      "757/757 [==============================] - 0s 97us/sample - loss: 0.4894 - accuracy: 0.8124 - val_loss: 0.4591 - val_accuracy: 0.8284\n",
      "Epoch 72/500\n",
      "757/757 [==============================] - 0s 89us/sample - loss: 0.4781 - accuracy: 0.8283 - val_loss: 0.4586 - val_accuracy: 0.8209\n",
      "Epoch 73/500\n",
      "757/757 [==============================] - 0s 88us/sample - loss: 0.4742 - accuracy: 0.8309 - val_loss: 0.4582 - val_accuracy: 0.8209\n",
      "Epoch 74/500\n",
      "757/757 [==============================] - 0s 98us/sample - loss: 0.4789 - accuracy: 0.8098 - val_loss: 0.4550 - val_accuracy: 0.8284\n",
      "Epoch 75/500\n",
      "757/757 [==============================] - 0s 95us/sample - loss: 0.4872 - accuracy: 0.8230 - val_loss: 0.4542 - val_accuracy: 0.8284\n",
      "Epoch 76/500\n",
      "757/757 [==============================] - 0s 89us/sample - loss: 0.4625 - accuracy: 0.8336 - val_loss: 0.4544 - val_accuracy: 0.8284\n",
      "Epoch 77/500\n",
      "757/757 [==============================] - 0s 88us/sample - loss: 0.4615 - accuracy: 0.8164 - val_loss: 0.4518 - val_accuracy: 0.8209\n",
      "Epoch 78/500\n",
      "757/757 [==============================] - 0s 89us/sample - loss: 0.4690 - accuracy: 0.8217 - val_loss: 0.4523 - val_accuracy: 0.8284\n",
      "Epoch 79/500\n",
      "757/757 [==============================] - 0s 89us/sample - loss: 0.4799 - accuracy: 0.8415 - val_loss: 0.4510 - val_accuracy: 0.8284\n",
      "Epoch 80/500\n",
      "757/757 [==============================] - 0s 90us/sample - loss: 0.4671 - accuracy: 0.8269 - val_loss: 0.4504 - val_accuracy: 0.8209\n",
      "Epoch 81/500\n",
      "757/757 [==============================] - 0s 104us/sample - loss: 0.4601 - accuracy: 0.8269 - val_loss: 0.4506 - val_accuracy: 0.8284\n",
      "Epoch 82/500\n",
      "757/757 [==============================] - 0s 94us/sample - loss: 0.4673 - accuracy: 0.8256 - val_loss: 0.4503 - val_accuracy: 0.8209\n",
      "Epoch 83/500\n",
      "757/757 [==============================] - 0s 96us/sample - loss: 0.4707 - accuracy: 0.8085 - val_loss: 0.4509 - val_accuracy: 0.8284\n",
      "Epoch 84/500\n",
      "757/757 [==============================] - 0s 88us/sample - loss: 0.4809 - accuracy: 0.8177 - val_loss: 0.4512 - val_accuracy: 0.8284\n",
      "Epoch 85/500\n",
      "757/757 [==============================] - 0s 89us/sample - loss: 0.4513 - accuracy: 0.8296 - val_loss: 0.4476 - val_accuracy: 0.8284\n",
      "Epoch 86/500\n",
      "757/757 [==============================] - 0s 97us/sample - loss: 0.4682 - accuracy: 0.8283 - val_loss: 0.4480 - val_accuracy: 0.8209\n",
      "Epoch 87/500\n",
      "757/757 [==============================] - 0s 96us/sample - loss: 0.4759 - accuracy: 0.8269 - val_loss: 0.4483 - val_accuracy: 0.8284\n",
      "Epoch 88/500\n",
      "757/757 [==============================] - 0s 95us/sample - loss: 0.4723 - accuracy: 0.8269 - val_loss: 0.4466 - val_accuracy: 0.8209\n",
      "Epoch 89/500\n",
      "757/757 [==============================] - 0s 97us/sample - loss: 0.4601 - accuracy: 0.8151 - val_loss: 0.4468 - val_accuracy: 0.8209\n",
      "Epoch 90/500\n",
      "757/757 [==============================] - 0s 89us/sample - loss: 0.4536 - accuracy: 0.8230 - val_loss: 0.4475 - val_accuracy: 0.8209\n",
      "Epoch 91/500\n",
      "757/757 [==============================] - 0s 99us/sample - loss: 0.4682 - accuracy: 0.8336 - val_loss: 0.4441 - val_accuracy: 0.8209\n",
      "Epoch 92/500\n",
      "757/757 [==============================] - 0s 89us/sample - loss: 0.4485 - accuracy: 0.8309 - val_loss: 0.4441 - val_accuracy: 0.8209\n",
      "Epoch 93/500\n",
      "757/757 [==============================] - 0s 89us/sample - loss: 0.4750 - accuracy: 0.8111 - val_loss: 0.4422 - val_accuracy: 0.8209\n",
      "Epoch 94/500\n",
      "757/757 [==============================] - 0s 98us/sample - loss: 0.4499 - accuracy: 0.8336 - val_loss: 0.4438 - val_accuracy: 0.8209\n",
      "Epoch 95/500\n",
      "757/757 [==============================] - 0s 88us/sample - loss: 0.4685 - accuracy: 0.8177 - val_loss: 0.4438 - val_accuracy: 0.8209\n",
      "Epoch 96/500\n",
      "757/757 [==============================] - 0s 90us/sample - loss: 0.4676 - accuracy: 0.8309 - val_loss: 0.4447 - val_accuracy: 0.8284\n",
      "Epoch 97/500\n",
      "757/757 [==============================] - 0s 95us/sample - loss: 0.4732 - accuracy: 0.8269 - val_loss: 0.4415 - val_accuracy: 0.8209\n",
      "Epoch 98/500\n",
      "757/757 [==============================] - 0s 88us/sample - loss: 0.4589 - accuracy: 0.8269 - val_loss: 0.4430 - val_accuracy: 0.8284\n",
      "Epoch 99/500\n",
      "757/757 [==============================] - 0s 87us/sample - loss: 0.4621 - accuracy: 0.8269 - val_loss: 0.4406 - val_accuracy: 0.8209\n",
      "Epoch 100/500\n",
      "757/757 [==============================] - 0s 97us/sample - loss: 0.4551 - accuracy: 0.8309 - val_loss: 0.4401 - val_accuracy: 0.8209\n",
      "Epoch 101/500\n",
      "757/757 [==============================] - 0s 95us/sample - loss: 0.4573 - accuracy: 0.8256 - val_loss: 0.4421 - val_accuracy: 0.8209\n",
      "Epoch 102/500\n",
      "757/757 [==============================] - 0s 89us/sample - loss: 0.4627 - accuracy: 0.8296 - val_loss: 0.4420 - val_accuracy: 0.8209\n",
      "Epoch 103/500\n",
      "757/757 [==============================] - 0s 96us/sample - loss: 0.4490 - accuracy: 0.8309 - val_loss: 0.4388 - val_accuracy: 0.8209\n",
      "Epoch 104/500\n",
      "757/757 [==============================] - 0s 89us/sample - loss: 0.4636 - accuracy: 0.8269 - val_loss: 0.4400 - val_accuracy: 0.8209\n",
      "Epoch 105/500\n",
      "757/757 [==============================] - 0s 106us/sample - loss: 0.4272 - accuracy: 0.8388 - val_loss: 0.4373 - val_accuracy: 0.8358\n",
      "Epoch 106/500\n",
      "757/757 [==============================] - 0s 89us/sample - loss: 0.4725 - accuracy: 0.8164 - val_loss: 0.4410 - val_accuracy: 0.8209\n",
      "Epoch 107/500\n",
      "757/757 [==============================] - 0s 90us/sample - loss: 0.4480 - accuracy: 0.8375 - val_loss: 0.4400 - val_accuracy: 0.8209\n",
      "Epoch 108/500\n",
      "757/757 [==============================] - 0s 88us/sample - loss: 0.4598 - accuracy: 0.8322 - val_loss: 0.4372 - val_accuracy: 0.8284\n",
      "Epoch 109/500\n",
      "757/757 [==============================] - 0s 95us/sample - loss: 0.4639 - accuracy: 0.8243 - val_loss: 0.4383 - val_accuracy: 0.8284\n",
      "Epoch 110/500\n",
      "757/757 [==============================] - 0s 95us/sample - loss: 0.4677 - accuracy: 0.8362 - val_loss: 0.4375 - val_accuracy: 0.8284\n",
      "Epoch 111/500\n",
      "757/757 [==============================] - 0s 86us/sample - loss: 0.4733 - accuracy: 0.8296 - val_loss: 0.4406 - val_accuracy: 0.8209\n",
      "Epoch 112/500\n",
      "757/757 [==============================] - 0s 88us/sample - loss: 0.4379 - accuracy: 0.8336 - val_loss: 0.4393 - val_accuracy: 0.8209\n",
      "Epoch 113/500\n",
      "757/757 [==============================] - 0s 90us/sample - loss: 0.4533 - accuracy: 0.8336 - val_loss: 0.4373 - val_accuracy: 0.8209\n",
      "Epoch 114/500\n",
      "757/757 [==============================] - 0s 97us/sample - loss: 0.4440 - accuracy: 0.8441 - val_loss: 0.4363 - val_accuracy: 0.8284\n",
      "Epoch 115/500\n",
      "757/757 [==============================] - 0s 89us/sample - loss: 0.4385 - accuracy: 0.8349 - val_loss: 0.4346 - val_accuracy: 0.8284\n",
      "Epoch 116/500\n",
      "757/757 [==============================] - 0s 106us/sample - loss: 0.4604 - accuracy: 0.8375 - val_loss: 0.4351 - val_accuracy: 0.8433\n",
      "Epoch 117/500\n",
      "757/757 [==============================] - 0s 97us/sample - loss: 0.4575 - accuracy: 0.8428 - val_loss: 0.4355 - val_accuracy: 0.8358\n",
      "Epoch 118/500\n",
      "757/757 [==============================] - 0s 96us/sample - loss: 0.4622 - accuracy: 0.8362 - val_loss: 0.4363 - val_accuracy: 0.8209\n",
      "Epoch 119/500\n",
      "757/757 [==============================] - 0s 94us/sample - loss: 0.4491 - accuracy: 0.8269 - val_loss: 0.4356 - val_accuracy: 0.8209\n",
      "Epoch 120/500\n",
      "757/757 [==============================] - 0s 89us/sample - loss: 0.4498 - accuracy: 0.8428 - val_loss: 0.4351 - val_accuracy: 0.8284\n",
      "Epoch 121/500\n",
      "757/757 [==============================] - 0s 124us/sample - loss: 0.4484 - accuracy: 0.8349 - val_loss: 0.4338 - val_accuracy: 0.8284\n",
      "Epoch 122/500\n",
      "757/757 [==============================] - 0s 114us/sample - loss: 0.4512 - accuracy: 0.8402 - val_loss: 0.4360 - val_accuracy: 0.8209\n",
      "Epoch 123/500\n",
      "757/757 [==============================] - 0s 111us/sample - loss: 0.4521 - accuracy: 0.8468 - val_loss: 0.4382 - val_accuracy: 0.8209\n",
      "Epoch 124/500\n",
      "757/757 [==============================] - 0s 99us/sample - loss: 0.4518 - accuracy: 0.8441 - val_loss: 0.4365 - val_accuracy: 0.8209\n",
      "Epoch 125/500\n",
      "757/757 [==============================] - 0s 129us/sample - loss: 0.4532 - accuracy: 0.8336 - val_loss: 0.4355 - val_accuracy: 0.8209\n",
      "Epoch 126/500\n",
      "757/757 [==============================] - 0s 104us/sample - loss: 0.4292 - accuracy: 0.8349 - val_loss: 0.4336 - val_accuracy: 0.8284\n",
      "Epoch 127/500\n",
      "757/757 [==============================] - 0s 98us/sample - loss: 0.4393 - accuracy: 0.8402 - val_loss: 0.4339 - val_accuracy: 0.8284\n",
      "Epoch 128/500\n",
      "757/757 [==============================] - 0s 96us/sample - loss: 0.4292 - accuracy: 0.8454 - val_loss: 0.4305 - val_accuracy: 0.8433\n",
      "Epoch 129/500\n",
      "757/757 [==============================] - 0s 89us/sample - loss: 0.4518 - accuracy: 0.8402 - val_loss: 0.4340 - val_accuracy: 0.8284\n",
      "Epoch 130/500\n",
      "757/757 [==============================] - 0s 96us/sample - loss: 0.4476 - accuracy: 0.8349 - val_loss: 0.4317 - val_accuracy: 0.8358\n",
      "Epoch 131/500\n",
      "757/757 [==============================] - 0s 96us/sample - loss: 0.4533 - accuracy: 0.8309 - val_loss: 0.4323 - val_accuracy: 0.8284\n",
      "Epoch 132/500\n",
      "757/757 [==============================] - 0s 97us/sample - loss: 0.4387 - accuracy: 0.8402 - val_loss: 0.4331 - val_accuracy: 0.8284\n",
      "Epoch 133/500\n",
      "757/757 [==============================] - 0s 96us/sample - loss: 0.4356 - accuracy: 0.8481 - val_loss: 0.4331 - val_accuracy: 0.8358\n",
      "Epoch 134/500\n",
      "757/757 [==============================] - 0s 89us/sample - loss: 0.4310 - accuracy: 0.8507 - val_loss: 0.4324 - val_accuracy: 0.8284\n",
      "Epoch 135/500\n",
      "757/757 [==============================] - 0s 96us/sample - loss: 0.4546 - accuracy: 0.8362 - val_loss: 0.4319 - val_accuracy: 0.8358\n",
      "Epoch 136/500\n",
      "757/757 [==============================] - 0s 88us/sample - loss: 0.4291 - accuracy: 0.8388 - val_loss: 0.4300 - val_accuracy: 0.8433\n",
      "Epoch 137/500\n",
      "757/757 [==============================] - 0s 87us/sample - loss: 0.4494 - accuracy: 0.8322 - val_loss: 0.4323 - val_accuracy: 0.8284\n",
      "Epoch 138/500\n",
      "757/757 [==============================] - 0s 89us/sample - loss: 0.4405 - accuracy: 0.8362 - val_loss: 0.4317 - val_accuracy: 0.8284\n",
      "Epoch 139/500\n",
      "757/757 [==============================] - 0s 87us/sample - loss: 0.4409 - accuracy: 0.8454 - val_loss: 0.4308 - val_accuracy: 0.8433\n",
      "Epoch 140/500\n",
      "757/757 [==============================] - 0s 88us/sample - loss: 0.4579 - accuracy: 0.8388 - val_loss: 0.4359 - val_accuracy: 0.8209\n",
      "Epoch 141/500\n",
      "757/757 [==============================] - 0s 88us/sample - loss: 0.4500 - accuracy: 0.8362 - val_loss: 0.4318 - val_accuracy: 0.8358\n",
      "Epoch 142/500\n",
      "757/757 [==============================] - 0s 96us/sample - loss: 0.4428 - accuracy: 0.8454 - val_loss: 0.4305 - val_accuracy: 0.8358\n",
      "Epoch 143/500\n",
      "757/757 [==============================] - 0s 96us/sample - loss: 0.4449 - accuracy: 0.8454 - val_loss: 0.4301 - val_accuracy: 0.8433\n",
      "Epoch 144/500\n",
      "757/757 [==============================] - 0s 89us/sample - loss: 0.4570 - accuracy: 0.8283 - val_loss: 0.4296 - val_accuracy: 0.8358\n",
      "Epoch 145/500\n",
      "757/757 [==============================] - 0s 89us/sample - loss: 0.4433 - accuracy: 0.8428 - val_loss: 0.4299 - val_accuracy: 0.8433\n",
      "Epoch 146/500\n",
      "757/757 [==============================] - 0s 89us/sample - loss: 0.4338 - accuracy: 0.8494 - val_loss: 0.4304 - val_accuracy: 0.8358\n",
      "Epoch 147/500\n",
      "757/757 [==============================] - 0s 88us/sample - loss: 0.4346 - accuracy: 0.8468 - val_loss: 0.4295 - val_accuracy: 0.8358\n",
      "Epoch 148/500\n",
      "757/757 [==============================] - 0s 103us/sample - loss: 0.4563 - accuracy: 0.8362 - val_loss: 0.4272 - val_accuracy: 0.8507\n",
      "Epoch 149/500\n",
      "757/757 [==============================] - 0s 95us/sample - loss: 0.4355 - accuracy: 0.8415 - val_loss: 0.4296 - val_accuracy: 0.8284\n",
      "Epoch 150/500\n",
      "757/757 [==============================] - 0s 88us/sample - loss: 0.4441 - accuracy: 0.8441 - val_loss: 0.4290 - val_accuracy: 0.8284\n",
      "Epoch 151/500\n",
      "757/757 [==============================] - 0s 85us/sample - loss: 0.4423 - accuracy: 0.8243 - val_loss: 0.4307 - val_accuracy: 0.8358\n",
      "Epoch 152/500\n",
      "757/757 [==============================] - 0s 87us/sample - loss: 0.4323 - accuracy: 0.8494 - val_loss: 0.4302 - val_accuracy: 0.8358\n",
      "Epoch 153/500\n",
      "757/757 [==============================] - 0s 96us/sample - loss: 0.4405 - accuracy: 0.8283 - val_loss: 0.4298 - val_accuracy: 0.8358\n",
      "Epoch 154/500\n",
      "757/757 [==============================] - 0s 153us/sample - loss: 0.4339 - accuracy: 0.8454 - val_loss: 0.4279 - val_accuracy: 0.8358\n",
      "Epoch 155/500\n",
      "757/757 [==============================] - 0s 127us/sample - loss: 0.4410 - accuracy: 0.8402 - val_loss: 0.4280 - val_accuracy: 0.8358\n",
      "Epoch 156/500\n",
      "757/757 [==============================] - 0s 121us/sample - loss: 0.4256 - accuracy: 0.8507 - val_loss: 0.4277 - val_accuracy: 0.8358\n",
      "Epoch 157/500\n",
      "757/757 [==============================] - 0s 117us/sample - loss: 0.4482 - accuracy: 0.8468 - val_loss: 0.4279 - val_accuracy: 0.8433\n",
      "Epoch 158/500\n",
      "757/757 [==============================] - 0s 111us/sample - loss: 0.4383 - accuracy: 0.8494 - val_loss: 0.4291 - val_accuracy: 0.8358\n",
      "Epoch 159/500\n",
      "757/757 [==============================] - 0s 112us/sample - loss: 0.4389 - accuracy: 0.8415 - val_loss: 0.4271 - val_accuracy: 0.8358\n",
      "Epoch 160/500\n",
      "757/757 [==============================] - 0s 115us/sample - loss: 0.4394 - accuracy: 0.8428 - val_loss: 0.4274 - val_accuracy: 0.8433\n",
      "Epoch 161/500\n",
      "757/757 [==============================] - 0s 111us/sample - loss: 0.4314 - accuracy: 0.8454 - val_loss: 0.4278 - val_accuracy: 0.8358\n",
      "Epoch 162/500\n",
      "757/757 [==============================] - 0s 112us/sample - loss: 0.4451 - accuracy: 0.8388 - val_loss: 0.4283 - val_accuracy: 0.8358\n",
      "Epoch 163/500\n",
      "757/757 [==============================] - 0s 106us/sample - loss: 0.4490 - accuracy: 0.8388 - val_loss: 0.4268 - val_accuracy: 0.8358\n",
      "Epoch 164/500\n",
      "757/757 [==============================] - 0s 100us/sample - loss: 0.4390 - accuracy: 0.8402 - val_loss: 0.4255 - val_accuracy: 0.8358\n",
      "Epoch 165/500\n",
      "757/757 [==============================] - 0s 98us/sample - loss: 0.4421 - accuracy: 0.8494 - val_loss: 0.4282 - val_accuracy: 0.8284\n",
      "Epoch 166/500\n",
      "757/757 [==============================] - 0s 98us/sample - loss: 0.4469 - accuracy: 0.8388 - val_loss: 0.4277 - val_accuracy: 0.8358\n",
      "Epoch 167/500\n",
      "757/757 [==============================] - 0s 98us/sample - loss: 0.4371 - accuracy: 0.8322 - val_loss: 0.4265 - val_accuracy: 0.8358\n",
      "Epoch 168/500\n",
      "757/757 [==============================] - 0s 126us/sample - loss: 0.4319 - accuracy: 0.8494 - val_loss: 0.4258 - val_accuracy: 0.8284\n",
      "Epoch 169/500\n",
      "757/757 [==============================] - 0s 96us/sample - loss: 0.4347 - accuracy: 0.8428 - val_loss: 0.4279 - val_accuracy: 0.8358\n",
      "Epoch 170/500\n",
      "757/757 [==============================] - 0s 103us/sample - loss: 0.4366 - accuracy: 0.8428 - val_loss: 0.4309 - val_accuracy: 0.8284\n",
      "Epoch 171/500\n",
      "757/757 [==============================] - 0s 97us/sample - loss: 0.4279 - accuracy: 0.8468 - val_loss: 0.4282 - val_accuracy: 0.8358\n",
      "Epoch 172/500\n",
      "757/757 [==============================] - 0s 89us/sample - loss: 0.4274 - accuracy: 0.8415 - val_loss: 0.4271 - val_accuracy: 0.8358\n",
      "Epoch 173/500\n",
      "757/757 [==============================] - 0s 97us/sample - loss: 0.4304 - accuracy: 0.8336 - val_loss: 0.4252 - val_accuracy: 0.8358\n",
      "Epoch 174/500\n",
      "757/757 [==============================] - 0s 86us/sample - loss: 0.4321 - accuracy: 0.8428 - val_loss: 0.4269 - val_accuracy: 0.8358\n",
      "Epoch 175/500\n",
      "757/757 [==============================] - 0s 97us/sample - loss: 0.4338 - accuracy: 0.8415 - val_loss: 0.4265 - val_accuracy: 0.8358\n",
      "Epoch 176/500\n",
      "757/757 [==============================] - 0s 96us/sample - loss: 0.4414 - accuracy: 0.8428 - val_loss: 0.4269 - val_accuracy: 0.8358\n",
      "Epoch 177/500\n",
      "757/757 [==============================] - 0s 99us/sample - loss: 0.4528 - accuracy: 0.8494 - val_loss: 0.4274 - val_accuracy: 0.8358\n",
      "Epoch 178/500\n",
      "757/757 [==============================] - 0s 89us/sample - loss: 0.4114 - accuracy: 0.8481 - val_loss: 0.4238 - val_accuracy: 0.8358\n",
      "Epoch 179/500\n",
      "757/757 [==============================] - 0s 86us/sample - loss: 0.4403 - accuracy: 0.8481 - val_loss: 0.4269 - val_accuracy: 0.8358\n",
      "Epoch 180/500\n",
      "757/757 [==============================] - 0s 90us/sample - loss: 0.4132 - accuracy: 0.8626 - val_loss: 0.4257 - val_accuracy: 0.8284\n",
      "Epoch 181/500\n",
      "757/757 [==============================] - 0s 88us/sample - loss: 0.4399 - accuracy: 0.8428 - val_loss: 0.4243 - val_accuracy: 0.8358\n",
      "Epoch 182/500\n",
      "757/757 [==============================] - 0s 89us/sample - loss: 0.4313 - accuracy: 0.8428 - val_loss: 0.4230 - val_accuracy: 0.8358\n",
      "Epoch 183/500\n",
      "757/757 [==============================] - 0s 87us/sample - loss: 0.4235 - accuracy: 0.8520 - val_loss: 0.4233 - val_accuracy: 0.8358\n",
      "Epoch 184/500\n",
      "757/757 [==============================] - 0s 88us/sample - loss: 0.4157 - accuracy: 0.8587 - val_loss: 0.4230 - val_accuracy: 0.8358\n",
      "Epoch 185/500\n",
      "757/757 [==============================] - 0s 88us/sample - loss: 0.4464 - accuracy: 0.8441 - val_loss: 0.4238 - val_accuracy: 0.8358\n",
      "Epoch 186/500\n",
      "757/757 [==============================] - 0s 89us/sample - loss: 0.4321 - accuracy: 0.8468 - val_loss: 0.4247 - val_accuracy: 0.8358\n",
      "Epoch 187/500\n",
      "757/757 [==============================] - 0s 87us/sample - loss: 0.4392 - accuracy: 0.8441 - val_loss: 0.4287 - val_accuracy: 0.8358\n",
      "Epoch 188/500\n",
      "757/757 [==============================] - 0s 89us/sample - loss: 0.4331 - accuracy: 0.8520 - val_loss: 0.4265 - val_accuracy: 0.8358\n",
      "Epoch 189/500\n",
      "757/757 [==============================] - 0s 88us/sample - loss: 0.4359 - accuracy: 0.8428 - val_loss: 0.4257 - val_accuracy: 0.8284\n",
      "Epoch 190/500\n",
      "757/757 [==============================] - 0s 102us/sample - loss: 0.4420 - accuracy: 0.8415 - val_loss: 0.4270 - val_accuracy: 0.8284\n",
      "Epoch 191/500\n",
      "757/757 [==============================] - 0s 111us/sample - loss: 0.4240 - accuracy: 0.8454 - val_loss: 0.4252 - val_accuracy: 0.8358\n",
      "Epoch 192/500\n",
      "757/757 [==============================] - 0s 107us/sample - loss: 0.4272 - accuracy: 0.8402 - val_loss: 0.4251 - val_accuracy: 0.8358\n",
      "Epoch 193/500\n",
      "757/757 [==============================] - 0s 103us/sample - loss: 0.4325 - accuracy: 0.8454 - val_loss: 0.4253 - val_accuracy: 0.8358\n",
      "Epoch 194/500\n",
      "757/757 [==============================] - 0s 109us/sample - loss: 0.4321 - accuracy: 0.8454 - val_loss: 0.4241 - val_accuracy: 0.8433\n",
      "Epoch 195/500\n",
      "757/757 [==============================] - 0s 112us/sample - loss: 0.4354 - accuracy: 0.8481 - val_loss: 0.4251 - val_accuracy: 0.8358\n",
      "Epoch 196/500\n",
      "757/757 [==============================] - 0s 105us/sample - loss: 0.4350 - accuracy: 0.8468 - val_loss: 0.4238 - val_accuracy: 0.8358\n",
      "Epoch 197/500\n",
      "757/757 [==============================] - 0s 114us/sample - loss: 0.4302 - accuracy: 0.8481 - val_loss: 0.4264 - val_accuracy: 0.8358\n",
      "Epoch 198/500\n",
      "757/757 [==============================] - 0s 111us/sample - loss: 0.4403 - accuracy: 0.8441 - val_loss: 0.4269 - val_accuracy: 0.8358\n",
      "Epoch 199/500\n",
      "757/757 [==============================] - 0s 101us/sample - loss: 0.4345 - accuracy: 0.8441 - val_loss: 0.4213 - val_accuracy: 0.8507\n",
      "Epoch 200/500\n",
      "757/757 [==============================] - 0s 96us/sample - loss: 0.4293 - accuracy: 0.8441 - val_loss: 0.4220 - val_accuracy: 0.8358\n",
      "Epoch 201/500\n",
      "757/757 [==============================] - 0s 97us/sample - loss: 0.4318 - accuracy: 0.8481 - val_loss: 0.4229 - val_accuracy: 0.8358\n",
      "Epoch 202/500\n",
      "757/757 [==============================] - 0s 95us/sample - loss: 0.4266 - accuracy: 0.8520 - val_loss: 0.4236 - val_accuracy: 0.8284\n",
      "Epoch 203/500\n",
      "757/757 [==============================] - 0s 96us/sample - loss: 0.4241 - accuracy: 0.8573 - val_loss: 0.4243 - val_accuracy: 0.8358\n",
      "Epoch 204/500\n",
      "757/757 [==============================] - 0s 96us/sample - loss: 0.4309 - accuracy: 0.8560 - val_loss: 0.4247 - val_accuracy: 0.8358\n",
      "Epoch 205/500\n",
      "757/757 [==============================] - 0s 97us/sample - loss: 0.4289 - accuracy: 0.8468 - val_loss: 0.4205 - val_accuracy: 0.8358\n",
      "Epoch 206/500\n",
      "757/757 [==============================] - 0s 89us/sample - loss: 0.4273 - accuracy: 0.8454 - val_loss: 0.4203 - val_accuracy: 0.8507\n",
      "Epoch 207/500\n",
      "757/757 [==============================] - 0s 90us/sample - loss: 0.4334 - accuracy: 0.8428 - val_loss: 0.4203 - val_accuracy: 0.8507\n",
      "Epoch 208/500\n",
      "757/757 [==============================] - 0s 89us/sample - loss: 0.4429 - accuracy: 0.8309 - val_loss: 0.4219 - val_accuracy: 0.8433\n",
      "Epoch 209/500\n",
      "757/757 [==============================] - 0s 87us/sample - loss: 0.4382 - accuracy: 0.8441 - val_loss: 0.4238 - val_accuracy: 0.8358\n",
      "Epoch 210/500\n",
      "757/757 [==============================] - 0s 88us/sample - loss: 0.4497 - accuracy: 0.8388 - val_loss: 0.4222 - val_accuracy: 0.8507\n",
      "Epoch 211/500\n",
      "757/757 [==============================] - 0s 88us/sample - loss: 0.4186 - accuracy: 0.8468 - val_loss: 0.4238 - val_accuracy: 0.8358\n",
      "Epoch 212/500\n",
      "757/757 [==============================] - 0s 95us/sample - loss: 0.4245 - accuracy: 0.8468 - val_loss: 0.4242 - val_accuracy: 0.8433\n",
      "Epoch 213/500\n",
      "757/757 [==============================] - 0s 89us/sample - loss: 0.4283 - accuracy: 0.8547 - val_loss: 0.4241 - val_accuracy: 0.8358\n",
      "Epoch 214/500\n",
      "757/757 [==============================] - 0s 95us/sample - loss: 0.4378 - accuracy: 0.8428 - val_loss: 0.4253 - val_accuracy: 0.8433\n",
      "Epoch 215/500\n",
      "757/757 [==============================] - 0s 90us/sample - loss: 0.4333 - accuracy: 0.8454 - val_loss: 0.4215 - val_accuracy: 0.8433\n",
      "Epoch 216/500\n",
      "757/757 [==============================] - 0s 88us/sample - loss: 0.4261 - accuracy: 0.8481 - val_loss: 0.4234 - val_accuracy: 0.8433\n",
      "Epoch 217/500\n",
      "757/757 [==============================] - 0s 87us/sample - loss: 0.4276 - accuracy: 0.8362 - val_loss: 0.4253 - val_accuracy: 0.8433\n",
      "Epoch 218/500\n",
      "757/757 [==============================] - 0s 87us/sample - loss: 0.4433 - accuracy: 0.8468 - val_loss: 0.4244 - val_accuracy: 0.8358\n",
      "Epoch 219/500\n",
      "757/757 [==============================] - 0s 107us/sample - loss: 0.4258 - accuracy: 0.8468 - val_loss: 0.4247 - val_accuracy: 0.8358\n",
      "Epoch 220/500\n",
      "757/757 [==============================] - 0s 98us/sample - loss: 0.4342 - accuracy: 0.8507 - val_loss: 0.4258 - val_accuracy: 0.8358\n",
      "Epoch 221/500\n",
      "757/757 [==============================] - 0s 88us/sample - loss: 0.4139 - accuracy: 0.8547 - val_loss: 0.4275 - val_accuracy: 0.8358\n",
      "Epoch 222/500\n",
      "757/757 [==============================] - 0s 97us/sample - loss: 0.4079 - accuracy: 0.8481 - val_loss: 0.4282 - val_accuracy: 0.8358\n",
      "Epoch 223/500\n",
      "757/757 [==============================] - 0s 88us/sample - loss: 0.4288 - accuracy: 0.8494 - val_loss: 0.4249 - val_accuracy: 0.8358\n",
      "Epoch 224/500\n",
      "757/757 [==============================] - 0s 87us/sample - loss: 0.4251 - accuracy: 0.8375 - val_loss: 0.4320 - val_accuracy: 0.8134\n",
      "Epoch 225/500\n",
      "757/757 [==============================] - 0s 89us/sample - loss: 0.4131 - accuracy: 0.8600 - val_loss: 0.4298 - val_accuracy: 0.8358\n",
      "Epoch 226/500\n",
      "757/757 [==============================] - 0s 92us/sample - loss: 0.4289 - accuracy: 0.8454 - val_loss: 0.4289 - val_accuracy: 0.8358\n",
      "Epoch 227/500\n",
      "757/757 [==============================] - 0s 87us/sample - loss: 0.4279 - accuracy: 0.8402 - val_loss: 0.4283 - val_accuracy: 0.8358\n",
      "Epoch 228/500\n",
      "757/757 [==============================] - 0s 89us/sample - loss: 0.4339 - accuracy: 0.8454 - val_loss: 0.4252 - val_accuracy: 0.8358\n",
      "Epoch 229/500\n",
      "757/757 [==============================] - 0s 88us/sample - loss: 0.4155 - accuracy: 0.8666 - val_loss: 0.4273 - val_accuracy: 0.8284\n",
      "Epoch 230/500\n",
      "757/757 [==============================] - 0s 86us/sample - loss: 0.4287 - accuracy: 0.8415 - val_loss: 0.4225 - val_accuracy: 0.8433\n",
      "Epoch 231/500\n",
      "757/757 [==============================] - 0s 88us/sample - loss: 0.4280 - accuracy: 0.8388 - val_loss: 0.4232 - val_accuracy: 0.8507\n",
      "Epoch 232/500\n",
      "757/757 [==============================] - 0s 88us/sample - loss: 0.4366 - accuracy: 0.8454 - val_loss: 0.4245 - val_accuracy: 0.8433\n",
      "Epoch 233/500\n",
      "757/757 [==============================] - 0s 91us/sample - loss: 0.4261 - accuracy: 0.8349 - val_loss: 0.4278 - val_accuracy: 0.8358\n",
      "Epoch 271/500\n",
      "757/757 [==============================] - 0s 96us/sample - loss: 0.4135 - accuracy: 0.8415 - val_loss: 0.4303 - val_accuracy: 0.8284\n",
      "Epoch 272/500\n",
      "757/757 [==============================] - 0s 87us/sample - loss: 0.4306 - accuracy: 0.8309 - val_loss: 0.4285 - val_accuracy: 0.8284\n",
      "Epoch 273/500\n",
      "757/757 [==============================] - 0s 117us/sample - loss: 0.4368 - accuracy: 0.8388 - val_loss: 0.4304 - val_accuracy: 0.8358\n",
      "Epoch 274/500\n",
      "757/757 [==============================] - 0s 100us/sample - loss: 0.4382 - accuracy: 0.8217 - val_loss: 0.4257 - val_accuracy: 0.8433\n",
      "Epoch 275/500\n",
      "757/757 [==============================] - 0s 89us/sample - loss: 0.4189 - accuracy: 0.8428 - val_loss: 0.4253 - val_accuracy: 0.8358\n",
      "Epoch 276/500\n",
      "757/757 [==============================] - 0s 89us/sample - loss: 0.4293 - accuracy: 0.8534 - val_loss: 0.4290 - val_accuracy: 0.8358\n",
      "Epoch 277/500\n",
      "757/757 [==============================] - 0s 90us/sample - loss: 0.4315 - accuracy: 0.8481 - val_loss: 0.4306 - val_accuracy: 0.8358\n",
      "Epoch 278/500\n",
      "757/757 [==============================] - 0s 89us/sample - loss: 0.4181 - accuracy: 0.8349 - val_loss: 0.4305 - val_accuracy: 0.8358\n",
      "Epoch 279/500\n",
      "757/757 [==============================] - 0s 88us/sample - loss: 0.4385 - accuracy: 0.8322 - val_loss: 0.4295 - val_accuracy: 0.8358\n",
      "Epoch 280/500\n",
      "757/757 [==============================] - 0s 89us/sample - loss: 0.4231 - accuracy: 0.8362 - val_loss: 0.4279 - val_accuracy: 0.8358\n",
      "Epoch 281/500\n",
      "757/757 [==============================] - 0s 88us/sample - loss: 0.4127 - accuracy: 0.8481 - val_loss: 0.4274 - val_accuracy: 0.8433\n",
      "Epoch 282/500\n",
      "757/757 [==============================] - 0s 98us/sample - loss: 0.4274 - accuracy: 0.8388 - val_loss: 0.4217 - val_accuracy: 0.8284\n",
      "Epoch 283/500\n",
      "757/757 [==============================] - 0s 89us/sample - loss: 0.4214 - accuracy: 0.8388 - val_loss: 0.4237 - val_accuracy: 0.8433\n",
      "Epoch 284/500\n",
      "757/757 [==============================] - 0s 98us/sample - loss: 0.4266 - accuracy: 0.8322 - val_loss: 0.4310 - val_accuracy: 0.8284\n",
      "Epoch 285/500\n",
      "757/757 [==============================] - 0s 88us/sample - loss: 0.4251 - accuracy: 0.8283 - val_loss: 0.4349 - val_accuracy: 0.8433\n",
      "Epoch 286/500\n",
      "757/757 [==============================] - 0s 87us/sample - loss: 0.4149 - accuracy: 0.8454 - val_loss: 0.4301 - val_accuracy: 0.8284\n",
      "Epoch 287/500\n",
      "757/757 [==============================] - 0s 97us/sample - loss: 0.4250 - accuracy: 0.8362 - val_loss: 0.4274 - val_accuracy: 0.8284\n",
      "Epoch 288/500\n",
      "757/757 [==============================] - 0s 87us/sample - loss: 0.4187 - accuracy: 0.8468 - val_loss: 0.4308 - val_accuracy: 0.8433\n",
      "Epoch 289/500\n",
      "757/757 [==============================] - 0s 87us/sample - loss: 0.4116 - accuracy: 0.8468 - val_loss: 0.4336 - val_accuracy: 0.8433\n",
      "Epoch 290/500\n",
      "757/757 [==============================] - 0s 88us/sample - loss: 0.4554 - accuracy: 0.8243 - val_loss: 0.4334 - val_accuracy: 0.8358\n",
      "Epoch 291/500\n",
      "757/757 [==============================] - 0s 87us/sample - loss: 0.4012 - accuracy: 0.8362 - val_loss: 0.4318 - val_accuracy: 0.8358\n",
      "Epoch 292/500\n",
      "757/757 [==============================] - 0s 88us/sample - loss: 0.4166 - accuracy: 0.8349 - val_loss: 0.4333 - val_accuracy: 0.8358\n",
      "Epoch 293/500\n",
      "757/757 [==============================] - 0s 87us/sample - loss: 0.4364 - accuracy: 0.8190 - val_loss: 0.4318 - val_accuracy: 0.8284\n",
      "Epoch 294/500\n",
      "757/757 [==============================] - 0s 88us/sample - loss: 0.4250 - accuracy: 0.8283 - val_loss: 0.4339 - val_accuracy: 0.8358\n",
      "Epoch 295/500\n",
      "757/757 [==============================] - 0s 95us/sample - loss: 0.4107 - accuracy: 0.8322 - val_loss: 0.4332 - val_accuracy: 0.8284\n",
      "Epoch 296/500\n",
      "757/757 [==============================] - 0s 89us/sample - loss: 0.4094 - accuracy: 0.8375 - val_loss: 0.4288 - val_accuracy: 0.8284\n",
      "Epoch 297/500\n",
      "757/757 [==============================] - 0s 95us/sample - loss: 0.4234 - accuracy: 0.8322 - val_loss: 0.4290 - val_accuracy: 0.8284\n",
      "Epoch 298/500\n",
      "757/757 [==============================] - 0s 89us/sample - loss: 0.4206 - accuracy: 0.8322 - val_loss: 0.4315 - val_accuracy: 0.8209\n",
      "Epoch 299/500\n",
      "757/757 [==============================] - 0s 97us/sample - loss: 0.4292 - accuracy: 0.8309 - val_loss: 0.4312 - val_accuracy: 0.8284\n",
      "Epoch 300/500\n",
      "757/757 [==============================] - 0s 97us/sample - loss: 0.4335 - accuracy: 0.8402 - val_loss: 0.4304 - val_accuracy: 0.8284\n",
      "Epoch 301/500\n",
      "757/757 [==============================] - 0s 94us/sample - loss: 0.4125 - accuracy: 0.8375 - val_loss: 0.4320 - val_accuracy: 0.8284\n",
      "Epoch 302/500\n",
      "757/757 [==============================] - 0s 97us/sample - loss: 0.4096 - accuracy: 0.8507 - val_loss: 0.4311 - val_accuracy: 0.8358\n",
      "Epoch 303/500\n",
      "757/757 [==============================] - 0s 88us/sample - loss: 0.4121 - accuracy: 0.8441 - val_loss: 0.4320 - val_accuracy: 0.8284\n",
      "Epoch 304/500\n",
      "757/757 [==============================] - 0s 87us/sample - loss: 0.4245 - accuracy: 0.8375 - val_loss: 0.4278 - val_accuracy: 0.8284\n",
      "Epoch 305/500\n",
      "757/757 [==============================] - 0s 88us/sample - loss: 0.4202 - accuracy: 0.8415 - val_loss: 0.4268 - val_accuracy: 0.8284\n",
      "Epoch 306/500\n",
      "757/757 [==============================] - 0s 88us/sample - loss: 0.4186 - accuracy: 0.8283 - val_loss: 0.4278 - val_accuracy: 0.8284\n",
      "Epoch 307/500\n",
      "757/757 [==============================] - 0s 97us/sample - loss: 0.4173 - accuracy: 0.8362 - val_loss: 0.4306 - val_accuracy: 0.8284\n",
      "Epoch 308/500\n",
      "757/757 [==============================] - 0s 98us/sample - loss: 0.4134 - accuracy: 0.8454 - val_loss: 0.4308 - val_accuracy: 0.8358\n",
      "Epoch 309/500\n",
      "757/757 [==============================] - 0s 88us/sample - loss: 0.4257 - accuracy: 0.8362 - val_loss: 0.4357 - val_accuracy: 0.8358\n",
      "Epoch 310/500\n",
      "757/757 [==============================] - 0s 98us/sample - loss: 0.4214 - accuracy: 0.8428 - val_loss: 0.4319 - val_accuracy: 0.8209\n",
      "Epoch 311/500\n",
      "757/757 [==============================] - 0s 89us/sample - loss: 0.4120 - accuracy: 0.8336 - val_loss: 0.4329 - val_accuracy: 0.8358\n",
      "Epoch 312/500\n",
      "757/757 [==============================] - 0s 88us/sample - loss: 0.4078 - accuracy: 0.8441 - val_loss: 0.4346 - val_accuracy: 0.8209\n",
      "Epoch 313/500\n",
      "757/757 [==============================] - 0s 89us/sample - loss: 0.4248 - accuracy: 0.8428 - val_loss: 0.4347 - val_accuracy: 0.8358\n",
      "Epoch 314/500\n",
      "757/757 [==============================] - 0s 88us/sample - loss: 0.4300 - accuracy: 0.8322 - val_loss: 0.4331 - val_accuracy: 0.8358\n",
      "Epoch 315/500\n",
      "757/757 [==============================] - 0s 88us/sample - loss: 0.4248 - accuracy: 0.8296 - val_loss: 0.4294 - val_accuracy: 0.8433\n",
      "Epoch 316/500\n",
      "757/757 [==============================] - 0s 101us/sample - loss: 0.4222 - accuracy: 0.8468 - val_loss: 0.4278 - val_accuracy: 0.8358\n",
      "Epoch 317/500\n",
      "757/757 [==============================] - 0s 87us/sample - loss: 0.4204 - accuracy: 0.8428 - val_loss: 0.4296 - val_accuracy: 0.8284\n",
      "Epoch 318/500\n",
      "704/757 [==========================>...] - ETA: 0s - loss: 0.4094 - accuracy: 0.8352"
     ]
    }
   ],
   "source": [
    "tuner.search(train_X, train_Y, epochs=N_EPOCH_SEARCH, validation_data=(dev_X, dev_Y))"
   ]
  },
  {
   "cell_type": "code",
   "execution_count": 21,
   "metadata": {
    "collapsed": true
   },
   "outputs": [
    {
     "data": {
      "text/html": [
       "<span style=\"color:#4527A0\"><h1 style=\"font-size:18px\">Results summary</h1></span>"
      ],
      "text/plain": [
       "<IPython.core.display.HTML object>"
      ]
     },
     "metadata": {},
     "output_type": "display_data"
    },
    {
     "data": {
      "text/html": [
       "<span style=\"color:cyan\"> |-Results in random_search_1/titanic</span>"
      ],
      "text/plain": [
       "<IPython.core.display.HTML object>"
      ]
     },
     "metadata": {},
     "output_type": "display_data"
    },
    {
     "data": {
      "text/html": [
       "<span style=\"color:cyan\"> |-Showing 10 best trials</span>"
      ],
      "text/plain": [
       "<IPython.core.display.HTML object>"
      ]
     },
     "metadata": {},
     "output_type": "display_data"
    },
    {
     "data": {
      "text/html": [
       "<span style=\"color:cyan\"> |-Objective(name='val_accuracy', direction='max')</span>"
      ],
      "text/plain": [
       "<IPython.core.display.HTML object>"
      ]
     },
     "metadata": {},
     "output_type": "display_data"
    },
    {
     "data": {
      "text/html": [
       "<span style=\"color:#4527A0\"><h1 style=\"font-size:18px\">Trial summary</h1></span>"
      ],
      "text/plain": [
       "<IPython.core.display.HTML object>"
      ]
     },
     "metadata": {},
     "output_type": "display_data"
    },
    {
     "data": {
      "text/html": [
       "<span style=\"color:cyan\"> |-Trial ID: 81421ffcb9722b92f5cc41ddcdf1b02c</span>"
      ],
      "text/plain": [
       "<IPython.core.display.HTML object>"
      ]
     },
     "metadata": {},
     "output_type": "display_data"
    },
    {
     "data": {
      "text/html": [
       "<span style=\"color:cyan\"> |-Score: 0.8731343150138855</span>"
      ],
      "text/plain": [
       "<IPython.core.display.HTML object>"
      ]
     },
     "metadata": {},
     "output_type": "display_data"
    },
    {
     "data": {
      "text/html": [
       "<span style=\"color:cyan\"> |-Best step: 0</span>"
      ],
      "text/plain": [
       "<IPython.core.display.HTML object>"
      ]
     },
     "metadata": {},
     "output_type": "display_data"
    },
    {
     "data": {
      "text/html": [
       "<span style=\"color:#7E57C2\"><h2 style=\"font-size:16px\">Hyperparameters:</h2></span>"
      ],
      "text/plain": [
       "<IPython.core.display.HTML object>"
      ]
     },
     "metadata": {},
     "output_type": "display_data"
    },
    {
     "data": {
      "text/html": [
       "<span style=\"color:cyan\"> |-dense_activation_1: tanh</span>"
      ],
      "text/plain": [
       "<IPython.core.display.HTML object>"
      ]
     },
     "metadata": {},
     "output_type": "display_data"
    },
    {
     "data": {
      "text/html": [
       "<span style=\"color:blue\"> |-dense_activation_2: relu</span>"
      ],
      "text/plain": [
       "<IPython.core.display.HTML object>"
      ]
     },
     "metadata": {},
     "output_type": "display_data"
    },
    {
     "data": {
      "text/html": [
       "<span style=\"color:cyan\"> |-dense_activation_3: sigmoid</span>"
      ],
      "text/plain": [
       "<IPython.core.display.HTML object>"
      ]
     },
     "metadata": {},
     "output_type": "display_data"
    },
    {
     "data": {
      "text/html": [
       "<span style=\"color:blue\"> |-dense_activation_4: sigmoid</span>"
      ],
      "text/plain": [
       "<IPython.core.display.HTML object>"
      ]
     },
     "metadata": {},
     "output_type": "display_data"
    },
    {
     "data": {
      "text/html": [
       "<span style=\"color:cyan\"> |-dense_units_1: 64</span>"
      ],
      "text/plain": [
       "<IPython.core.display.HTML object>"
      ]
     },
     "metadata": {},
     "output_type": "display_data"
    },
    {
     "data": {
      "text/html": [
       "<span style=\"color:blue\"> |-dense_units_2: 32</span>"
      ],
      "text/plain": [
       "<IPython.core.display.HTML object>"
      ]
     },
     "metadata": {},
     "output_type": "display_data"
    },
    {
     "data": {
      "text/html": [
       "<span style=\"color:cyan\"> |-dense_units_3: 20</span>"
      ],
      "text/plain": [
       "<IPython.core.display.HTML object>"
      ]
     },
     "metadata": {},
     "output_type": "display_data"
    },
    {
     "data": {
      "text/html": [
       "<span style=\"color:blue\"> |-dense_units_4: 4</span>"
      ],
      "text/plain": [
       "<IPython.core.display.HTML object>"
      ]
     },
     "metadata": {},
     "output_type": "display_data"
    },
    {
     "data": {
      "text/html": [
       "<span style=\"color:cyan\"> |-dropout_1: 0.1</span>"
      ],
      "text/plain": [
       "<IPython.core.display.HTML object>"
      ]
     },
     "metadata": {},
     "output_type": "display_data"
    },
    {
     "data": {
      "text/html": [
       "<span style=\"color:blue\"> |-dropout_2: 0.35000000000000003</span>"
      ],
      "text/plain": [
       "<IPython.core.display.HTML object>"
      ]
     },
     "metadata": {},
     "output_type": "display_data"
    },
    {
     "data": {
      "text/html": [
       "<span style=\"color:cyan\"> |-dropout_3: 0.4</span>"
      ],
      "text/plain": [
       "<IPython.core.display.HTML object>"
      ]
     },
     "metadata": {},
     "output_type": "display_data"
    },
    {
     "data": {
      "text/html": [
       "<span style=\"color:blue\"> |-dropout_4: 0.0</span>"
      ],
      "text/plain": [
       "<IPython.core.display.HTML object>"
      ]
     },
     "metadata": {},
     "output_type": "display_data"
    },
    {
     "data": {
      "text/html": [
       "<span style=\"color:cyan\"> |-learning_rate: 0.003225943238477045</span>"
      ],
      "text/plain": [
       "<IPython.core.display.HTML object>"
      ]
     },
     "metadata": {},
     "output_type": "display_data"
    },
    {
     "data": {
      "text/html": [
       "<span style=\"color:#4527A0\"><h1 style=\"font-size:18px\">Trial summary</h1></span>"
      ],
      "text/plain": [
       "<IPython.core.display.HTML object>"
      ]
     },
     "metadata": {},
     "output_type": "display_data"
    },
    {
     "data": {
      "text/html": [
       "<span style=\"color:cyan\"> |-Trial ID: c9cea3333296c481e348d7edab05b544</span>"
      ],
      "text/plain": [
       "<IPython.core.display.HTML object>"
      ]
     },
     "metadata": {},
     "output_type": "display_data"
    },
    {
     "data": {
      "text/html": [
       "<span style=\"color:cyan\"> |-Score: 0.8656716346740723</span>"
      ],
      "text/plain": [
       "<IPython.core.display.HTML object>"
      ]
     },
     "metadata": {},
     "output_type": "display_data"
    },
    {
     "data": {
      "text/html": [
       "<span style=\"color:cyan\"> |-Best step: 0</span>"
      ],
      "text/plain": [
       "<IPython.core.display.HTML object>"
      ]
     },
     "metadata": {},
     "output_type": "display_data"
    },
    {
     "data": {
      "text/html": [
       "<span style=\"color:#7E57C2\"><h2 style=\"font-size:16px\">Hyperparameters:</h2></span>"
      ],
      "text/plain": [
       "<IPython.core.display.HTML object>"
      ]
     },
     "metadata": {},
     "output_type": "display_data"
    },
    {
     "data": {
      "text/html": [
       "<span style=\"color:cyan\"> |-dense_activation_1: tanh</span>"
      ],
      "text/plain": [
       "<IPython.core.display.HTML object>"
      ]
     },
     "metadata": {},
     "output_type": "display_data"
    },
    {
     "data": {
      "text/html": [
       "<span style=\"color:blue\"> |-dense_activation_2: tanh</span>"
      ],
      "text/plain": [
       "<IPython.core.display.HTML object>"
      ]
     },
     "metadata": {},
     "output_type": "display_data"
    },
    {
     "data": {
      "text/html": [
       "<span style=\"color:cyan\"> |-dense_activation_3: tanh</span>"
      ],
      "text/plain": [
       "<IPython.core.display.HTML object>"
      ]
     },
     "metadata": {},
     "output_type": "display_data"
    },
    {
     "data": {
      "text/html": [
       "<span style=\"color:blue\"> |-dense_activation_4: tanh</span>"
      ],
      "text/plain": [
       "<IPython.core.display.HTML object>"
      ]
     },
     "metadata": {},
     "output_type": "display_data"
    },
    {
     "data": {
      "text/html": [
       "<span style=\"color:cyan\"> |-dense_units_1: 64</span>"
      ],
      "text/plain": [
       "<IPython.core.display.HTML object>"
      ]
     },
     "metadata": {},
     "output_type": "display_data"
    },
    {
     "data": {
      "text/html": [
       "<span style=\"color:blue\"> |-dense_units_2: 16</span>"
      ],
      "text/plain": [
       "<IPython.core.display.HTML object>"
      ]
     },
     "metadata": {},
     "output_type": "display_data"
    },
    {
     "data": {
      "text/html": [
       "<span style=\"color:cyan\"> |-dense_units_3: 16</span>"
      ],
      "text/plain": [
       "<IPython.core.display.HTML object>"
      ]
     },
     "metadata": {},
     "output_type": "display_data"
    },
    {
     "data": {
      "text/html": [
       "<span style=\"color:blue\"> |-dense_units_4: 10</span>"
      ],
      "text/plain": [
       "<IPython.core.display.HTML object>"
      ]
     },
     "metadata": {},
     "output_type": "display_data"
    },
    {
     "data": {
      "text/html": [
       "<span style=\"color:cyan\"> |-dropout_1: 0.0</span>"
      ],
      "text/plain": [
       "<IPython.core.display.HTML object>"
      ]
     },
     "metadata": {},
     "output_type": "display_data"
    },
    {
     "data": {
      "text/html": [
       "<span style=\"color:blue\"> |-dropout_2: 0.05</span>"
      ],
      "text/plain": [
       "<IPython.core.display.HTML object>"
      ]
     },
     "metadata": {},
     "output_type": "display_data"
    },
    {
     "data": {
      "text/html": [
       "<span style=\"color:cyan\"> |-dropout_3: 0.0</span>"
      ],
      "text/plain": [
       "<IPython.core.display.HTML object>"
      ]
     },
     "metadata": {},
     "output_type": "display_data"
    },
    {
     "data": {
      "text/html": [
       "<span style=\"color:blue\"> |-dropout_4: 0.30000000000000004</span>"
      ],
      "text/plain": [
       "<IPython.core.display.HTML object>"
      ]
     },
     "metadata": {},
     "output_type": "display_data"
    },
    {
     "data": {
      "text/html": [
       "<span style=\"color:cyan\"> |-learning_rate: 0.0005880431087905998</span>"
      ],
      "text/plain": [
       "<IPython.core.display.HTML object>"
      ]
     },
     "metadata": {},
     "output_type": "display_data"
    },
    {
     "data": {
      "text/html": [
       "<span style=\"color:#4527A0\"><h1 style=\"font-size:18px\">Trial summary</h1></span>"
      ],
      "text/plain": [
       "<IPython.core.display.HTML object>"
      ]
     },
     "metadata": {},
     "output_type": "display_data"
    },
    {
     "data": {
      "text/html": [
       "<span style=\"color:cyan\"> |-Trial ID: b54f342f4dacf864a329496821ace2d6</span>"
      ],
      "text/plain": [
       "<IPython.core.display.HTML object>"
      ]
     },
     "metadata": {},
     "output_type": "display_data"
    },
    {
     "data": {
      "text/html": [
       "<span style=\"color:cyan\"> |-Score: 0.8656716346740723</span>"
      ],
      "text/plain": [
       "<IPython.core.display.HTML object>"
      ]
     },
     "metadata": {},
     "output_type": "display_data"
    },
    {
     "data": {
      "text/html": [
       "<span style=\"color:cyan\"> |-Best step: 0</span>"
      ],
      "text/plain": [
       "<IPython.core.display.HTML object>"
      ]
     },
     "metadata": {},
     "output_type": "display_data"
    },
    {
     "data": {
      "text/html": [
       "<span style=\"color:#7E57C2\"><h2 style=\"font-size:16px\">Hyperparameters:</h2></span>"
      ],
      "text/plain": [
       "<IPython.core.display.HTML object>"
      ]
     },
     "metadata": {},
     "output_type": "display_data"
    },
    {
     "data": {
      "text/html": [
       "<span style=\"color:cyan\"> |-dense_activation_1: tanh</span>"
      ],
      "text/plain": [
       "<IPython.core.display.HTML object>"
      ]
     },
     "metadata": {},
     "output_type": "display_data"
    },
    {
     "data": {
      "text/html": [
       "<span style=\"color:blue\"> |-dense_activation_2: relu</span>"
      ],
      "text/plain": [
       "<IPython.core.display.HTML object>"
      ]
     },
     "metadata": {},
     "output_type": "display_data"
    },
    {
     "data": {
      "text/html": [
       "<span style=\"color:cyan\"> |-dense_activation_3: relu</span>"
      ],
      "text/plain": [
       "<IPython.core.display.HTML object>"
      ]
     },
     "metadata": {},
     "output_type": "display_data"
    },
    {
     "data": {
      "text/html": [
       "<span style=\"color:blue\"> |-dense_activation_4: sigmoid</span>"
      ],
      "text/plain": [
       "<IPython.core.display.HTML object>"
      ]
     },
     "metadata": {},
     "output_type": "display_data"
    },
    {
     "data": {
      "text/html": [
       "<span style=\"color:cyan\"> |-dense_units_1: 64</span>"
      ],
      "text/plain": [
       "<IPython.core.display.HTML object>"
      ]
     },
     "metadata": {},
     "output_type": "display_data"
    },
    {
     "data": {
      "text/html": [
       "<span style=\"color:blue\"> |-dense_units_2: 16</span>"
      ],
      "text/plain": [
       "<IPython.core.display.HTML object>"
      ]
     },
     "metadata": {},
     "output_type": "display_data"
    },
    {
     "data": {
      "text/html": [
       "<span style=\"color:cyan\"> |-dense_units_3: 24</span>"
      ],
      "text/plain": [
       "<IPython.core.display.HTML object>"
      ]
     },
     "metadata": {},
     "output_type": "display_data"
    },
    {
     "data": {
      "text/html": [
       "<span style=\"color:blue\"> |-dense_units_4: 10</span>"
      ],
      "text/plain": [
       "<IPython.core.display.HTML object>"
      ]
     },
     "metadata": {},
     "output_type": "display_data"
    },
    {
     "data": {
      "text/html": [
       "<span style=\"color:cyan\"> |-dropout_1: 0.1</span>"
      ],
      "text/plain": [
       "<IPython.core.display.HTML object>"
      ]
     },
     "metadata": {},
     "output_type": "display_data"
    },
    {
     "data": {
      "text/html": [
       "<span style=\"color:blue\"> |-dropout_2: 0.35000000000000003</span>"
      ],
      "text/plain": [
       "<IPython.core.display.HTML object>"
      ]
     },
     "metadata": {},
     "output_type": "display_data"
    },
    {
     "data": {
      "text/html": [
       "<span style=\"color:cyan\"> |-dropout_3: 0.30000000000000004</span>"
      ],
      "text/plain": [
       "<IPython.core.display.HTML object>"
      ]
     },
     "metadata": {},
     "output_type": "display_data"
    },
    {
     "data": {
      "text/html": [
       "<span style=\"color:blue\"> |-dropout_4: 0.4</span>"
      ],
      "text/plain": [
       "<IPython.core.display.HTML object>"
      ]
     },
     "metadata": {},
     "output_type": "display_data"
    },
    {
     "data": {
      "text/html": [
       "<span style=\"color:cyan\"> |-learning_rate: 0.0003584911744295724</span>"
      ],
      "text/plain": [
       "<IPython.core.display.HTML object>"
      ]
     },
     "metadata": {},
     "output_type": "display_data"
    },
    {
     "data": {
      "text/html": [
       "<span style=\"color:#4527A0\"><h1 style=\"font-size:18px\">Trial summary</h1></span>"
      ],
      "text/plain": [
       "<IPython.core.display.HTML object>"
      ]
     },
     "metadata": {},
     "output_type": "display_data"
    },
    {
     "data": {
      "text/html": [
       "<span style=\"color:cyan\"> |-Trial ID: 2bb530353732627391361c034cc22134</span>"
      ],
      "text/plain": [
       "<IPython.core.display.HTML object>"
      ]
     },
     "metadata": {},
     "output_type": "display_data"
    },
    {
     "data": {
      "text/html": [
       "<span style=\"color:cyan\"> |-Score: 0.8656716346740723</span>"
      ],
      "text/plain": [
       "<IPython.core.display.HTML object>"
      ]
     },
     "metadata": {},
     "output_type": "display_data"
    },
    {
     "data": {
      "text/html": [
       "<span style=\"color:cyan\"> |-Best step: 0</span>"
      ],
      "text/plain": [
       "<IPython.core.display.HTML object>"
      ]
     },
     "metadata": {},
     "output_type": "display_data"
    },
    {
     "data": {
      "text/html": [
       "<span style=\"color:#7E57C2\"><h2 style=\"font-size:16px\">Hyperparameters:</h2></span>"
      ],
      "text/plain": [
       "<IPython.core.display.HTML object>"
      ]
     },
     "metadata": {},
     "output_type": "display_data"
    },
    {
     "data": {
      "text/html": [
       "<span style=\"color:cyan\"> |-dense_activation_1: tanh</span>"
      ],
      "text/plain": [
       "<IPython.core.display.HTML object>"
      ]
     },
     "metadata": {},
     "output_type": "display_data"
    },
    {
     "data": {
      "text/html": [
       "<span style=\"color:blue\"> |-dense_activation_2: tanh</span>"
      ],
      "text/plain": [
       "<IPython.core.display.HTML object>"
      ]
     },
     "metadata": {},
     "output_type": "display_data"
    },
    {
     "data": {
      "text/html": [
       "<span style=\"color:cyan\"> |-dense_activation_3: sigmoid</span>"
      ],
      "text/plain": [
       "<IPython.core.display.HTML object>"
      ]
     },
     "metadata": {},
     "output_type": "display_data"
    },
    {
     "data": {
      "text/html": [
       "<span style=\"color:blue\"> |-dense_activation_4: sigmoid</span>"
      ],
      "text/plain": [
       "<IPython.core.display.HTML object>"
      ]
     },
     "metadata": {},
     "output_type": "display_data"
    },
    {
     "data": {
      "text/html": [
       "<span style=\"color:cyan\"> |-dense_units_1: 128</span>"
      ],
      "text/plain": [
       "<IPython.core.display.HTML object>"
      ]
     },
     "metadata": {},
     "output_type": "display_data"
    },
    {
     "data": {
      "text/html": [
       "<span style=\"color:blue\"> |-dense_units_2: 48</span>"
      ],
      "text/plain": [
       "<IPython.core.display.HTML object>"
      ]
     },
     "metadata": {},
     "output_type": "display_data"
    },
    {
     "data": {
      "text/html": [
       "<span style=\"color:cyan\"> |-dense_units_3: 16</span>"
      ],
      "text/plain": [
       "<IPython.core.display.HTML object>"
      ]
     },
     "metadata": {},
     "output_type": "display_data"
    },
    {
     "data": {
      "text/html": [
       "<span style=\"color:blue\"> |-dense_units_4: 10</span>"
      ],
      "text/plain": [
       "<IPython.core.display.HTML object>"
      ]
     },
     "metadata": {},
     "output_type": "display_data"
    },
    {
     "data": {
      "text/html": [
       "<span style=\"color:cyan\"> |-dropout_1: 0.25</span>"
      ],
      "text/plain": [
       "<IPython.core.display.HTML object>"
      ]
     },
     "metadata": {},
     "output_type": "display_data"
    },
    {
     "data": {
      "text/html": [
       "<span style=\"color:blue\"> |-dropout_2: 0.30000000000000004</span>"
      ],
      "text/plain": [
       "<IPython.core.display.HTML object>"
      ]
     },
     "metadata": {},
     "output_type": "display_data"
    },
    {
     "data": {
      "text/html": [
       "<span style=\"color:cyan\"> |-dropout_3: 0.35000000000000003</span>"
      ],
      "text/plain": [
       "<IPython.core.display.HTML object>"
      ]
     },
     "metadata": {},
     "output_type": "display_data"
    },
    {
     "data": {
      "text/html": [
       "<span style=\"color:blue\"> |-dropout_4: 0.15000000000000002</span>"
      ],
      "text/plain": [
       "<IPython.core.display.HTML object>"
      ]
     },
     "metadata": {},
     "output_type": "display_data"
    },
    {
     "data": {
      "text/html": [
       "<span style=\"color:cyan\"> |-learning_rate: 0.0006332383741037616</span>"
      ],
      "text/plain": [
       "<IPython.core.display.HTML object>"
      ]
     },
     "metadata": {},
     "output_type": "display_data"
    },
    {
     "data": {
      "text/html": [
       "<span style=\"color:#4527A0\"><h1 style=\"font-size:18px\">Trial summary</h1></span>"
      ],
      "text/plain": [
       "<IPython.core.display.HTML object>"
      ]
     },
     "metadata": {},
     "output_type": "display_data"
    },
    {
     "data": {
      "text/html": [
       "<span style=\"color:cyan\"> |-Trial ID: 474118b8c57d138dfdf38dcbeb714be7</span>"
      ],
      "text/plain": [
       "<IPython.core.display.HTML object>"
      ]
     },
     "metadata": {},
     "output_type": "display_data"
    },
    {
     "data": {
      "text/html": [
       "<span style=\"color:cyan\"> |-Score: 0.8656716346740723</span>"
      ],
      "text/plain": [
       "<IPython.core.display.HTML object>"
      ]
     },
     "metadata": {},
     "output_type": "display_data"
    },
    {
     "data": {
      "text/html": [
       "<span style=\"color:cyan\"> |-Best step: 0</span>"
      ],
      "text/plain": [
       "<IPython.core.display.HTML object>"
      ]
     },
     "metadata": {},
     "output_type": "display_data"
    },
    {
     "data": {
      "text/html": [
       "<span style=\"color:#7E57C2\"><h2 style=\"font-size:16px\">Hyperparameters:</h2></span>"
      ],
      "text/plain": [
       "<IPython.core.display.HTML object>"
      ]
     },
     "metadata": {},
     "output_type": "display_data"
    },
    {
     "data": {
      "text/html": [
       "<span style=\"color:cyan\"> |-dense_activation_1: tanh</span>"
      ],
      "text/plain": [
       "<IPython.core.display.HTML object>"
      ]
     },
     "metadata": {},
     "output_type": "display_data"
    },
    {
     "data": {
      "text/html": [
       "<span style=\"color:blue\"> |-dense_activation_2: tanh</span>"
      ],
      "text/plain": [
       "<IPython.core.display.HTML object>"
      ]
     },
     "metadata": {},
     "output_type": "display_data"
    },
    {
     "data": {
      "text/html": [
       "<span style=\"color:cyan\"> |-dense_activation_3: relu</span>"
      ],
      "text/plain": [
       "<IPython.core.display.HTML object>"
      ]
     },
     "metadata": {},
     "output_type": "display_data"
    },
    {
     "data": {
      "text/html": [
       "<span style=\"color:blue\"> |-dense_activation_4: tanh</span>"
      ],
      "text/plain": [
       "<IPython.core.display.HTML object>"
      ]
     },
     "metadata": {},
     "output_type": "display_data"
    },
    {
     "data": {
      "text/html": [
       "<span style=\"color:cyan\"> |-dense_units_1: 128</span>"
      ],
      "text/plain": [
       "<IPython.core.display.HTML object>"
      ]
     },
     "metadata": {},
     "output_type": "display_data"
    },
    {
     "data": {
      "text/html": [
       "<span style=\"color:blue\"> |-dense_units_2: 16</span>"
      ],
      "text/plain": [
       "<IPython.core.display.HTML object>"
      ]
     },
     "metadata": {},
     "output_type": "display_data"
    },
    {
     "data": {
      "text/html": [
       "<span style=\"color:cyan\"> |-dense_units_3: 32</span>"
      ],
      "text/plain": [
       "<IPython.core.display.HTML object>"
      ]
     },
     "metadata": {},
     "output_type": "display_data"
    },
    {
     "data": {
      "text/html": [
       "<span style=\"color:blue\"> |-dense_units_4: 6</span>"
      ],
      "text/plain": [
       "<IPython.core.display.HTML object>"
      ]
     },
     "metadata": {},
     "output_type": "display_data"
    },
    {
     "data": {
      "text/html": [
       "<span style=\"color:cyan\"> |-dropout_1: 0.2</span>"
      ],
      "text/plain": [
       "<IPython.core.display.HTML object>"
      ]
     },
     "metadata": {},
     "output_type": "display_data"
    },
    {
     "data": {
      "text/html": [
       "<span style=\"color:blue\"> |-dropout_2: 0.5</span>"
      ],
      "text/plain": [
       "<IPython.core.display.HTML object>"
      ]
     },
     "metadata": {},
     "output_type": "display_data"
    },
    {
     "data": {
      "text/html": [
       "<span style=\"color:cyan\"> |-dropout_3: 0.25</span>"
      ],
      "text/plain": [
       "<IPython.core.display.HTML object>"
      ]
     },
     "metadata": {},
     "output_type": "display_data"
    },
    {
     "data": {
      "text/html": [
       "<span style=\"color:blue\"> |-dropout_4: 0.1</span>"
      ],
      "text/plain": [
       "<IPython.core.display.HTML object>"
      ]
     },
     "metadata": {},
     "output_type": "display_data"
    },
    {
     "data": {
      "text/html": [
       "<span style=\"color:cyan\"> |-learning_rate: 0.0011913083962274544</span>"
      ],
      "text/plain": [
       "<IPython.core.display.HTML object>"
      ]
     },
     "metadata": {},
     "output_type": "display_data"
    },
    {
     "data": {
      "text/html": [
       "<span style=\"color:#4527A0\"><h1 style=\"font-size:18px\">Trial summary</h1></span>"
      ],
      "text/plain": [
       "<IPython.core.display.HTML object>"
      ]
     },
     "metadata": {},
     "output_type": "display_data"
    },
    {
     "data": {
      "text/html": [
       "<span style=\"color:cyan\"> |-Trial ID: af2689e5315a2d609a58649ffa38f364</span>"
      ],
      "text/plain": [
       "<IPython.core.display.HTML object>"
      ]
     },
     "metadata": {},
     "output_type": "display_data"
    },
    {
     "data": {
      "text/html": [
       "<span style=\"color:cyan\"> |-Score: 0.8656716346740723</span>"
      ],
      "text/plain": [
       "<IPython.core.display.HTML object>"
      ]
     },
     "metadata": {},
     "output_type": "display_data"
    },
    {
     "data": {
      "text/html": [
       "<span style=\"color:cyan\"> |-Best step: 0</span>"
      ],
      "text/plain": [
       "<IPython.core.display.HTML object>"
      ]
     },
     "metadata": {},
     "output_type": "display_data"
    },
    {
     "data": {
      "text/html": [
       "<span style=\"color:#7E57C2\"><h2 style=\"font-size:16px\">Hyperparameters:</h2></span>"
      ],
      "text/plain": [
       "<IPython.core.display.HTML object>"
      ]
     },
     "metadata": {},
     "output_type": "display_data"
    },
    {
     "data": {
      "text/html": [
       "<span style=\"color:cyan\"> |-dense_activation_1: sigmoid</span>"
      ],
      "text/plain": [
       "<IPython.core.display.HTML object>"
      ]
     },
     "metadata": {},
     "output_type": "display_data"
    },
    {
     "data": {
      "text/html": [
       "<span style=\"color:blue\"> |-dense_activation_2: relu</span>"
      ],
      "text/plain": [
       "<IPython.core.display.HTML object>"
      ]
     },
     "metadata": {},
     "output_type": "display_data"
    },
    {
     "data": {
      "text/html": [
       "<span style=\"color:cyan\"> |-dense_activation_3: sigmoid</span>"
      ],
      "text/plain": [
       "<IPython.core.display.HTML object>"
      ]
     },
     "metadata": {},
     "output_type": "display_data"
    },
    {
     "data": {
      "text/html": [
       "<span style=\"color:blue\"> |-dense_activation_4: sigmoid</span>"
      ],
      "text/plain": [
       "<IPython.core.display.HTML object>"
      ]
     },
     "metadata": {},
     "output_type": "display_data"
    },
    {
     "data": {
      "text/html": [
       "<span style=\"color:cyan\"> |-dense_units_1: 64</span>"
      ],
      "text/plain": [
       "<IPython.core.display.HTML object>"
      ]
     },
     "metadata": {},
     "output_type": "display_data"
    },
    {
     "data": {
      "text/html": [
       "<span style=\"color:blue\"> |-dense_units_2: 32</span>"
      ],
      "text/plain": [
       "<IPython.core.display.HTML object>"
      ]
     },
     "metadata": {},
     "output_type": "display_data"
    },
    {
     "data": {
      "text/html": [
       "<span style=\"color:cyan\"> |-dense_units_3: 24</span>"
      ],
      "text/plain": [
       "<IPython.core.display.HTML object>"
      ]
     },
     "metadata": {},
     "output_type": "display_data"
    },
    {
     "data": {
      "text/html": [
       "<span style=\"color:blue\"> |-dense_units_4: 8</span>"
      ],
      "text/plain": [
       "<IPython.core.display.HTML object>"
      ]
     },
     "metadata": {},
     "output_type": "display_data"
    },
    {
     "data": {
      "text/html": [
       "<span style=\"color:cyan\"> |-dropout_1: 0.15000000000000002</span>"
      ],
      "text/plain": [
       "<IPython.core.display.HTML object>"
      ]
     },
     "metadata": {},
     "output_type": "display_data"
    },
    {
     "data": {
      "text/html": [
       "<span style=\"color:blue\"> |-dropout_2: 0.4</span>"
      ],
      "text/plain": [
       "<IPython.core.display.HTML object>"
      ]
     },
     "metadata": {},
     "output_type": "display_data"
    },
    {
     "data": {
      "text/html": [
       "<span style=\"color:cyan\"> |-dropout_3: 0.4</span>"
      ],
      "text/plain": [
       "<IPython.core.display.HTML object>"
      ]
     },
     "metadata": {},
     "output_type": "display_data"
    },
    {
     "data": {
      "text/html": [
       "<span style=\"color:blue\"> |-dropout_4: 0.05</span>"
      ],
      "text/plain": [
       "<IPython.core.display.HTML object>"
      ]
     },
     "metadata": {},
     "output_type": "display_data"
    },
    {
     "data": {
      "text/html": [
       "<span style=\"color:cyan\"> |-learning_rate: 0.0026305382978764075</span>"
      ],
      "text/plain": [
       "<IPython.core.display.HTML object>"
      ]
     },
     "metadata": {},
     "output_type": "display_data"
    },
    {
     "data": {
      "text/html": [
       "<span style=\"color:#4527A0\"><h1 style=\"font-size:18px\">Trial summary</h1></span>"
      ],
      "text/plain": [
       "<IPython.core.display.HTML object>"
      ]
     },
     "metadata": {},
     "output_type": "display_data"
    },
    {
     "data": {
      "text/html": [
       "<span style=\"color:cyan\"> |-Trial ID: ffc8d19bf1e105e8ace81172d5224b45</span>"
      ],
      "text/plain": [
       "<IPython.core.display.HTML object>"
      ]
     },
     "metadata": {},
     "output_type": "display_data"
    },
    {
     "data": {
      "text/html": [
       "<span style=\"color:cyan\"> |-Score: 0.8656716346740723</span>"
      ],
      "text/plain": [
       "<IPython.core.display.HTML object>"
      ]
     },
     "metadata": {},
     "output_type": "display_data"
    },
    {
     "data": {
      "text/html": [
       "<span style=\"color:cyan\"> |-Best step: 0</span>"
      ],
      "text/plain": [
       "<IPython.core.display.HTML object>"
      ]
     },
     "metadata": {},
     "output_type": "display_data"
    },
    {
     "data": {
      "text/html": [
       "<span style=\"color:#7E57C2\"><h2 style=\"font-size:16px\">Hyperparameters:</h2></span>"
      ],
      "text/plain": [
       "<IPython.core.display.HTML object>"
      ]
     },
     "metadata": {},
     "output_type": "display_data"
    },
    {
     "data": {
      "text/html": [
       "<span style=\"color:cyan\"> |-dense_activation_1: tanh</span>"
      ],
      "text/plain": [
       "<IPython.core.display.HTML object>"
      ]
     },
     "metadata": {},
     "output_type": "display_data"
    },
    {
     "data": {
      "text/html": [
       "<span style=\"color:blue\"> |-dense_activation_2: tanh</span>"
      ],
      "text/plain": [
       "<IPython.core.display.HTML object>"
      ]
     },
     "metadata": {},
     "output_type": "display_data"
    },
    {
     "data": {
      "text/html": [
       "<span style=\"color:cyan\"> |-dense_activation_3: tanh</span>"
      ],
      "text/plain": [
       "<IPython.core.display.HTML object>"
      ]
     },
     "metadata": {},
     "output_type": "display_data"
    },
    {
     "data": {
      "text/html": [
       "<span style=\"color:blue\"> |-dense_activation_4: tanh</span>"
      ],
      "text/plain": [
       "<IPython.core.display.HTML object>"
      ]
     },
     "metadata": {},
     "output_type": "display_data"
    },
    {
     "data": {
      "text/html": [
       "<span style=\"color:cyan\"> |-dense_units_1: 64</span>"
      ],
      "text/plain": [
       "<IPython.core.display.HTML object>"
      ]
     },
     "metadata": {},
     "output_type": "display_data"
    },
    {
     "data": {
      "text/html": [
       "<span style=\"color:blue\"> |-dense_units_2: 32</span>"
      ],
      "text/plain": [
       "<IPython.core.display.HTML object>"
      ]
     },
     "metadata": {},
     "output_type": "display_data"
    },
    {
     "data": {
      "text/html": [
       "<span style=\"color:cyan\"> |-dense_units_3: 24</span>"
      ],
      "text/plain": [
       "<IPython.core.display.HTML object>"
      ]
     },
     "metadata": {},
     "output_type": "display_data"
    },
    {
     "data": {
      "text/html": [
       "<span style=\"color:blue\"> |-dense_units_4: 6</span>"
      ],
      "text/plain": [
       "<IPython.core.display.HTML object>"
      ]
     },
     "metadata": {},
     "output_type": "display_data"
    },
    {
     "data": {
      "text/html": [
       "<span style=\"color:cyan\"> |-dropout_1: 0.35000000000000003</span>"
      ],
      "text/plain": [
       "<IPython.core.display.HTML object>"
      ]
     },
     "metadata": {},
     "output_type": "display_data"
    },
    {
     "data": {
      "text/html": [
       "<span style=\"color:blue\"> |-dropout_2: 0.25</span>"
      ],
      "text/plain": [
       "<IPython.core.display.HTML object>"
      ]
     },
     "metadata": {},
     "output_type": "display_data"
    },
    {
     "data": {
      "text/html": [
       "<span style=\"color:cyan\"> |-dropout_3: 0.2</span>"
      ],
      "text/plain": [
       "<IPython.core.display.HTML object>"
      ]
     },
     "metadata": {},
     "output_type": "display_data"
    },
    {
     "data": {
      "text/html": [
       "<span style=\"color:blue\"> |-dropout_4: 0.35000000000000003</span>"
      ],
      "text/plain": [
       "<IPython.core.display.HTML object>"
      ]
     },
     "metadata": {},
     "output_type": "display_data"
    },
    {
     "data": {
      "text/html": [
       "<span style=\"color:cyan\"> |-learning_rate: 0.0022692999466626704</span>"
      ],
      "text/plain": [
       "<IPython.core.display.HTML object>"
      ]
     },
     "metadata": {},
     "output_type": "display_data"
    },
    {
     "data": {
      "text/html": [
       "<span style=\"color:#4527A0\"><h1 style=\"font-size:18px\">Trial summary</h1></span>"
      ],
      "text/plain": [
       "<IPython.core.display.HTML object>"
      ]
     },
     "metadata": {},
     "output_type": "display_data"
    },
    {
     "data": {
      "text/html": [
       "<span style=\"color:cyan\"> |-Trial ID: 01edd0999482d4686e34f4e638b51dff</span>"
      ],
      "text/plain": [
       "<IPython.core.display.HTML object>"
      ]
     },
     "metadata": {},
     "output_type": "display_data"
    },
    {
     "data": {
      "text/html": [
       "<span style=\"color:cyan\"> |-Score: 0.8619402647018433</span>"
      ],
      "text/plain": [
       "<IPython.core.display.HTML object>"
      ]
     },
     "metadata": {},
     "output_type": "display_data"
    },
    {
     "data": {
      "text/html": [
       "<span style=\"color:cyan\"> |-Best step: 0</span>"
      ],
      "text/plain": [
       "<IPython.core.display.HTML object>"
      ]
     },
     "metadata": {},
     "output_type": "display_data"
    },
    {
     "data": {
      "text/html": [
       "<span style=\"color:#7E57C2\"><h2 style=\"font-size:16px\">Hyperparameters:</h2></span>"
      ],
      "text/plain": [
       "<IPython.core.display.HTML object>"
      ]
     },
     "metadata": {},
     "output_type": "display_data"
    },
    {
     "data": {
      "text/html": [
       "<span style=\"color:cyan\"> |-dense_activation_1: tanh</span>"
      ],
      "text/plain": [
       "<IPython.core.display.HTML object>"
      ]
     },
     "metadata": {},
     "output_type": "display_data"
    },
    {
     "data": {
      "text/html": [
       "<span style=\"color:blue\"> |-dense_activation_2: sigmoid</span>"
      ],
      "text/plain": [
       "<IPython.core.display.HTML object>"
      ]
     },
     "metadata": {},
     "output_type": "display_data"
    },
    {
     "data": {
      "text/html": [
       "<span style=\"color:cyan\"> |-dense_activation_3: relu</span>"
      ],
      "text/plain": [
       "<IPython.core.display.HTML object>"
      ]
     },
     "metadata": {},
     "output_type": "display_data"
    },
    {
     "data": {
      "text/html": [
       "<span style=\"color:blue\"> |-dense_activation_4: sigmoid</span>"
      ],
      "text/plain": [
       "<IPython.core.display.HTML object>"
      ]
     },
     "metadata": {},
     "output_type": "display_data"
    },
    {
     "data": {
      "text/html": [
       "<span style=\"color:cyan\"> |-dense_units_1: 128</span>"
      ],
      "text/plain": [
       "<IPython.core.display.HTML object>"
      ]
     },
     "metadata": {},
     "output_type": "display_data"
    },
    {
     "data": {
      "text/html": [
       "<span style=\"color:blue\"> |-dense_units_2: 32</span>"
      ],
      "text/plain": [
       "<IPython.core.display.HTML object>"
      ]
     },
     "metadata": {},
     "output_type": "display_data"
    },
    {
     "data": {
      "text/html": [
       "<span style=\"color:cyan\"> |-dense_units_3: 8</span>"
      ],
      "text/plain": [
       "<IPython.core.display.HTML object>"
      ]
     },
     "metadata": {},
     "output_type": "display_data"
    },
    {
     "data": {
      "text/html": [
       "<span style=\"color:blue\"> |-dense_units_4: 6</span>"
      ],
      "text/plain": [
       "<IPython.core.display.HTML object>"
      ]
     },
     "metadata": {},
     "output_type": "display_data"
    },
    {
     "data": {
      "text/html": [
       "<span style=\"color:cyan\"> |-dropout_1: 0.30000000000000004</span>"
      ],
      "text/plain": [
       "<IPython.core.display.HTML object>"
      ]
     },
     "metadata": {},
     "output_type": "display_data"
    },
    {
     "data": {
      "text/html": [
       "<span style=\"color:blue\"> |-dropout_2: 0.2</span>"
      ],
      "text/plain": [
       "<IPython.core.display.HTML object>"
      ]
     },
     "metadata": {},
     "output_type": "display_data"
    },
    {
     "data": {
      "text/html": [
       "<span style=\"color:cyan\"> |-dropout_3: 0.05</span>"
      ],
      "text/plain": [
       "<IPython.core.display.HTML object>"
      ]
     },
     "metadata": {},
     "output_type": "display_data"
    },
    {
     "data": {
      "text/html": [
       "<span style=\"color:blue\"> |-dropout_4: 0.30000000000000004</span>"
      ],
      "text/plain": [
       "<IPython.core.display.HTML object>"
      ]
     },
     "metadata": {},
     "output_type": "display_data"
    },
    {
     "data": {
      "text/html": [
       "<span style=\"color:cyan\"> |-learning_rate: 0.000389768725698735</span>"
      ],
      "text/plain": [
       "<IPython.core.display.HTML object>"
      ]
     },
     "metadata": {},
     "output_type": "display_data"
    },
    {
     "data": {
      "text/html": [
       "<span style=\"color:#4527A0\"><h1 style=\"font-size:18px\">Trial summary</h1></span>"
      ],
      "text/plain": [
       "<IPython.core.display.HTML object>"
      ]
     },
     "metadata": {},
     "output_type": "display_data"
    },
    {
     "data": {
      "text/html": [
       "<span style=\"color:cyan\"> |-Trial ID: e60d2c4409be7fed72698021f362c16a</span>"
      ],
      "text/plain": [
       "<IPython.core.display.HTML object>"
      ]
     },
     "metadata": {},
     "output_type": "display_data"
    },
    {
     "data": {
      "text/html": [
       "<span style=\"color:cyan\"> |-Score: 0.8619402647018433</span>"
      ],
      "text/plain": [
       "<IPython.core.display.HTML object>"
      ]
     },
     "metadata": {},
     "output_type": "display_data"
    },
    {
     "data": {
      "text/html": [
       "<span style=\"color:cyan\"> |-Best step: 0</span>"
      ],
      "text/plain": [
       "<IPython.core.display.HTML object>"
      ]
     },
     "metadata": {},
     "output_type": "display_data"
    },
    {
     "data": {
      "text/html": [
       "<span style=\"color:#7E57C2\"><h2 style=\"font-size:16px\">Hyperparameters:</h2></span>"
      ],
      "text/plain": [
       "<IPython.core.display.HTML object>"
      ]
     },
     "metadata": {},
     "output_type": "display_data"
    },
    {
     "data": {
      "text/html": [
       "<span style=\"color:cyan\"> |-dense_activation_1: tanh</span>"
      ],
      "text/plain": [
       "<IPython.core.display.HTML object>"
      ]
     },
     "metadata": {},
     "output_type": "display_data"
    },
    {
     "data": {
      "text/html": [
       "<span style=\"color:blue\"> |-dense_activation_2: sigmoid</span>"
      ],
      "text/plain": [
       "<IPython.core.display.HTML object>"
      ]
     },
     "metadata": {},
     "output_type": "display_data"
    },
    {
     "data": {
      "text/html": [
       "<span style=\"color:cyan\"> |-dense_activation_3: relu</span>"
      ],
      "text/plain": [
       "<IPython.core.display.HTML object>"
      ]
     },
     "metadata": {},
     "output_type": "display_data"
    },
    {
     "data": {
      "text/html": [
       "<span style=\"color:blue\"> |-dense_activation_4: relu</span>"
      ],
      "text/plain": [
       "<IPython.core.display.HTML object>"
      ]
     },
     "metadata": {},
     "output_type": "display_data"
    },
    {
     "data": {
      "text/html": [
       "<span style=\"color:cyan\"> |-dense_units_1: 128</span>"
      ],
      "text/plain": [
       "<IPython.core.display.HTML object>"
      ]
     },
     "metadata": {},
     "output_type": "display_data"
    },
    {
     "data": {
      "text/html": [
       "<span style=\"color:blue\"> |-dense_units_2: 48</span>"
      ],
      "text/plain": [
       "<IPython.core.display.HTML object>"
      ]
     },
     "metadata": {},
     "output_type": "display_data"
    },
    {
     "data": {
      "text/html": [
       "<span style=\"color:cyan\"> |-dense_units_3: 20</span>"
      ],
      "text/plain": [
       "<IPython.core.display.HTML object>"
      ]
     },
     "metadata": {},
     "output_type": "display_data"
    },
    {
     "data": {
      "text/html": [
       "<span style=\"color:blue\"> |-dense_units_4: 12</span>"
      ],
      "text/plain": [
       "<IPython.core.display.HTML object>"
      ]
     },
     "metadata": {},
     "output_type": "display_data"
    },
    {
     "data": {
      "text/html": [
       "<span style=\"color:cyan\"> |-dropout_1: 0.30000000000000004</span>"
      ],
      "text/plain": [
       "<IPython.core.display.HTML object>"
      ]
     },
     "metadata": {},
     "output_type": "display_data"
    },
    {
     "data": {
      "text/html": [
       "<span style=\"color:blue\"> |-dropout_2: 0.1</span>"
      ],
      "text/plain": [
       "<IPython.core.display.HTML object>"
      ]
     },
     "metadata": {},
     "output_type": "display_data"
    },
    {
     "data": {
      "text/html": [
       "<span style=\"color:cyan\"> |-dropout_3: 0.35000000000000003</span>"
      ],
      "text/plain": [
       "<IPython.core.display.HTML object>"
      ]
     },
     "metadata": {},
     "output_type": "display_data"
    },
    {
     "data": {
      "text/html": [
       "<span style=\"color:blue\"> |-dropout_4: 0.05</span>"
      ],
      "text/plain": [
       "<IPython.core.display.HTML object>"
      ]
     },
     "metadata": {},
     "output_type": "display_data"
    },
    {
     "data": {
      "text/html": [
       "<span style=\"color:cyan\"> |-learning_rate: 0.000601289485348837</span>"
      ],
      "text/plain": [
       "<IPython.core.display.HTML object>"
      ]
     },
     "metadata": {},
     "output_type": "display_data"
    },
    {
     "data": {
      "text/html": [
       "<span style=\"color:#4527A0\"><h1 style=\"font-size:18px\">Trial summary</h1></span>"
      ],
      "text/plain": [
       "<IPython.core.display.HTML object>"
      ]
     },
     "metadata": {},
     "output_type": "display_data"
    },
    {
     "data": {
      "text/html": [
       "<span style=\"color:cyan\"> |-Trial ID: 4fb7b1b90305dd6a4871fcfe7962ffe1</span>"
      ],
      "text/plain": [
       "<IPython.core.display.HTML object>"
      ]
     },
     "metadata": {},
     "output_type": "display_data"
    },
    {
     "data": {
      "text/html": [
       "<span style=\"color:cyan\"> |-Score: 0.8619402647018433</span>"
      ],
      "text/plain": [
       "<IPython.core.display.HTML object>"
      ]
     },
     "metadata": {},
     "output_type": "display_data"
    },
    {
     "data": {
      "text/html": [
       "<span style=\"color:cyan\"> |-Best step: 0</span>"
      ],
      "text/plain": [
       "<IPython.core.display.HTML object>"
      ]
     },
     "metadata": {},
     "output_type": "display_data"
    },
    {
     "data": {
      "text/html": [
       "<span style=\"color:#7E57C2\"><h2 style=\"font-size:16px\">Hyperparameters:</h2></span>"
      ],
      "text/plain": [
       "<IPython.core.display.HTML object>"
      ]
     },
     "metadata": {},
     "output_type": "display_data"
    },
    {
     "data": {
      "text/html": [
       "<span style=\"color:cyan\"> |-dense_activation_1: tanh</span>"
      ],
      "text/plain": [
       "<IPython.core.display.HTML object>"
      ]
     },
     "metadata": {},
     "output_type": "display_data"
    },
    {
     "data": {
      "text/html": [
       "<span style=\"color:blue\"> |-dense_activation_2: sigmoid</span>"
      ],
      "text/plain": [
       "<IPython.core.display.HTML object>"
      ]
     },
     "metadata": {},
     "output_type": "display_data"
    },
    {
     "data": {
      "text/html": [
       "<span style=\"color:cyan\"> |-dense_activation_3: relu</span>"
      ],
      "text/plain": [
       "<IPython.core.display.HTML object>"
      ]
     },
     "metadata": {},
     "output_type": "display_data"
    },
    {
     "data": {
      "text/html": [
       "<span style=\"color:blue\"> |-dense_activation_4: tanh</span>"
      ],
      "text/plain": [
       "<IPython.core.display.HTML object>"
      ]
     },
     "metadata": {},
     "output_type": "display_data"
    },
    {
     "data": {
      "text/html": [
       "<span style=\"color:cyan\"> |-dense_units_1: 128</span>"
      ],
      "text/plain": [
       "<IPython.core.display.HTML object>"
      ]
     },
     "metadata": {},
     "output_type": "display_data"
    },
    {
     "data": {
      "text/html": [
       "<span style=\"color:blue\"> |-dense_units_2: 64</span>"
      ],
      "text/plain": [
       "<IPython.core.display.HTML object>"
      ]
     },
     "metadata": {},
     "output_type": "display_data"
    },
    {
     "data": {
      "text/html": [
       "<span style=\"color:cyan\"> |-dense_units_3: 16</span>"
      ],
      "text/plain": [
       "<IPython.core.display.HTML object>"
      ]
     },
     "metadata": {},
     "output_type": "display_data"
    },
    {
     "data": {
      "text/html": [
       "<span style=\"color:blue\"> |-dense_units_4: 10</span>"
      ],
      "text/plain": [
       "<IPython.core.display.HTML object>"
      ]
     },
     "metadata": {},
     "output_type": "display_data"
    },
    {
     "data": {
      "text/html": [
       "<span style=\"color:cyan\"> |-dropout_1: 0.2</span>"
      ],
      "text/plain": [
       "<IPython.core.display.HTML object>"
      ]
     },
     "metadata": {},
     "output_type": "display_data"
    },
    {
     "data": {
      "text/html": [
       "<span style=\"color:blue\"> |-dropout_2: 0.0</span>"
      ],
      "text/plain": [
       "<IPython.core.display.HTML object>"
      ]
     },
     "metadata": {},
     "output_type": "display_data"
    },
    {
     "data": {
      "text/html": [
       "<span style=\"color:cyan\"> |-dropout_3: 0.1</span>"
      ],
      "text/plain": [
       "<IPython.core.display.HTML object>"
      ]
     },
     "metadata": {},
     "output_type": "display_data"
    },
    {
     "data": {
      "text/html": [
       "<span style=\"color:blue\"> |-dropout_4: 0.1</span>"
      ],
      "text/plain": [
       "<IPython.core.display.HTML object>"
      ]
     },
     "metadata": {},
     "output_type": "display_data"
    },
    {
     "data": {
      "text/html": [
       "<span style=\"color:cyan\"> |-learning_rate: 0.0032164230487929987</span>"
      ],
      "text/plain": [
       "<IPython.core.display.HTML object>"
      ]
     },
     "metadata": {},
     "output_type": "display_data"
    }
   ],
   "source": [
    "tuner.results_summary()"
   ]
  },
  {
   "cell_type": "code",
   "execution_count": 22,
   "metadata": {},
   "outputs": [
    {
     "data": {
      "text/plain": [
       "{'dense_units_1': 64,\n",
       " 'dense_activation_1': 'tanh',\n",
       " 'dropout_1': 0.1,\n",
       " 'dense_units_2': 32,\n",
       " 'dense_activation_2': 'relu',\n",
       " 'dropout_2': 0.35000000000000003,\n",
       " 'dense_units_3': 20,\n",
       " 'dense_activation_3': 'sigmoid',\n",
       " 'dropout_3': 0.4,\n",
       " 'dense_units_4': 4,\n",
       " 'dense_activation_4': 'sigmoid',\n",
       " 'dropout_4': 0.0,\n",
       " 'learning_rate': 0.003225943238477045}"
      ]
     },
     "execution_count": 22,
     "metadata": {},
     "output_type": "execute_result"
    }
   ],
   "source": [
    "tuner.oracle.get_best_trials(num_trials=1)[0].hyperparameters.values"
   ]
  },
  {
   "cell_type": "code",
   "execution_count": 23,
   "metadata": {},
   "outputs": [
    {
     "name": "stdout",
     "output_type": "stream",
     "text": [
      "Best model\n",
      "757/757 [==============================] - 0s 188us/sample - loss: 0.3301 - accuracy: 0.8785\n",
      "Tuned train accuracy: 0.8784676194190979\n",
      "134/134 [==============================] - 0s 86us/sample - loss: 0.4013 - accuracy: 0.8731\n",
      "Tuned dev accuracy: 0.8731343150138855\n"
     ]
    }
   ],
   "source": [
    "print(\"Best model\")\n",
    "\n",
    "# Get the best model tuned.\n",
    "model = tuner.get_best_models(num_models=1)[0]\n",
    "\n",
    "_, accuracy = model.evaluate(train_X, train_Y)\n",
    "print(f\"Tuned train accuracy: {accuracy}\")\n",
    "\n",
    "_, accuracy = model.evaluate(dev_X, dev_Y)\n",
    "print(f\"Tuned dev accuracy: {accuracy}\")"
   ]
  },
  {
   "cell_type": "code",
   "execution_count": 24,
   "metadata": {},
   "outputs": [
    {
     "name": "stdout",
     "output_type": "stream",
     "text": [
      "[0 0 0 0 0 0 0 0 1 0 0 0 1 0 1 1 0 0 0 1 0 1 1 0 1 0 1 0 0 0 0 0 0 1 0 0 0\n",
      " 1 0 0 0 1 0 1 1 0 0 0 1 1 0 0 1 1 0 0 0 0 0 1 0 0 0 1 1 1 1 0 1 1 1 0 0 0\n",
      " 1 0 0 1 0 1 1 0 0 0 0 0 1 1 1 1 0 0 1 0 0 0 1 0 1 0 1 0 0 0 1 0 0 0 0 0 0\n",
      " 1 1 1 1 0 0 1 1 1 1 0 1 0 0 1 0 1 0 0 0 1 0 0 0 0 0 0 1 0 0 1 0 0 0 0 1 0\n",
      " 0 0 1 0 0 1 0 0 1 1 0 1 1 1 1 0 0 0 1 0 1 1 0 0 0 0 0 1 1 0 1 1 0 1 1 0 1\n",
      " 0 1 0 0 0 0 0 1 0 1 0 1 1 0 1 1 1 1 1 0 0 0 0 1 0 0 0 0 1 0 0 1 0 1 0 1 0\n",
      " 1 0 1 1 0 1 0 0 0 1 0 0 0 0 1 0 1 1 1 1 1 0 0 0 1 0 1 1 1 0 0 0 0 0 0 0 1\n",
      " 0 0 0 1 0 0 0 0 0 0 0 1 0 1 1 0 1 0 0 0 0 1 1 1 1 0 0 0 0 0 0 0 0 0 0 0 0\n",
      " 1 0 0 0 0 1 0 0 1 1 0 1 0 0 0 0 0 0 1 1 1 0 0 0 0 0 0 0 1 0 1 0 0 0 1 0 0\n",
      " 1 0 0 0 0 0 1 0 0 0 1 0 1 0 1 0 1 1 0 0 0 0 0 1 0 0 0 0 1 1 0 1 0 0 1 1 0\n",
      " 0 1 0 0 1 1 0 0 0 0 0 0 1 1 0 1 0 0 0 0 0 1 1 0 0 1 0 1 0 0 1 0 1 0 1 0 0\n",
      " 0 1 0 1 1 0 0 1 0 0 1]\n"
     ]
    }
   ],
   "source": [
    "predictions = model.predict(test_data_X)\n",
    "\n",
    "predictions = np.round(predictions).astype(np.uint8).reshape((-1))\n",
    "\n",
    "print(predictions)"
   ]
  },
  {
   "cell_type": "code",
   "execution_count": 25,
   "metadata": {},
   "outputs": [],
   "source": [
    "output = pd.DataFrame({'PassengerId': test_data.PassengerId, 'Survived': predictions})\n",
    "output.to_csv('dl_submission.csv', index=False)"
   ]
  },
  {
   "cell_type": "code",
   "execution_count": null,
   "metadata": {},
   "outputs": [],
   "source": []
  }
 ],
 "metadata": {
  "kernelspec": {
   "display_name": "Python 3",
   "language": "python",
   "name": "python3"
  },
  "language_info": {
   "codemirror_mode": {
    "name": "ipython",
    "version": 3
   },
   "file_extension": ".py",
   "mimetype": "text/x-python",
   "name": "python",
   "nbconvert_exporter": "python",
   "pygments_lexer": "ipython3",
   "version": "3.7.6"
  }
 },
 "nbformat": 4,
 "nbformat_minor": 4
}
